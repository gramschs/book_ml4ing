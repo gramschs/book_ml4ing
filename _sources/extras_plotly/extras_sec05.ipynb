{
 "cells": [
  {
   "cell_type": "markdown",
   "id": "c5a60125",
   "metadata": {},
   "source": [
    "# Plotly\n",
    "\n",
    "Plotly ist eine leistungsstarke Bibliothek für die Visualisierung von Daten in\n",
    "Python. Mit Plotly können Sie interaktive Diagramme und Grafiken erstellen, die\n",
    "in einer Vielzahl von Anwendungen verwendet werden können, wie beispielsweise in\n",
    "der Datenanalyse, in der Wissenschaft und in der Datenvisualisierung.\n",
    "\n",
    "Innerhalb des Plotly-Moduls gibt es zwei Varianten, ein Diagramm zu erstellen:\n",
    "Plotly Go und Plotly Express.\n",
    "\n",
    "Plotly Go ist die ursprüngliche und umfangreichste Plotly-Bibliothek, die eine\n",
    "umfassende Palette an Tools und Optionen zur Datenvisualisierung bietet. Plotly\n",
    "Go ist sehr flexibel und kann zur Erstellung von fast jedem Diagrammtyp\n",
    "verwendet werden, wie z.B. Linien-, Balken-, Flächen- und Scatterplots,\n",
    "3D-Diagramme, Heatmaps und viele mehr.\n",
    "\n",
    "Im Gegensatz dazu ist Plotly Express eine auf Plotly Go aufbauende Bibliothek,\n",
    "die speziell für schnelle und einfache Visualisierungen entwickelt wurde. Plotly\n",
    "Express ist benutzerfreundlicher und bietet eine höhere Abstraktionsebene als\n",
    "Plotly Go. Mit Plotly Express können Sie schnell und einfach hochwertige\n",
    "Visualisierungen erstellen, ohne viel Code schreiben zu müssen.\n",
    "\n",
    "Daher verwenden wir in dieser Vorlesung Plotly Express."
   ]
  }
 ],
 "metadata": {
  "jupytext": {
   "formats": "ipynb,md:myst",
   "text_representation": {
    "extension": ".md",
    "format_name": "myst",
    "format_version": 0.13,
    "jupytext_version": "1.15.2"
   }
  },
  "kernelspec": {
   "display_name": "Python 3",
   "language": "python",
   "name": "python3"
  },
  "language_info": {
   "codemirror_mode": {
    "name": "ipython",
    "version": 3
   },
   "file_extension": ".py",
   "mimetype": "text/x-python",
   "name": "python",
   "nbconvert_exporter": "python",
   "pygments_lexer": "ipython3",
   "version": "3.11.0"
  },
  "source_map": [
   13
  ]
 },
 "nbformat": 4,
 "nbformat_minor": 5
}