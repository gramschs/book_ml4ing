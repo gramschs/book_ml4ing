{
 "cells": [
  {
   "cell_type": "markdown",
   "id": "12a41798",
   "metadata": {},
   "source": [
    "# Statistik mit Pandas\n",
    "\n",
    "\n",
    "## Lernziele\n",
    "\n",
    "```{admonition} Lernziele\n",
    ":class: hint\n",
    "* TODO\n",
    "```\n",
    "\n",
    "## Import von Tabellen\n",
    "\n",
    "Um Tabellen im csv- einzulesen, bietet Pandas eine eigene Funktion namens\n",
    "`read_csv` an (siehe\n",
    "[Dokumentation/read_csv](https://pandas.pydata.org/docs/reference/api/pandas.read_csv.html)).\n",
    "Wird diese Funktion verwendet, um die Daten zu importieren, so wird automatisch\n",
    "ein DataFrame-Objekt erzeugt. Beim Aufruf der Funktion wird der Dateiname\n",
    "übergeben. \n",
    "\n",
    "Wir probieren es mit der Datei `bundesliga_top7_offensive.csv`, die von\n",
    "[Kaggle](https://www.kaggle.com/rajatrc1705/bundesliga-top-7-teams-offensive-stats?select=bundesliga_top7_offensive.csv)\n",
    "stammt. In dem Datensatz sind die Spielerdaten zu den Top7-Fußballvereinen der\n",
    "Bundesligasaison 2020/21 enthalten. \n",
    "\n",
    "Laden Sie sich die csv-Datei\n",
    "[hier](https://nextcloud.frankfurt-university.de/s/yJjkkMSkWqcSxGL) herunter und\n",
    "speichern Sie sie in denselben Ordner, in dem auch dieses JupyterNotebook liegt.\n",
    "Führen Sie dann anschlißend die folgende Code-Zelle aus."
   ]
  },
  {
   "cell_type": "code",
   "execution_count": 1,
   "id": "bdb2c748",
   "metadata": {},
   "outputs": [],
   "source": [
    "import pandas as pd\n",
    "data = pd.read_csv('bundesliga_top7_offensive.csv')"
   ]
  },
  {
   "cell_type": "markdown",
   "id": "18ef7a0e",
   "metadata": {},
   "source": [
    "Es erscheint keine Fehlermeldung, aber den Inhalt der geladenen Datei sehen wir\n",
    "trotzdem nicht. Dazu verwenden wir die Methode `.head()`."
   ]
  },
  {
   "cell_type": "code",
   "execution_count": 2,
   "id": "275ff57f",
   "metadata": {},
   "outputs": [
    {
     "data": {
      "text/html": [
       "<div>\n",
       "<style scoped>\n",
       "    .dataframe tbody tr th:only-of-type {\n",
       "        vertical-align: middle;\n",
       "    }\n",
       "\n",
       "    .dataframe tbody tr th {\n",
       "        vertical-align: top;\n",
       "    }\n",
       "\n",
       "    .dataframe thead th {\n",
       "        text-align: right;\n",
       "    }\n",
       "</style>\n",
       "<table border=\"1\" class=\"dataframe\">\n",
       "  <thead>\n",
       "    <tr style=\"text-align: right;\">\n",
       "      <th></th>\n",
       "      <th>Name</th>\n",
       "      <th>Club</th>\n",
       "      <th>Nationality</th>\n",
       "      <th>Position</th>\n",
       "      <th>Age</th>\n",
       "      <th>Matches</th>\n",
       "      <th>Starts</th>\n",
       "      <th>Mins</th>\n",
       "      <th>Goals</th>\n",
       "      <th>Assists</th>\n",
       "      <th>Penalty_Goals</th>\n",
       "      <th>Penalty_Attempted</th>\n",
       "      <th>xG</th>\n",
       "      <th>xA</th>\n",
       "      <th>Yellow_Cards</th>\n",
       "      <th>Red_Cards</th>\n",
       "    </tr>\n",
       "  </thead>\n",
       "  <tbody>\n",
       "    <tr>\n",
       "      <th>0</th>\n",
       "      <td>Manuel Neuer</td>\n",
       "      <td>Bayern Munich</td>\n",
       "      <td>GER</td>\n",
       "      <td>GK</td>\n",
       "      <td>34</td>\n",
       "      <td>33</td>\n",
       "      <td>33</td>\n",
       "      <td>2970</td>\n",
       "      <td>0</td>\n",
       "      <td>0</td>\n",
       "      <td>0</td>\n",
       "      <td>0</td>\n",
       "      <td>0.00</td>\n",
       "      <td>0.01</td>\n",
       "      <td>1</td>\n",
       "      <td>0</td>\n",
       "    </tr>\n",
       "    <tr>\n",
       "      <th>1</th>\n",
       "      <td>Thomas Müller</td>\n",
       "      <td>Bayern Munich</td>\n",
       "      <td>GER</td>\n",
       "      <td>MF</td>\n",
       "      <td>30</td>\n",
       "      <td>32</td>\n",
       "      <td>31</td>\n",
       "      <td>2674</td>\n",
       "      <td>11</td>\n",
       "      <td>19</td>\n",
       "      <td>1</td>\n",
       "      <td>1</td>\n",
       "      <td>0.24</td>\n",
       "      <td>0.39</td>\n",
       "      <td>0</td>\n",
       "      <td>0</td>\n",
       "    </tr>\n",
       "    <tr>\n",
       "      <th>2</th>\n",
       "      <td>David Alaba</td>\n",
       "      <td>Bayern Munich</td>\n",
       "      <td>AUT</td>\n",
       "      <td>DF,MF</td>\n",
       "      <td>28</td>\n",
       "      <td>32</td>\n",
       "      <td>30</td>\n",
       "      <td>2675</td>\n",
       "      <td>2</td>\n",
       "      <td>4</td>\n",
       "      <td>0</td>\n",
       "      <td>0</td>\n",
       "      <td>0.04</td>\n",
       "      <td>0.08</td>\n",
       "      <td>4</td>\n",
       "      <td>0</td>\n",
       "    </tr>\n",
       "    <tr>\n",
       "      <th>3</th>\n",
       "      <td>Jérôme Boateng</td>\n",
       "      <td>Bayern Munich</td>\n",
       "      <td>GER</td>\n",
       "      <td>DF</td>\n",
       "      <td>31</td>\n",
       "      <td>29</td>\n",
       "      <td>29</td>\n",
       "      <td>2368</td>\n",
       "      <td>1</td>\n",
       "      <td>1</td>\n",
       "      <td>0</td>\n",
       "      <td>0</td>\n",
       "      <td>0.01</td>\n",
       "      <td>0.02</td>\n",
       "      <td>6</td>\n",
       "      <td>0</td>\n",
       "    </tr>\n",
       "    <tr>\n",
       "      <th>4</th>\n",
       "      <td>Robert Lewandowski</td>\n",
       "      <td>Bayern Munich</td>\n",
       "      <td>POL</td>\n",
       "      <td>FW</td>\n",
       "      <td>31</td>\n",
       "      <td>29</td>\n",
       "      <td>28</td>\n",
       "      <td>2458</td>\n",
       "      <td>41</td>\n",
       "      <td>7</td>\n",
       "      <td>8</td>\n",
       "      <td>9</td>\n",
       "      <td>1.16</td>\n",
       "      <td>0.13</td>\n",
       "      <td>4</td>\n",
       "      <td>0</td>\n",
       "    </tr>\n",
       "  </tbody>\n",
       "</table>\n",
       "</div>"
      ],
      "text/plain": [
       "                 Name           Club Nationality Position  Age  Matches  \\\n",
       "0        Manuel Neuer  Bayern Munich         GER       GK   34       33   \n",
       "1       Thomas Müller  Bayern Munich         GER       MF   30       32   \n",
       "2         David Alaba  Bayern Munich         AUT    DF,MF   28       32   \n",
       "3      Jérôme Boateng  Bayern Munich         GER       DF   31       29   \n",
       "4  Robert Lewandowski  Bayern Munich         POL       FW   31       29   \n",
       "\n",
       "   Starts  Mins  Goals  Assists  Penalty_Goals  Penalty_Attempted    xG    xA  \\\n",
       "0      33  2970      0        0              0                  0  0.00  0.01   \n",
       "1      31  2674     11       19              1                  1  0.24  0.39   \n",
       "2      30  2675      2        4              0                  0  0.04  0.08   \n",
       "3      29  2368      1        1              0                  0  0.01  0.02   \n",
       "4      28  2458     41        7              8                  9  1.16  0.13   \n",
       "\n",
       "   Yellow_Cards  Red_Cards  \n",
       "0             1          0  \n",
       "1             0          0  \n",
       "2             4          0  \n",
       "3             6          0  \n",
       "4             4          0  "
      ]
     },
     "execution_count": 2,
     "metadata": {},
     "output_type": "execute_result"
    }
   ],
   "source": [
    "data.head()"
   ]
  },
  {
   "cell_type": "markdown",
   "id": "6a217096",
   "metadata": {},
   "source": [
    "Die Methode `.head()` zeigt uns die ersten fünf Zeilen der Tabelle an. Wenn wir beispielsweise die ersten 10 Zeilen anzeigen lassen wollen, so verwenden wir die Methode `.head(10)`mit dem Argument 10."
   ]
  },
  {
   "cell_type": "code",
   "execution_count": 3,
   "id": "531ddf00",
   "metadata": {},
   "outputs": [
    {
     "data": {
      "text/html": [
       "<div>\n",
       "<style scoped>\n",
       "    .dataframe tbody tr th:only-of-type {\n",
       "        vertical-align: middle;\n",
       "    }\n",
       "\n",
       "    .dataframe tbody tr th {\n",
       "        vertical-align: top;\n",
       "    }\n",
       "\n",
       "    .dataframe thead th {\n",
       "        text-align: right;\n",
       "    }\n",
       "</style>\n",
       "<table border=\"1\" class=\"dataframe\">\n",
       "  <thead>\n",
       "    <tr style=\"text-align: right;\">\n",
       "      <th></th>\n",
       "      <th>Name</th>\n",
       "      <th>Club</th>\n",
       "      <th>Nationality</th>\n",
       "      <th>Position</th>\n",
       "      <th>Age</th>\n",
       "      <th>Matches</th>\n",
       "      <th>Starts</th>\n",
       "      <th>Mins</th>\n",
       "      <th>Goals</th>\n",
       "      <th>Assists</th>\n",
       "      <th>Penalty_Goals</th>\n",
       "      <th>Penalty_Attempted</th>\n",
       "      <th>xG</th>\n",
       "      <th>xA</th>\n",
       "      <th>Yellow_Cards</th>\n",
       "      <th>Red_Cards</th>\n",
       "    </tr>\n",
       "  </thead>\n",
       "  <tbody>\n",
       "    <tr>\n",
       "      <th>0</th>\n",
       "      <td>Manuel Neuer</td>\n",
       "      <td>Bayern Munich</td>\n",
       "      <td>GER</td>\n",
       "      <td>GK</td>\n",
       "      <td>34</td>\n",
       "      <td>33</td>\n",
       "      <td>33</td>\n",
       "      <td>2970</td>\n",
       "      <td>0</td>\n",
       "      <td>0</td>\n",
       "      <td>0</td>\n",
       "      <td>0</td>\n",
       "      <td>0.00</td>\n",
       "      <td>0.01</td>\n",
       "      <td>1</td>\n",
       "      <td>0</td>\n",
       "    </tr>\n",
       "    <tr>\n",
       "      <th>1</th>\n",
       "      <td>Thomas Müller</td>\n",
       "      <td>Bayern Munich</td>\n",
       "      <td>GER</td>\n",
       "      <td>MF</td>\n",
       "      <td>30</td>\n",
       "      <td>32</td>\n",
       "      <td>31</td>\n",
       "      <td>2674</td>\n",
       "      <td>11</td>\n",
       "      <td>19</td>\n",
       "      <td>1</td>\n",
       "      <td>1</td>\n",
       "      <td>0.24</td>\n",
       "      <td>0.39</td>\n",
       "      <td>0</td>\n",
       "      <td>0</td>\n",
       "    </tr>\n",
       "    <tr>\n",
       "      <th>2</th>\n",
       "      <td>David Alaba</td>\n",
       "      <td>Bayern Munich</td>\n",
       "      <td>AUT</td>\n",
       "      <td>DF,MF</td>\n",
       "      <td>28</td>\n",
       "      <td>32</td>\n",
       "      <td>30</td>\n",
       "      <td>2675</td>\n",
       "      <td>2</td>\n",
       "      <td>4</td>\n",
       "      <td>0</td>\n",
       "      <td>0</td>\n",
       "      <td>0.04</td>\n",
       "      <td>0.08</td>\n",
       "      <td>4</td>\n",
       "      <td>0</td>\n",
       "    </tr>\n",
       "    <tr>\n",
       "      <th>3</th>\n",
       "      <td>Jérôme Boateng</td>\n",
       "      <td>Bayern Munich</td>\n",
       "      <td>GER</td>\n",
       "      <td>DF</td>\n",
       "      <td>31</td>\n",
       "      <td>29</td>\n",
       "      <td>29</td>\n",
       "      <td>2368</td>\n",
       "      <td>1</td>\n",
       "      <td>1</td>\n",
       "      <td>0</td>\n",
       "      <td>0</td>\n",
       "      <td>0.01</td>\n",
       "      <td>0.02</td>\n",
       "      <td>6</td>\n",
       "      <td>0</td>\n",
       "    </tr>\n",
       "    <tr>\n",
       "      <th>4</th>\n",
       "      <td>Robert Lewandowski</td>\n",
       "      <td>Bayern Munich</td>\n",
       "      <td>POL</td>\n",
       "      <td>FW</td>\n",
       "      <td>31</td>\n",
       "      <td>29</td>\n",
       "      <td>28</td>\n",
       "      <td>2458</td>\n",
       "      <td>41</td>\n",
       "      <td>7</td>\n",
       "      <td>8</td>\n",
       "      <td>9</td>\n",
       "      <td>1.16</td>\n",
       "      <td>0.13</td>\n",
       "      <td>4</td>\n",
       "      <td>0</td>\n",
       "    </tr>\n",
       "    <tr>\n",
       "      <th>5</th>\n",
       "      <td>Joshua Kimmich</td>\n",
       "      <td>Bayern Munich</td>\n",
       "      <td>GER</td>\n",
       "      <td>MF</td>\n",
       "      <td>25</td>\n",
       "      <td>27</td>\n",
       "      <td>25</td>\n",
       "      <td>2194</td>\n",
       "      <td>4</td>\n",
       "      <td>10</td>\n",
       "      <td>0</td>\n",
       "      <td>0</td>\n",
       "      <td>0.10</td>\n",
       "      <td>0.27</td>\n",
       "      <td>4</td>\n",
       "      <td>0</td>\n",
       "    </tr>\n",
       "    <tr>\n",
       "      <th>6</th>\n",
       "      <td>Kingsley Coman</td>\n",
       "      <td>Bayern Munich</td>\n",
       "      <td>FRA</td>\n",
       "      <td>FW,MF</td>\n",
       "      <td>24</td>\n",
       "      <td>29</td>\n",
       "      <td>23</td>\n",
       "      <td>1752</td>\n",
       "      <td>5</td>\n",
       "      <td>10</td>\n",
       "      <td>0</td>\n",
       "      <td>0</td>\n",
       "      <td>0.21</td>\n",
       "      <td>0.34</td>\n",
       "      <td>1</td>\n",
       "      <td>0</td>\n",
       "    </tr>\n",
       "    <tr>\n",
       "      <th>7</th>\n",
       "      <td>Benjamin Pavard</td>\n",
       "      <td>Bayern Munich</td>\n",
       "      <td>FRA</td>\n",
       "      <td>DF</td>\n",
       "      <td>24</td>\n",
       "      <td>24</td>\n",
       "      <td>22</td>\n",
       "      <td>1943</td>\n",
       "      <td>0</td>\n",
       "      <td>0</td>\n",
       "      <td>0</td>\n",
       "      <td>0</td>\n",
       "      <td>0.02</td>\n",
       "      <td>0.09</td>\n",
       "      <td>3</td>\n",
       "      <td>0</td>\n",
       "    </tr>\n",
       "    <tr>\n",
       "      <th>8</th>\n",
       "      <td>Alphonso Davies</td>\n",
       "      <td>Bayern Munich</td>\n",
       "      <td>CAN</td>\n",
       "      <td>DF</td>\n",
       "      <td>19</td>\n",
       "      <td>23</td>\n",
       "      <td>22</td>\n",
       "      <td>1763</td>\n",
       "      <td>1</td>\n",
       "      <td>2</td>\n",
       "      <td>0</td>\n",
       "      <td>0</td>\n",
       "      <td>0.01</td>\n",
       "      <td>0.04</td>\n",
       "      <td>2</td>\n",
       "      <td>1</td>\n",
       "    </tr>\n",
       "    <tr>\n",
       "      <th>9</th>\n",
       "      <td>Serge Gnabry</td>\n",
       "      <td>Bayern Munich</td>\n",
       "      <td>GER</td>\n",
       "      <td>FW,MF</td>\n",
       "      <td>25</td>\n",
       "      <td>27</td>\n",
       "      <td>20</td>\n",
       "      <td>1644</td>\n",
       "      <td>10</td>\n",
       "      <td>2</td>\n",
       "      <td>0</td>\n",
       "      <td>0</td>\n",
       "      <td>0.44</td>\n",
       "      <td>0.25</td>\n",
       "      <td>4</td>\n",
       "      <td>0</td>\n",
       "    </tr>\n",
       "  </tbody>\n",
       "</table>\n",
       "</div>"
      ],
      "text/plain": [
       "                 Name           Club Nationality Position  Age  Matches  \\\n",
       "0        Manuel Neuer  Bayern Munich         GER       GK   34       33   \n",
       "1       Thomas Müller  Bayern Munich         GER       MF   30       32   \n",
       "2         David Alaba  Bayern Munich         AUT    DF,MF   28       32   \n",
       "3      Jérôme Boateng  Bayern Munich         GER       DF   31       29   \n",
       "4  Robert Lewandowski  Bayern Munich         POL       FW   31       29   \n",
       "5      Joshua Kimmich  Bayern Munich         GER       MF   25       27   \n",
       "6      Kingsley Coman  Bayern Munich         FRA    FW,MF   24       29   \n",
       "7     Benjamin Pavard  Bayern Munich         FRA       DF   24       24   \n",
       "8     Alphonso Davies  Bayern Munich         CAN       DF   19       23   \n",
       "9        Serge Gnabry  Bayern Munich         GER    FW,MF   25       27   \n",
       "\n",
       "   Starts  Mins  Goals  Assists  Penalty_Goals  Penalty_Attempted    xG    xA  \\\n",
       "0      33  2970      0        0              0                  0  0.00  0.01   \n",
       "1      31  2674     11       19              1                  1  0.24  0.39   \n",
       "2      30  2675      2        4              0                  0  0.04  0.08   \n",
       "3      29  2368      1        1              0                  0  0.01  0.02   \n",
       "4      28  2458     41        7              8                  9  1.16  0.13   \n",
       "5      25  2194      4       10              0                  0  0.10  0.27   \n",
       "6      23  1752      5       10              0                  0  0.21  0.34   \n",
       "7      22  1943      0        0              0                  0  0.02  0.09   \n",
       "8      22  1763      1        2              0                  0  0.01  0.04   \n",
       "9      20  1644     10        2              0                  0  0.44  0.25   \n",
       "\n",
       "   Yellow_Cards  Red_Cards  \n",
       "0             1          0  \n",
       "1             0          0  \n",
       "2             4          0  \n",
       "3             6          0  \n",
       "4             4          0  \n",
       "5             4          0  \n",
       "6             1          0  \n",
       "7             3          0  \n",
       "8             2          1  \n",
       "9             4          0  "
      ]
     },
     "execution_count": 3,
     "metadata": {},
     "output_type": "execute_result"
    }
   ],
   "source": [
    "data.head(10)"
   ]
  },
  {
   "cell_type": "markdown",
   "id": "5e265bb1",
   "metadata": {},
   "source": [
    "## Übersicht verschaffen mit info und describe\n",
    "\n",
    "Das obige Beispiel zeigt uns zwar nun die ersten 10 Zeilen des importierten\n",
    "Datensatzes, aber wie viele Daten insgesamt enthalten sind, welche Vereine noch\n",
    "kommen usw. können wir mit der `.head()`-Methode nicht erfassen. Dafür stellt\n",
    "Pandas die beiden Methoden `.info()` und `.describe()`zur Verfügung. Probieren\n",
    "wir es einfach aus."
   ]
  },
  {
   "cell_type": "code",
   "execution_count": 4,
   "id": "50ba6f4b",
   "metadata": {},
   "outputs": [
    {
     "name": "stdout",
     "output_type": "stream",
     "text": [
      "<class 'pandas.core.frame.DataFrame'>\n",
      "RangeIndex: 177 entries, 0 to 176\n",
      "Data columns (total 16 columns):\n",
      " #   Column             Non-Null Count  Dtype  \n",
      "---  ------             --------------  -----  \n",
      " 0   Name               177 non-null    object \n",
      " 1   Club               177 non-null    object \n",
      " 2   Nationality        177 non-null    object \n",
      " 3   Position           177 non-null    object \n",
      " 4   Age                177 non-null    int64  \n",
      " 5   Matches            177 non-null    int64  \n",
      " 6   Starts             177 non-null    int64  \n",
      " 7   Mins               177 non-null    int64  \n",
      " 8   Goals              177 non-null    int64  \n",
      " 9   Assists            177 non-null    int64  \n",
      " 10  Penalty_Goals      177 non-null    int64  \n",
      " 11  Penalty_Attempted  177 non-null    int64  \n",
      " 12  xG                 177 non-null    float64\n",
      " 13  xA                 177 non-null    float64\n",
      " 14  Yellow_Cards       177 non-null    int64  \n",
      " 15  Red_Cards          177 non-null    int64  \n",
      "dtypes: float64(2), int64(10), object(4)\n",
      "memory usage: 22.2+ KB\n"
     ]
    }
   ],
   "source": [
    "data.info()"
   ]
  },
  {
   "cell_type": "markdown",
   "id": "79c2ddd2",
   "metadata": {},
   "source": [
    "Mit `.info()` erhalten wir eine Übersicht, wie viele Spalten es gibt und auch\n",
    "die Spaltenüberschriften werden aufgelistet. Dabei sind Überschriften wie Name\n",
    "selbsterklärend, aber was xG bedeutet, erchließt sich nicht von selbst. Dazu\n",
    "brauchen wir mehr Informationen von den Autor:innen der Daten.\n",
    "\n",
    "Weiterhin entnehmen wir der Ausgabe von `.info()`, dass in jeder Spalte 177\n",
    "Einträge sind, die 'non-null' sind. Damit ist gemeint, dass diese Zellen beim\n",
    "Import nicht leer waren. Zudem wird bei jeder Spalte noch der Datentyp\n",
    "angegeben. Für die Namen, die als Strings gespeichert sind, wird der allgemeine\n",
    "Datentyp 'object' angegeben. Beim Alter/Age wurden korrektweise Integer erkannt\n",
    "und die mittlere erwartete Anzahl von Toren pro Spiel 'xG' (= expected number of\n",
    "goals from the player in a match) wird als Float angegeben.\n",
    "\n",
    "\n",
    "## noch mehr ...\n",
    "Analog zu den statistischen Kennzahlen bei Series-Objekten gibt auch hier einige Methoden zur Beschreibung des Datensatzes. Wir beschäftigen uns im Folgenden mit\n",
    "\n",
    "* ``.info()``\n",
    "* ``.describe()``\n",
    "* ``.sum()``\n",
    "* ``.mean()``\n",
    "* ``.std()``\n",
    "* ``.min()``\n",
    "* ``.max()``\n",
    "* ``.plot(kind='line')``\n",
    "* ``.plot(kind='bar)``"
   ]
  },
  {
   "cell_type": "code",
   "execution_count": 5,
   "id": "5d431c9c",
   "metadata": {},
   "outputs": [
    {
     "data": {
      "text/html": [
       "<div>\n",
       "<style scoped>\n",
       "    .dataframe tbody tr th:only-of-type {\n",
       "        vertical-align: middle;\n",
       "    }\n",
       "\n",
       "    .dataframe tbody tr th {\n",
       "        vertical-align: top;\n",
       "    }\n",
       "\n",
       "    .dataframe thead th {\n",
       "        text-align: right;\n",
       "    }\n",
       "</style>\n",
       "<table border=\"1\" class=\"dataframe\">\n",
       "  <thead>\n",
       "    <tr style=\"text-align: right;\">\n",
       "      <th></th>\n",
       "      <th>Alter</th>\n",
       "      <th>Wohnort</th>\n",
       "      <th>Note</th>\n",
       "    </tr>\n",
       "  </thead>\n",
       "  <tbody>\n",
       "    <tr>\n",
       "      <th>Alice</th>\n",
       "      <td>25</td>\n",
       "      <td>Mannheim</td>\n",
       "      <td>1.3</td>\n",
       "    </tr>\n",
       "    <tr>\n",
       "      <th>Bob</th>\n",
       "      <td>22</td>\n",
       "      <td>Frankfurt</td>\n",
       "      <td>3.7</td>\n",
       "    </tr>\n",
       "    <tr>\n",
       "      <th>Charlie</th>\n",
       "      <td>19</td>\n",
       "      <td>Ludwigshafen</td>\n",
       "      <td>2.0</td>\n",
       "    </tr>\n",
       "    <tr>\n",
       "      <th>Dora</th>\n",
       "      <td>30</td>\n",
       "      <td>Kaiserslautern</td>\n",
       "      <td>1.7</td>\n",
       "    </tr>\n",
       "    <tr>\n",
       "      <th>Emil</th>\n",
       "      <td>43</td>\n",
       "      <td>Darmstadt</td>\n",
       "      <td>5.0</td>\n",
       "    </tr>\n",
       "  </tbody>\n",
       "</table>\n",
       "</div>"
      ],
      "text/plain": [
       "         Alter         Wohnort  Note\n",
       "Alice       25        Mannheim   1.3\n",
       "Bob         22       Frankfurt   3.7\n",
       "Charlie     19    Ludwigshafen   2.0\n",
       "Dora        30  Kaiserslautern   1.7\n",
       "Emil        43       Darmstadt   5.0"
      ]
     },
     "execution_count": 5,
     "metadata": {},
     "output_type": "execute_result"
    }
   ],
   "source": [
    "alter = pd.Series({\"Alice\" : 25, \"Bob\" : 22, \"Charlie\": 19, \"Dora\" : 30, \"Emil\": 43})\n",
    "stadt = pd.Series({\"Alice\" : \"Mannheim\", \"Bob\" : \"Frankfurt\", \"Charlie\" : \"Ludwigshafen\", \"Dora\" : \"Kaiserslautern\", \"Emil\": \"Darmstadt\"})\n",
    "note  = pd.Series({'Alice': 1.3, 'Bob': 3.7, 'Charlie': 2.0, 'Dora': 1.7, 'Emil': 5.0})\n",
    "\n",
    "personen = pd.DataFrame({'Alter': alter, 'Wohnort': stadt, 'Note': note})\n",
    "personen"
   ]
  },
  {
   "cell_type": "code",
   "execution_count": 6,
   "id": "b7ed6470",
   "metadata": {},
   "outputs": [
    {
     "name": "stdout",
     "output_type": "stream",
     "text": [
      "<class 'pandas.core.frame.DataFrame'>\n",
      "Index: 5 entries, Alice to Emil\n",
      "Data columns (total 3 columns):\n",
      " #   Column   Non-Null Count  Dtype  \n",
      "---  ------   --------------  -----  \n",
      " 0   Alter    5 non-null      int64  \n",
      " 1   Wohnort  5 non-null      object \n",
      " 2   Note     5 non-null      float64\n",
      "dtypes: float64(1), int64(1), object(1)\n",
      "memory usage: 160.0+ bytes\n"
     ]
    }
   ],
   "source": [
    "personen.info()"
   ]
  },
  {
   "cell_type": "code",
   "execution_count": 7,
   "id": "9f0d648a",
   "metadata": {},
   "outputs": [
    {
     "data": {
      "text/html": [
       "<div>\n",
       "<style scoped>\n",
       "    .dataframe tbody tr th:only-of-type {\n",
       "        vertical-align: middle;\n",
       "    }\n",
       "\n",
       "    .dataframe tbody tr th {\n",
       "        vertical-align: top;\n",
       "    }\n",
       "\n",
       "    .dataframe thead th {\n",
       "        text-align: right;\n",
       "    }\n",
       "</style>\n",
       "<table border=\"1\" class=\"dataframe\">\n",
       "  <thead>\n",
       "    <tr style=\"text-align: right;\">\n",
       "      <th></th>\n",
       "      <th>Alter</th>\n",
       "      <th>Note</th>\n",
       "    </tr>\n",
       "  </thead>\n",
       "  <tbody>\n",
       "    <tr>\n",
       "      <th>count</th>\n",
       "      <td>5.000000</td>\n",
       "      <td>5.000000</td>\n",
       "    </tr>\n",
       "    <tr>\n",
       "      <th>mean</th>\n",
       "      <td>27.800000</td>\n",
       "      <td>2.740000</td>\n",
       "    </tr>\n",
       "    <tr>\n",
       "      <th>std</th>\n",
       "      <td>9.418068</td>\n",
       "      <td>1.559808</td>\n",
       "    </tr>\n",
       "    <tr>\n",
       "      <th>min</th>\n",
       "      <td>19.000000</td>\n",
       "      <td>1.300000</td>\n",
       "    </tr>\n",
       "    <tr>\n",
       "      <th>25%</th>\n",
       "      <td>22.000000</td>\n",
       "      <td>1.700000</td>\n",
       "    </tr>\n",
       "    <tr>\n",
       "      <th>50%</th>\n",
       "      <td>25.000000</td>\n",
       "      <td>2.000000</td>\n",
       "    </tr>\n",
       "    <tr>\n",
       "      <th>75%</th>\n",
       "      <td>30.000000</td>\n",
       "      <td>3.700000</td>\n",
       "    </tr>\n",
       "    <tr>\n",
       "      <th>max</th>\n",
       "      <td>43.000000</td>\n",
       "      <td>5.000000</td>\n",
       "    </tr>\n",
       "  </tbody>\n",
       "</table>\n",
       "</div>"
      ],
      "text/plain": [
       "           Alter      Note\n",
       "count   5.000000  5.000000\n",
       "mean   27.800000  2.740000\n",
       "std     9.418068  1.559808\n",
       "min    19.000000  1.300000\n",
       "25%    22.000000  1.700000\n",
       "50%    25.000000  2.000000\n",
       "75%    30.000000  3.700000\n",
       "max    43.000000  5.000000"
      ]
     },
     "execution_count": 7,
     "metadata": {},
     "output_type": "execute_result"
    }
   ],
   "source": [
    "personen.describe()"
   ]
  },
  {
   "cell_type": "code",
   "execution_count": 8,
   "id": "26767244",
   "metadata": {},
   "outputs": [
    {
     "data": {
      "text/plain": [
       "Alter                                                    139\n",
       "Wohnort    MannheimFrankfurtLudwigshafenKaiserslauternDar...\n",
       "Note                                                    13.7\n",
       "dtype: object"
      ]
     },
     "execution_count": 8,
     "metadata": {},
     "output_type": "execute_result"
    }
   ],
   "source": [
    "personen.sum()"
   ]
  },
  {
   "cell_type": "code",
   "execution_count": 9,
   "id": "b5107cae",
   "metadata": {},
   "outputs": [
    {
     "name": "stderr",
     "output_type": "stream",
     "text": [
      "/var/folders/6z/zh1_t3tx1c300_xqgwq7hk580000gn/T/ipykernel_91780/967260078.py:1: FutureWarning: Dropping of nuisance columns in DataFrame reductions (with 'numeric_only=None') is deprecated; in a future version this will raise TypeError.  Select only valid columns before calling the reduction.\n",
      "  personen.mean()\n"
     ]
    },
    {
     "data": {
      "text/plain": [
       "Alter    27.80\n",
       "Note      2.74\n",
       "dtype: float64"
      ]
     },
     "execution_count": 9,
     "metadata": {},
     "output_type": "execute_result"
    }
   ],
   "source": [
    "personen.mean()"
   ]
  },
  {
   "cell_type": "code",
   "execution_count": 10,
   "id": "46fa060a",
   "metadata": {},
   "outputs": [
    {
     "name": "stderr",
     "output_type": "stream",
     "text": [
      "/var/folders/6z/zh1_t3tx1c300_xqgwq7hk580000gn/T/ipykernel_91780/1636271022.py:1: FutureWarning: Dropping of nuisance columns in DataFrame reductions (with 'numeric_only=None') is deprecated; in a future version this will raise TypeError.  Select only valid columns before calling the reduction.\n",
      "  personen.std()\n"
     ]
    },
    {
     "data": {
      "text/plain": [
       "Alter    9.418068\n",
       "Note     1.559808\n",
       "dtype: float64"
      ]
     },
     "execution_count": 10,
     "metadata": {},
     "output_type": "execute_result"
    }
   ],
   "source": [
    "personen.std()"
   ]
  },
  {
   "cell_type": "code",
   "execution_count": 11,
   "id": "fd536961",
   "metadata": {},
   "outputs": [
    {
     "data": {
      "text/plain": [
       "Alter             19\n",
       "Wohnort    Darmstadt\n",
       "Note             1.3\n",
       "dtype: object"
      ]
     },
     "execution_count": 11,
     "metadata": {},
     "output_type": "execute_result"
    }
   ],
   "source": [
    "personen.min()"
   ]
  },
  {
   "cell_type": "code",
   "execution_count": 12,
   "id": "a58025f1",
   "metadata": {},
   "outputs": [
    {
     "data": {
      "text/plain": [
       "Alter            43\n",
       "Wohnort    Mannheim\n",
       "Note            5.0\n",
       "dtype: object"
      ]
     },
     "execution_count": 12,
     "metadata": {},
     "output_type": "execute_result"
    }
   ],
   "source": [
    "personen.max()"
   ]
  },
  {
   "cell_type": "code",
   "execution_count": 13,
   "id": "d8ffb742",
   "metadata": {},
   "outputs": [
    {
     "data": {
      "text/plain": [
       "<AxesSubplot:>"
      ]
     },
     "execution_count": 13,
     "metadata": {},
     "output_type": "execute_result"
    },
    {
     "data": {
      "image/png": "[encoded data removed]",
      "text/plain": [
       "<Figure size 432x288 with 1 Axes>"
      ]
     },
     "metadata": {
      "filenames": {
       "image/png": "/Users/gramschs/lectures/book_ml4ing/doc/_build/jupyter_execute/chapter04/sec03_17_1.png"
      },
      "needs_background": "light"
     },
     "output_type": "display_data"
    }
   ],
   "source": [
    "personen.plot(kind='bar')"
   ]
  },
  {
   "cell_type": "code",
   "execution_count": 14,
   "id": "def0773f",
   "metadata": {},
   "outputs": [
    {
     "data": {
      "text/plain": [
       "<AxesSubplot:>"
      ]
     },
     "execution_count": 14,
     "metadata": {},
     "output_type": "execute_result"
    },
    {
     "data": {
      "image/png": "[encoded data removed]",
      "text/plain": [
       "<Figure size 432x288 with 1 Axes>"
      ]
     },
     "metadata": {
      "filenames": {
       "image/png": "/Users/gramschs/lectures/book_ml4ing/doc/_build/jupyter_execute/chapter04/sec03_18_1.png"
      },
      "needs_background": "light"
     },
     "output_type": "display_data"
    }
   ],
   "source": [
    "personen.plot(kind='line')"
   ]
  },
  {
   "cell_type": "markdown",
   "id": "736c0d9c",
   "metadata": {},
   "source": [
    "**Mini-Übung:**   \n",
    "\n",
    "Laden Sie - falls nicht schon geschehen - den Datensatz zu den Top7 der\n",
    "Fußball-Bundesliga 2020/21. Beantworten Sie folgende Fragen:\n",
    "\n",
    "* Welcher Spieler war in dieser Saison der jüngste und wie heißt er?\n",
    "* Bei welchem Verein spielt der älteste Spieler?\n",
    "* Filtern Sie den Datensatz nach einem der Vereine ('Bayern Munich', 'Borussia\n",
    "  Dortmund', 'RB Leipzig', 'Wolfsburg', 'Eintracht Frankfurt', 'Bayer\n",
    "  Leverkusen', 'Union Berlin').\n",
    "* Lassen Sie sich die Infos dieses Vereines ausgeben. Wie viele Spieler spielten\n",
    "  in diesem Verein?\n",
    "* Wer hat die meisten Minuten gespielt? Sortieren Sie das DataFrame-Objekt nach\n",
    "  der Anzahl der Minuten und visualisieren Sie die Minuten pro Spieler sortiert.\n",
    "* Visualisieren Sie die Anzahl der Tore? Linienplot oder Barplot?\n",
    "* Was ist das mittlere Alter der Spieler?"
   ]
  },
  {
   "cell_type": "code",
   "execution_count": 15,
   "id": "c34624e4",
   "metadata": {},
   "outputs": [],
   "source": [
    "# Hier Ihr Code\n"
   ]
  },
  {
   "cell_type": "markdown",
   "id": "10dcc770",
   "metadata": {},
   "source": [
    "**Mini-Übung**   \n",
    "\n",
    "Der folgende Datensatz stammt von Kaggle, siehe\n",
    "https://www.kaggle.com/rajatrc1705/bundesliga-top-7-teams-offensive-stats?select=bundesliga_top7_offensive.csv\n",
    ". Er enthält die Spielerdaten zu den Top7-Fußballvereinen der Bundesligasaison\n",
    "2020/21. Laden Sie ihn mit dem Befehl\n",
    "\n",
    "> data = pd.read_csv('part06_data/bundesliga_top7_offensive.csv', index_col=0)\n",
    "\n",
    "\n",
    "\n",
    "* Zeigen Sie zunächst den Inhalt der eingelesenen Daten an. Benutzten Sie dazu\n",
    "  den Befehl\n",
    "> data.head(10) um die ersten 10 Zeilen anzuzeigen.\n",
    "\n",
    "* Anschließend zeigen Sie das Alter aller Eintracht Frankfurt Spieler an. Der\n",
    "  Index beginnt bei Kevin Trapp und endet Ragnar Ache, die Spalte heißt 'Age'.\n",
    "\n",
    "* Zuletzt zeigen Sie die roten und gelben Karten von Maximilian Arnold an."
   ]
  }
 ],
 "metadata": {
  "jupytext": {
   "formats": "ipynb,md:myst",
   "text_representation": {
    "extension": ".md",
    "format_name": "myst",
    "format_version": 0.13,
    "jupytext_version": "1.13.8"
   }
  },
  "kernelspec": {
   "display_name": "Python 3 (ipykernel)",
   "language": "python",
   "name": "python3"
  },
  "language_info": {
   "codemirror_mode": {
    "name": "ipython",
    "version": 3
   },
   "file_extension": ".py",
   "mimetype": "text/x-python",
   "name": "python",
   "nbconvert_exporter": "python",
   "pygments_lexer": "ipython3",
   "version": "3.9.13"
  },
  "source_map": [
   13,
   45,
   48,
   53,
   55,
   60,
   62,
   72,
   74,
   103,
   112,
   116,
   120,
   124,
   128,
   132,
   136,
   140,
   144,
   146,
   165,
   168
  ]
 },
 "nbformat": 4,
 "nbformat_minor": 5
}