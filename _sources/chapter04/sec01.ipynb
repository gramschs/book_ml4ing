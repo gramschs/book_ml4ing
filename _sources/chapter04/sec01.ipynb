{
 "cells": [
  {
   "cell_type": "markdown",
   "id": "397c858f",
   "metadata": {},
   "source": [
    "# Series für Datenreihen\n",
    "\n",
    "## Lernziele\n",
    "\n",
    "```{admonition} Lernziele\n",
    ":class: hint\n",
    "* Sie können **Pandas** mit der üblichen Abkürzung pd importieren.\n",
    "* Sie können aus einer Liste das Datenobjekt **Series** erzeugen.\n",
    "* Sie können auf Elemente eines Series-Objektes lesend und schreibend zugreifen:\n",
    "  * Zugriff auf eine einzelne Zeile, indem ein Index spezifiziert wird\n",
    "  * Zugriff auf mehrere Zeilen, indem eine Liste von Indizes übergeben wird\n",
    "  * Zugriff auf mehrere zusammenhängende Zeilen, indem ein Slice von Indizes\n",
    "    übergeben wird\n",
    "* Sie können ein Series-Objekt nach einer Eigenschaft filtern.\n",
    "```\n",
    "\n",
    "## Import von pandas\n",
    "\n",
    "Pandas ist eine Bibliothek zur Verarbeitung und Analyse von Daten in Form von\n",
    "Datenreihen und Tabellen. Die beiden grundlegenden Datenstrukturen sind\n",
    "**Series** und **DataFrame**. Dabei wird Series für Datenreihen genommen, also\n",
    "sozusagen die Verallgemeinerung von Vektoren bzw. eindimensionalen Arrays. Der\n",
    "Datentyp DataFrame repräsentiert Tabllen, also sozusagen Matrizen bzw.\n",
    "verallgemeinerte zweidimensionale Arrays. \n",
    "\n",
    "Um das Modul pandas benutzen zu können, müssen wir es zunächst importieren. Es\n",
    "ist üblich, dabei dem Modul die Abkürzung **pd** zu geben, damit wir nicht immer\n",
    "pandas schreiben müssen, wenn wir eine Funktion aus dem pandas-Modul benutzen."
   ]
  },
  {
   "cell_type": "code",
   "execution_count": 1,
   "id": "834c86b0",
   "metadata": {},
   "outputs": [],
   "source": [
    "import pandas as pd # kürze das Modul pandas als pd ab, um Schreibarbeit zu sparen"
   ]
  },
  {
   "cell_type": "markdown",
   "id": "b8cf34e8",
   "metadata": {},
   "source": [
    "## Series aus Liste erzeugen\n",
    "\n",
    "Erzeugt werden kann ein Series-Objekt beispielsweise direkt aus einer Liste. Im\n",
    "folgenden Beispiel haben wir Altersangaben in einer Liste, also `[25, 22, 43,\n",
    "37]` und initialisieren über `Series` die Variable `alter`:"
   ]
  },
  {
   "cell_type": "code",
   "execution_count": 2,
   "id": "e37ba3c0",
   "metadata": {},
   "outputs": [
    {
     "name": "stdout",
     "output_type": "stream",
     "text": [
      "0    25\n",
      "1    22\n",
      "2    43\n",
      "3    37\n",
      "dtype: int64\n"
     ]
    }
   ],
   "source": [
    "alter = pd.Series([25, 22, 43, 37])\n",
    "print(alter)"
   ]
  },
  {
   "cell_type": "markdown",
   "id": "4ac3f094",
   "metadata": {},
   "source": [
    "Was ist aber jetzt der Vorteil von Pandas? Warum nicht einfach bei der Liste\n",
    "bleiben oder aber, wenn Performance wichtig sein sollte, ein eindimensionales\n",
    "Numpy-Array nehmen? Der wichtigste Unterschied ist der **Index**.\n",
    "\n",
    "Bei einer Liste oder einem Numpy-Array ist der Index implizit definiert. Damit\n",
    "ist gemeint, dass bei der Initialisierung automatisch ein Index 0, 1, 2, 3, ...\n",
    "angelegt wird. Wenn bei einer Liste `l = [25, 22, 43, 37]` auf das zweite\n",
    "Element zugegriffen werden soll, dann verwenden wir den Index 1 (zur Erinnerung:\n",
    "Python zählt ab 0) und schreiben"
   ]
  },
  {
   "cell_type": "code",
   "execution_count": 3,
   "id": "4a3e77fb",
   "metadata": {},
   "outputs": [
    {
     "name": "stdout",
     "output_type": "stream",
     "text": [
      "2. Element der Liste:  22\n"
     ]
    }
   ],
   "source": [
    "l = [25, 22, 43, 37]\n",
    "print(\"2. Element der Liste: \", l[1])"
   ]
  },
  {
   "cell_type": "markdown",
   "id": "d11729fa",
   "metadata": {},
   "source": [
    "Die Datenstruktur Series ermöglich es aber, einen *expliziten Index* zu setzen.\n",
    "Über den optionalen Parameter `index=` speichern wir als Zusatzinformation noch\n",
    "ab, von welcher Person das Alter abgefragt wurde. In dem Fall sind es die vier\n",
    "Personen Alice, Bob, Charlie und Dora."
   ]
  },
  {
   "cell_type": "code",
   "execution_count": 4,
   "id": "508230af",
   "metadata": {},
   "outputs": [
    {
     "name": "stdout",
     "output_type": "stream",
     "text": [
      "Alice      25\n",
      "Bob        22\n",
      "Charlie    43\n",
      "Dora       30\n",
      "dtype: int64\n"
     ]
    }
   ],
   "source": [
    "alter = pd.Series([25, 22, 43, 30], index=[\"Alice\", \"Bob\", \"Charlie\", \"Dora\"])\n",
    "print(alter)"
   ]
  },
  {
   "cell_type": "markdown",
   "id": "f777c94c",
   "metadata": {},
   "source": [
    "Jetzt ist auch klar, warum beim ersten Mal, als wir `print(alter)` ausgeführt\n",
    "haben, die Zahlen 0, 1, 2, 3 ausgegeben wurden. Zu dem Zeitpunkt hatte das\n",
    "Series-Objekt noch einen impliziten Index wie eine Liste. Was noch an\n",
    "Informationen ausgegeben wird, ist das Attribut `dtype`. Darin gespeichert ist\n",
    "der Datentyp der gespeicherten Werte. Auf dieses Attribut kann auch direkt mit\n",
    "dem Punktoperator zugegegriffen werden."
   ]
  },
  {
   "cell_type": "code",
   "execution_count": 5,
   "id": "b53a82b7",
   "metadata": {},
   "outputs": [
    {
     "name": "stdout",
     "output_type": "stream",
     "text": [
      "int64\n"
     ]
    }
   ],
   "source": [
    "print(alter.dtype)"
   ]
  },
  {
   "cell_type": "markdown",
   "id": "dc51e929",
   "metadata": {},
   "source": [
    "Offensichtlich sind die gespeicherten Werte Integer.\n",
    "\n",
    "```{admonition} Mini-Übung\n",
    ":class: miniexercise \n",
    "Erzeugen Sie ein Series-Objekt mit den Wochentagen als Index und der Anzahl der\n",
    "Vorlesungs/Übungs-Stunden an diesem Wochentag.\n",
    "```"
   ]
  },
  {
   "cell_type": "code",
   "execution_count": 6,
   "id": "77075e42",
   "metadata": {},
   "outputs": [],
   "source": [
    "# Hier Ihr Code:\n"
   ]
  },
  {
   "cell_type": "markdown",
   "id": "e9c17e1f",
   "metadata": {},
   "source": [
    "## Zugriff auf Zellen mit loc\n",
    "\n",
    "Im Folgenden betrachten wir verschiedene Möglichkeiten, um auf die Werte in\n",
    "einer Zelle zuzugreifen. Wir werden uns vier Möglichkeiten ansehen:\n",
    "* Zugriff auf eine einzelne Zeile, indem ein Index spezifiziert wird\n",
    "* Zugriff auf mehrere Zeilen, indem eine Liste von Indizes übergeben wird\n",
    "* Zugriff auf mehrere zusammenhängende Zeilen, indem ein Slice von Indizes\n",
    "  übergeben wird\n",
    "* Zugriff auf mehrere Zeilen, indem eine Liste mit True/False übergeben wird."
   ]
  },
  {
   "cell_type": "code",
   "execution_count": 7,
   "id": "7cac84a3",
   "metadata": {},
   "outputs": [
    {
     "data": {
      "text/plain": [
       "Alice      25\n",
       "Bob        22\n",
       "Charlie    43\n",
       "Dora       30\n",
       "dtype: int64"
      ]
     },
     "execution_count": 7,
     "metadata": {},
     "output_type": "execute_result"
    }
   ],
   "source": [
    "alter = pd.Series([25, 22, 43, 30], index=[\"Alice\", \"Bob\", \"Charlie\", \"Dora\"])\n",
    "alter"
   ]
  },
  {
   "cell_type": "markdown",
   "id": "1ae253dc",
   "metadata": {},
   "source": [
    "Zunächst greifen wir eine einzelne Zeile heraus. Dazu benutzen wir das Attribut\n",
    "``.loc`` und spezifizieren mit eckigen Klammern den Index der Zeile, also\n",
    "``.loc[index]``. Anders als bei den folgenden drei Zugriffsmöglichkeiten, wird\n",
    "nur der Wert der Daten in der Zeile zurückgeliefert, nicht aber der dazugehörige\n",
    "Index."
   ]
  },
  {
   "cell_type": "code",
   "execution_count": 8,
   "id": "4f82385c",
   "metadata": {},
   "outputs": [
    {
     "data": {
      "text/plain": [
       "25"
      ]
     },
     "execution_count": 8,
     "metadata": {},
     "output_type": "execute_result"
    }
   ],
   "source": [
    "alter.loc['Alice']"
   ]
  },
  {
   "cell_type": "code",
   "execution_count": 9,
   "id": "ed495529",
   "metadata": {},
   "outputs": [
    {
     "data": {
      "text/plain": [
       "30"
      ]
     },
     "execution_count": 9,
     "metadata": {},
     "output_type": "execute_result"
    }
   ],
   "source": [
    "alter.loc['Dora']"
   ]
  },
  {
   "cell_type": "markdown",
   "id": "a54bbf39",
   "metadata": {},
   "source": [
    "Nun erzeugen wir eine Liste von Indizes. Danach können wir aus dem\n",
    "Pandas-Series-Objekt per ``.loc[liste]`` auf mehrere Zeilen zugreifen."
   ]
  },
  {
   "cell_type": "code",
   "execution_count": 10,
   "id": "66bed6b5",
   "metadata": {},
   "outputs": [
    {
     "data": {
      "text/plain": [
       "Alice    25\n",
       "Dora     30\n",
       "dtype: int64"
      ]
     },
     "execution_count": 10,
     "metadata": {},
     "output_type": "execute_result"
    }
   ],
   "source": [
    "frauen  = ['Alice', 'Dora']\n",
    "alter.loc[frauen]"
   ]
  },
  {
   "cell_type": "markdown",
   "id": "c9ba2c22",
   "metadata": {},
   "source": [
    "```{admonition} Mini-Übung\n",
    ":class: miniexercise \n",
    "Erzeugen Sie analog zu dem obigen Beispiel eine Liste der Männer und geben Sie\n",
    "das Alter der Männer aus.\n",
    "```"
   ]
  },
  {
   "cell_type": "code",
   "execution_count": 11,
   "id": "bc882f59",
   "metadata": {},
   "outputs": [],
   "source": [
    "# Hier Ihr Code\n"
   ]
  },
  {
   "cell_type": "markdown",
   "id": "2084bfdd",
   "metadata": {},
   "source": [
    "Als dritte Möglichkeit betrachten wir einen Slice, also das Herausschneiden\n",
    "eines zusammenhängenden Stückes aus dem Pandas-Series-Objekt. Dazu spezifizieren\n",
    "wir den Start- und den stoppindex mit einem Doppelpunkt dazwischen, also\n",
    "``.loc[startindex : stoppindex]``. Das Herausschneiden von zusammenhängenden\n",
    "Teilobjekten wird auch als **Slicing** bezeichnet."
   ]
  },
  {
   "cell_type": "code",
   "execution_count": 12,
   "id": "539d70dd",
   "metadata": {},
   "outputs": [
    {
     "data": {
      "text/plain": [
       "Bob        22\n",
       "Charlie    43\n",
       "Dora       30\n",
       "dtype: int64"
      ]
     },
     "execution_count": 12,
     "metadata": {},
     "output_type": "execute_result"
    }
   ],
   "source": [
    "alter.loc['Bob': 'Dora']"
   ]
  },
  {
   "cell_type": "markdown",
   "id": "fc7269d1",
   "metadata": {},
   "source": [
    "Als letzte Möglichkeit, um auf Zeilen in dem Pandas-Series-Objekt zuzugreifen,\n",
    "betrachten wir die Übergabe eine Liste mit True/False-Werten."
   ]
  },
  {
   "cell_type": "code",
   "execution_count": 13,
   "id": "bd43eeb5",
   "metadata": {},
   "outputs": [
    {
     "data": {
      "text/plain": [
       "Alice    25\n",
       "Dora     30\n",
       "dtype: int64"
      ]
     },
     "execution_count": 13,
     "metadata": {},
     "output_type": "execute_result"
    }
   ],
   "source": [
    "filter = [True, False, False, True]\n",
    "alter.loc[filter]"
   ]
  },
  {
   "cell_type": "markdown",
   "id": "6f96c840",
   "metadata": {},
   "source": [
    "Letztere Möglichkeit wird vor allem dazu genutzt, Daten nach Eigenschaften zu\n",
    "filtern. Ein simpler Vergleich des Pandas-Series-Objektes beispielsweie erzeugt\n",
    "solche True/False-Objekte, die dann in einem zweiten Schritt genutzt werden\n",
    "können, um das Pandas-Series-Objekt zu filtern."
   ]
  },
  {
   "cell_type": "code",
   "execution_count": 14,
   "id": "fb84de00",
   "metadata": {},
   "outputs": [
    {
     "data": {
      "text/plain": [
       "Alice    25\n",
       "Bob      22\n",
       "dtype: int64"
      ]
     },
     "execution_count": 14,
     "metadata": {},
     "output_type": "execute_result"
    }
   ],
   "source": [
    "filter = alter < 28\n",
    "alter.loc[filter]"
   ]
  },
  {
   "cell_type": "markdown",
   "id": "d7df6e5f",
   "metadata": {},
   "source": [
    "Nachdem wir nun gelernt haben, wie auf einzelne Element des\n",
    "Pandas-Series-Objektes zugegriffen wird, können wir Daten auch manipulieren.\n",
    "Beispielsweise ist Charlie gar nicht 43 Jahre alt, sondern nur 42. Wir weisen\n",
    "dem Objekt ``alter`` für den Index ``'Charlie'``einen neuen Wert zu:"
   ]
  },
  {
   "cell_type": "code",
   "execution_count": 15,
   "id": "3871eac3",
   "metadata": {},
   "outputs": [
    {
     "data": {
      "text/plain": [
       "Alice      25\n",
       "Bob        22\n",
       "Charlie    42\n",
       "Dora       30\n",
       "dtype: int64"
      ]
     },
     "execution_count": 15,
     "metadata": {},
     "output_type": "execute_result"
    }
   ],
   "source": [
    "alter.loc['Charlie'] = 42\n",
    "alter"
   ]
  },
  {
   "cell_type": "markdown",
   "id": "aad8ef29",
   "metadata": {},
   "source": [
    "Oder wir wählen alle Frauen aus und machen sie drei Jahre jünger ;-)"
   ]
  },
  {
   "cell_type": "code",
   "execution_count": 16,
   "id": "d6032df3",
   "metadata": {},
   "outputs": [
    {
     "name": "stdout",
     "output_type": "stream",
     "text": [
      "Alter vor der Verjüngung: \n",
      " Alice      25\n",
      "Bob        22\n",
      "Charlie    42\n",
      "Dora       30\n",
      "dtype: int64\n",
      "Alter danach: \n",
      " Alice      22\n",
      "Bob        22\n",
      "Charlie    42\n",
      "Dora       27\n",
      "dtype: int64\n"
     ]
    }
   ],
   "source": [
    "print('Alter vor der Verjüngung: \\n', alter)\n",
    "alter.loc[ ['Alice', 'Dora']] = alter.loc[ ['Alice', 'Dora']] - 3\n",
    "print('Alter danach: \\n', alter)"
   ]
  }
 ],
 "metadata": {
  "jupytext": {
   "formats": "ipynb,md:myst",
   "text_representation": {
    "extension": ".md",
    "format_name": "myst",
    "format_version": 0.13,
    "jupytext_version": "1.13.8"
   }
  },
  "kernelspec": {
   "display_name": "Python 3 (ipykernel)",
   "language": "python",
   "name": "python3"
  },
  "language_info": {
   "codemirror_mode": {
    "name": "ipython",
    "version": 3
   },
   "file_extension": ".py",
   "mimetype": "text/x-python",
   "name": "python",
   "nbconvert_exporter": "python",
   "pygments_lexer": "ipython3",
   "version": "3.9.13"
  },
  "source_map": [
   13,
   45,
   47,
   55,
   58,
   70,
   73,
   79,
   82,
   91,
   93,
   103,
   106,
   118,
   121,
   129,
   133,
   135,
   140,
   143,
   151,
   154,
   162,
   164,
   169,
   172,
   179,
   182,
   189,
   192,
   196
  ]
 },
 "nbformat": 4,
 "nbformat_minor": 5
}