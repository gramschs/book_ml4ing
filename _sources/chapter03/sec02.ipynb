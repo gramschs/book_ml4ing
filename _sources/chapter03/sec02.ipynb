{
 "cells": [
  {
   "cell_type": "markdown",
   "id": "dfb7b438",
   "metadata": {},
   "source": [
    "# Funktionen\n",
    "\n",
    "## Lernziele\n",
    "\n",
    "```{admonition} Lernziele\n",
    ":class: hint\n",
    "* Definition einer Funktion\n",
    "* Funktionen mit Eingabeparametern\n",
    "* Funktionen mit Eingabeparametern und einem Rückgabewert\n",
    "* Funktionen mit Eingabeparametern und mehreren Rückgabewerten\n",
    "* Funktionen: Vorsicht mit lokalen Variablen\n",
    "```\n",
    "\n",
    "## Funktionen\n",
    "\n",
    "Eine Funktion ist eine Zusammenfassung von Code, der eine bestimmte Teilaufgabe\n",
    "löst. Dabei arbeitet die Funktion nach dem EVA-Prinzip. Die Funktion übernimmt\n",
    "Objekte als Eingabe, verarbeitet diese und liefert Objekte als Ergebnis zurück.\n",
    "Wie die Funktion dabei im Inneren genau funktioniert (Verarbeitung), ist\n",
    "unwichtig.\n",
    "\n",
    "Beispielsweise gibt es im Modul `math` die Funktion `sqrt()`. Wir wissen, dass\n",
    "wir der Funktion eine Zahl übergeben müssen (Eingabe), z.B. `sqrt(5)`. Die\n",
    "Funktion liefert dann als Ergebnis $\\sqrt{5}$ zurück. Welches Verfahren zur\n",
    "Berechnung der Wurzel verwendet wurde, wissen wir nicht. \n",
    "\n",
    "Insbesondere muss die Teilaufgabe, die die Funktion löst, nichts mit Mathematik\n",
    "zu tun haben. Eine Funktion in der Informatik hat nichts mit einer\n",
    "mathematischen Funktion zu tun, auch wenn oft mathematische Funktionen als\n",
    "Beispiel verwendet werden. Ein Beispiel für eine nicht-mathematische Funktion\n",
    "haben Sie mit `print()` bereits kennengelernt.\n",
    "\n",
    "### Die Benutzung von Funktionen (oder der Aufruf von Funktionen)\n",
    "\n",
    "Der Aufruf einer Funktion hat folgende Syntax:\n",
    "\n",
    "```code\n",
    "funktion( argument1, argument2, ...)\n",
    "```\n",
    "\n",
    "Eine Funktion wird benutzt, indem man den Namen der Funktion hinschreibt und\n",
    "dann in runden Klammern ihre Parameter, die sogenannten Argumente der Funktion.\n",
    "Welche Argumente für eine Funktion verwendet werden dürfen, hängt von der\n",
    "Implementierung der Funktion ab.\n",
    "\n",
    "Beispielsweise kann als Argument für die `len()`-Funktion ein String übergeben\n",
    "werden oder eine Liste. Stellen Sie eine Vermutung auf: was bewirkt die\n",
    "`len()`-Funktion?"
   ]
  },
  {
   "cell_type": "code",
   "execution_count": 1,
   "id": "0639d9c3",
   "metadata": {},
   "outputs": [
    {
     "data": {
      "text/plain": [
       "5"
      ]
     },
     "execution_count": 1,
     "metadata": {},
     "output_type": "execute_result"
    }
   ],
   "source": [
    "len('Hallo')"
   ]
  },
  {
   "cell_type": "code",
   "execution_count": 2,
   "id": "bf170835",
   "metadata": {},
   "outputs": [
    {
     "data": {
      "text/plain": [
       "6"
      ]
     },
     "execution_count": 2,
     "metadata": {},
     "output_type": "execute_result"
    }
   ],
   "source": [
    "len([1,2,3,4,8,2])"
   ]
  },
  {
   "cell_type": "markdown",
   "id": "76be57e4",
   "metadata": {},
   "source": [
    "In der Regel geben Funktionen wieder Ergebnisse zurück. Diese können einer\n",
    "Variable zugewiesen werden, um mit dem Ergebnis weiter zu arbeiten."
   ]
  },
  {
   "cell_type": "code",
   "execution_count": 3,
   "id": "2a7cbf2c",
   "metadata": {},
   "outputs": [
    {
     "name": "stdout",
     "output_type": "stream",
     "text": [
      "Das Wort Hallo enthält mehr Buchstaben als Einträge in der Liste.\n"
     ]
    }
   ],
   "source": [
    "laenge1 = len('Hallo')\n",
    "laenge2 = len(['Apfel', 'Banane', 'Erdbeere'])\n",
    "\n",
    "if laenge1 < laenge2:\n",
    "    print('Das Wort Hallo enthält weniger Buchstaben als Früchte im Obstsalat.')\n",
    "else:\n",
    "    print('Das Wort Hallo enthält mehr Buchstaben als Einträge in der Liste.')"
   ]
  },
  {
   "cell_type": "markdown",
   "id": "9a01b5a6",
   "metadata": {},
   "source": [
    "### Definition von einfachen Funktionen\n",
    "\n",
    "Die allgemeine Syntax zur Definition einer eigenen Funktion sieht wie folgt aus:\n",
    "\n",
    "```python\n",
    "def meine_funktion():\n",
    "    \"\"\"Optionaler Docstring zur Erklärung.\"\"\"\n",
    "\n",
    "    # Implementierung der Funktion\n",
    "    anweisung01\n",
    "    anweisung02\n",
    "     ...\n",
    "\n",
    "```\n",
    "\n",
    "Erstes Beispiel:\n",
    "\n",
    "Die folgende Funktion hat keine Eingabewerte (Argumente, Input) und keine\n",
    "Rückgabe (Ausgabe, Return-Value)."
   ]
  },
  {
   "cell_type": "code",
   "execution_count": 4,
   "id": "bb60ad72",
   "metadata": {},
   "outputs": [],
   "source": [
    "def gruesse_ausrichten():\n",
    "    print('Ich grüße Sie!')"
   ]
  },
  {
   "cell_type": "markdown",
   "id": "0201b280",
   "metadata": {},
   "source": [
    "Nachdem die Funktion `gruesse_ausrichten()` so implementiert wurde, können wir\n",
    "sie im Folgenden direkt verwenden."
   ]
  },
  {
   "cell_type": "code",
   "execution_count": 5,
   "id": "0672d9de",
   "metadata": {},
   "outputs": [
    {
     "name": "stdout",
     "output_type": "stream",
     "text": [
      "Ich grüße Sie!\n"
     ]
    }
   ],
   "source": [
    "gruesse_ausrichten()"
   ]
  },
  {
   "cell_type": "markdown",
   "id": "cda4e23e",
   "metadata": {},
   "source": [
    "Und natürlich kann man sie in Programmverzweigungen und Schleifen einbauen.\n",
    "\n",
    "```{admonition} Mini-Übung\n",
    ":class: miniexercise\n",
    "Lassen Sie 10x Grüße ausrichten.\n",
    "```"
   ]
  },
  {
   "cell_type": "code",
   "execution_count": 6,
   "id": "e69de3aa",
   "metadata": {},
   "outputs": [],
   "source": [
    "# Hier Ihr Code:"
   ]
  },
  {
   "cell_type": "markdown",
   "id": "405adb5f",
   "metadata": {},
   "source": [
    "<iframe width=\"560\" height=\"315\" src=\"https://www.youtube.com/embed/LQCfN5HS9xI\" title=\"YouTube video player\" frameborder=\"0\" allow=\"accelerometer; autoplay; clipboard-write; encrypted-media; gyroscope; picture-in-picture\" allowfullscreen></iframe>\n",
    "\n",
    "## Funktionen mit Parametern\n",
    "\n",
    "Meistens haben Funktionen Argumente, um Eingaben/Input entgegennehmen und\n",
    "verarbeiten zu können. Das Argument wird bei der Implementierung der Funktion\n",
    "mit einem Platzhalter/Variable eingeführt. \n",
    "\n",
    "Die allgemeine Syntax zur Definition einer eigenen Funktion mit Parametern sieht\n",
    "wie folgt aus:\n",
    "\n",
    "```python\n",
    "def meine_funktion(arg1, arg2, ..., argn):\n",
    "    \"\"\"Optionaler Docstring zur Erklärung.\"\"\"\n",
    "\n",
    "    # Implementierung der Funktion\n",
    "    anweisung01\n",
    "    anweisung02\n",
    "     ...\n",
    "\n",
    "```"
   ]
  },
  {
   "cell_type": "code",
   "execution_count": 7,
   "id": "ab1a4d4f",
   "metadata": {},
   "outputs": [],
   "source": [
    "def gruesse_ausrichten_mit_parameter(name):\n",
    "    print('Ich grüße', name)"
   ]
  },
  {
   "cell_type": "markdown",
   "id": "b15c8ce2",
   "metadata": {},
   "source": [
    "Der Aufruf einer Funktion ohne passende Argumente führt zu einer Fehlermeldung.\n",
    "Entfernen Sie das Kommentarzeichen `#` und führen Sie die nachfolgende\n",
    "Code-Zelle aus:"
   ]
  },
  {
   "cell_type": "code",
   "execution_count": 8,
   "id": "89dccfbb",
   "metadata": {},
   "outputs": [],
   "source": [
    "#gruesse_ausrichten_mit_parameter()"
   ]
  },
  {
   "cell_type": "markdown",
   "id": "86fe56a7",
   "metadata": {},
   "source": [
    "Daher müssen wir die modifizierte Funktion nun wie folgt aufrufen:"
   ]
  },
  {
   "cell_type": "code",
   "execution_count": 9,
   "id": "0a4840bd",
   "metadata": {},
   "outputs": [
    {
     "name": "stdout",
     "output_type": "stream",
     "text": [
      "Ich grüße Bob\n"
     ]
    }
   ],
   "source": [
    "gruesse_ausrichten_mit_parameter('Bob')"
   ]
  },
  {
   "cell_type": "markdown",
   "id": "d4f78204",
   "metadata": {},
   "source": [
    "Die Funktion `gruesse_ausrichten_mit_parameter()` hat aber keinen Rückgabewert.\n",
    "Das können wir wie folgt testen:"
   ]
  },
  {
   "cell_type": "code",
   "execution_count": 10,
   "id": "38012c0a",
   "metadata": {},
   "outputs": [
    {
     "name": "stdout",
     "output_type": "stream",
     "text": [
      "Ich grüße Alice\n"
     ]
    },
    {
     "data": {
      "text/plain": [
       "NoneType"
      ]
     },
     "execution_count": 10,
     "metadata": {},
     "output_type": "execute_result"
    }
   ],
   "source": [
    "x = gruesse_ausrichten_mit_parameter('Alice')\n",
    "type(x)"
   ]
  },
  {
   "cell_type": "markdown",
   "id": "44d622dc",
   "metadata": {},
   "source": [
    "`x` ist vom Typ `NoneType` oder anders ausgedrückt, es hat keinen Datentyp. \n",
    "\n",
    "Sind Funktionen ohne Rückgabewert sinnvoll?\n",
    "\n",
    "Ja, denn so können Codeblöcke vereinfacht werden. Sollte in einem Programm Code\n",
    "mehrmals ausgeführt werden, lohnt es sich, diesen in eine Funktion auszulagern,\n",
    "um diese einfach aufrufen zu können.\n",
    "\n",
    "\n",
    "````{admonition} Mini-Übung\n",
    ":class: miniexercise\n",
    "Schreiben Sie eine Funktion mit zwei Parametern, nämlich Vor- und Nachname. Wenn \n",
    "die Funktion z.B. mit `(Alice, Miller)` aufgerufen wird, soll sie Folgendes auf \n",
    "dem Bildschirm ausgeben:\n",
    "\n",
    "```code\n",
    "Vorname: Alice\n",
    "Nachname: Miller\n",
    "```\n",
    "````"
   ]
  },
  {
   "cell_type": "code",
   "execution_count": 11,
   "id": "c5bf68e8",
   "metadata": {},
   "outputs": [],
   "source": [
    "# Hier Ihr Code:"
   ]
  },
  {
   "cell_type": "markdown",
   "id": "0d087131",
   "metadata": {},
   "source": [
    "<iframe width=\"560\" height=\"315\" src=\"https://www.youtube.com/embed/af9ORp1Pty0\" title=\"YouTube video player\" frameborder=\"0\" allow=\"accelerometer; autoplay; clipboard-write; encrypted-media; gyroscope; picture-in-picture\" allowfullscreen></iframe>\n",
    "\n",
    "## Funktionen mit Rückgabewert\n",
    "\n",
    "In der Regel jedoch haben Funktionen einen Rückgabewert.\n",
    "\n",
    "### Funktion mit einem Rückgabewert\n",
    "\n",
    "Die allgemeine Syntax zur Definition einer eigenen Funktion mit Parametern und\n",
    "Rückgabewert sieht wie folgt aus:\n",
    "\n",
    "```python\n",
    "def meine_funktion(arg1, arg2, ..., argn):\n",
    "    \"\"\"Optionaler Docstring zur Erklärung.\"\"\"\n",
    "\n",
    "    # Implementierung der Funktion\n",
    "    anweisung01\n",
    "    anweisung02\n",
    "     ...\n",
    "\n",
    "    return ergebnis  # optional, die Funktion kann auch keine Rückgabe haben\n",
    "```\n",
    "\n",
    "Schauen wir uns ein Beispiel an:"
   ]
  },
  {
   "cell_type": "code",
   "execution_count": 12,
   "id": "722f361a",
   "metadata": {},
   "outputs": [],
   "source": [
    "def berechne_quadrat(x):\n",
    "    return x*x"
   ]
  },
  {
   "cell_type": "code",
   "execution_count": 13,
   "id": "0178f021",
   "metadata": {},
   "outputs": [
    {
     "data": {
      "text/plain": [
       "49"
      ]
     },
     "execution_count": 13,
     "metadata": {},
     "output_type": "execute_result"
    }
   ],
   "source": [
    "berechne_quadrat(7)"
   ]
  },
  {
   "cell_type": "code",
   "execution_count": 14,
   "id": "aaf0aea9",
   "metadata": {},
   "outputs": [
    {
     "name": "stdout",
     "output_type": "stream",
     "text": [
      "1 * 1 = 1\n",
      "2 * 2 = 4\n",
      "3 * 3 = 9\n",
      "4 * 4 = 16\n",
      "5 * 5 = 25\n",
      "6 * 6 = 36\n",
      "7 * 7 = 49\n",
      "8 * 8 = 64\n",
      "9 * 9 = 81\n",
      "10 * 10 = 100\n"
     ]
    }
   ],
   "source": [
    "for x in range(1,11):\n",
    "    y = berechne_quadrat(x) \n",
    "    ausgabe = '{} * {} = {}'.format(x, x, y)\n",
    "    print(ausgabe)"
   ]
  },
  {
   "cell_type": "markdown",
   "id": "24227f4c",
   "metadata": {},
   "source": [
    "Hier ein Beispiel mit mehreren Argumenten."
   ]
  },
  {
   "cell_type": "code",
   "execution_count": 15,
   "id": "963ce396",
   "metadata": {},
   "outputs": [
    {
     "name": "stdout",
     "output_type": "stream",
     "text": [
      "berechnete Fläche:  15\n"
     ]
    }
   ],
   "source": [
    "def berechne_rechteck_flaeche(a,b):\n",
    "    flaeche = a*b\n",
    "    return flaeche\n",
    "\n",
    "# main program\n",
    "\n",
    "# Eingabe\n",
    "a = 5\n",
    "b = 3\n",
    "\n",
    "# Verarbeitung\n",
    "flaeche = berechne_rechteck_flaeche(a,b)\n",
    "\n",
    "# Ausgabe\n",
    "print('berechnete Fläche: ', flaeche)"
   ]
  },
  {
   "cell_type": "markdown",
   "id": "ae376e28",
   "metadata": {},
   "source": [
    "### Funktionen mit mehreren Rückgabewerten\n",
    "\n",
    "```python\n",
    "def funktion(arg1, arg2, ...):\n",
    "    # Verarbeitung\n",
    "    anweisung01\n",
    "    anweisung02\n",
    "    ...\n",
    "    \n",
    "    return ergebnis1, ergebnis2\n",
    "```\n",
    "\n",
    "Es ist auch möglich, mehrere Ergebnisse gleichzeitig zurückzugeben. Diese werden\n",
    "einfach nach dem Schlüsselwort `return` mit Kommas getrennt gelistet."
   ]
  },
  {
   "cell_type": "code",
   "execution_count": 16,
   "id": "99fb2c90",
   "metadata": {},
   "outputs": [],
   "source": [
    "def potenzen_bis_vier(x):\n",
    "    x_hoch_2 = x**2\n",
    "    x_hoch_3 = x**3\n",
    "    x_hoch_4 = x**4\n",
    "    return x_hoch_2, x_hoch_3, x_hoch_4"
   ]
  },
  {
   "cell_type": "code",
   "execution_count": 17,
   "id": "20cabf29",
   "metadata": {},
   "outputs": [
    {
     "name": "stdout",
     "output_type": "stream",
     "text": [
      "(1, 1, 1)\n",
      "(4, 8, 16)\n",
      "(9, 27, 81)\n",
      "(16, 64, 256)\n",
      "(25, 125, 625)\n",
      "(36, 216, 1296)\n",
      "(49, 343, 2401)\n",
      "(64, 512, 4096)\n",
      "(81, 729, 6561)\n",
      "(100, 1000, 10000)\n"
     ]
    }
   ],
   "source": [
    "for x in range(1,11):\n",
    "    print(potenzen_bis_vier(x))"
   ]
  },
  {
   "cell_type": "code",
   "execution_count": 18,
   "id": "4497c786",
   "metadata": {},
   "outputs": [
    {
     "name": "stdout",
     "output_type": "stream",
     "text": [
      "Die 2. Potenz von 1 ist 1, die dritte ist 1 und die vierte ist 1.\n",
      "Die 2. Potenz von 2 ist 4, die dritte ist 8 und die vierte ist 16.\n",
      "Die 2. Potenz von 3 ist 9, die dritte ist 27 und die vierte ist 81.\n",
      "Die 2. Potenz von 4 ist 16, die dritte ist 64 und die vierte ist 256.\n"
     ]
    }
   ],
   "source": [
    "for x in range(1,5):\n",
    "    potenz2, potenz3, potenz4 = potenzen_bis_vier(x)\n",
    "    print('Die 2. Potenz von {} ist {}, die dritte ist {} und die vierte ist {}.'.format(x, potenz2, potenz3, potenz4))"
   ]
  },
  {
   "cell_type": "markdown",
   "id": "0674a37c",
   "metadata": {},
   "source": [
    "<iframe width=\"560\" height=\"315\" src=\"https://www.youtube.com/embed/ehSP-sYoKCY\" title=\"YouTube video player\" frameborder=\"0\" allow=\"accelerometer; autoplay; clipboard-write; encrypted-media; gyroscope; picture-in-picture\" allowfullscreen></iframe>\n",
    "\n",
    "## Vorsicht bei der Ausführung von Funktionen: lokale und globale Variablen\n",
    "\n",
    "Schauen Sie sich bitte folgende Funktionsimplementierung an. Was macht die\n",
    "Funktion?"
   ]
  },
  {
   "cell_type": "code",
   "execution_count": 19,
   "id": "a7665e52",
   "metadata": {},
   "outputs": [],
   "source": [
    "def erhoehe_um_eins(x):\n",
    "    x = x + 1"
   ]
  },
  {
   "cell_type": "code",
   "execution_count": 20,
   "id": "4cbc8b92",
   "metadata": {},
   "outputs": [
    {
     "name": "stdout",
     "output_type": "stream",
     "text": [
      "17\n",
      "jetzt Funktion auf x anwenden...\n",
      "17\n"
     ]
    }
   ],
   "source": [
    "x = 17\n",
    "print(x)\n",
    "\n",
    "# jetzt Funktion anwenden\n",
    "print('jetzt Funktion auf x anwenden...')\n",
    "erhoehe_um_eins(x)\n",
    "print(x)"
   ]
  },
  {
   "cell_type": "markdown",
   "id": "ea7cc379",
   "metadata": {},
   "source": [
    "Wir schauen in die Funktion \"hinein\", um zu sehen, ob vielleicht gar nicht\n",
    "erhöht wurde."
   ]
  },
  {
   "cell_type": "code",
   "execution_count": 21,
   "id": "8fc510f8",
   "metadata": {},
   "outputs": [],
   "source": [
    "def erhoehe_um_eins(x):\n",
    "    print('in der Funktion vor der Erhöhung:')\n",
    "    print(x)\n",
    "    \n",
    "    # Erhöhung\n",
    "    x = x + 1\n",
    "    \n",
    "    print('in der Funktion nach der Erhöhung:')\n",
    "    print(x)    "
   ]
  },
  {
   "cell_type": "code",
   "execution_count": 22,
   "id": "d9b54b0b",
   "metadata": {},
   "outputs": [
    {
     "name": "stdout",
     "output_type": "stream",
     "text": [
      "17\n",
      "jetzt Funktion auf x anwenden...\n",
      "in der Funktion vor der Erhöhung:\n",
      "17\n",
      "in der Funktion nach der Erhöhung:\n",
      "18\n",
      "17\n"
     ]
    }
   ],
   "source": [
    "x = 17\n",
    "print(x)\n",
    "\n",
    "# jetzt Funktion anwenden\n",
    "print('jetzt Funktion auf x anwenden...')\n",
    "erhoehe_um_eins(x)\n",
    "print(x)"
   ]
  },
  {
   "cell_type": "markdown",
   "id": "78916560",
   "metadata": {},
   "source": [
    "Was ist passiert? Die Variable `x` in der Funktion ist eine lokale Variable. Es\n",
    "ist Zufall, das sie so heißt, wie die Variable außerhalb der Funktion. Ein\n",
    "Programmierer einer Funktion kann nicht vorab wissen, wie alle anderen Variablen\n",
    "genannt werden. Daher müssen alle Variablen in der Funktion lokal bleiben, um\n",
    "nicht unabsichtlich Variablen, die dummerweise oder absichtlich den gleichen\n",
    "Namen tragen, zu verändern.\n",
    "\n",
    "Möchte man erreichen, dass eine Funktion den Wert einer Variable ändert, kann\n",
    "man dies über die Rückgabe und explizite Zuweisung erreichen."
   ]
  },
  {
   "cell_type": "code",
   "execution_count": 23,
   "id": "be74d509",
   "metadata": {},
   "outputs": [
    {
     "name": "stdout",
     "output_type": "stream",
     "text": [
      "vorher 17\n",
      "nachher 18\n"
     ]
    }
   ],
   "source": [
    "def erhoehe_um_eins(x):\n",
    "    x = x + 1\n",
    "    return x\n",
    "\n",
    "x = 17\n",
    "print('vorher', x)\n",
    " \n",
    "x = erhoehe_um_eins(x)\n",
    "print('nachher', x)"
   ]
  }
 ],
 "metadata": {
  "jupytext": {
   "formats": "ipynb,md:myst",
   "text_representation": {
    "extension": ".md",
    "format_name": "myst",
    "format_version": 0.13,
    "jupytext_version": "1.13.8"
   }
  },
  "kernelspec": {
   "display_name": "Python 3 (ipykernel)",
   "language": "python",
   "name": "python3"
  },
  "language_info": {
   "codemirror_mode": {
    "name": "ipython",
    "version": 3
   },
   "file_extension": ".py",
   "mimetype": "text/x-python",
   "name": "python",
   "nbconvert_exporter": "python",
   "pygments_lexer": "ipython3",
   "version": "3.9.13"
  },
  "source_map": [
   13,
   65,
   69,
   71,
   76,
   84,
   107,
   110,
   115,
   117,
   126,
   128,
   152,
   155,
   161,
   163,
   167,
   169,
   174,
   177,
   200,
   202,
   229,
   234,
   238,
   243,
   247,
   263,
   280,
   288,
   293,
   297,
   306,
   311,
   319,
   324,
   336,
   344,
   356
  ]
 },
 "nbformat": 4,
 "nbformat_minor": 5
}