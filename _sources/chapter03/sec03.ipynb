{
 "cells": [
  {
   "cell_type": "markdown",
   "id": "2f55460d",
   "metadata": {},
   "source": [
    "# Objektorientierung\n",
    "\n",
    "In diesem Abbschnitt werden wir den Crashkurs in Python mit einem Ausflug in die\n",
    "objektorientierte Programmierung abschließen. \n",
    "\n",
    "## Lernziele\n",
    "\n",
    "```{admonition} Lernziele\n",
    ":class: hint\n",
    "* Was ist Objektorientierung?\n",
    "* Klassen definieren: Attribute und Methoden\n",
    "```\n",
    "\n",
    "\n",
    "## Objektorientierte Programmierung — Konzept\n",
    "\n",
    "In den ersten beiden Teilen unseres Crashkurses Python haben wir uns die\n",
    "Grundlagen der Programmierung erarbeitet:\n",
    "* Datentypen (Integer, Float, String, Bool, List)\n",
    "* Kontrollstrukturen \n",
    "    * Programmverzweigungen (if - elif - else)\n",
    "    * Schleifen (while oder for)\n",
    "* Funktionen.\n",
    "\n",
    "In einigen Programmiersprachen wie beispielsweise C hätten wir damit auch alle\n",
    "Sprachelement kennengelernt. Diese Programmierung nennt man **prozedurale\n",
    "Programmierung**. Python gehört jedoch zu den objektorientierten\n",
    "Programmiersprachen, so dass wir uns diese Woche dem Thema Objektorientierung\n",
    "widmen.\n",
    "\n",
    "Bei der bisherigen prozeduralen Programmierweise haben wir Funktionen und Daten\n",
    "getrennt. Die Daten werden in Variablen gespeichert. Funktionen funktionieren\n",
    "nach dem EVA-Prinzip. In der Regel erwartet eine Funktion eine Eingabe von\n",
    "Daten, verarbeitet diese Daten und gibt Daten zurück. \n",
    "\n",
    "Angenommen, wir wollten ein Programm zur Verwaltung von Lottoscheinen schreiben.\n",
    "Zu einem Lottoschein wollen wir Name, Adresse und die angekreuzten Zahlen\n",
    "speichern. Dann müssten wir mit unserem bisherigen Wissen folgende Variablen pro\n",
    "Lottoschein einführen:\n",
    "\n",
    "* vorname\n",
    "* nachname\n",
    "* strasse\n",
    "* postleitzahl\n",
    "* stadt\n",
    "* liste_mit_sechs_zahlen\n",
    "\n",
    "Wenn jetzt viele Spielerinnen und Spieler Lotto spielen wollen, wie gehen wir\n",
    "jetzt mit den Daten um? Legen wir eine Liste für die Vornamen und eine Liste für\n",
    "die Nachnamen usw. an? Und wenn jetzt der 17. Eintrag in der Liste mit den sechs\n",
    "angekreuzten Lottozahlen sechs Richtige hat, suchen wir dann den 17. Eintrag in\n",
    "der Liste mit den Vornamen und den 17. Eintrag in der Liste mit den Nachnamen\n",
    "usw.? Umständlich...\n",
    "\n",
    "Die Idee der objektorientierten Programmierung ist, für solche Szenarien\n",
    "**Objekte** einzuführen. Ein Objekt fasst verschiedene Eigenschaften wie hier\n",
    "Vorname, Nachname, Straße, usw. zu einem Objekt Lottoschein zusammen. In der\n",
    "Informatik wird eine Eigenschaft eines Objekts **Attribut** genannt. \n",
    "\n",
    "Damit hätten wir erst einmal nur einen neuen Datentyp. Ein Objekt macht noch\n",
    "mehr aus, denn zu dem neuen Datentyp kommen noch Funktionen dazu, die die\n",
    "Verwaltung des Objektes erleichtern. Funktionen, die zu einem Objekt gehören,\n",
    "nennt man **Methoden**.\n",
    "\n",
    "<iframe width=\"560\" height=\"315\" src=\"https://www.youtube.com/embed/46yolPy-2VQ\" title=\"YouTube video player\" frameborder=\"0\" allow=\"accelerometer; autoplay; clipboard-write; encrypted-media; gyroscope; picture-in-picture\" allowfullscreen></iframe>\n",
    "\n",
    "\n",
    "## Klassen und Objekte\n",
    "\n",
    "Im Folgenden sehen Sie, wie ein Objekt in Python definiert wird. Die\n",
    "Implementierung erfolgt als sogenannte **Klasse**."
   ]
  },
  {
   "cell_type": "code",
   "execution_count": 1,
   "id": "39dd297a",
   "metadata": {},
   "outputs": [],
   "source": [
    "class Adresse:\n",
    "    def __init__(self, strasse, hausnummer, plz, stadt):\n",
    "        self.strasse = strasse\n",
    "        self.hausnummer = hausnummer\n",
    "        self.postleitzahl = plz\n",
    "        self.stadt = stadt"
   ]
  },
  {
   "cell_type": "markdown",
   "id": "f608c141",
   "metadata": {},
   "source": [
    "Eingeleitet wird eine Klasse mit dem Schlüsselwort `class` und dann dem Namen\n",
    "der Klasse. Da Klassen Objekte sind, ist es Standard, den ersten Buchstaben des\n",
    "Klassennamens groß zu schreiben. Um Variablen von Objekten leichter zu\n",
    "unterscheiden, werden Variablennamen klein geschrieben.\n",
    "\n",
    "Danach folgt ein Abschnitt namens `def __init__(self):`, in dem die\n",
    "Eigenschaften der Klasse aufgelistet werden. `init` steht dabei für\n",
    "initialisieren, also den ersten Zustand, den das Objekt später haben wird. \n",
    "\n",
    "Wie Sie sehen, können die Eingabe-Parameter der `init()`-Methode die gleichen\n",
    "Namen tragen wie die Attribute der Klasse, also `self.strasse = strasse`, müssen\n",
    "sie aber nicht. Das Beispiel `self.postleitzahl = plz` zeigt, dass das Attribut\n",
    "`self.postleitzahl` einfach den Wert des 4. Parameters bekommt, egal wie der\n",
    "heißt.\n",
    "\n",
    "Definieren wir jetzt unsere erste Adresse, der Eingabe-Parameter `self` wird\n",
    "dabei weggelassen (warum kommt später)."
   ]
  },
  {
   "cell_type": "code",
   "execution_count": 2,
   "id": "9b2cad39",
   "metadata": {},
   "outputs": [],
   "source": [
    "adresse_fra_uas = Adresse('Nibelungenplatz', 1, 60318, 'Frankfurt am Main')"
   ]
  },
  {
   "cell_type": "markdown",
   "id": "7fc94734",
   "metadata": {},
   "source": [
    "Geben wir als nächstes aus, was in der Variable `adresse_fra_uas` gespeichert\n",
    "ist. Probieren wir es mit der `print()`-Funktion:"
   ]
  },
  {
   "cell_type": "code",
   "execution_count": 3,
   "id": "b58e1f27",
   "metadata": {},
   "outputs": [
    {
     "name": "stdout",
     "output_type": "stream",
     "text": [
      "<__main__.Adresse object at 0x104554670>\n"
     ]
    }
   ],
   "source": [
    "print(adresse_fra_uas)"
   ]
  },
  {
   "cell_type": "markdown",
   "id": "734c8831",
   "metadata": {},
   "source": [
    "Wie Sie sehen, wird der Name der Klasse und der Speicherort im Speicher\n",
    "angegeben, aber nicht der Inhalt. Die Funktion `print()` ist nicht für den\n",
    "Datentyp `Adresse` entwickelt worden. Schließlich können die Python-Entwickler\n",
    "nicht wissen, welche Klassen Sie entwickeln... \n",
    "\n",
    "Aber wir kommen wir jetzt an den Inhalt des Objektes `adresse_fra_uas`? Mit dem\n",
    "Punktoperator."
   ]
  },
  {
   "cell_type": "code",
   "execution_count": 4,
   "id": "8ff5ec7d",
   "metadata": {},
   "outputs": [
    {
     "name": "stdout",
     "output_type": "stream",
     "text": [
      "Nibelungenplatz\n"
     ]
    }
   ],
   "source": [
    "print(adresse_fra_uas.strasse)"
   ]
  },
  {
   "cell_type": "code",
   "execution_count": 5,
   "id": "15bd8983",
   "metadata": {},
   "outputs": [
    {
     "name": "stdout",
     "output_type": "stream",
     "text": [
      "60318\n"
     ]
    }
   ],
   "source": [
    "print(adresse_fra_uas.postleitzahl)"
   ]
  },
  {
   "cell_type": "markdown",
   "id": "e0fde626",
   "metadata": {},
   "source": [
    "Damit können wir auch ganz normal rechnen, wenn das Attribut eine Zahl ist:"
   ]
  },
  {
   "cell_type": "code",
   "execution_count": 6,
   "id": "b222a38b",
   "metadata": {},
   "outputs": [
    {
     "data": {
      "text/plain": [
       "71429"
      ]
     },
     "execution_count": 6,
     "metadata": {},
     "output_type": "execute_result"
    }
   ],
   "source": [
    "adresse_fra_uas.postleitzahl + 11111"
   ]
  },
  {
   "cell_type": "markdown",
   "id": "5b30dca6",
   "metadata": {},
   "source": [
    "Mit dem Punktoperator können wir Attribute eines Objektes auch verändern.\n",
    "Schauen wir uns zunächst an, welchen Inhalt `adress_fra_uas.postleitzahl` hat,\n",
    "dann setzen wir eine neue Postleitzahl und schauen erneut, welchen Inhalt\n",
    "`adress_fra_uas.postleitzahl` jetzt hat:"
   ]
  },
  {
   "cell_type": "code",
   "execution_count": 7,
   "id": "c28fc50c",
   "metadata": {},
   "outputs": [
    {
     "name": "stdout",
     "output_type": "stream",
     "text": [
      "davor: \n",
      "60318\n",
      "danach: \n",
      "77777\n"
     ]
    }
   ],
   "source": [
    "print('davor: ')\n",
    "print(adresse_fra_uas.postleitzahl)\n",
    "\n",
    "adresse_fra_uas.postleitzahl = 77777\n",
    "\n",
    "print('danach: ')\n",
    "print(adresse_fra_uas.postleitzahl)"
   ]
  },
  {
   "cell_type": "markdown",
   "id": "383ed202",
   "metadata": {},
   "source": [
    "**Mini-Übung**   \n",
    "\n",
    "Schreiben Sie eine Klasse, die Studierende mit den Eigenschaften\n",
    "* Vorname\n",
    "* Nachname\n",
    "* Matrikel-Nummer\n",
    "verwalten kann.\n",
    "\n",
    "Testen Sie anschließend Ihre Klasse, indem Sie ein Beispiel ausprobieren."
   ]
  },
  {
   "cell_type": "code",
   "execution_count": 8,
   "id": "77c1f9c7",
   "metadata": {},
   "outputs": [
    {
     "name": "stdout",
     "output_type": "stream",
     "text": [
      "Alice\n"
     ]
    }
   ],
   "source": [
    "# Hier Ihr Code:\n",
    "\n",
    "class Studierende:\n",
    "    def __init__(self, vorname, nachname, matrikelnummer):\n",
    "        self.vorname = vorname\n",
    "        self.nachname = nachname\n",
    "        self.matrikelnummer = matrikelnummer\n",
    "        \n",
    "# Test der Klasse\n",
    "student1 = Studierende('Alice', 'Wunderland', 123456)\n",
    "student2 = Studierende('Bob', 'Baumeister', 234567)\n",
    "student3 = Studierende('Charlie', 'Brown', 345678)\n",
    "\n",
    "print(student1.vorname)"
   ]
  },
  {
   "cell_type": "markdown",
   "id": "c14399da",
   "metadata": {},
   "source": [
    "<iframe width=\"560\" height=\"315\" src=\"https://www.youtube.com/embed/XxCZrT7Z3G4\" title=\"YouTube video player\" frameborder=\"0\" allow=\"accelerometer; autoplay; clipboard-write; encrypted-media; gyroscope; picture-in-picture\" allowfullscreen></iframe>\n",
    "\n",
    "Falls Sie sich näher mit dem self-Operator beschäftigen möchten, empfehle ich\n",
    "das nachfolgende Video.\n",
    "\n",
    "<iframe width=\"560\" height=\"315\" src=\"https://www.youtube.com/embed/CLoK-_qNTnU\" title=\"YouTube video player\" frameborder=\"0\" allow=\"accelerometer; autoplay; clipboard-write; encrypted-media; gyroscope; picture-in-picture\" allowfullscreen></iframe>\n",
    "\n",
    "\n",
    "## Methoden\n",
    "\n",
    "Es ist bedauerlich, dass wir nicht eine `print()`-Funktion für unsere\n",
    "Adressen-Klasse zur Verfügung haben. Definieren wir uns einfach eine ...\n",
    "\n",
    "Da diese Funktion nicht allgemeingültig sein kann, sondern nur für die Objekte\n",
    "`Adresse` funktionieren kann, gehört sie auch folgerichtig zur Klasse selbst.\n",
    "Sie ist also keine Funktion, sondern eine Methode. \n",
    "\n",
    "Eine Methode wird definiert, indem innerhalb des Anweisungsblocks der Klasse\n",
    "eine Funktion mit dem Schlüsselwort `def` definiert wird. Der erste Eingabewert\n",
    "muss zwingend der `self`-Parameter sein. Hier ein Beispiel für eine\n",
    "Print-Methode:"
   ]
  },
  {
   "cell_type": "code",
   "execution_count": 9,
   "id": "547169c7",
   "metadata": {},
   "outputs": [],
   "source": [
    "class Adresse:\n",
    "    def __init__(self, strasse, hausnummer, plz, stadt):\n",
    "        self.strasse = strasse\n",
    "        self.hausnummer = hausnummer\n",
    "        self.postleitzahl = plz\n",
    "        self.stadt = stadt\n",
    "    \n",
    "    def print(self):\n",
    "        print('Straße = ', self.strasse)\n",
    "        print('Hausnummer = ', self.hausnummer)\n",
    "        print('Postleitzahl = ', self.postleitzahl)\n",
    "        print('Stadt = ', self.stadt)"
   ]
  },
  {
   "cell_type": "code",
   "execution_count": 10,
   "id": "7ca8f18e",
   "metadata": {},
   "outputs": [
    {
     "name": "stdout",
     "output_type": "stream",
     "text": [
      "Straße =  Nibelungenplatz\n",
      "Hausnummer =  1\n",
      "Postleitzahl =  60318\n",
      "Stadt =  Frankfurt am Main\n"
     ]
    }
   ],
   "source": [
    "adresse_fra_uas = Adresse('Nibelungenplatz', 1, 60318, 'Frankfurt am Main')\n",
    "adresse_fra_uas.print()"
   ]
  },
  {
   "cell_type": "markdown",
   "id": "0dd4becf",
   "metadata": {},
   "source": [
    "Vielleicht möchten wir die Print-Ausgabe unterschiedlich haben, z.B. alles in\n",
    "einer Zeile. Wir erweitern unsere Klasse mit einer neuen Methode namens\n",
    "`print_einzeilig()`:"
   ]
  },
  {
   "cell_type": "code",
   "execution_count": 11,
   "id": "182b7f85",
   "metadata": {},
   "outputs": [],
   "source": [
    "class Adresse:\n",
    "    def __init__(self, strasse, hausnummer, plz, stadt):\n",
    "        self.strasse = strasse\n",
    "        self.hausnummer = hausnummer\n",
    "        self.postleitzahl = plz\n",
    "        self.stadt = stadt\n",
    "    \n",
    "    def print(self):\n",
    "        print('Straße: ', self.strasse)\n",
    "        print('Hausnummer: ', self.hausnummer)\n",
    "        print('Postleitzahl: ', self.postleitzahl)\n",
    "        print('Stadt: ', self.stadt)\n",
    "        \n",
    "    def print_einzeilig(self):\n",
    "        print('{} {}, {} {}'.format(self.strasse, self.hausnummer, self.postleitzahl, self.stadt ))"
   ]
  },
  {
   "cell_type": "code",
   "execution_count": 12,
   "id": "71995e6f",
   "metadata": {},
   "outputs": [
    {
     "name": "stdout",
     "output_type": "stream",
     "text": [
      "zuerst so:\n",
      "Straße:  Nibelungenplatz\n",
      "Hausnummer:  1\n",
      "Postleitzahl:  60318\n",
      "Stadt:  Frankfurt am Main\n",
      "\n",
      " und \n",
      "dann einzeilig:\n",
      "Nibelungenplatz 1, 60318 Frankfurt am Main\n"
     ]
    }
   ],
   "source": [
    "adresse_fra_uas = Adresse('Nibelungenplatz', 1, 60318, 'Frankfurt am Main')\n",
    "\n",
    "print('zuerst so:')\n",
    "adresse_fra_uas.print()\n",
    "\n",
    "print('\\n und \\ndann einzeilig:')\n",
    "adresse_fra_uas.print_einzeilig()"
   ]
  },
  {
   "cell_type": "markdown",
   "id": "181d3053",
   "metadata": {},
   "source": [
    "````{admonition} Mini-Übung\n",
    ":class: miniexercise\n",
    "Fügen Sie Ihrer Klasse zum Verwalten von Studierenden zwei Print-Funktionen\n",
    "hinzu. Die erste Print-Funktion soll in einer Zeile `Vorname Nachname (xxxxxx)`\n",
    "ausgeben, wobei das xxxxxx für die Matrikel-Nummer steht, also z.B.\n",
    "```\n",
    "Alice Wunderland (123456)\n",
    "```\n",
    "\n",
    "ausgeben. Die zweite soll `Nachname, Vorname (Matrikel-Nummer: xxxxxx)`\n",
    "ausgeben, also z.B.\n",
    "\n",
    "```\n",
    "Wunderland, Alice (Matrikel-Nummer: 123456)\n",
    "```\n",
    "````"
   ]
  },
  {
   "cell_type": "code",
   "execution_count": 13,
   "id": "56fdf7ad",
   "metadata": {},
   "outputs": [
    {
     "name": "stdout",
     "output_type": "stream",
     "text": [
      "Alice Wunderland (123456)\n",
      "Wunderland, Alice (Matrikel-Nummer: 123456)\n",
      "Bob Baumeister (234567)\n",
      "Baumeister, Bob (Matrikel-Nummer: 234567)\n"
     ]
    }
   ],
   "source": [
    "# Ihr Code:\n",
    "\n",
    "class Studierende:\n",
    "    def __init__(self, vorname, nachname, matrikelnummer):\n",
    "        self.vorname = vorname\n",
    "        self.nachname = nachname\n",
    "        self.matrikelnummer = matrikelnummer\n",
    "        \n",
    "    def print_vorname_nachname_matrikelnummer(self):\n",
    "        print('{} {} ({})'.format(self.vorname, self.nachname, self.matrikelnummer))\n",
    "        \n",
    "    def print_nachname_vorname_matrikelnummer(self):\n",
    "        print('{}, {} (Matrikel-Nummer: {})'.format(self.nachname, self.vorname, self.matrikelnummer))\n",
    "        \n",
    "# Test der Klasse\n",
    "student1 = Studierende('Alice', 'Wunderland', 123456)\n",
    "student1.print_vorname_nachname_matrikelnummer()\n",
    "student1.print_nachname_vorname_matrikelnummer()\n",
    "\n",
    "student2 = Studierende('Bob', 'Baumeister', 234567)\n",
    "student2.print_vorname_nachname_matrikelnummer()\n",
    "student2.print_nachname_vorname_matrikelnummer()"
   ]
  },
  {
   "cell_type": "markdown",
   "id": "a12e9783",
   "metadata": {},
   "source": [
    "Bisher hatten wir nur Methoden ohne weitere Eingabe-Parameter (natürlich mit dem\n",
    "self-Parameter, der gehört zu allen Methoden dazu). Methoden können aber auch\n",
    "weitere Parameter haben. Beispielsweise könnte man eine Print-Funktion\n",
    "schreiben, bei der durch einen Parameter gesteuert wird, ob die Adresse in vier\n",
    "oder in einer Zeile angezeigt wird:"
   ]
  },
  {
   "cell_type": "code",
   "execution_count": 14,
   "id": "0547318a",
   "metadata": {},
   "outputs": [],
   "source": [
    "class Adresse:\n",
    "    def __init__(self, strasse, hausnummer, plz, stadt):\n",
    "        self.strasse = strasse\n",
    "        self.hausnummer = hausnummer\n",
    "        self.postleitzahl = plz\n",
    "        self.stadt = stadt\n",
    "    \n",
    "    def print(self, einzeilig):\n",
    "        if einzeilig == True:\n",
    "            print('{} {}, {} {}'.format(self.strasse, self.hausnummer, self.postleitzahl, self.stadt ))\n",
    "        else:    \n",
    "            print('Straße: ', self.strasse)\n",
    "            print('Hausnummer: ', self.hausnummer)\n",
    "            print('Postleitzahl: ', self.postleitzahl)\n",
    "            print('Stadt: ', self.stadt)\n",
    "    "
   ]
  },
  {
   "cell_type": "markdown",
   "id": "825ee852",
   "metadata": {},
   "source": [
    "Probieren wir es aus:"
   ]
  },
  {
   "cell_type": "code",
   "execution_count": 15,
   "id": "180d0206",
   "metadata": {},
   "outputs": [
    {
     "name": "stdout",
     "output_type": "stream",
     "text": [
      "zuerst einzeilig:\n",
      "Nibelungenplatz 1, 60318 Frankfurt am Main\n",
      "\n",
      "und dann vierzeilig:\n",
      "Straße:  Nibelungenplatz\n",
      "Hausnummer:  1\n",
      "Postleitzahl:  60318\n",
      "Stadt:  Frankfurt am Main\n"
     ]
    }
   ],
   "source": [
    "adresse_fra_uas = Adresse('Nibelungenplatz', 1, 60318, 'Frankfurt am Main')\n",
    "\n",
    "print('zuerst einzeilig:')\n",
    "adresse_fra_uas.print(True)\n",
    "\n",
    "print('\\nund dann vierzeilig:')\n",
    "adresse_fra_uas.print(False)"
   ]
  },
  {
   "cell_type": "markdown",
   "id": "b6924cbb",
   "metadata": {},
   "source": [
    "Zuletzt betrachten wir noch Methoden mit Rückgabewert. Wie bei Funktionen auch\n",
    "genügt es mit dem Schlüsselwort `return` den Rückgabewert zu definieren. Sehr\n",
    "häufig ist dabei der Fall, dass eine Eigenschaft des Objektes zurückgegeben\n",
    "wird. Dann wird in der Regel der Methodenname\n",
    "\n",
    "```\n",
    "get_attribut()\n",
    "```\n",
    "\n",
    "gewählt.\n",
    "\n",
    "Aber prinzipiell kann der Rückgabewert auch eine Berechnung oder ähnliches\n",
    "enthalten."
   ]
  },
  {
   "cell_type": "code",
   "execution_count": 16,
   "id": "5f33f372",
   "metadata": {},
   "outputs": [],
   "source": [
    "class Adresse:\n",
    "    def __init__(self, strasse, hausnummer, plz, stadt):\n",
    "        self.strasse = strasse\n",
    "        self.hausnummer = hausnummer\n",
    "        self.postleitzahl = plz\n",
    "        self.stadt = stadt\n",
    "    \n",
    "    def print(self, einzeilig):\n",
    "        if einzeilig == True:\n",
    "            print('{} {}, {} {}'.format(self.strasse, self.hausnummer, self.postleitzahl, self.stadt ))\n",
    "        else:    \n",
    "            print('Straße: ', self.strasse)\n",
    "            print('Hausnummer: ', self.hausnummer)\n",
    "            print('Postleitzahl: ', self.postleitzahl)\n",
    "            print('Stadt: ', self.stadt)\n",
    " \n",
    "    def get_stadt(self, grossschreibung):\n",
    "        if grossschreibung == True:\n",
    "            return self.stadt.upper()\n",
    "        else:\n",
    "            return self.stadt"
   ]
  },
  {
   "cell_type": "markdown",
   "id": "caeabd31",
   "metadata": {},
   "source": [
    "Und auch diese Methode probieren wir aus. Je nachdem, ob die Methode mit `True`\n",
    "oder `False` aufgerufen wird, gibt die Methode den String `self.stadt` zurück,\n",
    "entweder normal geschrieben oder in Großbuchstaben. Dabei haben wir die Methode\n",
    "`.upper()` verwendet, die alle Buchstaben eines Strings in Großbuchstaben\n",
    "verwandelt."
   ]
  },
  {
   "cell_type": "code",
   "execution_count": 17,
   "id": "174f0bbe",
   "metadata": {},
   "outputs": [
    {
     "name": "stdout",
     "output_type": "stream",
     "text": [
      "zuerst normal:\n",
      "Frankfurt am Main\n",
      "\n",
      "und dann groß geschrieben:\n",
      "FRANKFURT AM MAIN\n"
     ]
    }
   ],
   "source": [
    "adresse_fra_uas = Adresse('Nibelungenplatz', 1, 60318, 'Frankfurt am Main')\n",
    "\n",
    "print('zuerst normal:')\n",
    "s = adresse_fra_uas.get_stadt(False)\n",
    "print(s)\n",
    "\n",
    "print('\\nund dann groß geschrieben:')\n",
    "s = adresse_fra_uas.get_stadt(True)\n",
    "print(s)"
   ]
  },
  {
   "cell_type": "markdown",
   "id": "ab0570f5",
   "metadata": {},
   "source": [
    "````{admonition} Mini-Übung\n",
    ":class: miniexercise \n",
    "Erweitern Sie die Klasse zum Verwalten von Studierenden (Vorname, Name, Matrikel-Nummer) um ein Attribut vorleistung_bestanden. Anfangs sollte dieses Attribut auf `False` gesetzt werden. Implementieren Sie eine Methode, die es ermöglicht, dieses Attribut auf `True` zu setzen.\n",
    "\n",
    "Testen Sie anschließend Ihre erweiterte Klasse.\n",
    "````"
   ]
  },
  {
   "cell_type": "code",
   "execution_count": 18,
   "id": "22ea38f9",
   "metadata": {},
   "outputs": [
    {
     "name": "stdout",
     "output_type": "stream",
     "text": [
      "Vorleistung bestanden???\n",
      "False\n",
      "Vorleistung bestanden???\n",
      "True\n"
     ]
    }
   ],
   "source": [
    "# Hier Ihr Code:\n",
    "\n",
    "class Studierende:\n",
    "    def __init__(self, vorname, nachname, matrikelnummer):\n",
    "        self.vorname = vorname\n",
    "        self.nachname = nachname\n",
    "        self.matrikelnummer = matrikelnummer\n",
    "        self.vorleistung_bestanden = False\n",
    "\n",
    "    def print_vorname_nachname_matrikelnummer(self):\n",
    "        print('{} {} (Matrikel-Nummer: {})'.format(self.vorname, self.nachname, self.matrikelnummer))\n",
    "\n",
    "    def print_nachname_vorname_matrikelnummer(self):\n",
    "        print('{}, {} (Matrikel-Nummer: {})'.format(self.nachname, self.vorname, self.matrikelnummer))\n",
    "        \n",
    "    def setze_vorleistung_bestanden(self):\n",
    "        self.vorleistung_bestanden = True\n",
    "        \n",
    "student = Studierende('Bob', 'Baumeister', 234567)\n",
    "\n",
    "print('Vorleistung bestanden???')\n",
    "print(student.vorleistung_bestanden)\n",
    "\n",
    "student.setze_vorleistung_bestanden()\n",
    "print('Vorleistung bestanden???')\n",
    "print(student.vorleistung_bestanden)  "
   ]
  },
  {
   "cell_type": "markdown",
   "id": "51eddfad",
   "metadata": {},
   "source": [
    "<iframe width=\"560\" height=\"315\" src=\"https://www.youtube.com/embed/58IjjwHs_4A\" title=\"YouTube video player\" frameborder=\"0\" allow=\"accelerometer; autoplay; clipboard-write; encrypted-media; gyroscope; picture-in-picture\" allowfullscreen></iframe>"
   ]
  }
 ],
 "metadata": {
  "jupytext": {
   "formats": "ipynb,md:myst",
   "text_representation": {
    "extension": ".md",
    "format_name": "myst",
    "format_version": 0.13,
    "jupytext_version": "1.13.8"
   }
  },
  "kernelspec": {
   "display_name": "Python 3 (ipykernel)",
   "language": "python",
   "name": "python3"
  },
  "language_info": {
   "codemirror_mode": {
    "name": "ipython",
    "version": 3
   },
   "file_extension": ".py",
   "mimetype": "text/x-python",
   "name": "python",
   "nbconvert_exporter": "python",
   "pygments_lexer": "ipython3",
   "version": "3.9.13"
  },
  "source_map": [
   13,
   88,
   95,
   115,
   117,
   122,
   124,
   134,
   138,
   140,
   144,
   146,
   153,
   161,
   173,
   188,
   212,
   227,
   230,
   236,
   254,
   262,
   282,
   305,
   313,
   330,
   334,
   342,
   358,
   380,
   388,
   398,
   407,
   434
  ]
 },
 "nbformat": 4,
 "nbformat_minor": 5
}