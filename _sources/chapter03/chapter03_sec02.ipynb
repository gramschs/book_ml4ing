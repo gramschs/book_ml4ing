{
 "cells": [
  {
   "cell_type": "markdown",
   "id": "dce65875",
   "metadata": {},
   "source": [
    "# 3.2 Statistik mit Pandas\n",
    "\n",
    "Pandas dient nicht nur dazu, Daten zu sammeln, sondern ermöglicht auch\n",
    "statistische Analysen. Die deskriptive Statistik hat zum Ziel, Daten durch\n",
    "einfache Kennzahlen und Diagramme zu beschreiben. In diesem Kapitel geht es\n",
    "darum, die wichtigsten statistischen Kennzahlen mit Pandas zu ermitteln und zu\n",
    "interpretieren. \n",
    "\n",
    "\n",
    "## Lernziele\n",
    "\n",
    "```{admonition} Lernziele\n",
    ":class: important\n",
    "* Sie können sich mit **.describe()** eine Übersicht über statistische Kennzahlen\n",
    "  verschaffen.\n",
    "* Sie wissen, wie Sie die Anzahl der gültigen Einträge mit **.count()** ermitteln.\n",
    "* Sie kennen die statistischen Kennzahlen Mittelwert und Standardabweichung und\n",
    "  wissen, wie diese mit **.mean()** und **.std()** berechnet werden.\n",
    "* Sie können das Minimum und das Maximum mit **.min()** und **.max()** bestimmen.\n",
    "* Sie wissen wie ein Quantil interpretiert wird und wie es mit **.quantile()**\n",
    "  berechnet wird.\n",
    "```\n",
    "\n",
    "\n",
    "## Schnelle Übersicht mit .describe()\n",
    "\n",
    "Die Methode `.describe()` aus dem Pandas-Modul liefert eine schnelle Übersicht\n",
    "über viele statistische Kennzahlen. Vor allem, wenn neue Daten geladen werden,\n",
    "sollte diese Methode direkt am Anfang angewendet werden. Wir bleiben bei unserem\n",
    "Beispiel mit den zehn Autos und deren Verkaufspreisen."
   ]
  },
  {
   "cell_type": "code",
   "execution_count": 1,
   "id": "7aad8a9e",
   "metadata": {},
   "outputs": [],
   "source": [
    "# Import des Pandas-Moduls \n",
    "import pandas as pd\n",
    "\n",
    "# Erzeugung der Daten als Series-Objekt\n",
    "preisliste = [1999, 35990, 17850, 46830, 27443, 14240, 19950, 15950, 21990, 12450]\n",
    "autos = ['Audi Nr. 1', 'Audi Nr. 2', 'Audi Nr. 3', 'BMW Nr. 1', 'BMW Nr. 2', 'Citroen Nr. 1', 'Citroen Nr. 2', 'Citroen Nr. 3', 'Citroen Nr. 4', 'Citroen Nr. 5']\n",
    "preise = pd.Series(preisliste, index = autos)"
   ]
  },
  {
   "cell_type": "markdown",
   "id": "418b33f1",
   "metadata": {},
   "source": [
    "Die Anwendung der `.describe()`-Methode liefert folgende Ausgabe:"
   ]
  },
  {
   "cell_type": "code",
   "execution_count": 2,
   "id": "88cd9c42",
   "metadata": {},
   "outputs": [
    {
     "data": {
      "text/plain": [
       "count       10.000000\n",
       "mean     21469.200000\n",
       "std      12686.587246\n",
       "min       1999.000000\n",
       "25%      14667.500000\n",
       "50%      18900.000000\n",
       "75%      26079.750000\n",
       "max      46830.000000\n",
       "dtype: float64"
      ]
     },
     "execution_count": 2,
     "metadata": {},
     "output_type": "execute_result"
    }
   ],
   "source": [
    "preise.describe()"
   ]
  },
  {
   "cell_type": "markdown",
   "id": "e62bbfd5",
   "metadata": {},
   "source": [
    "Offensichtlich liefert die Methode `.describe()` acht statistische Kennzahlen,\n",
    "deren Bedeutung in der\n",
    "[Pandas-Dokumentation](https://pandas.pydata.org/docs/reference/api/pandas.Series.describe.html)\n",
    "erläutert wird. Wir gehen im Folgenden jede Kennzahl einzeln durch. \n",
    "\n",
    "Aber was machen wir, wenn wir die statistischen Kennzahlen erst später verwenden\n",
    "wollen, können wir sie zwischenspeichern? Probieren wir es aus."
   ]
  },
  {
   "cell_type": "code",
   "execution_count": 3,
   "id": "161500b0",
   "metadata": {},
   "outputs": [],
   "source": [
    "statistische_kennzahlen = preise.describe()"
   ]
  },
  {
   "cell_type": "markdown",
   "id": "2b63287a",
   "metadata": {},
   "source": [
    "Es kommt keine Fehlermeldung. Und was ist in der Variable\n",
    "`statistische_kennzahlen` nun genau gespeichert, welcher Datentyp?"
   ]
  },
  {
   "cell_type": "code",
   "execution_count": 4,
   "id": "2e6379fd",
   "metadata": {},
   "outputs": [
    {
     "data": {
      "text/plain": [
       "pandas.core.series.Series"
      ]
     },
     "execution_count": 4,
     "metadata": {},
     "output_type": "execute_result"
    }
   ],
   "source": [
    "type(statistische_kennzahlen)"
   ]
  },
  {
   "cell_type": "markdown",
   "id": "4da3cd62",
   "metadata": {},
   "source": [
    "Offensichtlich wird durch das Anwenden der `.describe()`-Methode auf das\n",
    "Series-Objekt `preise` ein neues Series-Objekt erzeugt, in dem wiederum die\n",
    "statistischen Kennzahlen von `preise` gespeichert sind. Da wir im letzten\n",
    "Kapitel schon gelernt haben, dass mit eckigen Klammern und dem Index auf einen\n",
    "einzelnen Wert zugegriffen werden kann, können wir uns so den minimalen\n",
    "Verkaufspreis ausgeben lassen:"
   ]
  },
  {
   "cell_type": "code",
   "execution_count": 5,
   "id": "1a6d2ac0",
   "metadata": {},
   "outputs": [
    {
     "name": "stdout",
     "output_type": "stream",
     "text": [
      "Das billigste Auto wird für 1999.0 EUR angeboten.\n"
     ]
    }
   ],
   "source": [
    "minimaler_preis = statistische_kennzahlen['min']\n",
    "print(f'Das billigste Auto wird für {minimaler_preis} EUR angeboten.')"
   ]
  },
  {
   "cell_type": "markdown",
   "id": "0cad6184",
   "metadata": {},
   "source": [
    "```{admonition} Mini-Übung\n",
    ":class: miniexercise\n",
    "Lassen Sie zuerst die Verkaufspreise aufsteigend sortieren und ausgeben. Lesen\n",
    "Sie anhand der Ausgabe ab: welches Auto ist am teuersten und für wieviel Euro\n",
    "wird es bei Autoscout24 angeboten? Lassen Sie dann das Maximum über die\n",
    "statistischen Kennzahlen, d.h. mit .describe() ermitteln. Vergleichen Sie beide\n",
    "Werte.\n",
    "```"
   ]
  },
  {
   "cell_type": "code",
   "execution_count": 6,
   "id": "0112a519",
   "metadata": {},
   "outputs": [],
   "source": [
    "# Hier Ihr Code"
   ]
  },
  {
   "cell_type": "markdown",
   "id": "ef107555",
   "metadata": {},
   "source": [
    "````{admonition} Lösung\n",
    ":class: minisolution, toggle\n",
    "Der folgende Code sortiert die Preise aufsteigend und lässt sie anzeigen:\n",
    "```python\n",
    "preise_aufsteigend = preise.sort_values()\n",
    "print('Preise aufsteigend sortiert: ')\n",
    "print(preise_aufsteigend)\n",
    "```\n",
    "Das teuerste Auto ist der BMW Nr. 1. Er wird für 46830 EUR angeboten. Jetzt wird der maximale Preise über die .describe()-Methode ermittelt.\n",
    "```python\n",
    "statistische_kennzahlen = preise.describe()\n",
    "maximaler_preis = statistische_kennzahlen['max']\n",
    "print(f'Maximaler Preis mit .describe() ermittelt: {maximaler_preis}')\n",
    "```\n",
    "````\n",
    "\n",
    "Neben der Möglichkeit, die statistischen Kennzahlen über .describe() berechnen\n",
    "zu lassen und dann mit dem expliziten Index darauf zuzugreifen, gibt es auch\n",
    "Methoden, um die statistischen Kennzahlen direkt zu ermitteln. \n",
    "\n",
    "## Anzahl count()\n",
    "\n",
    "Mit `.count()` wird die Anzahl der Einträge bestimmt, die *nicht* 'NA' sind. Der\n",
    "Begriff 'NA' ist ein Fachbegriff des maschinellen Lernens. Gemeint sind fehlende\n",
    "Einträge, wobei die fehlenden Einträge verschiedene Ursachen haben können:\n",
    "\n",
    "* NA = not available (der Messsensor hat versagt)\n",
    "* NA = not applicable (es ist sinnlos bei einem Mann nachzufragen, ob er\n",
    "  schwanger ist)\n",
    "* NA = no answer (eine Person hat bei dem Umfrage nichts angegeben)"
   ]
  },
  {
   "cell_type": "code",
   "execution_count": 7,
   "id": "da83906b",
   "metadata": {},
   "outputs": [
    {
     "name": "stdout",
     "output_type": "stream",
     "text": [
      "Im Series-Objekt sind 10 nicht NA-Werte, also gültige Datensätze gespeichert.\n"
     ]
    }
   ],
   "source": [
    "anzahl_gueltige_preise = preise.count()\n",
    "print(f'Im Series-Objekt sind {anzahl_gueltige_preise} nicht NA-Werte, also gültige Datensätze gespeichert.')"
   ]
  },
  {
   "cell_type": "markdown",
   "id": "7e2c32f8",
   "metadata": {},
   "source": [
    "## Mittelwert mean()\n",
    "\n",
    "Der Mittelwert ist die Summe aller Elemente geteilt durch ihre Anzahl. Wie\n",
    "praktisch, dass wir mit .count() schon die Anzahl der gültigen Werte geliefert\n",
    "bekommen. Rechnen wir zuerst einmal \"händisch\" nach, was der durchschnittliche\n",
    "Verkaufspreis der 10 Autos ist."
   ]
  },
  {
   "cell_type": "code",
   "execution_count": 8,
   "id": "db1aea49",
   "metadata": {},
   "outputs": [
    {
     "name": "stdout",
     "output_type": "stream",
     "text": [
      "Die Summe ist 214692 EUR.\n",
      "Der durchschnittliche Verkaufspreis ist 21469.2 EUR.\n"
     ]
    }
   ],
   "source": [
    "preisliste = [1999, 35990, 17850, 46830, 27443, 14240, 19950, 15950, 21990, 12450]\n",
    "summe = 1999 + 35990 + 17850 + 46830 + 27443 + 14240 + 19950 + 15950 + 21990 + 12450\n",
    "print(f'Die Summe ist {summe} EUR.')\n",
    "mittelwert = summe / 10\n",
    "print(f'Der durchschnittliche Verkaufspreis ist {mittelwert} EUR.')"
   ]
  },
  {
   "cell_type": "markdown",
   "id": "accc7e7a",
   "metadata": {},
   "source": [
    "Mittelwert heißt auf Englisch mean. Daher ist es nicht verwunderlich, dass die\n",
    "Methode `.mean()` den Mittelwert der Einträge in jeder Spalte berechnet."
   ]
  },
  {
   "cell_type": "code",
   "execution_count": 9,
   "id": "addd54d7",
   "metadata": {},
   "outputs": [
    {
     "name": "stdout",
     "output_type": "stream",
     "text": [
      "Der mittlere Verkaufspreis beträgt 21469.2 Euro.\n"
     ]
    }
   ],
   "source": [
    "mittelwert = preise.mean()\n",
    "print(f'Der mittlere Verkaufspreis beträgt {mittelwert} Euro.')"
   ]
  },
  {
   "cell_type": "markdown",
   "id": "8486cd10",
   "metadata": {},
   "source": [
    "Falls Sie prinzipiell nochmal die Berechnung des Mittelwertes wiederholen\n",
    "wollen, können Sie folgendes Video ansehen.\n",
    "\n",
    "```{dropdown} Video zu \"Mittelwert\" von Datatab \n",
    "<iframe width=\"560\" height=\"315\" src=\"https://www.youtube.com/embed/IKfsGPwACnU\" \n",
    "title=\"YouTube video player\" frameborder=\"0\" allow=\"accelerometer; autoplay; \n",
    "clipboard-write; encrypted-media; gyroscope; picture-in-picture\" allowfullscreen></iframe>\n",
    "```\n",
    "\n",
    "\n",
    "## Standardabweichung std()\n",
    "\n",
    "Der Mittelwert ist eine sehr wichtige statistische Kennzahl. Allerdings verrät\n",
    "der Mittelwert nicht, wie sich die einzelnen Autopreise relativ zum Mittelwert\n",
    "verhalten. Bei den 10 Autos sehen wir mit einem Blick, dass einzelne Autos sehr\n",
    "stark vom Mittelwert abweichen. Audi Nr. 1 kostet nur 1999 EUR und damit nur\n",
    "circa 10 % vom durchschnittlichen Verkaufspreis. Dafür ist BMW Nr. 1 mehr als\n",
    "doppelt so teuer. Es ist daher wichtig, sich zusätzlich zum Mittelwert\n",
    "anzusehen, wie die anderen Datenpunkte vom Mittelwert abweichen. In der\n",
    "Statistik wird das als **Streuung** bezeichnet. Eine statistische Kennzahl, die\n",
    "die Streuung von Daten um den Mittelwert angibt, ist die **Standardabweichung**.\n",
    "\n",
    "Zur Berechnung der Standardabweichung werden zuerst die Abweichungen jedes\n",
    "Datenpunktes zum Mittelwert berechnet."
   ]
  },
  {
   "cell_type": "code",
   "execution_count": 10,
   "id": "a69d24bf",
   "metadata": {},
   "outputs": [
    {
     "name": "stdout",
     "output_type": "stream",
     "text": [
      "Audi Nr. 1      -19470.2\n",
      "Audi Nr. 2       14520.8\n",
      "Audi Nr. 3       -3619.2\n",
      "BMW Nr. 1        25360.8\n",
      "BMW Nr. 2         5973.8\n",
      "Citroen Nr. 1    -7229.2\n",
      "Citroen Nr. 2    -1519.2\n",
      "Citroen Nr. 3    -5519.2\n",
      "Citroen Nr. 4      520.8\n",
      "Citroen Nr. 5    -9019.2\n",
      "dtype: float64\n"
     ]
    }
   ],
   "source": [
    "mittelwert = preise.mean()\n",
    "differenzen = preise - mittelwert\n",
    "print(differenzen)"
   ]
  },
  {
   "cell_type": "markdown",
   "id": "e36ccca9",
   "metadata": {},
   "source": [
    "Die negativen Vorzeichen stören, wir wollen ja die Abweichung. Daher quadrieren\n",
    "wir die Differenzen."
   ]
  },
  {
   "cell_type": "code",
   "execution_count": 11,
   "id": "0b3879b7",
   "metadata": {},
   "outputs": [
    {
     "name": "stdout",
     "output_type": "stream",
     "text": [
      "Audi Nr. 1       3.790887e+08\n",
      "Audi Nr. 2       2.108536e+08\n",
      "Audi Nr. 3       1.309861e+07\n",
      "BMW Nr. 1        6.431702e+08\n",
      "BMW Nr. 2        3.568629e+07\n",
      "Citroen Nr. 1    5.226133e+07\n",
      "Citroen Nr. 2    2.307969e+06\n",
      "Citroen Nr. 3    3.046157e+07\n",
      "Citroen Nr. 4    2.712326e+05\n",
      "Citroen Nr. 5    8.134597e+07\n",
      "dtype: float64\n"
     ]
    }
   ],
   "source": [
    "quadrate = differenzen * differenzen\n",
    "print(quadrate)"
   ]
  },
  {
   "cell_type": "markdown",
   "id": "f169d71d",
   "metadata": {},
   "source": [
    "Die durchschnittliche Abweichung beschreibt nun, wie weit \"weg\" die anderen\n",
    "Verkaufspreise vom Mittelwert sind. Daher bilden wir nun von den Abweichungen\n",
    "wiederum den Mittelwert. Da Quadrate ein Series-Objekt ist, machen wir das\n",
    "diesmal nicht händisch, sondern nutzen die Methode `.mean()`."
   ]
  },
  {
   "cell_type": "code",
   "execution_count": 12,
   "id": "e0fff1d4",
   "metadata": {},
   "outputs": [
    {
     "name": "stdout",
     "output_type": "stream",
     "text": [
      "Die durchschnittliche Abweichung ist 144854546.36000004.\n"
     ]
    }
   ],
   "source": [
    "durchschnittliche_abweichungen = quadrate.mean()\n",
    "print(f'Die durchschnittliche Abweichung ist {durchschnittliche_abweichungen}.')"
   ]
  },
  {
   "cell_type": "markdown",
   "id": "6e3482ab",
   "metadata": {},
   "source": [
    "Wenn wir die durchschnittliche Abweichung wiederum als Verkaufspreis gemessen in\n",
    "Euro interpretieren wollen, gibt es ein Problem. Offensichtlich ist diese Zahl\n",
    "soviel größer als das teuerste Auto. Das ist nicht verwunderlich, denn wir haben\n",
    "ja die quadrierten Differenzen genommen. Die Einheit der durchschnittlichen\n",
    "Abweichung ist also EUR². Das ist aber unpraktisch. Also ziehen wir wieder die\n",
    "Wurzel, damit wir ein Maß für die durchschnittliche Abweichung haben, das auch\n",
    "direkt Verkaufspreise widerspiegelt. Das nennen wir dann Standardabweichung."
   ]
  },
  {
   "cell_type": "code",
   "execution_count": 13,
   "id": "6f80ca0d",
   "metadata": {},
   "outputs": [
    {
     "name": "stdout",
     "output_type": "stream",
     "text": [
      "Die Standardabweichung ist 12035.55 EUR.\n"
     ]
    }
   ],
   "source": [
    "standardabweichung = quadrate.mean()**0.5\n",
    "print(f'Die Standardabweichung ist {standardabweichung:.2f} EUR.')"
   ]
  },
  {
   "cell_type": "markdown",
   "id": "a9d98478",
   "metadata": {},
   "source": [
    "Benutzen wir Pandas, so liefert die Methode `.std()` die Standardabweichung. Das\n",
    "'st' in `.std()` für Standard steht, ist nachvollziehbar. Der dritte Buchstabe\n",
    "'d' kommt von 'deviation', also Abweichung. Somit ist wiederum die Methode nach\n",
    "dem englischen Fachbegriff 'standard deviation' benannt. Probieren wir die\n",
    "Methode für die Autopreise aus."
   ]
  },
  {
   "cell_type": "code",
   "execution_count": 14,
   "id": "13b1c7c9",
   "metadata": {},
   "outputs": [
    {
     "name": "stdout",
     "output_type": "stream",
     "text": [
      "Die Standardabweichung bei den Verkaufspreisen beträgt 12686.587246204379 Euro.\n"
     ]
    }
   ],
   "source": [
    "standardabweichung = preise.std()\n",
    "print(f'Die Standardabweichung bei den Verkaufspreisen beträgt {standardabweichung} Euro.')"
   ]
  },
  {
   "cell_type": "markdown",
   "id": "3d19eb7c",
   "metadata": {},
   "source": [
    "Der Wert, den Pandas berechnet, unterscheidet sich von dem Wert, den wir\n",
    "\"händisch\" berechnet haben. Der Unterschied kommt daher, dass es zwei Formeln\n",
    "zur Berechnung der Standardabweichung gibt. Einmal wird der Durchschnitt über\n",
    "die Quadrate gebildet, indem die Summe durch die Anzahl aller Elemente geteilt\n",
    "wird, so wie wir es getan haben. Wir haben durch 10 geteilt. Bei der anderen\n",
    "Formel wird die Summe der Quadrate durch 9 geteilt.\n",
    "\n",
    "\n",
    "\n",
    "Was war eigentlich nochmal die Standardabweichung? Falls Sie dazu eine kurze\n",
    "Wiederholung der Theorie benötigen, empfehle ich Ihnen dieses Video.\n",
    "\n",
    "```{dropdown} Video zu \"Standardabweichung\" von Datatab\n",
    "<iframe width=\"560\" height=\"315\" src=\"https://www.youtube.com/embed/QNNt7BvmUJM\" \n",
    "title=\"YouTube video player\" frameborder=\"0\" allow=\"accelerometer; autoplay; \n",
    "clipboard-write; encrypted-media; gyroscope; picture-in-picture\" allowfullscreen></iframe>\n",
    "```\n",
    "\n",
    "\n",
    "## Minimum und Maximum mit min() und max()\n",
    "\n",
    "Die Namen der Methoden `.min()` und `max()` sind fast schon wieder\n",
    "selbsterklärend. Die Methode `.min()` liefert den kleinsten Wert zurück, der\n",
    "gefunden wird. Umgekehrt liefert `.max()` den größten Eintrag. Wie häufig die\n",
    "minimalen und maximalen Werte vorkommen, ist dabei egal. Es kann durchaus sein,\n",
    "dass das Minimum oder das Maximum mehrfach vorkommt.\n",
    "\n",
    "Schauen wir uns an, was der niedrigste Verkaufspreis ist. Und dann schauen wir\n",
    "nach, welches Auto am teuersten ist."
   ]
  },
  {
   "cell_type": "code",
   "execution_count": 15,
   "id": "a797cefc",
   "metadata": {},
   "outputs": [
    {
     "name": "stdout",
     "output_type": "stream",
     "text": [
      "Das billigste oder die billigsten Autos werden zum Preis von 1999 EUR angeboten.\n",
      "Das teuerste oder die teuersten Autos werden für 46830 EUR angeboten.\n"
     ]
    }
   ],
   "source": [
    "preis_min = preise.min()\n",
    "print(f'Das billigste oder die billigsten Autos werden zum Preis von {preis_min} EUR angeboten.')\n",
    "\n",
    "preis_max = preise.max()\n",
    "print(f'Das teuerste oder die teuersten Autos werden für {preis_max} EUR angeboten.')"
   ]
  },
  {
   "cell_type": "markdown",
   "id": "3b1835f5",
   "metadata": {},
   "source": [
    "## Quantil mit quantile()\n",
    "\n",
    "Das Quantil $p \\%$ ist der Wert, bei dem $p %$ der Einträge kleiner oder gleich\n",
    "als diese Zahl sind und $100 \\% - p \\%$ sind größer. Meist werden nicht\n",
    "Prozentzahlen verwendet, sondern p ist zwischen 0 und 1, wobei die 1 für 100 %\n",
    "steht. \n",
    "\n",
    "Angenommen, wir würden gerne das 0.5-Quantil (auch Median genannt) der Preise\n",
    "wissen. Mit der Methode `.quantile()` können wir diesen Wert leicht aus den\n",
    "Daten holen."
   ]
  },
  {
   "cell_type": "code",
   "execution_count": 16,
   "id": "ade4ac8b",
   "metadata": {},
   "outputs": [
    {
     "name": "stdout",
     "output_type": "stream",
     "text": [
      "Der Median, d.h. das 50 % Quantil, liegt bei 18900.0 EUR.\n"
     ]
    }
   ],
   "source": [
    "quantil50 =preise.quantile(0.5)\n",
    "print(f'Der Median, d.h. das 50 % Quantil, liegt bei {quantil50} EUR.')"
   ]
  },
  {
   "cell_type": "markdown",
   "id": "d2440bda",
   "metadata": {},
   "source": [
    "Das 50 % -Quantil liegt bei 18900 EUR. 50 % aller Autos werden zu einem Preis\n",
    "angeboten, der kleiner oder gleich 18900 EUR ist. Und 50 % aller Autos werden\n",
    "teuer angeboten. Wir schauen uns jetzt das 75 % Quantil an."
   ]
  },
  {
   "cell_type": "code",
   "execution_count": 17,
   "id": "59eb8805",
   "metadata": {},
   "outputs": [
    {
     "name": "stdout",
     "output_type": "stream",
     "text": [
      "75 % aller Autos haben einen Preis kleiner gleich 26079.75 EUR.\n"
     ]
    }
   ],
   "source": [
    "quantil75 = preise.quantile(0.75)\n",
    "print(f'75 % aller Autos haben einen Preis kleiner gleich {quantil75} EUR.')"
   ]
  },
  {
   "cell_type": "markdown",
   "id": "68bfc370",
   "metadata": {},
   "source": [
    "75 % aller Autos werden günstiger als 26079.75 EUR angeboten. Auch wenn Sie sich\n",
    "natürlich für jede beliebigen Prozentsatz zwischen 0 % und 100 % das Quantil\n",
    "ansehen können, interessieren wir uns noch für das 25 % Quantil."
   ]
  },
  {
   "cell_type": "code",
   "execution_count": 18,
   "id": "c1de52b0",
   "metadata": {},
   "outputs": [
    {
     "name": "stdout",
     "output_type": "stream",
     "text": [
      "25 % aller Autos haben einen Preis kleiner gleich 14667.5 EUR.\n"
     ]
    }
   ],
   "source": [
    "quantil25 = preise.quantile(0.25)\n",
    "print(f'25 % aller Autos haben einen Preis kleiner gleich {quantil25} EUR.')"
   ]
  },
  {
   "cell_type": "markdown",
   "id": "5142b3dc",
   "metadata": {},
   "source": [
    "## Zusammenfassung und Ausblick\n",
    "\n",
    "In diesem Abschnitt haben wir uns mit einfachen statistischen Kennzahlen\n",
    "beschäftigt, die Pandas mit der Methode `.describe()` zusammenfasst, die aber\n",
    "auch einzeln über \n",
    "\n",
    "* `.count()`\n",
    "* `.mean()`\n",
    "* `.std()`\n",
    "* `.min()` und `.max()`\n",
    "* `.quantile()`\n",
    "\n",
    "berechnet und ausgegeben werden können. Im nächsten Kapitel geht es darum, durch\n",
    "Diagramme mehr über die Daten zu erfahren."
   ]
  }
 ],
 "metadata": {
  "jupytext": {
   "formats": "ipynb,md:myst",
   "text_representation": {
    "extension": ".md",
    "format_name": "myst",
    "format_version": 0.13,
    "jupytext_version": "1.14.7"
   }
  },
  "kernelspec": {
   "display_name": "Python 3 (ipykernel)",
   "language": "python",
   "name": "python3"
  },
  "language_info": {
   "codemirror_mode": {
    "name": "ipython",
    "version": 3
   },
   "file_extension": ".py",
   "mimetype": "text/x-python",
   "name": "python",
   "nbconvert_exporter": "python",
   "pygments_lexer": "ipython3",
   "version": "3.10.11"
  },
  "source_map": [
   13,
   46,
   54,
   58,
   60,
   70,
   72,
   77,
   79,
   88,
   91,
   101,
   103,
   135,
   138,
   148,
   154,
   159,
   162,
   189,
   193,
   198,
   201,
   208,
   211,
   221,
   224,
   232,
   235,
   267,
   273,
   287,
   290,
   296,
   299,
   305,
   308
  ]
 },
 "nbformat": 4,
 "nbformat_minor": 5
}