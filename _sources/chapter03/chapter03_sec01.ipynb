{
 "cells": [
  {
   "cell_type": "markdown",
   "id": "fc541457",
   "metadata": {},
   "source": [
    "# 3.1 Pandas Series\n",
    "\n",
    "Eine **Series** ist eine von zwei grundlegenden Datenstrukturen des\n",
    "Pandas-Moduls. Die Series dient vor allem dazu, Daten zu verwalten und\n",
    "statistisch zu erkunden. Bevor wir die neue Datenstruktur näher beleuchten,\n",
    "machen wir uns aber zuerst mit dem **Modul Pandas** vertraut.\n",
    "\n",
    "\n",
    "## Lernziele\n",
    "\n",
    "```{admonition} Lernziele\n",
    ":class: important\n",
    "* Sie können erklären, was ein **Modul** in Python ist.\n",
    "* Sie kennen das Modul **Pandas** und können es mit seiner üblichen Abkürzung\n",
    "  **pd** importieren.\n",
    "* Sie kennen die Pandas-Datenstruktur **Series**.\n",
    "* Sie wissen, was ein **Index** ist.\n",
    "* Sie können aus Listen eine Series-Objekt erzeugen und mit einem Index\n",
    "  versehen.\n",
    "* Sie können mit Series-Objekten rechnen.\n",
    "* Sie können die Elemente eines Series-Objektes mit **sort_values()**\n",
    "  aufsteigend und absteigend sortieren lassen.\n",
    "```\n",
    "\n",
    "\n",
    "## Das Modul Pandas\n",
    "\n",
    "Stellen Sie sich vor, Sie möchten Spaghetti mit Tomatensauce kochen. Am\n",
    "einfachsten ist es, die Spaghetti-Nudeln und die Tomatensauce im Supermarkt zu\n",
    "kaufen. Sie können aber auch nur die Nudeln kaufen und die Tomatensauce selbst\n",
    "aus Tomaten und Basilikum zubereiten. Oder Sie gehen noch einen Schritt weiter\n",
    "und machen sogar die Nudeln aus Mehl, Eiern, Wasser und Salz selbst. \n",
    "\n",
    "In der Programmierung verhält es sich ähnlich. Sie können alle Funktionalitäten\n",
    "(d.h. die Spagehtti oder die Tomatensauce) selbst programmieren. Oder sie\n",
    "verwenden schon fertige Komponenten und setzen Sie so zusammen, wie Sie es zur\n",
    "Lösung ihres Problems brauchen. Eine Sammlung von fertigen Python-Komponenten zu\n",
    "einem bestimmten Thema wird **Modul** genannt. In anderen Programmiersprachen\n",
    "oder allgemein in der Informatik nennt man eine solche Sammlung auch\n",
    "**Bibliothek** oder verwendet den englischen Begriff **Library**.\n",
    "\n",
    "```{admonition} Was ist ... ein Modul?\n",
    ":class: note\n",
    "Ein Modul (oder eine Bibliothek oder eine Library) ist eine Sammlung von\n",
    "Python-Code zu einem bestimmten Thema, der als Werkzeug für eigene Programme\n",
    "eingesetzt werden kann.\n",
    "```\n",
    "\n",
    "Um ein Modul in Python benutzen zu können, muss es zunächst einmal installiert\n",
    "sein. Um dann die Funktionen, Klassen, Datentypen oder Konstanten benutzen zu\n",
    "können, die das Modul zur Verfügung stellt, wird es importiert. Wir werden in\n",
    "dieser Vorlesung sehr intensiv das Modul **Pandas** verwenden. Pandas ist ein\n",
    "Modul zur Verarbeitung und Analyse von Daten. Es ist üblich, das Modul `pandas`\n",
    "mit der Abkürzung `pd` zu importieren, damit wir nicht immer `pandas` schreiben\n",
    "müssen, wenn wir Code aus dem Pandas-Modul benutzen."
   ]
  },
  {
   "cell_type": "code",
   "execution_count": 1,
   "id": "35bf60a1",
   "metadata": {},
   "outputs": [],
   "source": [
    "import pandas as pd"
   ]
  },
  {
   "cell_type": "markdown",
   "id": "6154bd55",
   "metadata": {},
   "source": [
    "Sollten Sie jetzt eine Fehlermeldung erhalten haben, ist das Pandas-Modul nicht\n",
    "installiert. Installieren Sie zunächst Pandas beispielsweise mit `!conda install\n",
    "pandas` oder `!pip install pandas`. Mit der Funktion `dir()` werden alle\n",
    "Funktionalitäten des Moduls aufgelistet."
   ]
  },
  {
   "cell_type": "code",
   "execution_count": 2,
   "id": "63b12f3a",
   "metadata": {},
   "outputs": [
    {
     "data": {
      "text/plain": [
       "['ArrowDtype',\n",
       " 'BooleanDtype',\n",
       " 'Categorical',\n",
       " 'CategoricalDtype',\n",
       " 'CategoricalIndex',\n",
       " 'DataFrame',\n",
       " 'DateOffset',\n",
       " 'DatetimeIndex',\n",
       " 'DatetimeTZDtype',\n",
       " 'ExcelFile',\n",
       " 'ExcelWriter',\n",
       " 'Flags',\n",
       " 'Float32Dtype',\n",
       " 'Float64Dtype',\n",
       " 'Float64Index',\n",
       " 'Grouper',\n",
       " 'HDFStore',\n",
       " 'Index',\n",
       " 'IndexSlice',\n",
       " 'Int16Dtype',\n",
       " 'Int32Dtype',\n",
       " 'Int64Dtype',\n",
       " 'Int64Index',\n",
       " 'Int8Dtype',\n",
       " 'Interval',\n",
       " 'IntervalDtype',\n",
       " 'IntervalIndex',\n",
       " 'MultiIndex',\n",
       " 'NA',\n",
       " 'NaT',\n",
       " 'NamedAgg',\n",
       " 'Period',\n",
       " 'PeriodDtype',\n",
       " 'PeriodIndex',\n",
       " 'RangeIndex',\n",
       " 'Series',\n",
       " 'SparseDtype',\n",
       " 'StringDtype',\n",
       " 'Timedelta',\n",
       " 'TimedeltaIndex',\n",
       " 'Timestamp',\n",
       " 'UInt16Dtype',\n",
       " 'UInt32Dtype',\n",
       " 'UInt64Dtype',\n",
       " 'UInt64Index',\n",
       " 'UInt8Dtype',\n",
       " '__all__',\n",
       " '__builtins__',\n",
       " '__cached__',\n",
       " '__deprecated_num_index_names',\n",
       " '__dir__',\n",
       " '__doc__',\n",
       " '__docformat__',\n",
       " '__file__',\n",
       " '__getattr__',\n",
       " '__git_version__',\n",
       " '__loader__',\n",
       " '__name__',\n",
       " '__package__',\n",
       " '__path__',\n",
       " '__spec__',\n",
       " '__version__',\n",
       " '_config',\n",
       " '_is_numpy_dev',\n",
       " '_libs',\n",
       " '_testing',\n",
       " '_typing',\n",
       " '_version',\n",
       " 'annotations',\n",
       " 'api',\n",
       " 'array',\n",
       " 'arrays',\n",
       " 'bdate_range',\n",
       " 'compat',\n",
       " 'concat',\n",
       " 'core',\n",
       " 'crosstab',\n",
       " 'cut',\n",
       " 'date_range',\n",
       " 'describe_option',\n",
       " 'errors',\n",
       " 'eval',\n",
       " 'factorize',\n",
       " 'from_dummies',\n",
       " 'get_dummies',\n",
       " 'get_option',\n",
       " 'infer_freq',\n",
       " 'interval_range',\n",
       " 'io',\n",
       " 'isna',\n",
       " 'isnull',\n",
       " 'json_normalize',\n",
       " 'lreshape',\n",
       " 'melt',\n",
       " 'merge',\n",
       " 'merge_asof',\n",
       " 'merge_ordered',\n",
       " 'notna',\n",
       " 'notnull',\n",
       " 'offsets',\n",
       " 'option_context',\n",
       " 'options',\n",
       " 'pandas',\n",
       " 'period_range',\n",
       " 'pivot',\n",
       " 'pivot_table',\n",
       " 'plotting',\n",
       " 'qcut',\n",
       " 'read_clipboard',\n",
       " 'read_csv',\n",
       " 'read_excel',\n",
       " 'read_feather',\n",
       " 'read_fwf',\n",
       " 'read_gbq',\n",
       " 'read_hdf',\n",
       " 'read_html',\n",
       " 'read_json',\n",
       " 'read_orc',\n",
       " 'read_parquet',\n",
       " 'read_pickle',\n",
       " 'read_sas',\n",
       " 'read_spss',\n",
       " 'read_sql',\n",
       " 'read_sql_query',\n",
       " 'read_sql_table',\n",
       " 'read_stata',\n",
       " 'read_table',\n",
       " 'read_xml',\n",
       " 'reset_option',\n",
       " 'set_eng_float_format',\n",
       " 'set_option',\n",
       " 'show_versions',\n",
       " 'test',\n",
       " 'testing',\n",
       " 'timedelta_range',\n",
       " 'to_datetime',\n",
       " 'to_numeric',\n",
       " 'to_pickle',\n",
       " 'to_timedelta',\n",
       " 'tseries',\n",
       " 'unique',\n",
       " 'util',\n",
       " 'value_counts',\n",
       " 'wide_to_long']"
      ]
     },
     "execution_count": 2,
     "metadata": {},
     "output_type": "execute_result"
    }
   ],
   "source": [
    "dir(pd)"
   ]
  },
  {
   "cell_type": "markdown",
   "id": "8b3d83c4",
   "metadata": {},
   "source": [
    "Eine sehr lange Liste.\n",
    "\n",
    "## Die Datenstruktur Series\n",
    "\n",
    "Einfache Listen reichen nicht aus, um größere Datenmengen oder Tabellen\n",
    "effizient zu speichern. Dazu benutzen Data Scientists die Datenstrukturen\n",
    "`Series` oder `DataFrame` aus dem Pandas-Modul. Dabei wird **Series** für\n",
    "Datenreihen genommen. Damit sind Vektoren gemeint, wenn alle Elemente der\n",
    "Datenreihe aus Zahlen bestehen, oder eindimensionale Arrays. Die Datenstruktur\n",
    "**DataFrame** wiederum dient zum Speichern und Verarbeiten von tabellierten\n",
    "Daten, also sozusagen Matrizen, wenn alle Elemente Zahlen sind, oder\n",
    "zweidimensionale Arrays.\n",
    "\n",
    "Wir starten mit der Datenstruktur Series. Als Beispiel betrachten wir die\n",
    "Verkaufspreise (in Euro) von zehn Autos. Die Daten stammen von der\n",
    "Internetplattform [Autoscout24](https://www.autoscout24.de). Die Preise kommen\n",
    "zunächst in eine Liste (erkennbar an den eckigen Klammern), aus der dann ein\n",
    "Series-Objekt erzeugt wird."
   ]
  },
  {
   "cell_type": "code",
   "execution_count": 3,
   "id": "a59df78c",
   "metadata": {},
   "outputs": [
    {
     "name": "stdout",
     "output_type": "stream",
     "text": [
      "0     1999\n",
      "1    35990\n",
      "2    17850\n",
      "3    46830\n",
      "4    27443\n",
      "5    14240\n",
      "6    19950\n",
      "7    15950\n",
      "8    21990\n",
      "9    12450\n",
      "dtype: int64\n"
     ]
    }
   ],
   "source": [
    "preisliste = [1999, 35990, 17850, 46830, 27443, 14240, 19950, 15950, 21990, 12450]\n",
    "preise = pd.Series(preisliste)\n",
    "print(preise)"
   ]
  },
  {
   "cell_type": "markdown",
   "id": "7c5b1254",
   "metadata": {},
   "source": [
    "Was ist aber jetzt der Vorteil von Pandas? Warum nicht einfach bei der Liste\n",
    "bleiben? Der wichtigste Unterschied zwischen Liste und Series ist der **Index**.\n",
    "\n",
    "Bei einer Liste ist der Index implizit definiert. Damit ist gemeint, dass bei\n",
    "der Initialisierung einer Liste automatisch ein nummerierter Index 0, 1, 2, 3,\n",
    "... angelegt wird. Wenn bei einer Liste auf das dritte Element zugegriffen\n",
    "werden soll, dann verwenden wir den Index 2 (zur Erinnerung: Python zählt ab 0)\n",
    "und schreiben"
   ]
  },
  {
   "cell_type": "code",
   "execution_count": 4,
   "id": "878b4c2b",
   "metadata": {},
   "outputs": [
    {
     "name": "stdout",
     "output_type": "stream",
     "text": [
      "Preis des dritten Autos: 17850 EUR\n"
     ]
    }
   ],
   "source": [
    "preis_drittes_auto = preisliste[2]\n",
    "print(f'Preis des dritten Autos: {preis_drittes_auto} EUR')"
   ]
  },
  {
   "cell_type": "markdown",
   "id": "667ebfce",
   "metadata": {},
   "source": [
    "Die Datenstruktur Series ermöglich es aber, einen *expliziten Index* zu setzen.\n",
    "Über den optionalen Parameter `index=` speichern wir als Zusatzinformation noch\n",
    "ab, von welchem Auto der Verkaufspreis erfasst wurde. Wir werden diesen\n",
    "Datensatz in den folgenden Kapiteln noch weiter vertiefen. An dieser Stelle\n",
    "halten wir fest, dass die ersten drei Autos von der Marke Audi sind, die\n",
    "nächsten sind BMWs und die letzten fünf sind von der Marke Citroen."
   ]
  },
  {
   "cell_type": "code",
   "execution_count": 5,
   "id": "12bd16ab",
   "metadata": {},
   "outputs": [
    {
     "name": "stdout",
     "output_type": "stream",
     "text": [
      "Audi Nr. 1        1999\n",
      "Audi Nr. 2       35990\n",
      "Audi Nr. 3       17850\n",
      "BMW Nr. 1        46830\n",
      "BMW Nr. 2        27443\n",
      "Citroen Nr. 1    14240\n",
      "Citroen Nr. 2    19950\n",
      "Citroen Nr. 3    15950\n",
      "Citroen Nr. 4    21990\n",
      "Citroen Nr. 5    12450\n",
      "dtype: int64\n"
     ]
    }
   ],
   "source": [
    "autos = ['Audi Nr. 1', 'Audi Nr. 2', 'Audi Nr. 3', 'BMW Nr. 1', 'BMW Nr. 2', 'Citroen Nr. 1', 'Citroen Nr. 2', 'Citroen Nr. 3', 'Citroen Nr. 4', 'Citroen Nr. 5']\n",
    "preise = pd.Series(preisliste, index = autos)\n",
    "print(preise)"
   ]
  },
  {
   "cell_type": "markdown",
   "id": "8c9d9b2e",
   "metadata": {},
   "source": [
    "Jetzt ist auch klar, warum beim ersten Mal, als wir `print(preise)` ausgeführt\n",
    "haben, die Zahlen 0, 1, 2, usw. ausgegeben wurden. Zu dem Zeitpunkt hatte das\n",
    "Series-Objekt noch einen impliziten Index wie eine Liste. Den expliziten Index\n",
    "nutzen wir jetzt, um auf den Verkaufspreis des dritten Autos zuzugreifen. Das\n",
    "dritte Auto ist `Audi Nr. 3`. Wie bei Listen verwenden wir eckige Klammern:"
   ]
  },
  {
   "cell_type": "code",
   "execution_count": 6,
   "id": "354e3556",
   "metadata": {},
   "outputs": [
    {
     "name": "stdout",
     "output_type": "stream",
     "text": [
      "Preis des dritten Autos: 17850 EUR\n"
     ]
    }
   ],
   "source": [
    "preis_drittes_auto = preise['Audi Nr. 3']\n",
    "print(f'Preis des dritten Autos: {preis_drittes_auto} EUR')"
   ]
  },
  {
   "cell_type": "markdown",
   "id": "c85f1595",
   "metadata": {},
   "source": [
    "Die Datenstruktur Series hat gegenüber der Liste noch einen weiteren Vorteil. In\n",
    "der Datenstruktur ist noch eine Zusatzinformation gespeichert, die Eigenschaft\n",
    "`dtype`. Darin gespeichert ist der Datentyp der Elemente des Series-Objektes.\n",
    "Auf diese Eigenschaft kann auch direkt mit dem sogenannten Punktoperator\n",
    "zugegegriffen werden."
   ]
  },
  {
   "cell_type": "code",
   "execution_count": 7,
   "id": "9513d403",
   "metadata": {},
   "outputs": [
    {
     "name": "stdout",
     "output_type": "stream",
     "text": [
      "Die einzelnen Elemente des Series-Objektes \"preise\" haben den Datentyp int64, sind also Integer.\n"
     ]
    }
   ],
   "source": [
    "datentyp_preise = preise.dtype\n",
    "print(f'Die einzelnen Elemente des Series-Objektes \"preise\" haben den Datentyp {datentyp_preise}, sind also Integer.')"
   ]
  },
  {
   "cell_type": "markdown",
   "id": "2e619077",
   "metadata": {},
   "source": [
    "Offensichtlich sind die gespeicherten Werte Integer.\n",
    "\n",
    "```{admonition} Mini-Übung\n",
    ":class: miniexercise \n",
    "Erzeugen Sie ein Series-Objekt mit den Wochentagen als Index und der Anzahl der\n",
    "Vorlesungsstunden (SWS) an diesem Wochentag.\n",
    "```"
   ]
  },
  {
   "cell_type": "code",
   "execution_count": 8,
   "id": "96c4eab3",
   "metadata": {},
   "outputs": [],
   "source": [
    "# Hier Ihr Code:"
   ]
  },
  {
   "cell_type": "markdown",
   "id": "3feaf939",
   "metadata": {},
   "source": [
    "````{admonition} Lösung\n",
    ":class: minisolution, toggle\n",
    "```python\n",
    "stundenplan = pd.Series([4, 0, 4, 6, 8], index=['Montag', 'Dienstag', 'Mittwoch', 'Donnerstag', 'Freitag'])\n",
    "print(stundenplan)\n",
    "```\n",
    "````\n",
    "\n",
    "## Arbeiten mit Series-Objekten\n",
    "\n",
    "Falls der Datentyp der einzelnen Elemente eines Series-Objektes ein numerischer\n",
    "Typ ist (Integer oder Float), können wir mit den Einträgen auch rechnen. So\n",
    "lassen sich beispielweise die Preise nicht in Euro, sondern als Preis pro\n",
    "Tausend Euro angeben, wenn wir alle Preise durch 1000 teilen."
   ]
  },
  {
   "cell_type": "code",
   "execution_count": 9,
   "id": "74b1efbe",
   "metadata": {},
   "outputs": [
    {
     "name": "stdout",
     "output_type": "stream",
     "text": [
      "Audi Nr. 1        1.999\n",
      "Audi Nr. 2       35.990\n",
      "Audi Nr. 3       17.850\n",
      "BMW Nr. 1        46.830\n",
      "BMW Nr. 2        27.443\n",
      "Citroen Nr. 1    14.240\n",
      "Citroen Nr. 2    19.950\n",
      "Citroen Nr. 3    15.950\n",
      "Citroen Nr. 4    21.990\n",
      "Citroen Nr. 5    12.450\n",
      "dtype: float64\n"
     ]
    }
   ],
   "source": [
    "preise_pro_1000euro = preise / 1000\n",
    "print(preise_pro_1000euro)"
   ]
  },
  {
   "cell_type": "markdown",
   "id": "31361496",
   "metadata": {},
   "source": [
    "Oder Sie könnten auf die Idee kommen, das billigste Auto auf den Preis 0 zu\n",
    "setzen und sich ausgeben lassen, um wie viel Euro die anderen Autos teuer sind.\n",
    "Oder anders ausgedrückt, wir subtrahieren von jedem Preis den Wert 1999 EUR:"
   ]
  },
  {
   "cell_type": "code",
   "execution_count": 10,
   "id": "a23d34d4",
   "metadata": {},
   "outputs": [
    {
     "name": "stdout",
     "output_type": "stream",
     "text": [
      "Audi Nr. 1           0\n",
      "Audi Nr. 2       33991\n",
      "Audi Nr. 3       15851\n",
      "BMW Nr. 1        44831\n",
      "BMW Nr. 2        25444\n",
      "Citroen Nr. 1    12241\n",
      "Citroen Nr. 2    17951\n",
      "Citroen Nr. 3    13951\n",
      "Citroen Nr. 4    19991\n",
      "Citroen Nr. 5    10451\n",
      "dtype: int64\n"
     ]
    }
   ],
   "source": [
    "preise_differenz = preise - 1999\n",
    "print(preise_differenz)"
   ]
  },
  {
   "cell_type": "markdown",
   "id": "dd40a553",
   "metadata": {},
   "source": [
    "Bei zehn Autos war es relativ einfach, das billigste Auto zu ermitteln, indem\n",
    "wir einfach die Preisliste durchgeschaut haben. Hilfreicher ist es, vorher die\n",
    "Preise aufsteigend oder absteigend zu sortieren. Dazu nutzen wir die Methode\n",
    "`.sort_values()`. Der Name lässt vermuten, dass die Methode die Elemente nach\n",
    "ihrem Wert sortiert."
   ]
  },
  {
   "cell_type": "code",
   "execution_count": 11,
   "id": "a9e55c72",
   "metadata": {},
   "outputs": [
    {
     "name": "stdout",
     "output_type": "stream",
     "text": [
      "Audi Nr. 1        1999\n",
      "Citroen Nr. 5    12450\n",
      "Citroen Nr. 1    14240\n",
      "Citroen Nr. 3    15950\n",
      "Audi Nr. 3       17850\n",
      "Citroen Nr. 2    19950\n",
      "Citroen Nr. 4    21990\n",
      "BMW Nr. 2        27443\n",
      "Audi Nr. 2       35990\n",
      "BMW Nr. 1        46830\n",
      "dtype: int64\n"
     ]
    }
   ],
   "source": [
    "preise_aufsteigend = preise.sort_values()\n",
    "print(preise_aufsteigend)"
   ]
  },
  {
   "cell_type": "markdown",
   "id": "f1e9d401",
   "metadata": {},
   "source": [
    "Jetzt zeigt sich auch der Vorteil des expliziten Index, denn auf die\n",
    "ursprüngliche Reihenfolge kommt es nicht an. Der explizite Index ermöglicht uns,\n",
    "jedes Auto auch in der nach Preisen aufsteigend sortierten Liste eindeutig\n",
    "wiederzufinden. Zum Abschluss sortieren wir noch absteigend. Mit dem optionalen\n",
    "Argument `ascending` wird gesteuert, ob aufsteigend sortiert werden soll oder\n",
    "nicht. Fehlt das Argument, so nimmt der Python-Interpreter an, dass `ascending =\n",
    "True` gewünscht wird, also dass `aufsteigend = wahr` sein soll. Wollen wir\n",
    "absteigend sortieren, müssen wir `aufsteigend = falsch` setzen, also `ascending\n",
    " = False`."
   ]
  },
  {
   "cell_type": "code",
   "execution_count": 12,
   "id": "1a308273",
   "metadata": {},
   "outputs": [
    {
     "name": "stdout",
     "output_type": "stream",
     "text": [
      "BMW Nr. 1        46830\n",
      "Audi Nr. 2       35990\n",
      "BMW Nr. 2        27443\n",
      "Citroen Nr. 4    21990\n",
      "Citroen Nr. 2    19950\n",
      "Audi Nr. 3       17850\n",
      "Citroen Nr. 3    15950\n",
      "Citroen Nr. 1    14240\n",
      "Citroen Nr. 5    12450\n",
      "Audi Nr. 1        1999\n",
      "dtype: int64\n"
     ]
    }
   ],
   "source": [
    "preise_absteigend = preise.sort_values(ascending = False)\n",
    "print(preise_absteigend)"
   ]
  },
  {
   "cell_type": "markdown",
   "id": "0b861cc7",
   "metadata": {},
   "source": [
    "Vielleicht ist Ihnen aufgefallen, dass wir das sortierte Series-Objekt gleich in\n",
    "einer neuen Vaiable abgespeichert haben. Das ist notwendig, wenn die neue\n",
    "Sortierung erhalten bleiben soll. Standardmäßig wirkt der Sortierungsbefehl\n",
    "nämlich nur einmalig und ändert die eigentliche Reihenfolge im Original nicht.\n",
    "Auch das könnte man durch weitere Parameter ändern (`inplace = True`), wie Sie\n",
    "in der [Pandas-Dokumentation →\n",
    "sort_values()](https://pandas.pydata.org/docs/reference/api/pandas.Series.sort_values.html)\n",
    "nachlesen können.\n",
    "\n",
    "```{admonition} Mini-Übung\n",
    ":class: miniexercise\n",
    "Alice, Bob, Charlie und Dora sind 22, 20, 24 und 22 Jahre alt. Speichern Sie\n",
    "diese Informationen in einem Series-Objekt und sortieren Sie von alt nach jung.\n",
    "```"
   ]
  },
  {
   "cell_type": "code",
   "execution_count": 13,
   "id": "a5a7d89a",
   "metadata": {},
   "outputs": [],
   "source": [
    "# Hier Ihr Code"
   ]
  },
  {
   "cell_type": "markdown",
   "id": "a426642c",
   "metadata": {},
   "source": [
    "````{admonition} Lösung\n",
    ":class: minisolution, toggle\n",
    "```python\n",
    "# Erzeugung des Series-Objektes\n",
    "namen = ['Alice', 'Bob', 'Charlie', 'Dora']\n",
    "alter = [22, 20, 24, 22]\n",
    "personen = pd.Series(alter, index = namen)\n",
    "\n",
    "# Sortierung ud Ausgabe\n",
    "personen_sortiert = personen.sort_values(ascending = False)\n",
    "print(personen_sortiert)\n",
    "```\n",
    "````\n",
    "\n",
    "\n",
    "## Zusammenfassung und Ausblick\n",
    "\n",
    "In diesem Kapitel haben wir Pandas und die sehr wichtige Datenstruktur Series\n",
    "kennengelernt. Im nächsten Kapitel geht es darum, die wichtigsten statistischen\n",
    "Kennzahlen der Daten zu ermitteln, die in dem Series-Objekt gespeichert sind."
   ]
  }
 ],
 "metadata": {
  "jupytext": {
   "formats": "ipynb,md:myst",
   "text_representation": {
    "extension": ".md",
    "format_name": "myst",
    "format_version": 0.13,
    "jupytext_version": "1.14.7"
   }
  },
  "kernelspec": {
   "display_name": "Python 3 (ipykernel)",
   "language": "python",
   "name": "python3"
  },
  "language_info": {
   "codemirror_mode": {
    "name": "ipython",
    "version": 3
   },
   "file_extension": ".py",
   "mimetype": "text/x-python",
   "name": "python",
   "nbconvert_exporter": "python",
   "pygments_lexer": "ipython3",
   "version": "3.10.11"
  },
  "source_map": [
   13,
   71,
   73,
   80,
   82,
   103,
   107,
   118,
   121,
   130,
   134,
   142,
   145,
   153,
   156,
   166,
   168,
   185,
   188,
   194,
   197,
   205,
   208,
   220,
   223,
   240,
   242
  ]
 },
 "nbformat": 4,
 "nbformat_minor": 5
}