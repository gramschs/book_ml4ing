{
 "cells": [
  {
   "cell_type": "markdown",
   "id": "51362123",
   "metadata": {},
   "source": [
    "# Datentypen, Variablen und Vergleiche\n",
    "\n",
    "## Lernziele\n",
    "\n",
    "```{admonition} Lernziele\n",
    ":class: hint\n",
    "* Sie kennen die einfachen Datentypen:\n",
    "    * **Integer**\n",
    "    * **Float**\n",
    "    * **String**\n",
    "* Sie wissen, was eine **Variable** ist und kennen den **Zuweisungsoperator**.\n",
    "* Sie kennen den **print**-Befehl.\n",
    "```"
   ]
  },
  {
   "cell_type": "markdown",
   "id": "37bdeb5b",
   "metadata": {},
   "source": [
    "## Einfache Datentypen\n",
    "\n",
    "Im datengestützten Prozessmanagement geht es um die Sammlung, Erkundung und\n",
    "Analyse, um Antworten auf vorgegebene Fragen zu finden. Schematisch stellen wir\n",
    "datengestütztes Prozessmanagement folgendermaßen dar:\n",
    "\n",
    "```{figure} pics/fig01_prozess.png\n",
    "---\n",
    "width: 600px\n",
    "name: fig01_prozess\n",
    "---\n",
    "Schematische Darstellung der Vorgehensweise im datengestützten Prozessmanagement\n",
    "```"
   ]
  },
  {
   "cell_type": "markdown",
   "id": "f74e1d4b",
   "metadata": {},
   "source": [
    "Der Computer kann Informationen aber nur als 0 und 1 verarbeiten. Auf dem\n",
    "Speichermedium oder im Speicher selbst werden Daten daher als eine Folge von 0\n",
    "und 1 gespeichert. Damit es für uns Programmierinnen und Programmier einfacher\n",
    "wird, Daten zu speichern und zu verarbeiten, wurden Datentypen eingeführt.  \n",
    "\n",
    "**Datentypen** fassen gleichartige Objekte zusammen und stellen den\n",
    "Programmiererinnen und Programmieren passende Operationen zur Verfügung. Es\n",
    "hängt von der Programmiersprache ab, welche Datentypen zur Verfügung stehen, wie\n",
    "diese im Hintergrund gespeichtert werden und welche Operationen möglich sind.\n",
    "\n",
    "In diesem Kapitel beschäftigen wir uns mit den einfachen Datentypen\n",
    "* Integer,\n",
    "* Float,\n",
    "* String und\n",
    "* Bool."
   ]
  },
  {
   "cell_type": "markdown",
   "id": "fcf9f849",
   "metadata": {},
   "source": [
    "### Integer und Float \n",
    "\n",
    "In der Programmierung unterscheidet man grundsätzlich zwischen zwei Zahlenarten,\n",
    "den Ganzzahlen und den Gleitkommazahlen/Fließkommazahlen. Die Ganzzahlen werden\n",
    "in der Mathematik als ganze Zahlen bezeichnet. In der Informatik ist der\n",
    "englische Begriff am gebräuchlisten: Integer. \n",
    "\n",
    "Mit Integern können wir ganz normal rechnen, also Operationen ausführen:"
   ]
  },
  {
   "cell_type": "code",
   "execution_count": 1,
   "id": "727fb02b",
   "metadata": {},
   "outputs": [
    {
     "data": {
      "text/plain": [
       "5"
      ]
     },
     "execution_count": 1,
     "metadata": {},
     "output_type": "execute_result"
    }
   ],
   "source": [
    "2+3"
   ]
  },
  {
   "cell_type": "code",
   "execution_count": 2,
   "id": "e454134e",
   "metadata": {},
   "outputs": [
    {
     "data": {
      "text/plain": [
       "6"
      ]
     },
     "execution_count": 2,
     "metadata": {},
     "output_type": "execute_result"
    }
   ],
   "source": [
    "2*3"
   ]
  },
  {
   "cell_type": "code",
   "execution_count": 3,
   "id": "f11af7e4",
   "metadata": {},
   "outputs": [
    {
     "data": {
      "text/plain": [
       "-1"
      ]
     },
     "execution_count": 3,
     "metadata": {},
     "output_type": "execute_result"
    }
   ],
   "source": [
    "6-7"
   ]
  },
  {
   "cell_type": "code",
   "execution_count": 4,
   "id": "03999d90",
   "metadata": {},
   "outputs": [
    {
     "data": {
      "text/plain": [
       "33"
      ]
     },
     "execution_count": 4,
     "metadata": {},
     "output_type": "execute_result"
    }
   ],
   "source": [
    "3*(4+7)"
   ]
  },
  {
   "cell_type": "code",
   "execution_count": 5,
   "id": "f6a5f7c5",
   "metadata": {},
   "outputs": [
    {
     "data": {
      "text/plain": [
       "5.0"
      ]
     },
     "execution_count": 5,
     "metadata": {},
     "output_type": "execute_result"
    }
   ],
   "source": [
    "25/5"
   ]
  },
  {
   "cell_type": "code",
   "execution_count": 6,
   "id": "358a6c63",
   "metadata": {},
   "outputs": [
    {
     "data": {
      "text/plain": [
       "16"
      ]
     },
     "execution_count": 6,
     "metadata": {},
     "output_type": "execute_result"
    }
   ],
   "source": [
    "4**2"
   ]
  },
  {
   "cell_type": "markdown",
   "id": "035e08de",
   "metadata": {},
   "source": [
    "Mit einer Operation verlassen wir aber bereits den Bereich der ganzen Zahlen,\n",
    "den Bereich der Integers. `25/5` ist wieder eine ganze Zahl, nicht jedoch\n",
    "`25/3`. Damit sind wir bei den Fließkommazahlen, den sogenannten Floats. Zur\n",
    "Verfügung stehen auch hier die üblichen Operationen.\n",
    "\n",
    "Achtung: Verwenden Sie stets einen Punkt als Dezimaltrennzeichen, nicht ein\n",
    "Komma."
   ]
  },
  {
   "cell_type": "code",
   "execution_count": 7,
   "id": "7c951f10",
   "metadata": {},
   "outputs": [
    {
     "data": {
      "text/plain": [
       "6.8"
      ]
     },
     "execution_count": 7,
     "metadata": {},
     "output_type": "execute_result"
    }
   ],
   "source": [
    "2.3 + 4.5"
   ]
  },
  {
   "cell_type": "code",
   "execution_count": 8,
   "id": "80751dc4",
   "metadata": {},
   "outputs": [
    {
     "data": {
      "text/plain": [
       "3.4999999999999996"
      ]
     },
     "execution_count": 8,
     "metadata": {},
     "output_type": "execute_result"
    }
   ],
   "source": [
    "5.6 - 2.1"
   ]
  },
  {
   "cell_type": "code",
   "execution_count": 9,
   "id": "5e095054",
   "metadata": {},
   "outputs": [
    {
     "data": {
      "text/plain": [
       "7.3500000000000005"
      ]
     },
     "execution_count": 9,
     "metadata": {},
     "output_type": "execute_result"
    }
   ],
   "source": [
    "2.1 * 3.5"
   ]
  },
  {
   "cell_type": "code",
   "execution_count": 10,
   "id": "6a052e31",
   "metadata": {},
   "outputs": [
    {
     "data": {
      "text/plain": [
       "2.0"
      ]
     },
     "execution_count": 10,
     "metadata": {},
     "output_type": "execute_result"
    }
   ],
   "source": [
    "3.4 / 1.7"
   ]
  },
  {
   "cell_type": "code",
   "execution_count": 11,
   "id": "6646f432",
   "metadata": {},
   "outputs": [
    {
     "data": {
      "text/plain": [
       "11.559999999999999"
      ]
     },
     "execution_count": 11,
     "metadata": {},
     "output_type": "execute_result"
    }
   ],
   "source": [
    "3.4 ** 2"
   ]
  },
  {
   "cell_type": "code",
   "execution_count": 12,
   "id": "f7d29a06",
   "metadata": {},
   "outputs": [
    {
     "data": {
      "text/plain": [
       "2.1000000000000005"
      ]
     },
     "execution_count": 12,
     "metadata": {},
     "output_type": "execute_result"
    }
   ],
   "source": [
    "3.5 * (2.6 - 3.8 / 1.9)"
   ]
  },
  {
   "cell_type": "markdown",
   "id": "40af7775",
   "metadata": {},
   "source": [
    "<iframe width=\"560\" height=\"315\" src=\"https://www.youtube.com/embed/VtiDkRDPA_c\" title=\"YouTube video player\" frameborder=\"0\" allow=\"accelerometer; autoplay; clipboard-write; encrypted-media; gyroscope; picture-in-picture\" allowfullscreen></iframe>"
   ]
  },
  {
   "cell_type": "markdown",
   "id": "ff46d6cf",
   "metadata": {},
   "source": [
    "### String\n",
    "\n",
    "Daten sind aber sehr oft keine Zahlen. Beispielsweise könnte man sich\n",
    "vorstellen, eine Einkaufsliste zu erstellen und diese im Computer oder in einer\n",
    "Notiz-App auf dem Handy zu speichern. Eine solche Zeichenkette heißt in der\n",
    "Informatik String. Mit Zeichen meint man dabei Zahlen, Buchstaben oder andere\n",
    "Zeichen wie beispielsweise !\"§$%&/()=?.\n",
    "\n",
    "Strings werden in Python durch einfache Hochkomma oder Anführungszeichen\n",
    "definiert."
   ]
  },
  {
   "cell_type": "code",
   "execution_count": 13,
   "id": "1ee2c623",
   "metadata": {},
   "outputs": [
    {
     "data": {
      "text/plain": [
       "'Dies ist ein String!'"
      ]
     },
     "execution_count": 13,
     "metadata": {},
     "output_type": "execute_result"
    }
   ],
   "source": [
    "'Dies ist ein String!'"
   ]
  },
  {
   "cell_type": "markdown",
   "id": "d4c540c9",
   "metadata": {},
   "source": [
    "Mit Strings kann man ebenfalls \"rechnen\", nur ist das Ergebnis vielleicht anders als erwartet."
   ]
  },
  {
   "cell_type": "code",
   "execution_count": 14,
   "id": "b0814397",
   "metadata": {},
   "outputs": [
    {
     "data": {
      "text/plain": [
       "'Dies ist ein String!Dies ist ein String!'"
      ]
     },
     "execution_count": 14,
     "metadata": {},
     "output_type": "execute_result"
    }
   ],
   "source": [
    "2 * 'Dies ist ein String!'"
   ]
  },
  {
   "cell_type": "code",
   "execution_count": 15,
   "id": "7f9006c7",
   "metadata": {},
   "outputs": [
    {
     "data": {
      "text/plain": [
       "'String 1 String 2'"
      ]
     },
     "execution_count": 15,
     "metadata": {},
     "output_type": "execute_result"
    }
   ],
   "source": [
    "'String 1 ' + 'String 2' "
   ]
  },
  {
   "cell_type": "markdown",
   "id": "1ee653e9",
   "metadata": {},
   "source": [
    "<iframe width=\"560\" height=\"315\" src=\"https://www.youtube.com/embed/sTEf4_mrLvw\" title=\"YouTube video player\" frameborder=\"0\" allow=\"accelerometer; autoplay; clipboard-write; encrypted-media; gyroscope; picture-in-picture\" allowfullscreen></iframe>\n",
    "\n",
    "\n",
    "\n",
    "\n",
    "## Variablen \n",
    "\n",
    "Variablen sind beschriftete Schubladen. Oder anders formuliert sind Variablen\n",
    "Objekte, denen man einen Namen gibt. Technisch gesehen sind diese Schubladen ein\n",
    "kleiner Bereich im Arbeitsspeicher des Computers. Was in diesen Schubladen\n",
    "aufbewahrt wird, kann sehr unterschiedlich sein. Beispielsweise die\n",
    "Telefonnummer des ADAC-Pannendienstes, die 10. Nachkommastelle von Pi oder die\n",
    "aktuelle Position des Mauszeigers können in den Schubladen enthalten sein. \n",
    "\n",
    "### Zuweisung\n",
    "\n",
    "Wir verwenden Variablen, um bestimmte Werte oder ein bestimmtes Objekt zu\n",
    "speichern. Eine Variable wird durch Zuweisung erzeugt. Damit meinen wir, dass\n",
    "eine Schublade angelegt wird und die Schublade dann erstmalig gefüllt wird. Das\n",
    "erstmalige Füllen der Schublade nennt man in der Informatik auch Initialisieren."
   ]
  },
  {
   "cell_type": "code",
   "execution_count": 16,
   "id": "683a99a1",
   "metadata": {},
   "outputs": [],
   "source": [
    "x = 0.5"
   ]
  },
  {
   "cell_type": "markdown",
   "id": "e6c47693",
   "metadata": {},
   "source": [
    "Sobald die Variable `x` in diesem Beispiel durch eine Zuweisung von 0.5 erstellt\n",
    "wurde, können wir sie verwenden:"
   ]
  },
  {
   "cell_type": "code",
   "execution_count": 17,
   "id": "86f67fc8",
   "metadata": {},
   "outputs": [
    {
     "data": {
      "text/plain": [
       "1.5"
      ]
     },
     "execution_count": 17,
     "metadata": {},
     "output_type": "execute_result"
    }
   ],
   "source": [
    "x * 3"
   ]
  },
  {
   "cell_type": "code",
   "execution_count": 18,
   "id": "454f7e29",
   "metadata": {},
   "outputs": [
    {
     "data": {
      "text/plain": [
       "17.5"
      ]
     },
     "execution_count": 18,
     "metadata": {},
     "output_type": "execute_result"
    }
   ],
   "source": [
    "x + 17"
   ]
  },
  {
   "cell_type": "markdown",
   "id": "86a752d8",
   "metadata": {},
   "source": [
    "<iframe width=\"560\" height=\"315\" src=\"https://www.youtube.com/embed/jfOLXKPGXJ0\" title=\"YouTube video player\" frameborder=\"0\" allow=\"accelerometer; autoplay; clipboard-write; encrypted-media; gyroscope; picture-in-picture\" allowfullscreen></iframe>\n",
    "\n",
    "Wichtig ist, dass das `=` in der Informatik eine andere Bedeutung hat als in der\n",
    "Mathematik. `=` meint nicht das Gleichheitszeichen, sondern den sogenannten\n",
    "**Zuweisungsoperator**. Das ist in der Programmierung ein Kommando, das eine\n",
    "Schublade befüllt oder technischer ausgedrückt, ein Objekt einer Variable\n",
    "zuweist.\n",
    "\n",
    "Variablen müssen initalisiert (erstmalig mit einem Wert versehen) werden, bevor\n",
    "sie verwendet werden können, sonst tritt ein Fehler auf:\n",
    "\n",
    "Schreiben Sie in die folgende Code-Zelle `n` und lassen Sie sie ausführen. Was\n",
    "passiert?"
   ]
  },
  {
   "cell_type": "code",
   "execution_count": 19,
   "id": "73206cbf",
   "metadata": {},
   "outputs": [],
   "source": [
    "# Hier Ihr Code"
   ]
  },
  {
   "cell_type": "markdown",
   "id": "e98e6d1c",
   "metadata": {},
   "source": [
    "Sehr häufig findet man Code wie"
   ]
  },
  {
   "cell_type": "code",
   "execution_count": 20,
   "id": "79ce1dab",
   "metadata": {},
   "outputs": [],
   "source": [
    "x = x + 1"
   ]
  },
  {
   "cell_type": "markdown",
   "id": "653787ff",
   "metadata": {},
   "source": [
    "Würden wir dies als Gleichung lesen, wie wir es aus der Mathematik gewohnt sind,\n",
    "x = x + 1, könnten wir x auf beiden Seiten subtrahieren und erhalten 0 = 1. Wir\n",
    "wissen, dass dies nicht wahr ist, also stimmt hier etwas nicht.\n",
    "\n",
    "In Python sind \"Gleichungen\" keine mathematischen Gleichungen, sondern\n",
    "Zuweisungen. \"=\" ist kein Gleichheitszeichen im mathematischen Sinne, sondern\n",
    "eine Zuweisung. Die Zuweisung muss immer in der folgenden Weise zweistufig\n",
    "gelesen werden:\n",
    "\n",
    "1. Berechne den Wert auf der rechten Seite (also x+1).\n",
    "2. Weise den Wert auf der rechten Seite dem auf der linken Seite stehenden\n",
    "   Variablennamen zu (in Python-Sprechweise: binde dem Namen auf der linken\n",
    "   Seite an das auf der rechten Seite angezeigte Objekt)."
   ]
  },
  {
   "cell_type": "code",
   "execution_count": 21,
   "id": "dca869f8",
   "metadata": {},
   "outputs": [
    {
     "data": {
      "text/plain": [
       "5"
      ]
     },
     "execution_count": 21,
     "metadata": {},
     "output_type": "execute_result"
    }
   ],
   "source": [
    "x = 4     \n",
    "x = x + 1\n",
    "x"
   ]
  },
  {
   "cell_type": "markdown",
   "id": "4164b541",
   "metadata": {},
   "source": [
    "### Richtlinien für Variablennamen:\n",
    "\n",
    "Früher war der Speicherplatz von Computern klein, daher wurden häufig nur kurze\n",
    "Variablennamen wie beispielsweise `i` oder `N` verwendet. Heutzutage ist es\n",
    "Standard, nur in Ausnahmefällen (z.B. in Schleifen, dazu kommen wir noch) kurze\n",
    "Variablennamen zu nehmen. Stattdessen werden Namen benutzt, bei denen man\n",
    "erraten kann, was die Variable für einen Einsatzzweck hat. Beispielsweise lässt\n",
    "der Code"
   ]
  },
  {
   "cell_type": "code",
   "execution_count": 22,
   "id": "61bb728c",
   "metadata": {},
   "outputs": [
    {
     "name": "stdout",
     "output_type": "stream",
     "text": [
      "95.2\n"
     ]
    }
   ],
   "source": [
    "m = 0.19\n",
    "n = 80\n",
    "b = n + m*n\n",
    "print(b)"
   ]
  },
  {
   "cell_type": "markdown",
   "id": "495bbb0e",
   "metadata": {},
   "source": [
    "nur schwer vermuten, was damit bezweckt wird. Dagegen erahnt man bei diesem Code\n",
    "schon eher, was bezweckt wird:"
   ]
  },
  {
   "cell_type": "code",
   "execution_count": 23,
   "id": "c0e19ddd",
   "metadata": {},
   "outputs": [
    {
     "name": "stdout",
     "output_type": "stream",
     "text": [
      "95.2\n"
     ]
    }
   ],
   "source": [
    "mehrwertsteuersatz = 19/100\n",
    "nettopreis = 80\n",
    "bruttopreis = nettopreis + mehrwertsteuersatz * nettopreis\n",
    "print(bruttopreis)"
   ]
  },
  {
   "cell_type": "markdown",
   "id": "4ac613ce",
   "metadata": {},
   "source": [
    "Verwenden Sie für Variablennamen nur ASCII-Zeichen, also keine Umlaute wie ö, ü\n",
    "oder ß. Zahlen sind erlaubt, aber nicht am Anfang des Namens. Es ist sinnvoll,\n",
    "lange Variablen durch einen Unterstrich besser lesbar zu gestalten (sogenannte\n",
    "Snake-Case-Formatierung). Ich empfehle für Variablennamen beispielsweise\n",
    "\n",
    "`dateiname_alt` oder `dateiname_neu`\n",
    "\n",
    "wenn beispielsweise eine Datei umbenannt wird. Sie sind frei in der Gestaltung\n",
    "der Variablennamen, verboten sind nur die sogannnten Schlüsselwörter."
   ]
  },
  {
   "cell_type": "markdown",
   "id": "9b1a8423",
   "metadata": {},
   "source": [
    "Bemerkung: Hier kam erstmalig auch eine eingebaute Python-Funktion zum Einsatz,\n",
    "die `print()`-Anweisung. Mehr Details zur `print()`-Anweisung finden Sie hier:\n",
    "https://docs.python.org/3/tutorial/inputoutput.html"
   ]
  },
  {
   "cell_type": "markdown",
   "id": "147b1f52",
   "metadata": {},
   "source": [
    "<iframe width=\"560\" height=\"315\" src=\"https://www.youtube.com/embed/XKFQ2_et5k8\" title=\"YouTube video player\" frameborder=\"0\" allow=\"accelerometer; autoplay; clipboard-write; encrypted-media; gyroscope; picture-in-picture\" allowfullscreen></iframe>"
   ]
  },
  {
   "cell_type": "markdown",
   "id": "1e6b800d",
   "metadata": {},
   "source": [
    "### Mischen von Datentypen \n",
    "\n",
    "Werden zwei Integer geteilt, so wird das Ergebnis vom Datentyp automatisch in\n",
    "einen Float umgewandelt. Mit Hilfe der Funktion `type()` können wir den\n",
    "Python-Interpreter bestimmen lassen, welcher Datentyp in einer Variable\n",
    "gespeichert ist."
   ]
  },
  {
   "cell_type": "code",
   "execution_count": 24,
   "id": "5c028bed",
   "metadata": {},
   "outputs": [
    {
     "data": {
      "text/plain": [
       "int"
      ]
     },
     "execution_count": 24,
     "metadata": {},
     "output_type": "execute_result"
    }
   ],
   "source": [
    "x = 25 * 5\n",
    "type(x)"
   ]
  },
  {
   "cell_type": "code",
   "execution_count": 25,
   "id": "5abdaf9e",
   "metadata": {},
   "outputs": [
    {
     "data": {
      "text/plain": [
       "float"
      ]
     },
     "execution_count": 25,
     "metadata": {},
     "output_type": "execute_result"
    }
   ],
   "source": [
    "x = 25 / 5\n",
    "type(x)"
   ]
  },
  {
   "cell_type": "markdown",
   "id": "2d5b8705",
   "metadata": {},
   "source": [
    "Nicht immer ist es aber möglich, Datentypen zu mischen. Dann meldet Python einen\n",
    "Fehler.\n",
    "\n",
    "<iframe width=\"560\" height=\"315\" src=\"https://www.youtube.com/embed/1WqFJ5wsA4o\" title=\"YouTube video player\" frameborder=\"0\" allow=\"accelerometer; autoplay; clipboard-write; encrypted-media; gyroscope; picture-in-picture\" allowfullscreen></iframe>\n",
    "\n",
    "### Typumwandlungen (Type Casting)\n",
    "\n",
    "Es ist aber auch möglich, einen Datentyp explizit in einen anderen Datentyp\n",
    "umzuwandeln. Informatiker sagen dazu, einen Type Cast vorzunehmen. Soll ein\n",
    "Datentyp in einen Integer umgewandelt werden, so verwenden wir die Funktion\n",
    "`int()`. Die Umwandlung in einen Float erfolgt per `float()` und in einen String\n",
    "wandeln wir mit Hilfe der Funktion `str()` um. Das klappt nicht mit jedem\n",
    "Variableninhalt, die Umwandlung muss machbar sein, wie die folgenden Beispiele\n",
    "zeigen."
   ]
  },
  {
   "cell_type": "code",
   "execution_count": 26,
   "id": "98f2e8f8",
   "metadata": {},
   "outputs": [
    {
     "data": {
      "text/plain": [
       "str"
      ]
     },
     "execution_count": 26,
     "metadata": {},
     "output_type": "execute_result"
    }
   ],
   "source": [
    "x_old = 3\n",
    "x_new = str(x_old)\n",
    "type(x_new)"
   ]
  },
  {
   "cell_type": "code",
   "execution_count": 27,
   "id": "9f2efe2e",
   "metadata": {},
   "outputs": [
    {
     "data": {
      "text/plain": [
       "int"
      ]
     },
     "execution_count": 27,
     "metadata": {},
     "output_type": "execute_result"
    }
   ],
   "source": [
    "x_old = '3'\n",
    "x_new = int(x_old)\n",
    "type(x_new)"
   ]
  },
  {
   "cell_type": "markdown",
   "id": "48102402",
   "metadata": {},
   "source": [
    "Der folgende Code ist in Markdown geschrieben, da ansonsten eine Fehlermeldung\n",
    "erzeugt würde:\n",
    "\n",
    "```python\n",
    "x_old = 'drei'\n",
    "x_new = int(x_old)\n",
    "type(x_new)\n",
    "```"
   ]
  },
  {
   "cell_type": "markdown",
   "id": "3abdff2c",
   "metadata": {},
   "source": [
    "<iframe width=\"560\" height=\"315\" src=\"https://www.youtube.com/embed/u_ECGvn1Z2c\" title=\"YouTube video player\" frameborder=\"0\" allow=\"accelerometer; autoplay; clipboard-write; encrypted-media; gyroscope; picture-in-picture\" allowfullscreen></iframe>"
   ]
  }
 ],
 "metadata": {
  "jupytext": {
   "formats": "ipynb,md:myst",
   "text_representation": {
    "extension": ".md",
    "format_name": "myst",
    "format_version": 0.13,
    "jupytext_version": "1.13.8"
   }
  },
  "kernelspec": {
   "display_name": "Python 3.9.13 ('python39')",
   "language": "python",
   "name": "python3"
  },
  "language_info": {
   "codemirror_mode": {
    "name": "ipython",
    "version": 3
   },
   "file_extension": ".py",
   "mimetype": "text/x-python",
   "name": "python",
   "nbconvert_exporter": "python",
   "pygments_lexer": "ipython3",
   "version": "3.9.13"
  },
  "source_map": [
   13,
   29,
   45,
   63,
   74,
   78,
   82,
   86,
   90,
   94,
   96,
   106,
   110,
   114,
   118,
   122,
   126,
   128,
   132,
   145,
   147,
   151,
   155,
   157,
   180,
   182,
   187,
   191,
   193,
   209,
   211,
   215,
   217,
   234,
   238,
   249,
   254,
   259,
   264,
   276,
   282,
   286,
   296,
   301,
   304,
   320,
   326,
   330,
   341
  ]
 },
 "nbformat": 4,
 "nbformat_minor": 5
}