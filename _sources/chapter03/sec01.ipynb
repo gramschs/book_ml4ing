{
 "cells": [
  {
   "cell_type": "markdown",
   "id": "baba425f",
   "metadata": {},
   "source": [
    "# Liste und Zählschleife\n",
    "\n",
    "## Lernziele\n",
    "\n",
    "```{admonition} Lernziele\n",
    ":class: hint\n",
    "* Datentyp Liste\n",
    "* Kontrollstrukturen: Schleifen mit \"for\"\n",
    "```\n",
    "\n",
    "\n",
    "## Datentyp Liste\n",
    "\n",
    "Eine Liste ist eine Sequenz von Objekten, Dabei können die Objekte einen\n",
    "beliebigen Datentyp aufweisen. Z.B. könnte eine Liste Integer enthalten:"
   ]
  },
  {
   "cell_type": "code",
   "execution_count": 1,
   "id": "71d5f3fd",
   "metadata": {},
   "outputs": [
    {
     "name": "stdout",
     "output_type": "stream",
     "text": [
      "[34, 12, 54]\n"
     ]
    }
   ],
   "source": [
    "a = [34, 12, 54]\n",
    "print(a)"
   ]
  },
  {
   "cell_type": "code",
   "execution_count": 2,
   "id": "1f6532f5",
   "metadata": {},
   "outputs": [
    {
     "name": "stdout",
     "output_type": "stream",
     "text": [
      "['Alice', 'Bob', 'Charlie']\n"
     ]
    }
   ],
   "source": [
    "a = ['Alice', 'Bob', 'Charlie']\n",
    "print(a)"
   ]
  },
  {
   "cell_type": "markdown",
   "id": "3b9e6a37",
   "metadata": {},
   "source": [
    "Eine leere Liste wird durch `[]` definiert:"
   ]
  },
  {
   "cell_type": "code",
   "execution_count": 3,
   "id": "a140c1d0",
   "metadata": {},
   "outputs": [
    {
     "name": "stdout",
     "output_type": "stream",
     "text": [
      "[]\n"
     ]
    }
   ],
   "source": [
    "a = []\n",
    "print(a)"
   ]
  },
  {
   "cell_type": "markdown",
   "id": "9c9dffb9",
   "metadata": {},
   "source": [
    "Der Datentyp heißt formal `list`:"
   ]
  },
  {
   "cell_type": "code",
   "execution_count": 4,
   "id": "da1c4405",
   "metadata": {},
   "outputs": [
    {
     "data": {
      "text/plain": [
       "list"
      ]
     },
     "execution_count": 4,
     "metadata": {},
     "output_type": "execute_result"
    }
   ],
   "source": [
    "type(a)"
   ]
  },
  {
   "cell_type": "markdown",
   "id": "f5c62370",
   "metadata": {},
   "source": [
    "Genau wie bei Strings gibt die Funktion `len()` die Anzahl der Elemente zurück:"
   ]
  },
  {
   "cell_type": "code",
   "execution_count": 5,
   "id": "ca3ab459",
   "metadata": {},
   "outputs": [
    {
     "data": {
      "text/plain": [
       "5"
      ]
     },
     "execution_count": 5,
     "metadata": {},
     "output_type": "execute_result"
    }
   ],
   "source": [
    "a = ['Hund', 'Katze', 'Maus', 'Affe','Elefant']\n",
    "len(a)"
   ]
  },
  {
   "cell_type": "markdown",
   "id": "cee8c979",
   "metadata": {},
   "source": [
    "Es können verschiedene Datentypen in einer Liste gemischt werden:"
   ]
  },
  {
   "cell_type": "code",
   "execution_count": 6,
   "id": "93ae5dc4",
   "metadata": {},
   "outputs": [
    {
     "name": "stdout",
     "output_type": "stream",
     "text": [
      "[123, 'Ente', -42, 17.4, 0, 'Elefant']\n"
     ]
    }
   ],
   "source": [
    "a = [123, 'Ente', -42, 17.4, 0, 'Elefant']\n",
    "print(a)"
   ]
  },
  {
   "cell_type": "markdown",
   "id": "70f02a93",
   "metadata": {},
   "source": [
    "```{admonition} Mini-Übung\n",
    ":class: miniexercise\n",
    "Erzeugen Sie eine Einkaufsliste, um einen Obstsalat zuzubereiten und speichern\n",
    "Sie diese Liste in der Variablen `einkaufsliste`. Lassen Sie dann den Computer\n",
    "bzw. den Python-Interpreter zählen, wie viele Zutaten Ihre Liste enthält und\n",
    "geben Sie dann die Anzahl aus.\n",
    "```"
   ]
  },
  {
   "cell_type": "code",
   "execution_count": 7,
   "id": "e857a0fb",
   "metadata": {},
   "outputs": [],
   "source": [
    "# Hier Ihr Code:\n"
   ]
  },
  {
   "cell_type": "markdown",
   "id": "4c68d641",
   "metadata": {},
   "source": [
    "Zwei Listen werden verkettet (“concatenate”) durch den `+` Operator:"
   ]
  },
  {
   "cell_type": "code",
   "execution_count": 8,
   "id": "c6d57c90",
   "metadata": {},
   "outputs": [
    {
     "name": "stdout",
     "output_type": "stream",
     "text": [
      "[37, 3, 5, 3, 35, 100]\n"
     ]
    }
   ],
   "source": [
    "a = [37, 3, 5] + [3, 35, 100]\n",
    "print(a)"
   ]
  },
  {
   "cell_type": "markdown",
   "id": "29ff4519",
   "metadata": {},
   "source": [
    "Um an das Ende der Liste ein neues Element einzufügen, verwendet man die Methode\n",
    "`append()`. Eine **Methode** ist eine spezielle Funktion, die zu dem Datentyp\n",
    "gehört und daher an die Variable angehängt wird, indem man einen Punkt schreibt\n",
    "und dann den Methodennamen.\n",
    "\n",
    "Was Methoden genau sind, werden wir noch lernen."
   ]
  },
  {
   "cell_type": "code",
   "execution_count": 9,
   "id": "e2f25038",
   "metadata": {},
   "outputs": [
    {
     "name": "stdout",
     "output_type": "stream",
     "text": [
      "[34, 56, 23]\n",
      "[34, 56, 23, 42]\n"
     ]
    }
   ],
   "source": [
    "a = [34, 56, 23]\n",
    "print(a)\n",
    "\n",
    "a.append(42)\n",
    "print(a)"
   ]
  },
  {
   "cell_type": "markdown",
   "id": "ea48ad71",
   "metadata": {},
   "source": [
    "Aus der Liste können Elemente durch die `remove()`-Methode gelöscht werden.\n",
    "Dabei wird das Element, das gelöscht werden soll, der Methode als Argument\n",
    "übergeben."
   ]
  },
  {
   "cell_type": "code",
   "execution_count": 10,
   "id": "04b71055",
   "metadata": {},
   "outputs": [
    {
     "name": "stdout",
     "output_type": "stream",
     "text": [
      "[34, 56, 23, 42]\n",
      "[34, 23, 42]\n"
     ]
    }
   ],
   "source": [
    "a = [34, 56, 23, 42]\n",
    "print(a)\n",
    "\n",
    "a.remove(56)\n",
    "print(a)"
   ]
  },
  {
   "cell_type": "markdown",
   "id": "906f8651",
   "metadata": {},
   "source": [
    "```{admonition} Mini-Übung\n",
    ":class: miniexercise\n",
    "Nehmen Sie Ihre Einkaufsliste für den Obsalat von vorhin. Fügen Sie noch Zimt und Zucker hinzu. Leider passen in Ihren Einkaufswagen nur maximal 5 Sachen. Lassen Sie überprüfen, ob Ihre Einkaufsliste nun mehr als 5 Zutaten enthält. Falls ja, lassen Sie eine Warnung ausgeben.\n",
    "```"
   ]
  },
  {
   "cell_type": "code",
   "execution_count": 11,
   "id": "c218fd36",
   "metadata": {},
   "outputs": [],
   "source": [
    "# Hier Ihr Code:\n"
   ]
  },
  {
   "cell_type": "markdown",
   "id": "13b1e289",
   "metadata": {},
   "source": [
    "<iframe width=\"560\" height=\"315\" src=\"https://www.youtube.com/embed/ihF8bZoauBs\" title=\"YouTube video player\" frameborder=\"0\" allow=\"accelerometer; autoplay; clipboard-write; encrypted-media; gyroscope; picture-in-picture\" allowfullscreen></iframe>\n",
    "\n",
    "Listen sind (übrigens genau wie Strings) ein **sequentieller Container**.\n",
    "\n",
    "Sequentielle Container sind Sammlungen von Datenobjekten. Manchmal werden sie\n",
    "auch kurz als **Sequenzen** abgekürzt. Sequentielle Container sind mit ganzen\n",
    "Zahlen, also Integern, durchnummeriert. Die Nummerierung beginnt bei 0. Die\n",
    "Nummer eines Elementes aus der Sequenz nennt man Index. Umgangssprachlich könnte\n",
    "man den Index auch als Hausnummer bezeichnen.\n",
    "\n",
    "In einer Sequenz hat also das erste Element den Index 0. Das zweite Element hat\n",
    "den Index 1 usw. Um ein einzelnes Element einer Sequenz herausgreifen zu können,\n",
    "schreibt man `s[i]`. Dabei ist s der Name der Sequenz. Um einfach auf das letzte\n",
    "Element einer Sequenz zugreifen zu können, hat Python den Index -1 eingeführt.\n",
    "\n",
    "Probieren wir ein paar Beispiele aus:"
   ]
  },
  {
   "cell_type": "code",
   "execution_count": 12,
   "id": "70e23fc0",
   "metadata": {},
   "outputs": [
    {
     "name": "stdout",
     "output_type": "stream",
     "text": [
      "Das erste Element in der Liste ist: \n",
      "34\n"
     ]
    }
   ],
   "source": [
    "a = [34, 56, 23, 42]\n",
    "print('Das erste Element in der Liste ist: ')\n",
    "erstes = a[0]\n",
    "print(erstes)"
   ]
  },
  {
   "cell_type": "markdown",
   "id": "5a069562",
   "metadata": {},
   "source": [
    "Für sequentielle Container und damit auch insbesondere für Listen bietet Python\n",
    "Standardfunktionen. Hier die wichtigsten:\n",
    "\n",
    "* `liste[i]` gibt das i-te Element von `liste` zurück\n",
    "* `liste[i:j]` gibt die Elemente i bis j-1 zurück\n",
    "* `liste[start:ende:schrittweite]` gibt die Elemente von Index `start` bis\n",
    "  `ende-1` mit einer Schrittweite aus \n",
    "* `len(liste)` gibt die Anzahl der Elemente von liste zurück\n",
    "* `min(liste)` gibt das kleinste Element von `liste` zurück\n",
    "* `max(liste)` gibt das größte Element von `liste` zurück\n",
    "* `x in liste` gibt den Wahrheitswert `True` zurück, wenn `x` in der Sequenz\n",
    "  `liste` enthalten ist\n",
    "* `liste1 + liste2` verknüpft `liste1` und `liste2`\n",
    "* `n * liste` generiert `n` Kopien der Sequenz `liste`\n",
    "\n",
    "\n",
    "Probieren wir sie an Beispielen aus. Denken Sie sich eigene Beispiele aus, um\n",
    "die Funktionen kennenzulernen:"
   ]
  },
  {
   "cell_type": "code",
   "execution_count": 13,
   "id": "3c42d865",
   "metadata": {},
   "outputs": [
    {
     "data": {
      "text/plain": [
       "'VIER'"
      ]
     },
     "execution_count": 13,
     "metadata": {},
     "output_type": "execute_result"
    }
   ],
   "source": [
    "liste = [1,2,'drei','VIER',5]\n",
    "liste[3]"
   ]
  },
  {
   "cell_type": "code",
   "execution_count": 14,
   "id": "959d055d",
   "metadata": {},
   "outputs": [
    {
     "data": {
      "text/plain": [
       "['drei', 'VIER']"
      ]
     },
     "execution_count": 14,
     "metadata": {},
     "output_type": "execute_result"
    }
   ],
   "source": [
    "liste[2:4]"
   ]
  },
  {
   "cell_type": "code",
   "execution_count": 15,
   "id": "7e831eb2",
   "metadata": {},
   "outputs": [],
   "source": [
    "#max(liste)"
   ]
  },
  {
   "cell_type": "code",
   "execution_count": 16,
   "id": "2213288b",
   "metadata": {},
   "outputs": [
    {
     "data": {
      "text/plain": [
       "5"
      ]
     },
     "execution_count": 16,
     "metadata": {},
     "output_type": "execute_result"
    }
   ],
   "source": [
    "liste = [1,2,3,4,5]\n",
    "max(liste)"
   ]
  },
  {
   "cell_type": "code",
   "execution_count": 17,
   "id": "e394053c",
   "metadata": {},
   "outputs": [
    {
     "data": {
      "text/plain": [
       "'e'"
      ]
     },
     "execution_count": 17,
     "metadata": {},
     "output_type": "execute_result"
    }
   ],
   "source": [
    "liste = ['a', 'b', 'c', 'd', 'e']\n",
    "max(liste)"
   ]
  },
  {
   "cell_type": "code",
   "execution_count": 18,
   "id": "85416b48",
   "metadata": {},
   "outputs": [
    {
     "name": "stdout",
     "output_type": "stream",
     "text": [
      "Das a ist dabei!\n"
     ]
    }
   ],
   "source": [
    "liste = ['a', 'b', 'c', 'd', 'e']\n",
    "if 'a' in liste:\n",
    "    print('Das a ist dabei!')\n",
    "else:\n",
    "    print('Das a ist leider nicht in der Liste.')"
   ]
  },
  {
   "cell_type": "markdown",
   "id": "30d7b406",
   "metadata": {},
   "source": [
    "```{admonition} Mini-Übung\n",
    ":class: miniexercise  \n",
    "Bleiben wir beim Obsalat, bei Ihrem ursprünglichen Rezept. Erzeugen Sie zunächst\n",
    "die Liste. Lassen Sie dann den Computer überprüfen, ob schon Zimt und Zucker auf\n",
    "der Liste stehen. Wenn noch Platz im Einkaufswagen ist (maximal 5 Zutaten),\n",
    "fügen Sie den Zimt dazu. Wenn dann noch Platz im Einkaufswagen ist, fügen Sie\n",
    "auch noch den Zucker hinzu. Lassen Sie zuletzt das erste Element der Liste\n",
    "ausgeben. \n",
    "```"
   ]
  },
  {
   "cell_type": "code",
   "execution_count": 19,
   "id": "0e4d0949",
   "metadata": {},
   "outputs": [],
   "source": [
    "# Hier Ihr Code:"
   ]
  },
  {
   "cell_type": "markdown",
   "id": "847a1321",
   "metadata": {},
   "source": [
    "<iframe width=\"560\" height=\"315\" src=\"https://www.youtube.com/embed/_XzWPXvya2w\" title=\"YouTube video player\" frameborder=\"0\" allow=\"accelerometer; autoplay; clipboard-write; encrypted-media; gyroscope; picture-in-picture\" allowfullscreen></iframe>"
   ]
  },
  {
   "cell_type": "markdown",
   "id": "c40480bb",
   "metadata": {},
   "source": [
    "## Zählschleifen \"for\"\n",
    "\n",
    "Bei einer While-Schleife wird ein Anweisungsblock solange wiederholt, bis die\n",
    "dazugehörige Bedingung nicht mehr erfüllt ist. Manchmal möchte man jedoch die\n",
    "Anweisungen auf alle Elemente einer Menge, d.h. einer Liste, anwenden. Dazu gibt\n",
    "es die For-Schleife. Sie hat folgende Syntax:\n",
    "\n",
    "```python\n",
    "for element in liste:\n",
    "    anweisungsblock\n",
    "```\n",
    "\n",
    "Dabei betrachten wir zwei Fälle:\n",
    "\n",
    "1. Die Menge wird in Form einer Liste explizit aufgezählt, beispielsweise als\n",
    "   `[4,5,7,11,21]`.\n",
    "2. Die Menge wird als Zahlenbereich beschrieben, beispielsweise als\n",
    "   `range(3,9)`. \n",
    "\n",
    "Schauen wir uns ein erstes Beispiel an. Jedes Element der Liste `[4,5,7,11,21]`\n",
    "soll um 2 erhöht werden.\n",
    "\n",
    "```python\n",
    "for zahl in [4,5,7,11,21]:\n",
    "    summe = zahl + 2\n",
    "    print(\"Wenn ich zu\", zahl, \"zwei addiere, erhalte ich\", summe)\n",
    "print(\"Ich bin fertig!\")\n",
    "```"
   ]
  },
  {
   "cell_type": "code",
   "execution_count": 20,
   "id": "0a508429",
   "metadata": {},
   "outputs": [
    {
     "name": "stdout",
     "output_type": "stream",
     "text": [
      "Wenn ich zu 4 zwei addiere, erhalte ich 6\n",
      "Wenn ich zu 5 zwei addiere, erhalte ich 7\n",
      "Wenn ich zu 7 zwei addiere, erhalte ich 9\n",
      "Wenn ich zu 11 zwei addiere, erhalte ich 13\n",
      "Wenn ich zu 21 zwei addiere, erhalte ich 23\n",
      "Ich bin fertig!\n"
     ]
    }
   ],
   "source": [
    "for zahl in [4,5,7,11,21]:\n",
    "    summe = zahl + 2\n",
    "    print(\"Wenn ich zu\", zahl, \"zwei addiere, erhalte ich\", summe)\n",
    "print(\"Ich bin fertig!\")"
   ]
  },
  {
   "cell_type": "markdown",
   "id": "ef17eaa0",
   "metadata": {},
   "source": [
    "```{admonition} Mini-Übung\n",
    ":class: miniexercise  \n",
    "Lassen Sie nacheinander die Zutaten Ihrer Einkaufsliste ausgeben. \n",
    "```"
   ]
  },
  {
   "cell_type": "code",
   "execution_count": 21,
   "id": "7e286a67",
   "metadata": {},
   "outputs": [],
   "source": [
    "# Hier Ihr Code:\n"
   ]
  },
  {
   "cell_type": "markdown",
   "id": "6c79b7d5",
   "metadata": {},
   "source": [
    "<iframe width=\"560\" height=\"315\" src=\"https://www.youtube.com/embed/ISo1uqLcVw8\" title=\"YouTube video player\" frameborder=\"0\" allow=\"accelerometer; autoplay; clipboard-write; encrypted-media; gyroscope; picture-in-picture\" allowfullscreen></iframe>\n",
    "\n",
    "Es kommt sehr häufig vor, dass über Listen mit Zahlen iteriert werden soll.\n",
    "Dafür stellt Python 3 die Funktion `range()`zur Verfügung."
   ]
  },
  {
   "cell_type": "code",
   "execution_count": 22,
   "id": "98efca34",
   "metadata": {},
   "outputs": [
    {
     "name": "stdout",
     "output_type": "stream",
     "text": [
      "0\n",
      "1\n",
      "2\n",
      "3\n",
      "4\n",
      "5\n",
      "6\n",
      "7\n",
      "8\n",
      "9\n",
      "10\n",
      "11\n",
      "12\n",
      "13\n",
      "14\n",
      "15\n",
      "16\n",
      "Fertig!\n"
     ]
    }
   ],
   "source": [
    "for zahl in range(17):\n",
    "    print(zahl)\n",
    "print('Fertig!')"
   ]
  },
  {
   "cell_type": "markdown",
   "id": "7adf30c1",
   "metadata": {},
   "source": [
    "Wird `range(endzahl)` mit nur einem Parameter aufgerufen, dann beginnt der\n",
    "Python-Interpreter stets von `0` an zu zählen. Dabei ist die `endzahl` nicht\n",
    "inkludiert, d.h. der Python-Interpreter stoppt bei `endzahl - 1`. Es ist auch\n",
    "möglich, eine Startzahl vorzugeben, also:\n",
    "\n",
    "```python\n",
    "range(startzahl, endzahl)\n",
    "```"
   ]
  },
  {
   "cell_type": "code",
   "execution_count": 23,
   "id": "81f675cd",
   "metadata": {},
   "outputs": [
    {
     "name": "stdout",
     "output_type": "stream",
     "text": [
      "4\n",
      "5\n",
      "6\n",
      "7\n",
      "8\n",
      "9\n",
      "10\n",
      "11\n",
      "12\n",
      "Fertig!\n"
     ]
    }
   ],
   "source": [
    "for zahl in range(4,13):\n",
    "    print(zahl)\n",
    "print('Fertig!')"
   ]
  },
  {
   "cell_type": "markdown",
   "id": "d8b1c485",
   "metadata": {},
   "source": [
    "Zusätzlich kann der Zahlenbereich noch durch die Angabe einer Schrittweite\n",
    "spezifiziert werden. Dadurch ist es beispielsweise möglich, nur ungerade Zahlen\n",
    "zu generieren:"
   ]
  },
  {
   "cell_type": "code",
   "execution_count": 24,
   "id": "becd19b7",
   "metadata": {},
   "outputs": [
    {
     "name": "stdout",
     "output_type": "stream",
     "text": [
      "3\n",
      "5\n",
      "7\n",
      "9\n",
      "11\n",
      "Fertig!\n"
     ]
    }
   ],
   "source": [
    "for zahl in range(3, 13, 2):\n",
    "    print(zahl)\n",
    "print('Fertig!')"
   ]
  },
  {
   "cell_type": "markdown",
   "id": "00c930d0",
   "metadata": {},
   "source": [
    "```{admonition} Mini-Übung\n",
    ":class: miniexercise \n",
    "Lassen Sie alle geraden Zahlen zwischen 100 und 120 ausgeben.\n",
    "```"
   ]
  },
  {
   "cell_type": "code",
   "execution_count": 25,
   "id": "7a58b3c4",
   "metadata": {},
   "outputs": [],
   "source": [
    "# Hier Ihr Code:\n"
   ]
  },
  {
   "cell_type": "markdown",
   "id": "cccb111f",
   "metadata": {},
   "source": [
    "Durch Angabe einer negativen Schrittweite kann auch rückwärts gezählt werden:"
   ]
  },
  {
   "cell_type": "code",
   "execution_count": 26,
   "id": "f1b9d303",
   "metadata": {},
   "outputs": [
    {
     "name": "stdout",
     "output_type": "stream",
     "text": [
      "13\n",
      "11\n",
      "9\n",
      "7\n",
      "5\n",
      "Fertig!\n"
     ]
    }
   ],
   "source": [
    "for zahl in range(13, 3, -2):\n",
    "    print(zahl)\n",
    "print('Fertig!')"
   ]
  },
  {
   "cell_type": "markdown",
   "id": "f73a67d2",
   "metadata": {},
   "source": [
    "For-Schleifen können auch ineinander verschachtelt werden. Das ist z.B.\n",
    "hilfreich, wenn man alle Paare durch Kombination bilden will."
   ]
  },
  {
   "cell_type": "code",
   "execution_count": 27,
   "id": "8acbe7b4",
   "metadata": {},
   "outputs": [
    {
     "name": "stdout",
     "output_type": "stream",
     "text": [
      "Kombination Farbe mit Zahl:  rot 1\n",
      "Kombination Farbe mit Zahl:  rot 2\n",
      "Kombination Farbe mit Zahl:  rot 5\n",
      "Kombination Farbe mit Zahl:  rot 17\n",
      "Kombination Farbe mit Zahl:  grün 1\n",
      "Kombination Farbe mit Zahl:  grün 2\n",
      "Kombination Farbe mit Zahl:  grün 5\n",
      "Kombination Farbe mit Zahl:  grün 17\n",
      "Kombination Farbe mit Zahl:  blau 1\n",
      "Kombination Farbe mit Zahl:  blau 2\n",
      "Kombination Farbe mit Zahl:  blau 5\n",
      "Kombination Farbe mit Zahl:  blau 17\n"
     ]
    }
   ],
   "source": [
    "for i in ['rot', 'grün', 'blau']:\n",
    "    for j in [1, 2, 5, 17]:\n",
    "        print('Kombination Farbe mit Zahl: ', i, j)"
   ]
  },
  {
   "cell_type": "markdown",
   "id": "3e9cccdd",
   "metadata": {},
   "source": [
    "Natürlich kann eine for- auch mit einer if-else-Konstruktion kombiniert werden.\n",
    "Was vermuten Sie, macht folgender Code-Schnipsel?"
   ]
  },
  {
   "cell_type": "code",
   "execution_count": 28,
   "id": "5669e506",
   "metadata": {},
   "outputs": [
    {
     "name": "stdout",
     "output_type": "stream",
     "text": [
      "Kombination Farbe mit Zahl:  rot 1\n",
      "Kombination Farbe mit Zahl:  rot 2\n",
      "Kombination Farbe mit Zahl:  rot 3\n",
      "Kombination der Farbe GRÜN mit Zahl:  1\n",
      "Kombination der Farbe GRÜN mit Zahl:  2\n",
      "Kombination der Farbe GRÜN mit Zahl:  3\n",
      "Kombination Farbe mit Zahl:  blau 1\n",
      "Kombination Farbe mit Zahl:  blau 2\n",
      "Kombination Farbe mit Zahl:  blau 3\n"
     ]
    }
   ],
   "source": [
    "for i in ['rot', 'grün', 'blau']:\n",
    "    for j in [1,2,3]:\n",
    "        if i == 'grün':\n",
    "            print('Kombination der Farbe GRÜN mit Zahl: ', j)\n",
    "        else:\n",
    "            print('Kombination Farbe mit Zahl: ', i, j)"
   ]
  },
  {
   "cell_type": "markdown",
   "id": "db60f92f",
   "metadata": {},
   "source": [
    "<iframe width=\"560\" height=\"315\" src=\"https://www.youtube.com/embed/pQh5Idw2sKM\" title=\"YouTube video player\" frameborder=\"0\" allow=\"accelerometer; autoplay; clipboard-write; encrypted-media; gyroscope; picture-in-picture\" allowfullscreen></iframe>"
   ]
  }
 ],
 "metadata": {
  "jupytext": {
   "formats": "ipynb,md:myst",
   "text_representation": {
    "extension": ".md",
    "format_name": "myst",
    "format_version": 0.13,
    "jupytext_version": "1.13.8"
   }
  },
  "kernelspec": {
   "display_name": "Python 3 (ipykernel)",
   "language": "python",
   "name": "python3"
  },
  "language_info": {
   "codemirror_mode": {
    "name": "ipython",
    "version": 3
   },
   "file_extension": ".py",
   "mimetype": "text/x-python",
   "name": "python",
   "nbconvert_exporter": "python",
   "pygments_lexer": "ipython3",
   "version": "3.9.12"
  },
  "source_map": [
   13,
   32,
   37,
   40,
   44,
   47,
   51,
   53,
   57,
   60,
   64,
   67,
   77,
   80,
   84,
   87,
   96,
   102,
   108,
   114,
   121,
   124,
   142,
   147,
   168,
   173,
   177,
   181,
   186,
   191,
   197,
   209,
   211,
   216,
   247,
   252,
   259,
   262,
   269,
   273,
   284,
   288,
   294,
   298,
   305,
   308,
   312,
   316,
   321,
   325,
   330,
   337
  ]
 },
 "nbformat": 4,
 "nbformat_minor": 5
}