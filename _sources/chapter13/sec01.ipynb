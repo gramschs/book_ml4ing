{
 "cells": [
  {
   "cell_type": "markdown",
   "id": "0d0ea0e4",
   "metadata": {},
   "source": [
    "# 12.1 Mehrschichtiges Perzeptron\n",
    "\n",
    "```{admonition} Lernziele\n",
    ":class: goals\n",
    "* Sie wissen, was ein **Multilayer-Perzeptron** (MLP), also ein mehrschichtiges Perzeptron, ist.\n",
    "* Sie können den Begriff **Deep Learning** erklären.\n",
    "* Sie können mit Scikit-Learn ein neuronales Netz trainieren.\n",
    "```"
   ]
  },
  {
   "cell_type": "markdown",
   "id": "6145f312",
   "metadata": {},
   "source": [
    "## Viele Perzeptronen sind ein neuronales Netz\n",
    "\n",
    "In einem vorhergehenden Kapitel haben wir das Perzeptron, ein künstliches Neuron\n",
    "kennengelernt. Schematisch können wir es folgendermaßen darstellen:\n",
    "\n",
    "```{figure} pics/perceptron.svg\n",
    "---\n",
    "width: 600px\n",
    "---\n",
    "Schematische Darstellung eines Perzeptrons\n",
    "```\n",
    "\n",
    "Jedes Eingangssignal wird mit einem Gewicht multipliziert. Anschließend werden\n",
    "die gewichteten Eingangssignale summiert. Übersteigt die gewichtete Summe einen\n",
    "Schwellenwert, feuert sozusagen das künstliche Neuron. Das Ausgabesignal wird\n",
    "aktiviert.\n",
    "\n",
    "Mathematisch gesehen, wurde nach dem Bilden der gewichteten Summe die\n",
    "Heaviside-Funktion angewendet. Im Kapitel über die logistische Regression haben\n",
    "wir bereits gelernt, dass auch andere Funktionen zum Einsatz kommen können. Bei\n",
    "der logistischen Regression wird beispielsweise die Sigmoid-Funktion verwendet.\n",
    "Bei neuronalen Netzen sind insbesondere die\n",
    "[ReLU-Funktion](https://de.wikipedia.org/wiki/Rectifier_(neuronale_Netzwerke))\n",
    "(rectified linear unit) \n",
    "\n",
    "```{figure} pics/plot_relu_function.svg\n",
    "---\n",
    "width: 600px\n",
    "---\n",
    "ReLU-Funktion\n",
    "```\n",
    "\n",
    "und der [Tangens hyperbolicus](https://de.wikipedia.org/wiki/Tangens_hyperbolicus_und_Kotangens_hyperbolicus)\n",
    "\n",
    "```{figure} pics/plot_tanh_function.svg\n",
    "---\n",
    "width: 600px\n",
    "---\n",
    "Tangens hyperbolicus\n",
    "```\n",
    "\n",
    "häufig eingesetzte Aktivierungsfunktionen.\n",
    "\n",
    "Oft werden diese beiden Schritte -- Bilden der gewichteten Summe und Anwenden\n",
    "der Aktivierungsfunktion -- in einem Symbol gemeinsam dargestellt, wie in der\n",
    "folgenden Abbildung zu sehen.\n",
    "\n",
    "```{figure} pics/neuron.svg\n",
    "---\n",
    "width: 600px\n",
    "---\n",
    "Vereinfachte schematische Darstellung eines Perzeptrons\n",
    "```\n",
    "\n",
    "Tatsächlich sind sogar häufig Darstellungen verbreitet, bei denen nur noch durch\n",
    "die Kreise das Perzeptron oder das künstliche Neuron symbolisiert wird.\n",
    "\n",
    "```{figure} pics/neuron_symbolisch.svg\n",
    "---\n",
    "width: 600px\n",
    "---\n",
    "Symbolbild eines Perzeptrons bzw. eines künstlichen Neurons\n",
    "```\n",
    "\n",
    "Die Idee des mehrschichtigen Perzeptrons ist es, eine oder mehrere\n",
    "Zwischenschichten einzuführen. In dem folgenden Beispiel wird eine\n",
    "Zwischenschichtmit zwei Neuronen eingeführt:\n",
    "\n",
    "```{figure} pics/MLP_1layer_2neurons.svg\n",
    "---\n",
    "width: 600px\n",
    "---\n",
    "Ein mehrschichtiges Perzeptron (Mulitilayer Perceptron)\n",
    "```\n",
    "\n",
    "Es können beliebig viele Zwischenschichten eingeführt werden. Jede neue\n",
    "Zwischenschicht kann dabei unterschiedliche Anzahlen von Neuronen enthalten.\n",
    "Insgesamt nennen wir die so entstehende Rechenvorschrift **mehrschichtiges\n",
    "Perzeptron** oder **Multilayer Perceptron** oder **neuronales Netz**.\n",
    "\n",
    "Das folgende Video fasst die Struktur eines neuronalen Netzes noch einmal zusammen."
   ]
  },
  {
   "cell_type": "markdown",
   "id": "1faf8aa3",
   "metadata": {},
   "source": [
    "<iframe width=\"560\" height=\"315\" src=\"https://www.youtube.com/embed/2dBu9wgW2-s\" title=\"YouTube video player\" frameborder=\"0\" allow=\"accelerometer; autoplay; clipboard-write; encrypted-media; gyroscope; picture-in-picture; web-share\" allowfullscreen></iframe>"
   ]
  },
  {
   "cell_type": "markdown",
   "id": "31c0e7d9",
   "metadata": {},
   "source": [
    "## Viele Schichten = Deep Learning\n",
    "\n",
    "Bei neuronalen Netzen werden viele Schichten mit vielen Neuronen in die\n",
    "Rechenvorschrift einbezogen. Das führt dazu, dass vor allem sogenannte tiefe\n",
    "neuronale Netze, also solche mit vielen Schichten, extrem leistungsfähig sind.\n",
    "Umgekehrt benötigen neuronale Netze aber auch eine große Anzahl an\n",
    "Trainingsdaten mit guter Qualität. \n",
    "\n",
    "Die Firma Linguee verfügte genau über solche Deutsch-Englisch-Übersetzungen.\n",
    "2017 trainierten Mitarbeiter dieses Unternehmens auf Basis dieser Übersetzungen\n",
    "ein neuronales Netz, das die bisher dahin existierenden Übersetzungsdienste von\n",
    "beispielsweise Google Translate bei Weitem übertraf. 2022 wurde das daraus\n",
    "gegründete Start-Up DeepL zum sogenannten Einhorn, also zu einem Start-Up, das\n",
    "mit mehr als 1 Milliarde Dollar bewertet wird (siehe\n",
    "[Artikel](https://www.faz.net/aktuell/wirtschaft/deepl-der-online-uebersetzungsdienst-wird-zum-einhorn-18467883.html))."
   ]
  }
 ],
 "metadata": {
  "jupytext": {
   "formats": "ipynb,md:myst",
   "text_representation": {
    "extension": ".md",
    "format_name": "myst",
    "format_version": 0.13,
    "jupytext_version": "1.15.2"
   }
  },
  "kernelspec": {
   "display_name": "Python 3",
   "language": "python",
   "name": "python3"
  },
  "language_info": {
   "codemirror_mode": {
    "name": "ipython",
    "version": 3
   },
   "file_extension": ".py",
   "mimetype": "text/x-python",
   "name": "python",
   "nbconvert_exporter": "python",
   "pygments_lexer": "ipython3",
   "version": "3.12.2"
  },
  "source_map": [
   13,
   24,
   108,
   112
  ]
 },
 "nbformat": 4,
 "nbformat_minor": 5
}