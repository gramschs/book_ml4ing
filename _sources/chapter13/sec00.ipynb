{
 "cells": [
  {
   "cell_type": "markdown",
   "id": "f2300dc1",
   "metadata": {},
   "source": [
    "# 13. Logistische Regression\n",
    "\n",
    "Das binäre Klassifikationsverfahren des Perzeptrons sortiert Datensätze in zwei\n",
    "Klassen. Ob dabei die Entscheidung für eine Klasse sehr knapp getroffen wird\n",
    "oder eindeutig erscheint, wird dabei nicht transparent. Im Folgenden\n",
    "beschäftigen wir uns mit einem binären Klassifikationsverfahren namens\n",
    "logistische Regression, das auf einer Prognose der Klassenwahrscheinlichkeit\n",
    "basiert.\n",
    "\n",
    "Kapitelübersicht:\n",
    "\n",
    "```{tableofcontents}\n",
    "```"
   ]
  }
 ],
 "metadata": {
  "jupytext": {
   "formats": "ipynb,md:myst",
   "text_representation": {
    "extension": ".md",
    "format_name": "myst",
    "format_version": 0.13,
    "jupytext_version": "1.15.2"
   }
  },
  "kernelspec": {
   "display_name": "Python 3",
   "language": "python",
   "name": "python3"
  },
  "language_info": {
   "codemirror_mode": {
    "name": "ipython",
    "version": 3
   },
   "file_extension": ".py",
   "mimetype": "text/x-python",
   "name": "python",
   "nbconvert_exporter": "python",
   "pygments_lexer": "ipython3",
   "version": "3.12.2"
  },
  "source_map": [
   13
  ]
 },
 "nbformat": 4,
 "nbformat_minor": 5
}