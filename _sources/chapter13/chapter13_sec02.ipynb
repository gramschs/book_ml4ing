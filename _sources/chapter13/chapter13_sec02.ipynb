{
 "cells": [
  {
   "cell_type": "markdown",
   "id": "8909d961",
   "metadata": {},
   "source": [
    "# Filter anwenden\n",
    "\n",
    "```{admonition} Lernziele\n",
    ":class: important\n",
    "* TODO\n",
    "```"
   ]
  },
  {
   "cell_type": "markdown",
   "id": "1e2bb3c6",
   "metadata": {},
   "source": [
    "## Kanten detektieren mit canny\n",
    "\n",
    "Die Funktion `canny()` ermittelt in einem Graustufenbild die Kanten. Wir laden\n",
    "zuerst das Foto neu und wandeln es direkt in ein Graustufenbild um. Dann\n",
    "probieren wir den Canny-Filter aus. Dazu importieren wir zunächst die\n",
    "`canny()`-Funktion aus dem Untermodul `skimage.feature`."
   ]
  },
  {
   "cell_type": "code",
   "execution_count": 1,
   "id": "c1ee4d21",
   "metadata": {},
   "outputs": [
    {
     "ename": "ModuleNotFoundError",
     "evalue": "No module named 'skimage'",
     "output_type": "error",
     "traceback": [
      "\u001b[0;31m---------------------------------------------------------------------------\u001b[0m",
      "\u001b[0;31mModuleNotFoundError\u001b[0m                       Traceback (most recent call last)",
      "Cell \u001b[0;32mIn[1], line 1\u001b[0m\n\u001b[0;32m----> 1\u001b[0m \u001b[38;5;28;01mfrom\u001b[39;00m \u001b[38;5;21;01mskimage\u001b[39;00m\u001b[38;5;21;01m.\u001b[39;00m\u001b[38;5;21;01mcolor\u001b[39;00m \u001b[38;5;28;01mimport\u001b[39;00m rgb2gray\n\u001b[1;32m      2\u001b[0m \u001b[38;5;28;01mfrom\u001b[39;00m \u001b[38;5;21;01mskimage\u001b[39;00m\u001b[38;5;21;01m.\u001b[39;00m\u001b[38;5;21;01mfeature\u001b[39;00m \u001b[38;5;28;01mimport\u001b[39;00m canny\n\u001b[1;32m      3\u001b[0m \u001b[38;5;28;01mfrom\u001b[39;00m \u001b[38;5;21;01mskimage\u001b[39;00m\u001b[38;5;21;01m.\u001b[39;00m\u001b[38;5;21;01mio\u001b[39;00m \u001b[38;5;28;01mimport\u001b[39;00m imread, imshow       \n",
      "\u001b[0;31mModuleNotFoundError\u001b[0m: No module named 'skimage'"
     ]
    }
   ],
   "source": [
    "from skimage.color import rgb2gray\n",
    "from skimage.feature import canny\n",
    "from skimage.io import imread, imshow       \n",
    "\n",
    "foto = imread(\"muenzen_und_mehr_medium.jpg\")\n",
    "foto_grau = rgb2gray(foto)\n",
    "\n",
    "kanten = canny(foto_grau, sigma=2)\n",
    "imshow(kanten)"
   ]
  },
  {
   "cell_type": "markdown",
   "id": "3eb45595",
   "metadata": {},
   "source": [
    "## Hough-Transformation\n",
    "\n",
    "Die Hough-Transformation detektiert in einem Graustufenbild Gerade, Kreise oder\n",
    "andere geometrische Objekte. Allerdings müssen wir zuvor eine Kantenerkennung\n",
    "durchgeführt haben, also den Canny-Filter angewendet haben. Wir suchen in\n",
    "unserem Beispielfoto nach Kreisen. Dafür stellt Scikit-Image die Funktion\n",
    "`hough_circle()` im Untermodul `skimage.transform` zur Verfügung. Mehr Details\n",
    "finden Sie in der [Dokumentation/Scikit-Image →\n",
    "hough_circle()](https://scikit-image.org/docs/stable/api/skimage.transform.html?highlight=hough#skimage.transform.hough_circle).\n",
    "\n",
    "Es wäre jetzt schön, einfach das Kantenbild als Argument der\n",
    "`hough_circle()`-Funktion verwenden zu können und den Rest der Bildanalyse\n",
    "Scikit-Image zu überlassen. Leider benötigen wir ein zweites Argument, nämlich\n",
    "den Radius, nach dem gesucht werden soll. Wir probieren es einfach mal mit einem\n",
    "Radius von 120 px."
   ]
  },
  {
   "cell_type": "code",
   "execution_count": null,
   "id": "c335ed36",
   "metadata": {},
   "outputs": [],
   "source": [
    "from skimage.transform import hough_circle\n",
    "\n",
    "kreise = hough_circle(kanten, 120)"
   ]
  },
  {
   "cell_type": "markdown",
   "id": "8d9faa18",
   "metadata": {},
   "source": [
    "Um anschließend die detektierten Kreise auch sichtbar machen zu können,\n",
    "benötigen wir eine weitere Funktion aus dem Untermodul `skimage.transform`."
   ]
  },
  {
   "cell_type": "code",
   "execution_count": null,
   "id": "69d28570",
   "metadata": {},
   "outputs": [],
   "source": [
    "import matplotlib.pylab as plt\n",
    "import matplotlib.patches as patches\n",
    "from skimage.transform import hough_circle_peaks\n",
    "\n",
    "_, x, y, r = hough_circle_peaks(kreise, [120,])\n",
    "\n",
    "fig, ax = plt.subplots()\n",
    "ax.imshow(foto_grau)\n",
    "kreislinie = patches.Circle( (x[0],y[0]), r[0], edgecolor='r', facecolor='none')\n",
    "ax.add_patch(kreislinie)"
   ]
  },
  {
   "cell_type": "markdown",
   "id": "fd4f8f14",
   "metadata": {},
   "source": [
    "Tatsächlich, es wurde ein Kreis detektiert. Um auch die anderen zu finden,\n",
    "erzeugen wir jetzt ein Array von möglichen Radien und lassen in einer\n",
    "for-Schleife die möglichen Kreise bestimmen."
   ]
  },
  {
   "cell_type": "code",
   "execution_count": null,
   "id": "092d423b",
   "metadata": {},
   "outputs": [],
   "source": [
    "import numpy as np\n",
    "\n",
    "radius_liste = np.arange(50, 250, 10)\n",
    "kreise = hough_circle(kanten, radius_liste)\n",
    "_, x_liste, y_liste, r_liste = hough_circle_peaks(kreise, radius_liste, total_num_peaks=25)\n",
    "\n",
    "fig, ax = plt.subplots()\n",
    "ax.imshow(foto)\n",
    "for (x,y,r) in zip(x_liste, y_liste, r_liste):\n",
    "    kreislinie = patches.Circle( (x,y), r, edgecolor='r', facecolor='none')\n",
    "    ax.add_patch(kreislinie)"
   ]
  },
  {
   "cell_type": "markdown",
   "id": "6234c1ea",
   "metadata": {},
   "source": [
    "Die Mandarine wird nicht erkannt, aber Münzen und Teelicht werden als\n",
    "kreisförmige Objekte detektiert."
   ]
  }
 ],
 "metadata": {
  "jupytext": {
   "text_representation": {
    "extension": ".md",
    "format_name": "myst",
    "format_version": 0.13,
    "jupytext_version": "1.14.7"
   }
  },
  "kernelspec": {
   "display_name": "python39",
   "language": "python",
   "name": "python3"
  },
  "language_info": {
   "codemirror_mode": {
    "name": "ipython",
    "version": 3
   },
   "file_extension": ".py",
   "mimetype": "text/x-python",
   "name": "python",
   "nbconvert_exporter": "python",
   "pygments_lexer": "ipython3",
   "version": "3.11.0"
  },
  "source_map": [
   12,
   21,
   30,
   40,
   58,
   62,
   67,
   78,
   84,
   96
  ]
 },
 "nbformat": 4,
 "nbformat_minor": 5
}