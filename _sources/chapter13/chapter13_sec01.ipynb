{
 "cells": [
  {
   "cell_type": "markdown",
   "id": "76ab076b",
   "metadata": {},
   "source": [
    "# Grafiken\n",
    "\n",
    "```{admonition} Lernziele\n",
    ":class: important\n",
    "* TODO\n",
    "```"
   ]
  },
  {
   "cell_type": "markdown",
   "id": "fa073151",
   "metadata": {},
   "source": [
    "## Rastergrafik vs. Vektorgrafik\n",
    "\n",
    "Prinzipiell gibt es zwei Arten, Bilder zu digitalisieren, nämlich ihre\n",
    "Darstellung als Rastergrafik oder die Beschreibung durch eine Vektorgrafik.\n",
    "\n",
    "Bei der Rastergrafik besteht ein Bild aus vielen Bildpunkten, die in einem\n",
    "Raster angeordnet sind. Ein Bildpunkt wird auch als Pixel bezeichnet. Jeder\n",
    "Pixel hat seine Position und beschreibt die Farbe des dortigen Bildausschnitts.\n",
    "Je mehr Pixel ein Bild hat, desto größer ist seine Auflösung und desto höher\n",
    "normalerweise die Bildqualität. Da jedoch die Anzahl der Pixel begrenzt ist,\n",
    "können wir nicht beliebig einen Bildausschnitt vergrößern. Ab einem bestimmten\n",
    "Vergrößerungsfaltor wird es zu sogeannten Pixelartefakten kommen. Trotz dieser\n",
    "Nachteile sind Rastergrafiken sehr verbreitet -- vor allem in der Fotografie\n",
    "werden hauptsächlich verwendet. Um dennoch nicht übermäßig Speicherplatz zu\n",
    "belegen, gibt es Algorithmen, die Dateigröße geschickt durch Kompression der\n",
    "Daten zu reduzieren. Typische Speicherformate für Rastergrafiken sind jpg, png\n",
    "oder gif. \n",
    "\n",
    "Bei einer Vektorgrafik werden die Bildelemente durch geometrische Konstruktionen\n",
    "wie biespielsweise Linien, Kurven oder Polygonen beschrieben. Daher eignen sich\n",
    "Vektorgrafiken besonders für Logos oder Illustrationen. Ihr großer Vorteil liegt\n",
    "darin, dass sie durch die geometrische Beschreibung beliebig vergrößerbar sind.\n",
    "Am häufgsten werden Vektorgrafiken im SVG-Format gespeichert, das für Scalable\n",
    "Vector Graphics steht."
   ]
  },
  {
   "cell_type": "markdown",
   "id": "529b651b",
   "metadata": {},
   "source": [
    "## Bilder einlesen mit Scikit-Image\n",
    "\n",
    "Scikit-Image ist eine Bibliothek für die Bildverarbeitung in Python. Sie\n",
    "ermöglicht es, Bilder einzulesen und darszutellen. Sie bietet auch weitere\n",
    "Funktionen wie die Anwendung von Filtern oder die Analyse von Bildeigenschaften.\n",
    "Die Bibliothek wird von Freiwilligen entwickelt und ist Open Source. Mehr\n",
    "Details finden Sie auf der Homepage von\n",
    "[Scikit-Image](https://scikit-image.org).\n",
    "\n",
    "Es gibt auch Alternativen zu Scikit-Image. Am bekanntesten ist die Bibliothek\n",
    "[OpenCV](https://opencv.org). Für größere Projekte ist OpenCV empfehlenswert,\n",
    "denn OpenCV unterstützt nicht nur Python, sondern auch C++ und ermöglicht somit\n",
    "besser als Scikit-Image die Verarbeitung von großen Datenmengen. Von den\n",
    "Funktionalitäten bietet es einen größeren Umfang als Scikit-Image. Im Gegensatz\n",
    "dazu ist die Bedienung von Scikit-Image leichter zu erlernen und Scikit-Image\n",
    "ist stärker auf statistische Methoden ausgerichtet, so dass wir in diesem\n",
    "Kapitel Scikit-Image benutzen. Standardmäßig ist Scikit-Image nicht installiert.\n",
    "Installationshinweise finden Sie auf der Homepage [Scikit-Image → Installing\n",
    "scikit-image](https://scikit-image.org/docs/dev/install.html)."
   ]
  },
  {
   "cell_type": "markdown",
   "id": "577e4755",
   "metadata": {},
   "source": [
    "Die Bibliothek Scikit-Image heißt `skimage`. Die Funktionen zum Lesen und\n",
    "Schreiben von Bildern befinden sich im Untermodul `io`. Eine Liste der\n",
    "implemntierten Funktionen finden Sie unter [Dokumentation/Scikit-Image →\n",
    "io](https://scikit-image.org/docs/stable/api/skimage.io.html). Wir verwenden\n",
    "zunächst die Funktion `imread()`, um die Datei 'muenzen_und_mehr_medium.jpg'\n",
    "einzulesen. Mit `imshow()` lassen wir das Foto anzeigen."
   ]
  },
  {
   "cell_type": "code",
   "execution_count": 1,
   "id": "ad64928f",
   "metadata": {},
   "outputs": [
    {
     "ename": "ModuleNotFoundError",
     "evalue": "No module named 'skimage'",
     "output_type": "error",
     "traceback": [
      "\u001b[0;31m---------------------------------------------------------------------------\u001b[0m",
      "\u001b[0;31mModuleNotFoundError\u001b[0m                       Traceback (most recent call last)",
      "Cell \u001b[0;32mIn[1], line 1\u001b[0m\n\u001b[0;32m----> 1\u001b[0m \u001b[38;5;28;01mfrom\u001b[39;00m \u001b[38;5;21;01mskimage\u001b[39;00m\u001b[38;5;21;01m.\u001b[39;00m\u001b[38;5;21;01mio\u001b[39;00m \u001b[38;5;28;01mimport\u001b[39;00m imread, imshow                                             \n\u001b[1;32m      3\u001b[0m foto \u001b[38;5;241m=\u001b[39m imread(\u001b[38;5;124m\"\u001b[39m\u001b[38;5;124mmuenzen_und_mehr_medium.jpg\u001b[39m\u001b[38;5;124m\"\u001b[39m)   \n\u001b[1;32m      4\u001b[0m imshow(foto)\n",
      "\u001b[0;31mModuleNotFoundError\u001b[0m: No module named 'skimage'"
     ]
    }
   ],
   "source": [
    "from skimage.io import imread, imshow                                             \n",
    "\n",
    "foto = imread(\"muenzen_und_mehr_medium.jpg\")   \n",
    "imshow(foto);                                "
   ]
  },
  {
   "cell_type": "markdown",
   "id": "2d0cdd37",
   "metadata": {},
   "source": [
    "Das Foto zeigt einige Münzen, ein Teelicht und eine Mandarine. Die x- und y-Achse werden in Pixeln angegeben. Aber was ist eigentlich genau in der Variable `foto` gespeichert?\n",
    "\n",
    "Mit der Funktion `type()` ermitteln wir den Datentyp."
   ]
  },
  {
   "cell_type": "code",
   "execution_count": null,
   "id": "89220e4a",
   "metadata": {},
   "outputs": [],
   "source": [
    "print(type(foto))"
   ]
  },
  {
   "cell_type": "markdown",
   "id": "657a2e57",
   "metadata": {},
   "source": [
    "Also ein NumPy-Array. Als nächstes bestimmen wir die Größe des Arrays mit der\n",
    "Funktion `shape()` aus dem NumPy-Modul."
   ]
  },
  {
   "cell_type": "code",
   "execution_count": null,
   "id": "f33140b0",
   "metadata": {},
   "outputs": [],
   "source": [
    "import numpy as np\n",
    "\n",
    "print( np.shape(foto) )"
   ]
  },
  {
   "cell_type": "markdown",
   "id": "02af17a2",
   "metadata": {},
   "source": [
    "Die Variable speichert also drei Matrizen mit 1800 Zeilen und 2400 Spalten. Wir ermitteln schnell noch die minimalen und maximalen Einträge in jeder der drei Matrizen."
   ]
  },
  {
   "cell_type": "code",
   "execution_count": null,
   "id": "eebda240",
   "metadata": {},
   "outputs": [],
   "source": [
    "for kanal in range(3):\n",
    "    minimal_wert = np.min( foto[:,:,kanal])\n",
    "    maximal_wert = np.max( foto[:,:,kanal])\n",
    "\n",
    "    print('Kanal: {}'.format(kanal))\n",
    "    print('minimaler Wert: {} und maximaler Wert: {}'.format(minimal_wert, maximal_wert))\n",
    "   "
   ]
  },
  {
   "cell_type": "markdown",
   "id": "8fb898e5",
   "metadata": {},
   "source": [
    "Die Werte liegen zwischen 0 und 255.\n",
    "\n",
    "Die Funktion `imread()` hat das Bild als sogenanntes RGB-Bild importiert. Die\n",
    "drei Buchstaben stehen dabei für die Farben Rot, Grün und Blau. Jeder Eintrag\n",
    "der drei Matrizen beschreibt den Intensitätswert, den der Bildpunkt an dieser\n",
    "Stelle hat. Die erste Matrix enthält dabei die Information, welche Bildpunkte\n",
    "keine Farbe haben (Wert 0) oder welche maximal rot sind (Wert 255). Analog dazu\n",
    "beschreibt die zweite Matrix die Grüntöne und die dritte Matrix die Blautöne.\n",
    "Manchmal werden anstatt der Integer-Zahlen von 0 bis 255 auch Floats von 0.0 bis\n",
    "1.0 verwendet, um die Intensität zu kodieren.\n",
    "\n",
    "Wir betrachten uns die drei Farbkanäle einzeln:"
   ]
  },
  {
   "cell_type": "code",
   "execution_count": null,
   "id": "89a0d1a8",
   "metadata": {},
   "outputs": [],
   "source": [
    "import matplotlib.pylab as plt\n",
    "\n",
    "kanal_rot   = foto[:, :, 0]\n",
    "kanal_gruen = foto[:, :, 1]\n",
    "kanal_blau  = foto[:, :, 2]\n",
    "\n",
    "fig, ax = plt.subplots(3,1, figsize=(20, 15))\n",
    "\n",
    "ax[0].imshow(kanal_rot, cmap='Reds')\n",
    "ax[1].imshow(kanal_gruen, cmap='Greens')\n",
    "ax[2].imshow(kanal_blau, cmap='Blues');"
   ]
  },
  {
   "cell_type": "markdown",
   "id": "a70b2f07",
   "metadata": {},
   "source": [
    "Wir erkennen beispielsweise, dass die orangefarbene Mandarine keinen Blauanteil\n",
    "hat."
   ]
  },
  {
   "cell_type": "markdown",
   "id": "1d63a39d",
   "metadata": {},
   "source": [
    "## Graustufenbild\n",
    "\n",
    "Für die weitere Bildverarbeitung verwandeln wir das RGB-Bild in ein sogenanntes\n",
    "Graustufenbild. Dabei werden die Farbinformationen durch eine Beschreibung der\n",
    "Helligkeitswerte der Pixel ersetzt. Der Grauwert kann gemäß [Wikipedia →\n",
    "Grauwert](https://de.wikipedia.org/wiki/Grauwert) aus den Farben Rot, Grün und\n",
    "Blau mit der Formel\n",
    "\n",
    "Grauwert = 0.299 x Rotanteil + 0.587 x Grünanteil + 0.114 x Blauanteil\n",
    "\n",
    "berechnet werden.\n",
    "\n",
    "Transformieren wir das RGB-Bild in ein Graustufenbild, brauchen wir uns nur noch\n",
    "mit einer Matrix anstatt von drei Matrizen beschäftigen. Somit wird auch der\n",
    "benötigte Speicherplatz reduziert. Darüber hinaus verwenden wir\n",
    "Graustufenbilder, da sie eine effektivere Basis für viele\n",
    "Bildverarbeitungsalgorithmen darstellen und auch den benötigten Speicherplatz\n",
    "reduzieren.\n",
    "\n",
    "Scikit-Image stellt dafür die Funktion `rgb2gray()` zur Verfügung, die wir aus\n",
    "dem Untermodul `skimage.color` laden:"
   ]
  },
  {
   "cell_type": "code",
   "execution_count": null,
   "id": "488c1b4f",
   "metadata": {},
   "outputs": [],
   "source": [
    "from skimage.color import rgb2gray\n",
    "\n",
    "foto_grau = rgb2gray(foto)\n",
    "\n",
    "print('Shape des Graustufenbildes: ')\n",
    "print(np.shape(foto_grau))\n",
    "\n",
    "imshow(foto_grau);"
   ]
  }
 ],
 "metadata": {
  "jupytext": {
   "text_representation": {
    "extension": ".md",
    "format_name": "myst",
    "format_version": 0.13,
    "jupytext_version": "1.14.7"
   }
  },
  "kernelspec": {
   "display_name": "python39",
   "language": "python",
   "name": "python3"
  },
  "language_info": {
   "codemirror_mode": {
    "name": "ipython",
    "version": 3
   },
   "file_extension": ".py",
   "mimetype": "text/x-python",
   "name": "python",
   "nbconvert_exporter": "python",
   "pygments_lexer": "ipython3",
   "version": "3.11.0"
  },
  "source_map": [
   12,
   25,
   52,
   74,
   83,
   88,
   94,
   96,
   101,
   105,
   109,
   117,
   132,
   144,
   149,
   173
  ]
 },
 "nbformat": 4,
 "nbformat_minor": 5
}