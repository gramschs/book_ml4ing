{
 "cells": [
  {
   "cell_type": "markdown",
   "id": "14ea7d6c",
   "metadata": {},
   "source": [
    "# Mehrschichtiges Perzeptron\n",
    "\n",
    "```{admonition} Lernziele\n",
    ":class: important\n",
    "* Sie wissen, was ein **Multilayer-Perzeptron** (MLP), also ein mehrschichtiges Perzeptron, ist.\n",
    "* Sie können den Begriff **Deep Learning** erklären.\n",
    "* Sie können mit Scikit-Learn ein neuronales Netz trainieren.\n",
    "```"
   ]
  },
  {
   "cell_type": "markdown",
   "id": "bb61e2b2",
   "metadata": {},
   "source": [
    "## Viele Perzeptronen sind ein neuronales Netz\n",
    "\n",
    "In einem vorhergehenden Kapitel haben wir das Perzeptron, ein künstliches Neuron\n",
    "kennengelernt. Schematisch können wir es folgendermaßen darstellen:\n",
    "\n",
    "```{figure} pics/perceptron.svg\n",
    "---\n",
    "width: 600px\n",
    "---\n",
    "Schematische Darstellung eines Perzeptrons\n",
    "```\n",
    "\n",
    "Jedes Eingangssignal wird mit einem Gewicht multipliziert. Anschließend werden\n",
    "die gewichteten Eingangssignale summiert. Übersteigt die gewichtete Summe einen\n",
    "Schwellenwert, feuert sozusagen das künstliche Neuron. Das Ausgabesignal wird\n",
    "aktiviert.\n",
    "\n",
    "Mathematisch gesehen, wurde nach dem Bilden der gewichteten Summe die\n",
    "Heaviside-Funktion angewendet. Im Kapitel über die logistische Regression haben\n",
    "wir bereits gelernt, dass auch andere Funktionen zum Einsatz kommen können. Bei\n",
    "der logistischen Regression wird beispielsweise die Sigmoid-Funktion verwendet.\n",
    "Oft werden diese beiden Schritte -- Bilden der gewichteten Summe und Anwenden\n",
    "der Aktivierungsfunktion -- in einem Symbol gemeinsam dargestellt, wie in der\n",
    "folgenden Abbildung zu sehen.\n",
    "\n",
    "```{figure} pics/neuron.svg\n",
    "---\n",
    "width: 600px\n",
    "---\n",
    "Vereinfachte schematische Darstellung eines Perzeptrons\n",
    "```\n",
    "\n",
    "Tatsächlich sind sogar häufig Darstellungen verbreit, bei denen nur noch durch\n",
    "die Kreise das Perzeptron oder das künstliche Neuron symbolisiert wird.\n",
    "\n",
    "```{figure} pics/neuron_symbolisch.svg\n",
    "---\n",
    "width: 600px\n",
    "---\n",
    "Symbolbild eines Perzeptrons bzw. eines künstlichen Neurons\n",
    "```\n",
    "\n",
    "Die Idee des mehrschichtigen Perzeptrons ist es, eine oder mehrere\n",
    "Zwischenschichten einzuführen. In dem folgenden Beispiel wird eine\n",
    "Zwischenschichtmit zwei Neuronen eingeführt:\n",
    "\n",
    "```{figure} pics/MLP_1layer_2neurons.svg\n",
    "---\n",
    "width: 600px\n",
    "---\n",
    "Ein mehrschichtiges Perzeptron (Mulitilayer Perceptron)\n",
    "```\n",
    "\n",
    "Es können beliebig viele Zwischenschichten eingeführt werden. Jede neue\n",
    "Zwischenschicht kann dabei unterschiedliche Anzahlen von Neuronen enthalten.\n",
    "Insgesamt nennen wir die so entstehende Rechenvorschrift **mehrschichtiges\n",
    "Perzeptron** oder **Multilayer Perceptron** oder **neuronales Netz**.\n",
    "\n",
    "Das folgende Video fasst die Struktur eines neuronalen Netzes noch einmal zusammen."
   ]
  },
  {
   "cell_type": "markdown",
   "id": "36b93f19",
   "metadata": {},
   "source": [
    "<iframe width=\"560\" height=\"315\" src=\"https://www.youtube.com/embed/2dBu9wgW2-s\" title=\"YouTube video player\" frameborder=\"0\" allow=\"accelerometer; autoplay; clipboard-write; encrypted-media; gyroscope; picture-in-picture; web-share\" allowfullscreen></iframe>"
   ]
  },
  {
   "cell_type": "markdown",
   "id": "3536ed8c",
   "metadata": {},
   "source": [
    "## Viele Schichten = Deep Learning\n",
    "\n",
    "Bei neuronalen Netzen werden viele Schichten mit vielen Neuronen in die\n",
    "Rechenvorschrift einbezogen. Das führt dazu, dass vor allem sogenannte tiefe\n",
    "neuronale Netze, also solche mit vielen Schichten, extrem leistungsfähig sind.\n",
    "Umgekehrt benötigen neuronale Netze aber auch eine große Anzahl an\n",
    "Trainingsdaten mit guter Qualität. \n",
    "\n",
    "Die Firma Linguee verfügte genau über solche Deutsch-Englisch-Übersetzungen.\n",
    "2017 trainierten Mitarbeiter dieses Unternehmens auf Basis dieser Übersetzungen\n",
    "ein neuronales Netz, das die bisher dahin existierenden Übersetzungsdienste von\n",
    "beispielsweise Google Translate bei Weitem übertraf. 2022 wurde das daraus\n",
    "gegründete Start-Up DeepL zum sogenannten Einhorn, also zu einem Start-Up, das\n",
    "mit mehr als 1 Milliarde Dollar bewertet wird (siehe\n",
    "[Artikel](https://www.faz.net/aktuell/wirtschaft/deepl-der-online-uebersetzungsdienst-wird-zum-einhorn-18467883.html))."
   ]
  }
 ],
 "metadata": {
  "jupytext": {
   "text_representation": {
    "extension": ".md",
    "format_name": "myst",
    "format_version": 0.13,
    "jupytext_version": "1.14.7"
   }
  },
  "kernelspec": {
   "display_name": "Python 3",
   "language": "python",
   "name": "python3"
  },
  "language_info": {
   "codemirror_mode": {
    "name": "ipython",
    "version": 3
   },
   "file_extension": ".py",
   "mimetype": "text/x-python",
   "name": "python",
   "nbconvert_exporter": "python",
   "pygments_lexer": "ipython3",
   "version": "3.10.11"
  },
  "source_map": [
   12,
   23,
   85,
   89
  ]
 },
 "nbformat": 4,
 "nbformat_minor": 5
}