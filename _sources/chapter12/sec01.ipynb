{
 "cells": [
  {
   "cell_type": "markdown",
   "id": "801710d1",
   "metadata": {},
   "source": [
    "# Logistische Regression ersetzt Perzeptron\n",
    "\n",
    "\n",
    "## Lernziele\n",
    "\n",
    "```{admonition} Lernziele\n",
    ":class: goals\n",
    "* Sie können die **logistische Funktion** zeichnen.\n",
    "* Sie können die **Funktionsgleichung der logistischen Funktion** angeben.\n",
    "* Sie können das **logistische Regressionsmodell** schematisch darstellen. \n",
    "```\n",
    "\n",
    "## Perzeptron ungeeignet bei nicht trennbaren Daten\n",
    "\n",
    "Das Perzeptron ist ein simples ML-Verfahren für die binäre Klassifikation.\n",
    "Allerdings ist das Perzeptron nur für trennbare Datensätze geeignet. Dazu\n",
    "schauen wir uns zwei Beispiele aus dem Männerfußball an. Ziel der folgenden\n",
    "Klassifikationsaufgabe ist es, anhand des Marktwertes eines Vereines zu\n",
    "klassifizieren, ob der Verein in der Bundesliga oder in der 2. Bundesliga\n",
    "spielt.\n",
    "\n",
    "Dazu laden wir als erstes den Datensatz `20220801_Marktwert_Bundesliga.csv`\n",
    "(Download\n",
    "[csv](https://nextcloud.frankfurt-university.de/s/GESBZzRyXq6dLNC/download);\n",
    "Quelle: https://www.transfermarkt.de; Stichtag: 01.08.2022)."
   ]
  },
  {
   "cell_type": "code",
   "execution_count": 1,
   "id": "65f29f35",
   "metadata": {
    "tags": [
     "output-scroll"
    ]
   },
   "outputs": [
    {
     "ename": "FileNotFoundError",
     "evalue": "[Errno 2] No such file or directory: 'data/20220801_Marktwert_Bundesliga.csv'",
     "output_type": "error",
     "traceback": [
      "\u001b[0;31m---------------------------------------------------------------------------\u001b[0m",
      "\u001b[0;31mFileNotFoundError\u001b[0m                         Traceback (most recent call last)",
      "Cell \u001b[0;32mIn[1], line 2\u001b[0m\n\u001b[1;32m      1\u001b[0m \u001b[38;5;28;01mimport\u001b[39;00m \u001b[38;5;21;01mpandas\u001b[39;00m \u001b[38;5;28;01mas\u001b[39;00m \u001b[38;5;21;01mpd\u001b[39;00m\n\u001b[0;32m----> 2\u001b[0m data_raw \u001b[38;5;241m=\u001b[39m pd\u001b[38;5;241m.\u001b[39mread_csv(\u001b[38;5;124m'\u001b[39m\u001b[38;5;124mdata/20220801_Marktwert_Bundesliga.csv\u001b[39m\u001b[38;5;124m'\u001b[39m, skiprows\u001b[38;5;241m=\u001b[39m\u001b[38;5;241m5\u001b[39m, header\u001b[38;5;241m=\u001b[39m\u001b[38;5;241m0\u001b[39m, index_col\u001b[38;5;241m=\u001b[39m\u001b[38;5;241m0\u001b[39m)\n\u001b[1;32m      3\u001b[0m data_raw\u001b[38;5;241m.\u001b[39minfo()\n",
      "File \u001b[0;32m/opt/homebrew/Caskroom/miniconda/base/envs/python311/lib/python3.11/site-packages/pandas/io/parsers/readers.py:948\u001b[0m, in \u001b[0;36mread_csv\u001b[0;34m(filepath_or_buffer, sep, delimiter, header, names, index_col, usecols, dtype, engine, converters, true_values, false_values, skipinitialspace, skiprows, skipfooter, nrows, na_values, keep_default_na, na_filter, verbose, skip_blank_lines, parse_dates, infer_datetime_format, keep_date_col, date_parser, date_format, dayfirst, cache_dates, iterator, chunksize, compression, thousands, decimal, lineterminator, quotechar, quoting, doublequote, escapechar, comment, encoding, encoding_errors, dialect, on_bad_lines, delim_whitespace, low_memory, memory_map, float_precision, storage_options, dtype_backend)\u001b[0m\n\u001b[1;32m    935\u001b[0m kwds_defaults \u001b[38;5;241m=\u001b[39m _refine_defaults_read(\n\u001b[1;32m    936\u001b[0m     dialect,\n\u001b[1;32m    937\u001b[0m     delimiter,\n\u001b[0;32m   (...)\u001b[0m\n\u001b[1;32m    944\u001b[0m     dtype_backend\u001b[38;5;241m=\u001b[39mdtype_backend,\n\u001b[1;32m    945\u001b[0m )\n\u001b[1;32m    946\u001b[0m kwds\u001b[38;5;241m.\u001b[39mupdate(kwds_defaults)\n\u001b[0;32m--> 948\u001b[0m \u001b[38;5;28;01mreturn\u001b[39;00m _read(filepath_or_buffer, kwds)\n",
      "File \u001b[0;32m/opt/homebrew/Caskroom/miniconda/base/envs/python311/lib/python3.11/site-packages/pandas/io/parsers/readers.py:611\u001b[0m, in \u001b[0;36m_read\u001b[0;34m(filepath_or_buffer, kwds)\u001b[0m\n\u001b[1;32m    608\u001b[0m _validate_names(kwds\u001b[38;5;241m.\u001b[39mget(\u001b[38;5;124m\"\u001b[39m\u001b[38;5;124mnames\u001b[39m\u001b[38;5;124m\"\u001b[39m, \u001b[38;5;28;01mNone\u001b[39;00m))\n\u001b[1;32m    610\u001b[0m \u001b[38;5;66;03m# Create the parser.\u001b[39;00m\n\u001b[0;32m--> 611\u001b[0m parser \u001b[38;5;241m=\u001b[39m TextFileReader(filepath_or_buffer, \u001b[38;5;241m*\u001b[39m\u001b[38;5;241m*\u001b[39mkwds)\n\u001b[1;32m    613\u001b[0m \u001b[38;5;28;01mif\u001b[39;00m chunksize \u001b[38;5;129;01mor\u001b[39;00m iterator:\n\u001b[1;32m    614\u001b[0m     \u001b[38;5;28;01mreturn\u001b[39;00m parser\n",
      "File \u001b[0;32m/opt/homebrew/Caskroom/miniconda/base/envs/python311/lib/python3.11/site-packages/pandas/io/parsers/readers.py:1448\u001b[0m, in \u001b[0;36mTextFileReader.__init__\u001b[0;34m(self, f, engine, **kwds)\u001b[0m\n\u001b[1;32m   1445\u001b[0m     \u001b[38;5;28mself\u001b[39m\u001b[38;5;241m.\u001b[39moptions[\u001b[38;5;124m\"\u001b[39m\u001b[38;5;124mhas_index_names\u001b[39m\u001b[38;5;124m\"\u001b[39m] \u001b[38;5;241m=\u001b[39m kwds[\u001b[38;5;124m\"\u001b[39m\u001b[38;5;124mhas_index_names\u001b[39m\u001b[38;5;124m\"\u001b[39m]\n\u001b[1;32m   1447\u001b[0m \u001b[38;5;28mself\u001b[39m\u001b[38;5;241m.\u001b[39mhandles: IOHandles \u001b[38;5;241m|\u001b[39m \u001b[38;5;28;01mNone\u001b[39;00m \u001b[38;5;241m=\u001b[39m \u001b[38;5;28;01mNone\u001b[39;00m\n\u001b[0;32m-> 1448\u001b[0m \u001b[38;5;28mself\u001b[39m\u001b[38;5;241m.\u001b[39m_engine \u001b[38;5;241m=\u001b[39m \u001b[38;5;28mself\u001b[39m\u001b[38;5;241m.\u001b[39m_make_engine(f, \u001b[38;5;28mself\u001b[39m\u001b[38;5;241m.\u001b[39mengine)\n",
      "File \u001b[0;32m/opt/homebrew/Caskroom/miniconda/base/envs/python311/lib/python3.11/site-packages/pandas/io/parsers/readers.py:1705\u001b[0m, in \u001b[0;36mTextFileReader._make_engine\u001b[0;34m(self, f, engine)\u001b[0m\n\u001b[1;32m   1703\u001b[0m     \u001b[38;5;28;01mif\u001b[39;00m \u001b[38;5;124m\"\u001b[39m\u001b[38;5;124mb\u001b[39m\u001b[38;5;124m\"\u001b[39m \u001b[38;5;129;01mnot\u001b[39;00m \u001b[38;5;129;01min\u001b[39;00m mode:\n\u001b[1;32m   1704\u001b[0m         mode \u001b[38;5;241m+\u001b[39m\u001b[38;5;241m=\u001b[39m \u001b[38;5;124m\"\u001b[39m\u001b[38;5;124mb\u001b[39m\u001b[38;5;124m\"\u001b[39m\n\u001b[0;32m-> 1705\u001b[0m \u001b[38;5;28mself\u001b[39m\u001b[38;5;241m.\u001b[39mhandles \u001b[38;5;241m=\u001b[39m get_handle(\n\u001b[1;32m   1706\u001b[0m     f,\n\u001b[1;32m   1707\u001b[0m     mode,\n\u001b[1;32m   1708\u001b[0m     encoding\u001b[38;5;241m=\u001b[39m\u001b[38;5;28mself\u001b[39m\u001b[38;5;241m.\u001b[39moptions\u001b[38;5;241m.\u001b[39mget(\u001b[38;5;124m\"\u001b[39m\u001b[38;5;124mencoding\u001b[39m\u001b[38;5;124m\"\u001b[39m, \u001b[38;5;28;01mNone\u001b[39;00m),\n\u001b[1;32m   1709\u001b[0m     compression\u001b[38;5;241m=\u001b[39m\u001b[38;5;28mself\u001b[39m\u001b[38;5;241m.\u001b[39moptions\u001b[38;5;241m.\u001b[39mget(\u001b[38;5;124m\"\u001b[39m\u001b[38;5;124mcompression\u001b[39m\u001b[38;5;124m\"\u001b[39m, \u001b[38;5;28;01mNone\u001b[39;00m),\n\u001b[1;32m   1710\u001b[0m     memory_map\u001b[38;5;241m=\u001b[39m\u001b[38;5;28mself\u001b[39m\u001b[38;5;241m.\u001b[39moptions\u001b[38;5;241m.\u001b[39mget(\u001b[38;5;124m\"\u001b[39m\u001b[38;5;124mmemory_map\u001b[39m\u001b[38;5;124m\"\u001b[39m, \u001b[38;5;28;01mFalse\u001b[39;00m),\n\u001b[1;32m   1711\u001b[0m     is_text\u001b[38;5;241m=\u001b[39mis_text,\n\u001b[1;32m   1712\u001b[0m     errors\u001b[38;5;241m=\u001b[39m\u001b[38;5;28mself\u001b[39m\u001b[38;5;241m.\u001b[39moptions\u001b[38;5;241m.\u001b[39mget(\u001b[38;5;124m\"\u001b[39m\u001b[38;5;124mencoding_errors\u001b[39m\u001b[38;5;124m\"\u001b[39m, \u001b[38;5;124m\"\u001b[39m\u001b[38;5;124mstrict\u001b[39m\u001b[38;5;124m\"\u001b[39m),\n\u001b[1;32m   1713\u001b[0m     storage_options\u001b[38;5;241m=\u001b[39m\u001b[38;5;28mself\u001b[39m\u001b[38;5;241m.\u001b[39moptions\u001b[38;5;241m.\u001b[39mget(\u001b[38;5;124m\"\u001b[39m\u001b[38;5;124mstorage_options\u001b[39m\u001b[38;5;124m\"\u001b[39m, \u001b[38;5;28;01mNone\u001b[39;00m),\n\u001b[1;32m   1714\u001b[0m )\n\u001b[1;32m   1715\u001b[0m \u001b[38;5;28;01massert\u001b[39;00m \u001b[38;5;28mself\u001b[39m\u001b[38;5;241m.\u001b[39mhandles \u001b[38;5;129;01mis\u001b[39;00m \u001b[38;5;129;01mnot\u001b[39;00m \u001b[38;5;28;01mNone\u001b[39;00m\n\u001b[1;32m   1716\u001b[0m f \u001b[38;5;241m=\u001b[39m \u001b[38;5;28mself\u001b[39m\u001b[38;5;241m.\u001b[39mhandles\u001b[38;5;241m.\u001b[39mhandle\n",
      "File \u001b[0;32m/opt/homebrew/Caskroom/miniconda/base/envs/python311/lib/python3.11/site-packages/pandas/io/common.py:863\u001b[0m, in \u001b[0;36mget_handle\u001b[0;34m(path_or_buf, mode, encoding, compression, memory_map, is_text, errors, storage_options)\u001b[0m\n\u001b[1;32m    858\u001b[0m \u001b[38;5;28;01melif\u001b[39;00m \u001b[38;5;28misinstance\u001b[39m(handle, \u001b[38;5;28mstr\u001b[39m):\n\u001b[1;32m    859\u001b[0m     \u001b[38;5;66;03m# Check whether the filename is to be opened in binary mode.\u001b[39;00m\n\u001b[1;32m    860\u001b[0m     \u001b[38;5;66;03m# Binary mode does not support 'encoding' and 'newline'.\u001b[39;00m\n\u001b[1;32m    861\u001b[0m     \u001b[38;5;28;01mif\u001b[39;00m ioargs\u001b[38;5;241m.\u001b[39mencoding \u001b[38;5;129;01mand\u001b[39;00m \u001b[38;5;124m\"\u001b[39m\u001b[38;5;124mb\u001b[39m\u001b[38;5;124m\"\u001b[39m \u001b[38;5;129;01mnot\u001b[39;00m \u001b[38;5;129;01min\u001b[39;00m ioargs\u001b[38;5;241m.\u001b[39mmode:\n\u001b[1;32m    862\u001b[0m         \u001b[38;5;66;03m# Encoding\u001b[39;00m\n\u001b[0;32m--> 863\u001b[0m         handle \u001b[38;5;241m=\u001b[39m \u001b[38;5;28mopen\u001b[39m(\n\u001b[1;32m    864\u001b[0m             handle,\n\u001b[1;32m    865\u001b[0m             ioargs\u001b[38;5;241m.\u001b[39mmode,\n\u001b[1;32m    866\u001b[0m             encoding\u001b[38;5;241m=\u001b[39mioargs\u001b[38;5;241m.\u001b[39mencoding,\n\u001b[1;32m    867\u001b[0m             errors\u001b[38;5;241m=\u001b[39merrors,\n\u001b[1;32m    868\u001b[0m             newline\u001b[38;5;241m=\u001b[39m\u001b[38;5;124m\"\u001b[39m\u001b[38;5;124m\"\u001b[39m,\n\u001b[1;32m    869\u001b[0m         )\n\u001b[1;32m    870\u001b[0m     \u001b[38;5;28;01melse\u001b[39;00m:\n\u001b[1;32m    871\u001b[0m         \u001b[38;5;66;03m# Binary mode\u001b[39;00m\n\u001b[1;32m    872\u001b[0m         handle \u001b[38;5;241m=\u001b[39m \u001b[38;5;28mopen\u001b[39m(handle, ioargs\u001b[38;5;241m.\u001b[39mmode)\n",
      "\u001b[0;31mFileNotFoundError\u001b[0m: [Errno 2] No such file or directory: 'data/20220801_Marktwert_Bundesliga.csv'"
     ]
    }
   ],
   "source": [
    "import pandas as pd\n",
    "data_raw = pd.read_csv('data/20220801_Marktwert_Bundesliga.csv', skiprows=5, header=0, index_col=0)\n",
    "data_raw.info()"
   ]
  },
  {
   "cell_type": "markdown",
   "id": "ee92451f",
   "metadata": {},
   "source": [
    "Die ersten fünf Einträge lauten wie folgt:"
   ]
  },
  {
   "cell_type": "code",
   "execution_count": null,
   "id": "eb2e757a",
   "metadata": {},
   "outputs": [],
   "source": [
    "data_raw.head()"
   ]
  },
  {
   "cell_type": "markdown",
   "id": "4109b0fa",
   "metadata": {},
   "source": [
    "Die erste Spalte enthält den Vereinsnamen, die zweite Spalte listet die\n",
    "Ligazugehörigkeit (Bundesliga, 2. Bundesliga oder 3. Liga), die dritte Spalte\n",
    "beinhaltet den Marktwert des Vereins in Mio. Euro und die vierte Spalte listet\n",
    "die Anzahl der Spieler.\n",
    "\n",
    "Welche Ligen sind denn im Datensatz vertreten?"
   ]
  },
  {
   "cell_type": "code",
   "execution_count": null,
   "id": "9c4e7fcc",
   "metadata": {},
   "outputs": [],
   "source": [
    "data_raw['Ligazugehörigkeit'].unique()"
   ]
  },
  {
   "cell_type": "markdown",
   "id": "fc9a734c",
   "metadata": {},
   "source": [
    "Zuerst erkunden wie die Daten und lassen uns den MArktwert abhängig von der\n",
    "Ligazugehörigkeit visualisieren."
   ]
  },
  {
   "cell_type": "code",
   "execution_count": null,
   "id": "93ac4a3f",
   "metadata": {},
   "outputs": [],
   "source": [
    "import plotly.express as px\n",
    "\n",
    "fig = px.box(data_raw, x = 'Ligazugehörigkeit', y = 'Wert',\n",
    "             title='Deutscher Vereinsfußball der Männer (Stichtag: 1.8.2022)')\n",
    "fig.show()"
   ]
  },
  {
   "cell_type": "markdown",
   "id": "688339ae",
   "metadata": {},
   "source": [
    "In der Bundesliga gibt es bezogen auf den Kaderwert drei Ausreißer, in der 3.\n",
    "Liga gibt es einen Ausreißer. Zoom man in die Visualisierung hinein, so sehen\n",
    "wir, dass ein Marktwert von 36 Mio. Euro die Erstligisten von den Zweitligisten\n",
    "trennt. Daher wäre für eine Klassifikation Bundesliga vs. 2. Bundesliga ein\n",
    "Perzeptron trainierbar. Eine solche Trennung funktioniert bei den Vereinen der\n",
    "1. Bundesliga und der 3. Liga nicht. Der minimale Marktwert der 2. Bundesliga\n",
    "(8.83 Mio. EUR) ist niedriger als der maximale Marktwert der 3. Liga (13.05 Mio.\n",
    "EUR). Wir betrachten nun nur noch 2. und 3. Liga und stellen die folgende Frage:\n",
    "\n",
    "Kann aufgrund des Marktwertes die Zugehörigkeit zur 2. Bundesliga oder 3. Liga\n",
    "prognostiziert werden? Wir visualisieren die einzelnen Datenpunkte mit der\n",
    "Ursache 'Wert' auf der x-Achse und 'Ligazugehörigkeit' auf der y-Achse."
   ]
  },
  {
   "cell_type": "code",
   "execution_count": null,
   "id": "8b12c2a1",
   "metadata": {},
   "outputs": [],
   "source": [
    "data = data_raw[ data_raw['Ligazugehörigkeit'] != 'Bundesliga' ]\n",
    "\n",
    "fig = px.scatter(data, x = 'Wert', y = 'Ligazugehörigkeit',\n",
    "             title='Deutscher Vereinsfußball der Männer (Stichtag: 1.8.2022)')\n",
    "fig.show()"
   ]
  },
  {
   "cell_type": "markdown",
   "id": "376aea60",
   "metadata": {},
   "source": [
    "Als nächstes ersetzen wir die Klassenbezeichnungen durch numerische Werte. Mit\n",
    "Bezeichnungen wie \"3. Liga\" und \"2. Bundesliga\" kann Python nämlich nicht\n",
    "rechnen. Bei einem binären Klassifikationsverfahren wie hier werden hierfür\n",
    "üblicherweise die Zahlen 0 und 1 verwendet, also\n",
    "<ul>\n",
    "    <li>3. Liga --> 0</li>\n",
    "    <li>2. Bundesliga --> 1</li>\n",
    "</ul>\n",
    "\n",
    "Das Klassifikationsproblem lautet also: angenommen, ein\n",
    "Verein hat den Marktwert x. Gehört der Verein dann zur Klasse 1 (= 2.\n",
    "Bundesliga)?\n",
    "\n",
    "Als zweites verabschieden wir uns von dem Perzeptron. Anstatt eine Gerade zur\n",
    "Trennung einzuziehen, nehmen wir eine S-förmige Funktion. Diese S-förmige\n",
    "Funktion interpretieren wir als **Wahrscheinlichkeit** der Ligazugehörigkeit.\n",
    "Die Werte liegen dabei zwischen 0 und 1. Bei einer Wahrscheinlichkeit von 1 sind\n",
    "wir also 100 % sicher, dass der Verein zur Klasse 1 (= 2. Bundesliga) gehört.\n",
    "Bei einem Wert von 0.7 gehen wir mit 70 % Wahrscheinlichkeit davon aus, dass der\n",
    "Verein zur Klasse 1 (= 2. Bundesliga) gehört.\n",
    "\n",
    "Als drittes verwandeln wir die Wahrscheinlichkeit mit Werten *zwischen* 0 und 1\n",
    "in die Klassen 0 oder 1. Dazu nutzen wir die Heaviside-Funktion. Die komplette\n",
    "Vorgehensweise ist in der folgenden Grafik dargestellt.\n",
    "\n",
    "```{figure} pics/bundesliga_decision_function_annotated.pdf\n",
    "---\n",
    "width: 600px\n",
    "name: bundesliga_decision_function_annotated\n",
    "---\n",
    "Die S-förmige schwarz gestrichelte Kurve gibt die Wahrscheinlichkeit an, dass ein Verein zur 2. Bundesliga gehört. Da nicht nach einer Wahrscheinlichkeit gefragt ist, sondern nur nach 2. Bundesliga -- ja oder nein -- werden alle Vereine mit einer Wahrscheinlichkeitgrößer 50 % (also $\\geq 0.5$) als Zweitligisten klassifiziert.\n",
    "```\n",
    "\n",
    "Jetzt brauchen wir eine Funktion für die S-förmige Kurve, das wir dann mittels\n",
    "eines ML-Verfahrens an unsere Trainingsdaten anpassen können."
   ]
  },
  {
   "cell_type": "markdown",
   "id": "ccc28d06",
   "metadata": {},
   "source": [
    "## Logistische Funktion ersetzt Heaviside-Funktion\n",
    "\n",
    "Beim Perzeptron wird auf die gewichtete Summe von Inputs die Heaviside-Funktion\n",
    "angewandt. So simpel die Heaviside-Funktion $\\phi$ auch ist, sie hat einen\n",
    "entscheidenen Nachteil. Die Heaviside-Funktion ist unstetig, sie springt von\n",
    "Null auf Eins. Diese Sprungstelle hat die **logistische Funktion** nicht. \n",
    "\n",
    "Die logistische Funktion ist defininiert als\n",
    "\n",
    "$$\\sigma(z) = \\frac{1}{1+e^{-z}}.$$\n",
    "\n",
    "Um die logistische Funktion abzukürzen, verwenden wir dabei den griechischen\n",
    "Buchstaben Sigma $\\sigma$, weil die logistische Funktion auch\n",
    "**Sigmoid-Funktion** genannt wird. In der folgenden Abbildung ist der\n",
    "Funktionsgraph der logistischen Funktion dargestellt.\n",
    "\n",
    "```{figure} pics/plot_logit_function.pdf\n",
    "---\n",
    "width: 600px\n",
    "name: plot_logit_function\n",
    "---\n",
    "Funktionsgraph der logistischen Funktion, auch Sigmoid-Funktion genannt\n",
    "```\n",
    "\n",
    "Damit haben wir die Bausteine des logistischen Regressionmodells komplettiert.\n",
    "Genau wie bei der linearen Regression oder beim Perzeptron werden zuerst die\n",
    "einzelnen Inputs gewichtet und aufsummiert. Auf die gewichtete Summe wird dann\n",
    "die logistische Funktion als Aktivierungsfunktione angewendet. Das Ergebnis ist\n",
    "die Wahrscheinlichkeit für die Klasse mit der Bezeichnung 1 (in unserem Beispiel\n",
    "die Zugehörigkeit zur 2. Bundesliga). Zuletzt wird noch die Heaviside-Funktion\n",
    "als Schwellenwertfunktion angewendet, um aus der Wahrscheinlichkeit eine Klasse\n",
    "zu machen.\n",
    "\n",
    "Schematisch dargestellt sieht das logistische Regressionsmodell also\n",
    "folgendermaßen aus:\n",
    "\n",
    "\n",
    "```{figure} pics/topology_logistic_regression.svg\n",
    "---\n",
    "width: 600px\n",
    "name: topology_logistic_regression\n",
    "---\n",
    "Das logistische Regressionsmodell als neuronales Netz formuliert.\n",
    "```\n",
    "\n",
    "Mathematisch formuliert lautet das logistische Regressionsmodell folgendermaßen:\n",
    "\n",
    "$$\\hat{P} = \\sigma\\left(\\sum_{i=0}^{N} x_i \\omega_i\\right) = \\frac{1}{1+e^{-\\sum x_i \\omega_i}} \n",
    "\\rightsquigarrow \\hat{y} = \\begin{cases} 0: & \\hat{P} < 0.5 \\\\ 1: & \\hat{P} \\geq 0.5 \\end{cases} $$"
   ]
  },
  {
   "cell_type": "markdown",
   "id": "405ceb21",
   "metadata": {},
   "source": [
    "## Zusammenfassung und Ausblick\n",
    "\n",
    "In diesem Abschnitt haben wir das logistische Regressionsmodell formuliert. Als\n",
    "nächstes betrachten wir ein Lernverfahren, um die Gewichte des logistischen\n",
    "Regressionsmodells zu erlernen."
   ]
  }
 ],
 "metadata": {
  "jupytext": {
   "formats": "ipynb,md:myst",
   "text_representation": {
    "extension": ".md",
    "format_name": "myst",
    "format_version": 0.13,
    "jupytext_version": "1.15.2"
   }
  },
  "kernelspec": {
   "display_name": "Python 3",
   "language": "python",
   "name": "python3"
  },
  "language_info": {
   "codemirror_mode": {
    "name": "ipython",
    "version": 3
   },
   "file_extension": ".py",
   "mimetype": "text/x-python",
   "name": "python",
   "nbconvert_exporter": "python",
   "pygments_lexer": "ipython3",
   "version": "3.11.0"
  },
  "source_map": [
   13,
   41,
   47,
   51,
   53,
   62,
   64,
   69,
   75,
   90,
   96,
   134,
   190
  ]
 },
 "nbformat": 4,
 "nbformat_minor": 5
}