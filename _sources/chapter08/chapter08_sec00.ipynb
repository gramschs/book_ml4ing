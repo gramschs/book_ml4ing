{
 "cells": [
  {
   "cell_type": "markdown",
   "id": "4c9cf110",
   "metadata": {},
   "source": [
    "# Perzeptron\n",
    "\n",
    "Durch neuronale Netze, die tief verschachtelt sind (= tiefe neuronale Netze =\n",
    "deep neural network), gab es im Bereich des maschinellen Lernens einen\n",
    "Durchbruch. Neuronale Netze sind eine Technik aus der Statistik, die bereits in\n",
    "den 1940er Jahren entwickelt wurde. Seit ca. 10 Jahren erlebt diese Technik\n",
    "verbunden mit Fortschritten in der Computertechnologie eine Renaissance.\n",
    "\n",
    "Neuronale Netze bzw. Deep Learning kommen vor allem da zum Einsatz, wo es kaum\n",
    "systematisches Wissen gibt. Damit neuronale Netze erfolgreich trainiert werden\n",
    "können, brauchen sie sehr große Datenmengen. Nachdem in den letzten 15 Jahren\n",
    "mit dem Aufkommen von Smartphones die Daten im Bereich Videos und Fotos massiv\n",
    "zugenommen haben, lohnt sich der Einsatz der neuronalen Netze für\n",
    "Spracherkennung, Gesichtserkennung oder Texterkennung besonders.\n",
    "\n",
    "Beispielsweise hat ein junges deutsches Start-Up-Unternehmen 2017 aus einem\n",
    "neuronalen Netz zum Übersetzen Englisch <-> Deutsch eine Webanwendung entwickelt\n",
    "und ins Internet gestellt, die meinen Alltag massiv beeinflusst: \n",
    "\n",
    "> DeepL.com \n",
    "\n",
    "Auf der Seite \n",
    "\n",
    "> https://www.deepl.com/en/blog/how-does-deepl-work\n",
    "\n",
    "finden Sie einen kurzen Übersichtsartikel dazu, wie DeepL funktioniert."
   ]
  }
 ],
 "metadata": {
  "jupytext": {
   "formats": "ipynb,md:myst",
   "text_representation": {
    "extension": ".md",
    "format_name": "myst",
    "format_version": 0.13,
    "jupytext_version": "1.13.8"
   }
  },
  "kernelspec": {
   "display_name": "Python 3 (ipykernel)",
   "language": "python",
   "name": "python3"
  },
  "language_info": {
   "codemirror_mode": {
    "name": "ipython",
    "version": 3
   },
   "file_extension": ".py",
   "mimetype": "text/x-python",
   "name": "python",
   "nbconvert_exporter": "python",
   "pygments_lexer": "ipython3",
   "version": "3.10.11"
  },
  "source_map": [
   13
  ]
 },
 "nbformat": 4,
 "nbformat_minor": 5
}