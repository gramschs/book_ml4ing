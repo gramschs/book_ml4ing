{
 "cells": [
  {
   "cell_type": "code",
   "execution_count": 2,
   "metadata": {},
   "outputs": [
    {
     "name": "stdout",
     "output_type": "stream",
     "text": [
      "<class 'pandas.core.frame.DataFrame'>\n",
      "RangeIndex: 1000 entries, 0 to 999\n",
      "Data columns (total 14 columns):\n",
      " #   Column                Non-Null Count  Dtype  \n",
      "---  ------                --------------  -----  \n",
      " 0   Marke                 1000 non-null   object \n",
      " 1   Modell                1000 non-null   object \n",
      " 2   Farbe                 1000 non-null   object \n",
      " 3   Erstzulassung         1000 non-null   object \n",
      " 4   Jahr                  1000 non-null   object \n",
      " 5   Preis (Euro)          1000 non-null   object \n",
      " 6   Leistung (kW)         1000 non-null   object \n",
      " 7   Leistung (PS)         1000 non-null   object \n",
      " 8   Getriebe              1000 non-null   object \n",
      " 9   Kraftstoff            1000 non-null   object \n",
      " 10  Verbrauch (l/100 km)  892 non-null    object \n",
      " 11  Verbrauch (g/km)      1000 non-null   object \n",
      " 12  Kilometerstand (km)   999 non-null    float64\n",
      " 13  Bemerkungen           1000 non-null   object \n",
      "dtypes: float64(1), object(13)\n",
      "memory usage: 109.5+ KB\n"
     ]
    }
   ],
   "source": [
    "import pandas as pd\n",
    "\n",
    "data = pd.read_csv('https://gramschs.github.io/book_ml4ing/data/autoscout24_DE_small.csv')\n",
    "data.info()"
   ]
  },
  {
   "cell_type": "code",
   "execution_count": null,
   "metadata": {},
   "outputs": [],
   "source": [
    "data.isnull()"
   ]
  },
  {
   "cell_type": "code",
   "execution_count": null,
   "metadata": {},
   "outputs": [],
   "source": [
    "data.isnull().sum()"
   ]
  },
  {
   "cell_type": "code",
   "execution_count": null,
   "metadata": {},
   "outputs": [],
   "source": [
    "missing_data = data.isnull()"
   ]
  },
  {
   "cell_type": "code",
   "execution_count": null,
   "metadata": {},
   "outputs": [],
   "source": [
    "data[ missing_data['Kilometerstand (km)'] ].head()"
   ]
  },
  {
   "cell_type": "markdown",
   "metadata": {},
   "source": []
  },
  {
   "cell_type": "code",
   "execution_count": null,
   "metadata": {},
   "outputs": [],
   "source": [
    "data['Jahr'].unique()"
   ]
  }
 ],
 "metadata": {
  "kernelspec": {
   "display_name": "python310",
   "language": "python",
   "name": "python3"
  },
  "language_info": {
   "codemirror_mode": {
    "name": "ipython",
    "version": 3
   },
   "file_extension": ".py",
   "mimetype": "text/x-python",
   "name": "python",
   "nbconvert_exporter": "python",
   "pygments_lexer": "ipython3",
   "version": "3.12.2"
  }
 },
 "nbformat": 4,
 "nbformat_minor": 2
}
