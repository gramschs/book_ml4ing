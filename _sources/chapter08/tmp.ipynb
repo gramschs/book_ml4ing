{
 "cells": [
  {
   "cell_type": "code",
   "execution_count": 82,
   "metadata": {},
   "outputs": [
    {
     "name": "stdout",
     "output_type": "stream",
     "text": [
      "<class 'pandas.core.frame.DataFrame'>\n",
      "RangeIndex: 930 entries, 0 to 929\n",
      "Data columns (total 14 columns):\n",
      " #   Column                Non-Null Count  Dtype  \n",
      "---  ------                --------------  -----  \n",
      " 0   Marke                 930 non-null    object \n",
      " 1   Modell                930 non-null    object \n",
      " 2   Farbe                 930 non-null    object \n",
      " 3   Erstzulassung         930 non-null    object \n",
      " 4   Jahr                  930 non-null    int64  \n",
      " 5   Preis (Euro)          930 non-null    int64  \n",
      " 6   Leistung (kW)         930 non-null    int64  \n",
      " 7   Leistung (PS)         930 non-null    int64  \n",
      " 8   Getriebe              930 non-null    object \n",
      " 9   Kraftstoff            930 non-null    object \n",
      " 10  Verbrauch (l/100 km)  930 non-null    float64\n",
      " 11  Kilometerstand (km)   930 non-null    float64\n",
      " 12  Bemerkungen           930 non-null    object \n",
      " 13  Zustand               930 non-null    object \n",
      "dtypes: float64(2), int64(4), object(8)\n",
      "memory usage: 101.8+ KB\n"
     ]
    }
   ],
   "source": [
    "import pandas as pd \n",
    "\n",
    "data = pd.read_csv('autoscout24_DE_kodierung.csv')\n",
    "data.info()"
   ]
  },
  {
   "cell_type": "code",
   "execution_count": null,
   "metadata": {},
   "outputs": [],
   "source": []
  }
 ],
 "metadata": {
  "kernelspec": {
   "display_name": "python312",
   "language": "python",
   "name": "python3"
  },
  "language_info": {
   "codemirror_mode": {
    "name": "ipython",
    "version": 3
   },
   "file_extension": ".py",
   "mimetype": "text/x-python",
   "name": "python",
   "nbconvert_exporter": "python",
   "pygments_lexer": "ipython3",
   "version": "3.12.2"
  }
 },
 "nbformat": 4,
 "nbformat_minor": 2
}
