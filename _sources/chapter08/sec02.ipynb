{
 "cells": [
  {
   "cell_type": "markdown",
   "id": "8813c89f",
   "metadata": {},
   "source": [
    "# 8.2 Kodierung und Skalierung\n",
    "\n",
    "```{admonition} Warnung\n",
    ":class: warning\n",
    "Warnung: Dieser Abschnitt wird gerade überarbeitet.\n",
    "```\n",
    "\n",
    "TODO"
   ]
  }
 ],
 "metadata": {
  "jupytext": {
   "formats": "ipynb,md:myst",
   "text_representation": {
    "extension": ".md",
    "format_name": "myst",
    "format_version": 0.13,
    "jupytext_version": "1.15.2"
   }
  },
  "kernelspec": {
   "display_name": "Python 3",
   "language": "python",
   "name": "python3"
  },
  "language_info": {
   "codemirror_mode": {
    "name": "ipython",
    "version": 3
   },
   "file_extension": ".py",
   "mimetype": "text/x-python",
   "name": "python",
   "nbconvert_exporter": "python",
   "pygments_lexer": "ipython3",
   "version": "3.12.2"
  },
  "source_map": [
   13
  ]
 },
 "nbformat": 4,
 "nbformat_minor": 5
}