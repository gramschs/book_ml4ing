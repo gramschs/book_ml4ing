{
 "cells": [
  {
   "cell_type": "markdown",
   "id": "5c7cfd76",
   "metadata": {},
   "source": [
    "# 8.1 Fehlende Daten\n",
    "\n",
    "Realistische Datensätze sind oft unvollständig. In einer Umfrage hat eine Person\n",
    "mit einer Frage nichts anfangen können und daher nichts angekreuzt. Ein\n",
    "Messsensor an der Produktionsanlage ist abends ausgefallen, was erst am nächsten\n",
    "Morgen bemerkt wurde. Die Mitarbeitenden einer Arztpraxis sind im Urlaub und\n",
    "lassen die Meldung der verabreichten Impfungen noch bis nach dem Urlaub liegen.\n",
    "Es gibt viele Gründe, warum Datensätze unvollständig sind. In diesem Abschnitt\n",
    "beschäftigen eir uns damit, fehlende Daten aufzuspüren und lernen einfache\n",
    "Methoden kennen, damit umzugehen.\n",
    "\n",
    "## Lernziele\n",
    "\n",
    "```{admonition} Lernziele\n",
    ":class: goals\n",
    "* Sie können in einer großen Datensammlung mit **isnull()** fehlende Daten aufspüren.\n",
    "* Sie können Daten gezielt mit **drop()** löschen.\n",
    "* Sie können fehlende Daten mit **fillna()** ersetzen.\n",
    "* Sie wissen, dass es nicht eine *einzige* Strategie zum Umgang mit fehlenden Daten \n",
    "gibt, sondern von Projekt zu Projekt entschieden werden muss.\n",
    "```\n",
    "\n",
    "## Fehlende Daten aufspüren mit isnull()\n",
    "\n",
    "Wir arbeiten im Folgenden mit einem echten Datensatz der Verkaufsplattform\n",
    "[Autoscout24.de](https://www.autoscout24.de). Sie können die csv-Datei hier\n",
    "herunterladen {download}`Download autoscout24_DE_small.csv\n",
    "<./autoscout24_DE_small.csv>` und in das Jupyter Notebook importieren.\n",
    "Alternativ können Sie die csv-Datei auch über die URL\n",
    "`'https://gramschs.github.io/book_ml4ing/data/autoscout24_DE_small.csv'`\n",
    "importieren."
   ]
  },
  {
   "cell_type": "code",
   "execution_count": 1,
   "id": "eed312f4",
   "metadata": {},
   "outputs": [
    {
     "name": "stdout",
     "output_type": "stream",
     "text": [
      "<class 'pandas.core.frame.DataFrame'>\n",
      "RangeIndex: 1000 entries, 0 to 999\n",
      "Data columns (total 14 columns):\n",
      " #   Column                Non-Null Count  Dtype  \n",
      "---  ------                --------------  -----  \n",
      " 0   Marke                 1000 non-null   object \n",
      " 1   Modell                1000 non-null   object \n",
      " 2   Farbe                 1000 non-null   object \n",
      " 3   Erstzulassung         1000 non-null   object \n",
      " 4   Jahr                  1000 non-null   object \n",
      " 5   Preis (Euro)          1000 non-null   object \n",
      " 6   Leistung (kW)         1000 non-null   object \n",
      " 7   Leistung (PS)         1000 non-null   object \n",
      " 8   Getriebe              1000 non-null   object \n",
      " 9   Kraftstoff            1000 non-null   object \n",
      " 10  Verbrauch (l/100 km)  892 non-null    object \n",
      " 11  Verbrauch (g/km)      1000 non-null   object \n",
      " 12  Kilometerstand (km)   999 non-null    float64\n",
      " 13  Bemerkungen           1000 non-null   object \n",
      "dtypes: float64(1), object(13)\n",
      "memory usage: 109.5+ KB\n"
     ]
    }
   ],
   "source": [
    "import pandas as pd\n",
    "\n",
    "data = pd.read_csv('autoscout24_DE_small.csv')\n",
    "# data = pd.read_csv('https://gramschs.github.io/book_ml4ing/data/autoscout24_DE_small.csv')\n",
    "data.info()"
   ]
  },
  {
   "cell_type": "markdown",
   "id": "0f4bbe16",
   "metadata": {},
   "source": [
    "Wir hatten bereits festgestellt, dass die Anzahl der 'non-null'-Einträge für die\n",
    "verschiedenen Merkmale unterschiedlich ist. Offensichtlich ist bei manchen\n",
    "Angeboten die Eigenschaft 'model' nicht angegeben worden. Welche das sind,\n",
    "können wir mit der Methode `isnull()` bestimmen. Die Methode liefert ein Array\n",
    "zurück, das True/False-Werte enthält. True steht dabei dafür, dass ein Wert\n",
    "fehlt bzw. mit dem Eintrag 'NaN' gekennzeichnet ist (= not a number). Weitere\n",
    "Details finden Sie in der [Pandas-Dokumentation →\n",
    "isnull](https://pandas.pydata.org/docs/reference/api/pandas.isnull.html).\n",
    "\n",
    "Dieses boolesche Array können wir dann wiederum als Filter einsetzen."
   ]
  },
  {
   "cell_type": "code",
   "execution_count": 2,
   "id": "ec68aac2",
   "metadata": {},
   "outputs": [],
   "source": [
    "#filter = data_raw.loc[:, 'model'].isnull() == True\n",
    "#data_raw.loc[filter, :].head(20)"
   ]
  },
  {
   "cell_type": "markdown",
   "id": "8888bf7e",
   "metadata": {},
   "source": [
    "Scheinbar fehlt die Modellangabe häufig, wenn das Fahrzeug mit Gas betrieben\n",
    "wird. Dem müssten wir systematisch nachgehen. Sind das vielleicht umgebaute\n",
    "Fahrzeuge und fehlt deshalb die Modellangabe? Wie oft kommen gasbetriebene\n",
    "Fahrzeuge überhaupt im kompletten Datensatz vor? Und wie häufig in dem Datensatz\n",
    "mit den unvollständigen Angaben? Wir wenden uns aber zunächst dem Löschen der\n",
    "Daten zu.\n",
    "\n",
    "## Löschen mit drop()\n",
    "\n",
    "Im letzten Kapitel haben wir einfach alle Datensätze gelöscht, in denen Daten\n",
    "gefehlt haben — sozusagen die Brute-Force-Methode. Wenn wir uns mehr Zeit für\n",
    "die Datenvorverarbeitung nehmen, können wir aber auch filigraner vorgehen.\n",
    "Beispielsweise könnten wir beschließen, dass uns das Modell als Eigenschaft\n",
    "nicht so wichtig ist und somit die Spalte löschen.\n",
    "\n",
    "Dazu verwenden wir die `drop()`-Methode. Standardmäßig löscht `drop()` jedoch\n",
    "Zeilen. Mit der Option `columns=` können wir spaltenweise löschen, wie Sie in\n",
    "der [Pandas-Dokumentation →\n",
    "drop](https://pandas.pydata.org/docs/reference/api/pandas.DataFrame.drop.html)\n",
    "nachlesen können."
   ]
  },
  {
   "cell_type": "code",
   "execution_count": 3,
   "id": "02130eb5",
   "metadata": {},
   "outputs": [],
   "source": [
    "#data_raw = data_raw.drop(columns='model')"
   ]
  },
  {
   "cell_type": "markdown",
   "id": "d92c4e56",
   "metadata": {},
   "source": [
    "## Ersetzen mit fillna()\n",
    "\n",
    "Auch bei den Angaben zur Schaltung fehlen Einträge. Zum Beispiel die Zeile mit\n",
    "dem Index 243 ist unvollständig."
   ]
  },
  {
   "cell_type": "code",
   "execution_count": 4,
   "id": "ab521ef2",
   "metadata": {},
   "outputs": [],
   "source": [
    "#print(data_raw.loc[243, :])"
   ]
  },
  {
   "cell_type": "markdown",
   "id": "ea6ee106",
   "metadata": {},
   "source": [
    "Diesmal entscheiden wir uns dazu, diese Eigenschaft nicht wegzulassen.\n",
    "ML-Verfahren brauchen aber immer einen gültigen Wert und nicht NaN. Wir ersetzen\n",
    "die fehlenden Werte durch den Eintrag 'not defined'. Genausogut könnten wir auch\n",
    "'keine Angabe' oder 'nada' oder was auch immer nehmen. Dazu benutzen wir die\n",
    "Methode `fillna()` (siehe [Pandas-Dokumentation →\n",
    "fillna](https://pandas.pydata.org/docs/reference/api/pandas.DataFrame.fillna.html))."
   ]
  },
  {
   "cell_type": "code",
   "execution_count": 5,
   "id": "1daf7d0a",
   "metadata": {},
   "outputs": [],
   "source": [
    "#data_raw.loc[:, 'gear'] = data_raw.loc[:, 'gear'].fillna(value='not defined')"
   ]
  },
  {
   "cell_type": "markdown",
   "id": "bb601437",
   "metadata": {},
   "source": [
    "Wenn wir uns jetzt noch einmal Zeile 243 ansehen, sehen wir, dass `fillna()`\n",
    "funktioniert hat."
   ]
  },
  {
   "cell_type": "code",
   "execution_count": 6,
   "id": "77cbe590",
   "metadata": {},
   "outputs": [],
   "source": [
    "#print(data_raw.loc[243,:])"
   ]
  },
  {
   "cell_type": "markdown",
   "id": "2bad34c9",
   "metadata": {},
   "source": [
    "Bei den PS-Zahlen haben wir ebenfalls nicht vollständige Daten vorliegen.\n",
    "Diesmal haben wir nicht diskrete Werte wie 'Schaltwagen' oder 'Automatik',\n",
    "sondern numerische Werte. Daher bietet es sich hier eine zweite Methode der\n",
    "Ersetzung an. Wenn wir überall da, wo wir keine PS-Zahlen vorliegen haben, den\n",
    "Mittelwert der vorhandenen PS-Zahlen einsetzen, machen wir zumindest den\n",
    "Mittelwert des gesamten Datensatzes nicht kaputt. Besser wäre natürlich zu\n",
    "versuchen, die fehlenden Daten zu recherchieren. Oder aber mittels linearer\n",
    "Regression die fehlenden Werte zu schätzen und dann zu ergänzen. Als erste\n",
    "Näherung nehmen wir jetzt den Mittelwert der vorhandenen Daten."
   ]
  },
  {
   "cell_type": "code",
   "execution_count": 7,
   "id": "73bf6071",
   "metadata": {},
   "outputs": [],
   "source": [
    "#mittelwert = data_raw.loc[: , 'hp'].mean()\n",
    "#print('Der Mittelwert der vorhandenen PS-Zahlen ist: {:.2f}'.format(mittelwert))\n",
    "\n",
    "#data_raw.loc[:, 'hp'] = data_raw.loc[:, 'hp'].fillna(mittelwert)"
   ]
  },
  {
   "cell_type": "markdown",
   "id": "45acc36d",
   "metadata": {},
   "source": [
    "## Zusammenfassung\n",
    "\n",
    "Ein wichtiger Teil eines ML-Projektes beschäftigt sich mit der Aufbereitung der\n",
    "Daten für die ML-Algorithmen. Dabei ist es nicht nur wichtig, in großen\n",
    "Datensammlungen fehlende Einträge aufspüren zu können, sondern ein Gespür dafür\n",
    "zu entwickeln, wie mit den fehlenden Daten angesetzt werden sollen. Die\n",
    "Strategien hängen dabei von der Anzahl der fehlenden Daten und ihrer Bedeutung\n",
    "ab. Häufig werden unvollständige Daten aus der Datensammlung gelöscht oder\n",
    "numerische Einträge durch den Mittelwert der vorhandenen Daten ersetzt."
   ]
  }
 ],
 "metadata": {
  "jupytext": {
   "formats": "ipynb,md:myst",
   "text_representation": {
    "extension": ".md",
    "format_name": "myst",
    "format_version": 0.13,
    "jupytext_version": "1.15.2"
   }
  },
  "kernelspec": {
   "display_name": "Python 3",
   "language": "python",
   "name": "python3"
  },
  "language_info": {
   "codemirror_mode": {
    "name": "ipython",
    "version": 3
   },
   "file_extension": ".py",
   "mimetype": "text/x-python",
   "name": "python",
   "nbconvert_exporter": "python",
   "pygments_lexer": "ipython3",
   "version": "3.12.2"
  },
  "source_map": [
   13,
   47,
   53,
   66,
   69,
   92,
   94,
   101,
   103,
   112,
   114,
   119,
   121,
   133,
   138
  ]
 },
 "nbformat": 4,
 "nbformat_minor": 5
}