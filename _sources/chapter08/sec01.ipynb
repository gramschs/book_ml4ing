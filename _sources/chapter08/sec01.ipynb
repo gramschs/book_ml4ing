{
 "cells": [
  {
   "cell_type": "markdown",
   "id": "15860882",
   "metadata": {},
   "source": [
    "# Grundbaustein neuronaler Netze\n",
    "\n",
    "Neuronale Netze sind sehr beliebte maschinelle Lernverfahren. Das einfachste künstliche neuronale Netz ist das **Perzeptron**. In diesem Abschnitt werden wir das Perzeptron vorstellen.\n",
    "\n",
    "```{admonition} Lernziele\n",
    ":class: hint\n",
    "* Sie können das Perzeptron als mathematische Funktion formulieren und in dem Zusammenhang die folgenden Begriffe erklären:\n",
    "    * gewichtete Summe (Weighted Sum),\n",
    "    * Bias oder Bias-Einheit (Bias),\n",
    "    * Schwellenwert (Threshold)  \n",
    "    * Heaviside-Funktion (Heaviside Function) und\n",
    "    * Aktivierungsfunktion (Activation Function).\n",
    "* Sie können das Perzeptron als ein binäres Klassifikationsproblem des überwachten Lernens einordnen.\n",
    "```\n",
    "\n",
    "## Die Hirnzelle dient als Vorlage für künstliche Neuronen\n",
    "\n",
    "1943 haben die Forscher Warren McCulloch und Walter Pitts das erste Modell einer vereinfachten Hirnzelle präsentiert. Zu Ehren der beiden Forscher heißt dieses Modell MCP-Neuron. Darauf aufbauend publizierte Frank Rosenblatt 1957 seine Idee einer Lernregel für das künstliche Neuron. Das sogenannte Perzeptron bildet bis heute die Grundlage der künstlichen neuronalen Netze. Inspiriert wurden die Forscher dabei durch den Aufbau des Gehirns und der Verknüpfung der Nervenzellen.\n",
    "\n",
    "```{figure} pics/neuron_wikipedia.svg\n",
    "---\n",
    "width: 600px\n",
    "name: fig_neuron_wikipedia\n",
    "---\n",
    "Schematische Darstellung einer Nervenzelle \n",
    "\n",
    "([Quelle:](https://de.wikipedia.org/wiki/Künstliches_Neuron#/media/Datei:Neuron_(deutsch)-1.svg) \"Schematische Darstellung einer Nervenzelle\" von Autor unbekannt. Lizenz: [CC BY-SA 3.0](https://creativecommons.org/licenses/by-sa/3.0/))\n",
    "```\n",
    "\n",
    "Elektrische und chemische Eingabesignale kommen bei den Dendriten an und laufen im Zellkörper zusammen. Sobald ein bestimmter Schwellwert überschritten wird, wird ein Ausgabesignal erzeugt und über das Axon weitergeleitet. Mehr Details zu Nervenzellen finden Sie bei [Wikipedia/Nervenzelle](https://de.wikipedia.org/wiki/Nervenzelle)."
   ]
  },
  {
   "cell_type": "markdown",
   "id": "a1b36d53",
   "metadata": {},
   "source": [
    "(rasen_nass_problem)=\n",
    "## Eine mathematische Ungleichung ersetzt das logische Oder\n",
    "\n",
    "Das einfachste künstliche Neuron besteht aus zwei Inputs und einem Output. Dabei sind für die beiden Inputs nur zwei Zustände zugelassen und auch der Output besteht nur aus zwei verschiedenen Zuständen. In der Sprache des maschinellen Lernens liegt also eine **binäre Klassifikationsaufgabe** innerhalb des **Supervised Learnings** vor.\n",
    "\n",
    "Beispiel:\n",
    "* Input 1: Es regnet oder es regnet nicht.\n",
    "* Input 2: Der Rasensprenger ist an oder nicht.\n",
    "* Output: Der Rasen wird nass oder nicht.\n",
    "\n",
    "Den Zusammenhang zwischen Regen, Rasensprenger und nassem Rasen können wir in einer Tabelle abbilden:\n",
    "\n",
    "Regnet es? | Ist Sprenger an? | Wird Rasen nass?\n",
    "-----------|------------------|-----------------\n",
    "nein       | nein             | nein\n",
    "ja         | nein             | ja\n",
    "nein       | ja               | ja\n",
    "ja         | ja               | ja"
   ]
  },
  {
   "cell_type": "markdown",
   "id": "916d8663",
   "metadata": {},
   "source": [
    "```{admonition} Mini-Übung\n",
    ":class: miniexercise\n",
    "Schreiben Sie ein kurzes Python-Programm, das abfragt, ob es regnet und ob der Rasensprenger eingeschaltet ist. Dann soll der Python-Interpreter ausgeben, ob der Rasen nass wird oder nicht. \n",
    "```"
   ]
  },
  {
   "cell_type": "code",
   "execution_count": 1,
   "id": "15117f67",
   "metadata": {},
   "outputs": [],
   "source": [
    "# Ihr Code:"
   ]
  },
  {
   "cell_type": "markdown",
   "id": "99b5c458",
   "metadata": {},
   "source": [
    "````{admonition} Lösung\n",
    ":class: minisolution, toggle\n",
    "```python\n",
    "# Eingabe\n",
    "x1 = input('Regnet es (j/n)?')\n",
    "x2 = input('Ist der Rasensprenger eingeschaltet? (j/n)')\n",
    "\n",
    "# Verarbeitung\n",
    "y = (x1 == 'j') or (x2 == 'j')\n",
    "\n",
    "# Ausgabe\n",
    "if y == True:\n",
    "    print('Der Rasen wird nass.')\n",
    "else:\n",
    "    print('Der Rasen wird nicht nass.')\n",
    "```\n",
    "````"
   ]
  },
  {
   "cell_type": "markdown",
   "id": "5b93873e",
   "metadata": {},
   "source": [
    "Für das maschinelle Lernen müssen die Daten als Zahlen aufbereitet werde, damit\n",
    "die maschinellen Lernverfahren in der Lage sind, Muster in den Daten zu\n",
    "erlernen. Anstatt \"Regnet es? Nein.\" oder Variablen mit True/False setzen wir\n",
    "jetzt Zahlen ein. Die Inputklassen kürzen wir mit x1 für Regen und x2 für\n",
    "Rasensprenger ab. Die 1 steht für ja, die 0 für nein. Den Output bezeichnen wir\n",
    "mit y. Dann lautet die obige Tabelle für das \"Ist-der-Rasen-nass-Problem\":\n",
    "\n",
    "x1 | x2 | y\n",
    "---|----|---\n",
    "0  | 0  | 0\n",
    "1  | 0  | 1\n",
    "0  | 1  | 1\n",
    "1  | 1  | 1"
   ]
  },
  {
   "cell_type": "markdown",
   "id": "d097957b",
   "metadata": {},
   "source": [
    "```{admonition} Mini-Übung\n",
    ":class: miniexercise\n",
    "Schreiben Sie Ihren Programm-Code der letzten Mini-Übung um. Verwenden Sie Integer 0 und 1 für die Eingaben.\n",
    "```"
   ]
  },
  {
   "cell_type": "code",
   "execution_count": 2,
   "id": "1bb9551f",
   "metadata": {},
   "outputs": [],
   "source": [
    "# Ihr Code:"
   ]
  },
  {
   "cell_type": "markdown",
   "id": "ad97d611",
   "metadata": {},
   "source": [
    "````{admonition} Lösung\n",
    ":class: minisolution, toggle\n",
    "```python\n",
    "# Eingabe\n",
    "x1 = int(input('Regnet es (ja = 1 | nein = 0)?'))\n",
    "x2 = int(input('Ist der Rasensprenger eingeschaltet? (ja = 1 | nein = 0)'))\n",
    "\n",
    "# Verarbeitung\n",
    "y = (x1 == 1) or (x2 == 1)\n",
    "\n",
    "# Ausgabe\n",
    "if y == True:\n",
    "    print('Der Rasen wird nass.')\n",
    "else:\n",
    "    print('Der Rasen wird nicht nass.')\n",
    "```\n",
    "````"
   ]
  },
  {
   "cell_type": "markdown",
   "id": "679090b0",
   "metadata": {},
   "source": [
    "Nun ersetzen wir das logische ODER durch ein mathematisches Konstrukt:\n",
    "Wenn die Ungleichung \n",
    "\n",
    "$$x_1 \\omega_1  +  x_2 \\omega_2 \\geq \\theta \\strut$$\n",
    "\n",
    "erfüllt ist, dann ist $y = 1$ oder anders ausgedrückt, der Rasen wird nass. Und\n",
    "ansonsten ist $y = 0$, der Rasen wird nicht nass. Allerdings müssen wir noch die\n",
    "**Gewichte** $\\omega_1$ und $\\omega_2$ (auf Englisch: weights) geschickt wählen.\n",
    "Die Zahl $\\theta$ ist der griechische Buchstabe Theta und steht als Abkürzung\n",
    "für den sogenannten **Schwellenwert** (auf Englisch: threshold).\n",
    "\n",
    "Beispielsweise $\\omega_1 = 0.3$, $\\omega_2=0.3$ und $\\theta = 0.2$ passen:\n",
    "* $0 \\cdot 0.3 + 0 \\cdot 0.3 = 0.0 \\geq 0.2$ nicht erfüllt\n",
    "* $0 \\cdot 0.3 + 1 \\cdot 0.3 = 0.3 \\geq 0.2$ erfüllt\n",
    "* $1 \\cdot 0.3 + 0 \\cdot 0.3 = 0.3 \\geq 0.2$ erfüllt\n",
    "* $1 \\cdot 0.3 + 1 \\cdot 0.3 = 0.6 \\geq 0.2$ erfüllt"
   ]
  },
  {
   "cell_type": "markdown",
   "id": "cdbef4de",
   "metadata": {},
   "source": [
    "```{admonition} Mini-Übung\n",
    ":class: miniexercise\n",
    "Schreiben Sie Ihren Programm-Code der letzten Mini-Übung um. Ersetzen Sie das logische ODER durch die linke Seite der Ungleichung und vergleichen Sie anschließend mit $0.2$, um zu entscheiden, ob der Rasen nass wird oder nicht. \n",
    "```"
   ]
  },
  {
   "cell_type": "code",
   "execution_count": 3,
   "id": "86d69952",
   "metadata": {},
   "outputs": [],
   "source": [
    "# Ihr Code:"
   ]
  },
  {
   "cell_type": "markdown",
   "id": "9ea2a5fb",
   "metadata": {},
   "source": [
    "````{admonition} Lösung\n",
    ":class: minisolution, toggle\n",
    "```python\n",
    "# Eingabe\n",
    "x1 = int(input('Regnet es (ja = 1 | nein = 0)?'))\n",
    "x2 = int(input('Ist der Rasensprenger eingeschaltet? (ja = 1 | nein = 0)'))\n",
    "\n",
    "# Verarbeitung\n",
    "y = 0.3 * x1 + 0.3 * x2\n",
    "\n",
    "# Ausgabe\n",
    "if y >= 0.2:\n",
    "    print('Der Rasen wird nass.')\n",
    "else:\n",
    "    print('Der Rasen wird nicht nass.')\n",
    "```\n",
    "````"
   ]
  },
  {
   "cell_type": "markdown",
   "id": "c87d2102",
   "metadata": {},
   "source": [
    "## Die Heaviside-Funktion ersetzt die Ungleichung \n",
    "\n",
    "Noch sind wir aber nicht fertig, denn auch die Frage \"Ist die Ungleichung\n",
    "erfüllt oder nicht?\" muss noch in eine mathematische Funktion umgeschrieben\n",
    "werden. Dazu subtrahieren wir zuerst auf beiden Seiten der Ungleichung den\n",
    "Schwellenwert $\\theta$:\n",
    "\n",
    "$$-\\theta + x_1 \\omega_1  +  x_2 \\omega_2 \\geq 0. \\strut$$\n",
    "\n",
    "Damit haben wir jetzt nicht mehr einen Vergleich mit dem Schwellenwert, sondern\n",
    "müssen nur noch entscheiden, ob der Ausdruck $-\\theta + x_1 \\omega_1 + x_2\n",
    "\\omega_2$ negativ oder positiv ist. Bei negativen Werten, soll $y = 0$ sein und\n",
    "bei positiven Werten (inklusive der Null) soll $y = 1$ sein. Dafür gibt es in\n",
    "der Mathematik eine passende Funktion, die sogenannte\n",
    "[Heaviside-Funktion](https://de.wikipedia.org/wiki/Heaviside-Funktion) (manchmal\n",
    "auch Theta-, Stufen- oder Treppenfunktion genannt).\n",
    "\n",
    "```{figure} pics/heaviside_wikipedia.svg\n",
    "---\n",
    "width: 600px\n",
    "name: fig_heaviside_wikipedia\n",
    "---\n",
    "Schaubild der Heaviside-Funktion\n",
    "\n",
    "([Quelle:](https://de.wikipedia.org/wiki/Heaviside-Funktion#/media/Datei:Heaviside.svg) \"Verlauf der Heaviside-Funktion auf $\\mathbb{R}$\" von Lennart Kudling. Lizenz: gemeinfrei)\n",
    "```"
   ]
  },
  {
   "cell_type": "markdown",
   "id": "61215df1",
   "metadata": {},
   "source": [
    "Definiert ist die Heaviside-Funktion folgendermaßen:\n",
    "\n",
    "$$\\Phi(x) = \\begin{cases}0:&x<0\\\\1:&x\\geq 0\\end{cases}$$\n",
    "\n",
    "In dem Modul NumPy ist die Heaviside-Funktion schon hinterlegt, siehe \n",
    "> https://numpy.org/doc/stable/reference/generated/numpy.heaviside.html"
   ]
  },
  {
   "cell_type": "markdown",
   "id": "d2724952",
   "metadata": {},
   "source": [
    "```{admonition} Mini-Übung\n",
    ":class: miniexercise\n",
    "Visualisieren Sie die Heaviside-Funktion für das Intervall $[-3,3]$ mit 101 Punkten. Setzen Sie das zweite Argument einmal auf 0 und einmal auf 2. Was bewirkt das zweite Argument? Sehen Sie einen Unterschied in der Visualisierung? Erhöhen Sie auch die Anzahl der Punkte im Intervall. Wählen Sie dabei immer eine ungerade Anzahl, damit die 0 dabei ist.\n",
    "```"
   ]
  },
  {
   "cell_type": "code",
   "execution_count": 4,
   "id": "f03ae368",
   "metadata": {},
   "outputs": [],
   "source": [
    "# Ihr Code:"
   ]
  },
  {
   "cell_type": "markdown",
   "id": "5305ade3",
   "metadata": {},
   "source": [
    "````{admonition} Lösung\n",
    ":class: minisolution, toggle\n",
    "```python\n",
    "import matplotlib.pylab as plt\n",
    "import numpy as np\n",
    "\n",
    "x = np.linspace(-3,3, 101)\n",
    "y0 = np.heaviside(x, 0)     # an der Stelle x=0 ist y=0\n",
    "y1 = np.heaviside(x, 2)     # an der Stelle x=0 ist y=2\n",
    "\n",
    "fig, ax = plt.subplots()\n",
    "ax.plot(x,y0)\n",
    "ax.plot(x,y1)\n",
    "ax.grid()\n",
    "ax.set_title('Heaviside-Funktion');\n",
    "```\n",
    "````"
   ]
  },
  {
   "cell_type": "markdown",
   "id": "92a523c8",
   "metadata": {},
   "source": [
    "Mit der Heaviside-Funktion können wir nun den Vergleich in der\n",
    "Programmverzweigung mit $0.2$ durch eine direkte Berechnung ersetzen. Schauen\n",
    "Sie sich im folgenden Programm-Code an, wie wir jetzt ohne logisches Oder und\n",
    "ohne Programmverzweigung if-else auskommen."
   ]
  },
  {
   "cell_type": "markdown",
   "id": "e0b93646",
   "metadata": {},
   "source": [
    "```python\n",
    "# Import der notwendigen Module\n",
    "import numpy as np\n",
    "\n",
    "# Eingabe\n",
    "x1 = int(input('Regnet es (ja = 1 | nein = 0)?'))\n",
    "x2 = int(input('Ist der Rasensprenger eingeschaltet? (ja = 1 | nein = 0)'))\n",
    "\n",
    "# Verarbeitung\n",
    "y = np.heaviside(0.3 * x1 + 0.3 * x2, 1.0)\n",
    "\n",
    "# Ausgabe\n",
    "ergebnis_als_text = ['Der Rasen wird nass.', 'Der Rasen wird nicht nass.']\n",
    "print(ergebnis_als_text[int(y)])\n",
    "```"
   ]
  },
  {
   "cell_type": "markdown",
   "id": "a17b9a42",
   "metadata": {},
   "source": [
    "## Das Perzeptron mit mehreren Eingabewerten\n",
    "\n",
    "Das Perzeptron für zwei Eingabewerte lässt sich in sehr natürlicher Weise auf\n",
    "viele Eingabewerte verallgemeinern, die auch mehrere Zustände annehmen können.\n",
    "Bei den Outputs bleiben wir jedoch dabei, dass nur zwei Zustände angenommen\n",
    "werden können, die wir mit 0 und 1 bezeichnen. Wir betrachten also weiterhin\n",
    "binäre Klassifikationsaufgaben.\n",
    "\n",
    "Wenn wir nicht nur zwei, sondern $n$ Eingabewerte $x_i$ haben, brauchen wir\n",
    "entsprechend auch $n$ Gewichte $\\omega_i$. Die Eingabewerte können wir in einem\n",
    "Spaltenvektor zusammenfassen, also\n",
    "\n",
    "$$\\mathbf{x} = \\begin{pmatrix} x_1 \\\\ x_2 \\\\ \\vdots \\\\ x_n \\end{pmatrix}.$$\n",
    "\n",
    "Auch die Gewichte können wir in einem Spaltenvektor zusammenfassen, also\n",
    "\n",
    "$$\\boldsymbol{\\omega} = \\begin{pmatrix} \\omega_1 \\\\ \\omega_2 \\\\ \\vdots \\\\\n",
    "\\omega_n\\end{pmatrix}$$\n",
    "\n",
    "schreiben. Nun lässt sich die Ungleichung recht einfach durch das Skalarprodukt\n",
    "abkürzen:\n",
    "\n",
    "$$\\mathbf{x}^{T}\\boldsymbol{\\omega} = x_1 \\omega_1 +  x_2 \\omega_2 + \\ldots +\n",
    "x_n \\omega_n \\geq \\theta.\\strut$$\n",
    "\n",
    "Wie bei dem Perzeptron mit zwei Eingängen wird der Schwellenwert $\\theta$ durch\n",
    "Subtraktion auf die linke Seite gebracht. Wenn wir jetzt bei dem Vektor\n",
    "$\\boldsymbol{\\omega}$ mit den Gewichten vorne den Vektor um das Element\n",
    "$\\omega_0 = -\\theta$ ergänzen und den Vektor $\\mathbf{x}$ mit $x_0 = 1$\n",
    "erweitern, dann erhalten wir\n",
    "\n",
    "$$\\mathbf{x}^{T}\\boldsymbol{\\omega} = 1 \\cdot (-\\theta) + x_1 \\omega_1 + x_2\n",
    "\\omega_2 + \\ldots + x_n \\omega_n \\geq 0.\\strut$$\n",
    "\n",
    "Genaugenommen hätten wir jetzt natürlich für die Vektoren $\\boldsymbol{\\omega}$\n",
    "und $\\mathbf{x}$ neue Bezeichnungen einführen müssen, aber ab sofort gehen wir\n",
    "immer davon aus, dass die mit dem negativen Schwellenwert $-\\theta$ und $1$\n",
    "erweiterten Vektoren gemeint sind. Der negative Schwellenwert wird übrigens in\n",
    "der ML-Community **Bias** oder **Bias-Einheit (Bias Unit)** genannt. \n",
    "\n",
    "Um jetzt klassfizieren zu können, wird auf die gewichtete Summe\n",
    "$\\mathbf{x}^{T}\\boldsymbol{\\omega}$ die Heaviside-Funktion angewendet. Manchmal\n",
    "wird anstatt der Heaviside-Funktion auch die Signum-Funktion verwendet. Im\n",
    "Folgenden nennen wir die Funktion, die auf die gewichtete Summe angewendet wird,\n",
    "**Aktivierungsfunktion**.\n",
    "\n",
    "````{admonition} Was ist ... ein Perzeptron?\n",
    ":class: note\n",
    "Das Perzeptron ist ein künstliches Neuron mit Gewichten $\\boldsymbol{\\omega}$ und einem Schwellenwert $\\theta$. Das Perzeptron berechnet eine gewichtete Summe der Inputs $\\mathbf{x}\\in\\mathbb{R}^n$ und wendet dann die Heaviside-Funktion als Aktivierungsfunktion $\\Phi$ an, um den Output $y$ zu berechnen:\n",
    "\n",
    "$$y = \\Phi(\\mathbf{x}^{T}\\boldsymbol{\\omega}) = \\Phi(-\\theta + x_1 \\omega_1 + \\ldots + x_n \\omega_n).$$\n",
    "````"
   ]
  },
  {
   "cell_type": "markdown",
   "id": "26d09f5c",
   "metadata": {},
   "source": [
    "Eine typische Visualisierung des Perzeptrons ist in der folgenden Abbildung\n",
    "{ref}`fig_perzeptron` gezeigt. Die Inputs und der Bias werden durch Kreise\n",
    "symbolisiert. Die Multiplikation der Inputs $x_i$ wird durch Kanten dargestellt,\n",
    "die mit den Gewichten $\\omega_i$ beschriftet sind. Die einzelnen Summanden\n",
    "$x_i \\omega_i$ treffen sich sozusagen im mittleren Kreis, wo auf die gewichtete\n",
    "Summe dann eine Aktivierungsfunktion angewendet wird. Das Ergebnis, der Output\n",
    "$y$ wird dann berechnet und wiederum als Kreis gezeichnet. \n",
    "\n",
    "```{figure} pics/perzeptron.png\n",
    "---\n",
    "width: 600px\n",
    "name: fig_perzeptron\n",
    "---\n",
    "Schematische Darstellung eines Perzeptrons\n",
    "```\n",
    "\n",
    "## Zusammenfassung und Ausblick\n",
    "\n",
    "In diesem Abschnitt haben wir gelernt, wie ein Perzeptron aufgebaut ist und wie\n",
    "aus den Daten mit Hilfe von Gewichten und einer Aktivierungsfunktion der binäre\n",
    "Zustand prognostiziert wird. Im nächsten Abschnitt beschäftigen wir uns mit der\n",
    "Frage, wie die Gewichte gefunden werden."
   ]
  }
 ],
 "metadata": {
  "jupytext": {
   "formats": "ipynb,md:myst",
   "text_representation": {
    "extension": ".md",
    "format_name": "myst",
    "format_version": 0.13,
    "jupytext_version": "1.13.8"
   }
  },
  "kernelspec": {
   "display_name": "Python 3 (ipykernel)",
   "language": "python",
   "name": "python3"
  },
  "language_info": {
   "codemirror_mode": {
    "name": "ipython",
    "version": 3
   },
   "file_extension": ".py",
   "mimetype": "text/x-python",
   "name": "python",
   "nbconvert_exporter": "python",
   "pygments_lexer": "ipython3",
   "version": "3.9.13"
  },
  "source_map": [
   13,
   47,
   68,
   75,
   78,
   98,
   114,
   123,
   126,
   146,
   166,
   173,
   177,
   197,
   225,
   234,
   241,
   245,
   265,
   272,
   290,
   345
  ]
 },
 "nbformat": 4,
 "nbformat_minor": 5
}