{
 "cells": [
  {
   "cell_type": "markdown",
   "id": "3a1762f8",
   "metadata": {},
   "source": [
    "# 8.1 Fehlende Daten\n",
    "\n",
    "Realistische Datensätze sind oft unvollständig. In einer Umfrage hat eine Person\n",
    "mit einer Frage nichts anfangen können und daher nichts angekreuzt. Ein\n",
    "Messsensor an der Produktionsanlage ist abends ausgefallen, was erst am nächsten\n",
    "Morgen bemerkt wurde. Die Mitarbeitenden einer Arztpraxis sind im Urlaub und\n",
    "lassen die Meldung der verabreichten Impfungen noch bis nach dem Urlaub liegen.\n",
    "Es gibt viele Gründe, warum Datensätze unvollständig sind. In diesem Abschnitt\n",
    "beschäftigen eir uns damit, fehlende Daten aufzuspüren und lernen einfache\n",
    "Methoden kennen, damit umzugehen.\n",
    "\n",
    "## Lernziele\n",
    "\n",
    "```{admonition} Lernziele\n",
    ":class: goals\n",
    "* Sie können in einem Datensatz mit **isnull()** fehlende Daten aufspüren und\n",
    "  analysieren.\n",
    "* Sie kennen die beiden grundlegenen Strategien, mit fehlenden Daten umzugehen:\n",
    "  * **Elimination** (Löschen) und\n",
    "  * **Imputation** (Vervollständigen).\n",
    "* Sie können Daten gezielt mit **drop()** löschen.\n",
    "* Sie können fehlende Daten mit **fillna()** ersetzen.\n",
    "```\n",
    "\n",
    "## Fehlende Daten aufspüren mit isnull()\n",
    "\n",
    "Wir arbeiten im Folgenden mit einem echten Datensatz der Verkaufsplattform\n",
    "[Autoscout24.de](https://www.autoscout24.de), der Verkaufsdaten zu 1000 Autos\n",
    "enthält. Sie können die csv-Datei hier herunterladen {download}`Download\n",
    "autoscout24_fehlende_daten.csv\n",
    "<https://gramschs.github.io/book_ml4ing/data/autoscout24_fehlende_daten.csv>` und in\n",
    "das Jupyter Notebook importieren. Alternativ können Sie die csv-Datei auch über\n",
    "die URL importieren, wie es in der folgenden Code-Zelle gemacht wird."
   ]
  },
  {
   "cell_type": "code",
   "execution_count": 1,
   "id": "355cf424",
   "metadata": {},
   "outputs": [
    {
     "ename": "HTTPError",
     "evalue": "HTTP Error 404: Not Found",
     "output_type": "error",
     "traceback": [
      "\u001b[0;31m---------------------------------------------------------------------------\u001b[0m",
      "\u001b[0;31mHTTPError\u001b[0m                                 Traceback (most recent call last)",
      "Cell \u001b[0;32mIn[1], line 4\u001b[0m\n\u001b[1;32m      1\u001b[0m \u001b[38;5;28;01mimport\u001b[39;00m \u001b[38;5;21;01mpandas\u001b[39;00m \u001b[38;5;28;01mas\u001b[39;00m \u001b[38;5;21;01mpd\u001b[39;00m\n\u001b[1;32m      3\u001b[0m url \u001b[38;5;241m=\u001b[39m \u001b[38;5;124m'\u001b[39m\u001b[38;5;124mhttps://gramschs.github.io/book_ml4ing/data/autoscout24_fehlende_daten.csv\u001b[39m\u001b[38;5;124m'\u001b[39m\n\u001b[0;32m----> 4\u001b[0m daten \u001b[38;5;241m=\u001b[39m \u001b[43mpd\u001b[49m\u001b[38;5;241;43m.\u001b[39;49m\u001b[43mread_csv\u001b[49m\u001b[43m(\u001b[49m\u001b[43murl\u001b[49m\u001b[43m)\u001b[49m\n\u001b[1;32m      6\u001b[0m daten\u001b[38;5;241m.\u001b[39minfo()\n",
      "File \u001b[0;32m/opt/homebrew/Caskroom/miniconda/base/envs/python312/lib/python3.12/site-packages/pandas/io/parsers/readers.py:1026\u001b[0m, in \u001b[0;36mread_csv\u001b[0;34m(filepath_or_buffer, sep, delimiter, header, names, index_col, usecols, dtype, engine, converters, true_values, false_values, skipinitialspace, skiprows, skipfooter, nrows, na_values, keep_default_na, na_filter, verbose, skip_blank_lines, parse_dates, infer_datetime_format, keep_date_col, date_parser, date_format, dayfirst, cache_dates, iterator, chunksize, compression, thousands, decimal, lineterminator, quotechar, quoting, doublequote, escapechar, comment, encoding, encoding_errors, dialect, on_bad_lines, delim_whitespace, low_memory, memory_map, float_precision, storage_options, dtype_backend)\u001b[0m\n\u001b[1;32m   1013\u001b[0m kwds_defaults \u001b[38;5;241m=\u001b[39m _refine_defaults_read(\n\u001b[1;32m   1014\u001b[0m     dialect,\n\u001b[1;32m   1015\u001b[0m     delimiter,\n\u001b[0;32m   (...)\u001b[0m\n\u001b[1;32m   1022\u001b[0m     dtype_backend\u001b[38;5;241m=\u001b[39mdtype_backend,\n\u001b[1;32m   1023\u001b[0m )\n\u001b[1;32m   1024\u001b[0m kwds\u001b[38;5;241m.\u001b[39mupdate(kwds_defaults)\n\u001b[0;32m-> 1026\u001b[0m \u001b[38;5;28;01mreturn\u001b[39;00m \u001b[43m_read\u001b[49m\u001b[43m(\u001b[49m\u001b[43mfilepath_or_buffer\u001b[49m\u001b[43m,\u001b[49m\u001b[43m \u001b[49m\u001b[43mkwds\u001b[49m\u001b[43m)\u001b[49m\n",
      "File \u001b[0;32m/opt/homebrew/Caskroom/miniconda/base/envs/python312/lib/python3.12/site-packages/pandas/io/parsers/readers.py:620\u001b[0m, in \u001b[0;36m_read\u001b[0;34m(filepath_or_buffer, kwds)\u001b[0m\n\u001b[1;32m    617\u001b[0m _validate_names(kwds\u001b[38;5;241m.\u001b[39mget(\u001b[38;5;124m\"\u001b[39m\u001b[38;5;124mnames\u001b[39m\u001b[38;5;124m\"\u001b[39m, \u001b[38;5;28;01mNone\u001b[39;00m))\n\u001b[1;32m    619\u001b[0m \u001b[38;5;66;03m# Create the parser.\u001b[39;00m\n\u001b[0;32m--> 620\u001b[0m parser \u001b[38;5;241m=\u001b[39m \u001b[43mTextFileReader\u001b[49m\u001b[43m(\u001b[49m\u001b[43mfilepath_or_buffer\u001b[49m\u001b[43m,\u001b[49m\u001b[43m \u001b[49m\u001b[38;5;241;43m*\u001b[39;49m\u001b[38;5;241;43m*\u001b[39;49m\u001b[43mkwds\u001b[49m\u001b[43m)\u001b[49m\n\u001b[1;32m    622\u001b[0m \u001b[38;5;28;01mif\u001b[39;00m chunksize \u001b[38;5;129;01mor\u001b[39;00m iterator:\n\u001b[1;32m    623\u001b[0m     \u001b[38;5;28;01mreturn\u001b[39;00m parser\n",
      "File \u001b[0;32m/opt/homebrew/Caskroom/miniconda/base/envs/python312/lib/python3.12/site-packages/pandas/io/parsers/readers.py:1620\u001b[0m, in \u001b[0;36mTextFileReader.__init__\u001b[0;34m(self, f, engine, **kwds)\u001b[0m\n\u001b[1;32m   1617\u001b[0m     \u001b[38;5;28mself\u001b[39m\u001b[38;5;241m.\u001b[39moptions[\u001b[38;5;124m\"\u001b[39m\u001b[38;5;124mhas_index_names\u001b[39m\u001b[38;5;124m\"\u001b[39m] \u001b[38;5;241m=\u001b[39m kwds[\u001b[38;5;124m\"\u001b[39m\u001b[38;5;124mhas_index_names\u001b[39m\u001b[38;5;124m\"\u001b[39m]\n\u001b[1;32m   1619\u001b[0m \u001b[38;5;28mself\u001b[39m\u001b[38;5;241m.\u001b[39mhandles: IOHandles \u001b[38;5;241m|\u001b[39m \u001b[38;5;28;01mNone\u001b[39;00m \u001b[38;5;241m=\u001b[39m \u001b[38;5;28;01mNone\u001b[39;00m\n\u001b[0;32m-> 1620\u001b[0m \u001b[38;5;28mself\u001b[39m\u001b[38;5;241m.\u001b[39m_engine \u001b[38;5;241m=\u001b[39m \u001b[38;5;28;43mself\u001b[39;49m\u001b[38;5;241;43m.\u001b[39;49m\u001b[43m_make_engine\u001b[49m\u001b[43m(\u001b[49m\u001b[43mf\u001b[49m\u001b[43m,\u001b[49m\u001b[43m \u001b[49m\u001b[38;5;28;43mself\u001b[39;49m\u001b[38;5;241;43m.\u001b[39;49m\u001b[43mengine\u001b[49m\u001b[43m)\u001b[49m\n",
      "File \u001b[0;32m/opt/homebrew/Caskroom/miniconda/base/envs/python312/lib/python3.12/site-packages/pandas/io/parsers/readers.py:1880\u001b[0m, in \u001b[0;36mTextFileReader._make_engine\u001b[0;34m(self, f, engine)\u001b[0m\n\u001b[1;32m   1878\u001b[0m     \u001b[38;5;28;01mif\u001b[39;00m \u001b[38;5;124m\"\u001b[39m\u001b[38;5;124mb\u001b[39m\u001b[38;5;124m\"\u001b[39m \u001b[38;5;129;01mnot\u001b[39;00m \u001b[38;5;129;01min\u001b[39;00m mode:\n\u001b[1;32m   1879\u001b[0m         mode \u001b[38;5;241m+\u001b[39m\u001b[38;5;241m=\u001b[39m \u001b[38;5;124m\"\u001b[39m\u001b[38;5;124mb\u001b[39m\u001b[38;5;124m\"\u001b[39m\n\u001b[0;32m-> 1880\u001b[0m \u001b[38;5;28mself\u001b[39m\u001b[38;5;241m.\u001b[39mhandles \u001b[38;5;241m=\u001b[39m \u001b[43mget_handle\u001b[49m\u001b[43m(\u001b[49m\n\u001b[1;32m   1881\u001b[0m \u001b[43m    \u001b[49m\u001b[43mf\u001b[49m\u001b[43m,\u001b[49m\n\u001b[1;32m   1882\u001b[0m \u001b[43m    \u001b[49m\u001b[43mmode\u001b[49m\u001b[43m,\u001b[49m\n\u001b[1;32m   1883\u001b[0m \u001b[43m    \u001b[49m\u001b[43mencoding\u001b[49m\u001b[38;5;241;43m=\u001b[39;49m\u001b[38;5;28;43mself\u001b[39;49m\u001b[38;5;241;43m.\u001b[39;49m\u001b[43moptions\u001b[49m\u001b[38;5;241;43m.\u001b[39;49m\u001b[43mget\u001b[49m\u001b[43m(\u001b[49m\u001b[38;5;124;43m\"\u001b[39;49m\u001b[38;5;124;43mencoding\u001b[39;49m\u001b[38;5;124;43m\"\u001b[39;49m\u001b[43m,\u001b[49m\u001b[43m \u001b[49m\u001b[38;5;28;43;01mNone\u001b[39;49;00m\u001b[43m)\u001b[49m\u001b[43m,\u001b[49m\n\u001b[1;32m   1884\u001b[0m \u001b[43m    \u001b[49m\u001b[43mcompression\u001b[49m\u001b[38;5;241;43m=\u001b[39;49m\u001b[38;5;28;43mself\u001b[39;49m\u001b[38;5;241;43m.\u001b[39;49m\u001b[43moptions\u001b[49m\u001b[38;5;241;43m.\u001b[39;49m\u001b[43mget\u001b[49m\u001b[43m(\u001b[49m\u001b[38;5;124;43m\"\u001b[39;49m\u001b[38;5;124;43mcompression\u001b[39;49m\u001b[38;5;124;43m\"\u001b[39;49m\u001b[43m,\u001b[49m\u001b[43m \u001b[49m\u001b[38;5;28;43;01mNone\u001b[39;49;00m\u001b[43m)\u001b[49m\u001b[43m,\u001b[49m\n\u001b[1;32m   1885\u001b[0m \u001b[43m    \u001b[49m\u001b[43mmemory_map\u001b[49m\u001b[38;5;241;43m=\u001b[39;49m\u001b[38;5;28;43mself\u001b[39;49m\u001b[38;5;241;43m.\u001b[39;49m\u001b[43moptions\u001b[49m\u001b[38;5;241;43m.\u001b[39;49m\u001b[43mget\u001b[49m\u001b[43m(\u001b[49m\u001b[38;5;124;43m\"\u001b[39;49m\u001b[38;5;124;43mmemory_map\u001b[39;49m\u001b[38;5;124;43m\"\u001b[39;49m\u001b[43m,\u001b[49m\u001b[43m \u001b[49m\u001b[38;5;28;43;01mFalse\u001b[39;49;00m\u001b[43m)\u001b[49m\u001b[43m,\u001b[49m\n\u001b[1;32m   1886\u001b[0m \u001b[43m    \u001b[49m\u001b[43mis_text\u001b[49m\u001b[38;5;241;43m=\u001b[39;49m\u001b[43mis_text\u001b[49m\u001b[43m,\u001b[49m\n\u001b[1;32m   1887\u001b[0m \u001b[43m    \u001b[49m\u001b[43merrors\u001b[49m\u001b[38;5;241;43m=\u001b[39;49m\u001b[38;5;28;43mself\u001b[39;49m\u001b[38;5;241;43m.\u001b[39;49m\u001b[43moptions\u001b[49m\u001b[38;5;241;43m.\u001b[39;49m\u001b[43mget\u001b[49m\u001b[43m(\u001b[49m\u001b[38;5;124;43m\"\u001b[39;49m\u001b[38;5;124;43mencoding_errors\u001b[39;49m\u001b[38;5;124;43m\"\u001b[39;49m\u001b[43m,\u001b[49m\u001b[43m \u001b[49m\u001b[38;5;124;43m\"\u001b[39;49m\u001b[38;5;124;43mstrict\u001b[39;49m\u001b[38;5;124;43m\"\u001b[39;49m\u001b[43m)\u001b[49m\u001b[43m,\u001b[49m\n\u001b[1;32m   1888\u001b[0m \u001b[43m    \u001b[49m\u001b[43mstorage_options\u001b[49m\u001b[38;5;241;43m=\u001b[39;49m\u001b[38;5;28;43mself\u001b[39;49m\u001b[38;5;241;43m.\u001b[39;49m\u001b[43moptions\u001b[49m\u001b[38;5;241;43m.\u001b[39;49m\u001b[43mget\u001b[49m\u001b[43m(\u001b[49m\u001b[38;5;124;43m\"\u001b[39;49m\u001b[38;5;124;43mstorage_options\u001b[39;49m\u001b[38;5;124;43m\"\u001b[39;49m\u001b[43m,\u001b[49m\u001b[43m \u001b[49m\u001b[38;5;28;43;01mNone\u001b[39;49;00m\u001b[43m)\u001b[49m\u001b[43m,\u001b[49m\n\u001b[1;32m   1889\u001b[0m \u001b[43m\u001b[49m\u001b[43m)\u001b[49m\n\u001b[1;32m   1890\u001b[0m \u001b[38;5;28;01massert\u001b[39;00m \u001b[38;5;28mself\u001b[39m\u001b[38;5;241m.\u001b[39mhandles \u001b[38;5;129;01mis\u001b[39;00m \u001b[38;5;129;01mnot\u001b[39;00m \u001b[38;5;28;01mNone\u001b[39;00m\n\u001b[1;32m   1891\u001b[0m f \u001b[38;5;241m=\u001b[39m \u001b[38;5;28mself\u001b[39m\u001b[38;5;241m.\u001b[39mhandles\u001b[38;5;241m.\u001b[39mhandle\n",
      "File \u001b[0;32m/opt/homebrew/Caskroom/miniconda/base/envs/python312/lib/python3.12/site-packages/pandas/io/common.py:728\u001b[0m, in \u001b[0;36mget_handle\u001b[0;34m(path_or_buf, mode, encoding, compression, memory_map, is_text, errors, storage_options)\u001b[0m\n\u001b[1;32m    725\u001b[0m     codecs\u001b[38;5;241m.\u001b[39mlookup_error(errors)\n\u001b[1;32m    727\u001b[0m \u001b[38;5;66;03m# open URLs\u001b[39;00m\n\u001b[0;32m--> 728\u001b[0m ioargs \u001b[38;5;241m=\u001b[39m \u001b[43m_get_filepath_or_buffer\u001b[49m\u001b[43m(\u001b[49m\n\u001b[1;32m    729\u001b[0m \u001b[43m    \u001b[49m\u001b[43mpath_or_buf\u001b[49m\u001b[43m,\u001b[49m\n\u001b[1;32m    730\u001b[0m \u001b[43m    \u001b[49m\u001b[43mencoding\u001b[49m\u001b[38;5;241;43m=\u001b[39;49m\u001b[43mencoding\u001b[49m\u001b[43m,\u001b[49m\n\u001b[1;32m    731\u001b[0m \u001b[43m    \u001b[49m\u001b[43mcompression\u001b[49m\u001b[38;5;241;43m=\u001b[39;49m\u001b[43mcompression\u001b[49m\u001b[43m,\u001b[49m\n\u001b[1;32m    732\u001b[0m \u001b[43m    \u001b[49m\u001b[43mmode\u001b[49m\u001b[38;5;241;43m=\u001b[39;49m\u001b[43mmode\u001b[49m\u001b[43m,\u001b[49m\n\u001b[1;32m    733\u001b[0m \u001b[43m    \u001b[49m\u001b[43mstorage_options\u001b[49m\u001b[38;5;241;43m=\u001b[39;49m\u001b[43mstorage_options\u001b[49m\u001b[43m,\u001b[49m\n\u001b[1;32m    734\u001b[0m \u001b[43m\u001b[49m\u001b[43m)\u001b[49m\n\u001b[1;32m    736\u001b[0m handle \u001b[38;5;241m=\u001b[39m ioargs\u001b[38;5;241m.\u001b[39mfilepath_or_buffer\n\u001b[1;32m    737\u001b[0m handles: \u001b[38;5;28mlist\u001b[39m[BaseBuffer]\n",
      "File \u001b[0;32m/opt/homebrew/Caskroom/miniconda/base/envs/python312/lib/python3.12/site-packages/pandas/io/common.py:384\u001b[0m, in \u001b[0;36m_get_filepath_or_buffer\u001b[0;34m(filepath_or_buffer, encoding, compression, mode, storage_options)\u001b[0m\n\u001b[1;32m    382\u001b[0m \u001b[38;5;66;03m# assuming storage_options is to be interpreted as headers\u001b[39;00m\n\u001b[1;32m    383\u001b[0m req_info \u001b[38;5;241m=\u001b[39m urllib\u001b[38;5;241m.\u001b[39mrequest\u001b[38;5;241m.\u001b[39mRequest(filepath_or_buffer, headers\u001b[38;5;241m=\u001b[39mstorage_options)\n\u001b[0;32m--> 384\u001b[0m \u001b[38;5;28;01mwith\u001b[39;00m \u001b[43murlopen\u001b[49m\u001b[43m(\u001b[49m\u001b[43mreq_info\u001b[49m\u001b[43m)\u001b[49m \u001b[38;5;28;01mas\u001b[39;00m req:\n\u001b[1;32m    385\u001b[0m     content_encoding \u001b[38;5;241m=\u001b[39m req\u001b[38;5;241m.\u001b[39mheaders\u001b[38;5;241m.\u001b[39mget(\u001b[38;5;124m\"\u001b[39m\u001b[38;5;124mContent-Encoding\u001b[39m\u001b[38;5;124m\"\u001b[39m, \u001b[38;5;28;01mNone\u001b[39;00m)\n\u001b[1;32m    386\u001b[0m     \u001b[38;5;28;01mif\u001b[39;00m content_encoding \u001b[38;5;241m==\u001b[39m \u001b[38;5;124m\"\u001b[39m\u001b[38;5;124mgzip\u001b[39m\u001b[38;5;124m\"\u001b[39m:\n\u001b[1;32m    387\u001b[0m         \u001b[38;5;66;03m# Override compression based on Content-Encoding header\u001b[39;00m\n",
      "File \u001b[0;32m/opt/homebrew/Caskroom/miniconda/base/envs/python312/lib/python3.12/site-packages/pandas/io/common.py:289\u001b[0m, in \u001b[0;36murlopen\u001b[0;34m(*args, **kwargs)\u001b[0m\n\u001b[1;32m    283\u001b[0m \u001b[38;5;250m\u001b[39m\u001b[38;5;124;03m\"\"\"\u001b[39;00m\n\u001b[1;32m    284\u001b[0m \u001b[38;5;124;03mLazy-import wrapper for stdlib urlopen, as that imports a big chunk of\u001b[39;00m\n\u001b[1;32m    285\u001b[0m \u001b[38;5;124;03mthe stdlib.\u001b[39;00m\n\u001b[1;32m    286\u001b[0m \u001b[38;5;124;03m\"\"\"\u001b[39;00m\n\u001b[1;32m    287\u001b[0m \u001b[38;5;28;01mimport\u001b[39;00m \u001b[38;5;21;01murllib\u001b[39;00m\u001b[38;5;21;01m.\u001b[39;00m\u001b[38;5;21;01mrequest\u001b[39;00m\n\u001b[0;32m--> 289\u001b[0m \u001b[38;5;28;01mreturn\u001b[39;00m \u001b[43murllib\u001b[49m\u001b[38;5;241;43m.\u001b[39;49m\u001b[43mrequest\u001b[49m\u001b[38;5;241;43m.\u001b[39;49m\u001b[43murlopen\u001b[49m\u001b[43m(\u001b[49m\u001b[38;5;241;43m*\u001b[39;49m\u001b[43margs\u001b[49m\u001b[43m,\u001b[49m\u001b[43m \u001b[49m\u001b[38;5;241;43m*\u001b[39;49m\u001b[38;5;241;43m*\u001b[39;49m\u001b[43mkwargs\u001b[49m\u001b[43m)\u001b[49m\n",
      "File \u001b[0;32m/opt/homebrew/Caskroom/miniconda/base/envs/python312/lib/python3.12/urllib/request.py:215\u001b[0m, in \u001b[0;36murlopen\u001b[0;34m(url, data, timeout, cafile, capath, cadefault, context)\u001b[0m\n\u001b[1;32m    213\u001b[0m \u001b[38;5;28;01melse\u001b[39;00m:\n\u001b[1;32m    214\u001b[0m     opener \u001b[38;5;241m=\u001b[39m _opener\n\u001b[0;32m--> 215\u001b[0m \u001b[38;5;28;01mreturn\u001b[39;00m \u001b[43mopener\u001b[49m\u001b[38;5;241;43m.\u001b[39;49m\u001b[43mopen\u001b[49m\u001b[43m(\u001b[49m\u001b[43murl\u001b[49m\u001b[43m,\u001b[49m\u001b[43m \u001b[49m\u001b[43mdata\u001b[49m\u001b[43m,\u001b[49m\u001b[43m \u001b[49m\u001b[43mtimeout\u001b[49m\u001b[43m)\u001b[49m\n",
      "File \u001b[0;32m/opt/homebrew/Caskroom/miniconda/base/envs/python312/lib/python3.12/urllib/request.py:521\u001b[0m, in \u001b[0;36mOpenerDirector.open\u001b[0;34m(self, fullurl, data, timeout)\u001b[0m\n\u001b[1;32m    519\u001b[0m \u001b[38;5;28;01mfor\u001b[39;00m processor \u001b[38;5;129;01min\u001b[39;00m \u001b[38;5;28mself\u001b[39m\u001b[38;5;241m.\u001b[39mprocess_response\u001b[38;5;241m.\u001b[39mget(protocol, []):\n\u001b[1;32m    520\u001b[0m     meth \u001b[38;5;241m=\u001b[39m \u001b[38;5;28mgetattr\u001b[39m(processor, meth_name)\n\u001b[0;32m--> 521\u001b[0m     response \u001b[38;5;241m=\u001b[39m \u001b[43mmeth\u001b[49m\u001b[43m(\u001b[49m\u001b[43mreq\u001b[49m\u001b[43m,\u001b[49m\u001b[43m \u001b[49m\u001b[43mresponse\u001b[49m\u001b[43m)\u001b[49m\n\u001b[1;32m    523\u001b[0m \u001b[38;5;28;01mreturn\u001b[39;00m response\n",
      "File \u001b[0;32m/opt/homebrew/Caskroom/miniconda/base/envs/python312/lib/python3.12/urllib/request.py:630\u001b[0m, in \u001b[0;36mHTTPErrorProcessor.http_response\u001b[0;34m(self, request, response)\u001b[0m\n\u001b[1;32m    627\u001b[0m \u001b[38;5;66;03m# According to RFC 2616, \"2xx\" code indicates that the client's\u001b[39;00m\n\u001b[1;32m    628\u001b[0m \u001b[38;5;66;03m# request was successfully received, understood, and accepted.\u001b[39;00m\n\u001b[1;32m    629\u001b[0m \u001b[38;5;28;01mif\u001b[39;00m \u001b[38;5;129;01mnot\u001b[39;00m (\u001b[38;5;241m200\u001b[39m \u001b[38;5;241m<\u001b[39m\u001b[38;5;241m=\u001b[39m code \u001b[38;5;241m<\u001b[39m \u001b[38;5;241m300\u001b[39m):\n\u001b[0;32m--> 630\u001b[0m     response \u001b[38;5;241m=\u001b[39m \u001b[38;5;28;43mself\u001b[39;49m\u001b[38;5;241;43m.\u001b[39;49m\u001b[43mparent\u001b[49m\u001b[38;5;241;43m.\u001b[39;49m\u001b[43merror\u001b[49m\u001b[43m(\u001b[49m\n\u001b[1;32m    631\u001b[0m \u001b[43m        \u001b[49m\u001b[38;5;124;43m'\u001b[39;49m\u001b[38;5;124;43mhttp\u001b[39;49m\u001b[38;5;124;43m'\u001b[39;49m\u001b[43m,\u001b[49m\u001b[43m \u001b[49m\u001b[43mrequest\u001b[49m\u001b[43m,\u001b[49m\u001b[43m \u001b[49m\u001b[43mresponse\u001b[49m\u001b[43m,\u001b[49m\u001b[43m \u001b[49m\u001b[43mcode\u001b[49m\u001b[43m,\u001b[49m\u001b[43m \u001b[49m\u001b[43mmsg\u001b[49m\u001b[43m,\u001b[49m\u001b[43m \u001b[49m\u001b[43mhdrs\u001b[49m\u001b[43m)\u001b[49m\n\u001b[1;32m    633\u001b[0m \u001b[38;5;28;01mreturn\u001b[39;00m response\n",
      "File \u001b[0;32m/opt/homebrew/Caskroom/miniconda/base/envs/python312/lib/python3.12/urllib/request.py:559\u001b[0m, in \u001b[0;36mOpenerDirector.error\u001b[0;34m(self, proto, *args)\u001b[0m\n\u001b[1;32m    557\u001b[0m \u001b[38;5;28;01mif\u001b[39;00m http_err:\n\u001b[1;32m    558\u001b[0m     args \u001b[38;5;241m=\u001b[39m (\u001b[38;5;28mdict\u001b[39m, \u001b[38;5;124m'\u001b[39m\u001b[38;5;124mdefault\u001b[39m\u001b[38;5;124m'\u001b[39m, \u001b[38;5;124m'\u001b[39m\u001b[38;5;124mhttp_error_default\u001b[39m\u001b[38;5;124m'\u001b[39m) \u001b[38;5;241m+\u001b[39m orig_args\n\u001b[0;32m--> 559\u001b[0m     \u001b[38;5;28;01mreturn\u001b[39;00m \u001b[38;5;28;43mself\u001b[39;49m\u001b[38;5;241;43m.\u001b[39;49m\u001b[43m_call_chain\u001b[49m\u001b[43m(\u001b[49m\u001b[38;5;241;43m*\u001b[39;49m\u001b[43margs\u001b[49m\u001b[43m)\u001b[49m\n",
      "File \u001b[0;32m/opt/homebrew/Caskroom/miniconda/base/envs/python312/lib/python3.12/urllib/request.py:492\u001b[0m, in \u001b[0;36mOpenerDirector._call_chain\u001b[0;34m(self, chain, kind, meth_name, *args)\u001b[0m\n\u001b[1;32m    490\u001b[0m \u001b[38;5;28;01mfor\u001b[39;00m handler \u001b[38;5;129;01min\u001b[39;00m handlers:\n\u001b[1;32m    491\u001b[0m     func \u001b[38;5;241m=\u001b[39m \u001b[38;5;28mgetattr\u001b[39m(handler, meth_name)\n\u001b[0;32m--> 492\u001b[0m     result \u001b[38;5;241m=\u001b[39m \u001b[43mfunc\u001b[49m\u001b[43m(\u001b[49m\u001b[38;5;241;43m*\u001b[39;49m\u001b[43margs\u001b[49m\u001b[43m)\u001b[49m\n\u001b[1;32m    493\u001b[0m     \u001b[38;5;28;01mif\u001b[39;00m result \u001b[38;5;129;01mis\u001b[39;00m \u001b[38;5;129;01mnot\u001b[39;00m \u001b[38;5;28;01mNone\u001b[39;00m:\n\u001b[1;32m    494\u001b[0m         \u001b[38;5;28;01mreturn\u001b[39;00m result\n",
      "File \u001b[0;32m/opt/homebrew/Caskroom/miniconda/base/envs/python312/lib/python3.12/urllib/request.py:639\u001b[0m, in \u001b[0;36mHTTPDefaultErrorHandler.http_error_default\u001b[0;34m(self, req, fp, code, msg, hdrs)\u001b[0m\n\u001b[1;32m    638\u001b[0m \u001b[38;5;28;01mdef\u001b[39;00m \u001b[38;5;21mhttp_error_default\u001b[39m(\u001b[38;5;28mself\u001b[39m, req, fp, code, msg, hdrs):\n\u001b[0;32m--> 639\u001b[0m     \u001b[38;5;28;01mraise\u001b[39;00m HTTPError(req\u001b[38;5;241m.\u001b[39mfull_url, code, msg, hdrs, fp)\n",
      "\u001b[0;31mHTTPError\u001b[0m: HTTP Error 404: Not Found"
     ]
    }
   ],
   "source": [
    "import pandas as pd\n",
    "\n",
    "url = 'https://gramschs.github.io/book_ml4ing/data/autoscout24_fehlende_daten.csv'\n",
    "daten = pd.read_csv(url)\n",
    "\n",
    "daten.info()"
   ]
  },
  {
   "cell_type": "markdown",
   "id": "3b4d81c9",
   "metadata": {},
   "source": [
    "Wir hatten bereits festgestellt, dass die Anzahl der `non-null`-Einträge für die\n",
    "verschiedenen Merkmale unterschiedlich ist. Offensichtlich ist nur bei 892 Autos\n",
    "die Eigenschaft »Verbrauch (l/100 km)« gültig und auch der »Kilometerstand (km)«\n",
    "enthält nur 999 gültige Einträge. Welche das sind, können wir mit der Methode\n",
    "`isnull()` bestimmen. Die Methode liefert ein Pandas DataFrame zurück, das\n",
    "True/False-Werte enthält. True steht dabei dafür, dass ein Wert fehlt bzw. mit\n",
    "dem Eintrag 'NaN' gekennzeichnet ist (= not a number). Weitere Details finden\n",
    "Sie in der [Pandas-Dokumentation →\n",
    "isnull()](https://pandas.pydata.org/docs/reference/api/pandas.isnull.html)."
   ]
  },
  {
   "cell_type": "code",
   "execution_count": null,
   "id": "530e39ab",
   "metadata": {},
   "outputs": [],
   "source": [
    "daten.isnull()"
   ]
  },
  {
   "cell_type": "markdown",
   "id": "39eb3cfb",
   "metadata": {},
   "source": [
    "Bereits in der zweiten Zeile befindet sich ein Auto, bei dem das Merkmal\n",
    "»Verbrauch (l/100 km)« nicht gültig ist (ggf. müssen Sie weiter nach rechts\n",
    "scrollen), den dort steht `True`. Wir betrachten uns diesen Eintrag:"
   ]
  },
  {
   "cell_type": "code",
   "execution_count": null,
   "id": "62b58eeb",
   "metadata": {},
   "outputs": [],
   "source": [
    "daten.loc[1,:]"
   ]
  },
  {
   "cell_type": "markdown",
   "id": "25a220b9",
   "metadata": {},
   "source": [
    "Bei dem Auto handelt es sich um einen Hybrid, vielleicht wurde deshalb der\n",
    "»Verbrauch (l/100 km)« nicht angegeben. Ist das vielleicht auch bei den anderen\n",
    "Autos der Grund? Wir speichern zunächst die isnull()-Datenstruktur in einer\n",
    "eigenen Variable ab und ermitteln zunächst, wie viele Autos keinen gültigen\n",
    "Eintrag bei diesem Merkmal haben. Dazu nutzen wir aus, dass der boolesche Wert\n",
    "`False` bei Rechnungen als 0 interpretiert wird und der boolesche Wert `True`\n",
    "als 1. Die Methode `.sum()` summiert pro Spalte alle Werte, so dass sie direkt\n",
    "die Anzahl der ungültigen Werte pro Spalte liefert."
   ]
  },
  {
   "cell_type": "code",
   "execution_count": null,
   "id": "531fb343",
   "metadata": {},
   "outputs": [],
   "source": [
    "fehlende_daten = daten.isnull()\n",
    "\n",
    "fehlende_daten.sum()"
   ]
  },
  {
   "cell_type": "markdown",
   "id": "b4ba7e07",
   "metadata": {},
   "source": [
    "Jetzt lassen wir uns diese 108 Autos anzeigen, bei denen ungültige Werte beim\n",
    "»Verbrauch (l/100 km)« angegeben wurden. Dazu nutzen wir die True-Werte in der\n",
    "Spalte `Verbrauch (l/100 km)` als Filter für den ursprünglichen Datensatz.\n",
    "Zumindest die ersten 20 Autos lassen wir uns dann mit der `.head(20)`-Methode\n",
    "anzeigen."
   ]
  },
  {
   "cell_type": "code",
   "execution_count": null,
   "id": "6c363a9f",
   "metadata": {},
   "outputs": [],
   "source": [
    "autos_mit_fehlendem_verbrauch_pro_100km = daten[ fehlende_daten['Verbrauch (l/100 km)'] == True ]\n",
    "autos_mit_fehlendem_verbrauch_pro_100km.head(20)"
   ]
  },
  {
   "cell_type": "markdown",
   "id": "43623784",
   "metadata": {},
   "source": [
    "Bemerkung: Der Vergleich `== True` ist redundant und kann auch weggelassen werden.\n",
    "\n",
    "Beim Kraftstoff werden alle möglichen Angaben gemacht: Hybrid, Benzin, Diesel\n",
    "und Elektro. Wir müssten jetzt systematisch den fehlenden Angaben nachgehen. Für\n",
    "Elektrofahrzeuge und ggf. Hybridautos ist die Angabe »Verbrauch (l/ 100 km)«\n",
    "unsinnig. Aber das zweite Auto mit der Nr. 5 wird mit Benzin betrieben, da\n",
    "scheint Nachlässigkeit beim Ausfüllen der Merkmale vorzuliegen. Beim fünften\n",
    "Auto mit der Nr. 77 ist zwar der »Verbrauch (l/100 km)« nicht angegeben, aber\n",
    "dafür der »Verbrauch (g/km)«. Daraus könnten wir den »Verbrauch (l/100 km)«\n",
    "abschätzen und den fehlenden Wert ergänzen. Es gibt verschiedene Strategien, mit\n",
    "fehlenden Daten umzugehen. Die beiden wichtigsten Verfahren zum Umgang mit\n",
    "fehlenden Daten sind\n",
    "\n",
    "1. Löschen (Elimination) und\n",
    "2. Vervollständigung (Imputation).\n",
    "\n",
    "Bei Elimination werden Datenpunkte (Autos) und/oder Merkmale gelöscht. Bei\n",
    "Imputation (Vervollständigung) werden die fehlenden Werte ergänzt. Beide\n",
    "Verfahren werden wir nun etwas detaillierter betrachten.\n",
    "\n",
    "## Löschen (Elimination) mit drop()\n",
    "\n",
    "Bei der Elimination (Löschen) können wir filigran vorgehen oder die\n",
    "Holzhammer-Methode verwenden. Beispielsweise könnten wir entscheiden, das\n",
    "Merkmal »Verbrauch (l/100 km)« komplett zu löschen und einfach nur den\n",
    "»Verbrauch (g/km)« zu berücksichtigen. Aber ein kurzer Blick auf die Daten hatte\n",
    "ja bereits gezeigt, dass diese Werte auch nur unzuverlässig gefüllt waren, auch\n",
    "wenn sie technisch gültig sind. Wir löschen beide Merkmale. Dazu benutzen wir\n",
    "die Methode `drop()` mit dem zusätzlichen Argument `columns=['Verbrauch (l/\n",
    "100 km)', 'Verbrauch (g/km)']`. Da wir gleich zwei Spalten aufeinmal eliminieren\n",
    "möchten, müssen wir die Spalten (Columns) als Liste übergeben. Danach überprüfen\n",
    "wir mit der Methode `.info()`, ob das Löschen geklappt hat."
   ]
  },
  {
   "cell_type": "code",
   "execution_count": null,
   "id": "dd5a3120",
   "metadata": {},
   "outputs": [],
   "source": [
    "daten.drop(columns=['Verbrauch (l/100 km)', 'Verbrauch (g/km)'])\n",
    "daten.info()"
   ]
  },
  {
   "cell_type": "markdown",
   "id": "51e269d8",
   "metadata": {},
   "source": [
    "Leider hat der Befehl `drop()` nicht funktioniert! Was ist da los? Python und\n",
    "Pandas verfolgen das Programmierparadigma »Explizit ist besser als implizit!«\n",
    "Daher werden zwar werden durch den `drop()`-Befehl die beiden Spalten gelöscht,\n",
    "aber der Datensatz `daten` selbst bleibt aus Sicherheitsgründen unverändert.\n",
    "Möchten wir den Datensatz mit den gelöschten Merkmalen weiter verwenden, müssen\n",
    "wir ihn in einer neuen Variable speichern oder die alte Variable `daten` damit\n",
    "überschreiben. Wir nehmen eine neue Variable namens `daten_ohne_verbrauch`."
   ]
  },
  {
   "cell_type": "code",
   "execution_count": null,
   "id": "df6e1ed3",
   "metadata": {},
   "outputs": [],
   "source": [
    "daten_ohne_verbrauch = daten.drop(columns=['Verbrauch (l/100 km)', 'Verbrauch (g/km)'])\n",
    "daten_ohne_verbrauch.info()"
   ]
  },
  {
   "cell_type": "markdown",
   "id": "222b9542",
   "metadata": {},
   "source": [
    "Ein weiterer Datenpunkt weist einen ungültigen Eintrag für den »Kilometerstand\n",
    "(km)« auf. Schauen wir zunächst nach, um welches Auto es sich handelt."
   ]
  },
  {
   "cell_type": "code",
   "execution_count": null,
   "id": "6f9bc6fb",
   "metadata": {},
   "outputs": [],
   "source": [
    "daten_ohne_verbrauch[ daten_ohne_verbrauch['Kilometerstand (km)'].isnull() ]"
   ]
  },
  {
   "cell_type": "markdown",
   "id": "c04e07c3",
   "metadata": {},
   "source": [
    "Bei den Einträgen des Autos sind noch mehr Probleme ersichtlich. Die\n",
    "Erstzulassung war sicherlich nicht bei 37.500 km und das Jahr ist nicht 12/2020.\n",
    "Wir können jetzt diesen Datenpunkt löschen oder den Datenpunkt reparieren.\n",
    "Zunächst einmal der Code zum Löschen des Datenpunktes. Standardmäßig löscht die\n",
    "`drop()`-Methode ohnehin Zeilen, also Datenpunkte, so dass wir ohne weitere\n",
    "Optionen den Index der zu löschenden Datenpunkte angeben. Diesmal verwenden wir\n",
    "die alte Variable um den reduzierten Datensatz zu speichern."
   ]
  },
  {
   "cell_type": "code",
   "execution_count": null,
   "id": "aea1763a",
   "metadata": {},
   "outputs": [],
   "source": [
    "daten_ohne_verbrauch = daten_ohne_verbrauch.drop(708)\n",
    "daten_ohne_verbrauch.info()"
   ]
  },
  {
   "cell_type": "markdown",
   "id": "9cee98a7",
   "metadata": {},
   "source": [
    "Wie Sie in der [Dokumentation Scikit-Learn →\n",
    "drop()](https://pandas.pydata.org/docs/reference/api/pandas.DataFrame.drop.html)\n",
    "nachlesen können, gibt es zum expliziten Überschreiben der alten Variable auch\n",
    "die Alternative, die Option `inplace=True` zu setzen. Welche Option Sie nutzen,\n",
    "ist Geschmackssache.\n",
    "\n",
    "Jetzt sind alle Einträge des Datensatzes gültig, gültig im technischen Sinne."
   ]
  },
  {
   "cell_type": "code",
   "execution_count": null,
   "id": "f3ac433e",
   "metadata": {},
   "outputs": [],
   "source": [
    "daten_ohne_verbrauch.isnull().sum()"
   ]
  },
  {
   "cell_type": "markdown",
   "id": "0d952df9",
   "metadata": {},
   "source": [
    "Ob alle Angaben plausibel sind, ist nicht gesagt. Bei dem Peugeot mit dem Index\n",
    "708 hatten wir ja gesehen, dass bei der Erstzulassung eine Kilometerangabe\n",
    "stand. Tatsächlich gab es bereits erste Hinweise darauf, dass manche Werte\n",
    "technisch gültig, aber nicht plausibel sind. Die Spalte mit dem Jahr\n",
    "beispielsweise wurde beim Import als Datentyp Object klassifiziert. Zu erwarten\n",
    "wäre jedoch der Datentyp Integer gewesen. Schauen wir noch einmal in den\n",
    "ursprünglichen Datensatz hinein."
   ]
  },
  {
   "cell_type": "code",
   "execution_count": null,
   "id": "11337c5e",
   "metadata": {},
   "outputs": [],
   "source": [
    "daten['Jahr'].unique()"
   ]
  },
  {
   "cell_type": "markdown",
   "id": "547a6370",
   "metadata": {},
   "source": [
    "Da bei dem Peugeot mit dem Index 708 das Jahr fälschlicherweise mit `12/2020`\n",
    "angegeben wurde, hat dieser eine Text-Eintrag dazu geführt, dass die komplette\n",
    "Spalte als Object klassifiziert wurde und nicht als Integer. Daher müssen stets\n",
    "weitere Plausibilitätsprüfungen durchgeführt werden, bevor die Daten genutzt\n",
    "werden, um statistische Aussagen zu treffen oder ein ML-Modell zu trainieren.\n",
    "\n",
    "## Vervollständigung (Imputation) mit fillna()\n",
    "\n",
    "Auch bei den Angaben zur Schaltung fehlen Einträge. Zum Beispiel die Zeile mit\n",
    "dem Index 243 ist unvollständig."
   ]
  },
  {
   "cell_type": "code",
   "execution_count": null,
   "id": "59947e22",
   "metadata": {},
   "outputs": [],
   "source": [
    "#print(data_raw.loc[243, :])"
   ]
  },
  {
   "cell_type": "markdown",
   "id": "1bad056b",
   "metadata": {},
   "source": [
    "Diesmal entscheiden wir uns dazu, diese Eigenschaft nicht wegzulassen.\n",
    "ML-Verfahren brauchen aber immer einen gültigen Wert und nicht NaN. Wir ersetzen\n",
    "die fehlenden Werte durch den Eintrag 'not defined'. Genausogut könnten wir auch\n",
    "'keine Angabe' oder 'nada' oder was auch immer nehmen. Dazu benutzen wir die\n",
    "Methode `fillna()` (siehe [Pandas-Dokumentation →\n",
    "fillna](https://pandas.pydata.org/docs/reference/api/pandas.DataFrame.fillna.html))."
   ]
  },
  {
   "cell_type": "code",
   "execution_count": null,
   "id": "e2bf39b8",
   "metadata": {},
   "outputs": [],
   "source": [
    "#data_raw.loc[:, 'gear'] = data_raw.loc[:, 'gear'].fillna(value='not defined')"
   ]
  },
  {
   "cell_type": "markdown",
   "id": "71f1b6f8",
   "metadata": {},
   "source": [
    "Wenn wir uns jetzt noch einmal Zeile 243 ansehen, sehen wir, dass `fillna()`\n",
    "funktioniert hat."
   ]
  },
  {
   "cell_type": "code",
   "execution_count": null,
   "id": "4ceee078",
   "metadata": {},
   "outputs": [],
   "source": [
    "#print(data_raw.loc[243,:])"
   ]
  },
  {
   "cell_type": "markdown",
   "id": "69049580",
   "metadata": {},
   "source": [
    "Bei den PS-Zahlen haben wir ebenfalls nicht vollständige Daten vorliegen.\n",
    "Diesmal haben wir nicht diskrete Werte wie 'Schaltwagen' oder 'Automatik',\n",
    "sondern numerische Werte. Daher bietet es sich hier eine zweite Methode der\n",
    "Ersetzung an. Wenn wir überall da, wo wir keine PS-Zahlen vorliegen haben, den\n",
    "Mittelwert der vorhandenen PS-Zahlen einsetzen, machen wir zumindest den\n",
    "Mittelwert des gesamten Datensatzes nicht kaputt. Besser wäre natürlich zu\n",
    "versuchen, die fehlenden Daten zu recherchieren. Oder aber mittels linearer\n",
    "Regression die fehlenden Werte zu schätzen und dann zu ergänzen. Als erste\n",
    "Näherung nehmen wir jetzt den Mittelwert der vorhandenen Daten."
   ]
  },
  {
   "cell_type": "code",
   "execution_count": null,
   "id": "7cd4ee96",
   "metadata": {},
   "outputs": [],
   "source": [
    "#mittelwert = data_raw.loc[: , 'hp'].mean()\n",
    "#print('Der Mittelwert der vorhandenen PS-Zahlen ist: {:.2f}'.format(mittelwert))\n",
    "\n",
    "#data_raw.loc[:, 'hp'] = data_raw.loc[:, 'hp'].fillna(mittelwert)"
   ]
  },
  {
   "cell_type": "markdown",
   "id": "391a102f",
   "metadata": {},
   "source": [
    "## Zusammenfassung\n",
    "\n",
    "Ein wichtiger Teil eines ML-Projektes beschäftigt sich mit der Aufbereitung der\n",
    "Daten für die ML-Algorithmen. Dabei ist es nicht nur wichtig, in großen\n",
    "Datensammlungen fehlende Einträge aufspüren zu können, sondern ein Gespür dafür\n",
    "zu entwickeln, wie mit den fehlenden Daten angesetzt werden sollen. Die\n",
    "Strategien hängen dabei von der Anzahl der fehlenden Daten und ihrer Bedeutung\n",
    "ab. Häufig werden unvollständige Daten aus der Datensammlung gelöscht oder\n",
    "numerische Einträge durch den Mittelwert der vorhandenen Daten ersetzt."
   ]
  }
 ],
 "metadata": {
  "jupytext": {
   "formats": "ipynb,md:myst",
   "text_representation": {
    "extension": ".md",
    "format_name": "myst",
    "format_version": 0.13,
    "jupytext_version": "1.15.2"
   }
  },
  "kernelspec": {
   "display_name": "Python 3",
   "language": "python",
   "name": "python3"
  },
  "language_info": {
   "codemirror_mode": {
    "name": "ipython",
    "version": 3
   },
   "file_extension": ".py",
   "mimetype": "text/x-python",
   "name": "python",
   "nbconvert_exporter": "python",
   "pygments_lexer": "ipython3",
   "version": "3.12.2"
  },
  "source_map": [
   13,
   49,
   56,
   68,
   70,
   76,
   78,
   89,
   93,
   101,
   104,
   139,
   142,
   152,
   155,
   160,
   162,
   172,
   175,
   185,
   187,
   197,
   199,
   212,
   214,
   223,
   225,
   230,
   232,
   244,
   249
  ]
 },
 "nbformat": 4,
 "nbformat_minor": 5
}