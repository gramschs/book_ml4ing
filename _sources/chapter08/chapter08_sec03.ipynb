{
 "cells": [
  {
   "cell_type": "markdown",
   "id": "fd4465a7",
   "metadata": {},
   "source": [
    "# Training eines Perzeptrons mit Scikit-Learn\n",
    "\n",
    "Nachdem wir im letzten Abschnitt ein Perzeptron händisch für die Klassifikationsaufgabe des logischen Oders trainiert haben, lernen wir in diesem Abschnitt eine Bibliothek kennen, die das Training für uns übernimmt.\n",
    "\n",
    "## Lernziele\n",
    "\n",
    "```{admonition} Lernziele\n",
    ":class: important\n",
    "* Sie kennen die Bibliothek Scikit-Learn.\n",
    "* Sie können den grundlegenden Ablauf eines ML-Projektes mit Scikit-Learn beschreiben.\n",
    "* Sie wissen, wie Sie die Trainingsdaten als Matrix bzw. Vektor mit dem Modul Numpy repräsentieren.\n",
    "* Sie können das Perzeptron-Modell von Scikit-Learn laden und mit den gegebenen Trainingsdaten trainieren.\n",
    "* Sie wissen, wie Sie auf die Gewichte des gelernten Modells zugreifen.\n",
    "```\n",
    "\n",
    "## Scikit-Learn\n",
    "\n",
    "Gute Nachricht vorneweg: Sie müssen die ML-Algorithen nicht selbst\n",
    "implementieren, das haben bereits Wissenschaftler:innen aus der Mathematik und\n",
    "der Informatik erledigt. Eine der bekanntesten Bibliotheken bzw. eines der\n",
    "bekanntesten Module ist Scikit-Learn\n",
    "\n",
    "> https://scikit-learn.org/\n",
    "\n",
    "das wir auch für diese Vorlesung verwenden werden. Bitte stellen Sie jetzt\n",
    "sicher, dass Scikit-Learn bei Ihnen installiert ist. \n",
    "\n",
    "Das Modul Scikit-Learn wird mit ``sklearn`` abgekürzt, alle Funktionen werden\n",
    "also z.B. mit"
   ]
  },
  {
   "cell_type": "code",
   "execution_count": 1,
   "id": "67ef1dd7",
   "metadata": {
    "vscode": {
     "languageId": "python"
    }
   },
   "outputs": [
    {
     "name": "stderr",
     "output_type": "stream",
     "text": [
      "/opt/homebrew/Caskroom/miniconda/base/envs/python310/lib/python3.10/site-packages/scipy/__init__.py:146: UserWarning: A NumPy version >=1.16.5 and <1.23.0 is required for this version of SciPy (detected version 1.25.0\n",
      "  warnings.warn(f\"A NumPy version >={np_minversion} and <{np_maxversion}\"\n"
     ]
    }
   ],
   "source": [
    "import sklearn"
   ]
  },
  {
   "cell_type": "markdown",
   "id": "2647625b",
   "metadata": {},
   "source": [
    "in den Namensraum importiert. Da das Modul aber so mächtig ist, werden wir immer\n",
    "nur einzelne Funktionen aus Scikit-Learn importieren. \n",
    "\n",
    "## Grundlegender ML-Workflow mit Scikit-Learn \n",
    "\n",
    "Die ML-Algorithmen des Scikit-Learn-Moduls haben dabei immer die gleiche\n",
    "Schnittstelle (API). Damit ist gemeint, dass die Methoden- und Funktionsnamen\n",
    "für alle ML-Modelle gleich gewählt sind. Auch ist die Art und Weise, wie die\n",
    "Trainingsdaten verarbeitet werden, stets gleich. Wir können den grundlegenden\n",
    "Ablauf eines typischen ML-Projektes folgendermaßen zusammenfassen:\n",
    "\n",
    "```{admonition} Wie funktioniert der grundlegende ML-Workflow mit Scikit-Learn?\n",
    ":class: note\n",
    "\n",
    "1. Zuerst packen wir die Inputdaten in eine Matrix X, bei der jede Spalte eine Eigenschaft repräsentiert. Die Zeilen stehen für die verschiedenen Datensätze.\n",
    "2. Falls wir ein überwachtes Lernverfahren anwenden wollen, packen wir die Outputdaten in einen Vektor y.\n",
    "3. Nun wählen wir ein Modell aus, das trainiert werden soll. \n",
    "4. Dazu spezifizieren wir die Hyperparameter des Modells. Hyperparameter sind Parameter des Modells, die wir vorab ohne die genaue Kenntnis der Daten festlegen.\n",
    "5. Wir trainieren das ML-Modell, indem wir die fit()-Methode des Modells aufrufen.\n",
    "6. Um das Modell zur Prognose neuer Daten zu verwenden, benutzten wir die predict()-Methode.\n",
    "7. Zuletzt wird das Modell analysiert, validiert und produktiv eingesetzt.\n",
    "```\n",
    "\n",
    "## Das logische Oder Klassifikationsproblem - diesmal mit Scikit-Learn \n",
    "\n",
    "Im letzten Abschnitt {ref}`perzeptron_training_logisches_oder` haben wir\n",
    "händisch ein Perzeptron trainiert. Zur Erinnerung, wenn wir die Bias-Einheit\n",
    "weglassen, lautet das logische Oder in Tabellenform wie folgt:\n",
    "\n",
    "x1 | x2 | y\n",
    "---|----|---\n",
    " 0 | 0  | 0\n",
    " 0 | 1  | 1\n",
    " 1 | 0  | 1\n",
    " 1 | 1  | 1\n",
    "\n",
    "Diese Daten formulieren wir nun als eine Inputmatrix $X$ mit den Spalten x1 und\n",
    "x2. Für die Erzeugung und Weiterverarbeitung der Matrizen laden wir das Modul\n",
    "Numpy."
   ]
  },
  {
   "cell_type": "code",
   "execution_count": 2,
   "id": "28a42869",
   "metadata": {
    "vscode": {
     "languageId": "python"
    }
   },
   "outputs": [],
   "source": [
    "import numpy as np\n",
    "\n",
    "X = np.array([\n",
    "    [0, 0],\n",
    "    [0, 1],\n",
    "    [1, 0],\n",
    "    [1, 1]\n",
    "    ])"
   ]
  },
  {
   "cell_type": "markdown",
   "id": "d30c5dbb",
   "metadata": {},
   "source": [
    "Den Output formulieren wir als Vektor, ebenfalls mit Hilfe des Numpy-Moduls."
   ]
  },
  {
   "cell_type": "code",
   "execution_count": 3,
   "id": "a6515cce",
   "metadata": {
    "vscode": {
     "languageId": "python"
    }
   },
   "outputs": [],
   "source": [
    "y = np.array([0, 1, 1, 1])"
   ]
  },
  {
   "cell_type": "markdown",
   "id": "632644be",
   "metadata": {},
   "source": [
    "Nun wählen wir das Perzeptron als das zu trainierende ML-Modell aus. Direkt beim\n",
    "Laden des Modells legen wir die Hyperparameter des Modells fest. Welche\n",
    "Hyperparameter ein Modell hat, steht in der\n",
    "[Perzeptron-Dokumentation](https://scikit-learn.org/stable/modules/generated/sklearn.linear_model.Perceptron.html?highlight=perceptron#sklearn.linear_model.Perceptron).\n",
    "In diesem Fall wäre beispielsweise die Lernrate ein Hyperparameter. Laut\n",
    "Dokumentation wird die Lernrate beim Scikit-Learn-Perzeptron mit `eta0`\n",
    "bezeichnet. Der Python-Code, um das Perzeptron-Modell mit einer Lernrate von 1\n",
    "zu laden, lautet also wie folgt:"
   ]
  },
  {
   "cell_type": "code",
   "execution_count": 4,
   "id": "e89d0db4",
   "metadata": {
    "vscode": {
     "languageId": "python"
    }
   },
   "outputs": [],
   "source": [
    "from sklearn.linear_model import Perceptron \n",
    "modell = Perceptron(eta0 = 1.0)"
   ]
  },
  {
   "cell_type": "markdown",
   "id": "153d0924",
   "metadata": {},
   "source": [
    "Nun können wir das Perzeptron-Modell mit den Input- und Outputdaten trainieren, indem wir die `.fit()`-Methode aufrufen."
   ]
  },
  {
   "cell_type": "code",
   "execution_count": 5,
   "id": "9b86c9c1",
   "metadata": {
    "vscode": {
     "languageId": "python"
    }
   },
   "outputs": [
    {
     "data": {
      "text/plain": [
       "Perceptron()"
      ]
     },
     "execution_count": 5,
     "metadata": {},
     "output_type": "execute_result"
    }
   ],
   "source": [
    "modell.fit(X,y)"
   ]
  },
  {
   "cell_type": "markdown",
   "id": "0e3cf066",
   "metadata": {},
   "source": [
    "Nachdem wir den letzten Python-Befehl ausgeführt haben, passiert scheinbar\n",
    "nichts. Nur der Klassenname `Perceptron()` des Objekts `modell` wird ausgegeben\n",
    "(wenn Sie den Code interaktiv ausführen). Intern wurde jedoch das\n",
    "Perzeptron-Modell trainiert, d.h. die Gewichte des Perzeptrons wurden iterativ\n",
    "bestimmt. Die Gewichte sind nun in dem Objekt `modell` gespeichert. Davon können\n",
    "wir uns überzeugen, indem wir auf die Attribute des Objekts zugreifen und diese\n",
    "anzeigen lassen. Die Gewichte sind in dem Attribut `.coef_` gespeichert, während\n",
    "das Gewicht der Bias-Einheit sich im Attribut `.intercept_` befindet."
   ]
  },
  {
   "cell_type": "code",
   "execution_count": 6,
   "id": "1eef76b1",
   "metadata": {
    "vscode": {
     "languageId": "python"
    }
   },
   "outputs": [
    {
     "name": "stdout",
     "output_type": "stream",
     "text": [
      "[[2. 2.]]\n",
      "[-1.]\n"
     ]
    }
   ],
   "source": [
    "print(modell.coef_)\n",
    "print(modell.intercept_)"
   ]
  },
  {
   "cell_type": "markdown",
   "id": "17349ae5",
   "metadata": {},
   "source": [
    "Zuletzt können wir das trainierte Perzeptron-Modell Prognosen treffen lassen.\n",
    "Was prognostiziert das Modell beispielsweise für $x_1=0$ und $x_2=1$? Das\n",
    "tatsächliche Ergebnis der logischen Oder-Verknüpfung ist $y=1$, was liefert das\n",
    "Perzeptron?"
   ]
  },
  {
   "cell_type": "code",
   "execution_count": 7,
   "id": "4345bb03",
   "metadata": {
    "vscode": {
     "languageId": "python"
    }
   },
   "outputs": [
    {
     "name": "stdout",
     "output_type": "stream",
     "text": [
      "[1]\n"
     ]
    }
   ],
   "source": [
    "y_prognose = modell.predict(np.array([[0, 1]]))\n",
    "print(y_prognose)"
   ]
  },
  {
   "cell_type": "markdown",
   "id": "2ac7cccb",
   "metadata": {},
   "source": [
    "Wir können auch gleich für alle Datensätze eine Prognose erstellen."
   ]
  },
  {
   "cell_type": "code",
   "execution_count": 8,
   "id": "09b78cfc",
   "metadata": {
    "vscode": {
     "languageId": "python"
    }
   },
   "outputs": [
    {
     "name": "stdout",
     "output_type": "stream",
     "text": [
      "[0 1 1 1]\n"
     ]
    }
   ],
   "source": [
    "y_prognose = modell.predict(X)\n",
    "print(y_prognose)"
   ]
  },
  {
   "cell_type": "markdown",
   "id": "fc40c469",
   "metadata": {},
   "source": [
    "Tatsächlich funktioniert unser trainiertes Perzeptron zu 100 % korrekt und ist\n",
    "damit validiert. Bei nur vier Datensätzen lässt sich relativ leicht überblicken,\n",
    "dass alle vier Prognosen korrekt sind. Sobald die Datenanzahl zunimmt, wird es\n",
    "schwieriger, den Überblick zu behalten. Daher stellt Scikit-Learn die Methode\n",
    "`.score()` zur Verfügung, die bei Klassifikatoren die Anzahl der korrekt\n",
    "prognostizierten Outputs im Verhältnis zur Gesamtanzahl berechnet. Das Ergbnis\n",
    "ist also eine Bewertung zwischen 0 (keine einzige korrekte Prognose) und 1\n",
    "(perfekt Prognose)."
   ]
  },
  {
   "cell_type": "code",
   "execution_count": 9,
   "id": "528ec3a8",
   "metadata": {
    "vscode": {
     "languageId": "python"
    }
   },
   "outputs": [
    {
     "name": "stdout",
     "output_type": "stream",
     "text": [
      "1.0\n"
     ]
    }
   ],
   "source": [
    "genauigkeit = modell.score(X, y)\n",
    "print(genauigkeit)"
   ]
  },
  {
   "cell_type": "markdown",
   "id": "77d4507a",
   "metadata": {},
   "source": [
    "## Zusammenfassung und Ausblick\n",
    "\n",
    "Mit Scikit-Learn steht schon eine Implementierung des Perzeptrons zur Verfügung,\n",
    "die auch bei größeren Datenmengen eine binäre Klassifikation erlaubt. Welche\n",
    "Daten dabei überhaupt binär klassifiziert können, klären wir in einem der\n",
    "folgenden Abschnitte."
   ]
  }
 ],
 "metadata": {
  "jupytext": {
   "formats": "ipynb,md:myst",
   "text_representation": {
    "extension": ".md",
    "format_name": "myst",
    "format_version": 0.13,
    "jupytext_version": "1.14.7"
   }
  },
  "kernelspec": {
   "display_name": "Python 3 (ipykernel)",
   "language": "python",
   "name": "python3"
  },
  "language_info": {
   "codemirror_mode": {
    "name": "ipython",
    "version": 3
   },
   "file_extension": ".py",
   "mimetype": "text/x-python",
   "name": "python",
   "nbconvert_exporter": "python",
   "pygments_lexer": "ipython3",
   "version": "3.10.11"
  },
  "source_map": [
   13,
   45,
   51,
   93,
   106,
   110,
   116,
   127,
   134,
   138,
   144,
   155,
   162,
   169,
   176,
   180,
   187,
   198,
   205
  ]
 },
 "nbformat": 4,
 "nbformat_minor": 5
}