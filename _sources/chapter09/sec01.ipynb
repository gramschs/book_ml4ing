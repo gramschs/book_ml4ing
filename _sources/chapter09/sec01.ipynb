{
 "cells": [
  {
   "cell_type": "markdown",
   "id": "b9028772",
   "metadata": {},
   "source": [
    "# Series für eindimensionale Daten\n",
    "\n",
    "\n",
    "## Lernziele\n",
    "\n",
    "```{admonition} Lernziele\n",
    ":class: hint\n",
    "* TODO\n",
    "```\n",
    "\n",
    "## Import von pandas\n",
    "\n",
    "Pandas ist eine Bibliothek zur Verarbeitung und Analyse von Daten in Form von\n",
    "Tabellen und Zeitreihen. Die beiden grundlegenden Datenstrukturen sind\n",
    "**Series** und **DataFrame**. Dabei wird Series für Datenreihen genommen, also\n",
    "sozusagen die Verallgemeinerung von Vektoren bzw. eindimensionalen Arrays. Der\n",
    "Datentyp DataFrame repräsentiert Tabllen, also sozusagen Matrizen bzw.\n",
    "verallgemeinerte zweidimensionale Arrays. \n",
    "\n",
    "Um das Modul pandas benutzen zu können, müssen wir es zunächst importieren. Es\n",
    "ist üblich, dabei dem Modul die Abkürzung **pd** zu geben, damit wir nicht immer\n",
    "pandas schreiben müssen, wenn wir eine Funktion aus dem pandas-Modul benutzen."
   ]
  },
  {
   "cell_type": "code",
   "execution_count": 1,
   "id": "7d012615",
   "metadata": {},
   "outputs": [],
   "source": [
    "import pandas as pd # kürze das Modul pandas als pd ab, um Schreibarbeit zu sparen"
   ]
  },
  {
   "cell_type": "markdown",
   "id": "b8222d57",
   "metadata": {},
   "source": [
    "## Series aus Liste erzeugen\n",
    "\n",
    "Erzeugt werden kann ein Series-Objekt beispielsweise direkt aus einer Liste. Im\n",
    "folgenden Beispiel haben wir Altersangaben in einer Liste, also `[25, 22, 43,\n",
    "37]` und initialisieren über `Series` die Variable `alter`:"
   ]
  },
  {
   "cell_type": "code",
   "execution_count": 2,
   "id": "46a5bc39",
   "metadata": {},
   "outputs": [
    {
     "name": "stdout",
     "output_type": "stream",
     "text": [
      "0    25\n",
      "1    22\n",
      "2    43\n",
      "3    37\n",
      "dtype: int64\n"
     ]
    }
   ],
   "source": [
    "alter = pd.Series([25, 22, 43, 37])\n",
    "print(alter)"
   ]
  },
  {
   "cell_type": "markdown",
   "id": "3cb0c878",
   "metadata": {},
   "source": [
    "Was ist aber jetzt der Vorteil von Pandas? Warum nicht einfach bei der Liste\n",
    "bleiben oder aber, wenn Performance wichtig sein sollte, ein eindimensionales\n",
    "Numpy-Array nehmen? Der wichtigste Unterschied ist der **Index**.\n",
    "\n",
    "Bei einer Liste oder einem Numpy-Array ist der Index implizit definiert. Damit\n",
    "ist gemeint, dass bei der Initialisierung automatisch ein Index 0, 1, 2, 3, ...\n",
    "angelegt wird. Wenn bei einer Liste `l = [25, 22, 43, 37]` auf das zweite\n",
    "Element zugegriffen werden soll, dann verwenden wir den Index 1 (zur Erinnerung:\n",
    "Python zählt ab 0) und schreiben"
   ]
  },
  {
   "cell_type": "code",
   "execution_count": 3,
   "id": "0aae3987",
   "metadata": {},
   "outputs": [
    {
     "name": "stdout",
     "output_type": "stream",
     "text": [
      "2. Element der Liste:  22\n"
     ]
    }
   ],
   "source": [
    "l = [25, 22, 43, 37]\n",
    "print(\"2. Element der Liste: \", l[1])"
   ]
  },
  {
   "cell_type": "markdown",
   "id": "029eccce",
   "metadata": {},
   "source": [
    "Das gleiche gilt für das Numpy-Array, das ebenfalls die Integer 0, 1, 2, 3\n",
    "verwendet, um das folgende Array zu indizieren:"
   ]
  },
  {
   "cell_type": "code",
   "execution_count": 4,
   "id": "64a70f38",
   "metadata": {},
   "outputs": [
    {
     "name": "stdout",
     "output_type": "stream",
     "text": [
      "2. Element des Arrays:  22\n"
     ]
    }
   ],
   "source": [
    "import numpy as np\n",
    "a = np.array([25, 22, 43, 37])\n",
    "print(\"2. Element des Arrays: \", a[1])"
   ]
  },
  {
   "cell_type": "markdown",
   "id": "3c2cbd7a",
   "metadata": {},
   "source": [
    "Die Datenstruktur Series ermöglich es aber, einen expliziten Index zu setzen.\n",
    "Über den optionalen Parameter `index=` speichern wir als Zusatzinformation noch\n",
    "ab, von welcher Person das Alter abgefragt wurde. In dem Fall sind es die vier\n",
    "Personen Alice, Bob, Charlie und Dora."
   ]
  },
  {
   "cell_type": "code",
   "execution_count": 5,
   "id": "78e1d325",
   "metadata": {},
   "outputs": [
    {
     "name": "stdout",
     "output_type": "stream",
     "text": [
      "Alice      25\n",
      "Bob        22\n",
      "Charlie    43\n",
      "Dora       30\n",
      "dtype: int64\n"
     ]
    }
   ],
   "source": [
    "alter = pd.Series([25, 22, 43, 30], index=[\"Alice\", \"Bob\", \"Charlie\", \"Dora\"])\n",
    "print(alter)"
   ]
  }
 ],
 "metadata": {
  "jupytext": {
   "formats": "ipynb,md:myst",
   "text_representation": {
    "extension": ".md",
    "format_name": "myst",
    "format_version": 0.13,
    "jupytext_version": "1.13.8"
   }
  },
  "kernelspec": {
   "display_name": "Python 3 (ipykernel)",
   "language": "python",
   "name": "python3"
  },
  "language_info": {
   "codemirror_mode": {
    "name": "ipython",
    "version": 3
   },
   "file_extension": ".py",
   "mimetype": "text/x-python",
   "name": "python",
   "nbconvert_exporter": "python",
   "pygments_lexer": "ipython3",
   "version": "3.9.13"
  },
  "source_map": [
   13,
   38,
   40,
   48,
   51,
   63,
   66,
   71,
   75,
   82
  ]
 },
 "nbformat": 4,
 "nbformat_minor": 5
}