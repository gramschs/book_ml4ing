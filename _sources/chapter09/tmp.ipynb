{
 "cells": [
  {
   "cell_type": "markdown",
   "metadata": {},
   "source": [
    "# Overfitting"
   ]
  },
  {
   "cell_type": "code",
   "execution_count": 1,
   "metadata": {},
   "outputs": [],
   "source": [
    "import pandas as pd \n",
    "from sklearn.datasets import make_moons\n",
    "\n",
    "# Erzeugung künstlicher Daten\n",
    "X_array, y_array = make_moons(n_samples=2000, random_state=0, noise=0.3)\n",
    "\n",
    "daten = pd.DataFrame({\n",
    "    'Kilometerstand [km]': 10000 * (X_array[:,0] + 2),\n",
    "    'Preis [EUR]': 5000 * (X_array[:,1] + 2),\n",
    "    'verkauft': y_array,\n",
    "    })\n",
    "\n",
    "X = daten[['Kilometerstand [km]', 'Preis [EUR]']].values\n",
    "y = daten['verkauft'].values"
   ]
  },
  {
   "cell_type": "code",
   "execution_count": 2,
   "metadata": {},
   "outputs": [],
   "source": [
    "from sklearn.model_selection import train_test_split\n",
    "\n",
    "X_train, X_test, y_train, y_test = train_test_split(X,y, train_size=0.5, random_state=0)\n"
   ]
  },
  {
   "cell_type": "code",
   "execution_count": 3,
   "metadata": {},
   "outputs": [
    {
     "name": "stdout",
     "output_type": "stream",
     "text": [
      "Score bezogen auf Trainingsdaten: 1.00\n",
      "Score bezogen auf Testdaten: 0.91\n"
     ]
    }
   ],
   "source": [
    "import xgboost as xgb\n",
    "\n",
    "modell = xgb.XGBClassifier(n_estimators=200)\n",
    "\n",
    "modell.fit(X_train, y_train)\n",
    "\n",
    "score_train = modell.score(X_train, y_train)\n",
    "print(f'Score bezogen auf Trainingsdaten: {score_train:.2f}')\n",
    "score_test = modell.score(X_test, y_test)\n",
    "print(f'Score bezogen auf Testdaten: {score_test:.2f}')"
   ]
  },
  {
   "cell_type": "code",
   "execution_count": 4,
   "metadata": {},
   "outputs": [
    {
     "data": {
      "text/plain": [
       "{'use_rmm': False, 'verbosity': 1}"
      ]
     },
     "execution_count": 4,
     "metadata": {},
     "output_type": "execute_result"
    }
   ],
   "source": [
    "xgb.get_config()"
   ]
  },
  {
   "cell_type": "code",
   "execution_count": 5,
   "metadata": {},
   "outputs": [
    {
     "name": "stdout",
     "output_type": "stream",
     "text": [
      "[0]\tvalidation_0-error:0.07100\tvalidation_0-logloss:0.50184\tvalidation_1-error:0.09000\tvalidation_1-logloss:0.50700\n",
      "[1]\tvalidation_0-error:0.07000\tvalidation_0-logloss:0.39395\tvalidation_1-error:0.09200\tvalidation_1-logloss:0.40302\n",
      "[2]\tvalidation_0-error:0.06700\tvalidation_0-logloss:0.32546\tvalidation_1-error:0.09000\tvalidation_1-logloss:0.33853\n",
      "[3]\tvalidation_0-error:0.06600\tvalidation_0-logloss:0.27612\tvalidation_1-error:0.08400\tvalidation_1-logloss:0.29657\n",
      "[4]\tvalidation_0-error:0.06500\tvalidation_0-logloss:0.24326\tvalidation_1-error:0.08300\tvalidation_1-logloss:0.26750\n",
      "[5]\tvalidation_0-error:0.06300\tvalidation_0-logloss:0.21908\tvalidation_1-error:0.08800\tvalidation_1-logloss:0.24820\n",
      "[6]\tvalidation_0-error:0.06700\tvalidation_0-logloss:0.19809\tvalidation_1-error:0.08200\tvalidation_1-logloss:0.23518\n",
      "[7]\tvalidation_0-error:0.06300\tvalidation_0-logloss:0.18358\tvalidation_1-error:0.08100\tvalidation_1-logloss:0.22703\n",
      "[8]\tvalidation_0-error:0.06500\tvalidation_0-logloss:0.17340\tvalidation_1-error:0.08000\tvalidation_1-logloss:0.22144\n",
      "[9]\tvalidation_0-error:0.06500\tvalidation_0-logloss:0.16484\tvalidation_1-error:0.08100\tvalidation_1-logloss:0.21714\n",
      "[10]\tvalidation_0-error:0.06000\tvalidation_0-logloss:0.15693\tvalidation_1-error:0.08200\tvalidation_1-logloss:0.21481\n",
      "[11]\tvalidation_0-error:0.05900\tvalidation_0-logloss:0.15261\tvalidation_1-error:0.08200\tvalidation_1-logloss:0.21202\n",
      "[12]\tvalidation_0-error:0.05500\tvalidation_0-logloss:0.14760\tvalidation_1-error:0.08300\tvalidation_1-logloss:0.21109\n",
      "[13]\tvalidation_0-error:0.05800\tvalidation_0-logloss:0.14254\tvalidation_1-error:0.08300\tvalidation_1-logloss:0.21183\n",
      "[14]\tvalidation_0-error:0.05500\tvalidation_0-logloss:0.13972\tvalidation_1-error:0.08300\tvalidation_1-logloss:0.21077\n",
      "[15]\tvalidation_0-error:0.05700\tvalidation_0-logloss:0.13645\tvalidation_1-error:0.08300\tvalidation_1-logloss:0.21100\n",
      "[16]\tvalidation_0-error:0.05500\tvalidation_0-logloss:0.13504\tvalidation_1-error:0.08300\tvalidation_1-logloss:0.20990\n",
      "[17]\tvalidation_0-error:0.05500\tvalidation_0-logloss:0.13289\tvalidation_1-error:0.08300\tvalidation_1-logloss:0.20976\n",
      "[18]\tvalidation_0-error:0.05400\tvalidation_0-logloss:0.12993\tvalidation_1-error:0.08300\tvalidation_1-logloss:0.20840\n",
      "[19]\tvalidation_0-error:0.05100\tvalidation_0-logloss:0.12755\tvalidation_1-error:0.08400\tvalidation_1-logloss:0.20846\n",
      "[20]\tvalidation_0-error:0.04900\tvalidation_0-logloss:0.12430\tvalidation_1-error:0.08400\tvalidation_1-logloss:0.20903\n",
      "[21]\tvalidation_0-error:0.04700\tvalidation_0-logloss:0.12106\tvalidation_1-error:0.08300\tvalidation_1-logloss:0.21074\n",
      "[22]\tvalidation_0-error:0.04400\tvalidation_0-logloss:0.11872\tvalidation_1-error:0.08500\tvalidation_1-logloss:0.21054\n",
      "[23]\tvalidation_0-error:0.04400\tvalidation_0-logloss:0.11677\tvalidation_1-error:0.08900\tvalidation_1-logloss:0.21167\n",
      "[24]\tvalidation_0-error:0.04400\tvalidation_0-logloss:0.11455\tvalidation_1-error:0.08900\tvalidation_1-logloss:0.21342\n",
      "[25]\tvalidation_0-error:0.04100\tvalidation_0-logloss:0.11271\tvalidation_1-error:0.09000\tvalidation_1-logloss:0.21474\n",
      "[26]\tvalidation_0-error:0.04200\tvalidation_0-logloss:0.11172\tvalidation_1-error:0.09000\tvalidation_1-logloss:0.21450\n",
      "[27]\tvalidation_0-error:0.03900\tvalidation_0-logloss:0.10950\tvalidation_1-error:0.08900\tvalidation_1-logloss:0.21578\n",
      "[28]\tvalidation_0-error:0.03900\tvalidation_0-logloss:0.10807\tvalidation_1-error:0.08900\tvalidation_1-logloss:0.21678\n",
      "[29]\tvalidation_0-error:0.03500\tvalidation_0-logloss:0.10578\tvalidation_1-error:0.08800\tvalidation_1-logloss:0.21776\n",
      "[30]\tvalidation_0-error:0.03600\tvalidation_0-logloss:0.10474\tvalidation_1-error:0.08900\tvalidation_1-logloss:0.21843\n",
      "[31]\tvalidation_0-error:0.03400\tvalidation_0-logloss:0.10397\tvalidation_1-error:0.08900\tvalidation_1-logloss:0.21902\n",
      "[32]\tvalidation_0-error:0.03300\tvalidation_0-logloss:0.10307\tvalidation_1-error:0.08900\tvalidation_1-logloss:0.21947\n",
      "[33]\tvalidation_0-error:0.03100\tvalidation_0-logloss:0.10199\tvalidation_1-error:0.09000\tvalidation_1-logloss:0.22087\n",
      "[34]\tvalidation_0-error:0.03400\tvalidation_0-logloss:0.10031\tvalidation_1-error:0.08900\tvalidation_1-logloss:0.22295\n",
      "[35]\tvalidation_0-error:0.03400\tvalidation_0-logloss:0.09911\tvalidation_1-error:0.08800\tvalidation_1-logloss:0.22255\n",
      "[36]\tvalidation_0-error:0.03200\tvalidation_0-logloss:0.09721\tvalidation_1-error:0.08800\tvalidation_1-logloss:0.22383\n",
      "[37]\tvalidation_0-error:0.02800\tvalidation_0-logloss:0.09550\tvalidation_1-error:0.08800\tvalidation_1-logloss:0.22557\n",
      "[38]\tvalidation_0-error:0.02800\tvalidation_0-logloss:0.09496\tvalidation_1-error:0.08900\tvalidation_1-logloss:0.22567\n",
      "[39]\tvalidation_0-error:0.02500\tvalidation_0-logloss:0.09351\tvalidation_1-error:0.09100\tvalidation_1-logloss:0.22861\n",
      "[40]\tvalidation_0-error:0.02500\tvalidation_0-logloss:0.09292\tvalidation_1-error:0.09100\tvalidation_1-logloss:0.22892\n",
      "[41]\tvalidation_0-error:0.02400\tvalidation_0-logloss:0.09119\tvalidation_1-error:0.09100\tvalidation_1-logloss:0.23003\n",
      "[42]\tvalidation_0-error:0.02500\tvalidation_0-logloss:0.09042\tvalidation_1-error:0.09100\tvalidation_1-logloss:0.23031\n",
      "[43]\tvalidation_0-error:0.02400\tvalidation_0-logloss:0.09002\tvalidation_1-error:0.09100\tvalidation_1-logloss:0.23014\n",
      "[44]\tvalidation_0-error:0.02500\tvalidation_0-logloss:0.08909\tvalidation_1-error:0.08900\tvalidation_1-logloss:0.23037\n",
      "[45]\tvalidation_0-error:0.02500\tvalidation_0-logloss:0.08818\tvalidation_1-error:0.09000\tvalidation_1-logloss:0.23130\n",
      "[46]\tvalidation_0-error:0.02500\tvalidation_0-logloss:0.08735\tvalidation_1-error:0.09000\tvalidation_1-logloss:0.23166\n",
      "[47]\tvalidation_0-error:0.02500\tvalidation_0-logloss:0.08646\tvalidation_1-error:0.08900\tvalidation_1-logloss:0.23208\n",
      "[48]\tvalidation_0-error:0.02400\tvalidation_0-logloss:0.08542\tvalidation_1-error:0.08800\tvalidation_1-logloss:0.23384\n",
      "[49]\tvalidation_0-error:0.02200\tvalidation_0-logloss:0.08391\tvalidation_1-error:0.08800\tvalidation_1-logloss:0.23513\n",
      "[50]\tvalidation_0-error:0.02100\tvalidation_0-logloss:0.08284\tvalidation_1-error:0.08900\tvalidation_1-logloss:0.23699\n",
      "[51]\tvalidation_0-error:0.02000\tvalidation_0-logloss:0.08227\tvalidation_1-error:0.08900\tvalidation_1-logloss:0.23760\n",
      "[52]\tvalidation_0-error:0.01900\tvalidation_0-logloss:0.08201\tvalidation_1-error:0.08900\tvalidation_1-logloss:0.23734\n",
      "[53]\tvalidation_0-error:0.02000\tvalidation_0-logloss:0.08103\tvalidation_1-error:0.08900\tvalidation_1-logloss:0.23854\n",
      "[54]\tvalidation_0-error:0.02000\tvalidation_0-logloss:0.08066\tvalidation_1-error:0.08900\tvalidation_1-logloss:0.23878\n",
      "[55]\tvalidation_0-error:0.02000\tvalidation_0-logloss:0.07991\tvalidation_1-error:0.09100\tvalidation_1-logloss:0.23979\n",
      "[56]\tvalidation_0-error:0.01900\tvalidation_0-logloss:0.07861\tvalidation_1-error:0.08900\tvalidation_1-logloss:0.24112\n",
      "[57]\tvalidation_0-error:0.01800\tvalidation_0-logloss:0.07803\tvalidation_1-error:0.09100\tvalidation_1-logloss:0.24183\n",
      "[58]\tvalidation_0-error:0.01900\tvalidation_0-logloss:0.07759\tvalidation_1-error:0.09000\tvalidation_1-logloss:0.24143\n",
      "[59]\tvalidation_0-error:0.01600\tvalidation_0-logloss:0.07596\tvalidation_1-error:0.09100\tvalidation_1-logloss:0.24225\n",
      "[60]\tvalidation_0-error:0.01600\tvalidation_0-logloss:0.07520\tvalidation_1-error:0.09000\tvalidation_1-logloss:0.24169\n",
      "[61]\tvalidation_0-error:0.01700\tvalidation_0-logloss:0.07436\tvalidation_1-error:0.08800\tvalidation_1-logloss:0.24281\n",
      "[62]\tvalidation_0-error:0.01700\tvalidation_0-logloss:0.07371\tvalidation_1-error:0.08800\tvalidation_1-logloss:0.24302\n",
      "[63]\tvalidation_0-error:0.01500\tvalidation_0-logloss:0.07317\tvalidation_1-error:0.08800\tvalidation_1-logloss:0.24360\n",
      "[64]\tvalidation_0-error:0.01600\tvalidation_0-logloss:0.07222\tvalidation_1-error:0.08800\tvalidation_1-logloss:0.24491\n",
      "[65]\tvalidation_0-error:0.01500\tvalidation_0-logloss:0.07201\tvalidation_1-error:0.08800\tvalidation_1-logloss:0.24483\n",
      "[66]\tvalidation_0-error:0.01400\tvalidation_0-logloss:0.07162\tvalidation_1-error:0.08700\tvalidation_1-logloss:0.24543\n",
      "[67]\tvalidation_0-error:0.01400\tvalidation_0-logloss:0.07087\tvalidation_1-error:0.08700\tvalidation_1-logloss:0.24622\n",
      "[68]\tvalidation_0-error:0.01400\tvalidation_0-logloss:0.06996\tvalidation_1-error:0.08700\tvalidation_1-logloss:0.24655\n",
      "[69]\tvalidation_0-error:0.01400\tvalidation_0-logloss:0.06955\tvalidation_1-error:0.08700\tvalidation_1-logloss:0.24702\n",
      "[70]\tvalidation_0-error:0.01400\tvalidation_0-logloss:0.06925\tvalidation_1-error:0.08900\tvalidation_1-logloss:0.24744\n",
      "[71]\tvalidation_0-error:0.01400\tvalidation_0-logloss:0.06827\tvalidation_1-error:0.08900\tvalidation_1-logloss:0.24934\n",
      "[72]\tvalidation_0-error:0.01300\tvalidation_0-logloss:0.06720\tvalidation_1-error:0.08800\tvalidation_1-logloss:0.24935\n",
      "[73]\tvalidation_0-error:0.01200\tvalidation_0-logloss:0.06662\tvalidation_1-error:0.08900\tvalidation_1-logloss:0.25085\n",
      "[74]\tvalidation_0-error:0.01200\tvalidation_0-logloss:0.06619\tvalidation_1-error:0.08900\tvalidation_1-logloss:0.25064\n",
      "[75]\tvalidation_0-error:0.01200\tvalidation_0-logloss:0.06583\tvalidation_1-error:0.08800\tvalidation_1-logloss:0.25139\n",
      "[76]\tvalidation_0-error:0.01200\tvalidation_0-logloss:0.06559\tvalidation_1-error:0.08800\tvalidation_1-logloss:0.25187\n",
      "[77]\tvalidation_0-error:0.01300\tvalidation_0-logloss:0.06469\tvalidation_1-error:0.08800\tvalidation_1-logloss:0.25355\n",
      "[78]\tvalidation_0-error:0.01300\tvalidation_0-logloss:0.06437\tvalidation_1-error:0.08800\tvalidation_1-logloss:0.25368\n",
      "[79]\tvalidation_0-error:0.01200\tvalidation_0-logloss:0.06396\tvalidation_1-error:0.08800\tvalidation_1-logloss:0.25390\n",
      "[80]\tvalidation_0-error:0.01100\tvalidation_0-logloss:0.06327\tvalidation_1-error:0.08800\tvalidation_1-logloss:0.25355\n",
      "[81]\tvalidation_0-error:0.01100\tvalidation_0-logloss:0.06256\tvalidation_1-error:0.08900\tvalidation_1-logloss:0.25522\n",
      "[82]\tvalidation_0-error:0.01100\tvalidation_0-logloss:0.06201\tvalidation_1-error:0.08900\tvalidation_1-logloss:0.25631\n",
      "[83]\tvalidation_0-error:0.01100\tvalidation_0-logloss:0.06181\tvalidation_1-error:0.08900\tvalidation_1-logloss:0.25639\n",
      "[84]\tvalidation_0-error:0.01100\tvalidation_0-logloss:0.06137\tvalidation_1-error:0.08900\tvalidation_1-logloss:0.25691\n",
      "[85]\tvalidation_0-error:0.01000\tvalidation_0-logloss:0.06070\tvalidation_1-error:0.08900\tvalidation_1-logloss:0.25841\n",
      "[86]\tvalidation_0-error:0.01000\tvalidation_0-logloss:0.05997\tvalidation_1-error:0.08800\tvalidation_1-logloss:0.25882\n",
      "[87]\tvalidation_0-error:0.01100\tvalidation_0-logloss:0.05922\tvalidation_1-error:0.08700\tvalidation_1-logloss:0.25948\n",
      "[88]\tvalidation_0-error:0.01000\tvalidation_0-logloss:0.05901\tvalidation_1-error:0.08700\tvalidation_1-logloss:0.25959\n",
      "[89]\tvalidation_0-error:0.01000\tvalidation_0-logloss:0.05863\tvalidation_1-error:0.08700\tvalidation_1-logloss:0.25931\n",
      "[90]\tvalidation_0-error:0.01000\tvalidation_0-logloss:0.05808\tvalidation_1-error:0.08700\tvalidation_1-logloss:0.26108\n",
      "[91]\tvalidation_0-error:0.00900\tvalidation_0-logloss:0.05770\tvalidation_1-error:0.08900\tvalidation_1-logloss:0.26181\n",
      "[92]\tvalidation_0-error:0.00900\tvalidation_0-logloss:0.05738\tvalidation_1-error:0.08800\tvalidation_1-logloss:0.26262\n",
      "[93]\tvalidation_0-error:0.00800\tvalidation_0-logloss:0.05670\tvalidation_1-error:0.09000\tvalidation_1-logloss:0.26286\n",
      "[94]\tvalidation_0-error:0.00800\tvalidation_0-logloss:0.05638\tvalidation_1-error:0.09000\tvalidation_1-logloss:0.26263\n",
      "[95]\tvalidation_0-error:0.00800\tvalidation_0-logloss:0.05620\tvalidation_1-error:0.09000\tvalidation_1-logloss:0.26287\n",
      "[96]\tvalidation_0-error:0.00700\tvalidation_0-logloss:0.05554\tvalidation_1-error:0.08900\tvalidation_1-logloss:0.26442\n",
      "[97]\tvalidation_0-error:0.00700\tvalidation_0-logloss:0.05540\tvalidation_1-error:0.08900\tvalidation_1-logloss:0.26421\n",
      "[98]\tvalidation_0-error:0.00700\tvalidation_0-logloss:0.05501\tvalidation_1-error:0.09000\tvalidation_1-logloss:0.26356\n",
      "[99]\tvalidation_0-error:0.00600\tvalidation_0-logloss:0.05462\tvalidation_1-error:0.08900\tvalidation_1-logloss:0.26396\n",
      "[100]\tvalidation_0-error:0.00600\tvalidation_0-logloss:0.05395\tvalidation_1-error:0.08900\tvalidation_1-logloss:0.26475\n",
      "[101]\tvalidation_0-error:0.00600\tvalidation_0-logloss:0.05377\tvalidation_1-error:0.09000\tvalidation_1-logloss:0.26527\n",
      "[102]\tvalidation_0-error:0.00600\tvalidation_0-logloss:0.05342\tvalidation_1-error:0.09000\tvalidation_1-logloss:0.26578\n",
      "[103]\tvalidation_0-error:0.00600\tvalidation_0-logloss:0.05310\tvalidation_1-error:0.09000\tvalidation_1-logloss:0.26678\n",
      "[104]\tvalidation_0-error:0.00600\tvalidation_0-logloss:0.05295\tvalidation_1-error:0.09000\tvalidation_1-logloss:0.26742\n",
      "[105]\tvalidation_0-error:0.00600\tvalidation_0-logloss:0.05279\tvalidation_1-error:0.09000\tvalidation_1-logloss:0.26779\n",
      "[106]\tvalidation_0-error:0.00600\tvalidation_0-logloss:0.05263\tvalidation_1-error:0.09000\tvalidation_1-logloss:0.26827\n",
      "[107]\tvalidation_0-error:0.00600\tvalidation_0-logloss:0.05248\tvalidation_1-error:0.09000\tvalidation_1-logloss:0.26885\n",
      "[108]\tvalidation_0-error:0.00600\tvalidation_0-logloss:0.05227\tvalidation_1-error:0.09100\tvalidation_1-logloss:0.26885\n",
      "[109]\tvalidation_0-error:0.00500\tvalidation_0-logloss:0.05203\tvalidation_1-error:0.09100\tvalidation_1-logloss:0.26839\n",
      "[110]\tvalidation_0-error:0.00500\tvalidation_0-logloss:0.05176\tvalidation_1-error:0.09100\tvalidation_1-logloss:0.26859\n",
      "[111]\tvalidation_0-error:0.00600\tvalidation_0-logloss:0.05140\tvalidation_1-error:0.09100\tvalidation_1-logloss:0.26885\n",
      "[112]\tvalidation_0-error:0.00500\tvalidation_0-logloss:0.05101\tvalidation_1-error:0.09100\tvalidation_1-logloss:0.26932\n",
      "[113]\tvalidation_0-error:0.00500\tvalidation_0-logloss:0.05086\tvalidation_1-error:0.09100\tvalidation_1-logloss:0.26952\n",
      "[114]\tvalidation_0-error:0.00500\tvalidation_0-logloss:0.05063\tvalidation_1-error:0.09100\tvalidation_1-logloss:0.26985\n",
      "[115]\tvalidation_0-error:0.00500\tvalidation_0-logloss:0.05052\tvalidation_1-error:0.09100\tvalidation_1-logloss:0.27013\n",
      "[116]\tvalidation_0-error:0.00500\tvalidation_0-logloss:0.05027\tvalidation_1-error:0.09100\tvalidation_1-logloss:0.27107\n",
      "[117]\tvalidation_0-error:0.00500\tvalidation_0-logloss:0.04999\tvalidation_1-error:0.09100\tvalidation_1-logloss:0.27166\n",
      "[118]\tvalidation_0-error:0.00500\tvalidation_0-logloss:0.04980\tvalidation_1-error:0.09100\tvalidation_1-logloss:0.27224\n",
      "[119]\tvalidation_0-error:0.00500\tvalidation_0-logloss:0.04968\tvalidation_1-error:0.09100\tvalidation_1-logloss:0.27243\n",
      "[120]\tvalidation_0-error:0.00500\tvalidation_0-logloss:0.04918\tvalidation_1-error:0.09000\tvalidation_1-logloss:0.27446\n",
      "[121]\tvalidation_0-error:0.00500\tvalidation_0-logloss:0.04899\tvalidation_1-error:0.09000\tvalidation_1-logloss:0.27445\n",
      "[122]\tvalidation_0-error:0.00400\tvalidation_0-logloss:0.04877\tvalidation_1-error:0.09000\tvalidation_1-logloss:0.27439\n",
      "[123]\tvalidation_0-error:0.00400\tvalidation_0-logloss:0.04863\tvalidation_1-error:0.09000\tvalidation_1-logloss:0.27475\n",
      "[124]\tvalidation_0-error:0.00400\tvalidation_0-logloss:0.04839\tvalidation_1-error:0.08900\tvalidation_1-logloss:0.27562\n",
      "[125]\tvalidation_0-error:0.00400\tvalidation_0-logloss:0.04807\tvalidation_1-error:0.08900\tvalidation_1-logloss:0.27566\n",
      "[126]\tvalidation_0-error:0.00400\tvalidation_0-logloss:0.04774\tvalidation_1-error:0.09000\tvalidation_1-logloss:0.27554\n",
      "[127]\tvalidation_0-error:0.00400\tvalidation_0-logloss:0.04741\tvalidation_1-error:0.09000\tvalidation_1-logloss:0.27621\n",
      "[128]\tvalidation_0-error:0.00400\tvalidation_0-logloss:0.04704\tvalidation_1-error:0.09000\tvalidation_1-logloss:0.27757\n",
      "[129]\tvalidation_0-error:0.00400\tvalidation_0-logloss:0.04675\tvalidation_1-error:0.09100\tvalidation_1-logloss:0.27720\n",
      "[130]\tvalidation_0-error:0.00400\tvalidation_0-logloss:0.04627\tvalidation_1-error:0.09100\tvalidation_1-logloss:0.27764\n",
      "[131]\tvalidation_0-error:0.00400\tvalidation_0-logloss:0.04603\tvalidation_1-error:0.09100\tvalidation_1-logloss:0.27806\n",
      "[132]\tvalidation_0-error:0.00400\tvalidation_0-logloss:0.04574\tvalidation_1-error:0.09100\tvalidation_1-logloss:0.27806\n",
      "[133]\tvalidation_0-error:0.00400\tvalidation_0-logloss:0.04551\tvalidation_1-error:0.09100\tvalidation_1-logloss:0.27840\n",
      "[134]\tvalidation_0-error:0.00400\tvalidation_0-logloss:0.04531\tvalidation_1-error:0.09100\tvalidation_1-logloss:0.27919\n",
      "[135]\tvalidation_0-error:0.00400\tvalidation_0-logloss:0.04519\tvalidation_1-error:0.09100\tvalidation_1-logloss:0.27948\n",
      "[136]\tvalidation_0-error:0.00400\tvalidation_0-logloss:0.04502\tvalidation_1-error:0.09000\tvalidation_1-logloss:0.27954\n",
      "[137]\tvalidation_0-error:0.00400\tvalidation_0-logloss:0.04477\tvalidation_1-error:0.09000\tvalidation_1-logloss:0.27910\n",
      "[138]\tvalidation_0-error:0.00400\tvalidation_0-logloss:0.04466\tvalidation_1-error:0.09000\tvalidation_1-logloss:0.27951\n",
      "[139]\tvalidation_0-error:0.00400\tvalidation_0-logloss:0.04448\tvalidation_1-error:0.09100\tvalidation_1-logloss:0.28017\n",
      "[140]\tvalidation_0-error:0.00400\tvalidation_0-logloss:0.04425\tvalidation_1-error:0.09100\tvalidation_1-logloss:0.28046\n",
      "[141]\tvalidation_0-error:0.00400\tvalidation_0-logloss:0.04409\tvalidation_1-error:0.09100\tvalidation_1-logloss:0.28139\n",
      "[142]\tvalidation_0-error:0.00400\tvalidation_0-logloss:0.04372\tvalidation_1-error:0.09100\tvalidation_1-logloss:0.28190\n",
      "[143]\tvalidation_0-error:0.00400\tvalidation_0-logloss:0.04358\tvalidation_1-error:0.09100\tvalidation_1-logloss:0.28238\n",
      "[144]\tvalidation_0-error:0.00400\tvalidation_0-logloss:0.04325\tvalidation_1-error:0.09100\tvalidation_1-logloss:0.28384\n",
      "[145]\tvalidation_0-error:0.00400\tvalidation_0-logloss:0.04311\tvalidation_1-error:0.09100\tvalidation_1-logloss:0.28407\n",
      "[146]\tvalidation_0-error:0.00400\tvalidation_0-logloss:0.04282\tvalidation_1-error:0.09100\tvalidation_1-logloss:0.28458\n",
      "[147]\tvalidation_0-error:0.00400\tvalidation_0-logloss:0.04272\tvalidation_1-error:0.09100\tvalidation_1-logloss:0.28482\n",
      "[148]\tvalidation_0-error:0.00300\tvalidation_0-logloss:0.04228\tvalidation_1-error:0.09100\tvalidation_1-logloss:0.28535\n",
      "[149]\tvalidation_0-error:0.00400\tvalidation_0-logloss:0.04215\tvalidation_1-error:0.09000\tvalidation_1-logloss:0.28527\n",
      "[150]\tvalidation_0-error:0.00400\tvalidation_0-logloss:0.04199\tvalidation_1-error:0.09000\tvalidation_1-logloss:0.28542\n",
      "[151]\tvalidation_0-error:0.00400\tvalidation_0-logloss:0.04180\tvalidation_1-error:0.09000\tvalidation_1-logloss:0.28574\n",
      "[152]\tvalidation_0-error:0.00300\tvalidation_0-logloss:0.04149\tvalidation_1-error:0.09000\tvalidation_1-logloss:0.28546\n",
      "[153]\tvalidation_0-error:0.00300\tvalidation_0-logloss:0.04130\tvalidation_1-error:0.09000\tvalidation_1-logloss:0.28558\n",
      "[154]\tvalidation_0-error:0.00300\tvalidation_0-logloss:0.04108\tvalidation_1-error:0.09000\tvalidation_1-logloss:0.28660\n",
      "[155]\tvalidation_0-error:0.00300\tvalidation_0-logloss:0.04082\tvalidation_1-error:0.09000\tvalidation_1-logloss:0.28740\n",
      "[156]\tvalidation_0-error:0.00300\tvalidation_0-logloss:0.04066\tvalidation_1-error:0.09000\tvalidation_1-logloss:0.28780\n",
      "[157]\tvalidation_0-error:0.00300\tvalidation_0-logloss:0.04030\tvalidation_1-error:0.09300\tvalidation_1-logloss:0.28887\n",
      "[158]\tvalidation_0-error:0.00300\tvalidation_0-logloss:0.04004\tvalidation_1-error:0.09200\tvalidation_1-logloss:0.28982\n",
      "[159]\tvalidation_0-error:0.00300\tvalidation_0-logloss:0.03973\tvalidation_1-error:0.09100\tvalidation_1-logloss:0.29054\n",
      "[160]\tvalidation_0-error:0.00300\tvalidation_0-logloss:0.03949\tvalidation_1-error:0.09100\tvalidation_1-logloss:0.29152\n",
      "[161]\tvalidation_0-error:0.00300\tvalidation_0-logloss:0.03920\tvalidation_1-error:0.09200\tvalidation_1-logloss:0.29088\n",
      "[162]\tvalidation_0-error:0.00300\tvalidation_0-logloss:0.03904\tvalidation_1-error:0.09300\tvalidation_1-logloss:0.29112\n",
      "[163]\tvalidation_0-error:0.00300\tvalidation_0-logloss:0.03894\tvalidation_1-error:0.09200\tvalidation_1-logloss:0.29106\n",
      "[164]\tvalidation_0-error:0.00300\tvalidation_0-logloss:0.03868\tvalidation_1-error:0.09300\tvalidation_1-logloss:0.29190\n",
      "[165]\tvalidation_0-error:0.00300\tvalidation_0-logloss:0.03842\tvalidation_1-error:0.09300\tvalidation_1-logloss:0.29154\n",
      "[166]\tvalidation_0-error:0.00300\tvalidation_0-logloss:0.03824\tvalidation_1-error:0.09200\tvalidation_1-logloss:0.29228\n",
      "[167]\tvalidation_0-error:0.00300\tvalidation_0-logloss:0.03809\tvalidation_1-error:0.09200\tvalidation_1-logloss:0.29223\n",
      "[168]\tvalidation_0-error:0.00300\tvalidation_0-logloss:0.03790\tvalidation_1-error:0.09200\tvalidation_1-logloss:0.29140\n",
      "[169]\tvalidation_0-error:0.00300\tvalidation_0-logloss:0.03770\tvalidation_1-error:0.09200\tvalidation_1-logloss:0.29234\n",
      "[170]\tvalidation_0-error:0.00300\tvalidation_0-logloss:0.03749\tvalidation_1-error:0.09200\tvalidation_1-logloss:0.29263\n",
      "[171]\tvalidation_0-error:0.00300\tvalidation_0-logloss:0.03741\tvalidation_1-error:0.09200\tvalidation_1-logloss:0.29282\n",
      "[172]\tvalidation_0-error:0.00300\tvalidation_0-logloss:0.03727\tvalidation_1-error:0.09100\tvalidation_1-logloss:0.29366\n",
      "[173]\tvalidation_0-error:0.00300\tvalidation_0-logloss:0.03704\tvalidation_1-error:0.09100\tvalidation_1-logloss:0.29326\n",
      "[174]\tvalidation_0-error:0.00200\tvalidation_0-logloss:0.03676\tvalidation_1-error:0.09200\tvalidation_1-logloss:0.29406\n",
      "[175]\tvalidation_0-error:0.00200\tvalidation_0-logloss:0.03661\tvalidation_1-error:0.09300\tvalidation_1-logloss:0.29473\n",
      "[176]\tvalidation_0-error:0.00300\tvalidation_0-logloss:0.03645\tvalidation_1-error:0.09200\tvalidation_1-logloss:0.29554\n",
      "[177]\tvalidation_0-error:0.00200\tvalidation_0-logloss:0.03614\tvalidation_1-error:0.09200\tvalidation_1-logloss:0.29582\n",
      "[178]\tvalidation_0-error:0.00200\tvalidation_0-logloss:0.03607\tvalidation_1-error:0.09200\tvalidation_1-logloss:0.29585\n",
      "[179]\tvalidation_0-error:0.00200\tvalidation_0-logloss:0.03589\tvalidation_1-error:0.09200\tvalidation_1-logloss:0.29717\n",
      "[180]\tvalidation_0-error:0.00200\tvalidation_0-logloss:0.03575\tvalidation_1-error:0.09200\tvalidation_1-logloss:0.29689\n",
      "[181]\tvalidation_0-error:0.00200\tvalidation_0-logloss:0.03566\tvalidation_1-error:0.09200\tvalidation_1-logloss:0.29705\n",
      "[182]\tvalidation_0-error:0.00200\tvalidation_0-logloss:0.03553\tvalidation_1-error:0.09300\tvalidation_1-logloss:0.29697\n",
      "[183]\tvalidation_0-error:0.00200\tvalidation_0-logloss:0.03543\tvalidation_1-error:0.09300\tvalidation_1-logloss:0.29765\n",
      "[184]\tvalidation_0-error:0.00200\tvalidation_0-logloss:0.03530\tvalidation_1-error:0.09300\tvalidation_1-logloss:0.29799\n",
      "[185]\tvalidation_0-error:0.00200\tvalidation_0-logloss:0.03520\tvalidation_1-error:0.09300\tvalidation_1-logloss:0.29814\n",
      "[186]\tvalidation_0-error:0.00200\tvalidation_0-logloss:0.03507\tvalidation_1-error:0.09200\tvalidation_1-logloss:0.29853\n",
      "[187]\tvalidation_0-error:0.00200\tvalidation_0-logloss:0.03498\tvalidation_1-error:0.09200\tvalidation_1-logloss:0.29825\n",
      "[188]\tvalidation_0-error:0.00200\tvalidation_0-logloss:0.03487\tvalidation_1-error:0.09200\tvalidation_1-logloss:0.29864\n",
      "[189]\tvalidation_0-error:0.00200\tvalidation_0-logloss:0.03472\tvalidation_1-error:0.09300\tvalidation_1-logloss:0.29901\n",
      "[190]\tvalidation_0-error:0.00200\tvalidation_0-logloss:0.03458\tvalidation_1-error:0.09300\tvalidation_1-logloss:0.30001\n",
      "[191]\tvalidation_0-error:0.00200\tvalidation_0-logloss:0.03442\tvalidation_1-error:0.09300\tvalidation_1-logloss:0.30076\n",
      "[192]\tvalidation_0-error:0.00200\tvalidation_0-logloss:0.03435\tvalidation_1-error:0.09300\tvalidation_1-logloss:0.30102\n",
      "[193]\tvalidation_0-error:0.00200\tvalidation_0-logloss:0.03424\tvalidation_1-error:0.09300\tvalidation_1-logloss:0.30159\n",
      "[194]\tvalidation_0-error:0.00200\tvalidation_0-logloss:0.03409\tvalidation_1-error:0.09300\tvalidation_1-logloss:0.30190\n",
      "[195]\tvalidation_0-error:0.00200\tvalidation_0-logloss:0.03402\tvalidation_1-error:0.09300\tvalidation_1-logloss:0.30217\n",
      "[196]\tvalidation_0-error:0.00200\tvalidation_0-logloss:0.03391\tvalidation_1-error:0.09300\tvalidation_1-logloss:0.30215\n",
      "[197]\tvalidation_0-error:0.00200\tvalidation_0-logloss:0.03383\tvalidation_1-error:0.09300\tvalidation_1-logloss:0.30159\n",
      "[198]\tvalidation_0-error:0.00200\tvalidation_0-logloss:0.03371\tvalidation_1-error:0.09200\tvalidation_1-logloss:0.30205\n",
      "[199]\tvalidation_0-error:0.00200\tvalidation_0-logloss:0.03353\tvalidation_1-error:0.09200\tvalidation_1-logloss:0.30318\n"
     ]
    },
    {
     "data": {
      "text/html": [
       "<style>#sk-container-id-1 {\n",
       "  /* Definition of color scheme common for light and dark mode */\n",
       "  --sklearn-color-text: black;\n",
       "  --sklearn-color-line: gray;\n",
       "  /* Definition of color scheme for unfitted estimators */\n",
       "  --sklearn-color-unfitted-level-0: #fff5e6;\n",
       "  --sklearn-color-unfitted-level-1: #f6e4d2;\n",
       "  --sklearn-color-unfitted-level-2: #ffe0b3;\n",
       "  --sklearn-color-unfitted-level-3: chocolate;\n",
       "  /* Definition of color scheme for fitted estimators */\n",
       "  --sklearn-color-fitted-level-0: #f0f8ff;\n",
       "  --sklearn-color-fitted-level-1: #d4ebff;\n",
       "  --sklearn-color-fitted-level-2: #b3dbfd;\n",
       "  --sklearn-color-fitted-level-3: cornflowerblue;\n",
       "\n",
       "  /* Specific color for light theme */\n",
       "  --sklearn-color-text-on-default-background: var(--sg-text-color, var(--theme-code-foreground, var(--jp-content-font-color1, black)));\n",
       "  --sklearn-color-background: var(--sg-background-color, var(--theme-background, var(--jp-layout-color0, white)));\n",
       "  --sklearn-color-border-box: var(--sg-text-color, var(--theme-code-foreground, var(--jp-content-font-color1, black)));\n",
       "  --sklearn-color-icon: #696969;\n",
       "\n",
       "  @media (prefers-color-scheme: dark) {\n",
       "    /* Redefinition of color scheme for dark theme */\n",
       "    --sklearn-color-text-on-default-background: var(--sg-text-color, var(--theme-code-foreground, var(--jp-content-font-color1, white)));\n",
       "    --sklearn-color-background: var(--sg-background-color, var(--theme-background, var(--jp-layout-color0, #111)));\n",
       "    --sklearn-color-border-box: var(--sg-text-color, var(--theme-code-foreground, var(--jp-content-font-color1, white)));\n",
       "    --sklearn-color-icon: #878787;\n",
       "  }\n",
       "}\n",
       "\n",
       "#sk-container-id-1 {\n",
       "  color: var(--sklearn-color-text);\n",
       "}\n",
       "\n",
       "#sk-container-id-1 pre {\n",
       "  padding: 0;\n",
       "}\n",
       "\n",
       "#sk-container-id-1 input.sk-hidden--visually {\n",
       "  border: 0;\n",
       "  clip: rect(1px 1px 1px 1px);\n",
       "  clip: rect(1px, 1px, 1px, 1px);\n",
       "  height: 1px;\n",
       "  margin: -1px;\n",
       "  overflow: hidden;\n",
       "  padding: 0;\n",
       "  position: absolute;\n",
       "  width: 1px;\n",
       "}\n",
       "\n",
       "#sk-container-id-1 div.sk-dashed-wrapped {\n",
       "  border: 1px dashed var(--sklearn-color-line);\n",
       "  margin: 0 0.4em 0.5em 0.4em;\n",
       "  box-sizing: border-box;\n",
       "  padding-bottom: 0.4em;\n",
       "  background-color: var(--sklearn-color-background);\n",
       "}\n",
       "\n",
       "#sk-container-id-1 div.sk-container {\n",
       "  /* jupyter's `normalize.less` sets `[hidden] { display: none; }`\n",
       "     but bootstrap.min.css set `[hidden] { display: none !important; }`\n",
       "     so we also need the `!important` here to be able to override the\n",
       "     default hidden behavior on the sphinx rendered scikit-learn.org.\n",
       "     See: https://github.com/scikit-learn/scikit-learn/issues/21755 */\n",
       "  display: inline-block !important;\n",
       "  position: relative;\n",
       "}\n",
       "\n",
       "#sk-container-id-1 div.sk-text-repr-fallback {\n",
       "  display: none;\n",
       "}\n",
       "\n",
       "div.sk-parallel-item,\n",
       "div.sk-serial,\n",
       "div.sk-item {\n",
       "  /* draw centered vertical line to link estimators */\n",
       "  background-image: linear-gradient(var(--sklearn-color-text-on-default-background), var(--sklearn-color-text-on-default-background));\n",
       "  background-size: 2px 100%;\n",
       "  background-repeat: no-repeat;\n",
       "  background-position: center center;\n",
       "}\n",
       "\n",
       "/* Parallel-specific style estimator block */\n",
       "\n",
       "#sk-container-id-1 div.sk-parallel-item::after {\n",
       "  content: \"\";\n",
       "  width: 100%;\n",
       "  border-bottom: 2px solid var(--sklearn-color-text-on-default-background);\n",
       "  flex-grow: 1;\n",
       "}\n",
       "\n",
       "#sk-container-id-1 div.sk-parallel {\n",
       "  display: flex;\n",
       "  align-items: stretch;\n",
       "  justify-content: center;\n",
       "  background-color: var(--sklearn-color-background);\n",
       "  position: relative;\n",
       "}\n",
       "\n",
       "#sk-container-id-1 div.sk-parallel-item {\n",
       "  display: flex;\n",
       "  flex-direction: column;\n",
       "}\n",
       "\n",
       "#sk-container-id-1 div.sk-parallel-item:first-child::after {\n",
       "  align-self: flex-end;\n",
       "  width: 50%;\n",
       "}\n",
       "\n",
       "#sk-container-id-1 div.sk-parallel-item:last-child::after {\n",
       "  align-self: flex-start;\n",
       "  width: 50%;\n",
       "}\n",
       "\n",
       "#sk-container-id-1 div.sk-parallel-item:only-child::after {\n",
       "  width: 0;\n",
       "}\n",
       "\n",
       "/* Serial-specific style estimator block */\n",
       "\n",
       "#sk-container-id-1 div.sk-serial {\n",
       "  display: flex;\n",
       "  flex-direction: column;\n",
       "  align-items: center;\n",
       "  background-color: var(--sklearn-color-background);\n",
       "  padding-right: 1em;\n",
       "  padding-left: 1em;\n",
       "}\n",
       "\n",
       "\n",
       "/* Toggleable style: style used for estimator/Pipeline/ColumnTransformer box that is\n",
       "clickable and can be expanded/collapsed.\n",
       "- Pipeline and ColumnTransformer use this feature and define the default style\n",
       "- Estimators will overwrite some part of the style using the `sk-estimator` class\n",
       "*/\n",
       "\n",
       "/* Pipeline and ColumnTransformer style (default) */\n",
       "\n",
       "#sk-container-id-1 div.sk-toggleable {\n",
       "  /* Default theme specific background. It is overwritten whether we have a\n",
       "  specific estimator or a Pipeline/ColumnTransformer */\n",
       "  background-color: var(--sklearn-color-background);\n",
       "}\n",
       "\n",
       "/* Toggleable label */\n",
       "#sk-container-id-1 label.sk-toggleable__label {\n",
       "  cursor: pointer;\n",
       "  display: block;\n",
       "  width: 100%;\n",
       "  margin-bottom: 0;\n",
       "  padding: 0.5em;\n",
       "  box-sizing: border-box;\n",
       "  text-align: center;\n",
       "}\n",
       "\n",
       "#sk-container-id-1 label.sk-toggleable__label-arrow:before {\n",
       "  /* Arrow on the left of the label */\n",
       "  content: \"▸\";\n",
       "  float: left;\n",
       "  margin-right: 0.25em;\n",
       "  color: var(--sklearn-color-icon);\n",
       "}\n",
       "\n",
       "#sk-container-id-1 label.sk-toggleable__label-arrow:hover:before {\n",
       "  color: var(--sklearn-color-text);\n",
       "}\n",
       "\n",
       "/* Toggleable content - dropdown */\n",
       "\n",
       "#sk-container-id-1 div.sk-toggleable__content {\n",
       "  max-height: 0;\n",
       "  max-width: 0;\n",
       "  overflow: hidden;\n",
       "  text-align: left;\n",
       "  /* unfitted */\n",
       "  background-color: var(--sklearn-color-unfitted-level-0);\n",
       "}\n",
       "\n",
       "#sk-container-id-1 div.sk-toggleable__content.fitted {\n",
       "  /* fitted */\n",
       "  background-color: var(--sklearn-color-fitted-level-0);\n",
       "}\n",
       "\n",
       "#sk-container-id-1 div.sk-toggleable__content pre {\n",
       "  margin: 0.2em;\n",
       "  border-radius: 0.25em;\n",
       "  color: var(--sklearn-color-text);\n",
       "  /* unfitted */\n",
       "  background-color: var(--sklearn-color-unfitted-level-0);\n",
       "}\n",
       "\n",
       "#sk-container-id-1 div.sk-toggleable__content.fitted pre {\n",
       "  /* unfitted */\n",
       "  background-color: var(--sklearn-color-fitted-level-0);\n",
       "}\n",
       "\n",
       "#sk-container-id-1 input.sk-toggleable__control:checked~div.sk-toggleable__content {\n",
       "  /* Expand drop-down */\n",
       "  max-height: 200px;\n",
       "  max-width: 100%;\n",
       "  overflow: auto;\n",
       "}\n",
       "\n",
       "#sk-container-id-1 input.sk-toggleable__control:checked~label.sk-toggleable__label-arrow:before {\n",
       "  content: \"▾\";\n",
       "}\n",
       "\n",
       "/* Pipeline/ColumnTransformer-specific style */\n",
       "\n",
       "#sk-container-id-1 div.sk-label input.sk-toggleable__control:checked~label.sk-toggleable__label {\n",
       "  color: var(--sklearn-color-text);\n",
       "  background-color: var(--sklearn-color-unfitted-level-2);\n",
       "}\n",
       "\n",
       "#sk-container-id-1 div.sk-label.fitted input.sk-toggleable__control:checked~label.sk-toggleable__label {\n",
       "  background-color: var(--sklearn-color-fitted-level-2);\n",
       "}\n",
       "\n",
       "/* Estimator-specific style */\n",
       "\n",
       "/* Colorize estimator box */\n",
       "#sk-container-id-1 div.sk-estimator input.sk-toggleable__control:checked~label.sk-toggleable__label {\n",
       "  /* unfitted */\n",
       "  background-color: var(--sklearn-color-unfitted-level-2);\n",
       "}\n",
       "\n",
       "#sk-container-id-1 div.sk-estimator.fitted input.sk-toggleable__control:checked~label.sk-toggleable__label {\n",
       "  /* fitted */\n",
       "  background-color: var(--sklearn-color-fitted-level-2);\n",
       "}\n",
       "\n",
       "#sk-container-id-1 div.sk-label label.sk-toggleable__label,\n",
       "#sk-container-id-1 div.sk-label label {\n",
       "  /* The background is the default theme color */\n",
       "  color: var(--sklearn-color-text-on-default-background);\n",
       "}\n",
       "\n",
       "/* On hover, darken the color of the background */\n",
       "#sk-container-id-1 div.sk-label:hover label.sk-toggleable__label {\n",
       "  color: var(--sklearn-color-text);\n",
       "  background-color: var(--sklearn-color-unfitted-level-2);\n",
       "}\n",
       "\n",
       "/* Label box, darken color on hover, fitted */\n",
       "#sk-container-id-1 div.sk-label.fitted:hover label.sk-toggleable__label.fitted {\n",
       "  color: var(--sklearn-color-text);\n",
       "  background-color: var(--sklearn-color-fitted-level-2);\n",
       "}\n",
       "\n",
       "/* Estimator label */\n",
       "\n",
       "#sk-container-id-1 div.sk-label label {\n",
       "  font-family: monospace;\n",
       "  font-weight: bold;\n",
       "  display: inline-block;\n",
       "  line-height: 1.2em;\n",
       "}\n",
       "\n",
       "#sk-container-id-1 div.sk-label-container {\n",
       "  text-align: center;\n",
       "}\n",
       "\n",
       "/* Estimator-specific */\n",
       "#sk-container-id-1 div.sk-estimator {\n",
       "  font-family: monospace;\n",
       "  border: 1px dotted var(--sklearn-color-border-box);\n",
       "  border-radius: 0.25em;\n",
       "  box-sizing: border-box;\n",
       "  margin-bottom: 0.5em;\n",
       "  /* unfitted */\n",
       "  background-color: var(--sklearn-color-unfitted-level-0);\n",
       "}\n",
       "\n",
       "#sk-container-id-1 div.sk-estimator.fitted {\n",
       "  /* fitted */\n",
       "  background-color: var(--sklearn-color-fitted-level-0);\n",
       "}\n",
       "\n",
       "/* on hover */\n",
       "#sk-container-id-1 div.sk-estimator:hover {\n",
       "  /* unfitted */\n",
       "  background-color: var(--sklearn-color-unfitted-level-2);\n",
       "}\n",
       "\n",
       "#sk-container-id-1 div.sk-estimator.fitted:hover {\n",
       "  /* fitted */\n",
       "  background-color: var(--sklearn-color-fitted-level-2);\n",
       "}\n",
       "\n",
       "/* Specification for estimator info (e.g. \"i\" and \"?\") */\n",
       "\n",
       "/* Common style for \"i\" and \"?\" */\n",
       "\n",
       ".sk-estimator-doc-link,\n",
       "a:link.sk-estimator-doc-link,\n",
       "a:visited.sk-estimator-doc-link {\n",
       "  float: right;\n",
       "  font-size: smaller;\n",
       "  line-height: 1em;\n",
       "  font-family: monospace;\n",
       "  background-color: var(--sklearn-color-background);\n",
       "  border-radius: 1em;\n",
       "  height: 1em;\n",
       "  width: 1em;\n",
       "  text-decoration: none !important;\n",
       "  margin-left: 1ex;\n",
       "  /* unfitted */\n",
       "  border: var(--sklearn-color-unfitted-level-1) 1pt solid;\n",
       "  color: var(--sklearn-color-unfitted-level-1);\n",
       "}\n",
       "\n",
       ".sk-estimator-doc-link.fitted,\n",
       "a:link.sk-estimator-doc-link.fitted,\n",
       "a:visited.sk-estimator-doc-link.fitted {\n",
       "  /* fitted */\n",
       "  border: var(--sklearn-color-fitted-level-1) 1pt solid;\n",
       "  color: var(--sklearn-color-fitted-level-1);\n",
       "}\n",
       "\n",
       "/* On hover */\n",
       "div.sk-estimator:hover .sk-estimator-doc-link:hover,\n",
       ".sk-estimator-doc-link:hover,\n",
       "div.sk-label-container:hover .sk-estimator-doc-link:hover,\n",
       ".sk-estimator-doc-link:hover {\n",
       "  /* unfitted */\n",
       "  background-color: var(--sklearn-color-unfitted-level-3);\n",
       "  color: var(--sklearn-color-background);\n",
       "  text-decoration: none;\n",
       "}\n",
       "\n",
       "div.sk-estimator.fitted:hover .sk-estimator-doc-link.fitted:hover,\n",
       ".sk-estimator-doc-link.fitted:hover,\n",
       "div.sk-label-container:hover .sk-estimator-doc-link.fitted:hover,\n",
       ".sk-estimator-doc-link.fitted:hover {\n",
       "  /* fitted */\n",
       "  background-color: var(--sklearn-color-fitted-level-3);\n",
       "  color: var(--sklearn-color-background);\n",
       "  text-decoration: none;\n",
       "}\n",
       "\n",
       "/* Span, style for the box shown on hovering the info icon */\n",
       ".sk-estimator-doc-link span {\n",
       "  display: none;\n",
       "  z-index: 9999;\n",
       "  position: relative;\n",
       "  font-weight: normal;\n",
       "  right: .2ex;\n",
       "  padding: .5ex;\n",
       "  margin: .5ex;\n",
       "  width: min-content;\n",
       "  min-width: 20ex;\n",
       "  max-width: 50ex;\n",
       "  color: var(--sklearn-color-text);\n",
       "  box-shadow: 2pt 2pt 4pt #999;\n",
       "  /* unfitted */\n",
       "  background: var(--sklearn-color-unfitted-level-0);\n",
       "  border: .5pt solid var(--sklearn-color-unfitted-level-3);\n",
       "}\n",
       "\n",
       ".sk-estimator-doc-link.fitted span {\n",
       "  /* fitted */\n",
       "  background: var(--sklearn-color-fitted-level-0);\n",
       "  border: var(--sklearn-color-fitted-level-3);\n",
       "}\n",
       "\n",
       ".sk-estimator-doc-link:hover span {\n",
       "  display: block;\n",
       "}\n",
       "\n",
       "/* \"?\"-specific style due to the `<a>` HTML tag */\n",
       "\n",
       "#sk-container-id-1 a.estimator_doc_link {\n",
       "  float: right;\n",
       "  font-size: 1rem;\n",
       "  line-height: 1em;\n",
       "  font-family: monospace;\n",
       "  background-color: var(--sklearn-color-background);\n",
       "  border-radius: 1rem;\n",
       "  height: 1rem;\n",
       "  width: 1rem;\n",
       "  text-decoration: none;\n",
       "  /* unfitted */\n",
       "  color: var(--sklearn-color-unfitted-level-1);\n",
       "  border: var(--sklearn-color-unfitted-level-1) 1pt solid;\n",
       "}\n",
       "\n",
       "#sk-container-id-1 a.estimator_doc_link.fitted {\n",
       "  /* fitted */\n",
       "  border: var(--sklearn-color-fitted-level-1) 1pt solid;\n",
       "  color: var(--sklearn-color-fitted-level-1);\n",
       "}\n",
       "\n",
       "/* On hover */\n",
       "#sk-container-id-1 a.estimator_doc_link:hover {\n",
       "  /* unfitted */\n",
       "  background-color: var(--sklearn-color-unfitted-level-3);\n",
       "  color: var(--sklearn-color-background);\n",
       "  text-decoration: none;\n",
       "}\n",
       "\n",
       "#sk-container-id-1 a.estimator_doc_link.fitted:hover {\n",
       "  /* fitted */\n",
       "  background-color: var(--sklearn-color-fitted-level-3);\n",
       "}\n",
       "</style><div id=\"sk-container-id-1\" class=\"sk-top-container\"><div class=\"sk-text-repr-fallback\"><pre>XGBClassifier(base_score=None, booster=None, callbacks=None,\n",
       "              colsample_bylevel=None, colsample_bynode=None,\n",
       "              colsample_bytree=None, device=None, early_stopping_rounds=None,\n",
       "              enable_categorical=False, eval_metric=[&#x27;error&#x27;, &#x27;logloss&#x27;],\n",
       "              feature_types=None, gamma=None, grow_policy=None,\n",
       "              importance_type=None, interaction_constraints=None,\n",
       "              learning_rate=None, max_bin=None, max_cat_threshold=None,\n",
       "              max_cat_to_onehot=None, max_delta_step=None, max_depth=None,\n",
       "              max_leaves=None, min_child_weight=None, missing=nan,\n",
       "              monotone_constraints=None, multi_strategy=None, n_estimators=200,\n",
       "              n_jobs=None, num_parallel_tree=None, random_state=None, ...)</pre><b>In a Jupyter environment, please rerun this cell to show the HTML representation or trust the notebook. <br />On GitHub, the HTML representation is unable to render, please try loading this page with nbviewer.org.</b></div><div class=\"sk-container\" hidden><div class=\"sk-item\"><div class=\"sk-estimator fitted sk-toggleable\"><input class=\"sk-toggleable__control sk-hidden--visually\" id=\"sk-estimator-id-1\" type=\"checkbox\" checked><label for=\"sk-estimator-id-1\" class=\"sk-toggleable__label fitted sk-toggleable__label-arrow fitted\">&nbsp;XGBClassifier<span class=\"sk-estimator-doc-link fitted\">i<span>Fitted</span></span></label><div class=\"sk-toggleable__content fitted\"><pre>XGBClassifier(base_score=None, booster=None, callbacks=None,\n",
       "              colsample_bylevel=None, colsample_bynode=None,\n",
       "              colsample_bytree=None, device=None, early_stopping_rounds=None,\n",
       "              enable_categorical=False, eval_metric=[&#x27;error&#x27;, &#x27;logloss&#x27;],\n",
       "              feature_types=None, gamma=None, grow_policy=None,\n",
       "              importance_type=None, interaction_constraints=None,\n",
       "              learning_rate=None, max_bin=None, max_cat_threshold=None,\n",
       "              max_cat_to_onehot=None, max_delta_step=None, max_depth=None,\n",
       "              max_leaves=None, min_child_weight=None, missing=nan,\n",
       "              monotone_constraints=None, multi_strategy=None, n_estimators=200,\n",
       "              n_jobs=None, num_parallel_tree=None, random_state=None, ...)</pre></div> </div></div></div></div>"
      ],
      "text/plain": [
       "XGBClassifier(base_score=None, booster=None, callbacks=None,\n",
       "              colsample_bylevel=None, colsample_bynode=None,\n",
       "              colsample_bytree=None, device=None, early_stopping_rounds=None,\n",
       "              enable_categorical=False, eval_metric=['error', 'logloss'],\n",
       "              feature_types=None, gamma=None, grow_policy=None,\n",
       "              importance_type=None, interaction_constraints=None,\n",
       "              learning_rate=None, max_bin=None, max_cat_threshold=None,\n",
       "              max_cat_to_onehot=None, max_delta_step=None, max_depth=None,\n",
       "              max_leaves=None, min_child_weight=None, missing=nan,\n",
       "              monotone_constraints=None, multi_strategy=None, n_estimators=200,\n",
       "              n_jobs=None, num_parallel_tree=None, random_state=None, ...)"
      ]
     },
     "execution_count": 5,
     "metadata": {},
     "output_type": "execute_result"
    }
   ],
   "source": [
    "modell = xgb.XGBClassifier(n_estimators=200, eval_metric=['error', 'logloss'])\n",
    "\n",
    "auswertungsdaten = [(X_train, y_train), (X_test, y_test)]\n",
    "modell.fit(X_train, y_train, eval_set=auswertungsdaten)\n",
    "\n"
   ]
  },
  {
   "cell_type": "code",
   "execution_count": 6,
   "metadata": {},
   "outputs": [],
   "source": [
    "results = modell.evals_result()\n",
    "fehler = pd.DataFrame({\n",
    "    'Fehler Trainingsdaten': results['validation_0']['error'],\n",
    "    'Fehler Testdaten': results['validation_1']['error']\n",
    "    })\n",
    "kostenfunktion = pd.DataFrame({\n",
    "    'Fehler Trainingsdaten': results['validation_0']['logloss'],\n",
    "    'Fehler Testdaten': results['validation_1']['logloss']\n",
    "    })"
   ]
  },
  {
   "cell_type": "code",
   "execution_count": 7,
   "metadata": {},
   "outputs": [
    {
     "data": {
      "application/vnd.plotly.v1+json": {
       "config": {
        "plotlyServerURL": "https://plot.ly"
       },
       "data": [
        {
         "hovertemplate": "Legende=Fehler Trainingsdaten<br>Iteration=%{x}<br>Fehler=%{y}<extra></extra>",
         "legendgroup": "Fehler Trainingsdaten",
         "marker": {
          "color": "#636efa",
          "symbol": "circle"
         },
         "mode": "markers",
         "name": "Fehler Trainingsdaten",
         "orientation": "v",
         "showlegend": true,
         "type": "scatter",
         "x": [
          0,
          1,
          2,
          3,
          4,
          5,
          6,
          7,
          8,
          9,
          10,
          11,
          12,
          13,
          14,
          15,
          16,
          17,
          18,
          19,
          20,
          21,
          22,
          23,
          24,
          25,
          26,
          27,
          28,
          29,
          30,
          31,
          32,
          33,
          34,
          35,
          36,
          37,
          38,
          39,
          40,
          41,
          42,
          43,
          44,
          45,
          46,
          47,
          48,
          49,
          50,
          51,
          52,
          53,
          54,
          55,
          56,
          57,
          58,
          59,
          60,
          61,
          62,
          63,
          64,
          65,
          66,
          67,
          68,
          69,
          70,
          71,
          72,
          73,
          74,
          75,
          76,
          77,
          78,
          79,
          80,
          81,
          82,
          83,
          84,
          85,
          86,
          87,
          88,
          89,
          90,
          91,
          92,
          93,
          94,
          95,
          96,
          97,
          98,
          99,
          100,
          101,
          102,
          103,
          104,
          105,
          106,
          107,
          108,
          109,
          110,
          111,
          112,
          113,
          114,
          115,
          116,
          117,
          118,
          119,
          120,
          121,
          122,
          123,
          124,
          125,
          126,
          127,
          128,
          129,
          130,
          131,
          132,
          133,
          134,
          135,
          136,
          137,
          138,
          139,
          140,
          141,
          142,
          143,
          144,
          145,
          146,
          147,
          148,
          149,
          150,
          151,
          152,
          153,
          154,
          155,
          156,
          157,
          158,
          159,
          160,
          161,
          162,
          163,
          164,
          165,
          166,
          167,
          168,
          169,
          170,
          171,
          172,
          173,
          174,
          175,
          176,
          177,
          178,
          179,
          180,
          181,
          182,
          183,
          184,
          185,
          186,
          187,
          188,
          189,
          190,
          191,
          192,
          193,
          194,
          195,
          196,
          197,
          198,
          199
         ],
         "xaxis": "x",
         "y": [
          0.071,
          0.07,
          0.067,
          0.066,
          0.065,
          0.063,
          0.067,
          0.063,
          0.065,
          0.065,
          0.06,
          0.059,
          0.055,
          0.058,
          0.055,
          0.057,
          0.055,
          0.055,
          0.054,
          0.051,
          0.049,
          0.047,
          0.044,
          0.044,
          0.044,
          0.041,
          0.042,
          0.039,
          0.039,
          0.035,
          0.036,
          0.034,
          0.033,
          0.031,
          0.034,
          0.034,
          0.032,
          0.028,
          0.028,
          0.025,
          0.025,
          0.024,
          0.025,
          0.024,
          0.025,
          0.025,
          0.025,
          0.025,
          0.024,
          0.022,
          0.021,
          0.02,
          0.019,
          0.02,
          0.02,
          0.02,
          0.019,
          0.018,
          0.019,
          0.016,
          0.016,
          0.017,
          0.017,
          0.015,
          0.016,
          0.015,
          0.014,
          0.014,
          0.014,
          0.014,
          0.014,
          0.014,
          0.013,
          0.012,
          0.012,
          0.012,
          0.012,
          0.013,
          0.013,
          0.012,
          0.011,
          0.011,
          0.011,
          0.011,
          0.011,
          0.01,
          0.01,
          0.011,
          0.01,
          0.01,
          0.01,
          0.009,
          0.009,
          0.008,
          0.008,
          0.008,
          0.007,
          0.007,
          0.007,
          0.006,
          0.006,
          0.006,
          0.006,
          0.006,
          0.006,
          0.006,
          0.006,
          0.006,
          0.006,
          0.005,
          0.005,
          0.006,
          0.005,
          0.005,
          0.005,
          0.005,
          0.005,
          0.005,
          0.005,
          0.005,
          0.005,
          0.005,
          0.004,
          0.004,
          0.004,
          0.004,
          0.004,
          0.004,
          0.004,
          0.004,
          0.004,
          0.004,
          0.004,
          0.004,
          0.004,
          0.004,
          0.004,
          0.004,
          0.004,
          0.004,
          0.004,
          0.004,
          0.004,
          0.004,
          0.004,
          0.004,
          0.004,
          0.004,
          0.003,
          0.004,
          0.004,
          0.004,
          0.003,
          0.003,
          0.003,
          0.003,
          0.003,
          0.003,
          0.003,
          0.003,
          0.003,
          0.003,
          0.003,
          0.003,
          0.003,
          0.003,
          0.003,
          0.003,
          0.003,
          0.003,
          0.003,
          0.003,
          0.003,
          0.003,
          0.002,
          0.002,
          0.003,
          0.002,
          0.002,
          0.002,
          0.002,
          0.002,
          0.002,
          0.002,
          0.002,
          0.002,
          0.002,
          0.002,
          0.002,
          0.002,
          0.002,
          0.002,
          0.002,
          0.002,
          0.002,
          0.002,
          0.002,
          0.002,
          0.002,
          0.002
         ],
         "yaxis": "y"
        },
        {
         "hovertemplate": "Legende=Fehler Testdaten<br>Iteration=%{x}<br>Fehler=%{y}<extra></extra>",
         "legendgroup": "Fehler Testdaten",
         "marker": {
          "color": "#EF553B",
          "symbol": "circle"
         },
         "mode": "markers",
         "name": "Fehler Testdaten",
         "orientation": "v",
         "showlegend": true,
         "type": "scatter",
         "x": [
          0,
          1,
          2,
          3,
          4,
          5,
          6,
          7,
          8,
          9,
          10,
          11,
          12,
          13,
          14,
          15,
          16,
          17,
          18,
          19,
          20,
          21,
          22,
          23,
          24,
          25,
          26,
          27,
          28,
          29,
          30,
          31,
          32,
          33,
          34,
          35,
          36,
          37,
          38,
          39,
          40,
          41,
          42,
          43,
          44,
          45,
          46,
          47,
          48,
          49,
          50,
          51,
          52,
          53,
          54,
          55,
          56,
          57,
          58,
          59,
          60,
          61,
          62,
          63,
          64,
          65,
          66,
          67,
          68,
          69,
          70,
          71,
          72,
          73,
          74,
          75,
          76,
          77,
          78,
          79,
          80,
          81,
          82,
          83,
          84,
          85,
          86,
          87,
          88,
          89,
          90,
          91,
          92,
          93,
          94,
          95,
          96,
          97,
          98,
          99,
          100,
          101,
          102,
          103,
          104,
          105,
          106,
          107,
          108,
          109,
          110,
          111,
          112,
          113,
          114,
          115,
          116,
          117,
          118,
          119,
          120,
          121,
          122,
          123,
          124,
          125,
          126,
          127,
          128,
          129,
          130,
          131,
          132,
          133,
          134,
          135,
          136,
          137,
          138,
          139,
          140,
          141,
          142,
          143,
          144,
          145,
          146,
          147,
          148,
          149,
          150,
          151,
          152,
          153,
          154,
          155,
          156,
          157,
          158,
          159,
          160,
          161,
          162,
          163,
          164,
          165,
          166,
          167,
          168,
          169,
          170,
          171,
          172,
          173,
          174,
          175,
          176,
          177,
          178,
          179,
          180,
          181,
          182,
          183,
          184,
          185,
          186,
          187,
          188,
          189,
          190,
          191,
          192,
          193,
          194,
          195,
          196,
          197,
          198,
          199
         ],
         "xaxis": "x",
         "y": [
          0.09,
          0.092,
          0.09,
          0.084,
          0.083,
          0.088,
          0.082,
          0.081,
          0.08,
          0.081,
          0.082,
          0.082,
          0.083,
          0.083,
          0.083,
          0.083,
          0.083,
          0.083,
          0.083,
          0.084,
          0.084,
          0.083,
          0.085,
          0.089,
          0.089,
          0.09,
          0.09,
          0.089,
          0.089,
          0.088,
          0.089,
          0.089,
          0.089,
          0.09,
          0.089,
          0.088,
          0.088,
          0.088,
          0.089,
          0.091,
          0.091,
          0.091,
          0.091,
          0.091,
          0.089,
          0.09,
          0.09,
          0.089,
          0.088,
          0.088,
          0.089,
          0.089,
          0.089,
          0.089,
          0.089,
          0.091,
          0.089,
          0.091,
          0.09,
          0.091,
          0.09,
          0.088,
          0.088,
          0.088,
          0.088,
          0.088,
          0.087,
          0.087,
          0.087,
          0.087,
          0.089,
          0.089,
          0.088,
          0.089,
          0.089,
          0.088,
          0.088,
          0.088,
          0.088,
          0.088,
          0.088,
          0.089,
          0.089,
          0.089,
          0.089,
          0.089,
          0.088,
          0.087,
          0.087,
          0.087,
          0.087,
          0.089,
          0.088,
          0.09,
          0.09,
          0.09,
          0.089,
          0.089,
          0.09,
          0.089,
          0.089,
          0.09,
          0.09,
          0.09,
          0.09,
          0.09,
          0.09,
          0.09,
          0.091,
          0.091,
          0.091,
          0.091,
          0.091,
          0.091,
          0.091,
          0.091,
          0.091,
          0.091,
          0.091,
          0.091,
          0.09,
          0.09,
          0.09,
          0.09,
          0.089,
          0.089,
          0.09,
          0.09,
          0.09,
          0.091,
          0.091,
          0.091,
          0.091,
          0.091,
          0.091,
          0.091,
          0.09,
          0.09,
          0.09,
          0.091,
          0.091,
          0.091,
          0.091,
          0.091,
          0.091,
          0.091,
          0.091,
          0.091,
          0.091,
          0.09,
          0.09,
          0.09,
          0.09,
          0.09,
          0.09,
          0.09,
          0.09,
          0.093,
          0.092,
          0.091,
          0.091,
          0.092,
          0.093,
          0.092,
          0.093,
          0.093,
          0.092,
          0.092,
          0.092,
          0.092,
          0.092,
          0.092,
          0.091,
          0.091,
          0.092,
          0.093,
          0.092,
          0.092,
          0.092,
          0.092,
          0.092,
          0.092,
          0.093,
          0.093,
          0.093,
          0.093,
          0.092,
          0.092,
          0.092,
          0.093,
          0.093,
          0.093,
          0.093,
          0.093,
          0.093,
          0.093,
          0.093,
          0.093,
          0.092,
          0.092
         ],
         "yaxis": "y"
        }
       ],
       "layout": {
        "legend": {
         "title": {
          "text": "Legende"
         },
         "tracegroupgap": 0
        },
        "template": {
         "data": {
          "bar": [
           {
            "error_x": {
             "color": "#2a3f5f"
            },
            "error_y": {
             "color": "#2a3f5f"
            },
            "marker": {
             "line": {
              "color": "#E5ECF6",
              "width": 0.5
             },
             "pattern": {
              "fillmode": "overlay",
              "size": 10,
              "solidity": 0.2
             }
            },
            "type": "bar"
           }
          ],
          "barpolar": [
           {
            "marker": {
             "line": {
              "color": "#E5ECF6",
              "width": 0.5
             },
             "pattern": {
              "fillmode": "overlay",
              "size": 10,
              "solidity": 0.2
             }
            },
            "type": "barpolar"
           }
          ],
          "carpet": [
           {
            "aaxis": {
             "endlinecolor": "#2a3f5f",
             "gridcolor": "white",
             "linecolor": "white",
             "minorgridcolor": "white",
             "startlinecolor": "#2a3f5f"
            },
            "baxis": {
             "endlinecolor": "#2a3f5f",
             "gridcolor": "white",
             "linecolor": "white",
             "minorgridcolor": "white",
             "startlinecolor": "#2a3f5f"
            },
            "type": "carpet"
           }
          ],
          "choropleth": [
           {
            "colorbar": {
             "outlinewidth": 0,
             "ticks": ""
            },
            "type": "choropleth"
           }
          ],
          "contour": [
           {
            "colorbar": {
             "outlinewidth": 0,
             "ticks": ""
            },
            "colorscale": [
             [
              0,
              "#0d0887"
             ],
             [
              0.1111111111111111,
              "#46039f"
             ],
             [
              0.2222222222222222,
              "#7201a8"
             ],
             [
              0.3333333333333333,
              "#9c179e"
             ],
             [
              0.4444444444444444,
              "#bd3786"
             ],
             [
              0.5555555555555556,
              "#d8576b"
             ],
             [
              0.6666666666666666,
              "#ed7953"
             ],
             [
              0.7777777777777778,
              "#fb9f3a"
             ],
             [
              0.8888888888888888,
              "#fdca26"
             ],
             [
              1,
              "#f0f921"
             ]
            ],
            "type": "contour"
           }
          ],
          "contourcarpet": [
           {
            "colorbar": {
             "outlinewidth": 0,
             "ticks": ""
            },
            "type": "contourcarpet"
           }
          ],
          "heatmap": [
           {
            "colorbar": {
             "outlinewidth": 0,
             "ticks": ""
            },
            "colorscale": [
             [
              0,
              "#0d0887"
             ],
             [
              0.1111111111111111,
              "#46039f"
             ],
             [
              0.2222222222222222,
              "#7201a8"
             ],
             [
              0.3333333333333333,
              "#9c179e"
             ],
             [
              0.4444444444444444,
              "#bd3786"
             ],
             [
              0.5555555555555556,
              "#d8576b"
             ],
             [
              0.6666666666666666,
              "#ed7953"
             ],
             [
              0.7777777777777778,
              "#fb9f3a"
             ],
             [
              0.8888888888888888,
              "#fdca26"
             ],
             [
              1,
              "#f0f921"
             ]
            ],
            "type": "heatmap"
           }
          ],
          "heatmapgl": [
           {
            "colorbar": {
             "outlinewidth": 0,
             "ticks": ""
            },
            "colorscale": [
             [
              0,
              "#0d0887"
             ],
             [
              0.1111111111111111,
              "#46039f"
             ],
             [
              0.2222222222222222,
              "#7201a8"
             ],
             [
              0.3333333333333333,
              "#9c179e"
             ],
             [
              0.4444444444444444,
              "#bd3786"
             ],
             [
              0.5555555555555556,
              "#d8576b"
             ],
             [
              0.6666666666666666,
              "#ed7953"
             ],
             [
              0.7777777777777778,
              "#fb9f3a"
             ],
             [
              0.8888888888888888,
              "#fdca26"
             ],
             [
              1,
              "#f0f921"
             ]
            ],
            "type": "heatmapgl"
           }
          ],
          "histogram": [
           {
            "marker": {
             "pattern": {
              "fillmode": "overlay",
              "size": 10,
              "solidity": 0.2
             }
            },
            "type": "histogram"
           }
          ],
          "histogram2d": [
           {
            "colorbar": {
             "outlinewidth": 0,
             "ticks": ""
            },
            "colorscale": [
             [
              0,
              "#0d0887"
             ],
             [
              0.1111111111111111,
              "#46039f"
             ],
             [
              0.2222222222222222,
              "#7201a8"
             ],
             [
              0.3333333333333333,
              "#9c179e"
             ],
             [
              0.4444444444444444,
              "#bd3786"
             ],
             [
              0.5555555555555556,
              "#d8576b"
             ],
             [
              0.6666666666666666,
              "#ed7953"
             ],
             [
              0.7777777777777778,
              "#fb9f3a"
             ],
             [
              0.8888888888888888,
              "#fdca26"
             ],
             [
              1,
              "#f0f921"
             ]
            ],
            "type": "histogram2d"
           }
          ],
          "histogram2dcontour": [
           {
            "colorbar": {
             "outlinewidth": 0,
             "ticks": ""
            },
            "colorscale": [
             [
              0,
              "#0d0887"
             ],
             [
              0.1111111111111111,
              "#46039f"
             ],
             [
              0.2222222222222222,
              "#7201a8"
             ],
             [
              0.3333333333333333,
              "#9c179e"
             ],
             [
              0.4444444444444444,
              "#bd3786"
             ],
             [
              0.5555555555555556,
              "#d8576b"
             ],
             [
              0.6666666666666666,
              "#ed7953"
             ],
             [
              0.7777777777777778,
              "#fb9f3a"
             ],
             [
              0.8888888888888888,
              "#fdca26"
             ],
             [
              1,
              "#f0f921"
             ]
            ],
            "type": "histogram2dcontour"
           }
          ],
          "mesh3d": [
           {
            "colorbar": {
             "outlinewidth": 0,
             "ticks": ""
            },
            "type": "mesh3d"
           }
          ],
          "parcoords": [
           {
            "line": {
             "colorbar": {
              "outlinewidth": 0,
              "ticks": ""
             }
            },
            "type": "parcoords"
           }
          ],
          "pie": [
           {
            "automargin": true,
            "type": "pie"
           }
          ],
          "scatter": [
           {
            "fillpattern": {
             "fillmode": "overlay",
             "size": 10,
             "solidity": 0.2
            },
            "type": "scatter"
           }
          ],
          "scatter3d": [
           {
            "line": {
             "colorbar": {
              "outlinewidth": 0,
              "ticks": ""
             }
            },
            "marker": {
             "colorbar": {
              "outlinewidth": 0,
              "ticks": ""
             }
            },
            "type": "scatter3d"
           }
          ],
          "scattercarpet": [
           {
            "marker": {
             "colorbar": {
              "outlinewidth": 0,
              "ticks": ""
             }
            },
            "type": "scattercarpet"
           }
          ],
          "scattergeo": [
           {
            "marker": {
             "colorbar": {
              "outlinewidth": 0,
              "ticks": ""
             }
            },
            "type": "scattergeo"
           }
          ],
          "scattergl": [
           {
            "marker": {
             "colorbar": {
              "outlinewidth": 0,
              "ticks": ""
             }
            },
            "type": "scattergl"
           }
          ],
          "scattermapbox": [
           {
            "marker": {
             "colorbar": {
              "outlinewidth": 0,
              "ticks": ""
             }
            },
            "type": "scattermapbox"
           }
          ],
          "scatterpolar": [
           {
            "marker": {
             "colorbar": {
              "outlinewidth": 0,
              "ticks": ""
             }
            },
            "type": "scatterpolar"
           }
          ],
          "scatterpolargl": [
           {
            "marker": {
             "colorbar": {
              "outlinewidth": 0,
              "ticks": ""
             }
            },
            "type": "scatterpolargl"
           }
          ],
          "scatterternary": [
           {
            "marker": {
             "colorbar": {
              "outlinewidth": 0,
              "ticks": ""
             }
            },
            "type": "scatterternary"
           }
          ],
          "surface": [
           {
            "colorbar": {
             "outlinewidth": 0,
             "ticks": ""
            },
            "colorscale": [
             [
              0,
              "#0d0887"
             ],
             [
              0.1111111111111111,
              "#46039f"
             ],
             [
              0.2222222222222222,
              "#7201a8"
             ],
             [
              0.3333333333333333,
              "#9c179e"
             ],
             [
              0.4444444444444444,
              "#bd3786"
             ],
             [
              0.5555555555555556,
              "#d8576b"
             ],
             [
              0.6666666666666666,
              "#ed7953"
             ],
             [
              0.7777777777777778,
              "#fb9f3a"
             ],
             [
              0.8888888888888888,
              "#fdca26"
             ],
             [
              1,
              "#f0f921"
             ]
            ],
            "type": "surface"
           }
          ],
          "table": [
           {
            "cells": {
             "fill": {
              "color": "#EBF0F8"
             },
             "line": {
              "color": "white"
             }
            },
            "header": {
             "fill": {
              "color": "#C8D4E3"
             },
             "line": {
              "color": "white"
             }
            },
            "type": "table"
           }
          ]
         },
         "layout": {
          "annotationdefaults": {
           "arrowcolor": "#2a3f5f",
           "arrowhead": 0,
           "arrowwidth": 1
          },
          "autotypenumbers": "strict",
          "coloraxis": {
           "colorbar": {
            "outlinewidth": 0,
            "ticks": ""
           }
          },
          "colorscale": {
           "diverging": [
            [
             0,
             "#8e0152"
            ],
            [
             0.1,
             "#c51b7d"
            ],
            [
             0.2,
             "#de77ae"
            ],
            [
             0.3,
             "#f1b6da"
            ],
            [
             0.4,
             "#fde0ef"
            ],
            [
             0.5,
             "#f7f7f7"
            ],
            [
             0.6,
             "#e6f5d0"
            ],
            [
             0.7,
             "#b8e186"
            ],
            [
             0.8,
             "#7fbc41"
            ],
            [
             0.9,
             "#4d9221"
            ],
            [
             1,
             "#276419"
            ]
           ],
           "sequential": [
            [
             0,
             "#0d0887"
            ],
            [
             0.1111111111111111,
             "#46039f"
            ],
            [
             0.2222222222222222,
             "#7201a8"
            ],
            [
             0.3333333333333333,
             "#9c179e"
            ],
            [
             0.4444444444444444,
             "#bd3786"
            ],
            [
             0.5555555555555556,
             "#d8576b"
            ],
            [
             0.6666666666666666,
             "#ed7953"
            ],
            [
             0.7777777777777778,
             "#fb9f3a"
            ],
            [
             0.8888888888888888,
             "#fdca26"
            ],
            [
             1,
             "#f0f921"
            ]
           ],
           "sequentialminus": [
            [
             0,
             "#0d0887"
            ],
            [
             0.1111111111111111,
             "#46039f"
            ],
            [
             0.2222222222222222,
             "#7201a8"
            ],
            [
             0.3333333333333333,
             "#9c179e"
            ],
            [
             0.4444444444444444,
             "#bd3786"
            ],
            [
             0.5555555555555556,
             "#d8576b"
            ],
            [
             0.6666666666666666,
             "#ed7953"
            ],
            [
             0.7777777777777778,
             "#fb9f3a"
            ],
            [
             0.8888888888888888,
             "#fdca26"
            ],
            [
             1,
             "#f0f921"
            ]
           ]
          },
          "colorway": [
           "#636efa",
           "#EF553B",
           "#00cc96",
           "#ab63fa",
           "#FFA15A",
           "#19d3f3",
           "#FF6692",
           "#B6E880",
           "#FF97FF",
           "#FECB52"
          ],
          "font": {
           "color": "#2a3f5f"
          },
          "geo": {
           "bgcolor": "white",
           "lakecolor": "white",
           "landcolor": "#E5ECF6",
           "showlakes": true,
           "showland": true,
           "subunitcolor": "white"
          },
          "hoverlabel": {
           "align": "left"
          },
          "hovermode": "closest",
          "mapbox": {
           "style": "light"
          },
          "paper_bgcolor": "white",
          "plot_bgcolor": "#E5ECF6",
          "polar": {
           "angularaxis": {
            "gridcolor": "white",
            "linecolor": "white",
            "ticks": ""
           },
           "bgcolor": "#E5ECF6",
           "radialaxis": {
            "gridcolor": "white",
            "linecolor": "white",
            "ticks": ""
           }
          },
          "scene": {
           "xaxis": {
            "backgroundcolor": "#E5ECF6",
            "gridcolor": "white",
            "gridwidth": 2,
            "linecolor": "white",
            "showbackground": true,
            "ticks": "",
            "zerolinecolor": "white"
           },
           "yaxis": {
            "backgroundcolor": "#E5ECF6",
            "gridcolor": "white",
            "gridwidth": 2,
            "linecolor": "white",
            "showbackground": true,
            "ticks": "",
            "zerolinecolor": "white"
           },
           "zaxis": {
            "backgroundcolor": "#E5ECF6",
            "gridcolor": "white",
            "gridwidth": 2,
            "linecolor": "white",
            "showbackground": true,
            "ticks": "",
            "zerolinecolor": "white"
           }
          },
          "shapedefaults": {
           "line": {
            "color": "#2a3f5f"
           }
          },
          "ternary": {
           "aaxis": {
            "gridcolor": "white",
            "linecolor": "white",
            "ticks": ""
           },
           "baxis": {
            "gridcolor": "white",
            "linecolor": "white",
            "ticks": ""
           },
           "bgcolor": "#E5ECF6",
           "caxis": {
            "gridcolor": "white",
            "linecolor": "white",
            "ticks": ""
           }
          },
          "title": {
           "x": 0.05
          },
          "xaxis": {
           "automargin": true,
           "gridcolor": "white",
           "linecolor": "white",
           "ticks": "",
           "title": {
            "standoff": 15
           },
           "zerolinecolor": "white",
           "zerolinewidth": 2
          },
          "yaxis": {
           "automargin": true,
           "gridcolor": "white",
           "linecolor": "white",
           "ticks": "",
           "title": {
            "standoff": 15
           },
           "zerolinecolor": "white",
           "zerolinewidth": 2
          }
         }
        },
        "title": {
         "text": "Fehler"
        },
        "xaxis": {
         "anchor": "y",
         "domain": [
          0,
          1
         ],
         "title": {
          "text": "Iteration"
         }
        },
        "yaxis": {
         "anchor": "x",
         "domain": [
          0,
          1
         ],
         "title": {
          "text": "Fehler"
         }
        }
       }
      }
     },
     "metadata": {},
     "output_type": "display_data"
    }
   ],
   "source": [
    "import plotly.express as px \n",
    "\n",
    "fig = px.scatter(fehler,\n",
    "    title='Fehler',\n",
    "    labels={'value': 'Fehler', 'index': 'Iteration', 'variable': 'Legende'})\n",
    "fig.show()"
   ]
  },
  {
   "cell_type": "code",
   "execution_count": 8,
   "metadata": {},
   "outputs": [
    {
     "data": {
      "application/vnd.plotly.v1+json": {
       "config": {
        "plotlyServerURL": "https://plot.ly"
       },
       "data": [
        {
         "hovertemplate": "Legende=Fehler Trainingsdaten<br>Iteration=%{x}<br>Kostenfunktion=%{y}<extra></extra>",
         "legendgroup": "Fehler Trainingsdaten",
         "marker": {
          "color": "#636efa",
          "symbol": "circle"
         },
         "mode": "markers",
         "name": "Fehler Trainingsdaten",
         "orientation": "v",
         "showlegend": true,
         "type": "scatter",
         "x": [
          0,
          1,
          2,
          3,
          4,
          5,
          6,
          7,
          8,
          9,
          10,
          11,
          12,
          13,
          14,
          15,
          16,
          17,
          18,
          19,
          20,
          21,
          22,
          23,
          24,
          25,
          26,
          27,
          28,
          29,
          30,
          31,
          32,
          33,
          34,
          35,
          36,
          37,
          38,
          39,
          40,
          41,
          42,
          43,
          44,
          45,
          46,
          47,
          48,
          49,
          50,
          51,
          52,
          53,
          54,
          55,
          56,
          57,
          58,
          59,
          60,
          61,
          62,
          63,
          64,
          65,
          66,
          67,
          68,
          69,
          70,
          71,
          72,
          73,
          74,
          75,
          76,
          77,
          78,
          79,
          80,
          81,
          82,
          83,
          84,
          85,
          86,
          87,
          88,
          89,
          90,
          91,
          92,
          93,
          94,
          95,
          96,
          97,
          98,
          99,
          100,
          101,
          102,
          103,
          104,
          105,
          106,
          107,
          108,
          109,
          110,
          111,
          112,
          113,
          114,
          115,
          116,
          117,
          118,
          119,
          120,
          121,
          122,
          123,
          124,
          125,
          126,
          127,
          128,
          129,
          130,
          131,
          132,
          133,
          134,
          135,
          136,
          137,
          138,
          139,
          140,
          141,
          142,
          143,
          144,
          145,
          146,
          147,
          148,
          149,
          150,
          151,
          152,
          153,
          154,
          155,
          156,
          157,
          158,
          159,
          160,
          161,
          162,
          163,
          164,
          165,
          166,
          167,
          168,
          169,
          170,
          171,
          172,
          173,
          174,
          175,
          176,
          177,
          178,
          179,
          180,
          181,
          182,
          183,
          184,
          185,
          186,
          187,
          188,
          189,
          190,
          191,
          192,
          193,
          194,
          195,
          196,
          197,
          198,
          199
         ],
         "xaxis": "x",
         "y": [
          0.5018440146744251,
          0.39394579017162323,
          0.32546188196539877,
          0.27612114825844764,
          0.24325783888995647,
          0.21908253284543752,
          0.19809345161914826,
          0.18358278478309512,
          0.17339586579054594,
          0.1648395838495344,
          0.15693413050472738,
          0.15261247336305678,
          0.14760021898243575,
          0.14253809703420847,
          0.1397235628562048,
          0.1364499665144831,
          0.13503578764898702,
          0.1328904208149761,
          0.12993251401744782,
          0.12755236601550132,
          0.1242964055875782,
          0.12105705461138859,
          0.11872372456989251,
          0.1167689577988349,
          0.1145488576258067,
          0.11271366520575248,
          0.1117239713484887,
          0.10949537890939973,
          0.10807466159132309,
          0.10577687652898021,
          0.10474292641330976,
          0.10396987578144763,
          0.10306997749418952,
          0.10199289161921479,
          0.10031262954662089,
          0.09911224413884338,
          0.09721455063152826,
          0.09549521738820477,
          0.09496351859369315,
          0.09350645546749001,
          0.09292365406546742,
          0.09119402478681878,
          0.09042157813435188,
          0.09001544491521782,
          0.08909251426218544,
          0.08817872485370026,
          0.08734514695196413,
          0.08646452818706166,
          0.08541859860165278,
          0.08391217338485876,
          0.08283941893908195,
          0.08226989718340337,
          0.08200520848733141,
          0.08102915495127673,
          0.08065814750222489,
          0.07990965081370087,
          0.07860663774755085,
          0.07802873656069277,
          0.07758636016902165,
          0.07595984885733924,
          0.07519601380435051,
          0.0743605828914151,
          0.07371004556640401,
          0.07316721768132993,
          0.07222054183931323,
          0.07200562762278423,
          0.07162354271343793,
          0.07087345017661574,
          0.06995819588270388,
          0.06954523358024016,
          0.06925168867404864,
          0.06826655252004275,
          0.06720478436500707,
          0.06662287920722156,
          0.06619083550717915,
          0.06582597206305946,
          0.06558571779033809,
          0.06469472355389735,
          0.0643691361589299,
          0.06396221545618028,
          0.06326667767784239,
          0.06256443434713584,
          0.06200823072444473,
          0.0618136668366642,
          0.06136906374462706,
          0.06070395059524162,
          0.05996992140164366,
          0.05922191596296762,
          0.05900996726145968,
          0.05862523942442203,
          0.058082564331693,
          0.05769837585386267,
          0.05737546740533435,
          0.05670256995043747,
          0.05638086917200417,
          0.05619502881647349,
          0.05553566591698837,
          0.05539836290950916,
          0.05500788863952766,
          0.05462172243661189,
          0.05395330031840786,
          0.05377008036111146,
          0.05341505483626679,
          0.0530993107731083,
          0.05294983371477793,
          0.05279362146624771,
          0.05262951687634268,
          0.05248343417692013,
          0.0522695710738335,
          0.05202663559073335,
          0.05176095030811848,
          0.05140284629117014,
          0.05100682273997881,
          0.0508610101839331,
          0.05062699318401064,
          0.05052396467002108,
          0.05026929866710998,
          0.04999036055189936,
          0.04980113870837158,
          0.04968346764247326,
          0.04917606688403248,
          0.0489850667411265,
          0.04877151471184698,
          0.04863359044603567,
          0.04839130987041063,
          0.04806805229085512,
          0.04773849123038235,
          0.04740541043554913,
          0.047043580210644,
          0.04675302352858852,
          0.04627498433650726,
          0.04602538058879509,
          0.04574000469150815,
          0.04551189588182387,
          0.04530528400663934,
          0.04519076518209658,
          0.04502051659411882,
          0.04476958664337689,
          0.04466375542314927,
          0.04448362647045542,
          0.0442457042032056,
          0.04409426861967949,
          0.04372196886373968,
          0.04357789914308523,
          0.04324598054637682,
          0.04310757106974052,
          0.04281946185352535,
          0.042721952216094,
          0.04227735937167654,
          0.04215286918145102,
          0.0419877557955997,
          0.04179619656763953,
          0.04148852843238092,
          0.04130174412321321,
          0.04108442402926994,
          0.04081999438546336,
          0.04065932471538326,
          0.04029715525331722,
          0.04003839061565395,
          0.03972631043525598,
          0.03948805042112599,
          0.03919757919116546,
          0.03903739900507753,
          0.03894233665046341,
          0.03867897217489008,
          0.0384226123139506,
          0.03824020176783506,
          0.03809078125261294,
          0.03790391992222431,
          0.03770365536098234,
          0.0374910983162963,
          0.03741133916187755,
          0.03727129708268603,
          0.03704385308489782,
          0.0367636798801368,
          0.03660929328018574,
          0.03645141747512207,
          0.03613931410591704,
          0.03606664367742723,
          0.0358891918366885,
          0.03575006725185631,
          0.03566084203694936,
          0.03553063664849333,
          0.03542691770015154,
          0.03530398182184126,
          0.0351984491021094,
          0.03507308048434697,
          0.03498375119075263,
          0.03486589676546828,
          0.03471925320917672,
          0.03458317402250395,
          0.03441547696404996,
          0.03434768501553845,
          0.03424002731461678,
          0.03409457318771456,
          0.03402362293476881,
          0.03391370303559097,
          0.03383292021895522,
          0.03370746645842974,
          0.03352621745003307
         ],
         "yaxis": "y"
        },
        {
         "hovertemplate": "Legende=Fehler Testdaten<br>Iteration=%{x}<br>Kostenfunktion=%{y}<extra></extra>",
         "legendgroup": "Fehler Testdaten",
         "marker": {
          "color": "#EF553B",
          "symbol": "circle"
         },
         "mode": "markers",
         "name": "Fehler Testdaten",
         "orientation": "v",
         "showlegend": true,
         "type": "scatter",
         "x": [
          0,
          1,
          2,
          3,
          4,
          5,
          6,
          7,
          8,
          9,
          10,
          11,
          12,
          13,
          14,
          15,
          16,
          17,
          18,
          19,
          20,
          21,
          22,
          23,
          24,
          25,
          26,
          27,
          28,
          29,
          30,
          31,
          32,
          33,
          34,
          35,
          36,
          37,
          38,
          39,
          40,
          41,
          42,
          43,
          44,
          45,
          46,
          47,
          48,
          49,
          50,
          51,
          52,
          53,
          54,
          55,
          56,
          57,
          58,
          59,
          60,
          61,
          62,
          63,
          64,
          65,
          66,
          67,
          68,
          69,
          70,
          71,
          72,
          73,
          74,
          75,
          76,
          77,
          78,
          79,
          80,
          81,
          82,
          83,
          84,
          85,
          86,
          87,
          88,
          89,
          90,
          91,
          92,
          93,
          94,
          95,
          96,
          97,
          98,
          99,
          100,
          101,
          102,
          103,
          104,
          105,
          106,
          107,
          108,
          109,
          110,
          111,
          112,
          113,
          114,
          115,
          116,
          117,
          118,
          119,
          120,
          121,
          122,
          123,
          124,
          125,
          126,
          127,
          128,
          129,
          130,
          131,
          132,
          133,
          134,
          135,
          136,
          137,
          138,
          139,
          140,
          141,
          142,
          143,
          144,
          145,
          146,
          147,
          148,
          149,
          150,
          151,
          152,
          153,
          154,
          155,
          156,
          157,
          158,
          159,
          160,
          161,
          162,
          163,
          164,
          165,
          166,
          167,
          168,
          169,
          170,
          171,
          172,
          173,
          174,
          175,
          176,
          177,
          178,
          179,
          180,
          181,
          182,
          183,
          184,
          185,
          186,
          187,
          188,
          189,
          190,
          191,
          192,
          193,
          194,
          195,
          196,
          197,
          198,
          199
         ],
         "xaxis": "x",
         "y": [
          0.5070015598535538,
          0.4030186068117619,
          0.33852560168504714,
          0.2965702031850815,
          0.26750264611840247,
          0.2481962254792452,
          0.23518174644559622,
          0.2270300650410354,
          0.2214377796985209,
          0.21713583767041564,
          0.21480917647853492,
          0.21201987446844578,
          0.2110922234877944,
          0.21183485411014408,
          0.21076991592440755,
          0.21099896633252502,
          0.20990187946241348,
          0.20976434062141924,
          0.20839718861598522,
          0.20845998690323905,
          0.20902840841165743,
          0.21073819514061323,
          0.21054013772215693,
          0.21167262069717982,
          0.21342074102838524,
          0.2147403174827341,
          0.21450155364186502,
          0.21578026682045312,
          0.21678030775929802,
          0.21775573485717178,
          0.21842918767908123,
          0.2190249819980236,
          0.21947460166504607,
          0.22087347697711085,
          0.22295256686571518,
          0.22255122537259012,
          0.2238329842950916,
          0.22556847508536884,
          0.22567313118249877,
          0.22860905136325163,
          0.22891735755378614,
          0.23002910217066527,
          0.23031223020679317,
          0.23014036677993135,
          0.23037328560638706,
          0.23129870309348916,
          0.23166190967784497,
          0.23208456114336148,
          0.2338376993839047,
          0.23513390559912659,
          0.23699453462721431,
          0.2376018072946754,
          0.23734397917284514,
          0.23854122269194342,
          0.23877584147755987,
          0.23979454980368609,
          0.2411160495816439,
          0.24183101754792732,
          0.24142862255781075,
          0.24224948107765523,
          0.24168516341058421,
          0.24281482120256986,
          0.24301920544874156,
          0.2436024416468863,
          0.24491193375113654,
          0.24482783445499082,
          0.2454305497792084,
          0.2462236403657298,
          0.24655328568952972,
          0.24702070262217604,
          0.24743884414200149,
          0.2493439219314605,
          0.24935089204048563,
          0.2508459885329794,
          0.2506410619931121,
          0.25139068266215325,
          0.251873759378941,
          0.2535523874362989,
          0.2536756579204812,
          0.25389898246384107,
          0.25354917083915646,
          0.25522207325787166,
          0.2563090958849425,
          0.25638696724845794,
          0.2569149390525272,
          0.2584139951909674,
          0.2588221957992064,
          0.2594828452259826,
          0.25958900885987535,
          0.2593071066305565,
          0.2610786282692061,
          0.26180656416571585,
          0.26262135644012596,
          0.26286310213612885,
          0.26262685256818075,
          0.26286566891227997,
          0.26442359786812086,
          0.26421168362512254,
          0.26356264131090573,
          0.26395876278381913,
          0.2647476217849071,
          0.26526677400767584,
          0.26578300494278667,
          0.26678385605143196,
          0.26741782405680353,
          0.267785091474223,
          0.2682696317111877,
          0.2688533525939238,
          0.26885312915739634,
          0.2683905562530599,
          0.26859008698568504,
          0.2688471634931593,
          0.269320408425443,
          0.26952098245240996,
          0.26984591546991943,
          0.2701347708477624,
          0.2710653070795452,
          0.2716571226766646,
          0.2722408516109099,
          0.2724290183941739,
          0.27446037462747336,
          0.27445005574327297,
          0.2743909636899698,
          0.2747471436380001,
          0.2756232893346023,
          0.27566439964145684,
          0.27553714494831366,
          0.27621088984134257,
          0.2775691134942099,
          0.27720306986982907,
          0.2776443028564554,
          0.2780605493857802,
          0.2780591757487655,
          0.2783987672929361,
          0.2791941921095513,
          0.2794849155058091,
          0.27953617672300607,
          0.2790968220477789,
          0.27950547611710863,
          0.2801691779195444,
          0.2804562143425046,
          0.2813921624697541,
          0.2819025274033247,
          0.28238206552923656,
          0.2838430522778472,
          0.28406929297614625,
          0.2845801245505736,
          0.28482068382739634,
          0.28535429784848476,
          0.28526878703467445,
          0.2854197800561606,
          0.28573822237979857,
          0.28545949676023336,
          0.2855787236401975,
          0.2865990243146462,
          0.287401086494554,
          0.2877991127291862,
          0.2888723736797629,
          0.2898192035380935,
          0.2905445824052122,
          0.29152176040878386,
          0.29087958415195225,
          0.29112487717726254,
          0.2910566248477389,
          0.29189880766702664,
          0.2915352217492855,
          0.29227872246335845,
          0.2922298127602189,
          0.2913988909188811,
          0.2923370109654543,
          0.29262939939935584,
          0.29282003560464726,
          0.29366409789595765,
          0.2932616099201705,
          0.2940551758227057,
          0.29472531194209295,
          0.2955410672987782,
          0.29582186473796085,
          0.2958539772723352,
          0.2971685912534672,
          0.296891556510418,
          0.29704989124979786,
          0.2969721850047049,
          0.29764720034387576,
          0.29799185727801525,
          0.298137400813288,
          0.2985308278542252,
          0.2982507837031535,
          0.29864085820792663,
          0.2990132773708765,
          0.30001163198174435,
          0.30075503261850645,
          0.3010248810645635,
          0.3015871044630958,
          0.3018998855560503,
          0.3021746669810077,
          0.30214560912255956,
          0.30159380113312817,
          0.3020479599956579,
          0.30318172410205535
         ],
         "yaxis": "y"
        }
       ],
       "layout": {
        "legend": {
         "title": {
          "text": "Legende"
         },
         "tracegroupgap": 0
        },
        "template": {
         "data": {
          "bar": [
           {
            "error_x": {
             "color": "#2a3f5f"
            },
            "error_y": {
             "color": "#2a3f5f"
            },
            "marker": {
             "line": {
              "color": "#E5ECF6",
              "width": 0.5
             },
             "pattern": {
              "fillmode": "overlay",
              "size": 10,
              "solidity": 0.2
             }
            },
            "type": "bar"
           }
          ],
          "barpolar": [
           {
            "marker": {
             "line": {
              "color": "#E5ECF6",
              "width": 0.5
             },
             "pattern": {
              "fillmode": "overlay",
              "size": 10,
              "solidity": 0.2
             }
            },
            "type": "barpolar"
           }
          ],
          "carpet": [
           {
            "aaxis": {
             "endlinecolor": "#2a3f5f",
             "gridcolor": "white",
             "linecolor": "white",
             "minorgridcolor": "white",
             "startlinecolor": "#2a3f5f"
            },
            "baxis": {
             "endlinecolor": "#2a3f5f",
             "gridcolor": "white",
             "linecolor": "white",
             "minorgridcolor": "white",
             "startlinecolor": "#2a3f5f"
            },
            "type": "carpet"
           }
          ],
          "choropleth": [
           {
            "colorbar": {
             "outlinewidth": 0,
             "ticks": ""
            },
            "type": "choropleth"
           }
          ],
          "contour": [
           {
            "colorbar": {
             "outlinewidth": 0,
             "ticks": ""
            },
            "colorscale": [
             [
              0,
              "#0d0887"
             ],
             [
              0.1111111111111111,
              "#46039f"
             ],
             [
              0.2222222222222222,
              "#7201a8"
             ],
             [
              0.3333333333333333,
              "#9c179e"
             ],
             [
              0.4444444444444444,
              "#bd3786"
             ],
             [
              0.5555555555555556,
              "#d8576b"
             ],
             [
              0.6666666666666666,
              "#ed7953"
             ],
             [
              0.7777777777777778,
              "#fb9f3a"
             ],
             [
              0.8888888888888888,
              "#fdca26"
             ],
             [
              1,
              "#f0f921"
             ]
            ],
            "type": "contour"
           }
          ],
          "contourcarpet": [
           {
            "colorbar": {
             "outlinewidth": 0,
             "ticks": ""
            },
            "type": "contourcarpet"
           }
          ],
          "heatmap": [
           {
            "colorbar": {
             "outlinewidth": 0,
             "ticks": ""
            },
            "colorscale": [
             [
              0,
              "#0d0887"
             ],
             [
              0.1111111111111111,
              "#46039f"
             ],
             [
              0.2222222222222222,
              "#7201a8"
             ],
             [
              0.3333333333333333,
              "#9c179e"
             ],
             [
              0.4444444444444444,
              "#bd3786"
             ],
             [
              0.5555555555555556,
              "#d8576b"
             ],
             [
              0.6666666666666666,
              "#ed7953"
             ],
             [
              0.7777777777777778,
              "#fb9f3a"
             ],
             [
              0.8888888888888888,
              "#fdca26"
             ],
             [
              1,
              "#f0f921"
             ]
            ],
            "type": "heatmap"
           }
          ],
          "heatmapgl": [
           {
            "colorbar": {
             "outlinewidth": 0,
             "ticks": ""
            },
            "colorscale": [
             [
              0,
              "#0d0887"
             ],
             [
              0.1111111111111111,
              "#46039f"
             ],
             [
              0.2222222222222222,
              "#7201a8"
             ],
             [
              0.3333333333333333,
              "#9c179e"
             ],
             [
              0.4444444444444444,
              "#bd3786"
             ],
             [
              0.5555555555555556,
              "#d8576b"
             ],
             [
              0.6666666666666666,
              "#ed7953"
             ],
             [
              0.7777777777777778,
              "#fb9f3a"
             ],
             [
              0.8888888888888888,
              "#fdca26"
             ],
             [
              1,
              "#f0f921"
             ]
            ],
            "type": "heatmapgl"
           }
          ],
          "histogram": [
           {
            "marker": {
             "pattern": {
              "fillmode": "overlay",
              "size": 10,
              "solidity": 0.2
             }
            },
            "type": "histogram"
           }
          ],
          "histogram2d": [
           {
            "colorbar": {
             "outlinewidth": 0,
             "ticks": ""
            },
            "colorscale": [
             [
              0,
              "#0d0887"
             ],
             [
              0.1111111111111111,
              "#46039f"
             ],
             [
              0.2222222222222222,
              "#7201a8"
             ],
             [
              0.3333333333333333,
              "#9c179e"
             ],
             [
              0.4444444444444444,
              "#bd3786"
             ],
             [
              0.5555555555555556,
              "#d8576b"
             ],
             [
              0.6666666666666666,
              "#ed7953"
             ],
             [
              0.7777777777777778,
              "#fb9f3a"
             ],
             [
              0.8888888888888888,
              "#fdca26"
             ],
             [
              1,
              "#f0f921"
             ]
            ],
            "type": "histogram2d"
           }
          ],
          "histogram2dcontour": [
           {
            "colorbar": {
             "outlinewidth": 0,
             "ticks": ""
            },
            "colorscale": [
             [
              0,
              "#0d0887"
             ],
             [
              0.1111111111111111,
              "#46039f"
             ],
             [
              0.2222222222222222,
              "#7201a8"
             ],
             [
              0.3333333333333333,
              "#9c179e"
             ],
             [
              0.4444444444444444,
              "#bd3786"
             ],
             [
              0.5555555555555556,
              "#d8576b"
             ],
             [
              0.6666666666666666,
              "#ed7953"
             ],
             [
              0.7777777777777778,
              "#fb9f3a"
             ],
             [
              0.8888888888888888,
              "#fdca26"
             ],
             [
              1,
              "#f0f921"
             ]
            ],
            "type": "histogram2dcontour"
           }
          ],
          "mesh3d": [
           {
            "colorbar": {
             "outlinewidth": 0,
             "ticks": ""
            },
            "type": "mesh3d"
           }
          ],
          "parcoords": [
           {
            "line": {
             "colorbar": {
              "outlinewidth": 0,
              "ticks": ""
             }
            },
            "type": "parcoords"
           }
          ],
          "pie": [
           {
            "automargin": true,
            "type": "pie"
           }
          ],
          "scatter": [
           {
            "fillpattern": {
             "fillmode": "overlay",
             "size": 10,
             "solidity": 0.2
            },
            "type": "scatter"
           }
          ],
          "scatter3d": [
           {
            "line": {
             "colorbar": {
              "outlinewidth": 0,
              "ticks": ""
             }
            },
            "marker": {
             "colorbar": {
              "outlinewidth": 0,
              "ticks": ""
             }
            },
            "type": "scatter3d"
           }
          ],
          "scattercarpet": [
           {
            "marker": {
             "colorbar": {
              "outlinewidth": 0,
              "ticks": ""
             }
            },
            "type": "scattercarpet"
           }
          ],
          "scattergeo": [
           {
            "marker": {
             "colorbar": {
              "outlinewidth": 0,
              "ticks": ""
             }
            },
            "type": "scattergeo"
           }
          ],
          "scattergl": [
           {
            "marker": {
             "colorbar": {
              "outlinewidth": 0,
              "ticks": ""
             }
            },
            "type": "scattergl"
           }
          ],
          "scattermapbox": [
           {
            "marker": {
             "colorbar": {
              "outlinewidth": 0,
              "ticks": ""
             }
            },
            "type": "scattermapbox"
           }
          ],
          "scatterpolar": [
           {
            "marker": {
             "colorbar": {
              "outlinewidth": 0,
              "ticks": ""
             }
            },
            "type": "scatterpolar"
           }
          ],
          "scatterpolargl": [
           {
            "marker": {
             "colorbar": {
              "outlinewidth": 0,
              "ticks": ""
             }
            },
            "type": "scatterpolargl"
           }
          ],
          "scatterternary": [
           {
            "marker": {
             "colorbar": {
              "outlinewidth": 0,
              "ticks": ""
             }
            },
            "type": "scatterternary"
           }
          ],
          "surface": [
           {
            "colorbar": {
             "outlinewidth": 0,
             "ticks": ""
            },
            "colorscale": [
             [
              0,
              "#0d0887"
             ],
             [
              0.1111111111111111,
              "#46039f"
             ],
             [
              0.2222222222222222,
              "#7201a8"
             ],
             [
              0.3333333333333333,
              "#9c179e"
             ],
             [
              0.4444444444444444,
              "#bd3786"
             ],
             [
              0.5555555555555556,
              "#d8576b"
             ],
             [
              0.6666666666666666,
              "#ed7953"
             ],
             [
              0.7777777777777778,
              "#fb9f3a"
             ],
             [
              0.8888888888888888,
              "#fdca26"
             ],
             [
              1,
              "#f0f921"
             ]
            ],
            "type": "surface"
           }
          ],
          "table": [
           {
            "cells": {
             "fill": {
              "color": "#EBF0F8"
             },
             "line": {
              "color": "white"
             }
            },
            "header": {
             "fill": {
              "color": "#C8D4E3"
             },
             "line": {
              "color": "white"
             }
            },
            "type": "table"
           }
          ]
         },
         "layout": {
          "annotationdefaults": {
           "arrowcolor": "#2a3f5f",
           "arrowhead": 0,
           "arrowwidth": 1
          },
          "autotypenumbers": "strict",
          "coloraxis": {
           "colorbar": {
            "outlinewidth": 0,
            "ticks": ""
           }
          },
          "colorscale": {
           "diverging": [
            [
             0,
             "#8e0152"
            ],
            [
             0.1,
             "#c51b7d"
            ],
            [
             0.2,
             "#de77ae"
            ],
            [
             0.3,
             "#f1b6da"
            ],
            [
             0.4,
             "#fde0ef"
            ],
            [
             0.5,
             "#f7f7f7"
            ],
            [
             0.6,
             "#e6f5d0"
            ],
            [
             0.7,
             "#b8e186"
            ],
            [
             0.8,
             "#7fbc41"
            ],
            [
             0.9,
             "#4d9221"
            ],
            [
             1,
             "#276419"
            ]
           ],
           "sequential": [
            [
             0,
             "#0d0887"
            ],
            [
             0.1111111111111111,
             "#46039f"
            ],
            [
             0.2222222222222222,
             "#7201a8"
            ],
            [
             0.3333333333333333,
             "#9c179e"
            ],
            [
             0.4444444444444444,
             "#bd3786"
            ],
            [
             0.5555555555555556,
             "#d8576b"
            ],
            [
             0.6666666666666666,
             "#ed7953"
            ],
            [
             0.7777777777777778,
             "#fb9f3a"
            ],
            [
             0.8888888888888888,
             "#fdca26"
            ],
            [
             1,
             "#f0f921"
            ]
           ],
           "sequentialminus": [
            [
             0,
             "#0d0887"
            ],
            [
             0.1111111111111111,
             "#46039f"
            ],
            [
             0.2222222222222222,
             "#7201a8"
            ],
            [
             0.3333333333333333,
             "#9c179e"
            ],
            [
             0.4444444444444444,
             "#bd3786"
            ],
            [
             0.5555555555555556,
             "#d8576b"
            ],
            [
             0.6666666666666666,
             "#ed7953"
            ],
            [
             0.7777777777777778,
             "#fb9f3a"
            ],
            [
             0.8888888888888888,
             "#fdca26"
            ],
            [
             1,
             "#f0f921"
            ]
           ]
          },
          "colorway": [
           "#636efa",
           "#EF553B",
           "#00cc96",
           "#ab63fa",
           "#FFA15A",
           "#19d3f3",
           "#FF6692",
           "#B6E880",
           "#FF97FF",
           "#FECB52"
          ],
          "font": {
           "color": "#2a3f5f"
          },
          "geo": {
           "bgcolor": "white",
           "lakecolor": "white",
           "landcolor": "#E5ECF6",
           "showlakes": true,
           "showland": true,
           "subunitcolor": "white"
          },
          "hoverlabel": {
           "align": "left"
          },
          "hovermode": "closest",
          "mapbox": {
           "style": "light"
          },
          "paper_bgcolor": "white",
          "plot_bgcolor": "#E5ECF6",
          "polar": {
           "angularaxis": {
            "gridcolor": "white",
            "linecolor": "white",
            "ticks": ""
           },
           "bgcolor": "#E5ECF6",
           "radialaxis": {
            "gridcolor": "white",
            "linecolor": "white",
            "ticks": ""
           }
          },
          "scene": {
           "xaxis": {
            "backgroundcolor": "#E5ECF6",
            "gridcolor": "white",
            "gridwidth": 2,
            "linecolor": "white",
            "showbackground": true,
            "ticks": "",
            "zerolinecolor": "white"
           },
           "yaxis": {
            "backgroundcolor": "#E5ECF6",
            "gridcolor": "white",
            "gridwidth": 2,
            "linecolor": "white",
            "showbackground": true,
            "ticks": "",
            "zerolinecolor": "white"
           },
           "zaxis": {
            "backgroundcolor": "#E5ECF6",
            "gridcolor": "white",
            "gridwidth": 2,
            "linecolor": "white",
            "showbackground": true,
            "ticks": "",
            "zerolinecolor": "white"
           }
          },
          "shapedefaults": {
           "line": {
            "color": "#2a3f5f"
           }
          },
          "ternary": {
           "aaxis": {
            "gridcolor": "white",
            "linecolor": "white",
            "ticks": ""
           },
           "baxis": {
            "gridcolor": "white",
            "linecolor": "white",
            "ticks": ""
           },
           "bgcolor": "#E5ECF6",
           "caxis": {
            "gridcolor": "white",
            "linecolor": "white",
            "ticks": ""
           }
          },
          "title": {
           "x": 0.05
          },
          "xaxis": {
           "automargin": true,
           "gridcolor": "white",
           "linecolor": "white",
           "ticks": "",
           "title": {
            "standoff": 15
           },
           "zerolinecolor": "white",
           "zerolinewidth": 2
          },
          "yaxis": {
           "automargin": true,
           "gridcolor": "white",
           "linecolor": "white",
           "ticks": "",
           "title": {
            "standoff": 15
           },
           "zerolinecolor": "white",
           "zerolinewidth": 2
          }
         }
        },
        "title": {
         "text": "Kostenfunktion"
        },
        "xaxis": {
         "anchor": "y",
         "domain": [
          0,
          1
         ],
         "title": {
          "text": "Iteration"
         }
        },
        "yaxis": {
         "anchor": "x",
         "domain": [
          0,
          1
         ],
         "title": {
          "text": "Kostenfunktion"
         }
        }
       }
      }
     },
     "metadata": {},
     "output_type": "display_data"
    }
   ],
   "source": [
    "fig = px.scatter(kostenfunktion,\n",
    "    title='Kostenfunktion',\n",
    "    labels={'value': 'Kostenfunktion', 'index': 'Iteration', 'variable': 'Legende'})\n",
    "fig.show()"
   ]
  },
  {
   "cell_type": "code",
   "execution_count": 9,
   "metadata": {},
   "outputs": [
    {
     "data": {
      "text/html": [
       "<style type=\"text/css\">\n",
       "#T_952d8_row8_col1 {\n",
       "  background-color: lightgreen;\n",
       "}\n",
       "</style>\n",
       "<table id=\"T_952d8\">\n",
       "  <thead>\n",
       "    <tr>\n",
       "      <th class=\"blank level0\" >&nbsp;</th>\n",
       "      <th id=\"T_952d8_level0_col0\" class=\"col_heading level0 col0\" >Description</th>\n",
       "      <th id=\"T_952d8_level0_col1\" class=\"col_heading level0 col1\" >Value</th>\n",
       "    </tr>\n",
       "  </thead>\n",
       "  <tbody>\n",
       "    <tr>\n",
       "      <th id=\"T_952d8_level0_row0\" class=\"row_heading level0 row0\" >0</th>\n",
       "      <td id=\"T_952d8_row0_col0\" class=\"data row0 col0\" >Session id</td>\n",
       "      <td id=\"T_952d8_row0_col1\" class=\"data row0 col1\" >123</td>\n",
       "    </tr>\n",
       "    <tr>\n",
       "      <th id=\"T_952d8_level0_row1\" class=\"row_heading level0 row1\" >1</th>\n",
       "      <td id=\"T_952d8_row1_col0\" class=\"data row1 col0\" >Target</td>\n",
       "      <td id=\"T_952d8_row1_col1\" class=\"data row1 col1\" >verkauft</td>\n",
       "    </tr>\n",
       "    <tr>\n",
       "      <th id=\"T_952d8_level0_row2\" class=\"row_heading level0 row2\" >2</th>\n",
       "      <td id=\"T_952d8_row2_col0\" class=\"data row2 col0\" >Target type</td>\n",
       "      <td id=\"T_952d8_row2_col1\" class=\"data row2 col1\" >Binary</td>\n",
       "    </tr>\n",
       "    <tr>\n",
       "      <th id=\"T_952d8_level0_row3\" class=\"row_heading level0 row3\" >3</th>\n",
       "      <td id=\"T_952d8_row3_col0\" class=\"data row3 col0\" >Original data shape</td>\n",
       "      <td id=\"T_952d8_row3_col1\" class=\"data row3 col1\" >(2000, 3)</td>\n",
       "    </tr>\n",
       "    <tr>\n",
       "      <th id=\"T_952d8_level0_row4\" class=\"row_heading level0 row4\" >4</th>\n",
       "      <td id=\"T_952d8_row4_col0\" class=\"data row4 col0\" >Transformed data shape</td>\n",
       "      <td id=\"T_952d8_row4_col1\" class=\"data row4 col1\" >(2000, 3)</td>\n",
       "    </tr>\n",
       "    <tr>\n",
       "      <th id=\"T_952d8_level0_row5\" class=\"row_heading level0 row5\" >5</th>\n",
       "      <td id=\"T_952d8_row5_col0\" class=\"data row5 col0\" >Transformed train set shape</td>\n",
       "      <td id=\"T_952d8_row5_col1\" class=\"data row5 col1\" >(1400, 3)</td>\n",
       "    </tr>\n",
       "    <tr>\n",
       "      <th id=\"T_952d8_level0_row6\" class=\"row_heading level0 row6\" >6</th>\n",
       "      <td id=\"T_952d8_row6_col0\" class=\"data row6 col0\" >Transformed test set shape</td>\n",
       "      <td id=\"T_952d8_row6_col1\" class=\"data row6 col1\" >(600, 3)</td>\n",
       "    </tr>\n",
       "    <tr>\n",
       "      <th id=\"T_952d8_level0_row7\" class=\"row_heading level0 row7\" >7</th>\n",
       "      <td id=\"T_952d8_row7_col0\" class=\"data row7 col0\" >Numeric features</td>\n",
       "      <td id=\"T_952d8_row7_col1\" class=\"data row7 col1\" >2</td>\n",
       "    </tr>\n",
       "    <tr>\n",
       "      <th id=\"T_952d8_level0_row8\" class=\"row_heading level0 row8\" >8</th>\n",
       "      <td id=\"T_952d8_row8_col0\" class=\"data row8 col0\" >Preprocess</td>\n",
       "      <td id=\"T_952d8_row8_col1\" class=\"data row8 col1\" >True</td>\n",
       "    </tr>\n",
       "    <tr>\n",
       "      <th id=\"T_952d8_level0_row9\" class=\"row_heading level0 row9\" >9</th>\n",
       "      <td id=\"T_952d8_row9_col0\" class=\"data row9 col0\" >Imputation type</td>\n",
       "      <td id=\"T_952d8_row9_col1\" class=\"data row9 col1\" >simple</td>\n",
       "    </tr>\n",
       "    <tr>\n",
       "      <th id=\"T_952d8_level0_row10\" class=\"row_heading level0 row10\" >10</th>\n",
       "      <td id=\"T_952d8_row10_col0\" class=\"data row10 col0\" >Numeric imputation</td>\n",
       "      <td id=\"T_952d8_row10_col1\" class=\"data row10 col1\" >mean</td>\n",
       "    </tr>\n",
       "    <tr>\n",
       "      <th id=\"T_952d8_level0_row11\" class=\"row_heading level0 row11\" >11</th>\n",
       "      <td id=\"T_952d8_row11_col0\" class=\"data row11 col0\" >Categorical imputation</td>\n",
       "      <td id=\"T_952d8_row11_col1\" class=\"data row11 col1\" >mode</td>\n",
       "    </tr>\n",
       "    <tr>\n",
       "      <th id=\"T_952d8_level0_row12\" class=\"row_heading level0 row12\" >12</th>\n",
       "      <td id=\"T_952d8_row12_col0\" class=\"data row12 col0\" >Fold Generator</td>\n",
       "      <td id=\"T_952d8_row12_col1\" class=\"data row12 col1\" >StratifiedKFold</td>\n",
       "    </tr>\n",
       "    <tr>\n",
       "      <th id=\"T_952d8_level0_row13\" class=\"row_heading level0 row13\" >13</th>\n",
       "      <td id=\"T_952d8_row13_col0\" class=\"data row13 col0\" >Fold Number</td>\n",
       "      <td id=\"T_952d8_row13_col1\" class=\"data row13 col1\" >10</td>\n",
       "    </tr>\n",
       "    <tr>\n",
       "      <th id=\"T_952d8_level0_row14\" class=\"row_heading level0 row14\" >14</th>\n",
       "      <td id=\"T_952d8_row14_col0\" class=\"data row14 col0\" >CPU Jobs</td>\n",
       "      <td id=\"T_952d8_row14_col1\" class=\"data row14 col1\" >-1</td>\n",
       "    </tr>\n",
       "    <tr>\n",
       "      <th id=\"T_952d8_level0_row15\" class=\"row_heading level0 row15\" >15</th>\n",
       "      <td id=\"T_952d8_row15_col0\" class=\"data row15 col0\" >Use GPU</td>\n",
       "      <td id=\"T_952d8_row15_col1\" class=\"data row15 col1\" >False</td>\n",
       "    </tr>\n",
       "    <tr>\n",
       "      <th id=\"T_952d8_level0_row16\" class=\"row_heading level0 row16\" >16</th>\n",
       "      <td id=\"T_952d8_row16_col0\" class=\"data row16 col0\" >Log Experiment</td>\n",
       "      <td id=\"T_952d8_row16_col1\" class=\"data row16 col1\" >False</td>\n",
       "    </tr>\n",
       "    <tr>\n",
       "      <th id=\"T_952d8_level0_row17\" class=\"row_heading level0 row17\" >17</th>\n",
       "      <td id=\"T_952d8_row17_col0\" class=\"data row17 col0\" >Experiment Name</td>\n",
       "      <td id=\"T_952d8_row17_col1\" class=\"data row17 col1\" >clf-default-name</td>\n",
       "    </tr>\n",
       "    <tr>\n",
       "      <th id=\"T_952d8_level0_row18\" class=\"row_heading level0 row18\" >18</th>\n",
       "      <td id=\"T_952d8_row18_col0\" class=\"data row18 col0\" >USI</td>\n",
       "      <td id=\"T_952d8_row18_col1\" class=\"data row18 col1\" >d4fc</td>\n",
       "    </tr>\n",
       "  </tbody>\n",
       "</table>\n"
      ],
      "text/plain": [
       "<pandas.io.formats.style.Styler at 0x178802950>"
      ]
     },
     "metadata": {},
     "output_type": "display_data"
    }
   ],
   "source": [
    "from pycaret.classification import *\n",
    "s = setup(daten, target = 'verkauft', session_id = 123)"
   ]
  },
  {
   "cell_type": "code",
   "execution_count": 10,
   "metadata": {},
   "outputs": [],
   "source": [
    "# import ClassificationExperiment and init the class\n",
    "from pycaret.classification import ClassificationExperiment\n",
    "exp = ClassificationExperiment()"
   ]
  },
  {
   "cell_type": "code",
   "execution_count": 11,
   "metadata": {},
   "outputs": [
    {
     "data": {
      "text/html": [
       "<style type=\"text/css\">\n",
       "#T_03ef6_row8_col1 {\n",
       "  background-color: lightgreen;\n",
       "}\n",
       "</style>\n",
       "<table id=\"T_03ef6\">\n",
       "  <thead>\n",
       "    <tr>\n",
       "      <th class=\"blank level0\" >&nbsp;</th>\n",
       "      <th id=\"T_03ef6_level0_col0\" class=\"col_heading level0 col0\" >Description</th>\n",
       "      <th id=\"T_03ef6_level0_col1\" class=\"col_heading level0 col1\" >Value</th>\n",
       "    </tr>\n",
       "  </thead>\n",
       "  <tbody>\n",
       "    <tr>\n",
       "      <th id=\"T_03ef6_level0_row0\" class=\"row_heading level0 row0\" >0</th>\n",
       "      <td id=\"T_03ef6_row0_col0\" class=\"data row0 col0\" >Session id</td>\n",
       "      <td id=\"T_03ef6_row0_col1\" class=\"data row0 col1\" >123</td>\n",
       "    </tr>\n",
       "    <tr>\n",
       "      <th id=\"T_03ef6_level0_row1\" class=\"row_heading level0 row1\" >1</th>\n",
       "      <td id=\"T_03ef6_row1_col0\" class=\"data row1 col0\" >Target</td>\n",
       "      <td id=\"T_03ef6_row1_col1\" class=\"data row1 col1\" >verkauft</td>\n",
       "    </tr>\n",
       "    <tr>\n",
       "      <th id=\"T_03ef6_level0_row2\" class=\"row_heading level0 row2\" >2</th>\n",
       "      <td id=\"T_03ef6_row2_col0\" class=\"data row2 col0\" >Target type</td>\n",
       "      <td id=\"T_03ef6_row2_col1\" class=\"data row2 col1\" >Binary</td>\n",
       "    </tr>\n",
       "    <tr>\n",
       "      <th id=\"T_03ef6_level0_row3\" class=\"row_heading level0 row3\" >3</th>\n",
       "      <td id=\"T_03ef6_row3_col0\" class=\"data row3 col0\" >Original data shape</td>\n",
       "      <td id=\"T_03ef6_row3_col1\" class=\"data row3 col1\" >(2000, 3)</td>\n",
       "    </tr>\n",
       "    <tr>\n",
       "      <th id=\"T_03ef6_level0_row4\" class=\"row_heading level0 row4\" >4</th>\n",
       "      <td id=\"T_03ef6_row4_col0\" class=\"data row4 col0\" >Transformed data shape</td>\n",
       "      <td id=\"T_03ef6_row4_col1\" class=\"data row4 col1\" >(2000, 3)</td>\n",
       "    </tr>\n",
       "    <tr>\n",
       "      <th id=\"T_03ef6_level0_row5\" class=\"row_heading level0 row5\" >5</th>\n",
       "      <td id=\"T_03ef6_row5_col0\" class=\"data row5 col0\" >Transformed train set shape</td>\n",
       "      <td id=\"T_03ef6_row5_col1\" class=\"data row5 col1\" >(1400, 3)</td>\n",
       "    </tr>\n",
       "    <tr>\n",
       "      <th id=\"T_03ef6_level0_row6\" class=\"row_heading level0 row6\" >6</th>\n",
       "      <td id=\"T_03ef6_row6_col0\" class=\"data row6 col0\" >Transformed test set shape</td>\n",
       "      <td id=\"T_03ef6_row6_col1\" class=\"data row6 col1\" >(600, 3)</td>\n",
       "    </tr>\n",
       "    <tr>\n",
       "      <th id=\"T_03ef6_level0_row7\" class=\"row_heading level0 row7\" >7</th>\n",
       "      <td id=\"T_03ef6_row7_col0\" class=\"data row7 col0\" >Numeric features</td>\n",
       "      <td id=\"T_03ef6_row7_col1\" class=\"data row7 col1\" >2</td>\n",
       "    </tr>\n",
       "    <tr>\n",
       "      <th id=\"T_03ef6_level0_row8\" class=\"row_heading level0 row8\" >8</th>\n",
       "      <td id=\"T_03ef6_row8_col0\" class=\"data row8 col0\" >Preprocess</td>\n",
       "      <td id=\"T_03ef6_row8_col1\" class=\"data row8 col1\" >True</td>\n",
       "    </tr>\n",
       "    <tr>\n",
       "      <th id=\"T_03ef6_level0_row9\" class=\"row_heading level0 row9\" >9</th>\n",
       "      <td id=\"T_03ef6_row9_col0\" class=\"data row9 col0\" >Imputation type</td>\n",
       "      <td id=\"T_03ef6_row9_col1\" class=\"data row9 col1\" >simple</td>\n",
       "    </tr>\n",
       "    <tr>\n",
       "      <th id=\"T_03ef6_level0_row10\" class=\"row_heading level0 row10\" >10</th>\n",
       "      <td id=\"T_03ef6_row10_col0\" class=\"data row10 col0\" >Numeric imputation</td>\n",
       "      <td id=\"T_03ef6_row10_col1\" class=\"data row10 col1\" >mean</td>\n",
       "    </tr>\n",
       "    <tr>\n",
       "      <th id=\"T_03ef6_level0_row11\" class=\"row_heading level0 row11\" >11</th>\n",
       "      <td id=\"T_03ef6_row11_col0\" class=\"data row11 col0\" >Categorical imputation</td>\n",
       "      <td id=\"T_03ef6_row11_col1\" class=\"data row11 col1\" >mode</td>\n",
       "    </tr>\n",
       "    <tr>\n",
       "      <th id=\"T_03ef6_level0_row12\" class=\"row_heading level0 row12\" >12</th>\n",
       "      <td id=\"T_03ef6_row12_col0\" class=\"data row12 col0\" >Fold Generator</td>\n",
       "      <td id=\"T_03ef6_row12_col1\" class=\"data row12 col1\" >StratifiedKFold</td>\n",
       "    </tr>\n",
       "    <tr>\n",
       "      <th id=\"T_03ef6_level0_row13\" class=\"row_heading level0 row13\" >13</th>\n",
       "      <td id=\"T_03ef6_row13_col0\" class=\"data row13 col0\" >Fold Number</td>\n",
       "      <td id=\"T_03ef6_row13_col1\" class=\"data row13 col1\" >10</td>\n",
       "    </tr>\n",
       "    <tr>\n",
       "      <th id=\"T_03ef6_level0_row14\" class=\"row_heading level0 row14\" >14</th>\n",
       "      <td id=\"T_03ef6_row14_col0\" class=\"data row14 col0\" >CPU Jobs</td>\n",
       "      <td id=\"T_03ef6_row14_col1\" class=\"data row14 col1\" >-1</td>\n",
       "    </tr>\n",
       "    <tr>\n",
       "      <th id=\"T_03ef6_level0_row15\" class=\"row_heading level0 row15\" >15</th>\n",
       "      <td id=\"T_03ef6_row15_col0\" class=\"data row15 col0\" >Use GPU</td>\n",
       "      <td id=\"T_03ef6_row15_col1\" class=\"data row15 col1\" >False</td>\n",
       "    </tr>\n",
       "    <tr>\n",
       "      <th id=\"T_03ef6_level0_row16\" class=\"row_heading level0 row16\" >16</th>\n",
       "      <td id=\"T_03ef6_row16_col0\" class=\"data row16 col0\" >Log Experiment</td>\n",
       "      <td id=\"T_03ef6_row16_col1\" class=\"data row16 col1\" >False</td>\n",
       "    </tr>\n",
       "    <tr>\n",
       "      <th id=\"T_03ef6_level0_row17\" class=\"row_heading level0 row17\" >17</th>\n",
       "      <td id=\"T_03ef6_row17_col0\" class=\"data row17 col0\" >Experiment Name</td>\n",
       "      <td id=\"T_03ef6_row17_col1\" class=\"data row17 col1\" >clf-default-name</td>\n",
       "    </tr>\n",
       "    <tr>\n",
       "      <th id=\"T_03ef6_level0_row18\" class=\"row_heading level0 row18\" >18</th>\n",
       "      <td id=\"T_03ef6_row18_col0\" class=\"data row18 col0\" >USI</td>\n",
       "      <td id=\"T_03ef6_row18_col1\" class=\"data row18 col1\" >b0a2</td>\n",
       "    </tr>\n",
       "  </tbody>\n",
       "</table>\n"
      ],
      "text/plain": [
       "<pandas.io.formats.style.Styler at 0x17a100e90>"
      ]
     },
     "metadata": {},
     "output_type": "display_data"
    },
    {
     "data": {
      "text/plain": [
       "<pycaret.classification.oop.ClassificationExperiment at 0x178d9cad0>"
      ]
     },
     "execution_count": 11,
     "metadata": {},
     "output_type": "execute_result"
    }
   ],
   "source": [
    "exp.setup(daten, target = 'verkauft', session_id = 123)"
   ]
  },
  {
   "cell_type": "code",
   "execution_count": 12,
   "metadata": {},
   "outputs": [
    {
     "data": {
      "text/html": [],
      "text/plain": [
       "<IPython.core.display.HTML object>"
      ]
     },
     "metadata": {},
     "output_type": "display_data"
    },
    {
     "data": {
      "text/html": [
       "<style type=\"text/css\">\n",
       "#T_73912 th {\n",
       "  text-align: left;\n",
       "}\n",
       "#T_73912_row0_col0, #T_73912_row0_col4, #T_73912_row1_col0, #T_73912_row1_col1, #T_73912_row1_col2, #T_73912_row1_col3, #T_73912_row1_col5, #T_73912_row1_col6, #T_73912_row1_col7, #T_73912_row2_col0, #T_73912_row2_col1, #T_73912_row2_col2, #T_73912_row2_col3, #T_73912_row2_col4, #T_73912_row2_col5, #T_73912_row2_col6, #T_73912_row2_col7, #T_73912_row3_col0, #T_73912_row3_col1, #T_73912_row3_col2, #T_73912_row3_col3, #T_73912_row3_col4, #T_73912_row3_col5, #T_73912_row3_col6, #T_73912_row3_col7, #T_73912_row4_col0, #T_73912_row4_col1, #T_73912_row4_col2, #T_73912_row4_col3, #T_73912_row4_col4, #T_73912_row4_col5, #T_73912_row4_col6, #T_73912_row4_col7, #T_73912_row5_col0, #T_73912_row5_col1, #T_73912_row5_col2, #T_73912_row5_col3, #T_73912_row5_col4, #T_73912_row5_col5, #T_73912_row5_col6, #T_73912_row5_col7, #T_73912_row6_col0, #T_73912_row6_col1, #T_73912_row6_col2, #T_73912_row6_col3, #T_73912_row6_col4, #T_73912_row6_col5, #T_73912_row6_col6, #T_73912_row6_col7, #T_73912_row7_col0, #T_73912_row7_col1, #T_73912_row7_col2, #T_73912_row7_col3, #T_73912_row7_col4, #T_73912_row7_col5, #T_73912_row7_col6, #T_73912_row7_col7, #T_73912_row8_col0, #T_73912_row8_col1, #T_73912_row8_col2, #T_73912_row8_col3, #T_73912_row8_col4, #T_73912_row8_col5, #T_73912_row8_col6, #T_73912_row8_col7, #T_73912_row9_col0, #T_73912_row9_col1, #T_73912_row9_col2, #T_73912_row9_col3, #T_73912_row9_col4, #T_73912_row9_col5, #T_73912_row9_col6, #T_73912_row9_col7, #T_73912_row10_col0, #T_73912_row10_col1, #T_73912_row10_col2, #T_73912_row10_col3, #T_73912_row10_col4, #T_73912_row10_col5, #T_73912_row10_col6, #T_73912_row10_col7, #T_73912_row11_col0, #T_73912_row11_col1, #T_73912_row11_col2, #T_73912_row11_col3, #T_73912_row11_col4, #T_73912_row11_col5, #T_73912_row11_col6, #T_73912_row11_col7, #T_73912_row12_col0, #T_73912_row12_col1, #T_73912_row12_col2, #T_73912_row12_col3, #T_73912_row12_col4, #T_73912_row12_col5, #T_73912_row12_col6, #T_73912_row12_col7, #T_73912_row13_col0, #T_73912_row13_col1, #T_73912_row13_col2, #T_73912_row13_col3, #T_73912_row13_col4, #T_73912_row13_col5, #T_73912_row13_col6, #T_73912_row13_col7, #T_73912_row14_col0, #T_73912_row14_col1, #T_73912_row14_col2, #T_73912_row14_col3, #T_73912_row14_col4, #T_73912_row14_col5, #T_73912_row14_col6, #T_73912_row14_col7 {\n",
       "  text-align: left;\n",
       "}\n",
       "#T_73912_row0_col1, #T_73912_row0_col2, #T_73912_row0_col3, #T_73912_row0_col5, #T_73912_row0_col6, #T_73912_row0_col7, #T_73912_row1_col4 {\n",
       "  text-align: left;\n",
       "  background-color: yellow;\n",
       "}\n",
       "#T_73912_row0_col8, #T_73912_row1_col8, #T_73912_row2_col8, #T_73912_row3_col8, #T_73912_row4_col8, #T_73912_row5_col8, #T_73912_row6_col8, #T_73912_row8_col8, #T_73912_row13_col8 {\n",
       "  text-align: left;\n",
       "  background-color: lightgrey;\n",
       "}\n",
       "#T_73912_row7_col8, #T_73912_row9_col8, #T_73912_row10_col8, #T_73912_row11_col8, #T_73912_row12_col8, #T_73912_row14_col8 {\n",
       "  text-align: left;\n",
       "  background-color: yellow;\n",
       "  background-color: lightgrey;\n",
       "}\n",
       "</style>\n",
       "<table id=\"T_73912\">\n",
       "  <thead>\n",
       "    <tr>\n",
       "      <th class=\"blank level0\" >&nbsp;</th>\n",
       "      <th id=\"T_73912_level0_col0\" class=\"col_heading level0 col0\" >Model</th>\n",
       "      <th id=\"T_73912_level0_col1\" class=\"col_heading level0 col1\" >Accuracy</th>\n",
       "      <th id=\"T_73912_level0_col2\" class=\"col_heading level0 col2\" >AUC</th>\n",
       "      <th id=\"T_73912_level0_col3\" class=\"col_heading level0 col3\" >Recall</th>\n",
       "      <th id=\"T_73912_level0_col4\" class=\"col_heading level0 col4\" >Prec.</th>\n",
       "      <th id=\"T_73912_level0_col5\" class=\"col_heading level0 col5\" >F1</th>\n",
       "      <th id=\"T_73912_level0_col6\" class=\"col_heading level0 col6\" >Kappa</th>\n",
       "      <th id=\"T_73912_level0_col7\" class=\"col_heading level0 col7\" >MCC</th>\n",
       "      <th id=\"T_73912_level0_col8\" class=\"col_heading level0 col8\" >TT (Sec)</th>\n",
       "    </tr>\n",
       "  </thead>\n",
       "  <tbody>\n",
       "    <tr>\n",
       "      <th id=\"T_73912_level0_row0\" class=\"row_heading level0 row0\" >gbc</th>\n",
       "      <td id=\"T_73912_row0_col0\" class=\"data row0 col0\" >Gradient Boosting Classifier</td>\n",
       "      <td id=\"T_73912_row0_col1\" class=\"data row0 col1\" >0.9129</td>\n",
       "      <td id=\"T_73912_row0_col2\" class=\"data row0 col2\" >0.9713</td>\n",
       "      <td id=\"T_73912_row0_col3\" class=\"data row0 col3\" >0.9171</td>\n",
       "      <td id=\"T_73912_row0_col4\" class=\"data row0 col4\" >0.9104</td>\n",
       "      <td id=\"T_73912_row0_col5\" class=\"data row0 col5\" >0.9135</td>\n",
       "      <td id=\"T_73912_row0_col6\" class=\"data row0 col6\" >0.8257</td>\n",
       "      <td id=\"T_73912_row0_col7\" class=\"data row0 col7\" >0.8262</td>\n",
       "      <td id=\"T_73912_row0_col8\" class=\"data row0 col8\" >0.0280</td>\n",
       "    </tr>\n",
       "    <tr>\n",
       "      <th id=\"T_73912_level0_row1\" class=\"row_heading level0 row1\" >rf</th>\n",
       "      <td id=\"T_73912_row1_col0\" class=\"data row1 col0\" >Random Forest Classifier</td>\n",
       "      <td id=\"T_73912_row1_col1\" class=\"data row1 col1\" >0.9086</td>\n",
       "      <td id=\"T_73912_row1_col2\" class=\"data row1 col2\" >0.9608</td>\n",
       "      <td id=\"T_73912_row1_col3\" class=\"data row1 col3\" >0.9071</td>\n",
       "      <td id=\"T_73912_row1_col4\" class=\"data row1 col4\" >0.9107</td>\n",
       "      <td id=\"T_73912_row1_col5\" class=\"data row1 col5\" >0.9085</td>\n",
       "      <td id=\"T_73912_row1_col6\" class=\"data row1 col6\" >0.8171</td>\n",
       "      <td id=\"T_73912_row1_col7\" class=\"data row1 col7\" >0.8179</td>\n",
       "      <td id=\"T_73912_row1_col8\" class=\"data row1 col8\" >0.0370</td>\n",
       "    </tr>\n",
       "    <tr>\n",
       "      <th id=\"T_73912_level0_row2\" class=\"row_heading level0 row2\" >knn</th>\n",
       "      <td id=\"T_73912_row2_col0\" class=\"data row2 col0\" >K Neighbors Classifier</td>\n",
       "      <td id=\"T_73912_row2_col1\" class=\"data row2 col1\" >0.9057</td>\n",
       "      <td id=\"T_73912_row2_col2\" class=\"data row2 col2\" >0.9554</td>\n",
       "      <td id=\"T_73912_row2_col3\" class=\"data row2 col3\" >0.9129</td>\n",
       "      <td id=\"T_73912_row2_col4\" class=\"data row2 col4\" >0.9008</td>\n",
       "      <td id=\"T_73912_row2_col5\" class=\"data row2 col5\" >0.9064</td>\n",
       "      <td id=\"T_73912_row2_col6\" class=\"data row2 col6\" >0.8114</td>\n",
       "      <td id=\"T_73912_row2_col7\" class=\"data row2 col7\" >0.8123</td>\n",
       "      <td id=\"T_73912_row2_col8\" class=\"data row2 col8\" >0.0100</td>\n",
       "    </tr>\n",
       "    <tr>\n",
       "      <th id=\"T_73912_level0_row3\" class=\"row_heading level0 row3\" >ada</th>\n",
       "      <td id=\"T_73912_row3_col0\" class=\"data row3 col0\" >Ada Boost Classifier</td>\n",
       "      <td id=\"T_73912_row3_col1\" class=\"data row3 col1\" >0.9029</td>\n",
       "      <td id=\"T_73912_row3_col2\" class=\"data row3 col2\" >0.9681</td>\n",
       "      <td id=\"T_73912_row3_col3\" class=\"data row3 col3\" >0.9043</td>\n",
       "      <td id=\"T_73912_row3_col4\" class=\"data row3 col4\" >0.9029</td>\n",
       "      <td id=\"T_73912_row3_col5\" class=\"data row3 col5\" >0.9031</td>\n",
       "      <td id=\"T_73912_row3_col6\" class=\"data row3 col6\" >0.8057</td>\n",
       "      <td id=\"T_73912_row3_col7\" class=\"data row3 col7\" >0.8066</td>\n",
       "      <td id=\"T_73912_row3_col8\" class=\"data row3 col8\" >0.0150</td>\n",
       "    </tr>\n",
       "    <tr>\n",
       "      <th id=\"T_73912_level0_row4\" class=\"row_heading level0 row4\" >xgboost</th>\n",
       "      <td id=\"T_73912_row4_col0\" class=\"data row4 col0\" >Extreme Gradient Boosting</td>\n",
       "      <td id=\"T_73912_row4_col1\" class=\"data row4 col1\" >0.9021</td>\n",
       "      <td id=\"T_73912_row4_col2\" class=\"data row4 col2\" >0.9626</td>\n",
       "      <td id=\"T_73912_row4_col3\" class=\"data row4 col3\" >0.9000</td>\n",
       "      <td id=\"T_73912_row4_col4\" class=\"data row4 col4\" >0.9055</td>\n",
       "      <td id=\"T_73912_row4_col5\" class=\"data row4 col5\" >0.9021</td>\n",
       "      <td id=\"T_73912_row4_col6\" class=\"data row4 col6\" >0.8043</td>\n",
       "      <td id=\"T_73912_row4_col7\" class=\"data row4 col7\" >0.8055</td>\n",
       "      <td id=\"T_73912_row4_col8\" class=\"data row4 col8\" >0.0110</td>\n",
       "    </tr>\n",
       "    <tr>\n",
       "      <th id=\"T_73912_level0_row5\" class=\"row_heading level0 row5\" >et</th>\n",
       "      <td id=\"T_73912_row5_col0\" class=\"data row5 col0\" >Extra Trees Classifier</td>\n",
       "      <td id=\"T_73912_row5_col1\" class=\"data row5 col1\" >0.8957</td>\n",
       "      <td id=\"T_73912_row5_col2\" class=\"data row5 col2\" >0.9586</td>\n",
       "      <td id=\"T_73912_row5_col3\" class=\"data row5 col3\" >0.8886</td>\n",
       "      <td id=\"T_73912_row5_col4\" class=\"data row5 col4\" >0.9035</td>\n",
       "      <td id=\"T_73912_row5_col5\" class=\"data row5 col5\" >0.8951</td>\n",
       "      <td id=\"T_73912_row5_col6\" class=\"data row5 col6\" >0.7914</td>\n",
       "      <td id=\"T_73912_row5_col7\" class=\"data row5 col7\" >0.7930</td>\n",
       "      <td id=\"T_73912_row5_col8\" class=\"data row5 col8\" >0.0260</td>\n",
       "    </tr>\n",
       "    <tr>\n",
       "      <th id=\"T_73912_level0_row6\" class=\"row_heading level0 row6\" >lightgbm</th>\n",
       "      <td id=\"T_73912_row6_col0\" class=\"data row6 col0\" >Light Gradient Boosting Machine</td>\n",
       "      <td id=\"T_73912_row6_col1\" class=\"data row6 col1\" >0.8957</td>\n",
       "      <td id=\"T_73912_row6_col2\" class=\"data row6 col2\" >0.9649</td>\n",
       "      <td id=\"T_73912_row6_col3\" class=\"data row6 col3\" >0.8943</td>\n",
       "      <td id=\"T_73912_row6_col4\" class=\"data row6 col4\" >0.8987</td>\n",
       "      <td id=\"T_73912_row6_col5\" class=\"data row6 col5\" >0.8956</td>\n",
       "      <td id=\"T_73912_row6_col6\" class=\"data row6 col6\" >0.7914</td>\n",
       "      <td id=\"T_73912_row6_col7\" class=\"data row6 col7\" >0.7930</td>\n",
       "      <td id=\"T_73912_row6_col8\" class=\"data row6 col8\" >0.1940</td>\n",
       "    </tr>\n",
       "    <tr>\n",
       "      <th id=\"T_73912_level0_row7\" class=\"row_heading level0 row7\" >dt</th>\n",
       "      <td id=\"T_73912_row7_col0\" class=\"data row7 col0\" >Decision Tree Classifier</td>\n",
       "      <td id=\"T_73912_row7_col1\" class=\"data row7 col1\" >0.8843</td>\n",
       "      <td id=\"T_73912_row7_col2\" class=\"data row7 col2\" >0.8843</td>\n",
       "      <td id=\"T_73912_row7_col3\" class=\"data row7 col3\" >0.8771</td>\n",
       "      <td id=\"T_73912_row7_col4\" class=\"data row7 col4\" >0.8923</td>\n",
       "      <td id=\"T_73912_row7_col5\" class=\"data row7 col5\" >0.8833</td>\n",
       "      <td id=\"T_73912_row7_col6\" class=\"data row7 col6\" >0.7686</td>\n",
       "      <td id=\"T_73912_row7_col7\" class=\"data row7 col7\" >0.7709</td>\n",
       "      <td id=\"T_73912_row7_col8\" class=\"data row7 col8\" >0.0040</td>\n",
       "    </tr>\n",
       "    <tr>\n",
       "      <th id=\"T_73912_level0_row8\" class=\"row_heading level0 row8\" >lr</th>\n",
       "      <td id=\"T_73912_row8_col0\" class=\"data row8 col0\" >Logistic Regression</td>\n",
       "      <td id=\"T_73912_row8_col1\" class=\"data row8 col1\" >0.8493</td>\n",
       "      <td id=\"T_73912_row8_col2\" class=\"data row8 col2\" >0.9338</td>\n",
       "      <td id=\"T_73912_row8_col3\" class=\"data row8 col3\" >0.8514</td>\n",
       "      <td id=\"T_73912_row8_col4\" class=\"data row8 col4\" >0.8500</td>\n",
       "      <td id=\"T_73912_row8_col5\" class=\"data row8 col5\" >0.8497</td>\n",
       "      <td id=\"T_73912_row8_col6\" class=\"data row8 col6\" >0.6986</td>\n",
       "      <td id=\"T_73912_row8_col7\" class=\"data row8 col7\" >0.7002</td>\n",
       "      <td id=\"T_73912_row8_col8\" class=\"data row8 col8\" >0.3440</td>\n",
       "    </tr>\n",
       "    <tr>\n",
       "      <th id=\"T_73912_level0_row9\" class=\"row_heading level0 row9\" >qda</th>\n",
       "      <td id=\"T_73912_row9_col0\" class=\"data row9 col0\" >Quadratic Discriminant Analysis</td>\n",
       "      <td id=\"T_73912_row9_col1\" class=\"data row9 col1\" >0.8464</td>\n",
       "      <td id=\"T_73912_row9_col2\" class=\"data row9 col2\" >0.9334</td>\n",
       "      <td id=\"T_73912_row9_col3\" class=\"data row9 col3\" >0.8443</td>\n",
       "      <td id=\"T_73912_row9_col4\" class=\"data row9 col4\" >0.8502</td>\n",
       "      <td id=\"T_73912_row9_col5\" class=\"data row9 col5\" >0.8462</td>\n",
       "      <td id=\"T_73912_row9_col6\" class=\"data row9 col6\" >0.6929</td>\n",
       "      <td id=\"T_73912_row9_col7\" class=\"data row9 col7\" >0.6946</td>\n",
       "      <td id=\"T_73912_row9_col8\" class=\"data row9 col8\" >0.0040</td>\n",
       "    </tr>\n",
       "    <tr>\n",
       "      <th id=\"T_73912_level0_row10\" class=\"row_heading level0 row10\" >ridge</th>\n",
       "      <td id=\"T_73912_row10_col0\" class=\"data row10 col0\" >Ridge Classifier</td>\n",
       "      <td id=\"T_73912_row10_col1\" class=\"data row10 col1\" >0.8457</td>\n",
       "      <td id=\"T_73912_row10_col2\" class=\"data row10 col2\" >0.9335</td>\n",
       "      <td id=\"T_73912_row10_col3\" class=\"data row10 col3\" >0.8443</td>\n",
       "      <td id=\"T_73912_row10_col4\" class=\"data row10 col4\" >0.8491</td>\n",
       "      <td id=\"T_73912_row10_col5\" class=\"data row10 col5\" >0.8456</td>\n",
       "      <td id=\"T_73912_row10_col6\" class=\"data row10 col6\" >0.6914</td>\n",
       "      <td id=\"T_73912_row10_col7\" class=\"data row10 col7\" >0.6933</td>\n",
       "      <td id=\"T_73912_row10_col8\" class=\"data row10 col8\" >0.0040</td>\n",
       "    </tr>\n",
       "    <tr>\n",
       "      <th id=\"T_73912_level0_row11\" class=\"row_heading level0 row11\" >lda</th>\n",
       "      <td id=\"T_73912_row11_col0\" class=\"data row11 col0\" >Linear Discriminant Analysis</td>\n",
       "      <td id=\"T_73912_row11_col1\" class=\"data row11 col1\" >0.8457</td>\n",
       "      <td id=\"T_73912_row11_col2\" class=\"data row11 col2\" >0.9335</td>\n",
       "      <td id=\"T_73912_row11_col3\" class=\"data row11 col3\" >0.8443</td>\n",
       "      <td id=\"T_73912_row11_col4\" class=\"data row11 col4\" >0.8491</td>\n",
       "      <td id=\"T_73912_row11_col5\" class=\"data row11 col5\" >0.8456</td>\n",
       "      <td id=\"T_73912_row11_col6\" class=\"data row11 col6\" >0.6914</td>\n",
       "      <td id=\"T_73912_row11_col7\" class=\"data row11 col7\" >0.6933</td>\n",
       "      <td id=\"T_73912_row11_col8\" class=\"data row11 col8\" >0.0040</td>\n",
       "    </tr>\n",
       "    <tr>\n",
       "      <th id=\"T_73912_level0_row12\" class=\"row_heading level0 row12\" >nb</th>\n",
       "      <td id=\"T_73912_row12_col0\" class=\"data row12 col0\" >Naive Bayes</td>\n",
       "      <td id=\"T_73912_row12_col1\" class=\"data row12 col1\" >0.8450</td>\n",
       "      <td id=\"T_73912_row12_col2\" class=\"data row12 col2\" >0.9337</td>\n",
       "      <td id=\"T_73912_row12_col3\" class=\"data row12 col3\" >0.8429</td>\n",
       "      <td id=\"T_73912_row12_col4\" class=\"data row12 col4\" >0.8488</td>\n",
       "      <td id=\"T_73912_row12_col5\" class=\"data row12 col5\" >0.8447</td>\n",
       "      <td id=\"T_73912_row12_col6\" class=\"data row12 col6\" >0.6900</td>\n",
       "      <td id=\"T_73912_row12_col7\" class=\"data row12 col7\" >0.6919</td>\n",
       "      <td id=\"T_73912_row12_col8\" class=\"data row12 col8\" >0.0040</td>\n",
       "    </tr>\n",
       "    <tr>\n",
       "      <th id=\"T_73912_level0_row13\" class=\"row_heading level0 row13\" >svm</th>\n",
       "      <td id=\"T_73912_row13_col0\" class=\"data row13 col0\" >SVM - Linear Kernel</td>\n",
       "      <td id=\"T_73912_row13_col1\" class=\"data row13 col1\" >0.7700</td>\n",
       "      <td id=\"T_73912_row13_col2\" class=\"data row13 col2\" >0.9086</td>\n",
       "      <td id=\"T_73912_row13_col3\" class=\"data row13 col3\" >0.9000</td>\n",
       "      <td id=\"T_73912_row13_col4\" class=\"data row13 col4\" >0.7360</td>\n",
       "      <td id=\"T_73912_row13_col5\" class=\"data row13 col5\" >0.7995</td>\n",
       "      <td id=\"T_73912_row13_col6\" class=\"data row13 col6\" >0.5400</td>\n",
       "      <td id=\"T_73912_row13_col7\" class=\"data row13 col7\" >0.5787</td>\n",
       "      <td id=\"T_73912_row13_col8\" class=\"data row13 col8\" >0.0070</td>\n",
       "    </tr>\n",
       "    <tr>\n",
       "      <th id=\"T_73912_level0_row14\" class=\"row_heading level0 row14\" >dummy</th>\n",
       "      <td id=\"T_73912_row14_col0\" class=\"data row14 col0\" >Dummy Classifier</td>\n",
       "      <td id=\"T_73912_row14_col1\" class=\"data row14 col1\" >0.5000</td>\n",
       "      <td id=\"T_73912_row14_col2\" class=\"data row14 col2\" >0.5000</td>\n",
       "      <td id=\"T_73912_row14_col3\" class=\"data row14 col3\" >0.0000</td>\n",
       "      <td id=\"T_73912_row14_col4\" class=\"data row14 col4\" >0.0000</td>\n",
       "      <td id=\"T_73912_row14_col5\" class=\"data row14 col5\" >0.0000</td>\n",
       "      <td id=\"T_73912_row14_col6\" class=\"data row14 col6\" >0.0000</td>\n",
       "      <td id=\"T_73912_row14_col7\" class=\"data row14 col7\" >0.0000</td>\n",
       "      <td id=\"T_73912_row14_col8\" class=\"data row14 col8\" >0.0040</td>\n",
       "    </tr>\n",
       "  </tbody>\n",
       "</table>\n"
      ],
      "text/plain": [
       "<pandas.io.formats.style.Styler at 0x179eb2050>"
      ]
     },
     "metadata": {},
     "output_type": "display_data"
    },
    {
     "data": {
      "text/html": [],
      "text/plain": [
       "<IPython.core.display.HTML object>"
      ]
     },
     "metadata": {},
     "output_type": "display_data"
    }
   ],
   "source": [
    "best = compare_models()"
   ]
  },
  {
   "cell_type": "code",
   "execution_count": 13,
   "metadata": {},
   "outputs": [
    {
     "data": {
      "text/html": [],
      "text/plain": [
       "<IPython.core.display.HTML object>"
      ]
     },
     "metadata": {},
     "output_type": "display_data"
    },
    {
     "data": {
      "text/html": [
       "<style type=\"text/css\">\n",
       "#T_d5555_row10_col0, #T_d5555_row10_col1, #T_d5555_row10_col2, #T_d5555_row10_col3, #T_d5555_row10_col4, #T_d5555_row10_col5, #T_d5555_row10_col6 {\n",
       "  background: yellow;\n",
       "}\n",
       "</style>\n",
       "<table id=\"T_d5555\">\n",
       "  <thead>\n",
       "    <tr>\n",
       "      <th class=\"blank level0\" >&nbsp;</th>\n",
       "      <th id=\"T_d5555_level0_col0\" class=\"col_heading level0 col0\" >Accuracy</th>\n",
       "      <th id=\"T_d5555_level0_col1\" class=\"col_heading level0 col1\" >AUC</th>\n",
       "      <th id=\"T_d5555_level0_col2\" class=\"col_heading level0 col2\" >Recall</th>\n",
       "      <th id=\"T_d5555_level0_col3\" class=\"col_heading level0 col3\" >Prec.</th>\n",
       "      <th id=\"T_d5555_level0_col4\" class=\"col_heading level0 col4\" >F1</th>\n",
       "      <th id=\"T_d5555_level0_col5\" class=\"col_heading level0 col5\" >Kappa</th>\n",
       "      <th id=\"T_d5555_level0_col6\" class=\"col_heading level0 col6\" >MCC</th>\n",
       "    </tr>\n",
       "    <tr>\n",
       "      <th class=\"index_name level0\" >Fold</th>\n",
       "      <th class=\"blank col0\" >&nbsp;</th>\n",
       "      <th class=\"blank col1\" >&nbsp;</th>\n",
       "      <th class=\"blank col2\" >&nbsp;</th>\n",
       "      <th class=\"blank col3\" >&nbsp;</th>\n",
       "      <th class=\"blank col4\" >&nbsp;</th>\n",
       "      <th class=\"blank col5\" >&nbsp;</th>\n",
       "      <th class=\"blank col6\" >&nbsp;</th>\n",
       "    </tr>\n",
       "  </thead>\n",
       "  <tbody>\n",
       "    <tr>\n",
       "      <th id=\"T_d5555_level0_row0\" class=\"row_heading level0 row0\" >0</th>\n",
       "      <td id=\"T_d5555_row0_col0\" class=\"data row0 col0\" >0.8929</td>\n",
       "      <td id=\"T_d5555_row0_col1\" class=\"data row0 col1\" >0.9443</td>\n",
       "      <td id=\"T_d5555_row0_col2\" class=\"data row0 col2\" >0.8571</td>\n",
       "      <td id=\"T_d5555_row0_col3\" class=\"data row0 col3\" >0.9231</td>\n",
       "      <td id=\"T_d5555_row0_col4\" class=\"data row0 col4\" >0.8889</td>\n",
       "      <td id=\"T_d5555_row0_col5\" class=\"data row0 col5\" >0.7857</td>\n",
       "      <td id=\"T_d5555_row0_col6\" class=\"data row0 col6\" >0.7877</td>\n",
       "    </tr>\n",
       "    <tr>\n",
       "      <th id=\"T_d5555_level0_row1\" class=\"row_heading level0 row1\" >1</th>\n",
       "      <td id=\"T_d5555_row1_col0\" class=\"data row1 col0\" >0.9071</td>\n",
       "      <td id=\"T_d5555_row1_col1\" class=\"data row1 col1\" >0.9661</td>\n",
       "      <td id=\"T_d5555_row1_col2\" class=\"data row1 col2\" >0.9571</td>\n",
       "      <td id=\"T_d5555_row1_col3\" class=\"data row1 col3\" >0.8701</td>\n",
       "      <td id=\"T_d5555_row1_col4\" class=\"data row1 col4\" >0.9116</td>\n",
       "      <td id=\"T_d5555_row1_col5\" class=\"data row1 col5\" >0.8143</td>\n",
       "      <td id=\"T_d5555_row1_col6\" class=\"data row1 col6\" >0.8184</td>\n",
       "    </tr>\n",
       "    <tr>\n",
       "      <th id=\"T_d5555_level0_row2\" class=\"row_heading level0 row2\" >2</th>\n",
       "      <td id=\"T_d5555_row2_col0\" class=\"data row2 col0\" >0.9000</td>\n",
       "      <td id=\"T_d5555_row2_col1\" class=\"data row2 col1\" >0.9745</td>\n",
       "      <td id=\"T_d5555_row2_col2\" class=\"data row2 col2\" >0.9143</td>\n",
       "      <td id=\"T_d5555_row2_col3\" class=\"data row2 col3\" >0.8889</td>\n",
       "      <td id=\"T_d5555_row2_col4\" class=\"data row2 col4\" >0.9014</td>\n",
       "      <td id=\"T_d5555_row2_col5\" class=\"data row2 col5\" >0.8000</td>\n",
       "      <td id=\"T_d5555_row2_col6\" class=\"data row2 col6\" >0.8003</td>\n",
       "    </tr>\n",
       "    <tr>\n",
       "      <th id=\"T_d5555_level0_row3\" class=\"row_heading level0 row3\" >3</th>\n",
       "      <td id=\"T_d5555_row3_col0\" class=\"data row3 col0\" >0.9143</td>\n",
       "      <td id=\"T_d5555_row3_col1\" class=\"data row3 col1\" >0.9602</td>\n",
       "      <td id=\"T_d5555_row3_col2\" class=\"data row3 col2\" >0.8714</td>\n",
       "      <td id=\"T_d5555_row3_col3\" class=\"data row3 col3\" >0.9531</td>\n",
       "      <td id=\"T_d5555_row3_col4\" class=\"data row3 col4\" >0.9104</td>\n",
       "      <td id=\"T_d5555_row3_col5\" class=\"data row3 col5\" >0.8286</td>\n",
       "      <td id=\"T_d5555_row3_col6\" class=\"data row3 col6\" >0.8316</td>\n",
       "    </tr>\n",
       "    <tr>\n",
       "      <th id=\"T_d5555_level0_row4\" class=\"row_heading level0 row4\" >4</th>\n",
       "      <td id=\"T_d5555_row4_col0\" class=\"data row4 col0\" >0.9286</td>\n",
       "      <td id=\"T_d5555_row4_col1\" class=\"data row4 col1\" >0.9678</td>\n",
       "      <td id=\"T_d5555_row4_col2\" class=\"data row4 col2\" >0.9429</td>\n",
       "      <td id=\"T_d5555_row4_col3\" class=\"data row4 col3\" >0.9167</td>\n",
       "      <td id=\"T_d5555_row4_col4\" class=\"data row4 col4\" >0.9296</td>\n",
       "      <td id=\"T_d5555_row4_col5\" class=\"data row4 col5\" >0.8571</td>\n",
       "      <td id=\"T_d5555_row4_col6\" class=\"data row4 col6\" >0.8575</td>\n",
       "    </tr>\n",
       "    <tr>\n",
       "      <th id=\"T_d5555_level0_row5\" class=\"row_heading level0 row5\" >5</th>\n",
       "      <td id=\"T_d5555_row5_col0\" class=\"data row5 col0\" >0.9357</td>\n",
       "      <td id=\"T_d5555_row5_col1\" class=\"data row5 col1\" >0.9873</td>\n",
       "      <td id=\"T_d5555_row5_col2\" class=\"data row5 col2\" >0.9000</td>\n",
       "      <td id=\"T_d5555_row5_col3\" class=\"data row5 col3\" >0.9692</td>\n",
       "      <td id=\"T_d5555_row5_col4\" class=\"data row5 col4\" >0.9333</td>\n",
       "      <td id=\"T_d5555_row5_col5\" class=\"data row5 col5\" >0.8714</td>\n",
       "      <td id=\"T_d5555_row5_col6\" class=\"data row5 col6\" >0.8737</td>\n",
       "    </tr>\n",
       "    <tr>\n",
       "      <th id=\"T_d5555_level0_row6\" class=\"row_heading level0 row6\" >6</th>\n",
       "      <td id=\"T_d5555_row6_col0\" class=\"data row6 col0\" >0.9214</td>\n",
       "      <td id=\"T_d5555_row6_col1\" class=\"data row6 col1\" >0.9838</td>\n",
       "      <td id=\"T_d5555_row6_col2\" class=\"data row6 col2\" >0.9143</td>\n",
       "      <td id=\"T_d5555_row6_col3\" class=\"data row6 col3\" >0.9275</td>\n",
       "      <td id=\"T_d5555_row6_col4\" class=\"data row6 col4\" >0.9209</td>\n",
       "      <td id=\"T_d5555_row6_col5\" class=\"data row6 col5\" >0.8429</td>\n",
       "      <td id=\"T_d5555_row6_col6\" class=\"data row6 col6\" >0.8429</td>\n",
       "    </tr>\n",
       "    <tr>\n",
       "      <th id=\"T_d5555_level0_row7\" class=\"row_heading level0 row7\" >7</th>\n",
       "      <td id=\"T_d5555_row7_col0\" class=\"data row7 col0\" >0.8429</td>\n",
       "      <td id=\"T_d5555_row7_col1\" class=\"data row7 col1\" >0.9169</td>\n",
       "      <td id=\"T_d5555_row7_col2\" class=\"data row7 col2\" >0.8571</td>\n",
       "      <td id=\"T_d5555_row7_col3\" class=\"data row7 col3\" >0.8333</td>\n",
       "      <td id=\"T_d5555_row7_col4\" class=\"data row7 col4\" >0.8451</td>\n",
       "      <td id=\"T_d5555_row7_col5\" class=\"data row7 col5\" >0.6857</td>\n",
       "      <td id=\"T_d5555_row7_col6\" class=\"data row7 col6\" >0.6860</td>\n",
       "    </tr>\n",
       "    <tr>\n",
       "      <th id=\"T_d5555_level0_row8\" class=\"row_heading level0 row8\" >8</th>\n",
       "      <td id=\"T_d5555_row8_col0\" class=\"data row8 col0\" >0.8643</td>\n",
       "      <td id=\"T_d5555_row8_col1\" class=\"data row8 col1\" >0.9436</td>\n",
       "      <td id=\"T_d5555_row8_col2\" class=\"data row8 col2\" >0.8714</td>\n",
       "      <td id=\"T_d5555_row8_col3\" class=\"data row8 col3\" >0.8592</td>\n",
       "      <td id=\"T_d5555_row8_col4\" class=\"data row8 col4\" >0.8652</td>\n",
       "      <td id=\"T_d5555_row8_col5\" class=\"data row8 col5\" >0.7286</td>\n",
       "      <td id=\"T_d5555_row8_col6\" class=\"data row8 col6\" >0.7286</td>\n",
       "    </tr>\n",
       "    <tr>\n",
       "      <th id=\"T_d5555_level0_row9\" class=\"row_heading level0 row9\" >9</th>\n",
       "      <td id=\"T_d5555_row9_col0\" class=\"data row9 col0\" >0.9143</td>\n",
       "      <td id=\"T_d5555_row9_col1\" class=\"data row9 col1\" >0.9816</td>\n",
       "      <td id=\"T_d5555_row9_col2\" class=\"data row9 col2\" >0.9143</td>\n",
       "      <td id=\"T_d5555_row9_col3\" class=\"data row9 col3\" >0.9143</td>\n",
       "      <td id=\"T_d5555_row9_col4\" class=\"data row9 col4\" >0.9143</td>\n",
       "      <td id=\"T_d5555_row9_col5\" class=\"data row9 col5\" >0.8286</td>\n",
       "      <td id=\"T_d5555_row9_col6\" class=\"data row9 col6\" >0.8286</td>\n",
       "    </tr>\n",
       "    <tr>\n",
       "      <th id=\"T_d5555_level0_row10\" class=\"row_heading level0 row10\" >Mean</th>\n",
       "      <td id=\"T_d5555_row10_col0\" class=\"data row10 col0\" >0.9021</td>\n",
       "      <td id=\"T_d5555_row10_col1\" class=\"data row10 col1\" >0.9626</td>\n",
       "      <td id=\"T_d5555_row10_col2\" class=\"data row10 col2\" >0.9000</td>\n",
       "      <td id=\"T_d5555_row10_col3\" class=\"data row10 col3\" >0.9055</td>\n",
       "      <td id=\"T_d5555_row10_col4\" class=\"data row10 col4\" >0.9021</td>\n",
       "      <td id=\"T_d5555_row10_col5\" class=\"data row10 col5\" >0.8043</td>\n",
       "      <td id=\"T_d5555_row10_col6\" class=\"data row10 col6\" >0.8055</td>\n",
       "    </tr>\n",
       "    <tr>\n",
       "      <th id=\"T_d5555_level0_row11\" class=\"row_heading level0 row11\" >Std</th>\n",
       "      <td id=\"T_d5555_row11_col0\" class=\"data row11 col0\" >0.0275</td>\n",
       "      <td id=\"T_d5555_row11_col1\" class=\"data row11 col1\" >0.0210</td>\n",
       "      <td id=\"T_d5555_row11_col2\" class=\"data row11 col2\" >0.0332</td>\n",
       "      <td id=\"T_d5555_row11_col3\" class=\"data row11 col3\" >0.0403</td>\n",
       "      <td id=\"T_d5555_row11_col4\" class=\"data row11 col4\" >0.0268</td>\n",
       "      <td id=\"T_d5555_row11_col5\" class=\"data row11 col5\" >0.0550</td>\n",
       "      <td id=\"T_d5555_row11_col6\" class=\"data row11 col6\" >0.0554</td>\n",
       "    </tr>\n",
       "  </tbody>\n",
       "</table>\n"
      ],
      "text/plain": [
       "<pandas.io.formats.style.Styler at 0x1798ccc50>"
      ]
     },
     "metadata": {},
     "output_type": "display_data"
    },
    {
     "data": {
      "text/html": [],
      "text/plain": [
       "<IPython.core.display.HTML object>"
      ]
     },
     "metadata": {},
     "output_type": "display_data"
    }
   ],
   "source": [
    "xgb = create_model('xgboost')"
   ]
  }
 ],
 "metadata": {
  "kernelspec": {
   "display_name": "python311",
   "language": "python",
   "name": "python3"
  },
  "language_info": {
   "codemirror_mode": {
    "name": "ipython",
    "version": 3
   },
   "file_extension": ".py",
   "mimetype": "text/x-python",
   "name": "python",
   "nbconvert_exporter": "python",
   "pygments_lexer": "ipython3",
   "version": "3.11.0"
  }
 },
 "nbformat": 4,
 "nbformat_minor": 2
}
