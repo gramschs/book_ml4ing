{
 "cells": [
  {
   "cell_type": "markdown",
   "id": "eed89424",
   "metadata": {},
   "source": [
    "# Pandas anstatt Excel\n",
    "\n",
    "Nachdem wir mit dem Scikit-Learn-Modell Perzeptron kleine, händisch erzeugte\n",
    "Beispiele klassifiziert haben, werden wir in den nächsten Abschnitten größere\n",
    "Datensätze klassifizieren. Typischerweise liegen größere Datensätze in Form von\n",
    "Tabllen vor. Das verwendetet Datenformat variiert dabei. Manchnal liegen die\n",
    "Daten im Excel-Format vor, sehr oft jedoch auch im CSV-Format. Davei steht CSV\n",
    "als Abkürzung für Comma Separated Values, also Werte die durch ein Komma\n",
    "getrennt werden.\n",
    "\n",
    "Um Daten in Tabellenform einzulesen und leicht zu verabeiten könnnen. gibt es in\n",
    "Python das Pandas-Modul, das wir uns nun näher ansehen werden."
   ]
  }
 ],
 "metadata": {
  "jupytext": {
   "formats": "ipynb,md:myst",
   "text_representation": {
    "extension": ".md",
    "format_name": "myst",
    "format_version": 0.13,
    "jupytext_version": "1.13.8"
   }
  },
  "kernelspec": {
   "display_name": "Python 3 (ipykernel)",
   "language": "python",
   "name": "python3"
  },
  "language_info": {
   "codemirror_mode": {
    "name": "ipython",
    "version": 3
   },
   "file_extension": ".py",
   "mimetype": "text/x-python",
   "name": "python",
   "nbconvert_exporter": "python",
   "pygments_lexer": "ipython3",
   "version": "3.9.13"
  },
  "source_map": [
   13
  ]
 },
 "nbformat": 4,
 "nbformat_minor": 5
}