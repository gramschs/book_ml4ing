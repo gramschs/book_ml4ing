{
 "cells": [
  {
   "cell_type": "markdown",
   "id": "73aac2a8",
   "metadata": {},
   "source": [
    "# 9. Logistische Regression\n",
    "\n",
    "Das binäre Klassifikationsverfahren des Perzeptrons sortiert Datensätze in zwei\n",
    "Klassen. Ob dabei die Entscheidung für eine Klasse sehr knapp getroffen wird\n",
    "oder eindeutig erscheint, wird dabei nicht transparent. Im Folgenden\n",
    "beschäftigen wir uns mit einem binären Klassifikationsverfahren namens\n",
    "logistische Regression, das auf einer Prognose der Klassenwahrscheinlichkeit\n",
    "basiert.\n",
    "\n",
    "Kapitelübersicht:\n",
    "\n",
    "```{tableofcontents}\n",
    "```"
   ]
  }
 ],
 "metadata": {
  "jupytext": {
   "formats": "ipynb,md:myst",
   "text_representation": {
    "extension": ".md",
    "format_name": "myst",
    "format_version": 0.13,
    "jupytext_version": "1.13.8"
   }
  },
  "kernelspec": {
   "display_name": "Python 3 (ipykernel)",
   "language": "python",
   "name": "python3"
  },
  "language_info": {
   "codemirror_mode": {
    "name": "ipython",
    "version": 3
   },
   "file_extension": ".py",
   "mimetype": "text/x-python",
   "name": "python",
   "nbconvert_exporter": "python",
   "pygments_lexer": "ipython3",
   "version": "3.10.11"
  },
  "source_map": [
   13
  ]
 },
 "nbformat": 4,
 "nbformat_minor": 5
}