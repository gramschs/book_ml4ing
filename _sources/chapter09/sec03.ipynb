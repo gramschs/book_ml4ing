{
 "cells": [
  {
   "cell_type": "markdown",
   "id": "a7ac3118",
   "metadata": {},
   "source": [
    "# 9.3 XGBoost\n",
    "\n",
    "In der bisherigen Vorlesung haben wir vor allem Pandas und Scikit-Learn benutzt.\n",
    "Zwar bietet Scikit-Learn Boosting-Verfahren an, in vielen Wettbewerben hat sich\n",
    "jedoch eine andere Bibliothek durchgesetzt, die eine optimierte Variante des\n",
    "Stochastic Gradient Boosting anbietet: **XGBoost**.\n",
    "\n",
    "```{admonition} Warnung\n",
    ":class: warning\n",
    "Falls bei Ihnen XGBoost nicht installiert sein sollte, folgen Sie bitte den Anweisungen auf der Internesetseite [https://xgboost.readthedocs.io](https://xgboost.readthedocs.io/en/stable/install.html) und installieren Sie XGBoost jetzt nach.\n",
    "```\n",
    "\n",
    "\n",
    "## Lernziele\n",
    "\n",
    "```{admonition} Lernziele\n",
    ":class: goals\n",
    "* Sie können XGBoost für Regressions- und Klassifikationsaufgaben einsetzen.\n",
    "* Sie wissen, wie Sie mit Analysen der Maßzahlen Fehler und Logloss für\n",
    "  Trainings- und Testdaten beurteilen können, ob Überanpassung (Overfitting)\n",
    "  vorliegt.\n",
    "* Sie kennen die Methode **Frühes Stoppen** zur Reduzierung der Überanpassung\n",
    "  (Overfitting).\n",
    "* Sie wissen, dass XGBoost nicht manuell feinjustiert werden sollte, sondern mit\n",
    "  Gittersuche oder weiteren Bibliotheken (z.B. Optuna).\n",
    "```\n",
    "\n",
    "\n",
    "## XGBoost benutzt Scikit-Learn API\n",
    "\n",
    "XGBoost steht für e**X**treme **G**radient **Boost**ing und ist aus\n",
    "Performancegründen in der Programmiersprache C++ implementiert. Für\n",
    "Python-Programmier wurde ein Python-Modul mit dem Ziel geschaffen, die gleichen\n",
    "Schnittstellen wie Scikit-Learn anzubieten, so dass kaum Einarbeitungszeit in\n",
    "eine neue Bibliothek erforderlich ist. Vor allem benötigen Data Scientists auch\n",
    "keine C++\\-Programmierkenntnisse, sondern können weiterhin mit Python arbeiten.\n",
    "\n",
    "Wir bleiben bei unserem Beispiel mit der Verkaufsaktion im Autohaus aus dem\n",
    "vorherigen Kapitel."
   ]
  },
  {
   "cell_type": "code",
   "execution_count": 1,
   "id": "e653a3ed",
   "metadata": {},
   "outputs": [],
   "source": [
    "import pandas as pd \n",
    "from sklearn.datasets import make_moons\n",
    "\n",
    "# Erzeugung künstlicher Daten\n",
    "X_array, y_array = make_moons(n_samples=120, random_state=0, noise=0.3)\n",
    "\n",
    "daten = pd.DataFrame({\n",
    "    'Kilometerstand [km]': 10000 * (X_array[:,0] + 2),\n",
    "    'Preis [EUR]': 5000 * (X_array[:,1] + 2),\n",
    "    'verkauft': y_array,\n",
    "    })"
   ]
  },
  {
   "cell_type": "markdown",
   "id": "78215d8a",
   "metadata": {},
   "source": [
    "XGBoost kann Pandas DataFrames nicht verarbeiten, sondern benötigt die reinen\n",
    "Zahlenwerte in Form von Matrizen. Das ist in der Tat kein Problem, denn die\n",
    "Datenstruktur DataFrame stellt die reinen Matrizen über die Methode `.values`\n",
    "direkt zur Verfügung."
   ]
  },
  {
   "cell_type": "code",
   "execution_count": 2,
   "id": "3eeb86b5",
   "metadata": {},
   "outputs": [],
   "source": [
    "# Adaption der Daten\n",
    "X = daten[['Kilometerstand [km]', 'Preis [EUR]']].values\n",
    "y = daten['verkauft'].values"
   ]
  },
  {
   "cell_type": "markdown",
   "id": "d986e092",
   "metadata": {},
   "source": [
    "Als nächstes importieren wir XGBoost. Es ist üblich, das ganze Modul zu\n",
    "importieren und mit `xgb` abzukürzen. Danach initialisieren wir das\n",
    "Klassifikationsmodell `XGBClassifier` und trainieren es auf den Daten."
   ]
  },
  {
   "cell_type": "code",
   "execution_count": 3,
   "id": "2577b1c9",
   "metadata": {},
   "outputs": [
    {
     "data": {
      "text/html": [
       "<style>#sk-container-id-1 {color: black;}#sk-container-id-1 pre{padding: 0;}#sk-container-id-1 div.sk-toggleable {background-color: white;}#sk-container-id-1 label.sk-toggleable__label {cursor: pointer;display: block;width: 100%;margin-bottom: 0;padding: 0.3em;box-sizing: border-box;text-align: center;}#sk-container-id-1 label.sk-toggleable__label-arrow:before {content: \"▸\";float: left;margin-right: 0.25em;color: #696969;}#sk-container-id-1 label.sk-toggleable__label-arrow:hover:before {color: black;}#sk-container-id-1 div.sk-estimator:hover label.sk-toggleable__label-arrow:before {color: black;}#sk-container-id-1 div.sk-toggleable__content {max-height: 0;max-width: 0;overflow: hidden;text-align: left;background-color: #f0f8ff;}#sk-container-id-1 div.sk-toggleable__content pre {margin: 0.2em;color: black;border-radius: 0.25em;background-color: #f0f8ff;}#sk-container-id-1 input.sk-toggleable__control:checked~div.sk-toggleable__content {max-height: 200px;max-width: 100%;overflow: auto;}#sk-container-id-1 input.sk-toggleable__control:checked~label.sk-toggleable__label-arrow:before {content: \"▾\";}#sk-container-id-1 div.sk-estimator input.sk-toggleable__control:checked~label.sk-toggleable__label {background-color: #d4ebff;}#sk-container-id-1 div.sk-label input.sk-toggleable__control:checked~label.sk-toggleable__label {background-color: #d4ebff;}#sk-container-id-1 input.sk-hidden--visually {border: 0;clip: rect(1px 1px 1px 1px);clip: rect(1px, 1px, 1px, 1px);height: 1px;margin: -1px;overflow: hidden;padding: 0;position: absolute;width: 1px;}#sk-container-id-1 div.sk-estimator {font-family: monospace;background-color: #f0f8ff;border: 1px dotted black;border-radius: 0.25em;box-sizing: border-box;margin-bottom: 0.5em;}#sk-container-id-1 div.sk-estimator:hover {background-color: #d4ebff;}#sk-container-id-1 div.sk-parallel-item::after {content: \"\";width: 100%;border-bottom: 1px solid gray;flex-grow: 1;}#sk-container-id-1 div.sk-label:hover label.sk-toggleable__label {background-color: #d4ebff;}#sk-container-id-1 div.sk-serial::before {content: \"\";position: absolute;border-left: 1px solid gray;box-sizing: border-box;top: 0;bottom: 0;left: 50%;z-index: 0;}#sk-container-id-1 div.sk-serial {display: flex;flex-direction: column;align-items: center;background-color: white;padding-right: 0.2em;padding-left: 0.2em;position: relative;}#sk-container-id-1 div.sk-item {position: relative;z-index: 1;}#sk-container-id-1 div.sk-parallel {display: flex;align-items: stretch;justify-content: center;background-color: white;position: relative;}#sk-container-id-1 div.sk-item::before, #sk-container-id-1 div.sk-parallel-item::before {content: \"\";position: absolute;border-left: 1px solid gray;box-sizing: border-box;top: 0;bottom: 0;left: 50%;z-index: -1;}#sk-container-id-1 div.sk-parallel-item {display: flex;flex-direction: column;z-index: 1;position: relative;background-color: white;}#sk-container-id-1 div.sk-parallel-item:first-child::after {align-self: flex-end;width: 50%;}#sk-container-id-1 div.sk-parallel-item:last-child::after {align-self: flex-start;width: 50%;}#sk-container-id-1 div.sk-parallel-item:only-child::after {width: 0;}#sk-container-id-1 div.sk-dashed-wrapped {border: 1px dashed gray;margin: 0 0.4em 0.5em 0.4em;box-sizing: border-box;padding-bottom: 0.4em;background-color: white;}#sk-container-id-1 div.sk-label label {font-family: monospace;font-weight: bold;display: inline-block;line-height: 1.2em;}#sk-container-id-1 div.sk-label-container {text-align: center;}#sk-container-id-1 div.sk-container {/* jupyter's `normalize.less` sets `[hidden] { display: none; }` but bootstrap.min.css set `[hidden] { display: none !important; }` so we also need the `!important` here to be able to override the default hidden behavior on the sphinx rendered scikit-learn.org. See: https://github.com/scikit-learn/scikit-learn/issues/21755 */display: inline-block !important;position: relative;}#sk-container-id-1 div.sk-text-repr-fallback {display: none;}</style><div id=\"sk-container-id-1\" class=\"sk-top-container\"><div class=\"sk-text-repr-fallback\"><pre>XGBClassifier(base_score=None, booster=None, callbacks=None,\n",
       "              colsample_bylevel=None, colsample_bynode=None,\n",
       "              colsample_bytree=None, device=None, early_stopping_rounds=None,\n",
       "              enable_categorical=False, eval_metric=None, feature_types=None,\n",
       "              gamma=None, grow_policy=None, importance_type=None,\n",
       "              interaction_constraints=None, learning_rate=None, max_bin=None,\n",
       "              max_cat_threshold=None, max_cat_to_onehot=None,\n",
       "              max_delta_step=None, max_depth=None, max_leaves=None,\n",
       "              min_child_weight=None, missing=nan, monotone_constraints=None,\n",
       "              multi_strategy=None, n_estimators=None, n_jobs=None,\n",
       "              num_parallel_tree=None, random_state=None, ...)</pre><b>In a Jupyter environment, please rerun this cell to show the HTML representation or trust the notebook. <br />On GitHub, the HTML representation is unable to render, please try loading this page with nbviewer.org.</b></div><div class=\"sk-container\" hidden><div class=\"sk-item\"><div class=\"sk-estimator sk-toggleable\"><input class=\"sk-toggleable__control sk-hidden--visually\" id=\"sk-estimator-id-1\" type=\"checkbox\" checked><label for=\"sk-estimator-id-1\" class=\"sk-toggleable__label sk-toggleable__label-arrow\">XGBClassifier</label><div class=\"sk-toggleable__content\"><pre>XGBClassifier(base_score=None, booster=None, callbacks=None,\n",
       "              colsample_bylevel=None, colsample_bynode=None,\n",
       "              colsample_bytree=None, device=None, early_stopping_rounds=None,\n",
       "              enable_categorical=False, eval_metric=None, feature_types=None,\n",
       "              gamma=None, grow_policy=None, importance_type=None,\n",
       "              interaction_constraints=None, learning_rate=None, max_bin=None,\n",
       "              max_cat_threshold=None, max_cat_to_onehot=None,\n",
       "              max_delta_step=None, max_depth=None, max_leaves=None,\n",
       "              min_child_weight=None, missing=nan, monotone_constraints=None,\n",
       "              multi_strategy=None, n_estimators=None, n_jobs=None,\n",
       "              num_parallel_tree=None, random_state=None, ...)</pre></div></div></div></div></div>"
      ],
      "text/plain": [
       "XGBClassifier(base_score=None, booster=None, callbacks=None,\n",
       "              colsample_bylevel=None, colsample_bynode=None,\n",
       "              colsample_bytree=None, device=None, early_stopping_rounds=None,\n",
       "              enable_categorical=False, eval_metric=None, feature_types=None,\n",
       "              gamma=None, grow_policy=None, importance_type=None,\n",
       "              interaction_constraints=None, learning_rate=None, max_bin=None,\n",
       "              max_cat_threshold=None, max_cat_to_onehot=None,\n",
       "              max_delta_step=None, max_depth=None, max_leaves=None,\n",
       "              min_child_weight=None, missing=nan, monotone_constraints=None,\n",
       "              multi_strategy=None, n_estimators=None, n_jobs=None,\n",
       "              num_parallel_tree=None, random_state=None, ...)"
      ]
     },
     "execution_count": 3,
     "metadata": {},
     "output_type": "execute_result"
    }
   ],
   "source": [
    "import xgboost as xgb \n",
    "\n",
    "modell = xgb.XGBClassifier()\n",
    "modell.fit(X,y)"
   ]
  },
  {
   "cell_type": "markdown",
   "id": "98385bbc",
   "metadata": {},
   "source": [
    "Als nächstes visualisieren wir die Prognose des trainierten\n",
    "XGBoost-Klassifikators."
   ]
  },
  {
   "cell_type": "code",
   "execution_count": 4,
   "id": "44022473",
   "metadata": {},
   "outputs": [
    {
     "ename": "ModuleNotFoundError",
     "evalue": "No module named 'matplotlib'",
     "output_type": "error",
     "traceback": [
      "\u001b[0;31m---------------------------------------------------------------------------\u001b[0m",
      "\u001b[0;31mModuleNotFoundError\u001b[0m                       Traceback (most recent call last)",
      "Cell \u001b[0;32mIn[4], line 1\u001b[0m\n\u001b[0;32m----> 1\u001b[0m \u001b[38;5;28;01mimport\u001b[39;00m \u001b[38;5;21;01mmatplotlib\u001b[39;00m\u001b[38;5;21;01m.\u001b[39;00m\u001b[38;5;21;01mpyplot\u001b[39;00m \u001b[38;5;28;01mas\u001b[39;00m \u001b[38;5;21;01mplt\u001b[39;00m\n\u001b[1;32m      2\u001b[0m \u001b[38;5;28;01mimport\u001b[39;00m \u001b[38;5;21;01mmatplotlib\u001b[39;00m \u001b[38;5;28;01mas\u001b[39;00m \u001b[38;5;21;01mmpl\u001b[39;00m\n\u001b[1;32m      3\u001b[0m \u001b[38;5;28;01mfrom\u001b[39;00m \u001b[38;5;21;01mmatplotlib\u001b[39;00m\u001b[38;5;21;01m.\u001b[39;00m\u001b[38;5;21;01mcolors\u001b[39;00m \u001b[38;5;28;01mimport\u001b[39;00m ListedColormap\n",
      "\u001b[0;31mModuleNotFoundError\u001b[0m: No module named 'matplotlib'"
     ]
    }
   ],
   "source": [
    "import matplotlib.pyplot as plt\n",
    "import matplotlib as mpl\n",
    "from matplotlib.colors import ListedColormap\n",
    "from sklearn.inspection import DecisionBoundaryDisplay\n",
    "\n",
    "my_colormap = ListedColormap(['#EF553B33', '#636EFA33'])\n",
    "fig = DecisionBoundaryDisplay.from_estimator(modell, X,  cmap=my_colormap)\n",
    "fig.ax_.scatter(X[:,0], X[:,1], c=y, cmap=my_colormap)\n",
    "fig.ax_.set_xlabel('Kilometerstand [km]');\n",
    "fig.ax_.set_ylabel('Preis [EUR]');\n",
    "fig.ax_.set_title('XGBoost: Entscheidungsgrenzen');"
   ]
  },
  {
   "cell_type": "markdown",
   "id": "d24973b9",
   "metadata": {},
   "source": [
    "Die Entscheidungsgrenzen sehr plausibel aus.\n",
    "\n",
    "\n",
    "## XGBoost neigt stark zur Überanpassung (Overfitting)\n",
    "\n",
    "XGBoost ist bekannt für Überanpassung (Overfitting) an die Trainingsdaten. Um\n",
    "das an unserem Beispiel mit der Verkaufsaktion im Autohaus zu zeigen, fügen wir\n",
    "noch neue, unbekannte Testdaten hinzu. Dazu verdoppeln wir die Anzahl der Autos\n",
    "(`n_samples=2000`)."
   ]
  },
  {
   "cell_type": "code",
   "execution_count": null,
   "id": "b8bf0a5d",
   "metadata": {},
   "outputs": [],
   "source": [
    "# Erzeugung künstlicher Daten\n",
    "X_array, y_array = make_moons(n_samples=2000, random_state=0, noise=0.3)\n",
    "\n",
    "daten = pd.DataFrame({\n",
    "    'Kilometerstand [km]': 10000 * (X_array[:,0] + 2),\n",
    "    'Preis [EUR]': 5000 * (X_array[:,1] + 2),\n",
    "    'verkauft': y_array,\n",
    "    })\n",
    "\n",
    "X = daten[['Kilometerstand [km]', 'Preis [EUR]']].values\n",
    "y = daten['verkauft'].values"
   ]
  },
  {
   "cell_type": "markdown",
   "id": "5a23a88e",
   "metadata": {},
   "source": [
    "Anschließend teilen wir die 2000 Autos in zwei Gruppen: Trainings- und\n",
    "Testdaten."
   ]
  },
  {
   "cell_type": "code",
   "execution_count": null,
   "id": "e677f2a1",
   "metadata": {},
   "outputs": [],
   "source": [
    "from sklearn.model_selection import train_test_split\n",
    "\n",
    "X_train, X_test, y_train, y_test = train_test_split(X,y, train_size=0.5, random_state=0)"
   ]
  },
  {
   "cell_type": "markdown",
   "id": "22af02c1",
   "metadata": {},
   "source": [
    "Diesmal legen wir explizit fest, aus wievielen Modellen das Boosting-Verfahren\n",
    "bestehen soll. Dazu setzen wir `n_estimators=200`. Oft wird auch von der Anzahl\n",
    "der »Boosting-Runden« gesprochen. Das Training auf den Trainingsdaten liefert\n",
    "sehr gute Ergebnisse:"
   ]
  },
  {
   "cell_type": "code",
   "execution_count": null,
   "id": "1d27cb17",
   "metadata": {},
   "outputs": [],
   "source": [
    "import xgboost as xgb\n",
    "\n",
    "modell = xgb.XGBClassifier(n_estimators=200)\n",
    "\n",
    "modell.fit(X_train, y_train)\n",
    "\n",
    "score_train = modell.score(X_train, y_train)\n",
    "print(f'Score bezogen auf Trainingsdaten: {score_train:.2f}')\n",
    "score_test = modell.score(X_test, y_test)\n",
    "print(f'Score bezogen auf Testdaten: {score_test:.2f}')"
   ]
  },
  {
   "cell_type": "markdown",
   "id": "90e26717",
   "metadata": {},
   "source": [
    "Die Trainingsdaten werden perfekt prognostiziert. Auch bei den Testdaten\n",
    "erhalten wir ein gutes Ergebnis, das aber im Vergleich zu dem sehr guten Score\n",
    "bei den Trainingsdaten abfällt. Es fällt schwer, zu entscheiden, ob eine\n",
    "Überanpassung (Overfitting) vorliegt. XGBoost ist ein iteratives Verfahren.\n",
    "Zunächst wird Modell Nr. 1 trainiert, darauf aufbauend Modell Nr. 2 usw. Wir\n",
    "wiederholen jetzt das Training des XGBoost-Klassifikators, aber lassen durch ein\n",
    "weiteres Argument mitprotokollieren, was in den einzelnen Iterationen passiert.\n",
    "\n",
    "Zuerst legen wir fest, welche internen Bewertungskennzahlen (= Metrik, Maßzahl)\n",
    "mitprotokolliert werden sollen. Wir wählen als erste Maßzahl den Fehler, also\n",
    "die relative Anzahl der falsch klassifizierten Autos. Die zweite Maßzahl\n",
    "berechnet, wie weit die Wahrscheinlichkeit für »verkauft« oder »nicht verkauft«\n",
    "vom tatsächlichen Ergebnis weg ist. Mathmatisch etwas präziser betrachten wir\n",
    "die [Kreuzentropie](https://de.wikipedia.org/wiki/Kreuzentropie), bekannt als\n",
    "»Losslog«.\n",
    "\n",
    "Technisch setzen wir dies um, indem wir bei der Initialisierung des\n",
    "XGBoost-Modells das optionale Argument `eval_metric=['error', 'logloss']`\n",
    "setzen."
   ]
  },
  {
   "cell_type": "code",
   "execution_count": null,
   "id": "9ed61461",
   "metadata": {},
   "outputs": [],
   "source": [
    "modell = xgb.XGBClassifier(n_estimators=200, eval_metric=['error', 'logloss'])"
   ]
  },
  {
   "cell_type": "markdown",
   "id": "d659884b",
   "metadata": {},
   "source": [
    "Allerdings ist damit noch nicht festgelegt, auf welchen Daten die Fehler-Maßzahl\n",
    "und die Logloss-Maßzahl berechnet werden. Zunächst sollen beide Maßzahlen für\n",
    "die Trainingsdaten berechnet werden, dann für die Testdaten. Das erreichen wir\n",
    "mit dem optionalen Argument `eval_set=`, dem wir folgendermaßen die Trainings-\n",
    "und Testdaten mitgeben."
   ]
  },
  {
   "cell_type": "code",
   "execution_count": null,
   "id": "928736cc",
   "metadata": {},
   "outputs": [],
   "source": [
    "modell.fit(X_train, y_train, eval_set=[(X_train, y_train), (X_test, y_test)], verbose=False)"
   ]
  },
  {
   "cell_type": "markdown",
   "id": "966b973b",
   "metadata": {},
   "source": [
    "Wir setzen noch `verbose=False`, damit nicht für jedes Modell bzw. jede\n",
    "Iteration die vier Maßzahlen auf dem Bildschirm ausgegeben werden. Nach dem\n",
    "Training können wir die vier Maßzahlen mit der Methode `.evals_result()` aus dem\n",
    "trainierten Modell extrahieren. Um die Maßzahlen zu visualisieren, packen wir\n",
    "sie in einen Pandas-DataFrame."
   ]
  },
  {
   "cell_type": "code",
   "execution_count": null,
   "id": "1e642411",
   "metadata": {},
   "outputs": [],
   "source": [
    "masszahlen = modell.evals_result()\n",
    "fehler = pd.DataFrame({\n",
    "    'Fehler Trainingsdaten': masszahlen['validation_0']['error'],\n",
    "    'Fehler Testdaten': masszahlen['validation_1']['error']\n",
    "    })\n",
    "losslog = pd.DataFrame({\n",
    "    'Losslog Trainingsdaten': masszahlen['validation_0']['logloss'],\n",
    "    'Losslog Testdaten': masszahlen['validation_1']['logloss']\n",
    "    })"
   ]
  },
  {
   "cell_type": "markdown",
   "id": "272af2b5",
   "metadata": {},
   "source": [
    "Wir visualisieren Fehler und Losslog getrennt voneinander."
   ]
  },
  {
   "cell_type": "code",
   "execution_count": null,
   "id": "88597135",
   "metadata": {},
   "outputs": [],
   "source": [
    "import plotly.express as px \n",
    "\n",
    "fig = px.scatter(fehler,\n",
    "    title='Fehler in jeder Iteration (Boosting-Runde)',\n",
    "    labels={'value': 'Fehler', 'index': 'Iteration', 'variable': 'Legende'})\n",
    "fig.show()"
   ]
  },
  {
   "cell_type": "markdown",
   "id": "eed54e98",
   "metadata": {},
   "source": [
    "Der Fehler bei den Trainingsdaten wird von Boosting-Runde zu Boosting-Runde\n",
    "kleiner, aber der Fehler der Testdaten wächst. Zunächst wird der Fehler der\n",
    "Testdaten kleiner, erreicht in Minimum in der 6. Iteration, um dann wieder zu\n",
    "steigen. Dieses Verhalten ist typisch für Überanpassung (Overfitting). Etwas\n",
    "deutlicher wird dieses Phänomen, wenn wir uns die (transoformierte) Differenz\n",
    "der Wahrscheinlichkeiten ansehen, die Losslog-Maßzahl."
   ]
  },
  {
   "cell_type": "code",
   "execution_count": null,
   "id": "80f189a2",
   "metadata": {},
   "outputs": [],
   "source": [
    "import plotly.express as px \n",
    "\n",
    "fig = px.scatter(losslog,\n",
    "    title='Losslog in jeder Iteration (Boosting-Runde)',\n",
    "    labels={'value': 'Losslog', 'index': 'Iteration', 'variable': 'Legende'})\n",
    "fig.show()"
   ]
  },
  {
   "cell_type": "markdown",
   "id": "e250bba8",
   "metadata": {},
   "source": [
    "Am kleinsten ist die Losslog-Maßzahl für die Iteration 9, danach steigt die\n",
    "Losslog-Maßzahl wieder an. Am besten wäre es nach dieser Analyse gewesen, nach\n",
    "der 6. oder 9. Iteration aufzuhören, da dann die Überanpassung (Overfitting) an\n",
    "die Trainingsdaten einsetzt. \n",
    "\n",
    "\n",
    "## Bekämpfen von Überanpassung (Overfitting)\n",
    "\n",
    "Es gibt einige Hyperparamter von XGBoost, die helfen, Überanpassung\n",
    "(Overfitting) zu reduzieren. Eine Möglichkeit ist es, früher zu stoppen und\n",
    "nicht die voreingestellte Anzahl an Modellen bzw. Iterationen / Boosting-Runden\n",
    "zu durchlaufen. Das wird durch das optionale Argument `early_stopping_rounds=`\n",
    "ermöglicht. Die Zahl, die diesem Parameter übergeben wird, gibt die Anzahl der\n",
    "Boosting-Runden vor, nach denen gestoppt wird, falls sich kaum etwas an der\n",
    "Maßzahl geändert hat."
   ]
  },
  {
   "cell_type": "code",
   "execution_count": null,
   "id": "263ff435",
   "metadata": {},
   "outputs": [],
   "source": [
    "modell.fit(X_train, y_train, eval_set=[(X_train, y_train), (X_test, y_test)],     \n",
    "    early_stopping_rounds=10, verbose=False)"
   ]
  },
  {
   "cell_type": "markdown",
   "id": "97455a7e",
   "metadata": {},
   "source": [
    "Visualisiert sieht die Losslog-Statistik für das obige Beispiel so aus:"
   ]
  },
  {
   "cell_type": "code",
   "execution_count": null,
   "id": "11ed3dfd",
   "metadata": {},
   "outputs": [],
   "source": [
    "masszahlen = modell.evals_result()\n",
    "fehler = pd.DataFrame({\n",
    "    'Fehler Trainingsdaten': masszahlen['validation_0']['error'],\n",
    "    'Fehler Testdaten': masszahlen['validation_1']['error']\n",
    "    })\n",
    "losslog = pd.DataFrame({\n",
    "    'Losslog Trainingsdaten': masszahlen['validation_0']['logloss'],\n",
    "    'Losslog Testdaten': masszahlen['validation_1']['logloss']\n",
    "    })\n",
    "\n",
    "fig = px.scatter(fehler,\n",
    "    title='Frühes Stoppen: Fehler',\n",
    "    labels={'value': 'Fehler', 'index': 'Iteration', 'variable': 'Legende'})\n",
    "fig.show()\n",
    "\n",
    "fig = px.scatter(losslog,\n",
    "    title='Frühes Stoppen: Losslog',\n",
    "    labels={'value': 'Losslog', 'index': 'Iteration', 'variable': 'Legende'})\n",
    "fig.show()"
   ]
  },
  {
   "cell_type": "markdown",
   "id": "1809c60d",
   "metadata": {},
   "source": [
    "Eine weitere Möglichkeit, Überanpassung (Overfitting) zu reduzieren, besteht\n",
    "darin, die Tiefe der Entscheidungsbäume zu begrenzen. Wir benutzen\n",
    "Entscheidungsbaum-Stümpfe, die eine Tiefe von Eins haben. Das erreichen wir mit\n",
    "dem optionalen Argument `max_depth=1`."
   ]
  },
  {
   "cell_type": "code",
   "execution_count": null,
   "id": "9b9ddef8",
   "metadata": {},
   "outputs": [],
   "source": [
    "modell = xgb.XGBClassifier(max_depth=1, n_estimators=200, eval_metric=['error', 'logloss'])\n",
    "modell.fit(X_train, y_train, eval_set=[(X_train, y_train), (X_test, y_test)], verbose=False)\n",
    "\n",
    "masszahlen = modell.evals_result()\n",
    "fehler = pd.DataFrame({\n",
    "    'Fehler Trainingsdaten': masszahlen['validation_0']['error'],\n",
    "    'Fehler Testdaten': masszahlen['validation_1']['error']\n",
    "    })\n",
    "losslog = pd.DataFrame({\n",
    "    'Losslog Trainingsdaten': masszahlen['validation_0']['logloss'],\n",
    "    'Losslog Testdaten': masszahlen['validation_1']['logloss']\n",
    "    })\n",
    "\n",
    "fig = px.scatter(fehler,\n",
    "    title='Begrenzte Entscheidungsbäume: Fehler',\n",
    "    labels={'value': 'Fehler', 'index': 'Iteration', 'variable': 'Legende'})\n",
    "fig.show()\n",
    "\n",
    "fig = px.scatter(losslog,\n",
    "    title='Begrenzte Entscheidungsbäume: Losslog',\n",
    "    labels={'value': 'Losslog', 'index': 'Iteration', 'variable': 'Legende'})\n",
    "fig.show()"
   ]
  },
  {
   "cell_type": "markdown",
   "id": "26723604",
   "metadata": {},
   "source": [
    "Es gibt noch einige weitere Hyperparameter, die für \"das\" beste Modell\n",
    "feinjustiert werden können. Händisch gelingt es kaum, alle Hyperparameter\n",
    "optimal einzustellen, so dass hier eine Gittersuche oder gar eine Bibliothek wie\n",
    "[Optuna](https://github.com/optuna/optuna) eingesetzt werden sollte.\n",
    "\n",
    "\n",
    "## Zusammenfassung und Ausblick\n",
    "\n",
    "Mit XGBoost haben Sie ein ML-Modell für das überwachte Lernen kennengelernt, das\n",
    "in den vergangen Jahren sehr viele Wettbewerbe gewonnen hat. Die Mächtigkeit der\n",
    "Algorithmen führt aber häufig zur Überanpassung (Overfitting), so dass die\n",
    "sorgsame Feinjustierung der Hyperparameter besonders wichtig ist."
   ]
  }
 ],
 "metadata": {
  "jupytext": {
   "formats": "ipynb,md:myst",
   "text_representation": {
    "extension": ".md",
    "format_name": "myst",
    "format_version": 0.13,
    "jupytext_version": "1.15.2"
   }
  },
  "kernelspec": {
   "display_name": "Python 3",
   "language": "python",
   "name": "python3"
  },
  "language_info": {
   "codemirror_mode": {
    "name": "ipython",
    "version": 3
   },
   "file_extension": ".py",
   "mimetype": "text/x-python",
   "name": "python",
   "nbconvert_exporter": "python",
   "pygments_lexer": "ipython3",
   "version": "3.12.2"
  },
  "source_map": [
   13,
   55,
   67,
   74,
   78,
   84,
   89,
   94,
   106,
   118,
   130,
   135,
   139,
   146,
   157,
   179,
   181,
   189,
   191,
   199,
   209,
   213,
   220,
   229,
   236,
   254,
   257,
   261,
   281,
   288,
   311
  ]
 },
 "nbformat": 4,
 "nbformat_minor": 5
}