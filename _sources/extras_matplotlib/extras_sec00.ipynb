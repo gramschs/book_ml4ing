{
 "cells": [
  {
   "cell_type": "markdown",
   "id": "20195dff",
   "metadata": {},
   "source": [
    "# Daten visualisieren mit Matplotlib\n",
    "\n",
    "Die Visualisierung der Daten gehört zu den wichtigsten Schritten der\n",
    "Datenanalyse. Oft vermittelt die Visualisierung bereits wichtige Erkenntnisse\n",
    "über die Daten. Zu dem Modul Pandas gehören bereits einfache Methoden zur\n",
    "grafischen Darstellung der Daten, wie z.B. ``.plot(kind='line')`` oder\n",
    "``.plot(kind='bar')``. \n",
    "\n",
    "Diese Methoden basieren auf einem weiteren Python-Modul, nämlich **Matplotlib**.\n",
    "Matplotlib werden wir immer dann verwenden, wenn Grafiken komplexer werden (z.B.\n",
    "mehrere Visualisierungen in einer Grafik) oder wir Grafiken ästhetisch\n",
    "ansprechend für Publikationen oder Präsentationen aufbereiten wollen."
   ]
  }
 ],
 "metadata": {
  "jupytext": {
   "formats": "ipynb,md:myst",
   "text_representation": {
    "extension": ".md",
    "format_name": "myst",
    "format_version": 0.13,
    "jupytext_version": "1.15.2"
   }
  },
  "kernelspec": {
   "display_name": "Python 3",
   "language": "python",
   "name": "python3"
  },
  "language_info": {
   "codemirror_mode": {
    "name": "ipython",
    "version": 3
   },
   "file_extension": ".py",
   "mimetype": "text/x-python",
   "name": "python",
   "nbconvert_exporter": "python",
   "pygments_lexer": "ipython3",
   "version": "3.11.0"
  },
  "source_map": [
   13
  ]
 },
 "nbformat": 4,
 "nbformat_minor": 5
}