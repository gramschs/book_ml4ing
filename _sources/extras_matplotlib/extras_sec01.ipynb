{
 "cells": [
  {
   "cell_type": "markdown",
   "id": "6d06044a",
   "metadata": {},
   "source": [
    "# Das Modul NumPy\n",
    "\n",
    "Im letzten Kapitel haben wir gelernt, Daten in Form von Tabellen als\n",
    "Pandas-Objekte zu verwalten. Dabei arbeiten die Module Pandas, Scikit-Learn und\n",
    "auch das Visualisierungsmodul Matplotlib, das wir in diesem Kapitel kennenlernen\n",
    "werden, alle mit NumPy-Arrays. NumPy ist ein Akronym für **numerisches Python**.\n",
    "\n",
    "Die Internetseite von NumPy\n",
    "\n",
    "> https://NumPy.org\n",
    "\n",
    "behauptet sogar von ihrem eigenen Paket, dass NumPy das (!!!) fundamentale Modul\n",
    "für alle wissenschaftlichen Programme in Python ist — stimmt wahrscheinlich! Die\n",
    "Bibliothek ist im Kern in der Programmiersprache C geschrieben und bietet vor\n",
    "allem sehr effiziente Datenstrukturen für Vektoren, Matrizen und\n",
    "mehrdimensionale Arrays an.  \n",
    " \n",
    "In  diesem Abschnitt werden wir uns die grundlegenden Eigenschaften des\n",
    "**NumPy-Array** erarbeiten, um für Matplotlib und Scikit-Learn die Basis zu\n",
    "schaffen.\n",
    "\n",
    "## Lernziele\n",
    "\n",
    "```{admonition} Lernziele\n",
    ":class: important\n",
    "* Sie können **NumPy** mit seiner typischen Abkürzung **np** importieren.\n",
    "* Sie können mit **np.array()** ein NumPy-Array aus einer Liste erzeugen.\n",
    "* Sie können NumPy-Arrays, die nach einem Muster aufgebaut sind, erzeugen:\n",
    "    * Array mit Einsen: **np.ones()**\n",
    "    * Array mit Nullen: **np.zeros()**\n",
    "    * Array mit Konstante: **np.full()**\n",
    "    * Array mit vorgegebener Anzahl von Punkten in einem Intervall: **np.linspace()**\n",
    "    * Array mit vorgebener Schrittweite in einem Intervall: **np.arange()**\n",
    "* Sie können Basis-Attribute von NumPy-Arrays bestimmen wie beispielsweise\n",
    "    * Anzahl der Dimensionen: **.ndim**\n",
    "    * Größe der jeweiligen Dimension: **.shape**\n",
    "    * Gesamtgröße des Arrays: **.size**\n",
    "* Sie können NumPy-Funktionen auf NumPy-Arrays anwenden.\n",
    "```\n",
    "\n",
    "## NumPy ist schneller durch C\n",
    "\n",
    "Alle Daten lassen sich letztendlich als eine Folge von Zahlen schreiben.\n",
    "Beispielsweise kann ein Foto durch seine Pixel beschrieben werden\n",
    "zusammengesetzt aus den Werten RGB (rot - grün - blau). Python bietet dafür\n",
    "schon einen Datentyp, die Liste, in der Zahlen (Integer oder Float) gespeichert\n",
    "werden können. Da Python eine interpretierte Programmiersprache ist und da in\n",
    "der Liste auch andere Datentypen wie zum Beispiel Strings vorkommen dürfen, sind\n",
    "Listen für große Datenmengen nicht geeignet. Stattdessen stellt das Modul NumPy\n",
    "einen effizienten Datentyp zur Verfügung, das sogenannte **NumPy-Array**.  \n",
    "\n",
    "Dazu kommen noch Funktionen, die wichtig für Arrays sind wir Vektoroperationen.\n",
    "Tatsächlich sind die meisten NumPy-Operationen nicht in Python programmiert,\n",
    "sondern in C. Damit sind NumPy-Funktionen sehr effizient und das tolle daran\n",
    "ist, dass wir uns keine Gedanken über hardwarenahe Programmierung mit C oder C++\n",
    "machen müssen :-)\n",
    "\n",
    "Schauen wir uns für das Bestimmen des Maximums einer Liste von zufällig\n",
    "erzeugten Zahlen zwischen 0 und 1 an. Zunächst erzeugen wir die Liste der 100\n",
    "Zahlen. Dazu importieren wir NumPy mit seiner typischen Abkürzung `np`. im\n",
    "Untermodul `np.random`gibt es eine Funktion namens `random_sample`, die\n",
    "Zufallszahlen erzeugt."
   ]
  },
  {
   "cell_type": "code",
   "execution_count": 1,
   "id": "526f14ea",
   "metadata": {
    "vscode": {
     "languageId": "python"
    }
   },
   "outputs": [
    {
     "name": "stdout",
     "output_type": "stream",
     "text": [
      "[0.65604213 0.2386613  0.68038496 0.71420496 0.62383836 0.87654436\n",
      " 0.03426918 0.47242882 0.49559002 0.53262258 0.22773437 0.01563971\n",
      " 0.48043866 0.90573183 0.16408862 0.2668859  0.25563307 0.82779871\n",
      " 0.95698786 0.63883176 0.33380177 0.98234208 0.13107998 0.7204823\n",
      " 0.07314101 0.87071036 0.65250371 0.21732919 0.44580796 0.18685975\n",
      " 0.0676031  0.22615552 0.71134434 0.40248532 0.48791511 0.14452265\n",
      " 0.92000952 0.94373681 0.98037948 0.71464771 0.12988315 0.049554\n",
      " 0.75228313 0.33661126 0.57046405 0.63600567 0.33677514 0.01345772\n",
      " 0.9419699  0.26009263 0.91700053 0.757164   0.04326637 0.94523233\n",
      " 0.87783703 0.06524579 0.47786026 0.96238282 0.3523627  0.679155\n",
      " 0.77385199 0.84345251 0.48400939 0.11081283 0.36478519 0.99337427\n",
      " 0.37643201 0.33753609 0.61895676 0.01184956 0.44163445 0.20225852\n",
      " 0.30225616 0.47260721 0.1026571  0.40296895 0.92497137 0.33342656\n",
      " 0.13746468 0.40587466 0.78811176 0.44897263 0.61067043 0.40077197\n",
      " 0.77039868 0.04796012 0.7689392  0.89763888 0.37927293 0.51918946\n",
      " 0.10985805 0.96132724 0.00376527 0.21916036 0.8997538  0.03203582\n",
      " 0.24447379 0.12264294 0.68598825 0.76481762]\n"
     ]
    }
   ],
   "source": [
    "import numpy as np\n",
    "\n",
    "# erzeuge Liste\n",
    "M = np.random.random_sample(100)\n",
    "\n",
    "print(M)"
   ]
  },
  {
   "cell_type": "markdown",
   "id": "0707f13b",
   "metadata": {},
   "source": [
    "Als nächstes berechnen wir das Maximum dieser Zahlen mit der im Python-Kern\n",
    "eingebauten Standardfunktion `max`, dann mit `np.max`:"
   ]
  },
  {
   "cell_type": "code",
   "execution_count": 2,
   "id": "540937d7",
   "metadata": {
    "vscode": {
     "languageId": "python"
    }
   },
   "outputs": [
    {
     "name": "stdout",
     "output_type": "stream",
     "text": [
      "Standard max =  0.9933742731213875\n",
      "NumPy max =  0.9933742731213875\n"
     ]
    }
   ],
   "source": [
    "max_standard = max(M)\n",
    "max_numpy = np.max(M)\n",
    "\n",
    "print('Standard max = ', max_standard)\n",
    "print('NumPy max = ', max_numpy)"
   ]
  },
  {
   "cell_type": "markdown",
   "id": "cb2d0dbf",
   "metadata": {},
   "source": [
    "Aber wie lange haben eigentlich die Berechnungen gedauert? Bei so kleinen Listen\n",
    "lohnt es nicht, die Berechnung mit der Stoppuhr zu ermitteln, die typischen\n",
    "Rechnenzeiten sind zu kurz. Aber JupyterLab bietet ein eingebautes Kommando,\n",
    "nämlich `%timeit`. Der Vorteil dieses Kommandos ist, dass der Python-Interpreter\n",
    "bei sehr kurzen Rechenzeiten einfach den Code mehrmals durchläuft und\n",
    "Mittelwerte bildet."
   ]
  },
  {
   "cell_type": "code",
   "execution_count": 3,
   "id": "fde18bbc",
   "metadata": {
    "vscode": {
     "languageId": "python"
    }
   },
   "outputs": [
    {
     "name": "stdout",
     "output_type": "stream",
     "text": [
      "3.09 µs ± 29.6 ns per loop (mean ± std. dev. of 7 runs, 100,000 loops each)\n"
     ]
    },
    {
     "name": "stdout",
     "output_type": "stream",
     "text": [
      "1.26 µs ± 11.3 ns per loop (mean ± std. dev. of 7 runs, 1,000,000 loops each)\n"
     ]
    }
   ],
   "source": [
    "%timeit max_standard = max(M)\n",
    "%timeit max_numpy = np.max(M)"
   ]
  },
  {
   "cell_type": "markdown",
   "id": "38372bd2",
   "metadata": {},
   "source": [
    "Sie sehen, die NumPy-Variante ist erheblich schneller als die Standard-Variante.\n",
    "\n",
    "\n",
    "## Erzeugung von NumPy-Arrays\n",
    "\n",
    "Im Gegensatz zu Python-Listen enthalten NumPy-Arrays nur Elemente des gleichen\n",
    "Datentyps. Wenn eine Liste nur aus gleichen Datentypen besteht, können wir\n",
    "direkt aus der Liste ein NumPy-Array erzeugen. Dazu verwenden wir `array()` aus\n",
    "dem Numpy-Modul."
   ]
  },
  {
   "cell_type": "code",
   "execution_count": 4,
   "id": "753f99eb",
   "metadata": {
    "vscode": {
     "languageId": "python"
    }
   },
   "outputs": [
    {
     "name": "stdout",
     "output_type": "stream",
     "text": [
      "[1 2 3 4 5]\n",
      "<class 'numpy.ndarray'>\n"
     ]
    }
   ],
   "source": [
    "liste = [1, 2, 3, 4, 5]\n",
    "a = np.array(liste)\n",
    "\n",
    "print(a)\n",
    "print( type(a) )"
   ]
  },
  {
   "cell_type": "markdown",
   "id": "2a7e4fc4",
   "metadata": {},
   "source": [
    "Sehr häufig kommen aber auch zwei-  oder gar dreidimensionale Arrays vor. In der\n",
    "Mathematik würde man ein eindimensionales Array als Vektor bezeichnen, ein\n",
    "zweidimensionales Array als Matrix (= Excel-Tabelle) und ein dreidimensionales\n",
    "Array als Tensor. Die Position eines Elementes wird dabei durch ganze Zahlen\n",
    "gekennzeichnet (entspricht bei 1d-Arrays ja den Listen). Für zweidimensionale\n",
    "NumPy-Arrays brauchen wir daher zwei Indizes, für dreidimensionale Arrays drei.\n",
    "Die folgende Grafik zeigt das Nummerierungsschema:\n",
    "\n",
    "```{figure} pics/fig_numpy_array.png\n",
    "---\n",
    "width: 600px\n",
    "name: pics/fig_numpy_array\n",
    "---\n",
    "Nummerierungsschema bei NumPy-Arrays\n",
    "\n",
    "([Quelle:](https://predictivehacks.com/tips-about-NumPy-arrays/))\n",
    "```\n",
    "\n",
    "Im Folgenden fokussieren wir uns zunächst auf 1D- und 2D-Arrays und betrachten\n",
    "uns verschiedene Erzeugungsmethoden. Die entsprechende (englischsprachige)\n",
    "Dokumentation finden Sie hier:\n",
    "\n",
    "> https://numpy.org/doc/stable/reference/routines.array-creation.html\n",
    " \n",
    "Wir starten mit Arrays, die mit 0 oder 1 oder einer konstanten Zahl gefüllt\n",
    "sind. Dazu verwenden wir die NumPy-Funktionen\n",
    "* `np.zeros(dimension)`\n",
    "* `np.ones(dimension)`\n",
    "* `np.full(dimension, zahl)`"
   ]
  },
  {
   "cell_type": "code",
   "execution_count": 5,
   "id": "d56a9bf0",
   "metadata": {
    "vscode": {
     "languageId": "python"
    }
   },
   "outputs": [
    {
     "name": "stdout",
     "output_type": "stream",
     "text": [
      "[0. 0. 0. 0. 0.]\n"
     ]
    }
   ],
   "source": [
    "# 1d-Array gefüllt mit Nullen\n",
    "x = np.zeros(5)\n",
    "print(x)"
   ]
  },
  {
   "cell_type": "code",
   "execution_count": 6,
   "id": "9e3fd292",
   "metadata": {
    "vscode": {
     "languageId": "python"
    }
   },
   "outputs": [
    {
     "name": "stdout",
     "output_type": "stream",
     "text": [
      "[[0. 0. 0. 0. 0. 0. 0.]\n",
      " [0. 0. 0. 0. 0. 0. 0.]\n",
      " [0. 0. 0. 0. 0. 0. 0.]\n",
      " [0. 0. 0. 0. 0. 0. 0.]\n",
      " [0. 0. 0. 0. 0. 0. 0.]]\n"
     ]
    }
   ],
   "source": [
    "# 2d-Array gefüllt mit Nullen\n",
    "x = np.zeros( (5,7) )\n",
    "print(x)"
   ]
  },
  {
   "cell_type": "code",
   "execution_count": 7,
   "id": "1fdc283f",
   "metadata": {
    "vscode": {
     "languageId": "python"
    }
   },
   "outputs": [
    {
     "name": "stdout",
     "output_type": "stream",
     "text": [
      "[1. 1. 1. 1. 1. 1. 1.]\n"
     ]
    }
   ],
   "source": [
    "# 1d-Array gefüllt mit Einsen\n",
    "x = np.ones(7)\n",
    "print(x)"
   ]
  },
  {
   "cell_type": "code",
   "execution_count": 8,
   "id": "f98fd841",
   "metadata": {
    "vscode": {
     "languageId": "python"
    }
   },
   "outputs": [
    {
     "name": "stdout",
     "output_type": "stream",
     "text": [
      "[[1. 1. 1. 1.]\n",
      " [1. 1. 1. 1.]\n",
      " [1. 1. 1. 1.]]\n"
     ]
    }
   ],
   "source": [
    "# 2d-Array gefüllt mit Nullen\n",
    "x = np.ones( (3,4) )\n",
    "print(x)"
   ]
  },
  {
   "cell_type": "code",
   "execution_count": 9,
   "id": "c8d58296",
   "metadata": {
    "vscode": {
     "languageId": "python"
    }
   },
   "outputs": [
    {
     "name": "stdout",
     "output_type": "stream",
     "text": [
      "[[-17.7 -17.7 -17.7 -17.7]\n",
      " [-17.7 -17.7 -17.7 -17.7]\n",
      " [-17.7 -17.7 -17.7 -17.7]]\n"
     ]
    }
   ],
   "source": [
    "# 2d-Array gefüllt mit einem konstanten Wert\n",
    "x = np.full( (3,4), -17.7)\n",
    "print(x)"
   ]
  },
  {
   "cell_type": "markdown",
   "id": "8b06c001",
   "metadata": {},
   "source": [
    "```{admonition} Mini-Übung\n",
    ":class: miniexercise\n",
    "Erzeugen Sie folgende Arrays:\n",
    "* 1d-Array der Dimension 7 gefüllt mit 0\n",
    "* 1d-Array der Dimension 7 gefüllt mit -1\n",
    "* 2d-Array der Dimension (7,5) gefüllt mit 1\n",
    "* 2d-Array der Dimension (2,4) gefüllt mit $\\pi$\n",
    "* 1d-Array der Dimension 8 gefüllt mit $\\sqrt{5}$\n",
    "```"
   ]
  },
  {
   "cell_type": "code",
   "execution_count": 10,
   "id": "9e5df49c",
   "metadata": {
    "vscode": {
     "languageId": "python"
    }
   },
   "outputs": [],
   "source": [
    "# Hier Ihr Code:"
   ]
  },
  {
   "cell_type": "markdown",
   "id": "9022df39",
   "metadata": {},
   "source": [
    "````{admonition} Lösung\n",
    ":class: minisolution, toggle\n",
    "```python\n",
    "x1 = np.zeros(7)\n",
    "x2 = np.full(7, -1)\n",
    "X3 = np.ones( (7,5) )\n",
    "X4 = np.full( (2,4), np.pi)\n",
    "x5 = np.full(8, np.sqrt(5))\n",
    "```\n",
    "````\n",
    "\n",
    "Die folgenden 1d-Arrays werden nach einem gleichmäßigen Muster gefüllt. Dazu\n",
    "benutzen wir die NumPy-Funktionen\n",
    "\n",
    "* `np.linspace(start, stopp, anzahl)`\n",
    "* `np.arange(start, stopp, schrittweite)`"
   ]
  },
  {
   "cell_type": "code",
   "execution_count": 11,
   "id": "0ba9a260",
   "metadata": {
    "vscode": {
     "languageId": "python"
    }
   },
   "outputs": [
    {
     "name": "stdout",
     "output_type": "stream",
     "text": [
      "[ 1.     1.375  1.75   2.125  2.5    2.875  3.25   3.625  4.     4.375\n",
      "  4.75   5.125  5.5    5.875  6.25   6.625  7.     7.375  7.75   8.125\n",
      "  8.5    8.875  9.25   9.625 10.   ]\n"
     ]
    }
   ],
   "source": [
    "# 1d-Array, das gleichmäßig zwischen start und stopp mit num Werten gefüllt wird\n",
    "# im Beispiel: start = 1, stopp = 10, num = 25 \n",
    "x = np.linspace(1, 10, 25)\n",
    "print(x)"
   ]
  },
  {
   "cell_type": "code",
   "execution_count": 12,
   "id": "2adc06ec",
   "metadata": {
    "vscode": {
     "languageId": "python"
    }
   },
   "outputs": [
    {
     "name": "stdout",
     "output_type": "stream",
     "text": [
      "[ 1  3  5  7  9 11 13 15 17 19]\n"
     ]
    }
   ],
   "source": [
    "# 1d-Array, das bei start beginnt, step dazu addiert und bis kurz vor stopp geht\n",
    "# im Beispiel: start = 1, stopp = 20, step = 2\n",
    "x = np.arange(1, 20, 2)\n",
    "print(x)"
   ]
  },
  {
   "cell_type": "markdown",
   "id": "63de52d8",
   "metadata": {},
   "source": [
    "Zuletzt betrachten wir noch Erzeugungsfunktionen, die seltener vorkommen, aber\n",
    "dennoch nützlich sein können: \n",
    "\n",
    "* `np.random.random_sample(dimension)`: gleichmäßig verteilt zwischen 0 und 1\n",
    "* `np.random.normal(m, s, dimension)`: normalverteilt mit Mittelwert m und\n",
    "  Standardabweichung s"
   ]
  },
  {
   "cell_type": "code",
   "execution_count": 13,
   "id": "d832a2ba",
   "metadata": {
    "vscode": {
     "languageId": "python"
    }
   },
   "outputs": [
    {
     "name": "stdout",
     "output_type": "stream",
     "text": [
      "[[0.96172459 0.67041402 0.97573772]\n",
      " [0.47186106 0.72255612 0.21002747]]\n"
     ]
    }
   ],
   "source": [
    "# 2d-Array mit gleichmäßig zwischen 0 und 1 verteilten Zufallszahlen\n",
    "x = np.random.random_sample( (2,3) )\n",
    "print(x)"
   ]
  },
  {
   "cell_type": "code",
   "execution_count": 14,
   "id": "a4da77b0",
   "metadata": {
    "vscode": {
     "languageId": "python"
    }
   },
   "outputs": [
    {
     "name": "stdout",
     "output_type": "stream",
     "text": [
      "[[-0.90982161  0.30010007 -0.21893459 -0.48732042]\n",
      " [ 2.08507976  2.64434088 -1.41446372  1.71215468]\n",
      " [-0.18813857 -1.0207796  -1.05146524 -0.30317435]]\n"
     ]
    }
   ],
   "source": [
    "# 2d-Array mit normalverteilten Zufallszahlen \n",
    "x = np.random.normal(0, 1, (3,4) )\n",
    "print(x)"
   ]
  },
  {
   "cell_type": "code",
   "execution_count": 15,
   "id": "f56bc21a",
   "metadata": {
    "vscode": {
     "languageId": "python"
    }
   },
   "outputs": [
    {
     "name": "stdout",
     "output_type": "stream",
     "text": [
      "[[1. 0. 0. 0. 0.]\n",
      " [0. 1. 0. 0. 0.]\n",
      " [0. 0. 1. 0. 0.]\n",
      " [0. 0. 0. 1. 0.]\n",
      " [0. 0. 0. 0. 1.]]\n"
     ]
    }
   ],
   "source": [
    "# 2d-Array als Einheitsmatrix der Größe m x m, hier m = 5\n",
    "x = np.eye(5)\n",
    "print(x)"
   ]
  },
  {
   "cell_type": "markdown",
   "id": "25d6991d",
   "metadata": {},
   "source": [
    "```{admonition} Mini-Übung\n",
    ":class: miniexercise\n",
    "Erzeugen Sie folgende Arrays:\n",
    "\n",
    "* 2d-Array mit der Dimension (3,4) und Zufallszahlen gleichmäßig zwischen 0 und\n",
    "1 verteilt \n",
    "* 1d-Array mit der Dimension 17 und Zufallszahlen standardnormalverteilt (d.h.\n",
    "welcher Mittelwert und welche Standardabweichung?) \n",
    "* 2d-Array mit der Dimension (1,5) und normalverteilten Zufallszahlen,\n",
    "Mittelwert 37.5, Standardabweichung 0.8 \n",
    "* 1d-Array mit allen geraden Zahlen von 100 bis 200 (inklusive) \n",
    "* 1d-Array mit 100 Punkten im Intervall [-1,1] \n",
    "* 1d-Array mit 0, 0.1, 0.2, 0.3, ..., 1.5\n",
    "```"
   ]
  },
  {
   "cell_type": "code",
   "execution_count": 16,
   "id": "3cfa6a78",
   "metadata": {
    "vscode": {
     "languageId": "python"
    }
   },
   "outputs": [],
   "source": [
    "# Hier Ihr Code:"
   ]
  },
  {
   "cell_type": "markdown",
   "id": "dc1c04e6",
   "metadata": {},
   "source": [
    "````{admonition} Lösung\n",
    ":class: minisolution, toggle\n",
    "```python\n",
    "X1 = np.random.random_sample((3,4))\n",
    "x2 = np.random.normal(0, 1, 17)\n",
    "X3 = np.random.normal( 37.5, 0.8, (1,5))\n",
    "x4 = np.arange(100, 201, 2)\n",
    "x5 = np.linspace(-1, 1, 100)\n",
    "x6 = np.arange(0, 1.6, 0.1)\n",
    "```\n",
    "````\n",
    "\n",
    "\n",
    "## Attribute von NumPy-Arrays\n",
    "\n",
    "Damit wir besser verstehen, welche Attribute die NumPy-Arrays haben können,\n",
    "erzeugen wir uns zufällig drei NumPy-Arrays. Damit aber nicht bei jeder neuen\n",
    "Ausführung der Code-Zelle neue Zufallszahlen gezogen werden, fixieren wir den\n",
    "Seed des Zufallszahlengenerators (vereinfacht gesagt kommen jetzt immer die\n",
    "gleichen Zufallszahlen) und benutzen die Erzeugungsmethode\n",
    "`np.random.randint(grenze, size=dimension)`:"
   ]
  },
  {
   "cell_type": "code",
   "execution_count": 17,
   "id": "6d616217",
   "metadata": {
    "vscode": {
     "languageId": "python"
    }
   },
   "outputs": [
    {
     "name": "stdout",
     "output_type": "stream",
     "text": [
      "x = \n",
      "[5 0 3 3 7 9 3]\n",
      "y = \n",
      "[[5 2 4]\n",
      " [7 6 8]]\n"
     ]
    }
   ],
   "source": [
    "import numpy as np\n",
    "       \n",
    "np.random.seed(0)\n",
    "\n",
    "x = np.random.randint(10, size=7)\n",
    "y = np.random.randint(10, size=(2, 3))\n",
    "\n",
    "print('x = ')\n",
    "print(x)\n",
    "\n",
    "print('y = ')\n",
    "print(y)"
   ]
  },
  {
   "cell_type": "markdown",
   "id": "a652e5d0",
   "metadata": {},
   "source": [
    "Bei den Listen haben wir eine Funktion kennengelernt, mit der die Anzahl der\n",
    "Elemente in der Liste bestimmt werden kann: `len()`. Listen sind eindimensional,\n",
    "aber NumPy-Arrays können mehrdimensional sein. Daher gibt es hier auch mehr\n",
    "Eigenschaften für die Beschreibung:\n",
    "\n",
    "* Anzahl der Dimensionen: `.ndim`\n",
    "* Größe der jeweiligen Dimension: `.shape`\n",
    "* Gesamtgröße des Arrays: `.size`\n",
    "\n",
    "Die Größe `.shape` haben wir ja in der obigen Abbildung schon bereits\n",
    "kennengelernt."
   ]
  },
  {
   "cell_type": "code",
   "execution_count": 18,
   "id": "0a4876ba",
   "metadata": {
    "vscode": {
     "languageId": "python"
    }
   },
   "outputs": [
    {
     "name": "stdout",
     "output_type": "stream",
     "text": [
      "x = \n",
      "[5 0 3 3 7 9 3]\n",
      "1\n",
      "(7,)\n",
      "7\n"
     ]
    }
   ],
   "source": [
    "print('x = ')\n",
    "print(x)\n",
    "\n",
    "print( x.ndim )\n",
    "print( x.shape )\n",
    "print( x.size )"
   ]
  },
  {
   "cell_type": "code",
   "execution_count": 19,
   "id": "a0368cb0",
   "metadata": {
    "vscode": {
     "languageId": "python"
    }
   },
   "outputs": [
    {
     "name": "stdout",
     "output_type": "stream",
     "text": [
      "y = \n",
      "[[5 2 4]\n",
      " [7 6 8]]\n",
      "2\n",
      "(2, 3)\n",
      "6\n"
     ]
    }
   ],
   "source": [
    "print('y = ')\n",
    "print(y)\n",
    "\n",
    "print( y.ndim )\n",
    "print( y.shape )\n",
    "print( y.size )"
   ]
  },
  {
   "cell_type": "markdown",
   "id": "5aa96583",
   "metadata": {},
   "source": [
    "## Zugriff einzelner Elemente eines Arrays\n",
    "\n",
    "Der Zugriff bei eindimensionalen Arrays erfolgt genau wie bei Listen über den\n",
    "**Zugriffsoperator** `[]`. Auch hier wird ab 0 beginnend gezählt."
   ]
  },
  {
   "cell_type": "code",
   "execution_count": 20,
   "id": "b9f1a8b0",
   "metadata": {
    "vscode": {
     "languageId": "python"
    }
   },
   "outputs": [
    {
     "name": "stdout",
     "output_type": "stream",
     "text": [
      "[8 1 6 7 7 8 1]\n",
      "6\n"
     ]
    }
   ],
   "source": [
    "x = np.random.randint(10, size=7)\n",
    "print(x)\n",
    "\n",
    "drittes_element = x[2]\n",
    "print( drittes_element )"
   ]
  },
  {
   "cell_type": "markdown",
   "id": "7ce34708",
   "metadata": {},
   "source": [
    "Interessant wird es zu sehen, wie auf mehrdimensionale Arrays zugegriffen wird.\n",
    "Zur Erinnerung, zweidimensionale Arrays haben zwei Indizes (axis 0 und axis 1),\n",
    "dreidimensionale Arrays haben drei Indizes (axis 0, axis 1 und axis 2)."
   ]
  },
  {
   "cell_type": "code",
   "execution_count": 21,
   "id": "23767f39",
   "metadata": {
    "vscode": {
     "languageId": "python"
    }
   },
   "outputs": [
    {
     "name": "stdout",
     "output_type": "stream",
     "text": [
      "y = \n",
      "[[5 2 4]\n",
      " [7 6 8]]\n",
      "4\n"
     ]
    }
   ],
   "source": [
    "print('y = ')\n",
    "print(y)\n",
    "\n",
    "element = y[0,2]\n",
    "print(element)"
   ]
  },
  {
   "cell_type": "markdown",
   "id": "2c31c31a",
   "metadata": {},
   "source": [
    "So kann man übrigens auch die Werte einzelner Elemente des Arrays ändern:"
   ]
  },
  {
   "cell_type": "code",
   "execution_count": 22,
   "id": "75e89d0e",
   "metadata": {
    "vscode": {
     "languageId": "python"
    }
   },
   "outputs": [
    {
     "name": "stdout",
     "output_type": "stream",
     "text": [
      "vorher y = \n",
      "[[5 2 4]\n",
      " [7 6 8]]\n",
      "nachher y =  [[  5   2   4]\n",
      " [  7 777   8]]\n"
     ]
    }
   ],
   "source": [
    "print('vorher y = ')\n",
    "print(y)\n",
    "\n",
    "y[1,1] = 777\n",
    "print('nachher y = ', y)"
   ]
  },
  {
   "cell_type": "markdown",
   "id": "feeced8f",
   "metadata": {},
   "source": [
    "## Funktionen auf NumPy-Arrays anwenden\n",
    "\n",
    "NumPy-Arrays ermöglichen die Verarbeitung mit den typischen mathematischen\n",
    "Funktionen und den üblichen Statistik-Größen. Schauen wir uns einfach ein paar\n",
    "Beispiele an:"
   ]
  },
  {
   "cell_type": "code",
   "execution_count": 23,
   "id": "83ea6249",
   "metadata": {
    "vscode": {
     "languageId": "python"
    }
   },
   "outputs": [
    {
     "name": "stdout",
     "output_type": "stream",
     "text": [
      "[-6.28318531 -5.02654825 -3.76991118 -2.51327412 -1.25663706  0.\n",
      "  1.25663706  2.51327412  3.76991118  5.02654825  6.28318531]\n",
      "[ 2.44929360e-16  9.51056516e-01  5.87785252e-01 -5.87785252e-01\n",
      " -9.51056516e-01  0.00000000e+00  9.51056516e-01  5.87785252e-01\n",
      " -5.87785252e-01 -9.51056516e-01 -2.44929360e-16]\n",
      "[ 1.          0.30901699 -0.80901699 -0.80901699  0.30901699  1.\n",
      "  0.30901699 -0.80901699 -0.80901699  0.30901699  1.        ]\n",
      "[1.86744273e-03 6.56141994e-03 2.30541108e-02 8.10025922e-02\n",
      " 2.84609543e-01 1.00000000e+00 3.51358562e+00 1.23452839e+01\n",
      " 4.33762122e+01 1.52406036e+02 5.35491656e+02]\n",
      "[-9.79262991e+03 -3.20884897e+03 -7.61474902e+02 -1.00276530e+02\n",
      " -3.13364157e+00  0.00000000e+00  3.13364157e+00  1.00276530e+02\n",
      "  7.61474902e+02  3.20884897e+03  9.79262991e+03]\n"
     ]
    }
   ],
   "source": [
    "# erzeuge 11 x-Werte im Intervall [-2*pi, 2*pi]\n",
    "x = np.linspace( -2*np.pi, 2*np.pi, 11)\n",
    "print(x)\n",
    "\n",
    "# Sinus-Funktion\n",
    "y1 = np.sin(x)\n",
    "print(y1)\n",
    "\n",
    "# Kosinus-Funktion\n",
    "y2 = np.cos(x)\n",
    "print(y2)\n",
    "\n",
    "# Exponentialfunktion\n",
    "y3 = np.exp(x)\n",
    "print(y3)\n",
    "\n",
    "# Potenzfunktion, z.B. y = x hoch 5\n",
    "y4 = np.power(x, 5)\n",
    "print(y4)"
   ]
  },
  {
   "cell_type": "code",
   "execution_count": 24,
   "id": "ddd91810",
   "metadata": {
    "vscode": {
     "languageId": "python"
    }
   },
   "outputs": [
    {
     "name": "stdout",
     "output_type": "stream",
     "text": [
      "[[0.92559664 0.07103606 0.0871293  0.0202184 ]\n",
      " [0.83261985 0.77815675 0.87001215 0.97861834]\n",
      " [0.79915856 0.46147936 0.78052918 0.11827443]]\n",
      "s1 6.72282900923483\n",
      "s2 [2.55737505 1.31067217 1.73767062 1.11711117]\n",
      "s3 [1.10398039 3.45940709 2.15944153]\n",
      "max1 0.978618342232764\n",
      "max2 [2.55737505 1.31067217 1.73767062 1.11711117]\n",
      "max3 [1.10398039 3.45940709 2.15944153]\n"
     ]
    }
   ],
   "source": [
    "# erzeuge 3x4-Matrix mit Zufallszahlen\n",
    "X = np.random.random_sample((3,4))\n",
    "print(X)\n",
    "\n",
    "# Summe über alle Elemente\n",
    "s1 = np.sum(X)\n",
    "print('s1', s1)\n",
    "\n",
    "# Summe in Richtung Achse 0\n",
    "s2 = np.sum(X, axis=0)\n",
    "print('s2', s2)\n",
    "\n",
    "# Summe in Richtung Achse 1\n",
    "s3 = np.sum(X, axis=1)\n",
    "print('s3', s3)\n",
    "\n",
    "# Maximum über alle Elemente\n",
    "max1 = np.max(X)\n",
    "print('max1', max1)\n",
    "\n",
    "# Maximum in Richtung Achse 0\n",
    "max2 = np.sum(X, axis=0)\n",
    "print('max2', max2)\n",
    "\n",
    "# Maximum in Richtung Achse 1\n",
    "max3 = np.sum(X, axis=1)\n",
    "print('max3', max3)"
   ]
  },
  {
   "cell_type": "markdown",
   "id": "510de033",
   "metadata": {},
   "source": [
    "## Zusammenfassung \n",
    "\n",
    "In diesem Abschnitt haben wir das NumPy-Array kennengelernt, eine sehr\n",
    "effiziente Datenstruktur. Die Erzeugungsmethoden nach einem Muster werden wir\n",
    "vor allem für die Visualisierung von Funktionen brauchen. Das Bestimmen der\n",
    "Basis-Attribute wird wichtig werden, wenn wir NumPy-Arrays aus\n",
    "Pandas-DataFrame-Objekten extrahieren, um damit maschinelle Lernalgorithmen zu\n",
    "füttern."
   ]
  }
 ],
 "metadata": {
  "jupytext": {
   "formats": "ipynb,md:myst",
   "text_representation": {
    "extension": ".md",
    "format_name": "myst",
    "format_version": 0.13,
    "jupytext_version": "1.14.7"
   }
  },
  "kernelspec": {
   "display_name": "Python 3 (ipykernel)",
   "language": "python",
   "name": "python3"
  },
  "language_info": {
   "codemirror_mode": {
    "name": "ipython",
    "version": 3
   },
   "file_extension": ".py",
   "mimetype": "text/x-python",
   "name": "python",
   "nbconvert_exporter": "python",
   "pygments_lexer": "ipython3",
   "version": "3.10.11"
  },
  "source_map": [
   13,
   78,
   89,
   94,
   104,
   113,
   120,
   132,
   142,
   174,
   184,
   194,
   204,
   214,
   222,
   234,
   240,
   259,
   270,
   279,
   288,
   298,
   308,
   316,
   333,
   339,
   363,
   380,
   394,
   407,
   418,
   425,
   435,
   441,
   451,
   455,
   465,
   473,
   499,
   531
  ]
 },
 "nbformat": 4,
 "nbformat_minor": 5
}