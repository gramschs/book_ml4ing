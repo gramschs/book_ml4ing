{
 "cells": [
  {
   "cell_type": "markdown",
   "id": "b62bc61b",
   "metadata": {},
   "source": [
    "# Visualisierung von DataFrames\n",
    "\n",
    "## Lernziele\n",
    "\n",
    "```{admonition} Lernziele\n",
    ":class: goals\n",
    "* Sie können den Zeilenindex **.index**, den Spaltenindex **.columns** und die\n",
    "  Werte der Zellen **.values** aus dem DataFrame extrahieren.\n",
    "* Sie können mit der Methode **.axhline().** zu einem Plot eine horizontale\n",
    "  Linie hinzufügen.\n",
    "* Sie können die Fehlerbalken mit **errorbar()** visualisieren.\n",
    "```\n",
    "\n",
    "## Array aus Tabelle extrahieren\n",
    "\n",
    "Aber wie kombinieren wir jetzt die Funktionalitäten des Pandas-Moduls mit denen\n",
    "des Matplotlib-Moduls? Der grundlegende Datentyp für Matplotlib ist das\n",
    "NumPy-Array und auch in den Pandas-Datenobjekten stecken im Kern NumPy-Arrays.\n",
    "Wenn wir also Pandas-Objekte visualisieren wollen, extrahieren wir die Daten als\n",
    "NumPy-Arrays und plotten dann diese mit Matploblib.\n",
    "\n",
    "Wir benutzen die folgenden Methoden: \n",
    "\n",
    "* ``.index`` liefert den Zeilenindex\n",
    "* ``.columns`` liefert die Spaltennamen \n",
    "* ``.values`` liefert die Werten in der Tabelle als NumPy-Array\n",
    "\n",
    "Wir verwenden wieder einen realistischen Datensatz und importieren den uns\n",
    "schon bekannten Datensatz der Top7-Fußballvereine der Bundesliga 2020/21."
   ]
  },
  {
   "cell_type": "code",
   "execution_count": 1,
   "id": "970b4ed2",
   "metadata": {},
   "outputs": [
    {
     "name": "stdout",
     "output_type": "stream",
     "text": [
      "Zeilenindex: \n",
      "Index(['Manuel Neuer', 'Thomas Müller', 'David Alaba', 'Jérôme Boateng',\n",
      "       'Robert Lewandowski', 'Joshua Kimmich', 'Kingsley Coman',\n",
      "       'Benjamin Pavard', 'Alphonso Davies', 'Serge Gnabry',\n",
      "       ...\n",
      "       'Petar Musa', 'Florian Hübner', 'Cedric Teuchert', 'Keita Endo',\n",
      "       'Niko Gießelmann', 'Loris Karius', 'Akaki Gogia', 'Leon Dajaku',\n",
      "       'Tim Maciejewski', 'Joshua Mees'],\n",
      "      dtype='object', name='Name', length=177)\n",
      "Spaltenindex:\n",
      "Index(['Club', 'Nationality', 'Position', 'Age', 'Matches', 'Starts', 'Mins',\n",
      "       'Goals', 'Assists', 'Penalty_Goals', 'Penalty_Attempted', 'xG', 'xA',\n",
      "       'Yellow_Cards', 'Red_Cards'],\n",
      "      dtype='object')\n",
      "Werte der Zellen in der Tabelle als Numpy-Array:\n",
      "[['Bayern Munich' 'GER' 'GK' ... 0.01 1 0]\n",
      " ['Bayern Munich' 'GER' 'MF' ... 0.39 0 0]\n",
      " ['Bayern Munich' 'AUT' 'DF,MF' ... 0.08 4 0]\n",
      " ...\n",
      " ['Union Berlin' 'GER' 'FW' ... 0.0 0 0]\n",
      " ['Union Berlin' 'GER' 'MF' ... 0.0 0 0]\n",
      " ['Union Berlin' 'GER' 'FW' ... 0.0 0 0]]\n"
     ]
    }
   ],
   "source": [
    "import pandas as pd\n",
    "\n",
    "data = pd.read_csv('bundesliga_top7_offensive.csv', index_col=0)\n",
    "\n",
    "print('Zeilenindex: ')\n",
    "print(data.index)\n",
    "\n",
    "print('Spaltenindex:')\n",
    "print(data.columns)\n",
    "\n",
    "print('Werte der Zellen in der Tabelle als Numpy-Array:')\n",
    "print(data.values)"
   ]
  },
  {
   "cell_type": "markdown",
   "id": "77d6ea52",
   "metadata": {},
   "source": [
    "So kann man direkt die Daten aus einem Pandas-DataFrame extrahieren und\n",
    "visualisieren. Wenn wir beispielsweise wissen wollen, wie alt die Spieler der\n",
    "Eintracht Frankfurt sind, filtern wir zuerst. Danach stellen wir auf der x-Achse\n",
    "die Namen der Spieler (= Zeilenindex) dar und auf der y-Achse das Alter ('Age').\n",
    "Da es sich bei den Spielern um Kategorien, also diskrete Daten handelt,\n",
    "verwenden wir ein Balkendiagramm."
   ]
  },
  {
   "cell_type": "code",
   "execution_count": 2,
   "id": "446a13be",
   "metadata": {},
   "outputs": [
    {
     "ename": "ModuleNotFoundError",
     "evalue": "No module named 'matplotlib'",
     "output_type": "error",
     "traceback": [
      "\u001b[0;31m---------------------------------------------------------------------------\u001b[0m",
      "\u001b[0;31mModuleNotFoundError\u001b[0m                       Traceback (most recent call last)",
      "Cell \u001b[0;32mIn[2], line 1\u001b[0m\n\u001b[0;32m----> 1\u001b[0m \u001b[38;5;28;01mimport\u001b[39;00m \u001b[38;5;21;01mmatplotlib\u001b[39;00m\u001b[38;5;21;01m.\u001b[39;00m\u001b[38;5;21;01mpylab\u001b[39;00m \u001b[38;5;28;01mas\u001b[39;00m \u001b[38;5;21;01mplt\u001b[39;00m\n\u001b[1;32m      2\u001b[0m plt\u001b[38;5;241m.\u001b[39mstyle\u001b[38;5;241m.\u001b[39muse(\u001b[38;5;124m'\u001b[39m\u001b[38;5;124mbmh\u001b[39m\u001b[38;5;124m'\u001b[39m)\n\u001b[1;32m      4\u001b[0m \u001b[38;5;66;03m# data\u001b[39;00m\n",
      "\u001b[0;31mModuleNotFoundError\u001b[0m: No module named 'matplotlib'"
     ]
    }
   ],
   "source": [
    "import matplotlib.pylab as plt\n",
    "plt.style.use('bmh')\n",
    "\n",
    "# data\n",
    "filter = data.loc[:, 'Club'] == 'Eintracht Frankfurt'\n",
    "data_eintracht_frankfurt = data.loc[filter, :]\n",
    "x = data_eintracht_frankfurt.index\n",
    "y = data_eintracht_frankfurt.loc[:, 'Age']\n",
    "\n",
    "# plot\n",
    "fig, ax = plt.subplots()\n",
    "ax.bar(x,y)\n",
    "ax.set_xlabel('Spieler')\n",
    "ax.set_ylabel('Alter')\n",
    "ax.set_title('Spielerdaten Eintracht Frankfurt 20/21');"
   ]
  },
  {
   "cell_type": "markdown",
   "id": "f3c9df6d",
   "metadata": {},
   "source": [
    "Leider kann man die Spielernamen nicht mehr lesen. Wir können händisch in das\n",
    "Styling der x-Achsenbeschriftung eingreifen und die die Beschriftung um 45 Grad\n",
    "drehen. Dann sieht der Code folgendermaßen aus:"
   ]
  },
  {
   "cell_type": "code",
   "execution_count": null,
   "id": "46863720",
   "metadata": {},
   "outputs": [],
   "source": [
    "# plot\n",
    "fig, ax = plt.subplots()\n",
    "ax.bar(x,y)\n",
    "ax.set_xlabel('Spieler')\n",
    "ax.set_ylabel('Alter')\n",
    "ax.set_title('Spielerdaten Eintracht Frankfurt 20/21')\n",
    "ax.xaxis.set_ticks(x)                                   # rotiert die x-Achsenbeschriftung\n",
    "ax.set_xticklabels(x, rotation = 45, ha=\"right\");       # um 45 Grad"
   ]
  },
  {
   "cell_type": "markdown",
   "id": "5e0d439f",
   "metadata": {},
   "source": [
    "## Plot vom Mittelwert als horizontale Linie\n",
    "\n",
    "Als nächstes möchten wir in den Plot Zusatzinformationen mit einblenden. So\n",
    "würden wir gerne sichtbar machen, wo das Durchschnittsalter der Fußballspieler\n",
    "liegt. Dadurch können wir schnell ablesen, welcher Spieler über dem Durchschnitt\n",
    "liegt und welcher jünger als der Durchschnitt ist.\n",
    "\n",
    "Dazu müssen wir zunächst die Zusatzinformation aus den Daten herausholen, sprich\n",
    "den Mittelwert des Alters berechnen lassen."
   ]
  },
  {
   "cell_type": "code",
   "execution_count": null,
   "id": "f75ea5de",
   "metadata": {},
   "outputs": [],
   "source": [
    "mittelwert_alter = data_eintracht_frankfurt.loc[:, 'Age'].mean()\n",
    "print('Mittleres Alter der Spieler: {}'.format(mittelwert_alter))"
   ]
  },
  {
   "cell_type": "markdown",
   "id": "a2c12c35",
   "metadata": {},
   "source": [
    "Und nun ergänzen wir den Plot der Altersangaben mit dem Mittelwert. Dazu\n",
    "zeichnen wir eine horizontale Linie mit der Höhe des Altersdurchschnitts. Dazu\n",
    "verwenden wir die Methode `.axhline()`."
   ]
  },
  {
   "cell_type": "code",
   "execution_count": null,
   "id": "2dbe6733",
   "metadata": {},
   "outputs": [],
   "source": [
    "fig, ax = plt.subplots()\n",
    "ax.bar(x,y)\n",
    "ax.set_xlabel('Spieler')\n",
    "ax.xaxis.set_ticks(x)                               # rotiert die x-Achsenbeschriftung\n",
    "ax.set_xticklabels(x, rotation = 45, ha=\"right\")    # um 45 Grad\n",
    "ax.set_ylabel('Alter')\n",
    "ax.set_title('Spielerdaten Eintracht Frankfurt 20/21')\n",
    "# horizontale Linie\n",
    "ax.axhline(mittelwert_alter, color='red');"
   ]
  },
  {
   "cell_type": "markdown",
   "id": "9d6ade20",
   "metadata": {},
   "source": [
    "## Plot der Standardabweichung als Fehlerbalken\n",
    "\n",
    "Bei allen Messungen treten Messfehler auf. Manchmal weiß man von Anfang an,\n",
    "welchen Messfehler das Messgerät hat. Ein anderes Mal hat man beispielsweise\n",
    "eine Messung zehnmal wiederholt und möchte nun den Mittelwert als Datenpunkt und\n",
    "die Standardabweichung der Messergebnisse als Fehlerbalken visualisieren. Durch\n",
    "die Angabe eines Fehlerbalkens kann man dem Betrachter eine Zusatzinformation\n",
    "mitteilen. Für die Darstellung von Fehlerbalken stellt das Matplotlib-Modul die\n",
    "Methode ``errorbar()`` zur Verfügung. Mehr Informationen gibt es auf der\n",
    "Hilfeseite\n",
    "\n",
    "> https://matplotlib.org/stable/api/_as_gen/matplotlib.pyplot.errorbar.html"
   ]
  },
  {
   "cell_type": "code",
   "execution_count": null,
   "id": "128393ee",
   "metadata": {},
   "outputs": [],
   "source": [
    "# data\n",
    "standardabweichung_alter = data_eintracht_frankfurt.loc[:, 'Age'].std()\n",
    "\n",
    "# plot data\n",
    "fig, ax = plt.subplots()\n",
    "ax.errorbar(x, y, yerr=standardabweichung_alter)\n",
    "# styling\n",
    "ax.set_xlabel('Spieler')\n",
    "ax.xaxis.set_ticks(x)                               # rotiert die x-Achsenbeschriftung\n",
    "ax.set_xticklabels(x, rotation = 45, ha=\"right\")    # um 45 Grad\n",
    "ax.set_ylabel('Alter')\n",
    "ax.set_title('Spielerdaten Eintracht Frankfurt 20/21');"
   ]
  },
  {
   "cell_type": "markdown",
   "id": "f5e08190",
   "metadata": {},
   "source": [
    "Die Grafik sieht irritierend aus, da die Altersangben der Spieler verbunden\n",
    "wurden. Ästhetischer und besser interpretierbar wird die Grafik, wenn wir noch\n",
    "ein wenig an den Optionen herumschrauben. Van der Plas empfiehlt beispielsweise\n",
    "die folgenden Optionen in seinem Buch \"Data Science mit Python\":"
   ]
  },
  {
   "cell_type": "code",
   "execution_count": null,
   "id": "66fde53e",
   "metadata": {},
   "outputs": [],
   "source": [
    "# plot data\n",
    "fig, ax = plt.subplots()\n",
    "ax.errorbar(x, y, yerr=standardabweichung_alter, fmt='o', color='black', \n",
    "ecolor='lightgray', elinewidth=3, capsize=0);\n",
    "# styling\n",
    "ax.set_xlabel('Spieler')\n",
    "ax.xaxis.set_ticks(x)                               # rotiert die x-Achsenbeschriftung\n",
    "ax.set_xticklabels(x, rotation = 45, ha=\"right\")    # um 45 Grad\n",
    "ax.set_ylabel('Alter')\n",
    "ax.set_title('Spielerdaten Eintracht Frankfurt 20/21');"
   ]
  },
  {
   "cell_type": "markdown",
   "id": "47554b3f",
   "metadata": {},
   "source": [
    "## Zusammenfassung und Ausblick\n",
    "\n",
    "Nachdem wir uns erarbeitet haben, wie Daten aus einem DataFrame für eine\n",
    "Visualisierung mit Matplotlib aufbereitet werden, lernen wir im nächsten\n",
    "Abschnitt noch einen weiteren Diagrammtyp kennen, das Histogramm."
   ]
  }
 ],
 "metadata": {
  "jupytext": {
   "formats": "ipynb,md:myst",
   "text_representation": {
    "extension": ".md",
    "format_name": "myst",
    "format_version": 0.13,
    "jupytext_version": "1.15.2"
   }
  },
  "kernelspec": {
   "display_name": "Python 3",
   "language": "python",
   "name": "python3"
  },
  "language_info": {
   "codemirror_mode": {
    "name": "ipython",
    "version": 3
   },
   "file_extension": ".py",
   "mimetype": "text/x-python",
   "name": "python",
   "nbconvert_exporter": "python",
   "pygments_lexer": "ipython3",
   "version": "3.12.2"
  },
  "source_map": [
   13,
   45,
   58,
   67,
   83,
   89,
   98,
   110,
   113,
   119,
   129,
   145,
   158,
   165,
   176
  ]
 },
 "nbformat": 4,
 "nbformat_minor": 5
}