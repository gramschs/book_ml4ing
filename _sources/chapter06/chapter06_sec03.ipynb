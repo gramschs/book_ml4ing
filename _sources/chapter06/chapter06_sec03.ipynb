{
 "cells": [
  {
   "cell_type": "markdown",
   "id": "43761d64",
   "metadata": {},
   "source": [
    "# 6.3 Multiple lineare Regression\n",
    "\n",
    "Bisher haben wir nur eine einzelne Eigenschaft aus den gesammelten Daten\n",
    "herausgegriffen und untersucht, ob es zwischen dieser Eigenschaft und der\n",
    "Zielgröße einen linearen Zusammenhang gibt. So simpel ist die Welt normalerweise\n",
    "nicht, oft wirken mehrere Einflussfaktoren gleichzeitig. Daher steht die\n",
    "**multiple lineare Regression** in diesem Abschnitt im Fokus.\n",
    "\n",
    "## Lernziele\n",
    "\n",
    "```{admonition} Lernziele\n",
    ":class: important\n",
    "* Sie wissen, was eine **multiple lineare Regression** ist und können sie mit Scikit-Learn durchführen.\n",
    "```"
   ]
  },
  {
   "cell_type": "markdown",
   "id": "ac3f0fd4",
   "metadata": {},
   "source": [
    "## Zwei Einflussfaktoren: PS und Baujahr beinflussen Preis\n",
    "\n",
    "Bei unserem Beispiel-Datensatz von Autoscout24 mit den\n",
    "Gebrauchtwagenpreis-Listen der Jahre 2011 bis 2021 gab es drei Spalten mit\n",
    "numerischen Werten, die den Preis bestimmen könnten: Kilometerstand, Baujahr und\n",
    "PS. Wir hatten zunächst die Analyse des linearen Zusammenhangs zwischen der\n",
    "PS-Zahl und dem Preis durchgeführt. Das Ergebnis war eine Regressionsgerade\n",
    "\n",
    "$$f(x_{\\text{PS}}) = 186.8 -8330 \\cdot x_{\\text{PS}}.$$\n",
    "\n",
    "Als R²-Score haben wir für diese Modellfunktion einen Wert von 0.61 ermittelt.\n",
    "\n",
    "Nun möchten wir untersuchen, was passiert, wenn wir zusätzlich noch das Baujahr\n",
    "$x_{\\text{BJ}}$ hinzunehmen. Wir suchen jetzt also eine lineare Modellfunktion\n",
    "\n",
    "$$f(x_{\\text{PS}}, x_{\\text{BJ}}) = \\omega_0 + \\omega_1\\cdot x_{\\text{PS}} +\n",
    "\\omega_2\\cdot x_{\\text{BJ}}.$$\n",
    "\n",
    "Natürlich kann auch diese Modellfunktion nicht alle Datenpunkte\n",
    "$(x_{\\text{PS}}^{(i)}, x_{\\text{BJ}}^{(i)}, y^{(i)})$ perfekt treffen. Wir\n",
    "wünschen uns also, dass der Fehler zwischen den prognostizierten Werten und den\n",
    "echten Werten möglichst klein ist. Als Fehlermaß benutzen wir wiederum die\n",
    "Fehlerquadratsumme.\n",
    "\n",
    "Wir importieren zuerst die benötigten Module und Funktionen und laden dann die\n",
    "Daten."
   ]
  },
  {
   "cell_type": "code",
   "execution_count": 1,
   "id": "245b111b",
   "metadata": {},
   "outputs": [],
   "source": [
    "import pandas as pd\n",
    "from sklearn.linear_model import LinearRegression\n",
    "\n",
    "# Vorbereitung der Daten\n",
    "data_raw = pd.read_csv('data/autoscout24-germany-dataset.csv')\n",
    "data = data_raw.dropna().copy()\n",
    "data = data.drop([11753, 11754, 21675])"
   ]
  },
  {
   "cell_type": "markdown",
   "id": "dea225f1",
   "metadata": {},
   "source": [
    "Diesmal wollen wir zwei Spalten mit Inputs aus dem DataFrame-Objekt extrahieren,\n",
    "nämlich PS-Zahl ('hp') und Baujahr ('year'). Dazu benutzen wir eine Selektion\n",
    "der Spalten über eine Liste."
   ]
  },
  {
   "cell_type": "code",
   "execution_count": 2,
   "id": "9f3bd7b6",
   "metadata": {},
   "outputs": [],
   "source": [
    "# Extraktion der Input- und Output-Daten\n",
    "X = data.loc[:, ['hp', 'year']].values\n",
    "y = data.loc[:, 'price'].values"
   ]
  },
  {
   "cell_type": "markdown",
   "id": "b9a2c08b",
   "metadata": {},
   "source": [
    "Jetzt können wir das lineare Regressionsmodell von Scikit-Learn mit der\n",
    "`.fit()`-Methode trainieren. Da Scikit-Learn zwingend eine  Matrix als Input\n",
    "erfordert, mussten wir beim letzten Mal, als wir nur mit der PS-Zahl trainiert\n",
    "haben, aus dem Vektor mit der PS-Zahl eine Matrix mit einer Spalte machen. Das\n",
    "entfällt hier, da wir nun eine Matrix mit zwei Spalten haben.\n",
    "\n",
    "Wir lassen auch gleich den R²-Score mit ausgeben."
   ]
  },
  {
   "cell_type": "code",
   "execution_count": 3,
   "id": "1869af8c",
   "metadata": {},
   "outputs": [
    {
     "name": "stdout",
     "output_type": "stream",
     "text": [
      "Der R2-Score ist: 0.71\n"
     ]
    }
   ],
   "source": [
    "# Wahl des Modells\n",
    "model = LinearRegression()\n",
    "\n",
    "# Training\n",
    "model.fit(X, y)\n",
    "\n",
    "# Validierung\n",
    "r2 = model.score(X, y)\n",
    "print('Der R2-Score ist: {:.2f}'.format(r2))"
   ]
  },
  {
   "cell_type": "markdown",
   "id": "970d5708",
   "metadata": {},
   "source": [
    "Wir haben unsere Prognosequalität von 0.61 auf 0.71 gesteigert.\n",
    "\n",
    "Aber vielleicht war die PS-Zahl ein schlechtes Kriterium und das Baujahr ist die\n",
    "einzig wahre Ursache für den Preis im Gebrauchtwagenmarkt? Sicherheitshalber\n",
    "trainieren wir ein lineares Regressionsmodell nur für das Baujahr und schauen\n",
    "uns den R²-Score an."
   ]
  },
  {
   "cell_type": "code",
   "execution_count": 4,
   "id": "7ffc9ebc",
   "metadata": {},
   "outputs": [
    {
     "name": "stdout",
     "output_type": "stream",
     "text": [
      "Der R2-Score ist: 0.19\n"
     ]
    }
   ],
   "source": [
    "# extraxt input and output data\n",
    "X = data.loc[:,  'year'].values.reshape(-1,1)\n",
    "y = data.loc[:, 'price'].values\n",
    "\n",
    "# choose model\n",
    "model = LinearRegression()\n",
    "\n",
    "# train linear regression model\n",
    "model.fit(X, y)\n",
    "\n",
    "# check quality\n",
    "r2 = model.score(X, y)\n",
    "print('Der R2-Score ist: {:.2f}'.format(r2))"
   ]
  },
  {
   "cell_type": "markdown",
   "id": "cd6db5e9",
   "metadata": {},
   "source": [
    "Das Baujahr alleine ist sicher nicht geeignet, um die Autopreise zu erklären.\n",
    "Wenn wir uns nur für eine Eigenschaft entscheiden müssten, dann würden wir\n",
    "besser die PS-Zahl nehmen."
   ]
  },
  {
   "cell_type": "markdown",
   "id": "2f428954",
   "metadata": {},
   "source": [
    "## Erklären PS, Baujahr und Kilometerstand am besten den Preis?\n",
    "\n",
    "Probieren wir es doch einfach aus, ob die Kombination aller drei Einflussgrößen\n",
    "nochmal eine Verbesserung bringt."
   ]
  },
  {
   "cell_type": "code",
   "execution_count": 5,
   "id": "86df4e4e",
   "metadata": {},
   "outputs": [
    {
     "name": "stdout",
     "output_type": "stream",
     "text": [
      "Der R2-Score ist: 0.73\n"
     ]
    }
   ],
   "source": [
    "# extraxt input and output data\n",
    "X = data.loc[:, ['hp', 'year', 'mileage']].values\n",
    "y = data.loc[:, 'price'].values\n",
    "\n",
    "# choose model\n",
    "model = LinearRegression()\n",
    "\n",
    "# train linear regression model\n",
    "model.fit(X, y)\n",
    "\n",
    "# check quality\n",
    "r2 = model.score(X,y)\n",
    "print('Der R2-Score ist: {:.2f}'.format(r2))"
   ]
  },
  {
   "cell_type": "markdown",
   "id": "4f4b248e",
   "metadata": {},
   "source": [
    "Tatsächlich, damit schaffen wir erneut eine leichte Verbesserung, jetzt haben\n",
    "wir einen R²-Score von 0.73.\n",
    "\n",
    "Schauen wir uns doch einmal an, welche Koeffizienten von Scikit-Learn für unsere\n",
    "mehrdimensionale lineare Modellfunktion gefunden wurden."
   ]
  },
  {
   "cell_type": "code",
   "execution_count": 6,
   "id": "7df3e6dc",
   "metadata": {},
   "outputs": [
    {
     "name": "stdout",
     "output_type": "stream",
     "text": [
      "Achsenabschnitt w0:\n",
      "-2076729.5839995428\n",
      "Koeffizienten (Steigungen):\n",
      "[ 1.78927456e+02  1.02842647e+03 -5.43699115e-02]\n"
     ]
    }
   ],
   "source": [
    "print('Achsenabschnitt w0:')\n",
    "print(model.intercept_)\n",
    "print('Koeffizienten (Steigungen):')\n",
    "print(model.coef_)"
   ]
  },
  {
   "cell_type": "markdown",
   "id": "58244a09",
   "metadata": {},
   "source": [
    "Damit lautet unsere Modellfunktion abhängig von PS-Zahl (PS), Baujahr (BJ) und\n",
    "Kilometerstand (KM) also\n",
    "\n",
    "$$f(x_{\\text{PS}}, x_{\\text{BJ}}, x_{\\text{KM}}) = 16507.02 + 13409.75\\cdot\n",
    "x_{\\text{PS}} + 3245.26 \\cdot x_{\\text{BJ}} - 3395.56 \\cdot x_{\\text{KM}}.$$\n",
    "\n",
    "PS-Zahl und Baujahr wirken positiv, also je mehr PS und je höher das Baujahr (=\n",
    "jünger), desto höher der Preis. Der Kilometerstand wirkt umgekehrt. Je kleiner\n",
    "der Kilomterstand, desto höher der Preis."
   ]
  },
  {
   "cell_type": "markdown",
   "id": "97c37b93",
   "metadata": {},
   "source": [
    "## Zusammenfassung\n",
    "\n",
    "In diesem Kapitel haben wir uns mit der linearen (multiplen Regression)\n",
    "beschäftigt. Es wird eine lineare Modellfunktion für einen oder mehrere\n",
    "Einflussfaktoren gesucht. Die Parameter der Modellfunktion, also die\n",
    "Koeffizienten der mehrdimensionalen linearen Funktion werden so an die Daten\n",
    "angepasst, dass die Fehlerquadratsumme möglichst klein wird. Um beurteilen zu\n",
    "können, ob die beste gefundene Modellfunktion eine gute Prognose liefert, werten\n",
    "wir den R²-Score aus."
   ]
  }
 ],
 "metadata": {
  "jupytext": {
   "cell_metadata_filter": "-all",
   "formats": "ipynb,md:myst",
   "main_language": "python",
   "text_representation": {
    "extension": ".md",
    "format_name": "myst",
    "format_version": 0.13,
    "jupytext_version": "1.14.5"
   }
  },
  "kernelspec": {
   "display_name": "Python 3 (ipykernel)",
   "language": "python",
   "name": "python3"
  },
  "language_info": {
   "codemirror_mode": {
    "name": "ipython",
    "version": 3
   },
   "file_extension": ".py",
   "mimetype": "text/x-python",
   "name": "python",
   "nbconvert_exporter": "python",
   "pygments_lexer": "ipython3",
   "version": "3.10.11"
  },
  "source_map": [
   15,
   32,
   61,
   69,
   75,
   79,
   89,
   99,
   108,
   122,
   128,
   135,
   149,
   157,
   162,
   174
  ]
 },
 "nbformat": 4,
 "nbformat_minor": 5
}