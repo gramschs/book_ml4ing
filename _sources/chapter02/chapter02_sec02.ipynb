{
 "cells": [
  {
   "cell_type": "markdown",
   "id": "69452078",
   "metadata": {},
   "source": [
    "# 2.2 Listen und for-Schleifen\n",
    "\n",
    "Bisher haben wir drei verschiedene Datentypen kennengelernt:\n",
    "\n",
    "* Integer (ganze Zahlen),\n",
    "* Floats (Fließkommazahlen) und\n",
    "* Strings (Zeichenketten).\n",
    "\n",
    "Damit können wir einzelne Objekte der realen Welt ganz gut abbilden. Mit einem\n",
    "String können wir den Namen einer Person erfassen, mit einem Integer das Alter\n",
    "der Person und mit einem Float die Körpergröße der Person gemessen in Meter. Was\n",
    "uns aber bisher fehlt ist eine Sammlung von Namen oder eine Sammlung von\n",
    "Körpergrößen. Daher werden wir uns in diesem Kapitel mit dem Datentyp **Liste**\n",
    "beschäftigen.\n",
    "\n",
    "Oft kommt es vor, dass für jedes Element der Liste bestimmte Aktionen\n",
    "durchgeführt werden sollen. Daher werden wir uns auch mit der Wiederholung von\n",
    "Code-Abschnitten mittels der sogenannten **for-Schleife** beschäftigen.\n",
    "\n",
    "\n",
    "## Lernziele\n",
    "\n",
    "```{admonition} Lernziele\n",
    ":class: important\n",
    "* Sie kennen den Datentyp **Liste**.\n",
    "* Sie können Listen mit eckigen Klammern erzeugen. \n",
    "* Sie können Listen mit dem **Plus-Operator** verketten, Elemente mit\n",
    "  **.append()** anhängen oder Werte mit **.remove()** aus der Liste löschen.\n",
    "* Sie können über den **Index** auf einzelne Listenelementer zugreifen. \n",
    "* Sie können eine **for-Schleife mit Liste** programmieren.\n",
    "* Sie wissen, wie die Fachbegriffe der einzelnen Bestandteil der Schleife\n",
    "  lauten:\n",
    "  * **Kopfzeile**, wird mit **Doppelpunkt :** abgeschlossen\n",
    "  * Schlüsselwörter **for** und **in**\n",
    "  * **Schleifenvariable**  \n",
    "* Sie wissen, dass der Anweisungsblock des Schleifeninneren eingerückt werden\n",
    "  muss. Die **Einrückung** muss immer mit der gleichen Anzahl von Zeichen\n",
    "  (Leerzeichen oder Tab) erfolgen.\n",
    "```\n",
    "\n",
    "\n",
    "## Datentyp Liste\n",
    "\n",
    "Eine Liste ist eine Sammlung von Objekten. Dabei können die Objekte einen\n",
    "beliebigen Datentyp aufweisen. Eine Liste wird durch eckige Klammern erzeugt.\n",
    "\n",
    "Beispielsweise könnte eine Liste drei Integer enthalten:"
   ]
  },
  {
   "cell_type": "code",
   "execution_count": 1,
   "id": "66d7c048",
   "metadata": {},
   "outputs": [
    {
     "name": "stdout",
     "output_type": "stream",
     "text": [
      "[34, 12, 54]\n"
     ]
    }
   ],
   "source": [
    "a = [34, 12, 54]\n",
    "print(a)"
   ]
  },
  {
   "cell_type": "markdown",
   "id": "47dfe41f",
   "metadata": {},
   "source": [
    "Das folgende Beispiel zeigt eine Liste mit vier Namen, die durch Strings\n",
    "repräsentiert werden:"
   ]
  },
  {
   "cell_type": "code",
   "execution_count": 2,
   "id": "83ceb9a3",
   "metadata": {},
   "outputs": [
    {
     "name": "stdout",
     "output_type": "stream",
     "text": [
      "['Alice', 'Bob', 'Charlie', 'Dora']\n"
     ]
    }
   ],
   "source": [
    "a = ['Alice', 'Bob', 'Charlie', 'Dora']\n",
    "print(a)"
   ]
  },
  {
   "cell_type": "markdown",
   "id": "71155bdf",
   "metadata": {},
   "source": [
    "Eine leere Liste wird durch `[]` definiert:"
   ]
  },
  {
   "cell_type": "code",
   "execution_count": 3,
   "id": "b4d1dfa9",
   "metadata": {},
   "outputs": [
    {
     "name": "stdout",
     "output_type": "stream",
     "text": [
      "[]\n"
     ]
    }
   ],
   "source": [
    "a = []\n",
    "print(a)"
   ]
  },
  {
   "cell_type": "markdown",
   "id": "355bc4da",
   "metadata": {},
   "source": [
    "Der Datentyp heißt formal `list`:"
   ]
  },
  {
   "cell_type": "code",
   "execution_count": 4,
   "id": "63cdc1ff",
   "metadata": {},
   "outputs": [
    {
     "data": {
      "text/plain": [
       "list"
      ]
     },
     "execution_count": 4,
     "metadata": {},
     "output_type": "execute_result"
    }
   ],
   "source": [
    "type(a)"
   ]
  },
  {
   "cell_type": "markdown",
   "id": "658b2b71",
   "metadata": {},
   "source": [
    "Listen können gekürzt und erweitert werden. Eine sehr nützliche Funktion ist\n",
    "daher die `len()`-Funktion. Das `len` steht dabei für `length`. Wird die\n",
    "Funktion `len()` mit einer Liste (oder mit einem String) als Argument\n",
    "aufgerufen, gibt sie die Anzahl der Listenelemente (oder Anzahl der Zeichen im\n",
    "String) zurück."
   ]
  },
  {
   "cell_type": "code",
   "execution_count": 5,
   "id": "350149b8",
   "metadata": {},
   "outputs": [
    {
     "data": {
      "text/plain": [
       "5"
      ]
     },
     "execution_count": 5,
     "metadata": {},
     "output_type": "execute_result"
    }
   ],
   "source": [
    "a = ['Hund', 'Katze', 'Maus', 'Affe','Elefant']\n",
    "len(a)"
   ]
  },
  {
   "cell_type": "markdown",
   "id": "73b36551",
   "metadata": {},
   "source": [
    "Listen müssen nicht nur Elemente eines Datentyps enthalten. In Python ist es\n",
    "erlaubt, in eine Liste Objekte mit verschiedenen Datentypen zu sammeln. Das\n",
    "folgende Beispiel zeigt eine Mischung aus Elementen der drei Datentypen Integer,\n",
    "Float und String."
   ]
  },
  {
   "cell_type": "code",
   "execution_count": 6,
   "id": "5676ce09",
   "metadata": {},
   "outputs": [
    {
     "name": "stdout",
     "output_type": "stream",
     "text": [
      "[123, 'Ente', -42, 17.4, 0, 'Elefant']\n"
     ]
    }
   ],
   "source": [
    "a = [123, 'Ente', -42, 17.4, 0, 'Elefant']\n",
    "print(a)"
   ]
  },
  {
   "cell_type": "markdown",
   "id": "1c74be68",
   "metadata": {},
   "source": [
    "```{admonition} Mini-Übung\n",
    ":class: miniexercise\n",
    "Erzeugen Sie eine Einkaufsliste, um einen Obstsalat zuzubereiten und speichern\n",
    "Sie diese Liste in der Variablen `einkaufsliste`. Lassen Sie dann den Computer\n",
    "bzw. den Python-Interpreter zählen, wie viele Zutaten Ihre Liste enthält und\n",
    "geben Sie dann die Anzahl aus.\n",
    "```"
   ]
  },
  {
   "cell_type": "code",
   "execution_count": 7,
   "id": "4960332e",
   "metadata": {},
   "outputs": [],
   "source": [
    "# Hier Ihr Code:"
   ]
  },
  {
   "cell_type": "markdown",
   "id": "81445685",
   "metadata": {},
   "source": [
    "````{admonition} Lösung\n",
    ":class: minisolution, toggle\n",
    "```python\n",
    "einkaufsliste = ['Apfel', 'Banane', 'Trauben', 'Joghurt']\n",
    "anzahl_zutaten = len(einkaufsliste)\n",
    "print(anzahl_zutaten)\n",
    "```\n",
    "````\n",
    "\n",
    "## Listen bearbeiten\n",
    "\n",
    "Listen sind in Python veränderlich. Besonders häufig kommt es vor, dass zwei\n",
    "Listen zu einer neuen Liste kombiniert werden sollen. Da diese Aktion so wichtig\n",
    "ist, kann dies in Python direkt mit dem `+`-Operator erledigt werden. Der\n",
    "Fachbegriff für das Aneinanderhängen von Listen ist **Verkettung** oder auf\n",
    "Englisch **Concatenation**."
   ]
  },
  {
   "cell_type": "code",
   "execution_count": 8,
   "id": "00106690",
   "metadata": {},
   "outputs": [
    {
     "name": "stdout",
     "output_type": "stream",
     "text": [
      "[37, 3, 5, 3, 35, 100]\n"
     ]
    }
   ],
   "source": [
    "a = [37, 3, 5] + [3, 35, 100]\n",
    "print(a)"
   ]
  },
  {
   "cell_type": "markdown",
   "id": "7d6cc7fe",
   "metadata": {},
   "source": [
    "Um an das Ende der Liste ein neues Element einzufügen, verwendet man die Methode\n",
    "`append()`. Eine **Methode** ist eine spezielle Funktion, die zu dem Datentyp\n",
    "gehört und daher an die Variable angehängt wird, indem man einen Punkt schreibt\n",
    "und dann den Methodennamen."
   ]
  },
  {
   "cell_type": "code",
   "execution_count": 9,
   "id": "8da8c010",
   "metadata": {},
   "outputs": [
    {
     "name": "stdout",
     "output_type": "stream",
     "text": [
      "[34, 56, 23]\n",
      "[34, 56, 23, 42]\n"
     ]
    }
   ],
   "source": [
    "a = [34, 56, 23]\n",
    "print(a)\n",
    "\n",
    "a.append(42)\n",
    "print(a)"
   ]
  },
  {
   "cell_type": "markdown",
   "id": "7f4ed2b5",
   "metadata": {},
   "source": [
    "Aus der Liste können Elemente durch die `remove()`-Methode gelöscht werden.\n",
    "Dabei wird das Element, das gelöscht werden soll, der Methode als Argument\n",
    "übergeben. Es wird der erste auftretende Wert aus der Liste gelöscht."
   ]
  },
  {
   "cell_type": "code",
   "execution_count": 10,
   "id": "f072c084",
   "metadata": {},
   "outputs": [
    {
     "name": "stdout",
     "output_type": "stream",
     "text": [
      "[34, 56, 23, 42]\n",
      "[34, 23, 42]\n"
     ]
    }
   ],
   "source": [
    "a = [34, 56, 23, 42]\n",
    "print(a)\n",
    "\n",
    "a.remove(56)\n",
    "print(a)"
   ]
  },
  {
   "cell_type": "markdown",
   "id": "26c76fd0",
   "metadata": {},
   "source": [
    "```{admonition} Mini-Übung\n",
    ":class: miniexercise\n",
    "Nehmen Sie Ihre Einkaufsliste für den Obsalat von vorhin. Fügen Sie noch Zimt und Zucker hinzu. Leider passen in Ihren Einkaufswagen nur maximal 5 Sachen. Lassen Sie daher die Anzahl der Elemente ausgeben.\n",
    "```"
   ]
  },
  {
   "cell_type": "code",
   "execution_count": 11,
   "id": "c66d95ef",
   "metadata": {},
   "outputs": [],
   "source": [
    "# Hier Ihr Code:"
   ]
  },
  {
   "cell_type": "markdown",
   "id": "f97e9aa6",
   "metadata": {},
   "source": [
    "````{admonition} Lösung\n",
    ":class: minisolution, toggle\n",
    "```python\n",
    "einkaufsliste_alt = ['Apfel', 'Banane', 'Trauben', 'Joghurt']\n",
    "einkaufsliste_neu = einkaufsliste_alt + ['Zimt', 'Zucker']\n",
    "anzahl_zutaten = len(einkaufsliste_neu)\n",
    "print(f'Anzahl der Zutaten: {anzahl_zutaten}')\n",
    "```\n",
    "````\n",
    "\n",
    "```{dropdown} Video zu \"Listen in Python - Einführung\" von Programmieren lernen\n",
    "<iframe width=\"560\" height=\"315\" src=\"https://www.youtube.com/embed/ihF8bZoauBs\" \n",
    "title=\"YouTube video player\" frameborder=\"0\" allow=\"accelerometer; autoplay; \n",
    "clipboard-write; encrypted-media; gyroscope; picture-in-picture\" allowfullscreen>\n",
    "</iframe>\n",
    "```\n",
    "\n",
    "## Zugriff auf einzelne Listenelemente\n",
    "\n",
    "Listen sind (übrigens genau wie Strings) ein sogenannter **sequentieller\n",
    "Container**. Sequentielle Container sind Sammlungen von Datenobjekten. Was heißt\n",
    "das? Eine Straße ist eine Sammlung von Häusern. Aber in einer Straße sind die\n",
    "Häuser zusätzlich durchnummeriert. Eine Hausnummer ermöglicht es, die Position\n",
    "eines Hauses innerhalb der Straße zu bestimmen. Sammlungen von Objekten mit\n",
    "einer Positionsnummer werden sequentielle Container genannt. Sie sind mit ganzen\n",
    "Zahlen, also Integern, durchnummeriert. In Python beginnt die Nummerierung bei\n",
    "0. Die Nummer eines Elementes aus der Sequenz nennt man **Index**.\n",
    "Umgangssprachlich könnte man den Index also auch als Hausnummer bezeichnen.\n",
    "\n",
    "In einer Liste hat also das erste Element den Index 0. Das zweite Element hat\n",
    "den Index 1 usw. Um ein einzelnes Element einer Liste herausgreifen zu können,\n",
    "schreibt man `liste[i]`. Dabei ist `liste` der Name der Liste und `i` der Idnex.\n",
    "Um einfach auf das letzte Element einer Liste zugreifen zu können, hat Python\n",
    "den Index -1 eingeführt.\n",
    "\n",
    "Probieren wir ein Beispiel aus:"
   ]
  },
  {
   "cell_type": "code",
   "execution_count": 12,
   "id": "bedf4abb",
   "metadata": {},
   "outputs": [
    {
     "name": "stdout",
     "output_type": "stream",
     "text": [
      "Das erste Element in der Liste ist: 34\n"
     ]
    }
   ],
   "source": [
    "a = [34, 56, 23, 42]\n",
    "erstes = a[0]\n",
    "print(f'Das erste Element in der Liste ist: {erstes}')"
   ]
  },
  {
   "cell_type": "code",
   "execution_count": 13,
   "id": "e8974e7c",
   "metadata": {},
   "outputs": [
    {
     "name": "stdout",
     "output_type": "stream",
     "text": [
      "['rot', 'grün', 'blau', 'gelb', 'lila', 'schwarz']\n"
     ]
    }
   ],
   "source": [
    "# Erzeugung Liste\n",
    "meine_liste = ['rot', 'grün', 'blau', 'gelb', 'weiß', 'schwarz']\n",
    "\n",
    "# das fünfte Elment weiß wird durch lila ersetzt\n",
    "meine_liste[4] = 'lila'\n",
    "print(meine_liste)"
   ]
  },
  {
   "cell_type": "markdown",
   "id": "2ab01b9e",
   "metadata": {},
   "source": [
    "Das Bearbeiten von einzelnen Listenelementen wird auch **Zugriff** genannt. Das\n",
    "folgende Video zeigt die Zugriffsmöglichkeiten von Listen.\n",
    "\n",
    "```{dropdown} Video zu \"Zugriff aus Listen\" von Programmieren lernen\n",
    "<iframe width=\"560\" height=\"315\" src=\"https://www.youtube.com/embed/_XzWPXvya2w\" \n",
    "title=\"YouTube video player\" frameborder=\"0\" allow=\"accelerometer; autoplay; \n",
    "clipboard-write; encrypted-media; gyroscope; picture-in-picture\" allowfullscreen>\n",
    "</iframe>\n",
    "```\n",
    "\n",
    "\n",
    "## Code wiederholen mit der for-Schleife\n",
    "\n",
    "Manchmal möchte man für jedes Element einer Liste eine oder mehrere Aktionen\n",
    "durchführen. Dazu gibt es die **for-Schleife**."
   ]
  },
  {
   "cell_type": "code",
   "execution_count": 14,
   "id": "62deb654",
   "metadata": {},
   "outputs": [
    {
     "name": "stdout",
     "output_type": "stream",
     "text": [
      "2\n",
      "4\n",
      "6\n",
      "8\n",
      "10\n"
     ]
    }
   ],
   "source": [
    "for i in [2, 4, 6, 8, 10]:\n",
    "    print(i)"
   ]
  },
  {
   "cell_type": "markdown",
   "id": "cf05cbe8",
   "metadata": {},
   "source": [
    "Eine Schleife beginnt mit dem Schlüsselwort **for**. Danach kommt der Name der\n",
    "sogenannten **Schleifenvariable**, in diesem Fall also `i`. Als nächstes folgt\n",
    "wieder ein Schlüsselwort, nämlich **in** und zuletzt Liste. Diese Zeile nennt\n",
    "man **Kopfzeile**.\n",
    "\n",
    "Python muss wissen, welche Kommandos für jeden Schleifendurchgang ausgeführt\n",
    "werden sollen. Daher wird die Kopfzeile der Schleife mit einem Doppelpunkt `:`\n",
    "beendet. Danach werden alle Kommandos aufgelistet, die ausgeführt werden sollen.\n",
    "Damit Python weiß, wann es wieder mit dem normalen Programm weitergehen soll,\n",
    "müssen wir dem Python-Interpreter das Ende der Schleife signalisieren. In vielen\n",
    "Programmiersprachen wird das mit dem Schlüsselwort `end` gemacht oder es werden\n",
    "Klammern gesetzt. In Python wird stattdessen mit **Einrückung** gearbeitet. Alle\n",
    "Zeilen mit Anweisungen, die eingerückt sind, werden in der Schleife wiederholt.\n",
    "\n",
    "Wie sieht das nun bei unserem Beispiel aus? Die Schleifenvariable heißt `i`. Sie\n",
    "nimmt beim 1. Schleifendurchgang den Wert `2` an. Dann werden die Anweisungen im\n",
    "Schleifeninneren ausgeführt, also die print()-Funktion für `i = 2` angewendet\n",
    "und eine 2 ausgegeben. Dann wird die Schleife ein 2. Mal durchlaufen. Diesmal\n",
    "nimmt die Schleifenvariable `i` den Wert `4` an und die print()-Funktion gibt 4\n",
    "aus. Das geht so weiter bis zum 5. Schleifendurchgang, wo die Schleifenvariable\n",
    "den Wert `i = 10` annimmt und eine 10 auf dem Bildschirm angezeigt wird. Da die\n",
    "`10` das letzte Element der Liste war, macht der Python-Interpreter mit dem\n",
    "normalen Programm weiter. Bei unserem kurzen Beispiel ist aber schon das Ende\n",
    "des Programmes erreicht. Zusammengefasst, werden nacheinander die Elemente der\n",
    "Liste `[2, 4, 6, 8, 10]` auf dem Bildschirm ausgegeben.\n",
    "\n",
    "Schauen wir uns ein erstes Beispiel an. Jedes Element der Liste `[4,5,7,11,21]`\n",
    "soll um 2 erhöht werden."
   ]
  },
  {
   "cell_type": "code",
   "execution_count": 15,
   "id": "73afeeb9",
   "metadata": {},
   "outputs": [
    {
     "name": "stdout",
     "output_type": "stream",
     "text": [
      "Wenn ich 4 + 2 rechne, erhalte ich 6.\n",
      "Wenn ich 5 + 2 rechne, erhalte ich 7.\n",
      "Wenn ich 7 + 2 rechne, erhalte ich 9.\n",
      "Wenn ich 11 + 2 rechne, erhalte ich 13.\n",
      "Wenn ich 21 + 2 rechne, erhalte ich 23.\n",
      "Ich bin fertig!\n"
     ]
    }
   ],
   "source": [
    "for zahl in [4,5,7,11,21]:\n",
    "    summe = zahl + 2\n",
    "    print(f'Wenn ich {zahl} + 2 rechne, erhalte ich {summe}.')\n",
    "print('Ich bin fertig!')"
   ]
  },
  {
   "cell_type": "markdown",
   "id": "3237c736",
   "metadata": {},
   "source": [
    "```{admonition} Mini-Übung\n",
    ":class: miniexercise  \n",
    "Lassen Sie nacheinander die Zutaten Ihrer Einkaufsliste ausgeben. \n",
    "```"
   ]
  },
  {
   "cell_type": "code",
   "execution_count": 16,
   "id": "1abf0485",
   "metadata": {},
   "outputs": [],
   "source": [
    "# Hier Ihr Code:"
   ]
  },
  {
   "cell_type": "markdown",
   "id": "72aacfc1",
   "metadata": {},
   "source": [
    "````{admonition} Lösung\n",
    ":class: minisolution, toggle\n",
    "```python\n",
    "einkaufsliste = ['Apfel', 'Bananen', 'Trauben', 'Joghurt', 'Honig', 'Zimt']\n",
    "for zutat in einkaufsliste:\n",
    "    print(zutat)\n",
    "```\n",
    "````\n",
    "\n",
    "```{dropdown} Video zu \"Schleifen in Python: for-Schleife\" von Programmieren lernen\n",
    "<iframe width=\"560\" height=\"315\" src=\"https://www.youtube.com/embed/ISo1uqLcVw8\" \n",
    "title=\"YouTube video player\" frameborder=\"0\" allow=\"accelerometer; autoplay; \n",
    "clipboard-write; encrypted-media; gyroscope; picture-in-picture\" allowfullscreen>\n",
    "</iframe>\n",
    "```\n",
    "\n",
    "Es kommt sehr häufig vor, dass über Listen mit Zahlen iteriert werden soll.\n",
    "Dafür stellt Python3 die Funktion `range()`zur Verfügung."
   ]
  },
  {
   "cell_type": "code",
   "execution_count": 17,
   "id": "60ff9c87",
   "metadata": {},
   "outputs": [
    {
     "name": "stdout",
     "output_type": "stream",
     "text": [
      "0\n",
      "1\n",
      "2\n",
      "Fertig!\n"
     ]
    }
   ],
   "source": [
    "for zahl in range(3):\n",
    "    print(zahl)\n",
    "print('Fertig!')"
   ]
  },
  {
   "cell_type": "markdown",
   "id": "1e50deb9",
   "metadata": {},
   "source": [
    "Wird `range(endzahl)` mit nur einem Parameter aufgerufen, dann beginnt der\n",
    "Python-Interpreter stets von `0` an zu zählen. Dabei ist die `endzahl` nicht\n",
    "inkludiert, d.h. der Python-Interpreter stoppt bei `endzahl - 1`. Es ist auch\n",
    "möglich, eine Startzahl vorzugeben, also:"
   ]
  },
  {
   "cell_type": "code",
   "execution_count": 18,
   "id": "9d3fc2f1",
   "metadata": {},
   "outputs": [
    {
     "name": "stdout",
     "output_type": "stream",
     "text": [
      "1\n",
      "2\n",
      "3\n",
      "Fertig!\n"
     ]
    }
   ],
   "source": [
    "for zahl in range(1,4):\n",
    "    print(zahl)\n",
    "print('Fertig!')"
   ]
  },
  {
   "cell_type": "markdown",
   "id": "2a6f7204",
   "metadata": {},
   "source": [
    "Zusätzlich kann der Zahlenbereich noch durch die Angabe einer Schrittweite\n",
    "spezifiziert werden. Dadurch ist es beispielsweise möglich, nur ungerade Zahlen\n",
    "zu generieren:"
   ]
  },
  {
   "cell_type": "code",
   "execution_count": 19,
   "id": "7a74b6c0",
   "metadata": {},
   "outputs": [
    {
     "name": "stdout",
     "output_type": "stream",
     "text": [
      "3\n",
      "5\n",
      "7\n",
      "9\n",
      "11\n",
      "Fertig!\n"
     ]
    }
   ],
   "source": [
    "for zahl in range(3, 13, 2):\n",
    "    print(zahl)\n",
    "print('Fertig!')"
   ]
  },
  {
   "cell_type": "markdown",
   "id": "50ab5360",
   "metadata": {},
   "source": [
    "```{admonition} Mini-Übung\n",
    ":class: miniexercise \n",
    "Lassen Sie alle geraden Zahlen zwischen 100 und 120 ausgeben.\n",
    "```"
   ]
  },
  {
   "cell_type": "code",
   "execution_count": 20,
   "id": "3900aa71",
   "metadata": {},
   "outputs": [],
   "source": [
    "# Hier Ihr Code:"
   ]
  },
  {
   "cell_type": "markdown",
   "id": "ca3b21d0",
   "metadata": {},
   "source": [
    "````{admonition} Lösung\n",
    ":class: minisolution, toggle\n",
    "```python\n",
    "for zahl in range(100, 122, 2):\n",
    "    print(zahl)\n",
    "```\n",
    "````\n",
    "\n",
    "Durch Angabe einer negativen Schrittweite kann auch rückwärts gezählt werden:"
   ]
  },
  {
   "cell_type": "code",
   "execution_count": 21,
   "id": "3316e866",
   "metadata": {},
   "outputs": [
    {
     "name": "stdout",
     "output_type": "stream",
     "text": [
      "13\n",
      "11\n",
      "9\n",
      "7\n",
      "5\n",
      "Fertig!\n"
     ]
    }
   ],
   "source": [
    "for zahl in range(13, 3, -2):\n",
    "    print(zahl)\n",
    "print('Fertig!')"
   ]
  },
  {
   "cell_type": "markdown",
   "id": "5e0d2bfe",
   "metadata": {},
   "source": [
    "Zum Abschluss folgt hier noch ein weiteres Video zu for-Schleifen.\n",
    "\n",
    "```{dropdown} Video zu \"for-Schleife in Python: Zählerschleife\"\n",
    "<iframe width=\"560\" height=\"315\" src=\"https://www.youtube.com/embed/pQh5Idw2sKM\" \n",
    "title=\"YouTube video player\" frameborder=\"0\" allow=\"accelerometer; autoplay; \n",
    "clipboard-write; encrypted-media; gyroscope; picture-in-picture\" allowfullscreen>\n",
    "</iframe>\n",
    "```\n",
    "\n",
    "## Zusammenfassung und Ausblick\n",
    "\n",
    "In diesem Abschnitt haben wir uns mit dem Datentyp Liste befasst, der zur\n",
    "Sammlung verschiedener Datenobjekte dient. Für die sequentielle Bearbeitung von\n",
    "Listenelementen ist die for-Schleife besonders geeignet. Es existieren\n",
    "zusätzliche Datentypen wie Dictionary, Tupel und Set, die sich ebenfalls zum\n",
    "Speichern von Datenobjekten eignen. Neben der for-Schleife gibt es eine\n",
    "alternative Schleifenstruktur, die while-Schleife, die Code wiederholt, solange\n",
    "eine bestimmte Bedingung erfüllt ist. Anstatt uns weiterhin auf solche Aspekte\n",
    "der Python-Programmierung zu konzentrieren, werden wir im nächsten Kapitel den\n",
    "Fokus auf die Implementierung eigener Funktionen legen und einen kurzen Ausflug\n",
    "in die objektorientierte Programmierung unternehmen."
   ]
  }
 ],
 "metadata": {
  "jupytext": {
   "formats": "ipynb,md:myst",
   "text_representation": {
    "extension": ".md",
    "format_name": "myst",
    "format_version": 0.13,
    "jupytext_version": "1.14.7"
   }
  },
  "kernelspec": {
   "display_name": "Python 3.9.12 ('python39')",
   "language": "python",
   "name": "python3"
  },
  "language_info": {
   "codemirror_mode": {
    "name": "ipython",
    "version": 3
   },
   "file_extension": ".py",
   "mimetype": "text/x-python",
   "name": "python",
   "nbconvert_exporter": "python",
   "pygments_lexer": "ipython3",
   "version": "3.10.11"
  },
  "source_map": [
   13,
   63,
   66,
   71,
   74,
   78,
   81,
   85,
   87,
   95,
   98,
   105,
   108,
   118,
   120,
   139,
   142,
   149,
   155,
   161,
   167,
   174,
   176,
   215,
   221,
   228,
   246,
   249,
   280,
   285,
   292,
   294,
   315,
   319,
   326,
   330,
   336,
   340,
   347,
   349,
   361,
   365
  ]
 },
 "nbformat": 4,
 "nbformat_minor": 5
}