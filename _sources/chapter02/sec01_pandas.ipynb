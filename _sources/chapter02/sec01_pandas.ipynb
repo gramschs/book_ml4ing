{
 "cells": [
  {
   "cell_type": "markdown",
   "metadata": {},
   "source": [
    "# Pandas\n",
    "\n",
    "Pandas ist eine Bibliothek zur Verarbeitung und Analyse von Daten in Form von\n",
    "Tabellen und Zeitreihen. Die beiden grundlegenden Datenstrukturen sind **Series**\n",
    "und **DataFrame** für Datenreihen und Tabellen.\n",
    "\n",
    "```{figure} pics/chap02_sec01_ml-workflow.pdf\n",
    ":name: fig_chap02_sec01_ml-workflow\n",
    "Vereinfachter Ablauf eines Projektes zur Datenanalyse\n",
    "```\n"
   ]
  },
  {
   "cell_type": "markdown",
   "metadata": {},
   "source": [
    "In dieser Woche widmen wir uns dem Modul Numpy, das Klassen und Funktionen für numerisches Python enthält. Die Themen sind also:\n",
    "\n",
    "* Modul Numpy\n",
    "* Erzeugung von NumPy-Arrays\n",
    "* Eigenschaften von NumPy-Arrays \n",
    "* Zugriff auf NumPy-Arrays (direkter Zugriff und Slicing)\n",
    "* Verketten und Aufteilen \n",
    "* Funktionen auf NumPy-Arrays anwenden\n"
   ]
  },
  {
   "cell_type": "markdown",
   "metadata": {},
   "source": [
    "\n",
    "\n",
    "Um das Modul Pandas benutzen zu können, müssen wir es zunächst importieren. Es\n",
    "ist üblich, dabei dem Modul eine Abkürzung zu geben, damit wir nicht immer\n",
    "Pandas schreiben müssen, wenn wir eine Funktion aus dem Pandas-Modul benutzen."
   ]
  }
 ],
 "metadata": {
  "interpreter": {
   "hash": "1863971d65633e53ca5b74972b86a14fab6d597ce2ac84dc984546545d2d3a9b"
  },
  "kernelspec": {
   "display_name": "Python 3.9.7 ('python39')",
   "language": "python",
   "name": "python3"
  },
  "language_info": {
   "name": "python",
   "version": "3.9.7"
  },
  "orig_nbformat": 4
 },
 "nbformat": 4,
 "nbformat_minor": 2
}
