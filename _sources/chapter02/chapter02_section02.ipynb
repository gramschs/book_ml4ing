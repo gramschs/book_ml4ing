{
 "cells": [
  {
   "cell_type": "markdown",
   "id": "64ebcffc",
   "metadata": {},
   "source": [
    "# Bool, Vergleiche und Programmverzweigung\n",
    "\n",
    "## Lernziele\n",
    "\n",
    "```{admonition} Lernziele\n",
    ":class: hint\n",
    "* Sie kennen den Datentyp **Bool**.\n",
    "* Sie kennen die wichtigsten **Vergleichsoperatoren**.\n",
    "* Sie können mit **if — elif — else** Programmverzeigungen programmieren.\n",
    "```\n",
    "\n",
    "## Datentyp Bool und Vergleiche\n",
    "\n",
    "Später möchten wir Werte miteinander vergleichen. Ein simples Beispiel für einen\n",
    "einfachen Vergleich ist beispielsweise das Alter einer Person mit der Zahl 18.\n",
    "Dieser Vergleich ist entweder wahr (True) oder falsch (False). Oder anders\n",
    "formuliert, diese Bedingung ist entweder erfüllt oder nicht erfüllt. \n",
    "\n",
    "Um den Wahrheitswert eines Vergleichs zu beschrieben, hat Python einen eigenen\n",
    "Datentyp namens `bool`. Eine Variable des Datentyps `bool` kann dabei nur zwei\n",
    "verschiedene Werte annehmen, nämlich\n",
    "\n",
    "* `True`: Wahrheitswert ist wahr oder\n",
    "* `False`: Wahrheitswert ist falsch.\n",
    "\n",
    "Und auch für diesen Datentyp gibt es Operationen, wie man diese einsetzt ist\n",
    "eine andere Frage."
   ]
  },
  {
   "cell_type": "code",
   "execution_count": 1,
   "id": "24d18fb7",
   "metadata": {},
   "outputs": [
    {
     "data": {
      "text/plain": [
       "2"
      ]
     },
     "execution_count": 1,
     "metadata": {},
     "output_type": "execute_result"
    }
   ],
   "source": [
    "True + True"
   ]
  },
  {
   "cell_type": "code",
   "execution_count": 2,
   "id": "c2a87fda",
   "metadata": {},
   "outputs": [
    {
     "data": {
      "text/plain": [
       "0.0"
      ]
     },
     "execution_count": 2,
     "metadata": {},
     "output_type": "execute_result"
    }
   ],
   "source": [
    "False / True"
   ]
  },
  {
   "cell_type": "markdown",
   "id": "84b5eb45",
   "metadata": {},
   "source": [
    "Ein Vergleich ist ein Ausdruck mit zwei Operanden und einem Vergleichsoperator\n",
    "in der Mitte. Die beiden Operanden können auch unterschiedliche Datentypen\n",
    "haben, dann muss der Vergleichsoperator aber sinnvoll für diese Datentypen\n",
    "definiert sein. Z.B. darf man einen Integer mit einem Float vergleichen `3 <\n",
    "17.2`, aber `3 < 'vier'`ist nicht sinnvoll und undefiniert. Es gibt die\n",
    "folgenden Vergleichsoperatoren in Python:\n",
    "\n",
    "* `<` kleiner\n",
    "* `<=` kleiner oder gleich\n",
    "* `>` größer\n",
    "* `>=` größer oder gleich\n",
    "* `==`gleich\n",
    "* `!=` ungleich\n",
    "* `not` Umkehrung/Verneinung\n",
    "\n",
    "Im interaktiven Modus können wir leicht den Wahrheitsgehalt von Vergleichen\n",
    "überprüfen."
   ]
  },
  {
   "cell_type": "code",
   "execution_count": 3,
   "id": "e05ffbe3",
   "metadata": {},
   "outputs": [
    {
     "data": {
      "text/plain": [
       "True"
      ]
     },
     "execution_count": 3,
     "metadata": {},
     "output_type": "execute_result"
    }
   ],
   "source": [
    "x = 30          \n",
    "x > 15          "
   ]
  },
  {
   "cell_type": "code",
   "execution_count": 4,
   "id": "d418f50c",
   "metadata": {},
   "outputs": [
    {
     "data": {
      "text/plain": [
       "False"
      ]
     },
     "execution_count": 4,
     "metadata": {},
     "output_type": "execute_result"
    }
   ],
   "source": [
    "x > 42"
   ]
  },
  {
   "cell_type": "code",
   "execution_count": 5,
   "id": "7e5dc363",
   "metadata": {},
   "outputs": [
    {
     "data": {
      "text/plain": [
       "True"
      ]
     },
     "execution_count": 5,
     "metadata": {},
     "output_type": "execute_result"
    }
   ],
   "source": [
    "x == 30    "
   ]
  },
  {
   "cell_type": "code",
   "execution_count": 6,
   "id": "b0ae8167",
   "metadata": {},
   "outputs": [
    {
     "data": {
      "text/plain": [
       "False"
      ]
     },
     "execution_count": 6,
     "metadata": {},
     "output_type": "execute_result"
    }
   ],
   "source": [
    "x == 42"
   ]
  },
  {
   "cell_type": "code",
   "execution_count": 7,
   "id": "574a6459",
   "metadata": {},
   "outputs": [
    {
     "data": {
      "text/plain": [
       "True"
      ]
     },
     "execution_count": 7,
     "metadata": {},
     "output_type": "execute_result"
    }
   ],
   "source": [
    "not x == 42 "
   ]
  },
  {
   "cell_type": "code",
   "execution_count": 8,
   "id": "0a3fd613",
   "metadata": {},
   "outputs": [
    {
     "data": {
      "text/plain": [
       "True"
      ]
     },
     "execution_count": 8,
     "metadata": {},
     "output_type": "execute_result"
    }
   ],
   "source": [
    "x != 42"
   ]
  },
  {
   "cell_type": "code",
   "execution_count": 9,
   "id": "d678e4c6",
   "metadata": {},
   "outputs": [
    {
     "data": {
      "text/plain": [
       "False"
      ]
     },
     "execution_count": 9,
     "metadata": {},
     "output_type": "execute_result"
    }
   ],
   "source": [
    "x > 30  "
   ]
  },
  {
   "cell_type": "code",
   "execution_count": 10,
   "id": "2a383405",
   "metadata": {},
   "outputs": [
    {
     "data": {
      "text/plain": [
       "True"
      ]
     },
     "execution_count": 10,
     "metadata": {},
     "output_type": "execute_result"
    }
   ],
   "source": [
    "x >= 30"
   ]
  },
  {
   "cell_type": "markdown",
   "id": "c9a41ab7",
   "metadata": {},
   "source": [
    "<iframe width=\"560\" height=\"315\" src=\"https://www.youtube.com/embed/ucsv_Nhhxmk\" title=\"YouTube video player\" frameborder=\"0\" allow=\"accelerometer; autoplay; clipboard-write; encrypted-media; gyroscope; picture-in-picture\" allowfullscreen></iframe>"
   ]
  },
  {
   "cell_type": "markdown",
   "id": "6ee1e228",
   "metadata": {},
   "source": [
    "## Programmverzweigungen: if — elif — else \n",
    "\n",
    "Bei einer Programmverzweigung wird Code abhängig von einer Bedingung ausgeführt.\n",
    "Dabei kann es sich um einfache Verzweigung wie die Frage: Gehe ich nach rechts\n",
    "oder gehe ich nach links? Oder die Verzweigung kann komplizierter geschachtelt\n",
    "sein.\n",
    "\n",
    "### if-Anweisung\n",
    "Im einfachsten Fall liegt ein `if`-Block vor. Die Syntax lautet wie folgt:\n",
    "\n",
    "```python\n",
    "if bedingung:\n",
    "    anweisungsblock\n",
    "```\n",
    "\n",
    "Ist die Bedingung erfüllt, also `True`, so wird der eingerückte Anweisungsblock\n",
    "ausgeführt, ansonsten übersprungen.\n",
    "\n",
    "Wichtig ist, dass die Anweisung oder mehrere Anweisungen (d.h. der\n",
    "Anweisungsblock) eingerückt ist. Hier kommt eine Python-spezifische Eigenschaft\n",
    "zum Tragen. Der Block wird nicht durch Klammern oder ein begin/end\n",
    "gekennzeichnet, sondern nur durch die Einrückung. Empfehlenswert sind hier vier\n",
    "Leerzeichen. Was immer man wählt, in einer Python-Datei muss stets dieselbe\n",
    "Einrückungstiefe verwendet werden. Daher ist es ungünstig, Tabulatore und\n",
    "Leerzeichen zu mischen, weil man bei Weitergabe des Codes nicht weiß, wie auf\n",
    "dem Zielsystem die Tabulatorbreite definiert ist.\n",
    "\n",
    "Wir betrachten nun ein Beispiel:"
   ]
  },
  {
   "cell_type": "code",
   "execution_count": 11,
   "id": "f36601dd",
   "metadata": {},
   "outputs": [
    {
     "name": "stdout",
     "output_type": "stream",
     "text": [
      "Sie dürfen Alkohol kaufen.\n",
      "Bananen dürfen Sie immer kaufen, egal wie alt Sie sind ...\n"
     ]
    }
   ],
   "source": [
    "alter = 19\n",
    "if alter >= 18:\n",
    "    print('Sie dürfen Alkohol kaufen.')\n",
    "print('Bananen dürfen Sie immer kaufen, egal wie alt Sie sind ...')"
   ]
  },
  {
   "cell_type": "markdown",
   "id": "92b80ed0",
   "metadata": {},
   "source": [
    "<iframe width=\"560\" height=\"315\" src=\"https://www.youtube.com/embed/b6KzYbM-Hvg\" title=\"YouTube video player\" frameborder=\"0\" allow=\"accelerometer; autoplay; clipboard-write; encrypted-media; gyroscope; picture-in-picture\" allowfullscreen></iframe>"
   ]
  },
  {
   "cell_type": "markdown",
   "id": "4fcef81d",
   "metadata": {},
   "source": [
    "### Mehrteilige Verzweigungen mit elif und else\n",
    "\n",
    "Es gibt auch zweiteilige Programmverzweigungen. Die Syntax wird folgendermaßen\n",
    "erweitert:\n",
    "\n",
    "```python\n",
    "if bedingung:\n",
    "    anweisungsblock 1\n",
    "else:\n",
    "    anweisungsblock 2\n",
    "```\n",
    "\n",
    "Falls die Bedingung erfüllt ist, wird der 1. Anweisungsblock ausgeführt,\n",
    "ansonsten der 2. Anweisungsblock. Danach führt der Python-Interpreter alles nach\n",
    "dem `if-else`-Konstrukt aus. Wichtig ist, dass `if` und `else` die gleiche\n",
    "Einrückungstiefe haben genau wie die beiden Anweisungsblöcke. Bei einer\n",
    "Programmverzweigung wird Code abhängig von einer Bedingung ausgeführt."
   ]
  },
  {
   "cell_type": "code",
   "execution_count": 12,
   "id": "019d2f84",
   "metadata": {},
   "outputs": [
    {
     "name": "stdout",
     "output_type": "stream",
     "text": [
      "Sie dürfen Alkohol kaufen.\n",
      "Jetzt haben wir aber genug über den Alkoholkauf geredet...\n"
     ]
    }
   ],
   "source": [
    "alter = 21\n",
    "if alter >= 18:\n",
    "    print('Sie dürfen Alkohol kaufen.')\n",
    "else:\n",
    "    print('Sie sind noch nicht volljährig und dürfen daher keinen Alkohol kaufen.')\n",
    "print('Jetzt haben wir aber genug über den Alkoholkauf geredet...')"
   ]
  },
  {
   "cell_type": "markdown",
   "id": "66e30f2d",
   "metadata": {},
   "source": [
    "Häufig müssen mehr als zwei Fälle unterschieden werden. Wenn man beispielsweise\n",
    "unterscheiden will, ob eine Zahl negativ oder positiv oder Null ist, verwendet\n",
    "man zusätzlich einen elif-Zweig.\n",
    "\n",
    "Übersichtlicher wird die Programmverzweigung mit der `if-elif-else`-Syntax. `elif`ist die Abkürzung für `else if`. Allgemein sieht das Konstrukt so aus:\n",
    "\n",
    "```python\n",
    "if bedingung 1:\n",
    "    anweisungsblock 1\n",
    "elif bedingung 2:\n",
    "    anweisungsblock 2\n",
    "elif bedingung 3:\n",
    "    anweisungsblock 3\n",
    "    \n",
    "    ...\n",
    "    \n",
    "else:\n",
    "    anweisungsblock n\n",
    "```"
   ]
  },
  {
   "cell_type": "code",
   "execution_count": 13,
   "id": "f31aaa8d",
   "metadata": {},
   "outputs": [
    {
     "name": "stdout",
     "output_type": "stream",
     "text": [
      "a ist positiv.\n"
     ]
    }
   ],
   "source": [
    "a = 17\n",
    "if a == 0:\n",
    "    print(\"a ist Null.\")\n",
    "elif a < 0:\n",
    "    print(\"a ist negativ.\")\n",
    "else:\n",
    "    print(\"a ist positiv.\")"
   ]
  },
  {
   "cell_type": "markdown",
   "id": "d821def5",
   "metadata": {},
   "source": [
    "<iframe width=\"560\" height=\"315\" src=\"https://www.youtube.com/embed/f3YdEdYSNdk\" title=\"YouTube video player\" frameborder=\"0\" allow=\"accelerometer; autoplay; clipboard-write; encrypted-media; gyroscope; picture-in-picture\" allowfullscreen></iframe>"
   ]
  }
 ],
 "metadata": {
  "jupytext": {
   "formats": "ipynb,md:myst",
   "text_representation": {
    "extension": ".md",
    "format_name": "myst",
    "format_version": 0.13,
    "jupytext_version": "1.13.8"
   }
  },
  "kernelspec": {
   "display_name": "Python 3.9.13 ('python39')",
   "language": "python",
   "name": "python3"
  },
  "language_info": {
   "codemirror_mode": {
    "name": "ipython",
    "version": 3
   },
   "file_extension": ".py",
   "mimetype": "text/x-python",
   "name": "python",
   "nbconvert_exporter": "python",
   "pygments_lexer": "ipython3",
   "version": "3.9.13"
  },
  "source_map": [
   13,
   43,
   47,
   49,
   69,
   74,
   78,
   82,
   86,
   90,
   94,
   98,
   100,
   104,
   135,
   140,
   144,
   164,
   171,
   193,
   201
  ]
 },
 "nbformat": 4,
 "nbformat_minor": 5
}