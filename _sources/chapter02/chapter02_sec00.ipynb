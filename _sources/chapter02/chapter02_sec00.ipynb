{
 "cells": [
  {
   "cell_type": "markdown",
   "id": "561bd160",
   "metadata": {},
   "source": [
    "# 2. Crashkurs Python \n",
    "\n",
    "In dieser Vorlesung werden wir Python für maschinelles Lernen nutzen. Daher\n",
    "folgt in diesem Part ein Crashkurs in Python. Wer daran interessiert ist, die\n",
    "Grundlagen von Python zu erlernen, bevor es mit maschinellem Lernen losgeht, ist\n",
    "herzlich dazu eingeladen, das\n",
    "[Python-Vorlesungsskript](https://gramschs.github.io/book_python/intro.html) für\n",
    "Studierende der Ingenieurwissenschaften nutzen.\n",
    "\n",
    "Kapitelübersicht:\n",
    "\n",
    "```{tableofcontents}\n",
    "```"
   ]
  }
 ],
 "metadata": {
  "jupytext": {
   "formats": "ipynb,md:myst",
   "text_representation": {
    "extension": ".md",
    "format_name": "myst",
    "format_version": 0.13,
    "jupytext_version": "1.15.2"
   }
  },
  "kernelspec": {
   "display_name": "Python 3",
   "language": "python",
   "name": "python3"
  },
  "language_info": {
   "codemirror_mode": {
    "name": "ipython",
    "version": 3
   },
   "file_extension": ".py",
   "mimetype": "text/x-python",
   "name": "python",
   "nbconvert_exporter": "python",
   "pygments_lexer": "ipython3",
   "version": "3.11.0"
  },
  "source_map": [
   13
  ]
 },
 "nbformat": 4,
 "nbformat_minor": 5
}