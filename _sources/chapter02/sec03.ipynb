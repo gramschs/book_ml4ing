{
 "cells": [
  {
   "cell_type": "markdown",
   "id": "d3194c01",
   "metadata": {},
   "source": [
    "# Digitale Logik und Schleife mit Bedingung\n",
    "\n",
    "## Lernziele\n",
    "\n",
    "```{admonition} Lernziele\n",
    ":class: hint\n",
    "* Sie können Vergleiche kombinieren und dazu digitale Logik verwenden: **and**, **or** und **not**.\n",
    "* Sie können eine Schleife mit Bedingung **while** programmieren.\n",
    "```\n",
    "\n",
    "## Vergleiche kombinieren - digitale Logik\n",
    "\n",
    "Vorhin haben wir den boolschen Datentyp kennengelernt: wahr oder falsch. Man\n",
    "kann solche Ausdrücke auch kombinieren, z.B. könnte man fordern, dass zwei\n",
    "Bedingungen gleichzeitg erfüllt sein sollen. \n",
    "\n",
    "Beispiel beim Busfahren: Kinder unter 6 Jahren können kostenlos Bus fahren. Ab 6\n",
    "Jahren braucht man eine Fahrkarte. Bis 14 Jahre zahlt man den Kinderpreis, ab 15\n",
    "Jahren den Erwachsenenpreis:"
   ]
  },
  {
   "cell_type": "code",
   "execution_count": 1,
   "id": "536a942b",
   "metadata": {},
   "outputs": [
    {
     "name": "stdout",
     "output_type": "stream",
     "text": [
      "Du darfst eine Kinderfahrkarte kaufen.\n"
     ]
    }
   ],
   "source": [
    "alter = 12\n",
    "if (6 <= alter) and (alter <= 14):\n",
    "    print('Du darfst eine Kinderfahrkarte kaufen.')"
   ]
  },
  {
   "cell_type": "markdown",
   "id": "230d9402",
   "metadata": {},
   "source": [
    "Im Folgenden beschäftigen wir uns daher mit der Verknüpfung von booleschen\n",
    "Ausdrücken. Dieses Fachgebiet nennt man auch boolsche Algebra oder digitale\n",
    "Logik. Wikipedia fasst hier die wichtigsten Regeln zur booleschen Algebra\n",
    "zusammen: https://de.wikipedia.org/wiki/Boolesche_Algebra \n",
    "\n",
    "Wir werden in dieser Vorlesung uns aber auf die logischen Verknüpfungen oder\n",
    "logischen Operatoren \n",
    "\n",
    "* UND\n",
    "* ODER\n",
    "* NICHT\n",
    "\n",
    "beschränken. Nun wenden wir uns der Umsetzung von logischen Verknüpfungen in\n",
    "Python zu.\n",
    "\n",
    "Bedingung 1 | Bedingung 2 | Ergebnis mit ```and```\n",
    "------------|-------------|--------------------------\n",
    "True | True | True\n",
    "False | True | False\n",
    "True | False | False\n",
    "False | False | False"
   ]
  },
  {
   "cell_type": "markdown",
   "id": "fe772a4e",
   "metadata": {},
   "source": [
    "Beispiel: Zwei Personen wollen einen Kinofilm sehen, der erst ab 18 erlaubt ist. Nur wenn beide volljährig sind, können sie den Film gemeinsam besuchen:"
   ]
  },
  {
   "cell_type": "code",
   "execution_count": 2,
   "id": "3c85b48b",
   "metadata": {},
   "outputs": [
    {
     "name": "stdout",
     "output_type": "stream",
     "text": [
      "Sie duerfen beide den Film sehen.\n"
     ]
    }
   ],
   "source": [
    "alter_person1 = 19\n",
    "alter_person2 = 22\n",
    "if (alter_person1 >= 18) and (alter_person2 >= 18):\n",
    "    print('Sie duerfen beide den Film sehen.')\n",
    "else:\n",
    "    print('Vielleicht darf einer von Ihnen den Film sehen, aber nicht beide.')"
   ]
  },
  {
   "cell_type": "markdown",
   "id": "4fed6eaf",
   "metadata": {},
   "source": [
    "Die sogenannte Wahrheitstabelle für die OR-Verknüpfung sieht folgendermaßen aus:\n",
    "\n",
    "Bedingung 1 | Bedingung 2 | Ergebnis mit ```or```\n",
    "------------|-------------|--------------------------\n",
    "True | True | True\n",
    "False | True | True\n",
    "True | False | True\n",
    "False | False | False\n",
    "\n",
    "Beispiel: Zwei Personen wollen ein Auto mieten, dazu muss aber mindestens einer von beiden den Führerschein besitzen."
   ]
  },
  {
   "cell_type": "code",
   "execution_count": 3,
   "id": "730cb7d9",
   "metadata": {},
   "outputs": [
    {
     "name": "stdout",
     "output_type": "stream",
     "text": [
      "Sie duerfen das Auto mieten.\n"
     ]
    }
   ],
   "source": [
    "person1_hat_fuehrerschein = True\n",
    "person2_hat_fuehrerschein = False\n",
    "\n",
    "if (person1_hat_fuehrerschein == True) or (person2_hat_fuehrerschein == True):\n",
    "    print('Sie duerfen das Auto mieten.')\n",
    "else:\n",
    "    print('Keiner von beiden hat einen Fuehrerschein, geht nicht.')"
   ]
  },
  {
   "cell_type": "markdown",
   "id": "ad7f0caf",
   "metadata": {},
   "source": [
    "Übrigens, der Vergleich `person1_hat_fuehrerschein == True` ist eigentlich\n",
    "doppelt gemoppelt, da ja die Variable bereits den Datentyp bool hat. Wir könnten\n",
    "also auch kürzer schreiben"
   ]
  },
  {
   "cell_type": "code",
   "execution_count": 4,
   "id": "f8e69473",
   "metadata": {},
   "outputs": [
    {
     "name": "stdout",
     "output_type": "stream",
     "text": [
      "Sie duerfen das Auto mieten.\n"
     ]
    }
   ],
   "source": [
    "person1_hat_fuehrerschein = True\n",
    "person2_hat_fuehrerschein = False\n",
    "\n",
    "if person1_hat_fuehrerschein or person2_hat_fuehrerschein :\n",
    "    print('Sie duerfen das Auto mieten.')\n",
    "else:\n",
    "    print('Keiner von beiden hat einen Fuehrerschein, geht nicht.')"
   ]
  },
  {
   "cell_type": "markdown",
   "id": "b38d85c3",
   "metadata": {},
   "source": [
    "Die sogenannte Wahrheitstabelle für die NOT-Verknüpfung sieht folgendermaßen aus:\n",
    "\n",
    "Bedingung 1 | Ergebnis mit ```not```\n",
    "------------|--------------------------\n",
    "True | False\n",
    "False | True \n",
    "\n",
    "Beispiel: Wenn eine Person keinen Führerschein hat, muss sie den Bus nehmen."
   ]
  },
  {
   "cell_type": "code",
   "execution_count": 5,
   "id": "45337eb0",
   "metadata": {},
   "outputs": [
    {
     "name": "stdout",
     "output_type": "stream",
     "text": [
      "Sie muessen Bus fahren.\n"
     ]
    }
   ],
   "source": [
    "person_hat_fuehrerschein = False\n",
    "\n",
    "if not person_hat_fuehrerschein:\n",
    "    print('Sie muessen Bus fahren.')\n",
    "else:\n",
    "    print('Sie duerfen Auto fahren.')"
   ]
  },
  {
   "cell_type": "markdown",
   "id": "5f34c5d0",
   "metadata": {},
   "source": [
    "<iframe width=\"560\" height=\"315\" src=\"https://www.youtube.com/embed/075l6R42tkQ\" title=\"YouTube video player\" frameborder=\"0\" allow=\"accelerometer; autoplay; clipboard-write; encrypted-media; gyroscope; picture-in-picture\" allowfullscreen></iframe>"
   ]
  },
  {
   "cell_type": "markdown",
   "id": "c100c915",
   "metadata": {},
   "source": [
    "## Schleifen mit Bedingung \"while\"\n",
    "\n",
    "Bei einer Wiederholung mit Bedingung wird eine Anweisung solange wiederholt, bis\n",
    "die Bedingung erfüllt wird. Sie hat folgende Struktur:\n",
    "\n",
    "```python\n",
    " while Bedingung: \n",
    "        anweisungsblock\n",
    "```\n",
    "\n",
    "Die bedingte Wiederholung wird mit dem Schlüsselwort `while` eingeleitet. Dann\n",
    "folgt die Bedingung, die mit einem `:` abgeschlossen wird. Alle Anweisungen, die\n",
    "wiederholt werden sollen, werden eingerückt. Diesen Teil nennt man das\n",
    "Schleifeninnere, die Zeile `while Bedingung:` nennt man den Schleifenkopf. \n",
    "\n",
    "Beispiel: Wir möchten ein Programm schreiben, das von 10 bis 0 herunterzählt.\n",
    "Für den Countdown benutzen wir eine Variable als Zwischenspeicher. Dies würde in\n",
    "Python wie folgt umgesetzt:"
   ]
  },
  {
   "cell_type": "code",
   "execution_count": 6,
   "id": "f4e0bd78",
   "metadata": {},
   "outputs": [
    {
     "name": "stdout",
     "output_type": "stream",
     "text": [
      "Dieses Programm zählt von 10 runter...\n",
      "10\n",
      "9\n",
      "8\n",
      "7\n",
      "6\n",
      "5\n",
      "4\n",
      "3\n",
      "2\n",
      "1\n",
      "0\n",
      "Jetzt hebt die Rakete ab!\n"
     ]
    }
   ],
   "source": [
    "print('Dieses Programm zählt von 10 runter...')\n",
    "countdown = 10\n",
    "while countdown >= 0:\n",
    "    print(countdown)\n",
    "    countdown = countdown - 1\n",
    "print('Jetzt hebt die Rakete ab!')"
   ]
  },
  {
   "cell_type": "markdown",
   "id": "d37ee136",
   "metadata": {},
   "source": [
    "<iframe width=\"560\" height=\"315\" src=\"https://www.youtube.com/embed/sXLicTuJzB4\" title=\"YouTube video player\" frameborder=\"0\" allow=\"accelerometer; autoplay; clipboard-write; encrypted-media; gyroscope; picture-in-picture\" allowfullscreen></iframe>"
   ]
  }
 ],
 "metadata": {
  "jupytext": {
   "formats": "ipynb,md:myst",
   "text_representation": {
    "extension": ".md",
    "format_name": "myst",
    "format_version": 0.13,
    "jupytext_version": "1.13.8"
   }
  },
  "kernelspec": {
   "display_name": "Python 3.9.13 ('python39')",
   "language": "python",
   "name": "python3"
  },
  "language_info": {
   "codemirror_mode": {
    "name": "ipython",
    "version": 3
   },
   "file_extension": ".py",
   "mimetype": "text/x-python",
   "name": "python",
   "nbconvert_exporter": "python",
   "pygments_lexer": "ipython3",
   "version": "3.9.13"
  },
  "source_map": [
   13,
   35,
   39,
   63,
   67,
   74,
   87,
   95,
   101,
   109,
   120,
   127,
   131,
   152,
   159
  ]
 },
 "nbformat": 4,
 "nbformat_minor": 5
}