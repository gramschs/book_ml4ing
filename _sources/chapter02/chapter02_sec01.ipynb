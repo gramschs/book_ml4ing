{
 "cells": [
  {
   "cell_type": "markdown",
   "id": "4f845d1f",
   "metadata": {},
   "source": [
    "# 2.1 Datentypen, Variablen und print()\n",
    "\n",
    "Beim maschinellen Lernen geht es um Daten und Algorithmen. Dabei können die\n",
    "Daten alles Mögliche umfassen, beispielsweise Zahlen oder Texte. Daher\n",
    "beschäftigen wir uns zuerst mit Datentypen. Dann geht es um Variablen und deren\n",
    "Ausgabe auf dem Bildschirm.\n",
    "\n",
    "## Lernziele\n",
    "\n",
    "```{admonition} Lernziele\n",
    ":class: goals\n",
    "* Sie kennen die einfachen Datentypen:\n",
    "    * **Integer**\n",
    "    * **Float**\n",
    "    * **String**\n",
    "* Sie wissen, was eine **Variable** ist und kennen den **Zuweisungsoperator**.\n",
    "* Sie können die **print()**-Funktion zur Ausgabe auf dem Bildschirm anwenden.\n",
    "```\n",
    "\n",
    "## Einfache Datentypen\n",
    "\n",
    "Beim maschinellen Lernen geht es um die Sammlung, Erkundung und Analyse von\n",
    "Daten, um Antworten auf vorgegebene Fragen zu finden. Schematisch stellen wir\n",
    "maschinelles Lernen folgendermaßen dar:\n",
    "\n",
    "```{figure} pics/fig01_prozess.png\n",
    "---\n",
    "width: 600px\n",
    "name: fig01_prozess\n",
    "---\n",
    "Schematische Darstellung der Vorgehensweise im maschinellen Lernen\n",
    "```\n",
    "\n",
    "Der Computer kann Informationen aber nur als 0 und 1 verarbeiten. Auf dem\n",
    "Speichermedium oder im Speicher selbst werden Daten daher als eine Folge von 0\n",
    "und 1 gespeichert. Damit es für uns Programmierinnen und Programmierer einfacher\n",
    "wird, Daten zu speichern und zu verarbeiten, wurden Datentypen eingeführt.  \n",
    "\n",
    "**Datentypen** fassen gleichartige Objekte zusammen und stellen den\n",
    "Programmierer:innen passende Operationen zur Verfügung. Mit Operationen sind die\n",
    "Aktionen gemeint, die mit diesen Datenobjekten durchgeführt werden dürfen.\n",
    "Zahlen dürfen beispielsweise addiert werden, Buchstaben aber nicht. Es hängt von\n",
    "der Programmiersprache ab, welche Datentypen zur Verfügung stehen, wie diese im\n",
    "Hintergrund gespeichert werden und welche Operationen möglich sind.\n",
    "\n",
    "In diesem Kapitel beschäftigen wir uns mit den einfachen Datentypen\n",
    "\n",
    "* Integer,\n",
    "* Float und\n",
    "* String.\n",
    "\n",
    "### Integer und Float\n",
    "\n",
    "In der Programmierung unterscheidet man grundsätzlich zwischen zwei Zahlenarten,\n",
    "den Ganzzahlen und den Gleitkommazahlen/Fließkommazahlen. Die Ganzzahlen werden\n",
    "in der Mathematik als **ganze Zahlen** bezeichnet. In der Informatik wird jedoch\n",
    "der englische Begriff dafür verwendet: **Integer**.\n",
    "\n",
    "Mit Integern können wir ganz normal rechnen, also arithmetische Operationen\n",
    "ausführen:"
   ]
  },
  {
   "cell_type": "code",
   "execution_count": 1,
   "id": "e2e7931e",
   "metadata": {},
   "outputs": [
    {
     "data": {
      "text/plain": [
       "5"
      ]
     },
     "execution_count": 1,
     "metadata": {},
     "output_type": "execute_result"
    }
   ],
   "source": [
    "2+3"
   ]
  },
  {
   "cell_type": "code",
   "execution_count": 2,
   "id": "cb9540fd",
   "metadata": {},
   "outputs": [
    {
     "data": {
      "text/plain": [
       "6"
      ]
     },
     "execution_count": 2,
     "metadata": {},
     "output_type": "execute_result"
    }
   ],
   "source": [
    "2*3"
   ]
  },
  {
   "cell_type": "code",
   "execution_count": 3,
   "id": "22d769af",
   "metadata": {},
   "outputs": [
    {
     "data": {
      "text/plain": [
       "-1"
      ]
     },
     "execution_count": 3,
     "metadata": {},
     "output_type": "execute_result"
    }
   ],
   "source": [
    "6-7"
   ]
  },
  {
   "cell_type": "code",
   "execution_count": 4,
   "id": "a34d1ba7",
   "metadata": {},
   "outputs": [
    {
     "data": {
      "text/plain": [
       "33"
      ]
     },
     "execution_count": 4,
     "metadata": {},
     "output_type": "execute_result"
    }
   ],
   "source": [
    "3*(4+7)"
   ]
  },
  {
   "cell_type": "code",
   "execution_count": 5,
   "id": "e25a5848",
   "metadata": {},
   "outputs": [
    {
     "data": {
      "text/plain": [
       "5.0"
      ]
     },
     "execution_count": 5,
     "metadata": {},
     "output_type": "execute_result"
    }
   ],
   "source": [
    "25/5"
   ]
  },
  {
   "cell_type": "code",
   "execution_count": 6,
   "id": "96a3c569",
   "metadata": {},
   "outputs": [
    {
     "data": {
      "text/plain": [
       "16"
      ]
     },
     "execution_count": 6,
     "metadata": {},
     "output_type": "execute_result"
    }
   ],
   "source": [
    "4**2"
   ]
  },
  {
   "cell_type": "markdown",
   "id": "961f4d5d",
   "metadata": {},
   "source": [
    "Mit einer Operation verlassen wir aber bereits den Bereich der ganzen Zahlen,\n",
    "den Bereich der Integers. `25/5` ist wieder eine ganze Zahl, nicht jedoch\n",
    "`25/3`. Damit sind wir bei den Fließkommazahlen. Auch hier wird üblicherweise\n",
    "der englische Begriff **Float** für **Fließkommazahl** verwendet."
   ]
  },
  {
   "cell_type": "code",
   "execution_count": 7,
   "id": "9f60f6a5",
   "metadata": {},
   "outputs": [
    {
     "data": {
      "text/plain": [
       "6.8"
      ]
     },
     "execution_count": 7,
     "metadata": {},
     "output_type": "execute_result"
    }
   ],
   "source": [
    "2.3 + 4.5"
   ]
  },
  {
   "cell_type": "code",
   "execution_count": 8,
   "id": "c6e5e269",
   "metadata": {},
   "outputs": [
    {
     "data": {
      "text/plain": [
       "3.4999999999999996"
      ]
     },
     "execution_count": 8,
     "metadata": {},
     "output_type": "execute_result"
    }
   ],
   "source": [
    "5.6 - 2.1"
   ]
  },
  {
   "cell_type": "code",
   "execution_count": 9,
   "id": "e1ae723d",
   "metadata": {},
   "outputs": [
    {
     "data": {
      "text/plain": [
       "7.3500000000000005"
      ]
     },
     "execution_count": 9,
     "metadata": {},
     "output_type": "execute_result"
    }
   ],
   "source": [
    "2.1 * 3.5"
   ]
  },
  {
   "cell_type": "code",
   "execution_count": 10,
   "id": "00b199d4",
   "metadata": {},
   "outputs": [
    {
     "data": {
      "text/plain": [
       "2.0"
      ]
     },
     "execution_count": 10,
     "metadata": {},
     "output_type": "execute_result"
    }
   ],
   "source": [
    "3.4 / 1.7"
   ]
  },
  {
   "cell_type": "code",
   "execution_count": 11,
   "id": "93801fa1",
   "metadata": {},
   "outputs": [
    {
     "data": {
      "text/plain": [
       "11.559999999999999"
      ]
     },
     "execution_count": 11,
     "metadata": {},
     "output_type": "execute_result"
    }
   ],
   "source": [
    "3.4 ** 2"
   ]
  },
  {
   "cell_type": "code",
   "execution_count": 12,
   "id": "2e8d1caf",
   "metadata": {},
   "outputs": [
    {
     "data": {
      "text/plain": [
       "2.1000000000000005"
      ]
     },
     "execution_count": 12,
     "metadata": {},
     "output_type": "execute_result"
    }
   ],
   "source": [
    "3.5 * (2.6 - 3.8 / 1.9)"
   ]
  },
  {
   "cell_type": "markdown",
   "id": "34dbd9d0",
   "metadata": {},
   "source": [
    "```{admonition} Hinweis\n",
    ":class: warning\n",
    "Verwenden Sie stets einen Punkt als Dezimaltrennzeichen, nicht ein\n",
    "Komma!\n",
    "```\n",
    "\n",
    "Das folgende Video gibt eine Einführung in das Thema »Zahlen mit Python«.\n",
    "\n",
    "```{dropdown} Video zu \"Zahlen in Python\" von Programmieren lernen\n",
    "<iframe width=\"560\" height=\"315\" src=\"https://www.youtube.com/embed/VtiDkRDPA_c\" \n",
    "title=\"YouTube video player\" frameborder=\"0\" allow=\"accelerometer; autoplay; \n",
    "clipboard-write; encrypted-media; gyroscope; picture-in-picture\" allowfullscreen>\n",
    "</iframe>\n",
    "```\n",
    "\n",
    "### String\n",
    "\n",
    "Daten sind aber sehr oft keine Zahlen. Beispielsweise könnte man sich\n",
    "vorstellen, eine Einkaufsliste zu erstellen und diese im Computer oder in einer\n",
    "Notiz-App auf dem Handy zu speichern. Eine solche **Zeichenkette** heißt in der\n",
    "Informatik **String**. Mit Zeichen meint man dabei Zahlen, Buchstaben oder\n",
    "andere Zeichen wie beispielsweise !\"§$%&/()=?.\n",
    "\n",
    "Strings werden in Python durch einfache Hochkomma oder Anführungszeichen\n",
    "definiert."
   ]
  },
  {
   "cell_type": "code",
   "execution_count": 13,
   "id": "412faa51",
   "metadata": {},
   "outputs": [
    {
     "data": {
      "text/plain": [
       "'Dies ist ein String!'"
      ]
     },
     "execution_count": 13,
     "metadata": {},
     "output_type": "execute_result"
    }
   ],
   "source": [
    "'Dies ist ein String!'"
   ]
  },
  {
   "cell_type": "markdown",
   "id": "a9fe6dac",
   "metadata": {},
   "source": [
    "Mit Strings kann man ebenfalls \"rechnen\", nur ist das Ergebnis vielleicht anders\n",
    "als erwartet."
   ]
  },
  {
   "cell_type": "code",
   "execution_count": 14,
   "id": "8abb93f5",
   "metadata": {},
   "outputs": [
    {
     "data": {
      "text/plain": [
       "'Dies ist ein String!Dies ist ein String!'"
      ]
     },
     "execution_count": 14,
     "metadata": {},
     "output_type": "execute_result"
    }
   ],
   "source": [
    "2 * 'Dies ist ein String!'"
   ]
  },
  {
   "cell_type": "code",
   "execution_count": 15,
   "id": "be4cadb3",
   "metadata": {},
   "outputs": [
    {
     "data": {
      "text/plain": [
       "'String 1 String 2'"
      ]
     },
     "execution_count": 15,
     "metadata": {},
     "output_type": "execute_result"
    }
   ],
   "source": [
    "'String 1 ' + 'String 2' "
   ]
  },
  {
   "cell_type": "markdown",
   "id": "635135b0",
   "metadata": {},
   "source": [
    "Das folgende Video gibt eine Einführung zum Thema »Strings in Python«.\n",
    "\n",
    "```{dropdown} Video zu \"Strings in Python\" von Programmieren lernen\n",
    "<iframe width=\"560\" height=\"315\" src=\"https://www.youtube.com/embed/sTEf4_mrLvw\" \n",
    "title=\"YouTube video player\" frameborder=\"0\" allow=\"accelerometer; autoplay; \n",
    "clipboard-write; encrypted-media; gyroscope; picture-in-picture\" allowfullscreen>\n",
    "</iframe>\n",
    "```\n",
    "\n",
    "## Variablen und Zuweisung\n",
    "\n",
    "**Variablen** sind beschriftete Schubladen. Oder anders formuliert sind\n",
    "Variablen Objekte, denen man einen Namen gibt. Technisch gesehen sind diese\n",
    "Schubladen ein kleiner Bereich im Arbeitsspeicher des Computers. Was in diesen\n",
    "Schubladen aufbewahrt wird, kann sehr unterschiedlich sein. Beispielsweise die\n",
    "Telefonnummer des ADAC-Pannendienstes, die 10. Nachkommastelle von $\\pi$ oder\n",
    "die aktuelle Position des Mauszeigers können in den Schubladen enthalten sein.\n",
    "\n",
    "### Zuweisungen sind keine Gleichungen\n",
    "\n",
    "Wir verwenden Variablen, um bestimmte Werte oder ein bestimmtes Objekt zu\n",
    "speichern. Eine Variable wird durch eine **Zuweisung** erzeugt. Damit meinen\n",
    "wir, dass eine Schublade angelegt wird und die Schublade dann erstmalig gefüllt\n",
    "wird. Das erstmalige Füllen der Schublade nennt man in der Informatik auch\n",
    "Initialisieren. Für die Zuweisung wird in Python das `=`-Zeichen verwendet."
   ]
  },
  {
   "cell_type": "code",
   "execution_count": 16,
   "id": "392e4d4e",
   "metadata": {},
   "outputs": [],
   "source": [
    "x = 0.5"
   ]
  },
  {
   "cell_type": "markdown",
   "id": "1f34c9fd",
   "metadata": {},
   "source": [
    "Sobald die Variable `x` in diesem Beispiel durch eine Zuweisung von 0.5 erstellt\n",
    "wurde, können wir sie verwenden:"
   ]
  },
  {
   "cell_type": "code",
   "execution_count": 17,
   "id": "085c60b1",
   "metadata": {},
   "outputs": [
    {
     "data": {
      "text/plain": [
       "1.5"
      ]
     },
     "execution_count": 17,
     "metadata": {},
     "output_type": "execute_result"
    }
   ],
   "source": [
    "x * 3"
   ]
  },
  {
   "cell_type": "code",
   "execution_count": 18,
   "id": "b27fe37b",
   "metadata": {},
   "outputs": [
    {
     "data": {
      "text/plain": [
       "17.5"
      ]
     },
     "execution_count": 18,
     "metadata": {},
     "output_type": "execute_result"
    }
   ],
   "source": [
    "x + 17"
   ]
  },
  {
   "cell_type": "markdown",
   "id": "b2e222bb",
   "metadata": {},
   "source": [
    "Wichtig ist, dass das `=` in der Informatik eine andere Bedeutung hat als in der\n",
    "Mathematik. `=` meint nicht das Gleichheitszeichen, sondern den sogenannten\n",
    "**Zuweisungsoperator**. Das ist in der Programmierung ein Kommando, das eine\n",
    "Schublade befüllt oder technischer ausgedrückt, ein Objekt einer Variable\n",
    "zuweist.\n",
    "\n",
    "Variablen müssen initalisiert (erstmalig mit einem Wert versehen) werden, bevor\n",
    "sie verwendet werden können, sonst tritt ein Fehler auf.\n",
    "\n",
    "```{admonition} Mini-Übung\n",
    ":class: miniexercise\n",
    "Fügen Sie eine Code-Zelle ein und schreiben Sie in die Code-Zelle einfach nur `n`. Lassen Sie die Code-Zelle ausführen. Was passiert?\n",
    "```\n",
    "\n",
    "```{admonition} Lösung\n",
    ":class: miniexercise, toggle\n",
    "Es erscheint eine Fehlermeldung, da eine Variable einen Wert haben muss, bevor sie das erste Mal benutzt wird.\n",
    "```\n",
    "\n",
    "Sehr häufig findet man Code wie"
   ]
  },
  {
   "cell_type": "code",
   "execution_count": 19,
   "id": "ff5563e5",
   "metadata": {},
   "outputs": [],
   "source": [
    "x = x + 1"
   ]
  },
  {
   "cell_type": "markdown",
   "id": "49b7f8ae",
   "metadata": {},
   "source": [
    "Würden wir dies als Gleichung lesen, wie wir es aus der Mathematik gewohnt sind,\n",
    "x = x + 1, könnten wir x auf beiden Seiten subtrahieren und erhalten 0 = 1. Wir\n",
    "wissen, dass dies nicht wahr ist, also stimmt hier etwas nicht.\n",
    "\n",
    "In Python sind Gleichungen keine mathematischen Gleichungen, sondern\n",
    "Zuweisungen. \"=\" ist kein Gleichheitszeichen im mathematischen Sinne, sondern\n",
    "eine Zuweisung. Die Zuweisung muss immer in der folgenden Weise zweistufig\n",
    "gelesen werden:\n",
    "\n",
    "1. Berechne den Wert auf der rechten Seite (also x+1).\n",
    "2. Weise den Wert auf der rechten Seite dem auf der linken Seite stehenden\n",
    "   Variablennamen zu (in Python-Sprechweise: binde dem Namen auf der linken\n",
    "   Seite an das auf der rechten Seite angezeigte Objekt)."
   ]
  },
  {
   "cell_type": "code",
   "execution_count": 20,
   "id": "5efd8dbf",
   "metadata": {},
   "outputs": [
    {
     "data": {
      "text/plain": [
       "5"
      ]
     },
     "execution_count": 20,
     "metadata": {},
     "output_type": "execute_result"
    }
   ],
   "source": [
    "x = 4     \n",
    "x = x + 1\n",
    "x"
   ]
  },
  {
   "cell_type": "markdown",
   "id": "4a6922fa",
   "metadata": {},
   "source": [
    "### Richtlinien für Variablennamen\n",
    "\n",
    "Früher war der Speicherplatz von Computern klein, daher wurden häufig nur kurze\n",
    "Variablennamen wie beispielsweise `i` oder `N` verwendet. Heutzutage ist es\n",
    "Standard, nur in Ausnahmefällen (z.B. in Schleifen, dazu kommen wir noch) kurze\n",
    "Variablennamen zu nehmen. Stattdessen werden Namen benutzt, bei denen man\n",
    "erraten kann, was die Variable für einen Einsatzzweck hat. Beispielsweise lässt\n",
    "der Code"
   ]
  },
  {
   "cell_type": "code",
   "execution_count": 21,
   "id": "7b8c8bbf",
   "metadata": {},
   "outputs": [
    {
     "data": {
      "text/plain": [
       "95.2"
      ]
     },
     "execution_count": 21,
     "metadata": {},
     "output_type": "execute_result"
    }
   ],
   "source": [
    "m = 0.19\n",
    "n = 80\n",
    "b = n + m*n\n",
    "b"
   ]
  },
  {
   "cell_type": "markdown",
   "id": "f7f8d3f4",
   "metadata": {},
   "source": [
    "nur schwer vermuten, was damit bezweckt wird. Dagegen erahnt man bei diesem Code\n",
    "schon eher, was bezweckt wird:"
   ]
  },
  {
   "cell_type": "code",
   "execution_count": 22,
   "id": "23331d82",
   "metadata": {},
   "outputs": [
    {
     "data": {
      "text/plain": [
       "95.2"
      ]
     },
     "execution_count": 22,
     "metadata": {},
     "output_type": "execute_result"
    }
   ],
   "source": [
    "mehrwertsteuersatz = 19/100\n",
    "nettopreis = 80\n",
    "bruttopreis = nettopreis + mehrwertsteuersatz * nettopreis\n",
    "bruttopreis"
   ]
  },
  {
   "cell_type": "markdown",
   "id": "aa3ed02d",
   "metadata": {},
   "source": [
    "Code-Zellen zeigen arithmetische Operationen direkt nach Ausführen der\n",
    "Code-Zelle an. Wenn allerdings in der Code-Zelle mehrere Python-Anweisungen\n",
    "sind, müssen wir in die letzte Zeile nochmal die Variable selbst hinschreiben,\n",
    "deren Wert angezeigt werden soll. Das ist etwas umständlich und funktioniert\n",
    "auch nur mit Jupyter Notebooks. Normalerweise gibt es dazu eine Python-Funktion\n",
    "`print()`, auf die wir später noch zurückkommen.\n",
    "\n",
    "Verwenden Sie für Variablennamen nur ASCII-Zeichen, also keine Umlaute wie ö, ü\n",
    "oder ß. Zahlen sind erlaubt, aber nicht am Anfang des Namens. Es ist sinnvoll,\n",
    "lange Variablen durch einen Unterstrich besser lesbar zu gestalten (sogenannte\n",
    "Snake-Case-Formatierung). Ich empfehle für Variablennamen beispielsweise\n",
    "\n",
    "`dateiname_alt` oder `dateiname_neu`\n",
    "\n",
    "wenn beispielsweise eine Datei umbenannt wird. Sie sind frei in der Gestaltung\n",
    "der Variablennamen, verboten sind nur die sogannnten Schlüsselwörter.\n",
    "\n",
    "Die folgenden beiden Videos fassen die beiden Themen Variablen und Zuweisungen\n",
    "nochmals zusammen.\n",
    "\n",
    "```{dropdown} Video zu \"Variablen in Python\" von Programmieren lernen\n",
    "<iframe width=\"560\" height=\"315\" src=\"https://www.youtube.com/embed/jfOLXKPGXJ0\" \n",
    "title=\"YouTube video player\" frameborder=\"0\" allow=\"accelerometer; autoplay; \n",
    "clipboard-write; encrypted-media; gyroscope; picture-in-picture\" allowfullscreen>\n",
    "</iframe>\n",
    "```\n",
    "\n",
    "```{dropdown} Video zu \"Zuweisungen in Python\" von Programmieren lernen\n",
    "<iframe width=\"560\" height=\"315\" src=\"https://www.youtube.com/embed/XKFQ2_et5k8\" \n",
    "title=\"YouTube video player\" frameborder=\"0\" allow=\"accelerometer; autoplay; \n",
    "clipboard-write; encrypted-media; gyroscope; picture-in-picture\" allowfullscreen>\n",
    "</iframe>\n",
    "```\n",
    "\n",
    "### Datentypen ermitteln mit type()\n",
    "\n",
    "Werden zwei Integer geteilt, so wird das Ergebnis automatisch in einen Float\n",
    "umgewandelt. Mit Hilfe der Funktion `type()` können wir den Python-Interpreter\n",
    "bestimmen lassen, welcher Datentyp in einer Variable gespeichert ist. Mit\n",
    "Funktion ist an dieser Stelle keine mathematische Funktion gemeint. Eine\n",
    "**Funktion** sind viele Anweisungen nacheinander, um eine bestimmte Teilaufgabe\n",
    "zu lösen. Damit klar ist, dass es sich um eine Funktion und nicht um eine\n",
    "Variable handelt, werden runde Klammern an den Namen der Funktion gehängt.\n",
    "\n",
    "In diesem Fall soll der Datentyp eines Objektes ermittelt werden. Damit der\n",
    "Python-Interpreter weiß, von welcher Variable der Datentyp ermittelt werden\n",
    "soll, schreiben wir die Variable in runde Klammern."
   ]
  },
  {
   "cell_type": "code",
   "execution_count": 23,
   "id": "40693a82",
   "metadata": {},
   "outputs": [
    {
     "data": {
      "text/plain": [
       "int"
      ]
     },
     "execution_count": 23,
     "metadata": {},
     "output_type": "execute_result"
    }
   ],
   "source": [
    "x = 25 * 5\n",
    "type(x)"
   ]
  },
  {
   "cell_type": "code",
   "execution_count": 24,
   "id": "2acade7d",
   "metadata": {},
   "outputs": [
    {
     "data": {
      "text/plain": [
       "float"
      ]
     },
     "execution_count": 24,
     "metadata": {},
     "output_type": "execute_result"
    }
   ],
   "source": [
    "x = 25 / 5\n",
    "type(x)"
   ]
  },
  {
   "cell_type": "markdown",
   "id": "ac15f6a2",
   "metadata": {},
   "source": [
    "Nicht immer ist es aber möglich, Datentypen zu mischen. Dann meldet Python einen\n",
    "Fehler.\n",
    "\n",
    "Das folgende Video fasst die Datentypen Integer, Float und String nochmal zusammen.\n",
    "\n",
    "```{dropdown} Video zu \"Datentypen in Python\" von Programmieren lernen\n",
    "<iframe width=\"560\" height=\"315\" src=\"https://www.youtube.com/embed/1WqFJ5wsA4o\" \n",
    "title=\"YouTube video player\" frameborder=\"0\" allow=\"accelerometer; autoplay; \n",
    "clipboard-write; encrypted-media; gyroscope; picture-in-picture\" allowfullscreen>\n",
    "</iframe>\n",
    "```\n",
    "\n",
    "## Ausgaben mit print()\n",
    "\n",
    "Jetzt lernen Sie eine weitere Python-Funktion kennen. Bei den obigen\n",
    "Rechenaufgaben wurde automatisch das Ergebnis der Rechnung angezeigt, sobald die\n",
    "Code-Zelle ausgeführt wurde. Dies ist eine Besonderheit der Jupyter Notebooks,\n",
    "würde aber in einem normalen Python-Programm nicht funktionieren. Auch möchte\n",
    "man vielleicht ein Zwischenergebnis anzeigen lassen. Die interaktive Ausgabe der\n",
    "Jupyter Notebooks zeigt jedoch immer nur den Inhalt der letzten Zeile an.\n",
    "\n",
    "Für die Anzeige von Rechenergebnissen oder Texten gibt es in Python die\n",
    "**print()**-Funktion. Die print()-Funktion in Python gibt den Wert am Bildschirm\n",
    "aus, der ihr als sogenanntes **Argument** in den runden Klammern übergeben wird.\n",
    "Das kann zum Beispiel eine Zahl oder eine Rechenaufgabe sein, wie in dem\n",
    "folgenden Beispiel."
   ]
  },
  {
   "cell_type": "code",
   "execution_count": 25,
   "id": "fa31d15c",
   "metadata": {},
   "outputs": [
    {
     "name": "stdout",
     "output_type": "stream",
     "text": [
      "2\n",
      "6\n"
     ]
    }
   ],
   "source": [
    "print(2)\n",
    "print(3+3)"
   ]
  },
  {
   "cell_type": "markdown",
   "id": "b1a3058e",
   "metadata": {},
   "source": [
    "In der ersten Zeile ist das Argument für die print()-Funktion die Zahl 2. Das\n",
    "Argument wird in runde Klammern hinter den Funktionsnamen `print` geschrieben.\n",
    "Ein Argument ist sozusagen der Input, der an die print()-Funktion übergeben\n",
    "wird, damit der Python-Interpreter weiß, welcher Wert auf dem Bildschirm\n",
    "angezeigt werden soll.\n",
    "\n",
    "Das zweite Beispiel in der zweiten Zeile funktioniert genauso. Nur wird diesmal\n",
    "eine komplette Rechnung als Argument an die print()-Funktion übergeben. In dem\n",
    "Fall rechnet der Python-Interpreter erst den Wert der Rechnung, also `3+3=6` aus\n",
    "und übergibt dann die `6` an die print()-Funktion. Die print()-Funktion wiederum\n",
    "zeigt dann die `6` am Bildschirm an.\n",
    "\n",
    "```{admonition} Mini-Übung\n",
    ":class: miniexercise\n",
    "Lassen Sie Python den Term $3:4$ berechnen und geben Sie das Ergebnis mit der print()-Funktion aus. \n",
    "```"
   ]
  },
  {
   "cell_type": "code",
   "execution_count": 26,
   "id": "9eab6080",
   "metadata": {},
   "outputs": [],
   "source": [
    "# Geben Sie nach diesem Kommentar Ihren Code ein:"
   ]
  },
  {
   "cell_type": "markdown",
   "id": "d53ca935",
   "metadata": {},
   "source": [
    "````{admonition} Lösung\n",
    ":class: miniexercise, toggle\n",
    "```python\n",
    "print(3/4)\n",
    "```\n",
    "````\n",
    "\n",
    "Python kann mit der print()-Funktion jedoch nicht nur Zahlen ausgeben, sondern\n",
    "auch Texte, also Strings."
   ]
  },
  {
   "cell_type": "code",
   "execution_count": 27,
   "id": "586f362a",
   "metadata": {},
   "outputs": [
    {
     "name": "stdout",
     "output_type": "stream",
     "text": [
      "Hallo\n"
     ]
    }
   ],
   "source": [
    "print('Hallo')"
   ]
  },
  {
   "cell_type": "markdown",
   "id": "7ea3464f",
   "metadata": {},
   "source": [
    "```{admonition} Mini-Übung\n",
    ":class: miniexercise\n",
    "Probieren Sie aus was passiert, wenn Sie die einfachen Anführungszeichen `'`\n",
    "durch doppelte Anführungszeichen `\"` ersetzen. Lassen Sie den Text Hallo Welt\n",
    "ausgeben :-)\n",
    "```"
   ]
  },
  {
   "cell_type": "code",
   "execution_count": 28,
   "id": "a0f8c3ff",
   "metadata": {},
   "outputs": [],
   "source": [
    "# Geben Sie nach diesem Kommentar Ihren Code ein:"
   ]
  },
  {
   "cell_type": "markdown",
   "id": "16d1d930",
   "metadata": {},
   "source": [
    "````{admonition} Lösung\n",
    ":class: miniexercise, toggle\n",
    "```python\n",
    "print(\"Hallo Welt\")\n",
    "```\n",
    "````\n",
    "\n",
    "Zum Schluss behandeln wir noch formatierte Strings, die sogenannten f-Strings.\n",
    "Seit Python 3.6 erleichtert dieser Typ von String die Programmierung. Falls Sie\n",
    "Python-Code sehen, in dem Prozentzeichen vorkommen (ganz, ganz alt) oder die\n",
    "`.format()`-Methode benutzt wird, wundern Sie sich nicht. In dieser Vorlesung\n",
    "verwenden wir jedoch f-Strings.\n",
    "\n",
    "**f-Strings** sind die Abkürzung für \"formatted string literals\". Sie\n",
    "ermöglichen es, den Wert einer Variable oder einen Ausdruck direkt in den String\n",
    "einzubetten. Dazu werden geschweifte Klammern verwendet, also `{` und `}` und zu\n",
    "Beginn des Strings wird ein `f` eingefügt, um aus dem String einen f-String zu\n",
    "machen. Der Python-Interpreter fügt dann zur Laufzeit des Programms den\n",
    "entsprechenden Wert der Variable in den String ein.\n",
    "\n",
    "Hier ein Beispiel:"
   ]
  },
  {
   "cell_type": "code",
   "execution_count": 29,
   "id": "600b17dc",
   "metadata": {},
   "outputs": [
    {
     "name": "stdout",
     "output_type": "stream",
     "text": [
      "Mein Name ist Alice und ich bin 20 Jahre alt.\n"
     ]
    }
   ],
   "source": [
    "name = 'Alice'\n",
    "alter = 20\n",
    "print(f'Mein Name ist {name} und ich bin {alter} Jahre alt.')"
   ]
  },
  {
   "cell_type": "markdown",
   "id": "9c3fe196",
   "metadata": {},
   "source": [
    "Insbesondere bei Ausgabe von Zahlen sind f-Strings besonders nützlich. Wenn nach\n",
    "dem Variablennamen ein Doppelpunkt eingefügt wird, kann danach die Anzahl der\n",
    "gewünschten Stellen vor dem Komma (hier natürlich ein Punkt) und der\n",
    "Nachkommastellen festgelegt werden. Zusätzlich setzen wir ein `f` in die\n",
    "geschweiften Klammern, um einen Float anzeigen zu lassen. Im folgenden Beispiel\n",
    "geben wir $\\pi$ auf zwei Nachkommastellen an."
   ]
  },
  {
   "cell_type": "code",
   "execution_count": 30,
   "id": "e43a9d6b",
   "metadata": {},
   "outputs": [
    {
     "name": "stdout",
     "output_type": "stream",
     "text": [
      "Pi = 3.14\n"
     ]
    }
   ],
   "source": [
    "pi = 3.141592653589793238462643383279\n",
    "print(f'Pi = {pi:1.2f}')"
   ]
  },
  {
   "cell_type": "markdown",
   "id": "d269462f",
   "metadata": {},
   "source": [
    "Es ist schwierig, sich alle Formatierungsoptionen zu merken. Auf der\n",
    "Internetseite\n",
    "[https://cheatography.com/brianallan/cheat-sheets/python-f-strings-basics/](https://cheatography.com/brianallan/cheat-sheets/python-f-strings-basics/)\n",
    "finden Sie eine umfangreiche Übersicht und können sich zudem ein pdf-Ddokument\n",
    "herunterladen.\n",
    "\n",
    "```{admonition} Mini-Übung\n",
    ":class: miniexercise\n",
    "Schreiben Sie ein Programm, mit dem der Flächeninhalt eines Rechtecks berechnet werden soll. Die beide Seitenlängen werden jeweils in den Variablen `laenge` und `breite` gespeichert (suchen Sie sich eigene Zahlen aus). Ausgegeben werden soll dann: \"Der Flächeninhalt eines Rechtecks mit den Seiten XX und XX ist XX.\", wobei XX durch die korrekten Zahlen ersetzt werden und der Flächeninhalt auf eine Nachkommastelle gerundet werden soll.\n",
    "```\n",
    "\n",
    "````{admonition} Lösung\n",
    ":class: miniexercise, toggle\n",
    "```python\n",
    "# Eingabe\n",
    "laenge = 5.5\n",
    "breite = 6.3\n",
    "\n",
    "# Verarbeitung\n",
    "flaeche = laenge * breite\n",
    "\n",
    "# Ausgabe \n",
    "print(f'Der Flächeninhalt eines Rechtecks mit den Seiten {laenge} und {breite} ist {flaeche:.1f}.')\n",
    "```\n",
    "````\n",
    "\n",
    "## Zusammenfassung und Ausblick\n",
    "\n",
    "In diesem Kapitel haben wir gelernt, was ein Datentyp ist, wie eine Variable mit\n",
    "einem Wert gefüllt wird und mit der print()-Funktion am Bildschirm ausgegeben\n",
    "wird. Die einfachsten Datentypen Integer, Float und String reichen allerdings\n",
    "nicht aus, um z.B. die eine Adresse mit Straße (String), Hausnummer (Integer)\n",
    "und Postleitzahl (Integer) in einer Variablen gemeinsam zu speichern. Dazu\n",
    "lernen wir im nächsten Abschnitt den Datentyp Liste kennen."
   ]
  }
 ],
 "metadata": {
  "jupytext": {
   "formats": "ipynb,md:myst",
   "text_representation": {
    "extension": ".md",
    "format_name": "myst",
    "format_version": 0.13,
    "jupytext_version": "1.15.2"
   }
  },
  "kernelspec": {
   "display_name": "Python 3",
   "language": "python",
   "name": "python3"
  },
  "language_info": {
   "codemirror_mode": {
    "name": "ipython",
    "version": 3
   },
   "file_extension": ".py",
   "mimetype": "text/x-python",
   "name": "python",
   "nbconvert_exporter": "python",
   "pygments_lexer": "ipython3",
   "version": "3.12.2"
  },
  "source_map": [
   13,
   76,
   80,
   84,
   88,
   92,
   96,
   98,
   105,
   109,
   113,
   117,
   121,
   125,
   127,
   155,
   157,
   162,
   166,
   168,
   196,
   198,
   203,
   207,
   209,
   232,
   234,
   250,
   254,
   265,
   270,
   275,
   280,
   330,
   335,
   338,
   367,
   370,
   389,
   391,
   403,
   405,
   414,
   416,
   440,
   444,
   453,
   456
  ]
 },
 "nbformat": 4,
 "nbformat_minor": 5
}