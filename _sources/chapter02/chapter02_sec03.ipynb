{
 "cells": [
  {
   "cell_type": "markdown",
   "id": "f07f7047",
   "metadata": {},
   "source": [
    "# 2.3 Funktionen und Methoden\n",
    "\n",
    "Sobald die Funktionalitäten komplexer werden, lohnt es sich Code in eigene\n",
    "Funktionsbausteine auszulagern und vor allem auf Code von anderen\n",
    "Programmier:innen zurückzugreifen. Code, der eine Teilaufgabe löst und einen\n",
    "eigenständigen Namen bekommt, wird **Funktion** genannt. Ist die Funktion direkt\n",
    "an einen Datentyp gekoppelt, wird die Funktion **Methode** genannt. In diesem\n",
    "Kapitel gehen wir sehr kurz auf die wichtigsten Grundlagen von Funktionen und\n",
    "Methoden ein.\n",
    "\n",
    "## Lernziele\n",
    "\n",
    "```{admonition} Lernziele\n",
    ":class: goals\n",
    "* Sie können selbst eine **Funktion** mit Parametern und Rückgabewert\n",
    "  implementieren.\n",
    "* Sie kennen das Konzept der **objektorientierten Programmierung**.\n",
    "* Sie wissen, was **Klassen** und **Methoden** sind.\n",
    "```\n",
    "\n",
    "\n",
    "## Funktionen\n",
    "\n",
    "Eine Funktion ist eine Zusammenfassung von Code, der eine bestimmte Teilaufgabe\n",
    "löst. Dabei arbeitet die Funktion nach dem EVA-Prinzip (Eingabe, Verarbeitung,\n",
    "Ausgabe). Die Funktion übernimmt Objekte als Eingabe, verarbeitet diese und\n",
    "liefert Objekte als Ergebnis zurück. Wie die Funktion dabei im Inneren genau\n",
    "funktioniert (Verarbeitung), ist unwichtig.\n",
    "\n",
    "Insbesondere muss die Teilaufgabe, die die Funktion löst, nichts mit Mathematik\n",
    "zu tun haben. Eine Funktion in der Informatik hat nichts mit einer\n",
    "mathematischen Funktion zu tun, auch wenn oft mathematische Funktionen als\n",
    "Beispiel verwendet werden. Ein Beispiel für eine nicht-mathematische Funktion\n",
    "haben Sie mit `print()` bereits kennengelernt.\n",
    "\n",
    "\n",
    "### Die Benutzung von Funktionen (oder der Aufruf von Funktionen)\n",
    "\n",
    "Eine Funktion wird benutzt, indem man den Namen der Funktion hinschreibt und\n",
    "dann in runden Klammern ihre Argumente. Welche Argumente für eine Funktion\n",
    "verwendet werden dürfen, hängt von der Implementierung der Funktion ab.\n",
    "\n",
    "Beispielsweise kann als Argument für die `len()`-Funktion ein String übergeben\n",
    "werden oder eine Liste."
   ]
  },
  {
   "cell_type": "code",
   "execution_count": 1,
   "id": "269248dc",
   "metadata": {},
   "outputs": [
    {
     "data": {
      "text/plain": [
       "5"
      ]
     },
     "execution_count": 1,
     "metadata": {},
     "output_type": "execute_result"
    }
   ],
   "source": [
    "len('Hallo')"
   ]
  },
  {
   "cell_type": "code",
   "execution_count": 2,
   "id": "9e0f9cac",
   "metadata": {},
   "outputs": [
    {
     "data": {
      "text/plain": [
       "6"
      ]
     },
     "execution_count": 2,
     "metadata": {},
     "output_type": "execute_result"
    }
   ],
   "source": [
    "len([1,2,3,4,8,2])"
   ]
  },
  {
   "cell_type": "markdown",
   "id": "9b200160",
   "metadata": {},
   "source": [
    "In der Regel geben Funktionen wieder Ergebnisse zurück. Diese können einer\n",
    "Variable zugewiesen werden, um weiter mit dem Ergebnis zu arbeiten."
   ]
  },
  {
   "cell_type": "code",
   "execution_count": 3,
   "id": "15623a59",
   "metadata": {},
   "outputs": [
    {
     "name": "stdout",
     "output_type": "stream",
     "text": [
      "Mein Wort Hallo hat 5 Zeichen.\n"
     ]
    }
   ],
   "source": [
    "wort = 'Hallo'\n",
    "anzahl_zeichen = len(wort)\n",
    "print(f'Mein Wort {wort} hat {anzahl_zeichen} Zeichen.')"
   ]
  },
  {
   "cell_type": "markdown",
   "id": "604fc46c",
   "metadata": {},
   "source": [
    "### Definition von einfachen Funktionen\n",
    "\n",
    "Um selbst eine Funktion zu definieren, benutzen wir das Schlüsselwort `def`.\n",
    "Danach wählen wir einen Funktionsnamen und hängen an den Funktionsnamen runde\n",
    "Klammern gefolgt von einem Doppelpunkt. Die Anweisungen, die ausgeführt werden\n",
    "sollen, sobald die Funktion aufgerufen wird, werden eingerückt.\n",
    "\n",
    "Als erstes Beispiel einer sehr einfachen Funktion betrachten wir die folgende\n",
    "Funktion:"
   ]
  },
  {
   "cell_type": "code",
   "execution_count": 4,
   "id": "063323fd",
   "metadata": {},
   "outputs": [],
   "source": [
    "def gruesse_ausrichten():\n",
    "    print('Ich grüße Sie!')"
   ]
  },
  {
   "cell_type": "markdown",
   "id": "4f1284ac",
   "metadata": {},
   "source": [
    "Die Funktion hat keine Argumente und keine Rückgabe, sondern gibt einfqach nur\n",
    "einen Text auf dem Bildschirm aus. Nachdem die Funktion `gruesse_ausrichten()`\n",
    "so implementiert wurde, können wir sie im Folgenden direkt verwenden."
   ]
  },
  {
   "cell_type": "code",
   "execution_count": 5,
   "id": "a70bfaeb",
   "metadata": {},
   "outputs": [
    {
     "name": "stdout",
     "output_type": "stream",
     "text": [
      "Ich grüße Sie!\n"
     ]
    }
   ],
   "source": [
    "gruesse_ausrichten()"
   ]
  },
  {
   "cell_type": "markdown",
   "id": "f3690611",
   "metadata": {},
   "source": [
    "Und natürlich kann man sie in Programmverzweigungen und Schleifen einbauen.\n",
    "\n",
    "```{admonition} Mini-Übung\n",
    ":class: miniexercise\n",
    "Schreiben Sie eine Funktion, die den Namen `hallihallo` hat und das Wort Hallihallo ausgibt. Testen Sie Ihre Funktion auch.\n",
    "```"
   ]
  },
  {
   "cell_type": "code",
   "execution_count": 6,
   "id": "8ed5b5a9",
   "metadata": {},
   "outputs": [],
   "source": [
    "# Hier Ihr Code:"
   ]
  },
  {
   "cell_type": "markdown",
   "id": "dd49bc54",
   "metadata": {},
   "source": [
    "````{admonition} Lösung\n",
    ":class: minisolution, toggle\n",
    "```python\n",
    "def hallihallo():\n",
    "    print('Hallihallo!')\n",
    "\n",
    "# Test\n",
    "hallihallo()\n",
    "```\n",
    "````\n",
    "\n",
    "Das folgende Video zeigt, wie Funktionen selbst definiert werden.\n",
    "\n",
    "```{dropdown} Video zu \"Funktionen selbst definieren\" von Programmieren lernen\n",
    "<iframe width=\"560\" height=\"315\" src=\"https://www.youtube.com/embed/LQCfN5HS9xI\" \n",
    "title=\"YouTube video player\" frameborder=\"0\" allow=\"accelerometer; autoplay; \n",
    "clipboard-write; encrypted-media; gyroscope; picture-in-picture\" allowfullscreen></iframe>\n",
    "```\n",
    "\n",
    "### Funktionen mit Parametern\n",
    "\n",
    "Meistens haben Funktionen Argumente, um Eingaben/Input entgegennehmen und\n",
    "verarbeiten zu können. Das Argument wird bei der Implementierung der Funktion\n",
    "mit einer Variable eingeführt, wie in dem folgenden Beispiel `name`."
   ]
  },
  {
   "cell_type": "code",
   "execution_count": 7,
   "id": "3d30b9ca",
   "metadata": {},
   "outputs": [],
   "source": [
    "def gruesse_ausrichten_mit_parameter(name):\n",
    "    print(f'Ich grüße {name}')"
   ]
  },
  {
   "cell_type": "markdown",
   "id": "d6bd7a61",
   "metadata": {},
   "source": [
    "Der Aufruf einer Funktion ohne passende Argumente führt zu einer Fehlermeldung.\n",
    "Entfernen Sie das Kommentarzeichen `#` und führen Sie die nachfolgende\n",
    "Code-Zelle aus:"
   ]
  },
  {
   "cell_type": "code",
   "execution_count": 8,
   "id": "c8fa021b",
   "metadata": {},
   "outputs": [],
   "source": [
    "#gruesse_ausrichten_mit_parameter()"
   ]
  },
  {
   "cell_type": "markdown",
   "id": "827ae5c1",
   "metadata": {},
   "source": [
    "Daher müssen wir die modifizierte Funktion nun wie folgt aufrufen:"
   ]
  },
  {
   "cell_type": "code",
   "execution_count": 9,
   "id": "d03d0ad6",
   "metadata": {},
   "outputs": [
    {
     "name": "stdout",
     "output_type": "stream",
     "text": [
      "Ich grüße Bob\n"
     ]
    }
   ],
   "source": [
    "gruesse_ausrichten_mit_parameter('Bob')"
   ]
  },
  {
   "cell_type": "markdown",
   "id": "ae7350a6",
   "metadata": {},
   "source": [
    "Die Funktion `gruesse_ausrichten_mit_parameter()` hat aber keinen Rückgabewert.\n",
    "Das können wir wie folgt testen:"
   ]
  },
  {
   "cell_type": "code",
   "execution_count": 10,
   "id": "7cd734d7",
   "metadata": {},
   "outputs": [
    {
     "name": "stdout",
     "output_type": "stream",
     "text": [
      "Ich grüße Alice\n"
     ]
    },
    {
     "data": {
      "text/plain": [
       "NoneType"
      ]
     },
     "execution_count": 10,
     "metadata": {},
     "output_type": "execute_result"
    }
   ],
   "source": [
    "x = gruesse_ausrichten_mit_parameter('Alice')\n",
    "type(x)"
   ]
  },
  {
   "cell_type": "markdown",
   "id": "95d5f5e8",
   "metadata": {},
   "source": [
    "`x` ist vom Typ `NoneType` oder anders ausgedrückt, es hat keinen Datentyp. \n",
    "\n",
    "Sind Funktionen ohne Rückgabewert sinnvoll? Ja, denn so können Codeblöcke\n",
    "vereinfacht werden. Sollte in einem Programm Code mehrmals ausgeführt werden,\n",
    "lohnt es sich, diesen in eine Funktion auszulagern, um diese einfach aufrufen zu\n",
    "können.\n",
    "\n",
    "\n",
    "````{admonition} Mini-Übung\n",
    ":class: miniexercise\n",
    "Schreiben Sie eine Funktion mit zwei Parametern, nämlich Vor- und Nachname. Wenn \n",
    "die Funktion z.B. mit `(Alice, Miller)` aufgerufen wird, soll sie Folgendes auf \n",
    "dem Bildschirm ausgeben:\n",
    "\n",
    "```python\n",
    "Vorname: Alice\n",
    "Nachname: Miller\n",
    "```\n",
    "````"
   ]
  },
  {
   "cell_type": "code",
   "execution_count": 11,
   "id": "ec4eccd4",
   "metadata": {},
   "outputs": [],
   "source": [
    "# Hier Ihr Code:"
   ]
  },
  {
   "cell_type": "markdown",
   "id": "b8103ce6",
   "metadata": {},
   "source": [
    "````{admonition} Lösung\n",
    ":class: minisolution, toggle\n",
    "```python\n",
    "def gruesse_ausrichten_mit_parametern(vorname, nachname):\n",
    "    print(f'Vorname: {vorname}')\n",
    "    print(f'Nachname: {nachname})\n",
    "\n",
    "gruesse_ausrichten_mit_parametern('Alice', 'im Wunderland')\n",
    "```\n",
    "````\n",
    "\n",
    "Das folgende Video zeigt, wie Funktionen mit Parametern in Python implementiert\n",
    "werden.\n",
    "\n",
    "```{dropdown} Video zu \"Funktionen mit Parametern\" von Programmieren lernen\n",
    "<iframe width=\"560\" height=\"315\" src=\"https://www.youtube.com/embed/af9ORp1Pty0\" \n",
    "title=\"YouTube video player\" frameborder=\"0\" allow=\"accelerometer; autoplay;\n",
    "clipboard-write; encrypted-media; gyroscope; picture-in-picture\" allowfullscreen>\n",
    "</iframe>\n",
    "```\n",
    "\n",
    "### Funktionen mit Rückgabewert\n",
    "\n",
    "In der Regel jedoch haben Funktionen einen Rückgabewert. Schauen wir uns ein\n",
    "Beispiel an:"
   ]
  },
  {
   "cell_type": "code",
   "execution_count": 12,
   "id": "23c80efc",
   "metadata": {},
   "outputs": [
    {
     "data": {
      "text/plain": [
       "49"
      ]
     },
     "execution_count": 12,
     "metadata": {},
     "output_type": "execute_result"
    }
   ],
   "source": [
    "def berechne_quadrat(x):\n",
    "    return x*x\n",
    "\n",
    "# Aufruf der Funktion\n",
    "berechne_quadrat(7)"
   ]
  },
  {
   "cell_type": "markdown",
   "id": "977f539f",
   "metadata": {},
   "source": [
    "Die Rückgabe wird durch das Schlüsselwort `return` erzeugt. Es ist auch möglich,\n",
    "mehrere Ergebnisse gleichzeitig zurückzugeben. Diese werden einfach nach dem\n",
    "Schlüsselwort `return` mit Kommas getrennt gelistet.\n",
    "\n",
    "````{admonition} Mini-Übung\n",
    ":class: miniexercise\n",
    "Schreiben Sie eine Funktion mit zwei Parametern, nämlich den beiden Seitenlängen eines Rechtecks. Lassen Sie die Fläche des Rechtecks berechnen und zurückgeben. Testen Sie Ihr Funktion auch.\n",
    "````"
   ]
  },
  {
   "cell_type": "code",
   "execution_count": 13,
   "id": "eb775793",
   "metadata": {},
   "outputs": [],
   "source": [
    "# Hier Ihr Code:"
   ]
  },
  {
   "cell_type": "markdown",
   "id": "16705822",
   "metadata": {},
   "source": [
    "````{admonition} Lösung\n",
    ":class: minisolution, toggle\n",
    "```python\n",
    "def berechne_flaecheninhalt_rechteck(seite1, seite2):\n",
    "    return seite1 * seite2\n",
    "\n",
    "# Test der Funktion\n",
    "A = berechne_flaecheninhalt_rechteck(2,3)\n",
    "print(A)\n",
    "```\n",
    "````\n",
    "\n",
    "```{dropdown} Video zu \"Funktionen mit Rückgabewert\" von Programmieren lernen\n",
    "<iframe width=\"560\" height=\"315\" src=\"https://www.youtube.com/embed/ehSP-sYoKCY\" \n",
    "title=\"YouTube video player\" frameborder=\"0\" allow=\"accelerometer; autoplay; \n",
    "clipboard-write; encrypted-media; gyroscope; picture-in-picture\" allowfullscreen>\n",
    "</iframe>\n",
    "```\n",
    "\n",
    "\n",
    "## Objektorientierte Programmierung\n",
    "\n",
    "In den ersten beiden Teilen unseres Crashkurses Python haben wir uns die\n",
    "Grundlagen der Programmierung erarbeitet:\n",
    "\n",
    "* Datentypen (Integer, Float, String, List)\n",
    "* Kontrollstrukturen: for-Schleife\n",
    "* Funktionen.\n",
    "\n",
    "In einigen Programmiersprachen wie beispielsweise C hätten wir damit auch alle\n",
    "Sprachelement kennengelernt. Diese Programmierung nennt man **prozedurale\n",
    "Programmierung**. Python gehört jedoch zu den objektorientierten\n",
    "Programmiersprachen, so dass wir uns jetzt noch dem Thema Objektorientierung\n",
    "widmen.\n",
    "\n",
    "### Konzept \n",
    "\n",
    "Bei der bisherigen prozeduralen Programmierweise haben wir Funktionen und Daten\n",
    "getrennt. Die Daten werden in Variablen gespeichert. Funktionen funktionieren\n",
    "nach dem EVA-Prinzip. In der Regel erwartet eine Funktion eine Eingabe von\n",
    "Daten, verarbeitet diese Daten und gibt Daten zurück. \n",
    "\n",
    "Angenommen, wir wollten ein Programm zur Verwaltung von Lottoscheinen schreiben.\n",
    "Zu einem Lottoschein wollen wir Name, Adresse und die angekreuzten Zahlen\n",
    "speichern. Dann müssten wir mit unserem bisherigen Wissen folgende Variablen pro\n",
    "Lottoschein einführen:\n",
    "\n",
    "* vorname\n",
    "* nachname\n",
    "* strasse\n",
    "* postleitzahl\n",
    "* stadt\n",
    "* liste_mit_sechs_zahlen\n",
    "\n",
    "Wenn jetzt viele Spielerinnen und Spieler Lotto spielen wollen, wie gehen wir\n",
    "jetzt mit den Daten um? Legen wir eine Liste für die Vornamen und eine Liste für\n",
    "die Nachnamen usw. an? Und wenn jetzt der 17. Eintrag in der Liste mit den sechs\n",
    "angekreuzten Lottozahlen sechs Richtige hat, suchen wir dann den 17. Eintrag in\n",
    "der Liste mit den Vornamen und den 17. Eintrag in der Liste mit den Nachnamen\n",
    "usw.? Umständlich...\n",
    "\n",
    "Die Idee der objektorientierten Programmierung ist, für solche Szenarien\n",
    "**Objekte** einzuführen. Ein Objekt fasst verschiedene Eigenschaften wie hier\n",
    "Vorname, Nachname, Straße, usw. zu einem Objekt Lottoschein zusammen. In der\n",
    "Informatik wird eine Eigenschaft eines Objekts **Attribut** genannt. \n",
    "\n",
    "Damit hätten wir erst einmal nur einen neuen Datentyp. Ein Objekt macht noch\n",
    "mehr aus, denn zu dem neuen Datentyp kommen noch Funktionen dazu, die die\n",
    "Verwaltung des Objektes erleichtern. Funktionen, die zu einem Objekt gehören,\n",
    "nennt man **Methoden**.\n",
    "\n",
    "```{dropdown} Video zu \"Konzept der Objektorientierung\" von Programmieren lernen\n",
    "<iframe width=\"560\" height=\"315\" src=\"https://www.youtube.com/embed/46yolPy-2VQ\" \n",
    "title=\"YouTube video player\" frameborder=\"0\" allow=\"accelerometer; autoplay; \n",
    "clipboard-write; encrypted-media; gyroscope; picture-in-picture\" allowfullscreen>\n",
    "</iframe>\n",
    "```\n",
    "\n",
    "\n",
    "### Klassen und Methoden\n",
    "\n",
    "Im Folgenden sehen Sie, wie ein Objekt in Python definiert wird. Die\n",
    "Implementierung erfolgt als sogenannte **Klasse**."
   ]
  },
  {
   "cell_type": "code",
   "execution_count": 14,
   "id": "7cd5fcf3",
   "metadata": {},
   "outputs": [],
   "source": [
    "class Adresse:\n",
    "    def __init__(self, strasse, hausnummer, plz, stadt):\n",
    "        self.strasse = strasse\n",
    "        self.hausnummer = hausnummer\n",
    "        self.postleitzahl = plz\n",
    "        self.stadt = stadt\n",
    "    \n",
    "    def print(self):\n",
    "        print('Straße = ', self.strasse)\n",
    "        print('Hausnummer = ', self.hausnummer)\n",
    "        print('Postleitzahl = ', self.postleitzahl)\n",
    "        print('Stadt = ', self.stadt)"
   ]
  },
  {
   "cell_type": "markdown",
   "id": "9bfcdee4",
   "metadata": {},
   "source": [
    "Eingeleitet wird eine Klasse mit dem Schlüsselwort `class` und dann dem Namen\n",
    "der Klasse. Da Klassen Objekte sind, ist es Standard, den ersten Buchstaben des\n",
    "Klassennamens groß zu schreiben. Um Variablen von Objekten leichter zu\n",
    "unterscheiden, werden Variablennamen klein geschrieben.\n",
    "\n",
    "Danach folgt ein Abschnitt namens `def __init__(self):`, in dem die\n",
    "Eigenschaften der Klasse aufgelistet werden. `init` steht dabei für\n",
    "initialisieren, also den ersten Zustand, den das Objekt später haben wird. \n",
    "\n",
    "Wie Sie sehen, können die Eingabe-Parameter der `init()`-Methode die gleichen\n",
    "Namen tragen wie die Attribute der Klasse, also `self.strasse = strasse`, müssen\n",
    "sie aber nicht. Das Beispiel `self.postleitzahl = plz` zeigt, dass das Attribut\n",
    "`self.postleitzahl` einfach den Wert des 4. Parameters bekommt, egal wie der\n",
    "heißt.\n",
    "\n",
    "Eine Adresse wird nun folgendermaßen initialisiert:"
   ]
  },
  {
   "cell_type": "code",
   "execution_count": 15,
   "id": "319d945d",
   "metadata": {},
   "outputs": [],
   "source": [
    "adresse_fra_uas = Adresse('Nibelungenplatz', 1, 60318, 'Frankfurt am Main')"
   ]
  },
  {
   "cell_type": "markdown",
   "id": "0bfbbeab",
   "metadata": {},
   "source": [
    "Würden wir nun versuchen, mit `print(adresse_fra_uas)` die Adresse am Bildschirm\n",
    "ausgeben zu lassen, würden wir eine Fehlermeldung erhalten. Die Funktion\n",
    "`print()` ist nicht für den Datentyp `Adresse` entwickelt worden. Schließlich\n",
    "können die Python-Entwickler nicht wissen, welche Klassen Sie entwickeln... Wir\n",
    "müssen also eine eigene Adressen-print()-Funktion implementieren. Da diese\n",
    "print()-Funktion nicht allgemeingültig sein kann, sondern nur für die Objekte\n",
    "`Adresse` funktionieren wird, gehört sie auch folgerichtig zur Klasse selbst.\n",
    "Sie ist also keine Funktion, sondern eine **Methode**. \n",
    "\n",
    "Eine Methode wird definiert, indem innerhalb des Anweisungsblocks der Klasse\n",
    "eine Funktion mit dem Schlüsselwort `def` definiert wird. Der erste Eingabewert\n",
    "muss zwingend der `self`-Parameter sein. Ansonsten gelten aber die gleichen\n",
    "Regeln für Methoden wie für Funktionen.\n",
    "\n",
    "Bleibt nur noch eine Frage? Wie wird nun die Methode ausgeführt? Methoden werden\n",
    "ausgeführt, indem die Variable hingeschrieben wird, dann ein Punkt gesetzt wird\n",
    "und dann die Methode mit runden Klammern angefügt wird."
   ]
  },
  {
   "cell_type": "code",
   "execution_count": 16,
   "id": "be06c913",
   "metadata": {},
   "outputs": [
    {
     "name": "stdout",
     "output_type": "stream",
     "text": [
      "Straße =  Nibelungenplatz\n",
      "Hausnummer =  1\n",
      "Postleitzahl =  60318\n",
      "Stadt =  Frankfurt am Main\n"
     ]
    }
   ],
   "source": [
    "adresse_fra_uas.print()"
   ]
  },
  {
   "cell_type": "markdown",
   "id": "13a4ee65",
   "metadata": {},
   "source": [
    "Objektorientierung ist ein sehr detailreiches Thema, das wir in diesem Kapitel\n",
    "nur streifen konnten. Die folgenden Videos geben einen vertieften Einblick in\n",
    "die Objektorientierung mit Python.\n",
    "\n",
    "```{dropdown} Video zu \"Klassen und Objekte\" von Programmieren lernen\n",
    "<iframe width=\"560\" height=\"315\" src=\"https://www.youtube.com/embed/XxCZrT7Z3G4\" \n",
    "title=\"YouTube video player\" frameborder=\"0\" allow=\"accelerometer; autoplay; \n",
    "clipboard-write; encrypted-media; gyroscope; picture-in-picture\" allowfullscreen>\n",
    "</iframe>\n",
    "```\n",
    "\n",
    "```{dropdown} Video zu \"Der self Parameter\" von Programmieren lernen\n",
    "<iframe width=\"560\" height=\"315\" src=\"https://www.youtube.com/embed/CLoK-_qNTnU\" \n",
    "title=\"YouTube video player\" frameborder=\"0\" allow=\"accelerometer; autoplay; \n",
    "clipboard-write; encrypted-media; gyroscope; picture-in-picture\" allowfullscreen>\n",
    "</iframe>\n",
    "```\n",
    "\n",
    "```{dropdown} Video zu \"Methoden in Klassen\" von Programmieren lernen\n",
    "<iframe width=\"560\" height=\"315\" src=\"https://www.youtube.com/embed/58IjjwHs_4A\" \n",
    "title=\"YouTube video player\" frameborder=\"0\" allow=\"accelerometer; autoplay; \n",
    "clipboard-write; encrypted-media; gyroscope; picture-in-picture\" allowfullscreen>\n",
    "</iframe>\n",
    "```\n",
    "\n",
    "## Zusammenfassung und Ausblick\n",
    "\n",
    "In diesem Kapitel haben wir gelernt, selbst Funktionen und Klassen mit Methoden\n",
    "zu definieren. Oft ist es aber praktischer, Funktionen und Klassen zu nutzen,\n",
    "die bereits implementiert sind, anstatt das Rad neu zu erfinden. Vor allem bei\n",
    "der Datenexploration und den maschinellen Lernalgorithmen benutzen wir die\n",
    "vorgefertigten Funktionsbausteine eher als eigene zu definieren, wie wir in den\n",
    "nächsten Kapiteln sehen werden."
   ]
  }
 ],
 "metadata": {
  "jupytext": {
   "formats": "ipynb,md:myst",
   "text_representation": {
    "extension": ".md",
    "format_name": "myst",
    "format_version": 0.13,
    "jupytext_version": "1.15.2"
   }
  },
  "kernelspec": {
   "display_name": "Python 3",
   "language": "python",
   "name": "python3"
  },
  "language_info": {
   "codemirror_mode": {
    "name": "ipython",
    "version": 3
   },
   "file_extension": ".py",
   "mimetype": "text/x-python",
   "name": "python",
   "nbconvert_exporter": "python",
   "pygments_lexer": "ipython3",
   "version": "3.12.2"
  },
  "source_map": [
   13,
   60,
   64,
   66,
   71,
   75,
   87,
   90,
   96,
   98,
   107,
   109,
   136,
   139,
   145,
   147,
   151,
   153,
   158,
   161,
   183,
   185,
   213,
   219,
   230,
   232,
   318,
   331,
   350,
   352,
   372,
   374
  ]
 },
 "nbformat": 4,
 "nbformat_minor": 5
}