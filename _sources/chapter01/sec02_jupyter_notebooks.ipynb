{
 "cells": [
  {
   "cell_type": "markdown",
   "id": "e996032a-1e06-4f9f-9be1-5ddb2951aa66",
   "metadata": {},
   "source": [
    "# Überschrift"
   ]
  },
  {
   "cell_type": "code",
   "execution_count": 1,
   "id": "0fad0ff5-9d99-466f-acc3-e5b7d3cf5c18",
   "metadata": {},
   "outputs": [
    {
     "name": "stdout",
     "output_type": "stream",
     "text": [
      "0\n",
      "1\n",
      "2\n",
      "3\n",
      "4\n",
      "5\n",
      "6\n",
      "7\n",
      "8\n",
      "9\n"
     ]
    }
   ],
   "source": [
    "for i in range(10):\n",
    "    print(i)"
   ]
  },
  {
   "cell_type": "markdown",
   "id": "9d022912-a055-4e4b-b03d-e37440250bba",
   "metadata": {},
   "source": [
    "```{note}\n",
    "Dies ist eine Notiz.\n",
    "```"
   ]
  },
  {
   "cell_type": "code",
   "execution_count": 2,
   "id": "e386e932",
   "metadata": {},
   "outputs": [
    {
     "data": {
      "image/png": "[encoded data removed]",
      "text/plain": [
       "<Figure size 432x288 with 1 Axes>"
      ]
     },
     "metadata": {
      "needs_background": "light"
     },
     "output_type": "display_data"
    }
   ],
   "source": [
    "import numpy as np\n",
    "import matplotlib.pylab as plt\n",
    "\n",
    "x = np.linspace(-1,1)\n",
    "y = np.sin(x)\n",
    "\n",
    "fig, ax = plt.subplots()\n",
    "ax.plot(x,y);"
   ]
  },
  {
   "cell_type": "markdown",
   "id": "634842fa",
   "metadata": {},
   "source": [
    "```{tip}\n",
    "Und hier kommt ein Tipp!\n",
    "```\n",
    "\n",
    "```{exercise}\n",
    "Und hier die 1. Übung.\n",
    "```"
   ]
  },
  {
   "cell_type": "markdown",
   "id": "2ad1dae7",
   "metadata": {},
   "source": []
  },
  {
   "cell_type": "markdown",
   "id": "80c8790e",
   "metadata": {},
   "source": [
    "\n",
    "```{exercise}\n",
    "Und hier die 1. Übung.\n",
    "```"
   ]
  },
  {
   "cell_type": "code",
   "execution_count": 3,
   "id": "a00c2797",
   "metadata": {},
   "outputs": [
    {
     "name": "stdout",
     "output_type": "stream",
     "text": [
      "Hallo!\n"
     ]
    }
   ],
   "source": [
    "print('Hallo!')"
   ]
  },
  {
   "cell_type": "code",
   "execution_count": 1,
   "id": "6e1969bb",
   "metadata": {},
   "outputs": [
    {
     "data": {
      "application/vnd.jupyter.widget-view+json": {
       "model_id": "95f38053fbd14cb68922a612925b3f7c",
       "version_major": 2,
       "version_minor": 0
      },
      "text/plain": [
       "IntSlider(value=7, continuous_update=False, description='Test:', max=10)"
      ]
     },
     "metadata": {},
     "output_type": "display_data"
    }
   ],
   "source": [
    "import ipywidgets as widgets\n",
    "widgets.IntSlider(\n",
    "    value=7,\n",
    "    min=0,\n",
    "    max=10,\n",
    "    step=1,\n",
    "    description='Test:',\n",
    "    disabled=False,\n",
    "    continuous_update=False,\n",
    "    orientation='horizontal',\n",
    "    readout=True,\n",
    "    readout_format='d'\n",
    ")\n",
    "\n",
    "\n"
   ]
  }
 ],
 "metadata": {
  "interpreter": {
   "hash": "1863971d65633e53ca5b74972b86a14fab6d597ce2ac84dc984546545d2d3a9b"
  },
  "kernelspec": {
   "display_name": "Python 3.9.7 ('python39')",
   "language": "python",
   "name": "python3"
  },
  "language_info": {
   "codemirror_mode": {
    "name": "ipython",
    "version": 3
   },
   "file_extension": ".py",
   "mimetype": "text/x-python",
   "name": "python",
   "nbconvert_exporter": "python",
   "pygments_lexer": "ipython3",
   "version": "3.9.7"
  }
 },
 "nbformat": 4,
 "nbformat_minor": 5
}
