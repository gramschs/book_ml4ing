{
 "cells": [
  {
   "cell_type": "markdown",
   "id": "4685913f",
   "metadata": {},
   "source": [
    "# Technische Voraussetzungen: Python, Anaconda und JupyterLab\n",
    "\n",
    "Für maschinelles Lernen ist Python die Programmiersprache der Wahl. Das liegt\n",
    "vor allem auch daran, dass Google eine sehr wichtige ML-Bibliothek für Python\n",
    "zur Verfügung stellt, die sogenannte Bibliothek Tensorflow.\n",
    "\n",
    "Python wird in der Regel mit dem Betriebsystem ausgeliefert. Für maschinelles\n",
    "Lernen benötigen wir jedoch weitere Python-Module, die standardmäßig nicht\n",
    "installiert werden. Daher benutzen wir in dieser Vorlesung Anaconda und\n",
    "installieren dies zusätzlich.\n",
    "\n",
    "[https://www.anaconda.com](https://www.anaconda.com)\n",
    "\n",
    "Die Vorlesung wird in Form von Jupyter Notebooks zur Verfügung gestellt. Ein\n",
    "soches Notizbuch besteht sowohl aus Text, Bildern, eingebetten Videos als auch\n",
    "Python-Code, der ausführbar ist. Wenn Anaconda installiert ist, kann man ein\n",
    "Jupyter Notebook mit der Anwendung JupyterLab öffnen. \n",
    "\n",
    "[https://jupyter.org](https://jupyter.org)\n",
    "\n",
    "JupyterLab startet im Hintergrund einen sogenannten Jupyter-Kernel, der die\n",
    "intreaktiven Python-Code-Zellen ausführt. Der Client ist in der Regel der\n",
    "Standard-Browser.\n",
    "\n",
    "Alternativ können Sie auch Microsoft Visual Studio Code oder PyCharm nutzen, um\n",
    "Jupyter Notebooks auszuführen."
   ]
  }
 ],
 "metadata": {
  "jupytext": {
   "formats": "ipynb,md:myst",
   "text_representation": {
    "extension": ".md",
    "format_name": "myst",
    "format_version": 0.13,
    "jupytext_version": "1.13.8"
   }
  },
  "kernelspec": {
   "display_name": "Python 3 (ipykernel)",
   "language": "python",
   "name": "python3"
  },
  "language_info": {
   "codemirror_mode": {
    "name": "ipython",
    "version": 3
   },
   "file_extension": ".py",
   "mimetype": "text/x-python",
   "name": "python",
   "nbconvert_exporter": "python",
   "pygments_lexer": "ipython3",
   "version": "3.9.13"
  },
  "source_map": [
   13
  ]
 },
 "nbformat": 4,
 "nbformat_minor": 5
}