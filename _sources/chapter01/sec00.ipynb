{
 "cells": [
  {
   "cell_type": "markdown",
   "id": "d39c6298",
   "metadata": {},
   "source": [
    "# Zu Beginn ...\n",
    "\n",
    "Maschinelles Lernen (ML) und Künstliche Intelligenz (KI) sind die Trends des\n",
    "letzten Jahrzehnts. Stand Juli 2022 liefert die Suchmaschine Google für den\n",
    "deutschen Begriff maschinelles Lernen 2.8 Millionen Treffer. Auf Englisch\n",
    "(Machine Learning) sind es sogar 1.67 Milliarden Suchergebnisse. Vermutlich\n",
    "werden sowohl für den deutschen Begriff als auch die englischsprachige Variante\n",
    "die Trefferzahlen mittlerweile höher sein.\n",
    "\n",
    "Die Publikationsdatenbank [Scopus](https://www.scopus.com) listet bis 2021\n",
    "insgesamt 440582 Publikationen auf, die den Begriff Machine Learning im Titel,\n",
    "Abstract oder als Schlüsselwort aufweisen. Interessant ist dabei, wie die Anzahl\n",
    "der Publikationen exponentiell ansteigt:"
   ]
  }
 ],
 "metadata": {
  "jupytext": {
   "formats": "ipynb,md:myst",
   "text_representation": {
    "extension": ".md",
    "format_name": "myst",
    "format_version": 0.13,
    "jupytext_version": "1.13.8"
   }
  },
  "kernelspec": {
   "display_name": "Python 3 (ipykernel)",
   "language": "python",
   "name": "python3"
  },
  "language_info": {
   "codemirror_mode": {
    "name": "ipython",
    "version": 3
   },
   "file_extension": ".py",
   "mimetype": "text/x-python",
   "name": "python",
   "nbconvert_exporter": "python",
   "pygments_lexer": "ipython3",
   "version": "3.9.13"
  },
  "source_map": [
   13
  ]
 },
 "nbformat": 4,
 "nbformat_minor": 5
}