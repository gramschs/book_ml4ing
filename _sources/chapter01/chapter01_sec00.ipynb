{
 "cells": [
  {
   "cell_type": "markdown",
   "id": "715fba3f",
   "metadata": {},
   "source": [
    "# Zu Beginn ...\n",
    "\n",
    "Maschinelles Lernen (ML) und Künstliche Intelligenz (KI) sind die Trends des\n",
    "letzten Jahrzehnts. Stand Juli 2022 liefert die Suchmaschine Google für den\n",
    "deutschen Begriff maschinelles Lernen 2.8 Millionen Treffer. Auf Englisch\n",
    "(Machine Learning) sind es sogar 1.67 Milliarden Suchergebnisse. Vermutlich\n",
    "werden sowohl für den deutschen Begriff als auch die englischsprachige Variante\n",
    "die Trefferzahlen mittlerweile höher sein."
   ]
  }
 ],
 "metadata": {
  "jupytext": {
   "formats": "ipynb,md:myst",
   "text_representation": {
    "extension": ".md",
    "format_name": "myst",
    "format_version": 0.13,
    "jupytext_version": "1.13.8"
   }
  },
  "kernelspec": {
   "display_name": "Python 3 (ipykernel)",
   "language": "python",
   "name": "python3"
  },
  "language_info": {
   "codemirror_mode": {
    "name": "ipython",
    "version": 3
   },
   "file_extension": ".py",
   "mimetype": "text/x-python",
   "name": "python",
   "nbconvert_exporter": "python",
   "pygments_lexer": "ipython3",
   "version": "3.9.15"
  },
  "source_map": [
   13
  ]
 },
 "nbformat": 4,
 "nbformat_minor": 5
}