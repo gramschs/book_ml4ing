{
 "cells": [
  {
   "cell_type": "markdown",
   "id": "4853f572",
   "metadata": {},
   "source": [
    "# 1. Grundbegriffe des maschinellen Lernens\n",
    "\n",
    "Maschinelles Lernen (ML) und Künstliche Intelligenz (KI) sind die Trends des\n",
    "letzten Jahrzehnts. Stand Juli 2022 liefert die Suchmaschine Google für den\n",
    "deutschen Begriff maschinelles Lernen 2.8 Millionen Treffer. Auf Englisch\n",
    "(Machine Learning) sind es sogar 1.67 Milliarden Suchergebnisse. Vermutlich\n",
    "werden sowohl für den deutschen Begriff als auch die englischsprachige Variante\n",
    "die Trefferzahlen mittlerweile höher sein.\n",
    "\n",
    "In den folgenden Kapiteln werden wir zunächst einmal klären, was maschinelles\n",
    "Lernen ist und die grundlegenden Begriffe des maschinellen Lernens kennenlernen.\n",
    "Wir schließen diesen Part mit der Installation der notwendigen Software-Tools\n",
    "ab.\n",
    "\n",
    "Kapitelübersicht:\n",
    "\n",
    "```{tableofcontents}\n",
    "```"
   ]
  }
 ],
 "metadata": {
  "jupytext": {
   "formats": "ipynb,md:myst",
   "text_representation": {
    "extension": ".md",
    "format_name": "myst",
    "format_version": 0.13,
    "jupytext_version": "1.13.8"
   }
  },
  "kernelspec": {
   "display_name": "Python 3 (ipykernel)",
   "language": "python",
   "name": "python3"
  },
  "language_info": {
   "codemirror_mode": {
    "name": "ipython",
    "version": 3
   },
   "file_extension": ".py",
   "mimetype": "text/x-python",
   "name": "python",
   "nbconvert_exporter": "python",
   "pygments_lexer": "ipython3",
   "version": "3.10.11"
  },
  "source_map": [
   13
  ]
 },
 "nbformat": 4,
 "nbformat_minor": 5
}