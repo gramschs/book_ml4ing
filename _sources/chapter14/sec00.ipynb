{
 "cells": [
  {
   "cell_type": "markdown",
   "id": "ce0b93be",
   "metadata": {},
   "source": [
    "# 14. Neuronale Netze\n",
    "\n",
    "Durch neuronale Netze, die tief verschachtelt sind (= tiefe neuronale Netze =\n",
    "deep neural network), gab es im Bereich des maschinellen Lernens einen\n",
    "Durchbruch. Neuronale Netze sind eine Technik aus der Statistik, die bereits in\n",
    "den 1940er Jahren entwickelt wurde. Seit ca. 10 Jahren erleben diese Techniken\n",
    "verbunden mit Fortschritten in der Computertechnologie eine Renaissance.\n",
    "\n",
    "Neuronale Netze bzw. Deep Learning kommt vor allem da zum Einsatz, wo es kaum\n",
    "systematisches Wissen gibt. Damit neuronale Netze erfolgreich trainiert werden\n",
    "können, brauchen sie sehr große Datenmengen. Nachdem in den letzten 15 Jahren\n",
    "mit dem Aufkommen von Smartphones die Daten im Bereich Videos und Fotos massiv\n",
    "zugenommen haben, lohnt sich der Einsatz der neuronalen Netze fúr\n",
    "Spracherkennung, Gesichtserkennung oder Texterkennung besonders.\n",
    "\n",
    "Beispielsweise hat ein junges deutsches Start-Up-Unternehmen 2017 aus einem\n",
    "neuronalen Netz zum Übersetzen Englisch <-> Deutsch eine Webanwendung entwickelt\n",
    "und ins Internet gestellt, die meinen Alltag massiv beeinflusst: DeepL.com,\n",
    "siehe\n",
    "\n",
    "> [https://www.deepl.com/en/blog/how-does-deepl-work](https://www.deepl.com/en/blog/how-does-deepl-work)\n",
    "\n",
    "Mittlerweile beherrscht DeepL 23 Sprachen, siehe auch den Wikipedia-Artikel zu\n",
    "DeepL:\n",
    "\n",
    "> [https://de.wikipedia.org/wiki/DeepL](https://de.wikipedia.org/wiki/DeepL)\n",
    "\n",
    "Kapitelübersicht:\n",
    "\n",
    "```{tableofcontents}\n",
    "```"
   ]
  }
 ],
 "metadata": {
  "jupytext": {
   "formats": "ipynb,md:myst",
   "text_representation": {
    "extension": ".md",
    "format_name": "myst",
    "format_version": 0.13,
    "jupytext_version": "1.15.2"
   }
  },
  "kernelspec": {
   "display_name": "Python 3",
   "language": "python",
   "name": "python3"
  },
  "language_info": {
   "codemirror_mode": {
    "name": "ipython",
    "version": 3
   },
   "file_extension": ".py",
   "mimetype": "text/x-python",
   "name": "python",
   "nbconvert_exporter": "python",
   "pygments_lexer": "ipython3",
   "version": "3.12.2"
  },
  "source_map": [
   13
  ]
 },
 "nbformat": 4,
 "nbformat_minor": 5
}