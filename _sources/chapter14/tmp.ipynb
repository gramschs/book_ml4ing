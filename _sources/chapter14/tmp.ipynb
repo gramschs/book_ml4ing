{
 "cells": [
  {
   "cell_type": "code",
   "execution_count": 17,
   "metadata": {},
   "outputs": [
    {
     "name": "stdout",
     "output_type": "stream",
     "text": [
      "<class 'pandas.core.frame.DataFrame'>\n",
      "RangeIndex: 506 entries, 0 to 505\n",
      "Data columns (total 14 columns):\n",
      " #   Column   Non-Null Count  Dtype  \n",
      "---  ------   --------------  -----  \n",
      " 0   CRIM     506 non-null    float64\n",
      " 1   ZN       506 non-null    float64\n",
      " 2   INDUS    506 non-null    float64\n",
      " 3   CHAS     506 non-null    int64  \n",
      " 4   NOX      506 non-null    float64\n",
      " 5   RM       506 non-null    float64\n",
      " 6   AGE      506 non-null    float64\n",
      " 7   DIS      506 non-null    float64\n",
      " 8   RAD      506 non-null    int64  \n",
      " 9   TAX      506 non-null    float64\n",
      " 10  PTRATIO  506 non-null    float64\n",
      " 11  B        506 non-null    float64\n",
      " 12  LSTAT    506 non-null    float64\n",
      " 13  MEDV     506 non-null    float64\n",
      "dtypes: float64(12), int64(2)\n",
      "memory usage: 55.5 KB\n"
     ]
    }
   ],
   "source": [
    "import pandas as pd\n",
    "\n",
    "# Laden des Boston Housing Price Datensatzes\n",
    "df = pd.read_csv(\"https://archive.ics.uci.edu/ml/machine-learning-databases/housing/housing.data\",\n",
    "                 header=None, delim_whitespace=True,\n",
    "                 names=['CRIM', 'ZN', 'INDUS', 'CHAS', 'NOX', 'RM', 'AGE', 'DIS', 'RAD', 'TAX', 'PTRATIO', 'B', 'LSTAT', 'MEDV'])\n",
    "df.info()"
   ]
  },
  {
   "cell_type": "code",
   "execution_count": 28,
   "metadata": {},
   "outputs": [
    {
     "data": {
      "application/vnd.plotly.v1+json": {
       "config": {
        "plotlyServerURL": "https://plot.ly"
       },
       "data": [
        {
         "alignmentgroup": "True",
         "bingroup": "x",
         "hovertemplate": "RM=3.561<br>MEDV=%{x}<br>count=%{y}<extra></extra>",
         "legendgroup": "3.561",
         "marker": {
          "color": "#636efa",
          "pattern": {
           "shape": ""
          }
         },
         "name": "3.561",
         "nbinsx": 30,
         "offsetgroup": "3.561",
         "orientation": "v",
         "showlegend": true,
         "type": "histogram",
         "x": [
          27.5
         ],
         "xaxis": "x",
         "yaxis": "y"
        },
        {
         "alignmentgroup": "True",
         "bingroup": "x",
         "hovertemplate": "RM=3.863<br>MEDV=%{x}<br>count=%{y}<extra></extra>",
         "legendgroup": "3.863",
         "marker": {
          "color": "#EF553B",
          "pattern": {
           "shape": ""
          }
         },
         "name": "3.863",
         "nbinsx": 30,
         "offsetgroup": "3.863",
         "orientation": "v",
         "showlegend": true,
         "type": "histogram",
         "x": [
          23.1
         ],
         "xaxis": "x",
         "yaxis": "y"
        },
        {
         "alignmentgroup": "True",
         "bingroup": "x",
         "hovertemplate": "RM=4.138<br>MEDV=%{x}<br>count=%{y}<extra></extra>",
         "legendgroup": "4.138",
         "marker": {
          "color": "#00cc96",
          "pattern": {
           "shape": ""
          }
         },
         "name": "4.138",
         "nbinsx": 30,
         "offsetgroup": "4.138",
         "orientation": "v",
         "showlegend": true,
         "type": "histogram",
         "x": [
          13.8,
          11.9
         ],
         "xaxis": "x",
         "yaxis": "y"
        },
        {
         "alignmentgroup": "True",
         "bingroup": "x",
         "hovertemplate": "RM=4.368<br>MEDV=%{x}<br>count=%{y}<extra></extra>",
         "legendgroup": "4.368",
         "marker": {
          "color": "#ab63fa",
          "pattern": {
           "shape": ""
          }
         },
         "name": "4.368",
         "nbinsx": 30,
         "offsetgroup": "4.368",
         "orientation": "v",
         "showlegend": true,
         "type": "histogram",
         "x": [
          8.8
         ],
         "xaxis": "x",
         "yaxis": "y"
        },
        {
         "alignmentgroup": "True",
         "bingroup": "x",
         "hovertemplate": "RM=4.519<br>MEDV=%{x}<br>count=%{y}<extra></extra>",
         "legendgroup": "4.519",
         "marker": {
          "color": "#FFA15A",
          "pattern": {
           "shape": ""
          }
         },
         "name": "4.519",
         "nbinsx": 30,
         "offsetgroup": "4.519",
         "orientation": "v",
         "showlegend": true,
         "type": "histogram",
         "x": [
          7
         ],
         "xaxis": "x",
         "yaxis": "y"
        },
        {
         "alignmentgroup": "True",
         "bingroup": "x",
         "hovertemplate": "RM=4.628<br>MEDV=%{x}<br>count=%{y}<extra></extra>",
         "legendgroup": "4.628",
         "marker": {
          "color": "#19d3f3",
          "pattern": {
           "shape": ""
          }
         },
         "name": "4.628",
         "nbinsx": 30,
         "offsetgroup": "4.628",
         "orientation": "v",
         "showlegend": true,
         "type": "histogram",
         "x": [
          17.9
         ],
         "xaxis": "x",
         "yaxis": "y"
        },
        {
         "alignmentgroup": "True",
         "bingroup": "x",
         "hovertemplate": "RM=4.652<br>MEDV=%{x}<br>count=%{y}<extra></extra>",
         "legendgroup": "4.652",
         "marker": {
          "color": "#FF6692",
          "pattern": {
           "shape": ""
          }
         },
         "name": "4.652",
         "nbinsx": 30,
         "offsetgroup": "4.652",
         "orientation": "v",
         "showlegend": true,
         "type": "histogram",
         "x": [
          10.5
         ],
         "xaxis": "x",
         "yaxis": "y"
        },
        {
         "alignmentgroup": "True",
         "bingroup": "x",
         "hovertemplate": "RM=4.88<br>MEDV=%{x}<br>count=%{y}<extra></extra>",
         "legendgroup": "4.88",
         "marker": {
          "color": "#B6E880",
          "pattern": {
           "shape": ""
          }
         },
         "name": "4.88",
         "nbinsx": 30,
         "offsetgroup": "4.88",
         "orientation": "v",
         "showlegend": true,
         "type": "histogram",
         "x": [
          10.2
         ],
         "xaxis": "x",
         "yaxis": "y"
        },
        {
         "alignmentgroup": "True",
         "bingroup": "x",
         "hovertemplate": "RM=4.903<br>MEDV=%{x}<br>count=%{y}<extra></extra>",
         "legendgroup": "4.903",
         "marker": {
          "color": "#FF97FF",
          "pattern": {
           "shape": ""
          }
         },
         "name": "4.903",
         "nbinsx": 30,
         "offsetgroup": "4.903",
         "orientation": "v",
         "showlegend": true,
         "type": "histogram",
         "x": [
          11.8
         ],
         "xaxis": "x",
         "yaxis": "y"
        },
        {
         "alignmentgroup": "True",
         "bingroup": "x",
         "hovertemplate": "RM=4.906<br>MEDV=%{x}<br>count=%{y}<extra></extra>",
         "legendgroup": "4.906",
         "marker": {
          "color": "#FECB52",
          "pattern": {
           "shape": ""
          }
         },
         "name": "4.906",
         "nbinsx": 30,
         "offsetgroup": "4.906",
         "orientation": "v",
         "showlegend": true,
         "type": "histogram",
         "x": [
          13.8
         ],
         "xaxis": "x",
         "yaxis": "y"
        },
        {
         "alignmentgroup": "True",
         "bingroup": "x",
         "hovertemplate": "RM=4.926<br>MEDV=%{x}<br>count=%{y}<extra></extra>",
         "legendgroup": "4.926",
         "marker": {
          "color": "#636efa",
          "pattern": {
           "shape": ""
          }
         },
         "name": "4.926",
         "nbinsx": 30,
         "offsetgroup": "4.926",
         "orientation": "v",
         "showlegend": true,
         "type": "histogram",
         "x": [
          14.6
         ],
         "xaxis": "x",
         "yaxis": "y"
        },
        {
         "alignmentgroup": "True",
         "bingroup": "x",
         "hovertemplate": "RM=4.963<br>MEDV=%{x}<br>count=%{y}<extra></extra>",
         "legendgroup": "4.963",
         "marker": {
          "color": "#EF553B",
          "pattern": {
           "shape": ""
          }
         },
         "name": "4.963",
         "nbinsx": 30,
         "offsetgroup": "4.963",
         "orientation": "v",
         "showlegend": true,
         "type": "histogram",
         "x": [
          21.9
         ],
         "xaxis": "x",
         "yaxis": "y"
        },
        {
         "alignmentgroup": "True",
         "bingroup": "x",
         "hovertemplate": "RM=4.97<br>MEDV=%{x}<br>count=%{y}<extra></extra>",
         "legendgroup": "4.97",
         "marker": {
          "color": "#00cc96",
          "pattern": {
           "shape": ""
          }
         },
         "name": "4.97",
         "nbinsx": 30,
         "offsetgroup": "4.97",
         "orientation": "v",
         "showlegend": true,
         "type": "histogram",
         "x": [
          50
         ],
         "xaxis": "x",
         "yaxis": "y"
        },
        {
         "alignmentgroup": "True",
         "bingroup": "x",
         "hovertemplate": "RM=4.973<br>MEDV=%{x}<br>count=%{y}<extra></extra>",
         "legendgroup": "4.973",
         "marker": {
          "color": "#ab63fa",
          "pattern": {
           "shape": ""
          }
         },
         "name": "4.973",
         "nbinsx": 30,
         "offsetgroup": "4.973",
         "orientation": "v",
         "showlegend": true,
         "type": "histogram",
         "x": [
          16.1
         ],
         "xaxis": "x",
         "yaxis": "y"
        },
        {
         "alignmentgroup": "True",
         "bingroup": "x",
         "hovertemplate": "RM=5.0<br>MEDV=%{x}<br>count=%{y}<extra></extra>",
         "legendgroup": "5.0",
         "marker": {
          "color": "#FFA15A",
          "pattern": {
           "shape": ""
          }
         },
         "name": "5.0",
         "nbinsx": 30,
         "offsetgroup": "5.0",
         "orientation": "v",
         "showlegend": true,
         "type": "histogram",
         "x": [
          7.4
         ],
         "xaxis": "x",
         "yaxis": "y"
        },
        {
         "alignmentgroup": "True",
         "bingroup": "x",
         "hovertemplate": "RM=5.012<br>MEDV=%{x}<br>count=%{y}<extra></extra>",
         "legendgroup": "5.012",
         "marker": {
          "color": "#19d3f3",
          "pattern": {
           "shape": ""
          }
         },
         "name": "5.012",
         "nbinsx": 30,
         "offsetgroup": "5.012",
         "orientation": "v",
         "showlegend": true,
         "type": "histogram",
         "x": [
          15.3
         ],
         "xaxis": "x",
         "yaxis": "y"
        },
        {
         "alignmentgroup": "True",
         "bingroup": "x",
         "hovertemplate": "RM=5.019<br>MEDV=%{x}<br>count=%{y}<extra></extra>",
         "legendgroup": "5.019",
         "marker": {
          "color": "#FF6692",
          "pattern": {
           "shape": ""
          }
         },
         "name": "5.019",
         "nbinsx": 30,
         "offsetgroup": "5.019",
         "orientation": "v",
         "showlegend": true,
         "type": "histogram",
         "x": [
          14.4
         ],
         "xaxis": "x",
         "yaxis": "y"
        },
        {
         "alignmentgroup": "True",
         "bingroup": "x",
         "hovertemplate": "RM=5.036<br>MEDV=%{x}<br>count=%{y}<extra></extra>",
         "legendgroup": "5.036",
         "marker": {
          "color": "#B6E880",
          "pattern": {
           "shape": ""
          }
         },
         "name": "5.036",
         "nbinsx": 30,
         "offsetgroup": "5.036",
         "orientation": "v",
         "showlegend": true,
         "type": "histogram",
         "x": [
          9.7
         ],
         "xaxis": "x",
         "yaxis": "y"
        },
        {
         "alignmentgroup": "True",
         "bingroup": "x",
         "hovertemplate": "RM=5.093<br>MEDV=%{x}<br>count=%{y}<extra></extra>",
         "legendgroup": "5.093",
         "marker": {
          "color": "#FF97FF",
          "pattern": {
           "shape": ""
          }
         },
         "name": "5.093",
         "nbinsx": 30,
         "offsetgroup": "5.093",
         "orientation": "v",
         "showlegend": true,
         "type": "histogram",
         "x": [
          8.1
         ],
         "xaxis": "x",
         "yaxis": "y"
        },
        {
         "alignmentgroup": "True",
         "bingroup": "x",
         "hovertemplate": "RM=5.155<br>MEDV=%{x}<br>count=%{y}<extra></extra>",
         "legendgroup": "5.155",
         "marker": {
          "color": "#FECB52",
          "pattern": {
           "shape": ""
          }
         },
         "name": "5.155",
         "nbinsx": 30,
         "offsetgroup": "5.155",
         "orientation": "v",
         "showlegend": true,
         "type": "histogram",
         "x": [
          16.3
         ],
         "xaxis": "x",
         "yaxis": "y"
        },
        {
         "alignmentgroup": "True",
         "bingroup": "x",
         "hovertemplate": "RM=5.186<br>MEDV=%{x}<br>count=%{y}<extra></extra>",
         "legendgroup": "5.186",
         "marker": {
          "color": "#636efa",
          "pattern": {
           "shape": ""
          }
         },
         "name": "5.186",
         "nbinsx": 30,
         "offsetgroup": "5.186",
         "orientation": "v",
         "showlegend": true,
         "type": "histogram",
         "x": [
          17.8
         ],
         "xaxis": "x",
         "yaxis": "y"
        },
        {
         "alignmentgroup": "True",
         "bingroup": "x",
         "hovertemplate": "RM=5.272<br>MEDV=%{x}<br>count=%{y}<extra></extra>",
         "legendgroup": "5.272",
         "marker": {
          "color": "#EF553B",
          "pattern": {
           "shape": ""
          }
         },
         "name": "5.272",
         "nbinsx": 30,
         "offsetgroup": "5.272",
         "orientation": "v",
         "showlegend": true,
         "type": "histogram",
         "x": [
          13.1
         ],
         "xaxis": "x",
         "yaxis": "y"
        },
        {
         "alignmentgroup": "True",
         "bingroup": "x",
         "hovertemplate": "RM=5.277<br>MEDV=%{x}<br>count=%{y}<extra></extra>",
         "legendgroup": "5.277",
         "marker": {
          "color": "#00cc96",
          "pattern": {
           "shape": ""
          }
         },
         "name": "5.277",
         "nbinsx": 30,
         "offsetgroup": "5.277",
         "orientation": "v",
         "showlegend": true,
         "type": "histogram",
         "x": [
          7.2
         ],
         "xaxis": "x",
         "yaxis": "y"
        },
        {
         "alignmentgroup": "True",
         "bingroup": "x",
         "hovertemplate": "RM=5.304<br>MEDV=%{x}<br>count=%{y}<extra></extra>",
         "legendgroup": "5.304",
         "marker": {
          "color": "#ab63fa",
          "pattern": {
           "shape": ""
          }
         },
         "name": "5.304",
         "nbinsx": 30,
         "offsetgroup": "5.304",
         "orientation": "v",
         "showlegend": true,
         "type": "histogram",
         "x": [
          12,
          10.4
         ],
         "xaxis": "x",
         "yaxis": "y"
        },
        {
         "alignmentgroup": "True",
         "bingroup": "x",
         "hovertemplate": "RM=5.344<br>MEDV=%{x}<br>count=%{y}<extra></extra>",
         "legendgroup": "5.344",
         "marker": {
          "color": "#FFA15A",
          "pattern": {
           "shape": ""
          }
         },
         "name": "5.344",
         "nbinsx": 30,
         "offsetgroup": "5.344",
         "orientation": "v",
         "showlegend": true,
         "type": "histogram",
         "x": [
          20
         ],
         "xaxis": "x",
         "yaxis": "y"
        },
        {
         "alignmentgroup": "True",
         "bingroup": "x",
         "hovertemplate": "RM=5.349<br>MEDV=%{x}<br>count=%{y}<extra></extra>",
         "legendgroup": "5.349",
         "marker": {
          "color": "#19d3f3",
          "pattern": {
           "shape": ""
          }
         },
         "name": "5.349",
         "nbinsx": 30,
         "offsetgroup": "5.349",
         "orientation": "v",
         "showlegend": true,
         "type": "histogram",
         "x": [
          8.3
         ],
         "xaxis": "x",
         "yaxis": "y"
        },
        {
         "alignmentgroup": "True",
         "bingroup": "x",
         "hovertemplate": "RM=5.362<br>MEDV=%{x}<br>count=%{y}<extra></extra>",
         "legendgroup": "5.362",
         "marker": {
          "color": "#FF6692",
          "pattern": {
           "shape": ""
          }
         },
         "name": "5.362",
         "nbinsx": 30,
         "offsetgroup": "5.362",
         "orientation": "v",
         "showlegend": true,
         "type": "histogram",
         "x": [
          20.8
         ],
         "xaxis": "x",
         "yaxis": "y"
        },
        {
         "alignmentgroup": "True",
         "bingroup": "x",
         "hovertemplate": "RM=5.39<br>MEDV=%{x}<br>count=%{y}<extra></extra>",
         "legendgroup": "5.39",
         "marker": {
          "color": "#B6E880",
          "pattern": {
           "shape": ""
          }
         },
         "name": "5.39",
         "nbinsx": 30,
         "offsetgroup": "5.39",
         "orientation": "v",
         "showlegend": true,
         "type": "histogram",
         "x": [
          19.7,
          11.5
         ],
         "xaxis": "x",
         "yaxis": "y"
        },
        {
         "alignmentgroup": "True",
         "bingroup": "x",
         "hovertemplate": "RM=5.399<br>MEDV=%{x}<br>count=%{y}<extra></extra>",
         "legendgroup": "5.399",
         "marker": {
          "color": "#FF97FF",
          "pattern": {
           "shape": ""
          }
         },
         "name": "5.399",
         "nbinsx": 30,
         "offsetgroup": "5.399",
         "orientation": "v",
         "showlegend": true,
         "type": "histogram",
         "x": [
          14.4
         ],
         "xaxis": "x",
         "yaxis": "y"
        },
        {
         "alignmentgroup": "True",
         "bingroup": "x",
         "hovertemplate": "RM=5.403<br>MEDV=%{x}<br>count=%{y}<extra></extra>",
         "legendgroup": "5.403",
         "marker": {
          "color": "#FECB52",
          "pattern": {
           "shape": ""
          }
         },
         "name": "5.403",
         "nbinsx": 30,
         "offsetgroup": "5.403",
         "orientation": "v",
         "showlegend": true,
         "type": "histogram",
         "x": [
          13.4
         ],
         "xaxis": "x",
         "yaxis": "y"
        },
        {
         "alignmentgroup": "True",
         "bingroup": "x",
         "hovertemplate": "RM=5.404<br>MEDV=%{x}<br>count=%{y}<extra></extra>",
         "legendgroup": "5.404",
         "marker": {
          "color": "#636efa",
          "pattern": {
           "shape": ""
          }
         },
         "name": "5.404",
         "nbinsx": 30,
         "offsetgroup": "5.404",
         "orientation": "v",
         "showlegend": true,
         "type": "histogram",
         "x": [
          19.3,
          19.6
         ],
         "xaxis": "x",
         "yaxis": "y"
        },
        {
         "alignmentgroup": "True",
         "bingroup": "x",
         "hovertemplate": "RM=5.412<br>MEDV=%{x}<br>count=%{y}<extra></extra>",
         "legendgroup": "5.412",
         "marker": {
          "color": "#EF553B",
          "pattern": {
           "shape": ""
          }
         },
         "name": "5.412",
         "nbinsx": 30,
         "offsetgroup": "5.412",
         "orientation": "v",
         "showlegend": true,
         "type": "histogram",
         "x": [
          23.7
         ],
         "xaxis": "x",
         "yaxis": "y"
        },
        {
         "alignmentgroup": "True",
         "bingroup": "x",
         "hovertemplate": "RM=5.414<br>MEDV=%{x}<br>count=%{y}<extra></extra>",
         "legendgroup": "5.414",
         "marker": {
          "color": "#00cc96",
          "pattern": {
           "shape": ""
          }
         },
         "name": "5.414",
         "nbinsx": 30,
         "offsetgroup": "5.414",
         "orientation": "v",
         "showlegend": true,
         "type": "histogram",
         "x": [
          7
         ],
         "xaxis": "x",
         "yaxis": "y"
        },
        {
         "alignmentgroup": "True",
         "bingroup": "x",
         "hovertemplate": "RM=5.427<br>MEDV=%{x}<br>count=%{y}<extra></extra>",
         "legendgroup": "5.427",
         "marker": {
          "color": "#ab63fa",
          "pattern": {
           "shape": ""
          }
         },
         "name": "5.427",
         "nbinsx": 30,
         "offsetgroup": "5.427",
         "orientation": "v",
         "showlegend": true,
         "type": "histogram",
         "x": [
          13.8
         ],
         "xaxis": "x",
         "yaxis": "y"
        },
        {
         "alignmentgroup": "True",
         "bingroup": "x",
         "hovertemplate": "RM=5.453<br>MEDV=%{x}<br>count=%{y}<extra></extra>",
         "legendgroup": "5.453",
         "marker": {
          "color": "#FFA15A",
          "pattern": {
           "shape": ""
          }
         },
         "name": "5.453",
         "nbinsx": 30,
         "offsetgroup": "5.453",
         "orientation": "v",
         "showlegend": true,
         "type": "histogram",
         "x": [
          5
         ],
         "xaxis": "x",
         "yaxis": "y"
        },
        {
         "alignmentgroup": "True",
         "bingroup": "x",
         "hovertemplate": "RM=5.454<br>MEDV=%{x}<br>count=%{y}<extra></extra>",
         "legendgroup": "5.454",
         "marker": {
          "color": "#19d3f3",
          "pattern": {
           "shape": ""
          }
         },
         "name": "5.454",
         "nbinsx": 30,
         "offsetgroup": "5.454",
         "orientation": "v",
         "showlegend": true,
         "type": "histogram",
         "x": [
          15.2
         ],
         "xaxis": "x",
         "yaxis": "y"
        },
        {
         "alignmentgroup": "True",
         "bingroup": "x",
         "hovertemplate": "RM=5.456<br>MEDV=%{x}<br>count=%{y}<extra></extra>",
         "legendgroup": "5.456",
         "marker": {
          "color": "#FF6692",
          "pattern": {
           "shape": ""
          }
         },
         "name": "5.456",
         "nbinsx": 30,
         "offsetgroup": "5.456",
         "orientation": "v",
         "showlegend": true,
         "type": "histogram",
         "x": [
          20.2
         ],
         "xaxis": "x",
         "yaxis": "y"
        },
        {
         "alignmentgroup": "True",
         "bingroup": "x",
         "hovertemplate": "RM=5.468<br>MEDV=%{x}<br>count=%{y}<extra></extra>",
         "legendgroup": "5.468",
         "marker": {
          "color": "#B6E880",
          "pattern": {
           "shape": ""
          }
         },
         "name": "5.468",
         "nbinsx": 30,
         "offsetgroup": "5.468",
         "orientation": "v",
         "showlegend": true,
         "type": "histogram",
         "x": [
          15.6
         ],
         "xaxis": "x",
         "yaxis": "y"
        },
        {
         "alignmentgroup": "True",
         "bingroup": "x",
         "hovertemplate": "RM=5.52<br>MEDV=%{x}<br>count=%{y}<extra></extra>",
         "legendgroup": "5.52",
         "marker": {
          "color": "#FF97FF",
          "pattern": {
           "shape": ""
          }
         },
         "name": "5.52",
         "nbinsx": 30,
         "offsetgroup": "5.52",
         "orientation": "v",
         "showlegend": true,
         "type": "histogram",
         "x": [
          12.3
         ],
         "xaxis": "x",
         "yaxis": "y"
        },
        {
         "alignmentgroup": "True",
         "bingroup": "x",
         "hovertemplate": "RM=5.531<br>MEDV=%{x}<br>count=%{y}<extra></extra>",
         "legendgroup": "5.531",
         "marker": {
          "color": "#FECB52",
          "pattern": {
           "shape": ""
          }
         },
         "name": "5.531",
         "nbinsx": 30,
         "offsetgroup": "5.531",
         "orientation": "v",
         "showlegend": true,
         "type": "histogram",
         "x": [
          8.5
         ],
         "xaxis": "x",
         "yaxis": "y"
        },
        {
         "alignmentgroup": "True",
         "bingroup": "x",
         "hovertemplate": "RM=5.536<br>MEDV=%{x}<br>count=%{y}<extra></extra>",
         "legendgroup": "5.536",
         "marker": {
          "color": "#636efa",
          "pattern": {
           "shape": ""
          }
         },
         "name": "5.536",
         "nbinsx": 30,
         "offsetgroup": "5.536",
         "orientation": "v",
         "showlegend": true,
         "type": "histogram",
         "x": [
          11.3
         ],
         "xaxis": "x",
         "yaxis": "y"
        },
        {
         "alignmentgroup": "True",
         "bingroup": "x",
         "hovertemplate": "RM=5.56<br>MEDV=%{x}<br>count=%{y}<extra></extra>",
         "legendgroup": "5.56",
         "marker": {
          "color": "#EF553B",
          "pattern": {
           "shape": ""
          }
         },
         "name": "5.56",
         "nbinsx": 30,
         "offsetgroup": "5.56",
         "orientation": "v",
         "showlegend": true,
         "type": "histogram",
         "x": [
          22.8
         ],
         "xaxis": "x",
         "yaxis": "y"
        },
        {
         "alignmentgroup": "True",
         "bingroup": "x",
         "hovertemplate": "RM=5.565<br>MEDV=%{x}<br>count=%{y}<extra></extra>",
         "legendgroup": "5.565",
         "marker": {
          "color": "#00cc96",
          "pattern": {
           "shape": ""
          }
         },
         "name": "5.565",
         "nbinsx": 30,
         "offsetgroup": "5.565",
         "orientation": "v",
         "showlegend": true,
         "type": "histogram",
         "x": [
          11.7
         ],
         "xaxis": "x",
         "yaxis": "y"
        },
        {
         "alignmentgroup": "True",
         "bingroup": "x",
         "hovertemplate": "RM=5.569<br>MEDV=%{x}<br>count=%{y}<extra></extra>",
         "legendgroup": "5.569",
         "marker": {
          "color": "#ab63fa",
          "pattern": {
           "shape": ""
          }
         },
         "name": "5.569",
         "nbinsx": 30,
         "offsetgroup": "5.569",
         "orientation": "v",
         "showlegend": true,
         "type": "histogram",
         "x": [
          17.5
         ],
         "xaxis": "x",
         "yaxis": "y"
        },
        {
         "alignmentgroup": "True",
         "bingroup": "x",
         "hovertemplate": "RM=5.57<br>MEDV=%{x}<br>count=%{y}<extra></extra>",
         "legendgroup": "5.57",
         "marker": {
          "color": "#FFA15A",
          "pattern": {
           "shape": ""
          }
         },
         "name": "5.57",
         "nbinsx": 30,
         "offsetgroup": "5.57",
         "orientation": "v",
         "showlegend": true,
         "type": "histogram",
         "x": [
          13.6
         ],
         "xaxis": "x",
         "yaxis": "y"
        },
        {
         "alignmentgroup": "True",
         "bingroup": "x",
         "hovertemplate": "RM=5.572<br>MEDV=%{x}<br>count=%{y}<extra></extra>",
         "legendgroup": "5.572",
         "marker": {
          "color": "#19d3f3",
          "pattern": {
           "shape": ""
          }
         },
         "name": "5.572",
         "nbinsx": 30,
         "offsetgroup": "5.572",
         "orientation": "v",
         "showlegend": true,
         "type": "histogram",
         "x": [
          23.1
         ],
         "xaxis": "x",
         "yaxis": "y"
        },
        {
         "alignmentgroup": "True",
         "bingroup": "x",
         "hovertemplate": "RM=5.593<br>MEDV=%{x}<br>count=%{y}<extra></extra>",
         "legendgroup": "5.593",
         "marker": {
          "color": "#FF6692",
          "pattern": {
           "shape": ""
          }
         },
         "name": "5.593",
         "nbinsx": 30,
         "offsetgroup": "5.593",
         "orientation": "v",
         "showlegend": true,
         "type": "histogram",
         "x": [
          17.6
         ],
         "xaxis": "x",
         "yaxis": "y"
        },
        {
         "alignmentgroup": "True",
         "bingroup": "x",
         "hovertemplate": "RM=5.594<br>MEDV=%{x}<br>count=%{y}<extra></extra>",
         "legendgroup": "5.594",
         "marker": {
          "color": "#B6E880",
          "pattern": {
           "shape": ""
          }
         },
         "name": "5.594",
         "nbinsx": 30,
         "offsetgroup": "5.594",
         "orientation": "v",
         "showlegend": true,
         "type": "histogram",
         "x": [
          17.4
         ],
         "xaxis": "x",
         "yaxis": "y"
        },
        {
         "alignmentgroup": "True",
         "bingroup": "x",
         "hovertemplate": "RM=5.597<br>MEDV=%{x}<br>count=%{y}<extra></extra>",
         "legendgroup": "5.597",
         "marker": {
          "color": "#FF97FF",
          "pattern": {
           "shape": ""
          }
         },
         "name": "5.597",
         "nbinsx": 30,
         "offsetgroup": "5.597",
         "orientation": "v",
         "showlegend": true,
         "type": "histogram",
         "x": [
          15.4
         ],
         "xaxis": "x",
         "yaxis": "y"
        },
        {
         "alignmentgroup": "True",
         "bingroup": "x",
         "hovertemplate": "RM=5.599<br>MEDV=%{x}<br>count=%{y}<extra></extra>",
         "legendgroup": "5.599",
         "marker": {
          "color": "#FECB52",
          "pattern": {
           "shape": ""
          }
         },
         "name": "5.599",
         "nbinsx": 30,
         "offsetgroup": "5.599",
         "orientation": "v",
         "showlegend": true,
         "type": "histogram",
         "x": [
          13.9
         ],
         "xaxis": "x",
         "yaxis": "y"
        },
        {
         "alignmentgroup": "True",
         "bingroup": "x",
         "hovertemplate": "RM=5.602<br>MEDV=%{x}<br>count=%{y}<extra></extra>",
         "legendgroup": "5.602",
         "marker": {
          "color": "#636efa",
          "pattern": {
           "shape": ""
          }
         },
         "name": "5.602",
         "nbinsx": 30,
         "offsetgroup": "5.602",
         "orientation": "v",
         "showlegend": true,
         "type": "histogram",
         "x": [
          19.4
         ],
         "xaxis": "x",
         "yaxis": "y"
        },
        {
         "alignmentgroup": "True",
         "bingroup": "x",
         "hovertemplate": "RM=5.604<br>MEDV=%{x}<br>count=%{y}<extra></extra>",
         "legendgroup": "5.604",
         "marker": {
          "color": "#EF553B",
          "pattern": {
           "shape": ""
          }
         },
         "name": "5.604",
         "nbinsx": 30,
         "offsetgroup": "5.604",
         "orientation": "v",
         "showlegend": true,
         "type": "histogram",
         "x": [
          26.4
         ],
         "xaxis": "x",
         "yaxis": "y"
        },
        {
         "alignmentgroup": "True",
         "bingroup": "x",
         "hovertemplate": "RM=5.605<br>MEDV=%{x}<br>count=%{y}<extra></extra>",
         "legendgroup": "5.605",
         "marker": {
          "color": "#00cc96",
          "pattern": {
           "shape": ""
          }
         },
         "name": "5.605",
         "nbinsx": 30,
         "offsetgroup": "5.605",
         "orientation": "v",
         "showlegend": true,
         "type": "histogram",
         "x": [
          18.5
         ],
         "xaxis": "x",
         "yaxis": "y"
        },
        {
         "alignmentgroup": "True",
         "bingroup": "x",
         "hovertemplate": "RM=5.608<br>MEDV=%{x}<br>count=%{y}<extra></extra>",
         "legendgroup": "5.608",
         "marker": {
          "color": "#ab63fa",
          "pattern": {
           "shape": ""
          }
         },
         "name": "5.608",
         "nbinsx": 30,
         "offsetgroup": "5.608",
         "orientation": "v",
         "showlegend": true,
         "type": "histogram",
         "x": [
          27.9
         ],
         "xaxis": "x",
         "yaxis": "y"
        },
        {
         "alignmentgroup": "True",
         "bingroup": "x",
         "hovertemplate": "RM=5.613<br>MEDV=%{x}<br>count=%{y}<extra></extra>",
         "legendgroup": "5.613",
         "marker": {
          "color": "#FFA15A",
          "pattern": {
           "shape": ""
          }
         },
         "name": "5.613",
         "nbinsx": 30,
         "offsetgroup": "5.613",
         "orientation": "v",
         "showlegend": true,
         "type": "histogram",
         "x": [
          15.7
         ],
         "xaxis": "x",
         "yaxis": "y"
        },
        {
         "alignmentgroup": "True",
         "bingroup": "x",
         "hovertemplate": "RM=5.617<br>MEDV=%{x}<br>count=%{y}<extra></extra>",
         "legendgroup": "5.617",
         "marker": {
          "color": "#19d3f3",
          "pattern": {
           "shape": ""
          }
         },
         "name": "5.617",
         "nbinsx": 30,
         "offsetgroup": "5.617",
         "orientation": "v",
         "showlegend": true,
         "type": "histogram",
         "x": [
          17.2
         ],
         "xaxis": "x",
         "yaxis": "y"
        },
        {
         "alignmentgroup": "True",
         "bingroup": "x",
         "hovertemplate": "RM=5.627<br>MEDV=%{x}<br>count=%{y}<extra></extra>",
         "legendgroup": "5.627",
         "marker": {
          "color": "#FF6692",
          "pattern": {
           "shape": ""
          }
         },
         "name": "5.627",
         "nbinsx": 30,
         "offsetgroup": "5.627",
         "orientation": "v",
         "showlegend": true,
         "type": "histogram",
         "x": [
          12.8
         ],
         "xaxis": "x",
         "yaxis": "y"
        },
        {
         "alignmentgroup": "True",
         "bingroup": "x",
         "hovertemplate": "RM=5.628<br>MEDV=%{x}<br>count=%{y}<extra></extra>",
         "legendgroup": "5.628",
         "marker": {
          "color": "#B6E880",
          "pattern": {
           "shape": ""
          }
         },
         "name": "5.628",
         "nbinsx": 30,
         "offsetgroup": "5.628",
         "orientation": "v",
         "showlegend": true,
         "type": "histogram",
         "x": [
          15.6
         ],
         "xaxis": "x",
         "yaxis": "y"
        },
        {
         "alignmentgroup": "True",
         "bingroup": "x",
         "hovertemplate": "RM=5.631<br>MEDV=%{x}<br>count=%{y}<extra></extra>",
         "legendgroup": "5.631",
         "marker": {
          "color": "#FF97FF",
          "pattern": {
           "shape": ""
          }
         },
         "name": "5.631",
         "nbinsx": 30,
         "offsetgroup": "5.631",
         "orientation": "v",
         "showlegend": true,
         "type": "histogram",
         "x": [
          16.5
         ],
         "xaxis": "x",
         "yaxis": "y"
        },
        {
         "alignmentgroup": "True",
         "bingroup": "x",
         "hovertemplate": "RM=5.637<br>MEDV=%{x}<br>count=%{y}<extra></extra>",
         "legendgroup": "5.637",
         "marker": {
          "color": "#FECB52",
          "pattern": {
           "shape": ""
          }
         },
         "name": "5.637",
         "nbinsx": 30,
         "offsetgroup": "5.637",
         "orientation": "v",
         "showlegend": true,
         "type": "histogram",
         "x": [
          14.3
         ],
         "xaxis": "x",
         "yaxis": "y"
        },
        {
         "alignmentgroup": "True",
         "bingroup": "x",
         "hovertemplate": "RM=5.648<br>MEDV=%{x}<br>count=%{y}<extra></extra>",
         "legendgroup": "5.648",
         "marker": {
          "color": "#636efa",
          "pattern": {
           "shape": ""
          }
         },
         "name": "5.648",
         "nbinsx": 30,
         "offsetgroup": "5.648",
         "orientation": "v",
         "showlegend": true,
         "type": "histogram",
         "x": [
          20.8
         ],
         "xaxis": "x",
         "yaxis": "y"
        },
        {
         "alignmentgroup": "True",
         "bingroup": "x",
         "hovertemplate": "RM=5.663<br>MEDV=%{x}<br>count=%{y}<extra></extra>",
         "legendgroup": "5.663",
         "marker": {
          "color": "#EF553B",
          "pattern": {
           "shape": ""
          }
         },
         "name": "5.663",
         "nbinsx": 30,
         "offsetgroup": "5.663",
         "orientation": "v",
         "showlegend": true,
         "type": "histogram",
         "x": [
          18.2
         ],
         "xaxis": "x",
         "yaxis": "y"
        },
        {
         "alignmentgroup": "True",
         "bingroup": "x",
         "hovertemplate": "RM=5.67<br>MEDV=%{x}<br>count=%{y}<extra></extra>",
         "legendgroup": "5.67",
         "marker": {
          "color": "#00cc96",
          "pattern": {
           "shape": ""
          }
         },
         "name": "5.67",
         "nbinsx": 30,
         "offsetgroup": "5.67",
         "orientation": "v",
         "showlegend": true,
         "type": "histogram",
         "x": [
          23.1
         ],
         "xaxis": "x",
         "yaxis": "y"
        },
        {
         "alignmentgroup": "True",
         "bingroup": "x",
         "hovertemplate": "RM=5.682<br>MEDV=%{x}<br>count=%{y}<extra></extra>",
         "legendgroup": "5.682",
         "marker": {
          "color": "#ab63fa",
          "pattern": {
           "shape": ""
          }
         },
         "name": "5.682",
         "nbinsx": 30,
         "offsetgroup": "5.682",
         "orientation": "v",
         "showlegend": true,
         "type": "histogram",
         "x": [
          19.3
         ],
         "xaxis": "x",
         "yaxis": "y"
        },
        {
         "alignmentgroup": "True",
         "bingroup": "x",
         "hovertemplate": "RM=5.683<br>MEDV=%{x}<br>count=%{y}<extra></extra>",
         "legendgroup": "5.683",
         "marker": {
          "color": "#FFA15A",
          "pattern": {
           "shape": ""
          }
         },
         "name": "5.683",
         "nbinsx": 30,
         "offsetgroup": "5.683",
         "orientation": "v",
         "showlegend": true,
         "type": "histogram",
         "x": [
          5
         ],
         "xaxis": "x",
         "yaxis": "y"
        },
        {
         "alignmentgroup": "True",
         "bingroup": "x",
         "hovertemplate": "RM=5.693<br>MEDV=%{x}<br>count=%{y}<extra></extra>",
         "legendgroup": "5.693",
         "marker": {
          "color": "#19d3f3",
          "pattern": {
           "shape": ""
          }
         },
         "name": "5.693",
         "nbinsx": 30,
         "offsetgroup": "5.693",
         "orientation": "v",
         "showlegend": true,
         "type": "histogram",
         "x": [
          16.2
         ],
         "xaxis": "x",
         "yaxis": "y"
        },
        {
         "alignmentgroup": "True",
         "bingroup": "x",
         "hovertemplate": "RM=5.701<br>MEDV=%{x}<br>count=%{y}<extra></extra>",
         "legendgroup": "5.701",
         "marker": {
          "color": "#FF6692",
          "pattern": {
           "shape": ""
          }
         },
         "name": "5.701",
         "nbinsx": 30,
         "offsetgroup": "5.701",
         "orientation": "v",
         "showlegend": true,
         "type": "histogram",
         "x": [
          13.1
         ],
         "xaxis": "x",
         "yaxis": "y"
        },
        {
         "alignmentgroup": "True",
         "bingroup": "x",
         "hovertemplate": "RM=5.705<br>MEDV=%{x}<br>count=%{y}<extra></extra>",
         "legendgroup": "5.705",
         "marker": {
          "color": "#B6E880",
          "pattern": {
           "shape": ""
          }
         },
         "name": "5.705",
         "nbinsx": 30,
         "offsetgroup": "5.705",
         "orientation": "v",
         "showlegend": true,
         "type": "histogram",
         "x": [
          16.2
         ],
         "xaxis": "x",
         "yaxis": "y"
        },
        {
         "alignmentgroup": "True",
         "bingroup": "x",
         "hovertemplate": "RM=5.706<br>MEDV=%{x}<br>count=%{y}<extra></extra>",
         "legendgroup": "5.706",
         "marker": {
          "color": "#FF97FF",
          "pattern": {
           "shape": ""
          }
         },
         "name": "5.706",
         "nbinsx": 30,
         "offsetgroup": "5.706",
         "orientation": "v",
         "showlegend": true,
         "type": "histogram",
         "x": [
          17.1
         ],
         "xaxis": "x",
         "yaxis": "y"
        },
        {
         "alignmentgroup": "True",
         "bingroup": "x",
         "hovertemplate": "RM=5.707<br>MEDV=%{x}<br>count=%{y}<extra></extra>",
         "legendgroup": "5.707",
         "marker": {
          "color": "#FECB52",
          "pattern": {
           "shape": ""
          }
         },
         "name": "5.707",
         "nbinsx": 30,
         "offsetgroup": "5.707",
         "orientation": "v",
         "showlegend": true,
         "type": "histogram",
         "x": [
          21.8
         ],
         "xaxis": "x",
         "yaxis": "y"
        },
        {
         "alignmentgroup": "True",
         "bingroup": "x",
         "hovertemplate": "RM=5.708<br>MEDV=%{x}<br>count=%{y}<extra></extra>",
         "legendgroup": "5.708",
         "marker": {
          "color": "#636efa",
          "pattern": {
           "shape": ""
          }
         },
         "name": "5.708",
         "nbinsx": 30,
         "offsetgroup": "5.708",
         "orientation": "v",
         "showlegend": true,
         "type": "histogram",
         "x": [
          18.5
         ],
         "xaxis": "x",
         "yaxis": "y"
        },
        {
         "alignmentgroup": "True",
         "bingroup": "x",
         "hovertemplate": "RM=5.709<br>MEDV=%{x}<br>count=%{y}<extra></extra>",
         "legendgroup": "5.709",
         "marker": {
          "color": "#EF553B",
          "pattern": {
           "shape": ""
          }
         },
         "name": "5.709",
         "nbinsx": 30,
         "offsetgroup": "5.709",
         "orientation": "v",
         "showlegend": true,
         "type": "histogram",
         "x": [
          19.4
         ],
         "xaxis": "x",
         "yaxis": "y"
        },
        {
         "alignmentgroup": "True",
         "bingroup": "x",
         "hovertemplate": "RM=5.713<br>MEDV=%{x}<br>count=%{y}<extra></extra>",
         "legendgroup": "5.713",
         "marker": {
          "color": "#00cc96",
          "pattern": {
           "shape": ""
          }
         },
         "name": "5.713",
         "nbinsx": 30,
         "offsetgroup": "5.713",
         "orientation": "v",
         "showlegend": true,
         "type": "histogram",
         "x": [
          15.1,
          12.7,
          20.1
         ],
         "xaxis": "x",
         "yaxis": "y"
        },
        {
         "alignmentgroup": "True",
         "bingroup": "x",
         "hovertemplate": "RM=5.727<br>MEDV=%{x}<br>count=%{y}<extra></extra>",
         "legendgroup": "5.727",
         "marker": {
          "color": "#ab63fa",
          "pattern": {
           "shape": ""
          }
         },
         "name": "5.727",
         "nbinsx": 30,
         "offsetgroup": "5.727",
         "orientation": "v",
         "showlegend": true,
         "type": "histogram",
         "x": [
          18.2
         ],
         "xaxis": "x",
         "yaxis": "y"
        },
        {
         "alignmentgroup": "True",
         "bingroup": "x",
         "hovertemplate": "RM=5.731<br>MEDV=%{x}<br>count=%{y}<extra></extra>",
         "legendgroup": "5.731",
         "marker": {
          "color": "#FFA15A",
          "pattern": {
           "shape": ""
          }
         },
         "name": "5.731",
         "nbinsx": 30,
         "offsetgroup": "5.731",
         "orientation": "v",
         "showlegend": true,
         "type": "histogram",
         "x": [
          19.3
         ],
         "xaxis": "x",
         "yaxis": "y"
        },
        {
         "alignmentgroup": "True",
         "bingroup": "x",
         "hovertemplate": "RM=5.741<br>MEDV=%{x}<br>count=%{y}<extra></extra>",
         "legendgroup": "5.741",
         "marker": {
          "color": "#19d3f3",
          "pattern": {
           "shape": ""
          }
         },
         "name": "5.741",
         "nbinsx": 30,
         "offsetgroup": "5.741",
         "orientation": "v",
         "showlegend": true,
         "type": "histogram",
         "x": [
          18.7
         ],
         "xaxis": "x",
         "yaxis": "y"
        },
        {
         "alignmentgroup": "True",
         "bingroup": "x",
         "hovertemplate": "RM=5.747<br>MEDV=%{x}<br>count=%{y}<extra></extra>",
         "legendgroup": "5.747",
         "marker": {
          "color": "#FF6692",
          "pattern": {
           "shape": ""
          }
         },
         "name": "5.747",
         "nbinsx": 30,
         "offsetgroup": "5.747",
         "orientation": "v",
         "showlegend": true,
         "type": "histogram",
         "x": [
          8.5
         ],
         "xaxis": "x",
         "yaxis": "y"
        },
        {
         "alignmentgroup": "True",
         "bingroup": "x",
         "hovertemplate": "RM=5.757<br>MEDV=%{x}<br>count=%{y}<extra></extra>",
         "legendgroup": "5.757",
         "marker": {
          "color": "#B6E880",
          "pattern": {
           "shape": ""
          }
         },
         "name": "5.757",
         "nbinsx": 30,
         "offsetgroup": "5.757",
         "orientation": "v",
         "showlegend": true,
         "type": "histogram",
         "x": [
          15,
          15.6
         ],
         "xaxis": "x",
         "yaxis": "y"
        },
        {
         "alignmentgroup": "True",
         "bingroup": "x",
         "hovertemplate": "RM=5.759<br>MEDV=%{x}<br>count=%{y}<extra></extra>",
         "legendgroup": "5.759",
         "marker": {
          "color": "#FF97FF",
          "pattern": {
           "shape": ""
          }
         },
         "name": "5.759",
         "nbinsx": 30,
         "offsetgroup": "5.759",
         "orientation": "v",
         "showlegend": true,
         "type": "histogram",
         "x": [
          19.9
         ],
         "xaxis": "x",
         "yaxis": "y"
        },
        {
         "alignmentgroup": "True",
         "bingroup": "x",
         "hovertemplate": "RM=5.762<br>MEDV=%{x}<br>count=%{y}<extra></extra>",
         "legendgroup": "5.762",
         "marker": {
          "color": "#FECB52",
          "pattern": {
           "shape": ""
          }
         },
         "name": "5.762",
         "nbinsx": 30,
         "offsetgroup": "5.762",
         "orientation": "v",
         "showlegend": true,
         "type": "histogram",
         "x": [
          21.8
         ],
         "xaxis": "x",
         "yaxis": "y"
        },
        {
         "alignmentgroup": "True",
         "bingroup": "x",
         "hovertemplate": "RM=5.782<br>MEDV=%{x}<br>count=%{y}<extra></extra>",
         "legendgroup": "5.782",
         "marker": {
          "color": "#636efa",
          "pattern": {
           "shape": ""
          }
         },
         "name": "5.782",
         "nbinsx": 30,
         "offsetgroup": "5.782",
         "orientation": "v",
         "showlegend": true,
         "type": "histogram",
         "x": [
          19.8
         ],
         "xaxis": "x",
         "yaxis": "y"
        },
        {
         "alignmentgroup": "True",
         "bingroup": "x",
         "hovertemplate": "RM=5.783<br>MEDV=%{x}<br>count=%{y}<extra></extra>",
         "legendgroup": "5.783",
         "marker": {
          "color": "#EF553B",
          "pattern": {
           "shape": ""
          }
         },
         "name": "5.783",
         "nbinsx": 30,
         "offsetgroup": "5.783",
         "orientation": "v",
         "showlegend": true,
         "type": "histogram",
         "x": [
          22.5
         ],
         "xaxis": "x",
         "yaxis": "y"
        },
        {
         "alignmentgroup": "True",
         "bingroup": "x",
         "hovertemplate": "RM=5.786<br>MEDV=%{x}<br>count=%{y}<extra></extra>",
         "legendgroup": "5.786",
         "marker": {
          "color": "#00cc96",
          "pattern": {
           "shape": ""
          }
         },
         "name": "5.786",
         "nbinsx": 30,
         "offsetgroup": "5.786",
         "orientation": "v",
         "showlegend": true,
         "type": "histogram",
         "x": [
          20
         ],
         "xaxis": "x",
         "yaxis": "y"
        },
        {
         "alignmentgroup": "True",
         "bingroup": "x",
         "hovertemplate": "RM=5.787<br>MEDV=%{x}<br>count=%{y}<extra></extra>",
         "legendgroup": "5.787",
         "marker": {
          "color": "#ab63fa",
          "pattern": {
           "shape": ""
          }
         },
         "name": "5.787",
         "nbinsx": 30,
         "offsetgroup": "5.787",
         "orientation": "v",
         "showlegend": true,
         "type": "histogram",
         "x": [
          19.4
         ],
         "xaxis": "x",
         "yaxis": "y"
        },
        {
         "alignmentgroup": "True",
         "bingroup": "x",
         "hovertemplate": "RM=5.79<br>MEDV=%{x}<br>count=%{y}<extra></extra>",
         "legendgroup": "5.79",
         "marker": {
          "color": "#FFA15A",
          "pattern": {
           "shape": ""
          }
         },
         "name": "5.79",
         "nbinsx": 30,
         "offsetgroup": "5.79",
         "orientation": "v",
         "showlegend": true,
         "type": "histogram",
         "x": [
          20.3
         ],
         "xaxis": "x",
         "yaxis": "y"
        },
        {
         "alignmentgroup": "True",
         "bingroup": "x",
         "hovertemplate": "RM=5.794<br>MEDV=%{x}<br>count=%{y}<extra></extra>",
         "legendgroup": "5.794",
         "marker": {
          "color": "#19d3f3",
          "pattern": {
           "shape": ""
          }
         },
         "name": "5.794",
         "nbinsx": 30,
         "offsetgroup": "5.794",
         "orientation": "v",
         "showlegend": true,
         "type": "histogram",
         "x": [
          18.3
         ],
         "xaxis": "x",
         "yaxis": "y"
        },
        {
         "alignmentgroup": "True",
         "bingroup": "x",
         "hovertemplate": "RM=5.803<br>MEDV=%{x}<br>count=%{y}<extra></extra>",
         "legendgroup": "5.803",
         "marker": {
          "color": "#FF6692",
          "pattern": {
           "shape": ""
          }
         },
         "name": "5.803",
         "nbinsx": 30,
         "offsetgroup": "5.803",
         "orientation": "v",
         "showlegend": true,
         "type": "histogram",
         "x": [
          16.8
         ],
         "xaxis": "x",
         "yaxis": "y"
        },
        {
         "alignmentgroup": "True",
         "bingroup": "x",
         "hovertemplate": "RM=5.807<br>MEDV=%{x}<br>count=%{y}<extra></extra>",
         "legendgroup": "5.807",
         "marker": {
          "color": "#B6E880",
          "pattern": {
           "shape": ""
          }
         },
         "name": "5.807",
         "nbinsx": 30,
         "offsetgroup": "5.807",
         "orientation": "v",
         "showlegend": true,
         "type": "histogram",
         "x": [
          22.4
         ],
         "xaxis": "x",
         "yaxis": "y"
        },
        {
         "alignmentgroup": "True",
         "bingroup": "x",
         "hovertemplate": "RM=5.813<br>MEDV=%{x}<br>count=%{y}<extra></extra>",
         "legendgroup": "5.813",
         "marker": {
          "color": "#FF97FF",
          "pattern": {
           "shape": ""
          }
         },
         "name": "5.813",
         "nbinsx": 30,
         "offsetgroup": "5.813",
         "orientation": "v",
         "showlegend": true,
         "type": "histogram",
         "x": [
          16.6,
          14.5
         ],
         "xaxis": "x",
         "yaxis": "y"
        },
        {
         "alignmentgroup": "True",
         "bingroup": "x",
         "hovertemplate": "RM=5.818<br>MEDV=%{x}<br>count=%{y}<extra></extra>",
         "legendgroup": "5.818",
         "marker": {
          "color": "#FECB52",
          "pattern": {
           "shape": ""
          }
         },
         "name": "5.818",
         "nbinsx": 30,
         "offsetgroup": "5.818",
         "orientation": "v",
         "showlegend": true,
         "type": "histogram",
         "x": [
          10.5
         ],
         "xaxis": "x",
         "yaxis": "y"
        },
        {
         "alignmentgroup": "True",
         "bingroup": "x",
         "hovertemplate": "RM=5.822<br>MEDV=%{x}<br>count=%{y}<extra></extra>",
         "legendgroup": "5.822",
         "marker": {
          "color": "#636efa",
          "pattern": {
           "shape": ""
          }
         },
         "name": "5.822",
         "nbinsx": 30,
         "offsetgroup": "5.822",
         "orientation": "v",
         "showlegend": true,
         "type": "histogram",
         "x": [
          18.4
         ],
         "xaxis": "x",
         "yaxis": "y"
        },
        {
         "alignmentgroup": "True",
         "bingroup": "x",
         "hovertemplate": "RM=5.834<br>MEDV=%{x}<br>count=%{y}<extra></extra>",
         "legendgroup": "5.834",
         "marker": {
          "color": "#EF553B",
          "pattern": {
           "shape": ""
          }
         },
         "name": "5.834",
         "nbinsx": 30,
         "offsetgroup": "5.834",
         "orientation": "v",
         "showlegend": true,
         "type": "histogram",
         "x": [
          19.9
         ],
         "xaxis": "x",
         "yaxis": "y"
        },
        {
         "alignmentgroup": "True",
         "bingroup": "x",
         "hovertemplate": "RM=5.836<br>MEDV=%{x}<br>count=%{y}<extra></extra>",
         "legendgroup": "5.836",
         "marker": {
          "color": "#00cc96",
          "pattern": {
           "shape": ""
          }
         },
         "name": "5.836",
         "nbinsx": 30,
         "offsetgroup": "5.836",
         "orientation": "v",
         "showlegend": true,
         "type": "histogram",
         "x": [
          19.5
         ],
         "xaxis": "x",
         "yaxis": "y"
        },
        {
         "alignmentgroup": "True",
         "bingroup": "x",
         "hovertemplate": "RM=5.837<br>MEDV=%{x}<br>count=%{y}<extra></extra>",
         "legendgroup": "5.837",
         "marker": {
          "color": "#ab63fa",
          "pattern": {
           "shape": ""
          }
         },
         "name": "5.837",
         "nbinsx": 30,
         "offsetgroup": "5.837",
         "orientation": "v",
         "showlegend": true,
         "type": "histogram",
         "x": [
          10.2
         ],
         "xaxis": "x",
         "yaxis": "y"
        },
        {
         "alignmentgroup": "True",
         "bingroup": "x",
         "hovertemplate": "RM=5.841<br>MEDV=%{x}<br>count=%{y}<extra></extra>",
         "legendgroup": "5.841",
         "marker": {
          "color": "#FFA15A",
          "pattern": {
           "shape": ""
          }
         },
         "name": "5.841",
         "nbinsx": 30,
         "offsetgroup": "5.841",
         "orientation": "v",
         "showlegend": true,
         "type": "histogram",
         "x": [
          20
         ],
         "xaxis": "x",
         "yaxis": "y"
        },
        {
         "alignmentgroup": "True",
         "bingroup": "x",
         "hovertemplate": "RM=5.85<br>MEDV=%{x}<br>count=%{y}<extra></extra>",
         "legendgroup": "5.85",
         "marker": {
          "color": "#19d3f3",
          "pattern": {
           "shape": ""
          }
         },
         "name": "5.85",
         "nbinsx": 30,
         "offsetgroup": "5.85",
         "orientation": "v",
         "showlegend": true,
         "type": "histogram",
         "x": [
          21
         ],
         "xaxis": "x",
         "yaxis": "y"
        },
        {
         "alignmentgroup": "True",
         "bingroup": "x",
         "hovertemplate": "RM=5.851<br>MEDV=%{x}<br>count=%{y}<extra></extra>",
         "legendgroup": "5.851",
         "marker": {
          "color": "#FF6692",
          "pattern": {
           "shape": ""
          }
         },
         "name": "5.851",
         "nbinsx": 30,
         "offsetgroup": "5.851",
         "orientation": "v",
         "showlegend": true,
         "type": "histogram",
         "x": [
          19.5
         ],
         "xaxis": "x",
         "yaxis": "y"
        },
        {
         "alignmentgroup": "True",
         "bingroup": "x",
         "hovertemplate": "RM=5.852<br>MEDV=%{x}<br>count=%{y}<extra></extra>",
         "legendgroup": "5.852",
         "marker": {
          "color": "#B6E880",
          "pattern": {
           "shape": ""
          }
         },
         "name": "5.852",
         "nbinsx": 30,
         "offsetgroup": "5.852",
         "orientation": "v",
         "showlegend": true,
         "type": "histogram",
         "x": [
          6.3
         ],
         "xaxis": "x",
         "yaxis": "y"
        },
        {
         "alignmentgroup": "True",
         "bingroup": "x",
         "hovertemplate": "RM=5.854<br>MEDV=%{x}<br>count=%{y}<extra></extra>",
         "legendgroup": "5.854",
         "marker": {
          "color": "#FF97FF",
          "pattern": {
           "shape": ""
          }
         },
         "name": "5.854",
         "nbinsx": 30,
         "offsetgroup": "5.854",
         "orientation": "v",
         "showlegend": true,
         "type": "histogram",
         "x": [
          10.8,
          22.7
         ],
         "xaxis": "x",
         "yaxis": "y"
        },
        {
         "alignmentgroup": "True",
         "bingroup": "x",
         "hovertemplate": "RM=5.856<br>MEDV=%{x}<br>count=%{y}<extra></extra>",
         "legendgroup": "5.856",
         "marker": {
          "color": "#FECB52",
          "pattern": {
           "shape": ""
          }
         },
         "name": "5.856",
         "nbinsx": 30,
         "offsetgroup": "5.856",
         "orientation": "v",
         "showlegend": true,
         "type": "histogram",
         "x": [
          21.1,
          17.3
         ],
         "xaxis": "x",
         "yaxis": "y"
        },
        {
         "alignmentgroup": "True",
         "bingroup": "x",
         "hovertemplate": "RM=5.857<br>MEDV=%{x}<br>count=%{y}<extra></extra>",
         "legendgroup": "5.857",
         "marker": {
          "color": "#636efa",
          "pattern": {
           "shape": ""
          }
         },
         "name": "5.857",
         "nbinsx": 30,
         "offsetgroup": "5.857",
         "orientation": "v",
         "showlegend": true,
         "type": "histogram",
         "x": [
          13.3
         ],
         "xaxis": "x",
         "yaxis": "y"
        },
        {
         "alignmentgroup": "True",
         "bingroup": "x",
         "hovertemplate": "RM=5.859<br>MEDV=%{x}<br>count=%{y}<extra></extra>",
         "legendgroup": "5.859",
         "marker": {
          "color": "#EF553B",
          "pattern": {
           "shape": ""
          }
         },
         "name": "5.859",
         "nbinsx": 30,
         "offsetgroup": "5.859",
         "orientation": "v",
         "showlegend": true,
         "type": "histogram",
         "x": [
          22.6
         ],
         "xaxis": "x",
         "yaxis": "y"
        },
        {
         "alignmentgroup": "True",
         "bingroup": "x",
         "hovertemplate": "RM=5.868<br>MEDV=%{x}<br>count=%{y}<extra></extra>",
         "legendgroup": "5.868",
         "marker": {
          "color": "#00cc96",
          "pattern": {
           "shape": ""
          }
         },
         "name": "5.868",
         "nbinsx": 30,
         "offsetgroup": "5.868",
         "orientation": "v",
         "showlegend": true,
         "type": "histogram",
         "x": [
          19.3
         ],
         "xaxis": "x",
         "yaxis": "y"
        },
        {
         "alignmentgroup": "True",
         "bingroup": "x",
         "hovertemplate": "RM=5.869<br>MEDV=%{x}<br>count=%{y}<extra></extra>",
         "legendgroup": "5.869",
         "marker": {
          "color": "#ab63fa",
          "pattern": {
           "shape": ""
          }
         },
         "name": "5.869",
         "nbinsx": 30,
         "offsetgroup": "5.869",
         "orientation": "v",
         "showlegend": true,
         "type": "histogram",
         "x": [
          19.5
         ],
         "xaxis": "x",
         "yaxis": "y"
        },
        {
         "alignmentgroup": "True",
         "bingroup": "x",
         "hovertemplate": "RM=5.87<br>MEDV=%{x}<br>count=%{y}<extra></extra>",
         "legendgroup": "5.87",
         "marker": {
          "color": "#FFA15A",
          "pattern": {
           "shape": ""
          }
         },
         "name": "5.87",
         "nbinsx": 30,
         "offsetgroup": "5.87",
         "orientation": "v",
         "showlegend": true,
         "type": "histogram",
         "x": [
          22
         ],
         "xaxis": "x",
         "yaxis": "y"
        },
        {
         "alignmentgroup": "True",
         "bingroup": "x",
         "hovertemplate": "RM=5.871<br>MEDV=%{x}<br>count=%{y}<extra></extra>",
         "legendgroup": "5.871",
         "marker": {
          "color": "#19d3f3",
          "pattern": {
           "shape": ""
          }
         },
         "name": "5.871",
         "nbinsx": 30,
         "offsetgroup": "5.871",
         "orientation": "v",
         "showlegend": true,
         "type": "histogram",
         "x": [
          20.6
         ],
         "xaxis": "x",
         "yaxis": "y"
        },
        {
         "alignmentgroup": "True",
         "bingroup": "x",
         "hovertemplate": "RM=5.872<br>MEDV=%{x}<br>count=%{y}<extra></extra>",
         "legendgroup": "5.872",
         "marker": {
          "color": "#FF6692",
          "pattern": {
           "shape": ""
          }
         },
         "name": "5.872",
         "nbinsx": 30,
         "offsetgroup": "5.872",
         "orientation": "v",
         "showlegend": true,
         "type": "histogram",
         "x": [
          20.4
         ],
         "xaxis": "x",
         "yaxis": "y"
        },
        {
         "alignmentgroup": "True",
         "bingroup": "x",
         "hovertemplate": "RM=5.874<br>MEDV=%{x}<br>count=%{y}<extra></extra>",
         "legendgroup": "5.874",
         "marker": {
          "color": "#B6E880",
          "pattern": {
           "shape": ""
          }
         },
         "name": "5.874",
         "nbinsx": 30,
         "offsetgroup": "5.874",
         "orientation": "v",
         "showlegend": true,
         "type": "histogram",
         "x": [
          20.3
         ],
         "xaxis": "x",
         "yaxis": "y"
        },
        {
         "alignmentgroup": "True",
         "bingroup": "x",
         "hovertemplate": "RM=5.875<br>MEDV=%{x}<br>count=%{y}<extra></extra>",
         "legendgroup": "5.875",
         "marker": {
          "color": "#FF97FF",
          "pattern": {
           "shape": ""
          }
         },
         "name": "5.875",
         "nbinsx": 30,
         "offsetgroup": "5.875",
         "orientation": "v",
         "showlegend": true,
         "type": "histogram",
         "x": [
          50,
          17.4
         ],
         "xaxis": "x",
         "yaxis": "y"
        },
        {
         "alignmentgroup": "True",
         "bingroup": "x",
         "hovertemplate": "RM=5.876<br>MEDV=%{x}<br>count=%{y}<extra></extra>",
         "legendgroup": "5.876",
         "marker": {
          "color": "#FECB52",
          "pattern": {
           "shape": ""
          }
         },
         "name": "5.876",
         "nbinsx": 30,
         "offsetgroup": "5.876",
         "orientation": "v",
         "showlegend": true,
         "type": "histogram",
         "x": [
          20.9
         ],
         "xaxis": "x",
         "yaxis": "y"
        },
        {
         "alignmentgroup": "True",
         "bingroup": "x",
         "hovertemplate": "RM=5.877<br>MEDV=%{x}<br>count=%{y}<extra></extra>",
         "legendgroup": "5.877",
         "marker": {
          "color": "#636efa",
          "pattern": {
           "shape": ""
          }
         },
         "name": "5.877",
         "nbinsx": 30,
         "offsetgroup": "5.877",
         "orientation": "v",
         "showlegend": true,
         "type": "histogram",
         "x": [
          23.8
         ],
         "xaxis": "x",
         "yaxis": "y"
        },
        {
         "alignmentgroup": "True",
         "bingroup": "x",
         "hovertemplate": "RM=5.878<br>MEDV=%{x}<br>count=%{y}<extra></extra>",
         "legendgroup": "5.878",
         "marker": {
          "color": "#EF553B",
          "pattern": {
           "shape": ""
          }
         },
         "name": "5.878",
         "nbinsx": 30,
         "offsetgroup": "5.878",
         "orientation": "v",
         "showlegend": true,
         "type": "histogram",
         "x": [
          22
         ],
         "xaxis": "x",
         "yaxis": "y"
        },
        {
         "alignmentgroup": "True",
         "bingroup": "x",
         "hovertemplate": "RM=5.879<br>MEDV=%{x}<br>count=%{y}<extra></extra>",
         "legendgroup": "5.879",
         "marker": {
          "color": "#00cc96",
          "pattern": {
           "shape": ""
          }
         },
         "name": "5.879",
         "nbinsx": 30,
         "offsetgroup": "5.879",
         "orientation": "v",
         "showlegend": true,
         "type": "histogram",
         "x": [
          18.8
         ],
         "xaxis": "x",
         "yaxis": "y"
        },
        {
         "alignmentgroup": "True",
         "bingroup": "x",
         "hovertemplate": "RM=5.88<br>MEDV=%{x}<br>count=%{y}<extra></extra>",
         "legendgroup": "5.88",
         "marker": {
          "color": "#ab63fa",
          "pattern": {
           "shape": ""
          }
         },
         "name": "5.88",
         "nbinsx": 30,
         "offsetgroup": "5.88",
         "orientation": "v",
         "showlegend": true,
         "type": "histogram",
         "x": [
          19.1
         ],
         "xaxis": "x",
         "yaxis": "y"
        },
        {
         "alignmentgroup": "True",
         "bingroup": "x",
         "hovertemplate": "RM=5.884<br>MEDV=%{x}<br>count=%{y}<extra></extra>",
         "legendgroup": "5.884",
         "marker": {
          "color": "#FFA15A",
          "pattern": {
           "shape": ""
          }
         },
         "name": "5.884",
         "nbinsx": 30,
         "offsetgroup": "5.884",
         "orientation": "v",
         "showlegend": true,
         "type": "histogram",
         "x": [
          18.6
         ],
         "xaxis": "x",
         "yaxis": "y"
        },
        {
         "alignmentgroup": "True",
         "bingroup": "x",
         "hovertemplate": "RM=5.885<br>MEDV=%{x}<br>count=%{y}<extra></extra>",
         "legendgroup": "5.885",
         "marker": {
          "color": "#19d3f3",
          "pattern": {
           "shape": ""
          }
         },
         "name": "5.885",
         "nbinsx": 30,
         "offsetgroup": "5.885",
         "orientation": "v",
         "showlegend": true,
         "type": "histogram",
         "x": [
          20.9
         ],
         "xaxis": "x",
         "yaxis": "y"
        },
        {
         "alignmentgroup": "True",
         "bingroup": "x",
         "hovertemplate": "RM=5.887<br>MEDV=%{x}<br>count=%{y}<extra></extra>",
         "legendgroup": "5.887",
         "marker": {
          "color": "#FF6692",
          "pattern": {
           "shape": ""
          }
         },
         "name": "5.887",
         "nbinsx": 30,
         "offsetgroup": "5.887",
         "orientation": "v",
         "showlegend": true,
         "type": "histogram",
         "x": [
          12.7
         ],
         "xaxis": "x",
         "yaxis": "y"
        },
        {
         "alignmentgroup": "True",
         "bingroup": "x",
         "hovertemplate": "RM=5.888<br>MEDV=%{x}<br>count=%{y}<extra></extra>",
         "legendgroup": "5.888",
         "marker": {
          "color": "#B6E880",
          "pattern": {
           "shape": ""
          }
         },
         "name": "5.888",
         "nbinsx": 30,
         "offsetgroup": "5.888",
         "orientation": "v",
         "showlegend": true,
         "type": "histogram",
         "x": [
          23.3,
          18.9
         ],
         "xaxis": "x",
         "yaxis": "y"
        },
        {
         "alignmentgroup": "True",
         "bingroup": "x",
         "hovertemplate": "RM=5.889<br>MEDV=%{x}<br>count=%{y}<extra></extra>",
         "legendgroup": "5.889",
         "marker": {
          "color": "#FF97FF",
          "pattern": {
           "shape": ""
          }
         },
         "name": "5.889",
         "nbinsx": 30,
         "offsetgroup": "5.889",
         "orientation": "v",
         "showlegend": true,
         "type": "histogram",
         "x": [
          21.7
         ],
         "xaxis": "x",
         "yaxis": "y"
        },
        {
         "alignmentgroup": "True",
         "bingroup": "x",
         "hovertemplate": "RM=5.891<br>MEDV=%{x}<br>count=%{y}<extra></extra>",
         "legendgroup": "5.891",
         "marker": {
          "color": "#FECB52",
          "pattern": {
           "shape": ""
          }
         },
         "name": "5.891",
         "nbinsx": 30,
         "offsetgroup": "5.891",
         "orientation": "v",
         "showlegend": true,
         "type": "histogram",
         "x": [
          22.6
         ],
         "xaxis": "x",
         "yaxis": "y"
        },
        {
         "alignmentgroup": "True",
         "bingroup": "x",
         "hovertemplate": "RM=5.895<br>MEDV=%{x}<br>count=%{y}<extra></extra>",
         "legendgroup": "5.895",
         "marker": {
          "color": "#636efa",
          "pattern": {
           "shape": ""
          }
         },
         "name": "5.895",
         "nbinsx": 30,
         "offsetgroup": "5.895",
         "orientation": "v",
         "showlegend": true,
         "type": "histogram",
         "x": [
          18.5
         ],
         "xaxis": "x",
         "yaxis": "y"
        },
        {
         "alignmentgroup": "True",
         "bingroup": "x",
         "hovertemplate": "RM=5.896<br>MEDV=%{x}<br>count=%{y}<extra></extra>",
         "legendgroup": "5.896",
         "marker": {
          "color": "#EF553B",
          "pattern": {
           "shape": ""
          }
         },
         "name": "5.896",
         "nbinsx": 30,
         "offsetgroup": "5.896",
         "orientation": "v",
         "showlegend": true,
         "type": "histogram",
         "x": [
          8.3
         ],
         "xaxis": "x",
         "yaxis": "y"
        },
        {
         "alignmentgroup": "True",
         "bingroup": "x",
         "hovertemplate": "RM=5.898<br>MEDV=%{x}<br>count=%{y}<extra></extra>",
         "legendgroup": "5.898",
         "marker": {
          "color": "#00cc96",
          "pattern": {
           "shape": ""
          }
         },
         "name": "5.898",
         "nbinsx": 30,
         "offsetgroup": "5.898",
         "orientation": "v",
         "showlegend": true,
         "type": "histogram",
         "x": [
          17.2
         ],
         "xaxis": "x",
         "yaxis": "y"
        },
        {
         "alignmentgroup": "True",
         "bingroup": "x",
         "hovertemplate": "RM=5.905<br>MEDV=%{x}<br>count=%{y}<extra></extra>",
         "legendgroup": "5.905",
         "marker": {
          "color": "#ab63fa",
          "pattern": {
           "shape": ""
          }
         },
         "name": "5.905",
         "nbinsx": 30,
         "offsetgroup": "5.905",
         "orientation": "v",
         "showlegend": true,
         "type": "histogram",
         "x": [
          20.6
         ],
         "xaxis": "x",
         "yaxis": "y"
        },
        {
         "alignmentgroup": "True",
         "bingroup": "x",
         "hovertemplate": "RM=5.913<br>MEDV=%{x}<br>count=%{y}<extra></extra>",
         "legendgroup": "5.913",
         "marker": {
          "color": "#FFA15A",
          "pattern": {
           "shape": ""
          }
         },
         "name": "5.913",
         "nbinsx": 30,
         "offsetgroup": "5.913",
         "orientation": "v",
         "showlegend": true,
         "type": "histogram",
         "x": [
          18.8
         ],
         "xaxis": "x",
         "yaxis": "y"
        },
        {
         "alignmentgroup": "True",
         "bingroup": "x",
         "hovertemplate": "RM=5.914<br>MEDV=%{x}<br>count=%{y}<extra></extra>",
         "legendgroup": "5.914",
         "marker": {
          "color": "#19d3f3",
          "pattern": {
           "shape": ""
          }
         },
         "name": "5.914",
         "nbinsx": 30,
         "offsetgroup": "5.914",
         "orientation": "v",
         "showlegend": true,
         "type": "histogram",
         "x": [
          17.8
         ],
         "xaxis": "x",
         "yaxis": "y"
        },
        {
         "alignmentgroup": "True",
         "bingroup": "x",
         "hovertemplate": "RM=5.92<br>MEDV=%{x}<br>count=%{y}<extra></extra>",
         "legendgroup": "5.92",
         "marker": {
          "color": "#FF6692",
          "pattern": {
           "shape": ""
          }
         },
         "name": "5.92",
         "nbinsx": 30,
         "offsetgroup": "5.92",
         "orientation": "v",
         "showlegend": true,
         "type": "histogram",
         "x": [
          20.7
         ],
         "xaxis": "x",
         "yaxis": "y"
        },
        {
         "alignmentgroup": "True",
         "bingroup": "x",
         "hovertemplate": "RM=5.924<br>MEDV=%{x}<br>count=%{y}<extra></extra>",
         "legendgroup": "5.924",
         "marker": {
          "color": "#B6E880",
          "pattern": {
           "shape": ""
          }
         },
         "name": "5.924",
         "nbinsx": 30,
         "offsetgroup": "5.924",
         "orientation": "v",
         "showlegend": true,
         "type": "histogram",
         "x": [
          15.6
         ],
         "xaxis": "x",
         "yaxis": "y"
        },
        {
         "alignmentgroup": "True",
         "bingroup": "x",
         "hovertemplate": "RM=5.926<br>MEDV=%{x}<br>count=%{y}<extra></extra>",
         "legendgroup": "5.926",
         "marker": {
          "color": "#FF97FF",
          "pattern": {
           "shape": ""
          }
         },
         "name": "5.926",
         "nbinsx": 30,
         "offsetgroup": "5.926",
         "orientation": "v",
         "showlegend": true,
         "type": "histogram",
         "x": [
          24.5,
          19.1
         ],
         "xaxis": "x",
         "yaxis": "y"
        },
        {
         "alignmentgroup": "True",
         "bingroup": "x",
         "hovertemplate": "RM=5.927<br>MEDV=%{x}<br>count=%{y}<extra></extra>",
         "legendgroup": "5.927",
         "marker": {
          "color": "#FECB52",
          "pattern": {
           "shape": ""
          }
         },
         "name": "5.927",
         "nbinsx": 30,
         "offsetgroup": "5.927",
         "orientation": "v",
         "showlegend": true,
         "type": "histogram",
         "x": [
          19.6
         ],
         "xaxis": "x",
         "yaxis": "y"
        },
        {
         "alignmentgroup": "True",
         "bingroup": "x",
         "hovertemplate": "RM=5.928<br>MEDV=%{x}<br>count=%{y}<extra></extra>",
         "legendgroup": "5.928",
         "marker": {
          "color": "#636efa",
          "pattern": {
           "shape": ""
          }
         },
         "name": "5.928",
         "nbinsx": 30,
         "offsetgroup": "5.928",
         "orientation": "v",
         "showlegend": true,
         "type": "histogram",
         "x": [
          18.3
         ],
         "xaxis": "x",
         "yaxis": "y"
        },
        {
         "alignmentgroup": "True",
         "bingroup": "x",
         "hovertemplate": "RM=5.933<br>MEDV=%{x}<br>count=%{y}<extra></extra>",
         "legendgroup": "5.933",
         "marker": {
          "color": "#EF553B",
          "pattern": {
           "shape": ""
          }
         },
         "name": "5.933",
         "nbinsx": 30,
         "offsetgroup": "5.933",
         "orientation": "v",
         "showlegend": true,
         "type": "histogram",
         "x": [
          18.9
         ],
         "xaxis": "x",
         "yaxis": "y"
        },
        {
         "alignmentgroup": "True",
         "bingroup": "x",
         "hovertemplate": "RM=5.935<br>MEDV=%{x}<br>count=%{y}<extra></extra>",
         "legendgroup": "5.935",
         "marker": {
          "color": "#00cc96",
          "pattern": {
           "shape": ""
          }
         },
         "name": "5.935",
         "nbinsx": 30,
         "offsetgroup": "5.935",
         "orientation": "v",
         "showlegend": true,
         "type": "histogram",
         "x": [
          8.4,
          23.1
         ],
         "xaxis": "x",
         "yaxis": "y"
        },
        {
         "alignmentgroup": "True",
         "bingroup": "x",
         "hovertemplate": "RM=5.936<br>MEDV=%{x}<br>count=%{y}<extra></extra>",
         "legendgroup": "5.936",
         "marker": {
          "color": "#ab63fa",
          "pattern": {
           "shape": ""
          }
         },
         "name": "5.936",
         "nbinsx": 30,
         "offsetgroup": "5.936",
         "orientation": "v",
         "showlegend": true,
         "type": "histogram",
         "x": [
          20.6,
          13.5
         ],
         "xaxis": "x",
         "yaxis": "y"
        },
        {
         "alignmentgroup": "True",
         "bingroup": "x",
         "hovertemplate": "RM=5.942<br>MEDV=%{x}<br>count=%{y}<extra></extra>",
         "legendgroup": "5.942",
         "marker": {
          "color": "#FFA15A",
          "pattern": {
           "shape": ""
          }
         },
         "name": "5.942",
         "nbinsx": 30,
         "offsetgroup": "5.942",
         "orientation": "v",
         "showlegend": true,
         "type": "histogram",
         "x": [
          17.4
         ],
         "xaxis": "x",
         "yaxis": "y"
        },
        {
         "alignmentgroup": "True",
         "bingroup": "x",
         "hovertemplate": "RM=5.949<br>MEDV=%{x}<br>count=%{y}<extra></extra>",
         "legendgroup": "5.949",
         "marker": {
          "color": "#19d3f3",
          "pattern": {
           "shape": ""
          }
         },
         "name": "5.949",
         "nbinsx": 30,
         "offsetgroup": "5.949",
         "orientation": "v",
         "showlegend": true,
         "type": "histogram",
         "x": [
          20.4
         ],
         "xaxis": "x",
         "yaxis": "y"
        },
        {
         "alignmentgroup": "True",
         "bingroup": "x",
         "hovertemplate": "RM=5.95<br>MEDV=%{x}<br>count=%{y}<extra></extra>",
         "legendgroup": "5.95",
         "marker": {
          "color": "#FF6692",
          "pattern": {
           "shape": ""
          }
         },
         "name": "5.95",
         "nbinsx": 30,
         "offsetgroup": "5.95",
         "orientation": "v",
         "showlegend": true,
         "type": "histogram",
         "x": [
          13.2
         ],
         "xaxis": "x",
         "yaxis": "y"
        },
        {
         "alignmentgroup": "True",
         "bingroup": "x",
         "hovertemplate": "RM=5.951<br>MEDV=%{x}<br>count=%{y}<extra></extra>",
         "legendgroup": "5.951",
         "marker": {
          "color": "#B6E880",
          "pattern": {
           "shape": ""
          }
         },
         "name": "5.951",
         "nbinsx": 30,
         "offsetgroup": "5.951",
         "orientation": "v",
         "showlegend": true,
         "type": "histogram",
         "x": [
          21.5
         ],
         "xaxis": "x",
         "yaxis": "y"
        },
        {
         "alignmentgroup": "True",
         "bingroup": "x",
         "hovertemplate": "RM=5.952<br>MEDV=%{x}<br>count=%{y}<extra></extra>",
         "legendgroup": "5.952",
         "marker": {
          "color": "#FF97FF",
          "pattern": {
           "shape": ""
          }
         },
         "name": "5.952",
         "nbinsx": 30,
         "offsetgroup": "5.952",
         "orientation": "v",
         "showlegend": true,
         "type": "histogram",
         "x": [
          19
         ],
         "xaxis": "x",
         "yaxis": "y"
        },
        {
         "alignmentgroup": "True",
         "bingroup": "x",
         "hovertemplate": "RM=5.957<br>MEDV=%{x}<br>count=%{y}<extra></extra>",
         "legendgroup": "5.957",
         "marker": {
          "color": "#FECB52",
          "pattern": {
           "shape": ""
          }
         },
         "name": "5.957",
         "nbinsx": 30,
         "offsetgroup": "5.957",
         "orientation": "v",
         "showlegend": true,
         "type": "histogram",
         "x": [
          8.8
         ],
         "xaxis": "x",
         "yaxis": "y"
        },
        {
         "alignmentgroup": "True",
         "bingroup": "x",
         "hovertemplate": "RM=5.96<br>MEDV=%{x}<br>count=%{y}<extra></extra>",
         "legendgroup": "5.96",
         "marker": {
          "color": "#636efa",
          "pattern": {
           "shape": ""
          }
         },
         "name": "5.96",
         "nbinsx": 30,
         "offsetgroup": "5.96",
         "orientation": "v",
         "showlegend": true,
         "type": "histogram",
         "x": [
          21.7
         ],
         "xaxis": "x",
         "yaxis": "y"
        },
        {
         "alignmentgroup": "True",
         "bingroup": "x",
         "hovertemplate": "RM=5.961<br>MEDV=%{x}<br>count=%{y}<extra></extra>",
         "legendgroup": "5.961",
         "marker": {
          "color": "#EF553B",
          "pattern": {
           "shape": ""
          }
         },
         "name": "5.961",
         "nbinsx": 30,
         "offsetgroup": "5.961",
         "orientation": "v",
         "showlegend": true,
         "type": "histogram",
         "x": [
          21.7,
          20.5
         ],
         "xaxis": "x",
         "yaxis": "y"
        },
        {
         "alignmentgroup": "True",
         "bingroup": "x",
         "hovertemplate": "RM=5.963<br>MEDV=%{x}<br>count=%{y}<extra></extra>",
         "legendgroup": "5.963",
         "marker": {
          "color": "#00cc96",
          "pattern": {
           "shape": ""
          }
         },
         "name": "5.963",
         "nbinsx": 30,
         "offsetgroup": "5.963",
         "orientation": "v",
         "showlegend": true,
         "type": "histogram",
         "x": [
          19.7
         ],
         "xaxis": "x",
         "yaxis": "y"
        },
        {
         "alignmentgroup": "True",
         "bingroup": "x",
         "hovertemplate": "RM=5.965<br>MEDV=%{x}<br>count=%{y}<extra></extra>",
         "legendgroup": "5.965",
         "marker": {
          "color": "#ab63fa",
          "pattern": {
           "shape": ""
          }
         },
         "name": "5.965",
         "nbinsx": 30,
         "offsetgroup": "5.965",
         "orientation": "v",
         "showlegend": true,
         "type": "histogram",
         "x": [
          19.6
         ],
         "xaxis": "x",
         "yaxis": "y"
        },
        {
         "alignmentgroup": "True",
         "bingroup": "x",
         "hovertemplate": "RM=5.966<br>MEDV=%{x}<br>count=%{y}<extra></extra>",
         "legendgroup": "5.966",
         "marker": {
          "color": "#FFA15A",
          "pattern": {
           "shape": ""
          }
         },
         "name": "5.966",
         "nbinsx": 30,
         "offsetgroup": "5.966",
         "orientation": "v",
         "showlegend": true,
         "type": "histogram",
         "x": [
          24.7,
          16
         ],
         "xaxis": "x",
         "yaxis": "y"
        },
        {
         "alignmentgroup": "True",
         "bingroup": "x",
         "hovertemplate": "RM=5.968<br>MEDV=%{x}<br>count=%{y}<extra></extra>",
         "legendgroup": "5.968",
         "marker": {
          "color": "#19d3f3",
          "pattern": {
           "shape": ""
          }
         },
         "name": "5.968",
         "nbinsx": 30,
         "offsetgroup": "5.968",
         "orientation": "v",
         "showlegend": true,
         "type": "histogram",
         "x": [
          18.7
         ],
         "xaxis": "x",
         "yaxis": "y"
        },
        {
         "alignmentgroup": "True",
         "bingroup": "x",
         "hovertemplate": "RM=5.972<br>MEDV=%{x}<br>count=%{y}<extra></extra>",
         "legendgroup": "5.972",
         "marker": {
          "color": "#FF6692",
          "pattern": {
           "shape": ""
          }
         },
         "name": "5.972",
         "nbinsx": 30,
         "offsetgroup": "5.972",
         "orientation": "v",
         "showlegend": true,
         "type": "histogram",
         "x": [
          20.3
         ],
         "xaxis": "x",
         "yaxis": "y"
        },
        {
         "alignmentgroup": "True",
         "bingroup": "x",
         "hovertemplate": "RM=5.976<br>MEDV=%{x}<br>count=%{y}<extra></extra>",
         "legendgroup": "5.976",
         "marker": {
          "color": "#B6E880",
          "pattern": {
           "shape": ""
          }
         },
         "name": "5.976",
         "nbinsx": 30,
         "offsetgroup": "5.976",
         "orientation": "v",
         "showlegend": true,
         "type": "histogram",
         "x": [
          12.7
         ],
         "xaxis": "x",
         "yaxis": "y"
        },
        {
         "alignmentgroup": "True",
         "bingroup": "x",
         "hovertemplate": "RM=5.981<br>MEDV=%{x}<br>count=%{y}<extra></extra>",
         "legendgroup": "5.981",
         "marker": {
          "color": "#FF97FF",
          "pattern": {
           "shape": ""
          }
         },
         "name": "5.981",
         "nbinsx": 30,
         "offsetgroup": "5.981",
         "orientation": "v",
         "showlegend": true,
         "type": "histogram",
         "x": [
          24.3
         ],
         "xaxis": "x",
         "yaxis": "y"
        },
        {
         "alignmentgroup": "True",
         "bingroup": "x",
         "hovertemplate": "RM=5.983<br>MEDV=%{x}<br>count=%{y}<extra></extra>",
         "legendgroup": "5.983",
         "marker": {
          "color": "#FECB52",
          "pattern": {
           "shape": ""
          }
         },
         "name": "5.983",
         "nbinsx": 30,
         "offsetgroup": "5.983",
         "orientation": "v",
         "showlegend": true,
         "type": "histogram",
         "x": [
          13.6,
          20.1
         ],
         "xaxis": "x",
         "yaxis": "y"
        },
        {
         "alignmentgroup": "True",
         "bingroup": "x",
         "hovertemplate": "RM=5.985<br>MEDV=%{x}<br>count=%{y}<extra></extra>",
         "legendgroup": "5.985",
         "marker": {
          "color": "#636efa",
          "pattern": {
           "shape": ""
          }
         },
         "name": "5.985",
         "nbinsx": 30,
         "offsetgroup": "5.985",
         "orientation": "v",
         "showlegend": true,
         "type": "histogram",
         "x": [
          19
         ],
         "xaxis": "x",
         "yaxis": "y"
        },
        {
         "alignmentgroup": "True",
         "bingroup": "x",
         "hovertemplate": "RM=5.986<br>MEDV=%{x}<br>count=%{y}<extra></extra>",
         "legendgroup": "5.986",
         "marker": {
          "color": "#EF553B",
          "pattern": {
           "shape": ""
          }
         },
         "name": "5.986",
         "nbinsx": 30,
         "offsetgroup": "5.986",
         "orientation": "v",
         "showlegend": true,
         "type": "histogram",
         "x": [
          21.4
         ],
         "xaxis": "x",
         "yaxis": "y"
        },
        {
         "alignmentgroup": "True",
         "bingroup": "x",
         "hovertemplate": "RM=5.987<br>MEDV=%{x}<br>count=%{y}<extra></extra>",
         "legendgroup": "5.987",
         "marker": {
          "color": "#00cc96",
          "pattern": {
           "shape": ""
          }
         },
         "name": "5.987",
         "nbinsx": 30,
         "offsetgroup": "5.987",
         "orientation": "v",
         "showlegend": true,
         "type": "histogram",
         "x": [
          5.6
         ],
         "xaxis": "x",
         "yaxis": "y"
        },
        {
         "alignmentgroup": "True",
         "bingroup": "x",
         "hovertemplate": "RM=5.99<br>MEDV=%{x}<br>count=%{y}<extra></extra>",
         "legendgroup": "5.99",
         "marker": {
          "color": "#ab63fa",
          "pattern": {
           "shape": ""
          }
         },
         "name": "5.99",
         "nbinsx": 30,
         "offsetgroup": "5.99",
         "orientation": "v",
         "showlegend": true,
         "type": "histogram",
         "x": [
          17.5
         ],
         "xaxis": "x",
         "yaxis": "y"
        },
        {
         "alignmentgroup": "True",
         "bingroup": "x",
         "hovertemplate": "RM=5.998<br>MEDV=%{x}<br>count=%{y}<extra></extra>",
         "legendgroup": "5.998",
         "marker": {
          "color": "#FFA15A",
          "pattern": {
           "shape": ""
          }
         },
         "name": "5.998",
         "nbinsx": 30,
         "offsetgroup": "5.998",
         "orientation": "v",
         "showlegend": true,
         "type": "histogram",
         "x": [
          23.4
         ],
         "xaxis": "x",
         "yaxis": "y"
        },
        {
         "alignmentgroup": "True",
         "bingroup": "x",
         "hovertemplate": "RM=6.003<br>MEDV=%{x}<br>count=%{y}<extra></extra>",
         "legendgroup": "6.003",
         "marker": {
          "color": "#19d3f3",
          "pattern": {
           "shape": ""
          }
         },
         "name": "6.003",
         "nbinsx": 30,
         "offsetgroup": "6.003",
         "orientation": "v",
         "showlegend": true,
         "type": "histogram",
         "x": [
          19.1
         ],
         "xaxis": "x",
         "yaxis": "y"
        },
        {
         "alignmentgroup": "True",
         "bingroup": "x",
         "hovertemplate": "RM=6.004<br>MEDV=%{x}<br>count=%{y}<extra></extra>",
         "legendgroup": "6.004",
         "marker": {
          "color": "#FF6692",
          "pattern": {
           "shape": ""
          }
         },
         "name": "6.004",
         "nbinsx": 30,
         "offsetgroup": "6.004",
         "orientation": "v",
         "showlegend": true,
         "type": "histogram",
         "x": [
          20.3,
          18.9
         ],
         "xaxis": "x",
         "yaxis": "y"
        },
        {
         "alignmentgroup": "True",
         "bingroup": "x",
         "hovertemplate": "RM=6.006<br>MEDV=%{x}<br>count=%{y}<extra></extra>",
         "legendgroup": "6.006",
         "marker": {
          "color": "#B6E880",
          "pattern": {
           "shape": ""
          }
         },
         "name": "6.006",
         "nbinsx": 30,
         "offsetgroup": "6.006",
         "orientation": "v",
         "showlegend": true,
         "type": "histogram",
         "x": [
          14.2
         ],
         "xaxis": "x",
         "yaxis": "y"
        },
        {
         "alignmentgroup": "True",
         "bingroup": "x",
         "hovertemplate": "RM=6.009<br>MEDV=%{x}<br>count=%{y}<extra></extra>",
         "legendgroup": "6.009",
         "marker": {
          "color": "#FF97FF",
          "pattern": {
           "shape": ""
          }
         },
         "name": "6.009",
         "nbinsx": 30,
         "offsetgroup": "6.009",
         "orientation": "v",
         "showlegend": true,
         "type": "histogram",
         "x": [
          18.9,
          21.7
         ],
         "xaxis": "x",
         "yaxis": "y"
        },
        {
         "alignmentgroup": "True",
         "bingroup": "x",
         "hovertemplate": "RM=6.012<br>MEDV=%{x}<br>count=%{y}<extra></extra>",
         "legendgroup": "6.012",
         "marker": {
          "color": "#FECB52",
          "pattern": {
           "shape": ""
          }
         },
         "name": "6.012",
         "nbinsx": 30,
         "offsetgroup": "6.012",
         "orientation": "v",
         "showlegend": true,
         "type": "histogram",
         "x": [
          22.9
         ],
         "xaxis": "x",
         "yaxis": "y"
        },
        {
         "alignmentgroup": "True",
         "bingroup": "x",
         "hovertemplate": "RM=6.014<br>MEDV=%{x}<br>count=%{y}<extra></extra>",
         "legendgroup": "6.014",
         "marker": {
          "color": "#636efa",
          "pattern": {
           "shape": ""
          }
         },
         "name": "6.014",
         "nbinsx": 30,
         "offsetgroup": "6.014",
         "orientation": "v",
         "showlegend": true,
         "type": "histogram",
         "x": [
          17.5
         ],
         "xaxis": "x",
         "yaxis": "y"
        },
        {
         "alignmentgroup": "True",
         "bingroup": "x",
         "hovertemplate": "RM=6.015<br>MEDV=%{x}<br>count=%{y}<extra></extra>",
         "legendgroup": "6.015",
         "marker": {
          "color": "#EF553B",
          "pattern": {
           "shape": ""
          }
         },
         "name": "6.015",
         "nbinsx": 30,
         "offsetgroup": "6.015",
         "orientation": "v",
         "showlegend": true,
         "type": "histogram",
         "x": [
          22.5
         ],
         "xaxis": "x",
         "yaxis": "y"
        },
        {
         "alignmentgroup": "True",
         "bingroup": "x",
         "hovertemplate": "RM=6.019<br>MEDV=%{x}<br>count=%{y}<extra></extra>",
         "legendgroup": "6.019",
         "marker": {
          "color": "#00cc96",
          "pattern": {
           "shape": ""
          }
         },
         "name": "6.019",
         "nbinsx": 30,
         "offsetgroup": "6.019",
         "orientation": "v",
         "showlegend": true,
         "type": "histogram",
         "x": [
          21.2
         ],
         "xaxis": "x",
         "yaxis": "y"
        },
        {
         "alignmentgroup": "True",
         "bingroup": "x",
         "hovertemplate": "RM=6.02<br>MEDV=%{x}<br>count=%{y}<extra></extra>",
         "legendgroup": "6.02",
         "marker": {
          "color": "#ab63fa",
          "pattern": {
           "shape": ""
          }
         },
         "name": "6.02",
         "nbinsx": 30,
         "offsetgroup": "6.02",
         "orientation": "v",
         "showlegend": true,
         "type": "histogram",
         "x": [
          23.2
         ],
         "xaxis": "x",
         "yaxis": "y"
        },
        {
         "alignmentgroup": "True",
         "bingroup": "x",
         "hovertemplate": "RM=6.021<br>MEDV=%{x}<br>count=%{y}<extra></extra>",
         "legendgroup": "6.021",
         "marker": {
          "color": "#FFA15A",
          "pattern": {
           "shape": ""
          }
         },
         "name": "6.021",
         "nbinsx": 30,
         "offsetgroup": "6.021",
         "orientation": "v",
         "showlegend": true,
         "type": "histogram",
         "x": [
          19.2
         ],
         "xaxis": "x",
         "yaxis": "y"
        },
        {
         "alignmentgroup": "True",
         "bingroup": "x",
         "hovertemplate": "RM=6.023<br>MEDV=%{x}<br>count=%{y}<extra></extra>",
         "legendgroup": "6.023",
         "marker": {
          "color": "#19d3f3",
          "pattern": {
           "shape": ""
          }
         },
         "name": "6.023",
         "nbinsx": 30,
         "offsetgroup": "6.023",
         "orientation": "v",
         "showlegend": true,
         "type": "histogram",
         "x": [
          19.4
         ],
         "xaxis": "x",
         "yaxis": "y"
        },
        {
         "alignmentgroup": "True",
         "bingroup": "x",
         "hovertemplate": "RM=6.027<br>MEDV=%{x}<br>count=%{y}<extra></extra>",
         "legendgroup": "6.027",
         "marker": {
          "color": "#FF6692",
          "pattern": {
           "shape": ""
          }
         },
         "name": "6.027",
         "nbinsx": 30,
         "offsetgroup": "6.027",
         "orientation": "v",
         "showlegend": true,
         "type": "histogram",
         "x": [
          16.8
         ],
         "xaxis": "x",
         "yaxis": "y"
        },
        {
         "alignmentgroup": "True",
         "bingroup": "x",
         "hovertemplate": "RM=6.03<br>MEDV=%{x}<br>count=%{y}<extra></extra>",
         "legendgroup": "6.03",
         "marker": {
          "color": "#B6E880",
          "pattern": {
           "shape": ""
          }
         },
         "name": "6.03",
         "nbinsx": 30,
         "offsetgroup": "6.03",
         "orientation": "v",
         "showlegend": true,
         "type": "histogram",
         "x": [
          11.9,
          16.6
         ],
         "xaxis": "x",
         "yaxis": "y"
        },
        {
         "alignmentgroup": "True",
         "bingroup": "x",
         "hovertemplate": "RM=6.031<br>MEDV=%{x}<br>count=%{y}<extra></extra>",
         "legendgroup": "6.031",
         "marker": {
          "color": "#FF97FF",
          "pattern": {
           "shape": ""
          }
         },
         "name": "6.031",
         "nbinsx": 30,
         "offsetgroup": "6.031",
         "orientation": "v",
         "showlegend": true,
         "type": "histogram",
         "x": [
          19.4
         ],
         "xaxis": "x",
         "yaxis": "y"
        },
        {
         "alignmentgroup": "True",
         "bingroup": "x",
         "hovertemplate": "RM=6.037<br>MEDV=%{x}<br>count=%{y}<extra></extra>",
         "legendgroup": "6.037",
         "marker": {
          "color": "#FECB52",
          "pattern": {
           "shape": ""
          }
         },
         "name": "6.037",
         "nbinsx": 30,
         "offsetgroup": "6.037",
         "orientation": "v",
         "showlegend": true,
         "type": "histogram",
         "x": [
          21.1
         ],
         "xaxis": "x",
         "yaxis": "y"
        },
        {
         "alignmentgroup": "True",
         "bingroup": "x",
         "hovertemplate": "RM=6.041<br>MEDV=%{x}<br>count=%{y}<extra></extra>",
         "legendgroup": "6.041",
         "marker": {
          "color": "#636efa",
          "pattern": {
           "shape": ""
          }
         },
         "name": "6.041",
         "nbinsx": 30,
         "offsetgroup": "6.041",
         "orientation": "v",
         "showlegend": true,
         "type": "histogram",
         "x": [
          20.4
         ],
         "xaxis": "x",
         "yaxis": "y"
        },
        {
         "alignmentgroup": "True",
         "bingroup": "x",
         "hovertemplate": "RM=6.047<br>MEDV=%{x}<br>count=%{y}<extra></extra>",
         "legendgroup": "6.047",
         "marker": {
          "color": "#EF553B",
          "pattern": {
           "shape": ""
          }
         },
         "name": "6.047",
         "nbinsx": 30,
         "offsetgroup": "6.047",
         "orientation": "v",
         "showlegend": true,
         "type": "histogram",
         "x": [
          14.8
         ],
         "xaxis": "x",
         "yaxis": "y"
        },
        {
         "alignmentgroup": "True",
         "bingroup": "x",
         "hovertemplate": "RM=6.051<br>MEDV=%{x}<br>count=%{y}<extra></extra>",
         "legendgroup": "6.051",
         "marker": {
          "color": "#00cc96",
          "pattern": {
           "shape": ""
          }
         },
         "name": "6.051",
         "nbinsx": 30,
         "offsetgroup": "6.051",
         "orientation": "v",
         "showlegend": true,
         "type": "histogram",
         "x": [
          23.2
         ],
         "xaxis": "x",
         "yaxis": "y"
        },
        {
         "alignmentgroup": "True",
         "bingroup": "x",
         "hovertemplate": "RM=6.059<br>MEDV=%{x}<br>count=%{y}<extra></extra>",
         "legendgroup": "6.059",
         "marker": {
          "color": "#ab63fa",
          "pattern": {
           "shape": ""
          }
         },
         "name": "6.059",
         "nbinsx": 30,
         "offsetgroup": "6.059",
         "orientation": "v",
         "showlegend": true,
         "type": "histogram",
         "x": [
          20.6
         ],
         "xaxis": "x",
         "yaxis": "y"
        },
        {
         "alignmentgroup": "True",
         "bingroup": "x",
         "hovertemplate": "RM=6.064<br>MEDV=%{x}<br>count=%{y}<extra></extra>",
         "legendgroup": "6.064",
         "marker": {
          "color": "#FFA15A",
          "pattern": {
           "shape": ""
          }
         },
         "name": "6.064",
         "nbinsx": 30,
         "offsetgroup": "6.064",
         "orientation": "v",
         "showlegend": true,
         "type": "histogram",
         "x": [
          24.4
         ],
         "xaxis": "x",
         "yaxis": "y"
        },
        {
         "alignmentgroup": "True",
         "bingroup": "x",
         "hovertemplate": "RM=6.065<br>MEDV=%{x}<br>count=%{y}<extra></extra>",
         "legendgroup": "6.065",
         "marker": {
          "color": "#19d3f3",
          "pattern": {
           "shape": ""
          }
         },
         "name": "6.065",
         "nbinsx": 30,
         "offsetgroup": "6.065",
         "orientation": "v",
         "showlegend": true,
         "type": "histogram",
         "x": [
          22.8
         ],
         "xaxis": "x",
         "yaxis": "y"
        },
        {
         "alignmentgroup": "True",
         "bingroup": "x",
         "hovertemplate": "RM=6.066<br>MEDV=%{x}<br>count=%{y}<extra></extra>",
         "legendgroup": "6.066",
         "marker": {
          "color": "#FF6692",
          "pattern": {
           "shape": ""
          }
         },
         "name": "6.066",
         "nbinsx": 30,
         "offsetgroup": "6.066",
         "orientation": "v",
         "showlegend": true,
         "type": "histogram",
         "x": [
          24.3
         ],
         "xaxis": "x",
         "yaxis": "y"
        },
        {
         "alignmentgroup": "True",
         "bingroup": "x",
         "hovertemplate": "RM=6.069<br>MEDV=%{x}<br>count=%{y}<extra></extra>",
         "legendgroup": "6.069",
         "marker": {
          "color": "#B6E880",
          "pattern": {
           "shape": ""
          }
         },
         "name": "6.069",
         "nbinsx": 30,
         "offsetgroup": "6.069",
         "orientation": "v",
         "showlegend": true,
         "type": "histogram",
         "x": [
          21.2
         ],
         "xaxis": "x",
         "yaxis": "y"
        },
        {
         "alignmentgroup": "True",
         "bingroup": "x",
         "hovertemplate": "RM=6.072<br>MEDV=%{x}<br>count=%{y}<extra></extra>",
         "legendgroup": "6.072",
         "marker": {
          "color": "#FF97FF",
          "pattern": {
           "shape": ""
          }
         },
         "name": "6.072",
         "nbinsx": 30,
         "offsetgroup": "6.072",
         "orientation": "v",
         "showlegend": true,
         "type": "histogram",
         "x": [
          14.5
         ],
         "xaxis": "x",
         "yaxis": "y"
        },
        {
         "alignmentgroup": "True",
         "bingroup": "x",
         "hovertemplate": "RM=6.081<br>MEDV=%{x}<br>count=%{y}<extra></extra>",
         "legendgroup": "6.081",
         "marker": {
          "color": "#FECB52",
          "pattern": {
           "shape": ""
          }
         },
         "name": "6.081",
         "nbinsx": 30,
         "offsetgroup": "6.081",
         "orientation": "v",
         "showlegend": true,
         "type": "histogram",
         "x": [
          20
         ],
         "xaxis": "x",
         "yaxis": "y"
        },
        {
         "alignmentgroup": "True",
         "bingroup": "x",
         "hovertemplate": "RM=6.083<br>MEDV=%{x}<br>count=%{y}<extra></extra>",
         "legendgroup": "6.083",
         "marker": {
          "color": "#636efa",
          "pattern": {
           "shape": ""
          }
         },
         "name": "6.083",
         "nbinsx": 30,
         "offsetgroup": "6.083",
         "orientation": "v",
         "showlegend": true,
         "type": "histogram",
         "x": [
          22.2
         ],
         "xaxis": "x",
         "yaxis": "y"
        },
        {
         "alignmentgroup": "True",
         "bingroup": "x",
         "hovertemplate": "RM=6.086<br>MEDV=%{x}<br>count=%{y}<extra></extra>",
         "legendgroup": "6.086",
         "marker": {
          "color": "#EF553B",
          "pattern": {
           "shape": ""
          }
         },
         "name": "6.086",
         "nbinsx": 30,
         "offsetgroup": "6.086",
         "orientation": "v",
         "showlegend": true,
         "type": "histogram",
         "x": [
          24
         ],
         "xaxis": "x",
         "yaxis": "y"
        },
        {
         "alignmentgroup": "True",
         "bingroup": "x",
         "hovertemplate": "RM=6.092<br>MEDV=%{x}<br>count=%{y}<extra></extra>",
         "legendgroup": "6.092",
         "marker": {
          "color": "#00cc96",
          "pattern": {
           "shape": ""
          }
         },
         "name": "6.092",
         "nbinsx": 30,
         "offsetgroup": "6.092",
         "orientation": "v",
         "showlegend": true,
         "type": "histogram",
         "x": [
          18.7
         ],
         "xaxis": "x",
         "yaxis": "y"
        },
        {
         "alignmentgroup": "True",
         "bingroup": "x",
         "hovertemplate": "RM=6.095<br>MEDV=%{x}<br>count=%{y}<extra></extra>",
         "legendgroup": "6.095",
         "marker": {
          "color": "#ab63fa",
          "pattern": {
           "shape": ""
          }
         },
         "name": "6.095",
         "nbinsx": 30,
         "offsetgroup": "6.095",
         "orientation": "v",
         "showlegend": true,
         "type": "histogram",
         "x": [
          20.1
         ],
         "xaxis": "x",
         "yaxis": "y"
        },
        {
         "alignmentgroup": "True",
         "bingroup": "x",
         "hovertemplate": "RM=6.096<br>MEDV=%{x}<br>count=%{y}<extra></extra>",
         "legendgroup": "6.096",
         "marker": {
          "color": "#FFA15A",
          "pattern": {
           "shape": ""
          }
         },
         "name": "6.096",
         "nbinsx": 30,
         "offsetgroup": "6.096",
         "orientation": "v",
         "showlegend": true,
         "type": "histogram",
         "x": [
          18.2,
          13.5
         ],
         "xaxis": "x",
         "yaxis": "y"
        },
        {
         "alignmentgroup": "True",
         "bingroup": "x",
         "hovertemplate": "RM=6.101<br>MEDV=%{x}<br>count=%{y}<extra></extra>",
         "legendgroup": "6.101",
         "marker": {
          "color": "#19d3f3",
          "pattern": {
           "shape": ""
          }
         },
         "name": "6.101",
         "nbinsx": 30,
         "offsetgroup": "6.101",
         "orientation": "v",
         "showlegend": true,
         "type": "histogram",
         "x": [
          25
         ],
         "xaxis": "x",
         "yaxis": "y"
        },
        {
         "alignmentgroup": "True",
         "bingroup": "x",
         "hovertemplate": "RM=6.103<br>MEDV=%{x}<br>count=%{y}<extra></extra>",
         "legendgroup": "6.103",
         "marker": {
          "color": "#FF6692",
          "pattern": {
           "shape": ""
          }
         },
         "name": "6.103",
         "nbinsx": 30,
         "offsetgroup": "6.103",
         "orientation": "v",
         "showlegend": true,
         "type": "histogram",
         "x": [
          13.4
         ],
         "xaxis": "x",
         "yaxis": "y"
        },
        {
         "alignmentgroup": "True",
         "bingroup": "x",
         "hovertemplate": "RM=6.108<br>MEDV=%{x}<br>count=%{y}<extra></extra>",
         "legendgroup": "6.108",
         "marker": {
          "color": "#B6E880",
          "pattern": {
           "shape": ""
          }
         },
         "name": "6.108",
         "nbinsx": 30,
         "offsetgroup": "6.108",
         "orientation": "v",
         "showlegend": true,
         "type": "histogram",
         "x": [
          21.9,
          24.3
         ],
         "xaxis": "x",
         "yaxis": "y"
        },
        {
         "alignmentgroup": "True",
         "bingroup": "x",
         "hovertemplate": "RM=6.112<br>MEDV=%{x}<br>count=%{y}<extra></extra>",
         "legendgroup": "6.112",
         "marker": {
          "color": "#FF97FF",
          "pattern": {
           "shape": ""
          }
         },
         "name": "6.112",
         "nbinsx": 30,
         "offsetgroup": "6.112",
         "orientation": "v",
         "showlegend": true,
         "type": "histogram",
         "x": [
          22.6
         ],
         "xaxis": "x",
         "yaxis": "y"
        },
        {
         "alignmentgroup": "True",
         "bingroup": "x",
         "hovertemplate": "RM=6.113<br>MEDV=%{x}<br>count=%{y}<extra></extra>",
         "legendgroup": "6.113",
         "marker": {
          "color": "#FECB52",
          "pattern": {
           "shape": ""
          }
         },
         "name": "6.113",
         "nbinsx": 30,
         "offsetgroup": "6.113",
         "orientation": "v",
         "showlegend": true,
         "type": "histogram",
         "x": [
          21
         ],
         "xaxis": "x",
         "yaxis": "y"
        },
        {
         "alignmentgroup": "True",
         "bingroup": "x",
         "hovertemplate": "RM=6.114<br>MEDV=%{x}<br>count=%{y}<extra></extra>",
         "legendgroup": "6.114",
         "marker": {
          "color": "#636efa",
          "pattern": {
           "shape": ""
          }
         },
         "name": "6.114",
         "nbinsx": 30,
         "offsetgroup": "6.114",
         "orientation": "v",
         "showlegend": true,
         "type": "histogram",
         "x": [
          19.1
         ],
         "xaxis": "x",
         "yaxis": "y"
        },
        {
         "alignmentgroup": "True",
         "bingroup": "x",
         "hovertemplate": "RM=6.115<br>MEDV=%{x}<br>count=%{y}<extra></extra>",
         "legendgroup": "6.115",
         "marker": {
          "color": "#EF553B",
          "pattern": {
           "shape": ""
          }
         },
         "name": "6.115",
         "nbinsx": 30,
         "offsetgroup": "6.115",
         "orientation": "v",
         "showlegend": true,
         "type": "histogram",
         "x": [
          20.5
         ],
         "xaxis": "x",
         "yaxis": "y"
        },
        {
         "alignmentgroup": "True",
         "bingroup": "x",
         "hovertemplate": "RM=6.12<br>MEDV=%{x}<br>count=%{y}<extra></extra>",
         "legendgroup": "6.12",
         "marker": {
          "color": "#00cc96",
          "pattern": {
           "shape": ""
          }
         },
         "name": "6.12",
         "nbinsx": 30,
         "offsetgroup": "6.12",
         "orientation": "v",
         "showlegend": true,
         "type": "histogram",
         "x": [
          20.6
         ],
         "xaxis": "x",
         "yaxis": "y"
        },
        {
         "alignmentgroup": "True",
         "bingroup": "x",
         "hovertemplate": "RM=6.121<br>MEDV=%{x}<br>count=%{y}<extra></extra>",
         "legendgroup": "6.121",
         "marker": {
          "color": "#ab63fa",
          "pattern": {
           "shape": ""
          }
         },
         "name": "6.121",
         "nbinsx": 30,
         "offsetgroup": "6.121",
         "orientation": "v",
         "showlegend": true,
         "type": "histogram",
         "x": [
          22.2
         ],
         "xaxis": "x",
         "yaxis": "y"
        },
        {
         "alignmentgroup": "True",
         "bingroup": "x",
         "hovertemplate": "RM=6.122<br>MEDV=%{x}<br>count=%{y}<extra></extra>",
         "legendgroup": "6.122",
         "marker": {
          "color": "#FFA15A",
          "pattern": {
           "shape": ""
          }
         },
         "name": "6.122",
         "nbinsx": 30,
         "offsetgroup": "6.122",
         "orientation": "v",
         "showlegend": true,
         "type": "histogram",
         "x": [
          21.5,
          22.1
         ],
         "xaxis": "x",
         "yaxis": "y"
        },
        {
         "alignmentgroup": "True",
         "bingroup": "x",
         "hovertemplate": "RM=6.127<br>MEDV=%{x}<br>count=%{y}<extra></extra>",
         "legendgroup": "6.127",
         "marker": {
          "color": "#19d3f3",
          "pattern": {
           "shape": ""
          }
         },
         "name": "6.127",
         "nbinsx": 30,
         "offsetgroup": "6.127",
         "orientation": "v",
         "showlegend": true,
         "type": "histogram",
         "x": [
          20.4,
          22.7,
          23.9
         ],
         "xaxis": "x",
         "yaxis": "y"
        },
        {
         "alignmentgroup": "True",
         "bingroup": "x",
         "hovertemplate": "RM=6.129<br>MEDV=%{x}<br>count=%{y}<extra></extra>",
         "legendgroup": "6.129",
         "marker": {
          "color": "#FF6692",
          "pattern": {
           "shape": ""
          }
         },
         "name": "6.129",
         "nbinsx": 30,
         "offsetgroup": "6.129",
         "orientation": "v",
         "showlegend": true,
         "type": "histogram",
         "x": [
          17
         ],
         "xaxis": "x",
         "yaxis": "y"
        },
        {
         "alignmentgroup": "True",
         "bingroup": "x",
         "hovertemplate": "RM=6.13<br>MEDV=%{x}<br>count=%{y}<extra></extra>",
         "legendgroup": "6.13",
         "marker": {
          "color": "#B6E880",
          "pattern": {
           "shape": ""
          }
         },
         "name": "6.13",
         "nbinsx": 30,
         "offsetgroup": "6.13",
         "orientation": "v",
         "showlegend": true,
         "type": "histogram",
         "x": [
          13.8
         ],
         "xaxis": "x",
         "yaxis": "y"
        },
        {
         "alignmentgroup": "True",
         "bingroup": "x",
         "hovertemplate": "RM=6.137<br>MEDV=%{x}<br>count=%{y}<extra></extra>",
         "legendgroup": "6.137",
         "marker": {
          "color": "#FF97FF",
          "pattern": {
           "shape": ""
          }
         },
         "name": "6.137",
         "nbinsx": 30,
         "offsetgroup": "6.137",
         "orientation": "v",
         "showlegend": true,
         "type": "histogram",
         "x": [
          19.3
         ],
         "xaxis": "x",
         "yaxis": "y"
        },
        {
         "alignmentgroup": "True",
         "bingroup": "x",
         "hovertemplate": "RM=6.14<br>MEDV=%{x}<br>count=%{y}<extra></extra>",
         "legendgroup": "6.14",
         "marker": {
          "color": "#FECB52",
          "pattern": {
           "shape": ""
          }
         },
         "name": "6.14",
         "nbinsx": 30,
         "offsetgroup": "6.14",
         "orientation": "v",
         "showlegend": true,
         "type": "histogram",
         "x": [
          20.8
         ],
         "xaxis": "x",
         "yaxis": "y"
        },
        {
         "alignmentgroup": "True",
         "bingroup": "x",
         "hovertemplate": "RM=6.142<br>MEDV=%{x}<br>count=%{y}<extra></extra>",
         "legendgroup": "6.142",
         "marker": {
          "color": "#636efa",
          "pattern": {
           "shape": ""
          }
         },
         "name": "6.142",
         "nbinsx": 30,
         "offsetgroup": "6.142",
         "orientation": "v",
         "showlegend": true,
         "type": "histogram",
         "x": [
          15.2
         ],
         "xaxis": "x",
         "yaxis": "y"
        },
        {
         "alignmentgroup": "True",
         "bingroup": "x",
         "hovertemplate": "RM=6.144<br>MEDV=%{x}<br>count=%{y}<extra></extra>",
         "legendgroup": "6.144",
         "marker": {
          "color": "#EF553B",
          "pattern": {
           "shape": ""
          }
         },
         "name": "6.144",
         "nbinsx": 30,
         "offsetgroup": "6.144",
         "orientation": "v",
         "showlegend": true,
         "type": "histogram",
         "x": [
          36.2,
          19.8
         ],
         "xaxis": "x",
         "yaxis": "y"
        },
        {
         "alignmentgroup": "True",
         "bingroup": "x",
         "hovertemplate": "RM=6.145<br>MEDV=%{x}<br>count=%{y}<extra></extra>",
         "legendgroup": "6.145",
         "marker": {
          "color": "#00cc96",
          "pattern": {
           "shape": ""
          }
         },
         "name": "6.145",
         "nbinsx": 30,
         "offsetgroup": "6.145",
         "orientation": "v",
         "showlegend": true,
         "type": "histogram",
         "x": [
          23.3
         ],
         "xaxis": "x",
         "yaxis": "y"
        },
        {
         "alignmentgroup": "True",
         "bingroup": "x",
         "hovertemplate": "RM=6.151<br>MEDV=%{x}<br>count=%{y}<extra></extra>",
         "legendgroup": "6.151",
         "marker": {
          "color": "#ab63fa",
          "pattern": {
           "shape": ""
          }
         },
         "name": "6.151",
         "nbinsx": 30,
         "offsetgroup": "6.151",
         "orientation": "v",
         "showlegend": true,
         "type": "histogram",
         "x": [
          17.8
         ],
         "xaxis": "x",
         "yaxis": "y"
        },
        {
         "alignmentgroup": "True",
         "bingroup": "x",
         "hovertemplate": "RM=6.152<br>MEDV=%{x}<br>count=%{y}<extra></extra>",
         "legendgroup": "6.152",
         "marker": {
          "color": "#FFA15A",
          "pattern": {
           "shape": ""
          }
         },
         "name": "6.152",
         "nbinsx": 30,
         "offsetgroup": "6.152",
         "orientation": "v",
         "showlegend": true,
         "type": "histogram",
         "x": [
          15.6,
          8.7
         ],
         "xaxis": "x",
         "yaxis": "y"
        },
        {
         "alignmentgroup": "True",
         "bingroup": "x",
         "hovertemplate": "RM=6.153<br>MEDV=%{x}<br>count=%{y}<extra></extra>",
         "legendgroup": "6.153",
         "marker": {
          "color": "#19d3f3",
          "pattern": {
           "shape": ""
          }
         },
         "name": "6.153",
         "nbinsx": 30,
         "offsetgroup": "6.153",
         "orientation": "v",
         "showlegend": true,
         "type": "histogram",
         "x": [
          29.6
         ],
         "xaxis": "x",
         "yaxis": "y"
        },
        {
         "alignmentgroup": "True",
         "bingroup": "x",
         "hovertemplate": "RM=6.162<br>MEDV=%{x}<br>count=%{y}<extra></extra>",
         "legendgroup": "6.162",
         "marker": {
          "color": "#FF6692",
          "pattern": {
           "shape": ""
          }
         },
         "name": "6.162",
         "nbinsx": 30,
         "offsetgroup": "6.162",
         "orientation": "v",
         "showlegend": true,
         "type": "histogram",
         "x": [
          24.1,
          13.3
         ],
         "xaxis": "x",
         "yaxis": "y"
        },
        {
         "alignmentgroup": "True",
         "bingroup": "x",
         "hovertemplate": "RM=6.163<br>MEDV=%{x}<br>count=%{y}<extra></extra>",
         "legendgroup": "6.163",
         "marker": {
          "color": "#B6E880",
          "pattern": {
           "shape": ""
          }
         },
         "name": "6.163",
         "nbinsx": 30,
         "offsetgroup": "6.163",
         "orientation": "v",
         "showlegend": true,
         "type": "histogram",
         "x": [
          21.4
         ],
         "xaxis": "x",
         "yaxis": "y"
        },
        {
         "alignmentgroup": "True",
         "bingroup": "x",
         "hovertemplate": "RM=6.164<br>MEDV=%{x}<br>count=%{y}<extra></extra>",
         "legendgroup": "6.164",
         "marker": {
          "color": "#FF97FF",
          "pattern": {
           "shape": ""
          }
         },
         "name": "6.164",
         "nbinsx": 30,
         "offsetgroup": "6.164",
         "orientation": "v",
         "showlegend": true,
         "type": "histogram",
         "x": [
          21.7
         ],
         "xaxis": "x",
         "yaxis": "y"
        },
        {
         "alignmentgroup": "True",
         "bingroup": "x",
         "hovertemplate": "RM=6.167<br>MEDV=%{x}<br>count=%{y}<extra></extra>",
         "legendgroup": "6.167",
         "marker": {
          "color": "#FECB52",
          "pattern": {
           "shape": ""
          }
         },
         "name": "6.167",
         "nbinsx": 30,
         "offsetgroup": "6.167",
         "orientation": "v",
         "showlegend": true,
         "type": "histogram",
         "x": [
          20.1,
          19.9,
          22.9
         ],
         "xaxis": "x",
         "yaxis": "y"
        },
        {
         "alignmentgroup": "True",
         "bingroup": "x",
         "hovertemplate": "RM=6.169<br>MEDV=%{x}<br>count=%{y}<extra></extra>",
         "legendgroup": "6.169",
         "marker": {
          "color": "#636efa",
          "pattern": {
           "shape": ""
          }
         },
         "name": "6.169",
         "nbinsx": 30,
         "offsetgroup": "6.169",
         "orientation": "v",
         "showlegend": true,
         "type": "histogram",
         "x": [
          25.3
         ],
         "xaxis": "x",
         "yaxis": "y"
        },
        {
         "alignmentgroup": "True",
         "bingroup": "x",
         "hovertemplate": "RM=6.172<br>MEDV=%{x}<br>count=%{y}<extra></extra>",
         "legendgroup": "6.172",
         "marker": {
          "color": "#EF553B",
          "pattern": {
           "shape": ""
          }
         },
         "name": "6.172",
         "nbinsx": 30,
         "offsetgroup": "6.172",
         "orientation": "v",
         "showlegend": true,
         "type": "histogram",
         "x": [
          27.1
         ],
         "xaxis": "x",
         "yaxis": "y"
        },
        {
         "alignmentgroup": "True",
         "bingroup": "x",
         "hovertemplate": "RM=6.174<br>MEDV=%{x}<br>count=%{y}<extra></extra>",
         "legendgroup": "6.174",
         "marker": {
          "color": "#00cc96",
          "pattern": {
           "shape": ""
          }
         },
         "name": "6.174",
         "nbinsx": 30,
         "offsetgroup": "6.174",
         "orientation": "v",
         "showlegend": true,
         "type": "histogram",
         "x": [
          14
         ],
         "xaxis": "x",
         "yaxis": "y"
        },
        {
         "alignmentgroup": "True",
         "bingroup": "x",
         "hovertemplate": "RM=6.176<br>MEDV=%{x}<br>count=%{y}<extra></extra>",
         "legendgroup": "6.176",
         "marker": {
          "color": "#ab63fa",
          "pattern": {
           "shape": ""
          }
         },
         "name": "6.176",
         "nbinsx": 30,
         "offsetgroup": "6.176",
         "orientation": "v",
         "showlegend": true,
         "type": "histogram",
         "x": [
          21.2
         ],
         "xaxis": "x",
         "yaxis": "y"
        },
        {
         "alignmentgroup": "True",
         "bingroup": "x",
         "hovertemplate": "RM=6.182<br>MEDV=%{x}<br>count=%{y}<extra></extra>",
         "legendgroup": "6.182",
         "marker": {
          "color": "#FFA15A",
          "pattern": {
           "shape": ""
          }
         },
         "name": "6.182",
         "nbinsx": 30,
         "offsetgroup": "6.182",
         "orientation": "v",
         "showlegend": true,
         "type": "histogram",
         "x": [
          25
         ],
         "xaxis": "x",
         "yaxis": "y"
        },
        {
         "alignmentgroup": "True",
         "bingroup": "x",
         "hovertemplate": "RM=6.185<br>MEDV=%{x}<br>count=%{y}<extra></extra>",
         "legendgroup": "6.185",
         "marker": {
          "color": "#19d3f3",
          "pattern": {
           "shape": ""
          }
         },
         "name": "6.185",
         "nbinsx": 30,
         "offsetgroup": "6.185",
         "orientation": "v",
         "showlegend": true,
         "type": "histogram",
         "x": [
          14.1,
          14.6
         ],
         "xaxis": "x",
         "yaxis": "y"
        },
        {
         "alignmentgroup": "True",
         "bingroup": "x",
         "hovertemplate": "RM=6.193<br>MEDV=%{x}<br>count=%{y}<extra></extra>",
         "legendgroup": "6.193",
         "marker": {
          "color": "#FF6692",
          "pattern": {
           "shape": ""
          }
         },
         "name": "6.193",
         "nbinsx": 30,
         "offsetgroup": "6.193",
         "orientation": "v",
         "showlegend": true,
         "type": "histogram",
         "x": [
          11,
          13.8
         ],
         "xaxis": "x",
         "yaxis": "y"
        },
        {
         "alignmentgroup": "True",
         "bingroup": "x",
         "hovertemplate": "RM=6.195<br>MEDV=%{x}<br>count=%{y}<extra></extra>",
         "legendgroup": "6.195",
         "marker": {
          "color": "#B6E880",
          "pattern": {
           "shape": ""
          }
         },
         "name": "6.195",
         "nbinsx": 30,
         "offsetgroup": "6.195",
         "orientation": "v",
         "showlegend": true,
         "type": "histogram",
         "x": [
          21.7
         ],
         "xaxis": "x",
         "yaxis": "y"
        },
        {
         "alignmentgroup": "True",
         "bingroup": "x",
         "hovertemplate": "RM=6.202<br>MEDV=%{x}<br>count=%{y}<extra></extra>",
         "legendgroup": "6.202",
         "marker": {
          "color": "#FF97FF",
          "pattern": {
           "shape": ""
          }
         },
         "name": "6.202",
         "nbinsx": 30,
         "offsetgroup": "6.202",
         "orientation": "v",
         "showlegend": true,
         "type": "histogram",
         "x": [
          10.9
         ],
         "xaxis": "x",
         "yaxis": "y"
        },
        {
         "alignmentgroup": "True",
         "bingroup": "x",
         "hovertemplate": "RM=6.208<br>MEDV=%{x}<br>count=%{y}<extra></extra>",
         "legendgroup": "6.208",
         "marker": {
          "color": "#FECB52",
          "pattern": {
           "shape": ""
          }
         },
         "name": "6.208",
         "nbinsx": 30,
         "offsetgroup": "6.208",
         "orientation": "v",
         "showlegend": true,
         "type": "histogram",
         "x": [
          11.7
         ],
         "xaxis": "x",
         "yaxis": "y"
        },
        {
         "alignmentgroup": "True",
         "bingroup": "x",
         "hovertemplate": "RM=6.209<br>MEDV=%{x}<br>count=%{y}<extra></extra>",
         "legendgroup": "6.209",
         "marker": {
          "color": "#636efa",
          "pattern": {
           "shape": ""
          }
         },
         "name": "6.209",
         "nbinsx": 30,
         "offsetgroup": "6.209",
         "orientation": "v",
         "showlegend": true,
         "type": "histogram",
         "x": [
          23.2,
          21.4
         ],
         "xaxis": "x",
         "yaxis": "y"
        },
        {
         "alignmentgroup": "True",
         "bingroup": "x",
         "hovertemplate": "RM=6.211<br>MEDV=%{x}<br>count=%{y}<extra></extra>",
         "legendgroup": "6.211",
         "marker": {
          "color": "#EF553B",
          "pattern": {
           "shape": ""
          }
         },
         "name": "6.211",
         "nbinsx": 30,
         "offsetgroup": "6.211",
         "orientation": "v",
         "showlegend": true,
         "type": "histogram",
         "x": [
          25,
          24.7
         ],
         "xaxis": "x",
         "yaxis": "y"
        },
        {
         "alignmentgroup": "True",
         "bingroup": "x",
         "hovertemplate": "RM=6.212<br>MEDV=%{x}<br>count=%{y}<extra></extra>",
         "legendgroup": "6.212",
         "marker": {
          "color": "#00cc96",
          "pattern": {
           "shape": ""
          }
         },
         "name": "6.212",
         "nbinsx": 30,
         "offsetgroup": "6.212",
         "orientation": "v",
         "showlegend": true,
         "type": "histogram",
         "x": [
          17.8
         ],
         "xaxis": "x",
         "yaxis": "y"
        },
        {
         "alignmentgroup": "True",
         "bingroup": "x",
         "hovertemplate": "RM=6.216<br>MEDV=%{x}<br>count=%{y}<extra></extra>",
         "legendgroup": "6.216",
         "marker": {
          "color": "#ab63fa",
          "pattern": {
           "shape": ""
          }
         },
         "name": "6.216",
         "nbinsx": 30,
         "offsetgroup": "6.216",
         "orientation": "v",
         "showlegend": true,
         "type": "histogram",
         "x": [
          50
         ],
         "xaxis": "x",
         "yaxis": "y"
        },
        {
         "alignmentgroup": "True",
         "bingroup": "x",
         "hovertemplate": "RM=6.219<br>MEDV=%{x}<br>count=%{y}<extra></extra>",
         "legendgroup": "6.219",
         "marker": {
          "color": "#FFA15A",
          "pattern": {
           "shape": ""
          }
         },
         "name": "6.219",
         "nbinsx": 30,
         "offsetgroup": "6.219",
         "orientation": "v",
         "showlegend": true,
         "type": "histogram",
         "x": [
          18.4
         ],
         "xaxis": "x",
         "yaxis": "y"
        },
        {
         "alignmentgroup": "True",
         "bingroup": "x",
         "hovertemplate": "RM=6.223<br>MEDV=%{x}<br>count=%{y}<extra></extra>",
         "legendgroup": "6.223",
         "marker": {
          "color": "#19d3f3",
          "pattern": {
           "shape": ""
          }
         },
         "name": "6.223",
         "nbinsx": 30,
         "offsetgroup": "6.223",
         "orientation": "v",
         "showlegend": true,
         "type": "histogram",
         "x": [
          10.2
         ],
         "xaxis": "x",
         "yaxis": "y"
        },
        {
         "alignmentgroup": "True",
         "bingroup": "x",
         "hovertemplate": "RM=6.226<br>MEDV=%{x}<br>count=%{y}<extra></extra>",
         "legendgroup": "6.226",
         "marker": {
          "color": "#FF6692",
          "pattern": {
           "shape": ""
          }
         },
         "name": "6.226",
         "nbinsx": 30,
         "offsetgroup": "6.226",
         "orientation": "v",
         "showlegend": true,
         "type": "histogram",
         "x": [
          20.5
         ],
         "xaxis": "x",
         "yaxis": "y"
        },
        {
         "alignmentgroup": "True",
         "bingroup": "x",
         "hovertemplate": "RM=6.229<br>MEDV=%{x}<br>count=%{y}<extra></extra>",
         "legendgroup": "6.229",
         "marker": {
          "color": "#B6E880",
          "pattern": {
           "shape": ""
          }
         },
         "name": "6.229",
         "nbinsx": 30,
         "offsetgroup": "6.229",
         "orientation": "v",
         "showlegend": true,
         "type": "histogram",
         "x": [
          19.4,
          21.4,
          19.6
         ],
         "xaxis": "x",
         "yaxis": "y"
        },
        {
         "alignmentgroup": "True",
         "bingroup": "x",
         "hovertemplate": "RM=6.23<br>MEDV=%{x}<br>count=%{y}<extra></extra>",
         "legendgroup": "6.23",
         "marker": {
          "color": "#FF97FF",
          "pattern": {
           "shape": ""
          }
         },
         "name": "6.23",
         "nbinsx": 30,
         "offsetgroup": "6.23",
         "orientation": "v",
         "showlegend": true,
         "type": "histogram",
         "x": [
          20.1
         ],
         "xaxis": "x",
         "yaxis": "y"
        },
        {
         "alignmentgroup": "True",
         "bingroup": "x",
         "hovertemplate": "RM=6.232<br>MEDV=%{x}<br>count=%{y}<extra></extra>",
         "legendgroup": "6.232",
         "marker": {
          "color": "#FECB52",
          "pattern": {
           "shape": ""
          }
         },
         "name": "6.232",
         "nbinsx": 30,
         "offsetgroup": "6.232",
         "orientation": "v",
         "showlegend": true,
         "type": "histogram",
         "x": [
          21.2
         ],
         "xaxis": "x",
         "yaxis": "y"
        },
        {
         "alignmentgroup": "True",
         "bingroup": "x",
         "hovertemplate": "RM=6.24<br>MEDV=%{x}<br>count=%{y}<extra></extra>",
         "legendgroup": "6.24",
         "marker": {
          "color": "#636efa",
          "pattern": {
           "shape": ""
          }
         },
         "name": "6.24",
         "nbinsx": 30,
         "offsetgroup": "6.24",
         "orientation": "v",
         "showlegend": true,
         "type": "histogram",
         "x": [
          25.2
         ],
         "xaxis": "x",
         "yaxis": "y"
        },
        {
         "alignmentgroup": "True",
         "bingroup": "x",
         "hovertemplate": "RM=6.242<br>MEDV=%{x}<br>count=%{y}<extra></extra>",
         "legendgroup": "6.242",
         "marker": {
          "color": "#EF553B",
          "pattern": {
           "shape": ""
          }
         },
         "name": "6.242",
         "nbinsx": 30,
         "offsetgroup": "6.242",
         "orientation": "v",
         "showlegend": true,
         "type": "histogram",
         "x": [
          23
         ],
         "xaxis": "x",
         "yaxis": "y"
        },
        {
         "alignmentgroup": "True",
         "bingroup": "x",
         "hovertemplate": "RM=6.245<br>MEDV=%{x}<br>count=%{y}<extra></extra>",
         "legendgroup": "6.245",
         "marker": {
          "color": "#00cc96",
          "pattern": {
           "shape": ""
          }
         },
         "name": "6.245",
         "nbinsx": 30,
         "offsetgroup": "6.245",
         "orientation": "v",
         "showlegend": true,
         "type": "histogram",
         "x": [
          23.4
         ],
         "xaxis": "x",
         "yaxis": "y"
        },
        {
         "alignmentgroup": "True",
         "bingroup": "x",
         "hovertemplate": "RM=6.249<br>MEDV=%{x}<br>count=%{y}<extra></extra>",
         "legendgroup": "6.249",
         "marker": {
          "color": "#ab63fa",
          "pattern": {
           "shape": ""
          }
         },
         "name": "6.249",
         "nbinsx": 30,
         "offsetgroup": "6.249",
         "orientation": "v",
         "showlegend": true,
         "type": "histogram",
         "x": [
          20.6
         ],
         "xaxis": "x",
         "yaxis": "y"
        },
        {
         "alignmentgroup": "True",
         "bingroup": "x",
         "hovertemplate": "RM=6.25<br>MEDV=%{x}<br>count=%{y}<extra></extra>",
         "legendgroup": "6.25",
         "marker": {
          "color": "#FFA15A",
          "pattern": {
           "shape": ""
          }
         },
         "name": "6.25",
         "nbinsx": 30,
         "offsetgroup": "6.25",
         "orientation": "v",
         "showlegend": true,
         "type": "histogram",
         "x": [
          27
         ],
         "xaxis": "x",
         "yaxis": "y"
        },
        {
         "alignmentgroup": "True",
         "bingroup": "x",
         "hovertemplate": "RM=6.251<br>MEDV=%{x}<br>count=%{y}<extra></extra>",
         "legendgroup": "6.251",
         "marker": {
          "color": "#19d3f3",
          "pattern": {
           "shape": ""
          }
         },
         "name": "6.251",
         "nbinsx": 30,
         "offsetgroup": "6.251",
         "orientation": "v",
         "showlegend": true,
         "type": "histogram",
         "x": [
          19.9,
          12.6
         ],
         "xaxis": "x",
         "yaxis": "y"
        },
        {
         "alignmentgroup": "True",
         "bingroup": "x",
         "hovertemplate": "RM=6.254<br>MEDV=%{x}<br>count=%{y}<extra></extra>",
         "legendgroup": "6.254",
         "marker": {
          "color": "#FF6692",
          "pattern": {
           "shape": ""
          }
         },
         "name": "6.254",
         "nbinsx": 30,
         "offsetgroup": "6.254",
         "orientation": "v",
         "showlegend": true,
         "type": "histogram",
         "x": [
          18.5
         ],
         "xaxis": "x",
         "yaxis": "y"
        },
        {
         "alignmentgroup": "True",
         "bingroup": "x",
         "hovertemplate": "RM=6.266<br>MEDV=%{x}<br>count=%{y}<extra></extra>",
         "legendgroup": "6.266",
         "marker": {
          "color": "#B6E880",
          "pattern": {
           "shape": ""
          }
         },
         "name": "6.266",
         "nbinsx": 30,
         "offsetgroup": "6.266",
         "orientation": "v",
         "showlegend": true,
         "type": "histogram",
         "x": [
          21.6
         ],
         "xaxis": "x",
         "yaxis": "y"
        },
        {
         "alignmentgroup": "True",
         "bingroup": "x",
         "hovertemplate": "RM=6.273<br>MEDV=%{x}<br>count=%{y}<extra></extra>",
         "legendgroup": "6.273",
         "marker": {
          "color": "#FF97FF",
          "pattern": {
           "shape": ""
          }
         },
         "name": "6.273",
         "nbinsx": 30,
         "offsetgroup": "6.273",
         "orientation": "v",
         "showlegend": true,
         "type": "histogram",
         "x": [
          24.1
         ],
         "xaxis": "x",
         "yaxis": "y"
        },
        {
         "alignmentgroup": "True",
         "bingroup": "x",
         "hovertemplate": "RM=6.279<br>MEDV=%{x}<br>count=%{y}<extra></extra>",
         "legendgroup": "6.279",
         "marker": {
          "color": "#FECB52",
          "pattern": {
           "shape": ""
          }
         },
         "name": "6.279",
         "nbinsx": 30,
         "offsetgroup": "6.279",
         "orientation": "v",
         "showlegend": true,
         "type": "histogram",
         "x": [
          20
         ],
         "xaxis": "x",
         "yaxis": "y"
        },
        {
         "alignmentgroup": "True",
         "bingroup": "x",
         "hovertemplate": "RM=6.286<br>MEDV=%{x}<br>count=%{y}<extra></extra>",
         "legendgroup": "6.286",
         "marker": {
          "color": "#636efa",
          "pattern": {
           "shape": ""
          }
         },
         "name": "6.286",
         "nbinsx": 30,
         "offsetgroup": "6.286",
         "orientation": "v",
         "showlegend": true,
         "type": "histogram",
         "x": [
          21.4
         ],
         "xaxis": "x",
         "yaxis": "y"
        },
        {
         "alignmentgroup": "True",
         "bingroup": "x",
         "hovertemplate": "RM=6.29<br>MEDV=%{x}<br>count=%{y}<extra></extra>",
         "legendgroup": "6.29",
         "marker": {
          "color": "#EF553B",
          "pattern": {
           "shape": ""
          }
         },
         "name": "6.29",
         "nbinsx": 30,
         "offsetgroup": "6.29",
         "orientation": "v",
         "showlegend": true,
         "type": "histogram",
         "x": [
          23.5
         ],
         "xaxis": "x",
         "yaxis": "y"
        },
        {
         "alignmentgroup": "True",
         "bingroup": "x",
         "hovertemplate": "RM=6.297<br>MEDV=%{x}<br>count=%{y}<extra></extra>",
         "legendgroup": "6.297",
         "marker": {
          "color": "#00cc96",
          "pattern": {
           "shape": ""
          }
         },
         "name": "6.297",
         "nbinsx": 30,
         "offsetgroup": "6.297",
         "orientation": "v",
         "showlegend": true,
         "type": "histogram",
         "x": [
          16.1
         ],
         "xaxis": "x",
         "yaxis": "y"
        },
        {
         "alignmentgroup": "True",
         "bingroup": "x",
         "hovertemplate": "RM=6.301<br>MEDV=%{x}<br>count=%{y}<extra></extra>",
         "legendgroup": "6.301",
         "marker": {
          "color": "#ab63fa",
          "pattern": {
           "shape": ""
          }
         },
         "name": "6.301",
         "nbinsx": 30,
         "offsetgroup": "6.301",
         "orientation": "v",
         "showlegend": true,
         "type": "histogram",
         "x": [
          14.9
         ],
         "xaxis": "x",
         "yaxis": "y"
        },
        {
         "alignmentgroup": "True",
         "bingroup": "x",
         "hovertemplate": "RM=6.302<br>MEDV=%{x}<br>count=%{y}<extra></extra>",
         "legendgroup": "6.302",
         "marker": {
          "color": "#FFA15A",
          "pattern": {
           "shape": ""
          }
         },
         "name": "6.302",
         "nbinsx": 30,
         "offsetgroup": "6.302",
         "orientation": "v",
         "showlegend": true,
         "type": "histogram",
         "x": [
          24.8
         ],
         "xaxis": "x",
         "yaxis": "y"
        },
        {
         "alignmentgroup": "True",
         "bingroup": "x",
         "hovertemplate": "RM=6.31<br>MEDV=%{x}<br>count=%{y}<extra></extra>",
         "legendgroup": "6.31",
         "marker": {
          "color": "#19d3f3",
          "pattern": {
           "shape": ""
          }
         },
         "name": "6.31",
         "nbinsx": 30,
         "offsetgroup": "6.31",
         "orientation": "v",
         "showlegend": true,
         "type": "histogram",
         "x": [
          20.7
         ],
         "xaxis": "x",
         "yaxis": "y"
        },
        {
         "alignmentgroup": "True",
         "bingroup": "x",
         "hovertemplate": "RM=6.312<br>MEDV=%{x}<br>count=%{y}<extra></extra>",
         "legendgroup": "6.312",
         "marker": {
          "color": "#FF6692",
          "pattern": {
           "shape": ""
          }
         },
         "name": "6.312",
         "nbinsx": 30,
         "offsetgroup": "6.312",
         "orientation": "v",
         "showlegend": true,
         "type": "histogram",
         "x": [
          21.2,
          23
         ],
         "xaxis": "x",
         "yaxis": "y"
        },
        {
         "alignmentgroup": "True",
         "bingroup": "x",
         "hovertemplate": "RM=6.315<br>MEDV=%{x}<br>count=%{y}<extra></extra>",
         "legendgroup": "6.315",
         "marker": {
          "color": "#B6E880",
          "pattern": {
           "shape": ""
          }
         },
         "name": "6.315",
         "nbinsx": 30,
         "offsetgroup": "6.315",
         "orientation": "v",
         "showlegend": true,
         "type": "histogram",
         "x": [
          22.3,
          24.6
         ],
         "xaxis": "x",
         "yaxis": "y"
        },
        {
         "alignmentgroup": "True",
         "bingroup": "x",
         "hovertemplate": "RM=6.316<br>MEDV=%{x}<br>count=%{y}<extra></extra>",
         "legendgroup": "6.316",
         "marker": {
          "color": "#FF97FF",
          "pattern": {
           "shape": ""
          }
         },
         "name": "6.316",
         "nbinsx": 30,
         "offsetgroup": "6.316",
         "orientation": "v",
         "showlegend": true,
         "type": "histogram",
         "x": [
          22.2
         ],
         "xaxis": "x",
         "yaxis": "y"
        },
        {
         "alignmentgroup": "True",
         "bingroup": "x",
         "hovertemplate": "RM=6.317<br>MEDV=%{x}<br>count=%{y}<extra></extra>",
         "legendgroup": "6.317",
         "marker": {
          "color": "#FECB52",
          "pattern": {
           "shape": ""
          }
         },
         "name": "6.317",
         "nbinsx": 30,
         "offsetgroup": "6.317",
         "orientation": "v",
         "showlegend": true,
         "type": "histogram",
         "x": [
          19.5
         ],
         "xaxis": "x",
         "yaxis": "y"
        },
        {
         "alignmentgroup": "True",
         "bingroup": "x",
         "hovertemplate": "RM=6.319<br>MEDV=%{x}<br>count=%{y}<extra></extra>",
         "legendgroup": "6.319",
         "marker": {
          "color": "#636efa",
          "pattern": {
           "shape": ""
          }
         },
         "name": "6.319",
         "nbinsx": 30,
         "offsetgroup": "6.319",
         "orientation": "v",
         "showlegend": true,
         "type": "histogram",
         "x": [
          23.8
         ],
         "xaxis": "x",
         "yaxis": "y"
        },
        {
         "alignmentgroup": "True",
         "bingroup": "x",
         "hovertemplate": "RM=6.326<br>MEDV=%{x}<br>count=%{y}<extra></extra>",
         "legendgroup": "6.326",
         "marker": {
          "color": "#EF553B",
          "pattern": {
           "shape": ""
          }
         },
         "name": "6.326",
         "nbinsx": 30,
         "offsetgroup": "6.326",
         "orientation": "v",
         "showlegend": true,
         "type": "histogram",
         "x": [
          19.6,
          24.4
         ],
         "xaxis": "x",
         "yaxis": "y"
        },
        {
         "alignmentgroup": "True",
         "bingroup": "x",
         "hovertemplate": "RM=6.333<br>MEDV=%{x}<br>count=%{y}<extra></extra>",
         "legendgroup": "6.333",
         "marker": {
          "color": "#00cc96",
          "pattern": {
           "shape": ""
          }
         },
         "name": "6.333",
         "nbinsx": 30,
         "offsetgroup": "6.333",
         "orientation": "v",
         "showlegend": true,
         "type": "histogram",
         "x": [
          22.6
         ],
         "xaxis": "x",
         "yaxis": "y"
        },
        {
         "alignmentgroup": "True",
         "bingroup": "x",
         "hovertemplate": "RM=6.335<br>MEDV=%{x}<br>count=%{y}<extra></extra>",
         "legendgroup": "6.335",
         "marker": {
          "color": "#ab63fa",
          "pattern": {
           "shape": ""
          }
         },
         "name": "6.335",
         "nbinsx": 30,
         "offsetgroup": "6.335",
         "orientation": "v",
         "showlegend": true,
         "type": "histogram",
         "x": [
          18.1
         ],
         "xaxis": "x",
         "yaxis": "y"
        },
        {
         "alignmentgroup": "True",
         "bingroup": "x",
         "hovertemplate": "RM=6.341<br>MEDV=%{x}<br>count=%{y}<extra></extra>",
         "legendgroup": "6.341",
         "marker": {
          "color": "#FFA15A",
          "pattern": {
           "shape": ""
          }
         },
         "name": "6.341",
         "nbinsx": 30,
         "offsetgroup": "6.341",
         "orientation": "v",
         "showlegend": true,
         "type": "histogram",
         "x": [
          14.9
         ],
         "xaxis": "x",
         "yaxis": "y"
        },
        {
         "alignmentgroup": "True",
         "bingroup": "x",
         "hovertemplate": "RM=6.343<br>MEDV=%{x}<br>count=%{y}<extra></extra>",
         "legendgroup": "6.343",
         "marker": {
          "color": "#19d3f3",
          "pattern": {
           "shape": ""
          }
         },
         "name": "6.343",
         "nbinsx": 30,
         "offsetgroup": "6.343",
         "orientation": "v",
         "showlegend": true,
         "type": "histogram",
         "x": [
          7.2
         ],
         "xaxis": "x",
         "yaxis": "y"
        },
        {
         "alignmentgroup": "True",
         "bingroup": "x",
         "hovertemplate": "RM=6.345<br>MEDV=%{x}<br>count=%{y}<extra></extra>",
         "legendgroup": "6.345",
         "marker": {
          "color": "#FF6692",
          "pattern": {
           "shape": ""
          }
         },
         "name": "6.345",
         "nbinsx": 30,
         "offsetgroup": "6.345",
         "orientation": "v",
         "showlegend": true,
         "type": "histogram",
         "x": [
          22.5
         ],
         "xaxis": "x",
         "yaxis": "y"
        },
        {
         "alignmentgroup": "True",
         "bingroup": "x",
         "hovertemplate": "RM=6.348<br>MEDV=%{x}<br>count=%{y}<extra></extra>",
         "legendgroup": "6.348",
         "marker": {
          "color": "#B6E880",
          "pattern": {
           "shape": ""
          }
         },
         "name": "6.348",
         "nbinsx": 30,
         "offsetgroup": "6.348",
         "orientation": "v",
         "showlegend": true,
         "type": "histogram",
         "x": [
          14.5
         ],
         "xaxis": "x",
         "yaxis": "y"
        },
        {
         "alignmentgroup": "True",
         "bingroup": "x",
         "hovertemplate": "RM=6.358<br>MEDV=%{x}<br>count=%{y}<extra></extra>",
         "legendgroup": "6.358",
         "marker": {
          "color": "#FF97FF",
          "pattern": {
           "shape": ""
          }
         },
         "name": "6.358",
         "nbinsx": 30,
         "offsetgroup": "6.358",
         "orientation": "v",
         "showlegend": true,
         "type": "histogram",
         "x": [
          22.2
         ],
         "xaxis": "x",
         "yaxis": "y"
        },
        {
         "alignmentgroup": "True",
         "bingroup": "x",
         "hovertemplate": "RM=6.372<br>MEDV=%{x}<br>count=%{y}<extra></extra>",
         "legendgroup": "6.372",
         "marker": {
          "color": "#FECB52",
          "pattern": {
           "shape": ""
          }
         },
         "name": "6.372",
         "nbinsx": 30,
         "offsetgroup": "6.372",
         "orientation": "v",
         "showlegend": true,
         "type": "histogram",
         "x": [
          23
         ],
         "xaxis": "x",
         "yaxis": "y"
        },
        {
         "alignmentgroup": "True",
         "bingroup": "x",
         "hovertemplate": "RM=6.373<br>MEDV=%{x}<br>count=%{y}<extra></extra>",
         "legendgroup": "6.373",
         "marker": {
          "color": "#636efa",
          "pattern": {
           "shape": ""
          }
         },
         "name": "6.373",
         "nbinsx": 30,
         "offsetgroup": "6.373",
         "orientation": "v",
         "showlegend": true,
         "type": "histogram",
         "x": [
          23
         ],
         "xaxis": "x",
         "yaxis": "y"
        },
        {
         "alignmentgroup": "True",
         "bingroup": "x",
         "hovertemplate": "RM=6.375<br>MEDV=%{x}<br>count=%{y}<extra></extra>",
         "legendgroup": "6.375",
         "marker": {
          "color": "#EF553B",
          "pattern": {
           "shape": ""
          }
         },
         "name": "6.375",
         "nbinsx": 30,
         "offsetgroup": "6.375",
         "orientation": "v",
         "showlegend": true,
         "type": "histogram",
         "x": [
          28.1
         ],
         "xaxis": "x",
         "yaxis": "y"
        },
        {
         "alignmentgroup": "True",
         "bingroup": "x",
         "hovertemplate": "RM=6.376<br>MEDV=%{x}<br>count=%{y}<extra></extra>",
         "legendgroup": "6.376",
         "marker": {
          "color": "#00cc96",
          "pattern": {
           "shape": ""
          }
         },
         "name": "6.376",
         "nbinsx": 30,
         "offsetgroup": "6.376",
         "orientation": "v",
         "showlegend": true,
         "type": "histogram",
         "x": [
          23.1,
          17.7
         ],
         "xaxis": "x",
         "yaxis": "y"
        },
        {
         "alignmentgroup": "True",
         "bingroup": "x",
         "hovertemplate": "RM=6.377<br>MEDV=%{x}<br>count=%{y}<extra></extra>",
         "legendgroup": "6.377",
         "marker": {
          "color": "#ab63fa",
          "pattern": {
           "shape": ""
          }
         },
         "name": "6.377",
         "nbinsx": 30,
         "offsetgroup": "6.377",
         "orientation": "v",
         "showlegend": true,
         "type": "histogram",
         "x": [
          15
         ],
         "xaxis": "x",
         "yaxis": "y"
        },
        {
         "alignmentgroup": "True",
         "bingroup": "x",
         "hovertemplate": "RM=6.38<br>MEDV=%{x}<br>count=%{y}<extra></extra>",
         "legendgroup": "6.38",
         "marker": {
          "color": "#FFA15A",
          "pattern": {
           "shape": ""
          }
         },
         "name": "6.38",
         "nbinsx": 30,
         "offsetgroup": "6.38",
         "orientation": "v",
         "showlegend": true,
         "type": "histogram",
         "x": [
          9.5,
          13.1
         ],
         "xaxis": "x",
         "yaxis": "y"
        },
        {
         "alignmentgroup": "True",
         "bingroup": "x",
         "hovertemplate": "RM=6.382<br>MEDV=%{x}<br>count=%{y}<extra></extra>",
         "legendgroup": "6.382",
         "marker": {
          "color": "#19d3f3",
          "pattern": {
           "shape": ""
          }
         },
         "name": "6.382",
         "nbinsx": 30,
         "offsetgroup": "6.382",
         "orientation": "v",
         "showlegend": true,
         "type": "histogram",
         "x": [
          23.1
         ],
         "xaxis": "x",
         "yaxis": "y"
        },
        {
         "alignmentgroup": "True",
         "bingroup": "x",
         "hovertemplate": "RM=6.383<br>MEDV=%{x}<br>count=%{y}<extra></extra>",
         "legendgroup": "6.383",
         "marker": {
          "color": "#FF6692",
          "pattern": {
           "shape": ""
          }
         },
         "name": "6.383",
         "nbinsx": 30,
         "offsetgroup": "6.383",
         "orientation": "v",
         "showlegend": true,
         "type": "histogram",
         "x": [
          24.7
         ],
         "xaxis": "x",
         "yaxis": "y"
        },
        {
         "alignmentgroup": "True",
         "bingroup": "x",
         "hovertemplate": "RM=6.389<br>MEDV=%{x}<br>count=%{y}<extra></extra>",
         "legendgroup": "6.389",
         "marker": {
          "color": "#B6E880",
          "pattern": {
           "shape": ""
          }
         },
         "name": "6.389",
         "nbinsx": 30,
         "offsetgroup": "6.389",
         "orientation": "v",
         "showlegend": true,
         "type": "histogram",
         "x": [
          23.9
         ],
         "xaxis": "x",
         "yaxis": "y"
        },
        {
         "alignmentgroup": "True",
         "bingroup": "x",
         "hovertemplate": "RM=6.393<br>MEDV=%{x}<br>count=%{y}<extra></extra>",
         "legendgroup": "6.393",
         "marker": {
          "color": "#FF97FF",
          "pattern": {
           "shape": ""
          }
         },
         "name": "6.393",
         "nbinsx": 30,
         "offsetgroup": "6.393",
         "orientation": "v",
         "showlegend": true,
         "type": "histogram",
         "x": [
          23.7
         ],
         "xaxis": "x",
         "yaxis": "y"
        },
        {
         "alignmentgroup": "True",
         "bingroup": "x",
         "hovertemplate": "RM=6.395<br>MEDV=%{x}<br>count=%{y}<extra></extra>",
         "legendgroup": "6.395",
         "marker": {
          "color": "#FECB52",
          "pattern": {
           "shape": ""
          }
         },
         "name": "6.395",
         "nbinsx": 30,
         "offsetgroup": "6.395",
         "orientation": "v",
         "showlegend": true,
         "type": "histogram",
         "x": [
          21.7
         ],
         "xaxis": "x",
         "yaxis": "y"
        },
        {
         "alignmentgroup": "True",
         "bingroup": "x",
         "hovertemplate": "RM=6.398<br>MEDV=%{x}<br>count=%{y}<extra></extra>",
         "legendgroup": "6.398",
         "marker": {
          "color": "#636efa",
          "pattern": {
           "shape": ""
          }
         },
         "name": "6.398",
         "nbinsx": 30,
         "offsetgroup": "6.398",
         "orientation": "v",
         "showlegend": true,
         "type": "histogram",
         "x": [
          25
         ],
         "xaxis": "x",
         "yaxis": "y"
        },
        {
         "alignmentgroup": "True",
         "bingroup": "x",
         "hovertemplate": "RM=6.402<br>MEDV=%{x}<br>count=%{y}<extra></extra>",
         "legendgroup": "6.402",
         "marker": {
          "color": "#EF553B",
          "pattern": {
           "shape": ""
          }
         },
         "name": "6.402",
         "nbinsx": 30,
         "offsetgroup": "6.402",
         "orientation": "v",
         "showlegend": true,
         "type": "histogram",
         "x": [
          22.3
         ],
         "xaxis": "x",
         "yaxis": "y"
        },
        {
         "alignmentgroup": "True",
         "bingroup": "x",
         "hovertemplate": "RM=6.404<br>MEDV=%{x}<br>count=%{y}<extra></extra>",
         "legendgroup": "6.404",
         "marker": {
          "color": "#00cc96",
          "pattern": {
           "shape": ""
          }
         },
         "name": "6.404",
         "nbinsx": 30,
         "offsetgroup": "6.404",
         "orientation": "v",
         "showlegend": true,
         "type": "histogram",
         "x": [
          12.1
         ],
         "xaxis": "x",
         "yaxis": "y"
        },
        {
         "alignmentgroup": "True",
         "bingroup": "x",
         "hovertemplate": "RM=6.405<br>MEDV=%{x}<br>count=%{y}<extra></extra>",
         "legendgroup": "6.405",
         "marker": {
          "color": "#ab63fa",
          "pattern": {
           "shape": ""
          }
         },
         "name": "6.405",
         "nbinsx": 30,
         "offsetgroup": "6.405",
         "orientation": "v",
         "showlegend": true,
         "type": "histogram",
         "x": [
          22,
          12.5,
          18.6
         ],
         "xaxis": "x",
         "yaxis": "y"
        },
        {
         "alignmentgroup": "True",
         "bingroup": "x",
         "hovertemplate": "RM=6.406<br>MEDV=%{x}<br>count=%{y}<extra></extra>",
         "legendgroup": "6.406",
         "marker": {
          "color": "#FFA15A",
          "pattern": {
           "shape": ""
          }
         },
         "name": "6.406",
         "nbinsx": 30,
         "offsetgroup": "6.406",
         "orientation": "v",
         "showlegend": true,
         "type": "histogram",
         "x": [
          17.1
         ],
         "xaxis": "x",
         "yaxis": "y"
        },
        {
         "alignmentgroup": "True",
         "bingroup": "x",
         "hovertemplate": "RM=6.411<br>MEDV=%{x}<br>count=%{y}<extra></extra>",
         "legendgroup": "6.411",
         "marker": {
          "color": "#19d3f3",
          "pattern": {
           "shape": ""
          }
         },
         "name": "6.411",
         "nbinsx": 30,
         "offsetgroup": "6.411",
         "orientation": "v",
         "showlegend": true,
         "type": "histogram",
         "x": [
          16.7
         ],
         "xaxis": "x",
         "yaxis": "y"
        },
        {
         "alignmentgroup": "True",
         "bingroup": "x",
         "hovertemplate": "RM=6.415<br>MEDV=%{x}<br>count=%{y}<extra></extra>",
         "legendgroup": "6.415",
         "marker": {
          "color": "#FF6692",
          "pattern": {
           "shape": ""
          }
         },
         "name": "6.415",
         "nbinsx": 30,
         "offsetgroup": "6.415",
         "orientation": "v",
         "showlegend": true,
         "type": "histogram",
         "x": [
          25
         ],
         "xaxis": "x",
         "yaxis": "y"
        },
        {
         "alignmentgroup": "True",
         "bingroup": "x",
         "hovertemplate": "RM=6.416<br>MEDV=%{x}<br>count=%{y}<extra></extra>",
         "legendgroup": "6.416",
         "marker": {
          "color": "#B6E880",
          "pattern": {
           "shape": ""
          }
         },
         "name": "6.416",
         "nbinsx": 30,
         "offsetgroup": "6.416",
         "orientation": "v",
         "showlegend": true,
         "type": "histogram",
         "x": [
          23.6
         ],
         "xaxis": "x",
         "yaxis": "y"
        },
        {
         "alignmentgroup": "True",
         "bingroup": "x",
         "hovertemplate": "RM=6.417<br>MEDV=%{x}<br>count=%{y}<extra></extra>",
         "legendgroup": "6.417",
         "marker": {
          "color": "#FF97FF",
          "pattern": {
           "shape": ""
          }
         },
         "name": "6.417",
         "nbinsx": 30,
         "offsetgroup": "6.417",
         "orientation": "v",
         "showlegend": true,
         "type": "histogram",
         "x": [
          22.6,
          13,
          24.2
         ],
         "xaxis": "x",
         "yaxis": "y"
        },
        {
         "alignmentgroup": "True",
         "bingroup": "x",
         "hovertemplate": "RM=6.421<br>MEDV=%{x}<br>count=%{y}<extra></extra>",
         "legendgroup": "6.421",
         "marker": {
          "color": "#FECB52",
          "pattern": {
           "shape": ""
          }
         },
         "name": "6.421",
         "nbinsx": 30,
         "offsetgroup": "6.421",
         "orientation": "v",
         "showlegend": true,
         "type": "histogram",
         "x": [
          21.6
         ],
         "xaxis": "x",
         "yaxis": "y"
        },
        {
         "alignmentgroup": "True",
         "bingroup": "x",
         "hovertemplate": "RM=6.425<br>MEDV=%{x}<br>count=%{y}<extra></extra>",
         "legendgroup": "6.425",
         "marker": {
          "color": "#636efa",
          "pattern": {
           "shape": ""
          }
         },
         "name": "6.425",
         "nbinsx": 30,
         "offsetgroup": "6.425",
         "orientation": "v",
         "showlegend": true,
         "type": "histogram",
         "x": [
          16.1
         ],
         "xaxis": "x",
         "yaxis": "y"
        },
        {
         "alignmentgroup": "True",
         "bingroup": "x",
         "hovertemplate": "RM=6.426<br>MEDV=%{x}<br>count=%{y}<extra></extra>",
         "legendgroup": "6.426",
         "marker": {
          "color": "#EF553B",
          "pattern": {
           "shape": ""
          }
         },
         "name": "6.426",
         "nbinsx": 30,
         "offsetgroup": "6.426",
         "orientation": "v",
         "showlegend": true,
         "type": "histogram",
         "x": [
          23.8
         ],
         "xaxis": "x",
         "yaxis": "y"
        },
        {
         "alignmentgroup": "True",
         "bingroup": "x",
         "hovertemplate": "RM=6.43<br>MEDV=%{x}<br>count=%{y}<extra></extra>",
         "legendgroup": "6.43",
         "marker": {
          "color": "#00cc96",
          "pattern": {
           "shape": ""
          }
         },
         "name": "6.43",
         "nbinsx": 30,
         "offsetgroup": "6.43",
         "orientation": "v",
         "showlegend": true,
         "type": "histogram",
         "x": [
          28.7
         ],
         "xaxis": "x",
         "yaxis": "y"
        },
        {
         "alignmentgroup": "True",
         "bingroup": "x",
         "hovertemplate": "RM=6.431<br>MEDV=%{x}<br>count=%{y}<extra></extra>",
         "legendgroup": "6.431",
         "marker": {
          "color": "#ab63fa",
          "pattern": {
           "shape": ""
          }
         },
         "name": "6.431",
         "nbinsx": 30,
         "offsetgroup": "6.431",
         "orientation": "v",
         "showlegend": true,
         "type": "histogram",
         "x": [
          18,
          24.6
         ],
         "xaxis": "x",
         "yaxis": "y"
        },
        {
         "alignmentgroup": "True",
         "bingroup": "x",
         "hovertemplate": "RM=6.433<br>MEDV=%{x}<br>count=%{y}<extra></extra>",
         "legendgroup": "6.433",
         "marker": {
          "color": "#FFA15A",
          "pattern": {
           "shape": ""
          }
         },
         "name": "6.433",
         "nbinsx": 30,
         "offsetgroup": "6.433",
         "orientation": "v",
         "showlegend": true,
         "type": "histogram",
         "x": [
          24.5
         ],
         "xaxis": "x",
         "yaxis": "y"
        },
        {
         "alignmentgroup": "True",
         "bingroup": "x",
         "hovertemplate": "RM=6.434<br>MEDV=%{x}<br>count=%{y}<extra></extra>",
         "legendgroup": "6.434",
         "marker": {
          "color": "#19d3f3",
          "pattern": {
           "shape": ""
          }
         },
         "name": "6.434",
         "nbinsx": 30,
         "offsetgroup": "6.434",
         "orientation": "v",
         "showlegend": true,
         "type": "histogram",
         "x": [
          7.2
         ],
         "xaxis": "x",
         "yaxis": "y"
        },
        {
         "alignmentgroup": "True",
         "bingroup": "x",
         "hovertemplate": "RM=6.436<br>MEDV=%{x}<br>count=%{y}<extra></extra>",
         "legendgroup": "6.436",
         "marker": {
          "color": "#FF6692",
          "pattern": {
           "shape": ""
          }
         },
         "name": "6.436",
         "nbinsx": 30,
         "offsetgroup": "6.436",
         "orientation": "v",
         "showlegend": true,
         "type": "histogram",
         "x": [
          14.3
         ],
         "xaxis": "x",
         "yaxis": "y"
        },
        {
         "alignmentgroup": "True",
         "bingroup": "x",
         "hovertemplate": "RM=6.437<br>MEDV=%{x}<br>count=%{y}<extra></extra>",
         "legendgroup": "6.437",
         "marker": {
          "color": "#B6E880",
          "pattern": {
           "shape": ""
          }
         },
         "name": "6.437",
         "nbinsx": 30,
         "offsetgroup": "6.437",
         "orientation": "v",
         "showlegend": true,
         "type": "histogram",
         "x": [
          23.2
         ],
         "xaxis": "x",
         "yaxis": "y"
        },
        {
         "alignmentgroup": "True",
         "bingroup": "x",
         "hovertemplate": "RM=6.438<br>MEDV=%{x}<br>count=%{y}<extra></extra>",
         "legendgroup": "6.438",
         "marker": {
          "color": "#FF97FF",
          "pattern": {
           "shape": ""
          }
         },
         "name": "6.438",
         "nbinsx": 30,
         "offsetgroup": "6.438",
         "orientation": "v",
         "showlegend": true,
         "type": "histogram",
         "x": [
          24.8
         ],
         "xaxis": "x",
         "yaxis": "y"
        },
        {
         "alignmentgroup": "True",
         "bingroup": "x",
         "hovertemplate": "RM=6.442<br>MEDV=%{x}<br>count=%{y}<extra></extra>",
         "legendgroup": "6.442",
         "marker": {
          "color": "#FECB52",
          "pattern": {
           "shape": ""
          }
         },
         "name": "6.442",
         "nbinsx": 30,
         "offsetgroup": "6.442",
         "orientation": "v",
         "showlegend": true,
         "type": "histogram",
         "x": [
          22.9
         ],
         "xaxis": "x",
         "yaxis": "y"
        },
        {
         "alignmentgroup": "True",
         "bingroup": "x",
         "hovertemplate": "RM=6.453<br>MEDV=%{x}<br>count=%{y}<extra></extra>",
         "legendgroup": "6.453",
         "marker": {
          "color": "#636efa",
          "pattern": {
           "shape": ""
          }
         },
         "name": "6.453",
         "nbinsx": 30,
         "offsetgroup": "6.453",
         "orientation": "v",
         "showlegend": true,
         "type": "histogram",
         "x": [
          22
         ],
         "xaxis": "x",
         "yaxis": "y"
        },
        {
         "alignmentgroup": "True",
         "bingroup": "x",
         "hovertemplate": "RM=6.454<br>MEDV=%{x}<br>count=%{y}<extra></extra>",
         "legendgroup": "6.454",
         "marker": {
          "color": "#EF553B",
          "pattern": {
           "shape": ""
          }
         },
         "name": "6.454",
         "nbinsx": 30,
         "offsetgroup": "6.454",
         "orientation": "v",
         "showlegend": true,
         "type": "histogram",
         "x": [
          17.1
         ],
         "xaxis": "x",
         "yaxis": "y"
        },
        {
         "alignmentgroup": "True",
         "bingroup": "x",
         "hovertemplate": "RM=6.456<br>MEDV=%{x}<br>count=%{y}<extra></extra>",
         "legendgroup": "6.456",
         "marker": {
          "color": "#00cc96",
          "pattern": {
           "shape": ""
          }
         },
         "name": "6.456",
         "nbinsx": 30,
         "offsetgroup": "6.456",
         "orientation": "v",
         "showlegend": true,
         "type": "histogram",
         "x": [
          22.2
         ],
         "xaxis": "x",
         "yaxis": "y"
        },
        {
         "alignmentgroup": "True",
         "bingroup": "x",
         "hovertemplate": "RM=6.458<br>MEDV=%{x}<br>count=%{y}<extra></extra>",
         "legendgroup": "6.458",
         "marker": {
          "color": "#ab63fa",
          "pattern": {
           "shape": ""
          }
         },
         "name": "6.458",
         "nbinsx": 30,
         "offsetgroup": "6.458",
         "orientation": "v",
         "showlegend": true,
         "type": "histogram",
         "x": [
          19.2
         ],
         "xaxis": "x",
         "yaxis": "y"
        },
        {
         "alignmentgroup": "True",
         "bingroup": "x",
         "hovertemplate": "RM=6.459<br>MEDV=%{x}<br>count=%{y}<extra></extra>",
         "legendgroup": "6.459",
         "marker": {
          "color": "#FFA15A",
          "pattern": {
           "shape": ""
          }
         },
         "name": "6.459",
         "nbinsx": 30,
         "offsetgroup": "6.459",
         "orientation": "v",
         "showlegend": true,
         "type": "histogram",
         "x": [
          11.8
         ],
         "xaxis": "x",
         "yaxis": "y"
        },
        {
         "alignmentgroup": "True",
         "bingroup": "x",
         "hovertemplate": "RM=6.461<br>MEDV=%{x}<br>count=%{y}<extra></extra>",
         "legendgroup": "6.461",
         "marker": {
          "color": "#19d3f3",
          "pattern": {
           "shape": ""
          }
         },
         "name": "6.461",
         "nbinsx": 30,
         "offsetgroup": "6.461",
         "orientation": "v",
         "showlegend": true,
         "type": "histogram",
         "x": [
          9.6
         ],
         "xaxis": "x",
         "yaxis": "y"
        },
        {
         "alignmentgroup": "True",
         "bingroup": "x",
         "hovertemplate": "RM=6.471<br>MEDV=%{x}<br>count=%{y}<extra></extra>",
         "legendgroup": "6.471",
         "marker": {
          "color": "#FF6692",
          "pattern": {
           "shape": ""
          }
         },
         "name": "6.471",
         "nbinsx": 30,
         "offsetgroup": "6.471",
         "orientation": "v",
         "showlegend": true,
         "type": "histogram",
         "x": [
          13.1
         ],
         "xaxis": "x",
         "yaxis": "y"
        },
        {
         "alignmentgroup": "True",
         "bingroup": "x",
         "hovertemplate": "RM=6.474<br>MEDV=%{x}<br>count=%{y}<extra></extra>",
         "legendgroup": "6.474",
         "marker": {
          "color": "#B6E880",
          "pattern": {
           "shape": ""
          }
         },
         "name": "6.474",
         "nbinsx": 30,
         "offsetgroup": "6.474",
         "orientation": "v",
         "showlegend": true,
         "type": "histogram",
         "x": [
          19.8
         ],
         "xaxis": "x",
         "yaxis": "y"
        },
        {
         "alignmentgroup": "True",
         "bingroup": "x",
         "hovertemplate": "RM=6.481<br>MEDV=%{x}<br>count=%{y}<extra></extra>",
         "legendgroup": "6.481",
         "marker": {
          "color": "#FF97FF",
          "pattern": {
           "shape": ""
          }
         },
         "name": "6.481",
         "nbinsx": 30,
         "offsetgroup": "6.481",
         "orientation": "v",
         "showlegend": true,
         "type": "histogram",
         "x": [
          23.7
         ],
         "xaxis": "x",
         "yaxis": "y"
        },
        {
         "alignmentgroup": "True",
         "bingroup": "x",
         "hovertemplate": "RM=6.482<br>MEDV=%{x}<br>count=%{y}<extra></extra>",
         "legendgroup": "6.482",
         "marker": {
          "color": "#FECB52",
          "pattern": {
           "shape": ""
          }
         },
         "name": "6.482",
         "nbinsx": 30,
         "offsetgroup": "6.482",
         "orientation": "v",
         "showlegend": true,
         "type": "histogram",
         "x": [
          29.1
         ],
         "xaxis": "x",
         "yaxis": "y"
        },
        {
         "alignmentgroup": "True",
         "bingroup": "x",
         "hovertemplate": "RM=6.484<br>MEDV=%{x}<br>count=%{y}<extra></extra>",
         "legendgroup": "6.484",
         "marker": {
          "color": "#636efa",
          "pattern": {
           "shape": ""
          }
         },
         "name": "6.484",
         "nbinsx": 30,
         "offsetgroup": "6.484",
         "orientation": "v",
         "showlegend": true,
         "type": "histogram",
         "x": [
          16.7
         ],
         "xaxis": "x",
         "yaxis": "y"
        },
        {
         "alignmentgroup": "True",
         "bingroup": "x",
         "hovertemplate": "RM=6.485<br>MEDV=%{x}<br>count=%{y}<extra></extra>",
         "legendgroup": "6.485",
         "marker": {
          "color": "#EF553B",
          "pattern": {
           "shape": ""
          }
         },
         "name": "6.485",
         "nbinsx": 30,
         "offsetgroup": "6.485",
         "orientation": "v",
         "showlegend": true,
         "type": "histogram",
         "x": [
          15.4
         ],
         "xaxis": "x",
         "yaxis": "y"
        },
        {
         "alignmentgroup": "True",
         "bingroup": "x",
         "hovertemplate": "RM=6.487<br>MEDV=%{x}<br>count=%{y}<extra></extra>",
         "legendgroup": "6.487",
         "marker": {
          "color": "#00cc96",
          "pattern": {
           "shape": ""
          }
         },
         "name": "6.487",
         "nbinsx": 30,
         "offsetgroup": "6.487",
         "orientation": "v",
         "showlegend": true,
         "type": "histogram",
         "x": [
          24.4
         ],
         "xaxis": "x",
         "yaxis": "y"
        },
        {
         "alignmentgroup": "True",
         "bingroup": "x",
         "hovertemplate": "RM=6.49<br>MEDV=%{x}<br>count=%{y}<extra></extra>",
         "legendgroup": "6.49",
         "marker": {
          "color": "#ab63fa",
          "pattern": {
           "shape": ""
          }
         },
         "name": "6.49",
         "nbinsx": 30,
         "offsetgroup": "6.49",
         "orientation": "v",
         "showlegend": true,
         "type": "histogram",
         "x": [
          22.9
         ],
         "xaxis": "x",
         "yaxis": "y"
        },
        {
         "alignmentgroup": "True",
         "bingroup": "x",
         "hovertemplate": "RM=6.495<br>MEDV=%{x}<br>count=%{y}<extra></extra>",
         "legendgroup": "6.495",
         "marker": {
          "color": "#FFA15A",
          "pattern": {
           "shape": ""
          }
         },
         "name": "6.495",
         "nbinsx": 30,
         "offsetgroup": "6.495",
         "orientation": "v",
         "showlegend": true,
         "type": "histogram",
         "x": [
          26.4,
          18.4
         ],
         "xaxis": "x",
         "yaxis": "y"
        },
        {
         "alignmentgroup": "True",
         "bingroup": "x",
         "hovertemplate": "RM=6.51<br>MEDV=%{x}<br>count=%{y}<extra></extra>",
         "legendgroup": "6.51",
         "marker": {
          "color": "#19d3f3",
          "pattern": {
           "shape": ""
          }
         },
         "name": "6.51",
         "nbinsx": 30,
         "offsetgroup": "6.51",
         "orientation": "v",
         "showlegend": true,
         "type": "histogram",
         "x": [
          23.3
         ],
         "xaxis": "x",
         "yaxis": "y"
        },
        {
         "alignmentgroup": "True",
         "bingroup": "x",
         "hovertemplate": "RM=6.511<br>MEDV=%{x}<br>count=%{y}<extra></extra>",
         "legendgroup": "6.511",
         "marker": {
          "color": "#FF6692",
          "pattern": {
           "shape": ""
          }
         },
         "name": "6.511",
         "nbinsx": 30,
         "offsetgroup": "6.511",
         "orientation": "v",
         "showlegend": true,
         "type": "histogram",
         "x": [
          25
         ],
         "xaxis": "x",
         "yaxis": "y"
        },
        {
         "alignmentgroup": "True",
         "bingroup": "x",
         "hovertemplate": "RM=6.513<br>MEDV=%{x}<br>count=%{y}<extra></extra>",
         "legendgroup": "6.513",
         "marker": {
          "color": "#B6E880",
          "pattern": {
           "shape": ""
          }
         },
         "name": "6.513",
         "nbinsx": 30,
         "offsetgroup": "6.513",
         "orientation": "v",
         "showlegend": true,
         "type": "histogram",
         "x": [
          20.2
         ],
         "xaxis": "x",
         "yaxis": "y"
        },
        {
         "alignmentgroup": "True",
         "bingroup": "x",
         "hovertemplate": "RM=6.516<br>MEDV=%{x}<br>count=%{y}<extra></extra>",
         "legendgroup": "6.516",
         "marker": {
          "color": "#FF97FF",
          "pattern": {
           "shape": ""
          }
         },
         "name": "6.516",
         "nbinsx": 30,
         "offsetgroup": "6.516",
         "orientation": "v",
         "showlegend": true,
         "type": "histogram",
         "x": [
          23.1
         ],
         "xaxis": "x",
         "yaxis": "y"
        },
        {
         "alignmentgroup": "True",
         "bingroup": "x",
         "hovertemplate": "RM=6.525<br>MEDV=%{x}<br>count=%{y}<extra></extra>",
         "legendgroup": "6.525",
         "marker": {
          "color": "#FECB52",
          "pattern": {
           "shape": ""
          }
         },
         "name": "6.525",
         "nbinsx": 30,
         "offsetgroup": "6.525",
         "orientation": "v",
         "showlegend": true,
         "type": "histogram",
         "x": [
          14.1
         ],
         "xaxis": "x",
         "yaxis": "y"
        },
        {
         "alignmentgroup": "True",
         "bingroup": "x",
         "hovertemplate": "RM=6.538<br>MEDV=%{x}<br>count=%{y}<extra></extra>",
         "legendgroup": "6.538",
         "marker": {
          "color": "#636efa",
          "pattern": {
           "shape": ""
          }
         },
         "name": "6.538",
         "nbinsx": 30,
         "offsetgroup": "6.538",
         "orientation": "v",
         "showlegend": true,
         "type": "histogram",
         "x": [
          24.4
         ],
         "xaxis": "x",
         "yaxis": "y"
        },
        {
         "alignmentgroup": "True",
         "bingroup": "x",
         "hovertemplate": "RM=6.54<br>MEDV=%{x}<br>count=%{y}<extra></extra>",
         "legendgroup": "6.54",
         "marker": {
          "color": "#EF553B",
          "pattern": {
           "shape": ""
          }
         },
         "name": "6.54",
         "nbinsx": 30,
         "offsetgroup": "6.54",
         "orientation": "v",
         "showlegend": true,
         "type": "histogram",
         "x": [
          16.5
         ],
         "xaxis": "x",
         "yaxis": "y"
        },
        {
         "alignmentgroup": "True",
         "bingroup": "x",
         "hovertemplate": "RM=6.545<br>MEDV=%{x}<br>count=%{y}<extra></extra>",
         "legendgroup": "6.545",
         "marker": {
          "color": "#00cc96",
          "pattern": {
           "shape": ""
          }
         },
         "name": "6.545",
         "nbinsx": 30,
         "offsetgroup": "6.545",
         "orientation": "v",
         "showlegend": true,
         "type": "histogram",
         "x": [
          10.9
         ],
         "xaxis": "x",
         "yaxis": "y"
        },
        {
         "alignmentgroup": "True",
         "bingroup": "x",
         "hovertemplate": "RM=6.546<br>MEDV=%{x}<br>count=%{y}<extra></extra>",
         "legendgroup": "6.546",
         "marker": {
          "color": "#ab63fa",
          "pattern": {
           "shape": ""
          }
         },
         "name": "6.546",
         "nbinsx": 30,
         "offsetgroup": "6.546",
         "orientation": "v",
         "showlegend": true,
         "type": "histogram",
         "x": [
          29.4
         ],
         "xaxis": "x",
         "yaxis": "y"
        },
        {
         "alignmentgroup": "True",
         "bingroup": "x",
         "hovertemplate": "RM=6.549<br>MEDV=%{x}<br>count=%{y}<extra></extra>",
         "legendgroup": "6.549",
         "marker": {
          "color": "#FFA15A",
          "pattern": {
           "shape": ""
          }
         },
         "name": "6.549",
         "nbinsx": 30,
         "offsetgroup": "6.549",
         "orientation": "v",
         "showlegend": true,
         "type": "histogram",
         "x": [
          27.1
         ],
         "xaxis": "x",
         "yaxis": "y"
        },
        {
         "alignmentgroup": "True",
         "bingroup": "x",
         "hovertemplate": "RM=6.552<br>MEDV=%{x}<br>count=%{y}<extra></extra>",
         "legendgroup": "6.552",
         "marker": {
          "color": "#19d3f3",
          "pattern": {
           "shape": ""
          }
         },
         "name": "6.552",
         "nbinsx": 30,
         "offsetgroup": "6.552",
         "orientation": "v",
         "showlegend": true,
         "type": "histogram",
         "x": [
          31.5
         ],
         "xaxis": "x",
         "yaxis": "y"
        },
        {
         "alignmentgroup": "True",
         "bingroup": "x",
         "hovertemplate": "RM=6.556<br>MEDV=%{x}<br>count=%{y}<extra></extra>",
         "legendgroup": "6.556",
         "marker": {
          "color": "#FF6692",
          "pattern": {
           "shape": ""
          }
         },
         "name": "6.556",
         "nbinsx": 30,
         "offsetgroup": "6.556",
         "orientation": "v",
         "showlegend": true,
         "type": "histogram",
         "x": [
          29.8
         ],
         "xaxis": "x",
         "yaxis": "y"
        },
        {
         "alignmentgroup": "True",
         "bingroup": "x",
         "hovertemplate": "RM=6.563<br>MEDV=%{x}<br>count=%{y}<extra></extra>",
         "legendgroup": "6.563",
         "marker": {
          "color": "#B6E880",
          "pattern": {
           "shape": ""
          }
         },
         "name": "6.563",
         "nbinsx": 30,
         "offsetgroup": "6.563",
         "orientation": "v",
         "showlegend": true,
         "type": "histogram",
         "x": [
          32.5
         ],
         "xaxis": "x",
         "yaxis": "y"
        },
        {
         "alignmentgroup": "True",
         "bingroup": "x",
         "hovertemplate": "RM=6.565<br>MEDV=%{x}<br>count=%{y}<extra></extra>",
         "legendgroup": "6.565",
         "marker": {
          "color": "#FF97FF",
          "pattern": {
           "shape": ""
          }
         },
         "name": "6.565",
         "nbinsx": 30,
         "offsetgroup": "6.565",
         "orientation": "v",
         "showlegend": true,
         "type": "histogram",
         "x": [
          24.8
         ],
         "xaxis": "x",
         "yaxis": "y"
        },
        {
         "alignmentgroup": "True",
         "bingroup": "x",
         "hovertemplate": "RM=6.567<br>MEDV=%{x}<br>count=%{y}<extra></extra>",
         "legendgroup": "6.567",
         "marker": {
          "color": "#FECB52",
          "pattern": {
           "shape": ""
          }
         },
         "name": "6.567",
         "nbinsx": 30,
         "offsetgroup": "6.567",
         "orientation": "v",
         "showlegend": true,
         "type": "histogram",
         "x": [
          23.8
         ],
         "xaxis": "x",
         "yaxis": "y"
        },
        {
         "alignmentgroup": "True",
         "bingroup": "x",
         "hovertemplate": "RM=6.575<br>MEDV=%{x}<br>count=%{y}<extra></extra>",
         "legendgroup": "6.575",
         "marker": {
          "color": "#636efa",
          "pattern": {
           "shape": ""
          }
         },
         "name": "6.575",
         "nbinsx": 30,
         "offsetgroup": "6.575",
         "orientation": "v",
         "showlegend": true,
         "type": "histogram",
         "x": [
          24
         ],
         "xaxis": "x",
         "yaxis": "y"
        },
        {
         "alignmentgroup": "True",
         "bingroup": "x",
         "hovertemplate": "RM=6.579<br>MEDV=%{x}<br>count=%{y}<extra></extra>",
         "legendgroup": "6.579",
         "marker": {
          "color": "#EF553B",
          "pattern": {
           "shape": ""
          }
         },
         "name": "6.579",
         "nbinsx": 30,
         "offsetgroup": "6.579",
         "orientation": "v",
         "showlegend": true,
         "type": "histogram",
         "x": [
          24.1
         ],
         "xaxis": "x",
         "yaxis": "y"
        },
        {
         "alignmentgroup": "True",
         "bingroup": "x",
         "hovertemplate": "RM=6.59<br>MEDV=%{x}<br>count=%{y}<extra></extra>",
         "legendgroup": "6.59",
         "marker": {
          "color": "#00cc96",
          "pattern": {
           "shape": ""
          }
         },
         "name": "6.59",
         "nbinsx": 30,
         "offsetgroup": "6.59",
         "orientation": "v",
         "showlegend": true,
         "type": "histogram",
         "x": [
          22
         ],
         "xaxis": "x",
         "yaxis": "y"
        },
        {
         "alignmentgroup": "True",
         "bingroup": "x",
         "hovertemplate": "RM=6.593<br>MEDV=%{x}<br>count=%{y}<extra></extra>",
         "legendgroup": "6.593",
         "marker": {
          "color": "#ab63fa",
          "pattern": {
           "shape": ""
          }
         },
         "name": "6.593",
         "nbinsx": 30,
         "offsetgroup": "6.593",
         "orientation": "v",
         "showlegend": true,
         "type": "histogram",
         "x": [
          22.4
         ],
         "xaxis": "x",
         "yaxis": "y"
        },
        {
         "alignmentgroup": "True",
         "bingroup": "x",
         "hovertemplate": "RM=6.595<br>MEDV=%{x}<br>count=%{y}<extra></extra>",
         "legendgroup": "6.595",
         "marker": {
          "color": "#FFA15A",
          "pattern": {
           "shape": ""
          }
         },
         "name": "6.595",
         "nbinsx": 30,
         "offsetgroup": "6.595",
         "orientation": "v",
         "showlegend": true,
         "type": "histogram",
         "x": [
          30.8
         ],
         "xaxis": "x",
         "yaxis": "y"
        },
        {
         "alignmentgroup": "True",
         "bingroup": "x",
         "hovertemplate": "RM=6.604<br>MEDV=%{x}<br>count=%{y}<extra></extra>",
         "legendgroup": "6.604",
         "marker": {
          "color": "#19d3f3",
          "pattern": {
           "shape": ""
          }
         },
         "name": "6.604",
         "nbinsx": 30,
         "offsetgroup": "6.604",
         "orientation": "v",
         "showlegend": true,
         "type": "histogram",
         "x": [
          29.1
         ],
         "xaxis": "x",
         "yaxis": "y"
        },
        {
         "alignmentgroup": "True",
         "bingroup": "x",
         "hovertemplate": "RM=6.606<br>MEDV=%{x}<br>count=%{y}<extra></extra>",
         "legendgroup": "6.606",
         "marker": {
          "color": "#FF6692",
          "pattern": {
           "shape": ""
          }
         },
         "name": "6.606",
         "nbinsx": 30,
         "offsetgroup": "6.606",
         "orientation": "v",
         "showlegend": true,
         "type": "histogram",
         "x": [
          23.3
         ],
         "xaxis": "x",
         "yaxis": "y"
        },
        {
         "alignmentgroup": "True",
         "bingroup": "x",
         "hovertemplate": "RM=6.616<br>MEDV=%{x}<br>count=%{y}<extra></extra>",
         "legendgroup": "6.616",
         "marker": {
          "color": "#B6E880",
          "pattern": {
           "shape": ""
          }
         },
         "name": "6.616",
         "nbinsx": 30,
         "offsetgroup": "6.616",
         "orientation": "v",
         "showlegend": true,
         "type": "histogram",
         "x": [
          28.4
         ],
         "xaxis": "x",
         "yaxis": "y"
        },
        {
         "alignmentgroup": "True",
         "bingroup": "x",
         "hovertemplate": "RM=6.618<br>MEDV=%{x}<br>count=%{y}<extra></extra>",
         "legendgroup": "6.618",
         "marker": {
          "color": "#FF97FF",
          "pattern": {
           "shape": ""
          }
         },
         "name": "6.618",
         "nbinsx": 30,
         "offsetgroup": "6.618",
         "orientation": "v",
         "showlegend": true,
         "type": "histogram",
         "x": [
          30.1
         ],
         "xaxis": "x",
         "yaxis": "y"
        },
        {
         "alignmentgroup": "True",
         "bingroup": "x",
         "hovertemplate": "RM=6.619<br>MEDV=%{x}<br>count=%{y}<extra></extra>",
         "legendgroup": "6.619",
         "marker": {
          "color": "#FECB52",
          "pattern": {
           "shape": ""
          }
         },
         "name": "6.619",
         "nbinsx": 30,
         "offsetgroup": "6.619",
         "orientation": "v",
         "showlegend": true,
         "type": "histogram",
         "x": [
          23.9
         ],
         "xaxis": "x",
         "yaxis": "y"
        },
        {
         "alignmentgroup": "True",
         "bingroup": "x",
         "hovertemplate": "RM=6.625<br>MEDV=%{x}<br>count=%{y}<extra></extra>",
         "legendgroup": "6.625",
         "marker": {
          "color": "#636efa",
          "pattern": {
           "shape": ""
          }
         },
         "name": "6.625",
         "nbinsx": 30,
         "offsetgroup": "6.625",
         "orientation": "v",
         "showlegend": true,
         "type": "histogram",
         "x": [
          28.4
         ],
         "xaxis": "x",
         "yaxis": "y"
        },
        {
         "alignmentgroup": "True",
         "bingroup": "x",
         "hovertemplate": "RM=6.629<br>MEDV=%{x}<br>count=%{y}<extra></extra>",
         "legendgroup": "6.629",
         "marker": {
          "color": "#EF553B",
          "pattern": {
           "shape": ""
          }
         },
         "name": "6.629",
         "nbinsx": 30,
         "offsetgroup": "6.629",
         "orientation": "v",
         "showlegend": true,
         "type": "histogram",
         "x": [
          13.4
         ],
         "xaxis": "x",
         "yaxis": "y"
        },
        {
         "alignmentgroup": "True",
         "bingroup": "x",
         "hovertemplate": "RM=6.63<br>MEDV=%{x}<br>count=%{y}<extra></extra>",
         "legendgroup": "6.63",
         "marker": {
          "color": "#00cc96",
          "pattern": {
           "shape": ""
          }
         },
         "name": "6.63",
         "nbinsx": 30,
         "offsetgroup": "6.63",
         "orientation": "v",
         "showlegend": true,
         "type": "histogram",
         "x": [
          27.9,
          26.6
         ],
         "xaxis": "x",
         "yaxis": "y"
        },
        {
         "alignmentgroup": "True",
         "bingroup": "x",
         "hovertemplate": "RM=6.631<br>MEDV=%{x}<br>count=%{y}<extra></extra>",
         "legendgroup": "6.631",
         "marker": {
          "color": "#ab63fa",
          "pattern": {
           "shape": ""
          }
         },
         "name": "6.631",
         "nbinsx": 30,
         "offsetgroup": "6.631",
         "orientation": "v",
         "showlegend": true,
         "type": "histogram",
         "x": [
          25.1
         ],
         "xaxis": "x",
         "yaxis": "y"
        },
        {
         "alignmentgroup": "True",
         "bingroup": "x",
         "hovertemplate": "RM=6.635<br>MEDV=%{x}<br>count=%{y}<extra></extra>",
         "legendgroup": "6.635",
         "marker": {
          "color": "#FFA15A",
          "pattern": {
           "shape": ""
          }
         },
         "name": "6.635",
         "nbinsx": 30,
         "offsetgroup": "6.635",
         "orientation": "v",
         "showlegend": true,
         "type": "histogram",
         "x": [
          22.8,
          24.5
         ],
         "xaxis": "x",
         "yaxis": "y"
        },
        {
         "alignmentgroup": "True",
         "bingroup": "x",
         "hovertemplate": "RM=6.642<br>MEDV=%{x}<br>count=%{y}<extra></extra>",
         "legendgroup": "6.642",
         "marker": {
          "color": "#19d3f3",
          "pattern": {
           "shape": ""
          }
         },
         "name": "6.642",
         "nbinsx": 30,
         "offsetgroup": "6.642",
         "orientation": "v",
         "showlegend": true,
         "type": "histogram",
         "x": [
          28.7
         ],
         "xaxis": "x",
         "yaxis": "y"
        },
        {
         "alignmentgroup": "True",
         "bingroup": "x",
         "hovertemplate": "RM=6.649<br>MEDV=%{x}<br>count=%{y}<extra></extra>",
         "legendgroup": "6.649",
         "marker": {
          "color": "#FF6692",
          "pattern": {
           "shape": ""
          }
         },
         "name": "6.649",
         "nbinsx": 30,
         "offsetgroup": "6.649",
         "orientation": "v",
         "showlegend": true,
         "type": "histogram",
         "x": [
          13.9
         ],
         "xaxis": "x",
         "yaxis": "y"
        },
        {
         "alignmentgroup": "True",
         "bingroup": "x",
         "hovertemplate": "RM=6.655<br>MEDV=%{x}<br>count=%{y}<extra></extra>",
         "legendgroup": "6.655",
         "marker": {
          "color": "#B6E880",
          "pattern": {
           "shape": ""
          }
         },
         "name": "6.655",
         "nbinsx": 30,
         "offsetgroup": "6.655",
         "orientation": "v",
         "showlegend": true,
         "type": "histogram",
         "x": [
          15.2
         ],
         "xaxis": "x",
         "yaxis": "y"
        },
        {
         "alignmentgroup": "True",
         "bingroup": "x",
         "hovertemplate": "RM=6.657<br>MEDV=%{x}<br>count=%{y}<extra></extra>",
         "legendgroup": "6.657",
         "marker": {
          "color": "#FF97FF",
          "pattern": {
           "shape": ""
          }
         },
         "name": "6.657",
         "nbinsx": 30,
         "offsetgroup": "6.657",
         "orientation": "v",
         "showlegend": true,
         "type": "histogram",
         "x": [
          17.2
         ],
         "xaxis": "x",
         "yaxis": "y"
        },
        {
         "alignmentgroup": "True",
         "bingroup": "x",
         "hovertemplate": "RM=6.674<br>MEDV=%{x}<br>count=%{y}<extra></extra>",
         "legendgroup": "6.674",
         "marker": {
          "color": "#FECB52",
          "pattern": {
           "shape": ""
          }
         },
         "name": "6.674",
         "nbinsx": 30,
         "offsetgroup": "6.674",
         "orientation": "v",
         "showlegend": true,
         "type": "histogram",
         "x": [
          21
         ],
         "xaxis": "x",
         "yaxis": "y"
        },
        {
         "alignmentgroup": "True",
         "bingroup": "x",
         "hovertemplate": "RM=6.678<br>MEDV=%{x}<br>count=%{y}<extra></extra>",
         "legendgroup": "6.678",
         "marker": {
          "color": "#636efa",
          "pattern": {
           "shape": ""
          }
         },
         "name": "6.678",
         "nbinsx": 30,
         "offsetgroup": "6.678",
         "orientation": "v",
         "showlegend": true,
         "type": "histogram",
         "x": [
          28.6
         ],
         "xaxis": "x",
         "yaxis": "y"
        },
        {
         "alignmentgroup": "True",
         "bingroup": "x",
         "hovertemplate": "RM=6.683<br>MEDV=%{x}<br>count=%{y}<extra></extra>",
         "legendgroup": "6.683",
         "marker": {
          "color": "#EF553B",
          "pattern": {
           "shape": ""
          }
         },
         "name": "6.683",
         "nbinsx": 30,
         "offsetgroup": "6.683",
         "orientation": "v",
         "showlegend": true,
         "type": "histogram",
         "x": [
          50
         ],
         "xaxis": "x",
         "yaxis": "y"
        },
        {
         "alignmentgroup": "True",
         "bingroup": "x",
         "hovertemplate": "RM=6.696<br>MEDV=%{x}<br>count=%{y}<extra></extra>",
         "legendgroup": "6.696",
         "marker": {
          "color": "#00cc96",
          "pattern": {
           "shape": ""
          }
         },
         "name": "6.696",
         "nbinsx": 30,
         "offsetgroup": "6.696",
         "orientation": "v",
         "showlegend": true,
         "type": "histogram",
         "x": [
          23.9
         ],
         "xaxis": "x",
         "yaxis": "y"
        },
        {
         "alignmentgroup": "True",
         "bingroup": "x",
         "hovertemplate": "RM=6.701<br>MEDV=%{x}<br>count=%{y}<extra></extra>",
         "legendgroup": "6.701",
         "marker": {
          "color": "#ab63fa",
          "pattern": {
           "shape": ""
          }
         },
         "name": "6.701",
         "nbinsx": 30,
         "offsetgroup": "6.701",
         "orientation": "v",
         "showlegend": true,
         "type": "histogram",
         "x": [
          16.4
         ],
         "xaxis": "x",
         "yaxis": "y"
        },
        {
         "alignmentgroup": "True",
         "bingroup": "x",
         "hovertemplate": "RM=6.715<br>MEDV=%{x}<br>count=%{y}<extra></extra>",
         "legendgroup": "6.715",
         "marker": {
          "color": "#FFA15A",
          "pattern": {
           "shape": ""
          }
         },
         "name": "6.715",
         "nbinsx": 30,
         "offsetgroup": "6.715",
         "orientation": "v",
         "showlegend": true,
         "type": "histogram",
         "x": [
          22.8
         ],
         "xaxis": "x",
         "yaxis": "y"
        },
        {
         "alignmentgroup": "True",
         "bingroup": "x",
         "hovertemplate": "RM=6.718<br>MEDV=%{x}<br>count=%{y}<extra></extra>",
         "legendgroup": "6.718",
         "marker": {
          "color": "#19d3f3",
          "pattern": {
           "shape": ""
          }
         },
         "name": "6.718",
         "nbinsx": 30,
         "offsetgroup": "6.718",
         "orientation": "v",
         "showlegend": true,
         "type": "histogram",
         "x": [
          26.2
         ],
         "xaxis": "x",
         "yaxis": "y"
        },
        {
         "alignmentgroup": "True",
         "bingroup": "x",
         "hovertemplate": "RM=6.726<br>MEDV=%{x}<br>count=%{y}<extra></extra>",
         "legendgroup": "6.726",
         "marker": {
          "color": "#FF6692",
          "pattern": {
           "shape": ""
          }
         },
         "name": "6.726",
         "nbinsx": 30,
         "offsetgroup": "6.726",
         "orientation": "v",
         "showlegend": true,
         "type": "histogram",
         "x": [
          29
         ],
         "xaxis": "x",
         "yaxis": "y"
        },
        {
         "alignmentgroup": "True",
         "bingroup": "x",
         "hovertemplate": "RM=6.727<br>MEDV=%{x}<br>count=%{y}<extra></extra>",
         "legendgroup": "6.727",
         "marker": {
          "color": "#B6E880",
          "pattern": {
           "shape": ""
          }
         },
         "name": "6.727",
         "nbinsx": 30,
         "offsetgroup": "6.727",
         "orientation": "v",
         "showlegend": true,
         "type": "histogram",
         "x": [
          28,
          27.5
         ],
         "xaxis": "x",
         "yaxis": "y"
        },
        {
         "alignmentgroup": "True",
         "bingroup": "x",
         "hovertemplate": "RM=6.728<br>MEDV=%{x}<br>count=%{y}<extra></extra>",
         "legendgroup": "6.728",
         "marker": {
          "color": "#FF97FF",
          "pattern": {
           "shape": ""
          }
         },
         "name": "6.728",
         "nbinsx": 30,
         "offsetgroup": "6.728",
         "orientation": "v",
         "showlegend": true,
         "type": "histogram",
         "x": [
          30.1,
          14.9
         ],
         "xaxis": "x",
         "yaxis": "y"
        },
        {
         "alignmentgroup": "True",
         "bingroup": "x",
         "hovertemplate": "RM=6.739<br>MEDV=%{x}<br>count=%{y}<extra></extra>",
         "legendgroup": "6.739",
         "marker": {
          "color": "#FECB52",
          "pattern": {
           "shape": ""
          }
         },
         "name": "6.739",
         "nbinsx": 30,
         "offsetgroup": "6.739",
         "orientation": "v",
         "showlegend": true,
         "type": "histogram",
         "x": [
          30.5
         ],
         "xaxis": "x",
         "yaxis": "y"
        },
        {
         "alignmentgroup": "True",
         "bingroup": "x",
         "hovertemplate": "RM=6.749<br>MEDV=%{x}<br>count=%{y}<extra></extra>",
         "legendgroup": "6.749",
         "marker": {
          "color": "#636efa",
          "pattern": {
           "shape": ""
          }
         },
         "name": "6.749",
         "nbinsx": 30,
         "offsetgroup": "6.749",
         "orientation": "v",
         "showlegend": true,
         "type": "histogram",
         "x": [
          13.4
         ],
         "xaxis": "x",
         "yaxis": "y"
        },
        {
         "alignmentgroup": "True",
         "bingroup": "x",
         "hovertemplate": "RM=6.75<br>MEDV=%{x}<br>count=%{y}<extra></extra>",
         "legendgroup": "6.75",
         "marker": {
          "color": "#EF553B",
          "pattern": {
           "shape": ""
          }
         },
         "name": "6.75",
         "nbinsx": 30,
         "offsetgroup": "6.75",
         "orientation": "v",
         "showlegend": true,
         "type": "histogram",
         "x": [
          23.7
         ],
         "xaxis": "x",
         "yaxis": "y"
        },
        {
         "alignmentgroup": "True",
         "bingroup": "x",
         "hovertemplate": "RM=6.758<br>MEDV=%{x}<br>count=%{y}<extra></extra>",
         "legendgroup": "6.758",
         "marker": {
          "color": "#00cc96",
          "pattern": {
           "shape": ""
          }
         },
         "name": "6.758",
         "nbinsx": 30,
         "offsetgroup": "6.758",
         "orientation": "v",
         "showlegend": true,
         "type": "histogram",
         "x": [
          32.4
         ],
         "xaxis": "x",
         "yaxis": "y"
        },
        {
         "alignmentgroup": "True",
         "bingroup": "x",
         "hovertemplate": "RM=6.762<br>MEDV=%{x}<br>count=%{y}<extra></extra>",
         "legendgroup": "6.762",
         "marker": {
          "color": "#ab63fa",
          "pattern": {
           "shape": ""
          }
         },
         "name": "6.762",
         "nbinsx": 30,
         "offsetgroup": "6.762",
         "orientation": "v",
         "showlegend": true,
         "type": "histogram",
         "x": [
          25
         ],
         "xaxis": "x",
         "yaxis": "y"
        },
        {
         "alignmentgroup": "True",
         "bingroup": "x",
         "hovertemplate": "RM=6.77<br>MEDV=%{x}<br>count=%{y}<extra></extra>",
         "legendgroup": "6.77",
         "marker": {
          "color": "#FFA15A",
          "pattern": {
           "shape": ""
          }
         },
         "name": "6.77",
         "nbinsx": 30,
         "offsetgroup": "6.77",
         "orientation": "v",
         "showlegend": true,
         "type": "histogram",
         "x": [
          26.6
         ],
         "xaxis": "x",
         "yaxis": "y"
        },
        {
         "alignmentgroup": "True",
         "bingroup": "x",
         "hovertemplate": "RM=6.781<br>MEDV=%{x}<br>count=%{y}<extra></extra>",
         "legendgroup": "6.781",
         "marker": {
          "color": "#19d3f3",
          "pattern": {
           "shape": ""
          }
         },
         "name": "6.781",
         "nbinsx": 30,
         "offsetgroup": "6.781",
         "orientation": "v",
         "showlegend": true,
         "type": "histogram",
         "x": [
          26.5
         ],
         "xaxis": "x",
         "yaxis": "y"
        },
        {
         "alignmentgroup": "True",
         "bingroup": "x",
         "hovertemplate": "RM=6.782<br>MEDV=%{x}<br>count=%{y}<extra></extra>",
         "legendgroup": "6.782",
         "marker": {
          "color": "#FF6692",
          "pattern": {
           "shape": ""
          }
         },
         "name": "6.782",
         "nbinsx": 30,
         "offsetgroup": "6.782",
         "orientation": "v",
         "showlegend": true,
         "type": "histogram",
         "x": [
          7.5,
          32
         ],
         "xaxis": "x",
         "yaxis": "y"
        },
        {
         "alignmentgroup": "True",
         "bingroup": "x",
         "hovertemplate": "RM=6.794<br>MEDV=%{x}<br>count=%{y}<extra></extra>",
         "legendgroup": "6.794",
         "marker": {
          "color": "#B6E880",
          "pattern": {
           "shape": ""
          }
         },
         "name": "6.794",
         "nbinsx": 30,
         "offsetgroup": "6.794",
         "orientation": "v",
         "showlegend": true,
         "type": "histogram",
         "x": [
          13.3,
          22
         ],
         "xaxis": "x",
         "yaxis": "y"
        },
        {
         "alignmentgroup": "True",
         "bingroup": "x",
         "hovertemplate": "RM=6.8<br>MEDV=%{x}<br>count=%{y}<extra></extra>",
         "legendgroup": "6.8",
         "marker": {
          "color": "#FF97FF",
          "pattern": {
           "shape": ""
          }
         },
         "name": "6.8",
         "nbinsx": 30,
         "offsetgroup": "6.8",
         "orientation": "v",
         "showlegend": true,
         "type": "histogram",
         "x": [
          31.1
         ],
         "xaxis": "x",
         "yaxis": "y"
        },
        {
         "alignmentgroup": "True",
         "bingroup": "x",
         "hovertemplate": "RM=6.812<br>MEDV=%{x}<br>count=%{y}<extra></extra>",
         "legendgroup": "6.812",
         "marker": {
          "color": "#FECB52",
          "pattern": {
           "shape": ""
          }
         },
         "name": "6.812",
         "nbinsx": 30,
         "offsetgroup": "6.812",
         "orientation": "v",
         "showlegend": true,
         "type": "histogram",
         "x": [
          35.1
         ],
         "xaxis": "x",
         "yaxis": "y"
        },
        {
         "alignmentgroup": "True",
         "bingroup": "x",
         "hovertemplate": "RM=6.816<br>MEDV=%{x}<br>count=%{y}<extra></extra>",
         "legendgroup": "6.816",
         "marker": {
          "color": "#636efa",
          "pattern": {
           "shape": ""
          }
         },
         "name": "6.816",
         "nbinsx": 30,
         "offsetgroup": "6.816",
         "orientation": "v",
         "showlegend": true,
         "type": "histogram",
         "x": [
          31.6
         ],
         "xaxis": "x",
         "yaxis": "y"
        },
        {
         "alignmentgroup": "True",
         "bingroup": "x",
         "hovertemplate": "RM=6.824<br>MEDV=%{x}<br>count=%{y}<extra></extra>",
         "legendgroup": "6.824",
         "marker": {
          "color": "#EF553B",
          "pattern": {
           "shape": ""
          }
         },
         "name": "6.824",
         "nbinsx": 30,
         "offsetgroup": "6.824",
         "orientation": "v",
         "showlegend": true,
         "type": "histogram",
         "x": [
          8.4
         ],
         "xaxis": "x",
         "yaxis": "y"
        },
        {
         "alignmentgroup": "True",
         "bingroup": "x",
         "hovertemplate": "RM=6.826<br>MEDV=%{x}<br>count=%{y}<extra></extra>",
         "legendgroup": "6.826",
         "marker": {
          "color": "#00cc96",
          "pattern": {
           "shape": ""
          }
         },
         "name": "6.826",
         "nbinsx": 30,
         "offsetgroup": "6.826",
         "orientation": "v",
         "showlegend": true,
         "type": "histogram",
         "x": [
          33.1
         ],
         "xaxis": "x",
         "yaxis": "y"
        },
        {
         "alignmentgroup": "True",
         "bingroup": "x",
         "hovertemplate": "RM=6.833<br>MEDV=%{x}<br>count=%{y}<extra></extra>",
         "legendgroup": "6.833",
         "marker": {
          "color": "#ab63fa",
          "pattern": {
           "shape": ""
          }
         },
         "name": "6.833",
         "nbinsx": 30,
         "offsetgroup": "6.833",
         "orientation": "v",
         "showlegend": true,
         "type": "histogram",
         "x": [
          14.1
         ],
         "xaxis": "x",
         "yaxis": "y"
        },
        {
         "alignmentgroup": "True",
         "bingroup": "x",
         "hovertemplate": "RM=6.842<br>MEDV=%{x}<br>count=%{y}<extra></extra>",
         "legendgroup": "6.842",
         "marker": {
          "color": "#FFA15A",
          "pattern": {
           "shape": ""
          }
         },
         "name": "6.842",
         "nbinsx": 30,
         "offsetgroup": "6.842",
         "orientation": "v",
         "showlegend": true,
         "type": "histogram",
         "x": [
          30.1
         ],
         "xaxis": "x",
         "yaxis": "y"
        },
        {
         "alignmentgroup": "True",
         "bingroup": "x",
         "hovertemplate": "RM=6.849<br>MEDV=%{x}<br>count=%{y}<extra></extra>",
         "legendgroup": "6.849",
         "marker": {
          "color": "#19d3f3",
          "pattern": {
           "shape": ""
          }
         },
         "name": "6.849",
         "nbinsx": 30,
         "offsetgroup": "6.849",
         "orientation": "v",
         "showlegend": true,
         "type": "histogram",
         "x": [
          28.2
         ],
         "xaxis": "x",
         "yaxis": "y"
        },
        {
         "alignmentgroup": "True",
         "bingroup": "x",
         "hovertemplate": "RM=6.852<br>MEDV=%{x}<br>count=%{y}<extra></extra>",
         "legendgroup": "6.852",
         "marker": {
          "color": "#FF6692",
          "pattern": {
           "shape": ""
          }
         },
         "name": "6.852",
         "nbinsx": 30,
         "offsetgroup": "6.852",
         "orientation": "v",
         "showlegend": true,
         "type": "histogram",
         "x": [
          27.5
         ],
         "xaxis": "x",
         "yaxis": "y"
        },
        {
         "alignmentgroup": "True",
         "bingroup": "x",
         "hovertemplate": "RM=6.854<br>MEDV=%{x}<br>count=%{y}<extra></extra>",
         "legendgroup": "6.854",
         "marker": {
          "color": "#B6E880",
          "pattern": {
           "shape": ""
          }
         },
         "name": "6.854",
         "nbinsx": 30,
         "offsetgroup": "6.854",
         "orientation": "v",
         "showlegend": true,
         "type": "histogram",
         "x": [
          32
         ],
         "xaxis": "x",
         "yaxis": "y"
        },
        {
         "alignmentgroup": "True",
         "bingroup": "x",
         "hovertemplate": "RM=6.86<br>MEDV=%{x}<br>count=%{y}<extra></extra>",
         "legendgroup": "6.86",
         "marker": {
          "color": "#FF97FF",
          "pattern": {
           "shape": ""
          }
         },
         "name": "6.86",
         "nbinsx": 30,
         "offsetgroup": "6.86",
         "orientation": "v",
         "showlegend": true,
         "type": "histogram",
         "x": [
          29.9
         ],
         "xaxis": "x",
         "yaxis": "y"
        },
        {
         "alignmentgroup": "True",
         "bingroup": "x",
         "hovertemplate": "RM=6.861<br>MEDV=%{x}<br>count=%{y}<extra></extra>",
         "legendgroup": "6.861",
         "marker": {
          "color": "#FECB52",
          "pattern": {
           "shape": ""
          }
         },
         "name": "6.861",
         "nbinsx": 30,
         "offsetgroup": "6.861",
         "orientation": "v",
         "showlegend": true,
         "type": "histogram",
         "x": [
          28.5
         ],
         "xaxis": "x",
         "yaxis": "y"
        },
        {
         "alignmentgroup": "True",
         "bingroup": "x",
         "hovertemplate": "RM=6.871<br>MEDV=%{x}<br>count=%{y}<extra></extra>",
         "legendgroup": "6.871",
         "marker": {
          "color": "#636efa",
          "pattern": {
           "shape": ""
          }
         },
         "name": "6.871",
         "nbinsx": 30,
         "offsetgroup": "6.871",
         "orientation": "v",
         "showlegend": true,
         "type": "histogram",
         "x": [
          24.8
         ],
         "xaxis": "x",
         "yaxis": "y"
        },
        {
         "alignmentgroup": "True",
         "bingroup": "x",
         "hovertemplate": "RM=6.874<br>MEDV=%{x}<br>count=%{y}<extra></extra>",
         "legendgroup": "6.874",
         "marker": {
          "color": "#EF553B",
          "pattern": {
           "shape": ""
          }
         },
         "name": "6.874",
         "nbinsx": 30,
         "offsetgroup": "6.874",
         "orientation": "v",
         "showlegend": true,
         "type": "histogram",
         "x": [
          31.2
         ],
         "xaxis": "x",
         "yaxis": "y"
        },
        {
         "alignmentgroup": "True",
         "bingroup": "x",
         "hovertemplate": "RM=6.879<br>MEDV=%{x}<br>count=%{y}<extra></extra>",
         "legendgroup": "6.879",
         "marker": {
          "color": "#00cc96",
          "pattern": {
           "shape": ""
          }
         },
         "name": "6.879",
         "nbinsx": 30,
         "offsetgroup": "6.879",
         "orientation": "v",
         "showlegend": true,
         "type": "histogram",
         "x": [
          27.5
         ],
         "xaxis": "x",
         "yaxis": "y"
        },
        {
         "alignmentgroup": "True",
         "bingroup": "x",
         "hovertemplate": "RM=6.897<br>MEDV=%{x}<br>count=%{y}<extra></extra>",
         "legendgroup": "6.897",
         "marker": {
          "color": "#ab63fa",
          "pattern": {
           "shape": ""
          }
         },
         "name": "6.897",
         "nbinsx": 30,
         "offsetgroup": "6.897",
         "orientation": "v",
         "showlegend": true,
         "type": "histogram",
         "x": [
          22
         ],
         "xaxis": "x",
         "yaxis": "y"
        },
        {
         "alignmentgroup": "True",
         "bingroup": "x",
         "hovertemplate": "RM=6.939<br>MEDV=%{x}<br>count=%{y}<extra></extra>",
         "legendgroup": "6.939",
         "marker": {
          "color": "#FFA15A",
          "pattern": {
           "shape": ""
          }
         },
         "name": "6.939",
         "nbinsx": 30,
         "offsetgroup": "6.939",
         "orientation": "v",
         "showlegend": true,
         "type": "histogram",
         "x": [
          26.6
         ],
         "xaxis": "x",
         "yaxis": "y"
        },
        {
         "alignmentgroup": "True",
         "bingroup": "x",
         "hovertemplate": "RM=6.943<br>MEDV=%{x}<br>count=%{y}<extra></extra>",
         "legendgroup": "6.943",
         "marker": {
          "color": "#19d3f3",
          "pattern": {
           "shape": ""
          }
         },
         "name": "6.943",
         "nbinsx": 30,
         "offsetgroup": "6.943",
         "orientation": "v",
         "showlegend": true,
         "type": "histogram",
         "x": [
          41.3
         ],
         "xaxis": "x",
         "yaxis": "y"
        },
        {
         "alignmentgroup": "True",
         "bingroup": "x",
         "hovertemplate": "RM=6.951<br>MEDV=%{x}<br>count=%{y}<extra></extra>",
         "legendgroup": "6.951",
         "marker": {
          "color": "#FF6692",
          "pattern": {
           "shape": ""
          }
         },
         "name": "6.951",
         "nbinsx": 30,
         "offsetgroup": "6.951",
         "orientation": "v",
         "showlegend": true,
         "type": "histogram",
         "x": [
          26.7,
          37
         ],
         "xaxis": "x",
         "yaxis": "y"
        },
        {
         "alignmentgroup": "True",
         "bingroup": "x",
         "hovertemplate": "RM=6.957<br>MEDV=%{x}<br>count=%{y}<extra></extra>",
         "legendgroup": "6.957",
         "marker": {
          "color": "#B6E880",
          "pattern": {
           "shape": ""
          }
         },
         "name": "6.957",
         "nbinsx": 30,
         "offsetgroup": "6.957",
         "orientation": "v",
         "showlegend": true,
         "type": "histogram",
         "x": [
          29.6
         ],
         "xaxis": "x",
         "yaxis": "y"
        },
        {
         "alignmentgroup": "True",
         "bingroup": "x",
         "hovertemplate": "RM=6.968<br>MEDV=%{x}<br>count=%{y}<extra></extra>",
         "legendgroup": "6.968",
         "marker": {
          "color": "#FF97FF",
          "pattern": {
           "shape": ""
          }
         },
         "name": "6.968",
         "nbinsx": 30,
         "offsetgroup": "6.968",
         "orientation": "v",
         "showlegend": true,
         "type": "histogram",
         "x": [
          35.4,
          10.4
         ],
         "xaxis": "x",
         "yaxis": "y"
        },
        {
         "alignmentgroup": "True",
         "bingroup": "x",
         "hovertemplate": "RM=6.975<br>MEDV=%{x}<br>count=%{y}<extra></extra>",
         "legendgroup": "6.975",
         "marker": {
          "color": "#FECB52",
          "pattern": {
           "shape": ""
          }
         },
         "name": "6.975",
         "nbinsx": 30,
         "offsetgroup": "6.975",
         "orientation": "v",
         "showlegend": true,
         "type": "histogram",
         "x": [
          34.9
         ],
         "xaxis": "x",
         "yaxis": "y"
        },
        {
         "alignmentgroup": "True",
         "bingroup": "x",
         "hovertemplate": "RM=6.976<br>MEDV=%{x}<br>count=%{y}<extra></extra>",
         "legendgroup": "6.976",
         "marker": {
          "color": "#636efa",
          "pattern": {
           "shape": ""
          }
         },
         "name": "6.976",
         "nbinsx": 30,
         "offsetgroup": "6.976",
         "orientation": "v",
         "showlegend": true,
         "type": "histogram",
         "x": [
          23.9
         ],
         "xaxis": "x",
         "yaxis": "y"
        },
        {
         "alignmentgroup": "True",
         "bingroup": "x",
         "hovertemplate": "RM=6.98<br>MEDV=%{x}<br>count=%{y}<extra></extra>",
         "legendgroup": "6.98",
         "marker": {
          "color": "#EF553B",
          "pattern": {
           "shape": ""
          }
         },
         "name": "6.98",
         "nbinsx": 30,
         "offsetgroup": "6.98",
         "orientation": "v",
         "showlegend": true,
         "type": "histogram",
         "x": [
          37.2,
          29.8
         ],
         "xaxis": "x",
         "yaxis": "y"
        },
        {
         "alignmentgroup": "True",
         "bingroup": "x",
         "hovertemplate": "RM=6.982<br>MEDV=%{x}<br>count=%{y}<extra></extra>",
         "legendgroup": "6.982",
         "marker": {
          "color": "#00cc96",
          "pattern": {
           "shape": ""
          }
         },
         "name": "6.982",
         "nbinsx": 30,
         "offsetgroup": "6.982",
         "orientation": "v",
         "showlegend": true,
         "type": "histogram",
         "x": [
          33.1
         ],
         "xaxis": "x",
         "yaxis": "y"
        },
        {
         "alignmentgroup": "True",
         "bingroup": "x",
         "hovertemplate": "RM=6.998<br>MEDV=%{x}<br>count=%{y}<extra></extra>",
         "legendgroup": "6.998",
         "marker": {
          "color": "#ab63fa",
          "pattern": {
           "shape": ""
          }
         },
         "name": "6.998",
         "nbinsx": 30,
         "offsetgroup": "6.998",
         "orientation": "v",
         "showlegend": true,
         "type": "histogram",
         "x": [
          33.4
         ],
         "xaxis": "x",
         "yaxis": "y"
        },
        {
         "alignmentgroup": "True",
         "bingroup": "x",
         "hovertemplate": "RM=7.007<br>MEDV=%{x}<br>count=%{y}<extra></extra>",
         "legendgroup": "7.007",
         "marker": {
          "color": "#FFA15A",
          "pattern": {
           "shape": ""
          }
         },
         "name": "7.007",
         "nbinsx": 30,
         "offsetgroup": "7.007",
         "orientation": "v",
         "showlegend": true,
         "type": "histogram",
         "x": [
          23.6
         ],
         "xaxis": "x",
         "yaxis": "y"
        },
        {
         "alignmentgroup": "True",
         "bingroup": "x",
         "hovertemplate": "RM=7.014<br>MEDV=%{x}<br>count=%{y}<extra></extra>",
         "legendgroup": "7.014",
         "marker": {
          "color": "#19d3f3",
          "pattern": {
           "shape": ""
          }
         },
         "name": "7.014",
         "nbinsx": 30,
         "offsetgroup": "7.014",
         "orientation": "v",
         "showlegend": true,
         "type": "histogram",
         "x": [
          30.7
         ],
         "xaxis": "x",
         "yaxis": "y"
        },
        {
         "alignmentgroup": "True",
         "bingroup": "x",
         "hovertemplate": "RM=7.016<br>MEDV=%{x}<br>count=%{y}<extra></extra>",
         "legendgroup": "7.016",
         "marker": {
          "color": "#FF6692",
          "pattern": {
           "shape": ""
          }
         },
         "name": "7.016",
         "nbinsx": 30,
         "offsetgroup": "7.016",
         "orientation": "v",
         "showlegend": true,
         "type": "histogram",
         "x": [
          50
         ],
         "xaxis": "x",
         "yaxis": "y"
        },
        {
         "alignmentgroup": "True",
         "bingroup": "x",
         "hovertemplate": "RM=7.024<br>MEDV=%{x}<br>count=%{y}<extra></extra>",
         "legendgroup": "7.024",
         "marker": {
          "color": "#B6E880",
          "pattern": {
           "shape": ""
          }
         },
         "name": "7.024",
         "nbinsx": 30,
         "offsetgroup": "7.024",
         "orientation": "v",
         "showlegend": true,
         "type": "histogram",
         "x": [
          34.9
         ],
         "xaxis": "x",
         "yaxis": "y"
        },
        {
         "alignmentgroup": "True",
         "bingroup": "x",
         "hovertemplate": "RM=7.041<br>MEDV=%{x}<br>count=%{y}<extra></extra>",
         "legendgroup": "7.041",
         "marker": {
          "color": "#FF97FF",
          "pattern": {
           "shape": ""
          }
         },
         "name": "7.041",
         "nbinsx": 30,
         "offsetgroup": "7.041",
         "orientation": "v",
         "showlegend": true,
         "type": "histogram",
         "x": [
          29
         ],
         "xaxis": "x",
         "yaxis": "y"
        },
        {
         "alignmentgroup": "True",
         "bingroup": "x",
         "hovertemplate": "RM=7.061<br>MEDV=%{x}<br>count=%{y}<extra></extra>",
         "legendgroup": "7.061",
         "marker": {
          "color": "#FECB52",
          "pattern": {
           "shape": ""
          }
         },
         "name": "7.061",
         "nbinsx": 30,
         "offsetgroup": "7.061",
         "orientation": "v",
         "showlegend": true,
         "type": "histogram",
         "x": [
          25
         ],
         "xaxis": "x",
         "yaxis": "y"
        },
        {
         "alignmentgroup": "True",
         "bingroup": "x",
         "hovertemplate": "RM=7.079<br>MEDV=%{x}<br>count=%{y}<extra></extra>",
         "legendgroup": "7.079",
         "marker": {
          "color": "#636efa",
          "pattern": {
           "shape": ""
          }
         },
         "name": "7.079",
         "nbinsx": 30,
         "offsetgroup": "7.079",
         "orientation": "v",
         "showlegend": true,
         "type": "histogram",
         "x": [
          28.7
         ],
         "xaxis": "x",
         "yaxis": "y"
        },
        {
         "alignmentgroup": "True",
         "bingroup": "x",
         "hovertemplate": "RM=7.088<br>MEDV=%{x}<br>count=%{y}<extra></extra>",
         "legendgroup": "7.088",
         "marker": {
          "color": "#EF553B",
          "pattern": {
           "shape": ""
          }
         },
         "name": "7.088",
         "nbinsx": 30,
         "offsetgroup": "7.088",
         "orientation": "v",
         "showlegend": true,
         "type": "histogram",
         "x": [
          32.2
         ],
         "xaxis": "x",
         "yaxis": "y"
        },
        {
         "alignmentgroup": "True",
         "bingroup": "x",
         "hovertemplate": "RM=7.104<br>MEDV=%{x}<br>count=%{y}<extra></extra>",
         "legendgroup": "7.104",
         "marker": {
          "color": "#00cc96",
          "pattern": {
           "shape": ""
          }
         },
         "name": "7.104",
         "nbinsx": 30,
         "offsetgroup": "7.104",
         "orientation": "v",
         "showlegend": true,
         "type": "histogram",
         "x": [
          33
         ],
         "xaxis": "x",
         "yaxis": "y"
        },
        {
         "alignmentgroup": "True",
         "bingroup": "x",
         "hovertemplate": "RM=7.107<br>MEDV=%{x}<br>count=%{y}<extra></extra>",
         "legendgroup": "7.107",
         "marker": {
          "color": "#ab63fa",
          "pattern": {
           "shape": ""
          }
         },
         "name": "7.107",
         "nbinsx": 30,
         "offsetgroup": "7.107",
         "orientation": "v",
         "showlegend": true,
         "type": "histogram",
         "x": [
          30.3
         ],
         "xaxis": "x",
         "yaxis": "y"
        },
        {
         "alignmentgroup": "True",
         "bingroup": "x",
         "hovertemplate": "RM=7.135<br>MEDV=%{x}<br>count=%{y}<extra></extra>",
         "legendgroup": "7.135",
         "marker": {
          "color": "#FFA15A",
          "pattern": {
           "shape": ""
          }
         },
         "name": "7.135",
         "nbinsx": 30,
         "offsetgroup": "7.135",
         "orientation": "v",
         "showlegend": true,
         "type": "histogram",
         "x": [
          32.9
         ],
         "xaxis": "x",
         "yaxis": "y"
        },
        {
         "alignmentgroup": "True",
         "bingroup": "x",
         "hovertemplate": "RM=7.147<br>MEDV=%{x}<br>count=%{y}<extra></extra>",
         "legendgroup": "7.147",
         "marker": {
          "color": "#19d3f3",
          "pattern": {
           "shape": ""
          }
         },
         "name": "7.147",
         "nbinsx": 30,
         "offsetgroup": "7.147",
         "orientation": "v",
         "showlegend": true,
         "type": "histogram",
         "x": [
          36.2
         ],
         "xaxis": "x",
         "yaxis": "y"
        },
        {
         "alignmentgroup": "True",
         "bingroup": "x",
         "hovertemplate": "RM=7.148<br>MEDV=%{x}<br>count=%{y}<extra></extra>",
         "legendgroup": "7.148",
         "marker": {
          "color": "#FF6692",
          "pattern": {
           "shape": ""
          }
         },
         "name": "7.148",
         "nbinsx": 30,
         "offsetgroup": "7.148",
         "orientation": "v",
         "showlegend": true,
         "type": "histogram",
         "x": [
          37.3
         ],
         "xaxis": "x",
         "yaxis": "y"
        },
        {
         "alignmentgroup": "True",
         "bingroup": "x",
         "hovertemplate": "RM=7.155<br>MEDV=%{x}<br>count=%{y}<extra></extra>",
         "legendgroup": "7.155",
         "marker": {
          "color": "#B6E880",
          "pattern": {
           "shape": ""
          }
         },
         "name": "7.155",
         "nbinsx": 30,
         "offsetgroup": "7.155",
         "orientation": "v",
         "showlegend": true,
         "type": "histogram",
         "x": [
          37.9
         ],
         "xaxis": "x",
         "yaxis": "y"
        },
        {
         "alignmentgroup": "True",
         "bingroup": "x",
         "hovertemplate": "RM=7.163<br>MEDV=%{x}<br>count=%{y}<extra></extra>",
         "legendgroup": "7.163",
         "marker": {
          "color": "#FF97FF",
          "pattern": {
           "shape": ""
          }
         },
         "name": "7.163",
         "nbinsx": 30,
         "offsetgroup": "7.163",
         "orientation": "v",
         "showlegend": true,
         "type": "histogram",
         "x": [
          31.6
         ],
         "xaxis": "x",
         "yaxis": "y"
        },
        {
         "alignmentgroup": "True",
         "bingroup": "x",
         "hovertemplate": "RM=7.178<br>MEDV=%{x}<br>count=%{y}<extra></extra>",
         "legendgroup": "7.178",
         "marker": {
          "color": "#FECB52",
          "pattern": {
           "shape": ""
          }
         },
         "name": "7.178",
         "nbinsx": 30,
         "offsetgroup": "7.178",
         "orientation": "v",
         "showlegend": true,
         "type": "histogram",
         "x": [
          36.4
         ],
         "xaxis": "x",
         "yaxis": "y"
        },
        {
         "alignmentgroup": "True",
         "bingroup": "x",
         "hovertemplate": "RM=7.185<br>MEDV=%{x}<br>count=%{y}<extra></extra>",
         "legendgroup": "7.185",
         "marker": {
          "color": "#636efa",
          "pattern": {
           "shape": ""
          }
         },
         "name": "7.185",
         "nbinsx": 30,
         "offsetgroup": "7.185",
         "orientation": "v",
         "showlegend": true,
         "type": "histogram",
         "x": [
          34.7,
          34.9
         ],
         "xaxis": "x",
         "yaxis": "y"
        },
        {
         "alignmentgroup": "True",
         "bingroup": "x",
         "hovertemplate": "RM=7.203<br>MEDV=%{x}<br>count=%{y}<extra></extra>",
         "legendgroup": "7.203",
         "marker": {
          "color": "#EF553B",
          "pattern": {
           "shape": ""
          }
         },
         "name": "7.203",
         "nbinsx": 30,
         "offsetgroup": "7.203",
         "orientation": "v",
         "showlegend": true,
         "type": "histogram",
         "x": [
          33.8
         ],
         "xaxis": "x",
         "yaxis": "y"
        },
        {
         "alignmentgroup": "True",
         "bingroup": "x",
         "hovertemplate": "RM=7.206<br>MEDV=%{x}<br>count=%{y}<extra></extra>",
         "legendgroup": "7.206",
         "marker": {
          "color": "#00cc96",
          "pattern": {
           "shape": ""
          }
         },
         "name": "7.206",
         "nbinsx": 30,
         "offsetgroup": "7.206",
         "orientation": "v",
         "showlegend": true,
         "type": "histogram",
         "x": [
          36.5
         ],
         "xaxis": "x",
         "yaxis": "y"
        },
        {
         "alignmentgroup": "True",
         "bingroup": "x",
         "hovertemplate": "RM=7.236<br>MEDV=%{x}<br>count=%{y}<extra></extra>",
         "legendgroup": "7.236",
         "marker": {
          "color": "#ab63fa",
          "pattern": {
           "shape": ""
          }
         },
         "name": "7.236",
         "nbinsx": 30,
         "offsetgroup": "7.236",
         "orientation": "v",
         "showlegend": true,
         "type": "histogram",
         "x": [
          36.1
         ],
         "xaxis": "x",
         "yaxis": "y"
        },
        {
         "alignmentgroup": "True",
         "bingroup": "x",
         "hovertemplate": "RM=7.241<br>MEDV=%{x}<br>count=%{y}<extra></extra>",
         "legendgroup": "7.241",
         "marker": {
          "color": "#FFA15A",
          "pattern": {
           "shape": ""
          }
         },
         "name": "7.241",
         "nbinsx": 30,
         "offsetgroup": "7.241",
         "orientation": "v",
         "showlegend": true,
         "type": "histogram",
         "x": [
          32.7
         ],
         "xaxis": "x",
         "yaxis": "y"
        },
        {
         "alignmentgroup": "True",
         "bingroup": "x",
         "hovertemplate": "RM=7.249<br>MEDV=%{x}<br>count=%{y}<extra></extra>",
         "legendgroup": "7.249",
         "marker": {
          "color": "#19d3f3",
          "pattern": {
           "shape": ""
          }
         },
         "name": "7.249",
         "nbinsx": 30,
         "offsetgroup": "7.249",
         "orientation": "v",
         "showlegend": true,
         "type": "histogram",
         "x": [
          35.4
         ],
         "xaxis": "x",
         "yaxis": "y"
        },
        {
         "alignmentgroup": "True",
         "bingroup": "x",
         "hovertemplate": "RM=7.267<br>MEDV=%{x}<br>count=%{y}<extra></extra>",
         "legendgroup": "7.267",
         "marker": {
          "color": "#FF6692",
          "pattern": {
           "shape": ""
          }
         },
         "name": "7.267",
         "nbinsx": 30,
         "offsetgroup": "7.267",
         "orientation": "v",
         "showlegend": true,
         "type": "histogram",
         "x": [
          33.2
         ],
         "xaxis": "x",
         "yaxis": "y"
        },
        {
         "alignmentgroup": "True",
         "bingroup": "x",
         "hovertemplate": "RM=7.274<br>MEDV=%{x}<br>count=%{y}<extra></extra>",
         "legendgroup": "7.274",
         "marker": {
          "color": "#B6E880",
          "pattern": {
           "shape": ""
          }
         },
         "name": "7.274",
         "nbinsx": 30,
         "offsetgroup": "7.274",
         "orientation": "v",
         "showlegend": true,
         "type": "histogram",
         "x": [
          34.6
         ],
         "xaxis": "x",
         "yaxis": "y"
        },
        {
         "alignmentgroup": "True",
         "bingroup": "x",
         "hovertemplate": "RM=7.287<br>MEDV=%{x}<br>count=%{y}<extra></extra>",
         "legendgroup": "7.287",
         "marker": {
          "color": "#FF97FF",
          "pattern": {
           "shape": ""
          }
         },
         "name": "7.287",
         "nbinsx": 30,
         "offsetgroup": "7.287",
         "orientation": "v",
         "showlegend": true,
         "type": "histogram",
         "x": [
          33.3
         ],
         "xaxis": "x",
         "yaxis": "y"
        },
        {
         "alignmentgroup": "True",
         "bingroup": "x",
         "hovertemplate": "RM=7.313<br>MEDV=%{x}<br>count=%{y}<extra></extra>",
         "legendgroup": "7.313",
         "marker": {
          "color": "#FECB52",
          "pattern": {
           "shape": ""
          }
         },
         "name": "7.313",
         "nbinsx": 30,
         "offsetgroup": "7.313",
         "orientation": "v",
         "showlegend": true,
         "type": "histogram",
         "x": [
          15
         ],
         "xaxis": "x",
         "yaxis": "y"
        },
        {
         "alignmentgroup": "True",
         "bingroup": "x",
         "hovertemplate": "RM=7.327<br>MEDV=%{x}<br>count=%{y}<extra></extra>",
         "legendgroup": "7.327",
         "marker": {
          "color": "#636efa",
          "pattern": {
           "shape": ""
          }
         },
         "name": "7.327",
         "nbinsx": 30,
         "offsetgroup": "7.327",
         "orientation": "v",
         "showlegend": true,
         "type": "histogram",
         "x": [
          31
         ],
         "xaxis": "x",
         "yaxis": "y"
        },
        {
         "alignmentgroup": "True",
         "bingroup": "x",
         "hovertemplate": "RM=7.333<br>MEDV=%{x}<br>count=%{y}<extra></extra>",
         "legendgroup": "7.333",
         "marker": {
          "color": "#EF553B",
          "pattern": {
           "shape": ""
          }
         },
         "name": "7.333",
         "nbinsx": 30,
         "offsetgroup": "7.333",
         "orientation": "v",
         "showlegend": true,
         "type": "histogram",
         "x": [
          36
         ],
         "xaxis": "x",
         "yaxis": "y"
        },
        {
         "alignmentgroup": "True",
         "bingroup": "x",
         "hovertemplate": "RM=7.358<br>MEDV=%{x}<br>count=%{y}<extra></extra>",
         "legendgroup": "7.358",
         "marker": {
          "color": "#00cc96",
          "pattern": {
           "shape": ""
          }
         },
         "name": "7.358",
         "nbinsx": 30,
         "offsetgroup": "7.358",
         "orientation": "v",
         "showlegend": true,
         "type": "histogram",
         "x": [
          31.5
         ],
         "xaxis": "x",
         "yaxis": "y"
        },
        {
         "alignmentgroup": "True",
         "bingroup": "x",
         "hovertemplate": "RM=7.393<br>MEDV=%{x}<br>count=%{y}<extra></extra>",
         "legendgroup": "7.393",
         "marker": {
          "color": "#ab63fa",
          "pattern": {
           "shape": ""
          }
         },
         "name": "7.393",
         "nbinsx": 30,
         "offsetgroup": "7.393",
         "orientation": "v",
         "showlegend": true,
         "type": "histogram",
         "x": [
          17.8
         ],
         "xaxis": "x",
         "yaxis": "y"
        },
        {
         "alignmentgroup": "True",
         "bingroup": "x",
         "hovertemplate": "RM=7.412<br>MEDV=%{x}<br>count=%{y}<extra></extra>",
         "legendgroup": "7.412",
         "marker": {
          "color": "#FFA15A",
          "pattern": {
           "shape": ""
          }
         },
         "name": "7.412",
         "nbinsx": 30,
         "offsetgroup": "7.412",
         "orientation": "v",
         "showlegend": true,
         "type": "histogram",
         "x": [
          31.7
         ],
         "xaxis": "x",
         "yaxis": "y"
        },
        {
         "alignmentgroup": "True",
         "bingroup": "x",
         "hovertemplate": "RM=7.416<br>MEDV=%{x}<br>count=%{y}<extra></extra>",
         "legendgroup": "7.416",
         "marker": {
          "color": "#19d3f3",
          "pattern": {
           "shape": ""
          }
         },
         "name": "7.416",
         "nbinsx": 30,
         "offsetgroup": "7.416",
         "orientation": "v",
         "showlegend": true,
         "type": "histogram",
         "x": [
          33.2
         ],
         "xaxis": "x",
         "yaxis": "y"
        },
        {
         "alignmentgroup": "True",
         "bingroup": "x",
         "hovertemplate": "RM=7.42<br>MEDV=%{x}<br>count=%{y}<extra></extra>",
         "legendgroup": "7.42",
         "marker": {
          "color": "#FF6692",
          "pattern": {
           "shape": ""
          }
         },
         "name": "7.42",
         "nbinsx": 30,
         "offsetgroup": "7.42",
         "orientation": "v",
         "showlegend": true,
         "type": "histogram",
         "x": [
          33.4
         ],
         "xaxis": "x",
         "yaxis": "y"
        },
        {
         "alignmentgroup": "True",
         "bingroup": "x",
         "hovertemplate": "RM=7.454<br>MEDV=%{x}<br>count=%{y}<extra></extra>",
         "legendgroup": "7.454",
         "marker": {
          "color": "#B6E880",
          "pattern": {
           "shape": ""
          }
         },
         "name": "7.454",
         "nbinsx": 30,
         "offsetgroup": "7.454",
         "orientation": "v",
         "showlegend": true,
         "type": "histogram",
         "x": [
          44
         ],
         "xaxis": "x",
         "yaxis": "y"
        },
        {
         "alignmentgroup": "True",
         "bingroup": "x",
         "hovertemplate": "RM=7.47<br>MEDV=%{x}<br>count=%{y}<extra></extra>",
         "legendgroup": "7.47",
         "marker": {
          "color": "#FF97FF",
          "pattern": {
           "shape": ""
          }
         },
         "name": "7.47",
         "nbinsx": 30,
         "offsetgroup": "7.47",
         "orientation": "v",
         "showlegend": true,
         "type": "histogram",
         "x": [
          43.5
         ],
         "xaxis": "x",
         "yaxis": "y"
        },
        {
         "alignmentgroup": "True",
         "bingroup": "x",
         "hovertemplate": "RM=7.489<br>MEDV=%{x}<br>count=%{y}<extra></extra>",
         "legendgroup": "7.489",
         "marker": {
          "color": "#FECB52",
          "pattern": {
           "shape": ""
          }
         },
         "name": "7.489",
         "nbinsx": 30,
         "offsetgroup": "7.489",
         "orientation": "v",
         "showlegend": true,
         "type": "histogram",
         "x": [
          50
         ],
         "xaxis": "x",
         "yaxis": "y"
        },
        {
         "alignmentgroup": "True",
         "bingroup": "x",
         "hovertemplate": "RM=7.52<br>MEDV=%{x}<br>count=%{y}<extra></extra>",
         "legendgroup": "7.52",
         "marker": {
          "color": "#636efa",
          "pattern": {
           "shape": ""
          }
         },
         "name": "7.52",
         "nbinsx": 30,
         "offsetgroup": "7.52",
         "orientation": "v",
         "showlegend": true,
         "type": "histogram",
         "x": [
          43.1
         ],
         "xaxis": "x",
         "yaxis": "y"
        },
        {
         "alignmentgroup": "True",
         "bingroup": "x",
         "hovertemplate": "RM=7.61<br>MEDV=%{x}<br>count=%{y}<extra></extra>",
         "legendgroup": "7.61",
         "marker": {
          "color": "#EF553B",
          "pattern": {
           "shape": ""
          }
         },
         "name": "7.61",
         "nbinsx": 30,
         "offsetgroup": "7.61",
         "orientation": "v",
         "showlegend": true,
         "type": "histogram",
         "x": [
          42.3
         ],
         "xaxis": "x",
         "yaxis": "y"
        },
        {
         "alignmentgroup": "True",
         "bingroup": "x",
         "hovertemplate": "RM=7.645<br>MEDV=%{x}<br>count=%{y}<extra></extra>",
         "legendgroup": "7.645",
         "marker": {
          "color": "#00cc96",
          "pattern": {
           "shape": ""
          }
         },
         "name": "7.645",
         "nbinsx": 30,
         "offsetgroup": "7.645",
         "orientation": "v",
         "showlegend": true,
         "type": "histogram",
         "x": [
          46
         ],
         "xaxis": "x",
         "yaxis": "y"
        },
        {
         "alignmentgroup": "True",
         "bingroup": "x",
         "hovertemplate": "RM=7.686<br>MEDV=%{x}<br>count=%{y}<extra></extra>",
         "legendgroup": "7.686",
         "marker": {
          "color": "#ab63fa",
          "pattern": {
           "shape": ""
          }
         },
         "name": "7.686",
         "nbinsx": 30,
         "offsetgroup": "7.686",
         "orientation": "v",
         "showlegend": true,
         "type": "histogram",
         "x": [
          46.7
         ],
         "xaxis": "x",
         "yaxis": "y"
        },
        {
         "alignmentgroup": "True",
         "bingroup": "x",
         "hovertemplate": "RM=7.691<br>MEDV=%{x}<br>count=%{y}<extra></extra>",
         "legendgroup": "7.691",
         "marker": {
          "color": "#FFA15A",
          "pattern": {
           "shape": ""
          }
         },
         "name": "7.691",
         "nbinsx": 30,
         "offsetgroup": "7.691",
         "orientation": "v",
         "showlegend": true,
         "type": "histogram",
         "x": [
          35.2
         ],
         "xaxis": "x",
         "yaxis": "y"
        },
        {
         "alignmentgroup": "True",
         "bingroup": "x",
         "hovertemplate": "RM=7.765<br>MEDV=%{x}<br>count=%{y}<extra></extra>",
         "legendgroup": "7.765",
         "marker": {
          "color": "#19d3f3",
          "pattern": {
           "shape": ""
          }
         },
         "name": "7.765",
         "nbinsx": 30,
         "offsetgroup": "7.765",
         "orientation": "v",
         "showlegend": true,
         "type": "histogram",
         "x": [
          39.8
         ],
         "xaxis": "x",
         "yaxis": "y"
        },
        {
         "alignmentgroup": "True",
         "bingroup": "x",
         "hovertemplate": "RM=7.802<br>MEDV=%{x}<br>count=%{y}<extra></extra>",
         "legendgroup": "7.802",
         "marker": {
          "color": "#FF6692",
          "pattern": {
           "shape": ""
          }
         },
         "name": "7.802",
         "nbinsx": 30,
         "offsetgroup": "7.802",
         "orientation": "v",
         "showlegend": true,
         "type": "histogram",
         "x": [
          50
         ],
         "xaxis": "x",
         "yaxis": "y"
        },
        {
         "alignmentgroup": "True",
         "bingroup": "x",
         "hovertemplate": "RM=7.82<br>MEDV=%{x}<br>count=%{y}<extra></extra>",
         "legendgroup": "7.82",
         "marker": {
          "color": "#B6E880",
          "pattern": {
           "shape": ""
          }
         },
         "name": "7.82",
         "nbinsx": 30,
         "offsetgroup": "7.82",
         "orientation": "v",
         "showlegend": true,
         "type": "histogram",
         "x": [
          43.8,
          45.4
         ],
         "xaxis": "x",
         "yaxis": "y"
        },
        {
         "alignmentgroup": "True",
         "bingroup": "x",
         "hovertemplate": "RM=7.831<br>MEDV=%{x}<br>count=%{y}<extra></extra>",
         "legendgroup": "7.831",
         "marker": {
          "color": "#FF97FF",
          "pattern": {
           "shape": ""
          }
         },
         "name": "7.831",
         "nbinsx": 30,
         "offsetgroup": "7.831",
         "orientation": "v",
         "showlegend": true,
         "type": "histogram",
         "x": [
          50
         ],
         "xaxis": "x",
         "yaxis": "y"
        },
        {
         "alignmentgroup": "True",
         "bingroup": "x",
         "hovertemplate": "RM=7.853<br>MEDV=%{x}<br>count=%{y}<extra></extra>",
         "legendgroup": "7.853",
         "marker": {
          "color": "#FECB52",
          "pattern": {
           "shape": ""
          }
         },
         "name": "7.853",
         "nbinsx": 30,
         "offsetgroup": "7.853",
         "orientation": "v",
         "showlegend": true,
         "type": "histogram",
         "x": [
          48.5
         ],
         "xaxis": "x",
         "yaxis": "y"
        },
        {
         "alignmentgroup": "True",
         "bingroup": "x",
         "hovertemplate": "RM=7.875<br>MEDV=%{x}<br>count=%{y}<extra></extra>",
         "legendgroup": "7.875",
         "marker": {
          "color": "#636efa",
          "pattern": {
           "shape": ""
          }
         },
         "name": "7.875",
         "nbinsx": 30,
         "offsetgroup": "7.875",
         "orientation": "v",
         "showlegend": true,
         "type": "histogram",
         "x": [
          50
         ],
         "xaxis": "x",
         "yaxis": "y"
        },
        {
         "alignmentgroup": "True",
         "bingroup": "x",
         "hovertemplate": "RM=7.923<br>MEDV=%{x}<br>count=%{y}<extra></extra>",
         "legendgroup": "7.923",
         "marker": {
          "color": "#EF553B",
          "pattern": {
           "shape": ""
          }
         },
         "name": "7.923",
         "nbinsx": 30,
         "offsetgroup": "7.923",
         "orientation": "v",
         "showlegend": true,
         "type": "histogram",
         "x": [
          50
         ],
         "xaxis": "x",
         "yaxis": "y"
        },
        {
         "alignmentgroup": "True",
         "bingroup": "x",
         "hovertemplate": "RM=7.929<br>MEDV=%{x}<br>count=%{y}<extra></extra>",
         "legendgroup": "7.929",
         "marker": {
          "color": "#00cc96",
          "pattern": {
           "shape": ""
          }
         },
         "name": "7.929",
         "nbinsx": 30,
         "offsetgroup": "7.929",
         "orientation": "v",
         "showlegend": true,
         "type": "histogram",
         "x": [
          50
         ],
         "xaxis": "x",
         "yaxis": "y"
        },
        {
         "alignmentgroup": "True",
         "bingroup": "x",
         "hovertemplate": "RM=8.034<br>MEDV=%{x}<br>count=%{y}<extra></extra>",
         "legendgroup": "8.034",
         "marker": {
          "color": "#ab63fa",
          "pattern": {
           "shape": ""
          }
         },
         "name": "8.034",
         "nbinsx": 30,
         "offsetgroup": "8.034",
         "orientation": "v",
         "showlegend": true,
         "type": "histogram",
         "x": [
          50
         ],
         "xaxis": "x",
         "yaxis": "y"
        },
        {
         "alignmentgroup": "True",
         "bingroup": "x",
         "hovertemplate": "RM=8.04<br>MEDV=%{x}<br>count=%{y}<extra></extra>",
         "legendgroup": "8.04",
         "marker": {
          "color": "#FFA15A",
          "pattern": {
           "shape": ""
          }
         },
         "name": "8.04",
         "nbinsx": 30,
         "offsetgroup": "8.04",
         "orientation": "v",
         "showlegend": true,
         "type": "histogram",
         "x": [
          37.6
         ],
         "xaxis": "x",
         "yaxis": "y"
        },
        {
         "alignmentgroup": "True",
         "bingroup": "x",
         "hovertemplate": "RM=8.069<br>MEDV=%{x}<br>count=%{y}<extra></extra>",
         "legendgroup": "8.069",
         "marker": {
          "color": "#19d3f3",
          "pattern": {
           "shape": ""
          }
         },
         "name": "8.069",
         "nbinsx": 30,
         "offsetgroup": "8.069",
         "orientation": "v",
         "showlegend": true,
         "type": "histogram",
         "x": [
          38.7
         ],
         "xaxis": "x",
         "yaxis": "y"
        },
        {
         "alignmentgroup": "True",
         "bingroup": "x",
         "hovertemplate": "RM=8.247<br>MEDV=%{x}<br>count=%{y}<extra></extra>",
         "legendgroup": "8.247",
         "marker": {
          "color": "#FF6692",
          "pattern": {
           "shape": ""
          }
         },
         "name": "8.247",
         "nbinsx": 30,
         "offsetgroup": "8.247",
         "orientation": "v",
         "showlegend": true,
         "type": "histogram",
         "x": [
          48.3
         ],
         "xaxis": "x",
         "yaxis": "y"
        },
        {
         "alignmentgroup": "True",
         "bingroup": "x",
         "hovertemplate": "RM=8.259<br>MEDV=%{x}<br>count=%{y}<extra></extra>",
         "legendgroup": "8.259",
         "marker": {
          "color": "#B6E880",
          "pattern": {
           "shape": ""
          }
         },
         "name": "8.259",
         "nbinsx": 30,
         "offsetgroup": "8.259",
         "orientation": "v",
         "showlegend": true,
         "type": "histogram",
         "x": [
          42.8
         ],
         "xaxis": "x",
         "yaxis": "y"
        },
        {
         "alignmentgroup": "True",
         "bingroup": "x",
         "hovertemplate": "RM=8.266<br>MEDV=%{x}<br>count=%{y}<extra></extra>",
         "legendgroup": "8.266",
         "marker": {
          "color": "#FF97FF",
          "pattern": {
           "shape": ""
          }
         },
         "name": "8.266",
         "nbinsx": 30,
         "offsetgroup": "8.266",
         "orientation": "v",
         "showlegend": true,
         "type": "histogram",
         "x": [
          44.8
         ],
         "xaxis": "x",
         "yaxis": "y"
        },
        {
         "alignmentgroup": "True",
         "bingroup": "x",
         "hovertemplate": "RM=8.297<br>MEDV=%{x}<br>count=%{y}<extra></extra>",
         "legendgroup": "8.297",
         "marker": {
          "color": "#FECB52",
          "pattern": {
           "shape": ""
          }
         },
         "name": "8.297",
         "nbinsx": 30,
         "offsetgroup": "8.297",
         "orientation": "v",
         "showlegend": true,
         "type": "histogram",
         "x": [
          50
         ],
         "xaxis": "x",
         "yaxis": "y"
        },
        {
         "alignmentgroup": "True",
         "bingroup": "x",
         "hovertemplate": "RM=8.337<br>MEDV=%{x}<br>count=%{y}<extra></extra>",
         "legendgroup": "8.337",
         "marker": {
          "color": "#636efa",
          "pattern": {
           "shape": ""
          }
         },
         "name": "8.337",
         "nbinsx": 30,
         "offsetgroup": "8.337",
         "orientation": "v",
         "showlegend": true,
         "type": "histogram",
         "x": [
          41.7
         ],
         "xaxis": "x",
         "yaxis": "y"
        },
        {
         "alignmentgroup": "True",
         "bingroup": "x",
         "hovertemplate": "RM=8.375<br>MEDV=%{x}<br>count=%{y}<extra></extra>",
         "legendgroup": "8.375",
         "marker": {
          "color": "#EF553B",
          "pattern": {
           "shape": ""
          }
         },
         "name": "8.375",
         "nbinsx": 30,
         "offsetgroup": "8.375",
         "orientation": "v",
         "showlegend": true,
         "type": "histogram",
         "x": [
          50
         ],
         "xaxis": "x",
         "yaxis": "y"
        },
        {
         "alignmentgroup": "True",
         "bingroup": "x",
         "hovertemplate": "RM=8.398<br>MEDV=%{x}<br>count=%{y}<extra></extra>",
         "legendgroup": "8.398",
         "marker": {
          "color": "#00cc96",
          "pattern": {
           "shape": ""
          }
         },
         "name": "8.398",
         "nbinsx": 30,
         "offsetgroup": "8.398",
         "orientation": "v",
         "showlegend": true,
         "type": "histogram",
         "x": [
          48.8
         ],
         "xaxis": "x",
         "yaxis": "y"
        },
        {
         "alignmentgroup": "True",
         "bingroup": "x",
         "hovertemplate": "RM=8.704<br>MEDV=%{x}<br>count=%{y}<extra></extra>",
         "legendgroup": "8.704",
         "marker": {
          "color": "#ab63fa",
          "pattern": {
           "shape": ""
          }
         },
         "name": "8.704",
         "nbinsx": 30,
         "offsetgroup": "8.704",
         "orientation": "v",
         "showlegend": true,
         "type": "histogram",
         "x": [
          50
         ],
         "xaxis": "x",
         "yaxis": "y"
        },
        {
         "alignmentgroup": "True",
         "bingroup": "x",
         "hovertemplate": "RM=8.725<br>MEDV=%{x}<br>count=%{y}<extra></extra>",
         "legendgroup": "8.725",
         "marker": {
          "color": "#FFA15A",
          "pattern": {
           "shape": ""
          }
         },
         "name": "8.725",
         "nbinsx": 30,
         "offsetgroup": "8.725",
         "orientation": "v",
         "showlegend": true,
         "type": "histogram",
         "x": [
          50
         ],
         "xaxis": "x",
         "yaxis": "y"
        },
        {
         "alignmentgroup": "True",
         "bingroup": "x",
         "hovertemplate": "RM=8.78<br>MEDV=%{x}<br>count=%{y}<extra></extra>",
         "legendgroup": "8.78",
         "marker": {
          "color": "#19d3f3",
          "pattern": {
           "shape": ""
          }
         },
         "name": "8.78",
         "nbinsx": 30,
         "offsetgroup": "8.78",
         "orientation": "v",
         "showlegend": true,
         "type": "histogram",
         "x": [
          21.9
         ],
         "xaxis": "x",
         "yaxis": "y"
        }
       ],
       "layout": {
        "barmode": "relative",
        "legend": {
         "title": {
          "text": "RM"
         },
         "tracegroupgap": 0
        },
        "template": {
         "data": {
          "bar": [
           {
            "error_x": {
             "color": "#2a3f5f"
            },
            "error_y": {
             "color": "#2a3f5f"
            },
            "marker": {
             "line": {
              "color": "#E5ECF6",
              "width": 0.5
             },
             "pattern": {
              "fillmode": "overlay",
              "size": 10,
              "solidity": 0.2
             }
            },
            "type": "bar"
           }
          ],
          "barpolar": [
           {
            "marker": {
             "line": {
              "color": "#E5ECF6",
              "width": 0.5
             },
             "pattern": {
              "fillmode": "overlay",
              "size": 10,
              "solidity": 0.2
             }
            },
            "type": "barpolar"
           }
          ],
          "carpet": [
           {
            "aaxis": {
             "endlinecolor": "#2a3f5f",
             "gridcolor": "white",
             "linecolor": "white",
             "minorgridcolor": "white",
             "startlinecolor": "#2a3f5f"
            },
            "baxis": {
             "endlinecolor": "#2a3f5f",
             "gridcolor": "white",
             "linecolor": "white",
             "minorgridcolor": "white",
             "startlinecolor": "#2a3f5f"
            },
            "type": "carpet"
           }
          ],
          "choropleth": [
           {
            "colorbar": {
             "outlinewidth": 0,
             "ticks": ""
            },
            "type": "choropleth"
           }
          ],
          "contour": [
           {
            "colorbar": {
             "outlinewidth": 0,
             "ticks": ""
            },
            "colorscale": [
             [
              0,
              "#0d0887"
             ],
             [
              0.1111111111111111,
              "#46039f"
             ],
             [
              0.2222222222222222,
              "#7201a8"
             ],
             [
              0.3333333333333333,
              "#9c179e"
             ],
             [
              0.4444444444444444,
              "#bd3786"
             ],
             [
              0.5555555555555556,
              "#d8576b"
             ],
             [
              0.6666666666666666,
              "#ed7953"
             ],
             [
              0.7777777777777778,
              "#fb9f3a"
             ],
             [
              0.8888888888888888,
              "#fdca26"
             ],
             [
              1,
              "#f0f921"
             ]
            ],
            "type": "contour"
           }
          ],
          "contourcarpet": [
           {
            "colorbar": {
             "outlinewidth": 0,
             "ticks": ""
            },
            "type": "contourcarpet"
           }
          ],
          "heatmap": [
           {
            "colorbar": {
             "outlinewidth": 0,
             "ticks": ""
            },
            "colorscale": [
             [
              0,
              "#0d0887"
             ],
             [
              0.1111111111111111,
              "#46039f"
             ],
             [
              0.2222222222222222,
              "#7201a8"
             ],
             [
              0.3333333333333333,
              "#9c179e"
             ],
             [
              0.4444444444444444,
              "#bd3786"
             ],
             [
              0.5555555555555556,
              "#d8576b"
             ],
             [
              0.6666666666666666,
              "#ed7953"
             ],
             [
              0.7777777777777778,
              "#fb9f3a"
             ],
             [
              0.8888888888888888,
              "#fdca26"
             ],
             [
              1,
              "#f0f921"
             ]
            ],
            "type": "heatmap"
           }
          ],
          "heatmapgl": [
           {
            "colorbar": {
             "outlinewidth": 0,
             "ticks": ""
            },
            "colorscale": [
             [
              0,
              "#0d0887"
             ],
             [
              0.1111111111111111,
              "#46039f"
             ],
             [
              0.2222222222222222,
              "#7201a8"
             ],
             [
              0.3333333333333333,
              "#9c179e"
             ],
             [
              0.4444444444444444,
              "#bd3786"
             ],
             [
              0.5555555555555556,
              "#d8576b"
             ],
             [
              0.6666666666666666,
              "#ed7953"
             ],
             [
              0.7777777777777778,
              "#fb9f3a"
             ],
             [
              0.8888888888888888,
              "#fdca26"
             ],
             [
              1,
              "#f0f921"
             ]
            ],
            "type": "heatmapgl"
           }
          ],
          "histogram": [
           {
            "marker": {
             "pattern": {
              "fillmode": "overlay",
              "size": 10,
              "solidity": 0.2
             }
            },
            "type": "histogram"
           }
          ],
          "histogram2d": [
           {
            "colorbar": {
             "outlinewidth": 0,
             "ticks": ""
            },
            "colorscale": [
             [
              0,
              "#0d0887"
             ],
             [
              0.1111111111111111,
              "#46039f"
             ],
             [
              0.2222222222222222,
              "#7201a8"
             ],
             [
              0.3333333333333333,
              "#9c179e"
             ],
             [
              0.4444444444444444,
              "#bd3786"
             ],
             [
              0.5555555555555556,
              "#d8576b"
             ],
             [
              0.6666666666666666,
              "#ed7953"
             ],
             [
              0.7777777777777778,
              "#fb9f3a"
             ],
             [
              0.8888888888888888,
              "#fdca26"
             ],
             [
              1,
              "#f0f921"
             ]
            ],
            "type": "histogram2d"
           }
          ],
          "histogram2dcontour": [
           {
            "colorbar": {
             "outlinewidth": 0,
             "ticks": ""
            },
            "colorscale": [
             [
              0,
              "#0d0887"
             ],
             [
              0.1111111111111111,
              "#46039f"
             ],
             [
              0.2222222222222222,
              "#7201a8"
             ],
             [
              0.3333333333333333,
              "#9c179e"
             ],
             [
              0.4444444444444444,
              "#bd3786"
             ],
             [
              0.5555555555555556,
              "#d8576b"
             ],
             [
              0.6666666666666666,
              "#ed7953"
             ],
             [
              0.7777777777777778,
              "#fb9f3a"
             ],
             [
              0.8888888888888888,
              "#fdca26"
             ],
             [
              1,
              "#f0f921"
             ]
            ],
            "type": "histogram2dcontour"
           }
          ],
          "mesh3d": [
           {
            "colorbar": {
             "outlinewidth": 0,
             "ticks": ""
            },
            "type": "mesh3d"
           }
          ],
          "parcoords": [
           {
            "line": {
             "colorbar": {
              "outlinewidth": 0,
              "ticks": ""
             }
            },
            "type": "parcoords"
           }
          ],
          "pie": [
           {
            "automargin": true,
            "type": "pie"
           }
          ],
          "scatter": [
           {
            "fillpattern": {
             "fillmode": "overlay",
             "size": 10,
             "solidity": 0.2
            },
            "type": "scatter"
           }
          ],
          "scatter3d": [
           {
            "line": {
             "colorbar": {
              "outlinewidth": 0,
              "ticks": ""
             }
            },
            "marker": {
             "colorbar": {
              "outlinewidth": 0,
              "ticks": ""
             }
            },
            "type": "scatter3d"
           }
          ],
          "scattercarpet": [
           {
            "marker": {
             "colorbar": {
              "outlinewidth": 0,
              "ticks": ""
             }
            },
            "type": "scattercarpet"
           }
          ],
          "scattergeo": [
           {
            "marker": {
             "colorbar": {
              "outlinewidth": 0,
              "ticks": ""
             }
            },
            "type": "scattergeo"
           }
          ],
          "scattergl": [
           {
            "marker": {
             "colorbar": {
              "outlinewidth": 0,
              "ticks": ""
             }
            },
            "type": "scattergl"
           }
          ],
          "scattermapbox": [
           {
            "marker": {
             "colorbar": {
              "outlinewidth": 0,
              "ticks": ""
             }
            },
            "type": "scattermapbox"
           }
          ],
          "scatterpolar": [
           {
            "marker": {
             "colorbar": {
              "outlinewidth": 0,
              "ticks": ""
             }
            },
            "type": "scatterpolar"
           }
          ],
          "scatterpolargl": [
           {
            "marker": {
             "colorbar": {
              "outlinewidth": 0,
              "ticks": ""
             }
            },
            "type": "scatterpolargl"
           }
          ],
          "scatterternary": [
           {
            "marker": {
             "colorbar": {
              "outlinewidth": 0,
              "ticks": ""
             }
            },
            "type": "scatterternary"
           }
          ],
          "surface": [
           {
            "colorbar": {
             "outlinewidth": 0,
             "ticks": ""
            },
            "colorscale": [
             [
              0,
              "#0d0887"
             ],
             [
              0.1111111111111111,
              "#46039f"
             ],
             [
              0.2222222222222222,
              "#7201a8"
             ],
             [
              0.3333333333333333,
              "#9c179e"
             ],
             [
              0.4444444444444444,
              "#bd3786"
             ],
             [
              0.5555555555555556,
              "#d8576b"
             ],
             [
              0.6666666666666666,
              "#ed7953"
             ],
             [
              0.7777777777777778,
              "#fb9f3a"
             ],
             [
              0.8888888888888888,
              "#fdca26"
             ],
             [
              1,
              "#f0f921"
             ]
            ],
            "type": "surface"
           }
          ],
          "table": [
           {
            "cells": {
             "fill": {
              "color": "#EBF0F8"
             },
             "line": {
              "color": "white"
             }
            },
            "header": {
             "fill": {
              "color": "#C8D4E3"
             },
             "line": {
              "color": "white"
             }
            },
            "type": "table"
           }
          ]
         },
         "layout": {
          "annotationdefaults": {
           "arrowcolor": "#2a3f5f",
           "arrowhead": 0,
           "arrowwidth": 1
          },
          "autotypenumbers": "strict",
          "coloraxis": {
           "colorbar": {
            "outlinewidth": 0,
            "ticks": ""
           }
          },
          "colorscale": {
           "diverging": [
            [
             0,
             "#8e0152"
            ],
            [
             0.1,
             "#c51b7d"
            ],
            [
             0.2,
             "#de77ae"
            ],
            [
             0.3,
             "#f1b6da"
            ],
            [
             0.4,
             "#fde0ef"
            ],
            [
             0.5,
             "#f7f7f7"
            ],
            [
             0.6,
             "#e6f5d0"
            ],
            [
             0.7,
             "#b8e186"
            ],
            [
             0.8,
             "#7fbc41"
            ],
            [
             0.9,
             "#4d9221"
            ],
            [
             1,
             "#276419"
            ]
           ],
           "sequential": [
            [
             0,
             "#0d0887"
            ],
            [
             0.1111111111111111,
             "#46039f"
            ],
            [
             0.2222222222222222,
             "#7201a8"
            ],
            [
             0.3333333333333333,
             "#9c179e"
            ],
            [
             0.4444444444444444,
             "#bd3786"
            ],
            [
             0.5555555555555556,
             "#d8576b"
            ],
            [
             0.6666666666666666,
             "#ed7953"
            ],
            [
             0.7777777777777778,
             "#fb9f3a"
            ],
            [
             0.8888888888888888,
             "#fdca26"
            ],
            [
             1,
             "#f0f921"
            ]
           ],
           "sequentialminus": [
            [
             0,
             "#0d0887"
            ],
            [
             0.1111111111111111,
             "#46039f"
            ],
            [
             0.2222222222222222,
             "#7201a8"
            ],
            [
             0.3333333333333333,
             "#9c179e"
            ],
            [
             0.4444444444444444,
             "#bd3786"
            ],
            [
             0.5555555555555556,
             "#d8576b"
            ],
            [
             0.6666666666666666,
             "#ed7953"
            ],
            [
             0.7777777777777778,
             "#fb9f3a"
            ],
            [
             0.8888888888888888,
             "#fdca26"
            ],
            [
             1,
             "#f0f921"
            ]
           ]
          },
          "colorway": [
           "#636efa",
           "#EF553B",
           "#00cc96",
           "#ab63fa",
           "#FFA15A",
           "#19d3f3",
           "#FF6692",
           "#B6E880",
           "#FF97FF",
           "#FECB52"
          ],
          "font": {
           "color": "#2a3f5f"
          },
          "geo": {
           "bgcolor": "white",
           "lakecolor": "white",
           "landcolor": "#E5ECF6",
           "showlakes": true,
           "showland": true,
           "subunitcolor": "white"
          },
          "hoverlabel": {
           "align": "left"
          },
          "hovermode": "closest",
          "mapbox": {
           "style": "light"
          },
          "paper_bgcolor": "white",
          "plot_bgcolor": "#E5ECF6",
          "polar": {
           "angularaxis": {
            "gridcolor": "white",
            "linecolor": "white",
            "ticks": ""
           },
           "bgcolor": "#E5ECF6",
           "radialaxis": {
            "gridcolor": "white",
            "linecolor": "white",
            "ticks": ""
           }
          },
          "scene": {
           "xaxis": {
            "backgroundcolor": "#E5ECF6",
            "gridcolor": "white",
            "gridwidth": 2,
            "linecolor": "white",
            "showbackground": true,
            "ticks": "",
            "zerolinecolor": "white"
           },
           "yaxis": {
            "backgroundcolor": "#E5ECF6",
            "gridcolor": "white",
            "gridwidth": 2,
            "linecolor": "white",
            "showbackground": true,
            "ticks": "",
            "zerolinecolor": "white"
           },
           "zaxis": {
            "backgroundcolor": "#E5ECF6",
            "gridcolor": "white",
            "gridwidth": 2,
            "linecolor": "white",
            "showbackground": true,
            "ticks": "",
            "zerolinecolor": "white"
           }
          },
          "shapedefaults": {
           "line": {
            "color": "#2a3f5f"
           }
          },
          "ternary": {
           "aaxis": {
            "gridcolor": "white",
            "linecolor": "white",
            "ticks": ""
           },
           "baxis": {
            "gridcolor": "white",
            "linecolor": "white",
            "ticks": ""
           },
           "bgcolor": "#E5ECF6",
           "caxis": {
            "gridcolor": "white",
            "linecolor": "white",
            "ticks": ""
           }
          },
          "title": {
           "x": 0.05
          },
          "xaxis": {
           "automargin": true,
           "gridcolor": "white",
           "linecolor": "white",
           "ticks": "",
           "title": {
            "standoff": 15
           },
           "zerolinecolor": "white",
           "zerolinewidth": 2
          },
          "yaxis": {
           "automargin": true,
           "gridcolor": "white",
           "linecolor": "white",
           "ticks": "",
           "title": {
            "standoff": 15
           },
           "zerolinecolor": "white",
           "zerolinewidth": 2
          }
         }
        },
        "title": {
         "text": "Verteilung der Hauspreise in Boston"
        },
        "xaxis": {
         "anchor": "y",
         "domain": [
          0,
          1
         ],
         "title": {
          "text": "MEDV"
         }
        },
        "yaxis": {
         "anchor": "x",
         "domain": [
          0,
          1
         ],
         "title": {
          "text": "count"
         }
        }
       }
      }
     },
     "metadata": {},
     "output_type": "display_data"
    }
   ],
   "source": [
    "import plotly.express as px\n",
    "\n",
    "# Erstellen des Histogramms\n",
    "fig = px.histogram(df.sort_values(by='RM'), x='MEDV', nbins=30, color='RM',\n",
    "                   title='Verteilung der Hauspreise in Boston')\n",
    "\n",
    "fig.show()"
   ]
  },
  {
   "cell_type": "code",
   "execution_count": 31,
   "metadata": {},
   "outputs": [
    {
     "name": "stderr",
     "output_type": "stream",
     "text": [
      "/opt/homebrew/Caskroom/miniconda/base/envs/python39/lib/python3.9/site-packages/plotly/express/_core.py:279: FutureWarning:\n",
      "\n",
      "iteritems is deprecated and will be removed in a future version. Use .items instead.\n",
      "\n"
     ]
    },
    {
     "data": {
      "application/vnd.plotly.v1+json": {
       "config": {
        "plotlyServerURL": "https://plot.ly"
       },
       "data": [
        {
         "dimensions": [
          {
           "axis": {
            "matches": true
           },
           "label": "CRIM",
           "values": [
            0.00632,
            0.02731,
            0.02729,
            0.03237,
            0.06905,
            0.02985,
            0.08829,
            0.14455,
            0.21124,
            0.17004,
            0.22489,
            0.11747,
            0.09378,
            0.62976,
            0.63796,
            0.62739,
            1.05393,
            0.7842,
            0.80271,
            0.7258,
            1.25179,
            0.85204,
            1.23247,
            0.98843,
            0.75026,
            0.84054,
            0.67191,
            0.95577,
            0.77299,
            1.00245,
            1.13081,
            1.35472,
            1.38799,
            1.15172,
            1.61282,
            0.06417,
            0.09744,
            0.08014,
            0.17505,
            0.02763,
            0.03359,
            0.12744,
            0.1415,
            0.15936,
            0.12269,
            0.17142,
            0.18836,
            0.22927,
            0.25387,
            0.21977,
            0.08873,
            0.04337,
            0.0536,
            0.04981,
            0.0136,
            0.01311,
            0.02055,
            0.01432,
            0.15445,
            0.10328,
            0.14932,
            0.17171,
            0.11027,
            0.1265,
            0.01951,
            0.03584,
            0.04379,
            0.05789,
            0.13554,
            0.12816,
            0.08826,
            0.15876,
            0.09164,
            0.19539,
            0.07896,
            0.09512,
            0.10153,
            0.08707,
            0.05646,
            0.08387,
            0.04113,
            0.04462,
            0.03659,
            0.03551,
            0.05059,
            0.05735,
            0.05188,
            0.07151,
            0.0566,
            0.05302,
            0.04684,
            0.03932,
            0.04203,
            0.02875,
            0.04294,
            0.12204,
            0.11504,
            0.12083,
            0.08187,
            0.0686,
            0.14866,
            0.11432,
            0.22876,
            0.21161,
            0.1396,
            0.13262,
            0.1712,
            0.13117,
            0.12802,
            0.26363,
            0.10793,
            0.10084,
            0.12329,
            0.22212,
            0.14231,
            0.17134,
            0.13158,
            0.15098,
            0.13058,
            0.14476,
            0.06899,
            0.07165,
            0.09299,
            0.15038,
            0.09849,
            0.16902,
            0.38735,
            0.25915,
            0.32543,
            0.88125,
            0.34006,
            1.19294,
            0.59005,
            0.32982,
            0.97617,
            0.55778,
            0.32264,
            0.35233,
            0.2498,
            0.54452,
            0.2909,
            1.62864,
            3.32105,
            4.0974,
            2.77974,
            2.37934,
            2.15505,
            2.36862,
            2.33099,
            2.73397,
            1.6566,
            1.49632,
            1.12658,
            2.14918,
            1.41385,
            3.53501,
            2.44668,
            1.22358,
            1.34284,
            1.42502,
            1.27346,
            1.46336,
            1.83377,
            1.51902,
            2.24236,
            2.924,
            2.01019,
            1.80028,
            2.3004,
            2.44953,
            1.20742,
            2.3139,
            0.13914,
            0.09178,
            0.08447,
            0.06664,
            0.07022,
            0.05425,
            0.06642,
            0.0578,
            0.06588,
            0.06888,
            0.09103,
            0.10008,
            0.08308,
            0.06047,
            0.05602,
            0.07875,
            0.12579,
            0.0837,
            0.09068,
            0.06911,
            0.08664,
            0.02187,
            0.01439,
            0.01381,
            0.04011,
            0.04666,
            0.03768,
            0.0315,
            0.01778,
            0.03445,
            0.02177,
            0.0351,
            0.02009,
            0.13642,
            0.22969,
            0.25199,
            0.13587,
            0.43571,
            0.17446,
            0.37578,
            0.21719,
            0.14052,
            0.28955,
            0.19802,
            0.0456,
            0.07013,
            0.11069,
            0.11425,
            0.35809,
            0.40771,
            0.62356,
            0.6147,
            0.31533,
            0.52693,
            0.38214,
            0.41238,
            0.29819,
            0.44178,
            0.537,
            0.46296,
            0.57529,
            0.33147,
            0.44791,
            0.33045,
            0.52058,
            0.51183,
            0.08244,
            0.09252,
            0.11329,
            0.10612,
            0.1029,
            0.12757,
            0.20608,
            0.19133,
            0.33983,
            0.19657,
            0.16439,
            0.19073,
            0.1403,
            0.21409,
            0.08221,
            0.36894,
            0.04819,
            0.03548,
            0.01538,
            0.61154,
            0.66351,
            0.65665,
            0.54011,
            0.53412,
            0.52014,
            0.82526,
            0.55007,
            0.76162,
            0.7857,
            0.57834,
            0.5405,
            0.09065,
            0.29916,
            0.16211,
            0.1146,
            0.22188,
            0.05644,
            0.09604,
            0.10469,
            0.06127,
            0.07978,
            0.21038,
            0.03578,
            0.03705,
            0.06129,
            0.01501,
            0.00906,
            0.01096,
            0.01965,
            0.03871,
            0.0459,
            0.04297,
            0.03502,
            0.07886,
            0.03615,
            0.08265,
            0.08199,
            0.12932,
            0.05372,
            0.14103,
            0.06466,
            0.05561,
            0.04417,
            0.03537,
            0.09266,
            0.1,
            0.05515,
            0.05479,
            0.07503,
            0.04932,
            0.49298,
            0.3494,
            2.63548,
            0.79041,
            0.26169,
            0.26938,
            0.3692,
            0.25356,
            0.31827,
            0.24522,
            0.40202,
            0.47547,
            0.1676,
            0.18159,
            0.35114,
            0.28392,
            0.34109,
            0.19186,
            0.30347,
            0.24103,
            0.06617,
            0.06724,
            0.04544,
            0.05023,
            0.03466,
            0.05083,
            0.03738,
            0.03961,
            0.03427,
            0.03041,
            0.03306,
            0.05497,
            0.06151,
            0.01301,
            0.02498,
            0.02543,
            0.03049,
            0.03113,
            0.06162,
            0.0187,
            0.01501,
            0.02899,
            0.06211,
            0.0795,
            0.07244,
            0.01709,
            0.04301,
            0.10659,
            8.98296,
            3.8497,
            5.20177,
            4.26131,
            4.54192,
            3.83684,
            3.67822,
            4.22239,
            3.47428,
            4.55587,
            3.69695,
            13.5222,
            4.89822,
            5.66998,
            6.53876,
            9.2323,
            8.26725,
            11.1081,
            18.4982,
            19.6091,
            15.288,
            9.82349,
            23.6482,
            17.8667,
            88.9762,
            15.8744,
            9.18702,
            7.99248,
            20.0849,
            16.8118,
            24.3938,
            22.5971,
            14.3337,
            8.15174,
            6.96215,
            5.29305,
            11.5779,
            8.64476,
            13.3598,
            8.71675,
            5.87205,
            7.67202,
            38.3518,
            9.91655,
            25.0461,
            14.2362,
            9.59571,
            24.8017,
            41.5292,
            67.9208,
            20.7162,
            11.9511,
            7.40389,
            14.4383,
            51.1358,
            14.0507,
            18.811,
            28.6558,
            45.7461,
            18.0846,
            10.8342,
            25.9406,
            73.5341,
            11.8123,
            11.0874,
            7.02259,
            12.0482,
            7.05042,
            8.79212,
            15.8603,
            12.2472,
            37.6619,
            7.36711,
            9.33889,
            8.49213,
            10.0623,
            6.44405,
            5.58107,
            13.9134,
            11.1604,
            14.4208,
            15.1772,
            13.6781,
            9.39063,
            22.0511,
            9.72418,
            5.66637,
            9.96654,
            12.8023,
            10.6718,
            6.28807,
            9.92485,
            9.32909,
            7.52601,
            6.71772,
            5.44114,
            5.09017,
            8.24809,
            9.51363,
            4.75237,
            4.66883,
            8.20058,
            7.75223,
            6.80117,
            4.81213,
            3.69311,
            6.65492,
            5.82115,
            7.83932,
            3.1636,
            3.77498,
            4.42228,
            15.5757,
            13.0751,
            4.34879,
            4.03841,
            3.56868,
            4.64689,
            8.05579,
            6.39312,
            4.87141,
            15.0234,
            10.233,
            14.3337,
            5.82401,
            5.70818,
            5.73116,
            2.81838,
            2.37857,
            3.67367,
            5.69175,
            4.83567,
            0.15086,
            0.18337,
            0.20746,
            0.10574,
            0.11132,
            0.17331,
            0.27957,
            0.17899,
            0.2896,
            0.26838,
            0.23912,
            0.17783,
            0.22438,
            0.06263,
            0.04527,
            0.06076,
            0.10959,
            0.04741
           ]
          },
          {
           "axis": {
            "matches": true
           },
           "label": "ZN",
           "values": [
            18,
            0,
            0,
            0,
            0,
            0,
            12.5,
            12.5,
            12.5,
            12.5,
            12.5,
            12.5,
            12.5,
            0,
            0,
            0,
            0,
            0,
            0,
            0,
            0,
            0,
            0,
            0,
            0,
            0,
            0,
            0,
            0,
            0,
            0,
            0,
            0,
            0,
            0,
            0,
            0,
            0,
            0,
            75,
            75,
            0,
            0,
            0,
            0,
            0,
            0,
            0,
            0,
            0,
            21,
            21,
            21,
            21,
            75,
            90,
            85,
            100,
            25,
            25,
            25,
            25,
            25,
            25,
            17.5,
            80,
            80,
            12.5,
            12.5,
            12.5,
            0,
            0,
            0,
            0,
            0,
            0,
            0,
            0,
            0,
            0,
            25,
            25,
            25,
            25,
            0,
            0,
            0,
            0,
            0,
            0,
            0,
            0,
            28,
            28,
            28,
            0,
            0,
            0,
            0,
            0,
            0,
            0,
            0,
            0,
            0,
            0,
            0,
            0,
            0,
            0,
            0,
            0,
            0,
            0,
            0,
            0,
            0,
            0,
            0,
            0,
            0,
            0,
            0,
            0,
            0,
            0,
            0,
            0,
            0,
            0,
            0,
            0,
            0,
            0,
            0,
            0,
            0,
            0,
            0,
            0,
            0,
            0,
            0,
            0,
            0,
            0,
            0,
            0,
            0,
            0,
            0,
            0,
            0,
            0,
            0,
            0,
            0,
            0,
            0,
            0,
            0,
            0,
            0,
            0,
            0,
            0,
            0,
            0,
            0,
            0,
            0,
            0,
            0,
            0,
            0,
            0,
            0,
            0,
            0,
            0,
            0,
            0,
            0,
            0,
            0,
            0,
            0,
            45,
            45,
            45,
            45,
            45,
            45,
            60,
            60,
            80,
            80,
            80,
            80,
            95,
            95,
            82.5,
            82.5,
            95,
            95,
            0,
            0,
            0,
            0,
            0,
            0,
            0,
            0,
            0,
            0,
            0,
            0,
            0,
            0,
            0,
            0,
            0,
            0,
            0,
            0,
            0,
            0,
            0,
            0,
            0,
            0,
            0,
            0,
            0,
            0,
            0,
            0,
            0,
            30,
            30,
            30,
            30,
            30,
            30,
            22,
            22,
            22,
            22,
            22,
            22,
            22,
            22,
            22,
            22,
            80,
            80,
            90,
            20,
            20,
            20,
            20,
            20,
            20,
            20,
            20,
            20,
            20,
            20,
            20,
            20,
            20,
            20,
            20,
            20,
            40,
            40,
            40,
            40,
            40,
            20,
            20,
            20,
            20,
            90,
            90,
            55,
            80,
            52.5,
            52.5,
            52.5,
            80,
            80,
            80,
            0,
            0,
            0,
            0,
            0,
            70,
            70,
            70,
            34,
            34,
            34,
            33,
            33,
            33,
            33,
            0,
            0,
            0,
            0,
            0,
            0,
            0,
            0,
            0,
            0,
            0,
            0,
            0,
            0,
            0,
            0,
            0,
            0,
            0,
            0,
            0,
            0,
            0,
            35,
            35,
            0,
            0,
            0,
            0,
            0,
            0,
            0,
            0,
            35,
            0,
            55,
            55,
            0,
            0,
            85,
            80,
            40,
            40,
            60,
            60,
            90,
            80,
            80,
            0,
            0,
            0,
            0,
            0,
            0,
            0,
            0,
            0,
            0,
            0,
            0,
            0,
            0,
            0,
            0,
            0,
            0,
            0,
            0,
            0,
            0,
            0,
            0,
            0,
            0,
            0,
            0,
            0,
            0,
            0,
            0,
            0,
            0,
            0,
            0,
            0,
            0,
            0,
            0,
            0,
            0,
            0,
            0,
            0,
            0,
            0,
            0,
            0,
            0,
            0,
            0,
            0,
            0,
            0,
            0,
            0,
            0,
            0,
            0,
            0,
            0,
            0,
            0,
            0,
            0,
            0,
            0,
            0,
            0,
            0,
            0,
            0,
            0,
            0,
            0,
            0,
            0,
            0,
            0,
            0,
            0,
            0,
            0,
            0,
            0,
            0,
            0,
            0,
            0,
            0,
            0,
            0,
            0,
            0,
            0,
            0,
            0,
            0,
            0,
            0,
            0,
            0,
            0,
            0,
            0,
            0,
            0,
            0,
            0,
            0,
            0,
            0,
            0,
            0,
            0,
            0,
            0,
            0,
            0,
            0,
            0,
            0,
            0,
            0,
            0,
            0,
            0,
            0,
            0,
            0,
            0,
            0,
            0,
            0,
            0,
            0,
            0,
            0,
            0,
            0,
            0,
            0,
            0,
            0,
            0,
            0,
            0,
            0,
            0
           ]
          },
          {
           "axis": {
            "matches": true
           },
           "label": "INDUS",
           "values": [
            2.31,
            7.07,
            7.07,
            2.18,
            2.18,
            2.18,
            7.87,
            7.87,
            7.87,
            7.87,
            7.87,
            7.87,
            7.87,
            8.14,
            8.14,
            8.14,
            8.14,
            8.14,
            8.14,
            8.14,
            8.14,
            8.14,
            8.14,
            8.14,
            8.14,
            8.14,
            8.14,
            8.14,
            8.14,
            8.14,
            8.14,
            8.14,
            8.14,
            8.14,
            8.14,
            5.96,
            5.96,
            5.96,
            5.96,
            2.95,
            2.95,
            6.91,
            6.91,
            6.91,
            6.91,
            6.91,
            6.91,
            6.91,
            6.91,
            6.91,
            5.64,
            5.64,
            5.64,
            5.64,
            4,
            1.22,
            0.74,
            1.32,
            5.13,
            5.13,
            5.13,
            5.13,
            5.13,
            5.13,
            1.38,
            3.37,
            3.37,
            6.07,
            6.07,
            6.07,
            10.81,
            10.81,
            10.81,
            10.81,
            12.83,
            12.83,
            12.83,
            12.83,
            12.83,
            12.83,
            4.86,
            4.86,
            4.86,
            4.86,
            4.49,
            4.49,
            4.49,
            4.49,
            3.41,
            3.41,
            3.41,
            3.41,
            15.04,
            15.04,
            15.04,
            2.89,
            2.89,
            2.89,
            2.89,
            2.89,
            8.56,
            8.56,
            8.56,
            8.56,
            8.56,
            8.56,
            8.56,
            8.56,
            8.56,
            8.56,
            8.56,
            10.01,
            10.01,
            10.01,
            10.01,
            10.01,
            10.01,
            10.01,
            10.01,
            10.01,
            25.65,
            25.65,
            25.65,
            25.65,
            25.65,
            25.65,
            25.65,
            21.89,
            21.89,
            21.89,
            21.89,
            21.89,
            21.89,
            21.89,
            21.89,
            21.89,
            21.89,
            21.89,
            21.89,
            21.89,
            21.89,
            21.89,
            19.58,
            19.58,
            19.58,
            19.58,
            19.58,
            19.58,
            19.58,
            19.58,
            19.58,
            19.58,
            19.58,
            19.58,
            19.58,
            19.58,
            19.58,
            19.58,
            19.58,
            19.58,
            19.58,
            19.58,
            19.58,
            19.58,
            19.58,
            19.58,
            19.58,
            19.58,
            19.58,
            19.58,
            19.58,
            19.58,
            4.05,
            4.05,
            4.05,
            4.05,
            4.05,
            4.05,
            4.05,
            2.46,
            2.46,
            2.46,
            2.46,
            2.46,
            2.46,
            2.46,
            2.46,
            3.44,
            3.44,
            3.44,
            3.44,
            3.44,
            3.44,
            2.93,
            2.93,
            0.46,
            1.52,
            1.52,
            1.52,
            1.47,
            1.47,
            2.03,
            2.03,
            2.68,
            2.68,
            10.59,
            10.59,
            10.59,
            10.59,
            10.59,
            10.59,
            10.59,
            10.59,
            10.59,
            10.59,
            10.59,
            13.89,
            13.89,
            13.89,
            13.89,
            6.2,
            6.2,
            6.2,
            6.2,
            6.2,
            6.2,
            6.2,
            6.2,
            6.2,
            6.2,
            6.2,
            6.2,
            6.2,
            6.2,
            6.2,
            6.2,
            6.2,
            6.2,
            4.93,
            4.93,
            4.93,
            4.93,
            4.93,
            4.93,
            5.86,
            5.86,
            5.86,
            5.86,
            5.86,
            5.86,
            5.86,
            5.86,
            5.86,
            5.86,
            3.64,
            3.64,
            3.75,
            3.97,
            3.97,
            3.97,
            3.97,
            3.97,
            3.97,
            3.97,
            3.97,
            3.97,
            3.97,
            3.97,
            3.97,
            6.96,
            6.96,
            6.96,
            6.96,
            6.96,
            6.41,
            6.41,
            6.41,
            6.41,
            6.41,
            3.33,
            3.33,
            3.33,
            3.33,
            1.21,
            2.97,
            2.25,
            1.76,
            5.32,
            5.32,
            5.32,
            4.95,
            4.95,
            4.95,
            13.92,
            13.92,
            13.92,
            13.92,
            13.92,
            2.24,
            2.24,
            2.24,
            6.09,
            6.09,
            6.09,
            2.18,
            2.18,
            2.18,
            2.18,
            9.9,
            9.9,
            9.9,
            9.9,
            9.9,
            9.9,
            9.9,
            9.9,
            9.9,
            9.9,
            9.9,
            9.9,
            7.38,
            7.38,
            7.38,
            7.38,
            7.38,
            7.38,
            7.38,
            7.38,
            3.24,
            3.24,
            3.24,
            6.06,
            6.06,
            5.19,
            5.19,
            5.19,
            5.19,
            5.19,
            5.19,
            5.19,
            5.19,
            1.52,
            1.89,
            3.78,
            3.78,
            4.39,
            4.39,
            4.15,
            2.01,
            1.25,
            1.25,
            1.69,
            1.69,
            2.02,
            1.91,
            1.91,
            18.1,
            18.1,
            18.1,
            18.1,
            18.1,
            18.1,
            18.1,
            18.1,
            18.1,
            18.1,
            18.1,
            18.1,
            18.1,
            18.1,
            18.1,
            18.1,
            18.1,
            18.1,
            18.1,
            18.1,
            18.1,
            18.1,
            18.1,
            18.1,
            18.1,
            18.1,
            18.1,
            18.1,
            18.1,
            18.1,
            18.1,
            18.1,
            18.1,
            18.1,
            18.1,
            18.1,
            18.1,
            18.1,
            18.1,
            18.1,
            18.1,
            18.1,
            18.1,
            18.1,
            18.1,
            18.1,
            18.1,
            18.1,
            18.1,
            18.1,
            18.1,
            18.1,
            18.1,
            18.1,
            18.1,
            18.1,
            18.1,
            18.1,
            18.1,
            18.1,
            18.1,
            18.1,
            18.1,
            18.1,
            18.1,
            18.1,
            18.1,
            18.1,
            18.1,
            18.1,
            18.1,
            18.1,
            18.1,
            18.1,
            18.1,
            18.1,
            18.1,
            18.1,
            18.1,
            18.1,
            18.1,
            18.1,
            18.1,
            18.1,
            18.1,
            18.1,
            18.1,
            18.1,
            18.1,
            18.1,
            18.1,
            18.1,
            18.1,
            18.1,
            18.1,
            18.1,
            18.1,
            18.1,
            18.1,
            18.1,
            18.1,
            18.1,
            18.1,
            18.1,
            18.1,
            18.1,
            18.1,
            18.1,
            18.1,
            18.1,
            18.1,
            18.1,
            18.1,
            18.1,
            18.1,
            18.1,
            18.1,
            18.1,
            18.1,
            18.1,
            18.1,
            18.1,
            18.1,
            18.1,
            18.1,
            18.1,
            18.1,
            18.1,
            18.1,
            18.1,
            18.1,
            18.1,
            27.74,
            27.74,
            27.74,
            27.74,
            27.74,
            9.69,
            9.69,
            9.69,
            9.69,
            9.69,
            9.69,
            9.69,
            9.69,
            11.93,
            11.93,
            11.93,
            11.93,
            11.93
           ]
          },
          {
           "axis": {
            "matches": true
           },
           "label": "CHAS",
           "values": [
            0,
            0,
            0,
            0,
            0,
            0,
            0,
            0,
            0,
            0,
            0,
            0,
            0,
            0,
            0,
            0,
            0,
            0,
            0,
            0,
            0,
            0,
            0,
            0,
            0,
            0,
            0,
            0,
            0,
            0,
            0,
            0,
            0,
            0,
            0,
            0,
            0,
            0,
            0,
            0,
            0,
            0,
            0,
            0,
            0,
            0,
            0,
            0,
            0,
            0,
            0,
            0,
            0,
            0,
            0,
            0,
            0,
            0,
            0,
            0,
            0,
            0,
            0,
            0,
            0,
            0,
            0,
            0,
            0,
            0,
            0,
            0,
            0,
            0,
            0,
            0,
            0,
            0,
            0,
            0,
            0,
            0,
            0,
            0,
            0,
            0,
            0,
            0,
            0,
            0,
            0,
            0,
            0,
            0,
            0,
            0,
            0,
            0,
            0,
            0,
            0,
            0,
            0,
            0,
            0,
            0,
            0,
            0,
            0,
            0,
            0,
            0,
            0,
            0,
            0,
            0,
            0,
            0,
            0,
            0,
            0,
            0,
            0,
            0,
            0,
            0,
            0,
            0,
            0,
            0,
            0,
            0,
            0,
            0,
            0,
            0,
            0,
            0,
            0,
            0,
            0,
            0,
            1,
            0,
            0,
            0,
            0,
            0,
            0,
            0,
            0,
            0,
            1,
            0,
            1,
            1,
            0,
            0,
            0,
            0,
            1,
            0,
            1,
            1,
            0,
            0,
            0,
            0,
            0,
            0,
            0,
            0,
            0,
            0,
            0,
            0,
            0,
            0,
            0,
            0,
            0,
            0,
            0,
            0,
            0,
            0,
            0,
            0,
            0,
            0,
            0,
            0,
            0,
            0,
            0,
            0,
            0,
            0,
            0,
            0,
            0,
            0,
            0,
            0,
            0,
            0,
            0,
            0,
            1,
            1,
            1,
            1,
            1,
            0,
            0,
            0,
            1,
            0,
            1,
            1,
            1,
            1,
            1,
            0,
            0,
            0,
            0,
            0,
            0,
            0,
            0,
            0,
            0,
            0,
            1,
            0,
            1,
            0,
            0,
            0,
            0,
            0,
            0,
            0,
            0,
            0,
            0,
            0,
            0,
            0,
            0,
            0,
            0,
            0,
            0,
            0,
            0,
            0,
            0,
            0,
            0,
            0,
            0,
            0,
            0,
            0,
            0,
            0,
            0,
            1,
            0,
            0,
            0,
            1,
            1,
            0,
            1,
            1,
            0,
            0,
            0,
            0,
            1,
            1,
            0,
            0,
            0,
            0,
            0,
            0,
            0,
            0,
            0,
            0,
            0,
            0,
            0,
            0,
            0,
            0,
            0,
            0,
            0,
            0,
            0,
            0,
            0,
            0,
            0,
            0,
            0,
            0,
            0,
            0,
            0,
            0,
            0,
            0,
            0,
            0,
            0,
            0,
            0,
            0,
            0,
            0,
            0,
            0,
            0,
            0,
            0,
            0,
            0,
            0,
            0,
            0,
            0,
            0,
            0,
            0,
            0,
            0,
            0,
            0,
            0,
            0,
            0,
            0,
            0,
            0,
            0,
            0,
            0,
            0,
            0,
            0,
            1,
            1,
            1,
            0,
            0,
            0,
            0,
            1,
            1,
            0,
            0,
            0,
            0,
            1,
            1,
            0,
            1,
            0,
            0,
            0,
            0,
            0,
            0,
            0,
            0,
            0,
            0,
            0,
            0,
            0,
            0,
            0,
            0,
            0,
            0,
            0,
            0,
            0,
            0,
            0,
            0,
            0,
            0,
            0,
            0,
            0,
            0,
            0,
            0,
            0,
            0,
            0,
            0,
            0,
            0,
            0,
            0,
            0,
            0,
            0,
            0,
            0,
            0,
            0,
            0,
            0,
            0,
            0,
            0,
            0,
            0,
            0,
            0,
            0,
            0,
            0,
            0,
            0,
            0,
            0,
            0,
            0,
            0,
            0,
            0,
            0,
            0,
            0,
            0,
            0,
            0,
            0,
            0,
            0,
            0,
            0,
            0,
            0,
            0,
            0,
            0,
            0,
            0,
            0,
            0,
            0,
            0,
            0,
            0,
            0,
            0,
            0,
            0,
            0,
            0,
            0,
            0,
            0,
            0,
            0,
            0,
            0,
            0,
            0,
            0,
            0,
            0,
            0,
            0,
            0,
            0,
            0,
            0,
            0,
            0,
            0,
            0,
            0,
            0,
            0,
            0,
            0,
            0,
            0,
            0,
            0,
            0,
            0,
            0,
            0
           ]
          },
          {
           "axis": {
            "matches": true
           },
           "label": "NOX",
           "values": [
            0.538,
            0.469,
            0.469,
            0.458,
            0.458,
            0.458,
            0.524,
            0.524,
            0.524,
            0.524,
            0.524,
            0.524,
            0.524,
            0.538,
            0.538,
            0.538,
            0.538,
            0.538,
            0.538,
            0.538,
            0.538,
            0.538,
            0.538,
            0.538,
            0.538,
            0.538,
            0.538,
            0.538,
            0.538,
            0.538,
            0.538,
            0.538,
            0.538,
            0.538,
            0.538,
            0.499,
            0.499,
            0.499,
            0.499,
            0.428,
            0.428,
            0.448,
            0.448,
            0.448,
            0.448,
            0.448,
            0.448,
            0.448,
            0.448,
            0.448,
            0.439,
            0.439,
            0.439,
            0.439,
            0.41,
            0.403,
            0.41,
            0.411,
            0.453,
            0.453,
            0.453,
            0.453,
            0.453,
            0.453,
            0.4161,
            0.398,
            0.398,
            0.409,
            0.409,
            0.409,
            0.413,
            0.413,
            0.413,
            0.413,
            0.437,
            0.437,
            0.437,
            0.437,
            0.437,
            0.437,
            0.426,
            0.426,
            0.426,
            0.426,
            0.449,
            0.449,
            0.449,
            0.449,
            0.489,
            0.489,
            0.489,
            0.489,
            0.464,
            0.464,
            0.464,
            0.445,
            0.445,
            0.445,
            0.445,
            0.445,
            0.52,
            0.52,
            0.52,
            0.52,
            0.52,
            0.52,
            0.52,
            0.52,
            0.52,
            0.52,
            0.52,
            0.547,
            0.547,
            0.547,
            0.547,
            0.547,
            0.547,
            0.547,
            0.547,
            0.547,
            0.581,
            0.581,
            0.581,
            0.581,
            0.581,
            0.581,
            0.581,
            0.624,
            0.624,
            0.624,
            0.624,
            0.624,
            0.624,
            0.624,
            0.624,
            0.624,
            0.624,
            0.624,
            0.624,
            0.624,
            0.624,
            0.624,
            0.871,
            0.871,
            0.871,
            0.871,
            0.871,
            0.871,
            0.871,
            0.871,
            0.871,
            0.871,
            0.871,
            0.871,
            0.871,
            0.871,
            0.871,
            0.605,
            0.605,
            0.871,
            0.605,
            0.605,
            0.605,
            0.605,
            0.605,
            0.605,
            0.605,
            0.605,
            0.605,
            0.605,
            0.605,
            0.605,
            0.51,
            0.51,
            0.51,
            0.51,
            0.51,
            0.51,
            0.51,
            0.488,
            0.488,
            0.488,
            0.488,
            0.488,
            0.488,
            0.488,
            0.488,
            0.437,
            0.437,
            0.437,
            0.437,
            0.437,
            0.437,
            0.401,
            0.401,
            0.422,
            0.404,
            0.404,
            0.404,
            0.403,
            0.403,
            0.415,
            0.415,
            0.4161,
            0.4161,
            0.489,
            0.489,
            0.489,
            0.489,
            0.489,
            0.489,
            0.489,
            0.489,
            0.489,
            0.489,
            0.489,
            0.55,
            0.55,
            0.55,
            0.55,
            0.507,
            0.507,
            0.507,
            0.507,
            0.504,
            0.504,
            0.504,
            0.504,
            0.504,
            0.504,
            0.504,
            0.504,
            0.507,
            0.507,
            0.507,
            0.507,
            0.507,
            0.507,
            0.428,
            0.428,
            0.428,
            0.428,
            0.428,
            0.428,
            0.431,
            0.431,
            0.431,
            0.431,
            0.431,
            0.431,
            0.431,
            0.431,
            0.431,
            0.431,
            0.392,
            0.392,
            0.394,
            0.647,
            0.647,
            0.647,
            0.647,
            0.647,
            0.647,
            0.647,
            0.647,
            0.647,
            0.647,
            0.575,
            0.575,
            0.464,
            0.464,
            0.464,
            0.464,
            0.464,
            0.447,
            0.447,
            0.447,
            0.447,
            0.447,
            0.4429,
            0.4429,
            0.4429,
            0.4429,
            0.401,
            0.4,
            0.389,
            0.385,
            0.405,
            0.405,
            0.405,
            0.411,
            0.411,
            0.411,
            0.437,
            0.437,
            0.437,
            0.437,
            0.437,
            0.4,
            0.4,
            0.4,
            0.433,
            0.433,
            0.433,
            0.472,
            0.472,
            0.472,
            0.472,
            0.544,
            0.544,
            0.544,
            0.544,
            0.544,
            0.544,
            0.544,
            0.544,
            0.544,
            0.544,
            0.544,
            0.544,
            0.493,
            0.493,
            0.493,
            0.493,
            0.493,
            0.493,
            0.493,
            0.493,
            0.46,
            0.46,
            0.46,
            0.4379,
            0.4379,
            0.515,
            0.515,
            0.515,
            0.515,
            0.515,
            0.515,
            0.515,
            0.515,
            0.442,
            0.518,
            0.484,
            0.484,
            0.442,
            0.442,
            0.429,
            0.435,
            0.429,
            0.429,
            0.411,
            0.411,
            0.41,
            0.413,
            0.413,
            0.77,
            0.77,
            0.77,
            0.77,
            0.77,
            0.77,
            0.77,
            0.77,
            0.718,
            0.718,
            0.718,
            0.631,
            0.631,
            0.631,
            0.631,
            0.631,
            0.668,
            0.668,
            0.668,
            0.671,
            0.671,
            0.671,
            0.671,
            0.671,
            0.671,
            0.671,
            0.7,
            0.7,
            0.7,
            0.7,
            0.7,
            0.7,
            0.7,
            0.7,
            0.7,
            0.7,
            0.7,
            0.693,
            0.693,
            0.693,
            0.693,
            0.693,
            0.693,
            0.693,
            0.693,
            0.693,
            0.693,
            0.693,
            0.693,
            0.693,
            0.659,
            0.659,
            0.597,
            0.597,
            0.597,
            0.597,
            0.597,
            0.597,
            0.693,
            0.679,
            0.679,
            0.679,
            0.679,
            0.718,
            0.718,
            0.718,
            0.614,
            0.614,
            0.584,
            0.679,
            0.584,
            0.679,
            0.679,
            0.679,
            0.584,
            0.584,
            0.584,
            0.713,
            0.713,
            0.74,
            0.74,
            0.74,
            0.74,
            0.74,
            0.74,
            0.74,
            0.74,
            0.74,
            0.74,
            0.74,
            0.74,
            0.74,
            0.713,
            0.713,
            0.713,
            0.713,
            0.713,
            0.713,
            0.713,
            0.713,
            0.713,
            0.713,
            0.713,
            0.713,
            0.713,
            0.713,
            0.713,
            0.713,
            0.655,
            0.655,
            0.655,
            0.584,
            0.58,
            0.58,
            0.58,
            0.532,
            0.58,
            0.614,
            0.584,
            0.584,
            0.614,
            0.614,
            0.614,
            0.614,
            0.532,
            0.532,
            0.532,
            0.532,
            0.583,
            0.583,
            0.583,
            0.583,
            0.609,
            0.609,
            0.609,
            0.609,
            0.609,
            0.585,
            0.585,
            0.585,
            0.585,
            0.585,
            0.585,
            0.585,
            0.585,
            0.573,
            0.573,
            0.573,
            0.573,
            0.573
           ]
          },
          {
           "axis": {
            "matches": true
           },
           "label": "RM",
           "values": [
            6.575,
            6.421,
            7.185,
            6.998,
            7.147,
            6.43,
            6.012,
            6.172,
            5.631,
            6.004,
            6.377,
            6.009,
            5.889,
            5.949,
            6.096,
            5.834,
            5.935,
            5.99,
            5.456,
            5.727,
            5.57,
            5.965,
            6.142,
            5.813,
            5.924,
            5.599,
            5.813,
            6.047,
            6.495,
            6.674,
            5.713,
            6.072,
            5.95,
            5.701,
            6.096,
            5.933,
            5.841,
            5.85,
            5.966,
            6.595,
            7.024,
            6.77,
            6.169,
            6.211,
            6.069,
            5.682,
            5.786,
            6.03,
            5.399,
            5.602,
            5.963,
            6.115,
            6.511,
            5.998,
            5.888,
            7.249,
            6.383,
            6.816,
            6.145,
            5.927,
            5.741,
            5.966,
            6.456,
            6.762,
            7.104,
            6.29,
            5.787,
            5.878,
            5.594,
            5.885,
            6.417,
            5.961,
            6.065,
            6.245,
            6.273,
            6.286,
            6.279,
            6.14,
            6.232,
            5.874,
            6.727,
            6.619,
            6.302,
            6.167,
            6.389,
            6.63,
            6.015,
            6.121,
            7.007,
            7.079,
            6.417,
            6.405,
            6.442,
            6.211,
            6.249,
            6.625,
            6.163,
            8.069,
            7.82,
            7.416,
            6.727,
            6.781,
            6.405,
            6.137,
            6.167,
            5.851,
            5.836,
            6.127,
            6.474,
            6.229,
            6.195,
            6.715,
            5.913,
            6.092,
            6.254,
            5.928,
            6.176,
            6.021,
            5.872,
            5.731,
            5.87,
            6.004,
            5.961,
            5.856,
            5.879,
            5.986,
            5.613,
            5.693,
            6.431,
            5.637,
            6.458,
            6.326,
            6.372,
            5.822,
            5.757,
            6.335,
            5.942,
            6.454,
            5.857,
            6.151,
            6.174,
            5.019,
            5.403,
            5.468,
            4.903,
            6.13,
            5.628,
            4.926,
            5.186,
            5.597,
            6.122,
            5.404,
            5.012,
            5.709,
            6.129,
            6.152,
            5.272,
            6.943,
            6.066,
            6.51,
            6.25,
            7.489,
            7.802,
            8.375,
            5.854,
            6.101,
            7.929,
            5.877,
            6.319,
            6.402,
            5.875,
            5.88,
            5.572,
            6.416,
            5.859,
            6.546,
            6.02,
            6.315,
            6.86,
            6.98,
            7.765,
            6.144,
            7.155,
            6.563,
            5.604,
            6.153,
            7.831,
            6.782,
            6.556,
            7.185,
            6.951,
            6.739,
            7.178,
            6.8,
            6.604,
            7.875,
            7.287,
            7.107,
            7.274,
            6.975,
            7.135,
            6.162,
            7.61,
            7.853,
            8.034,
            5.891,
            6.326,
            5.783,
            6.064,
            5.344,
            5.96,
            5.404,
            5.807,
            6.375,
            5.412,
            6.182,
            5.888,
            6.642,
            5.951,
            6.373,
            6.951,
            6.164,
            6.879,
            6.618,
            8.266,
            8.725,
            8.04,
            7.163,
            7.686,
            6.552,
            5.981,
            7.412,
            8.337,
            8.247,
            6.726,
            6.086,
            6.631,
            7.358,
            6.481,
            6.606,
            6.897,
            6.095,
            6.358,
            6.393,
            5.593,
            5.605,
            6.108,
            6.226,
            6.433,
            6.718,
            6.487,
            6.438,
            6.957,
            8.259,
            6.108,
            5.876,
            7.454,
            8.704,
            7.333,
            6.842,
            7.203,
            7.52,
            8.398,
            7.327,
            7.206,
            5.56,
            7.014,
            8.297,
            7.47,
            5.92,
            5.856,
            6.24,
            6.538,
            7.691,
            6.758,
            6.854,
            7.267,
            6.826,
            6.482,
            6.812,
            7.82,
            6.968,
            7.645,
            7.923,
            7.088,
            6.453,
            6.23,
            6.209,
            6.315,
            6.565,
            6.861,
            7.148,
            6.63,
            6.127,
            6.009,
            6.678,
            6.549,
            5.79,
            6.345,
            7.041,
            6.871,
            6.59,
            6.495,
            6.982,
            7.236,
            6.616,
            7.42,
            6.849,
            6.635,
            5.972,
            4.973,
            6.122,
            6.023,
            6.266,
            6.567,
            5.705,
            5.914,
            5.782,
            6.382,
            6.113,
            6.426,
            6.376,
            6.041,
            5.708,
            6.415,
            6.431,
            6.312,
            6.083,
            5.868,
            6.333,
            6.144,
            5.706,
            6.031,
            6.316,
            6.31,
            6.037,
            5.869,
            5.895,
            6.059,
            5.985,
            5.968,
            7.241,
            6.54,
            6.696,
            6.874,
            6.014,
            5.898,
            6.516,
            6.635,
            6.939,
            6.49,
            6.579,
            5.884,
            6.728,
            5.663,
            5.936,
            6.212,
            6.395,
            6.127,
            6.112,
            6.398,
            6.251,
            5.362,
            5.803,
            8.78,
            3.561,
            4.963,
            3.863,
            4.97,
            6.683,
            7.016,
            6.216,
            5.875,
            4.906,
            4.138,
            7.313,
            6.649,
            6.794,
            6.38,
            6.223,
            6.968,
            6.545,
            5.536,
            5.52,
            4.368,
            5.277,
            4.652,
            5,
            4.88,
            5.39,
            5.713,
            6.051,
            5.036,
            6.193,
            5.887,
            6.471,
            6.405,
            5.747,
            5.453,
            5.852,
            5.987,
            6.343,
            6.404,
            5.349,
            5.531,
            5.683,
            4.138,
            5.608,
            5.617,
            6.852,
            5.757,
            6.657,
            4.628,
            5.155,
            4.519,
            6.434,
            6.782,
            5.304,
            5.957,
            6.824,
            6.411,
            6.006,
            5.648,
            6.103,
            5.565,
            5.896,
            5.837,
            6.202,
            6.193,
            6.38,
            6.348,
            6.833,
            6.425,
            6.436,
            6.208,
            6.629,
            6.461,
            6.152,
            5.935,
            5.627,
            5.818,
            6.406,
            6.219,
            6.485,
            5.854,
            6.459,
            6.341,
            6.251,
            6.185,
            6.417,
            6.749,
            6.655,
            6.297,
            7.393,
            6.728,
            6.525,
            5.976,
            5.936,
            6.301,
            6.081,
            6.701,
            6.376,
            6.317,
            6.513,
            6.209,
            5.759,
            5.952,
            6.003,
            5.926,
            5.713,
            6.167,
            6.229,
            6.437,
            6.98,
            5.427,
            6.162,
            6.484,
            5.304,
            6.185,
            6.229,
            6.242,
            6.75,
            7.061,
            5.762,
            5.871,
            6.312,
            6.114,
            5.905,
            5.454,
            5.414,
            5.093,
            5.983,
            5.983,
            5.707,
            5.926,
            5.67,
            5.39,
            5.794,
            6.019,
            5.569,
            6.027,
            6.593,
            6.12,
            6.976,
            6.794,
            6.03
           ]
          },
          {
           "axis": {
            "matches": true
           },
           "label": "AGE",
           "values": [
            65.2,
            78.9,
            61.1,
            45.8,
            54.2,
            58.7,
            66.6,
            96.1,
            100,
            85.9,
            94.3,
            82.9,
            39,
            61.8,
            84.5,
            56.5,
            29.3,
            81.7,
            36.6,
            69.5,
            98.1,
            89.2,
            91.7,
            100,
            94.1,
            85.7,
            90.3,
            88.8,
            94.4,
            87.3,
            94.1,
            100,
            82,
            95,
            96.9,
            68.2,
            61.4,
            41.5,
            30.2,
            21.8,
            15.8,
            2.9,
            6.6,
            6.5,
            40,
            33.8,
            33.3,
            85.5,
            95.3,
            62,
            45.7,
            63,
            21.1,
            21.4,
            47.6,
            21.9,
            35.7,
            40.5,
            29.2,
            47.2,
            66.2,
            93.4,
            67.8,
            43.4,
            59.5,
            17.8,
            31.1,
            21.4,
            36.8,
            33,
            6.6,
            17.5,
            7.8,
            6.2,
            6,
            45,
            74.5,
            45.8,
            53.7,
            36.6,
            33.5,
            70.4,
            32.2,
            46.7,
            48,
            56.1,
            45.1,
            56.8,
            86.3,
            63.1,
            66.1,
            73.9,
            53.6,
            28.9,
            77.3,
            57.8,
            69.6,
            76,
            36.9,
            62.5,
            79.9,
            71.3,
            85.4,
            87.4,
            90,
            96.7,
            91.9,
            85.2,
            97.1,
            91.2,
            54.4,
            81.6,
            92.9,
            95.4,
            84.2,
            88.2,
            72.5,
            82.6,
            73.1,
            65.2,
            69.7,
            84.1,
            92.9,
            97,
            95.8,
            88.4,
            95.6,
            96,
            98.8,
            94.7,
            98.9,
            97.7,
            97.9,
            95.4,
            98.4,
            98.2,
            93.5,
            98.4,
            98.2,
            97.9,
            93.6,
            100,
            100,
            100,
            97.8,
            100,
            100,
            95.7,
            93.8,
            94.9,
            97.3,
            100,
            88,
            98.5,
            96,
            82.6,
            94,
            97.4,
            100,
            100,
            92.6,
            90.8,
            98.2,
            93.9,
            91.8,
            93,
            96.2,
            79.2,
            96.1,
            95.2,
            94.6,
            97.3,
            88.5,
            84.1,
            68.7,
            33.1,
            47.2,
            73.4,
            74.4,
            58.4,
            83.3,
            62.2,
            92.2,
            95.6,
            89.8,
            68.8,
            53.6,
            41.1,
            29.1,
            38.9,
            21.5,
            30.8,
            26.3,
            9.9,
            18.8,
            32,
            34.1,
            36.6,
            38.3,
            15.3,
            13.9,
            38.4,
            15.7,
            33.2,
            31.9,
            22.3,
            52.5,
            72.7,
            59.1,
            100,
            92.1,
            88.6,
            53.8,
            32.3,
            9.8,
            42.4,
            56,
            85.1,
            93.8,
            92.4,
            88.5,
            91.3,
            77.7,
            80.8,
            78.3,
            83,
            86.5,
            79.9,
            17,
            21.4,
            68.1,
            76.9,
            73.3,
            70.4,
            66.5,
            61.5,
            76.5,
            71.6,
            18.5,
            42.2,
            54.3,
            65.1,
            52.9,
            7.8,
            76.5,
            70.2,
            34.9,
            79.2,
            49.1,
            17.5,
            13,
            8.9,
            6.8,
            8.4,
            32,
            19.1,
            34.2,
            86.9,
            100,
            100,
            81.8,
            89.4,
            91.5,
            94.5,
            91.6,
            62.8,
            84.6,
            67,
            52.6,
            61.5,
            42.1,
            16.3,
            58.7,
            51.8,
            32.9,
            42.8,
            49,
            27.6,
            32.1,
            32.2,
            64.5,
            37.2,
            49.7,
            24.8,
            20.8,
            31.9,
            31.5,
            31.3,
            45.6,
            22.9,
            27.9,
            27.7,
            23.4,
            18.4,
            42.3,
            31.1,
            51,
            58,
            20.1,
            10,
            47.4,
            40.4,
            18.4,
            17.7,
            41.1,
            58.1,
            71.9,
            70.3,
            82.5,
            76.7,
            37.8,
            52.8,
            90.4,
            82.8,
            87.3,
            77.7,
            83.2,
            71.7,
            67.2,
            58.8,
            52.3,
            54.3,
            49.9,
            74.3,
            40.1,
            14.7,
            28.9,
            43.7,
            25.8,
            17.2,
            32.2,
            28.4,
            23.3,
            38.1,
            38.5,
            34.5,
            46.3,
            59.6,
            37.3,
            45.4,
            58.5,
            49.3,
            59.7,
            56.4,
            28.1,
            48.5,
            52.3,
            27.7,
            29.7,
            34.5,
            44.4,
            35.9,
            18.5,
            36.1,
            21.9,
            19.5,
            97.4,
            91,
            83.4,
            81.3,
            88,
            91.1,
            96.2,
            89,
            82.9,
            87.9,
            91.4,
            100,
            100,
            96.8,
            97.5,
            100,
            89.6,
            100,
            100,
            97.9,
            93.3,
            98.8,
            96.2,
            100,
            91.9,
            99.1,
            100,
            100,
            91.2,
            98.1,
            100,
            89.5,
            100,
            98.9,
            97,
            82.5,
            97,
            92.6,
            94.7,
            98.8,
            96,
            98.9,
            100,
            77.8,
            100,
            100,
            100,
            96,
            85.4,
            100,
            100,
            100,
            97.9,
            100,
            100,
            100,
            100,
            100,
            100,
            100,
            90.8,
            89.1,
            100,
            76.5,
            100,
            95.3,
            87.6,
            85.1,
            70.6,
            95.4,
            59.7,
            78.7,
            78.1,
            95.6,
            86.1,
            94.3,
            74.8,
            87.9,
            95,
            94.6,
            93.3,
            100,
            87.9,
            93.9,
            92.4,
            97.2,
            100,
            100,
            96.6,
            94.8,
            96.4,
            96.6,
            98.7,
            98.3,
            92.6,
            98.2,
            91.8,
            99.3,
            94.1,
            86.5,
            87.9,
            80.3,
            83.7,
            84.4,
            90,
            88.4,
            83,
            89.9,
            65.4,
            48.2,
            84.7,
            94.5,
            71,
            56.7,
            84,
            90.7,
            75,
            67.6,
            95.4,
            97.4,
            93.6,
            97.3,
            96.7,
            88,
            64.7,
            74.9,
            77,
            40.3,
            41.9,
            51.9,
            79.8,
            53.2,
            92.7,
            98.3,
            98,
            98.8,
            83.5,
            54,
            42.6,
            28.8,
            72.9,
            70.6,
            65.3,
            73.5,
            79.7,
            69.1,
            76.7,
            91,
            89.3,
            80.8
           ]
          },
          {
           "axis": {
            "matches": true
           },
           "label": "DIS",
           "values": [
            4.09,
            4.9671,
            4.9671,
            6.0622,
            6.0622,
            6.0622,
            5.5605,
            5.9505,
            6.0821,
            6.5921,
            6.3467,
            6.2267,
            5.4509,
            4.7075,
            4.4619,
            4.4986,
            4.4986,
            4.2579,
            3.7965,
            3.7965,
            3.7979,
            4.0123,
            3.9769,
            4.0952,
            4.3996,
            4.4546,
            4.682,
            4.4534,
            4.4547,
            4.239,
            4.233,
            4.175,
            3.99,
            3.7872,
            3.7598,
            3.3603,
            3.3779,
            3.9342,
            3.8473,
            5.4011,
            5.4011,
            5.7209,
            5.7209,
            5.7209,
            5.7209,
            5.1004,
            5.1004,
            5.6894,
            5.87,
            6.0877,
            6.8147,
            6.8147,
            6.8147,
            6.8147,
            7.3197,
            8.6966,
            9.1876,
            8.3248,
            7.8148,
            6.932,
            7.2254,
            6.8185,
            7.2255,
            7.9809,
            9.2229,
            6.6115,
            6.6115,
            6.498,
            6.498,
            6.498,
            5.2873,
            5.2873,
            5.2873,
            5.2873,
            4.2515,
            4.5026,
            4.0522,
            4.0905,
            5.0141,
            4.5026,
            5.4007,
            5.4007,
            5.4007,
            5.4007,
            4.7794,
            4.4377,
            4.4272,
            3.7476,
            3.4217,
            3.4145,
            3.0923,
            3.0921,
            3.6659,
            3.6659,
            3.615,
            3.4952,
            3.4952,
            3.4952,
            3.4952,
            3.4952,
            2.7778,
            2.8561,
            2.7147,
            2.7147,
            2.421,
            2.1069,
            2.211,
            2.1224,
            2.4329,
            2.5451,
            2.7778,
            2.6775,
            2.3534,
            2.548,
            2.2565,
            2.4631,
            2.7301,
            2.7474,
            2.4775,
            2.7592,
            2.2577,
            2.1974,
            2.0869,
            1.9444,
            2.0063,
            1.9929,
            1.7572,
            1.7883,
            1.8125,
            1.9799,
            2.1185,
            2.271,
            2.3274,
            2.4699,
            2.346,
            2.1107,
            1.9669,
            1.8498,
            1.6686,
            1.6687,
            1.6119,
            1.4394,
            1.3216,
            1.4118,
            1.3459,
            1.4191,
            1.5166,
            1.4608,
            1.5296,
            1.5257,
            1.618,
            1.5916,
            1.6102,
            1.6232,
            1.7494,
            1.7455,
            1.7364,
            1.8773,
            1.7573,
            1.7659,
            1.7984,
            1.9709,
            2.0407,
            2.162,
            2.422,
            2.2834,
            2.0459,
            2.4259,
            2.1,
            2.2625,
            2.4259,
            2.3887,
            2.5961,
            2.6463,
            2.7019,
            3.1323,
            3.5549,
            3.3175,
            2.9153,
            2.829,
            2.741,
            2.5979,
            2.7006,
            2.847,
            2.9879,
            3.2797,
            3.1992,
            3.7886,
            4.5667,
            4.5667,
            6.4798,
            6.4798,
            6.4798,
            6.2196,
            6.2196,
            5.6484,
            7.309,
            7.309,
            7.309,
            7.6534,
            7.6534,
            6.27,
            6.27,
            5.118,
            5.118,
            3.9454,
            4.3549,
            4.3549,
            4.2392,
            3.875,
            3.8771,
            3.665,
            3.6526,
            3.9454,
            3.5875,
            3.9454,
            3.1121,
            3.4211,
            2.8893,
            3.3633,
            2.8617,
            3.048,
            3.2721,
            3.2721,
            2.8944,
            2.8944,
            3.2157,
            3.2157,
            3.3751,
            3.3751,
            3.6715,
            3.6715,
            3.8384,
            3.6519,
            3.6519,
            3.6519,
            4.148,
            4.148,
            6.1899,
            6.1899,
            6.3361,
            6.3361,
            7.0355,
            7.0355,
            7.9549,
            7.9549,
            8.0555,
            8.0555,
            7.8265,
            7.8265,
            7.3967,
            7.3967,
            8.9067,
            8.9067,
            9.2203,
            9.2203,
            6.3361,
            1.801,
            1.8946,
            2.0107,
            2.1121,
            2.1398,
            2.2885,
            2.0788,
            1.9301,
            1.9865,
            2.1329,
            2.4216,
            2.872,
            3.9175,
            4.429,
            4.429,
            3.9175,
            4.3665,
            4.0776,
            4.2673,
            4.7872,
            4.8628,
            4.1403,
            4.1007,
            4.6947,
            5.2447,
            5.2119,
            5.885,
            7.3073,
            7.3073,
            9.0892,
            7.3172,
            7.3172,
            7.3172,
            5.1167,
            5.1167,
            5.1167,
            5.5027,
            5.5027,
            5.9604,
            5.9604,
            6.32,
            7.8278,
            7.8278,
            7.8278,
            5.4917,
            5.4917,
            5.4917,
            4.022,
            3.37,
            3.0992,
            3.1827,
            3.3175,
            3.1025,
            2.5194,
            2.6403,
            2.834,
            3.2628,
            3.6023,
            3.945,
            3.9986,
            4.0317,
            3.5325,
            4.0019,
            4.5404,
            4.5404,
            4.7211,
            4.7211,
            4.7211,
            5.4159,
            5.4159,
            5.4159,
            5.2146,
            5.2146,
            5.8736,
            6.6407,
            6.6407,
            6.4584,
            6.4584,
            5.9853,
            5.2311,
            5.615,
            4.8122,
            4.8122,
            4.8122,
            7.0379,
            6.2669,
            5.7321,
            6.4654,
            8.0136,
            8.0136,
            8.5353,
            8.344,
            8.7921,
            8.7921,
            10.7103,
            10.7103,
            12.1265,
            10.5857,
            10.5857,
            2.1222,
            2.5052,
            2.7227,
            2.5091,
            2.5182,
            2.2955,
            2.1036,
            1.9047,
            1.9047,
            1.6132,
            1.7523,
            1.5106,
            1.3325,
            1.3567,
            1.2024,
            1.1691,
            1.1296,
            1.1742,
            1.137,
            1.3163,
            1.3449,
            1.358,
            1.3861,
            1.3861,
            1.4165,
            1.5192,
            1.5804,
            1.5331,
            1.4395,
            1.4261,
            1.4672,
            1.5184,
            1.5895,
            1.7281,
            1.9265,
            2.1678,
            1.77,
            1.7912,
            1.7821,
            1.7257,
            1.6768,
            1.6334,
            1.4896,
            1.5004,
            1.5888,
            1.5741,
            1.639,
            1.7028,
            1.6074,
            1.4254,
            1.1781,
            1.2852,
            1.4547,
            1.4655,
            1.413,
            1.5275,
            1.5539,
            1.5894,
            1.6582,
            1.8347,
            1.8195,
            1.6475,
            1.8026,
            1.794,
            1.8589,
            1.8746,
            1.9512,
            2.0218,
            2.0635,
            1.9096,
            1.9976,
            1.8629,
            1.9356,
            1.9682,
            2.0527,
            2.0882,
            2.2004,
            2.3158,
            2.2222,
            2.1247,
            2.0026,
            1.9142,
            1.8206,
            1.8172,
            1.8662,
            2.0651,
            2.0048,
            1.9784,
            1.8956,
            1.9879,
            2.072,
            2.198,
            2.2616,
            2.185,
            2.3236,
            2.3552,
            2.3682,
            2.4527,
            2.4961,
            2.4358,
            2.5806,
            2.7792,
            2.7831,
            2.7175,
            2.5975,
            2.5671,
            2.7344,
            2.8016,
            2.9634,
            3.0665,
            2.8715,
            2.5403,
            2.9084,
            2.8237,
            3.0334,
            3.0993,
            2.8965,
            2.5329,
            2.4298,
            2.206,
            2.3053,
            2.1007,
            2.1705,
            1.9512,
            3.4242,
            3.3317,
            3.4106,
            4.0983,
            3.724,
            3.9917,
            3.5459,
            3.1523,
            1.8209,
            1.7554,
            1.8226,
            1.8681,
            2.1099,
            2.3817,
            2.3817,
            2.7986,
            2.7986,
            2.8927,
            2.4091,
            2.3999,
            2.4982,
            2.4786,
            2.2875,
            2.1675,
            2.3889,
            2.505
           ]
          },
          {
           "axis": {
            "matches": true
           },
           "label": "RAD",
           "values": [
            1,
            2,
            2,
            3,
            3,
            3,
            5,
            5,
            5,
            5,
            5,
            5,
            5,
            4,
            4,
            4,
            4,
            4,
            4,
            4,
            4,
            4,
            4,
            4,
            4,
            4,
            4,
            4,
            4,
            4,
            4,
            4,
            4,
            4,
            4,
            5,
            5,
            5,
            5,
            3,
            3,
            3,
            3,
            3,
            3,
            3,
            3,
            3,
            3,
            3,
            4,
            4,
            4,
            4,
            3,
            5,
            2,
            5,
            8,
            8,
            8,
            8,
            8,
            8,
            3,
            4,
            4,
            4,
            4,
            4,
            4,
            4,
            4,
            4,
            5,
            5,
            5,
            5,
            5,
            5,
            4,
            4,
            4,
            4,
            3,
            3,
            3,
            3,
            2,
            2,
            2,
            2,
            4,
            4,
            4,
            2,
            2,
            2,
            2,
            2,
            5,
            5,
            5,
            5,
            5,
            5,
            5,
            5,
            5,
            5,
            5,
            6,
            6,
            6,
            6,
            6,
            6,
            6,
            6,
            6,
            2,
            2,
            2,
            2,
            2,
            2,
            2,
            4,
            4,
            4,
            4,
            4,
            4,
            4,
            4,
            4,
            4,
            4,
            4,
            4,
            4,
            4,
            5,
            5,
            5,
            5,
            5,
            5,
            5,
            5,
            5,
            5,
            5,
            5,
            5,
            5,
            5,
            5,
            5,
            5,
            5,
            5,
            5,
            5,
            5,
            5,
            5,
            5,
            5,
            5,
            5,
            5,
            5,
            5,
            5,
            5,
            5,
            5,
            5,
            3,
            3,
            3,
            3,
            3,
            3,
            3,
            3,
            5,
            5,
            5,
            5,
            5,
            5,
            1,
            1,
            4,
            2,
            2,
            2,
            3,
            3,
            2,
            2,
            4,
            4,
            4,
            4,
            4,
            4,
            4,
            4,
            4,
            4,
            4,
            4,
            4,
            5,
            5,
            5,
            5,
            8,
            8,
            8,
            8,
            8,
            8,
            8,
            8,
            8,
            8,
            8,
            8,
            8,
            8,
            8,
            8,
            8,
            8,
            6,
            6,
            6,
            6,
            6,
            6,
            7,
            7,
            7,
            7,
            7,
            7,
            7,
            7,
            7,
            7,
            1,
            1,
            3,
            5,
            5,
            5,
            5,
            5,
            5,
            5,
            5,
            5,
            5,
            5,
            5,
            3,
            3,
            3,
            3,
            3,
            4,
            4,
            4,
            4,
            4,
            5,
            5,
            5,
            5,
            1,
            1,
            1,
            1,
            6,
            6,
            6,
            4,
            4,
            4,
            4,
            4,
            4,
            4,
            4,
            5,
            5,
            5,
            7,
            7,
            7,
            7,
            7,
            7,
            7,
            4,
            4,
            4,
            4,
            4,
            4,
            4,
            4,
            4,
            4,
            4,
            4,
            5,
            5,
            5,
            5,
            5,
            5,
            5,
            5,
            4,
            4,
            4,
            1,
            1,
            5,
            5,
            5,
            5,
            5,
            5,
            5,
            5,
            1,
            1,
            5,
            5,
            3,
            3,
            4,
            4,
            1,
            1,
            4,
            4,
            5,
            4,
            4,
            24,
            24,
            24,
            24,
            24,
            24,
            24,
            24,
            24,
            24,
            24,
            24,
            24,
            24,
            24,
            24,
            24,
            24,
            24,
            24,
            24,
            24,
            24,
            24,
            24,
            24,
            24,
            24,
            24,
            24,
            24,
            24,
            24,
            24,
            24,
            24,
            24,
            24,
            24,
            24,
            24,
            24,
            24,
            24,
            24,
            24,
            24,
            24,
            24,
            24,
            24,
            24,
            24,
            24,
            24,
            24,
            24,
            24,
            24,
            24,
            24,
            24,
            24,
            24,
            24,
            24,
            24,
            24,
            24,
            24,
            24,
            24,
            24,
            24,
            24,
            24,
            24,
            24,
            24,
            24,
            24,
            24,
            24,
            24,
            24,
            24,
            24,
            24,
            24,
            24,
            24,
            24,
            24,
            24,
            24,
            24,
            24,
            24,
            24,
            24,
            24,
            24,
            24,
            24,
            24,
            24,
            24,
            24,
            24,
            24,
            24,
            24,
            24,
            24,
            24,
            24,
            24,
            24,
            24,
            24,
            24,
            24,
            24,
            24,
            24,
            24,
            24,
            24,
            24,
            24,
            24,
            24,
            4,
            4,
            4,
            4,
            4,
            6,
            6,
            6,
            6,
            6,
            6,
            6,
            6,
            1,
            1,
            1,
            1,
            1
           ]
          },
          {
           "axis": {
            "matches": true
           },
           "label": "TAX",
           "values": [
            296,
            242,
            242,
            222,
            222,
            222,
            311,
            311,
            311,
            311,
            311,
            311,
            311,
            307,
            307,
            307,
            307,
            307,
            307,
            307,
            307,
            307,
            307,
            307,
            307,
            307,
            307,
            307,
            307,
            307,
            307,
            307,
            307,
            307,
            307,
            279,
            279,
            279,
            279,
            252,
            252,
            233,
            233,
            233,
            233,
            233,
            233,
            233,
            233,
            233,
            243,
            243,
            243,
            243,
            469,
            226,
            313,
            256,
            284,
            284,
            284,
            284,
            284,
            284,
            216,
            337,
            337,
            345,
            345,
            345,
            305,
            305,
            305,
            305,
            398,
            398,
            398,
            398,
            398,
            398,
            281,
            281,
            281,
            281,
            247,
            247,
            247,
            247,
            270,
            270,
            270,
            270,
            270,
            270,
            270,
            276,
            276,
            276,
            276,
            276,
            384,
            384,
            384,
            384,
            384,
            384,
            384,
            384,
            384,
            384,
            384,
            432,
            432,
            432,
            432,
            432,
            432,
            432,
            432,
            432,
            188,
            188,
            188,
            188,
            188,
            188,
            188,
            437,
            437,
            437,
            437,
            437,
            437,
            437,
            437,
            437,
            437,
            437,
            437,
            437,
            437,
            437,
            403,
            403,
            403,
            403,
            403,
            403,
            403,
            403,
            403,
            403,
            403,
            403,
            403,
            403,
            403,
            403,
            403,
            403,
            403,
            403,
            403,
            403,
            403,
            403,
            403,
            403,
            403,
            403,
            403,
            403,
            296,
            296,
            296,
            296,
            296,
            296,
            296,
            193,
            193,
            193,
            193,
            193,
            193,
            193,
            193,
            398,
            398,
            398,
            398,
            398,
            398,
            265,
            265,
            255,
            329,
            329,
            329,
            402,
            402,
            348,
            348,
            224,
            224,
            277,
            277,
            277,
            277,
            277,
            277,
            277,
            277,
            277,
            277,
            277,
            276,
            276,
            276,
            276,
            307,
            307,
            307,
            307,
            307,
            307,
            307,
            307,
            307,
            307,
            307,
            307,
            307,
            307,
            307,
            307,
            307,
            307,
            300,
            300,
            300,
            300,
            300,
            300,
            330,
            330,
            330,
            330,
            330,
            330,
            330,
            330,
            330,
            330,
            315,
            315,
            244,
            264,
            264,
            264,
            264,
            264,
            264,
            264,
            264,
            264,
            264,
            264,
            264,
            223,
            223,
            223,
            223,
            223,
            254,
            254,
            254,
            254,
            254,
            216,
            216,
            216,
            216,
            198,
            285,
            300,
            241,
            293,
            293,
            293,
            245,
            245,
            245,
            289,
            289,
            289,
            289,
            289,
            358,
            358,
            358,
            329,
            329,
            329,
            222,
            222,
            222,
            222,
            304,
            304,
            304,
            304,
            304,
            304,
            304,
            304,
            304,
            304,
            304,
            304,
            287,
            287,
            287,
            287,
            287,
            287,
            287,
            287,
            430,
            430,
            430,
            304,
            304,
            224,
            224,
            224,
            224,
            224,
            224,
            224,
            224,
            284,
            422,
            370,
            370,
            352,
            352,
            351,
            280,
            335,
            335,
            411,
            411,
            187,
            334,
            334,
            666,
            666,
            666,
            666,
            666,
            666,
            666,
            666,
            666,
            666,
            666,
            666,
            666,
            666,
            666,
            666,
            666,
            666,
            666,
            666,
            666,
            666,
            666,
            666,
            666,
            666,
            666,
            666,
            666,
            666,
            666,
            666,
            666,
            666,
            666,
            666,
            666,
            666,
            666,
            666,
            666,
            666,
            666,
            666,
            666,
            666,
            666,
            666,
            666,
            666,
            666,
            666,
            666,
            666,
            666,
            666,
            666,
            666,
            666,
            666,
            666,
            666,
            666,
            666,
            666,
            666,
            666,
            666,
            666,
            666,
            666,
            666,
            666,
            666,
            666,
            666,
            666,
            666,
            666,
            666,
            666,
            666,
            666,
            666,
            666,
            666,
            666,
            666,
            666,
            666,
            666,
            666,
            666,
            666,
            666,
            666,
            666,
            666,
            666,
            666,
            666,
            666,
            666,
            666,
            666,
            666,
            666,
            666,
            666,
            666,
            666,
            666,
            666,
            666,
            666,
            666,
            666,
            666,
            666,
            666,
            666,
            666,
            666,
            666,
            666,
            666,
            666,
            666,
            666,
            666,
            666,
            666,
            711,
            711,
            711,
            711,
            711,
            391,
            391,
            391,
            391,
            391,
            391,
            391,
            391,
            273,
            273,
            273,
            273,
            273
           ]
          },
          {
           "axis": {
            "matches": true
           },
           "label": "PTRATIO",
           "values": [
            15.3,
            17.8,
            17.8,
            18.7,
            18.7,
            18.7,
            15.2,
            15.2,
            15.2,
            15.2,
            15.2,
            15.2,
            15.2,
            21,
            21,
            21,
            21,
            21,
            21,
            21,
            21,
            21,
            21,
            21,
            21,
            21,
            21,
            21,
            21,
            21,
            21,
            21,
            21,
            21,
            21,
            19.2,
            19.2,
            19.2,
            19.2,
            18.3,
            18.3,
            17.9,
            17.9,
            17.9,
            17.9,
            17.9,
            17.9,
            17.9,
            17.9,
            17.9,
            16.8,
            16.8,
            16.8,
            16.8,
            21.1,
            17.9,
            17.3,
            15.1,
            19.7,
            19.7,
            19.7,
            19.7,
            19.7,
            19.7,
            18.6,
            16.1,
            16.1,
            18.9,
            18.9,
            18.9,
            19.2,
            19.2,
            19.2,
            19.2,
            18.7,
            18.7,
            18.7,
            18.7,
            18.7,
            18.7,
            19,
            19,
            19,
            19,
            18.5,
            18.5,
            18.5,
            18.5,
            17.8,
            17.8,
            17.8,
            17.8,
            18.2,
            18.2,
            18.2,
            18,
            18,
            18,
            18,
            18,
            20.9,
            20.9,
            20.9,
            20.9,
            20.9,
            20.9,
            20.9,
            20.9,
            20.9,
            20.9,
            20.9,
            17.8,
            17.8,
            17.8,
            17.8,
            17.8,
            17.8,
            17.8,
            17.8,
            17.8,
            19.1,
            19.1,
            19.1,
            19.1,
            19.1,
            19.1,
            19.1,
            21.2,
            21.2,
            21.2,
            21.2,
            21.2,
            21.2,
            21.2,
            21.2,
            21.2,
            21.2,
            21.2,
            21.2,
            21.2,
            21.2,
            21.2,
            14.7,
            14.7,
            14.7,
            14.7,
            14.7,
            14.7,
            14.7,
            14.7,
            14.7,
            14.7,
            14.7,
            14.7,
            14.7,
            14.7,
            14.7,
            14.7,
            14.7,
            14.7,
            14.7,
            14.7,
            14.7,
            14.7,
            14.7,
            14.7,
            14.7,
            14.7,
            14.7,
            14.7,
            14.7,
            14.7,
            16.6,
            16.6,
            16.6,
            16.6,
            16.6,
            16.6,
            16.6,
            17.8,
            17.8,
            17.8,
            17.8,
            17.8,
            17.8,
            17.8,
            17.8,
            15.2,
            15.2,
            15.2,
            15.2,
            15.2,
            15.2,
            15.6,
            15.6,
            14.4,
            12.6,
            12.6,
            12.6,
            17,
            17,
            14.7,
            14.7,
            14.7,
            14.7,
            18.6,
            18.6,
            18.6,
            18.6,
            18.6,
            18.6,
            18.6,
            18.6,
            18.6,
            18.6,
            18.6,
            16.4,
            16.4,
            16.4,
            16.4,
            17.4,
            17.4,
            17.4,
            17.4,
            17.4,
            17.4,
            17.4,
            17.4,
            17.4,
            17.4,
            17.4,
            17.4,
            17.4,
            17.4,
            17.4,
            17.4,
            17.4,
            17.4,
            16.6,
            16.6,
            16.6,
            16.6,
            16.6,
            16.6,
            19.1,
            19.1,
            19.1,
            19.1,
            19.1,
            19.1,
            19.1,
            19.1,
            19.1,
            19.1,
            16.4,
            16.4,
            15.9,
            13,
            13,
            13,
            13,
            13,
            13,
            13,
            13,
            13,
            13,
            13,
            13,
            18.6,
            18.6,
            18.6,
            18.6,
            18.6,
            17.6,
            17.6,
            17.6,
            17.6,
            17.6,
            14.9,
            14.9,
            14.9,
            14.9,
            13.6,
            15.3,
            15.3,
            18.2,
            16.6,
            16.6,
            16.6,
            19.2,
            19.2,
            19.2,
            16,
            16,
            16,
            16,
            16,
            14.8,
            14.8,
            14.8,
            16.1,
            16.1,
            16.1,
            18.4,
            18.4,
            18.4,
            18.4,
            18.4,
            18.4,
            18.4,
            18.4,
            18.4,
            18.4,
            18.4,
            18.4,
            18.4,
            18.4,
            18.4,
            18.4,
            19.6,
            19.6,
            19.6,
            19.6,
            19.6,
            19.6,
            19.6,
            19.6,
            16.9,
            16.9,
            16.9,
            16.9,
            16.9,
            20.2,
            20.2,
            20.2,
            20.2,
            20.2,
            20.2,
            20.2,
            20.2,
            15.5,
            15.9,
            17.6,
            17.6,
            18.8,
            18.8,
            17.9,
            17,
            19.7,
            19.7,
            18.3,
            18.3,
            17,
            22,
            22,
            20.2,
            20.2,
            20.2,
            20.2,
            20.2,
            20.2,
            20.2,
            20.2,
            20.2,
            20.2,
            20.2,
            20.2,
            20.2,
            20.2,
            20.2,
            20.2,
            20.2,
            20.2,
            20.2,
            20.2,
            20.2,
            20.2,
            20.2,
            20.2,
            20.2,
            20.2,
            20.2,
            20.2,
            20.2,
            20.2,
            20.2,
            20.2,
            20.2,
            20.2,
            20.2,
            20.2,
            20.2,
            20.2,
            20.2,
            20.2,
            20.2,
            20.2,
            20.2,
            20.2,
            20.2,
            20.2,
            20.2,
            20.2,
            20.2,
            20.2,
            20.2,
            20.2,
            20.2,
            20.2,
            20.2,
            20.2,
            20.2,
            20.2,
            20.2,
            20.2,
            20.2,
            20.2,
            20.2,
            20.2,
            20.2,
            20.2,
            20.2,
            20.2,
            20.2,
            20.2,
            20.2,
            20.2,
            20.2,
            20.2,
            20.2,
            20.2,
            20.2,
            20.2,
            20.2,
            20.2,
            20.2,
            20.2,
            20.2,
            20.2,
            20.2,
            20.2,
            20.2,
            20.2,
            20.2,
            20.2,
            20.2,
            20.2,
            20.2,
            20.2,
            20.2,
            20.2,
            20.2,
            20.2,
            20.2,
            20.2,
            20.2,
            20.2,
            20.2,
            20.2,
            20.2,
            20.2,
            20.2,
            20.2,
            20.2,
            20.2,
            20.2,
            20.2,
            20.2,
            20.2,
            20.2,
            20.2,
            20.2,
            20.2,
            20.2,
            20.2,
            20.2,
            20.2,
            20.2,
            20.2,
            20.2,
            20.2,
            20.2,
            20.2,
            20.2,
            20.2,
            20.2,
            20.2,
            20.1,
            20.1,
            20.1,
            20.1,
            20.1,
            19.2,
            19.2,
            19.2,
            19.2,
            19.2,
            19.2,
            19.2,
            19.2,
            21,
            21,
            21,
            21,
            21
           ]
          },
          {
           "axis": {
            "matches": true
           },
           "label": "B",
           "values": [
            396.9,
            396.9,
            392.83,
            394.63,
            396.9,
            394.12,
            395.6,
            396.9,
            386.63,
            386.71,
            392.52,
            396.9,
            390.5,
            396.9,
            380.02,
            395.62,
            386.85,
            386.75,
            288.99,
            390.95,
            376.57,
            392.53,
            396.9,
            394.54,
            394.33,
            303.42,
            376.88,
            306.38,
            387.94,
            380.23,
            360.17,
            376.73,
            232.6,
            358.77,
            248.31,
            396.9,
            377.56,
            396.9,
            393.43,
            395.63,
            395.62,
            385.41,
            383.37,
            394.46,
            389.39,
            396.9,
            396.9,
            392.74,
            396.9,
            396.9,
            395.56,
            393.97,
            396.9,
            396.9,
            396.9,
            395.93,
            396.9,
            392.9,
            390.68,
            396.9,
            395.11,
            378.08,
            396.9,
            395.58,
            393.24,
            396.9,
            396.9,
            396.21,
            396.9,
            396.9,
            383.73,
            376.94,
            390.91,
            377.17,
            394.92,
            383.23,
            373.66,
            386.96,
            386.4,
            396.06,
            396.9,
            395.63,
            396.9,
            390.64,
            396.9,
            392.3,
            395.99,
            395.15,
            396.9,
            396.06,
            392.18,
            393.55,
            395.01,
            396.33,
            396.9,
            357.98,
            391.83,
            396.9,
            393.53,
            396.9,
            394.76,
            395.58,
            70.8,
            394.47,
            392.69,
            394.05,
            395.67,
            387.69,
            395.24,
            391.23,
            393.49,
            395.59,
            394.95,
            396.9,
            388.74,
            344.91,
            393.3,
            394.51,
            338.63,
            391.5,
            389.15,
            377.67,
            378.09,
            370.31,
            379.38,
            385.02,
            359.29,
            392.11,
            396.9,
            396.9,
            395.04,
            396.9,
            385.76,
            388.69,
            262.76,
            394.67,
            378.25,
            394.08,
            392.04,
            396.9,
            388.08,
            396.9,
            396.9,
            396.9,
            396.9,
            172.91,
            169.27,
            391.71,
            356.99,
            351.85,
            372.8,
            341.6,
            343.28,
            261.95,
            321.02,
            88.01,
            88.63,
            363.43,
            353.89,
            364.31,
            338.92,
            374.43,
            389.61,
            388.45,
            395.11,
            240.16,
            369.3,
            227.61,
            297.09,
            330.04,
            292.29,
            348.13,
            396.9,
            395.5,
            393.23,
            390.96,
            393.23,
            395.6,
            391.27,
            396.9,
            395.56,
            396.9,
            394.12,
            396.9,
            391,
            387.11,
            392.63,
            393.87,
            382.84,
            396.9,
            377.68,
            389.71,
            390.49,
            393.37,
            376.7,
            394.23,
            396.9,
            354.31,
            392.2,
            396.9,
            384.3,
            393.77,
            395.38,
            392.78,
            390.55,
            396.9,
            394.87,
            389.43,
            381.32,
            396.9,
            393.25,
            395.24,
            390.94,
            385.81,
            348.93,
            393.63,
            392.8,
            392.78,
            396.9,
            393.74,
            391.7,
            395.24,
            390.39,
            396.9,
            385.05,
            382,
            387.38,
            372.08,
            377.51,
            380.34,
            378.35,
            376.14,
            385.91,
            378.95,
            360.2,
            376.75,
            388.45,
            390.07,
            379.41,
            383.78,
            391.25,
            394.62,
            372.75,
            374.71,
            372.49,
            389.13,
            390.18,
            376.14,
            374.71,
            393.74,
            396.28,
            377.07,
            386.09,
            396.9,
            392.89,
            395.18,
            386.34,
            389.7,
            383.29,
            391.93,
            392.8,
            388.37,
            386.86,
            393.42,
            387.89,
            392.4,
            384.07,
            384.54,
            390.3,
            391.34,
            388.65,
            396.9,
            394.96,
            390.77,
            396.9,
            396.9,
            389.25,
            393.45,
            396.9,
            396.9,
            387.31,
            392.23,
            377.07,
            395.52,
            394.72,
            394.72,
            341.6,
            396.9,
            396.9,
            371.72,
            396.9,
            396.9,
            396.9,
            396.9,
            396.9,
            396.9,
            392.85,
            396.9,
            368.24,
            371.58,
            390.86,
            395.75,
            383.61,
            390.43,
            393.68,
            393.36,
            396.9,
            396.9,
            396.9,
            396.24,
            350.45,
            396.9,
            396.3,
            393.39,
            395.69,
            396.42,
            390.7,
            396.9,
            395.21,
            396.23,
            396.9,
            396.9,
            396.9,
            391.13,
            396.9,
            393.68,
            396.9,
            396.9,
            382.44,
            375.21,
            368.57,
            394.02,
            362.25,
            389.71,
            389.4,
            396.9,
            396.9,
            394.81,
            396.14,
            396.9,
            396.9,
            394.74,
            389.96,
            396.9,
            387.97,
            385.64,
            364.61,
            392.43,
            390.94,
            389.85,
            396.9,
            370.78,
            392.33,
            384.46,
            382.8,
            376.04,
            377.73,
            391.34,
            395.43,
            390.74,
            374.56,
            350.65,
            380.79,
            353.04,
            354.55,
            354.7,
            316.03,
            131.42,
            375.52,
            375.33,
            392.05,
            366.15,
            347.88,
            396.9,
            396.9,
            396.9,
            363.02,
            396.9,
            396.9,
            393.74,
            396.9,
            396.9,
            396.9,
            396.9,
            285.83,
            396.9,
            396.9,
            396.9,
            372.92,
            396.9,
            394.43,
            378.38,
            396.9,
            396.9,
            396.9,
            391.98,
            396.9,
            393.1,
            396.9,
            338.16,
            396.9,
            396.9,
            376.11,
            396.9,
            329.46,
            384.97,
            370.22,
            332.09,
            314.64,
            179.36,
            2.6,
            35.05,
            28.79,
            210.97,
            88.27,
            27.25,
            21.57,
            127.36,
            16.45,
            48.45,
            318.75,
            319.98,
            291.55,
            2.52,
            3.65,
            7.68,
            24.65,
            18.82,
            96.73,
            60.72,
            83.45,
            81.33,
            97.95,
            100.19,
            100.63,
            109.85,
            27.49,
            9.32,
            68.95,
            396.9,
            391.45,
            385.96,
            395.69,
            386.73,
            240.52,
            43.06,
            318.01,
            388.52,
            396.9,
            304.21,
            0.32,
            355.29,
            385.09,
            375.87,
            6.68,
            50.92,
            10.48,
            3.5,
            272.21,
            396.9,
            255.23,
            391.43,
            396.9,
            393.82,
            396.9,
            334.4,
            22.01,
            331.29,
            368.74,
            396.9,
            396.9,
            395.33,
            393.37,
            374.68,
            352.58,
            302.76,
            396.21,
            349.48,
            379.7,
            383.32,
            396.9,
            393.07,
            395.28,
            392.92,
            370.73,
            388.62,
            392.68,
            388.22,
            395.09,
            344.05,
            318.43,
            390.11,
            396.9,
            396.9,
            396.9,
            393.29,
            396.9,
            396.9,
            396.9,
            395.77,
            396.9,
            391.99,
            396.9,
            396.9,
            393.45,
            396.9
           ]
          },
          {
           "axis": {
            "matches": true
           },
           "label": "LSTAT",
           "values": [
            4.98,
            9.14,
            4.03,
            2.94,
            5.33,
            5.21,
            12.43,
            19.15,
            29.93,
            17.1,
            20.45,
            13.27,
            15.71,
            8.26,
            10.26,
            8.47,
            6.58,
            14.67,
            11.69,
            11.28,
            21.02,
            13.83,
            18.72,
            19.88,
            16.3,
            16.51,
            14.81,
            17.28,
            12.8,
            11.98,
            22.6,
            13.04,
            27.71,
            18.35,
            20.34,
            9.68,
            11.41,
            8.77,
            10.13,
            4.32,
            1.98,
            4.84,
            5.81,
            7.44,
            9.55,
            10.21,
            14.15,
            18.8,
            30.81,
            16.2,
            13.45,
            9.43,
            5.28,
            8.43,
            14.8,
            4.81,
            5.77,
            3.95,
            6.86,
            9.22,
            13.15,
            14.44,
            6.73,
            9.5,
            8.05,
            4.67,
            10.24,
            8.1,
            13.09,
            8.79,
            6.72,
            9.88,
            5.52,
            7.54,
            6.78,
            8.94,
            11.97,
            10.27,
            12.34,
            9.1,
            5.29,
            7.22,
            6.72,
            7.51,
            9.62,
            6.53,
            12.86,
            8.44,
            5.5,
            5.7,
            8.81,
            8.2,
            8.16,
            6.21,
            10.59,
            6.65,
            11.34,
            4.21,
            3.57,
            6.19,
            9.42,
            7.67,
            10.63,
            13.44,
            12.33,
            16.47,
            18.66,
            14.09,
            12.27,
            15.55,
            13,
            10.16,
            16.21,
            17.09,
            10.45,
            15.76,
            12.04,
            10.3,
            15.37,
            13.61,
            14.37,
            14.27,
            17.93,
            25.41,
            17.58,
            14.81,
            27.26,
            17.19,
            15.39,
            18.34,
            12.6,
            12.26,
            11.12,
            15.03,
            17.31,
            16.96,
            16.9,
            14.59,
            21.32,
            18.46,
            24.16,
            34.41,
            26.82,
            26.42,
            29.29,
            27.8,
            16.65,
            29.53,
            28.32,
            21.45,
            14.1,
            13.28,
            12.12,
            15.79,
            15.12,
            15.02,
            16.14,
            4.59,
            6.43,
            7.39,
            5.5,
            1.73,
            1.92,
            3.32,
            11.64,
            9.81,
            3.7,
            12.14,
            11.1,
            11.32,
            14.43,
            12.03,
            14.69,
            9.04,
            9.64,
            5.33,
            10.11,
            6.29,
            6.92,
            5.04,
            7.56,
            9.45,
            4.82,
            5.68,
            13.98,
            13.15,
            4.45,
            6.68,
            4.56,
            5.39,
            5.1,
            4.69,
            2.87,
            5.03,
            4.38,
            2.97,
            4.08,
            8.61,
            6.62,
            4.56,
            4.45,
            7.43,
            3.11,
            3.81,
            2.88,
            10.87,
            10.97,
            18.06,
            14.66,
            23.09,
            17.27,
            23.98,
            16.03,
            9.38,
            29.55,
            9.47,
            13.51,
            9.69,
            17.92,
            10.5,
            9.71,
            21.46,
            9.93,
            7.6,
            4.14,
            4.63,
            3.13,
            6.36,
            3.92,
            3.76,
            11.65,
            5.25,
            2.47,
            3.95,
            8.05,
            10.88,
            9.54,
            4.73,
            6.36,
            7.37,
            11.38,
            12.4,
            11.22,
            5.19,
            12.5,
            18.46,
            9.16,
            10.15,
            9.52,
            6.56,
            5.9,
            3.59,
            3.53,
            3.54,
            6.57,
            9.25,
            3.11,
            5.12,
            7.79,
            6.9,
            9.59,
            7.26,
            5.91,
            11.25,
            8.1,
            10.45,
            14.79,
            7.44,
            3.16,
            13.65,
            13,
            6.59,
            7.73,
            6.58,
            3.53,
            2.98,
            6.05,
            4.16,
            7.19,
            4.85,
            3.76,
            4.59,
            3.01,
            3.16,
            7.85,
            8.23,
            12.93,
            7.14,
            7.6,
            9.51,
            3.33,
            3.56,
            4.7,
            8.58,
            10.4,
            6.27,
            7.39,
            15.84,
            4.97,
            4.74,
            6.07,
            9.5,
            8.67,
            4.86,
            6.93,
            8.93,
            6.47,
            7.53,
            4.54,
            9.97,
            12.64,
            5.98,
            11.72,
            7.9,
            9.28,
            11.5,
            18.33,
            15.94,
            10.36,
            12.73,
            7.2,
            6.87,
            7.7,
            11.74,
            6.12,
            5.08,
            6.15,
            12.79,
            9.97,
            7.34,
            9.09,
            12.43,
            7.83,
            5.68,
            6.75,
            8.01,
            9.8,
            10.56,
            8.51,
            9.74,
            9.29,
            5.49,
            8.65,
            7.18,
            4.61,
            10.53,
            12.67,
            6.36,
            5.99,
            5.89,
            5.98,
            5.49,
            7.79,
            4.5,
            8.05,
            5.57,
            17.6,
            13.27,
            11.48,
            12.67,
            7.79,
            14.19,
            10.19,
            14.64,
            5.29,
            7.12,
            14,
            13.33,
            3.26,
            3.73,
            2.96,
            9.53,
            8.88,
            34.77,
            37.97,
            13.44,
            23.24,
            21.24,
            23.69,
            21.78,
            17.21,
            21.08,
            23.6,
            24.56,
            30.63,
            30.81,
            28.28,
            31.99,
            30.62,
            20.85,
            17.11,
            18.76,
            25.68,
            15.17,
            16.35,
            17.12,
            19.37,
            19.92,
            30.59,
            29.97,
            26.77,
            20.32,
            20.31,
            19.77,
            27.38,
            22.98,
            23.34,
            12.13,
            26.4,
            19.78,
            10.11,
            21.22,
            34.37,
            20.08,
            36.98,
            29.05,
            25.79,
            26.64,
            20.62,
            22.74,
            15.02,
            15.7,
            14.1,
            23.29,
            17.16,
            24.39,
            15.69,
            14.52,
            21.52,
            24.08,
            17.64,
            19.69,
            12.03,
            16.22,
            15.17,
            23.27,
            18.05,
            26.45,
            34.02,
            22.88,
            22.11,
            19.52,
            16.59,
            18.85,
            23.79,
            23.98,
            17.79,
            16.44,
            18.13,
            19.31,
            17.44,
            17.73,
            17.27,
            16.74,
            18.71,
            18.13,
            19.01,
            16.94,
            16.23,
            14.7,
            16.42,
            14.65,
            13.99,
            10.29,
            13.22,
            14.13,
            17.15,
            21.32,
            18.13,
            14.76,
            16.29,
            12.87,
            14.36,
            11.66,
            18.14,
            24.1,
            18.68,
            24.91,
            18.03,
            13.11,
            10.74,
            7.74,
            7.01,
            10.42,
            13.34,
            10.58,
            14.98,
            11.45,
            18.06,
            23.97,
            29.68,
            18.07,
            13.35,
            12.01,
            13.59,
            17.6,
            21.14,
            14.1,
            12.92,
            15.1,
            14.33,
            9.67,
            9.08,
            5.64,
            6.48,
            7.88
           ]
          },
          {
           "axis": {
            "matches": true
           },
           "label": "MEDV",
           "values": [
            24,
            21.6,
            34.7,
            33.4,
            36.2,
            28.7,
            22.9,
            27.1,
            16.5,
            18.9,
            15,
            18.9,
            21.7,
            20.4,
            18.2,
            19.9,
            23.1,
            17.5,
            20.2,
            18.2,
            13.6,
            19.6,
            15.2,
            14.5,
            15.6,
            13.9,
            16.6,
            14.8,
            18.4,
            21,
            12.7,
            14.5,
            13.2,
            13.1,
            13.5,
            18.9,
            20,
            21,
            24.7,
            30.8,
            34.9,
            26.6,
            25.3,
            24.7,
            21.2,
            19.3,
            20,
            16.6,
            14.4,
            19.4,
            19.7,
            20.5,
            25,
            23.4,
            18.9,
            35.4,
            24.7,
            31.6,
            23.3,
            19.6,
            18.7,
            16,
            22.2,
            25,
            33,
            23.5,
            19.4,
            22,
            17.4,
            20.9,
            24.2,
            21.7,
            22.8,
            23.4,
            24.1,
            21.4,
            20,
            20.8,
            21.2,
            20.3,
            28,
            23.9,
            24.8,
            22.9,
            23.9,
            26.6,
            22.5,
            22.2,
            23.6,
            28.7,
            22.6,
            22,
            22.9,
            25,
            20.6,
            28.4,
            21.4,
            38.7,
            43.8,
            33.2,
            27.5,
            26.5,
            18.6,
            19.3,
            20.1,
            19.5,
            19.5,
            20.4,
            19.8,
            19.4,
            21.7,
            22.8,
            18.8,
            18.7,
            18.5,
            18.3,
            21.2,
            19.2,
            20.4,
            19.3,
            22,
            20.3,
            20.5,
            17.3,
            18.8,
            21.4,
            15.7,
            16.2,
            18,
            14.3,
            19.2,
            19.6,
            23,
            18.4,
            15.6,
            18.1,
            17.4,
            17.1,
            13.3,
            17.8,
            14,
            14.4,
            13.4,
            15.6,
            11.8,
            13.8,
            15.6,
            14.6,
            17.8,
            15.4,
            21.5,
            19.6,
            15.3,
            19.4,
            17,
            15.6,
            13.1,
            41.3,
            24.3,
            23.3,
            27,
            50,
            50,
            50,
            22.7,
            25,
            50,
            23.8,
            23.8,
            22.3,
            17.4,
            19.1,
            23.1,
            23.6,
            22.6,
            29.4,
            23.2,
            24.6,
            29.9,
            37.2,
            39.8,
            36.2,
            37.9,
            32.5,
            26.4,
            29.6,
            50,
            32,
            29.8,
            34.9,
            37,
            30.5,
            36.4,
            31.1,
            29.1,
            50,
            33.3,
            30.3,
            34.6,
            34.9,
            32.9,
            24.1,
            42.3,
            48.5,
            50,
            22.6,
            24.4,
            22.5,
            24.4,
            20,
            21.7,
            19.3,
            22.4,
            28.1,
            23.7,
            25,
            23.3,
            28.7,
            21.5,
            23,
            26.7,
            21.7,
            27.5,
            30.1,
            44.8,
            50,
            37.6,
            31.6,
            46.7,
            31.5,
            24.3,
            31.7,
            41.7,
            48.3,
            29,
            24,
            25.1,
            31.5,
            23.7,
            23.3,
            22,
            20.1,
            22.2,
            23.7,
            17.6,
            18.5,
            24.3,
            20.5,
            24.5,
            26.2,
            24.4,
            24.8,
            29.6,
            42.8,
            21.9,
            20.9,
            44,
            50,
            36,
            30.1,
            33.8,
            43.1,
            48.8,
            31,
            36.5,
            22.8,
            30.7,
            50,
            43.5,
            20.7,
            21.1,
            25.2,
            24.4,
            35.2,
            32.4,
            32,
            33.2,
            33.1,
            29.1,
            35.1,
            45.4,
            35.4,
            46,
            50,
            32.2,
            22,
            20.1,
            23.2,
            22.3,
            24.8,
            28.5,
            37.3,
            27.9,
            23.9,
            21.7,
            28.6,
            27.1,
            20.3,
            22.5,
            29,
            24.8,
            22,
            26.4,
            33.1,
            36.1,
            28.4,
            33.4,
            28.2,
            22.8,
            20.3,
            16.1,
            22.1,
            19.4,
            21.6,
            23.8,
            16.2,
            17.8,
            19.8,
            23.1,
            21,
            23.8,
            23.1,
            20.4,
            18.5,
            25,
            24.6,
            23,
            22.2,
            19.3,
            22.6,
            19.8,
            17.1,
            19.4,
            22.2,
            20.7,
            21.1,
            19.5,
            18.5,
            20.6,
            19,
            18.7,
            32.7,
            16.5,
            23.9,
            31.2,
            17.5,
            17.2,
            23.1,
            24.5,
            26.6,
            22.9,
            24.1,
            18.6,
            30.1,
            18.2,
            20.6,
            17.8,
            21.7,
            22.7,
            22.6,
            25,
            19.9,
            20.8,
            16.8,
            21.9,
            27.5,
            21.9,
            23.1,
            50,
            50,
            50,
            50,
            50,
            13.8,
            13.8,
            15,
            13.9,
            13.3,
            13.1,
            10.2,
            10.4,
            10.9,
            11.3,
            12.3,
            8.8,
            7.2,
            10.5,
            7.4,
            10.2,
            11.5,
            15.1,
            23.2,
            9.7,
            13.8,
            12.7,
            13.1,
            12.5,
            8.5,
            5,
            6.3,
            5.6,
            7.2,
            12.1,
            8.3,
            8.5,
            5,
            11.9,
            27.9,
            17.2,
            27.5,
            15,
            17.2,
            17.9,
            16.3,
            7,
            7.2,
            7.5,
            10.4,
            8.8,
            8.4,
            16.7,
            14.2,
            20.8,
            13.4,
            11.7,
            8.3,
            10.2,
            10.9,
            11,
            9.5,
            14.5,
            14.1,
            16.1,
            14.3,
            11.7,
            13.4,
            9.6,
            8.7,
            8.4,
            12.8,
            10.5,
            17.1,
            18.4,
            15.4,
            10.8,
            11.8,
            14.9,
            12.6,
            14.1,
            13,
            13.4,
            15.2,
            16.1,
            17.8,
            14.9,
            14.1,
            12.7,
            13.5,
            14.9,
            20,
            16.4,
            17.7,
            19.5,
            20.2,
            21.4,
            19.9,
            19,
            19.1,
            19.1,
            20.1,
            19.9,
            19.6,
            23.2,
            29.8,
            13.8,
            13.3,
            16.7,
            12,
            14.6,
            21.4,
            23,
            23.7,
            25,
            21.8,
            20.6,
            21.2,
            19.1,
            20.6,
            15.2,
            7,
            8.1,
            13.6,
            20.1,
            21.8,
            24.5,
            23.1,
            19.7,
            18.3,
            21.2,
            17.5,
            16.8,
            22.4,
            20.6,
            23.9,
            22,
            11.9
           ]
          }
         ],
         "hovertemplate": "%{xaxis.title.text}=%{x}<br>%{yaxis.title.text}=%{y}<br>MEDV=%{marker.color}<extra></extra>",
         "legendgroup": "",
         "marker": {
          "color": [
           24,
           21.6,
           34.7,
           33.4,
           36.2,
           28.7,
           22.9,
           27.1,
           16.5,
           18.9,
           15,
           18.9,
           21.7,
           20.4,
           18.2,
           19.9,
           23.1,
           17.5,
           20.2,
           18.2,
           13.6,
           19.6,
           15.2,
           14.5,
           15.6,
           13.9,
           16.6,
           14.8,
           18.4,
           21,
           12.7,
           14.5,
           13.2,
           13.1,
           13.5,
           18.9,
           20,
           21,
           24.7,
           30.8,
           34.9,
           26.6,
           25.3,
           24.7,
           21.2,
           19.3,
           20,
           16.6,
           14.4,
           19.4,
           19.7,
           20.5,
           25,
           23.4,
           18.9,
           35.4,
           24.7,
           31.6,
           23.3,
           19.6,
           18.7,
           16,
           22.2,
           25,
           33,
           23.5,
           19.4,
           22,
           17.4,
           20.9,
           24.2,
           21.7,
           22.8,
           23.4,
           24.1,
           21.4,
           20,
           20.8,
           21.2,
           20.3,
           28,
           23.9,
           24.8,
           22.9,
           23.9,
           26.6,
           22.5,
           22.2,
           23.6,
           28.7,
           22.6,
           22,
           22.9,
           25,
           20.6,
           28.4,
           21.4,
           38.7,
           43.8,
           33.2,
           27.5,
           26.5,
           18.6,
           19.3,
           20.1,
           19.5,
           19.5,
           20.4,
           19.8,
           19.4,
           21.7,
           22.8,
           18.8,
           18.7,
           18.5,
           18.3,
           21.2,
           19.2,
           20.4,
           19.3,
           22,
           20.3,
           20.5,
           17.3,
           18.8,
           21.4,
           15.7,
           16.2,
           18,
           14.3,
           19.2,
           19.6,
           23,
           18.4,
           15.6,
           18.1,
           17.4,
           17.1,
           13.3,
           17.8,
           14,
           14.4,
           13.4,
           15.6,
           11.8,
           13.8,
           15.6,
           14.6,
           17.8,
           15.4,
           21.5,
           19.6,
           15.3,
           19.4,
           17,
           15.6,
           13.1,
           41.3,
           24.3,
           23.3,
           27,
           50,
           50,
           50,
           22.7,
           25,
           50,
           23.8,
           23.8,
           22.3,
           17.4,
           19.1,
           23.1,
           23.6,
           22.6,
           29.4,
           23.2,
           24.6,
           29.9,
           37.2,
           39.8,
           36.2,
           37.9,
           32.5,
           26.4,
           29.6,
           50,
           32,
           29.8,
           34.9,
           37,
           30.5,
           36.4,
           31.1,
           29.1,
           50,
           33.3,
           30.3,
           34.6,
           34.9,
           32.9,
           24.1,
           42.3,
           48.5,
           50,
           22.6,
           24.4,
           22.5,
           24.4,
           20,
           21.7,
           19.3,
           22.4,
           28.1,
           23.7,
           25,
           23.3,
           28.7,
           21.5,
           23,
           26.7,
           21.7,
           27.5,
           30.1,
           44.8,
           50,
           37.6,
           31.6,
           46.7,
           31.5,
           24.3,
           31.7,
           41.7,
           48.3,
           29,
           24,
           25.1,
           31.5,
           23.7,
           23.3,
           22,
           20.1,
           22.2,
           23.7,
           17.6,
           18.5,
           24.3,
           20.5,
           24.5,
           26.2,
           24.4,
           24.8,
           29.6,
           42.8,
           21.9,
           20.9,
           44,
           50,
           36,
           30.1,
           33.8,
           43.1,
           48.8,
           31,
           36.5,
           22.8,
           30.7,
           50,
           43.5,
           20.7,
           21.1,
           25.2,
           24.4,
           35.2,
           32.4,
           32,
           33.2,
           33.1,
           29.1,
           35.1,
           45.4,
           35.4,
           46,
           50,
           32.2,
           22,
           20.1,
           23.2,
           22.3,
           24.8,
           28.5,
           37.3,
           27.9,
           23.9,
           21.7,
           28.6,
           27.1,
           20.3,
           22.5,
           29,
           24.8,
           22,
           26.4,
           33.1,
           36.1,
           28.4,
           33.4,
           28.2,
           22.8,
           20.3,
           16.1,
           22.1,
           19.4,
           21.6,
           23.8,
           16.2,
           17.8,
           19.8,
           23.1,
           21,
           23.8,
           23.1,
           20.4,
           18.5,
           25,
           24.6,
           23,
           22.2,
           19.3,
           22.6,
           19.8,
           17.1,
           19.4,
           22.2,
           20.7,
           21.1,
           19.5,
           18.5,
           20.6,
           19,
           18.7,
           32.7,
           16.5,
           23.9,
           31.2,
           17.5,
           17.2,
           23.1,
           24.5,
           26.6,
           22.9,
           24.1,
           18.6,
           30.1,
           18.2,
           20.6,
           17.8,
           21.7,
           22.7,
           22.6,
           25,
           19.9,
           20.8,
           16.8,
           21.9,
           27.5,
           21.9,
           23.1,
           50,
           50,
           50,
           50,
           50,
           13.8,
           13.8,
           15,
           13.9,
           13.3,
           13.1,
           10.2,
           10.4,
           10.9,
           11.3,
           12.3,
           8.8,
           7.2,
           10.5,
           7.4,
           10.2,
           11.5,
           15.1,
           23.2,
           9.7,
           13.8,
           12.7,
           13.1,
           12.5,
           8.5,
           5,
           6.3,
           5.6,
           7.2,
           12.1,
           8.3,
           8.5,
           5,
           11.9,
           27.9,
           17.2,
           27.5,
           15,
           17.2,
           17.9,
           16.3,
           7,
           7.2,
           7.5,
           10.4,
           8.8,
           8.4,
           16.7,
           14.2,
           20.8,
           13.4,
           11.7,
           8.3,
           10.2,
           10.9,
           11,
           9.5,
           14.5,
           14.1,
           16.1,
           14.3,
           11.7,
           13.4,
           9.6,
           8.7,
           8.4,
           12.8,
           10.5,
           17.1,
           18.4,
           15.4,
           10.8,
           11.8,
           14.9,
           12.6,
           14.1,
           13,
           13.4,
           15.2,
           16.1,
           17.8,
           14.9,
           14.1,
           12.7,
           13.5,
           14.9,
           20,
           16.4,
           17.7,
           19.5,
           20.2,
           21.4,
           19.9,
           19,
           19.1,
           19.1,
           20.1,
           19.9,
           19.6,
           23.2,
           29.8,
           13.8,
           13.3,
           16.7,
           12,
           14.6,
           21.4,
           23,
           23.7,
           25,
           21.8,
           20.6,
           21.2,
           19.1,
           20.6,
           15.2,
           7,
           8.1,
           13.6,
           20.1,
           21.8,
           24.5,
           23.1,
           19.7,
           18.3,
           21.2,
           17.5,
           16.8,
           22.4,
           20.6,
           23.9,
           22,
           11.9
          ],
          "coloraxis": "coloraxis",
          "symbol": "circle"
         },
         "name": "",
         "showlegend": false,
         "type": "splom"
        }
       ],
       "layout": {
        "coloraxis": {
         "colorbar": {
          "title": {
           "text": "MEDV"
          }
         },
         "colorscale": [
          [
           0,
           "#0d0887"
          ],
          [
           0.1111111111111111,
           "#46039f"
          ],
          [
           0.2222222222222222,
           "#7201a8"
          ],
          [
           0.3333333333333333,
           "#9c179e"
          ],
          [
           0.4444444444444444,
           "#bd3786"
          ],
          [
           0.5555555555555556,
           "#d8576b"
          ],
          [
           0.6666666666666666,
           "#ed7953"
          ],
          [
           0.7777777777777778,
           "#fb9f3a"
          ],
          [
           0.8888888888888888,
           "#fdca26"
          ],
          [
           1,
           "#f0f921"
          ]
         ]
        },
        "dragmode": "select",
        "height": 1200,
        "legend": {
         "tracegroupgap": 0
        },
        "template": {
         "data": {
          "bar": [
           {
            "error_x": {
             "color": "#2a3f5f"
            },
            "error_y": {
             "color": "#2a3f5f"
            },
            "marker": {
             "line": {
              "color": "#E5ECF6",
              "width": 0.5
             },
             "pattern": {
              "fillmode": "overlay",
              "size": 10,
              "solidity": 0.2
             }
            },
            "type": "bar"
           }
          ],
          "barpolar": [
           {
            "marker": {
             "line": {
              "color": "#E5ECF6",
              "width": 0.5
             },
             "pattern": {
              "fillmode": "overlay",
              "size": 10,
              "solidity": 0.2
             }
            },
            "type": "barpolar"
           }
          ],
          "carpet": [
           {
            "aaxis": {
             "endlinecolor": "#2a3f5f",
             "gridcolor": "white",
             "linecolor": "white",
             "minorgridcolor": "white",
             "startlinecolor": "#2a3f5f"
            },
            "baxis": {
             "endlinecolor": "#2a3f5f",
             "gridcolor": "white",
             "linecolor": "white",
             "minorgridcolor": "white",
             "startlinecolor": "#2a3f5f"
            },
            "type": "carpet"
           }
          ],
          "choropleth": [
           {
            "colorbar": {
             "outlinewidth": 0,
             "ticks": ""
            },
            "type": "choropleth"
           }
          ],
          "contour": [
           {
            "colorbar": {
             "outlinewidth": 0,
             "ticks": ""
            },
            "colorscale": [
             [
              0,
              "#0d0887"
             ],
             [
              0.1111111111111111,
              "#46039f"
             ],
             [
              0.2222222222222222,
              "#7201a8"
             ],
             [
              0.3333333333333333,
              "#9c179e"
             ],
             [
              0.4444444444444444,
              "#bd3786"
             ],
             [
              0.5555555555555556,
              "#d8576b"
             ],
             [
              0.6666666666666666,
              "#ed7953"
             ],
             [
              0.7777777777777778,
              "#fb9f3a"
             ],
             [
              0.8888888888888888,
              "#fdca26"
             ],
             [
              1,
              "#f0f921"
             ]
            ],
            "type": "contour"
           }
          ],
          "contourcarpet": [
           {
            "colorbar": {
             "outlinewidth": 0,
             "ticks": ""
            },
            "type": "contourcarpet"
           }
          ],
          "heatmap": [
           {
            "colorbar": {
             "outlinewidth": 0,
             "ticks": ""
            },
            "colorscale": [
             [
              0,
              "#0d0887"
             ],
             [
              0.1111111111111111,
              "#46039f"
             ],
             [
              0.2222222222222222,
              "#7201a8"
             ],
             [
              0.3333333333333333,
              "#9c179e"
             ],
             [
              0.4444444444444444,
              "#bd3786"
             ],
             [
              0.5555555555555556,
              "#d8576b"
             ],
             [
              0.6666666666666666,
              "#ed7953"
             ],
             [
              0.7777777777777778,
              "#fb9f3a"
             ],
             [
              0.8888888888888888,
              "#fdca26"
             ],
             [
              1,
              "#f0f921"
             ]
            ],
            "type": "heatmap"
           }
          ],
          "heatmapgl": [
           {
            "colorbar": {
             "outlinewidth": 0,
             "ticks": ""
            },
            "colorscale": [
             [
              0,
              "#0d0887"
             ],
             [
              0.1111111111111111,
              "#46039f"
             ],
             [
              0.2222222222222222,
              "#7201a8"
             ],
             [
              0.3333333333333333,
              "#9c179e"
             ],
             [
              0.4444444444444444,
              "#bd3786"
             ],
             [
              0.5555555555555556,
              "#d8576b"
             ],
             [
              0.6666666666666666,
              "#ed7953"
             ],
             [
              0.7777777777777778,
              "#fb9f3a"
             ],
             [
              0.8888888888888888,
              "#fdca26"
             ],
             [
              1,
              "#f0f921"
             ]
            ],
            "type": "heatmapgl"
           }
          ],
          "histogram": [
           {
            "marker": {
             "pattern": {
              "fillmode": "overlay",
              "size": 10,
              "solidity": 0.2
             }
            },
            "type": "histogram"
           }
          ],
          "histogram2d": [
           {
            "colorbar": {
             "outlinewidth": 0,
             "ticks": ""
            },
            "colorscale": [
             [
              0,
              "#0d0887"
             ],
             [
              0.1111111111111111,
              "#46039f"
             ],
             [
              0.2222222222222222,
              "#7201a8"
             ],
             [
              0.3333333333333333,
              "#9c179e"
             ],
             [
              0.4444444444444444,
              "#bd3786"
             ],
             [
              0.5555555555555556,
              "#d8576b"
             ],
             [
              0.6666666666666666,
              "#ed7953"
             ],
             [
              0.7777777777777778,
              "#fb9f3a"
             ],
             [
              0.8888888888888888,
              "#fdca26"
             ],
             [
              1,
              "#f0f921"
             ]
            ],
            "type": "histogram2d"
           }
          ],
          "histogram2dcontour": [
           {
            "colorbar": {
             "outlinewidth": 0,
             "ticks": ""
            },
            "colorscale": [
             [
              0,
              "#0d0887"
             ],
             [
              0.1111111111111111,
              "#46039f"
             ],
             [
              0.2222222222222222,
              "#7201a8"
             ],
             [
              0.3333333333333333,
              "#9c179e"
             ],
             [
              0.4444444444444444,
              "#bd3786"
             ],
             [
              0.5555555555555556,
              "#d8576b"
             ],
             [
              0.6666666666666666,
              "#ed7953"
             ],
             [
              0.7777777777777778,
              "#fb9f3a"
             ],
             [
              0.8888888888888888,
              "#fdca26"
             ],
             [
              1,
              "#f0f921"
             ]
            ],
            "type": "histogram2dcontour"
           }
          ],
          "mesh3d": [
           {
            "colorbar": {
             "outlinewidth": 0,
             "ticks": ""
            },
            "type": "mesh3d"
           }
          ],
          "parcoords": [
           {
            "line": {
             "colorbar": {
              "outlinewidth": 0,
              "ticks": ""
             }
            },
            "type": "parcoords"
           }
          ],
          "pie": [
           {
            "automargin": true,
            "type": "pie"
           }
          ],
          "scatter": [
           {
            "fillpattern": {
             "fillmode": "overlay",
             "size": 10,
             "solidity": 0.2
            },
            "type": "scatter"
           }
          ],
          "scatter3d": [
           {
            "line": {
             "colorbar": {
              "outlinewidth": 0,
              "ticks": ""
             }
            },
            "marker": {
             "colorbar": {
              "outlinewidth": 0,
              "ticks": ""
             }
            },
            "type": "scatter3d"
           }
          ],
          "scattercarpet": [
           {
            "marker": {
             "colorbar": {
              "outlinewidth": 0,
              "ticks": ""
             }
            },
            "type": "scattercarpet"
           }
          ],
          "scattergeo": [
           {
            "marker": {
             "colorbar": {
              "outlinewidth": 0,
              "ticks": ""
             }
            },
            "type": "scattergeo"
           }
          ],
          "scattergl": [
           {
            "marker": {
             "colorbar": {
              "outlinewidth": 0,
              "ticks": ""
             }
            },
            "type": "scattergl"
           }
          ],
          "scattermapbox": [
           {
            "marker": {
             "colorbar": {
              "outlinewidth": 0,
              "ticks": ""
             }
            },
            "type": "scattermapbox"
           }
          ],
          "scatterpolar": [
           {
            "marker": {
             "colorbar": {
              "outlinewidth": 0,
              "ticks": ""
             }
            },
            "type": "scatterpolar"
           }
          ],
          "scatterpolargl": [
           {
            "marker": {
             "colorbar": {
              "outlinewidth": 0,
              "ticks": ""
             }
            },
            "type": "scatterpolargl"
           }
          ],
          "scatterternary": [
           {
            "marker": {
             "colorbar": {
              "outlinewidth": 0,
              "ticks": ""
             }
            },
            "type": "scatterternary"
           }
          ],
          "surface": [
           {
            "colorbar": {
             "outlinewidth": 0,
             "ticks": ""
            },
            "colorscale": [
             [
              0,
              "#0d0887"
             ],
             [
              0.1111111111111111,
              "#46039f"
             ],
             [
              0.2222222222222222,
              "#7201a8"
             ],
             [
              0.3333333333333333,
              "#9c179e"
             ],
             [
              0.4444444444444444,
              "#bd3786"
             ],
             [
              0.5555555555555556,
              "#d8576b"
             ],
             [
              0.6666666666666666,
              "#ed7953"
             ],
             [
              0.7777777777777778,
              "#fb9f3a"
             ],
             [
              0.8888888888888888,
              "#fdca26"
             ],
             [
              1,
              "#f0f921"
             ]
            ],
            "type": "surface"
           }
          ],
          "table": [
           {
            "cells": {
             "fill": {
              "color": "#EBF0F8"
             },
             "line": {
              "color": "white"
             }
            },
            "header": {
             "fill": {
              "color": "#C8D4E3"
             },
             "line": {
              "color": "white"
             }
            },
            "type": "table"
           }
          ]
         },
         "layout": {
          "annotationdefaults": {
           "arrowcolor": "#2a3f5f",
           "arrowhead": 0,
           "arrowwidth": 1
          },
          "autotypenumbers": "strict",
          "coloraxis": {
           "colorbar": {
            "outlinewidth": 0,
            "ticks": ""
           }
          },
          "colorscale": {
           "diverging": [
            [
             0,
             "#8e0152"
            ],
            [
             0.1,
             "#c51b7d"
            ],
            [
             0.2,
             "#de77ae"
            ],
            [
             0.3,
             "#f1b6da"
            ],
            [
             0.4,
             "#fde0ef"
            ],
            [
             0.5,
             "#f7f7f7"
            ],
            [
             0.6,
             "#e6f5d0"
            ],
            [
             0.7,
             "#b8e186"
            ],
            [
             0.8,
             "#7fbc41"
            ],
            [
             0.9,
             "#4d9221"
            ],
            [
             1,
             "#276419"
            ]
           ],
           "sequential": [
            [
             0,
             "#0d0887"
            ],
            [
             0.1111111111111111,
             "#46039f"
            ],
            [
             0.2222222222222222,
             "#7201a8"
            ],
            [
             0.3333333333333333,
             "#9c179e"
            ],
            [
             0.4444444444444444,
             "#bd3786"
            ],
            [
             0.5555555555555556,
             "#d8576b"
            ],
            [
             0.6666666666666666,
             "#ed7953"
            ],
            [
             0.7777777777777778,
             "#fb9f3a"
            ],
            [
             0.8888888888888888,
             "#fdca26"
            ],
            [
             1,
             "#f0f921"
            ]
           ],
           "sequentialminus": [
            [
             0,
             "#0d0887"
            ],
            [
             0.1111111111111111,
             "#46039f"
            ],
            [
             0.2222222222222222,
             "#7201a8"
            ],
            [
             0.3333333333333333,
             "#9c179e"
            ],
            [
             0.4444444444444444,
             "#bd3786"
            ],
            [
             0.5555555555555556,
             "#d8576b"
            ],
            [
             0.6666666666666666,
             "#ed7953"
            ],
            [
             0.7777777777777778,
             "#fb9f3a"
            ],
            [
             0.8888888888888888,
             "#fdca26"
            ],
            [
             1,
             "#f0f921"
            ]
           ]
          },
          "colorway": [
           "#636efa",
           "#EF553B",
           "#00cc96",
           "#ab63fa",
           "#FFA15A",
           "#19d3f3",
           "#FF6692",
           "#B6E880",
           "#FF97FF",
           "#FECB52"
          ],
          "font": {
           "color": "#2a3f5f"
          },
          "geo": {
           "bgcolor": "white",
           "lakecolor": "white",
           "landcolor": "#E5ECF6",
           "showlakes": true,
           "showland": true,
           "subunitcolor": "white"
          },
          "hoverlabel": {
           "align": "left"
          },
          "hovermode": "closest",
          "mapbox": {
           "style": "light"
          },
          "paper_bgcolor": "white",
          "plot_bgcolor": "#E5ECF6",
          "polar": {
           "angularaxis": {
            "gridcolor": "white",
            "linecolor": "white",
            "ticks": ""
           },
           "bgcolor": "#E5ECF6",
           "radialaxis": {
            "gridcolor": "white",
            "linecolor": "white",
            "ticks": ""
           }
          },
          "scene": {
           "xaxis": {
            "backgroundcolor": "#E5ECF6",
            "gridcolor": "white",
            "gridwidth": 2,
            "linecolor": "white",
            "showbackground": true,
            "ticks": "",
            "zerolinecolor": "white"
           },
           "yaxis": {
            "backgroundcolor": "#E5ECF6",
            "gridcolor": "white",
            "gridwidth": 2,
            "linecolor": "white",
            "showbackground": true,
            "ticks": "",
            "zerolinecolor": "white"
           },
           "zaxis": {
            "backgroundcolor": "#E5ECF6",
            "gridcolor": "white",
            "gridwidth": 2,
            "linecolor": "white",
            "showbackground": true,
            "ticks": "",
            "zerolinecolor": "white"
           }
          },
          "shapedefaults": {
           "line": {
            "color": "#2a3f5f"
           }
          },
          "ternary": {
           "aaxis": {
            "gridcolor": "white",
            "linecolor": "white",
            "ticks": ""
           },
           "baxis": {
            "gridcolor": "white",
            "linecolor": "white",
            "ticks": ""
           },
           "bgcolor": "#E5ECF6",
           "caxis": {
            "gridcolor": "white",
            "linecolor": "white",
            "ticks": ""
           }
          },
          "title": {
           "x": 0.05
          },
          "xaxis": {
           "automargin": true,
           "gridcolor": "white",
           "linecolor": "white",
           "ticks": "",
           "title": {
            "standoff": 15
           },
           "zerolinecolor": "white",
           "zerolinewidth": 2
          },
          "yaxis": {
           "automargin": true,
           "gridcolor": "white",
           "linecolor": "white",
           "ticks": "",
           "title": {
            "standoff": 15
           },
           "zerolinecolor": "white",
           "zerolinewidth": 2
          }
         }
        },
        "title": {
         "text": "Scattermatrix des Boston Housing Datensatzes"
        }
       }
      }
     },
     "metadata": {},
     "output_type": "display_data"
    }
   ],
   "source": [
    "# Erstellen der Scattermatrix\n",
    "fig = px.scatter_matrix(df, color='MEDV', title='Scattermatrix des Boston Housing Datensatzes', height=1200)\n",
    "fig.show()"
   ]
  },
  {
   "cell_type": "code",
   "execution_count": 34,
   "metadata": {},
   "outputs": [
    {
     "name": "stderr",
     "output_type": "stream",
     "text": [
      "/opt/homebrew/Caskroom/miniconda/base/envs/python39/lib/python3.9/site-packages/plotly/express/_core.py:279: FutureWarning:\n",
      "\n",
      "iteritems is deprecated and will be removed in a future version. Use .items instead.\n",
      "\n"
     ]
    },
    {
     "data": {
      "application/vnd.plotly.v1+json": {
       "config": {
        "plotlyServerURL": "https://plot.ly"
       },
       "data": [
        {
         "dimensions": [
          {
           "axis": {
            "matches": true
           },
           "label": "RM",
           "values": [
            6.575,
            6.421,
            7.185,
            6.998,
            7.147,
            6.43,
            6.012,
            6.172,
            5.631,
            6.004,
            6.377,
            6.009,
            5.889,
            5.949,
            6.096,
            5.834,
            5.935,
            5.99,
            5.456,
            5.727,
            5.57,
            5.965,
            6.142,
            5.813,
            5.924,
            5.599,
            5.813,
            6.047,
            6.495,
            6.674,
            5.713,
            6.072,
            5.95,
            5.701,
            6.096,
            5.933,
            5.841,
            5.85,
            5.966,
            6.595,
            7.024,
            6.77,
            6.169,
            6.211,
            6.069,
            5.682,
            5.786,
            6.03,
            5.399,
            5.602,
            5.963,
            6.115,
            6.511,
            5.998,
            5.888,
            7.249,
            6.383,
            6.816,
            6.145,
            5.927,
            5.741,
            5.966,
            6.456,
            6.762,
            7.104,
            6.29,
            5.787,
            5.878,
            5.594,
            5.885,
            6.417,
            5.961,
            6.065,
            6.245,
            6.273,
            6.286,
            6.279,
            6.14,
            6.232,
            5.874,
            6.727,
            6.619,
            6.302,
            6.167,
            6.389,
            6.63,
            6.015,
            6.121,
            7.007,
            7.079,
            6.417,
            6.405,
            6.442,
            6.211,
            6.249,
            6.625,
            6.163,
            8.069,
            7.82,
            7.416,
            6.727,
            6.781,
            6.405,
            6.137,
            6.167,
            5.851,
            5.836,
            6.127,
            6.474,
            6.229,
            6.195,
            6.715,
            5.913,
            6.092,
            6.254,
            5.928,
            6.176,
            6.021,
            5.872,
            5.731,
            5.87,
            6.004,
            5.961,
            5.856,
            5.879,
            5.986,
            5.613,
            5.693,
            6.431,
            5.637,
            6.458,
            6.326,
            6.372,
            5.822,
            5.757,
            6.335,
            5.942,
            6.454,
            5.857,
            6.151,
            6.174,
            5.019,
            5.403,
            5.468,
            4.903,
            6.13,
            5.628,
            4.926,
            5.186,
            5.597,
            6.122,
            5.404,
            5.012,
            5.709,
            6.129,
            6.152,
            5.272,
            6.943,
            6.066,
            6.51,
            6.25,
            7.489,
            7.802,
            8.375,
            5.854,
            6.101,
            7.929,
            5.877,
            6.319,
            6.402,
            5.875,
            5.88,
            5.572,
            6.416,
            5.859,
            6.546,
            6.02,
            6.315,
            6.86,
            6.98,
            7.765,
            6.144,
            7.155,
            6.563,
            5.604,
            6.153,
            7.831,
            6.782,
            6.556,
            7.185,
            6.951,
            6.739,
            7.178,
            6.8,
            6.604,
            7.875,
            7.287,
            7.107,
            7.274,
            6.975,
            7.135,
            6.162,
            7.61,
            7.853,
            8.034,
            5.891,
            6.326,
            5.783,
            6.064,
            5.344,
            5.96,
            5.404,
            5.807,
            6.375,
            5.412,
            6.182,
            5.888,
            6.642,
            5.951,
            6.373,
            6.951,
            6.164,
            6.879,
            6.618,
            8.266,
            8.725,
            8.04,
            7.163,
            7.686,
            6.552,
            5.981,
            7.412,
            8.337,
            8.247,
            6.726,
            6.086,
            6.631,
            7.358,
            6.481,
            6.606,
            6.897,
            6.095,
            6.358,
            6.393,
            5.593,
            5.605,
            6.108,
            6.226,
            6.433,
            6.718,
            6.487,
            6.438,
            6.957,
            8.259,
            6.108,
            5.876,
            7.454,
            8.704,
            7.333,
            6.842,
            7.203,
            7.52,
            8.398,
            7.327,
            7.206,
            5.56,
            7.014,
            8.297,
            7.47,
            5.92,
            5.856,
            6.24,
            6.538,
            7.691,
            6.758,
            6.854,
            7.267,
            6.826,
            6.482,
            6.812,
            7.82,
            6.968,
            7.645,
            7.923,
            7.088,
            6.453,
            6.23,
            6.209,
            6.315,
            6.565,
            6.861,
            7.148,
            6.63,
            6.127,
            6.009,
            6.678,
            6.549,
            5.79,
            6.345,
            7.041,
            6.871,
            6.59,
            6.495,
            6.982,
            7.236,
            6.616,
            7.42,
            6.849,
            6.635,
            5.972,
            4.973,
            6.122,
            6.023,
            6.266,
            6.567,
            5.705,
            5.914,
            5.782,
            6.382,
            6.113,
            6.426,
            6.376,
            6.041,
            5.708,
            6.415,
            6.431,
            6.312,
            6.083,
            5.868,
            6.333,
            6.144,
            5.706,
            6.031,
            6.316,
            6.31,
            6.037,
            5.869,
            5.895,
            6.059,
            5.985,
            5.968,
            7.241,
            6.54,
            6.696,
            6.874,
            6.014,
            5.898,
            6.516,
            6.635,
            6.939,
            6.49,
            6.579,
            5.884,
            6.728,
            5.663,
            5.936,
            6.212,
            6.395,
            6.127,
            6.112,
            6.398,
            6.251,
            5.362,
            5.803,
            8.78,
            3.561,
            4.963,
            3.863,
            4.97,
            6.683,
            7.016,
            6.216,
            5.875,
            4.906,
            4.138,
            7.313,
            6.649,
            6.794,
            6.38,
            6.223,
            6.968,
            6.545,
            5.536,
            5.52,
            4.368,
            5.277,
            4.652,
            5,
            4.88,
            5.39,
            5.713,
            6.051,
            5.036,
            6.193,
            5.887,
            6.471,
            6.405,
            5.747,
            5.453,
            5.852,
            5.987,
            6.343,
            6.404,
            5.349,
            5.531,
            5.683,
            4.138,
            5.608,
            5.617,
            6.852,
            5.757,
            6.657,
            4.628,
            5.155,
            4.519,
            6.434,
            6.782,
            5.304,
            5.957,
            6.824,
            6.411,
            6.006,
            5.648,
            6.103,
            5.565,
            5.896,
            5.837,
            6.202,
            6.193,
            6.38,
            6.348,
            6.833,
            6.425,
            6.436,
            6.208,
            6.629,
            6.461,
            6.152,
            5.935,
            5.627,
            5.818,
            6.406,
            6.219,
            6.485,
            5.854,
            6.459,
            6.341,
            6.251,
            6.185,
            6.417,
            6.749,
            6.655,
            6.297,
            7.393,
            6.728,
            6.525,
            5.976,
            5.936,
            6.301,
            6.081,
            6.701,
            6.376,
            6.317,
            6.513,
            6.209,
            5.759,
            5.952,
            6.003,
            5.926,
            5.713,
            6.167,
            6.229,
            6.437,
            6.98,
            5.427,
            6.162,
            6.484,
            5.304,
            6.185,
            6.229,
            6.242,
            6.75,
            7.061,
            5.762,
            5.871,
            6.312,
            6.114,
            5.905,
            5.454,
            5.414,
            5.093,
            5.983,
            5.983,
            5.707,
            5.926,
            5.67,
            5.39,
            5.794,
            6.019,
            5.569,
            6.027,
            6.593,
            6.12,
            6.976,
            6.794,
            6.03
           ]
          },
          {
           "axis": {
            "matches": true
           },
           "label": "LSTAT",
           "values": [
            4.98,
            9.14,
            4.03,
            2.94,
            5.33,
            5.21,
            12.43,
            19.15,
            29.93,
            17.1,
            20.45,
            13.27,
            15.71,
            8.26,
            10.26,
            8.47,
            6.58,
            14.67,
            11.69,
            11.28,
            21.02,
            13.83,
            18.72,
            19.88,
            16.3,
            16.51,
            14.81,
            17.28,
            12.8,
            11.98,
            22.6,
            13.04,
            27.71,
            18.35,
            20.34,
            9.68,
            11.41,
            8.77,
            10.13,
            4.32,
            1.98,
            4.84,
            5.81,
            7.44,
            9.55,
            10.21,
            14.15,
            18.8,
            30.81,
            16.2,
            13.45,
            9.43,
            5.28,
            8.43,
            14.8,
            4.81,
            5.77,
            3.95,
            6.86,
            9.22,
            13.15,
            14.44,
            6.73,
            9.5,
            8.05,
            4.67,
            10.24,
            8.1,
            13.09,
            8.79,
            6.72,
            9.88,
            5.52,
            7.54,
            6.78,
            8.94,
            11.97,
            10.27,
            12.34,
            9.1,
            5.29,
            7.22,
            6.72,
            7.51,
            9.62,
            6.53,
            12.86,
            8.44,
            5.5,
            5.7,
            8.81,
            8.2,
            8.16,
            6.21,
            10.59,
            6.65,
            11.34,
            4.21,
            3.57,
            6.19,
            9.42,
            7.67,
            10.63,
            13.44,
            12.33,
            16.47,
            18.66,
            14.09,
            12.27,
            15.55,
            13,
            10.16,
            16.21,
            17.09,
            10.45,
            15.76,
            12.04,
            10.3,
            15.37,
            13.61,
            14.37,
            14.27,
            17.93,
            25.41,
            17.58,
            14.81,
            27.26,
            17.19,
            15.39,
            18.34,
            12.6,
            12.26,
            11.12,
            15.03,
            17.31,
            16.96,
            16.9,
            14.59,
            21.32,
            18.46,
            24.16,
            34.41,
            26.82,
            26.42,
            29.29,
            27.8,
            16.65,
            29.53,
            28.32,
            21.45,
            14.1,
            13.28,
            12.12,
            15.79,
            15.12,
            15.02,
            16.14,
            4.59,
            6.43,
            7.39,
            5.5,
            1.73,
            1.92,
            3.32,
            11.64,
            9.81,
            3.7,
            12.14,
            11.1,
            11.32,
            14.43,
            12.03,
            14.69,
            9.04,
            9.64,
            5.33,
            10.11,
            6.29,
            6.92,
            5.04,
            7.56,
            9.45,
            4.82,
            5.68,
            13.98,
            13.15,
            4.45,
            6.68,
            4.56,
            5.39,
            5.1,
            4.69,
            2.87,
            5.03,
            4.38,
            2.97,
            4.08,
            8.61,
            6.62,
            4.56,
            4.45,
            7.43,
            3.11,
            3.81,
            2.88,
            10.87,
            10.97,
            18.06,
            14.66,
            23.09,
            17.27,
            23.98,
            16.03,
            9.38,
            29.55,
            9.47,
            13.51,
            9.69,
            17.92,
            10.5,
            9.71,
            21.46,
            9.93,
            7.6,
            4.14,
            4.63,
            3.13,
            6.36,
            3.92,
            3.76,
            11.65,
            5.25,
            2.47,
            3.95,
            8.05,
            10.88,
            9.54,
            4.73,
            6.36,
            7.37,
            11.38,
            12.4,
            11.22,
            5.19,
            12.5,
            18.46,
            9.16,
            10.15,
            9.52,
            6.56,
            5.9,
            3.59,
            3.53,
            3.54,
            6.57,
            9.25,
            3.11,
            5.12,
            7.79,
            6.9,
            9.59,
            7.26,
            5.91,
            11.25,
            8.1,
            10.45,
            14.79,
            7.44,
            3.16,
            13.65,
            13,
            6.59,
            7.73,
            6.58,
            3.53,
            2.98,
            6.05,
            4.16,
            7.19,
            4.85,
            3.76,
            4.59,
            3.01,
            3.16,
            7.85,
            8.23,
            12.93,
            7.14,
            7.6,
            9.51,
            3.33,
            3.56,
            4.7,
            8.58,
            10.4,
            6.27,
            7.39,
            15.84,
            4.97,
            4.74,
            6.07,
            9.5,
            8.67,
            4.86,
            6.93,
            8.93,
            6.47,
            7.53,
            4.54,
            9.97,
            12.64,
            5.98,
            11.72,
            7.9,
            9.28,
            11.5,
            18.33,
            15.94,
            10.36,
            12.73,
            7.2,
            6.87,
            7.7,
            11.74,
            6.12,
            5.08,
            6.15,
            12.79,
            9.97,
            7.34,
            9.09,
            12.43,
            7.83,
            5.68,
            6.75,
            8.01,
            9.8,
            10.56,
            8.51,
            9.74,
            9.29,
            5.49,
            8.65,
            7.18,
            4.61,
            10.53,
            12.67,
            6.36,
            5.99,
            5.89,
            5.98,
            5.49,
            7.79,
            4.5,
            8.05,
            5.57,
            17.6,
            13.27,
            11.48,
            12.67,
            7.79,
            14.19,
            10.19,
            14.64,
            5.29,
            7.12,
            14,
            13.33,
            3.26,
            3.73,
            2.96,
            9.53,
            8.88,
            34.77,
            37.97,
            13.44,
            23.24,
            21.24,
            23.69,
            21.78,
            17.21,
            21.08,
            23.6,
            24.56,
            30.63,
            30.81,
            28.28,
            31.99,
            30.62,
            20.85,
            17.11,
            18.76,
            25.68,
            15.17,
            16.35,
            17.12,
            19.37,
            19.92,
            30.59,
            29.97,
            26.77,
            20.32,
            20.31,
            19.77,
            27.38,
            22.98,
            23.34,
            12.13,
            26.4,
            19.78,
            10.11,
            21.22,
            34.37,
            20.08,
            36.98,
            29.05,
            25.79,
            26.64,
            20.62,
            22.74,
            15.02,
            15.7,
            14.1,
            23.29,
            17.16,
            24.39,
            15.69,
            14.52,
            21.52,
            24.08,
            17.64,
            19.69,
            12.03,
            16.22,
            15.17,
            23.27,
            18.05,
            26.45,
            34.02,
            22.88,
            22.11,
            19.52,
            16.59,
            18.85,
            23.79,
            23.98,
            17.79,
            16.44,
            18.13,
            19.31,
            17.44,
            17.73,
            17.27,
            16.74,
            18.71,
            18.13,
            19.01,
            16.94,
            16.23,
            14.7,
            16.42,
            14.65,
            13.99,
            10.29,
            13.22,
            14.13,
            17.15,
            21.32,
            18.13,
            14.76,
            16.29,
            12.87,
            14.36,
            11.66,
            18.14,
            24.1,
            18.68,
            24.91,
            18.03,
            13.11,
            10.74,
            7.74,
            7.01,
            10.42,
            13.34,
            10.58,
            14.98,
            11.45,
            18.06,
            23.97,
            29.68,
            18.07,
            13.35,
            12.01,
            13.59,
            17.6,
            21.14,
            14.1,
            12.92,
            15.1,
            14.33,
            9.67,
            9.08,
            5.64,
            6.48,
            7.88
           ]
          },
          {
           "axis": {
            "matches": true
           },
           "label": "PTRATIO",
           "values": [
            15.3,
            17.8,
            17.8,
            18.7,
            18.7,
            18.7,
            15.2,
            15.2,
            15.2,
            15.2,
            15.2,
            15.2,
            15.2,
            21,
            21,
            21,
            21,
            21,
            21,
            21,
            21,
            21,
            21,
            21,
            21,
            21,
            21,
            21,
            21,
            21,
            21,
            21,
            21,
            21,
            21,
            19.2,
            19.2,
            19.2,
            19.2,
            18.3,
            18.3,
            17.9,
            17.9,
            17.9,
            17.9,
            17.9,
            17.9,
            17.9,
            17.9,
            17.9,
            16.8,
            16.8,
            16.8,
            16.8,
            21.1,
            17.9,
            17.3,
            15.1,
            19.7,
            19.7,
            19.7,
            19.7,
            19.7,
            19.7,
            18.6,
            16.1,
            16.1,
            18.9,
            18.9,
            18.9,
            19.2,
            19.2,
            19.2,
            19.2,
            18.7,
            18.7,
            18.7,
            18.7,
            18.7,
            18.7,
            19,
            19,
            19,
            19,
            18.5,
            18.5,
            18.5,
            18.5,
            17.8,
            17.8,
            17.8,
            17.8,
            18.2,
            18.2,
            18.2,
            18,
            18,
            18,
            18,
            18,
            20.9,
            20.9,
            20.9,
            20.9,
            20.9,
            20.9,
            20.9,
            20.9,
            20.9,
            20.9,
            20.9,
            17.8,
            17.8,
            17.8,
            17.8,
            17.8,
            17.8,
            17.8,
            17.8,
            17.8,
            19.1,
            19.1,
            19.1,
            19.1,
            19.1,
            19.1,
            19.1,
            21.2,
            21.2,
            21.2,
            21.2,
            21.2,
            21.2,
            21.2,
            21.2,
            21.2,
            21.2,
            21.2,
            21.2,
            21.2,
            21.2,
            21.2,
            14.7,
            14.7,
            14.7,
            14.7,
            14.7,
            14.7,
            14.7,
            14.7,
            14.7,
            14.7,
            14.7,
            14.7,
            14.7,
            14.7,
            14.7,
            14.7,
            14.7,
            14.7,
            14.7,
            14.7,
            14.7,
            14.7,
            14.7,
            14.7,
            14.7,
            14.7,
            14.7,
            14.7,
            14.7,
            14.7,
            16.6,
            16.6,
            16.6,
            16.6,
            16.6,
            16.6,
            16.6,
            17.8,
            17.8,
            17.8,
            17.8,
            17.8,
            17.8,
            17.8,
            17.8,
            15.2,
            15.2,
            15.2,
            15.2,
            15.2,
            15.2,
            15.6,
            15.6,
            14.4,
            12.6,
            12.6,
            12.6,
            17,
            17,
            14.7,
            14.7,
            14.7,
            14.7,
            18.6,
            18.6,
            18.6,
            18.6,
            18.6,
            18.6,
            18.6,
            18.6,
            18.6,
            18.6,
            18.6,
            16.4,
            16.4,
            16.4,
            16.4,
            17.4,
            17.4,
            17.4,
            17.4,
            17.4,
            17.4,
            17.4,
            17.4,
            17.4,
            17.4,
            17.4,
            17.4,
            17.4,
            17.4,
            17.4,
            17.4,
            17.4,
            17.4,
            16.6,
            16.6,
            16.6,
            16.6,
            16.6,
            16.6,
            19.1,
            19.1,
            19.1,
            19.1,
            19.1,
            19.1,
            19.1,
            19.1,
            19.1,
            19.1,
            16.4,
            16.4,
            15.9,
            13,
            13,
            13,
            13,
            13,
            13,
            13,
            13,
            13,
            13,
            13,
            13,
            18.6,
            18.6,
            18.6,
            18.6,
            18.6,
            17.6,
            17.6,
            17.6,
            17.6,
            17.6,
            14.9,
            14.9,
            14.9,
            14.9,
            13.6,
            15.3,
            15.3,
            18.2,
            16.6,
            16.6,
            16.6,
            19.2,
            19.2,
            19.2,
            16,
            16,
            16,
            16,
            16,
            14.8,
            14.8,
            14.8,
            16.1,
            16.1,
            16.1,
            18.4,
            18.4,
            18.4,
            18.4,
            18.4,
            18.4,
            18.4,
            18.4,
            18.4,
            18.4,
            18.4,
            18.4,
            18.4,
            18.4,
            18.4,
            18.4,
            19.6,
            19.6,
            19.6,
            19.6,
            19.6,
            19.6,
            19.6,
            19.6,
            16.9,
            16.9,
            16.9,
            16.9,
            16.9,
            20.2,
            20.2,
            20.2,
            20.2,
            20.2,
            20.2,
            20.2,
            20.2,
            15.5,
            15.9,
            17.6,
            17.6,
            18.8,
            18.8,
            17.9,
            17,
            19.7,
            19.7,
            18.3,
            18.3,
            17,
            22,
            22,
            20.2,
            20.2,
            20.2,
            20.2,
            20.2,
            20.2,
            20.2,
            20.2,
            20.2,
            20.2,
            20.2,
            20.2,
            20.2,
            20.2,
            20.2,
            20.2,
            20.2,
            20.2,
            20.2,
            20.2,
            20.2,
            20.2,
            20.2,
            20.2,
            20.2,
            20.2,
            20.2,
            20.2,
            20.2,
            20.2,
            20.2,
            20.2,
            20.2,
            20.2,
            20.2,
            20.2,
            20.2,
            20.2,
            20.2,
            20.2,
            20.2,
            20.2,
            20.2,
            20.2,
            20.2,
            20.2,
            20.2,
            20.2,
            20.2,
            20.2,
            20.2,
            20.2,
            20.2,
            20.2,
            20.2,
            20.2,
            20.2,
            20.2,
            20.2,
            20.2,
            20.2,
            20.2,
            20.2,
            20.2,
            20.2,
            20.2,
            20.2,
            20.2,
            20.2,
            20.2,
            20.2,
            20.2,
            20.2,
            20.2,
            20.2,
            20.2,
            20.2,
            20.2,
            20.2,
            20.2,
            20.2,
            20.2,
            20.2,
            20.2,
            20.2,
            20.2,
            20.2,
            20.2,
            20.2,
            20.2,
            20.2,
            20.2,
            20.2,
            20.2,
            20.2,
            20.2,
            20.2,
            20.2,
            20.2,
            20.2,
            20.2,
            20.2,
            20.2,
            20.2,
            20.2,
            20.2,
            20.2,
            20.2,
            20.2,
            20.2,
            20.2,
            20.2,
            20.2,
            20.2,
            20.2,
            20.2,
            20.2,
            20.2,
            20.2,
            20.2,
            20.2,
            20.2,
            20.2,
            20.2,
            20.2,
            20.2,
            20.2,
            20.2,
            20.2,
            20.2,
            20.2,
            20.2,
            20.1,
            20.1,
            20.1,
            20.1,
            20.1,
            19.2,
            19.2,
            19.2,
            19.2,
            19.2,
            19.2,
            19.2,
            19.2,
            21,
            21,
            21,
            21,
            21
           ]
          },
          {
           "axis": {
            "matches": true
           },
           "label": "MEDV",
           "values": [
            24,
            21.6,
            34.7,
            33.4,
            36.2,
            28.7,
            22.9,
            27.1,
            16.5,
            18.9,
            15,
            18.9,
            21.7,
            20.4,
            18.2,
            19.9,
            23.1,
            17.5,
            20.2,
            18.2,
            13.6,
            19.6,
            15.2,
            14.5,
            15.6,
            13.9,
            16.6,
            14.8,
            18.4,
            21,
            12.7,
            14.5,
            13.2,
            13.1,
            13.5,
            18.9,
            20,
            21,
            24.7,
            30.8,
            34.9,
            26.6,
            25.3,
            24.7,
            21.2,
            19.3,
            20,
            16.6,
            14.4,
            19.4,
            19.7,
            20.5,
            25,
            23.4,
            18.9,
            35.4,
            24.7,
            31.6,
            23.3,
            19.6,
            18.7,
            16,
            22.2,
            25,
            33,
            23.5,
            19.4,
            22,
            17.4,
            20.9,
            24.2,
            21.7,
            22.8,
            23.4,
            24.1,
            21.4,
            20,
            20.8,
            21.2,
            20.3,
            28,
            23.9,
            24.8,
            22.9,
            23.9,
            26.6,
            22.5,
            22.2,
            23.6,
            28.7,
            22.6,
            22,
            22.9,
            25,
            20.6,
            28.4,
            21.4,
            38.7,
            43.8,
            33.2,
            27.5,
            26.5,
            18.6,
            19.3,
            20.1,
            19.5,
            19.5,
            20.4,
            19.8,
            19.4,
            21.7,
            22.8,
            18.8,
            18.7,
            18.5,
            18.3,
            21.2,
            19.2,
            20.4,
            19.3,
            22,
            20.3,
            20.5,
            17.3,
            18.8,
            21.4,
            15.7,
            16.2,
            18,
            14.3,
            19.2,
            19.6,
            23,
            18.4,
            15.6,
            18.1,
            17.4,
            17.1,
            13.3,
            17.8,
            14,
            14.4,
            13.4,
            15.6,
            11.8,
            13.8,
            15.6,
            14.6,
            17.8,
            15.4,
            21.5,
            19.6,
            15.3,
            19.4,
            17,
            15.6,
            13.1,
            41.3,
            24.3,
            23.3,
            27,
            50,
            50,
            50,
            22.7,
            25,
            50,
            23.8,
            23.8,
            22.3,
            17.4,
            19.1,
            23.1,
            23.6,
            22.6,
            29.4,
            23.2,
            24.6,
            29.9,
            37.2,
            39.8,
            36.2,
            37.9,
            32.5,
            26.4,
            29.6,
            50,
            32,
            29.8,
            34.9,
            37,
            30.5,
            36.4,
            31.1,
            29.1,
            50,
            33.3,
            30.3,
            34.6,
            34.9,
            32.9,
            24.1,
            42.3,
            48.5,
            50,
            22.6,
            24.4,
            22.5,
            24.4,
            20,
            21.7,
            19.3,
            22.4,
            28.1,
            23.7,
            25,
            23.3,
            28.7,
            21.5,
            23,
            26.7,
            21.7,
            27.5,
            30.1,
            44.8,
            50,
            37.6,
            31.6,
            46.7,
            31.5,
            24.3,
            31.7,
            41.7,
            48.3,
            29,
            24,
            25.1,
            31.5,
            23.7,
            23.3,
            22,
            20.1,
            22.2,
            23.7,
            17.6,
            18.5,
            24.3,
            20.5,
            24.5,
            26.2,
            24.4,
            24.8,
            29.6,
            42.8,
            21.9,
            20.9,
            44,
            50,
            36,
            30.1,
            33.8,
            43.1,
            48.8,
            31,
            36.5,
            22.8,
            30.7,
            50,
            43.5,
            20.7,
            21.1,
            25.2,
            24.4,
            35.2,
            32.4,
            32,
            33.2,
            33.1,
            29.1,
            35.1,
            45.4,
            35.4,
            46,
            50,
            32.2,
            22,
            20.1,
            23.2,
            22.3,
            24.8,
            28.5,
            37.3,
            27.9,
            23.9,
            21.7,
            28.6,
            27.1,
            20.3,
            22.5,
            29,
            24.8,
            22,
            26.4,
            33.1,
            36.1,
            28.4,
            33.4,
            28.2,
            22.8,
            20.3,
            16.1,
            22.1,
            19.4,
            21.6,
            23.8,
            16.2,
            17.8,
            19.8,
            23.1,
            21,
            23.8,
            23.1,
            20.4,
            18.5,
            25,
            24.6,
            23,
            22.2,
            19.3,
            22.6,
            19.8,
            17.1,
            19.4,
            22.2,
            20.7,
            21.1,
            19.5,
            18.5,
            20.6,
            19,
            18.7,
            32.7,
            16.5,
            23.9,
            31.2,
            17.5,
            17.2,
            23.1,
            24.5,
            26.6,
            22.9,
            24.1,
            18.6,
            30.1,
            18.2,
            20.6,
            17.8,
            21.7,
            22.7,
            22.6,
            25,
            19.9,
            20.8,
            16.8,
            21.9,
            27.5,
            21.9,
            23.1,
            50,
            50,
            50,
            50,
            50,
            13.8,
            13.8,
            15,
            13.9,
            13.3,
            13.1,
            10.2,
            10.4,
            10.9,
            11.3,
            12.3,
            8.8,
            7.2,
            10.5,
            7.4,
            10.2,
            11.5,
            15.1,
            23.2,
            9.7,
            13.8,
            12.7,
            13.1,
            12.5,
            8.5,
            5,
            6.3,
            5.6,
            7.2,
            12.1,
            8.3,
            8.5,
            5,
            11.9,
            27.9,
            17.2,
            27.5,
            15,
            17.2,
            17.9,
            16.3,
            7,
            7.2,
            7.5,
            10.4,
            8.8,
            8.4,
            16.7,
            14.2,
            20.8,
            13.4,
            11.7,
            8.3,
            10.2,
            10.9,
            11,
            9.5,
            14.5,
            14.1,
            16.1,
            14.3,
            11.7,
            13.4,
            9.6,
            8.7,
            8.4,
            12.8,
            10.5,
            17.1,
            18.4,
            15.4,
            10.8,
            11.8,
            14.9,
            12.6,
            14.1,
            13,
            13.4,
            15.2,
            16.1,
            17.8,
            14.9,
            14.1,
            12.7,
            13.5,
            14.9,
            20,
            16.4,
            17.7,
            19.5,
            20.2,
            21.4,
            19.9,
            19,
            19.1,
            19.1,
            20.1,
            19.9,
            19.6,
            23.2,
            29.8,
            13.8,
            13.3,
            16.7,
            12,
            14.6,
            21.4,
            23,
            23.7,
            25,
            21.8,
            20.6,
            21.2,
            19.1,
            20.6,
            15.2,
            7,
            8.1,
            13.6,
            20.1,
            21.8,
            24.5,
            23.1,
            19.7,
            18.3,
            21.2,
            17.5,
            16.8,
            22.4,
            20.6,
            23.9,
            22,
            11.9
           ]
          }
         ],
         "hovertemplate": "%{xaxis.title.text}=%{x}<br>%{yaxis.title.text}=%{y}<br>MEDV=%{marker.color}<extra></extra>",
         "legendgroup": "",
         "marker": {
          "color": [
           24,
           21.6,
           34.7,
           33.4,
           36.2,
           28.7,
           22.9,
           27.1,
           16.5,
           18.9,
           15,
           18.9,
           21.7,
           20.4,
           18.2,
           19.9,
           23.1,
           17.5,
           20.2,
           18.2,
           13.6,
           19.6,
           15.2,
           14.5,
           15.6,
           13.9,
           16.6,
           14.8,
           18.4,
           21,
           12.7,
           14.5,
           13.2,
           13.1,
           13.5,
           18.9,
           20,
           21,
           24.7,
           30.8,
           34.9,
           26.6,
           25.3,
           24.7,
           21.2,
           19.3,
           20,
           16.6,
           14.4,
           19.4,
           19.7,
           20.5,
           25,
           23.4,
           18.9,
           35.4,
           24.7,
           31.6,
           23.3,
           19.6,
           18.7,
           16,
           22.2,
           25,
           33,
           23.5,
           19.4,
           22,
           17.4,
           20.9,
           24.2,
           21.7,
           22.8,
           23.4,
           24.1,
           21.4,
           20,
           20.8,
           21.2,
           20.3,
           28,
           23.9,
           24.8,
           22.9,
           23.9,
           26.6,
           22.5,
           22.2,
           23.6,
           28.7,
           22.6,
           22,
           22.9,
           25,
           20.6,
           28.4,
           21.4,
           38.7,
           43.8,
           33.2,
           27.5,
           26.5,
           18.6,
           19.3,
           20.1,
           19.5,
           19.5,
           20.4,
           19.8,
           19.4,
           21.7,
           22.8,
           18.8,
           18.7,
           18.5,
           18.3,
           21.2,
           19.2,
           20.4,
           19.3,
           22,
           20.3,
           20.5,
           17.3,
           18.8,
           21.4,
           15.7,
           16.2,
           18,
           14.3,
           19.2,
           19.6,
           23,
           18.4,
           15.6,
           18.1,
           17.4,
           17.1,
           13.3,
           17.8,
           14,
           14.4,
           13.4,
           15.6,
           11.8,
           13.8,
           15.6,
           14.6,
           17.8,
           15.4,
           21.5,
           19.6,
           15.3,
           19.4,
           17,
           15.6,
           13.1,
           41.3,
           24.3,
           23.3,
           27,
           50,
           50,
           50,
           22.7,
           25,
           50,
           23.8,
           23.8,
           22.3,
           17.4,
           19.1,
           23.1,
           23.6,
           22.6,
           29.4,
           23.2,
           24.6,
           29.9,
           37.2,
           39.8,
           36.2,
           37.9,
           32.5,
           26.4,
           29.6,
           50,
           32,
           29.8,
           34.9,
           37,
           30.5,
           36.4,
           31.1,
           29.1,
           50,
           33.3,
           30.3,
           34.6,
           34.9,
           32.9,
           24.1,
           42.3,
           48.5,
           50,
           22.6,
           24.4,
           22.5,
           24.4,
           20,
           21.7,
           19.3,
           22.4,
           28.1,
           23.7,
           25,
           23.3,
           28.7,
           21.5,
           23,
           26.7,
           21.7,
           27.5,
           30.1,
           44.8,
           50,
           37.6,
           31.6,
           46.7,
           31.5,
           24.3,
           31.7,
           41.7,
           48.3,
           29,
           24,
           25.1,
           31.5,
           23.7,
           23.3,
           22,
           20.1,
           22.2,
           23.7,
           17.6,
           18.5,
           24.3,
           20.5,
           24.5,
           26.2,
           24.4,
           24.8,
           29.6,
           42.8,
           21.9,
           20.9,
           44,
           50,
           36,
           30.1,
           33.8,
           43.1,
           48.8,
           31,
           36.5,
           22.8,
           30.7,
           50,
           43.5,
           20.7,
           21.1,
           25.2,
           24.4,
           35.2,
           32.4,
           32,
           33.2,
           33.1,
           29.1,
           35.1,
           45.4,
           35.4,
           46,
           50,
           32.2,
           22,
           20.1,
           23.2,
           22.3,
           24.8,
           28.5,
           37.3,
           27.9,
           23.9,
           21.7,
           28.6,
           27.1,
           20.3,
           22.5,
           29,
           24.8,
           22,
           26.4,
           33.1,
           36.1,
           28.4,
           33.4,
           28.2,
           22.8,
           20.3,
           16.1,
           22.1,
           19.4,
           21.6,
           23.8,
           16.2,
           17.8,
           19.8,
           23.1,
           21,
           23.8,
           23.1,
           20.4,
           18.5,
           25,
           24.6,
           23,
           22.2,
           19.3,
           22.6,
           19.8,
           17.1,
           19.4,
           22.2,
           20.7,
           21.1,
           19.5,
           18.5,
           20.6,
           19,
           18.7,
           32.7,
           16.5,
           23.9,
           31.2,
           17.5,
           17.2,
           23.1,
           24.5,
           26.6,
           22.9,
           24.1,
           18.6,
           30.1,
           18.2,
           20.6,
           17.8,
           21.7,
           22.7,
           22.6,
           25,
           19.9,
           20.8,
           16.8,
           21.9,
           27.5,
           21.9,
           23.1,
           50,
           50,
           50,
           50,
           50,
           13.8,
           13.8,
           15,
           13.9,
           13.3,
           13.1,
           10.2,
           10.4,
           10.9,
           11.3,
           12.3,
           8.8,
           7.2,
           10.5,
           7.4,
           10.2,
           11.5,
           15.1,
           23.2,
           9.7,
           13.8,
           12.7,
           13.1,
           12.5,
           8.5,
           5,
           6.3,
           5.6,
           7.2,
           12.1,
           8.3,
           8.5,
           5,
           11.9,
           27.9,
           17.2,
           27.5,
           15,
           17.2,
           17.9,
           16.3,
           7,
           7.2,
           7.5,
           10.4,
           8.8,
           8.4,
           16.7,
           14.2,
           20.8,
           13.4,
           11.7,
           8.3,
           10.2,
           10.9,
           11,
           9.5,
           14.5,
           14.1,
           16.1,
           14.3,
           11.7,
           13.4,
           9.6,
           8.7,
           8.4,
           12.8,
           10.5,
           17.1,
           18.4,
           15.4,
           10.8,
           11.8,
           14.9,
           12.6,
           14.1,
           13,
           13.4,
           15.2,
           16.1,
           17.8,
           14.9,
           14.1,
           12.7,
           13.5,
           14.9,
           20,
           16.4,
           17.7,
           19.5,
           20.2,
           21.4,
           19.9,
           19,
           19.1,
           19.1,
           20.1,
           19.9,
           19.6,
           23.2,
           29.8,
           13.8,
           13.3,
           16.7,
           12,
           14.6,
           21.4,
           23,
           23.7,
           25,
           21.8,
           20.6,
           21.2,
           19.1,
           20.6,
           15.2,
           7,
           8.1,
           13.6,
           20.1,
           21.8,
           24.5,
           23.1,
           19.7,
           18.3,
           21.2,
           17.5,
           16.8,
           22.4,
           20.6,
           23.9,
           22,
           11.9
          ],
          "coloraxis": "coloraxis",
          "symbol": "circle"
         },
         "name": "",
         "showlegend": false,
         "type": "splom"
        }
       ],
       "layout": {
        "coloraxis": {
         "colorbar": {
          "title": {
           "text": "MEDV"
          }
         },
         "colorscale": [
          [
           0,
           "#0d0887"
          ],
          [
           0.1111111111111111,
           "#46039f"
          ],
          [
           0.2222222222222222,
           "#7201a8"
          ],
          [
           0.3333333333333333,
           "#9c179e"
          ],
          [
           0.4444444444444444,
           "#bd3786"
          ],
          [
           0.5555555555555556,
           "#d8576b"
          ],
          [
           0.6666666666666666,
           "#ed7953"
          ],
          [
           0.7777777777777778,
           "#fb9f3a"
          ],
          [
           0.8888888888888888,
           "#fdca26"
          ],
          [
           1,
           "#f0f921"
          ]
         ]
        },
        "dragmode": "select",
        "height": 1200,
        "legend": {
         "tracegroupgap": 0
        },
        "template": {
         "data": {
          "bar": [
           {
            "error_x": {
             "color": "#2a3f5f"
            },
            "error_y": {
             "color": "#2a3f5f"
            },
            "marker": {
             "line": {
              "color": "#E5ECF6",
              "width": 0.5
             },
             "pattern": {
              "fillmode": "overlay",
              "size": 10,
              "solidity": 0.2
             }
            },
            "type": "bar"
           }
          ],
          "barpolar": [
           {
            "marker": {
             "line": {
              "color": "#E5ECF6",
              "width": 0.5
             },
             "pattern": {
              "fillmode": "overlay",
              "size": 10,
              "solidity": 0.2
             }
            },
            "type": "barpolar"
           }
          ],
          "carpet": [
           {
            "aaxis": {
             "endlinecolor": "#2a3f5f",
             "gridcolor": "white",
             "linecolor": "white",
             "minorgridcolor": "white",
             "startlinecolor": "#2a3f5f"
            },
            "baxis": {
             "endlinecolor": "#2a3f5f",
             "gridcolor": "white",
             "linecolor": "white",
             "minorgridcolor": "white",
             "startlinecolor": "#2a3f5f"
            },
            "type": "carpet"
           }
          ],
          "choropleth": [
           {
            "colorbar": {
             "outlinewidth": 0,
             "ticks": ""
            },
            "type": "choropleth"
           }
          ],
          "contour": [
           {
            "colorbar": {
             "outlinewidth": 0,
             "ticks": ""
            },
            "colorscale": [
             [
              0,
              "#0d0887"
             ],
             [
              0.1111111111111111,
              "#46039f"
             ],
             [
              0.2222222222222222,
              "#7201a8"
             ],
             [
              0.3333333333333333,
              "#9c179e"
             ],
             [
              0.4444444444444444,
              "#bd3786"
             ],
             [
              0.5555555555555556,
              "#d8576b"
             ],
             [
              0.6666666666666666,
              "#ed7953"
             ],
             [
              0.7777777777777778,
              "#fb9f3a"
             ],
             [
              0.8888888888888888,
              "#fdca26"
             ],
             [
              1,
              "#f0f921"
             ]
            ],
            "type": "contour"
           }
          ],
          "contourcarpet": [
           {
            "colorbar": {
             "outlinewidth": 0,
             "ticks": ""
            },
            "type": "contourcarpet"
           }
          ],
          "heatmap": [
           {
            "colorbar": {
             "outlinewidth": 0,
             "ticks": ""
            },
            "colorscale": [
             [
              0,
              "#0d0887"
             ],
             [
              0.1111111111111111,
              "#46039f"
             ],
             [
              0.2222222222222222,
              "#7201a8"
             ],
             [
              0.3333333333333333,
              "#9c179e"
             ],
             [
              0.4444444444444444,
              "#bd3786"
             ],
             [
              0.5555555555555556,
              "#d8576b"
             ],
             [
              0.6666666666666666,
              "#ed7953"
             ],
             [
              0.7777777777777778,
              "#fb9f3a"
             ],
             [
              0.8888888888888888,
              "#fdca26"
             ],
             [
              1,
              "#f0f921"
             ]
            ],
            "type": "heatmap"
           }
          ],
          "heatmapgl": [
           {
            "colorbar": {
             "outlinewidth": 0,
             "ticks": ""
            },
            "colorscale": [
             [
              0,
              "#0d0887"
             ],
             [
              0.1111111111111111,
              "#46039f"
             ],
             [
              0.2222222222222222,
              "#7201a8"
             ],
             [
              0.3333333333333333,
              "#9c179e"
             ],
             [
              0.4444444444444444,
              "#bd3786"
             ],
             [
              0.5555555555555556,
              "#d8576b"
             ],
             [
              0.6666666666666666,
              "#ed7953"
             ],
             [
              0.7777777777777778,
              "#fb9f3a"
             ],
             [
              0.8888888888888888,
              "#fdca26"
             ],
             [
              1,
              "#f0f921"
             ]
            ],
            "type": "heatmapgl"
           }
          ],
          "histogram": [
           {
            "marker": {
             "pattern": {
              "fillmode": "overlay",
              "size": 10,
              "solidity": 0.2
             }
            },
            "type": "histogram"
           }
          ],
          "histogram2d": [
           {
            "colorbar": {
             "outlinewidth": 0,
             "ticks": ""
            },
            "colorscale": [
             [
              0,
              "#0d0887"
             ],
             [
              0.1111111111111111,
              "#46039f"
             ],
             [
              0.2222222222222222,
              "#7201a8"
             ],
             [
              0.3333333333333333,
              "#9c179e"
             ],
             [
              0.4444444444444444,
              "#bd3786"
             ],
             [
              0.5555555555555556,
              "#d8576b"
             ],
             [
              0.6666666666666666,
              "#ed7953"
             ],
             [
              0.7777777777777778,
              "#fb9f3a"
             ],
             [
              0.8888888888888888,
              "#fdca26"
             ],
             [
              1,
              "#f0f921"
             ]
            ],
            "type": "histogram2d"
           }
          ],
          "histogram2dcontour": [
           {
            "colorbar": {
             "outlinewidth": 0,
             "ticks": ""
            },
            "colorscale": [
             [
              0,
              "#0d0887"
             ],
             [
              0.1111111111111111,
              "#46039f"
             ],
             [
              0.2222222222222222,
              "#7201a8"
             ],
             [
              0.3333333333333333,
              "#9c179e"
             ],
             [
              0.4444444444444444,
              "#bd3786"
             ],
             [
              0.5555555555555556,
              "#d8576b"
             ],
             [
              0.6666666666666666,
              "#ed7953"
             ],
             [
              0.7777777777777778,
              "#fb9f3a"
             ],
             [
              0.8888888888888888,
              "#fdca26"
             ],
             [
              1,
              "#f0f921"
             ]
            ],
            "type": "histogram2dcontour"
           }
          ],
          "mesh3d": [
           {
            "colorbar": {
             "outlinewidth": 0,
             "ticks": ""
            },
            "type": "mesh3d"
           }
          ],
          "parcoords": [
           {
            "line": {
             "colorbar": {
              "outlinewidth": 0,
              "ticks": ""
             }
            },
            "type": "parcoords"
           }
          ],
          "pie": [
           {
            "automargin": true,
            "type": "pie"
           }
          ],
          "scatter": [
           {
            "fillpattern": {
             "fillmode": "overlay",
             "size": 10,
             "solidity": 0.2
            },
            "type": "scatter"
           }
          ],
          "scatter3d": [
           {
            "line": {
             "colorbar": {
              "outlinewidth": 0,
              "ticks": ""
             }
            },
            "marker": {
             "colorbar": {
              "outlinewidth": 0,
              "ticks": ""
             }
            },
            "type": "scatter3d"
           }
          ],
          "scattercarpet": [
           {
            "marker": {
             "colorbar": {
              "outlinewidth": 0,
              "ticks": ""
             }
            },
            "type": "scattercarpet"
           }
          ],
          "scattergeo": [
           {
            "marker": {
             "colorbar": {
              "outlinewidth": 0,
              "ticks": ""
             }
            },
            "type": "scattergeo"
           }
          ],
          "scattergl": [
           {
            "marker": {
             "colorbar": {
              "outlinewidth": 0,
              "ticks": ""
             }
            },
            "type": "scattergl"
           }
          ],
          "scattermapbox": [
           {
            "marker": {
             "colorbar": {
              "outlinewidth": 0,
              "ticks": ""
             }
            },
            "type": "scattermapbox"
           }
          ],
          "scatterpolar": [
           {
            "marker": {
             "colorbar": {
              "outlinewidth": 0,
              "ticks": ""
             }
            },
            "type": "scatterpolar"
           }
          ],
          "scatterpolargl": [
           {
            "marker": {
             "colorbar": {
              "outlinewidth": 0,
              "ticks": ""
             }
            },
            "type": "scatterpolargl"
           }
          ],
          "scatterternary": [
           {
            "marker": {
             "colorbar": {
              "outlinewidth": 0,
              "ticks": ""
             }
            },
            "type": "scatterternary"
           }
          ],
          "surface": [
           {
            "colorbar": {
             "outlinewidth": 0,
             "ticks": ""
            },
            "colorscale": [
             [
              0,
              "#0d0887"
             ],
             [
              0.1111111111111111,
              "#46039f"
             ],
             [
              0.2222222222222222,
              "#7201a8"
             ],
             [
              0.3333333333333333,
              "#9c179e"
             ],
             [
              0.4444444444444444,
              "#bd3786"
             ],
             [
              0.5555555555555556,
              "#d8576b"
             ],
             [
              0.6666666666666666,
              "#ed7953"
             ],
             [
              0.7777777777777778,
              "#fb9f3a"
             ],
             [
              0.8888888888888888,
              "#fdca26"
             ],
             [
              1,
              "#f0f921"
             ]
            ],
            "type": "surface"
           }
          ],
          "table": [
           {
            "cells": {
             "fill": {
              "color": "#EBF0F8"
             },
             "line": {
              "color": "white"
             }
            },
            "header": {
             "fill": {
              "color": "#C8D4E3"
             },
             "line": {
              "color": "white"
             }
            },
            "type": "table"
           }
          ]
         },
         "layout": {
          "annotationdefaults": {
           "arrowcolor": "#2a3f5f",
           "arrowhead": 0,
           "arrowwidth": 1
          },
          "autotypenumbers": "strict",
          "coloraxis": {
           "colorbar": {
            "outlinewidth": 0,
            "ticks": ""
           }
          },
          "colorscale": {
           "diverging": [
            [
             0,
             "#8e0152"
            ],
            [
             0.1,
             "#c51b7d"
            ],
            [
             0.2,
             "#de77ae"
            ],
            [
             0.3,
             "#f1b6da"
            ],
            [
             0.4,
             "#fde0ef"
            ],
            [
             0.5,
             "#f7f7f7"
            ],
            [
             0.6,
             "#e6f5d0"
            ],
            [
             0.7,
             "#b8e186"
            ],
            [
             0.8,
             "#7fbc41"
            ],
            [
             0.9,
             "#4d9221"
            ],
            [
             1,
             "#276419"
            ]
           ],
           "sequential": [
            [
             0,
             "#0d0887"
            ],
            [
             0.1111111111111111,
             "#46039f"
            ],
            [
             0.2222222222222222,
             "#7201a8"
            ],
            [
             0.3333333333333333,
             "#9c179e"
            ],
            [
             0.4444444444444444,
             "#bd3786"
            ],
            [
             0.5555555555555556,
             "#d8576b"
            ],
            [
             0.6666666666666666,
             "#ed7953"
            ],
            [
             0.7777777777777778,
             "#fb9f3a"
            ],
            [
             0.8888888888888888,
             "#fdca26"
            ],
            [
             1,
             "#f0f921"
            ]
           ],
           "sequentialminus": [
            [
             0,
             "#0d0887"
            ],
            [
             0.1111111111111111,
             "#46039f"
            ],
            [
             0.2222222222222222,
             "#7201a8"
            ],
            [
             0.3333333333333333,
             "#9c179e"
            ],
            [
             0.4444444444444444,
             "#bd3786"
            ],
            [
             0.5555555555555556,
             "#d8576b"
            ],
            [
             0.6666666666666666,
             "#ed7953"
            ],
            [
             0.7777777777777778,
             "#fb9f3a"
            ],
            [
             0.8888888888888888,
             "#fdca26"
            ],
            [
             1,
             "#f0f921"
            ]
           ]
          },
          "colorway": [
           "#636efa",
           "#EF553B",
           "#00cc96",
           "#ab63fa",
           "#FFA15A",
           "#19d3f3",
           "#FF6692",
           "#B6E880",
           "#FF97FF",
           "#FECB52"
          ],
          "font": {
           "color": "#2a3f5f"
          },
          "geo": {
           "bgcolor": "white",
           "lakecolor": "white",
           "landcolor": "#E5ECF6",
           "showlakes": true,
           "showland": true,
           "subunitcolor": "white"
          },
          "hoverlabel": {
           "align": "left"
          },
          "hovermode": "closest",
          "mapbox": {
           "style": "light"
          },
          "paper_bgcolor": "white",
          "plot_bgcolor": "#E5ECF6",
          "polar": {
           "angularaxis": {
            "gridcolor": "white",
            "linecolor": "white",
            "ticks": ""
           },
           "bgcolor": "#E5ECF6",
           "radialaxis": {
            "gridcolor": "white",
            "linecolor": "white",
            "ticks": ""
           }
          },
          "scene": {
           "xaxis": {
            "backgroundcolor": "#E5ECF6",
            "gridcolor": "white",
            "gridwidth": 2,
            "linecolor": "white",
            "showbackground": true,
            "ticks": "",
            "zerolinecolor": "white"
           },
           "yaxis": {
            "backgroundcolor": "#E5ECF6",
            "gridcolor": "white",
            "gridwidth": 2,
            "linecolor": "white",
            "showbackground": true,
            "ticks": "",
            "zerolinecolor": "white"
           },
           "zaxis": {
            "backgroundcolor": "#E5ECF6",
            "gridcolor": "white",
            "gridwidth": 2,
            "linecolor": "white",
            "showbackground": true,
            "ticks": "",
            "zerolinecolor": "white"
           }
          },
          "shapedefaults": {
           "line": {
            "color": "#2a3f5f"
           }
          },
          "ternary": {
           "aaxis": {
            "gridcolor": "white",
            "linecolor": "white",
            "ticks": ""
           },
           "baxis": {
            "gridcolor": "white",
            "linecolor": "white",
            "ticks": ""
           },
           "bgcolor": "#E5ECF6",
           "caxis": {
            "gridcolor": "white",
            "linecolor": "white",
            "ticks": ""
           }
          },
          "title": {
           "x": 0.05
          },
          "xaxis": {
           "automargin": true,
           "gridcolor": "white",
           "linecolor": "white",
           "ticks": "",
           "title": {
            "standoff": 15
           },
           "zerolinecolor": "white",
           "zerolinewidth": 2
          },
          "yaxis": {
           "automargin": true,
           "gridcolor": "white",
           "linecolor": "white",
           "ticks": "",
           "title": {
            "standoff": 15
           },
           "zerolinecolor": "white",
           "zerolinewidth": 2
          }
         }
        },
        "title": {
         "text": "Scattermatrix des Boston Housing Datensatzes"
        }
       }
      }
     },
     "metadata": {},
     "output_type": "display_data"
    }
   ],
   "source": [
    "fig = px.scatter_matrix(df, dimensions=['RM', 'LSTAT', 'PTRATIO', 'MEDV'],\n",
    "                        color='MEDV', title='Scattermatrix des Boston Housing Datensatzes', height=1200)\n",
    "fig.show()"
   ]
  }
 ],
 "metadata": {
  "kernelspec": {
   "display_name": "python39",
   "language": "python",
   "name": "python3"
  },
  "language_info": {
   "name": "python",
   "version": "3.9.15"
  },
  "orig_nbformat": 4
 },
 "nbformat": 4,
 "nbformat_minor": 2
}
