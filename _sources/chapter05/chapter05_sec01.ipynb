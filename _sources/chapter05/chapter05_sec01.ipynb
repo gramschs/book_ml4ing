{
 "cells": [
  {
   "cell_type": "markdown",
   "id": "6ab2af19",
   "metadata": {},
   "source": [
    "# 5.1 Was sind kategoriale Daten?\n",
    "\n",
    "In unserem bisherigen Beispiel zu den Autoverkaufspreisen haben wir bestimmte\n",
    "Eigenschaften der Autos, wie die Marke oder die Farbe, nicht berücksichtigt.\n",
    "Unsere statistischen Analysen und Visualisierungen konzentrierten sich\n",
    "hauptsächlich auf numerische Werte wie den Kilometerstand. Dies liegt daran,\n",
    "dass es für Daten wie Farben oder Automarken keine Rechenoperationen gibt. In\n",
    "diesem Kapitel werden wir uns intensiver mit diesen nicht-numerischen Daten\n",
    "auseinandersetzen.\n",
    "\n",
    "## Lernziele\n",
    "\n",
    "```{admonition} Lernziele\n",
    ":class: goals\n",
    "* Sie wissen, was **numerische (metrische oder quantitative) Daten** sind.\n",
    "* Sie wissen, was **kategoriale (qualitative) Daten** sind.\n",
    "* Sie können die Methode **.unique()** benutzen, um die eindeutigen Werte eines\n",
    "  Pandas-Series-Objektes aufzulisten.\n",
    "* Sie kennen den Unterschied zwischen **ungeordneten** und **geordneten**\n",
    "  kategorialen Daten.\n",
    "* Sie können mit der Methode **.value_counts()** die Anzahl der eindeutigen\n",
    "  Werte eines Pandas-Series-Objektes bestimmen lassen.\n",
    "* Sie wissen, was der **Modalwert** oder **Modus** eines Datensatzes ist und\n",
    "  können diesen mit der Methode **.mode()** bestimmen lassen.\n",
    "```\n",
    "\n",
    "## Was wir bisher hatten: metrische Daten\n",
    "\n",
    "In den bisherigen Kapiteln lag unser Fokus auf den Verkaufspreisen von Autos.\n",
    "Die Methode `.describe()` in Pandas bietet eine schnelle Möglichkeit, einen\n",
    "Überblick über die statistischen Kennzahlen eines Datensatzes zu erhalten.\n",
    "Interessanterweise berücksichtigt die `describe()`-Methode nur numerische Werte\n",
    "(also Zahlen wie Integers und Floats) für die Auswertung. Dennoch bestimmen auch\n",
    "die nicht-numerischen Eigenschaften eines Autos den Verkaufspreis. Wer würde\n",
    "schon ein Auto in Pink bevorzugen?\n",
    "\n",
    "Bevor wir uns den nicht-numerischen Daten widmen, vertiefen wir unser\n",
    "Verständnis für numerische Daten. Diese werden oft auch als **metrische oder\n",
    "quantitative Daten** bezeichnet.\n",
    "\n",
    "```{admonition} Was sind ... metrische/quantitative/numerische Daten?\n",
    ":class: note\n",
    "Metrische Daten sind Informationen, die gemessen werden können. Daher können sie\n",
    "durch Zahlen (ganze Zahlen, rationale oder reelle Zahlen) auf einer Skala\n",
    "dargestellt werden und werden numerische Daten genannt. Ein anderer Name für\n",
    "metrische Daten ist der Begriff quantitative Daten. \n",
    "```\n",
    "\n",
    "Wir betrachten den Datensatz {download}`Download autoscout24_DE_2020.csv\n",
    "<https://gramschs.github.io/book_ml4ing/data/autoscout24_DE_2020.csv>` mit\n",
    "Autoverkaufspreises von [Autoscout24.de](https://www.autoscout24.de), der alle\n",
    "Autos enthält, die im Jahr 2020 zugelassen wurden. Ein kurzer Überblick über den\n",
    "Datensatz hilft uns, die Art der Daten besser zu verstehen."
   ]
  },
  {
   "cell_type": "code",
   "execution_count": 1,
   "id": "d25c30c0",
   "metadata": {},
   "outputs": [
    {
     "ename": "HTTPError",
     "evalue": "HTTP Error 404: Not Found",
     "output_type": "error",
     "traceback": [
      "\u001b[0;31m---------------------------------------------------------------------------\u001b[0m",
      "\u001b[0;31mHTTPError\u001b[0m                                 Traceback (most recent call last)",
      "Cell \u001b[0;32mIn[1], line 4\u001b[0m\n\u001b[1;32m      1\u001b[0m \u001b[38;5;28;01mimport\u001b[39;00m \u001b[38;5;21;01mpandas\u001b[39;00m \u001b[38;5;28;01mas\u001b[39;00m \u001b[38;5;21;01mpd\u001b[39;00m\n\u001b[1;32m      3\u001b[0m url \u001b[38;5;241m=\u001b[39m \u001b[38;5;124m'\u001b[39m\u001b[38;5;124mhttps://gramschs.github.io/book_ml4ing/data/autoscout24_DE_2020.csv\u001b[39m\u001b[38;5;124m'\u001b[39m\n\u001b[0;32m----> 4\u001b[0m data \u001b[38;5;241m=\u001b[39m \u001b[43mpd\u001b[49m\u001b[38;5;241;43m.\u001b[39;49m\u001b[43mread_csv\u001b[49m\u001b[43m(\u001b[49m\u001b[43murl\u001b[49m\u001b[43m)\u001b[49m\n\u001b[1;32m      5\u001b[0m data\u001b[38;5;241m.\u001b[39minfo()\n",
      "File \u001b[0;32m/opt/homebrew/Caskroom/miniconda/base/envs/python312/lib/python3.12/site-packages/pandas/io/parsers/readers.py:1026\u001b[0m, in \u001b[0;36mread_csv\u001b[0;34m(filepath_or_buffer, sep, delimiter, header, names, index_col, usecols, dtype, engine, converters, true_values, false_values, skipinitialspace, skiprows, skipfooter, nrows, na_values, keep_default_na, na_filter, verbose, skip_blank_lines, parse_dates, infer_datetime_format, keep_date_col, date_parser, date_format, dayfirst, cache_dates, iterator, chunksize, compression, thousands, decimal, lineterminator, quotechar, quoting, doublequote, escapechar, comment, encoding, encoding_errors, dialect, on_bad_lines, delim_whitespace, low_memory, memory_map, float_precision, storage_options, dtype_backend)\u001b[0m\n\u001b[1;32m   1013\u001b[0m kwds_defaults \u001b[38;5;241m=\u001b[39m _refine_defaults_read(\n\u001b[1;32m   1014\u001b[0m     dialect,\n\u001b[1;32m   1015\u001b[0m     delimiter,\n\u001b[0;32m   (...)\u001b[0m\n\u001b[1;32m   1022\u001b[0m     dtype_backend\u001b[38;5;241m=\u001b[39mdtype_backend,\n\u001b[1;32m   1023\u001b[0m )\n\u001b[1;32m   1024\u001b[0m kwds\u001b[38;5;241m.\u001b[39mupdate(kwds_defaults)\n\u001b[0;32m-> 1026\u001b[0m \u001b[38;5;28;01mreturn\u001b[39;00m \u001b[43m_read\u001b[49m\u001b[43m(\u001b[49m\u001b[43mfilepath_or_buffer\u001b[49m\u001b[43m,\u001b[49m\u001b[43m \u001b[49m\u001b[43mkwds\u001b[49m\u001b[43m)\u001b[49m\n",
      "File \u001b[0;32m/opt/homebrew/Caskroom/miniconda/base/envs/python312/lib/python3.12/site-packages/pandas/io/parsers/readers.py:620\u001b[0m, in \u001b[0;36m_read\u001b[0;34m(filepath_or_buffer, kwds)\u001b[0m\n\u001b[1;32m    617\u001b[0m _validate_names(kwds\u001b[38;5;241m.\u001b[39mget(\u001b[38;5;124m\"\u001b[39m\u001b[38;5;124mnames\u001b[39m\u001b[38;5;124m\"\u001b[39m, \u001b[38;5;28;01mNone\u001b[39;00m))\n\u001b[1;32m    619\u001b[0m \u001b[38;5;66;03m# Create the parser.\u001b[39;00m\n\u001b[0;32m--> 620\u001b[0m parser \u001b[38;5;241m=\u001b[39m \u001b[43mTextFileReader\u001b[49m\u001b[43m(\u001b[49m\u001b[43mfilepath_or_buffer\u001b[49m\u001b[43m,\u001b[49m\u001b[43m \u001b[49m\u001b[38;5;241;43m*\u001b[39;49m\u001b[38;5;241;43m*\u001b[39;49m\u001b[43mkwds\u001b[49m\u001b[43m)\u001b[49m\n\u001b[1;32m    622\u001b[0m \u001b[38;5;28;01mif\u001b[39;00m chunksize \u001b[38;5;129;01mor\u001b[39;00m iterator:\n\u001b[1;32m    623\u001b[0m     \u001b[38;5;28;01mreturn\u001b[39;00m parser\n",
      "File \u001b[0;32m/opt/homebrew/Caskroom/miniconda/base/envs/python312/lib/python3.12/site-packages/pandas/io/parsers/readers.py:1620\u001b[0m, in \u001b[0;36mTextFileReader.__init__\u001b[0;34m(self, f, engine, **kwds)\u001b[0m\n\u001b[1;32m   1617\u001b[0m     \u001b[38;5;28mself\u001b[39m\u001b[38;5;241m.\u001b[39moptions[\u001b[38;5;124m\"\u001b[39m\u001b[38;5;124mhas_index_names\u001b[39m\u001b[38;5;124m\"\u001b[39m] \u001b[38;5;241m=\u001b[39m kwds[\u001b[38;5;124m\"\u001b[39m\u001b[38;5;124mhas_index_names\u001b[39m\u001b[38;5;124m\"\u001b[39m]\n\u001b[1;32m   1619\u001b[0m \u001b[38;5;28mself\u001b[39m\u001b[38;5;241m.\u001b[39mhandles: IOHandles \u001b[38;5;241m|\u001b[39m \u001b[38;5;28;01mNone\u001b[39;00m \u001b[38;5;241m=\u001b[39m \u001b[38;5;28;01mNone\u001b[39;00m\n\u001b[0;32m-> 1620\u001b[0m \u001b[38;5;28mself\u001b[39m\u001b[38;5;241m.\u001b[39m_engine \u001b[38;5;241m=\u001b[39m \u001b[38;5;28;43mself\u001b[39;49m\u001b[38;5;241;43m.\u001b[39;49m\u001b[43m_make_engine\u001b[49m\u001b[43m(\u001b[49m\u001b[43mf\u001b[49m\u001b[43m,\u001b[49m\u001b[43m \u001b[49m\u001b[38;5;28;43mself\u001b[39;49m\u001b[38;5;241;43m.\u001b[39;49m\u001b[43mengine\u001b[49m\u001b[43m)\u001b[49m\n",
      "File \u001b[0;32m/opt/homebrew/Caskroom/miniconda/base/envs/python312/lib/python3.12/site-packages/pandas/io/parsers/readers.py:1880\u001b[0m, in \u001b[0;36mTextFileReader._make_engine\u001b[0;34m(self, f, engine)\u001b[0m\n\u001b[1;32m   1878\u001b[0m     \u001b[38;5;28;01mif\u001b[39;00m \u001b[38;5;124m\"\u001b[39m\u001b[38;5;124mb\u001b[39m\u001b[38;5;124m\"\u001b[39m \u001b[38;5;129;01mnot\u001b[39;00m \u001b[38;5;129;01min\u001b[39;00m mode:\n\u001b[1;32m   1879\u001b[0m         mode \u001b[38;5;241m+\u001b[39m\u001b[38;5;241m=\u001b[39m \u001b[38;5;124m\"\u001b[39m\u001b[38;5;124mb\u001b[39m\u001b[38;5;124m\"\u001b[39m\n\u001b[0;32m-> 1880\u001b[0m \u001b[38;5;28mself\u001b[39m\u001b[38;5;241m.\u001b[39mhandles \u001b[38;5;241m=\u001b[39m \u001b[43mget_handle\u001b[49m\u001b[43m(\u001b[49m\n\u001b[1;32m   1881\u001b[0m \u001b[43m    \u001b[49m\u001b[43mf\u001b[49m\u001b[43m,\u001b[49m\n\u001b[1;32m   1882\u001b[0m \u001b[43m    \u001b[49m\u001b[43mmode\u001b[49m\u001b[43m,\u001b[49m\n\u001b[1;32m   1883\u001b[0m \u001b[43m    \u001b[49m\u001b[43mencoding\u001b[49m\u001b[38;5;241;43m=\u001b[39;49m\u001b[38;5;28;43mself\u001b[39;49m\u001b[38;5;241;43m.\u001b[39;49m\u001b[43moptions\u001b[49m\u001b[38;5;241;43m.\u001b[39;49m\u001b[43mget\u001b[49m\u001b[43m(\u001b[49m\u001b[38;5;124;43m\"\u001b[39;49m\u001b[38;5;124;43mencoding\u001b[39;49m\u001b[38;5;124;43m\"\u001b[39;49m\u001b[43m,\u001b[49m\u001b[43m \u001b[49m\u001b[38;5;28;43;01mNone\u001b[39;49;00m\u001b[43m)\u001b[49m\u001b[43m,\u001b[49m\n\u001b[1;32m   1884\u001b[0m \u001b[43m    \u001b[49m\u001b[43mcompression\u001b[49m\u001b[38;5;241;43m=\u001b[39;49m\u001b[38;5;28;43mself\u001b[39;49m\u001b[38;5;241;43m.\u001b[39;49m\u001b[43moptions\u001b[49m\u001b[38;5;241;43m.\u001b[39;49m\u001b[43mget\u001b[49m\u001b[43m(\u001b[49m\u001b[38;5;124;43m\"\u001b[39;49m\u001b[38;5;124;43mcompression\u001b[39;49m\u001b[38;5;124;43m\"\u001b[39;49m\u001b[43m,\u001b[49m\u001b[43m \u001b[49m\u001b[38;5;28;43;01mNone\u001b[39;49;00m\u001b[43m)\u001b[49m\u001b[43m,\u001b[49m\n\u001b[1;32m   1885\u001b[0m \u001b[43m    \u001b[49m\u001b[43mmemory_map\u001b[49m\u001b[38;5;241;43m=\u001b[39;49m\u001b[38;5;28;43mself\u001b[39;49m\u001b[38;5;241;43m.\u001b[39;49m\u001b[43moptions\u001b[49m\u001b[38;5;241;43m.\u001b[39;49m\u001b[43mget\u001b[49m\u001b[43m(\u001b[49m\u001b[38;5;124;43m\"\u001b[39;49m\u001b[38;5;124;43mmemory_map\u001b[39;49m\u001b[38;5;124;43m\"\u001b[39;49m\u001b[43m,\u001b[49m\u001b[43m \u001b[49m\u001b[38;5;28;43;01mFalse\u001b[39;49;00m\u001b[43m)\u001b[49m\u001b[43m,\u001b[49m\n\u001b[1;32m   1886\u001b[0m \u001b[43m    \u001b[49m\u001b[43mis_text\u001b[49m\u001b[38;5;241;43m=\u001b[39;49m\u001b[43mis_text\u001b[49m\u001b[43m,\u001b[49m\n\u001b[1;32m   1887\u001b[0m \u001b[43m    \u001b[49m\u001b[43merrors\u001b[49m\u001b[38;5;241;43m=\u001b[39;49m\u001b[38;5;28;43mself\u001b[39;49m\u001b[38;5;241;43m.\u001b[39;49m\u001b[43moptions\u001b[49m\u001b[38;5;241;43m.\u001b[39;49m\u001b[43mget\u001b[49m\u001b[43m(\u001b[49m\u001b[38;5;124;43m\"\u001b[39;49m\u001b[38;5;124;43mencoding_errors\u001b[39;49m\u001b[38;5;124;43m\"\u001b[39;49m\u001b[43m,\u001b[49m\u001b[43m \u001b[49m\u001b[38;5;124;43m\"\u001b[39;49m\u001b[38;5;124;43mstrict\u001b[39;49m\u001b[38;5;124;43m\"\u001b[39;49m\u001b[43m)\u001b[49m\u001b[43m,\u001b[49m\n\u001b[1;32m   1888\u001b[0m \u001b[43m    \u001b[49m\u001b[43mstorage_options\u001b[49m\u001b[38;5;241;43m=\u001b[39;49m\u001b[38;5;28;43mself\u001b[39;49m\u001b[38;5;241;43m.\u001b[39;49m\u001b[43moptions\u001b[49m\u001b[38;5;241;43m.\u001b[39;49m\u001b[43mget\u001b[49m\u001b[43m(\u001b[49m\u001b[38;5;124;43m\"\u001b[39;49m\u001b[38;5;124;43mstorage_options\u001b[39;49m\u001b[38;5;124;43m\"\u001b[39;49m\u001b[43m,\u001b[49m\u001b[43m \u001b[49m\u001b[38;5;28;43;01mNone\u001b[39;49;00m\u001b[43m)\u001b[49m\u001b[43m,\u001b[49m\n\u001b[1;32m   1889\u001b[0m \u001b[43m\u001b[49m\u001b[43m)\u001b[49m\n\u001b[1;32m   1890\u001b[0m \u001b[38;5;28;01massert\u001b[39;00m \u001b[38;5;28mself\u001b[39m\u001b[38;5;241m.\u001b[39mhandles \u001b[38;5;129;01mis\u001b[39;00m \u001b[38;5;129;01mnot\u001b[39;00m \u001b[38;5;28;01mNone\u001b[39;00m\n\u001b[1;32m   1891\u001b[0m f \u001b[38;5;241m=\u001b[39m \u001b[38;5;28mself\u001b[39m\u001b[38;5;241m.\u001b[39mhandles\u001b[38;5;241m.\u001b[39mhandle\n",
      "File \u001b[0;32m/opt/homebrew/Caskroom/miniconda/base/envs/python312/lib/python3.12/site-packages/pandas/io/common.py:728\u001b[0m, in \u001b[0;36mget_handle\u001b[0;34m(path_or_buf, mode, encoding, compression, memory_map, is_text, errors, storage_options)\u001b[0m\n\u001b[1;32m    725\u001b[0m     codecs\u001b[38;5;241m.\u001b[39mlookup_error(errors)\n\u001b[1;32m    727\u001b[0m \u001b[38;5;66;03m# open URLs\u001b[39;00m\n\u001b[0;32m--> 728\u001b[0m ioargs \u001b[38;5;241m=\u001b[39m \u001b[43m_get_filepath_or_buffer\u001b[49m\u001b[43m(\u001b[49m\n\u001b[1;32m    729\u001b[0m \u001b[43m    \u001b[49m\u001b[43mpath_or_buf\u001b[49m\u001b[43m,\u001b[49m\n\u001b[1;32m    730\u001b[0m \u001b[43m    \u001b[49m\u001b[43mencoding\u001b[49m\u001b[38;5;241;43m=\u001b[39;49m\u001b[43mencoding\u001b[49m\u001b[43m,\u001b[49m\n\u001b[1;32m    731\u001b[0m \u001b[43m    \u001b[49m\u001b[43mcompression\u001b[49m\u001b[38;5;241;43m=\u001b[39;49m\u001b[43mcompression\u001b[49m\u001b[43m,\u001b[49m\n\u001b[1;32m    732\u001b[0m \u001b[43m    \u001b[49m\u001b[43mmode\u001b[49m\u001b[38;5;241;43m=\u001b[39;49m\u001b[43mmode\u001b[49m\u001b[43m,\u001b[49m\n\u001b[1;32m    733\u001b[0m \u001b[43m    \u001b[49m\u001b[43mstorage_options\u001b[49m\u001b[38;5;241;43m=\u001b[39;49m\u001b[43mstorage_options\u001b[49m\u001b[43m,\u001b[49m\n\u001b[1;32m    734\u001b[0m \u001b[43m\u001b[49m\u001b[43m)\u001b[49m\n\u001b[1;32m    736\u001b[0m handle \u001b[38;5;241m=\u001b[39m ioargs\u001b[38;5;241m.\u001b[39mfilepath_or_buffer\n\u001b[1;32m    737\u001b[0m handles: \u001b[38;5;28mlist\u001b[39m[BaseBuffer]\n",
      "File \u001b[0;32m/opt/homebrew/Caskroom/miniconda/base/envs/python312/lib/python3.12/site-packages/pandas/io/common.py:384\u001b[0m, in \u001b[0;36m_get_filepath_or_buffer\u001b[0;34m(filepath_or_buffer, encoding, compression, mode, storage_options)\u001b[0m\n\u001b[1;32m    382\u001b[0m \u001b[38;5;66;03m# assuming storage_options is to be interpreted as headers\u001b[39;00m\n\u001b[1;32m    383\u001b[0m req_info \u001b[38;5;241m=\u001b[39m urllib\u001b[38;5;241m.\u001b[39mrequest\u001b[38;5;241m.\u001b[39mRequest(filepath_or_buffer, headers\u001b[38;5;241m=\u001b[39mstorage_options)\n\u001b[0;32m--> 384\u001b[0m \u001b[38;5;28;01mwith\u001b[39;00m \u001b[43murlopen\u001b[49m\u001b[43m(\u001b[49m\u001b[43mreq_info\u001b[49m\u001b[43m)\u001b[49m \u001b[38;5;28;01mas\u001b[39;00m req:\n\u001b[1;32m    385\u001b[0m     content_encoding \u001b[38;5;241m=\u001b[39m req\u001b[38;5;241m.\u001b[39mheaders\u001b[38;5;241m.\u001b[39mget(\u001b[38;5;124m\"\u001b[39m\u001b[38;5;124mContent-Encoding\u001b[39m\u001b[38;5;124m\"\u001b[39m, \u001b[38;5;28;01mNone\u001b[39;00m)\n\u001b[1;32m    386\u001b[0m     \u001b[38;5;28;01mif\u001b[39;00m content_encoding \u001b[38;5;241m==\u001b[39m \u001b[38;5;124m\"\u001b[39m\u001b[38;5;124mgzip\u001b[39m\u001b[38;5;124m\"\u001b[39m:\n\u001b[1;32m    387\u001b[0m         \u001b[38;5;66;03m# Override compression based on Content-Encoding header\u001b[39;00m\n",
      "File \u001b[0;32m/opt/homebrew/Caskroom/miniconda/base/envs/python312/lib/python3.12/site-packages/pandas/io/common.py:289\u001b[0m, in \u001b[0;36murlopen\u001b[0;34m(*args, **kwargs)\u001b[0m\n\u001b[1;32m    283\u001b[0m \u001b[38;5;250m\u001b[39m\u001b[38;5;124;03m\"\"\"\u001b[39;00m\n\u001b[1;32m    284\u001b[0m \u001b[38;5;124;03mLazy-import wrapper for stdlib urlopen, as that imports a big chunk of\u001b[39;00m\n\u001b[1;32m    285\u001b[0m \u001b[38;5;124;03mthe stdlib.\u001b[39;00m\n\u001b[1;32m    286\u001b[0m \u001b[38;5;124;03m\"\"\"\u001b[39;00m\n\u001b[1;32m    287\u001b[0m \u001b[38;5;28;01mimport\u001b[39;00m \u001b[38;5;21;01murllib\u001b[39;00m\u001b[38;5;21;01m.\u001b[39;00m\u001b[38;5;21;01mrequest\u001b[39;00m\n\u001b[0;32m--> 289\u001b[0m \u001b[38;5;28;01mreturn\u001b[39;00m \u001b[43murllib\u001b[49m\u001b[38;5;241;43m.\u001b[39;49m\u001b[43mrequest\u001b[49m\u001b[38;5;241;43m.\u001b[39;49m\u001b[43murlopen\u001b[49m\u001b[43m(\u001b[49m\u001b[38;5;241;43m*\u001b[39;49m\u001b[43margs\u001b[49m\u001b[43m,\u001b[49m\u001b[43m \u001b[49m\u001b[38;5;241;43m*\u001b[39;49m\u001b[38;5;241;43m*\u001b[39;49m\u001b[43mkwargs\u001b[49m\u001b[43m)\u001b[49m\n",
      "File \u001b[0;32m/opt/homebrew/Caskroom/miniconda/base/envs/python312/lib/python3.12/urllib/request.py:215\u001b[0m, in \u001b[0;36murlopen\u001b[0;34m(url, data, timeout, cafile, capath, cadefault, context)\u001b[0m\n\u001b[1;32m    213\u001b[0m \u001b[38;5;28;01melse\u001b[39;00m:\n\u001b[1;32m    214\u001b[0m     opener \u001b[38;5;241m=\u001b[39m _opener\n\u001b[0;32m--> 215\u001b[0m \u001b[38;5;28;01mreturn\u001b[39;00m \u001b[43mopener\u001b[49m\u001b[38;5;241;43m.\u001b[39;49m\u001b[43mopen\u001b[49m\u001b[43m(\u001b[49m\u001b[43murl\u001b[49m\u001b[43m,\u001b[49m\u001b[43m \u001b[49m\u001b[43mdata\u001b[49m\u001b[43m,\u001b[49m\u001b[43m \u001b[49m\u001b[43mtimeout\u001b[49m\u001b[43m)\u001b[49m\n",
      "File \u001b[0;32m/opt/homebrew/Caskroom/miniconda/base/envs/python312/lib/python3.12/urllib/request.py:521\u001b[0m, in \u001b[0;36mOpenerDirector.open\u001b[0;34m(self, fullurl, data, timeout)\u001b[0m\n\u001b[1;32m    519\u001b[0m \u001b[38;5;28;01mfor\u001b[39;00m processor \u001b[38;5;129;01min\u001b[39;00m \u001b[38;5;28mself\u001b[39m\u001b[38;5;241m.\u001b[39mprocess_response\u001b[38;5;241m.\u001b[39mget(protocol, []):\n\u001b[1;32m    520\u001b[0m     meth \u001b[38;5;241m=\u001b[39m \u001b[38;5;28mgetattr\u001b[39m(processor, meth_name)\n\u001b[0;32m--> 521\u001b[0m     response \u001b[38;5;241m=\u001b[39m \u001b[43mmeth\u001b[49m\u001b[43m(\u001b[49m\u001b[43mreq\u001b[49m\u001b[43m,\u001b[49m\u001b[43m \u001b[49m\u001b[43mresponse\u001b[49m\u001b[43m)\u001b[49m\n\u001b[1;32m    523\u001b[0m \u001b[38;5;28;01mreturn\u001b[39;00m response\n",
      "File \u001b[0;32m/opt/homebrew/Caskroom/miniconda/base/envs/python312/lib/python3.12/urllib/request.py:630\u001b[0m, in \u001b[0;36mHTTPErrorProcessor.http_response\u001b[0;34m(self, request, response)\u001b[0m\n\u001b[1;32m    627\u001b[0m \u001b[38;5;66;03m# According to RFC 2616, \"2xx\" code indicates that the client's\u001b[39;00m\n\u001b[1;32m    628\u001b[0m \u001b[38;5;66;03m# request was successfully received, understood, and accepted.\u001b[39;00m\n\u001b[1;32m    629\u001b[0m \u001b[38;5;28;01mif\u001b[39;00m \u001b[38;5;129;01mnot\u001b[39;00m (\u001b[38;5;241m200\u001b[39m \u001b[38;5;241m<\u001b[39m\u001b[38;5;241m=\u001b[39m code \u001b[38;5;241m<\u001b[39m \u001b[38;5;241m300\u001b[39m):\n\u001b[0;32m--> 630\u001b[0m     response \u001b[38;5;241m=\u001b[39m \u001b[38;5;28;43mself\u001b[39;49m\u001b[38;5;241;43m.\u001b[39;49m\u001b[43mparent\u001b[49m\u001b[38;5;241;43m.\u001b[39;49m\u001b[43merror\u001b[49m\u001b[43m(\u001b[49m\n\u001b[1;32m    631\u001b[0m \u001b[43m        \u001b[49m\u001b[38;5;124;43m'\u001b[39;49m\u001b[38;5;124;43mhttp\u001b[39;49m\u001b[38;5;124;43m'\u001b[39;49m\u001b[43m,\u001b[49m\u001b[43m \u001b[49m\u001b[43mrequest\u001b[49m\u001b[43m,\u001b[49m\u001b[43m \u001b[49m\u001b[43mresponse\u001b[49m\u001b[43m,\u001b[49m\u001b[43m \u001b[49m\u001b[43mcode\u001b[49m\u001b[43m,\u001b[49m\u001b[43m \u001b[49m\u001b[43mmsg\u001b[49m\u001b[43m,\u001b[49m\u001b[43m \u001b[49m\u001b[43mhdrs\u001b[49m\u001b[43m)\u001b[49m\n\u001b[1;32m    633\u001b[0m \u001b[38;5;28;01mreturn\u001b[39;00m response\n",
      "File \u001b[0;32m/opt/homebrew/Caskroom/miniconda/base/envs/python312/lib/python3.12/urllib/request.py:559\u001b[0m, in \u001b[0;36mOpenerDirector.error\u001b[0;34m(self, proto, *args)\u001b[0m\n\u001b[1;32m    557\u001b[0m \u001b[38;5;28;01mif\u001b[39;00m http_err:\n\u001b[1;32m    558\u001b[0m     args \u001b[38;5;241m=\u001b[39m (\u001b[38;5;28mdict\u001b[39m, \u001b[38;5;124m'\u001b[39m\u001b[38;5;124mdefault\u001b[39m\u001b[38;5;124m'\u001b[39m, \u001b[38;5;124m'\u001b[39m\u001b[38;5;124mhttp_error_default\u001b[39m\u001b[38;5;124m'\u001b[39m) \u001b[38;5;241m+\u001b[39m orig_args\n\u001b[0;32m--> 559\u001b[0m     \u001b[38;5;28;01mreturn\u001b[39;00m \u001b[38;5;28;43mself\u001b[39;49m\u001b[38;5;241;43m.\u001b[39;49m\u001b[43m_call_chain\u001b[49m\u001b[43m(\u001b[49m\u001b[38;5;241;43m*\u001b[39;49m\u001b[43margs\u001b[49m\u001b[43m)\u001b[49m\n",
      "File \u001b[0;32m/opt/homebrew/Caskroom/miniconda/base/envs/python312/lib/python3.12/urllib/request.py:492\u001b[0m, in \u001b[0;36mOpenerDirector._call_chain\u001b[0;34m(self, chain, kind, meth_name, *args)\u001b[0m\n\u001b[1;32m    490\u001b[0m \u001b[38;5;28;01mfor\u001b[39;00m handler \u001b[38;5;129;01min\u001b[39;00m handlers:\n\u001b[1;32m    491\u001b[0m     func \u001b[38;5;241m=\u001b[39m \u001b[38;5;28mgetattr\u001b[39m(handler, meth_name)\n\u001b[0;32m--> 492\u001b[0m     result \u001b[38;5;241m=\u001b[39m \u001b[43mfunc\u001b[49m\u001b[43m(\u001b[49m\u001b[38;5;241;43m*\u001b[39;49m\u001b[43margs\u001b[49m\u001b[43m)\u001b[49m\n\u001b[1;32m    493\u001b[0m     \u001b[38;5;28;01mif\u001b[39;00m result \u001b[38;5;129;01mis\u001b[39;00m \u001b[38;5;129;01mnot\u001b[39;00m \u001b[38;5;28;01mNone\u001b[39;00m:\n\u001b[1;32m    494\u001b[0m         \u001b[38;5;28;01mreturn\u001b[39;00m result\n",
      "File \u001b[0;32m/opt/homebrew/Caskroom/miniconda/base/envs/python312/lib/python3.12/urllib/request.py:639\u001b[0m, in \u001b[0;36mHTTPDefaultErrorHandler.http_error_default\u001b[0;34m(self, req, fp, code, msg, hdrs)\u001b[0m\n\u001b[1;32m    638\u001b[0m \u001b[38;5;28;01mdef\u001b[39;00m \u001b[38;5;21mhttp_error_default\u001b[39m(\u001b[38;5;28mself\u001b[39m, req, fp, code, msg, hdrs):\n\u001b[0;32m--> 639\u001b[0m     \u001b[38;5;28;01mraise\u001b[39;00m HTTPError(req\u001b[38;5;241m.\u001b[39mfull_url, code, msg, hdrs, fp)\n",
      "\u001b[0;31mHTTPError\u001b[0m: HTTP Error 404: Not Found"
     ]
    }
   ],
   "source": [
    "import pandas as pd\n",
    "\n",
    "url = 'https://gramschs.github.io/book_ml4ing/data/autoscout24_DE_2020.csv'\n",
    "data = pd.read_csv(url)\n",
    "data.info()"
   ]
  },
  {
   "cell_type": "markdown",
   "id": "dd17e0ab",
   "metadata": {},
   "source": [
    "```{admonition} Mini-Übung\n",
    ":class: miniexercise\n",
    "\n",
    "Welche Eigenschaften der Autos sind numerisch (metrisch/quantitativ)? Würden Sie\n",
    "bei anderen Eigenschaften ebenfalls einen metrischen Datentyp erwarten?\n",
    "```\n",
    "\n",
    "```{admonition} Lösung\n",
    ":class: minisolution, toggle\n",
    "Das Jahr und der Preis (Euro) sind ganze Zahlen (Integers). Die Leistung der\n",
    "Autos wird als Fließkommazahl (Float) angegeben, unabhängig von der Einheit kW\n",
    "oder PS. Auch der Kilometerstand wird durch eine Fließkommazahl (Float)\n",
    "repräsentiert. Das hätte man auch für den Verbrauch in Spalte 10 oder 11\n",
    "erwarten können. Die Angabe der Einheit l/100 km oder g/km in den Zellen hat\n",
    "verhindert, dass Pandas diese Informationen als Zahl interpretiert.\n",
    "```\n",
    "\n",
    "Mit numerischen Daten können wir umfangreiche Datenanalysen durchführen. Wir\n",
    "können vergleichen, ob zwei Messwerte gleich oder ungleich sind. Wir können\n",
    "beurteilen, ob ein Messwert kleiner oder größer als ein anderer ist oder sogar\n",
    "das Minimum und das Maximum aller Messwerte bestimmen. Und vor allem können wir\n",
    "mit metrischen Daten rechnen. Erst dadurch ist es möglich, einen Mittelwert zu\n",
    "bilden oder Streuungsmaße wie Spannweite, Standardabweichung und\n",
    "Interquartilsabstand zu berechnen. Solche detaillierten Berechnungen sind nur\n",
    "bei metrischen (quantitativen) Daten möglich.\n",
    "\n",
    "## Das Gegenteil von numerischen Daten: kategoriale Daten\n",
    "\n",
    "Während numerische Daten messbare Informationen darstellen, sind **kategoriale\n",
    "Daten** durch ihre Zugehörigkeit zu bestimmten Kategorien oder Gruppen\n",
    "definiert. Ein weiterer Begriff für kategoriale Daten ist **qualitative Daten**.\n",
    "Ein gutes Beispiel für kategoriale Daten ist die Farbe eines Autos. Oft gibt der\n",
    "Datentyp einer bestimmten Eigenschaft in einem Datensatz bereits Hinweise\n",
    "darauf, ob es sich um kategoriale oder numerische Daten handelt.\n",
    "\n",
    "Der obige Ausführung der Anweisung `data.info()` hat gezeigt, dass einige Daten\n",
    "als `objects` gespeichert sind, was oft auf kategoriale Daten hinweist. Ein\n",
    "Blick in die Spalte »Marke« gibt uns weitere Einblicke."
   ]
  },
  {
   "cell_type": "code",
   "execution_count": null,
   "id": "7633385f",
   "metadata": {},
   "outputs": [],
   "source": [
    "data['Marke'].head(10)"
   ]
  },
  {
   "cell_type": "markdown",
   "id": "31ddb5cd",
   "metadata": {},
   "source": [
    "Die ersten 10 Autos sind offensichtlich Alfa Romeos. Sind vielleicht nur Alfa\n",
    "Romeos in der Tabelle enthalten? Wir schauen uns die letzten 10 Einträge an."
   ]
  },
  {
   "cell_type": "code",
   "execution_count": null,
   "id": "8c33c4f5",
   "metadata": {},
   "outputs": [],
   "source": [
    "data['Marke'].tail(10)"
   ]
  },
  {
   "cell_type": "markdown",
   "id": "ef8824c4",
   "metadata": {},
   "source": [
    "Die letzten Einträge sind Volvos. Vielleicht sind die Autos nach Marken\n",
    "alphabetisch geordnet? Es wäre schön zu wissen, welche verschiedenen Marken im\n",
    "Datensatz enthalten sind. Dazu gibt es die Methode `.unique()`. Sie gehört zu\n",
    "der Datenstruktur Pandas-Series. Wenn wir eine einzelne Spalte eines\n",
    "Pandas-DataFrames herausgreifen, liegt automatisch ein Pandas-Series-Objekt vor,\n",
    "so dass wir diese Methode hier benutzen können."
   ]
  },
  {
   "cell_type": "code",
   "execution_count": null,
   "id": "078f1e8a",
   "metadata": {},
   "outputs": [],
   "source": [
    "data['Marke'].unique()"
   ]
  },
  {
   "cell_type": "markdown",
   "id": "df404130",
   "metadata": {},
   "source": [
    "Obwohl der Datensatz insgesamt 18566 Autos umfasst, gibt es nur 41 verschiedene\n",
    "Marken. Allgemein gesagt, gibt es für die Eigenschaft »Marke« 41 Kategorien.\n",
    "Eine nicht-metrische Eigenschaft, die nur eine begrenzte Anzahl von Werten\n",
    "annehmen kann, wird als kategoriale Variable bezeichnet. Ihre konkreten Werte\n",
    "werden als kategoriale Daten oder qualitative Daten bezeichnet.\n",
    "\n",
    "```{admonition} Was sind ... kategoriale/qualitative Daten?\n",
    ":class: note\n",
    "Kategoriale Daten sind Informationen, die nicht gemessen werden können.\n",
    "Stattdessen werden sie durch die Zugehörigkeit zu einer Kategorie dargestellt.\n",
    "Sie bekommen ein Etikett. Kategoriale Daten nehmen nur eine begrenzte Anzahl\n",
    "von verschiedenen Werten an. Oft bezeichnet man kategoriale Daten auch als\n",
    "qualitative Daten.\n",
    "```\n",
    "\n",
    "Diese Definition ist nicht präzise. Der Begriff \"begrenzte Anzahl\" von Werten\n",
    "ist etwas schwammig. Sind damit 10 Kategorien gemeint oder 100 oder 1000? Welche\n",
    "Eigenschaften des Auto-Datensatzes sind kategorial?\n",
    "\n",
    "```{admonition} Mini-Übung\n",
    ":class: miniexercise\n",
    "Suchen Sie sich drei nicht-metrische Eigenschaften aus und bestimmen sie\n",
    "die Anzahl der einzigartigen Einträge dieser Eigenschaft.\n",
    "\n",
    "Tipp: Die Methode `.unique()` liefert ein sogenanntes NumPy-Array zurück, das\n",
    "hier wie eine Liste benutzt werden kann. Die Python-Funktion `len()` kann die\n",
    "Länge einer Liste, also die Anzahl der Elemente der Liste, bestimmen.\n",
    "```\n",
    "\n",
    "````{admonition} Lösung\n",
    ":class: minisolution, toggle\n",
    "```python\n",
    "anzahl_einzigartige_werte = len(data['Modell'].unique())\n",
    "print(f'Die Spalte/Eigenschaft Modell hat {anzahl_einzigartige_werte} einzigartige Werte.')\n",
    "```\n",
    "\n",
    "Offensichtlich gibt es 561 einzigartige Werte für die Spalte/Eigenschaft Modell.\n",
    "\n",
    "Mit einer for-Schleife können wir auch alle Eigenschaften durchgehen, indem wir das Attribut `.columns` nutzen, in dem alle Spaltenüberschriften gespeichert sind. Damit betrachten wir natürlich auch die metrischen/quantitativen Eigenschaften.\n",
    "\n",
    "```python\n",
    "for col in data.columns:\n",
    "    anzahl_einzigartige_werte = len(data[col].unique())\n",
    "    print(f'Die Spalte/Eigenschaft {col} hat {anzahl_einzigartige_werte} einzigartige Werte.')\n",
    "```\n",
    "\n",
    "Damit erhalten wir folgende Ausgabe:\n",
    "```{code}\n",
    "Die Spalte/Eigenschaft Marke hat 41 einzigartige Werte.\n",
    "Die Spalte/Eigenschaft Modell hat 561 einzigartige Werte.\n",
    "Die Spalte/Eigenschaft Farbe hat 15 einzigartige Werte.\n",
    "Die Spalte/Eigenschaft Erstzulassung hat 12 einzigartige Werte.\n",
    "Die Spalte/Eigenschaft Jahr hat 1 einzigartige Werte.\n",
    "Die Spalte/Eigenschaft Preis (Euro) hat 4926 einzigartige Werte.\n",
    "Die Spalte/Eigenschaft Leistung (kW) hat 260 einzigartige Werte.\n",
    "Die Spalte/Eigenschaft Leistung (PS) hat 260 einzigartige Werte.\n",
    "Die Spalte/Eigenschaft Getriebe hat 4 einzigartige Werte.\n",
    "Die Spalte/Eigenschaft Kraftstoff hat 10 einzigartige Werte.\n",
    "Die Spalte/Eigenschaft Verbrauch (l/100 km) hat 238 einzigartige Werte.\n",
    "Die Spalte/Eigenschaft Verbrauch (g/km) hat 616 einzigartige Werte.\n",
    "Die Spalte/Eigenschaft Kilometerstand (km) hat 10730 einzigartige Werte.\n",
    "Die Spalte/Eigenschaft Bemerkungen hat 16547 einzigartige Werte.\n",
    "```\n",
    "````\n",
    "\n",
    "Bei unserem Beispiel sind die Eigenschaften Marke, Modell, Farbe, Getriebe,\n",
    "Kraftstoff und Bemerkungen nicht-numerische Eigenschaften. Allerdings hat die\n",
    "Eigenschaft Bemerkungen 16547 verschiedene Werte. Ein Merkmal von kategorialen\n",
    "bzw. qualitativen Daten ist aber, dass nur eine begrenzte Anzahl von\n",
    "verschiedenen Werten angenommen wird. Das ist hier nicht mehr der Fall, so dass\n",
    "wir die Eigenschaft Bemerkung nicht als kategoriale/qualitative Eigenschaft\n",
    "einstufen. Die kategorialen Eigenschaften in dem Beispiel sind also Marke,\n",
    "Modell, Farbe, Getriebe und Kraftstoff.\n",
    "\n",
    "## Kategoriale Daten: ungeordnet oder geordnet?\n",
    "\n",
    "Innerhalb der kategorialen bzw. qualitativen Daten gibt es wiederum zwei Arten\n",
    "von Datentypen:\n",
    "\n",
    "* ungeordnete kategoriale Daten und\n",
    "* geordnete kategoriale Daten.\n",
    "\n",
    "Ein typisches Beispiel für ungeordnete kategoriale Daten sind die Farben der\n",
    "Autos. Es gibt keine natürliche Reihenfolge für Farben. Wir könnten die Farbe\n",
    "alphabetisch anordnen, doch sobald wir eine andere Sprache benutzen, wäre auch\n",
    "die Reihenfolge anders. Farben sind ungeordnete Kategorien. Für statistische\n",
    "Analysen heißt das, dass nur bestimmt werden kann, ob die Farbe eines Autos in\n",
    "eine bestimmte Kategorie fällt oder nicht. Entweder das Auto ist gelb oder es\n",
    "ist nicht gelb. Mathematisch gesehen können wir also nur auf Gleichheit oder\n",
    "Ungleichheit prüfen. Es gibt keine Vergleiche bzgl. der Reihenfolge und auch\n",
    "keine Minimum oder Maximum. Auch sämtliche Rechenoperationen entfallen und daher\n",
    "können auch nicht Mittelwerte oder Streuungsmaße bestimmt werden. Stattdessen\n",
    "wird der **Modus** oder **Modalwert** bestimmt.\n",
    "\n",
    "```{admonition} Was ist ... der Modus (Modalwert)?\n",
    ":class: notes\n",
    "Der Modus, auch Modalwert genannt, ist der häufigste auftretende Wert in dem\n",
    "Datensatz. Er gehört zu den Lageparametern in der Statistik. Er existiert sowohl\n",
    "für ungeordnete und geordnete kategoriale Daten als auch für metrische Daten.\n",
    "```\n",
    "\n",
    "Pandas bietet eine Methode zur Bestimmung des Modus namens `.mode()`. Diese\n",
    "Methode funktioniert wieder nur für ein Pandas-Series-Objekt, so dass zuerst\n",
    "eine einzelne Spalte aus der Tabelle herausgeschnitten wird. Auf diese Spalte\n",
    "wird dann die Methode angewendet."
   ]
  },
  {
   "cell_type": "code",
   "execution_count": null,
   "id": "17624dcb",
   "metadata": {},
   "outputs": [],
   "source": [
    "modus_farben = data['Farbe'].mode()\n",
    "print(f'Die häufigste Farbe ist {modus_farben}.')"
   ]
  },
  {
   "cell_type": "markdown",
   "id": "c1afe621",
   "metadata": {},
   "source": [
    "Und wie häufig kommen die anderen Farben vor? Die Methode `.value_counts()`\n",
    "zählt die Anzahl an Autos mit einer bestimmten Farbe."
   ]
  },
  {
   "cell_type": "code",
   "execution_count": null,
   "id": "196e6857",
   "metadata": {},
   "outputs": [],
   "source": [
    "data['Farbe'].value_counts()"
   ]
  },
  {
   "cell_type": "markdown",
   "id": "1cf1c796",
   "metadata": {},
   "source": [
    "Bleiben noch die geordneten kategorialen Daten. Dazu inspizieren wir die\n",
    "einzigartigen Werte der Erstzulassung."
   ]
  },
  {
   "cell_type": "code",
   "execution_count": null,
   "id": "b0a2b2f6",
   "metadata": {},
   "outputs": [],
   "source": [
    "data['Erstzulassung'].unique()"
   ]
  },
  {
   "cell_type": "markdown",
   "id": "23566ba7",
   "metadata": {},
   "source": [
    "Offensichtlich verbergen sich hinter der Erstzulassung die Monate Januar bis\n",
    "Dezember des Jahres 2020. Diese haben eine natürliche Ordnung, Januar ist der\n",
    "erste Monat des Jahres und Dezember ist der letzte Monat des Jahres. Bei\n",
    "geordneten kategorialen Daten lässt sich ebenfalls der Modus (Modalwert)\n",
    "bestimmen."
   ]
  },
  {
   "cell_type": "code",
   "execution_count": null,
   "id": "fc5d15ad",
   "metadata": {},
   "outputs": [],
   "source": [
    "data['Erstzulassung'].mode()"
   ]
  },
  {
   "cell_type": "markdown",
   "id": "7ee07251",
   "metadata": {},
   "source": [
    "Die meisten Autos wurden im Februar zugelassen. Wir können auch mit\n",
    "`.value_counts()` für jeden Monat die Anzahl der Zulassungen auszählen lassen."
   ]
  },
  {
   "cell_type": "code",
   "execution_count": null,
   "id": "3c7c6c98",
   "metadata": {},
   "outputs": [],
   "source": [
    "data['Erstzulassung'].value_counts()"
   ]
  },
  {
   "cell_type": "markdown",
   "id": "302eec2b",
   "metadata": {},
   "source": [
    "Insgesamt scheinen im ersten Quartal besonders viele Autos zugelassen zu werden.\n",
    "Dadurch, dass aber die Monate geordnet werden können, ist auch möglich den\n",
    "Median oder allgemein Quantile zu bestimmen. Allerdings kennt Pandas nicht die\n",
    "natürliche Reihenfolge der Monatsangaben 01/2020, 02/2020, 03/2020, usw. Wir\n",
    "ersetzen daher die Strings durch Integer, also \"01/2020\" --> 1, \"02/2020\" --> 2,\n",
    "usw. Diesen Vorgang nennt man in der Informatik **Kodierung**. Das Thema, wie\n",
    "kategoriale (qualitative Daten) am geschicktesten kodiert werden, wird uns noch\n",
    "intensiver beschäftigen. Jetzt gehen wir händisch vor und benutzen die\n",
    "`.replace()`-Methode von Pandas."
   ]
  },
  {
   "cell_type": "code",
   "execution_count": null,
   "id": "65ed81f1",
   "metadata": {},
   "outputs": [],
   "source": [
    "# alte Datenwerte (Monatsangaben als Strings)\n",
    "kodierung_string = [\"01/2020\", \"02/2020\", \"03/2020\", \"04/2020\", \"05/2020\", \"06/2020\",\n",
    "\"07/2020\", \"08/2020\", \"09/2020\", \"10/2020\", \"11/2020\", \"12/2020\"]\n",
    "\n",
    "# neue Datenwerte (nur der Monat als Integer)\n",
    "kodierung_integer = [1, 2, 3, 4, 5, 6, 7, 8, 9, 10, 11, 12]\n",
    "\n",
    "# Ersetzung der alten Datenwerte durch die neue Kodierung\n",
    "data['Erstzulassung'].replace(kodierung_string, kodierung_integer, inplace=True)\n",
    "\n",
    "# Anzeige, ob alles funktioniert hat\n",
    "data['Erstzulassung'].unique()"
   ]
  },
  {
   "cell_type": "markdown",
   "id": "eebc0323",
   "metadata": {},
   "source": [
    "Jetzt können wir von Pandas den Median berechnen lassen, den die ganzen Zahlen\n",
    "von 1 bis 12 haben eine natürliche Reihenfolge. Der Median ist"
   ]
  },
  {
   "cell_type": "code",
   "execution_count": null,
   "id": "bde85bb1",
   "metadata": {},
   "outputs": [],
   "source": [
    "data['Erstzulassung'].median()"
   ]
  },
  {
   "cell_type": "markdown",
   "id": "33e82716",
   "metadata": {},
   "source": [
    "Die Hälfte aller Autos wurde von Januar bis irgendwann im Juni zugelassen. Den\n",
    "genauen Stichtag im Juni können wir aufgrund fehlender Informationen über den\n",
    "Tag der Zulassung nicht ermitteln.\n",
    "\n",
    "## Zusammenfassung und Ausblick\n",
    "\n",
    "In diesem Kapitel haben wir uns mit dem Unterschied zwischen numerischen\n",
    "(metrischen bzw. quantitativen) und kategorialen (qualitativen) Daten\n",
    "beschäftigt. Dabei wird bei kategorialen Daten noch zwischen ungeordneten und\n",
    "geordneten Kategorien unterschieden. Abhängig von der Art der Daten können\n",
    "unterschiedliche statistische Kennzahlen erhoben werden. Bei ungeordneten\n",
    "kategorialen Daten kann nur der Modus (Modalwert) berechnet werden. Bei\n",
    "geordneten kategorialen Daten können zusätzlich noch Quantile (insbesondere der\n",
    "Median) berechnet werden. Nur bei numerischen (metrischen bzw. qualitativen)\n",
    "Daten ist es möglich, den Mittelwert und zusätzlich die Streuungsmaße\n",
    "(Spannbreite, Standardabweichung und Interquartilsabstand) zu bestimmen. Im\n",
    "nächsten Kapitel werden wir uns mit der Visualisierung der kategorialen Daten\n",
    "beschäftigen."
   ]
  }
 ],
 "metadata": {
  "jupytext": {
   "formats": "ipynb,md:myst",
   "text_representation": {
    "extension": ".md",
    "format_name": "myst",
    "format_version": 0.13,
    "jupytext_version": "1.15.2"
   }
  },
  "kernelspec": {
   "display_name": "Python 3",
   "language": "python",
   "name": "python3"
  },
  "language_info": {
   "codemirror_mode": {
    "name": "ipython",
    "version": 3
   },
   "file_extension": ".py",
   "mimetype": "text/x-python",
   "name": "python",
   "nbconvert_exporter": "python",
   "pygments_lexer": "ipython3",
   "version": "3.12.2"
  },
  "source_map": [
   13,
   69,
   75,
   116,
   118,
   123,
   125,
   134,
   136,
   244,
   247,
   252,
   254,
   259,
   261,
   269,
   271,
   276,
   278,
   290,
   303,
   308,
   310
  ]
 },
 "nbformat": 4,
 "nbformat_minor": 5
}