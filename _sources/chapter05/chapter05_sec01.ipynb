{
 "cells": [
  {
   "cell_type": "markdown",
   "id": "09040d2e",
   "metadata": {},
   "source": [
    "# 5.1 Was sind kategoriale Daten?\n",
    "\n",
    "In unserem bisherigen Beispiel zu den Autoverkaufspreisen haben wir bestimmte\n",
    "Eigenschaften der Autos, wie die Marke oder die Farbe, nicht berücksichtigt.\n",
    "Unsere statistische Analysen und Visualisierungen konzentrierten sich\n",
    "hauptsächlich auf numerische Werte wie den Kilometerstand. Dies liegt daran,\n",
    "dass es für Daten wie Farben oder Automarken keine Rechenoperationen gibt. In\n",
    "diesem Kapitel werden wir uns intensiver mit diesen nicht-numerischen Daten\n",
    "auseinandersetzen.\n",
    "\n",
    "\n",
    "## Lernziele\n",
    "\n",
    "```{admonition} Lernziele\n",
    ":class: goals\n",
    "* Sie wissen, was **metrische (quantitative) Daten** sind.\n",
    "* Sie wissen, was **kategoriale (qualitative) Daten** sind.\n",
    "* Sie können die Methode **.unique()** benutzen, um die eindeutigen Werte eines\n",
    "  Pandas-Series-Objektes aufzulisten.\n",
    "* Sie kennen den Unterschied zwischen **ungeordneten** und **geordneten**\n",
    "  kategorialen Daten.\n",
    "* Sie können mit der Methode **.value_counts()** die Anzahl der eindeutigen\n",
    "  Werte eines Pandas-Series-Objektes bestimmen lassen.\n",
    "* Sie wissen, was der **Modalwert** oder **Modus** eines Datensatzes ist und\n",
    "  können diesen mit der Methode **.mode()** bestimmen lassen.\n",
    "```\n",
    "\n",
    "\n",
    "## Was wir bisher hatten: metrische Daten\n",
    "\n",
    "In den bisherigen Kapiteln lag unser Fokus auf den Verkaufspreisen von Autos.\n",
    "Die Methode `.describe()` in Pandas bietet eine schnelle Möglichkeit, einen\n",
    "Überblick über die statistischen Kennzahlen eines Datensatzes zu erhalten.\n",
    "Interessanterweise berücksichtigt diese Methode nur numerische Werte (also\n",
    "Zahlen wie Integers und Floats) für die Auswertung. Dennoch bestimmen auch die\n",
    "nicht-numerischen Eigenschaften eines Autos den Verkaufspreis. Wer würde schon\n",
    "ein Auto in Pink bevorzugen?\n",
    "\n",
    "Bevor wir uns den nicht-numerischen Daten widmen, vertiefen wir unser\n",
    "Verständnis für numerische Daten. Diese werden oft auch als **metrische oder\n",
    "quantitative Daten** bezeichnet.\n",
    "\n",
    "```{admonition} Was sind ... metrische/quantitative Daten?\n",
    ":class: note\n",
    "Metrische Daten sind Informationen, die gemessen werden können. Daher können sie\n",
    "durch Zahlen (ganze Zahlen, rationale oder reelle Zahlen) auf einer Skala\n",
    "dargestellt werden. Ein anderer Name für metrische Daten ist der Begriff\n",
    "quantitative Daten.\n",
    "```\n",
    "\n",
    "Betrachten wir erneut den Datensatz der Autoverkaufspreise von Autoscout24.de,\n",
    "diesmal jedoch mit allen Autos, die im Jahr 2020 zugelassen wurden. Ein kurzer\n",
    "Überblick über den Datensatz hilft uns, die Art der Daten besser zu verstehen."
   ]
  },
  {
   "cell_type": "code",
   "execution_count": 1,
   "id": "c7a953ae",
   "metadata": {},
   "outputs": [
    {
     "name": "stdout",
     "output_type": "stream",
     "text": [
      "<class 'pandas.core.frame.DataFrame'>\n",
      "RangeIndex: 18566 entries, 0 to 18565\n",
      "Data columns (total 14 columns):\n",
      " #   Column                Non-Null Count  Dtype  \n",
      "---  ------                --------------  -----  \n",
      " 0   Marke                 18566 non-null  object \n",
      " 1   Modell                18566 non-null  object \n",
      " 2   Farbe                 18546 non-null  object \n",
      " 3   Erstzulassung         18566 non-null  object \n",
      " 4   Jahr                  18566 non-null  int64  \n",
      " 5   Preis (Euro)          18566 non-null  int64  \n",
      " 6   Leistung (kW)         18552 non-null  float64\n",
      " 7   Leistung (PS)         18552 non-null  float64\n",
      " 8   Getriebe              18566 non-null  object \n",
      " 9   Kraftstoff            18566 non-null  object \n",
      " 10  Verbrauch (l/100 km)  15501 non-null  object \n",
      " 11  Verbrauch (g/km)      18566 non-null  object \n",
      " 12  Kilometerstand (km)   18566 non-null  float64\n",
      " 13  Bemerkungen           18566 non-null  object \n",
      "dtypes: float64(3), int64(2), object(9)\n",
      "memory usage: 2.0+ MB\n"
     ]
    }
   ],
   "source": [
    "import pandas as pd\n",
    "data = pd.read_csv('autoscout24_DE_2020.csv')\n",
    "data.info()"
   ]
  },
  {
   "cell_type": "markdown",
   "id": "379a32dc",
   "metadata": {},
   "source": [
    "```{admonition} Mini-Übung\n",
    ":class: tip\n",
    "\n",
    "Welche Eigenschaften der Autos sind metrisch (quantitativ)? Würden Sie bei anderen\n",
    "Eigenschaften ebenfalls einen metrischen Datentyp erwarten?\n",
    "```\n",
    "```{admonition} Lösung\n",
    ":class: tip, toggle\n",
    "Das Jahr und der Preis (Euro) sind ganze Zahlen (Integers). Die Leistung der\n",
    "Autos wird als Fließkommazahl (Float) angegeben, unabhängig von der Einheit kW\n",
    "oder PS. Auch der Kilometerstand wird durch eine Fließkommazahl (Float)\n",
    "repräsentiert. Das hätte man auch für den Verbrauch in Spalte 10 oder 11\n",
    "erwarten können. Die Angabe der Einheit l/100 km oder g/km in den Zellen hat\n",
    "verhindert, dass Pandas diese Informationen als Zahl interpretiert hat.\n",
    "```\n",
    "\n",
    "Mit metrischen bzw. quantitativen Daten können wir umfangreiche Datenanalysen\n",
    "durchführen. Wir können vergleichen, ob zwei Messwerte gleich oder ungleich\n",
    "sind. Wir können beurteilen, ob ein Messwert kleiner oder größer als ein anderer\n",
    "ist oder sogar das Minimum und das Maximum aller Messwerte bestimmen. Und vor\n",
    "allem können wir mit metrischen Daten rechnen. Erst dadurch ist es möglich,\n",
    "einen Mittelwert zu bilden oder Streuungsmaße wie Spannweite, Standardabweichung\n",
    "und Interquartilsabstand zu berechnen. Solche detaillierten Berechnungen sind\n",
    "nur bei metrischen (quantitativen) Daten möglich.\n",
    "\n",
    "\n",
    "## Das Gegenteil von metrischen Daten: kategoriale Daten\n",
    "\n",
    "Während metrische Daten messbare Informationen darstellen, sind **kategoriale\n",
    "Daten** durch ihre Zugehörigkeit zu bestimmten Kategorien oder Gruppen\n",
    "definiert. Ein weiterer Begriff für kategoriale Daten ist **qualitative Daten**.\n",
    "Ein gutes Beispiel für kategoriale Daten ist die Farbe eines Autos. Oft gibt der\n",
    "Datentyp einer bestimmten Eigenschaft in einem Datensatz bereits Hinweise\n",
    "darauf, ob es sich um kategoriale oder metrische Daten handelt.\n",
    "\n",
    "Der obige Ausführung der Anweisung `data.info()` hat gezeigt, dass einige Daten\n",
    "als `objects` gespeichert sind, was oft auf kategoriale Daten hinweist. Ein\n",
    "Blick in die Spalte »Marke« gibt uns weitere Einblicke."
   ]
  },
  {
   "cell_type": "code",
   "execution_count": 2,
   "id": "9f35828c",
   "metadata": {},
   "outputs": [
    {
     "data": {
      "text/plain": [
       "0    alfa-romeo\n",
       "1    alfa-romeo\n",
       "2    alfa-romeo\n",
       "3    alfa-romeo\n",
       "4    alfa-romeo\n",
       "5    alfa-romeo\n",
       "6    alfa-romeo\n",
       "7    alfa-romeo\n",
       "8    alfa-romeo\n",
       "9    alfa-romeo\n",
       "Name: Marke, dtype: object"
      ]
     },
     "execution_count": 2,
     "metadata": {},
     "output_type": "execute_result"
    }
   ],
   "source": [
    "data['Marke'].head(10)"
   ]
  },
  {
   "cell_type": "markdown",
   "id": "fb730e64",
   "metadata": {},
   "source": [
    "Die ersten 10 Autos sind offensichtlich Alfa Romeos. Sind vielleicht nur Alfa\n",
    "Romeos in der Tabelle enthalten? Wir schauen uns die letzten 10 Einträge an."
   ]
  },
  {
   "cell_type": "code",
   "execution_count": 3,
   "id": "0a183dd5",
   "metadata": {},
   "outputs": [
    {
     "data": {
      "text/plain": [
       "18556    volvo\n",
       "18557    volvo\n",
       "18558    volvo\n",
       "18559    volvo\n",
       "18560    volvo\n",
       "18561    volvo\n",
       "18562    volvo\n",
       "18563    volvo\n",
       "18564    volvo\n",
       "18565    volvo\n",
       "Name: Marke, dtype: object"
      ]
     },
     "execution_count": 3,
     "metadata": {},
     "output_type": "execute_result"
    }
   ],
   "source": [
    "data['Marke'].tail(10)"
   ]
  },
  {
   "cell_type": "markdown",
   "id": "d9c77efa",
   "metadata": {},
   "source": [
    "Die letzten Einträge sind Volvos. Vielleicht sind die Autos nach Marken\n",
    "alphabetisch geordnet? Es wäre schön zu wissen, welche verschiedenen Marken im\n",
    "Datensatz enthalten sind. Dazu gibt es die Methode `.unique()`. Sie gehört zu\n",
    "der Datenstruktur Pandas-Series. Wenn wir eine einzelne Spalte eines\n",
    "Pandas-DataFrames herausgreifen, liegt automatisch ein Pandas-Series-Objekt vor,\n",
    "so dass wir diese Methode hier benutzen können."
   ]
  },
  {
   "cell_type": "code",
   "execution_count": 4,
   "id": "10a3f0fd",
   "metadata": {},
   "outputs": [
    {
     "data": {
      "text/plain": [
       "array(['alfa-romeo', 'aston-martin', 'audi', 'bentley', 'bmw', 'cadillac',\n",
       "       'chevrolet', 'citroen', 'dacia', 'dodge', 'ferrari', 'fiat',\n",
       "       'ford', 'honda', 'hyundai', 'infiniti', 'isuzu', 'jaguar', 'jeep',\n",
       "       'kia', 'lada', 'lamborghini', 'land-rover', 'maserati', 'mazda',\n",
       "       'mercedes-benz', 'mini', 'mitsubishi', 'nissan', 'opel', 'peugeot',\n",
       "       'porsche', 'renault', 'rover', 'seat', 'skoda', 'smart',\n",
       "       'ssangyong', 'toyota', 'volkswagen', 'volvo'], dtype=object)"
      ]
     },
     "execution_count": 4,
     "metadata": {},
     "output_type": "execute_result"
    }
   ],
   "source": [
    "data['Marke'].unique()"
   ]
  },
  {
   "cell_type": "markdown",
   "id": "0fcd8728",
   "metadata": {},
   "source": [
    "Obwohl der Datensatz insgesamt 18566 Autos umfasst, gibt es nur 41 verschiedene\n",
    "Marken. Allgemein gesagt, gibt es für die Eigenschaft »Marke« 41 Kategorien.\n",
    "Eine nicht-metrische Eigenschaft, die nur eine begrenzte Anzahl von Werten\n",
    "annehmen kann, wird als kategoriale Variable bezeichnet. Ihre konkreten Werte\n",
    "werden als kategoriale Daten oder qualitative Daten bezeichnet.\n",
    "\n",
    "```{admonition} Was sind ... kategoriale/qualitative Daten?\n",
    ":class: note\n",
    "Kategoriale Daten sind Informationen, die nicht gemessen werden können.\n",
    "Stattdessen werden sie durch die Zugehörigkeit zu einer Kategorie dargestellt.\n",
    "Sie bekommen ein Etikett. Kategoriale Daten nehmen nur eine begrenzte Anzahl\n",
    "von verschiedenen Werten an. Oft bezeichnet man kategoriale Daten auch als\n",
    "qualitative Daten.\n",
    "```\n",
    "\n",
    "Diese Definition ist nicht präzise. Der Begriff \"begrenzte Anzahl\" von Werten\n",
    "ist etwas schwammig. Sind damit 10 Kategorien gemeint oder 100 oder 1000? Welche\n",
    "Eigenschaften des Auto-Datensatzes sind kategorial? \n",
    "\n",
    "```{admonition} Mini-Übung\n",
    ":class: tip\n",
    "Suchen Sie sich drei nicht-metrische Eigenschaften aus und bestimmen sie\n",
    "die Anzahl der einzigartigen Einträge dieser Eigenschaft.\n",
    "\n",
    "Tipp: Die Methode `.unique()` liefert ein sogenanntes NumPy-Array zurück, das\n",
    "hier wie eine Liste benutzt werden kann. Die Python-Funktion `len()` kann die\n",
    "Länge einer Liste, also die Anzahl der Elemente der Liste, bestimmen.\n",
    "```\n",
    "\n",
    "````{admonition} Lösung\n",
    ":class: tip, toggle\n",
    "```python\n",
    "anzahl_einzigartige_werte = len(data['Modell'].unique())\n",
    "print(f'Die Spalte/Eigenschaft Modell hat {anzahl_einzigartige_werte} einzigartige Werte.')\n",
    "```\n",
    "\n",
    "Offensichtlich gibt es 561 einzigartige Werte für die Spalte/Eigenschaft Modell.\n",
    "\n",
    "Mit einer for-Schleife können wir auch alle Eigenschaften durchgehen, indem wir das Attribut `.columns` nutzen, in dem alle Spaltenüberschriften gespeichert sind. Damit betrachten wir natürlich auch die metrischen/quantitativen Eigenschaften.\n",
    "\n",
    "```python\n",
    "for col in data.columns:\n",
    "    anzahl_einzigartige_werte = len(data[col].unique())\n",
    "    print(f'Die Spalte/Eigenschaft {col} hat {anzahl_einzigartige_werte} einzigartige Werte.')\n",
    "```\n",
    "\n",
    "Damit erhalten wir folgende Ausgabe:\n",
    "```{code}\n",
    "Die Spalte/Eigenschaft Marke hat 41 einzigartige Werte.\n",
    "Die Spalte/Eigenschaft Modell hat 561 einzigartige Werte.\n",
    "Die Spalte/Eigenschaft Farbe hat 15 einzigartige Werte.\n",
    "Die Spalte/Eigenschaft Erstzulassung hat 12 einzigartige Werte.\n",
    "Die Spalte/Eigenschaft Jahr hat 1 einzigartige Werte.\n",
    "Die Spalte/Eigenschaft Preis (Euro) hat 4926 einzigartige Werte.\n",
    "Die Spalte/Eigenschaft Leistung (kW) hat 260 einzigartige Werte.\n",
    "Die Spalte/Eigenschaft Leistung (PS) hat 260 einzigartige Werte.\n",
    "Die Spalte/Eigenschaft Getriebe hat 4 einzigartige Werte.\n",
    "Die Spalte/Eigenschaft Kraftstoff hat 10 einzigartige Werte.\n",
    "Die Spalte/Eigenschaft Verbrauch (l/100 km) hat 238 einzigartige Werte.\n",
    "Die Spalte/Eigenschaft Verbrauch (g/km) hat 616 einzigartige Werte.\n",
    "Die Spalte/Eigenschaft Kilometerstand (km) hat 10730 einzigartige Werte.\n",
    "Die Spalte/Eigenschaft Bemerkungen hat 16547 einzigartige Werte.\n",
    "```\n",
    "````\n",
    "\n",
    "Bei unserem Beispiel sind die Eigenschaften Marke, Modell, Farbe, Getriebe,\n",
    "Kraftstoff und Bemerkungen nicht-metrische Eigenschaften. Allerdings hat die\n",
    "Eigenschaft Bemerkungen 16547 verschiedene Werte. Ein Merkmal von kategorialen\n",
    "bzw. qualitativen Daten ist aber, dass nur eine begrenzte Anzahl von\n",
    "verschiedenen Werten angenommen wird. Das ist hier nicht mehr der Fall, so dass\n",
    "wir die Eigenschaft Bemerkung nicht als kategoriale/qualitative Eigenschaft\n",
    "einstufen. Die kategorialen Eigenschaften in dem Beispiel sind also Marke,\n",
    "Modell, Farbe, Getriebe und Kraftstoff.\n",
    "\n",
    "\n",
    "## Kategoriale Daten: ungeordnet oder geordnet?\n",
    "\n",
    "Innerhalb der kategorialen bzw. qualitativen Daten gibt es wiederum zwei Arten\n",
    "von Datentypen: \n",
    "\n",
    "* ungeordnete kategoriale Daten und\n",
    "* geordnete kategoriale Daten.\n",
    "\n",
    "Ein typisches Beispiel für ungeordnete kategoriale Daten sind die Farben der\n",
    "Autos. Es gibt keine natürliche Reihenfolge für Farben. Wir könnten die Farbe\n",
    "alphabetisch anordnen, doch sobald wir eine andere Sprache benutzen, wäre auch\n",
    "die Reihenfolge anders. Farben sind ungeordnete Kategorien. Für statistische\n",
    "Analysen heißt das, dass nur bestimmt werden kann, ob die Farbe eines Autos in\n",
    "eine bestimmte Kategorie fällt oder nicht. Entweder das Auto ist gelb oder es\n",
    "ist nicht gelb. Mathematisch gesehen können wir also nur auf Gleichheit oder\n",
    "Ungleichheit prüfen. Es gibt keine Vergleiche bzgl. der Reihenfolge und auch\n",
    "keine Minimum oder Maximum. Auch sämtliche Rechenoperationen entfallen und daher\n",
    "können auch nicht Mittelwerte oder Streuungsmaße bestimmt werden. Stattdessen\n",
    "wird der **Modus** oder **Modalwert** bestimmt. \n",
    "\n",
    "```{admonition} Was ist ... der Modus (Modalwert)?\n",
    ":class: notes\n",
    "Der Modus, auch Modalwert genannt, ist der häufigste auftretende Werte in dem\n",
    "Datensatz. Er gehört zu den Lageparametern in der Statistik. Er existiert sowohl\n",
    "für ungeordnete und geordnete kategoriale Daten als auch für metrische Daten.\n",
    "```\n",
    "\n",
    "Pandas bietet eine Methode zur Bestimmung des Modus namens `.mode()`. Diese\n",
    "Methode funktioniert wieder nur für ein Pandas-Series-Objekt, so dass zuerst\n",
    "eine einzelne Spalte aus der Tabelle herausgeschnitten wird. Auf diese Spalte\n",
    "wird dann die Methode angewendet."
   ]
  },
  {
   "cell_type": "code",
   "execution_count": 5,
   "id": "2e85f326",
   "metadata": {},
   "outputs": [
    {
     "name": "stdout",
     "output_type": "stream",
     "text": [
      "Die häufigste Farbe ist 0    schwarz\n",
      "Name: Farbe, dtype: object.\n"
     ]
    }
   ],
   "source": [
    "modus_farben = data['Farbe'].mode()\n",
    "print(f'Die häufigste Farbe ist {modus_farben}.')"
   ]
  },
  {
   "cell_type": "markdown",
   "id": "3db36f58",
   "metadata": {},
   "source": [
    "Und wie häufig kommen die anderen Farben vor? Die Methode `.value_counts()`\n",
    "zählt die Anzahl an Autos mit einer bestimmten Farbe."
   ]
  },
  {
   "cell_type": "code",
   "execution_count": 6,
   "id": "ce076367",
   "metadata": {},
   "outputs": [
    {
     "data": {
      "text/plain": [
       "Farbe\n",
       "schwarz    3612\n",
       "grau       3561\n",
       "weiß       3397\n",
       "blau       2442\n",
       "silber     2155\n",
       "rot        2044\n",
       "orange      418\n",
       "grün        290\n",
       "braun       238\n",
       "gelb        148\n",
       "beige       129\n",
       "bronze       47\n",
       "gold         36\n",
       "violett      29\n",
       "Name: count, dtype: int64"
      ]
     },
     "execution_count": 6,
     "metadata": {},
     "output_type": "execute_result"
    }
   ],
   "source": [
    "data['Farbe'].value_counts()"
   ]
  },
  {
   "cell_type": "markdown",
   "id": "62f5e0fe",
   "metadata": {},
   "source": [
    "Bleiben noch die geordneten kategorialen Daten. Dazu inspizieren wir die\n",
    "einzigartigen Werte der Erstzulassung."
   ]
  },
  {
   "cell_type": "code",
   "execution_count": 7,
   "id": "949d822b",
   "metadata": {},
   "outputs": [
    {
     "data": {
      "text/plain": [
       "array(['09/2020', '06/2020', '04/2020', '12/2020', '05/2020', '10/2020',\n",
       "       '02/2020', '11/2020', '08/2020', '07/2020', '03/2020', '01/2020'],\n",
       "      dtype=object)"
      ]
     },
     "execution_count": 7,
     "metadata": {},
     "output_type": "execute_result"
    }
   ],
   "source": [
    "data['Erstzulassung'].unique()"
   ]
  },
  {
   "cell_type": "markdown",
   "id": "e4768bbe",
   "metadata": {},
   "source": [
    "Offensichtlich verbergen sich hinter der Erstzulassung die Monate Januar bis\n",
    "Dezember des Jahres 2020. Diese haben eine natürliche Ordnung, Januar ist der\n",
    "erste Monat des Jahres und Dezember ist der letzte Monat des Jahres. Bei\n",
    "geordneten kategorialen Daten lässt sich ebenfalls der Modus (Modalwert)\n",
    "bestimmen."
   ]
  },
  {
   "cell_type": "code",
   "execution_count": 8,
   "id": "5be22dc6",
   "metadata": {},
   "outputs": [
    {
     "data": {
      "text/plain": [
       "0    02/2020\n",
       "Name: Erstzulassung, dtype: object"
      ]
     },
     "execution_count": 8,
     "metadata": {},
     "output_type": "execute_result"
    }
   ],
   "source": [
    "data['Erstzulassung'].mode()"
   ]
  },
  {
   "cell_type": "markdown",
   "id": "c96c86e5",
   "metadata": {},
   "source": [
    "Die meisten Autos wurden im Februar zugelassen. Wir können auch mit\n",
    "`.value_counts()` für jeden Monat die Anzahl der Zulassungen auszählen lassen."
   ]
  },
  {
   "cell_type": "code",
   "execution_count": 9,
   "id": "f37d32e6",
   "metadata": {},
   "outputs": [
    {
     "data": {
      "text/plain": [
       "Erstzulassung\n",
       "02/2020    1954\n",
       "01/2020    1934\n",
       "03/2020    1892\n",
       "12/2020    1748\n",
       "11/2020    1522\n",
       "10/2020    1435\n",
       "07/2020    1432\n",
       "09/2020    1424\n",
       "05/2020    1383\n",
       "04/2020    1350\n",
       "06/2020    1299\n",
       "08/2020    1193\n",
       "Name: count, dtype: int64"
      ]
     },
     "execution_count": 9,
     "metadata": {},
     "output_type": "execute_result"
    }
   ],
   "source": [
    "data['Erstzulassung'].value_counts()"
   ]
  },
  {
   "cell_type": "markdown",
   "id": "5279cbc4",
   "metadata": {},
   "source": [
    "Insgesamt scheinen im ersten Quartal besonders viele Autos zugelassen zu werden.\n",
    "Dadurch, dass aber die Monate geordnet werden können, ist auch möglich den\n",
    "Median oder allgemein Quantile zu bestimmen. Allerdings kennt Pandas nicht die\n",
    "natürliche Reihenfolge der Monatsangaben 01/2020, 02/2020, 03/2020, usw. Wir\n",
    "ersetzen daher die Strings durch Integer, also \"01/2020\" --> 1, \"02/2020\" --> 2,\n",
    "usw. Diesen Vorgang nennt man in der Informatik **Kodierung**. Das Thema, wie\n",
    "kategoriale (qualitative Daten) am geschicktesten kodiert werden, wird uns noch\n",
    "intensiver beschäftigen. Jetzt gehen wir händisch vor und benutzen die\n",
    "`.replace()`-Methode von Pandas."
   ]
  },
  {
   "cell_type": "code",
   "execution_count": 10,
   "id": "65741ab4",
   "metadata": {},
   "outputs": [
    {
     "data": {
      "text/plain": [
       "array([ 9,  6,  4, 12,  5, 10,  2, 11,  8,  7,  3,  1])"
      ]
     },
     "execution_count": 10,
     "metadata": {},
     "output_type": "execute_result"
    }
   ],
   "source": [
    "# alte Datenwerte (Monatsangaben als Strings)\n",
    "kodierung_string = [\"01/2020\", \"02/2020\", \"03/2020\", \"04/2020\", \"05/2020\", \"06/2020\",\n",
    "\"07/2020\", \"08/2020\", \"09/2020\", \"10/2020\", \"11/2020\", \"12/2020\"]\n",
    "\n",
    "# neue Datenwerte (nur der Monat als Integer)\n",
    "kodierung_integer = [1, 2, 3, 4, 5, 6, 7, 8, 9, 10, 11, 12]\n",
    "\n",
    "# Ersetzung der alten Datenwerte durch die neue Kodierung\n",
    "data['Erstzulassung'].replace(kodierung_string, kodierung_integer, inplace=True)\n",
    "\n",
    "# Anzeige, ob alles funktioniert hat\n",
    "data['Erstzulassung'].unique()"
   ]
  },
  {
   "cell_type": "markdown",
   "id": "cffa7bf3",
   "metadata": {},
   "source": [
    "Jetzt können wir von Pandas den Median berechnen lassen, den die ganzen Zahlen\n",
    "von 1 bis 12 haben eine natürliche Reihenfolge. Der Median ist"
   ]
  },
  {
   "cell_type": "code",
   "execution_count": 11,
   "id": "e94abe97",
   "metadata": {},
   "outputs": [
    {
     "data": {
      "text/plain": [
       "6.0"
      ]
     },
     "execution_count": 11,
     "metadata": {},
     "output_type": "execute_result"
    }
   ],
   "source": [
    "data['Erstzulassung'].median()"
   ]
  },
  {
   "cell_type": "markdown",
   "id": "b8906a3c",
   "metadata": {},
   "source": [
    "Die Hälfte aller Autos wurde von Januar bis irgendwann im Juni zugelassen. Den\n",
    "genauen Stichtag im Juni können wir aufgrund fehlender Informationen über den\n",
    "Tag der Zulassung nicht ermitteln.\n",
    "\n",
    "## Zusammenfassung und Ausblick\n",
    "\n",
    "In diesem Kapitel haben wir uns mit dem Unterschied zwischen qualitativen\n",
    "(metrischen) und quantitativen (kategorialen) Daten beschäftigt. Dabei wird bei\n",
    "quantitativen Daten noch zwischen ungeordneten und geordneten Kategorien\n",
    "unterschieden. Abhängig von der Art der Daten können unterschiedliche\n",
    "statistische Kennzahlen erhoben werden. Bei ungeordneten kategorialen Daten kann\n",
    "nur der Modus (Modalwert) berechnet werden. Bei geordneten kategorialen Daten\n",
    "können zusätzlich noch Quantile (insbeondere der Median) berechnet werden. Nur\n",
    "bei metrischen (qualitativen) Daten ist es möglich, den Mittelwert und\n",
    "zusätzlich die Streuungsmaße (Spannbreite, Standardabweichung und\n",
    "Interquartilsabstand) zu bestimmen. Im nächsten Kapitel werden uns mit der\n",
    "Visualisierung der kategorialen Daten beschäftigen."
   ]
  }
 ],
 "metadata": {
  "jupytext": {
   "formats": "ipynb,md:myst",
   "text_representation": {
    "extension": ".md",
    "format_name": "myst",
    "format_version": 0.13,
    "jupytext_version": "1.14.7"
   }
  },
  "kernelspec": {
   "display_name": "Python 3 (ipykernel)",
   "language": "python",
   "name": "python3"
  },
  "language_info": {
   "codemirror_mode": {
    "name": "ipython",
    "version": 3
   },
   "file_extension": ".py",
   "mimetype": "text/x-python",
   "name": "python",
   "nbconvert_exporter": "python",
   "pygments_lexer": "ipython3",
   "version": "3.11.0"
  },
  "source_map": [
   13,
   69,
   73,
   113,
   115,
   120,
   122,
   131,
   133,
   242,
   245,
   250,
   252,
   257,
   259,
   267,
   269,
   274,
   276,
   288,
   301,
   306,
   308
  ]
 },
 "nbformat": 4,
 "nbformat_minor": 5
}