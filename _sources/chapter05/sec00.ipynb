{
 "cells": [
  {
   "cell_type": "markdown",
   "id": "ef18418e",
   "metadata": {},
   "source": [
    "# Daten visualisieren mit Matplotlib\n",
    "\n",
    "Die Visualisierung der Daten gehört zu den wichtigsten Schritten der\n",
    "Datenanalyse. Oft vermittelt die Visualisierung bereits wichtige Erkenntnisse\n",
    "über die Daten. Zu dem Modul Pandas gehören bereits einfache Methoden zur\n",
    "grafischen Darstellung der Daten, wie z.B. ``.plot(kind='line')`` oder\n",
    "``.plot(kind='bar')``. \n",
    "\n",
    "Diese Methoden basieren auf einem weiteren Python-Modul, nämlich **Matplotlib**.\n",
    "Matplotlib werden wir immer dann verwenden, wenn Grafiken komplexer werden (z.B.\n",
    "mehrere Visualisierungen in einer Grafik) oder wir Grafiken ästhetisch\n",
    "ansprechend für Publikationen oder Präsentationen aufbereiten wollen."
   ]
  }
 ],
 "metadata": {
  "jupytext": {
   "cell_metadata_filter": "-all",
   "formats": "ipynb,md:myst",
   "main_language": "python",
   "text_representation": {
    "extension": ".md",
    "format_name": "myst",
    "format_version": 0.13,
    "jupytext_version": "1.14.0"
   }
  },
  "kernelspec": {
   "display_name": "Python 3 (ipykernel)",
   "language": "python",
   "name": "python3"
  },
  "language_info": {
   "codemirror_mode": {
    "name": "ipython",
    "version": 3
   },
   "file_extension": ".py",
   "mimetype": "text/x-python",
   "name": "python",
   "nbconvert_exporter": "python",
   "pygments_lexer": "ipython3",
   "version": "3.9.13"
  },
  "source_map": [
   15
  ]
 },
 "nbformat": 4,
 "nbformat_minor": 5
}