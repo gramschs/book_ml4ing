{
 "cells": [
  {
   "cell_type": "code",
   "execution_count": 1,
   "metadata": {},
   "outputs": [
    {
     "name": "stdout",
     "output_type": "stream",
     "text": [
      "<class 'pandas.core.frame.DataFrame'>\n",
      "RangeIndex: 18566 entries, 0 to 18565\n",
      "Data columns (total 14 columns):\n",
      " #   Column                Non-Null Count  Dtype  \n",
      "---  ------                --------------  -----  \n",
      " 0   Marke                 18566 non-null  object \n",
      " 1   Modell                18566 non-null  object \n",
      " 2   Farbe                 18546 non-null  object \n",
      " 3   Erstzulassung         18566 non-null  object \n",
      " 4   Jahr                  18566 non-null  int64  \n",
      " 5   Preis (Euro)          18566 non-null  int64  \n",
      " 6   Leistung (kW)         18552 non-null  float64\n",
      " 7   Leistung (PS)         18552 non-null  float64\n",
      " 8   Getriebe              18566 non-null  object \n",
      " 9   Kraftstoff            18566 non-null  object \n",
      " 10  Verbrauch (l/100 km)  15501 non-null  object \n",
      " 11  Verbrauch (g/km)      18566 non-null  object \n",
      " 12  Kilometerstand (km)   18566 non-null  float64\n",
      " 13  Bemerkungen           18566 non-null  object \n",
      "dtypes: float64(3), int64(2), object(9)\n",
      "memory usage: 2.0+ MB\n"
     ]
    }
   ],
   "source": [
    "import pandas as pd\n",
    "\n",
    "data = pd.read_csv('autoscout24_DE_2020.csv')\n",
    "data.info()"
   ]
  },
  {
   "cell_type": "code",
   "execution_count": 6,
   "metadata": {},
   "outputs": [],
   "source": [
    "bedingung = data['Kilometerstand (km)'] <= 200000"
   ]
  },
  {
   "cell_type": "code",
   "execution_count": 9,
   "metadata": {},
   "outputs": [
    {
     "name": "stdout",
     "output_type": "stream",
     "text": [
      "<class 'pandas.core.series.Series'>\n",
      "RangeIndex: 18566 entries, 0 to 18565\n",
      "Series name: Kilometerstand (km)\n",
      "Non-Null Count  Dtype\n",
      "--------------  -----\n",
      "18566 non-null  bool \n",
      "dtypes: bool(1)\n",
      "memory usage: 18.3 KB\n"
     ]
    }
   ],
   "source": [
    "bedingung.info()"
   ]
  },
  {
   "cell_type": "code",
   "execution_count": 15,
   "metadata": {},
   "outputs": [
    {
     "data": {
      "text/plain": [
       "Int64Index([  968,  1136,  2265,  2340,  2726,  2732,  2734,  2736,  2942,\n",
       "             3045,  3636,  3643,  3648,  3678,  3703,  3709,  3712,  3717,\n",
       "             3722,  3725,  4704,  6583,  8493,  8835,  8836,  8874,  9012,\n",
       "            12030, 12532, 12835, 14815, 14959, 15455, 15573, 16387, 16511,\n",
       "            17628, 17921, 18045, 18123, 18517],\n",
       "           dtype='int64')"
      ]
     },
     "execution_count": 15,
     "metadata": {},
     "output_type": "execute_result"
    }
   ],
   "source": [
    "bedingung[~bedingung].index"
   ]
  }
 ],
 "metadata": {
  "kernelspec": {
   "display_name": "python310",
   "language": "python",
   "name": "python3"
  },
  "language_info": {
   "codemirror_mode": {
    "name": "ipython",
    "version": 3
   },
   "file_extension": ".py",
   "mimetype": "text/x-python",
   "name": "python",
   "nbconvert_exporter": "python",
   "pygments_lexer": "ipython3",
   "version": "3.10.11"
  }
 },
 "nbformat": 4,
 "nbformat_minor": 2
}
