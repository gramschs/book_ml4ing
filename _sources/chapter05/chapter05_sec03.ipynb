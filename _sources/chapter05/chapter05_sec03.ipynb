{
 "cells": [
  {
   "cell_type": "markdown",
   "id": "3c2d87f5",
   "metadata": {},
   "source": [
    "# 5.3 Daten filtern und gruppieren\n",
    "\n",
    "Im vorherigen Kapitel haben wir Autos basierend auf ihrem Kilometerstand\n",
    "gruppiert und visualisiert. Während diese Gruppierung automatisch im Hintergrund\n",
    "stattfand, werden wir in diesem Kapitel lernen, wie wir direkt auf die\n",
    "gruppierten Daten zugreifen und zusätzliche Analysen durchführen können.\n",
    "\n",
    "## Lernziele\n",
    "\n",
    "```{admonition} Lernziele\n",
    ":class: goals\n",
    "* Sie wissen, dass die Wahrheitswerte `True` (wahr)  oder `False` (falsch) in\n",
    "  dem Datentyp **bool** gespeichert werden.\n",
    "* Sie kennen die wichtigsten Vergleichsoperatoren (`<`, `<=`, `>`, `>=`, `==`,\n",
    "  `!=`, `in`, `not in`) in Python.\n",
    "* Sie können ein Pandas-DataFrame-Objekt nach einem Wert filtern.\n",
    "* Sie können ein Pandas-DataFrame-Objekt mit den Methoden `groupby()` und\n",
    "  `get_group()` gruppieren.\n",
    "```\n",
    "\n",
    "## Daten filtern\n",
    "\n",
    "Im vorherigen Kapitel haben wir die Kilometerstände von Autos untersucht, die im\n",
    "Jahr 2020 zugelassen und Mitte 2023 auf Autoscout24.de angeboten wurden. Bei der\n",
    "Kategorisierung der Kilometerstände fiel auf, dass Fahrzeuge mit einer\n",
    "Laufleistung von über 200000 km selten sind. Trotzdem beeinflusste dies die\n",
    "Aufteilung in zehn gleichmäßige Gruppen, die von 0 km bis 435909 km reichten,\n",
    "erheblich. Um eine genauere Analyse zu ermöglichen, wäre es sinnvoll, Fahrzeuge\n",
    "mit einer Laufleistung von bis zu 200.000 km in den Fokus zu nehmen und die\n",
    "Ausreißer auszuschließen. Daher widmen wir uns in diesem Kapitel der Filterung\n",
    "von tabellarischen Datensätzen mithilfe von Pandas.\n",
    "\n",
    "Zuerst laden wir den Datensatz {download}`autoscout24_DE_2020.csv\n",
    "<https://gramschs.github.io/book_ml4ing/data/autoscout24_DE_2020.csv>` und\n",
    "überprüfen den Inhalt."
   ]
  },
  {
   "cell_type": "code",
   "execution_count": 1,
   "id": "e78a33f5",
   "metadata": {},
   "outputs": [
    {
     "ename": "HTTPError",
     "evalue": "HTTP Error 404: Not Found",
     "output_type": "error",
     "traceback": [
      "\u001b[0;31m---------------------------------------------------------------------------\u001b[0m",
      "\u001b[0;31mHTTPError\u001b[0m                                 Traceback (most recent call last)",
      "Cell \u001b[0;32mIn[1], line 4\u001b[0m\n\u001b[1;32m      1\u001b[0m \u001b[38;5;28;01mimport\u001b[39;00m \u001b[38;5;21;01mpandas\u001b[39;00m \u001b[38;5;28;01mas\u001b[39;00m \u001b[38;5;21;01mpd\u001b[39;00m\n\u001b[1;32m      3\u001b[0m url \u001b[38;5;241m=\u001b[39m \u001b[38;5;124m'\u001b[39m\u001b[38;5;124mhttps://gramschs.github.io/book_ml4ing/data/autoscout24_DE_2020.csv\u001b[39m\u001b[38;5;124m'\u001b[39m\n\u001b[0;32m----> 4\u001b[0m data \u001b[38;5;241m=\u001b[39m \u001b[43mpd\u001b[49m\u001b[38;5;241;43m.\u001b[39;49m\u001b[43mread_csv\u001b[49m\u001b[43m(\u001b[49m\u001b[43murl\u001b[49m\u001b[43m)\u001b[49m\n\u001b[1;32m      5\u001b[0m data\u001b[38;5;241m.\u001b[39minfo()\n",
      "File \u001b[0;32m/opt/homebrew/Caskroom/miniconda/base/envs/python312/lib/python3.12/site-packages/pandas/io/parsers/readers.py:1026\u001b[0m, in \u001b[0;36mread_csv\u001b[0;34m(filepath_or_buffer, sep, delimiter, header, names, index_col, usecols, dtype, engine, converters, true_values, false_values, skipinitialspace, skiprows, skipfooter, nrows, na_values, keep_default_na, na_filter, verbose, skip_blank_lines, parse_dates, infer_datetime_format, keep_date_col, date_parser, date_format, dayfirst, cache_dates, iterator, chunksize, compression, thousands, decimal, lineterminator, quotechar, quoting, doublequote, escapechar, comment, encoding, encoding_errors, dialect, on_bad_lines, delim_whitespace, low_memory, memory_map, float_precision, storage_options, dtype_backend)\u001b[0m\n\u001b[1;32m   1013\u001b[0m kwds_defaults \u001b[38;5;241m=\u001b[39m _refine_defaults_read(\n\u001b[1;32m   1014\u001b[0m     dialect,\n\u001b[1;32m   1015\u001b[0m     delimiter,\n\u001b[0;32m   (...)\u001b[0m\n\u001b[1;32m   1022\u001b[0m     dtype_backend\u001b[38;5;241m=\u001b[39mdtype_backend,\n\u001b[1;32m   1023\u001b[0m )\n\u001b[1;32m   1024\u001b[0m kwds\u001b[38;5;241m.\u001b[39mupdate(kwds_defaults)\n\u001b[0;32m-> 1026\u001b[0m \u001b[38;5;28;01mreturn\u001b[39;00m \u001b[43m_read\u001b[49m\u001b[43m(\u001b[49m\u001b[43mfilepath_or_buffer\u001b[49m\u001b[43m,\u001b[49m\u001b[43m \u001b[49m\u001b[43mkwds\u001b[49m\u001b[43m)\u001b[49m\n",
      "File \u001b[0;32m/opt/homebrew/Caskroom/miniconda/base/envs/python312/lib/python3.12/site-packages/pandas/io/parsers/readers.py:620\u001b[0m, in \u001b[0;36m_read\u001b[0;34m(filepath_or_buffer, kwds)\u001b[0m\n\u001b[1;32m    617\u001b[0m _validate_names(kwds\u001b[38;5;241m.\u001b[39mget(\u001b[38;5;124m\"\u001b[39m\u001b[38;5;124mnames\u001b[39m\u001b[38;5;124m\"\u001b[39m, \u001b[38;5;28;01mNone\u001b[39;00m))\n\u001b[1;32m    619\u001b[0m \u001b[38;5;66;03m# Create the parser.\u001b[39;00m\n\u001b[0;32m--> 620\u001b[0m parser \u001b[38;5;241m=\u001b[39m \u001b[43mTextFileReader\u001b[49m\u001b[43m(\u001b[49m\u001b[43mfilepath_or_buffer\u001b[49m\u001b[43m,\u001b[49m\u001b[43m \u001b[49m\u001b[38;5;241;43m*\u001b[39;49m\u001b[38;5;241;43m*\u001b[39;49m\u001b[43mkwds\u001b[49m\u001b[43m)\u001b[49m\n\u001b[1;32m    622\u001b[0m \u001b[38;5;28;01mif\u001b[39;00m chunksize \u001b[38;5;129;01mor\u001b[39;00m iterator:\n\u001b[1;32m    623\u001b[0m     \u001b[38;5;28;01mreturn\u001b[39;00m parser\n",
      "File \u001b[0;32m/opt/homebrew/Caskroom/miniconda/base/envs/python312/lib/python3.12/site-packages/pandas/io/parsers/readers.py:1620\u001b[0m, in \u001b[0;36mTextFileReader.__init__\u001b[0;34m(self, f, engine, **kwds)\u001b[0m\n\u001b[1;32m   1617\u001b[0m     \u001b[38;5;28mself\u001b[39m\u001b[38;5;241m.\u001b[39moptions[\u001b[38;5;124m\"\u001b[39m\u001b[38;5;124mhas_index_names\u001b[39m\u001b[38;5;124m\"\u001b[39m] \u001b[38;5;241m=\u001b[39m kwds[\u001b[38;5;124m\"\u001b[39m\u001b[38;5;124mhas_index_names\u001b[39m\u001b[38;5;124m\"\u001b[39m]\n\u001b[1;32m   1619\u001b[0m \u001b[38;5;28mself\u001b[39m\u001b[38;5;241m.\u001b[39mhandles: IOHandles \u001b[38;5;241m|\u001b[39m \u001b[38;5;28;01mNone\u001b[39;00m \u001b[38;5;241m=\u001b[39m \u001b[38;5;28;01mNone\u001b[39;00m\n\u001b[0;32m-> 1620\u001b[0m \u001b[38;5;28mself\u001b[39m\u001b[38;5;241m.\u001b[39m_engine \u001b[38;5;241m=\u001b[39m \u001b[38;5;28;43mself\u001b[39;49m\u001b[38;5;241;43m.\u001b[39;49m\u001b[43m_make_engine\u001b[49m\u001b[43m(\u001b[49m\u001b[43mf\u001b[49m\u001b[43m,\u001b[49m\u001b[43m \u001b[49m\u001b[38;5;28;43mself\u001b[39;49m\u001b[38;5;241;43m.\u001b[39;49m\u001b[43mengine\u001b[49m\u001b[43m)\u001b[49m\n",
      "File \u001b[0;32m/opt/homebrew/Caskroom/miniconda/base/envs/python312/lib/python3.12/site-packages/pandas/io/parsers/readers.py:1880\u001b[0m, in \u001b[0;36mTextFileReader._make_engine\u001b[0;34m(self, f, engine)\u001b[0m\n\u001b[1;32m   1878\u001b[0m     \u001b[38;5;28;01mif\u001b[39;00m \u001b[38;5;124m\"\u001b[39m\u001b[38;5;124mb\u001b[39m\u001b[38;5;124m\"\u001b[39m \u001b[38;5;129;01mnot\u001b[39;00m \u001b[38;5;129;01min\u001b[39;00m mode:\n\u001b[1;32m   1879\u001b[0m         mode \u001b[38;5;241m+\u001b[39m\u001b[38;5;241m=\u001b[39m \u001b[38;5;124m\"\u001b[39m\u001b[38;5;124mb\u001b[39m\u001b[38;5;124m\"\u001b[39m\n\u001b[0;32m-> 1880\u001b[0m \u001b[38;5;28mself\u001b[39m\u001b[38;5;241m.\u001b[39mhandles \u001b[38;5;241m=\u001b[39m \u001b[43mget_handle\u001b[49m\u001b[43m(\u001b[49m\n\u001b[1;32m   1881\u001b[0m \u001b[43m    \u001b[49m\u001b[43mf\u001b[49m\u001b[43m,\u001b[49m\n\u001b[1;32m   1882\u001b[0m \u001b[43m    \u001b[49m\u001b[43mmode\u001b[49m\u001b[43m,\u001b[49m\n\u001b[1;32m   1883\u001b[0m \u001b[43m    \u001b[49m\u001b[43mencoding\u001b[49m\u001b[38;5;241;43m=\u001b[39;49m\u001b[38;5;28;43mself\u001b[39;49m\u001b[38;5;241;43m.\u001b[39;49m\u001b[43moptions\u001b[49m\u001b[38;5;241;43m.\u001b[39;49m\u001b[43mget\u001b[49m\u001b[43m(\u001b[49m\u001b[38;5;124;43m\"\u001b[39;49m\u001b[38;5;124;43mencoding\u001b[39;49m\u001b[38;5;124;43m\"\u001b[39;49m\u001b[43m,\u001b[49m\u001b[43m \u001b[49m\u001b[38;5;28;43;01mNone\u001b[39;49;00m\u001b[43m)\u001b[49m\u001b[43m,\u001b[49m\n\u001b[1;32m   1884\u001b[0m \u001b[43m    \u001b[49m\u001b[43mcompression\u001b[49m\u001b[38;5;241;43m=\u001b[39;49m\u001b[38;5;28;43mself\u001b[39;49m\u001b[38;5;241;43m.\u001b[39;49m\u001b[43moptions\u001b[49m\u001b[38;5;241;43m.\u001b[39;49m\u001b[43mget\u001b[49m\u001b[43m(\u001b[49m\u001b[38;5;124;43m\"\u001b[39;49m\u001b[38;5;124;43mcompression\u001b[39;49m\u001b[38;5;124;43m\"\u001b[39;49m\u001b[43m,\u001b[49m\u001b[43m \u001b[49m\u001b[38;5;28;43;01mNone\u001b[39;49;00m\u001b[43m)\u001b[49m\u001b[43m,\u001b[49m\n\u001b[1;32m   1885\u001b[0m \u001b[43m    \u001b[49m\u001b[43mmemory_map\u001b[49m\u001b[38;5;241;43m=\u001b[39;49m\u001b[38;5;28;43mself\u001b[39;49m\u001b[38;5;241;43m.\u001b[39;49m\u001b[43moptions\u001b[49m\u001b[38;5;241;43m.\u001b[39;49m\u001b[43mget\u001b[49m\u001b[43m(\u001b[49m\u001b[38;5;124;43m\"\u001b[39;49m\u001b[38;5;124;43mmemory_map\u001b[39;49m\u001b[38;5;124;43m\"\u001b[39;49m\u001b[43m,\u001b[49m\u001b[43m \u001b[49m\u001b[38;5;28;43;01mFalse\u001b[39;49;00m\u001b[43m)\u001b[49m\u001b[43m,\u001b[49m\n\u001b[1;32m   1886\u001b[0m \u001b[43m    \u001b[49m\u001b[43mis_text\u001b[49m\u001b[38;5;241;43m=\u001b[39;49m\u001b[43mis_text\u001b[49m\u001b[43m,\u001b[49m\n\u001b[1;32m   1887\u001b[0m \u001b[43m    \u001b[49m\u001b[43merrors\u001b[49m\u001b[38;5;241;43m=\u001b[39;49m\u001b[38;5;28;43mself\u001b[39;49m\u001b[38;5;241;43m.\u001b[39;49m\u001b[43moptions\u001b[49m\u001b[38;5;241;43m.\u001b[39;49m\u001b[43mget\u001b[49m\u001b[43m(\u001b[49m\u001b[38;5;124;43m\"\u001b[39;49m\u001b[38;5;124;43mencoding_errors\u001b[39;49m\u001b[38;5;124;43m\"\u001b[39;49m\u001b[43m,\u001b[49m\u001b[43m \u001b[49m\u001b[38;5;124;43m\"\u001b[39;49m\u001b[38;5;124;43mstrict\u001b[39;49m\u001b[38;5;124;43m\"\u001b[39;49m\u001b[43m)\u001b[49m\u001b[43m,\u001b[49m\n\u001b[1;32m   1888\u001b[0m \u001b[43m    \u001b[49m\u001b[43mstorage_options\u001b[49m\u001b[38;5;241;43m=\u001b[39;49m\u001b[38;5;28;43mself\u001b[39;49m\u001b[38;5;241;43m.\u001b[39;49m\u001b[43moptions\u001b[49m\u001b[38;5;241;43m.\u001b[39;49m\u001b[43mget\u001b[49m\u001b[43m(\u001b[49m\u001b[38;5;124;43m\"\u001b[39;49m\u001b[38;5;124;43mstorage_options\u001b[39;49m\u001b[38;5;124;43m\"\u001b[39;49m\u001b[43m,\u001b[49m\u001b[43m \u001b[49m\u001b[38;5;28;43;01mNone\u001b[39;49;00m\u001b[43m)\u001b[49m\u001b[43m,\u001b[49m\n\u001b[1;32m   1889\u001b[0m \u001b[43m\u001b[49m\u001b[43m)\u001b[49m\n\u001b[1;32m   1890\u001b[0m \u001b[38;5;28;01massert\u001b[39;00m \u001b[38;5;28mself\u001b[39m\u001b[38;5;241m.\u001b[39mhandles \u001b[38;5;129;01mis\u001b[39;00m \u001b[38;5;129;01mnot\u001b[39;00m \u001b[38;5;28;01mNone\u001b[39;00m\n\u001b[1;32m   1891\u001b[0m f \u001b[38;5;241m=\u001b[39m \u001b[38;5;28mself\u001b[39m\u001b[38;5;241m.\u001b[39mhandles\u001b[38;5;241m.\u001b[39mhandle\n",
      "File \u001b[0;32m/opt/homebrew/Caskroom/miniconda/base/envs/python312/lib/python3.12/site-packages/pandas/io/common.py:728\u001b[0m, in \u001b[0;36mget_handle\u001b[0;34m(path_or_buf, mode, encoding, compression, memory_map, is_text, errors, storage_options)\u001b[0m\n\u001b[1;32m    725\u001b[0m     codecs\u001b[38;5;241m.\u001b[39mlookup_error(errors)\n\u001b[1;32m    727\u001b[0m \u001b[38;5;66;03m# open URLs\u001b[39;00m\n\u001b[0;32m--> 728\u001b[0m ioargs \u001b[38;5;241m=\u001b[39m \u001b[43m_get_filepath_or_buffer\u001b[49m\u001b[43m(\u001b[49m\n\u001b[1;32m    729\u001b[0m \u001b[43m    \u001b[49m\u001b[43mpath_or_buf\u001b[49m\u001b[43m,\u001b[49m\n\u001b[1;32m    730\u001b[0m \u001b[43m    \u001b[49m\u001b[43mencoding\u001b[49m\u001b[38;5;241;43m=\u001b[39;49m\u001b[43mencoding\u001b[49m\u001b[43m,\u001b[49m\n\u001b[1;32m    731\u001b[0m \u001b[43m    \u001b[49m\u001b[43mcompression\u001b[49m\u001b[38;5;241;43m=\u001b[39;49m\u001b[43mcompression\u001b[49m\u001b[43m,\u001b[49m\n\u001b[1;32m    732\u001b[0m \u001b[43m    \u001b[49m\u001b[43mmode\u001b[49m\u001b[38;5;241;43m=\u001b[39;49m\u001b[43mmode\u001b[49m\u001b[43m,\u001b[49m\n\u001b[1;32m    733\u001b[0m \u001b[43m    \u001b[49m\u001b[43mstorage_options\u001b[49m\u001b[38;5;241;43m=\u001b[39;49m\u001b[43mstorage_options\u001b[49m\u001b[43m,\u001b[49m\n\u001b[1;32m    734\u001b[0m \u001b[43m\u001b[49m\u001b[43m)\u001b[49m\n\u001b[1;32m    736\u001b[0m handle \u001b[38;5;241m=\u001b[39m ioargs\u001b[38;5;241m.\u001b[39mfilepath_or_buffer\n\u001b[1;32m    737\u001b[0m handles: \u001b[38;5;28mlist\u001b[39m[BaseBuffer]\n",
      "File \u001b[0;32m/opt/homebrew/Caskroom/miniconda/base/envs/python312/lib/python3.12/site-packages/pandas/io/common.py:384\u001b[0m, in \u001b[0;36m_get_filepath_or_buffer\u001b[0;34m(filepath_or_buffer, encoding, compression, mode, storage_options)\u001b[0m\n\u001b[1;32m    382\u001b[0m \u001b[38;5;66;03m# assuming storage_options is to be interpreted as headers\u001b[39;00m\n\u001b[1;32m    383\u001b[0m req_info \u001b[38;5;241m=\u001b[39m urllib\u001b[38;5;241m.\u001b[39mrequest\u001b[38;5;241m.\u001b[39mRequest(filepath_or_buffer, headers\u001b[38;5;241m=\u001b[39mstorage_options)\n\u001b[0;32m--> 384\u001b[0m \u001b[38;5;28;01mwith\u001b[39;00m \u001b[43murlopen\u001b[49m\u001b[43m(\u001b[49m\u001b[43mreq_info\u001b[49m\u001b[43m)\u001b[49m \u001b[38;5;28;01mas\u001b[39;00m req:\n\u001b[1;32m    385\u001b[0m     content_encoding \u001b[38;5;241m=\u001b[39m req\u001b[38;5;241m.\u001b[39mheaders\u001b[38;5;241m.\u001b[39mget(\u001b[38;5;124m\"\u001b[39m\u001b[38;5;124mContent-Encoding\u001b[39m\u001b[38;5;124m\"\u001b[39m, \u001b[38;5;28;01mNone\u001b[39;00m)\n\u001b[1;32m    386\u001b[0m     \u001b[38;5;28;01mif\u001b[39;00m content_encoding \u001b[38;5;241m==\u001b[39m \u001b[38;5;124m\"\u001b[39m\u001b[38;5;124mgzip\u001b[39m\u001b[38;5;124m\"\u001b[39m:\n\u001b[1;32m    387\u001b[0m         \u001b[38;5;66;03m# Override compression based on Content-Encoding header\u001b[39;00m\n",
      "File \u001b[0;32m/opt/homebrew/Caskroom/miniconda/base/envs/python312/lib/python3.12/site-packages/pandas/io/common.py:289\u001b[0m, in \u001b[0;36murlopen\u001b[0;34m(*args, **kwargs)\u001b[0m\n\u001b[1;32m    283\u001b[0m \u001b[38;5;250m\u001b[39m\u001b[38;5;124;03m\"\"\"\u001b[39;00m\n\u001b[1;32m    284\u001b[0m \u001b[38;5;124;03mLazy-import wrapper for stdlib urlopen, as that imports a big chunk of\u001b[39;00m\n\u001b[1;32m    285\u001b[0m \u001b[38;5;124;03mthe stdlib.\u001b[39;00m\n\u001b[1;32m    286\u001b[0m \u001b[38;5;124;03m\"\"\"\u001b[39;00m\n\u001b[1;32m    287\u001b[0m \u001b[38;5;28;01mimport\u001b[39;00m \u001b[38;5;21;01murllib\u001b[39;00m\u001b[38;5;21;01m.\u001b[39;00m\u001b[38;5;21;01mrequest\u001b[39;00m\n\u001b[0;32m--> 289\u001b[0m \u001b[38;5;28;01mreturn\u001b[39;00m \u001b[43murllib\u001b[49m\u001b[38;5;241;43m.\u001b[39;49m\u001b[43mrequest\u001b[49m\u001b[38;5;241;43m.\u001b[39;49m\u001b[43murlopen\u001b[49m\u001b[43m(\u001b[49m\u001b[38;5;241;43m*\u001b[39;49m\u001b[43margs\u001b[49m\u001b[43m,\u001b[49m\u001b[43m \u001b[49m\u001b[38;5;241;43m*\u001b[39;49m\u001b[38;5;241;43m*\u001b[39;49m\u001b[43mkwargs\u001b[49m\u001b[43m)\u001b[49m\n",
      "File \u001b[0;32m/opt/homebrew/Caskroom/miniconda/base/envs/python312/lib/python3.12/urllib/request.py:215\u001b[0m, in \u001b[0;36murlopen\u001b[0;34m(url, data, timeout, cafile, capath, cadefault, context)\u001b[0m\n\u001b[1;32m    213\u001b[0m \u001b[38;5;28;01melse\u001b[39;00m:\n\u001b[1;32m    214\u001b[0m     opener \u001b[38;5;241m=\u001b[39m _opener\n\u001b[0;32m--> 215\u001b[0m \u001b[38;5;28;01mreturn\u001b[39;00m \u001b[43mopener\u001b[49m\u001b[38;5;241;43m.\u001b[39;49m\u001b[43mopen\u001b[49m\u001b[43m(\u001b[49m\u001b[43murl\u001b[49m\u001b[43m,\u001b[49m\u001b[43m \u001b[49m\u001b[43mdata\u001b[49m\u001b[43m,\u001b[49m\u001b[43m \u001b[49m\u001b[43mtimeout\u001b[49m\u001b[43m)\u001b[49m\n",
      "File \u001b[0;32m/opt/homebrew/Caskroom/miniconda/base/envs/python312/lib/python3.12/urllib/request.py:521\u001b[0m, in \u001b[0;36mOpenerDirector.open\u001b[0;34m(self, fullurl, data, timeout)\u001b[0m\n\u001b[1;32m    519\u001b[0m \u001b[38;5;28;01mfor\u001b[39;00m processor \u001b[38;5;129;01min\u001b[39;00m \u001b[38;5;28mself\u001b[39m\u001b[38;5;241m.\u001b[39mprocess_response\u001b[38;5;241m.\u001b[39mget(protocol, []):\n\u001b[1;32m    520\u001b[0m     meth \u001b[38;5;241m=\u001b[39m \u001b[38;5;28mgetattr\u001b[39m(processor, meth_name)\n\u001b[0;32m--> 521\u001b[0m     response \u001b[38;5;241m=\u001b[39m \u001b[43mmeth\u001b[49m\u001b[43m(\u001b[49m\u001b[43mreq\u001b[49m\u001b[43m,\u001b[49m\u001b[43m \u001b[49m\u001b[43mresponse\u001b[49m\u001b[43m)\u001b[49m\n\u001b[1;32m    523\u001b[0m \u001b[38;5;28;01mreturn\u001b[39;00m response\n",
      "File \u001b[0;32m/opt/homebrew/Caskroom/miniconda/base/envs/python312/lib/python3.12/urllib/request.py:630\u001b[0m, in \u001b[0;36mHTTPErrorProcessor.http_response\u001b[0;34m(self, request, response)\u001b[0m\n\u001b[1;32m    627\u001b[0m \u001b[38;5;66;03m# According to RFC 2616, \"2xx\" code indicates that the client's\u001b[39;00m\n\u001b[1;32m    628\u001b[0m \u001b[38;5;66;03m# request was successfully received, understood, and accepted.\u001b[39;00m\n\u001b[1;32m    629\u001b[0m \u001b[38;5;28;01mif\u001b[39;00m \u001b[38;5;129;01mnot\u001b[39;00m (\u001b[38;5;241m200\u001b[39m \u001b[38;5;241m<\u001b[39m\u001b[38;5;241m=\u001b[39m code \u001b[38;5;241m<\u001b[39m \u001b[38;5;241m300\u001b[39m):\n\u001b[0;32m--> 630\u001b[0m     response \u001b[38;5;241m=\u001b[39m \u001b[38;5;28;43mself\u001b[39;49m\u001b[38;5;241;43m.\u001b[39;49m\u001b[43mparent\u001b[49m\u001b[38;5;241;43m.\u001b[39;49m\u001b[43merror\u001b[49m\u001b[43m(\u001b[49m\n\u001b[1;32m    631\u001b[0m \u001b[43m        \u001b[49m\u001b[38;5;124;43m'\u001b[39;49m\u001b[38;5;124;43mhttp\u001b[39;49m\u001b[38;5;124;43m'\u001b[39;49m\u001b[43m,\u001b[49m\u001b[43m \u001b[49m\u001b[43mrequest\u001b[49m\u001b[43m,\u001b[49m\u001b[43m \u001b[49m\u001b[43mresponse\u001b[49m\u001b[43m,\u001b[49m\u001b[43m \u001b[49m\u001b[43mcode\u001b[49m\u001b[43m,\u001b[49m\u001b[43m \u001b[49m\u001b[43mmsg\u001b[49m\u001b[43m,\u001b[49m\u001b[43m \u001b[49m\u001b[43mhdrs\u001b[49m\u001b[43m)\u001b[49m\n\u001b[1;32m    633\u001b[0m \u001b[38;5;28;01mreturn\u001b[39;00m response\n",
      "File \u001b[0;32m/opt/homebrew/Caskroom/miniconda/base/envs/python312/lib/python3.12/urllib/request.py:559\u001b[0m, in \u001b[0;36mOpenerDirector.error\u001b[0;34m(self, proto, *args)\u001b[0m\n\u001b[1;32m    557\u001b[0m \u001b[38;5;28;01mif\u001b[39;00m http_err:\n\u001b[1;32m    558\u001b[0m     args \u001b[38;5;241m=\u001b[39m (\u001b[38;5;28mdict\u001b[39m, \u001b[38;5;124m'\u001b[39m\u001b[38;5;124mdefault\u001b[39m\u001b[38;5;124m'\u001b[39m, \u001b[38;5;124m'\u001b[39m\u001b[38;5;124mhttp_error_default\u001b[39m\u001b[38;5;124m'\u001b[39m) \u001b[38;5;241m+\u001b[39m orig_args\n\u001b[0;32m--> 559\u001b[0m     \u001b[38;5;28;01mreturn\u001b[39;00m \u001b[38;5;28;43mself\u001b[39;49m\u001b[38;5;241;43m.\u001b[39;49m\u001b[43m_call_chain\u001b[49m\u001b[43m(\u001b[49m\u001b[38;5;241;43m*\u001b[39;49m\u001b[43margs\u001b[49m\u001b[43m)\u001b[49m\n",
      "File \u001b[0;32m/opt/homebrew/Caskroom/miniconda/base/envs/python312/lib/python3.12/urllib/request.py:492\u001b[0m, in \u001b[0;36mOpenerDirector._call_chain\u001b[0;34m(self, chain, kind, meth_name, *args)\u001b[0m\n\u001b[1;32m    490\u001b[0m \u001b[38;5;28;01mfor\u001b[39;00m handler \u001b[38;5;129;01min\u001b[39;00m handlers:\n\u001b[1;32m    491\u001b[0m     func \u001b[38;5;241m=\u001b[39m \u001b[38;5;28mgetattr\u001b[39m(handler, meth_name)\n\u001b[0;32m--> 492\u001b[0m     result \u001b[38;5;241m=\u001b[39m \u001b[43mfunc\u001b[49m\u001b[43m(\u001b[49m\u001b[38;5;241;43m*\u001b[39;49m\u001b[43margs\u001b[49m\u001b[43m)\u001b[49m\n\u001b[1;32m    493\u001b[0m     \u001b[38;5;28;01mif\u001b[39;00m result \u001b[38;5;129;01mis\u001b[39;00m \u001b[38;5;129;01mnot\u001b[39;00m \u001b[38;5;28;01mNone\u001b[39;00m:\n\u001b[1;32m    494\u001b[0m         \u001b[38;5;28;01mreturn\u001b[39;00m result\n",
      "File \u001b[0;32m/opt/homebrew/Caskroom/miniconda/base/envs/python312/lib/python3.12/urllib/request.py:639\u001b[0m, in \u001b[0;36mHTTPDefaultErrorHandler.http_error_default\u001b[0;34m(self, req, fp, code, msg, hdrs)\u001b[0m\n\u001b[1;32m    638\u001b[0m \u001b[38;5;28;01mdef\u001b[39;00m \u001b[38;5;21mhttp_error_default\u001b[39m(\u001b[38;5;28mself\u001b[39m, req, fp, code, msg, hdrs):\n\u001b[0;32m--> 639\u001b[0m     \u001b[38;5;28;01mraise\u001b[39;00m HTTPError(req\u001b[38;5;241m.\u001b[39mfull_url, code, msg, hdrs, fp)\n",
      "\u001b[0;31mHTTPError\u001b[0m: HTTP Error 404: Not Found"
     ]
    }
   ],
   "source": [
    "import pandas as pd\n",
    "\n",
    "url = 'https://gramschs.github.io/book_ml4ing/data/autoscout24_DE_2020.csv'\n",
    "data = pd.read_csv(url)\n",
    "data.info()"
   ]
  },
  {
   "cell_type": "markdown",
   "id": "edec05ad",
   "metadata": {},
   "source": [
    "Um die Autos mit einem Kilometerstand von bis zu 200000 km zu filtern,\n",
    "vergleichen wir die entsprechende Spalte mit dem Wert 200000, indem wir den aus\n",
    "der Mathematik bekannten Kleiner-gleich-Operators `<=` benutzen. Das Ergebnis\n",
    "dieses Vergleichs speichern wir in der Variable `bedingung`."
   ]
  },
  {
   "cell_type": "code",
   "execution_count": null,
   "id": "a58955f0",
   "metadata": {},
   "outputs": [],
   "source": [
    "bedingung = data['Kilometerstand (km)'] <= 200000"
   ]
  },
  {
   "cell_type": "markdown",
   "id": "db2726ee",
   "metadata": {},
   "source": [
    "Aber was genau ist in der Variable `bedingung` enthalten? Schauen wir uns den\n",
    "Datentyp an:"
   ]
  },
  {
   "cell_type": "code",
   "execution_count": null,
   "id": "72a36141",
   "metadata": {},
   "outputs": [],
   "source": [
    "type(bedingung)"
   ]
  },
  {
   "cell_type": "markdown",
   "id": "1f930950",
   "metadata": {},
   "source": [
    "Offensichtlich handelt es sich um ein Pandas-Series-Objekt. Für weitere\n",
    "Informationen können wir die `.info()`-Methode aufrufen:"
   ]
  },
  {
   "cell_type": "code",
   "execution_count": null,
   "id": "bc2c8777",
   "metadata": {},
   "outputs": [],
   "source": [
    "bedingung.info()"
   ]
  },
  {
   "cell_type": "markdown",
   "id": "4fd2e9bd",
   "metadata": {},
   "source": [
    "In dem Series-Objekt sind 18566 Einträge vom Datentyp `bool` gespeichert. Diesen\n",
    "Datentyp haben wir bisher nicht kennengelernt. Wir lassen die ersten fünf\n",
    "Einträge ausgeben:"
   ]
  },
  {
   "cell_type": "code",
   "execution_count": null,
   "id": "a1f6eca8",
   "metadata": {},
   "outputs": [],
   "source": [
    "bedingung.head()"
   ]
  },
  {
   "cell_type": "markdown",
   "id": "c0145af6",
   "metadata": {},
   "source": [
    "Sind alle Einträge mit dem Wert `True` gefüllt? Wie viele und vor allem welche\n",
    "einzigartige Einträge gibt es in diesem Series-Objekt?"
   ]
  },
  {
   "cell_type": "code",
   "execution_count": null,
   "id": "6ece9a5e",
   "metadata": {},
   "outputs": [],
   "source": [
    "bedingung.unique()"
   ]
  },
  {
   "cell_type": "markdown",
   "id": "17279909",
   "metadata": {},
   "source": [
    "Das Series-Objekt enthält nur `True` und `False`, was den Datentyp `bool`\n",
    "charakterisiert. In diesem Datentyp können nur zwei verschiedene Werte\n",
    "gespeichert werden, nämlich wahr (True) und falsch (False). Oft sind\n",
    "Wahrheitswerte das Ergebnis eines Vergleichs, wie das folgende Code-Beispiel\n",
    "zeigt:"
   ]
  },
  {
   "cell_type": "code",
   "execution_count": null,
   "id": "8e6efe10",
   "metadata": {},
   "outputs": [],
   "source": [
    "x = 19\n",
    "print(x  < 100)"
   ]
  },
  {
   "cell_type": "markdown",
   "id": "63950b7c",
   "metadata": {},
   "source": [
    "In der Python-Programmierung wird der Datentyp bool oft verwendet, um\n",
    "Programmcode zu verzweigen. Damit ist gemeint, dass Teile des Programms nur\n",
    "durchlaufen und ausgeführt werden, wenn eine bestimmte Bedingung wahr (True)\n",
    "ist. In dieser Vorlesung benutzen wir bool-Werte hauptsächlich zum Filtern von\n",
    "Daten.\n",
    "\n",
    "```{admonition} Welche Vergleichsoperatoren kennt Python\n",
    "In Python können die mathematischen Vergleichsoperatoren in ihrer gewohnten\n",
    "Schreibweise verwendet werden:\n",
    "* `<` kleiner als\n",
    "* `<=` kleiner als oder gleich \n",
    "* `>` größer\n",
    "* `>=` größer als oder gleich\n",
    "* `==` gleich (`=` ist der Zuweisungsoperator, nicht mit Gleichheit\n",
    "  verwechseln!)\n",
    "* `!=` ungleich \n",
    "\n",
    "Darüber hinaus kann mit `in` oder `not in` getestet werden, ob\n",
    "ein Element in einer Liste ist oder eben nicht.\n",
    "```\n",
    "\n",
    "Aber was machen wir jetzt mit diesem Series-Objekt? Wir können es als Index\n",
    "benutzen für den ursprünglichen Datensatz benutzen. Die Zeilen, in denen `True`\n",
    "steht, werden übernommen, die anderen verworfen."
   ]
  },
  {
   "cell_type": "code",
   "execution_count": null,
   "id": "9fc1456d",
   "metadata": {},
   "outputs": [],
   "source": [
    "autos_bis_200000km = data[bedingung]\n",
    "autos_bis_200000km.info()"
   ]
  },
  {
   "cell_type": "markdown",
   "id": "2ddc0509",
   "metadata": {},
   "source": [
    "Von den 18566 Autos wurden 18525 Autos übernommen. Ist denn die Filterung\n",
    "geglückt? Wir verschaffen uns mit der `.describe()`-Methode einen schnellen\n",
    "Überblick."
   ]
  },
  {
   "cell_type": "code",
   "execution_count": null,
   "id": "6e23ea1a",
   "metadata": {},
   "outputs": [],
   "source": [
    "autos_bis_200000km.describe()"
   ]
  },
  {
   "cell_type": "markdown",
   "id": "7145b5e4",
   "metadata": {},
   "source": [
    "Der maximale Eintrag für die Spalte `Kilometerstand (km)` ist 199000 km. Mit dem\n",
    "Tilde-Operator `~` können wir das Pandas-Series-Objekt `bedingung` in das\n",
    "Gegenteil umwandeln. Damit können wir also die Autos, bei denen der Vergleich\n",
    "`<= 200000` zu `False` ausgewertet wurde, herausfiltern."
   ]
  },
  {
   "cell_type": "code",
   "execution_count": null,
   "id": "22131907",
   "metadata": {},
   "outputs": [],
   "source": [
    "autos_ab_200000km = data[~bedingung]\n",
    "autos_ab_200000km.info()"
   ]
  },
  {
   "cell_type": "markdown",
   "id": "6c838f88",
   "metadata": {},
   "source": [
    "41 Autos, die 2020 zugelassen wurden, sollten Mitte 2023 mit einem\n",
    "Kilometerstand von mehr als 200000 km verkauft werden. Schauen wir uns die\n",
    "Statistik an."
   ]
  },
  {
   "cell_type": "code",
   "execution_count": null,
   "id": "8912f8a5",
   "metadata": {},
   "outputs": [],
   "source": [
    "autos_ab_200000km.describe()"
   ]
  },
  {
   "cell_type": "markdown",
   "id": "b45e7919",
   "metadata": {},
   "source": [
    "Und was sind das für Autos?"
   ]
  },
  {
   "cell_type": "code",
   "execution_count": null,
   "id": "de83a3e5",
   "metadata": {},
   "outputs": [],
   "source": [
    "autos_ab_200000km.head(10)"
   ]
  },
  {
   "cell_type": "markdown",
   "id": "735a9838",
   "metadata": {},
   "source": [
    "## Gruppieren\n",
    "\n",
    "Eine Filterung nach Kilometerstand ermöglicht es uns, die Autos in zwei\n",
    "Datensätze zu teilen: Autos mit bis zu 200000 km Laufleistung und jene mit mehr\n",
    "als 200000 km (hierzu kann der Tilde-Operator (~) verwendet werden).\n",
    "\n",
    "Wenden wir nun diese Technik an, um die Fahrzeuge basierend auf ihrer Marke zu\n",
    "trennen. Ein Beispiel: Um alle \"Audi\"-Fahrzeuge zu extrahieren, verwenden wir\n",
    "den folgenden Code:"
   ]
  },
  {
   "cell_type": "code",
   "execution_count": null,
   "id": "71a16641",
   "metadata": {},
   "outputs": [],
   "source": [
    "bedingung_audi = data['Marke'] == 'audi'\n",
    "audis = data[bedingung_audi]\n",
    "audis.info()"
   ]
  },
  {
   "cell_type": "markdown",
   "id": "cbd0e233",
   "metadata": {},
   "source": [
    "Diese Bedingung erfüllen 1.190 Autos. Der Gesamtdatensatz enthält jedoch 41\n",
    "unterschiedliche Automarken. Es wäre ineffizient, für jede Marke eine separate\n",
    "Filterung durchzuführen. Deshalb bietet Pandas die `.groupby()`-Methode, die es\n",
    "erlaubt, die Daten automatisch nach den einzigartigen Einträgen einer Spalte zu\n",
    "gruppieren:"
   ]
  },
  {
   "cell_type": "code",
   "execution_count": null,
   "id": "78f4fcb5",
   "metadata": {},
   "outputs": [],
   "source": [
    "autos_nach_marke = data.groupby('Marke')\n",
    "type(autos_nach_marke)"
   ]
  },
  {
   "cell_type": "markdown",
   "id": "089483e1",
   "metadata": {},
   "source": [
    "Das Resultat ist eine spezielle Pandas-Datenstruktur namens `DataFrameGroupBy`.\n",
    "Es sind nicht alle bisher bekannten Methoden auf dieses Objekt anwendbar, aber\n",
    "beispielsweise die `.describe()`-Methode darf verwendet werden:"
   ]
  },
  {
   "cell_type": "code",
   "execution_count": null,
   "id": "6c6a5c2f",
   "metadata": {},
   "outputs": [],
   "source": [
    "autos_nach_marke.describe()"
   ]
  },
  {
   "cell_type": "markdown",
   "id": "4ee88208",
   "metadata": {},
   "source": [
    "Für jede Automarke werden nun für jede Spalte mit metrischen (quantitativen)\n",
    "Informationen die statistischen Kennzahlen ermittelt. Die entstehende Tabelle\n",
    "ist etwas unübersichtlich. Besser ist daher, sich die statistischen Kennzahlen\n",
    "einzeln ausgeben zu lassen. Im Folgenden ermitteln wir die Mittelwerte der\n",
    "metrischen Informationen nach Automarke. Damit tatsächlich auch nur die\n",
    "metrischen Daten gemittelt werden, müssen wir als Argument noch zusätzlich\n",
    "`numeric_only=True` setzen."
   ]
  },
  {
   "cell_type": "code",
   "execution_count": null,
   "id": "7c69cc75",
   "metadata": {},
   "outputs": [],
   "source": [
    "autos_nach_marke.mean(numeric_only=True)"
   ]
  },
  {
   "cell_type": "markdown",
   "id": "4a8fa850",
   "metadata": {},
   "source": [
    "Eine sehr wichtige Methode der GroupBy-Datenstruktur ist die\n",
    "`get_group()`-Methode. Damit können wir ein bestimmtes DataFrame-Objekt aus dem\n",
    "GroupBy-Objekt extrahieren:"
   ]
  },
  {
   "cell_type": "code",
   "execution_count": null,
   "id": "8454d4d0",
   "metadata": {},
   "outputs": [],
   "source": [
    "audis_alternativ = autos_nach_marke.get_group('audi')\n",
    "audis_alternativ.info()"
   ]
  },
  {
   "cell_type": "markdown",
   "id": "35fa3686",
   "metadata": {},
   "source": [
    "In der Variablen `audis_alternativ` steckt nun der gleiche Datensatz wie in der\n",
    "Variablen `audis`, den wir bereits durch das Filtern des ursprünglichen\n",
    "Datensatzes extrahiert haben.\n",
    "\n",
    "## Zusammenfassung und Ausblick\n",
    "\n",
    "In diesem Kapitel haben wir die Technik des Datenfilterns kennengelernt. Um\n",
    "spezifische Einträge aus einem Datensatz basierend auf einem bestimmten Wert zu\n",
    "extrahieren, nutzen wir Vergleichsoperationen und verwenden das resultierende\n",
    "Series-Objekt als Index. Wenn das Ziel darin besteht, Daten anhand der\n",
    "einzigartigen Werte einer Spalte zu gruppieren, dann ist die Kombination von\n",
    "`.groupby()` und `.get_group()` oft der effizienteste Weg. Damit haben wir\n",
    "unsere Einführung in die Datenexploration abgeschlossen, obwohl es noch viele\n",
    "weitere Möglichkeiten gibt, die Daten zu erkunden. Im nächsten Kapitel beginnen\n",
    "wir mit den Grundlagen des maschinellen Lernens und beschäftigen uns mit\n",
    "Entscheidungsbäumen."
   ]
  }
 ],
 "metadata": {
  "jupytext": {
   "formats": "ipynb,md:myst",
   "text_representation": {
    "extension": ".md",
    "format_name": "myst",
    "format_version": 0.13,
    "jupytext_version": "1.15.2"
   }
  },
  "kernelspec": {
   "display_name": "Python 3",
   "language": "python",
   "name": "python3"
  },
  "language_info": {
   "codemirror_mode": {
    "name": "ipython",
    "version": 3
   },
   "file_extension": ".py",
   "mimetype": "text/x-python",
   "name": "python",
   "nbconvert_exporter": "python",
   "pygments_lexer": "ipython3",
   "version": "3.12.2"
  },
  "source_map": [
   13,
   51,
   57,
   64,
   66,
   71,
   73,
   78,
   80,
   86,
   88,
   93,
   95,
   103,
   106,
   133,
   136,
   142,
   144,
   151,
   154,
   160,
   162,
   166,
   168,
   180,
   184,
   192,
   195,
   201,
   203,
   213,
   215,
   221,
   224
  ]
 },
 "nbformat": 4,
 "nbformat_minor": 5
}