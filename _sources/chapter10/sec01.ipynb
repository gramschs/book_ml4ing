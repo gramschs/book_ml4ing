{
 "cells": [
  {
   "cell_type": "markdown",
   "id": "6006dce7",
   "metadata": {},
   "source": [
    "# Logistische Regression ersetzt Perzeptron\n",
    "\n",
    "\n",
    "## Lernziele\n",
    "\n",
    "```{admonition} Lernziele\n",
    ":class: hint\n",
    "* Sie können die **logistische Funktion** zeichnen.\n",
    "* Sie können die Funktionsgleichung der logistischen Funktion angeben.\n",
    "* Sie können das **logistische Regressionsmodell** definieren. \n",
    "```\n",
    "\n",
    "## Perzeptron ungeeignet bei nicht trennbaren Daten\n",
    "\n",
    "Das Perzeptron ist ein simples ML-Verfahren für die binäre Klassifikation.\n",
    "Allerdings ist das Perzeptron nur für trennbare Datensätze geeignet. Dazu\n",
    "schauen wir uns zwei Beispiele aus dem Männerfußball an. Ziel der folgenden\n",
    "Klassifikationsaufgabe ist es, anhand des Marktwertes eines Vereines zu\n",
    "klassifizieren, ob der Verein in der Bundesliga oder in der 2. Bundesliga\n",
    "spielt.\n",
    "\n",
    "Dazu laden wir als erstes den Datensatz `20220801_Marktwert_Bundesliga.csv`\n",
    "(Download\n",
    "[csv](https://nextcloud.frankfurt-university.de/s/GESBZzRyXq6dLNC/download);\n",
    "Quelle: https://www.transfermarkt.de; Stichtag: 01.08.2022)."
   ]
  },
  {
   "cell_type": "code",
   "execution_count": 1,
   "id": "7954ad9f-f3c0-4170-a530-56a59321f93a",
   "metadata": {
    "tags": [
     "output-scroll"
    ]
   },
   "outputs": [],
   "source": [
    "import pandas as pd\n",
    "data_raw = pd.read_csv('data/20220801_Marktwert_Bundesliga.csv', skiprows=5, header=0, index_col=0)"
   ]
  },
  {
   "cell_type": "markdown",
   "id": "c3244395",
   "metadata": {},
   "source": [
    "Die ersten fünf Einträge lauten wie folgt:"
   ]
  },
  {
   "cell_type": "code",
   "execution_count": 2,
   "id": "5c39308e",
   "metadata": {
    "tags": [
     "remove-input"
    ]
   },
   "outputs": [
    {
     "data": {
      "text/html": [
       "<div>\n",
       "<style scoped>\n",
       "    .dataframe tbody tr th:only-of-type {\n",
       "        vertical-align: middle;\n",
       "    }\n",
       "\n",
       "    .dataframe tbody tr th {\n",
       "        vertical-align: top;\n",
       "    }\n",
       "\n",
       "    .dataframe thead th {\n",
       "        text-align: right;\n",
       "    }\n",
       "</style>\n",
       "<table border=\"1\" class=\"dataframe\">\n",
       "  <thead>\n",
       "    <tr style=\"text-align: right;\">\n",
       "      <th></th>\n",
       "      <th>Ligazugehörigkeit</th>\n",
       "      <th>Wert</th>\n",
       "      <th>Kadergröße</th>\n",
       "    </tr>\n",
       "    <tr>\n",
       "      <th>Verein</th>\n",
       "      <th></th>\n",
       "      <th></th>\n",
       "      <th></th>\n",
       "    </tr>\n",
       "  </thead>\n",
       "  <tbody>\n",
       "    <tr>\n",
       "      <th>FC Bayern München</th>\n",
       "      <td>Bundesliga</td>\n",
       "      <td>870.23</td>\n",
       "      <td>28</td>\n",
       "    </tr>\n",
       "    <tr>\n",
       "      <th>Borussia Dortmund</th>\n",
       "      <td>Bundesliga</td>\n",
       "      <td>509.45</td>\n",
       "      <td>30</td>\n",
       "    </tr>\n",
       "    <tr>\n",
       "      <th>Bayer 04 Leverkusen</th>\n",
       "      <td>Bundesliga</td>\n",
       "      <td>455.35</td>\n",
       "      <td>29</td>\n",
       "    </tr>\n",
       "    <tr>\n",
       "      <th>RasenBallsport Leipzig</th>\n",
       "      <td>Bundesliga</td>\n",
       "      <td>486.18</td>\n",
       "      <td>30</td>\n",
       "    </tr>\n",
       "    <tr>\n",
       "      <th>VfL Wolfsburg</th>\n",
       "      <td>Bundesliga</td>\n",
       "      <td>239.65</td>\n",
       "      <td>33</td>\n",
       "    </tr>\n",
       "  </tbody>\n",
       "</table>\n",
       "</div>"
      ],
      "text/plain": [
       "                       Ligazugehörigkeit    Wert  Kadergröße\n",
       "Verein                                                      \n",
       "FC Bayern München             Bundesliga  870.23          28\n",
       "Borussia Dortmund             Bundesliga  509.45          30\n",
       "Bayer 04 Leverkusen           Bundesliga  455.35          29\n",
       "RasenBallsport Leipzig        Bundesliga  486.18          30\n",
       "VfL Wolfsburg                 Bundesliga  239.65          33"
      ]
     },
     "execution_count": 2,
     "metadata": {},
     "output_type": "execute_result"
    }
   ],
   "source": [
    "data_raw.head()"
   ]
  },
  {
   "cell_type": "markdown",
   "id": "d72bdffb",
   "metadata": {},
   "source": [
    "Die erste Spalte enthält den Vereinsnamen, die zweite Spalte listet die\n",
    "Ligazugehörigkeit (Bundesliga, 2. Bundesliga oder 3. Liga), die dritte Spalte\n",
    "beinhaltet den Marktwert des Vereins in Mio. Euro und die vierte Spalte listet\n",
    "die Anzahl der Spieler.\n",
    "\n",
    "Zuerst erkunden wie die Daten und lassen uns die Ligazugehörigkeit abhängig vom\n",
    "Marktwert visualisieren."
   ]
  },
  {
   "cell_type": "code",
   "execution_count": 2,
   "id": "959662c0",
   "metadata": {},
   "outputs": [
    {
     "data": {
      "image/png": "[encoded data removed]",
      "text/plain": [
       "<Figure size 432x288 with 1 Axes>"
      ]
     },
     "metadata": {
      "needs_background": "light"
     },
     "output_type": "display_data"
    }
   ],
   "source": [
    "# teile die Datensätze nach Ligazugehörigkeit auf\n",
    "data_liga1 = data_raw[data_raw['Ligazugehörigkeit'] == 'Bundesliga']\n",
    "data_liga2 = data_raw[data_raw['Ligazugehörigkeit'] == '2. Bundesliga']\n",
    "data_liga3 = data_raw[data_raw['Ligazugehörigkeit'] == '3. Liga']\n",
    "\n",
    "# visualisiere Marktwert --> Ligazugehörigkeit \n",
    "import matplotlib.pylab as plt; plt.style.use('bmh')\n",
    "plt.rcParams['font.family'] = ['TeX Gyre Heros', 'sans-serif']\n",
    "\n",
    "fig, ax = plt.subplots()\n",
    "ax.scatter(data_liga3['Wert'], data_liga3['Ligazugehörigkeit'])\n",
    "ax.scatter(data_liga2['Wert'], data_liga2['Ligazugehörigkeit'])\n",
    "ax.scatter(data_liga1['Wert'], data_liga1['Ligazugehörigkeit'])\n",
    "ax.set_xlabel('Marktwert in Mio. Euro')\n",
    "ax.set_title('Marktwerte deutscher Männerfußball am 01.08.2022');\n"
   ]
  },
  {
   "cell_type": "markdown",
   "id": "73dba496",
   "metadata": {},
   "source": [
    "Die Marktwerte der Bundesliga-Vereine sind vereinzelt so hoch, dass die\n",
    "einzelnen Vereine der 3. Liga als solche kaum erkennbar sind. Wir begrenzen\n",
    "daher den Marktwert auf 100 Mio. Euro. "
   ]
  },
  {
   "cell_type": "code",
   "execution_count": 4,
   "id": "ac7a4bd0",
   "metadata": {},
   "outputs": [
    {
     "data": {
      "image/png": "[encoded data removed]",
      "text/plain": [
       "<Figure size 432x288 with 1 Axes>"
      ]
     },
     "metadata": {
      "needs_background": "light"
     },
     "output_type": "display_data"
    }
   ],
   "source": [
    "fig, ax = plt.subplots()\n",
    "ax.scatter(data_liga3['Wert'], data_liga3['Ligazugehörigkeit'])\n",
    "ax.scatter(data_liga2['Wert'], data_liga2['Ligazugehörigkeit'])\n",
    "ax.scatter(data_liga1['Wert'], data_liga1['Ligazugehörigkeit'])\n",
    "ax.set_xlabel('Marktwert in Mio. Euro')\n",
    "ax.set_title('Marktwerte deutscher Männerfußball am 01.08.2022')\n",
    "ax.set_xlim([0, 100]);"
   ]
  },
  {
   "cell_type": "markdown",
   "id": "3408da99",
   "metadata": {},
   "source": [
    "Wie erkennen, dass ein Marktwert von 36 Mio. Euro die Erstligisten von den\n",
    "Zweitligisten trennt. Daher wäre auch ein Perzeptron trainierbar. Eine solche\n",
    "Trennung funktioniert bei den Vereinen der 2. Bundesliga und der 3. Liga nicht.\n",
    "Wir betrachten nun nur noch 2. und 3. Liga."
   ]
  },
  {
   "cell_type": "code",
   "execution_count": 5,
   "id": "5b579a9d",
   "metadata": {},
   "outputs": [
    {
     "data": {
      "image/png": "[encoded data removed]",
      "text/plain": [
       "<Figure size 432x288 with 1 Axes>"
      ]
     },
     "metadata": {
      "needs_background": "light"
     },
     "output_type": "display_data"
    }
   ],
   "source": [
    "fig, ax = plt.subplots()\n",
    "ax.scatter(data_liga3['Wert'], data_liga3['Ligazugehörigkeit'])\n",
    "ax.scatter(data_liga2['Wert'], data_liga2['Ligazugehörigkeit'])\n",
    "ax.set_xlabel('Marktwert in Mio. Euro')\n",
    "ax.set_title('Marktwerte deutscher Männerfußball am 01.08.2022');"
   ]
  },
  {
   "cell_type": "markdown",
   "id": "bb38ee51",
   "metadata": {},
   "source": [
    "Als erstes ersetzen wir die Klassenbezeichnungen durch numerische Werte. Mit\n",
    "Bezeichnungen wie \"3. Liga\" und \"2. Bundesliga\" kann Python nämlich nicht\n",
    "rechnen. Bei einem binären Klassifikationsverfahren wie hier werden hierfür\n",
    "üblicherweise die Zahlen 0 und 1 verwendet, also\n",
    "<ul>\n",
    "    <li>3. Liga --> 0</li>\n",
    "    <li>2. Bundesliga --> 1</li>\n",
    "</ul>\n",
    "\n",
    "Das Klassifikationsproblem lautet also: angenommen, ein\n",
    "Verein hat den Marktwert x. Gehört der Verein dann zur Klasse 1 (= 2.\n",
    "Bundesliga)?\n",
    "\n",
    "Als zweites verabschieden wir uns von dem Perzeptron. Anstatt eine Gerade zur\n",
    "Trennung einzuziehen, nehmen wir eine S-förmige Funktion. Diese S-förmige\n",
    "Funktion interpretieren wir als **Wahrscheinlichkeit** der Ligazugehörigkeit.\n",
    "Die Werte liegen dabei zwischen 0 und 1. Bei einer Wahrscheinlichkeit von 1 sind\n",
    "wir also 100 % sicher, dass der Verein zur Klasse 1 (= 2. Bundesliga) gehört.\n",
    "Bei einem Wert von 0.7 gehen wir mit 70 % Wahrscheinlichkeit davon aus, dass der\n",
    "Verein zur Klasse 1 (= 2. Bundesliga) gehört.\n",
    "\n",
    "Als drittes verwandeln wir die Wahrscheinlichkeit mit Werten *zwischen* 0 und 1\n",
    "in die Klassen 0 oder 1. Dazu nutzen wir die Heaviside-Funktion. Die komplette\n",
    "Vorgehensweise ist in der folgenden Grafik dargestellt.\n",
    "\n",
    "```{figure} pics/bundesliga_decision_function_annotated.pdf\n",
    "---\n",
    "width: 600px\n",
    "name: bundesliga_decision_function_annotated\n",
    "---\n",
    "Die S-förmige schwarz gestrichelte Kurve gibt die Wahrscheinlichkeit an, dass ein Verein zur 2. Bundesliga gehört. Da nicht nach einer Wahrscheinlichkeit gefragt ist, sondern nur nach 2. Bundesliga -- ja oder nein -- werden alle Vereine mit einer Wahrscheinlichkeitgrößer 50 % (also $\\geq 0.5$) als Zweitligisten klassifiziert.\n",
    "```\n",
    "\n",
    "Jetzt brauchen wir eine Funktion für die S-förmige Kurve, das wir dann mittels\n",
    "eines ML-Verfahrens an unsere Trainingsdaten anpassen können.\n"
   ]
  },
  {
   "cell_type": "markdown",
   "id": "648e5f4b",
   "metadata": {},
   "source": [
    "## Logistische Funktion ersetzt Heaviside-Funktion\n",
    "\n",
    "Beim Perzeptron wird auf die gewichtete Summe von Inputs die Heaviside-Funktion\n",
    "angewandt. So simpel die Heaviside-Funktion $\\phi$ auch ist, sie hat einen\n",
    "entscheidenen Nachteil. Die Heaviside-Funktion ist unstetig, sie springt von\n",
    "Null auf Eins. Diese Sprungstelle hat die **logistische Funktion** nicht. \n",
    "\n",
    "Die logistische Funktion ist defininiert als\n",
    "\n",
    "$$\\sigma(z) = \\frac{1}{1+e^{-z}}.$$\n",
    "\n",
    "Wir verwenden dabei den griechischen Buchstaben Sigma $\\sigma$, weil die\n",
    "logistische Funktion auch **Sigmoid-Funktion** genannt wird. In der folgenden\n",
    "Abbildung sehen Sie den Funktionsgraphen der logistischen Funktion.\n",
    "\n",
    "```{figure} pics/plot_logit_function.pdf\n",
    "---\n",
    "width: 600px\n",
    "name: plot_logit_function\n",
    "---\n",
    "Funktionsgraph der logistischen Funktion, auch Sigmoid-Funktion genannt\n",
    "```\n",
    "\n",
    "Damit haben wir die Bausteine des logistischen Regressionmodells komplettiert.\n",
    "Genau wie bei der linearen Regression oder beim Perzeptron werden zuerst die\n",
    "einzelnen Inputs gewichtet und aufsummiert. Auf die gewichtete Summe wird dann\n",
    "die logistische Funktion als Aktivierungsfunktione angewendet. Das Ergebnis ist\n",
    "die Wahrscheinlichkeit für die Klasse mit der Bezeichnung 1 (in unserem Beispiel\n",
    "die Zugehörigkeit zur 2. Bundesliga). Zuletzt wird noch die Heaviside-Funktion\n",
    "als Schwellenwertfunktion angewendet, um aus der Wahrscheinlichkeit eine Klasse\n",
    "zu machen.\n",
    "\n",
    "Visualisiert sieht die logistische Regression also folgendermaßen aus:\n",
    "\n",
    "\n",
    "```{figure} pics/topology_logistic_regression.svg\n",
    "---\n",
    "width: 600px\n",
    "name: topology_logistic_regression\n",
    "---\n",
    "Das logistische Regressionsmodell als neuronales Netz formuliert.\n",
    "```\n",
    "\n",
    "Mathematisch formuliert lautet das logistische Regressionsmodell folgendermaßen:\n",
    "\n",
    "$$\\hat{P} = \\sigma\\left(\\sum_{i=0}^{N} x_i \\omega_i\\right) = \\frac{1}{1+e^{-\\sum x_i \\omega_i}} \n",
    "\\rightsquigarrow \\hat{y} = \\begin{cases} 0: & \\hat{P} < 0.5 \\\\ 1: & \\hat{P} \\geq 0.5 \\end{cases} $$"
   ]
  },
  {
   "cell_type": "markdown",
   "id": "92c64ee9",
   "metadata": {},
   "source": [
    "## Zusammenfassung und Ausblick\n",
    "\n",
    "In diesem Abschnitt haben wir das logistische Regressionsmodell formuliert. Als\n",
    "nächstes betrachten wir ein Lernverfahren, um die Gewichte des logistischen\n",
    "Regressionsmodells zu erlernen."
   ]
  }
 ],
 "metadata": {
  "jupytext": {
   "formats": "ipynb,md:myst"
  },
  "kernelspec": {
   "display_name": "Python 3.9.13 ('python39')",
   "language": "python",
   "name": "python3"
  },
  "language_info": {
   "codemirror_mode": {
    "name": "ipython",
    "version": 3
   },
   "file_extension": ".py",
   "mimetype": "text/x-python",
   "name": "python",
   "nbconvert_exporter": "python",
   "pygments_lexer": "ipython3",
   "version": "3.9.13"
  },
  "vscode": {
   "interpreter": {
    "hash": "1863971d65633e53ca5b74972b86a14fab6d597ce2ac84dc984546545d2d3a9b"
   }
  }
 },
 "nbformat": 4,
 "nbformat_minor": 5
}
