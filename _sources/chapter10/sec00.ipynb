{
 "cells": [
  {
   "cell_type": "markdown",
   "id": "831d897b",
   "metadata": {},
   "source": [
    "# 10. Support Vector Machines\n",
    "\n",
    "Das maschinelle Lernverfahren Support Vector Machines gehört zu den überwachten\n",
    "Lernverfahren. Prinzipiell könnten wir den Namen ins Deutsche übersetzen, also\n",
    "das Verfahren als Stützvektor-Maschine bezeichnen. Jedoch ist der deutsche\n",
    "Begriff so unüblich, dass wir beim englischsprachigen Begriff bleiben oder\n",
    "einfach die Abkürzung SVM verwenden.\n",
    "\n",
    "SVMs gehören zum überwachten maschinellem Lernen (Supervised Learning). Sie\n",
    "können sowohl für Klassifikations- also auch Regressionsprobleme eingesetzt\n",
    "werden. Zur Einführung der SVMs betrachten wir binäre Klassifikationsprobleme.\n",
    "\n",
    "\n",
    "Kapitelübersicht:\n",
    "\n",
    "```{tableofcontents}\n",
    "```"
   ]
  }
 ],
 "metadata": {
  "jupytext": {
   "formats": "ipynb,md:myst",
   "text_representation": {
    "extension": ".md",
    "format_name": "myst",
    "format_version": 0.13,
    "jupytext_version": "1.15.2"
   }
  },
  "kernelspec": {
   "display_name": "Python 3",
   "language": "python",
   "name": "python3"
  },
  "language_info": {
   "codemirror_mode": {
    "name": "ipython",
    "version": 3
   },
   "file_extension": ".py",
   "mimetype": "text/x-python",
   "name": "python",
   "nbconvert_exporter": "python",
   "pygments_lexer": "ipython3",
   "version": "3.12.2"
  },
  "source_map": [
   13
  ]
 },
 "nbformat": 4,
 "nbformat_minor": 5
}