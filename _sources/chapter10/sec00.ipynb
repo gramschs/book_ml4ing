{
 "cells": [
  {
   "cell_type": "markdown",
   "id": "89809e0a",
   "metadata": {},
   "source": [
    "# 10. Support Vector Machines\n",
    "\n",
    "Das maschinelle Lernverfahren Support Vector Machines gehört zu den überwachten\n",
    "Lernverfahren. Sie können sowohl für Klassifikations- also auch\n",
    "Regressionsprobleme eingesetzt werden. Prinzipiell könnten wir den Namen Support\n",
    "Vector Machines ins Deutsche übersetzen, also das Verfahren als\n",
    "Stützvektor-Maschine bezeichnen. Jedoch ist der deutsche Begriff so unüblich,\n",
    "dass wir beim englischsprachigen Begriff bleiben oder einfach die Abkürzung SVM\n",
    "verwenden. Zur Einführung der SVMs betrachten wir ein binäres\n",
    "Klassifikationsproblem.\n",
    "\n",
    "Kapitelübersicht:\n",
    "\n",
    "```{tableofcontents}\n",
    "```"
   ]
  }
 ],
 "metadata": {
  "jupytext": {
   "formats": "ipynb,md:myst",
   "text_representation": {
    "extension": ".md",
    "format_name": "myst",
    "format_version": 0.13,
    "jupytext_version": "1.15.2"
   }
  },
  "kernelspec": {
   "display_name": "Python 3",
   "language": "python",
   "name": "python3"
  },
  "language_info": {
   "codemirror_mode": {
    "name": "ipython",
    "version": 3
   },
   "file_extension": ".py",
   "mimetype": "text/x-python",
   "name": "python",
   "nbconvert_exporter": "python",
   "pygments_lexer": "ipython3",
   "version": "3.12.2"
  },
  "source_map": [
   13
  ]
 },
 "nbformat": 4,
 "nbformat_minor": 5
}