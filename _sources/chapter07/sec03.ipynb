{
 "cells": [
  {
   "cell_type": "markdown",
   "id": "996682f8",
   "metadata": {},
   "source": [
    "# 7.3 Polynomiale Regression\n",
    "\n",
    "```{admonition} Warnung\n",
    ":class: warning\n",
    "Dieser Abschnitt wird gerade überarbeitet und steht derzeit nicht zur Verfügung.\n",
    "```"
   ]
  }
 ],
 "metadata": {
  "jupytext": {
   "formats": "ipynb,md:myst",
   "text_representation": {
    "extension": ".md",
    "format_name": "myst",
    "format_version": 0.13,
    "jupytext_version": "1.15.2"
   }
  },
  "kernelspec": {
   "display_name": "Python 3",
   "language": "python",
   "name": "python3"
  },
  "language_info": {
   "codemirror_mode": {
    "name": "ipython",
    "version": 3
   },
   "file_extension": ".py",
   "mimetype": "text/x-python",
   "name": "python",
   "nbconvert_exporter": "python",
   "pygments_lexer": "ipython3",
   "version": "3.12.2"
  },
  "source_map": [
   13
  ]
 },
 "nbformat": 4,
 "nbformat_minor": 5
}