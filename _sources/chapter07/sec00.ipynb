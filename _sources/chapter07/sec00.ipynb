{
 "cells": [
  {
   "cell_type": "markdown",
   "id": "aacdd1bf",
   "metadata": {},
   "source": [
    "# 7. Lineare Regression\n",
    "\n",
    "In diesem Kapitel beschäftigen wir uns mit der linearen Regression. Wie lernen,\n",
    "wie mit Scikit-Learn ein Regressionsmodell trainiert wird und betrachten auch\n",
    "die multiple Regression.\n",
    "\n",
    "Kapitelübersicht:\n",
    "\n",
    "```{tableofcontents}\n",
    "```"
   ]
  }
 ],
 "metadata": {
  "jupytext": {
   "formats": "ipynb,md:myst",
   "text_representation": {
    "extension": ".md",
    "format_name": "myst",
    "format_version": 0.13,
    "jupytext_version": "1.15.2"
   }
  },
  "kernelspec": {
   "display_name": "Python 3",
   "language": "python",
   "name": "python3"
  },
  "language_info": {
   "codemirror_mode": {
    "name": "ipython",
    "version": 3
   },
   "file_extension": ".py",
   "mimetype": "text/x-python",
   "name": "python",
   "nbconvert_exporter": "python",
   "pygments_lexer": "ipython3",
   "version": "3.12.2"
  },
  "source_map": [
   13
  ]
 },
 "nbformat": 4,
 "nbformat_minor": 5
}