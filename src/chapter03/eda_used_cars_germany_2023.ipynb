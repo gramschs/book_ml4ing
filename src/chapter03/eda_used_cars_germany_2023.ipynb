{
 "cells": [
  {
   "cell_type": "code",
   "execution_count": 1,
   "metadata": {},
   "outputs": [],
   "source": [
    "import pandas as pd"
   ]
  },
  {
   "cell_type": "code",
   "execution_count": 2,
   "metadata": {},
   "outputs": [],
   "source": [
    "data_raw = pd.read_csv('used_cars_germany_2023_original.csv', index_col=0)"
   ]
  },
  {
   "cell_type": "code",
   "execution_count": 3,
   "metadata": {},
   "outputs": [
    {
     "name": "stdout",
     "output_type": "stream",
     "text": [
      "<class 'pandas.core.frame.DataFrame'>\n",
      "Int64Index: 251079 entries, 0 to 251078\n",
      "Data columns (total 14 columns):\n",
      " #   Column                    Non-Null Count   Dtype  \n",
      "---  ------                    --------------   -----  \n",
      " 0   brand                     251079 non-null  object \n",
      " 1   model                     251079 non-null  object \n",
      " 2   color                     250913 non-null  object \n",
      " 3   registration_date         251075 non-null  object \n",
      " 4   year                      251079 non-null  object \n",
      " 5   price_in_euro             251079 non-null  object \n",
      " 6   power_kw                  250945 non-null  object \n",
      " 7   power_ps                  250950 non-null  object \n",
      " 8   transmission_type         251079 non-null  object \n",
      " 9   fuel_type                 251079 non-null  object \n",
      " 10  fuel_consumption_l_100km  224206 non-null  object \n",
      " 11  fuel_consumption_g_km     251079 non-null  object \n",
      " 12  mileage_in_km             250927 non-null  float64\n",
      " 13  offer_description         251078 non-null  object \n",
      "dtypes: float64(1), object(13)\n",
      "memory usage: 28.7+ MB\n"
     ]
    }
   ],
   "source": [
    "data_raw.info()"
   ]
  },
  {
   "cell_type": "code",
   "execution_count": 4,
   "metadata": {},
   "outputs": [
    {
     "data": {
      "text/plain": [
       "volkswagen       33281\n",
       "mercedes-benz    27226\n",
       "audi             21161\n",
       "opel             20388\n",
       "bmw              19810\n",
       "ford             18790\n",
       "skoda            14039\n",
       "seat             11949\n",
       "renault           8694\n",
       "toyota            8228\n",
       "hyundai           6989\n",
       "peugeot           5848\n",
       "kia               5734\n",
       "fiat              5039\n",
       "mini              4295\n",
       "mazda             4211\n",
       "volvo             4164\n",
       "citroen           4083\n",
       "porsche           3958\n",
       "nissan            3784\n",
       "dacia             3367\n",
       "land-rover        3073\n",
       "jeep              1749\n",
       "smart             1643\n",
       "alfa-romeo        1437\n",
       "jaguar            1398\n",
       "mitsubishi         934\n",
       "honda              785\n",
       "maserati           698\n",
       "dodge              669\n",
       "ferrari            590\n",
       "bentley            541\n",
       "lamborghini        361\n",
       "ssangyong          342\n",
       "aston-martin       277\n",
       "saab               233\n",
       "isuzu              206\n",
       "daihatsu           204\n",
       "chevrolet          191\n",
       "lada               191\n",
       "cadillac           157\n",
       "infiniti           112\n",
       "lancia             105\n",
       "daewoo              61\n",
       "rover               51\n",
       "chrysler            32\n",
       "proton               1\n",
       "Name: brand, dtype: int64"
      ]
     },
     "execution_count": 4,
     "metadata": {},
     "output_type": "execute_result"
    }
   ],
   "source": [
    "data_raw['brand'].value_counts()"
   ]
  },
  {
   "cell_type": "code",
   "execution_count": 5,
   "metadata": {},
   "outputs": [
    {
     "data": {
      "text/plain": [
       "brand                                          dacia\n",
       "model                                   Dacia Duster\n",
       "color                                         orange\n",
       "registration_date                            03/2023\n",
       "year                                            2023\n",
       "price_in_euro                                  25749\n",
       "power_kw                                          84\n",
       "power_ps                                         114\n",
       "transmission_type                             Manual\n",
       "fuel_type                                     Diesel\n",
       "fuel_consumption_l_100km                5,3 l/100 km\n",
       "fuel_consumption_g_km                       140 g/km\n",
       "mileage_in_km                                    5.0\n",
       "offer_description           Journey Blue dCi 115 4x4\n",
       "Name: 51055, dtype: object"
      ]
     },
     "execution_count": 5,
     "metadata": {},
     "output_type": "execute_result"
    }
   ],
   "source": [
    "dacia = data_raw[ data_raw['brand'] == 'dacia']\n",
    "dacia.iloc[-1]"
   ]
  },
  {
   "cell_type": "code",
   "execution_count": 6,
   "metadata": {},
   "outputs": [
    {
     "data": {
      "text/html": [
       "<div>\n",
       "<style scoped>\n",
       "    .dataframe tbody tr th:only-of-type {\n",
       "        vertical-align: middle;\n",
       "    }\n",
       "\n",
       "    .dataframe tbody tr th {\n",
       "        vertical-align: top;\n",
       "    }\n",
       "\n",
       "    .dataframe thead th {\n",
       "        text-align: right;\n",
       "    }\n",
       "</style>\n",
       "<table border=\"1\" class=\"dataframe\">\n",
       "  <thead>\n",
       "    <tr style=\"text-align: right;\">\n",
       "      <th></th>\n",
       "      <th>brand</th>\n",
       "      <th>model</th>\n",
       "      <th>color</th>\n",
       "      <th>registration_date</th>\n",
       "      <th>year</th>\n",
       "      <th>price_in_euro</th>\n",
       "      <th>power_kw</th>\n",
       "      <th>power_ps</th>\n",
       "      <th>transmission_type</th>\n",
       "      <th>fuel_type</th>\n",
       "      <th>fuel_consumption_l_100km</th>\n",
       "      <th>fuel_consumption_g_km</th>\n",
       "      <th>mileage_in_km</th>\n",
       "      <th>offer_description</th>\n",
       "    </tr>\n",
       "  </thead>\n",
       "  <tbody>\n",
       "    <tr>\n",
       "      <th>46671</th>\n",
       "      <td>citroen</td>\n",
       "      <td>Citroen C1</td>\n",
       "      <td>silver</td>\n",
       "      <td>03/2021</td>\n",
       "      <td>2021</td>\n",
       "      <td>12650</td>\n",
       "      <td>53</td>\n",
       "      <td>72</td>\n",
       "      <td>Manual</td>\n",
       "      <td>Petrol</td>\n",
       "      <td>3,7 l/100 km</td>\n",
       "      <td>85 g/km</td>\n",
       "      <td>15200.0</td>\n",
       "      <td>VTi 72 Shine+KAMERA+SHZ+APP+DAB+KLIMA+BT</td>\n",
       "    </tr>\n",
       "    <tr>\n",
       "      <th>46672</th>\n",
       "      <td>citroen</td>\n",
       "      <td>Citroen C1</td>\n",
       "      <td>silver</td>\n",
       "      <td>03/2021</td>\n",
       "      <td>2021</td>\n",
       "      <td>12450</td>\n",
       "      <td>53</td>\n",
       "      <td>72</td>\n",
       "      <td>Manual</td>\n",
       "      <td>Petrol</td>\n",
       "      <td>3,7 l/100 km</td>\n",
       "      <td>85 g/km</td>\n",
       "      <td>15200.0</td>\n",
       "      <td>VTi 72 Shine+KAMERA+SHZ+APP+DAB+KLIMA+BT</td>\n",
       "    </tr>\n",
       "    <tr>\n",
       "      <th>46673</th>\n",
       "      <td>citroen</td>\n",
       "      <td>Citroen C4</td>\n",
       "      <td>silver</td>\n",
       "      <td>10/2021</td>\n",
       "      <td>2021</td>\n",
       "      <td>27990</td>\n",
       "      <td>100</td>\n",
       "      <td>136</td>\n",
       "      <td>Automatic</td>\n",
       "      <td>Electric</td>\n",
       "      <td>354 km (Ort)</td>\n",
       "      <td>348 km Reichweite</td>\n",
       "      <td>14500.0</td>\n",
       "      <td>e-C4 136 SHINE</td>\n",
       "    </tr>\n",
       "  </tbody>\n",
       "</table>\n",
       "</div>"
      ],
      "text/plain": [
       "         brand       model   color registration_date  year price_in_euro  \\\n",
       "46671  citroen  Citroen C1  silver           03/2021  2021         12650   \n",
       "46672  citroen  Citroen C1  silver           03/2021  2021         12450   \n",
       "46673  citroen  Citroen C4  silver           10/2021  2021         27990   \n",
       "\n",
       "      power_kw power_ps transmission_type fuel_type fuel_consumption_l_100km  \\\n",
       "46671       53       72            Manual    Petrol             3,7 l/100 km   \n",
       "46672       53       72            Manual    Petrol             3,7 l/100 km   \n",
       "46673      100      136         Automatic  Electric             354 km (Ort)   \n",
       "\n",
       "      fuel_consumption_g_km  mileage_in_km  \\\n",
       "46671               85 g/km        15200.0   \n",
       "46672               85 g/km        15200.0   \n",
       "46673     348 km Reichweite        14500.0   \n",
       "\n",
       "                              offer_description  \n",
       "46671  VTi 72 Shine+KAMERA+SHZ+APP+DAB+KLIMA+BT  \n",
       "46672  VTi 72 Shine+KAMERA+SHZ+APP+DAB+KLIMA+BT  \n",
       "46673                            e-C4 136 SHINE  "
      ]
     },
     "execution_count": 6,
     "metadata": {},
     "output_type": "execute_result"
    }
   ],
   "source": [
    "citroen = data_raw[ data_raw['brand'] == 'citroen' ]\n",
    "citroen_2021 = citroen[citroen['year'] == '2021']\n",
    "citroen_2021[ citroen_2021['color'] == 'silver']"
   ]
  },
  {
   "cell_type": "code",
   "execution_count": null,
   "metadata": {},
   "outputs": [],
   "source": []
  },
  {
   "cell_type": "code",
   "execution_count": 7,
   "metadata": {},
   "outputs": [
    {
     "data": {
      "text/html": [
       "<div>\n",
       "<style scoped>\n",
       "    .dataframe tbody tr th:only-of-type {\n",
       "        vertical-align: middle;\n",
       "    }\n",
       "\n",
       "    .dataframe tbody tr th {\n",
       "        vertical-align: top;\n",
       "    }\n",
       "\n",
       "    .dataframe thead th {\n",
       "        text-align: right;\n",
       "    }\n",
       "</style>\n",
       "<table border=\"1\" class=\"dataframe\">\n",
       "  <thead>\n",
       "    <tr style=\"text-align: right;\">\n",
       "      <th></th>\n",
       "      <th>brand</th>\n",
       "      <th>model</th>\n",
       "      <th>color</th>\n",
       "      <th>registration_date</th>\n",
       "      <th>year</th>\n",
       "      <th>price_in_euro</th>\n",
       "      <th>power_kw</th>\n",
       "      <th>power_ps</th>\n",
       "      <th>transmission_type</th>\n",
       "      <th>fuel_type</th>\n",
       "      <th>fuel_consumption_l_100km</th>\n",
       "      <th>fuel_consumption_g_km</th>\n",
       "      <th>mileage_in_km</th>\n",
       "      <th>offer_description</th>\n",
       "    </tr>\n",
       "  </thead>\n",
       "  <tbody>\n",
       "    <tr>\n",
       "      <th>16552</th>\n",
       "      <td>audi</td>\n",
       "      <td>Audi e-tron</td>\n",
       "      <td>beige</td>\n",
       "      <td>09/2019</td>\n",
       "      <td>2019</td>\n",
       "      <td>51888</td>\n",
       "      <td>300</td>\n",
       "      <td>408</td>\n",
       "      <td>Automatic</td>\n",
       "      <td>Electric</td>\n",
       "      <td>NaN</td>\n",
       "      <td>359 km Reichweite</td>\n",
       "      <td>84800.0</td>\n",
       "      <td>55 Advanced Quattro S-Line Interieur</td>\n",
       "    </tr>\n",
       "    <tr>\n",
       "      <th>16559</th>\n",
       "      <td>audi</td>\n",
       "      <td>Audi e-tron</td>\n",
       "      <td>beige</td>\n",
       "      <td>07/2019</td>\n",
       "      <td>2019</td>\n",
       "      <td>53990</td>\n",
       "      <td>300</td>\n",
       "      <td>408</td>\n",
       "      <td>Automatic</td>\n",
       "      <td>Electric</td>\n",
       "      <td>NaN</td>\n",
       "      <td>359 km Reichweite</td>\n",
       "      <td>51000.0</td>\n",
       "      <td>55 quattro advanced Pano B&amp;O AHK Matrix</td>\n",
       "    </tr>\n",
       "    <tr>\n",
       "      <th>16561</th>\n",
       "      <td>audi</td>\n",
       "      <td>Audi e-tron</td>\n",
       "      <td>beige</td>\n",
       "      <td>11/2019</td>\n",
       "      <td>2019</td>\n",
       "      <td>54870</td>\n",
       "      <td>300</td>\n",
       "      <td>408</td>\n",
       "      <td>Automatic</td>\n",
       "      <td>Electric</td>\n",
       "      <td>NaN</td>\n",
       "      <td>0 g/km</td>\n",
       "      <td>82814.0</td>\n",
       "      <td>+ADVANCED+55+PANO+LUFT+HU+MATRIX+</td>\n",
       "    </tr>\n",
       "    <tr>\n",
       "      <th>16571</th>\n",
       "      <td>audi</td>\n",
       "      <td>Audi e-tron</td>\n",
       "      <td>beige</td>\n",
       "      <td>12/2019</td>\n",
       "      <td>2019</td>\n",
       "      <td>61989</td>\n",
       "      <td>300</td>\n",
       "      <td>408</td>\n",
       "      <td>Automatic</td>\n",
       "      <td>Electric</td>\n",
       "      <td>NaN</td>\n",
       "      <td>0 g/km</td>\n",
       "      <td>55990.0</td>\n",
       "      <td>advanced 55 QU*B&amp;O*MATRIX*PANO*LED*NAV</td>\n",
       "    </tr>\n",
       "    <tr>\n",
       "      <th>16579</th>\n",
       "      <td>audi</td>\n",
       "      <td>Audi e-tron</td>\n",
       "      <td>blue</td>\n",
       "      <td>02/2019</td>\n",
       "      <td>2019</td>\n",
       "      <td>32930</td>\n",
       "      <td>300</td>\n",
       "      <td>408</td>\n",
       "      <td>Automatic</td>\n",
       "      <td>Electric</td>\n",
       "      <td>NaN</td>\n",
       "      <td>359 km Reichweite</td>\n",
       "      <td>84300.0</td>\n",
       "      <td>55 qu. S line AHK LED V-Cockp. RüKa Pano</td>\n",
       "    </tr>\n",
       "    <tr>\n",
       "      <th>16589</th>\n",
       "      <td>audi</td>\n",
       "      <td>Audi e-tron</td>\n",
       "      <td>blue</td>\n",
       "      <td>09/2019</td>\n",
       "      <td>2019</td>\n",
       "      <td>44940</td>\n",
       "      <td>300</td>\n",
       "      <td>408</td>\n",
       "      <td>Automatic</td>\n",
       "      <td>Electric</td>\n",
       "      <td>NaN</td>\n",
       "      <td>359 km Reichweite</td>\n",
       "      <td>55900.0</td>\n",
       "      <td>55 advanced S line Matrix HuD Pano B&amp;O 360° Lu...</td>\n",
       "    </tr>\n",
       "    <tr>\n",
       "      <th>16591</th>\n",
       "      <td>audi</td>\n",
       "      <td>Audi e-tron</td>\n",
       "      <td>blue</td>\n",
       "      <td>10/2019</td>\n",
       "      <td>2019</td>\n",
       "      <td>52446</td>\n",
       "      <td>300</td>\n",
       "      <td>408</td>\n",
       "      <td>Automatic</td>\n",
       "      <td>Electric</td>\n",
       "      <td>NaN</td>\n",
       "      <td>359 km Reichweite</td>\n",
       "      <td>17950.0</td>\n",
       "      <td>advanced 55 Navi,LED,B&amp;O,Leder,Kamera</td>\n",
       "    </tr>\n",
       "    <tr>\n",
       "      <th>16616</th>\n",
       "      <td>audi</td>\n",
       "      <td>Audi e-tron</td>\n",
       "      <td>blue</td>\n",
       "      <td>09/2019</td>\n",
       "      <td>2019</td>\n",
       "      <td>41980</td>\n",
       "      <td>300</td>\n",
       "      <td>408</td>\n",
       "      <td>Automatic</td>\n",
       "      <td>Electric</td>\n",
       "      <td>NaN</td>\n",
       "      <td>422 km Reichweite</td>\n",
       "      <td>67541.0</td>\n",
       "      <td>55 qu S line 20\" NAVI LED Advanced</td>\n",
       "    </tr>\n",
       "    <tr>\n",
       "      <th>16630</th>\n",
       "      <td>audi</td>\n",
       "      <td>Audi e-tron</td>\n",
       "      <td>blue</td>\n",
       "      <td>11/2019</td>\n",
       "      <td>2019</td>\n",
       "      <td>51990</td>\n",
       "      <td>265</td>\n",
       "      <td>360</td>\n",
       "      <td>Automatic</td>\n",
       "      <td>Electric</td>\n",
       "      <td>NaN</td>\n",
       "      <td>0 g/km</td>\n",
       "      <td>45400.0</td>\n",
       "      <td>55 quattro advanced +Luft +AHK +Panorama</td>\n",
       "    </tr>\n",
       "    <tr>\n",
       "      <th>16642</th>\n",
       "      <td>audi</td>\n",
       "      <td>Audi e-tron</td>\n",
       "      <td>blue</td>\n",
       "      <td>09/2019</td>\n",
       "      <td>2019</td>\n",
       "      <td>40990</td>\n",
       "      <td>265</td>\n",
       "      <td>360</td>\n",
       "      <td>Automatic</td>\n",
       "      <td>Electric</td>\n",
       "      <td>NaN</td>\n",
       "      <td>359 km Reichweite</td>\n",
       "      <td>25639.0</td>\n",
       "      <td>advanced 55 quattro Klimaaut Navi Shz LED</td>\n",
       "    </tr>\n",
       "    <tr>\n",
       "      <th>16649</th>\n",
       "      <td>audi</td>\n",
       "      <td>Audi e-tron</td>\n",
       "      <td>blue</td>\n",
       "      <td>07/2019</td>\n",
       "      <td>2019</td>\n",
       "      <td>39890</td>\n",
       "      <td>300</td>\n",
       "      <td>408</td>\n",
       "      <td>Automatic</td>\n",
       "      <td>Electric</td>\n",
       "      <td>NaN</td>\n",
       "      <td>359 km Reichweite</td>\n",
       "      <td>54000.0</td>\n",
       "      <td>55quat.,14MGarantie,TV,B&amp;O,Massage,virtSpiegel</td>\n",
       "    </tr>\n",
       "    <tr>\n",
       "      <th>16658</th>\n",
       "      <td>audi</td>\n",
       "      <td>Audi e-tron</td>\n",
       "      <td>blue</td>\n",
       "      <td>08/2019</td>\n",
       "      <td>2019</td>\n",
       "      <td>42880</td>\n",
       "      <td>300</td>\n",
       "      <td>408</td>\n",
       "      <td>Automatic</td>\n",
       "      <td>Electric</td>\n",
       "      <td>NaN</td>\n",
       "      <td>359 km Reichweite</td>\n",
       "      <td>80000.0</td>\n",
       "      <td>55 qu VIRTUELLE SPIEGEL,HUD,LUFT,KEYLESS</td>\n",
       "    </tr>\n",
       "    <tr>\n",
       "      <th>16668</th>\n",
       "      <td>audi</td>\n",
       "      <td>Audi e-tron</td>\n",
       "      <td>blue</td>\n",
       "      <td>09/2019</td>\n",
       "      <td>2019</td>\n",
       "      <td>49600</td>\n",
       "      <td>265</td>\n",
       "      <td>360</td>\n",
       "      <td>Automatic</td>\n",
       "      <td>Electric</td>\n",
       "      <td>NaN</td>\n",
       "      <td>359 km Reichweite</td>\n",
       "      <td>48400.0</td>\n",
       "      <td>55 quattro PANO/ACC/V-SPIEGEL/MATRIX/21\"/MEMORY</td>\n",
       "    </tr>\n",
       "    <tr>\n",
       "      <th>16709</th>\n",
       "      <td>audi</td>\n",
       "      <td>Audi e-tron</td>\n",
       "      <td>blue</td>\n",
       "      <td>06/2019</td>\n",
       "      <td>2019</td>\n",
       "      <td>49679</td>\n",
       "      <td>300</td>\n",
       "      <td>408</td>\n",
       "      <td>Automatic</td>\n",
       "      <td>Electric</td>\n",
       "      <td>NaN</td>\n",
       "      <td>359 km Reichweite</td>\n",
       "      <td>71253.0</td>\n",
       "      <td>E-tron 55 Quattro Advanced Allrad HUD AD AHK-a...</td>\n",
       "    </tr>\n",
       "    <tr>\n",
       "      <th>16724</th>\n",
       "      <td>audi</td>\n",
       "      <td>Audi e-tron</td>\n",
       "      <td>blue</td>\n",
       "      <td>10/2019</td>\n",
       "      <td>2019</td>\n",
       "      <td>57499</td>\n",
       "      <td>300</td>\n",
       "      <td>408</td>\n",
       "      <td>Automatic</td>\n",
       "      <td>Electric</td>\n",
       "      <td>NaN</td>\n",
       "      <td>359 km Reichweite</td>\n",
       "      <td>21960.0</td>\n",
       "      <td>55 quattro advanced S-line Matrix-LED AHK</td>\n",
       "    </tr>\n",
       "    <tr>\n",
       "      <th>16760</th>\n",
       "      <td>audi</td>\n",
       "      <td>Audi e-tron</td>\n",
       "      <td>blue</td>\n",
       "      <td>06/2019</td>\n",
       "      <td>2019</td>\n",
       "      <td>43850</td>\n",
       "      <td>300</td>\n",
       "      <td>408</td>\n",
       "      <td>Manual</td>\n",
       "      <td>Electric</td>\n",
       "      <td>NaN</td>\n",
       "      <td>359 km Reichweite</td>\n",
       "      <td>91015.0</td>\n",
       "      <td>Audi 55 quattro advanced*S-line*B+O*AHK*ACC</td>\n",
       "    </tr>\n",
       "    <tr>\n",
       "      <th>16806</th>\n",
       "      <td>audi</td>\n",
       "      <td>Audi e-tron</td>\n",
       "      <td>blue</td>\n",
       "      <td>09/2019</td>\n",
       "      <td>2019</td>\n",
       "      <td>52900</td>\n",
       "      <td>300</td>\n",
       "      <td>408</td>\n",
       "      <td>Automatic</td>\n",
       "      <td>Electric</td>\n",
       "      <td>NaN</td>\n",
       "      <td>359 km Reichweite</td>\n",
       "      <td>25000.0</td>\n",
       "      <td>55 quattro advanced edition one</td>\n",
       "    </tr>\n",
       "    <tr>\n",
       "      <th>16816</th>\n",
       "      <td>audi</td>\n",
       "      <td>Audi e-tron</td>\n",
       "      <td>blue</td>\n",
       "      <td>03/2019</td>\n",
       "      <td>2019</td>\n",
       "      <td>47900</td>\n",
       "      <td>265</td>\n",
       "      <td>360</td>\n",
       "      <td>Automatic</td>\n",
       "      <td>Electric</td>\n",
       "      <td>NaN</td>\n",
       "      <td>359 km Reichweite</td>\n",
       "      <td>40300.0</td>\n",
       "      <td>55 quattro (Virtuelle Außenspiegel,Pano-Dach)</td>\n",
       "    </tr>\n",
       "    <tr>\n",
       "      <th>16900</th>\n",
       "      <td>audi</td>\n",
       "      <td>Audi e-tron</td>\n",
       "      <td>grey</td>\n",
       "      <td>09/2019</td>\n",
       "      <td>2019</td>\n",
       "      <td>41990</td>\n",
       "      <td>300</td>\n",
       "      <td>408</td>\n",
       "      <td>Automatic</td>\n",
       "      <td>Electric</td>\n",
       "      <td>NaN</td>\n",
       "      <td>359 km Reichweite</td>\n",
       "      <td>48048.0</td>\n",
       "      <td>advanced 55 quattro NAVI RFK PANORAMADACH</td>\n",
       "    </tr>\n",
       "    <tr>\n",
       "      <th>16903</th>\n",
       "      <td>audi</td>\n",
       "      <td>Audi e-tron</td>\n",
       "      <td>grey</td>\n",
       "      <td>07/2019</td>\n",
       "      <td>2019</td>\n",
       "      <td>49920</td>\n",
       "      <td>300</td>\n",
       "      <td>408</td>\n",
       "      <td>Automatic</td>\n",
       "      <td>Electric</td>\n",
       "      <td>NaN</td>\n",
       "      <td>409 km Reichweite</td>\n",
       "      <td>47400.0</td>\n",
       "      <td>55 quattro S line Interieur PANORAMA LEDER AHK...</td>\n",
       "    </tr>\n",
       "  </tbody>\n",
       "</table>\n",
       "</div>"
      ],
      "text/plain": [
       "      brand        model  color registration_date  year price_in_euro  \\\n",
       "16552  audi  Audi e-tron  beige           09/2019  2019         51888   \n",
       "16559  audi  Audi e-tron  beige           07/2019  2019         53990   \n",
       "16561  audi  Audi e-tron  beige           11/2019  2019         54870   \n",
       "16571  audi  Audi e-tron  beige           12/2019  2019         61989   \n",
       "16579  audi  Audi e-tron   blue           02/2019  2019         32930   \n",
       "16589  audi  Audi e-tron   blue           09/2019  2019         44940   \n",
       "16591  audi  Audi e-tron   blue           10/2019  2019         52446   \n",
       "16616  audi  Audi e-tron   blue           09/2019  2019         41980   \n",
       "16630  audi  Audi e-tron   blue           11/2019  2019         51990   \n",
       "16642  audi  Audi e-tron   blue           09/2019  2019         40990   \n",
       "16649  audi  Audi e-tron   blue           07/2019  2019         39890   \n",
       "16658  audi  Audi e-tron   blue           08/2019  2019         42880   \n",
       "16668  audi  Audi e-tron   blue           09/2019  2019         49600   \n",
       "16709  audi  Audi e-tron   blue           06/2019  2019         49679   \n",
       "16724  audi  Audi e-tron   blue           10/2019  2019         57499   \n",
       "16760  audi  Audi e-tron   blue           06/2019  2019         43850   \n",
       "16806  audi  Audi e-tron   blue           09/2019  2019         52900   \n",
       "16816  audi  Audi e-tron   blue           03/2019  2019         47900   \n",
       "16900  audi  Audi e-tron   grey           09/2019  2019         41990   \n",
       "16903  audi  Audi e-tron   grey           07/2019  2019         49920   \n",
       "\n",
       "      power_kw power_ps transmission_type fuel_type fuel_consumption_l_100km  \\\n",
       "16552      300      408         Automatic  Electric                      NaN   \n",
       "16559      300      408         Automatic  Electric                      NaN   \n",
       "16561      300      408         Automatic  Electric                      NaN   \n",
       "16571      300      408         Automatic  Electric                      NaN   \n",
       "16579      300      408         Automatic  Electric                      NaN   \n",
       "16589      300      408         Automatic  Electric                      NaN   \n",
       "16591      300      408         Automatic  Electric                      NaN   \n",
       "16616      300      408         Automatic  Electric                      NaN   \n",
       "16630      265      360         Automatic  Electric                      NaN   \n",
       "16642      265      360         Automatic  Electric                      NaN   \n",
       "16649      300      408         Automatic  Electric                      NaN   \n",
       "16658      300      408         Automatic  Electric                      NaN   \n",
       "16668      265      360         Automatic  Electric                      NaN   \n",
       "16709      300      408         Automatic  Electric                      NaN   \n",
       "16724      300      408         Automatic  Electric                      NaN   \n",
       "16760      300      408            Manual  Electric                      NaN   \n",
       "16806      300      408         Automatic  Electric                      NaN   \n",
       "16816      265      360         Automatic  Electric                      NaN   \n",
       "16900      300      408         Automatic  Electric                      NaN   \n",
       "16903      300      408         Automatic  Electric                      NaN   \n",
       "\n",
       "      fuel_consumption_g_km  mileage_in_km  \\\n",
       "16552     359 km Reichweite        84800.0   \n",
       "16559     359 km Reichweite        51000.0   \n",
       "16561                0 g/km        82814.0   \n",
       "16571                0 g/km        55990.0   \n",
       "16579     359 km Reichweite        84300.0   \n",
       "16589     359 km Reichweite        55900.0   \n",
       "16591     359 km Reichweite        17950.0   \n",
       "16616     422 km Reichweite        67541.0   \n",
       "16630                0 g/km        45400.0   \n",
       "16642     359 km Reichweite        25639.0   \n",
       "16649     359 km Reichweite        54000.0   \n",
       "16658     359 km Reichweite        80000.0   \n",
       "16668     359 km Reichweite        48400.0   \n",
       "16709     359 km Reichweite        71253.0   \n",
       "16724     359 km Reichweite        21960.0   \n",
       "16760     359 km Reichweite        91015.0   \n",
       "16806     359 km Reichweite        25000.0   \n",
       "16816     359 km Reichweite        40300.0   \n",
       "16900     359 km Reichweite        48048.0   \n",
       "16903     409 km Reichweite        47400.0   \n",
       "\n",
       "                                       offer_description  \n",
       "16552               55 Advanced Quattro S-Line Interieur  \n",
       "16559            55 quattro advanced Pano B&O AHK Matrix  \n",
       "16561                  +ADVANCED+55+PANO+LUFT+HU+MATRIX+  \n",
       "16571             advanced 55 QU*B&O*MATRIX*PANO*LED*NAV  \n",
       "16579           55 qu. S line AHK LED V-Cockp. RüKa Pano  \n",
       "16589  55 advanced S line Matrix HuD Pano B&O 360° Lu...  \n",
       "16591              advanced 55 Navi,LED,B&O,Leder,Kamera  \n",
       "16616                 55 qu S line 20\" NAVI LED Advanced  \n",
       "16630           55 quattro advanced +Luft +AHK +Panorama  \n",
       "16642          advanced 55 quattro Klimaaut Navi Shz LED  \n",
       "16649     55quat.,14MGarantie,TV,B&O,Massage,virtSpiegel  \n",
       "16658           55 qu VIRTUELLE SPIEGEL,HUD,LUFT,KEYLESS  \n",
       "16668    55 quattro PANO/ACC/V-SPIEGEL/MATRIX/21\"/MEMORY  \n",
       "16709  E-tron 55 Quattro Advanced Allrad HUD AD AHK-a...  \n",
       "16724          55 quattro advanced S-line Matrix-LED AHK  \n",
       "16760        Audi 55 quattro advanced*S-line*B+O*AHK*ACC  \n",
       "16806                    55 quattro advanced edition one  \n",
       "16816      55 quattro (Virtuelle Außenspiegel,Pano-Dach)  \n",
       "16900          advanced 55 quattro NAVI RFK PANORAMADACH  \n",
       "16903  55 quattro S line Interieur PANORAMA LEDER AHK...  "
      ]
     },
     "execution_count": 7,
     "metadata": {},
     "output_type": "execute_result"
    }
   ],
   "source": [
    "data_raw[ data_raw['fuel_type'] == 'Electric' ].head(20)"
   ]
  },
  {
   "cell_type": "code",
   "execution_count": 8,
   "metadata": {},
   "outputs": [
    {
     "data": {
      "text/plain": [
       "0     1999\n",
       "1    35990\n",
       "2    17850\n",
       "3    46830\n",
       "4    27443\n",
       "5    14240\n",
       "6    19950\n",
       "7    15950\n",
       "8    21990\n",
       "9    12450\n",
       "Name: Preis (Euro), dtype: int64"
      ]
     },
     "execution_count": 8,
     "metadata": {},
     "output_type": "execute_result"
    }
   ],
   "source": [
    "xxs = pd.read_csv('autoscout24_xxs.csv')\n",
    "xxs['Preis (Euro)']"
   ]
  },
  {
   "cell_type": "code",
   "execution_count": 9,
   "metadata": {},
   "outputs": [
    {
     "data": {
      "text/html": [
       "<div>\n",
       "<style scoped>\n",
       "    .dataframe tbody tr th:only-of-type {\n",
       "        vertical-align: middle;\n",
       "    }\n",
       "\n",
       "    .dataframe tbody tr th {\n",
       "        vertical-align: top;\n",
       "    }\n",
       "\n",
       "    .dataframe thead th {\n",
       "        text-align: right;\n",
       "    }\n",
       "</style>\n",
       "<table border=\"1\" class=\"dataframe\">\n",
       "  <thead>\n",
       "    <tr style=\"text-align: right;\">\n",
       "      <th></th>\n",
       "      <th>Jahr</th>\n",
       "      <th>Preis (Euro)</th>\n",
       "      <th>Leistung (kW)</th>\n",
       "      <th>Leistung (PS)</th>\n",
       "      <th>Verbrauch (l/100 km)</th>\n",
       "      <th>Verbrauch (g/km)</th>\n",
       "      <th>Kilometerstand (km)</th>\n",
       "    </tr>\n",
       "  </thead>\n",
       "  <tbody>\n",
       "    <tr>\n",
       "      <th>count</th>\n",
       "      <td>10.000000</td>\n",
       "      <td>10.000000</td>\n",
       "      <td>10.000000</td>\n",
       "      <td>10.000000</td>\n",
       "      <td>10.00000</td>\n",
       "      <td>10.000000</td>\n",
       "      <td>10.000000</td>\n",
       "    </tr>\n",
       "    <tr>\n",
       "      <th>mean</th>\n",
       "      <td>2017.800000</td>\n",
       "      <td>21469.200000</td>\n",
       "      <td>98.800000</td>\n",
       "      <td>134.500000</td>\n",
       "      <td>5.00000</td>\n",
       "      <td>122.600000</td>\n",
       "      <td>75993.000000</td>\n",
       "    </tr>\n",
       "    <tr>\n",
       "      <th>std</th>\n",
       "      <td>7.465476</td>\n",
       "      <td>12686.587246</td>\n",
       "      <td>70.275332</td>\n",
       "      <td>95.586203</td>\n",
       "      <td>1.01653</td>\n",
       "      <td>23.796358</td>\n",
       "      <td>71600.728696</td>\n",
       "    </tr>\n",
       "    <tr>\n",
       "      <th>min</th>\n",
       "      <td>1997.000000</td>\n",
       "      <td>1999.000000</td>\n",
       "      <td>53.000000</td>\n",
       "      <td>72.000000</td>\n",
       "      <td>3.70000</td>\n",
       "      <td>85.000000</td>\n",
       "      <td>2500.000000</td>\n",
       "    </tr>\n",
       "    <tr>\n",
       "      <th>25%</th>\n",
       "      <td>2018.250000</td>\n",
       "      <td>14667.500000</td>\n",
       "      <td>68.250000</td>\n",
       "      <td>93.000000</td>\n",
       "      <td>4.12500</td>\n",
       "      <td>107.250000</td>\n",
       "      <td>16373.750000</td>\n",
       "    </tr>\n",
       "    <tr>\n",
       "      <th>50%</th>\n",
       "      <td>2020.000000</td>\n",
       "      <td>18900.000000</td>\n",
       "      <td>78.000000</td>\n",
       "      <td>106.000000</td>\n",
       "      <td>4.90000</td>\n",
       "      <td>120.500000</td>\n",
       "      <td>69385.000000</td>\n",
       "    </tr>\n",
       "    <tr>\n",
       "      <th>75%</th>\n",
       "      <td>2021.000000</td>\n",
       "      <td>26079.750000</td>\n",
       "      <td>93.250000</td>\n",
       "      <td>127.250000</td>\n",
       "      <td>5.80000</td>\n",
       "      <td>144.000000</td>\n",
       "      <td>112782.750000</td>\n",
       "    </tr>\n",
       "    <tr>\n",
       "      <th>max</th>\n",
       "      <td>2023.000000</td>\n",
       "      <td>46830.000000</td>\n",
       "      <td>294.000000</td>\n",
       "      <td>400.000000</td>\n",
       "      <td>6.60000</td>\n",
       "      <td>154.000000</td>\n",
       "      <td>231000.000000</td>\n",
       "    </tr>\n",
       "  </tbody>\n",
       "</table>\n",
       "</div>"
      ],
      "text/plain": [
       "              Jahr  Preis (Euro)  Leistung (kW)  Leistung (PS)  \\\n",
       "count    10.000000     10.000000      10.000000      10.000000   \n",
       "mean   2017.800000  21469.200000      98.800000     134.500000   \n",
       "std       7.465476  12686.587246      70.275332      95.586203   \n",
       "min    1997.000000   1999.000000      53.000000      72.000000   \n",
       "25%    2018.250000  14667.500000      68.250000      93.000000   \n",
       "50%    2020.000000  18900.000000      78.000000     106.000000   \n",
       "75%    2021.000000  26079.750000      93.250000     127.250000   \n",
       "max    2023.000000  46830.000000     294.000000     400.000000   \n",
       "\n",
       "       Verbrauch (l/100 km)  Verbrauch (g/km)  Kilometerstand (km)  \n",
       "count              10.00000         10.000000            10.000000  \n",
       "mean                5.00000        122.600000         75993.000000  \n",
       "std                 1.01653         23.796358         71600.728696  \n",
       "min                 3.70000         85.000000          2500.000000  \n",
       "25%                 4.12500        107.250000         16373.750000  \n",
       "50%                 4.90000        120.500000         69385.000000  \n",
       "75%                 5.80000        144.000000        112782.750000  \n",
       "max                 6.60000        154.000000        231000.000000  "
      ]
     },
     "execution_count": 9,
     "metadata": {},
     "output_type": "execute_result"
    }
   ],
   "source": [
    "xxs.describe()"
   ]
  },
  {
   "cell_type": "code",
   "execution_count": 10,
   "metadata": {},
   "outputs": [
    {
     "data": {
      "text/plain": [
       "0     1999\n",
       "9    12450\n",
       "5    14240\n",
       "7    15950\n",
       "2    17850\n",
       "6    19950\n",
       "8    21990\n",
       "4    27443\n",
       "1    35990\n",
       "3    46830\n",
       "Name: Preis (Euro), dtype: int64"
      ]
     },
     "execution_count": 10,
     "metadata": {},
     "output_type": "execute_result"
    }
   ],
   "source": [
    "xxs_sorted = xxs.sort_values(by=['Preis (Euro)'])\n",
    "xxs_sorted['Preis (Euro)']"
   ]
  },
  {
   "cell_type": "code",
   "execution_count": 11,
   "metadata": {},
   "outputs": [
    {
     "data": {
      "text/plain": [
       "['Constant',\n",
       " 'IdentityMap',\n",
       " 'NO_COLOR',\n",
       " 'Range',\n",
       " '__all__',\n",
       " '__builtins__',\n",
       " '__cached__',\n",
       " '__doc__',\n",
       " '__file__',\n",
       " '__loader__',\n",
       " '__name__',\n",
       " '__package__',\n",
       " '__path__',\n",
       " '__spec__',\n",
       " '_chart_types',\n",
       " '_core',\n",
       " '_doc',\n",
       " '_imshow',\n",
       " '_special_inputs',\n",
       " 'absolute_import',\n",
       " 'area',\n",
       " 'bar',\n",
       " 'bar_polar',\n",
       " 'box',\n",
       " 'choropleth',\n",
       " 'choropleth_mapbox',\n",
       " 'colors',\n",
       " 'data',\n",
       " 'defaults',\n",
       " 'density_contour',\n",
       " 'density_heatmap',\n",
       " 'density_mapbox',\n",
       " 'ecdf',\n",
       " 'funnel',\n",
       " 'funnel_area',\n",
       " 'get_trendline_results',\n",
       " 'histogram',\n",
       " 'icicle',\n",
       " 'imshow',\n",
       " 'imshow_utils',\n",
       " 'line',\n",
       " 'line_3d',\n",
       " 'line_geo',\n",
       " 'line_mapbox',\n",
       " 'line_polar',\n",
       " 'line_ternary',\n",
       " 'optional_imports',\n",
       " 'parallel_categories',\n",
       " 'parallel_coordinates',\n",
       " 'pd',\n",
       " 'pie',\n",
       " 'scatter',\n",
       " 'scatter_3d',\n",
       " 'scatter_geo',\n",
       " 'scatter_mapbox',\n",
       " 'scatter_matrix',\n",
       " 'scatter_polar',\n",
       " 'scatter_ternary',\n",
       " 'set_mapbox_access_token',\n",
       " 'strip',\n",
       " 'sunburst',\n",
       " 'timeline',\n",
       " 'treemap',\n",
       " 'trendline_functions',\n",
       " 'violin']"
      ]
     },
     "execution_count": 11,
     "metadata": {},
     "output_type": "execute_result"
    }
   ],
   "source": [
    "import plotly.express as px\n",
    "\n",
    "dir(px)\n"
   ]
  },
  {
   "cell_type": "code",
   "execution_count": 12,
   "metadata": {},
   "outputs": [
    {
     "data": {
      "application/vnd.plotly.v1+json": {
       "config": {
        "plotlyServerURL": "https://plot.ly"
       },
       "data": [
        {
         "hovertemplate": "index=%{x}<br>Preis (Euro)=%{y}<extra></extra>",
         "legendgroup": "",
         "marker": {
          "color": "#636efa",
          "symbol": "circle"
         },
         "mode": "markers",
         "name": "",
         "orientation": "v",
         "showlegend": false,
         "type": "scatter",
         "x": [
          0,
          1,
          2,
          3,
          4,
          5,
          6,
          7,
          8,
          9
         ],
         "xaxis": "x",
         "y": [
          1999,
          35990,
          17850,
          46830,
          27443,
          14240,
          19950,
          15950,
          21990,
          12450
         ],
         "yaxis": "y"
        }
       ],
       "layout": {
        "legend": {
         "tracegroupgap": 0
        },
        "margin": {
         "t": 60
        },
        "template": {
         "data": {
          "bar": [
           {
            "error_x": {
             "color": "#2a3f5f"
            },
            "error_y": {
             "color": "#2a3f5f"
            },
            "marker": {
             "line": {
              "color": "#E5ECF6",
              "width": 0.5
             },
             "pattern": {
              "fillmode": "overlay",
              "size": 10,
              "solidity": 0.2
             }
            },
            "type": "bar"
           }
          ],
          "barpolar": [
           {
            "marker": {
             "line": {
              "color": "#E5ECF6",
              "width": 0.5
             },
             "pattern": {
              "fillmode": "overlay",
              "size": 10,
              "solidity": 0.2
             }
            },
            "type": "barpolar"
           }
          ],
          "carpet": [
           {
            "aaxis": {
             "endlinecolor": "#2a3f5f",
             "gridcolor": "white",
             "linecolor": "white",
             "minorgridcolor": "white",
             "startlinecolor": "#2a3f5f"
            },
            "baxis": {
             "endlinecolor": "#2a3f5f",
             "gridcolor": "white",
             "linecolor": "white",
             "minorgridcolor": "white",
             "startlinecolor": "#2a3f5f"
            },
            "type": "carpet"
           }
          ],
          "choropleth": [
           {
            "colorbar": {
             "outlinewidth": 0,
             "ticks": ""
            },
            "type": "choropleth"
           }
          ],
          "contour": [
           {
            "colorbar": {
             "outlinewidth": 0,
             "ticks": ""
            },
            "colorscale": [
             [
              0,
              "#0d0887"
             ],
             [
              0.1111111111111111,
              "#46039f"
             ],
             [
              0.2222222222222222,
              "#7201a8"
             ],
             [
              0.3333333333333333,
              "#9c179e"
             ],
             [
              0.4444444444444444,
              "#bd3786"
             ],
             [
              0.5555555555555556,
              "#d8576b"
             ],
             [
              0.6666666666666666,
              "#ed7953"
             ],
             [
              0.7777777777777778,
              "#fb9f3a"
             ],
             [
              0.8888888888888888,
              "#fdca26"
             ],
             [
              1,
              "#f0f921"
             ]
            ],
            "type": "contour"
           }
          ],
          "contourcarpet": [
           {
            "colorbar": {
             "outlinewidth": 0,
             "ticks": ""
            },
            "type": "contourcarpet"
           }
          ],
          "heatmap": [
           {
            "colorbar": {
             "outlinewidth": 0,
             "ticks": ""
            },
            "colorscale": [
             [
              0,
              "#0d0887"
             ],
             [
              0.1111111111111111,
              "#46039f"
             ],
             [
              0.2222222222222222,
              "#7201a8"
             ],
             [
              0.3333333333333333,
              "#9c179e"
             ],
             [
              0.4444444444444444,
              "#bd3786"
             ],
             [
              0.5555555555555556,
              "#d8576b"
             ],
             [
              0.6666666666666666,
              "#ed7953"
             ],
             [
              0.7777777777777778,
              "#fb9f3a"
             ],
             [
              0.8888888888888888,
              "#fdca26"
             ],
             [
              1,
              "#f0f921"
             ]
            ],
            "type": "heatmap"
           }
          ],
          "heatmapgl": [
           {
            "colorbar": {
             "outlinewidth": 0,
             "ticks": ""
            },
            "colorscale": [
             [
              0,
              "#0d0887"
             ],
             [
              0.1111111111111111,
              "#46039f"
             ],
             [
              0.2222222222222222,
              "#7201a8"
             ],
             [
              0.3333333333333333,
              "#9c179e"
             ],
             [
              0.4444444444444444,
              "#bd3786"
             ],
             [
              0.5555555555555556,
              "#d8576b"
             ],
             [
              0.6666666666666666,
              "#ed7953"
             ],
             [
              0.7777777777777778,
              "#fb9f3a"
             ],
             [
              0.8888888888888888,
              "#fdca26"
             ],
             [
              1,
              "#f0f921"
             ]
            ],
            "type": "heatmapgl"
           }
          ],
          "histogram": [
           {
            "marker": {
             "pattern": {
              "fillmode": "overlay",
              "size": 10,
              "solidity": 0.2
             }
            },
            "type": "histogram"
           }
          ],
          "histogram2d": [
           {
            "colorbar": {
             "outlinewidth": 0,
             "ticks": ""
            },
            "colorscale": [
             [
              0,
              "#0d0887"
             ],
             [
              0.1111111111111111,
              "#46039f"
             ],
             [
              0.2222222222222222,
              "#7201a8"
             ],
             [
              0.3333333333333333,
              "#9c179e"
             ],
             [
              0.4444444444444444,
              "#bd3786"
             ],
             [
              0.5555555555555556,
              "#d8576b"
             ],
             [
              0.6666666666666666,
              "#ed7953"
             ],
             [
              0.7777777777777778,
              "#fb9f3a"
             ],
             [
              0.8888888888888888,
              "#fdca26"
             ],
             [
              1,
              "#f0f921"
             ]
            ],
            "type": "histogram2d"
           }
          ],
          "histogram2dcontour": [
           {
            "colorbar": {
             "outlinewidth": 0,
             "ticks": ""
            },
            "colorscale": [
             [
              0,
              "#0d0887"
             ],
             [
              0.1111111111111111,
              "#46039f"
             ],
             [
              0.2222222222222222,
              "#7201a8"
             ],
             [
              0.3333333333333333,
              "#9c179e"
             ],
             [
              0.4444444444444444,
              "#bd3786"
             ],
             [
              0.5555555555555556,
              "#d8576b"
             ],
             [
              0.6666666666666666,
              "#ed7953"
             ],
             [
              0.7777777777777778,
              "#fb9f3a"
             ],
             [
              0.8888888888888888,
              "#fdca26"
             ],
             [
              1,
              "#f0f921"
             ]
            ],
            "type": "histogram2dcontour"
           }
          ],
          "mesh3d": [
           {
            "colorbar": {
             "outlinewidth": 0,
             "ticks": ""
            },
            "type": "mesh3d"
           }
          ],
          "parcoords": [
           {
            "line": {
             "colorbar": {
              "outlinewidth": 0,
              "ticks": ""
             }
            },
            "type": "parcoords"
           }
          ],
          "pie": [
           {
            "automargin": true,
            "type": "pie"
           }
          ],
          "scatter": [
           {
            "fillpattern": {
             "fillmode": "overlay",
             "size": 10,
             "solidity": 0.2
            },
            "type": "scatter"
           }
          ],
          "scatter3d": [
           {
            "line": {
             "colorbar": {
              "outlinewidth": 0,
              "ticks": ""
             }
            },
            "marker": {
             "colorbar": {
              "outlinewidth": 0,
              "ticks": ""
             }
            },
            "type": "scatter3d"
           }
          ],
          "scattercarpet": [
           {
            "marker": {
             "colorbar": {
              "outlinewidth": 0,
              "ticks": ""
             }
            },
            "type": "scattercarpet"
           }
          ],
          "scattergeo": [
           {
            "marker": {
             "colorbar": {
              "outlinewidth": 0,
              "ticks": ""
             }
            },
            "type": "scattergeo"
           }
          ],
          "scattergl": [
           {
            "marker": {
             "colorbar": {
              "outlinewidth": 0,
              "ticks": ""
             }
            },
            "type": "scattergl"
           }
          ],
          "scattermapbox": [
           {
            "marker": {
             "colorbar": {
              "outlinewidth": 0,
              "ticks": ""
             }
            },
            "type": "scattermapbox"
           }
          ],
          "scatterpolar": [
           {
            "marker": {
             "colorbar": {
              "outlinewidth": 0,
              "ticks": ""
             }
            },
            "type": "scatterpolar"
           }
          ],
          "scatterpolargl": [
           {
            "marker": {
             "colorbar": {
              "outlinewidth": 0,
              "ticks": ""
             }
            },
            "type": "scatterpolargl"
           }
          ],
          "scatterternary": [
           {
            "marker": {
             "colorbar": {
              "outlinewidth": 0,
              "ticks": ""
             }
            },
            "type": "scatterternary"
           }
          ],
          "surface": [
           {
            "colorbar": {
             "outlinewidth": 0,
             "ticks": ""
            },
            "colorscale": [
             [
              0,
              "#0d0887"
             ],
             [
              0.1111111111111111,
              "#46039f"
             ],
             [
              0.2222222222222222,
              "#7201a8"
             ],
             [
              0.3333333333333333,
              "#9c179e"
             ],
             [
              0.4444444444444444,
              "#bd3786"
             ],
             [
              0.5555555555555556,
              "#d8576b"
             ],
             [
              0.6666666666666666,
              "#ed7953"
             ],
             [
              0.7777777777777778,
              "#fb9f3a"
             ],
             [
              0.8888888888888888,
              "#fdca26"
             ],
             [
              1,
              "#f0f921"
             ]
            ],
            "type": "surface"
           }
          ],
          "table": [
           {
            "cells": {
             "fill": {
              "color": "#EBF0F8"
             },
             "line": {
              "color": "white"
             }
            },
            "header": {
             "fill": {
              "color": "#C8D4E3"
             },
             "line": {
              "color": "white"
             }
            },
            "type": "table"
           }
          ]
         },
         "layout": {
          "annotationdefaults": {
           "arrowcolor": "#2a3f5f",
           "arrowhead": 0,
           "arrowwidth": 1
          },
          "autotypenumbers": "strict",
          "coloraxis": {
           "colorbar": {
            "outlinewidth": 0,
            "ticks": ""
           }
          },
          "colorscale": {
           "diverging": [
            [
             0,
             "#8e0152"
            ],
            [
             0.1,
             "#c51b7d"
            ],
            [
             0.2,
             "#de77ae"
            ],
            [
             0.3,
             "#f1b6da"
            ],
            [
             0.4,
             "#fde0ef"
            ],
            [
             0.5,
             "#f7f7f7"
            ],
            [
             0.6,
             "#e6f5d0"
            ],
            [
             0.7,
             "#b8e186"
            ],
            [
             0.8,
             "#7fbc41"
            ],
            [
             0.9,
             "#4d9221"
            ],
            [
             1,
             "#276419"
            ]
           ],
           "sequential": [
            [
             0,
             "#0d0887"
            ],
            [
             0.1111111111111111,
             "#46039f"
            ],
            [
             0.2222222222222222,
             "#7201a8"
            ],
            [
             0.3333333333333333,
             "#9c179e"
            ],
            [
             0.4444444444444444,
             "#bd3786"
            ],
            [
             0.5555555555555556,
             "#d8576b"
            ],
            [
             0.6666666666666666,
             "#ed7953"
            ],
            [
             0.7777777777777778,
             "#fb9f3a"
            ],
            [
             0.8888888888888888,
             "#fdca26"
            ],
            [
             1,
             "#f0f921"
            ]
           ],
           "sequentialminus": [
            [
             0,
             "#0d0887"
            ],
            [
             0.1111111111111111,
             "#46039f"
            ],
            [
             0.2222222222222222,
             "#7201a8"
            ],
            [
             0.3333333333333333,
             "#9c179e"
            ],
            [
             0.4444444444444444,
             "#bd3786"
            ],
            [
             0.5555555555555556,
             "#d8576b"
            ],
            [
             0.6666666666666666,
             "#ed7953"
            ],
            [
             0.7777777777777778,
             "#fb9f3a"
            ],
            [
             0.8888888888888888,
             "#fdca26"
            ],
            [
             1,
             "#f0f921"
            ]
           ]
          },
          "colorway": [
           "#636efa",
           "#EF553B",
           "#00cc96",
           "#ab63fa",
           "#FFA15A",
           "#19d3f3",
           "#FF6692",
           "#B6E880",
           "#FF97FF",
           "#FECB52"
          ],
          "font": {
           "color": "#2a3f5f"
          },
          "geo": {
           "bgcolor": "white",
           "lakecolor": "white",
           "landcolor": "#E5ECF6",
           "showlakes": true,
           "showland": true,
           "subunitcolor": "white"
          },
          "hoverlabel": {
           "align": "left"
          },
          "hovermode": "closest",
          "mapbox": {
           "style": "light"
          },
          "paper_bgcolor": "white",
          "plot_bgcolor": "#E5ECF6",
          "polar": {
           "angularaxis": {
            "gridcolor": "white",
            "linecolor": "white",
            "ticks": ""
           },
           "bgcolor": "#E5ECF6",
           "radialaxis": {
            "gridcolor": "white",
            "linecolor": "white",
            "ticks": ""
           }
          },
          "scene": {
           "xaxis": {
            "backgroundcolor": "#E5ECF6",
            "gridcolor": "white",
            "gridwidth": 2,
            "linecolor": "white",
            "showbackground": true,
            "ticks": "",
            "zerolinecolor": "white"
           },
           "yaxis": {
            "backgroundcolor": "#E5ECF6",
            "gridcolor": "white",
            "gridwidth": 2,
            "linecolor": "white",
            "showbackground": true,
            "ticks": "",
            "zerolinecolor": "white"
           },
           "zaxis": {
            "backgroundcolor": "#E5ECF6",
            "gridcolor": "white",
            "gridwidth": 2,
            "linecolor": "white",
            "showbackground": true,
            "ticks": "",
            "zerolinecolor": "white"
           }
          },
          "shapedefaults": {
           "line": {
            "color": "#2a3f5f"
           }
          },
          "ternary": {
           "aaxis": {
            "gridcolor": "white",
            "linecolor": "white",
            "ticks": ""
           },
           "baxis": {
            "gridcolor": "white",
            "linecolor": "white",
            "ticks": ""
           },
           "bgcolor": "#E5ECF6",
           "caxis": {
            "gridcolor": "white",
            "linecolor": "white",
            "ticks": ""
           }
          },
          "title": {
           "x": 0.05
          },
          "xaxis": {
           "automargin": true,
           "gridcolor": "white",
           "linecolor": "white",
           "ticks": "",
           "title": {
            "standoff": 15
           },
           "zerolinecolor": "white",
           "zerolinewidth": 2
          },
          "yaxis": {
           "automargin": true,
           "gridcolor": "white",
           "linecolor": "white",
           "ticks": "",
           "title": {
            "standoff": 15
           },
           "zerolinecolor": "white",
           "zerolinewidth": 2
          }
         }
        },
        "xaxis": {
         "anchor": "y",
         "domain": [
          0,
          1
         ],
         "title": {
          "text": "index"
         }
        },
        "yaxis": {
         "anchor": "x",
         "domain": [
          0,
          1
         ],
         "title": {
          "text": "Preis (Euro)"
         }
        }
       }
      }
     },
     "metadata": {},
     "output_type": "display_data"
    }
   ],
   "source": [
    "\n",
    "import plotly.express as px\n",
    "\n",
    "fig = px.scatter(xxs, y = 'Preis (Euro)')\n",
    "fig.show()"
   ]
  },
  {
   "cell_type": "code",
   "execution_count": 13,
   "metadata": {},
   "outputs": [
    {
     "name": "stdout",
     "output_type": "stream",
     "text": [
      "<class 'pandas.core.series.Series'>\n",
      "Index: 10 entries, Audi Nr. 1 to Citroen Nr. 5\n",
      "Series name: None\n",
      "Non-Null Count  Dtype\n",
      "--------------  -----\n",
      "10 non-null     int64\n",
      "dtypes: int64(1)\n",
      "memory usage: 160.0+ bytes\n"
     ]
    }
   ],
   "source": [
    "preisliste = [1999, 35990, 17850, 46830, 27443, 14240, 19950, 15950, 21990, 12450]\n",
    "preise = pd.Series(preisliste, index = ['Audi Nr. 1', 'Audi Nr. 2', 'Audi Nr. 3', 'BMW Nr. 1', 'BMW Nr. 2', \n",
    "    'Citroen Nr. 1', 'Citroen Nr. 2', 'Citroen Nr. 3', 'Citroen Nr. 4', 'Citroen Nr. 5'])\n",
    "\n",
    "preise.info()"
   ]
  },
  {
   "cell_type": "code",
   "execution_count": 14,
   "metadata": {},
   "outputs": [
    {
     "data": {
      "application/vnd.plotly.v1+json": {
       "config": {
        "plotlyServerURL": "https://plot.ly"
       },
       "data": [
        {
         "hovertemplate": "Legende=0<br>Auto ID=%{x}<br>Preis in Euro=%{y}<extra></extra>",
         "legendgroup": "0",
         "marker": {
          "color": "#636efa",
          "symbol": "circle"
         },
         "mode": "markers",
         "name": "0",
         "orientation": "v",
         "showlegend": true,
         "type": "scatter",
         "x": [
          "Audi Nr. 1",
          "Audi Nr. 2",
          "Audi Nr. 3",
          "BMW Nr. 1",
          "BMW Nr. 2",
          "Citroen Nr. 1",
          "Citroen Nr. 2",
          "Citroen Nr. 3",
          "Citroen Nr. 4",
          "Citroen Nr. 5"
         ],
         "xaxis": "x",
         "y": [
          1999,
          35990,
          17850,
          46830,
          27443,
          14240,
          19950,
          15950,
          21990,
          12450
         ],
         "yaxis": "y"
        }
       ],
       "layout": {
        "legend": {
         "title": {
          "text": "Legende"
         },
         "tracegroupgap": 0
        },
        "template": {
         "data": {
          "bar": [
           {
            "error_x": {
             "color": "#2a3f5f"
            },
            "error_y": {
             "color": "#2a3f5f"
            },
            "marker": {
             "line": {
              "color": "#E5ECF6",
              "width": 0.5
             },
             "pattern": {
              "fillmode": "overlay",
              "size": 10,
              "solidity": 0.2
             }
            },
            "type": "bar"
           }
          ],
          "barpolar": [
           {
            "marker": {
             "line": {
              "color": "#E5ECF6",
              "width": 0.5
             },
             "pattern": {
              "fillmode": "overlay",
              "size": 10,
              "solidity": 0.2
             }
            },
            "type": "barpolar"
           }
          ],
          "carpet": [
           {
            "aaxis": {
             "endlinecolor": "#2a3f5f",
             "gridcolor": "white",
             "linecolor": "white",
             "minorgridcolor": "white",
             "startlinecolor": "#2a3f5f"
            },
            "baxis": {
             "endlinecolor": "#2a3f5f",
             "gridcolor": "white",
             "linecolor": "white",
             "minorgridcolor": "white",
             "startlinecolor": "#2a3f5f"
            },
            "type": "carpet"
           }
          ],
          "choropleth": [
           {
            "colorbar": {
             "outlinewidth": 0,
             "ticks": ""
            },
            "type": "choropleth"
           }
          ],
          "contour": [
           {
            "colorbar": {
             "outlinewidth": 0,
             "ticks": ""
            },
            "colorscale": [
             [
              0,
              "#0d0887"
             ],
             [
              0.1111111111111111,
              "#46039f"
             ],
             [
              0.2222222222222222,
              "#7201a8"
             ],
             [
              0.3333333333333333,
              "#9c179e"
             ],
             [
              0.4444444444444444,
              "#bd3786"
             ],
             [
              0.5555555555555556,
              "#d8576b"
             ],
             [
              0.6666666666666666,
              "#ed7953"
             ],
             [
              0.7777777777777778,
              "#fb9f3a"
             ],
             [
              0.8888888888888888,
              "#fdca26"
             ],
             [
              1,
              "#f0f921"
             ]
            ],
            "type": "contour"
           }
          ],
          "contourcarpet": [
           {
            "colorbar": {
             "outlinewidth": 0,
             "ticks": ""
            },
            "type": "contourcarpet"
           }
          ],
          "heatmap": [
           {
            "colorbar": {
             "outlinewidth": 0,
             "ticks": ""
            },
            "colorscale": [
             [
              0,
              "#0d0887"
             ],
             [
              0.1111111111111111,
              "#46039f"
             ],
             [
              0.2222222222222222,
              "#7201a8"
             ],
             [
              0.3333333333333333,
              "#9c179e"
             ],
             [
              0.4444444444444444,
              "#bd3786"
             ],
             [
              0.5555555555555556,
              "#d8576b"
             ],
             [
              0.6666666666666666,
              "#ed7953"
             ],
             [
              0.7777777777777778,
              "#fb9f3a"
             ],
             [
              0.8888888888888888,
              "#fdca26"
             ],
             [
              1,
              "#f0f921"
             ]
            ],
            "type": "heatmap"
           }
          ],
          "heatmapgl": [
           {
            "colorbar": {
             "outlinewidth": 0,
             "ticks": ""
            },
            "colorscale": [
             [
              0,
              "#0d0887"
             ],
             [
              0.1111111111111111,
              "#46039f"
             ],
             [
              0.2222222222222222,
              "#7201a8"
             ],
             [
              0.3333333333333333,
              "#9c179e"
             ],
             [
              0.4444444444444444,
              "#bd3786"
             ],
             [
              0.5555555555555556,
              "#d8576b"
             ],
             [
              0.6666666666666666,
              "#ed7953"
             ],
             [
              0.7777777777777778,
              "#fb9f3a"
             ],
             [
              0.8888888888888888,
              "#fdca26"
             ],
             [
              1,
              "#f0f921"
             ]
            ],
            "type": "heatmapgl"
           }
          ],
          "histogram": [
           {
            "marker": {
             "pattern": {
              "fillmode": "overlay",
              "size": 10,
              "solidity": 0.2
             }
            },
            "type": "histogram"
           }
          ],
          "histogram2d": [
           {
            "colorbar": {
             "outlinewidth": 0,
             "ticks": ""
            },
            "colorscale": [
             [
              0,
              "#0d0887"
             ],
             [
              0.1111111111111111,
              "#46039f"
             ],
             [
              0.2222222222222222,
              "#7201a8"
             ],
             [
              0.3333333333333333,
              "#9c179e"
             ],
             [
              0.4444444444444444,
              "#bd3786"
             ],
             [
              0.5555555555555556,
              "#d8576b"
             ],
             [
              0.6666666666666666,
              "#ed7953"
             ],
             [
              0.7777777777777778,
              "#fb9f3a"
             ],
             [
              0.8888888888888888,
              "#fdca26"
             ],
             [
              1,
              "#f0f921"
             ]
            ],
            "type": "histogram2d"
           }
          ],
          "histogram2dcontour": [
           {
            "colorbar": {
             "outlinewidth": 0,
             "ticks": ""
            },
            "colorscale": [
             [
              0,
              "#0d0887"
             ],
             [
              0.1111111111111111,
              "#46039f"
             ],
             [
              0.2222222222222222,
              "#7201a8"
             ],
             [
              0.3333333333333333,
              "#9c179e"
             ],
             [
              0.4444444444444444,
              "#bd3786"
             ],
             [
              0.5555555555555556,
              "#d8576b"
             ],
             [
              0.6666666666666666,
              "#ed7953"
             ],
             [
              0.7777777777777778,
              "#fb9f3a"
             ],
             [
              0.8888888888888888,
              "#fdca26"
             ],
             [
              1,
              "#f0f921"
             ]
            ],
            "type": "histogram2dcontour"
           }
          ],
          "mesh3d": [
           {
            "colorbar": {
             "outlinewidth": 0,
             "ticks": ""
            },
            "type": "mesh3d"
           }
          ],
          "parcoords": [
           {
            "line": {
             "colorbar": {
              "outlinewidth": 0,
              "ticks": ""
             }
            },
            "type": "parcoords"
           }
          ],
          "pie": [
           {
            "automargin": true,
            "type": "pie"
           }
          ],
          "scatter": [
           {
            "fillpattern": {
             "fillmode": "overlay",
             "size": 10,
             "solidity": 0.2
            },
            "type": "scatter"
           }
          ],
          "scatter3d": [
           {
            "line": {
             "colorbar": {
              "outlinewidth": 0,
              "ticks": ""
             }
            },
            "marker": {
             "colorbar": {
              "outlinewidth": 0,
              "ticks": ""
             }
            },
            "type": "scatter3d"
           }
          ],
          "scattercarpet": [
           {
            "marker": {
             "colorbar": {
              "outlinewidth": 0,
              "ticks": ""
             }
            },
            "type": "scattercarpet"
           }
          ],
          "scattergeo": [
           {
            "marker": {
             "colorbar": {
              "outlinewidth": 0,
              "ticks": ""
             }
            },
            "type": "scattergeo"
           }
          ],
          "scattergl": [
           {
            "marker": {
             "colorbar": {
              "outlinewidth": 0,
              "ticks": ""
             }
            },
            "type": "scattergl"
           }
          ],
          "scattermapbox": [
           {
            "marker": {
             "colorbar": {
              "outlinewidth": 0,
              "ticks": ""
             }
            },
            "type": "scattermapbox"
           }
          ],
          "scatterpolar": [
           {
            "marker": {
             "colorbar": {
              "outlinewidth": 0,
              "ticks": ""
             }
            },
            "type": "scatterpolar"
           }
          ],
          "scatterpolargl": [
           {
            "marker": {
             "colorbar": {
              "outlinewidth": 0,
              "ticks": ""
             }
            },
            "type": "scatterpolargl"
           }
          ],
          "scatterternary": [
           {
            "marker": {
             "colorbar": {
              "outlinewidth": 0,
              "ticks": ""
             }
            },
            "type": "scatterternary"
           }
          ],
          "surface": [
           {
            "colorbar": {
             "outlinewidth": 0,
             "ticks": ""
            },
            "colorscale": [
             [
              0,
              "#0d0887"
             ],
             [
              0.1111111111111111,
              "#46039f"
             ],
             [
              0.2222222222222222,
              "#7201a8"
             ],
             [
              0.3333333333333333,
              "#9c179e"
             ],
             [
              0.4444444444444444,
              "#bd3786"
             ],
             [
              0.5555555555555556,
              "#d8576b"
             ],
             [
              0.6666666666666666,
              "#ed7953"
             ],
             [
              0.7777777777777778,
              "#fb9f3a"
             ],
             [
              0.8888888888888888,
              "#fdca26"
             ],
             [
              1,
              "#f0f921"
             ]
            ],
            "type": "surface"
           }
          ],
          "table": [
           {
            "cells": {
             "fill": {
              "color": "#EBF0F8"
             },
             "line": {
              "color": "white"
             }
            },
            "header": {
             "fill": {
              "color": "#C8D4E3"
             },
             "line": {
              "color": "white"
             }
            },
            "type": "table"
           }
          ]
         },
         "layout": {
          "annotationdefaults": {
           "arrowcolor": "#2a3f5f",
           "arrowhead": 0,
           "arrowwidth": 1
          },
          "autotypenumbers": "strict",
          "coloraxis": {
           "colorbar": {
            "outlinewidth": 0,
            "ticks": ""
           }
          },
          "colorscale": {
           "diverging": [
            [
             0,
             "#8e0152"
            ],
            [
             0.1,
             "#c51b7d"
            ],
            [
             0.2,
             "#de77ae"
            ],
            [
             0.3,
             "#f1b6da"
            ],
            [
             0.4,
             "#fde0ef"
            ],
            [
             0.5,
             "#f7f7f7"
            ],
            [
             0.6,
             "#e6f5d0"
            ],
            [
             0.7,
             "#b8e186"
            ],
            [
             0.8,
             "#7fbc41"
            ],
            [
             0.9,
             "#4d9221"
            ],
            [
             1,
             "#276419"
            ]
           ],
           "sequential": [
            [
             0,
             "#0d0887"
            ],
            [
             0.1111111111111111,
             "#46039f"
            ],
            [
             0.2222222222222222,
             "#7201a8"
            ],
            [
             0.3333333333333333,
             "#9c179e"
            ],
            [
             0.4444444444444444,
             "#bd3786"
            ],
            [
             0.5555555555555556,
             "#d8576b"
            ],
            [
             0.6666666666666666,
             "#ed7953"
            ],
            [
             0.7777777777777778,
             "#fb9f3a"
            ],
            [
             0.8888888888888888,
             "#fdca26"
            ],
            [
             1,
             "#f0f921"
            ]
           ],
           "sequentialminus": [
            [
             0,
             "#0d0887"
            ],
            [
             0.1111111111111111,
             "#46039f"
            ],
            [
             0.2222222222222222,
             "#7201a8"
            ],
            [
             0.3333333333333333,
             "#9c179e"
            ],
            [
             0.4444444444444444,
             "#bd3786"
            ],
            [
             0.5555555555555556,
             "#d8576b"
            ],
            [
             0.6666666666666666,
             "#ed7953"
            ],
            [
             0.7777777777777778,
             "#fb9f3a"
            ],
            [
             0.8888888888888888,
             "#fdca26"
            ],
            [
             1,
             "#f0f921"
            ]
           ]
          },
          "colorway": [
           "#636efa",
           "#EF553B",
           "#00cc96",
           "#ab63fa",
           "#FFA15A",
           "#19d3f3",
           "#FF6692",
           "#B6E880",
           "#FF97FF",
           "#FECB52"
          ],
          "font": {
           "color": "#2a3f5f"
          },
          "geo": {
           "bgcolor": "white",
           "lakecolor": "white",
           "landcolor": "#E5ECF6",
           "showlakes": true,
           "showland": true,
           "subunitcolor": "white"
          },
          "hoverlabel": {
           "align": "left"
          },
          "hovermode": "closest",
          "mapbox": {
           "style": "light"
          },
          "paper_bgcolor": "white",
          "plot_bgcolor": "#E5ECF6",
          "polar": {
           "angularaxis": {
            "gridcolor": "white",
            "linecolor": "white",
            "ticks": ""
           },
           "bgcolor": "#E5ECF6",
           "radialaxis": {
            "gridcolor": "white",
            "linecolor": "white",
            "ticks": ""
           }
          },
          "scene": {
           "xaxis": {
            "backgroundcolor": "#E5ECF6",
            "gridcolor": "white",
            "gridwidth": 2,
            "linecolor": "white",
            "showbackground": true,
            "ticks": "",
            "zerolinecolor": "white"
           },
           "yaxis": {
            "backgroundcolor": "#E5ECF6",
            "gridcolor": "white",
            "gridwidth": 2,
            "linecolor": "white",
            "showbackground": true,
            "ticks": "",
            "zerolinecolor": "white"
           },
           "zaxis": {
            "backgroundcolor": "#E5ECF6",
            "gridcolor": "white",
            "gridwidth": 2,
            "linecolor": "white",
            "showbackground": true,
            "ticks": "",
            "zerolinecolor": "white"
           }
          },
          "shapedefaults": {
           "line": {
            "color": "#2a3f5f"
           }
          },
          "ternary": {
           "aaxis": {
            "gridcolor": "white",
            "linecolor": "white",
            "ticks": ""
           },
           "baxis": {
            "gridcolor": "white",
            "linecolor": "white",
            "ticks": ""
           },
           "bgcolor": "#E5ECF6",
           "caxis": {
            "gridcolor": "white",
            "linecolor": "white",
            "ticks": ""
           }
          },
          "title": {
           "x": 0.05
          },
          "xaxis": {
           "automargin": true,
           "gridcolor": "white",
           "linecolor": "white",
           "ticks": "",
           "title": {
            "standoff": 15
           },
           "zerolinecolor": "white",
           "zerolinewidth": 2
          },
          "yaxis": {
           "automargin": true,
           "gridcolor": "white",
           "linecolor": "white",
           "ticks": "",
           "title": {
            "standoff": 15
           },
           "zerolinecolor": "white",
           "zerolinewidth": 2
          }
         }
        },
        "title": {
         "text": "Autoscout24"
        },
        "xaxis": {
         "anchor": "y",
         "domain": [
          0,
          1
         ],
         "title": {
          "text": "Auto ID"
         }
        },
        "yaxis": {
         "anchor": "x",
         "domain": [
          0,
          1
         ],
         "title": {
          "text": "Preis in Euro"
         }
        }
       }
      }
     },
     "metadata": {},
     "output_type": "display_data"
    }
   ],
   "source": [
    "import plotly.express as px\n",
    "\n",
    "fig = px.scatter(preise,\n",
    "                 labels={\n",
    "                     \"index\": \"Auto ID\",\n",
    "                     \"value\": \"Preis in Euro\",\n",
    "                     \"variable\": \"Legende\"\n",
    "                 },\n",
    "                title=\"Autoscout24\")\n",
    "fig.show()"
   ]
  },
  {
   "cell_type": "code",
   "execution_count": 15,
   "metadata": {},
   "outputs": [
    {
     "data": {
      "application/vnd.plotly.v1+json": {
       "config": {
        "plotlyServerURL": "https://plot.ly"
       },
       "data": [
        {
         "alignmentgroup": "True",
         "hovertemplate": "variable=%{x}<br>value=%{y}<extra></extra>",
         "legendgroup": "",
         "marker": {
          "color": "#636efa"
         },
         "name": "",
         "notched": false,
         "offsetgroup": "",
         "orientation": "v",
         "showlegend": false,
         "type": "box",
         "x": [
          "0",
          "0",
          "0",
          "0",
          "0",
          "0",
          "0",
          "0",
          "0",
          "0"
         ],
         "x0": " ",
         "xaxis": "x",
         "y": [
          1999,
          35990,
          17850,
          46830,
          27443,
          14240,
          19950,
          15950,
          21990,
          12450
         ],
         "y0": " ",
         "yaxis": "y"
        }
       ],
       "layout": {
        "boxmode": "group",
        "legend": {
         "tracegroupgap": 0
        },
        "margin": {
         "t": 60
        },
        "template": {
         "data": {
          "bar": [
           {
            "error_x": {
             "color": "#2a3f5f"
            },
            "error_y": {
             "color": "#2a3f5f"
            },
            "marker": {
             "line": {
              "color": "#E5ECF6",
              "width": 0.5
             },
             "pattern": {
              "fillmode": "overlay",
              "size": 10,
              "solidity": 0.2
             }
            },
            "type": "bar"
           }
          ],
          "barpolar": [
           {
            "marker": {
             "line": {
              "color": "#E5ECF6",
              "width": 0.5
             },
             "pattern": {
              "fillmode": "overlay",
              "size": 10,
              "solidity": 0.2
             }
            },
            "type": "barpolar"
           }
          ],
          "carpet": [
           {
            "aaxis": {
             "endlinecolor": "#2a3f5f",
             "gridcolor": "white",
             "linecolor": "white",
             "minorgridcolor": "white",
             "startlinecolor": "#2a3f5f"
            },
            "baxis": {
             "endlinecolor": "#2a3f5f",
             "gridcolor": "white",
             "linecolor": "white",
             "minorgridcolor": "white",
             "startlinecolor": "#2a3f5f"
            },
            "type": "carpet"
           }
          ],
          "choropleth": [
           {
            "colorbar": {
             "outlinewidth": 0,
             "ticks": ""
            },
            "type": "choropleth"
           }
          ],
          "contour": [
           {
            "colorbar": {
             "outlinewidth": 0,
             "ticks": ""
            },
            "colorscale": [
             [
              0,
              "#0d0887"
             ],
             [
              0.1111111111111111,
              "#46039f"
             ],
             [
              0.2222222222222222,
              "#7201a8"
             ],
             [
              0.3333333333333333,
              "#9c179e"
             ],
             [
              0.4444444444444444,
              "#bd3786"
             ],
             [
              0.5555555555555556,
              "#d8576b"
             ],
             [
              0.6666666666666666,
              "#ed7953"
             ],
             [
              0.7777777777777778,
              "#fb9f3a"
             ],
             [
              0.8888888888888888,
              "#fdca26"
             ],
             [
              1,
              "#f0f921"
             ]
            ],
            "type": "contour"
           }
          ],
          "contourcarpet": [
           {
            "colorbar": {
             "outlinewidth": 0,
             "ticks": ""
            },
            "type": "contourcarpet"
           }
          ],
          "heatmap": [
           {
            "colorbar": {
             "outlinewidth": 0,
             "ticks": ""
            },
            "colorscale": [
             [
              0,
              "#0d0887"
             ],
             [
              0.1111111111111111,
              "#46039f"
             ],
             [
              0.2222222222222222,
              "#7201a8"
             ],
             [
              0.3333333333333333,
              "#9c179e"
             ],
             [
              0.4444444444444444,
              "#bd3786"
             ],
             [
              0.5555555555555556,
              "#d8576b"
             ],
             [
              0.6666666666666666,
              "#ed7953"
             ],
             [
              0.7777777777777778,
              "#fb9f3a"
             ],
             [
              0.8888888888888888,
              "#fdca26"
             ],
             [
              1,
              "#f0f921"
             ]
            ],
            "type": "heatmap"
           }
          ],
          "heatmapgl": [
           {
            "colorbar": {
             "outlinewidth": 0,
             "ticks": ""
            },
            "colorscale": [
             [
              0,
              "#0d0887"
             ],
             [
              0.1111111111111111,
              "#46039f"
             ],
             [
              0.2222222222222222,
              "#7201a8"
             ],
             [
              0.3333333333333333,
              "#9c179e"
             ],
             [
              0.4444444444444444,
              "#bd3786"
             ],
             [
              0.5555555555555556,
              "#d8576b"
             ],
             [
              0.6666666666666666,
              "#ed7953"
             ],
             [
              0.7777777777777778,
              "#fb9f3a"
             ],
             [
              0.8888888888888888,
              "#fdca26"
             ],
             [
              1,
              "#f0f921"
             ]
            ],
            "type": "heatmapgl"
           }
          ],
          "histogram": [
           {
            "marker": {
             "pattern": {
              "fillmode": "overlay",
              "size": 10,
              "solidity": 0.2
             }
            },
            "type": "histogram"
           }
          ],
          "histogram2d": [
           {
            "colorbar": {
             "outlinewidth": 0,
             "ticks": ""
            },
            "colorscale": [
             [
              0,
              "#0d0887"
             ],
             [
              0.1111111111111111,
              "#46039f"
             ],
             [
              0.2222222222222222,
              "#7201a8"
             ],
             [
              0.3333333333333333,
              "#9c179e"
             ],
             [
              0.4444444444444444,
              "#bd3786"
             ],
             [
              0.5555555555555556,
              "#d8576b"
             ],
             [
              0.6666666666666666,
              "#ed7953"
             ],
             [
              0.7777777777777778,
              "#fb9f3a"
             ],
             [
              0.8888888888888888,
              "#fdca26"
             ],
             [
              1,
              "#f0f921"
             ]
            ],
            "type": "histogram2d"
           }
          ],
          "histogram2dcontour": [
           {
            "colorbar": {
             "outlinewidth": 0,
             "ticks": ""
            },
            "colorscale": [
             [
              0,
              "#0d0887"
             ],
             [
              0.1111111111111111,
              "#46039f"
             ],
             [
              0.2222222222222222,
              "#7201a8"
             ],
             [
              0.3333333333333333,
              "#9c179e"
             ],
             [
              0.4444444444444444,
              "#bd3786"
             ],
             [
              0.5555555555555556,
              "#d8576b"
             ],
             [
              0.6666666666666666,
              "#ed7953"
             ],
             [
              0.7777777777777778,
              "#fb9f3a"
             ],
             [
              0.8888888888888888,
              "#fdca26"
             ],
             [
              1,
              "#f0f921"
             ]
            ],
            "type": "histogram2dcontour"
           }
          ],
          "mesh3d": [
           {
            "colorbar": {
             "outlinewidth": 0,
             "ticks": ""
            },
            "type": "mesh3d"
           }
          ],
          "parcoords": [
           {
            "line": {
             "colorbar": {
              "outlinewidth": 0,
              "ticks": ""
             }
            },
            "type": "parcoords"
           }
          ],
          "pie": [
           {
            "automargin": true,
            "type": "pie"
           }
          ],
          "scatter": [
           {
            "fillpattern": {
             "fillmode": "overlay",
             "size": 10,
             "solidity": 0.2
            },
            "type": "scatter"
           }
          ],
          "scatter3d": [
           {
            "line": {
             "colorbar": {
              "outlinewidth": 0,
              "ticks": ""
             }
            },
            "marker": {
             "colorbar": {
              "outlinewidth": 0,
              "ticks": ""
             }
            },
            "type": "scatter3d"
           }
          ],
          "scattercarpet": [
           {
            "marker": {
             "colorbar": {
              "outlinewidth": 0,
              "ticks": ""
             }
            },
            "type": "scattercarpet"
           }
          ],
          "scattergeo": [
           {
            "marker": {
             "colorbar": {
              "outlinewidth": 0,
              "ticks": ""
             }
            },
            "type": "scattergeo"
           }
          ],
          "scattergl": [
           {
            "marker": {
             "colorbar": {
              "outlinewidth": 0,
              "ticks": ""
             }
            },
            "type": "scattergl"
           }
          ],
          "scattermapbox": [
           {
            "marker": {
             "colorbar": {
              "outlinewidth": 0,
              "ticks": ""
             }
            },
            "type": "scattermapbox"
           }
          ],
          "scatterpolar": [
           {
            "marker": {
             "colorbar": {
              "outlinewidth": 0,
              "ticks": ""
             }
            },
            "type": "scatterpolar"
           }
          ],
          "scatterpolargl": [
           {
            "marker": {
             "colorbar": {
              "outlinewidth": 0,
              "ticks": ""
             }
            },
            "type": "scatterpolargl"
           }
          ],
          "scatterternary": [
           {
            "marker": {
             "colorbar": {
              "outlinewidth": 0,
              "ticks": ""
             }
            },
            "type": "scatterternary"
           }
          ],
          "surface": [
           {
            "colorbar": {
             "outlinewidth": 0,
             "ticks": ""
            },
            "colorscale": [
             [
              0,
              "#0d0887"
             ],
             [
              0.1111111111111111,
              "#46039f"
             ],
             [
              0.2222222222222222,
              "#7201a8"
             ],
             [
              0.3333333333333333,
              "#9c179e"
             ],
             [
              0.4444444444444444,
              "#bd3786"
             ],
             [
              0.5555555555555556,
              "#d8576b"
             ],
             [
              0.6666666666666666,
              "#ed7953"
             ],
             [
              0.7777777777777778,
              "#fb9f3a"
             ],
             [
              0.8888888888888888,
              "#fdca26"
             ],
             [
              1,
              "#f0f921"
             ]
            ],
            "type": "surface"
           }
          ],
          "table": [
           {
            "cells": {
             "fill": {
              "color": "#EBF0F8"
             },
             "line": {
              "color": "white"
             }
            },
            "header": {
             "fill": {
              "color": "#C8D4E3"
             },
             "line": {
              "color": "white"
             }
            },
            "type": "table"
           }
          ]
         },
         "layout": {
          "annotationdefaults": {
           "arrowcolor": "#2a3f5f",
           "arrowhead": 0,
           "arrowwidth": 1
          },
          "autotypenumbers": "strict",
          "coloraxis": {
           "colorbar": {
            "outlinewidth": 0,
            "ticks": ""
           }
          },
          "colorscale": {
           "diverging": [
            [
             0,
             "#8e0152"
            ],
            [
             0.1,
             "#c51b7d"
            ],
            [
             0.2,
             "#de77ae"
            ],
            [
             0.3,
             "#f1b6da"
            ],
            [
             0.4,
             "#fde0ef"
            ],
            [
             0.5,
             "#f7f7f7"
            ],
            [
             0.6,
             "#e6f5d0"
            ],
            [
             0.7,
             "#b8e186"
            ],
            [
             0.8,
             "#7fbc41"
            ],
            [
             0.9,
             "#4d9221"
            ],
            [
             1,
             "#276419"
            ]
           ],
           "sequential": [
            [
             0,
             "#0d0887"
            ],
            [
             0.1111111111111111,
             "#46039f"
            ],
            [
             0.2222222222222222,
             "#7201a8"
            ],
            [
             0.3333333333333333,
             "#9c179e"
            ],
            [
             0.4444444444444444,
             "#bd3786"
            ],
            [
             0.5555555555555556,
             "#d8576b"
            ],
            [
             0.6666666666666666,
             "#ed7953"
            ],
            [
             0.7777777777777778,
             "#fb9f3a"
            ],
            [
             0.8888888888888888,
             "#fdca26"
            ],
            [
             1,
             "#f0f921"
            ]
           ],
           "sequentialminus": [
            [
             0,
             "#0d0887"
            ],
            [
             0.1111111111111111,
             "#46039f"
            ],
            [
             0.2222222222222222,
             "#7201a8"
            ],
            [
             0.3333333333333333,
             "#9c179e"
            ],
            [
             0.4444444444444444,
             "#bd3786"
            ],
            [
             0.5555555555555556,
             "#d8576b"
            ],
            [
             0.6666666666666666,
             "#ed7953"
            ],
            [
             0.7777777777777778,
             "#fb9f3a"
            ],
            [
             0.8888888888888888,
             "#fdca26"
            ],
            [
             1,
             "#f0f921"
            ]
           ]
          },
          "colorway": [
           "#636efa",
           "#EF553B",
           "#00cc96",
           "#ab63fa",
           "#FFA15A",
           "#19d3f3",
           "#FF6692",
           "#B6E880",
           "#FF97FF",
           "#FECB52"
          ],
          "font": {
           "color": "#2a3f5f"
          },
          "geo": {
           "bgcolor": "white",
           "lakecolor": "white",
           "landcolor": "#E5ECF6",
           "showlakes": true,
           "showland": true,
           "subunitcolor": "white"
          },
          "hoverlabel": {
           "align": "left"
          },
          "hovermode": "closest",
          "mapbox": {
           "style": "light"
          },
          "paper_bgcolor": "white",
          "plot_bgcolor": "#E5ECF6",
          "polar": {
           "angularaxis": {
            "gridcolor": "white",
            "linecolor": "white",
            "ticks": ""
           },
           "bgcolor": "#E5ECF6",
           "radialaxis": {
            "gridcolor": "white",
            "linecolor": "white",
            "ticks": ""
           }
          },
          "scene": {
           "xaxis": {
            "backgroundcolor": "#E5ECF6",
            "gridcolor": "white",
            "gridwidth": 2,
            "linecolor": "white",
            "showbackground": true,
            "ticks": "",
            "zerolinecolor": "white"
           },
           "yaxis": {
            "backgroundcolor": "#E5ECF6",
            "gridcolor": "white",
            "gridwidth": 2,
            "linecolor": "white",
            "showbackground": true,
            "ticks": "",
            "zerolinecolor": "white"
           },
           "zaxis": {
            "backgroundcolor": "#E5ECF6",
            "gridcolor": "white",
            "gridwidth": 2,
            "linecolor": "white",
            "showbackground": true,
            "ticks": "",
            "zerolinecolor": "white"
           }
          },
          "shapedefaults": {
           "line": {
            "color": "#2a3f5f"
           }
          },
          "ternary": {
           "aaxis": {
            "gridcolor": "white",
            "linecolor": "white",
            "ticks": ""
           },
           "baxis": {
            "gridcolor": "white",
            "linecolor": "white",
            "ticks": ""
           },
           "bgcolor": "#E5ECF6",
           "caxis": {
            "gridcolor": "white",
            "linecolor": "white",
            "ticks": ""
           }
          },
          "title": {
           "x": 0.05
          },
          "xaxis": {
           "automargin": true,
           "gridcolor": "white",
           "linecolor": "white",
           "ticks": "",
           "title": {
            "standoff": 15
           },
           "zerolinecolor": "white",
           "zerolinewidth": 2
          },
          "yaxis": {
           "automargin": true,
           "gridcolor": "white",
           "linecolor": "white",
           "ticks": "",
           "title": {
            "standoff": 15
           },
           "zerolinecolor": "white",
           "zerolinewidth": 2
          }
         }
        },
        "xaxis": {
         "anchor": "y",
         "domain": [
          0,
          1
         ],
         "title": {
          "text": "variable"
         }
        },
        "yaxis": {
         "anchor": "x",
         "domain": [
          0,
          1
         ],
         "title": {
          "text": "value"
         }
        }
       }
      }
     },
     "metadata": {},
     "output_type": "display_data"
    }
   ],
   "source": [
    "diagramm = px.box(preise)\n",
    "diagramm.show()"
   ]
  },
  {
   "cell_type": "code",
   "execution_count": 16,
   "metadata": {},
   "outputs": [
    {
     "name": "stdout",
     "output_type": "stream",
     "text": [
      "Audi Nr. 1        1999\n",
      "Audi Nr. 2       35990\n",
      "Audi Nr. 3       17850\n",
      "BMW Nr. 1        46830\n",
      "BMW Nr. 2        27443\n",
      "Citroen Nr. 1    14240\n",
      "Citroen Nr. 2    19950\n",
      "Citroen Nr. 3    15950\n",
      "Citroen Nr. 4    21990\n",
      "Citroen Nr. 5    12450\n",
      "dtype: int64\n"
     ]
    }
   ],
   "source": [
    "print(preise)"
   ]
  },
  {
   "cell_type": "code",
   "execution_count": 17,
   "metadata": {},
   "outputs": [],
   "source": [
    "preise.to_csv('autoscout24_xxs_preise.csv', header=True, index_label='Auto ID')"
   ]
  },
  {
   "cell_type": "markdown",
   "metadata": {},
   "source": [
    "## Übersetzung der englischen Begriffe "
   ]
  },
  {
   "cell_type": "code",
   "execution_count": 18,
   "metadata": {},
   "outputs": [
    {
     "name": "stdout",
     "output_type": "stream",
     "text": [
      "<class 'pandas.core.frame.DataFrame'>\n",
      "Int64Index: 251079 entries, 0 to 251078\n",
      "Data columns (total 14 columns):\n",
      " #   Column                    Non-Null Count   Dtype  \n",
      "---  ------                    --------------   -----  \n",
      " 0   brand                     251079 non-null  object \n",
      " 1   model                     251079 non-null  object \n",
      " 2   color                     250913 non-null  object \n",
      " 3   registration_date         251075 non-null  object \n",
      " 4   year                      251079 non-null  object \n",
      " 5   price_in_euro             251079 non-null  object \n",
      " 6   power_kw                  250945 non-null  object \n",
      " 7   power_ps                  250950 non-null  object \n",
      " 8   transmission_type         251079 non-null  object \n",
      " 9   fuel_type                 251079 non-null  object \n",
      " 10  fuel_consumption_l_100km  224206 non-null  object \n",
      " 11  fuel_consumption_g_km     251079 non-null  object \n",
      " 12  mileage_in_km             250927 non-null  float64\n",
      " 13  offer_description         251078 non-null  object \n",
      "dtypes: float64(1), object(13)\n",
      "memory usage: 28.7+ MB\n"
     ]
    }
   ],
   "source": [
    "data_DE = data_raw.copy()\n",
    "data_DE.info()"
   ]
  },
  {
   "cell_type": "code",
   "execution_count": 19,
   "metadata": {},
   "outputs": [
    {
     "name": "stdout",
     "output_type": "stream",
     "text": [
      "<class 'pandas.core.frame.DataFrame'>\n",
      "Int64Index: 251079 entries, 0 to 251078\n",
      "Data columns (total 14 columns):\n",
      " #   Column                Non-Null Count   Dtype  \n",
      "---  ------                --------------   -----  \n",
      " 0   Marke                 251079 non-null  object \n",
      " 1   Modell                251079 non-null  object \n",
      " 2   Farbe                 250913 non-null  object \n",
      " 3   Erstzulassung         251075 non-null  object \n",
      " 4   Jahr                  251079 non-null  object \n",
      " 5   Preis (Euro)          251079 non-null  object \n",
      " 6   Leistung (kW)         250945 non-null  object \n",
      " 7   Leistung (PS)         250950 non-null  object \n",
      " 8   Getriebe              251079 non-null  object \n",
      " 9   Kraftstoff            251079 non-null  object \n",
      " 10  Verbrauch (l/100 km)  224206 non-null  object \n",
      " 11  Verbrauch (g/km)      251079 non-null  object \n",
      " 12  Kilometerstand (km)   250927 non-null  float64\n",
      " 13  Bemerkungen           251078 non-null  object \n",
      "dtypes: float64(1), object(13)\n",
      "memory usage: 28.7+ MB\n"
     ]
    }
   ],
   "source": [
    "translation_columns = {'brand': 'Marke', \n",
    "               'model': 'Modell', \n",
    "               'color': 'Farbe', \n",
    "               'registration_date': 'Erstzulassung',\n",
    "               'year': 'Jahr',\n",
    "               'price_in_euro': 'Preis (Euro)',\n",
    "               'power_kw': 'Leistung (kW)',\n",
    "               'power_ps': 'Leistung (PS)',\n",
    "               'transmission_type': 'Getriebe',\n",
    "               'fuel_type': 'Kraftstoff',\n",
    "               'fuel_consumption_l_100km': 'Verbrauch (l/100 km)',\n",
    "               'fuel_consumption_g_km': 'Verbrauch (g/km)',\n",
    "               'mileage_in_km': 'Kilometerstand (km)',\n",
    "               'offer_description': 'Bemerkungen'}\n",
    "translation_colors = {\n",
    "    'red': 'rot', \n",
    "    'black': 'schwarz',\n",
    "    'silver': 'silber', \n",
    "    'grey': 'grau', \n",
    "    'white': 'weiß', \n",
    "    'beige': 'beige', \n",
    "    'blue': 'blau',\n",
    "    'green': 'grün', \n",
    "    'yellow': 'gelb', \n",
    "    'gold': 'gold', \n",
    "    'brown': 'braun', \n",
    "    'bronze': 'bronze', \n",
    "    'violet': 'violett', \n",
    "    'orange': 'orange'    \n",
    "}\n",
    "\n",
    "data_DE.rename(columns=translation_columns, inplace=True)\n",
    "data_DE.info()\n"
   ]
  },
  {
   "cell_type": "code",
   "execution_count": 20,
   "metadata": {},
   "outputs": [
    {
     "data": {
      "text/plain": [
       "array(['red', 'black', 'silver', 'grey', 'white', 'beige', 'blue',\n",
       "       'green', 'yellow', 'gold', 'brown', 'bronze', 'violet', 'orange',\n",
       "       nan], dtype=object)"
      ]
     },
     "execution_count": 20,
     "metadata": {},
     "output_type": "execute_result"
    }
   ],
   "source": [
    "data_DE['Farbe'].unique()"
   ]
  },
  {
   "cell_type": "code",
   "execution_count": 21,
   "metadata": {},
   "outputs": [
    {
     "data": {
      "text/plain": [
       "array(['rot', 'schwarz', 'silber', 'grau', 'weiß', 'beige', 'blau',\n",
       "       'grün', 'gelb', 'gold', 'braun', 'bronze', 'violett', 'orange',\n",
       "       nan], dtype=object)"
      ]
     },
     "execution_count": 21,
     "metadata": {},
     "output_type": "execute_result"
    }
   ],
   "source": [
    "data_DE.replace(translation_colors.keys(), translation_colors.values(), inplace=True)\n",
    "data_DE['Farbe'].unique()"
   ]
  },
  {
   "cell_type": "code",
   "execution_count": 22,
   "metadata": {},
   "outputs": [
    {
     "data": {
      "text/plain": [
       "array(['Manual', 'Unknown', 'Automatic', 'Semi-automatic'], dtype=object)"
      ]
     },
     "execution_count": 22,
     "metadata": {},
     "output_type": "execute_result"
    }
   ],
   "source": [
    "data_DE['Getriebe'].unique()"
   ]
  },
  {
   "cell_type": "code",
   "execution_count": 23,
   "metadata": {},
   "outputs": [
    {
     "data": {
      "text/plain": [
       "array(['Schaltgetriebe', 'keine Angabe', 'Automatik', 'Halbautomatik'],\n",
       "      dtype=object)"
      ]
     },
     "execution_count": 23,
     "metadata": {},
     "output_type": "execute_result"
    }
   ],
   "source": [
    "data_DE.replace(['Manual', 'Unknown', 'Automatic', 'Semi-automatic'],\n",
    "                ['Schaltgetriebe', 'keine Angabe', 'Automatik', 'Halbautomatik'],\n",
    "                inplace=True)\n",
    "\n",
    "data_DE['Getriebe'].unique()\n"
   ]
  },
  {
   "cell_type": "code",
   "execution_count": 24,
   "metadata": {},
   "outputs": [
    {
     "data": {
      "text/plain": [
       "array(['Benzin', 'Diesel', 'Hybrid', 'Autogas (LPG)', 'Sonstige',\n",
       "       '07/2004', '74.194 km', '110.250 km', '06/2014', 'Autogas (CNG)',\n",
       "       'Hybrid (Elektro/Diesel)', '12/2016', 'Automatik', 'Elektro',\n",
       "       '12/2019', 'keine Angabe', '06/2023', 'Ethanol', 'Schaltgetriebe',\n",
       "       '300.000 km', '264.000 km', 'KETTE NEUE', '108.313 km', '05/2009',\n",
       "       '180.000 km', '04/2013', '03/2014', '08/2014', '01/2016',\n",
       "       '03/2017', '04/2008', '07/2007', '145.500 km', '12/2012', '25890',\n",
       "       '10/2022', '06/2004', '09/2009', '12/2014', '02/2017', '12890',\n",
       "       '11/2018', '08/2018', '03/2019', '19450', '11/2021', '20.600 km',\n",
       "       'Wasserstoff', '07/2022', '05/2015', '03/2018', '04/2022',\n",
       "       '160.629 km', '144.919 km', '02/1996', '04/2000', '200.000 km',\n",
       "       '06/2009', '185.500 km', '13000', '05/2012', '11/2014', '10/2015',\n",
       "       '350.000 km', '49.817 km', '34900', '35.487 km', '03/2021',\n",
       "       '26890', '26990', '4.000 km', '11/2005', '07/2005', '08/2011',\n",
       "       '02/2011', '03/2011', '10/2013', '09/2015', '02/2018', '02/2023',\n",
       "       '08/2017', '99.900 km', '67780', '30.450 km', '62.880 km',\n",
       "       '116490', '119890', '29.990 km', '39.990 km', '13.610 km',\n",
       "       '139890', '179990', '9.900 km', '6.900 km', '9.870 km',\n",
       "       '25.600 km', '37.500 km', '13750', '01/2021', '05/2021',\n",
       "       '42.300 km', '08/2013', '02/2013', '04/2017', '11/2017',\n",
       "       '83.034 km', '70.300 km', '1.000 km', '01/2022', 'FSE', '40919',\n",
       "       '05/2023', '02/2009', 'DAB', '09/2019', '08/2019', '12.300 km',\n",
       "       '18790', '11/2022', '04/2023', '03/2023', '01/2023', '07/1999',\n",
       "       '02/2002', '08/2007', '05/2007', '6500', '9350', 'KD GEPL',\n",
       "       '07/2015', '41600', '14900', '09/2017', '06/2017', '06/2018',\n",
       "       '06/2020'], dtype=object)"
      ]
     },
     "execution_count": 24,
     "metadata": {},
     "output_type": "execute_result"
    }
   ],
   "source": [
    "\n",
    "\n",
    "translation_fuel_type = {\n",
    "    'Petrol': 'Benzin',\n",
    "    'Diesel': 'Diesel', \n",
    "    'Hybrid': 'Hybrid',\n",
    "    'LPG': 'Autogas (LPG)',\n",
    "    'Other': 'Sonstige',\n",
    "    'CNG': 'Autogas (CNG)',\n",
    "    'Diesel Hybrid': 'Hybrid (Elektro/Diesel)',\n",
    "    'Electric': 'Elektro',\n",
    "    'Ethanol': 'Ethanol',\n",
    "    'Hydrogen': 'Wasserstoff'\n",
    "}\n",
    "\n",
    "data_DE.replace(translation_fuel_type.keys(), translation_fuel_type.values(), inplace=True)\n",
    "data_DE['Kraftstoff'].unique()"
   ]
  },
  {
   "cell_type": "code",
   "execution_count": 25,
   "metadata": {},
   "outputs": [],
   "source": [
    "#data_DE.to_csv('autoscout24_DE.csv')"
   ]
  },
  {
   "cell_type": "code",
   "execution_count": 63,
   "metadata": {},
   "outputs": [],
   "source": [
    "data2020 = data_DE.loc[ data_DE['Jahr'] == '2020', :].copy()"
   ]
  },
  {
   "cell_type": "code",
   "execution_count": 31,
   "metadata": {},
   "outputs": [],
   "source": [
    "# data2020.to_csv('autoscout24_DE_2020.csv', index=False)"
   ]
  },
  {
   "cell_type": "code",
   "execution_count": 51,
   "metadata": {},
   "outputs": [
    {
     "name": "stdout",
     "output_type": "stream",
     "text": [
      "Die Spalte/Eigenschaft Marke hat 41 Kategorien.\n",
      "Die Spalte/Eigenschaft Modell hat 561 Kategorien.\n",
      "Die Spalte/Eigenschaft Farbe hat 15 Kategorien.\n",
      "Die Spalte/Eigenschaft Erstzulassung hat 12 Kategorien.\n",
      "Die Spalte/Eigenschaft Jahr hat 1 Kategorien.\n",
      "Die Spalte/Eigenschaft Preis (Euro) hat 4926 Kategorien.\n",
      "Die Spalte/Eigenschaft Leistung (kW) hat 260 Kategorien.\n",
      "Die Spalte/Eigenschaft Leistung (PS) hat 260 Kategorien.\n",
      "Die Spalte/Eigenschaft Getriebe hat 4 Kategorien.\n",
      "Die Spalte/Eigenschaft Kraftstoff hat 10 Kategorien.\n",
      "Die Spalte/Eigenschaft Verbrauch (l/100 km) hat 238 Kategorien.\n",
      "Die Spalte/Eigenschaft Verbrauch (g/km) hat 616 Kategorien.\n",
      "Die Spalte/Eigenschaft Kilometerstand (km) hat 10730 Kategorien.\n",
      "Die Spalte/Eigenschaft Bemerkungen hat 16547 Kategorien.\n",
      "Total number of cars: 18566\n"
     ]
    }
   ],
   "source": [
    "for col in data2020.columns:\n",
    "    anzahl_kategorien = len(data2020[col].unique())\n",
    "    print(f'Die Spalte/Eigenschaft {col} hat {anzahl_kategorien} Kategorien.')\n",
    "print(f'Total number of cars: {data2020.shape[0]}')"
   ]
  },
  {
   "cell_type": "code",
   "execution_count": 44,
   "metadata": {},
   "outputs": [
    {
     "name": "stdout",
     "output_type": "stream",
     "text": [
      "['134 g/km' '- (g/km)' '182 g/km' '161 g/km' '138 g/km' '0 g/km'\n",
      " '178 g/km' '145 g/km' '144 g/km' '157 g/km' '150 g/km' '229 g/km'\n",
      " '165 g/km' '254 g/km' '160 g/km' '158 g/km' '131 g/km' '136 g/km'\n",
      " '142 g/km' '222 g/km' '214 g/km' '227 g/km' '207 g/km' '211 g/km'\n",
      " '149 g/km' '155 g/km' '185 g/km' '170 g/km' '164 g/km' '261 g/km'\n",
      " '243 g/km' '175 g/km' '171 g/km' '186 g/km' '167 g/km' '130 g/km'\n",
      " '236 g/km' '269 g/km' '230 g/km' '257 g/km' '305 g/km' '285 g/km'\n",
      " '306 g/km' '263 g/km' '197 g/km' '194 g/km' '151 g/km' '114 g/km'\n",
      " '118 g/km' '43 g/km' '177 g/km' '156 g/km' '152 g/km' '193 g/km'\n",
      " '52 km Reichweite' '113 g/km' '137 g/km' '371 km Reichweite'\n",
      " '45 km Reichweite' '276 km Reichweite' '38 g/km' '36 g/km' '120 g/km'\n",
      " '199 g/km' '163 g/km' '344 km Reichweite' '168 g/km' '212 g/km'\n",
      " '189 g/km' '216 g/km' '129 g/km' '166 g/km' '49 g/km' '208 g/km'\n",
      " '122 g/km' '140 g/km' '258 g/km' '47 g/km' '132 g/km' '203 g/km'\n",
      " '117 g/km' '162 g/km' '223 g/km' '44 g/km' '220 g/km' '190 g/km'\n",
      " '188 g/km' '115 g/km' '76 g/km' '173 g/km' '215 g/km' '136,4 g/km'\n",
      " '139 g/km' '172 g/km' '46 g/km' '181,3 g/km' '139,4 g/km' '209 g/km'\n",
      " '53 g/km' '394 km Reichweite' '112 g/km' '174 g/km' '277 g/km' '217 g/km'\n",
      " '347 km Reichweite' '359 km Reichweite' '42 g/km' '280 km Reichweite'\n",
      " '199,4 g/km' '250 g/km' '39 km Reichweite' '116 g/km' '249 g/km'\n",
      " '35 g/km' '221 g/km' '69 g/km' '111 g/km' '65 km Reichweite' '105 g/km'\n",
      " '31 g/km' '143 g/km' '141,9 g/km' '119 g/km' '226 g/km' '159 g/km'\n",
      " '153 g/km' '184 g/km' '154 g/km' '218 g/km' '55 g/km' '181 g/km'\n",
      " '179 g/km' '225 g/km' '231 g/km' '124 g/km' '53 km Reichweite' '123 g/km'\n",
      " '41 g/km' '46 km Reichweite' '128 g/km' '265 g/km' '268 g/km' '281 g/km'\n",
      " '204 g/km' '369 km Reichweite' '224 g/km' '110 g/km' '277 km Reichweite'\n",
      " '239 g/km' '200 g/km' '121,7 g/km' '250,9 g/km' '221,6 g/km' '226,5 g/km'\n",
      " '288,5 g/km' '98 g/km' '50 km Reichweite' '183 g/km' '37 km Reichweite'\n",
      " '187 g/km' '48 g/km' '177,1 g/km' '238 g/km' '121 g/km'\n",
      " '43 km Reichweite' '290 g/km' '103 g/km' '205 g/km' '178,8 g/km'\n",
      " '313 g/km' '253 g/km' '54 g/km' '106 g/km' '192 g/km' '127 g/km'\n",
      " '129,6 g/km' '108 g/km' '190 km Reichweite' '146 g/km' '109 g/km'\n",
      " '241,6 g/km' '391 km Reichweite' '147 g/km' '133 g/km' '45 g/km'\n",
      " '132,1 g/km' '224,2 g/km' '100 g/km' '169 g/km' '219 g/km' '148 g/km'\n",
      " '220,7 g/km' '135 g/km' '104 g/km' '202 g/km' '206 g/km' '56 g/km'\n",
      " '101 g/km' '137,4 g/km' '143,1 g/km' '137,1 g/km' '125 g/km' '51 g/km'\n",
      " '152,9 g/km' '198 g/km' '340 km Reichweite' '201 g/km' '107 g/km'\n",
      " '378 km Reichweite' '92 g/km' '37 g/km' '154,4 g/km' '189,4 g/km'\n",
      " '154,1 g/km' '184,4 g/km' '293 g/km' '180 g/km' '84 g/km' '311 g/km'\n",
      " '34 g/km' '216,8 g/km' '302 km Reichweite' '195 g/km' '153,6 g/km'\n",
      " '241 g/km' '234 g/km' '320 km Reichweite' '141 g/km' '96 g/km' '176 g/km'\n",
      " '276 g/km' '213 g/km' '304 g/km' '347 g/km' '284 g/km' '260 g/km'\n",
      " '270 g/km' '320 g/km' '278 g/km' '82 g/km' '350 g/km' '365 g/km'\n",
      " '255 g/km' '282 km Reichweite' '289 km Reichweite' '39 g/km'\n",
      " '278 km Reichweite' '50 g/km' '237 g/km' '242 g/km' '345 km Reichweite'\n",
      " '246 g/km' '99 g/km' '300 km Reichweite' '262 g/km' '32 g/km'\n",
      " '284 km Reichweite' '308 km Reichweite' '58 km Reichweite' '240 g/km'\n",
      " '281 km Reichweite' '550 km Reichweite' '296 g/km' '30 g/km' '248 g/km'\n",
      " '59 km Reichweite' '283 km Reichweite' '41 km Reichweite' '210 g/km'\n",
      " '60 km Reichweite' '314 g/km' '191 g/km' '87 km Reichweite' '57 g/km'\n",
      " '126 g/km' '462 km Reichweite' '58 g/km' '62 km Reichweite'\n",
      " '51 km Reichweite' '306 km Reichweite' '40 g/km' '225 km Reichweite'\n",
      " '49 km Reichweite' '292 g/km' '308 g/km' '252 g/km' '283 g/km' '97 g/km'\n",
      " '85 g/km' '102 g/km' '-/-' '499 km Reichweite' '230 km Reichweite'\n",
      " '86 g/km' '215 km Reichweite' '33 g/km' '110 km Reichweite'\n",
      " '450 km Reichweite' '325 g/km' '387 g/km' '328 g/km' '318 g/km'\n",
      " '297 g/km' '286 g/km' '332 g/km' '340 g/km' '289 g/km' '282 g/km'\n",
      " '273 g/km' '266 g/km' '245 g/km' '294 g/km' '93 g/km' '83 g/km' '88 g/km'\n",
      " '89 g/km' '249 km Reichweite' '94 g/km' '66 g/km' '26 g/km' '95 g/km'\n",
      " '90 g/km' '200 km Reichweite' '70 g/km' '40 km Reichweite' '1.020 g/km'\n",
      " '233 g/km' '999 g/km' '232 g/km' '70 km Reichweite' '399 g/km' '287 g/km'\n",
      " '312 g/km' '505 km Reichweite' '256 g/km' '400 km Reichweite'\n",
      " '56 km Reichweite' '264 g/km' '33 km Reichweite' '71 g/km'\n",
      " '540 km Reichweite' '251 g/km' '244 g/km' '222 km Reichweite'\n",
      " '210 km Reichweite' '250 km Reichweite' '1 g/km' '484 km Reichweite'\n",
      " '395 km Reichweite' '305 km Reichweite' '449 km Reichweite'\n",
      " '480 km Reichweite' '101,5 g/km' '466 km Reichweite' '260 km Reichweite'\n",
      " '460 km Reichweite' '310 km Reichweite' '318 km Reichweite' '272 g/km'\n",
      " '441 km Reichweite' '409 km Reichweite' '196 g/km' '470 km Reichweite'\n",
      " '315 g/km' '228 g/km' '338 g/km' '395 g/km' '418 g/km'\n",
      " '455 km Reichweite' '29 g/km' '464 km Reichweite' '139,5 g/km'\n",
      " '203 km Reichweite' '28 g/km' '63 km Reichweite' '247 g/km'\n",
      " '42 km Reichweite' '452 km Reichweite' '57 km Reichweite' '486 g/km'\n",
      " '4 g/km' '331 g/km' '335 g/km' '499 g/km' '452 g/km' '330 g/km' '73 g/km'\n",
      " '75 g/km' '298 g/km' '72 g/km' '291 g/km' '329 g/km' '64 km Reichweite'\n",
      " '275 g/km' '303 g/km' '302 g/km' '362 g/km' '267 g/km' '299 g/km'\n",
      " '412 km Reichweite' '52 g/km' '404 km Reichweite' '413 km Reichweite'\n",
      " '62 g/km' '25 g/km' '44 km Reichweite' '73 km Reichweite' '271 g/km'\n",
      " '48 km Reichweite' '71 km Reichweite' '23 g/km' '67 km Reichweite'\n",
      " '339 km Reichweite' '38 km Reichweite' '279 g/km' '402 km Reichweite'\n",
      " '18 g/km' '54 km Reichweite' '61 km Reichweite' '68 km Reichweite'\n",
      " '343 g/km' '69 km Reichweite' '55 km Reichweite' '274 g/km'\n",
      " '408 km Reichweite' '280 g/km' '226 km Reichweite' '233 km Reichweite'\n",
      " '270 km Reichweite' '234 km Reichweite' '32 km Reichweite'\n",
      " '47 km Reichweite' '231 km Reichweite' '229 km Reichweite'\n",
      " '242 km Reichweite' '228 km Reichweite' '81 g/km' '385 km Reichweite'\n",
      " '300 g/km' '544 km Reichweite' '259 g/km' '322 g/km' '337 km Reichweite'\n",
      " '87 g/km' '330 km Reichweite' '353 km Reichweite' '319 km Reichweite'\n",
      " '388 km Reichweite' '317 g/km' '310 g/km' '461 km Reichweite'\n",
      " '407 km Reichweite' '372 km Reichweite' '333 km Reichweite'\n",
      " '417 km Reichweite' '235 g/km' '64 g/km' '365 km Reichweite'\n",
      " '370 km Reichweite' '382 km Reichweite' '101 km Reichweite'\n",
      " '386 km Reichweite' '240 km Reichweite' '91 g/km' '360 km Reichweite'\n",
      " '3 g/km' '423 km Reichweite' '384 km Reichweite' '153,1 g/km'\n",
      " '171,4 g/km' '27 g/km' '145,6 g/km' '172,4 g/km' '124,4 g/km'\n",
      " '139,6 g/km' '104,5 g/km' '259 km Reichweite' '146,2 g/km' '134,5 g/km'\n",
      " '134,9 g/km' '124,7 g/km' '134,3 g/km' '171,1 g/km' '144,1 g/km'\n",
      " '137,9 g/km' '130,4 g/km' '72 km Reichweite' '141,1 g/km' '124,3 g/km'\n",
      " '181,4 g/km' '123,9 g/km' '208,3 g/km' '251 km Reichweite'\n",
      " '493 km Reichweite' '139,1 g/km' '133,1 g/km' '189,7 g/km' '152,7 g/km'\n",
      " '193,9 g/km' '129,4 g/km' '174,1 g/km' '182,2 g/km' '171,5 g/km'\n",
      " '151,4 g/km' '155,3 g/km' '155,5 g/km' '134,2 g/km' '123,7 g/km'\n",
      " '181,5 g/km' '158,4 g/km' '175,1 g/km' '188,6 g/km' '127,7 g/km'\n",
      " '174,6 g/km' '313 km Reichweite' '142,7 g/km' '142,9 g/km' '155,8 g/km'\n",
      " '155,6 g/km' '186,5 g/km' '548 km Reichweite' '174,4 g/km' '135,4 g/km'\n",
      " '257 km Reichweite' '134,4 g/km' '142,4 g/km' '420 km Reichweite'\n",
      " '254 km Reichweite' '132,8 g/km' '162,9 g/km' '66 km Reichweite'\n",
      " '188,8 g/km' '136,5 g/km' '123,6 g/km' '118,9 g/km' '208,5 g/km'\n",
      " '136,3 g/km' '167.163 g/km' '142,8 g/km' '192 km Reichweite'\n",
      " '122 km Reichweite' '153 km Reichweite' '150 km Reichweite'\n",
      " '133 km Reichweite' '100 km (Ort)' '128 km Reichweite'\n",
      " '132 km Reichweite' '124 km Reichweite' '130 km Reichweite'\n",
      " '126 km Reichweite' '117 km Reichweite' '123 km Reichweite'\n",
      " '75 km Reichweite' '22 g/km' '9 g/km' '68 g/km' '1.190 g/km'\n",
      " '399 km Reichweite' '479 km Reichweite' '256 km Reichweite' '128,1 g/km'\n",
      " '63 g/km' '424 km Reichweite' '139,7 g/km' '168,3 g/km' '23,6 g/km'\n",
      " '405 km Reichweite' '1 km Reichweite' '205,5 g/km' '21 g/km' '146,6 g/km'\n",
      " '145,4 g/km' '149,8 g/km' '207,6 g/km' '192,4 g/km' '419 km Reichweite'\n",
      " '258 km Reichweite' '158,6 g/km' '186,6 g/km' '148,3 g/km' '23,4 g/km'\n",
      " '530 km Reichweite' '341 g/km' '193,1 g/km' '124,1 g/km' '167,9 g/km'\n",
      " '121,2 g/km' '123,8 g/km' '160,3 g/km' '130,8 g/km' '156,6 g/km'\n",
      " '222,3 g/km' '151,5 g/km' '184,5 g/km' '148,5 g/km' '154,8 g/km'\n",
      " '168,7 g/km' '160,5 g/km' '145,2 g/km' '241,2 g/km' '162,8 g/km'\n",
      " '134,8 g/km' '232 km Reichweite' '133,9 g/km' '152,1 g/km' '131,1 g/km'\n",
      " '144,5 g/km' '137,5 g/km' '198,1 g/km' '159,7 g/km' '221 km Reichweite'\n",
      " '126,2 g/km' '170 km Reichweite' '67 g/km' '60 g/km' '91 km Reichweite']\n"
     ]
    }
   ],
   "source": [
    "print(data2020['Verbrauch (g/km)'].unique())"
   ]
  },
  {
   "cell_type": "code",
   "execution_count": 53,
   "metadata": {},
   "outputs": [
    {
     "data": {
      "text/plain": [
       "ford             1632\n",
       "opel             1538\n",
       "skoda            1518\n",
       "seat             1492\n",
       "mercedes-benz    1454\n",
       "volkswagen       1359\n",
       "audi             1190\n",
       "bmw              1039\n",
       "toyota            783\n",
       "mini              621\n",
       "volvo             572\n",
       "renault           558\n",
       "fiat              493\n",
       "kia               491\n",
       "citroen           446\n",
       "hyundai           431\n",
       "land-rover        415\n",
       "peugeot           361\n",
       "jaguar            317\n",
       "nissan            312\n",
       "dacia             268\n",
       "mazda             250\n",
       "jeep              190\n",
       "porsche           169\n",
       "mitsubishi        105\n",
       "alfa-romeo         88\n",
       "dodge              77\n",
       "honda              68\n",
       "maserati           61\n",
       "ferrari            54\n",
       "lamborghini        50\n",
       "smart              48\n",
       "bentley            41\n",
       "chevrolet          26\n",
       "ssangyong          17\n",
       "aston-martin       16\n",
       "lada                7\n",
       "isuzu               3\n",
       "infiniti            3\n",
       "rover               2\n",
       "cadillac            1\n",
       "Name: Marke, dtype: int64"
      ]
     },
     "execution_count": 53,
     "metadata": {},
     "output_type": "execute_result"
    }
   ],
   "source": [
    "data2020['Marke'].value_counts()"
   ]
  },
  {
   "cell_type": "code",
   "execution_count": 64,
   "metadata": {},
   "outputs": [
    {
     "name": "stdout",
     "output_type": "stream",
     "text": [
      "<class 'pandas.core.frame.DataFrame'>\n",
      "Int64Index: 18566 entries, 845 to 250182\n",
      "Data columns (total 14 columns):\n",
      " #   Column                Non-Null Count  Dtype  \n",
      "---  ------                --------------  -----  \n",
      " 0   Marke                 18566 non-null  object \n",
      " 1   Modell                18566 non-null  object \n",
      " 2   Farbe                 18546 non-null  object \n",
      " 3   Erstzulassung         18566 non-null  object \n",
      " 4   Jahr                  18566 non-null  object \n",
      " 5   Preis (Euro)          18566 non-null  object \n",
      " 6   Leistung (kW)         18552 non-null  object \n",
      " 7   Leistung (PS)         18552 non-null  object \n",
      " 8   Getriebe              18566 non-null  object \n",
      " 9   Kraftstoff            18566 non-null  object \n",
      " 10  Verbrauch (l/100 km)  15501 non-null  object \n",
      " 11  Verbrauch (g/km)      18566 non-null  object \n",
      " 12  Kilometerstand (km)   18566 non-null  float64\n",
      " 13  Bemerkungen           18566 non-null  object \n",
      "dtypes: float64(1), object(13)\n",
      "memory usage: 2.1+ MB\n"
     ]
    }
   ],
   "source": [
    "data2020.info()"
   ]
  },
  {
   "cell_type": "code",
   "execution_count": 69,
   "metadata": {},
   "outputs": [
    {
     "name": "stdout",
     "output_type": "stream",
     "text": [
      "<class 'pandas.core.frame.DataFrame'>\n",
      "RangeIndex: 18566 entries, 0 to 18565\n",
      "Data columns (total 14 columns):\n",
      " #   Column                Non-Null Count  Dtype  \n",
      "---  ------                --------------  -----  \n",
      " 0   Marke                 18566 non-null  object \n",
      " 1   Modell                18566 non-null  object \n",
      " 2   Farbe                 18546 non-null  object \n",
      " 3   Erstzulassung         18566 non-null  object \n",
      " 4   Jahr                  18566 non-null  int64  \n",
      " 5   Preis (Euro)          18566 non-null  int64  \n",
      " 6   Leistung (kW)         18552 non-null  float64\n",
      " 7   Leistung (PS)         18552 non-null  float64\n",
      " 8   Getriebe              18566 non-null  object \n",
      " 9   Kraftstoff            18566 non-null  object \n",
      " 10  Verbrauch (l/100 km)  15501 non-null  object \n",
      " 11  Verbrauch (g/km)      18566 non-null  object \n",
      " 12  Kilometerstand (km)   18566 non-null  float64\n",
      " 13  Bemerkungen           18566 non-null  object \n",
      "dtypes: float64(3), int64(2), object(9)\n",
      "memory usage: 2.0+ MB\n"
     ]
    }
   ],
   "source": [
    "data2020 = pd.read_csv('autoscout24_DE_2020.csv')\n",
    "data2020.info()"
   ]
  },
  {
   "cell_type": "code",
   "execution_count": 70,
   "metadata": {},
   "outputs": [
    {
     "data": {
      "text/html": [
       "<div>\n",
       "<style scoped>\n",
       "    .dataframe tbody tr th:only-of-type {\n",
       "        vertical-align: middle;\n",
       "    }\n",
       "\n",
       "    .dataframe tbody tr th {\n",
       "        vertical-align: top;\n",
       "    }\n",
       "\n",
       "    .dataframe thead th {\n",
       "        text-align: right;\n",
       "    }\n",
       "</style>\n",
       "<table border=\"1\" class=\"dataframe\">\n",
       "  <thead>\n",
       "    <tr style=\"text-align: right;\">\n",
       "      <th></th>\n",
       "      <th>Marke</th>\n",
       "      <th>Modell</th>\n",
       "      <th>Farbe</th>\n",
       "    </tr>\n",
       "  </thead>\n",
       "  <tbody>\n",
       "    <tr>\n",
       "      <th>count</th>\n",
       "      <td>18566</td>\n",
       "      <td>18566</td>\n",
       "      <td>18546</td>\n",
       "    </tr>\n",
       "    <tr>\n",
       "      <th>unique</th>\n",
       "      <td>41</td>\n",
       "      <td>561</td>\n",
       "      <td>14</td>\n",
       "    </tr>\n",
       "    <tr>\n",
       "      <th>top</th>\n",
       "      <td>ford</td>\n",
       "      <td>SEAT Leon</td>\n",
       "      <td>schwarz</td>\n",
       "    </tr>\n",
       "    <tr>\n",
       "      <th>freq</th>\n",
       "      <td>1632</td>\n",
       "      <td>602</td>\n",
       "      <td>3612</td>\n",
       "    </tr>\n",
       "  </tbody>\n",
       "</table>\n",
       "</div>"
      ],
      "text/plain": [
       "        Marke     Modell    Farbe\n",
       "count   18566      18566    18546\n",
       "unique     41        561       14\n",
       "top      ford  SEAT Leon  schwarz\n",
       "freq     1632        602     3612"
      ]
     },
     "execution_count": 70,
     "metadata": {},
     "output_type": "execute_result"
    }
   ],
   "source": [
    "data2020[['Marke', 'Modell', 'Farbe']].describe()"
   ]
  }
 ],
 "metadata": {
  "kernelspec": {
   "display_name": "python310",
   "language": "python",
   "name": "python3"
  },
  "language_info": {
   "codemirror_mode": {
    "name": "ipython",
    "version": 3
   },
   "file_extension": ".py",
   "mimetype": "text/x-python",
   "name": "python",
   "nbconvert_exporter": "python",
   "pygments_lexer": "ipython3",
   "version": "3.10.11"
  },
  "orig_nbformat": 4
 },
 "nbformat": 4,
 "nbformat_minor": 2
}
