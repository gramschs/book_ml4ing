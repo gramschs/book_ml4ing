{
 "cells": [
  {
   "cell_type": "code",
   "execution_count": 3,
   "metadata": {},
   "outputs": [],
   "source": [
    "import pandas as pd"
   ]
  },
  {
   "cell_type": "code",
   "execution_count": 2,
   "metadata": {},
   "outputs": [],
   "source": [
    "data_raw = pd.read_csv('used_cars_germany_2023_original.csv', index_col=0)"
   ]
  },
  {
   "cell_type": "code",
   "execution_count": 3,
   "metadata": {},
   "outputs": [
    {
     "name": "stdout",
     "output_type": "stream",
     "text": [
      "<class 'pandas.core.frame.DataFrame'>\n",
      "Int64Index: 251079 entries, 0 to 251078\n",
      "Data columns (total 14 columns):\n",
      " #   Column                    Non-Null Count   Dtype  \n",
      "---  ------                    --------------   -----  \n",
      " 0   brand                     251079 non-null  object \n",
      " 1   model                     251079 non-null  object \n",
      " 2   color                     250913 non-null  object \n",
      " 3   registration_date         251075 non-null  object \n",
      " 4   year                      251079 non-null  object \n",
      " 5   price_in_euro             251079 non-null  object \n",
      " 6   power_kw                  250945 non-null  object \n",
      " 7   power_ps                  250950 non-null  object \n",
      " 8   transmission_type         251079 non-null  object \n",
      " 9   fuel_type                 251079 non-null  object \n",
      " 10  fuel_consumption_l_100km  224206 non-null  object \n",
      " 11  fuel_consumption_g_km     251079 non-null  object \n",
      " 12  mileage_in_km             250927 non-null  float64\n",
      " 13  offer_description         251078 non-null  object \n",
      "dtypes: float64(1), object(13)\n",
      "memory usage: 28.7+ MB\n"
     ]
    }
   ],
   "source": [
    "data_raw.info()"
   ]
  },
  {
   "cell_type": "code",
   "execution_count": 4,
   "metadata": {},
   "outputs": [
    {
     "data": {
      "text/plain": [
       "volkswagen       33281\n",
       "mercedes-benz    27226\n",
       "audi             21161\n",
       "opel             20388\n",
       "bmw              19810\n",
       "ford             18790\n",
       "skoda            14039\n",
       "seat             11949\n",
       "renault           8694\n",
       "toyota            8228\n",
       "hyundai           6989\n",
       "peugeot           5848\n",
       "kia               5734\n",
       "fiat              5039\n",
       "mini              4295\n",
       "mazda             4211\n",
       "volvo             4164\n",
       "citroen           4083\n",
       "porsche           3958\n",
       "nissan            3784\n",
       "dacia             3367\n",
       "land-rover        3073\n",
       "jeep              1749\n",
       "smart             1643\n",
       "alfa-romeo        1437\n",
       "jaguar            1398\n",
       "mitsubishi         934\n",
       "honda              785\n",
       "maserati           698\n",
       "dodge              669\n",
       "ferrari            590\n",
       "bentley            541\n",
       "lamborghini        361\n",
       "ssangyong          342\n",
       "aston-martin       277\n",
       "saab               233\n",
       "isuzu              206\n",
       "daihatsu           204\n",
       "chevrolet          191\n",
       "lada               191\n",
       "cadillac           157\n",
       "infiniti           112\n",
       "lancia             105\n",
       "daewoo              61\n",
       "rover               51\n",
       "chrysler            32\n",
       "proton               1\n",
       "Name: brand, dtype: int64"
      ]
     },
     "execution_count": 4,
     "metadata": {},
     "output_type": "execute_result"
    }
   ],
   "source": [
    "data_raw['brand'].value_counts()"
   ]
  },
  {
   "cell_type": "code",
   "execution_count": 14,
   "metadata": {},
   "outputs": [
    {
     "data": {
      "text/html": [
       "<div>\n",
       "<style scoped>\n",
       "    .dataframe tbody tr th:only-of-type {\n",
       "        vertical-align: middle;\n",
       "    }\n",
       "\n",
       "    .dataframe tbody tr th {\n",
       "        vertical-align: top;\n",
       "    }\n",
       "\n",
       "    .dataframe thead th {\n",
       "        text-align: right;\n",
       "    }\n",
       "</style>\n",
       "<table border=\"1\" class=\"dataframe\">\n",
       "  <thead>\n",
       "    <tr style=\"text-align: right;\">\n",
       "      <th></th>\n",
       "      <th>brand</th>\n",
       "      <th>model</th>\n",
       "      <th>color</th>\n",
       "      <th>registration_date</th>\n",
       "      <th>year</th>\n",
       "      <th>price_in_euro</th>\n",
       "      <th>power_kw</th>\n",
       "      <th>power_ps</th>\n",
       "      <th>transmission_type</th>\n",
       "      <th>fuel_type</th>\n",
       "      <th>fuel_consumption_l_100km</th>\n",
       "      <th>fuel_consumption_g_km</th>\n",
       "      <th>mileage_in_km</th>\n",
       "      <th>offer_description</th>\n",
       "    </tr>\n",
       "  </thead>\n",
       "  <tbody>\n",
       "    <tr>\n",
       "      <th>46671</th>\n",
       "      <td>citroen</td>\n",
       "      <td>Citroen C1</td>\n",
       "      <td>silver</td>\n",
       "      <td>03/2021</td>\n",
       "      <td>2021</td>\n",
       "      <td>12650</td>\n",
       "      <td>53</td>\n",
       "      <td>72</td>\n",
       "      <td>Manual</td>\n",
       "      <td>Petrol</td>\n",
       "      <td>3,7 l/100 km</td>\n",
       "      <td>85 g/km</td>\n",
       "      <td>15200.0</td>\n",
       "      <td>VTi 72 Shine+KAMERA+SHZ+APP+DAB+KLIMA+BT</td>\n",
       "    </tr>\n",
       "    <tr>\n",
       "      <th>46672</th>\n",
       "      <td>citroen</td>\n",
       "      <td>Citroen C1</td>\n",
       "      <td>silver</td>\n",
       "      <td>03/2021</td>\n",
       "      <td>2021</td>\n",
       "      <td>12450</td>\n",
       "      <td>53</td>\n",
       "      <td>72</td>\n",
       "      <td>Manual</td>\n",
       "      <td>Petrol</td>\n",
       "      <td>3,7 l/100 km</td>\n",
       "      <td>85 g/km</td>\n",
       "      <td>15200.0</td>\n",
       "      <td>VTi 72 Shine+KAMERA+SHZ+APP+DAB+KLIMA+BT</td>\n",
       "    </tr>\n",
       "    <tr>\n",
       "      <th>46673</th>\n",
       "      <td>citroen</td>\n",
       "      <td>Citroen C4</td>\n",
       "      <td>silver</td>\n",
       "      <td>10/2021</td>\n",
       "      <td>2021</td>\n",
       "      <td>27990</td>\n",
       "      <td>100</td>\n",
       "      <td>136</td>\n",
       "      <td>Automatic</td>\n",
       "      <td>Electric</td>\n",
       "      <td>354 km (Ort)</td>\n",
       "      <td>348 km Reichweite</td>\n",
       "      <td>14500.0</td>\n",
       "      <td>e-C4 136 SHINE</td>\n",
       "    </tr>\n",
       "  </tbody>\n",
       "</table>\n",
       "</div>"
      ],
      "text/plain": [
       "         brand       model   color registration_date  year price_in_euro  \\\n",
       "46671  citroen  Citroen C1  silver           03/2021  2021         12650   \n",
       "46672  citroen  Citroen C1  silver           03/2021  2021         12450   \n",
       "46673  citroen  Citroen C4  silver           10/2021  2021         27990   \n",
       "\n",
       "      power_kw power_ps transmission_type fuel_type fuel_consumption_l_100km  \\\n",
       "46671       53       72            Manual    Petrol             3,7 l/100 km   \n",
       "46672       53       72            Manual    Petrol             3,7 l/100 km   \n",
       "46673      100      136         Automatic  Electric             354 km (Ort)   \n",
       "\n",
       "      fuel_consumption_g_km  mileage_in_km  \\\n",
       "46671               85 g/km        15200.0   \n",
       "46672               85 g/km        15200.0   \n",
       "46673     348 km Reichweite        14500.0   \n",
       "\n",
       "                              offer_description  \n",
       "46671  VTi 72 Shine+KAMERA+SHZ+APP+DAB+KLIMA+BT  \n",
       "46672  VTi 72 Shine+KAMERA+SHZ+APP+DAB+KLIMA+BT  \n",
       "46673                            e-C4 136 SHINE  "
      ]
     },
     "execution_count": 14,
     "metadata": {},
     "output_type": "execute_result"
    }
   ],
   "source": [
    "citroen = data_raw[ data_raw['brand'] == 'citroen' ]\n",
    "citroen_2021 = citroen[citroen['year'] == '2021']\n",
    "citroen_2021[ citroen_2021['color'] == 'silver']"
   ]
  },
  {
   "cell_type": "code",
   "execution_count": null,
   "metadata": {},
   "outputs": [],
   "source": []
  },
  {
   "cell_type": "code",
   "execution_count": 12,
   "metadata": {},
   "outputs": [
    {
     "data": {
      "text/html": [
       "<div>\n",
       "<style scoped>\n",
       "    .dataframe tbody tr th:only-of-type {\n",
       "        vertical-align: middle;\n",
       "    }\n",
       "\n",
       "    .dataframe tbody tr th {\n",
       "        vertical-align: top;\n",
       "    }\n",
       "\n",
       "    .dataframe thead th {\n",
       "        text-align: right;\n",
       "    }\n",
       "</style>\n",
       "<table border=\"1\" class=\"dataframe\">\n",
       "  <thead>\n",
       "    <tr style=\"text-align: right;\">\n",
       "      <th></th>\n",
       "      <th>brand</th>\n",
       "      <th>model</th>\n",
       "      <th>color</th>\n",
       "      <th>registration_date</th>\n",
       "      <th>year</th>\n",
       "      <th>price_in_euro</th>\n",
       "      <th>power_kw</th>\n",
       "      <th>power_ps</th>\n",
       "      <th>transmission_type</th>\n",
       "      <th>fuel_type</th>\n",
       "      <th>fuel_consumption_l_100km</th>\n",
       "      <th>fuel_consumption_g_km</th>\n",
       "      <th>mileage_in_km</th>\n",
       "      <th>offer_description</th>\n",
       "    </tr>\n",
       "  </thead>\n",
       "  <tbody>\n",
       "    <tr>\n",
       "      <th>16552</th>\n",
       "      <td>audi</td>\n",
       "      <td>Audi e-tron</td>\n",
       "      <td>beige</td>\n",
       "      <td>09/2019</td>\n",
       "      <td>2019</td>\n",
       "      <td>51888</td>\n",
       "      <td>300</td>\n",
       "      <td>408</td>\n",
       "      <td>Automatic</td>\n",
       "      <td>Electric</td>\n",
       "      <td>NaN</td>\n",
       "      <td>359 km Reichweite</td>\n",
       "      <td>84800.0</td>\n",
       "      <td>55 Advanced Quattro S-Line Interieur</td>\n",
       "    </tr>\n",
       "    <tr>\n",
       "      <th>16559</th>\n",
       "      <td>audi</td>\n",
       "      <td>Audi e-tron</td>\n",
       "      <td>beige</td>\n",
       "      <td>07/2019</td>\n",
       "      <td>2019</td>\n",
       "      <td>53990</td>\n",
       "      <td>300</td>\n",
       "      <td>408</td>\n",
       "      <td>Automatic</td>\n",
       "      <td>Electric</td>\n",
       "      <td>NaN</td>\n",
       "      <td>359 km Reichweite</td>\n",
       "      <td>51000.0</td>\n",
       "      <td>55 quattro advanced Pano B&amp;O AHK Matrix</td>\n",
       "    </tr>\n",
       "    <tr>\n",
       "      <th>16561</th>\n",
       "      <td>audi</td>\n",
       "      <td>Audi e-tron</td>\n",
       "      <td>beige</td>\n",
       "      <td>11/2019</td>\n",
       "      <td>2019</td>\n",
       "      <td>54870</td>\n",
       "      <td>300</td>\n",
       "      <td>408</td>\n",
       "      <td>Automatic</td>\n",
       "      <td>Electric</td>\n",
       "      <td>NaN</td>\n",
       "      <td>0 g/km</td>\n",
       "      <td>82814.0</td>\n",
       "      <td>+ADVANCED+55+PANO+LUFT+HU+MATRIX+</td>\n",
       "    </tr>\n",
       "    <tr>\n",
       "      <th>16571</th>\n",
       "      <td>audi</td>\n",
       "      <td>Audi e-tron</td>\n",
       "      <td>beige</td>\n",
       "      <td>12/2019</td>\n",
       "      <td>2019</td>\n",
       "      <td>61989</td>\n",
       "      <td>300</td>\n",
       "      <td>408</td>\n",
       "      <td>Automatic</td>\n",
       "      <td>Electric</td>\n",
       "      <td>NaN</td>\n",
       "      <td>0 g/km</td>\n",
       "      <td>55990.0</td>\n",
       "      <td>advanced 55 QU*B&amp;O*MATRIX*PANO*LED*NAV</td>\n",
       "    </tr>\n",
       "    <tr>\n",
       "      <th>16579</th>\n",
       "      <td>audi</td>\n",
       "      <td>Audi e-tron</td>\n",
       "      <td>blue</td>\n",
       "      <td>02/2019</td>\n",
       "      <td>2019</td>\n",
       "      <td>32930</td>\n",
       "      <td>300</td>\n",
       "      <td>408</td>\n",
       "      <td>Automatic</td>\n",
       "      <td>Electric</td>\n",
       "      <td>NaN</td>\n",
       "      <td>359 km Reichweite</td>\n",
       "      <td>84300.0</td>\n",
       "      <td>55 qu. S line AHK LED V-Cockp. RüKa Pano</td>\n",
       "    </tr>\n",
       "    <tr>\n",
       "      <th>16589</th>\n",
       "      <td>audi</td>\n",
       "      <td>Audi e-tron</td>\n",
       "      <td>blue</td>\n",
       "      <td>09/2019</td>\n",
       "      <td>2019</td>\n",
       "      <td>44940</td>\n",
       "      <td>300</td>\n",
       "      <td>408</td>\n",
       "      <td>Automatic</td>\n",
       "      <td>Electric</td>\n",
       "      <td>NaN</td>\n",
       "      <td>359 km Reichweite</td>\n",
       "      <td>55900.0</td>\n",
       "      <td>55 advanced S line Matrix HuD Pano B&amp;O 360° Lu...</td>\n",
       "    </tr>\n",
       "    <tr>\n",
       "      <th>16591</th>\n",
       "      <td>audi</td>\n",
       "      <td>Audi e-tron</td>\n",
       "      <td>blue</td>\n",
       "      <td>10/2019</td>\n",
       "      <td>2019</td>\n",
       "      <td>52446</td>\n",
       "      <td>300</td>\n",
       "      <td>408</td>\n",
       "      <td>Automatic</td>\n",
       "      <td>Electric</td>\n",
       "      <td>NaN</td>\n",
       "      <td>359 km Reichweite</td>\n",
       "      <td>17950.0</td>\n",
       "      <td>advanced 55 Navi,LED,B&amp;O,Leder,Kamera</td>\n",
       "    </tr>\n",
       "    <tr>\n",
       "      <th>16616</th>\n",
       "      <td>audi</td>\n",
       "      <td>Audi e-tron</td>\n",
       "      <td>blue</td>\n",
       "      <td>09/2019</td>\n",
       "      <td>2019</td>\n",
       "      <td>41980</td>\n",
       "      <td>300</td>\n",
       "      <td>408</td>\n",
       "      <td>Automatic</td>\n",
       "      <td>Electric</td>\n",
       "      <td>NaN</td>\n",
       "      <td>422 km Reichweite</td>\n",
       "      <td>67541.0</td>\n",
       "      <td>55 qu S line 20\" NAVI LED Advanced</td>\n",
       "    </tr>\n",
       "    <tr>\n",
       "      <th>16630</th>\n",
       "      <td>audi</td>\n",
       "      <td>Audi e-tron</td>\n",
       "      <td>blue</td>\n",
       "      <td>11/2019</td>\n",
       "      <td>2019</td>\n",
       "      <td>51990</td>\n",
       "      <td>265</td>\n",
       "      <td>360</td>\n",
       "      <td>Automatic</td>\n",
       "      <td>Electric</td>\n",
       "      <td>NaN</td>\n",
       "      <td>0 g/km</td>\n",
       "      <td>45400.0</td>\n",
       "      <td>55 quattro advanced +Luft +AHK +Panorama</td>\n",
       "    </tr>\n",
       "    <tr>\n",
       "      <th>16642</th>\n",
       "      <td>audi</td>\n",
       "      <td>Audi e-tron</td>\n",
       "      <td>blue</td>\n",
       "      <td>09/2019</td>\n",
       "      <td>2019</td>\n",
       "      <td>40990</td>\n",
       "      <td>265</td>\n",
       "      <td>360</td>\n",
       "      <td>Automatic</td>\n",
       "      <td>Electric</td>\n",
       "      <td>NaN</td>\n",
       "      <td>359 km Reichweite</td>\n",
       "      <td>25639.0</td>\n",
       "      <td>advanced 55 quattro Klimaaut Navi Shz LED</td>\n",
       "    </tr>\n",
       "    <tr>\n",
       "      <th>16649</th>\n",
       "      <td>audi</td>\n",
       "      <td>Audi e-tron</td>\n",
       "      <td>blue</td>\n",
       "      <td>07/2019</td>\n",
       "      <td>2019</td>\n",
       "      <td>39890</td>\n",
       "      <td>300</td>\n",
       "      <td>408</td>\n",
       "      <td>Automatic</td>\n",
       "      <td>Electric</td>\n",
       "      <td>NaN</td>\n",
       "      <td>359 km Reichweite</td>\n",
       "      <td>54000.0</td>\n",
       "      <td>55quat.,14MGarantie,TV,B&amp;O,Massage,virtSpiegel</td>\n",
       "    </tr>\n",
       "    <tr>\n",
       "      <th>16658</th>\n",
       "      <td>audi</td>\n",
       "      <td>Audi e-tron</td>\n",
       "      <td>blue</td>\n",
       "      <td>08/2019</td>\n",
       "      <td>2019</td>\n",
       "      <td>42880</td>\n",
       "      <td>300</td>\n",
       "      <td>408</td>\n",
       "      <td>Automatic</td>\n",
       "      <td>Electric</td>\n",
       "      <td>NaN</td>\n",
       "      <td>359 km Reichweite</td>\n",
       "      <td>80000.0</td>\n",
       "      <td>55 qu VIRTUELLE SPIEGEL,HUD,LUFT,KEYLESS</td>\n",
       "    </tr>\n",
       "    <tr>\n",
       "      <th>16668</th>\n",
       "      <td>audi</td>\n",
       "      <td>Audi e-tron</td>\n",
       "      <td>blue</td>\n",
       "      <td>09/2019</td>\n",
       "      <td>2019</td>\n",
       "      <td>49600</td>\n",
       "      <td>265</td>\n",
       "      <td>360</td>\n",
       "      <td>Automatic</td>\n",
       "      <td>Electric</td>\n",
       "      <td>NaN</td>\n",
       "      <td>359 km Reichweite</td>\n",
       "      <td>48400.0</td>\n",
       "      <td>55 quattro PANO/ACC/V-SPIEGEL/MATRIX/21\"/MEMORY</td>\n",
       "    </tr>\n",
       "    <tr>\n",
       "      <th>16709</th>\n",
       "      <td>audi</td>\n",
       "      <td>Audi e-tron</td>\n",
       "      <td>blue</td>\n",
       "      <td>06/2019</td>\n",
       "      <td>2019</td>\n",
       "      <td>49679</td>\n",
       "      <td>300</td>\n",
       "      <td>408</td>\n",
       "      <td>Automatic</td>\n",
       "      <td>Electric</td>\n",
       "      <td>NaN</td>\n",
       "      <td>359 km Reichweite</td>\n",
       "      <td>71253.0</td>\n",
       "      <td>E-tron 55 Quattro Advanced Allrad HUD AD AHK-a...</td>\n",
       "    </tr>\n",
       "    <tr>\n",
       "      <th>16724</th>\n",
       "      <td>audi</td>\n",
       "      <td>Audi e-tron</td>\n",
       "      <td>blue</td>\n",
       "      <td>10/2019</td>\n",
       "      <td>2019</td>\n",
       "      <td>57499</td>\n",
       "      <td>300</td>\n",
       "      <td>408</td>\n",
       "      <td>Automatic</td>\n",
       "      <td>Electric</td>\n",
       "      <td>NaN</td>\n",
       "      <td>359 km Reichweite</td>\n",
       "      <td>21960.0</td>\n",
       "      <td>55 quattro advanced S-line Matrix-LED AHK</td>\n",
       "    </tr>\n",
       "    <tr>\n",
       "      <th>16760</th>\n",
       "      <td>audi</td>\n",
       "      <td>Audi e-tron</td>\n",
       "      <td>blue</td>\n",
       "      <td>06/2019</td>\n",
       "      <td>2019</td>\n",
       "      <td>43850</td>\n",
       "      <td>300</td>\n",
       "      <td>408</td>\n",
       "      <td>Manual</td>\n",
       "      <td>Electric</td>\n",
       "      <td>NaN</td>\n",
       "      <td>359 km Reichweite</td>\n",
       "      <td>91015.0</td>\n",
       "      <td>Audi 55 quattro advanced*S-line*B+O*AHK*ACC</td>\n",
       "    </tr>\n",
       "    <tr>\n",
       "      <th>16806</th>\n",
       "      <td>audi</td>\n",
       "      <td>Audi e-tron</td>\n",
       "      <td>blue</td>\n",
       "      <td>09/2019</td>\n",
       "      <td>2019</td>\n",
       "      <td>52900</td>\n",
       "      <td>300</td>\n",
       "      <td>408</td>\n",
       "      <td>Automatic</td>\n",
       "      <td>Electric</td>\n",
       "      <td>NaN</td>\n",
       "      <td>359 km Reichweite</td>\n",
       "      <td>25000.0</td>\n",
       "      <td>55 quattro advanced edition one</td>\n",
       "    </tr>\n",
       "    <tr>\n",
       "      <th>16816</th>\n",
       "      <td>audi</td>\n",
       "      <td>Audi e-tron</td>\n",
       "      <td>blue</td>\n",
       "      <td>03/2019</td>\n",
       "      <td>2019</td>\n",
       "      <td>47900</td>\n",
       "      <td>265</td>\n",
       "      <td>360</td>\n",
       "      <td>Automatic</td>\n",
       "      <td>Electric</td>\n",
       "      <td>NaN</td>\n",
       "      <td>359 km Reichweite</td>\n",
       "      <td>40300.0</td>\n",
       "      <td>55 quattro (Virtuelle Außenspiegel,Pano-Dach)</td>\n",
       "    </tr>\n",
       "    <tr>\n",
       "      <th>16900</th>\n",
       "      <td>audi</td>\n",
       "      <td>Audi e-tron</td>\n",
       "      <td>grey</td>\n",
       "      <td>09/2019</td>\n",
       "      <td>2019</td>\n",
       "      <td>41990</td>\n",
       "      <td>300</td>\n",
       "      <td>408</td>\n",
       "      <td>Automatic</td>\n",
       "      <td>Electric</td>\n",
       "      <td>NaN</td>\n",
       "      <td>359 km Reichweite</td>\n",
       "      <td>48048.0</td>\n",
       "      <td>advanced 55 quattro NAVI RFK PANORAMADACH</td>\n",
       "    </tr>\n",
       "    <tr>\n",
       "      <th>16903</th>\n",
       "      <td>audi</td>\n",
       "      <td>Audi e-tron</td>\n",
       "      <td>grey</td>\n",
       "      <td>07/2019</td>\n",
       "      <td>2019</td>\n",
       "      <td>49920</td>\n",
       "      <td>300</td>\n",
       "      <td>408</td>\n",
       "      <td>Automatic</td>\n",
       "      <td>Electric</td>\n",
       "      <td>NaN</td>\n",
       "      <td>409 km Reichweite</td>\n",
       "      <td>47400.0</td>\n",
       "      <td>55 quattro S line Interieur PANORAMA LEDER AHK...</td>\n",
       "    </tr>\n",
       "  </tbody>\n",
       "</table>\n",
       "</div>"
      ],
      "text/plain": [
       "      brand        model  color registration_date  year price_in_euro  \\\n",
       "16552  audi  Audi e-tron  beige           09/2019  2019         51888   \n",
       "16559  audi  Audi e-tron  beige           07/2019  2019         53990   \n",
       "16561  audi  Audi e-tron  beige           11/2019  2019         54870   \n",
       "16571  audi  Audi e-tron  beige           12/2019  2019         61989   \n",
       "16579  audi  Audi e-tron   blue           02/2019  2019         32930   \n",
       "16589  audi  Audi e-tron   blue           09/2019  2019         44940   \n",
       "16591  audi  Audi e-tron   blue           10/2019  2019         52446   \n",
       "16616  audi  Audi e-tron   blue           09/2019  2019         41980   \n",
       "16630  audi  Audi e-tron   blue           11/2019  2019         51990   \n",
       "16642  audi  Audi e-tron   blue           09/2019  2019         40990   \n",
       "16649  audi  Audi e-tron   blue           07/2019  2019         39890   \n",
       "16658  audi  Audi e-tron   blue           08/2019  2019         42880   \n",
       "16668  audi  Audi e-tron   blue           09/2019  2019         49600   \n",
       "16709  audi  Audi e-tron   blue           06/2019  2019         49679   \n",
       "16724  audi  Audi e-tron   blue           10/2019  2019         57499   \n",
       "16760  audi  Audi e-tron   blue           06/2019  2019         43850   \n",
       "16806  audi  Audi e-tron   blue           09/2019  2019         52900   \n",
       "16816  audi  Audi e-tron   blue           03/2019  2019         47900   \n",
       "16900  audi  Audi e-tron   grey           09/2019  2019         41990   \n",
       "16903  audi  Audi e-tron   grey           07/2019  2019         49920   \n",
       "\n",
       "      power_kw power_ps transmission_type fuel_type fuel_consumption_l_100km  \\\n",
       "16552      300      408         Automatic  Electric                      NaN   \n",
       "16559      300      408         Automatic  Electric                      NaN   \n",
       "16561      300      408         Automatic  Electric                      NaN   \n",
       "16571      300      408         Automatic  Electric                      NaN   \n",
       "16579      300      408         Automatic  Electric                      NaN   \n",
       "16589      300      408         Automatic  Electric                      NaN   \n",
       "16591      300      408         Automatic  Electric                      NaN   \n",
       "16616      300      408         Automatic  Electric                      NaN   \n",
       "16630      265      360         Automatic  Electric                      NaN   \n",
       "16642      265      360         Automatic  Electric                      NaN   \n",
       "16649      300      408         Automatic  Electric                      NaN   \n",
       "16658      300      408         Automatic  Electric                      NaN   \n",
       "16668      265      360         Automatic  Electric                      NaN   \n",
       "16709      300      408         Automatic  Electric                      NaN   \n",
       "16724      300      408         Automatic  Electric                      NaN   \n",
       "16760      300      408            Manual  Electric                      NaN   \n",
       "16806      300      408         Automatic  Electric                      NaN   \n",
       "16816      265      360         Automatic  Electric                      NaN   \n",
       "16900      300      408         Automatic  Electric                      NaN   \n",
       "16903      300      408         Automatic  Electric                      NaN   \n",
       "\n",
       "      fuel_consumption_g_km  mileage_in_km  \\\n",
       "16552     359 km Reichweite        84800.0   \n",
       "16559     359 km Reichweite        51000.0   \n",
       "16561                0 g/km        82814.0   \n",
       "16571                0 g/km        55990.0   \n",
       "16579     359 km Reichweite        84300.0   \n",
       "16589     359 km Reichweite        55900.0   \n",
       "16591     359 km Reichweite        17950.0   \n",
       "16616     422 km Reichweite        67541.0   \n",
       "16630                0 g/km        45400.0   \n",
       "16642     359 km Reichweite        25639.0   \n",
       "16649     359 km Reichweite        54000.0   \n",
       "16658     359 km Reichweite        80000.0   \n",
       "16668     359 km Reichweite        48400.0   \n",
       "16709     359 km Reichweite        71253.0   \n",
       "16724     359 km Reichweite        21960.0   \n",
       "16760     359 km Reichweite        91015.0   \n",
       "16806     359 km Reichweite        25000.0   \n",
       "16816     359 km Reichweite        40300.0   \n",
       "16900     359 km Reichweite        48048.0   \n",
       "16903     409 km Reichweite        47400.0   \n",
       "\n",
       "                                       offer_description  \n",
       "16552               55 Advanced Quattro S-Line Interieur  \n",
       "16559            55 quattro advanced Pano B&O AHK Matrix  \n",
       "16561                  +ADVANCED+55+PANO+LUFT+HU+MATRIX+  \n",
       "16571             advanced 55 QU*B&O*MATRIX*PANO*LED*NAV  \n",
       "16579           55 qu. S line AHK LED V-Cockp. RüKa Pano  \n",
       "16589  55 advanced S line Matrix HuD Pano B&O 360° Lu...  \n",
       "16591              advanced 55 Navi,LED,B&O,Leder,Kamera  \n",
       "16616                 55 qu S line 20\" NAVI LED Advanced  \n",
       "16630           55 quattro advanced +Luft +AHK +Panorama  \n",
       "16642          advanced 55 quattro Klimaaut Navi Shz LED  \n",
       "16649     55quat.,14MGarantie,TV,B&O,Massage,virtSpiegel  \n",
       "16658           55 qu VIRTUELLE SPIEGEL,HUD,LUFT,KEYLESS  \n",
       "16668    55 quattro PANO/ACC/V-SPIEGEL/MATRIX/21\"/MEMORY  \n",
       "16709  E-tron 55 Quattro Advanced Allrad HUD AD AHK-a...  \n",
       "16724          55 quattro advanced S-line Matrix-LED AHK  \n",
       "16760        Audi 55 quattro advanced*S-line*B+O*AHK*ACC  \n",
       "16806                    55 quattro advanced edition one  \n",
       "16816      55 quattro (Virtuelle Außenspiegel,Pano-Dach)  \n",
       "16900          advanced 55 quattro NAVI RFK PANORAMADACH  \n",
       "16903  55 quattro S line Interieur PANORAMA LEDER AHK...  "
      ]
     },
     "execution_count": 12,
     "metadata": {},
     "output_type": "execute_result"
    }
   ],
   "source": [
    "data_raw[ data_raw['fuel_type'] == 'Electric' ].head(20)"
   ]
  },
  {
   "cell_type": "code",
   "execution_count": 12,
   "metadata": {},
   "outputs": [
    {
     "data": {
      "text/plain": [
       "0     1999\n",
       "1    35990\n",
       "2    17850\n",
       "3    46830\n",
       "4    27443\n",
       "5    14240\n",
       "6    19950\n",
       "7    15950\n",
       "8    21990\n",
       "9    12450\n",
       "Name: Preis (Euro), dtype: int64"
      ]
     },
     "execution_count": 12,
     "metadata": {},
     "output_type": "execute_result"
    }
   ],
   "source": [
    "xxs = pd.read_csv('autoscout24_xxs.csv')\n",
    "xxs['Preis (Euro)']"
   ]
  },
  {
   "cell_type": "code",
   "execution_count": 3,
   "metadata": {},
   "outputs": [
    {
     "data": {
      "text/html": [
       "<div>\n",
       "<style scoped>\n",
       "    .dataframe tbody tr th:only-of-type {\n",
       "        vertical-align: middle;\n",
       "    }\n",
       "\n",
       "    .dataframe tbody tr th {\n",
       "        vertical-align: top;\n",
       "    }\n",
       "\n",
       "    .dataframe thead th {\n",
       "        text-align: right;\n",
       "    }\n",
       "</style>\n",
       "<table border=\"1\" class=\"dataframe\">\n",
       "  <thead>\n",
       "    <tr style=\"text-align: right;\">\n",
       "      <th></th>\n",
       "      <th>Jahr</th>\n",
       "      <th>Preis (Euro)</th>\n",
       "      <th>Leistung (kW)</th>\n",
       "      <th>Leistung (PS)</th>\n",
       "      <th>Verbrauch (l/100 km)</th>\n",
       "      <th>Verbrauch (g/km)</th>\n",
       "      <th>Kilometerstand (km)</th>\n",
       "    </tr>\n",
       "  </thead>\n",
       "  <tbody>\n",
       "    <tr>\n",
       "      <th>count</th>\n",
       "      <td>10.000000</td>\n",
       "      <td>10.000000</td>\n",
       "      <td>10.000000</td>\n",
       "      <td>10.000000</td>\n",
       "      <td>10.00000</td>\n",
       "      <td>10.000000</td>\n",
       "      <td>10.000000</td>\n",
       "    </tr>\n",
       "    <tr>\n",
       "      <th>mean</th>\n",
       "      <td>2017.800000</td>\n",
       "      <td>21469.200000</td>\n",
       "      <td>98.800000</td>\n",
       "      <td>134.500000</td>\n",
       "      <td>5.00000</td>\n",
       "      <td>122.600000</td>\n",
       "      <td>75993.000000</td>\n",
       "    </tr>\n",
       "    <tr>\n",
       "      <th>std</th>\n",
       "      <td>7.465476</td>\n",
       "      <td>12686.587246</td>\n",
       "      <td>70.275332</td>\n",
       "      <td>95.586203</td>\n",
       "      <td>1.01653</td>\n",
       "      <td>23.796358</td>\n",
       "      <td>71600.728696</td>\n",
       "    </tr>\n",
       "    <tr>\n",
       "      <th>min</th>\n",
       "      <td>1997.000000</td>\n",
       "      <td>1999.000000</td>\n",
       "      <td>53.000000</td>\n",
       "      <td>72.000000</td>\n",
       "      <td>3.70000</td>\n",
       "      <td>85.000000</td>\n",
       "      <td>2500.000000</td>\n",
       "    </tr>\n",
       "    <tr>\n",
       "      <th>25%</th>\n",
       "      <td>2018.250000</td>\n",
       "      <td>14667.500000</td>\n",
       "      <td>68.250000</td>\n",
       "      <td>93.000000</td>\n",
       "      <td>4.12500</td>\n",
       "      <td>107.250000</td>\n",
       "      <td>16373.750000</td>\n",
       "    </tr>\n",
       "    <tr>\n",
       "      <th>50%</th>\n",
       "      <td>2020.000000</td>\n",
       "      <td>18900.000000</td>\n",
       "      <td>78.000000</td>\n",
       "      <td>106.000000</td>\n",
       "      <td>4.90000</td>\n",
       "      <td>120.500000</td>\n",
       "      <td>69385.000000</td>\n",
       "    </tr>\n",
       "    <tr>\n",
       "      <th>75%</th>\n",
       "      <td>2021.000000</td>\n",
       "      <td>26079.750000</td>\n",
       "      <td>93.250000</td>\n",
       "      <td>127.250000</td>\n",
       "      <td>5.80000</td>\n",
       "      <td>144.000000</td>\n",
       "      <td>112782.750000</td>\n",
       "    </tr>\n",
       "    <tr>\n",
       "      <th>max</th>\n",
       "      <td>2023.000000</td>\n",
       "      <td>46830.000000</td>\n",
       "      <td>294.000000</td>\n",
       "      <td>400.000000</td>\n",
       "      <td>6.60000</td>\n",
       "      <td>154.000000</td>\n",
       "      <td>231000.000000</td>\n",
       "    </tr>\n",
       "  </tbody>\n",
       "</table>\n",
       "</div>"
      ],
      "text/plain": [
       "              Jahr  Preis (Euro)  Leistung (kW)  Leistung (PS)  \\\n",
       "count    10.000000     10.000000      10.000000      10.000000   \n",
       "mean   2017.800000  21469.200000      98.800000     134.500000   \n",
       "std       7.465476  12686.587246      70.275332      95.586203   \n",
       "min    1997.000000   1999.000000      53.000000      72.000000   \n",
       "25%    2018.250000  14667.500000      68.250000      93.000000   \n",
       "50%    2020.000000  18900.000000      78.000000     106.000000   \n",
       "75%    2021.000000  26079.750000      93.250000     127.250000   \n",
       "max    2023.000000  46830.000000     294.000000     400.000000   \n",
       "\n",
       "       Verbrauch (l/100 km)  Verbrauch (g/km)  Kilometerstand (km)  \n",
       "count              10.00000         10.000000            10.000000  \n",
       "mean                5.00000        122.600000         75993.000000  \n",
       "std                 1.01653         23.796358         71600.728696  \n",
       "min                 3.70000         85.000000          2500.000000  \n",
       "25%                 4.12500        107.250000         16373.750000  \n",
       "50%                 4.90000        120.500000         69385.000000  \n",
       "75%                 5.80000        144.000000        112782.750000  \n",
       "max                 6.60000        154.000000        231000.000000  "
      ]
     },
     "execution_count": 3,
     "metadata": {},
     "output_type": "execute_result"
    }
   ],
   "source": [
    "xxs.describe()"
   ]
  },
  {
   "cell_type": "code",
   "execution_count": 4,
   "metadata": {},
   "outputs": [
    {
     "data": {
      "text/plain": [
       "0     1999\n",
       "9    12450\n",
       "5    14240\n",
       "7    15950\n",
       "2    17850\n",
       "6    19950\n",
       "8    21990\n",
       "4    27443\n",
       "1    35990\n",
       "3    46830\n",
       "Name: Preis (Euro), dtype: int64"
      ]
     },
     "execution_count": 4,
     "metadata": {},
     "output_type": "execute_result"
    }
   ],
   "source": [
    "xxs_sorted = xxs.sort_values(by=['Preis (Euro)'])\n",
    "xxs_sorted['Preis (Euro)']"
   ]
  },
  {
   "cell_type": "code",
   "execution_count": 2,
   "metadata": {},
   "outputs": [
    {
     "data": {
      "text/plain": [
       "['Constant',\n",
       " 'IdentityMap',\n",
       " 'NO_COLOR',\n",
       " 'Range',\n",
       " '__all__',\n",
       " '__builtins__',\n",
       " '__cached__',\n",
       " '__doc__',\n",
       " '__file__',\n",
       " '__loader__',\n",
       " '__name__',\n",
       " '__package__',\n",
       " '__path__',\n",
       " '__spec__',\n",
       " '_chart_types',\n",
       " '_core',\n",
       " '_doc',\n",
       " '_imshow',\n",
       " '_special_inputs',\n",
       " 'absolute_import',\n",
       " 'area',\n",
       " 'bar',\n",
       " 'bar_polar',\n",
       " 'box',\n",
       " 'choropleth',\n",
       " 'choropleth_mapbox',\n",
       " 'colors',\n",
       " 'data',\n",
       " 'defaults',\n",
       " 'density_contour',\n",
       " 'density_heatmap',\n",
       " 'density_mapbox',\n",
       " 'ecdf',\n",
       " 'funnel',\n",
       " 'funnel_area',\n",
       " 'get_trendline_results',\n",
       " 'histogram',\n",
       " 'icicle',\n",
       " 'imshow',\n",
       " 'imshow_utils',\n",
       " 'line',\n",
       " 'line_3d',\n",
       " 'line_geo',\n",
       " 'line_mapbox',\n",
       " 'line_polar',\n",
       " 'line_ternary',\n",
       " 'optional_imports',\n",
       " 'parallel_categories',\n",
       " 'parallel_coordinates',\n",
       " 'pd',\n",
       " 'pie',\n",
       " 'scatter',\n",
       " 'scatter_3d',\n",
       " 'scatter_geo',\n",
       " 'scatter_mapbox',\n",
       " 'scatter_matrix',\n",
       " 'scatter_polar',\n",
       " 'scatter_ternary',\n",
       " 'set_mapbox_access_token',\n",
       " 'strip',\n",
       " 'sunburst',\n",
       " 'timeline',\n",
       " 'treemap',\n",
       " 'trendline_functions',\n",
       " 'violin']"
      ]
     },
     "execution_count": 2,
     "metadata": {},
     "output_type": "execute_result"
    }
   ],
   "source": [
    "import plotly.express as px\n",
    "\n",
    "dir(px)\n"
   ]
  },
  {
   "cell_type": "code",
   "execution_count": 1,
   "metadata": {},
   "outputs": [
    {
     "ename": "NameError",
     "evalue": "name 'xxs' is not defined",
     "output_type": "error",
     "traceback": [
      "\u001b[0;31m---------------------------------------------------------------------------\u001b[0m",
      "\u001b[0;31mNameError\u001b[0m                                 Traceback (most recent call last)",
      "Cell \u001b[0;32mIn[1], line 3\u001b[0m\n\u001b[1;32m      1\u001b[0m \u001b[39mimport\u001b[39;00m \u001b[39mplotly\u001b[39;00m\u001b[39m.\u001b[39;00m\u001b[39mexpress\u001b[39;00m \u001b[39mas\u001b[39;00m \u001b[39mpx\u001b[39;00m\n\u001b[0;32m----> 3\u001b[0m fig \u001b[39m=\u001b[39m px\u001b[39m.\u001b[39mscatter(xxs, y \u001b[39m=\u001b[39m \u001b[39m'\u001b[39m\u001b[39mPreis (Euro)\u001b[39m\u001b[39m'\u001b[39m)\n\u001b[1;32m      4\u001b[0m fig\u001b[39m.\u001b[39mshow()\n",
      "\u001b[0;31mNameError\u001b[0m: name 'xxs' is not defined"
     ]
    }
   ],
   "source": [
    "\n",
    "import plotly.express as px\n",
    "\n",
    "fig = px.scatter(xxs, y = 'Preis (Euro)')\n",
    "fig.show()"
   ]
  },
  {
   "cell_type": "code",
   "execution_count": 9,
   "metadata": {},
   "outputs": [
    {
     "name": "stdout",
     "output_type": "stream",
     "text": [
      "<class 'pandas.core.series.Series'>\n",
      "Index: 10 entries, Audi Nr. 1 to Citroen Nr. 5\n",
      "Series name: None\n",
      "Non-Null Count  Dtype\n",
      "--------------  -----\n",
      "10 non-null     int64\n",
      "dtypes: int64(1)\n",
      "memory usage: 160.0+ bytes\n"
     ]
    }
   ],
   "source": [
    "preisliste = [1999, 35990, 17850, 46830, 27443, 14240, 19950, 15950, 21990, 12450]\n",
    "preise = pd.Series(preisliste, index = ['Audi Nr. 1', 'Audi Nr. 2', 'Audi Nr. 3', 'BMW Nr. 1', 'BMW Nr. 2', \n",
    "    'Citroen Nr. 1', 'Citroen Nr. 2', 'Citroen Nr. 3', 'Citroen Nr. 4', 'Citroen Nr. 5'])\n",
    "\n",
    "preise.info()"
   ]
  },
  {
   "cell_type": "code",
   "execution_count": 10,
   "metadata": {},
   "outputs": [
    {
     "data": {
      "application/vnd.plotly.v1+json": {
       "config": {
        "plotlyServerURL": "https://plot.ly"
       },
       "data": [
        {
         "hovertemplate": "Legende=0<br>Auto ID=%{x}<br>Preis in Euro=%{y}<extra></extra>",
         "legendgroup": "0",
         "marker": {
          "color": "#636efa",
          "symbol": "circle"
         },
         "mode": "markers",
         "name": "0",
         "orientation": "v",
         "showlegend": true,
         "type": "scatter",
         "x": [
          "Audi Nr. 1",
          "Audi Nr. 2",
          "Audi Nr. 3",
          "BMW Nr. 1",
          "BMW Nr. 2",
          "Citroen Nr. 1",
          "Citroen Nr. 2",
          "Citroen Nr. 3",
          "Citroen Nr. 4",
          "Citroen Nr. 5"
         ],
         "xaxis": "x",
         "y": [
          1999,
          35990,
          17850,
          46830,
          27443,
          14240,
          19950,
          15950,
          21990,
          12450
         ],
         "yaxis": "y"
        }
       ],
       "layout": {
        "legend": {
         "title": {
          "text": "Legende"
         },
         "tracegroupgap": 0
        },
        "template": {
         "data": {
          "bar": [
           {
            "error_x": {
             "color": "#2a3f5f"
            },
            "error_y": {
             "color": "#2a3f5f"
            },
            "marker": {
             "line": {
              "color": "#E5ECF6",
              "width": 0.5
             },
             "pattern": {
              "fillmode": "overlay",
              "size": 10,
              "solidity": 0.2
             }
            },
            "type": "bar"
           }
          ],
          "barpolar": [
           {
            "marker": {
             "line": {
              "color": "#E5ECF6",
              "width": 0.5
             },
             "pattern": {
              "fillmode": "overlay",
              "size": 10,
              "solidity": 0.2
             }
            },
            "type": "barpolar"
           }
          ],
          "carpet": [
           {
            "aaxis": {
             "endlinecolor": "#2a3f5f",
             "gridcolor": "white",
             "linecolor": "white",
             "minorgridcolor": "white",
             "startlinecolor": "#2a3f5f"
            },
            "baxis": {
             "endlinecolor": "#2a3f5f",
             "gridcolor": "white",
             "linecolor": "white",
             "minorgridcolor": "white",
             "startlinecolor": "#2a3f5f"
            },
            "type": "carpet"
           }
          ],
          "choropleth": [
           {
            "colorbar": {
             "outlinewidth": 0,
             "ticks": ""
            },
            "type": "choropleth"
           }
          ],
          "contour": [
           {
            "colorbar": {
             "outlinewidth": 0,
             "ticks": ""
            },
            "colorscale": [
             [
              0,
              "#0d0887"
             ],
             [
              0.1111111111111111,
              "#46039f"
             ],
             [
              0.2222222222222222,
              "#7201a8"
             ],
             [
              0.3333333333333333,
              "#9c179e"
             ],
             [
              0.4444444444444444,
              "#bd3786"
             ],
             [
              0.5555555555555556,
              "#d8576b"
             ],
             [
              0.6666666666666666,
              "#ed7953"
             ],
             [
              0.7777777777777778,
              "#fb9f3a"
             ],
             [
              0.8888888888888888,
              "#fdca26"
             ],
             [
              1,
              "#f0f921"
             ]
            ],
            "type": "contour"
           }
          ],
          "contourcarpet": [
           {
            "colorbar": {
             "outlinewidth": 0,
             "ticks": ""
            },
            "type": "contourcarpet"
           }
          ],
          "heatmap": [
           {
            "colorbar": {
             "outlinewidth": 0,
             "ticks": ""
            },
            "colorscale": [
             [
              0,
              "#0d0887"
             ],
             [
              0.1111111111111111,
              "#46039f"
             ],
             [
              0.2222222222222222,
              "#7201a8"
             ],
             [
              0.3333333333333333,
              "#9c179e"
             ],
             [
              0.4444444444444444,
              "#bd3786"
             ],
             [
              0.5555555555555556,
              "#d8576b"
             ],
             [
              0.6666666666666666,
              "#ed7953"
             ],
             [
              0.7777777777777778,
              "#fb9f3a"
             ],
             [
              0.8888888888888888,
              "#fdca26"
             ],
             [
              1,
              "#f0f921"
             ]
            ],
            "type": "heatmap"
           }
          ],
          "heatmapgl": [
           {
            "colorbar": {
             "outlinewidth": 0,
             "ticks": ""
            },
            "colorscale": [
             [
              0,
              "#0d0887"
             ],
             [
              0.1111111111111111,
              "#46039f"
             ],
             [
              0.2222222222222222,
              "#7201a8"
             ],
             [
              0.3333333333333333,
              "#9c179e"
             ],
             [
              0.4444444444444444,
              "#bd3786"
             ],
             [
              0.5555555555555556,
              "#d8576b"
             ],
             [
              0.6666666666666666,
              "#ed7953"
             ],
             [
              0.7777777777777778,
              "#fb9f3a"
             ],
             [
              0.8888888888888888,
              "#fdca26"
             ],
             [
              1,
              "#f0f921"
             ]
            ],
            "type": "heatmapgl"
           }
          ],
          "histogram": [
           {
            "marker": {
             "pattern": {
              "fillmode": "overlay",
              "size": 10,
              "solidity": 0.2
             }
            },
            "type": "histogram"
           }
          ],
          "histogram2d": [
           {
            "colorbar": {
             "outlinewidth": 0,
             "ticks": ""
            },
            "colorscale": [
             [
              0,
              "#0d0887"
             ],
             [
              0.1111111111111111,
              "#46039f"
             ],
             [
              0.2222222222222222,
              "#7201a8"
             ],
             [
              0.3333333333333333,
              "#9c179e"
             ],
             [
              0.4444444444444444,
              "#bd3786"
             ],
             [
              0.5555555555555556,
              "#d8576b"
             ],
             [
              0.6666666666666666,
              "#ed7953"
             ],
             [
              0.7777777777777778,
              "#fb9f3a"
             ],
             [
              0.8888888888888888,
              "#fdca26"
             ],
             [
              1,
              "#f0f921"
             ]
            ],
            "type": "histogram2d"
           }
          ],
          "histogram2dcontour": [
           {
            "colorbar": {
             "outlinewidth": 0,
             "ticks": ""
            },
            "colorscale": [
             [
              0,
              "#0d0887"
             ],
             [
              0.1111111111111111,
              "#46039f"
             ],
             [
              0.2222222222222222,
              "#7201a8"
             ],
             [
              0.3333333333333333,
              "#9c179e"
             ],
             [
              0.4444444444444444,
              "#bd3786"
             ],
             [
              0.5555555555555556,
              "#d8576b"
             ],
             [
              0.6666666666666666,
              "#ed7953"
             ],
             [
              0.7777777777777778,
              "#fb9f3a"
             ],
             [
              0.8888888888888888,
              "#fdca26"
             ],
             [
              1,
              "#f0f921"
             ]
            ],
            "type": "histogram2dcontour"
           }
          ],
          "mesh3d": [
           {
            "colorbar": {
             "outlinewidth": 0,
             "ticks": ""
            },
            "type": "mesh3d"
           }
          ],
          "parcoords": [
           {
            "line": {
             "colorbar": {
              "outlinewidth": 0,
              "ticks": ""
             }
            },
            "type": "parcoords"
           }
          ],
          "pie": [
           {
            "automargin": true,
            "type": "pie"
           }
          ],
          "scatter": [
           {
            "fillpattern": {
             "fillmode": "overlay",
             "size": 10,
             "solidity": 0.2
            },
            "type": "scatter"
           }
          ],
          "scatter3d": [
           {
            "line": {
             "colorbar": {
              "outlinewidth": 0,
              "ticks": ""
             }
            },
            "marker": {
             "colorbar": {
              "outlinewidth": 0,
              "ticks": ""
             }
            },
            "type": "scatter3d"
           }
          ],
          "scattercarpet": [
           {
            "marker": {
             "colorbar": {
              "outlinewidth": 0,
              "ticks": ""
             }
            },
            "type": "scattercarpet"
           }
          ],
          "scattergeo": [
           {
            "marker": {
             "colorbar": {
              "outlinewidth": 0,
              "ticks": ""
             }
            },
            "type": "scattergeo"
           }
          ],
          "scattergl": [
           {
            "marker": {
             "colorbar": {
              "outlinewidth": 0,
              "ticks": ""
             }
            },
            "type": "scattergl"
           }
          ],
          "scattermapbox": [
           {
            "marker": {
             "colorbar": {
              "outlinewidth": 0,
              "ticks": ""
             }
            },
            "type": "scattermapbox"
           }
          ],
          "scatterpolar": [
           {
            "marker": {
             "colorbar": {
              "outlinewidth": 0,
              "ticks": ""
             }
            },
            "type": "scatterpolar"
           }
          ],
          "scatterpolargl": [
           {
            "marker": {
             "colorbar": {
              "outlinewidth": 0,
              "ticks": ""
             }
            },
            "type": "scatterpolargl"
           }
          ],
          "scatterternary": [
           {
            "marker": {
             "colorbar": {
              "outlinewidth": 0,
              "ticks": ""
             }
            },
            "type": "scatterternary"
           }
          ],
          "surface": [
           {
            "colorbar": {
             "outlinewidth": 0,
             "ticks": ""
            },
            "colorscale": [
             [
              0,
              "#0d0887"
             ],
             [
              0.1111111111111111,
              "#46039f"
             ],
             [
              0.2222222222222222,
              "#7201a8"
             ],
             [
              0.3333333333333333,
              "#9c179e"
             ],
             [
              0.4444444444444444,
              "#bd3786"
             ],
             [
              0.5555555555555556,
              "#d8576b"
             ],
             [
              0.6666666666666666,
              "#ed7953"
             ],
             [
              0.7777777777777778,
              "#fb9f3a"
             ],
             [
              0.8888888888888888,
              "#fdca26"
             ],
             [
              1,
              "#f0f921"
             ]
            ],
            "type": "surface"
           }
          ],
          "table": [
           {
            "cells": {
             "fill": {
              "color": "#EBF0F8"
             },
             "line": {
              "color": "white"
             }
            },
            "header": {
             "fill": {
              "color": "#C8D4E3"
             },
             "line": {
              "color": "white"
             }
            },
            "type": "table"
           }
          ]
         },
         "layout": {
          "annotationdefaults": {
           "arrowcolor": "#2a3f5f",
           "arrowhead": 0,
           "arrowwidth": 1
          },
          "autotypenumbers": "strict",
          "coloraxis": {
           "colorbar": {
            "outlinewidth": 0,
            "ticks": ""
           }
          },
          "colorscale": {
           "diverging": [
            [
             0,
             "#8e0152"
            ],
            [
             0.1,
             "#c51b7d"
            ],
            [
             0.2,
             "#de77ae"
            ],
            [
             0.3,
             "#f1b6da"
            ],
            [
             0.4,
             "#fde0ef"
            ],
            [
             0.5,
             "#f7f7f7"
            ],
            [
             0.6,
             "#e6f5d0"
            ],
            [
             0.7,
             "#b8e186"
            ],
            [
             0.8,
             "#7fbc41"
            ],
            [
             0.9,
             "#4d9221"
            ],
            [
             1,
             "#276419"
            ]
           ],
           "sequential": [
            [
             0,
             "#0d0887"
            ],
            [
             0.1111111111111111,
             "#46039f"
            ],
            [
             0.2222222222222222,
             "#7201a8"
            ],
            [
             0.3333333333333333,
             "#9c179e"
            ],
            [
             0.4444444444444444,
             "#bd3786"
            ],
            [
             0.5555555555555556,
             "#d8576b"
            ],
            [
             0.6666666666666666,
             "#ed7953"
            ],
            [
             0.7777777777777778,
             "#fb9f3a"
            ],
            [
             0.8888888888888888,
             "#fdca26"
            ],
            [
             1,
             "#f0f921"
            ]
           ],
           "sequentialminus": [
            [
             0,
             "#0d0887"
            ],
            [
             0.1111111111111111,
             "#46039f"
            ],
            [
             0.2222222222222222,
             "#7201a8"
            ],
            [
             0.3333333333333333,
             "#9c179e"
            ],
            [
             0.4444444444444444,
             "#bd3786"
            ],
            [
             0.5555555555555556,
             "#d8576b"
            ],
            [
             0.6666666666666666,
             "#ed7953"
            ],
            [
             0.7777777777777778,
             "#fb9f3a"
            ],
            [
             0.8888888888888888,
             "#fdca26"
            ],
            [
             1,
             "#f0f921"
            ]
           ]
          },
          "colorway": [
           "#636efa",
           "#EF553B",
           "#00cc96",
           "#ab63fa",
           "#FFA15A",
           "#19d3f3",
           "#FF6692",
           "#B6E880",
           "#FF97FF",
           "#FECB52"
          ],
          "font": {
           "color": "#2a3f5f"
          },
          "geo": {
           "bgcolor": "white",
           "lakecolor": "white",
           "landcolor": "#E5ECF6",
           "showlakes": true,
           "showland": true,
           "subunitcolor": "white"
          },
          "hoverlabel": {
           "align": "left"
          },
          "hovermode": "closest",
          "mapbox": {
           "style": "light"
          },
          "paper_bgcolor": "white",
          "plot_bgcolor": "#E5ECF6",
          "polar": {
           "angularaxis": {
            "gridcolor": "white",
            "linecolor": "white",
            "ticks": ""
           },
           "bgcolor": "#E5ECF6",
           "radialaxis": {
            "gridcolor": "white",
            "linecolor": "white",
            "ticks": ""
           }
          },
          "scene": {
           "xaxis": {
            "backgroundcolor": "#E5ECF6",
            "gridcolor": "white",
            "gridwidth": 2,
            "linecolor": "white",
            "showbackground": true,
            "ticks": "",
            "zerolinecolor": "white"
           },
           "yaxis": {
            "backgroundcolor": "#E5ECF6",
            "gridcolor": "white",
            "gridwidth": 2,
            "linecolor": "white",
            "showbackground": true,
            "ticks": "",
            "zerolinecolor": "white"
           },
           "zaxis": {
            "backgroundcolor": "#E5ECF6",
            "gridcolor": "white",
            "gridwidth": 2,
            "linecolor": "white",
            "showbackground": true,
            "ticks": "",
            "zerolinecolor": "white"
           }
          },
          "shapedefaults": {
           "line": {
            "color": "#2a3f5f"
           }
          },
          "ternary": {
           "aaxis": {
            "gridcolor": "white",
            "linecolor": "white",
            "ticks": ""
           },
           "baxis": {
            "gridcolor": "white",
            "linecolor": "white",
            "ticks": ""
           },
           "bgcolor": "#E5ECF6",
           "caxis": {
            "gridcolor": "white",
            "linecolor": "white",
            "ticks": ""
           }
          },
          "title": {
           "x": 0.05
          },
          "xaxis": {
           "automargin": true,
           "gridcolor": "white",
           "linecolor": "white",
           "ticks": "",
           "title": {
            "standoff": 15
           },
           "zerolinecolor": "white",
           "zerolinewidth": 2
          },
          "yaxis": {
           "automargin": true,
           "gridcolor": "white",
           "linecolor": "white",
           "ticks": "",
           "title": {
            "standoff": 15
           },
           "zerolinecolor": "white",
           "zerolinewidth": 2
          }
         }
        },
        "title": {
         "text": "Autoscout24"
        },
        "xaxis": {
         "anchor": "y",
         "domain": [
          0,
          1
         ],
         "title": {
          "text": "Auto ID"
         }
        },
        "yaxis": {
         "anchor": "x",
         "domain": [
          0,
          1
         ],
         "title": {
          "text": "Preis in Euro"
         }
        }
       }
      }
     },
     "metadata": {},
     "output_type": "display_data"
    }
   ],
   "source": [
    "import plotly.express as px\n",
    "\n",
    "fig = px.scatter(preise,\n",
    "                 labels={\n",
    "                     \"index\": \"Auto ID\",\n",
    "                     \"value\": \"Preis in Euro\",\n",
    "                     \"variable\": \"Legende\"\n",
    "                 },\n",
    "                title=\"Autoscout24\")\n",
    "fig.show()"
   ]
  },
  {
   "cell_type": "code",
   "execution_count": 12,
   "metadata": {},
   "outputs": [
    {
     "data": {
      "application/vnd.plotly.v1+json": {
       "config": {
        "plotlyServerURL": "https://plot.ly"
       },
       "data": [
        {
         "alignmentgroup": "True",
         "hovertemplate": "variable=%{x}<br>value=%{y}<extra></extra>",
         "legendgroup": "",
         "marker": {
          "color": "#636efa"
         },
         "name": "",
         "notched": false,
         "offsetgroup": "",
         "orientation": "v",
         "showlegend": false,
         "type": "box",
         "x": [
          "0",
          "0",
          "0",
          "0",
          "0",
          "0",
          "0",
          "0",
          "0",
          "0"
         ],
         "x0": " ",
         "xaxis": "x",
         "y": [
          1999,
          35990,
          17850,
          46830,
          27443,
          14240,
          19950,
          15950,
          21990,
          12450
         ],
         "y0": " ",
         "yaxis": "y"
        }
       ],
       "layout": {
        "boxmode": "group",
        "legend": {
         "tracegroupgap": 0
        },
        "margin": {
         "t": 60
        },
        "template": {
         "data": {
          "bar": [
           {
            "error_x": {
             "color": "#2a3f5f"
            },
            "error_y": {
             "color": "#2a3f5f"
            },
            "marker": {
             "line": {
              "color": "#E5ECF6",
              "width": 0.5
             },
             "pattern": {
              "fillmode": "overlay",
              "size": 10,
              "solidity": 0.2
             }
            },
            "type": "bar"
           }
          ],
          "barpolar": [
           {
            "marker": {
             "line": {
              "color": "#E5ECF6",
              "width": 0.5
             },
             "pattern": {
              "fillmode": "overlay",
              "size": 10,
              "solidity": 0.2
             }
            },
            "type": "barpolar"
           }
          ],
          "carpet": [
           {
            "aaxis": {
             "endlinecolor": "#2a3f5f",
             "gridcolor": "white",
             "linecolor": "white",
             "minorgridcolor": "white",
             "startlinecolor": "#2a3f5f"
            },
            "baxis": {
             "endlinecolor": "#2a3f5f",
             "gridcolor": "white",
             "linecolor": "white",
             "minorgridcolor": "white",
             "startlinecolor": "#2a3f5f"
            },
            "type": "carpet"
           }
          ],
          "choropleth": [
           {
            "colorbar": {
             "outlinewidth": 0,
             "ticks": ""
            },
            "type": "choropleth"
           }
          ],
          "contour": [
           {
            "colorbar": {
             "outlinewidth": 0,
             "ticks": ""
            },
            "colorscale": [
             [
              0,
              "#0d0887"
             ],
             [
              0.1111111111111111,
              "#46039f"
             ],
             [
              0.2222222222222222,
              "#7201a8"
             ],
             [
              0.3333333333333333,
              "#9c179e"
             ],
             [
              0.4444444444444444,
              "#bd3786"
             ],
             [
              0.5555555555555556,
              "#d8576b"
             ],
             [
              0.6666666666666666,
              "#ed7953"
             ],
             [
              0.7777777777777778,
              "#fb9f3a"
             ],
             [
              0.8888888888888888,
              "#fdca26"
             ],
             [
              1,
              "#f0f921"
             ]
            ],
            "type": "contour"
           }
          ],
          "contourcarpet": [
           {
            "colorbar": {
             "outlinewidth": 0,
             "ticks": ""
            },
            "type": "contourcarpet"
           }
          ],
          "heatmap": [
           {
            "colorbar": {
             "outlinewidth": 0,
             "ticks": ""
            },
            "colorscale": [
             [
              0,
              "#0d0887"
             ],
             [
              0.1111111111111111,
              "#46039f"
             ],
             [
              0.2222222222222222,
              "#7201a8"
             ],
             [
              0.3333333333333333,
              "#9c179e"
             ],
             [
              0.4444444444444444,
              "#bd3786"
             ],
             [
              0.5555555555555556,
              "#d8576b"
             ],
             [
              0.6666666666666666,
              "#ed7953"
             ],
             [
              0.7777777777777778,
              "#fb9f3a"
             ],
             [
              0.8888888888888888,
              "#fdca26"
             ],
             [
              1,
              "#f0f921"
             ]
            ],
            "type": "heatmap"
           }
          ],
          "heatmapgl": [
           {
            "colorbar": {
             "outlinewidth": 0,
             "ticks": ""
            },
            "colorscale": [
             [
              0,
              "#0d0887"
             ],
             [
              0.1111111111111111,
              "#46039f"
             ],
             [
              0.2222222222222222,
              "#7201a8"
             ],
             [
              0.3333333333333333,
              "#9c179e"
             ],
             [
              0.4444444444444444,
              "#bd3786"
             ],
             [
              0.5555555555555556,
              "#d8576b"
             ],
             [
              0.6666666666666666,
              "#ed7953"
             ],
             [
              0.7777777777777778,
              "#fb9f3a"
             ],
             [
              0.8888888888888888,
              "#fdca26"
             ],
             [
              1,
              "#f0f921"
             ]
            ],
            "type": "heatmapgl"
           }
          ],
          "histogram": [
           {
            "marker": {
             "pattern": {
              "fillmode": "overlay",
              "size": 10,
              "solidity": 0.2
             }
            },
            "type": "histogram"
           }
          ],
          "histogram2d": [
           {
            "colorbar": {
             "outlinewidth": 0,
             "ticks": ""
            },
            "colorscale": [
             [
              0,
              "#0d0887"
             ],
             [
              0.1111111111111111,
              "#46039f"
             ],
             [
              0.2222222222222222,
              "#7201a8"
             ],
             [
              0.3333333333333333,
              "#9c179e"
             ],
             [
              0.4444444444444444,
              "#bd3786"
             ],
             [
              0.5555555555555556,
              "#d8576b"
             ],
             [
              0.6666666666666666,
              "#ed7953"
             ],
             [
              0.7777777777777778,
              "#fb9f3a"
             ],
             [
              0.8888888888888888,
              "#fdca26"
             ],
             [
              1,
              "#f0f921"
             ]
            ],
            "type": "histogram2d"
           }
          ],
          "histogram2dcontour": [
           {
            "colorbar": {
             "outlinewidth": 0,
             "ticks": ""
            },
            "colorscale": [
             [
              0,
              "#0d0887"
             ],
             [
              0.1111111111111111,
              "#46039f"
             ],
             [
              0.2222222222222222,
              "#7201a8"
             ],
             [
              0.3333333333333333,
              "#9c179e"
             ],
             [
              0.4444444444444444,
              "#bd3786"
             ],
             [
              0.5555555555555556,
              "#d8576b"
             ],
             [
              0.6666666666666666,
              "#ed7953"
             ],
             [
              0.7777777777777778,
              "#fb9f3a"
             ],
             [
              0.8888888888888888,
              "#fdca26"
             ],
             [
              1,
              "#f0f921"
             ]
            ],
            "type": "histogram2dcontour"
           }
          ],
          "mesh3d": [
           {
            "colorbar": {
             "outlinewidth": 0,
             "ticks": ""
            },
            "type": "mesh3d"
           }
          ],
          "parcoords": [
           {
            "line": {
             "colorbar": {
              "outlinewidth": 0,
              "ticks": ""
             }
            },
            "type": "parcoords"
           }
          ],
          "pie": [
           {
            "automargin": true,
            "type": "pie"
           }
          ],
          "scatter": [
           {
            "fillpattern": {
             "fillmode": "overlay",
             "size": 10,
             "solidity": 0.2
            },
            "type": "scatter"
           }
          ],
          "scatter3d": [
           {
            "line": {
             "colorbar": {
              "outlinewidth": 0,
              "ticks": ""
             }
            },
            "marker": {
             "colorbar": {
              "outlinewidth": 0,
              "ticks": ""
             }
            },
            "type": "scatter3d"
           }
          ],
          "scattercarpet": [
           {
            "marker": {
             "colorbar": {
              "outlinewidth": 0,
              "ticks": ""
             }
            },
            "type": "scattercarpet"
           }
          ],
          "scattergeo": [
           {
            "marker": {
             "colorbar": {
              "outlinewidth": 0,
              "ticks": ""
             }
            },
            "type": "scattergeo"
           }
          ],
          "scattergl": [
           {
            "marker": {
             "colorbar": {
              "outlinewidth": 0,
              "ticks": ""
             }
            },
            "type": "scattergl"
           }
          ],
          "scattermapbox": [
           {
            "marker": {
             "colorbar": {
              "outlinewidth": 0,
              "ticks": ""
             }
            },
            "type": "scattermapbox"
           }
          ],
          "scatterpolar": [
           {
            "marker": {
             "colorbar": {
              "outlinewidth": 0,
              "ticks": ""
             }
            },
            "type": "scatterpolar"
           }
          ],
          "scatterpolargl": [
           {
            "marker": {
             "colorbar": {
              "outlinewidth": 0,
              "ticks": ""
             }
            },
            "type": "scatterpolargl"
           }
          ],
          "scatterternary": [
           {
            "marker": {
             "colorbar": {
              "outlinewidth": 0,
              "ticks": ""
             }
            },
            "type": "scatterternary"
           }
          ],
          "surface": [
           {
            "colorbar": {
             "outlinewidth": 0,
             "ticks": ""
            },
            "colorscale": [
             [
              0,
              "#0d0887"
             ],
             [
              0.1111111111111111,
              "#46039f"
             ],
             [
              0.2222222222222222,
              "#7201a8"
             ],
             [
              0.3333333333333333,
              "#9c179e"
             ],
             [
              0.4444444444444444,
              "#bd3786"
             ],
             [
              0.5555555555555556,
              "#d8576b"
             ],
             [
              0.6666666666666666,
              "#ed7953"
             ],
             [
              0.7777777777777778,
              "#fb9f3a"
             ],
             [
              0.8888888888888888,
              "#fdca26"
             ],
             [
              1,
              "#f0f921"
             ]
            ],
            "type": "surface"
           }
          ],
          "table": [
           {
            "cells": {
             "fill": {
              "color": "#EBF0F8"
             },
             "line": {
              "color": "white"
             }
            },
            "header": {
             "fill": {
              "color": "#C8D4E3"
             },
             "line": {
              "color": "white"
             }
            },
            "type": "table"
           }
          ]
         },
         "layout": {
          "annotationdefaults": {
           "arrowcolor": "#2a3f5f",
           "arrowhead": 0,
           "arrowwidth": 1
          },
          "autotypenumbers": "strict",
          "coloraxis": {
           "colorbar": {
            "outlinewidth": 0,
            "ticks": ""
           }
          },
          "colorscale": {
           "diverging": [
            [
             0,
             "#8e0152"
            ],
            [
             0.1,
             "#c51b7d"
            ],
            [
             0.2,
             "#de77ae"
            ],
            [
             0.3,
             "#f1b6da"
            ],
            [
             0.4,
             "#fde0ef"
            ],
            [
             0.5,
             "#f7f7f7"
            ],
            [
             0.6,
             "#e6f5d0"
            ],
            [
             0.7,
             "#b8e186"
            ],
            [
             0.8,
             "#7fbc41"
            ],
            [
             0.9,
             "#4d9221"
            ],
            [
             1,
             "#276419"
            ]
           ],
           "sequential": [
            [
             0,
             "#0d0887"
            ],
            [
             0.1111111111111111,
             "#46039f"
            ],
            [
             0.2222222222222222,
             "#7201a8"
            ],
            [
             0.3333333333333333,
             "#9c179e"
            ],
            [
             0.4444444444444444,
             "#bd3786"
            ],
            [
             0.5555555555555556,
             "#d8576b"
            ],
            [
             0.6666666666666666,
             "#ed7953"
            ],
            [
             0.7777777777777778,
             "#fb9f3a"
            ],
            [
             0.8888888888888888,
             "#fdca26"
            ],
            [
             1,
             "#f0f921"
            ]
           ],
           "sequentialminus": [
            [
             0,
             "#0d0887"
            ],
            [
             0.1111111111111111,
             "#46039f"
            ],
            [
             0.2222222222222222,
             "#7201a8"
            ],
            [
             0.3333333333333333,
             "#9c179e"
            ],
            [
             0.4444444444444444,
             "#bd3786"
            ],
            [
             0.5555555555555556,
             "#d8576b"
            ],
            [
             0.6666666666666666,
             "#ed7953"
            ],
            [
             0.7777777777777778,
             "#fb9f3a"
            ],
            [
             0.8888888888888888,
             "#fdca26"
            ],
            [
             1,
             "#f0f921"
            ]
           ]
          },
          "colorway": [
           "#636efa",
           "#EF553B",
           "#00cc96",
           "#ab63fa",
           "#FFA15A",
           "#19d3f3",
           "#FF6692",
           "#B6E880",
           "#FF97FF",
           "#FECB52"
          ],
          "font": {
           "color": "#2a3f5f"
          },
          "geo": {
           "bgcolor": "white",
           "lakecolor": "white",
           "landcolor": "#E5ECF6",
           "showlakes": true,
           "showland": true,
           "subunitcolor": "white"
          },
          "hoverlabel": {
           "align": "left"
          },
          "hovermode": "closest",
          "mapbox": {
           "style": "light"
          },
          "paper_bgcolor": "white",
          "plot_bgcolor": "#E5ECF6",
          "polar": {
           "angularaxis": {
            "gridcolor": "white",
            "linecolor": "white",
            "ticks": ""
           },
           "bgcolor": "#E5ECF6",
           "radialaxis": {
            "gridcolor": "white",
            "linecolor": "white",
            "ticks": ""
           }
          },
          "scene": {
           "xaxis": {
            "backgroundcolor": "#E5ECF6",
            "gridcolor": "white",
            "gridwidth": 2,
            "linecolor": "white",
            "showbackground": true,
            "ticks": "",
            "zerolinecolor": "white"
           },
           "yaxis": {
            "backgroundcolor": "#E5ECF6",
            "gridcolor": "white",
            "gridwidth": 2,
            "linecolor": "white",
            "showbackground": true,
            "ticks": "",
            "zerolinecolor": "white"
           },
           "zaxis": {
            "backgroundcolor": "#E5ECF6",
            "gridcolor": "white",
            "gridwidth": 2,
            "linecolor": "white",
            "showbackground": true,
            "ticks": "",
            "zerolinecolor": "white"
           }
          },
          "shapedefaults": {
           "line": {
            "color": "#2a3f5f"
           }
          },
          "ternary": {
           "aaxis": {
            "gridcolor": "white",
            "linecolor": "white",
            "ticks": ""
           },
           "baxis": {
            "gridcolor": "white",
            "linecolor": "white",
            "ticks": ""
           },
           "bgcolor": "#E5ECF6",
           "caxis": {
            "gridcolor": "white",
            "linecolor": "white",
            "ticks": ""
           }
          },
          "title": {
           "x": 0.05
          },
          "xaxis": {
           "automargin": true,
           "gridcolor": "white",
           "linecolor": "white",
           "ticks": "",
           "title": {
            "standoff": 15
           },
           "zerolinecolor": "white",
           "zerolinewidth": 2
          },
          "yaxis": {
           "automargin": true,
           "gridcolor": "white",
           "linecolor": "white",
           "ticks": "",
           "title": {
            "standoff": 15
           },
           "zerolinecolor": "white",
           "zerolinewidth": 2
          }
         }
        },
        "xaxis": {
         "anchor": "y",
         "domain": [
          0,
          1
         ],
         "title": {
          "text": "variable"
         }
        },
        "yaxis": {
         "anchor": "x",
         "domain": [
          0,
          1
         ],
         "title": {
          "text": "value"
         }
        }
       }
      }
     },
     "metadata": {},
     "output_type": "display_data"
    }
   ],
   "source": [
    "diagramm = px.box(preise)\n",
    "diagramm.show()"
   ]
  },
  {
   "cell_type": "code",
   "execution_count": 40,
   "metadata": {},
   "outputs": [
    {
     "name": "stdout",
     "output_type": "stream",
     "text": [
      "Audi Nr. 1        1999\n",
      "Audi Nr. 2       35990\n",
      "Audi Nr. 3       17850\n",
      "BMW Nr. 1        46830\n",
      "BMW Nr. 2        27443\n",
      "Citroen Nr. 1    14240\n",
      "Citroen Nr. 2    19950\n",
      "Citroen Nr. 3    15950\n",
      "Citroen Nr. 4    21990\n",
      "Citroen Nr. 5    12450\n",
      "dtype: int64\n"
     ]
    }
   ],
   "source": [
    "print(preise)"
   ]
  },
  {
   "cell_type": "code",
   "execution_count": 25,
   "metadata": {},
   "outputs": [],
   "source": [
    "preise.to_csv('autoscout24_xxs_preise.csv', header=True, index_label='Auto ID')"
   ]
  },
  {
   "cell_type": "code",
   "execution_count": 29,
   "metadata": {},
   "outputs": [
    {
     "data": {
      "text/html": [
       "<div>\n",
       "<style scoped>\n",
       "    .dataframe tbody tr th:only-of-type {\n",
       "        vertical-align: middle;\n",
       "    }\n",
       "\n",
       "    .dataframe tbody tr th {\n",
       "        vertical-align: top;\n",
       "    }\n",
       "\n",
       "    .dataframe thead th {\n",
       "        text-align: right;\n",
       "    }\n",
       "</style>\n",
       "<table border=\"1\" class=\"dataframe\">\n",
       "  <thead>\n",
       "    <tr style=\"text-align: right;\">\n",
       "      <th></th>\n",
       "      <th>Auto ID</th>\n",
       "      <th>Preis (Euro)</th>\n",
       "    </tr>\n",
       "  </thead>\n",
       "  <tbody>\n",
       "    <tr>\n",
       "      <th>0</th>\n",
       "      <td>Audi Nr. 1</td>\n",
       "      <td>1999</td>\n",
       "    </tr>\n",
       "    <tr>\n",
       "      <th>9</th>\n",
       "      <td>Citroen Nr. 5</td>\n",
       "      <td>12450</td>\n",
       "    </tr>\n",
       "    <tr>\n",
       "      <th>5</th>\n",
       "      <td>Citroen Nr. 1</td>\n",
       "      <td>14240</td>\n",
       "    </tr>\n",
       "    <tr>\n",
       "      <th>7</th>\n",
       "      <td>Citroen Nr. 3</td>\n",
       "      <td>15950</td>\n",
       "    </tr>\n",
       "    <tr>\n",
       "      <th>2</th>\n",
       "      <td>Audi Nr. 3</td>\n",
       "      <td>17850</td>\n",
       "    </tr>\n",
       "    <tr>\n",
       "      <th>6</th>\n",
       "      <td>Citroen Nr. 2</td>\n",
       "      <td>19950</td>\n",
       "    </tr>\n",
       "    <tr>\n",
       "      <th>8</th>\n",
       "      <td>Citroen Nr. 4</td>\n",
       "      <td>21990</td>\n",
       "    </tr>\n",
       "    <tr>\n",
       "      <th>4</th>\n",
       "      <td>BMW Nr. 2</td>\n",
       "      <td>27443</td>\n",
       "    </tr>\n",
       "    <tr>\n",
       "      <th>1</th>\n",
       "      <td>Audi Nr. 2</td>\n",
       "      <td>35990</td>\n",
       "    </tr>\n",
       "    <tr>\n",
       "      <th>3</th>\n",
       "      <td>BMW Nr. 1</td>\n",
       "      <td>46830</td>\n",
       "    </tr>\n",
       "  </tbody>\n",
       "</table>\n",
       "</div>"
      ],
      "text/plain": [
       "         Auto ID  Preis (Euro)\n",
       "0     Audi Nr. 1          1999\n",
       "9  Citroen Nr. 5         12450\n",
       "5  Citroen Nr. 1         14240\n",
       "7  Citroen Nr. 3         15950\n",
       "2     Audi Nr. 3         17850\n",
       "6  Citroen Nr. 2         19950\n",
       "8  Citroen Nr. 4         21990\n",
       "4      BMW Nr. 2         27443\n",
       "1     Audi Nr. 2         35990\n",
       "3      BMW Nr. 1         46830"
      ]
     },
     "execution_count": 29,
     "metadata": {},
     "output_type": "execute_result"
    }
   ],
   "source": [
    "preise = pd.read_csv('autoscout24_xxs_preise.csv')\n",
    "preise.sort_values(by='Preis (Euro)')"
   ]
  }
 ],
 "metadata": {
  "kernelspec": {
   "display_name": "python310",
   "language": "python",
   "name": "python3"
  },
  "language_info": {
   "codemirror_mode": {
    "name": "ipython",
    "version": 3
   },
   "file_extension": ".py",
   "mimetype": "text/x-python",
   "name": "python",
   "nbconvert_exporter": "python",
   "pygments_lexer": "ipython3",
   "version": "3.10.11"
  },
  "orig_nbformat": 4
 },
 "nbformat": 4,
 "nbformat_minor": 2
}
