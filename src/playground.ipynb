{
 "cells": [
  {
   "cell_type": "code",
   "execution_count": 1,
   "id": "f90233b9-fc1f-4679-848f-089982840401",
   "metadata": {},
   "outputs": [
    {
     "name": "stdout",
     "output_type": "stream",
     "text": [
      "[[0 0]\n",
      " [0 1]\n",
      " [1 0]\n",
      " [1 1]]\n"
     ]
    }
   ],
   "source": [
    "# Trainingsdaten\n",
    "\n",
    "import numpy as np\n",
    "\n",
    "X = np.array([\n",
    "    [0, 0],\n",
    "    [0, 1],\n",
    "    [1, 0],\n",
    "    [1, 1]\n",
    "    ])\n",
    "\n",
    "print(X)"
   ]
  },
  {
   "cell_type": "code",
   "execution_count": 6,
   "id": "219c27ff",
   "metadata": {},
   "outputs": [
    {
     "name": "stdout",
     "output_type": "stream",
     "text": [
      "[0 1 1 1]\n"
     ]
    }
   ],
   "source": [
    "y = np.array([0, 1, 1, 1])\n",
    "print(y)"
   ]
  },
  {
   "cell_type": "code",
   "execution_count": 3,
   "id": "6fae415c",
   "metadata": {},
   "outputs": [],
   "source": [
    "from sklearn.linear_model import Perceptron "
   ]
  },
  {
   "cell_type": "code",
   "execution_count": 45,
   "id": "bdd876b7",
   "metadata": {},
   "outputs": [],
   "source": [
    "model = Perceptron(eta0=1)"
   ]
  },
  {
   "cell_type": "code",
   "execution_count": 46,
   "id": "12c932ae",
   "metadata": {},
   "outputs": [
    {
     "data": {
      "text/plain": [
       "Perceptron(eta0=1)"
      ]
     },
     "execution_count": 46,
     "metadata": {},
     "output_type": "execute_result"
    }
   ],
   "source": [
    "model.fit(X,y)"
   ]
  },
  {
   "cell_type": "code",
   "execution_count": 27,
   "id": "a6b9ce02",
   "metadata": {},
   "outputs": [
    {
     "name": "stdout",
     "output_type": "stream",
     "text": [
      "[0 1 1 1]\n"
     ]
    }
   ],
   "source": [
    "y_prognose = model.predict(X)\n",
    "print(y_prognose)"
   ]
  },
  {
   "cell_type": "code",
   "execution_count": 32,
   "id": "1a427f96",
   "metadata": {},
   "outputs": [
    {
     "data": {
      "text/plain": [
       "array([[0.2, 0.2]])"
      ]
     },
     "execution_count": 32,
     "metadata": {},
     "output_type": "execute_result"
    }
   ],
   "source": [
    "model.coef_"
   ]
  },
  {
   "cell_type": "code",
   "execution_count": 33,
   "id": "e8875a6e",
   "metadata": {},
   "outputs": [
    {
     "data": {
      "text/plain": [
       "array([-0.1])"
      ]
     },
     "execution_count": 33,
     "metadata": {},
     "output_type": "execute_result"
    }
   ],
   "source": [
    "model.intercept_"
   ]
  },
  {
   "cell_type": "code",
   "execution_count": 16,
   "id": "0cc65222",
   "metadata": {},
   "outputs": [
    {
     "data": {
      "text/plain": [
       "7"
      ]
     },
     "execution_count": 16,
     "metadata": {},
     "output_type": "execute_result"
    }
   ],
   "source": [
    "model.n_iter_"
   ]
  },
  {
   "cell_type": "code",
   "execution_count": 17,
   "id": "11e269e4",
   "metadata": {},
   "outputs": [
    {
     "data": {
      "text/plain": [
       "29.0"
      ]
     },
     "execution_count": 17,
     "metadata": {},
     "output_type": "execute_result"
    }
   ],
   "source": [
    "model.t_"
   ]
  },
  {
   "cell_type": "code",
   "execution_count": 23,
   "id": "834e8f3e",
   "metadata": {},
   "outputs": [
    {
     "name": "stdout",
     "output_type": "stream",
     "text": [
      "[1]\n"
     ]
    }
   ],
   "source": [
    "y_prognose = model.predict(np.array([[0, 1]]))\n",
    "print(y_prognose)"
   ]
  },
  {
   "cell_type": "code",
   "execution_count": 24,
   "id": "8a0d72d4",
   "metadata": {},
   "outputs": [
    {
     "data": {
      "text/plain": [
       "1.0"
      ]
     },
     "execution_count": 24,
     "metadata": {},
     "output_type": "execute_result"
    }
   ],
   "source": [
    "model.score(X,y)"
   ]
  },
  {
   "cell_type": "code",
   "execution_count": 37,
   "id": "3f0d0872",
   "metadata": {},
   "outputs": [
    {
     "data": {
      "image/png": "[encoded data removed]",
      "text/plain": [
       "<Figure size 432x288 with 1 Axes>"
      ]
     },
     "metadata": {
      "needs_background": "light"
     },
     "output_type": "display_data"
    }
   ],
   "source": [
    "import matplotlib.pylab as plt\n",
    "\n",
    "fig, ax = plt.subplots()\n",
    "ax.scatter(X[:,0], X[:,1],  c=y, cmap='Paired')\n",
    "plt.show()"
   ]
  },
  {
   "cell_type": "code",
   "execution_count": 66,
   "id": "9a66bd0a",
   "metadata": {},
   "outputs": [
    {
     "name": "stdout",
     "output_type": "stream",
     "text": [
      "weights = [[0.19992401 0.19991636]]\n"
     ]
    },
    {
     "data": {
      "image/png": "[encoded data removed]",
      "text/plain": [
       "<Figure size 432x288 with 1 Axes>"
      ]
     },
     "metadata": {
      "needs_background": "light"
     },
     "output_type": "display_data"
    }
   ],
   "source": [
    "def predict_meshgrid(X, y, model):\n",
    "    # settings\n",
    "    resolution = 100\n",
    "    # computing area \n",
    "    x_min = X[:,0].min()\n",
    "    x_max = X[:,0].max()\n",
    "    y_min = X[:,1].min()\n",
    "    y_max = X[:,1].max()\n",
    "    grid_x, grid_y = np.meshgrid(np.linspace(x_min, x_max, resolution),\\\n",
    "    np.linspace(y_min, y_max, resolution))\n",
    "    # prediction for meshgrid\n",
    "    X_meshgrid = np.array([grid_x.ravel(), grid_y.ravel()]).T\n",
    "    y_meshgrid = model.predict(X_meshgrid)\n",
    "    # transform prediction back to meshgrid\n",
    "    grid_z = y_meshgrid.reshape(grid_x.shape)\n",
    "\n",
    "    return grid_x, grid_y, grid_z\n",
    "\n",
    "model = Perceptron(eta0=0.1, penalty='elasticnet')\n",
    "model.fit(X,y)\n",
    "print('weights = {}'.format(model.coef_))\n",
    "\n",
    "# plot decision boundary\n",
    "grid_x, grid_y, grid_z = predict_meshgrid(X, y, model)\n",
    "\n",
    "fig, ax = plt.subplots()\n",
    "ax.scatter(grid_x, grid_y, c=grid_z, cmap='Pastel1')\n",
    "ax.scatter(X[:,0], X[:,1],  c=y, cmap='Set1')\n",
    "plt.show()\n"
   ]
  },
  {
   "cell_type": "code",
   "execution_count": 73,
   "id": "ab49b2cc",
   "metadata": {},
   "outputs": [],
   "source": [
    "from sklearn.datasets import make_blobs\n",
    "X, y = make_blobs(n_samples=10, centers=2, n_features=2)"
   ]
  },
  {
   "cell_type": "code",
   "execution_count": 74,
   "id": "f64f92f9",
   "metadata": {},
   "outputs": [
    {
     "data": {
      "image/png": "[encoded data removed]",
      "text/plain": [
       "<Figure size 432x288 with 1 Axes>"
      ]
     },
     "metadata": {
      "needs_background": "light"
     },
     "output_type": "display_data"
    }
   ],
   "source": [
    "fig, ax = plt.subplots()\n",
    "ax.scatter(X[:,0], X[:,1], c=y)\n",
    "plt.show()"
   ]
  },
  {
   "cell_type": "code",
   "execution_count": 79,
   "id": "1bd185a5",
   "metadata": {},
   "outputs": [
    {
     "name": "stdout",
     "output_type": "stream",
     "text": [
      "weights = [[5.71411941e-04 9.08615679e-05]]\n"
     ]
    },
    {
     "data": {
      "image/png": "[encoded data removed]",
      "text/plain": [
       "<Figure size 432x288 with 1 Axes>"
      ]
     },
     "metadata": {
      "needs_background": "light"
     },
     "output_type": "display_data"
    }
   ],
   "source": [
    "model = Perceptron(eta0=0.0001)\n",
    "model.fit(X,y)\n",
    "print('weights = {}'.format(model.coef_))\n",
    "\n",
    "# plot decision boundary\n",
    "grid_x, grid_y, grid_z = predict_meshgrid(X, y, model)\n",
    "\n",
    "fig, ax = plt.subplots()\n",
    "ax.scatter(grid_x, grid_y, c=grid_z, cmap='Pastel1')\n",
    "ax.scatter(X[:,0], X[:,1],  c=y, cmap='Set1')\n",
    "plt.show()"
   ]
  },
  {
   "cell_type": "code",
   "execution_count": 7,
   "id": "10477157",
   "metadata": {},
   "outputs": [
    {
     "data": {
      "image/png": "[encoded data removed]",
      "text/plain": [
       "<Figure size 432x288 with 1 Axes>"
      ]
     },
     "metadata": {
      "needs_background": "light"
     },
     "output_type": "display_data"
    }
   ],
   "source": [
    "import numpy as np\n",
    "import matplotlib.pylab as plt\n",
    "\n",
    "epsilon =  1e-2\n",
    "p = np.linspace(0 + epsilon, 1 - epsilon)\n",
    "R = p/(1-p)\n",
    "\n",
    "fig, ax = plt.subplots()\n",
    "ax.plot(p,R)\n",
    "plt.show()"
   ]
  }
 ],
 "metadata": {
  "kernelspec": {
   "display_name": "Python 3.9.12 ('python39')",
   "language": "python",
   "name": "python3"
  },
  "language_info": {
   "codemirror_mode": {
    "name": "ipython",
    "version": 3
   },
   "file_extension": ".py",
   "mimetype": "text/x-python",
   "name": "python",
   "nbconvert_exporter": "python",
   "pygments_lexer": "ipython3",
   "version": "3.9.12"
  },
  "vscode": {
   "interpreter": {
    "hash": "566b32bd114a17a7af9328aace2e1d0a934e6a35ee5f8da1d55532a733060f85"
   }
  }
 },
 "nbformat": 4,
 "nbformat_minor": 5
}
