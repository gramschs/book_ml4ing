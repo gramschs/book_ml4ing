{
 "cells": [
  {
   "cell_type": "markdown",
   "id": "87d2f474",
   "metadata": {},
   "source": [
    "# Übung\n",
    "\n",
    "## Aufgabe 6.1\n",
    "\n",
    "Das Schiff Titanic galt bei seiner Fertigstellung als unsinkbar. 1912\n",
    "kollidierte die Titanic mit einem Eisberg und sank. Bei dem Unglück kamen 1514\n",
    "von 2220 Personen ums Leben, so dass der Titanic-Untergang zu den größten\n",
    "Unglücken der Schifffahrt zählt. Mehr Informationen zu der Titanic finden Sie\n",
    "bei Wikipedia\n",
    "[https://de.wikipedia.org/wiki/Titanic_(Schiff)](https://de.wikipedia.org/wiki/Titanic_(Schiff)).\n",
    "\n",
    "In der folgenden Übung werden Passagierlisten der Titanic benutzt, um die\n",
    "Überlebenswahrscheinlichkeit zu prognostizieren (0 = gestorben, 1 = überlebt),\n",
    "deren Quelle hier ist:\n",
    "[https://www.kaggle.com/c/titanic](https://www.kaggle.com/c/titanic).\n",
    "\n",
    "Laden sie den Datensatz 'titanic_DE_cleaned.csv'.\n",
    "\n",
    "Führen Sie eine explorative Datenanalyse (EDA) durch. Führen Sie dazu\n",
    "Python-Code in Code-Zellen aus und geben Sie in Markdown-Zellen Ihre Antworten\n",
    "auf die folgenden Frage an.\n",
    "\n",
    "1. Welche Daten enthält der Datensatz? Wie viele Personen sind in der Tabelle\n",
    "   enthalten? Wie viele Merkmale werden dort beschrieben?"
   ]
  },
  {
   "cell_type": "code",
   "execution_count": 1,
   "id": "96da902f",
   "metadata": {},
   "outputs": [
    {
     "name": "stdout",
     "output_type": "stream",
     "text": [
      "<class 'pandas.core.frame.DataFrame'>\n",
      "RangeIndex: 183 entries, 0 to 182\n",
      "Data columns (total 11 columns):\n",
      " #   Column                      Non-Null Count  Dtype  \n",
      "---  ------                      --------------  -----  \n",
      " 0   ueberlebt                   183 non-null    int64  \n",
      " 1   Klasse                      183 non-null    int64  \n",
      " 2   Name                        183 non-null    object \n",
      " 3   Geschlecht                  183 non-null    object \n",
      " 4   Alter                       183 non-null    float64\n",
      " 5   Anzahl_Geschwister_Partner  183 non-null    int64  \n",
      " 6   Anzahl_Eltern_Kinder        183 non-null    int64  \n",
      " 7   Ticket                      183 non-null    object \n",
      " 8   Ticketpreis                 183 non-null    float64\n",
      " 9   Kabine                      183 non-null    object \n",
      " 10  Einstiegshafen              183 non-null    object \n",
      "dtypes: float64(2), int64(4), object(5)\n",
      "memory usage: 15.9+ KB\n"
     ]
    }
   ],
   "source": [
    "import pandas as pd \n",
    "daten = pd.read_csv('titanic_DE_cleaned.csv')\n",
    "\n",
    "daten.info()"
   ]
  },
  {
   "cell_type": "markdown",
   "id": "df125423-cb4d-4b96-b481-1fad334ff800",
   "metadata": {},
   "source": [
    "Der Datensatz enthält 183 Einträge, also 183 Personen. Es gibt 11 Merkmale."
   ]
  },
  {
   "cell_type": "markdown",
   "id": "a16abcfa",
   "metadata": {},
   "source": [
    "2. Sind die Daten vollständig?"
   ]
  },
  {
   "cell_type": "markdown",
   "id": "4a4c2fcf-bc66-4b82-adea-b40b605744ec",
   "metadata": {},
   "source": [
    "Die Daten sind vollständig. Für jedes Merkmal werden 183 non-null Einträge angezeigt."
   ]
  },
  {
   "cell_type": "markdown",
   "id": "1ad89257",
   "metadata": {},
   "source": [
    "3. Welchen Datentyp haben die Merkmale? Welche Merkmale sind numerisch und\n",
    "   welche sind kategorial?"
   ]
  },
  {
   "cell_type": "markdown",
   "id": "29c5b05a-cade-492e-b0bc-aaebdef5fd87",
   "metadata": {},
   "source": [
    "Die Merkmale ueberlebt, Klasse, Anzahl_Geschwister_Partner, Anzahl_Eltern_Kinder sind Integers. Die Merkmale Alter und Ticketpreis sind Floats. Die Merkmale Name, Geschlecht, Ticket, Kabine und Einstiegshafen sind Objekte. Mit `.head()`schauen wir uns die ersten fünf Zeilen an:"
   ]
  },
  {
   "cell_type": "code",
   "execution_count": 2,
   "id": "55709668",
   "metadata": {},
   "outputs": [
    {
     "data": {
      "text/html": [
       "<div>\n",
       "<style scoped>\n",
       "    .dataframe tbody tr th:only-of-type {\n",
       "        vertical-align: middle;\n",
       "    }\n",
       "\n",
       "    .dataframe tbody tr th {\n",
       "        vertical-align: top;\n",
       "    }\n",
       "\n",
       "    .dataframe thead th {\n",
       "        text-align: right;\n",
       "    }\n",
       "</style>\n",
       "<table border=\"1\" class=\"dataframe\">\n",
       "  <thead>\n",
       "    <tr style=\"text-align: right;\">\n",
       "      <th></th>\n",
       "      <th>ueberlebt</th>\n",
       "      <th>Klasse</th>\n",
       "      <th>Name</th>\n",
       "      <th>Geschlecht</th>\n",
       "      <th>Alter</th>\n",
       "      <th>Anzahl_Geschwister_Partner</th>\n",
       "      <th>Anzahl_Eltern_Kinder</th>\n",
       "      <th>Ticket</th>\n",
       "      <th>Ticketpreis</th>\n",
       "      <th>Kabine</th>\n",
       "      <th>Einstiegshafen</th>\n",
       "    </tr>\n",
       "  </thead>\n",
       "  <tbody>\n",
       "    <tr>\n",
       "      <th>0</th>\n",
       "      <td>1</td>\n",
       "      <td>1</td>\n",
       "      <td>Cumings, Mrs. John Bradley (Florence Briggs Th...</td>\n",
       "      <td>weiblich</td>\n",
       "      <td>38.0</td>\n",
       "      <td>1</td>\n",
       "      <td>0</td>\n",
       "      <td>PC 17599</td>\n",
       "      <td>71.2833</td>\n",
       "      <td>C85</td>\n",
       "      <td>C</td>\n",
       "    </tr>\n",
       "    <tr>\n",
       "      <th>1</th>\n",
       "      <td>1</td>\n",
       "      <td>1</td>\n",
       "      <td>Futrelle, Mrs. Jacques Heath (Lily May Peel)</td>\n",
       "      <td>weiblich</td>\n",
       "      <td>35.0</td>\n",
       "      <td>1</td>\n",
       "      <td>0</td>\n",
       "      <td>113803</td>\n",
       "      <td>53.1000</td>\n",
       "      <td>C123</td>\n",
       "      <td>S</td>\n",
       "    </tr>\n",
       "    <tr>\n",
       "      <th>2</th>\n",
       "      <td>0</td>\n",
       "      <td>1</td>\n",
       "      <td>McCarthy, Mr. Timothy J</td>\n",
       "      <td>maennlich</td>\n",
       "      <td>54.0</td>\n",
       "      <td>0</td>\n",
       "      <td>0</td>\n",
       "      <td>17463</td>\n",
       "      <td>51.8625</td>\n",
       "      <td>E46</td>\n",
       "      <td>S</td>\n",
       "    </tr>\n",
       "    <tr>\n",
       "      <th>3</th>\n",
       "      <td>1</td>\n",
       "      <td>3</td>\n",
       "      <td>Sandstrom, Miss. Marguerite Rut</td>\n",
       "      <td>weiblich</td>\n",
       "      <td>4.0</td>\n",
       "      <td>1</td>\n",
       "      <td>1</td>\n",
       "      <td>PP 9549</td>\n",
       "      <td>16.7000</td>\n",
       "      <td>G6</td>\n",
       "      <td>S</td>\n",
       "    </tr>\n",
       "    <tr>\n",
       "      <th>4</th>\n",
       "      <td>1</td>\n",
       "      <td>1</td>\n",
       "      <td>Bonnell, Miss. Elizabeth</td>\n",
       "      <td>weiblich</td>\n",
       "      <td>58.0</td>\n",
       "      <td>0</td>\n",
       "      <td>0</td>\n",
       "      <td>113783</td>\n",
       "      <td>26.5500</td>\n",
       "      <td>C103</td>\n",
       "      <td>S</td>\n",
       "    </tr>\n",
       "  </tbody>\n",
       "</table>\n",
       "</div>"
      ],
      "text/plain": [
       "   ueberlebt  Klasse                                               Name  \\\n",
       "0          1       1  Cumings, Mrs. John Bradley (Florence Briggs Th...   \n",
       "1          1       1       Futrelle, Mrs. Jacques Heath (Lily May Peel)   \n",
       "2          0       1                            McCarthy, Mr. Timothy J   \n",
       "3          1       3                    Sandstrom, Miss. Marguerite Rut   \n",
       "4          1       1                           Bonnell, Miss. Elizabeth   \n",
       "\n",
       "  Geschlecht  Alter  Anzahl_Geschwister_Partner  Anzahl_Eltern_Kinder  \\\n",
       "0   weiblich   38.0                           1                     0   \n",
       "1   weiblich   35.0                           1                     0   \n",
       "2  maennlich   54.0                           0                     0   \n",
       "3   weiblich    4.0                           1                     1   \n",
       "4   weiblich   58.0                           0                     0   \n",
       "\n",
       "     Ticket  Ticketpreis Kabine Einstiegshafen  \n",
       "0  PC 17599      71.2833    C85              C  \n",
       "1    113803      53.1000   C123              S  \n",
       "2     17463      51.8625    E46              S  \n",
       "3   PP 9549      16.7000     G6              S  \n",
       "4    113783      26.5500   C103              S  "
      ]
     },
     "execution_count": 2,
     "metadata": {},
     "output_type": "execute_result"
    }
   ],
   "source": [
    "daten.head()"
   ]
  },
  {
   "cell_type": "markdown",
   "id": "f9f846ae-7c65-4cfd-948f-00f9ed70bf73",
   "metadata": {},
   "source": [
    "Name, Tickets und Kabine sind Strings. Geschlecht und Einstiegshafen sind zwar vom Datentyp her Strings, könnten aber hier auch für Klassen stehen."
   ]
  },
  {
   "cell_type": "markdown",
   "id": "c0e47d1f",
   "metadata": {},
   "source": [
    "4. Erstellen Sie eine Übersicht der statistischen Merkmale für die numerischen\n",
    "   Daten. Visualisieren Sie anschließend die statistischen Merkmale mit\n",
    "   Boxplots. Interpretieren Sie die statistischen Merkmale. Gibt es Ausreißer?\n",
    "   Sind die Werte plausibel?"
   ]
  },
  {
   "cell_type": "code",
   "execution_count": 3,
   "id": "60bfdd36",
   "metadata": {},
   "outputs": [
    {
     "data": {
      "text/html": [
       "<div>\n",
       "<style scoped>\n",
       "    .dataframe tbody tr th:only-of-type {\n",
       "        vertical-align: middle;\n",
       "    }\n",
       "\n",
       "    .dataframe tbody tr th {\n",
       "        vertical-align: top;\n",
       "    }\n",
       "\n",
       "    .dataframe thead th {\n",
       "        text-align: right;\n",
       "    }\n",
       "</style>\n",
       "<table border=\"1\" class=\"dataframe\">\n",
       "  <thead>\n",
       "    <tr style=\"text-align: right;\">\n",
       "      <th></th>\n",
       "      <th>ueberlebt</th>\n",
       "      <th>Klasse</th>\n",
       "      <th>Alter</th>\n",
       "      <th>Anzahl_Geschwister_Partner</th>\n",
       "      <th>Anzahl_Eltern_Kinder</th>\n",
       "      <th>Ticketpreis</th>\n",
       "    </tr>\n",
       "  </thead>\n",
       "  <tbody>\n",
       "    <tr>\n",
       "      <th>count</th>\n",
       "      <td>183.000000</td>\n",
       "      <td>183.000000</td>\n",
       "      <td>183.000000</td>\n",
       "      <td>183.000000</td>\n",
       "      <td>183.000000</td>\n",
       "      <td>183.000000</td>\n",
       "    </tr>\n",
       "    <tr>\n",
       "      <th>mean</th>\n",
       "      <td>0.672131</td>\n",
       "      <td>1.191257</td>\n",
       "      <td>35.674426</td>\n",
       "      <td>0.464481</td>\n",
       "      <td>0.475410</td>\n",
       "      <td>78.682469</td>\n",
       "    </tr>\n",
       "    <tr>\n",
       "      <th>std</th>\n",
       "      <td>0.470725</td>\n",
       "      <td>0.515187</td>\n",
       "      <td>15.643866</td>\n",
       "      <td>0.644159</td>\n",
       "      <td>0.754617</td>\n",
       "      <td>76.347843</td>\n",
       "    </tr>\n",
       "    <tr>\n",
       "      <th>min</th>\n",
       "      <td>0.000000</td>\n",
       "      <td>1.000000</td>\n",
       "      <td>0.920000</td>\n",
       "      <td>0.000000</td>\n",
       "      <td>0.000000</td>\n",
       "      <td>0.000000</td>\n",
       "    </tr>\n",
       "    <tr>\n",
       "      <th>25%</th>\n",
       "      <td>0.000000</td>\n",
       "      <td>1.000000</td>\n",
       "      <td>24.000000</td>\n",
       "      <td>0.000000</td>\n",
       "      <td>0.000000</td>\n",
       "      <td>29.700000</td>\n",
       "    </tr>\n",
       "    <tr>\n",
       "      <th>50%</th>\n",
       "      <td>1.000000</td>\n",
       "      <td>1.000000</td>\n",
       "      <td>36.000000</td>\n",
       "      <td>0.000000</td>\n",
       "      <td>0.000000</td>\n",
       "      <td>57.000000</td>\n",
       "    </tr>\n",
       "    <tr>\n",
       "      <th>75%</th>\n",
       "      <td>1.000000</td>\n",
       "      <td>1.000000</td>\n",
       "      <td>47.500000</td>\n",
       "      <td>1.000000</td>\n",
       "      <td>1.000000</td>\n",
       "      <td>90.000000</td>\n",
       "    </tr>\n",
       "    <tr>\n",
       "      <th>max</th>\n",
       "      <td>1.000000</td>\n",
       "      <td>3.000000</td>\n",
       "      <td>80.000000</td>\n",
       "      <td>3.000000</td>\n",
       "      <td>4.000000</td>\n",
       "      <td>512.329200</td>\n",
       "    </tr>\n",
       "  </tbody>\n",
       "</table>\n",
       "</div>"
      ],
      "text/plain": [
       "        ueberlebt      Klasse       Alter  Anzahl_Geschwister_Partner  \\\n",
       "count  183.000000  183.000000  183.000000                  183.000000   \n",
       "mean     0.672131    1.191257   35.674426                    0.464481   \n",
       "std      0.470725    0.515187   15.643866                    0.644159   \n",
       "min      0.000000    1.000000    0.920000                    0.000000   \n",
       "25%      0.000000    1.000000   24.000000                    0.000000   \n",
       "50%      1.000000    1.000000   36.000000                    0.000000   \n",
       "75%      1.000000    1.000000   47.500000                    1.000000   \n",
       "max      1.000000    3.000000   80.000000                    3.000000   \n",
       "\n",
       "       Anzahl_Eltern_Kinder  Ticketpreis  \n",
       "count            183.000000   183.000000  \n",
       "mean               0.475410    78.682469  \n",
       "std                0.754617    76.347843  \n",
       "min                0.000000     0.000000  \n",
       "25%                0.000000    29.700000  \n",
       "50%                0.000000    57.000000  \n",
       "75%                1.000000    90.000000  \n",
       "max                4.000000   512.329200  "
      ]
     },
     "execution_count": 3,
     "metadata": {},
     "output_type": "execute_result"
    }
   ],
   "source": [
    "daten.describe()"
   ]
  },
  {
   "cell_type": "markdown",
   "id": "24d4f133-d505-44a6-af4a-40b4a5fc06a7",
   "metadata": {},
   "source": [
    "Die statistischen Daten zu `'ueberlebt'` sind unplausibel. Auch wenn hier Integer verwendet wurden, um überlebt/nicht überlebt zu klassifizieren, sind es eigentlich Klassen und sollten daher nicht statistisch ausgewertet werden.\n",
    "\n",
    "Auf der Titanic gab es drei Preisklassen von 1 bis 3. Minimum und Maximum sind plausibel, aber dass 75 % der Passagiere in Klasse 1 (der teuersten Klasse) mitgereist sind, erscheint unwahrscheinlich.\n",
    "\n",
    "Beim Alter fällt auf, dass das minimale Alter 0.92 ist. Da Jahre normalerweise als ganze Zahlen angegeben werden, ist das ungewöhnlich, aber nicht unplausibel. Die älteste Person war 80 Jahre alt. Der Durchschnitt lag bei 35.6 Jahren und der Median bei 36. 75 % der Passagiere waren jünger als 47.5 Jahre. Es erscheint plausibel, das vor allem jüngere Passagiere die Strapazen der Schifffahrt auf sich genommen haben.  \n",
    "\n",
    "50 % der Passagiere reisten alleine, nur sehr wenige in Familien.\n",
    "\n",
    "Offensichtlich wurden Passagiere auch kostenlos mitgenommen, denn der minimale Ticketpreis ist 0. Das Maximum verwundert, vielleicht eine Umrechnung der Währungen, denn normalerweise werden nur 2 Nachkommastellen angegeben.\n"
   ]
  },
  {
   "cell_type": "code",
   "execution_count": 4,
   "id": "3c6d368c-43ef-46bf-9506-dda8cea54e73",
   "metadata": {},
   "outputs": [
    {
     "data": {
      "application/vnd.plotly.v1+json": {
       "config": {
        "plotlyServerURL": "https://plot.ly"
       },
       "data": [
        {
         "alignmentgroup": "True",
         "hovertemplate": "Merkmal=%{x}<br>Wert=%{y}<extra></extra>",
         "legendgroup": "",
         "marker": {
          "color": "#636efa"
         },
         "name": "",
         "notched": false,
         "offsetgroup": "",
         "orientation": "v",
         "showlegend": false,
         "type": "box",
         "x": [
          "Klasse",
          "Klasse",
          "Klasse",
          "Klasse",
          "Klasse",
          "Klasse",
          "Klasse",
          "Klasse",
          "Klasse",
          "Klasse",
          "Klasse",
          "Klasse",
          "Klasse",
          "Klasse",
          "Klasse",
          "Klasse",
          "Klasse",
          "Klasse",
          "Klasse",
          "Klasse",
          "Klasse",
          "Klasse",
          "Klasse",
          "Klasse",
          "Klasse",
          "Klasse",
          "Klasse",
          "Klasse",
          "Klasse",
          "Klasse",
          "Klasse",
          "Klasse",
          "Klasse",
          "Klasse",
          "Klasse",
          "Klasse",
          "Klasse",
          "Klasse",
          "Klasse",
          "Klasse",
          "Klasse",
          "Klasse",
          "Klasse",
          "Klasse",
          "Klasse",
          "Klasse",
          "Klasse",
          "Klasse",
          "Klasse",
          "Klasse",
          "Klasse",
          "Klasse",
          "Klasse",
          "Klasse",
          "Klasse",
          "Klasse",
          "Klasse",
          "Klasse",
          "Klasse",
          "Klasse",
          "Klasse",
          "Klasse",
          "Klasse",
          "Klasse",
          "Klasse",
          "Klasse",
          "Klasse",
          "Klasse",
          "Klasse",
          "Klasse",
          "Klasse",
          "Klasse",
          "Klasse",
          "Klasse",
          "Klasse",
          "Klasse",
          "Klasse",
          "Klasse",
          "Klasse",
          "Klasse",
          "Klasse",
          "Klasse",
          "Klasse",
          "Klasse",
          "Klasse",
          "Klasse",
          "Klasse",
          "Klasse",
          "Klasse",
          "Klasse",
          "Klasse",
          "Klasse",
          "Klasse",
          "Klasse",
          "Klasse",
          "Klasse",
          "Klasse",
          "Klasse",
          "Klasse",
          "Klasse",
          "Klasse",
          "Klasse",
          "Klasse",
          "Klasse",
          "Klasse",
          "Klasse",
          "Klasse",
          "Klasse",
          "Klasse",
          "Klasse",
          "Klasse",
          "Klasse",
          "Klasse",
          "Klasse",
          "Klasse",
          "Klasse",
          "Klasse",
          "Klasse",
          "Klasse",
          "Klasse",
          "Klasse",
          "Klasse",
          "Klasse",
          "Klasse",
          "Klasse",
          "Klasse",
          "Klasse",
          "Klasse",
          "Klasse",
          "Klasse",
          "Klasse",
          "Klasse",
          "Klasse",
          "Klasse",
          "Klasse",
          "Klasse",
          "Klasse",
          "Klasse",
          "Klasse",
          "Klasse",
          "Klasse",
          "Klasse",
          "Klasse",
          "Klasse",
          "Klasse",
          "Klasse",
          "Klasse",
          "Klasse",
          "Klasse",
          "Klasse",
          "Klasse",
          "Klasse",
          "Klasse",
          "Klasse",
          "Klasse",
          "Klasse",
          "Klasse",
          "Klasse",
          "Klasse",
          "Klasse",
          "Klasse",
          "Klasse",
          "Klasse",
          "Klasse",
          "Klasse",
          "Klasse",
          "Klasse",
          "Klasse",
          "Klasse",
          "Klasse",
          "Klasse",
          "Klasse",
          "Klasse",
          "Klasse",
          "Klasse",
          "Klasse",
          "Klasse",
          "Klasse",
          "Klasse",
          "Klasse",
          "Klasse",
          "Klasse",
          "Klasse",
          "Alter",
          "Alter",
          "Alter",
          "Alter",
          "Alter",
          "Alter",
          "Alter",
          "Alter",
          "Alter",
          "Alter",
          "Alter",
          "Alter",
          "Alter",
          "Alter",
          "Alter",
          "Alter",
          "Alter",
          "Alter",
          "Alter",
          "Alter",
          "Alter",
          "Alter",
          "Alter",
          "Alter",
          "Alter",
          "Alter",
          "Alter",
          "Alter",
          "Alter",
          "Alter",
          "Alter",
          "Alter",
          "Alter",
          "Alter",
          "Alter",
          "Alter",
          "Alter",
          "Alter",
          "Alter",
          "Alter",
          "Alter",
          "Alter",
          "Alter",
          "Alter",
          "Alter",
          "Alter",
          "Alter",
          "Alter",
          "Alter",
          "Alter",
          "Alter",
          "Alter",
          "Alter",
          "Alter",
          "Alter",
          "Alter",
          "Alter",
          "Alter",
          "Alter",
          "Alter",
          "Alter",
          "Alter",
          "Alter",
          "Alter",
          "Alter",
          "Alter",
          "Alter",
          "Alter",
          "Alter",
          "Alter",
          "Alter",
          "Alter",
          "Alter",
          "Alter",
          "Alter",
          "Alter",
          "Alter",
          "Alter",
          "Alter",
          "Alter",
          "Alter",
          "Alter",
          "Alter",
          "Alter",
          "Alter",
          "Alter",
          "Alter",
          "Alter",
          "Alter",
          "Alter",
          "Alter",
          "Alter",
          "Alter",
          "Alter",
          "Alter",
          "Alter",
          "Alter",
          "Alter",
          "Alter",
          "Alter",
          "Alter",
          "Alter",
          "Alter",
          "Alter",
          "Alter",
          "Alter",
          "Alter",
          "Alter",
          "Alter",
          "Alter",
          "Alter",
          "Alter",
          "Alter",
          "Alter",
          "Alter",
          "Alter",
          "Alter",
          "Alter",
          "Alter",
          "Alter",
          "Alter",
          "Alter",
          "Alter",
          "Alter",
          "Alter",
          "Alter",
          "Alter",
          "Alter",
          "Alter",
          "Alter",
          "Alter",
          "Alter",
          "Alter",
          "Alter",
          "Alter",
          "Alter",
          "Alter",
          "Alter",
          "Alter",
          "Alter",
          "Alter",
          "Alter",
          "Alter",
          "Alter",
          "Alter",
          "Alter",
          "Alter",
          "Alter",
          "Alter",
          "Alter",
          "Alter",
          "Alter",
          "Alter",
          "Alter",
          "Alter",
          "Alter",
          "Alter",
          "Alter",
          "Alter",
          "Alter",
          "Alter",
          "Alter",
          "Alter",
          "Alter",
          "Alter",
          "Alter",
          "Alter",
          "Alter",
          "Alter",
          "Alter",
          "Alter",
          "Alter",
          "Alter",
          "Alter",
          "Alter",
          "Alter",
          "Alter",
          "Alter",
          "Alter",
          "Alter",
          "Alter",
          "Alter",
          "Alter",
          "Anzahl_Geschwister_Partner",
          "Anzahl_Geschwister_Partner",
          "Anzahl_Geschwister_Partner",
          "Anzahl_Geschwister_Partner",
          "Anzahl_Geschwister_Partner",
          "Anzahl_Geschwister_Partner",
          "Anzahl_Geschwister_Partner",
          "Anzahl_Geschwister_Partner",
          "Anzahl_Geschwister_Partner",
          "Anzahl_Geschwister_Partner",
          "Anzahl_Geschwister_Partner",
          "Anzahl_Geschwister_Partner",
          "Anzahl_Geschwister_Partner",
          "Anzahl_Geschwister_Partner",
          "Anzahl_Geschwister_Partner",
          "Anzahl_Geschwister_Partner",
          "Anzahl_Geschwister_Partner",
          "Anzahl_Geschwister_Partner",
          "Anzahl_Geschwister_Partner",
          "Anzahl_Geschwister_Partner",
          "Anzahl_Geschwister_Partner",
          "Anzahl_Geschwister_Partner",
          "Anzahl_Geschwister_Partner",
          "Anzahl_Geschwister_Partner",
          "Anzahl_Geschwister_Partner",
          "Anzahl_Geschwister_Partner",
          "Anzahl_Geschwister_Partner",
          "Anzahl_Geschwister_Partner",
          "Anzahl_Geschwister_Partner",
          "Anzahl_Geschwister_Partner",
          "Anzahl_Geschwister_Partner",
          "Anzahl_Geschwister_Partner",
          "Anzahl_Geschwister_Partner",
          "Anzahl_Geschwister_Partner",
          "Anzahl_Geschwister_Partner",
          "Anzahl_Geschwister_Partner",
          "Anzahl_Geschwister_Partner",
          "Anzahl_Geschwister_Partner",
          "Anzahl_Geschwister_Partner",
          "Anzahl_Geschwister_Partner",
          "Anzahl_Geschwister_Partner",
          "Anzahl_Geschwister_Partner",
          "Anzahl_Geschwister_Partner",
          "Anzahl_Geschwister_Partner",
          "Anzahl_Geschwister_Partner",
          "Anzahl_Geschwister_Partner",
          "Anzahl_Geschwister_Partner",
          "Anzahl_Geschwister_Partner",
          "Anzahl_Geschwister_Partner",
          "Anzahl_Geschwister_Partner",
          "Anzahl_Geschwister_Partner",
          "Anzahl_Geschwister_Partner",
          "Anzahl_Geschwister_Partner",
          "Anzahl_Geschwister_Partner",
          "Anzahl_Geschwister_Partner",
          "Anzahl_Geschwister_Partner",
          "Anzahl_Geschwister_Partner",
          "Anzahl_Geschwister_Partner",
          "Anzahl_Geschwister_Partner",
          "Anzahl_Geschwister_Partner",
          "Anzahl_Geschwister_Partner",
          "Anzahl_Geschwister_Partner",
          "Anzahl_Geschwister_Partner",
          "Anzahl_Geschwister_Partner",
          "Anzahl_Geschwister_Partner",
          "Anzahl_Geschwister_Partner",
          "Anzahl_Geschwister_Partner",
          "Anzahl_Geschwister_Partner",
          "Anzahl_Geschwister_Partner",
          "Anzahl_Geschwister_Partner",
          "Anzahl_Geschwister_Partner",
          "Anzahl_Geschwister_Partner",
          "Anzahl_Geschwister_Partner",
          "Anzahl_Geschwister_Partner",
          "Anzahl_Geschwister_Partner",
          "Anzahl_Geschwister_Partner",
          "Anzahl_Geschwister_Partner",
          "Anzahl_Geschwister_Partner",
          "Anzahl_Geschwister_Partner",
          "Anzahl_Geschwister_Partner",
          "Anzahl_Geschwister_Partner",
          "Anzahl_Geschwister_Partner",
          "Anzahl_Geschwister_Partner",
          "Anzahl_Geschwister_Partner",
          "Anzahl_Geschwister_Partner",
          "Anzahl_Geschwister_Partner",
          "Anzahl_Geschwister_Partner",
          "Anzahl_Geschwister_Partner",
          "Anzahl_Geschwister_Partner",
          "Anzahl_Geschwister_Partner",
          "Anzahl_Geschwister_Partner",
          "Anzahl_Geschwister_Partner",
          "Anzahl_Geschwister_Partner",
          "Anzahl_Geschwister_Partner",
          "Anzahl_Geschwister_Partner",
          "Anzahl_Geschwister_Partner",
          "Anzahl_Geschwister_Partner",
          "Anzahl_Geschwister_Partner",
          "Anzahl_Geschwister_Partner",
          "Anzahl_Geschwister_Partner",
          "Anzahl_Geschwister_Partner",
          "Anzahl_Geschwister_Partner",
          "Anzahl_Geschwister_Partner",
          "Anzahl_Geschwister_Partner",
          "Anzahl_Geschwister_Partner",
          "Anzahl_Geschwister_Partner",
          "Anzahl_Geschwister_Partner",
          "Anzahl_Geschwister_Partner",
          "Anzahl_Geschwister_Partner",
          "Anzahl_Geschwister_Partner",
          "Anzahl_Geschwister_Partner",
          "Anzahl_Geschwister_Partner",
          "Anzahl_Geschwister_Partner",
          "Anzahl_Geschwister_Partner",
          "Anzahl_Geschwister_Partner",
          "Anzahl_Geschwister_Partner",
          "Anzahl_Geschwister_Partner",
          "Anzahl_Geschwister_Partner",
          "Anzahl_Geschwister_Partner",
          "Anzahl_Geschwister_Partner",
          "Anzahl_Geschwister_Partner",
          "Anzahl_Geschwister_Partner",
          "Anzahl_Geschwister_Partner",
          "Anzahl_Geschwister_Partner",
          "Anzahl_Geschwister_Partner",
          "Anzahl_Geschwister_Partner",
          "Anzahl_Geschwister_Partner",
          "Anzahl_Geschwister_Partner",
          "Anzahl_Geschwister_Partner",
          "Anzahl_Geschwister_Partner",
          "Anzahl_Geschwister_Partner",
          "Anzahl_Geschwister_Partner",
          "Anzahl_Geschwister_Partner",
          "Anzahl_Geschwister_Partner",
          "Anzahl_Geschwister_Partner",
          "Anzahl_Geschwister_Partner",
          "Anzahl_Geschwister_Partner",
          "Anzahl_Geschwister_Partner",
          "Anzahl_Geschwister_Partner",
          "Anzahl_Geschwister_Partner",
          "Anzahl_Geschwister_Partner",
          "Anzahl_Geschwister_Partner",
          "Anzahl_Geschwister_Partner",
          "Anzahl_Geschwister_Partner",
          "Anzahl_Geschwister_Partner",
          "Anzahl_Geschwister_Partner",
          "Anzahl_Geschwister_Partner",
          "Anzahl_Geschwister_Partner",
          "Anzahl_Geschwister_Partner",
          "Anzahl_Geschwister_Partner",
          "Anzahl_Geschwister_Partner",
          "Anzahl_Geschwister_Partner",
          "Anzahl_Geschwister_Partner",
          "Anzahl_Geschwister_Partner",
          "Anzahl_Geschwister_Partner",
          "Anzahl_Geschwister_Partner",
          "Anzahl_Geschwister_Partner",
          "Anzahl_Geschwister_Partner",
          "Anzahl_Geschwister_Partner",
          "Anzahl_Geschwister_Partner",
          "Anzahl_Geschwister_Partner",
          "Anzahl_Geschwister_Partner",
          "Anzahl_Geschwister_Partner",
          "Anzahl_Geschwister_Partner",
          "Anzahl_Geschwister_Partner",
          "Anzahl_Geschwister_Partner",
          "Anzahl_Geschwister_Partner",
          "Anzahl_Geschwister_Partner",
          "Anzahl_Geschwister_Partner",
          "Anzahl_Geschwister_Partner",
          "Anzahl_Geschwister_Partner",
          "Anzahl_Geschwister_Partner",
          "Anzahl_Geschwister_Partner",
          "Anzahl_Geschwister_Partner",
          "Anzahl_Geschwister_Partner",
          "Anzahl_Geschwister_Partner",
          "Anzahl_Geschwister_Partner",
          "Anzahl_Geschwister_Partner",
          "Anzahl_Geschwister_Partner",
          "Anzahl_Geschwister_Partner",
          "Anzahl_Geschwister_Partner",
          "Anzahl_Geschwister_Partner",
          "Anzahl_Geschwister_Partner",
          "Anzahl_Eltern_Kinder",
          "Anzahl_Eltern_Kinder",
          "Anzahl_Eltern_Kinder",
          "Anzahl_Eltern_Kinder",
          "Anzahl_Eltern_Kinder",
          "Anzahl_Eltern_Kinder",
          "Anzahl_Eltern_Kinder",
          "Anzahl_Eltern_Kinder",
          "Anzahl_Eltern_Kinder",
          "Anzahl_Eltern_Kinder",
          "Anzahl_Eltern_Kinder",
          "Anzahl_Eltern_Kinder",
          "Anzahl_Eltern_Kinder",
          "Anzahl_Eltern_Kinder",
          "Anzahl_Eltern_Kinder",
          "Anzahl_Eltern_Kinder",
          "Anzahl_Eltern_Kinder",
          "Anzahl_Eltern_Kinder",
          "Anzahl_Eltern_Kinder",
          "Anzahl_Eltern_Kinder",
          "Anzahl_Eltern_Kinder",
          "Anzahl_Eltern_Kinder",
          "Anzahl_Eltern_Kinder",
          "Anzahl_Eltern_Kinder",
          "Anzahl_Eltern_Kinder",
          "Anzahl_Eltern_Kinder",
          "Anzahl_Eltern_Kinder",
          "Anzahl_Eltern_Kinder",
          "Anzahl_Eltern_Kinder",
          "Anzahl_Eltern_Kinder",
          "Anzahl_Eltern_Kinder",
          "Anzahl_Eltern_Kinder",
          "Anzahl_Eltern_Kinder",
          "Anzahl_Eltern_Kinder",
          "Anzahl_Eltern_Kinder",
          "Anzahl_Eltern_Kinder",
          "Anzahl_Eltern_Kinder",
          "Anzahl_Eltern_Kinder",
          "Anzahl_Eltern_Kinder",
          "Anzahl_Eltern_Kinder",
          "Anzahl_Eltern_Kinder",
          "Anzahl_Eltern_Kinder",
          "Anzahl_Eltern_Kinder",
          "Anzahl_Eltern_Kinder",
          "Anzahl_Eltern_Kinder",
          "Anzahl_Eltern_Kinder",
          "Anzahl_Eltern_Kinder",
          "Anzahl_Eltern_Kinder",
          "Anzahl_Eltern_Kinder",
          "Anzahl_Eltern_Kinder",
          "Anzahl_Eltern_Kinder",
          "Anzahl_Eltern_Kinder",
          "Anzahl_Eltern_Kinder",
          "Anzahl_Eltern_Kinder",
          "Anzahl_Eltern_Kinder",
          "Anzahl_Eltern_Kinder",
          "Anzahl_Eltern_Kinder",
          "Anzahl_Eltern_Kinder",
          "Anzahl_Eltern_Kinder",
          "Anzahl_Eltern_Kinder",
          "Anzahl_Eltern_Kinder",
          "Anzahl_Eltern_Kinder",
          "Anzahl_Eltern_Kinder",
          "Anzahl_Eltern_Kinder",
          "Anzahl_Eltern_Kinder",
          "Anzahl_Eltern_Kinder",
          "Anzahl_Eltern_Kinder",
          "Anzahl_Eltern_Kinder",
          "Anzahl_Eltern_Kinder",
          "Anzahl_Eltern_Kinder",
          "Anzahl_Eltern_Kinder",
          "Anzahl_Eltern_Kinder",
          "Anzahl_Eltern_Kinder",
          "Anzahl_Eltern_Kinder",
          "Anzahl_Eltern_Kinder",
          "Anzahl_Eltern_Kinder",
          "Anzahl_Eltern_Kinder",
          "Anzahl_Eltern_Kinder",
          "Anzahl_Eltern_Kinder",
          "Anzahl_Eltern_Kinder",
          "Anzahl_Eltern_Kinder",
          "Anzahl_Eltern_Kinder",
          "Anzahl_Eltern_Kinder",
          "Anzahl_Eltern_Kinder",
          "Anzahl_Eltern_Kinder",
          "Anzahl_Eltern_Kinder",
          "Anzahl_Eltern_Kinder",
          "Anzahl_Eltern_Kinder",
          "Anzahl_Eltern_Kinder",
          "Anzahl_Eltern_Kinder",
          "Anzahl_Eltern_Kinder",
          "Anzahl_Eltern_Kinder",
          "Anzahl_Eltern_Kinder",
          "Anzahl_Eltern_Kinder",
          "Anzahl_Eltern_Kinder",
          "Anzahl_Eltern_Kinder",
          "Anzahl_Eltern_Kinder",
          "Anzahl_Eltern_Kinder",
          "Anzahl_Eltern_Kinder",
          "Anzahl_Eltern_Kinder",
          "Anzahl_Eltern_Kinder",
          "Anzahl_Eltern_Kinder",
          "Anzahl_Eltern_Kinder",
          "Anzahl_Eltern_Kinder",
          "Anzahl_Eltern_Kinder",
          "Anzahl_Eltern_Kinder",
          "Anzahl_Eltern_Kinder",
          "Anzahl_Eltern_Kinder",
          "Anzahl_Eltern_Kinder",
          "Anzahl_Eltern_Kinder",
          "Anzahl_Eltern_Kinder",
          "Anzahl_Eltern_Kinder",
          "Anzahl_Eltern_Kinder",
          "Anzahl_Eltern_Kinder",
          "Anzahl_Eltern_Kinder",
          "Anzahl_Eltern_Kinder",
          "Anzahl_Eltern_Kinder",
          "Anzahl_Eltern_Kinder",
          "Anzahl_Eltern_Kinder",
          "Anzahl_Eltern_Kinder",
          "Anzahl_Eltern_Kinder",
          "Anzahl_Eltern_Kinder",
          "Anzahl_Eltern_Kinder",
          "Anzahl_Eltern_Kinder",
          "Anzahl_Eltern_Kinder",
          "Anzahl_Eltern_Kinder",
          "Anzahl_Eltern_Kinder",
          "Anzahl_Eltern_Kinder",
          "Anzahl_Eltern_Kinder",
          "Anzahl_Eltern_Kinder",
          "Anzahl_Eltern_Kinder",
          "Anzahl_Eltern_Kinder",
          "Anzahl_Eltern_Kinder",
          "Anzahl_Eltern_Kinder",
          "Anzahl_Eltern_Kinder",
          "Anzahl_Eltern_Kinder",
          "Anzahl_Eltern_Kinder",
          "Anzahl_Eltern_Kinder",
          "Anzahl_Eltern_Kinder",
          "Anzahl_Eltern_Kinder",
          "Anzahl_Eltern_Kinder",
          "Anzahl_Eltern_Kinder",
          "Anzahl_Eltern_Kinder",
          "Anzahl_Eltern_Kinder",
          "Anzahl_Eltern_Kinder",
          "Anzahl_Eltern_Kinder",
          "Anzahl_Eltern_Kinder",
          "Anzahl_Eltern_Kinder",
          "Anzahl_Eltern_Kinder",
          "Anzahl_Eltern_Kinder",
          "Anzahl_Eltern_Kinder",
          "Anzahl_Eltern_Kinder",
          "Anzahl_Eltern_Kinder",
          "Anzahl_Eltern_Kinder",
          "Anzahl_Eltern_Kinder",
          "Anzahl_Eltern_Kinder",
          "Anzahl_Eltern_Kinder",
          "Anzahl_Eltern_Kinder",
          "Anzahl_Eltern_Kinder",
          "Anzahl_Eltern_Kinder",
          "Anzahl_Eltern_Kinder",
          "Anzahl_Eltern_Kinder",
          "Anzahl_Eltern_Kinder",
          "Anzahl_Eltern_Kinder",
          "Anzahl_Eltern_Kinder",
          "Anzahl_Eltern_Kinder",
          "Anzahl_Eltern_Kinder",
          "Anzahl_Eltern_Kinder",
          "Anzahl_Eltern_Kinder",
          "Anzahl_Eltern_Kinder",
          "Anzahl_Eltern_Kinder",
          "Anzahl_Eltern_Kinder",
          "Anzahl_Eltern_Kinder",
          "Anzahl_Eltern_Kinder",
          "Anzahl_Eltern_Kinder",
          "Anzahl_Eltern_Kinder",
          "Anzahl_Eltern_Kinder",
          "Anzahl_Eltern_Kinder",
          "Anzahl_Eltern_Kinder",
          "Anzahl_Eltern_Kinder",
          "Anzahl_Eltern_Kinder",
          "Anzahl_Eltern_Kinder",
          "Anzahl_Eltern_Kinder",
          "Ticketpreis",
          "Ticketpreis",
          "Ticketpreis",
          "Ticketpreis",
          "Ticketpreis",
          "Ticketpreis",
          "Ticketpreis",
          "Ticketpreis",
          "Ticketpreis",
          "Ticketpreis",
          "Ticketpreis",
          "Ticketpreis",
          "Ticketpreis",
          "Ticketpreis",
          "Ticketpreis",
          "Ticketpreis",
          "Ticketpreis",
          "Ticketpreis",
          "Ticketpreis",
          "Ticketpreis",
          "Ticketpreis",
          "Ticketpreis",
          "Ticketpreis",
          "Ticketpreis",
          "Ticketpreis",
          "Ticketpreis",
          "Ticketpreis",
          "Ticketpreis",
          "Ticketpreis",
          "Ticketpreis",
          "Ticketpreis",
          "Ticketpreis",
          "Ticketpreis",
          "Ticketpreis",
          "Ticketpreis",
          "Ticketpreis",
          "Ticketpreis",
          "Ticketpreis",
          "Ticketpreis",
          "Ticketpreis",
          "Ticketpreis",
          "Ticketpreis",
          "Ticketpreis",
          "Ticketpreis",
          "Ticketpreis",
          "Ticketpreis",
          "Ticketpreis",
          "Ticketpreis",
          "Ticketpreis",
          "Ticketpreis",
          "Ticketpreis",
          "Ticketpreis",
          "Ticketpreis",
          "Ticketpreis",
          "Ticketpreis",
          "Ticketpreis",
          "Ticketpreis",
          "Ticketpreis",
          "Ticketpreis",
          "Ticketpreis",
          "Ticketpreis",
          "Ticketpreis",
          "Ticketpreis",
          "Ticketpreis",
          "Ticketpreis",
          "Ticketpreis",
          "Ticketpreis",
          "Ticketpreis",
          "Ticketpreis",
          "Ticketpreis",
          "Ticketpreis",
          "Ticketpreis",
          "Ticketpreis",
          "Ticketpreis",
          "Ticketpreis",
          "Ticketpreis",
          "Ticketpreis",
          "Ticketpreis",
          "Ticketpreis",
          "Ticketpreis",
          "Ticketpreis",
          "Ticketpreis",
          "Ticketpreis",
          "Ticketpreis",
          "Ticketpreis",
          "Ticketpreis",
          "Ticketpreis",
          "Ticketpreis",
          "Ticketpreis",
          "Ticketpreis",
          "Ticketpreis",
          "Ticketpreis",
          "Ticketpreis",
          "Ticketpreis",
          "Ticketpreis",
          "Ticketpreis",
          "Ticketpreis",
          "Ticketpreis",
          "Ticketpreis",
          "Ticketpreis",
          "Ticketpreis",
          "Ticketpreis",
          "Ticketpreis",
          "Ticketpreis",
          "Ticketpreis",
          "Ticketpreis",
          "Ticketpreis",
          "Ticketpreis",
          "Ticketpreis",
          "Ticketpreis",
          "Ticketpreis",
          "Ticketpreis",
          "Ticketpreis",
          "Ticketpreis",
          "Ticketpreis",
          "Ticketpreis",
          "Ticketpreis",
          "Ticketpreis",
          "Ticketpreis",
          "Ticketpreis",
          "Ticketpreis",
          "Ticketpreis",
          "Ticketpreis",
          "Ticketpreis",
          "Ticketpreis",
          "Ticketpreis",
          "Ticketpreis",
          "Ticketpreis",
          "Ticketpreis",
          "Ticketpreis",
          "Ticketpreis",
          "Ticketpreis",
          "Ticketpreis",
          "Ticketpreis",
          "Ticketpreis",
          "Ticketpreis",
          "Ticketpreis",
          "Ticketpreis",
          "Ticketpreis",
          "Ticketpreis",
          "Ticketpreis",
          "Ticketpreis",
          "Ticketpreis",
          "Ticketpreis",
          "Ticketpreis",
          "Ticketpreis",
          "Ticketpreis",
          "Ticketpreis",
          "Ticketpreis",
          "Ticketpreis",
          "Ticketpreis",
          "Ticketpreis",
          "Ticketpreis",
          "Ticketpreis",
          "Ticketpreis",
          "Ticketpreis",
          "Ticketpreis",
          "Ticketpreis",
          "Ticketpreis",
          "Ticketpreis",
          "Ticketpreis",
          "Ticketpreis",
          "Ticketpreis",
          "Ticketpreis",
          "Ticketpreis",
          "Ticketpreis",
          "Ticketpreis",
          "Ticketpreis",
          "Ticketpreis",
          "Ticketpreis",
          "Ticketpreis",
          "Ticketpreis",
          "Ticketpreis",
          "Ticketpreis",
          "Ticketpreis",
          "Ticketpreis",
          "Ticketpreis",
          "Ticketpreis",
          "Ticketpreis",
          "Ticketpreis",
          "Ticketpreis",
          "Ticketpreis",
          "Ticketpreis"
         ],
         "x0": " ",
         "xaxis": "x",
         "y": [
          1,
          1,
          1,
          3,
          1,
          2,
          1,
          1,
          1,
          1,
          1,
          2,
          3,
          1,
          1,
          1,
          1,
          1,
          1,
          1,
          2,
          1,
          1,
          1,
          1,
          2,
          1,
          1,
          1,
          1,
          2,
          2,
          1,
          1,
          3,
          1,
          1,
          1,
          1,
          1,
          1,
          1,
          3,
          1,
          1,
          1,
          1,
          1,
          1,
          1,
          1,
          1,
          2,
          1,
          1,
          1,
          1,
          1,
          1,
          1,
          1,
          1,
          1,
          2,
          1,
          1,
          1,
          1,
          1,
          1,
          2,
          1,
          2,
          1,
          1,
          1,
          1,
          1,
          1,
          1,
          3,
          1,
          3,
          1,
          1,
          1,
          1,
          1,
          1,
          1,
          1,
          1,
          1,
          1,
          2,
          1,
          1,
          1,
          1,
          1,
          1,
          1,
          1,
          1,
          1,
          2,
          1,
          1,
          1,
          1,
          1,
          1,
          1,
          1,
          1,
          1,
          1,
          1,
          1,
          1,
          1,
          1,
          1,
          1,
          1,
          2,
          1,
          1,
          1,
          1,
          1,
          1,
          1,
          1,
          1,
          1,
          1,
          1,
          1,
          1,
          1,
          1,
          3,
          1,
          1,
          1,
          1,
          1,
          3,
          1,
          2,
          1,
          1,
          1,
          1,
          1,
          1,
          1,
          3,
          1,
          1,
          1,
          2,
          1,
          1,
          1,
          1,
          1,
          1,
          1,
          1,
          1,
          3,
          1,
          1,
          1,
          1,
          1,
          1,
          1,
          1,
          1,
          1,
          38,
          35,
          54,
          4,
          58,
          34,
          28,
          19,
          49,
          65,
          45,
          29,
          25,
          23,
          46,
          71,
          23,
          21,
          47,
          24,
          32.5,
          54,
          19,
          37,
          24,
          36.5,
          22,
          61,
          56,
          50,
          1,
          3,
          44,
          58,
          2,
          40,
          31,
          32,
          38,
          35,
          44,
          37,
          29,
          62,
          30,
          52,
          40,
          58,
          35,
          37,
          63,
          19,
          36,
          2,
          50,
          0.92,
          17,
          30,
          24,
          18,
          31,
          40,
          36,
          36,
          16,
          45.5,
          38,
          29,
          41,
          45,
          2,
          24,
          24,
          22,
          60,
          24,
          25,
          27,
          36,
          23,
          24,
          33,
          32,
          28,
          50,
          14,
          64,
          4,
          52,
          30,
          49,
          65,
          48,
          47,
          23,
          25,
          35,
          58,
          55,
          54,
          25,
          16,
          18,
          36,
          47,
          34,
          30,
          44,
          45,
          22,
          36,
          50,
          17,
          48,
          39,
          53,
          36,
          39,
          39,
          36,
          18,
          60,
          52,
          49,
          40,
          4,
          42,
          61,
          21,
          80,
          32,
          24,
          48,
          56,
          58,
          47,
          31,
          36,
          27,
          15,
          31,
          49,
          42,
          18,
          35,
          42,
          24,
          48,
          19,
          38,
          27,
          27,
          29,
          35,
          36,
          21,
          70,
          19,
          6,
          33,
          36,
          51,
          57,
          43,
          17,
          29,
          46,
          49,
          11,
          39,
          33,
          52,
          27,
          39,
          16,
          51,
          48,
          31,
          47,
          33,
          56,
          19,
          26,
          1,
          1,
          0,
          1,
          0,
          0,
          0,
          3,
          1,
          0,
          1,
          0,
          0,
          3,
          1,
          0,
          0,
          0,
          0,
          0,
          0,
          0,
          0,
          1,
          0,
          0,
          1,
          0,
          0,
          0,
          2,
          1,
          0,
          0,
          0,
          0,
          1,
          0,
          1,
          1,
          2,
          1,
          1,
          0,
          0,
          1,
          0,
          0,
          0,
          0,
          1,
          1,
          0,
          1,
          0,
          1,
          1,
          0,
          0,
          2,
          0,
          1,
          0,
          0,
          0,
          0,
          0,
          1,
          0,
          0,
          1,
          3,
          0,
          0,
          1,
          0,
          1,
          0,
          1,
          1,
          0,
          1,
          0,
          0,
          1,
          1,
          1,
          0,
          0,
          0,
          1,
          0,
          0,
          0,
          0,
          1,
          1,
          0,
          0,
          1,
          1,
          0,
          1,
          0,
          0,
          0,
          0,
          0,
          0,
          0,
          0,
          1,
          0,
          1,
          1,
          2,
          0,
          1,
          1,
          0,
          0,
          1,
          1,
          1,
          0,
          2,
          1,
          0,
          0,
          0,
          0,
          0,
          1,
          0,
          0,
          0,
          1,
          0,
          0,
          0,
          1,
          1,
          0,
          1,
          0,
          0,
          0,
          1,
          0,
          0,
          0,
          1,
          0,
          0,
          1,
          2,
          1,
          1,
          0,
          0,
          1,
          1,
          0,
          0,
          1,
          0,
          0,
          0,
          1,
          0,
          1,
          1,
          0,
          1,
          0,
          0,
          0,
          0,
          1,
          0,
          0,
          0,
          0,
          0,
          0,
          0,
          1,
          0,
          0,
          0,
          2,
          0,
          1,
          0,
          0,
          0,
          2,
          0,
          0,
          1,
          1,
          0,
          1,
          0,
          1,
          2,
          0,
          0,
          2,
          0,
          0,
          0,
          0,
          1,
          1,
          0,
          0,
          1,
          0,
          0,
          0,
          0,
          0,
          0,
          1,
          1,
          0,
          0,
          1,
          0,
          1,
          0,
          1,
          0,
          0,
          0,
          2,
          1,
          2,
          0,
          0,
          0,
          2,
          2,
          1,
          0,
          0,
          1,
          0,
          1,
          0,
          0,
          0,
          1,
          2,
          0,
          1,
          0,
          0,
          0,
          2,
          2,
          0,
          2,
          0,
          0,
          0,
          0,
          2,
          4,
          2,
          0,
          0,
          0,
          0,
          0,
          0,
          0,
          0,
          0,
          0,
          0,
          0,
          2,
          0,
          0,
          0,
          0,
          0,
          0,
          1,
          0,
          2,
          2,
          0,
          2,
          0,
          1,
          0,
          0,
          0,
          1,
          0,
          2,
          1,
          0,
          0,
          0,
          1,
          0,
          0,
          0,
          0,
          0,
          0,
          0,
          0,
          2,
          0,
          0,
          1,
          0,
          1,
          0,
          1,
          0,
          0,
          0,
          0,
          0,
          0,
          0,
          0,
          0,
          0,
          0,
          0,
          0,
          2,
          1,
          0,
          1,
          0,
          2,
          0,
          0,
          1,
          0,
          0,
          0,
          0,
          2,
          0,
          0,
          1,
          1,
          1,
          1,
          0,
          0,
          0,
          1,
          0,
          1,
          0,
          0,
          71.2833,
          53.1,
          51.8625,
          16.7,
          26.55,
          13,
          35.5,
          263,
          76.7292,
          61.9792,
          83.475,
          10.5,
          7.65,
          263,
          61.175,
          34.6542,
          63.3583,
          77.2875,
          52,
          247.5208,
          13,
          77.2875,
          26.2833,
          53.1,
          79.2,
          26,
          66.6,
          33.5,
          30.6958,
          28.7125,
          39,
          26,
          27.7208,
          146.5208,
          10.4625,
          31,
          113.275,
          76.2917,
          90,
          83.475,
          90,
          52.5542,
          10.4625,
          26.55,
          86.5,
          79.65,
          0,
          153.4625,
          135.6333,
          29.7,
          77.9583,
          91.0792,
          12.875,
          151.55,
          247.5208,
          151.55,
          108.9,
          56.9292,
          83.1583,
          262.375,
          164.8667,
          134.5,
          135.6333,
          13,
          57.9792,
          28.5,
          153.4625,
          66.6,
          134.5,
          35.5,
          26,
          263,
          13,
          55,
          75.25,
          69.3,
          55.4417,
          211.5,
          120,
          113.275,
          16.7,
          90,
          8.05,
          26.55,
          55.9,
          120,
          263,
          81.8583,
          30.5,
          27.75,
          89.1042,
          26.55,
          26.55,
          38.5,
          13.7917,
          91.0792,
          90,
          29.7,
          30.5,
          78.2667,
          151.55,
          86.5,
          108.9,
          26.2875,
          34.0208,
          10.5,
          93.5,
          57.9792,
          26.55,
          49.5,
          71,
          106.425,
          110.8833,
          39.6,
          79.65,
          51.4792,
          26.3875,
          55.9,
          110.8833,
          40.125,
          79.65,
          79.2,
          78.2667,
          56.9292,
          153.4625,
          39,
          52.5542,
          32.3208,
          77.9583,
          30,
          30.5,
          69.3,
          76.7292,
          35.5,
          113.275,
          25.5875,
          52,
          512.3292,
          76.7292,
          211.3375,
          57,
          110.8833,
          7.65,
          227.525,
          26.2875,
          26.2875,
          49.5042,
          52,
          7.65,
          227.525,
          10.5,
          53.1,
          211.3375,
          512.3292,
          78.85,
          262.375,
          71,
          53.1,
          12.475,
          86.5,
          120,
          77.9583,
          10.5,
          211.3375,
          57,
          30,
          79.2,
          25.9292,
          120,
          0,
          53.1,
          93.5,
          12.475,
          83.1583,
          39.4,
          26.55,
          25.9292,
          50.4958,
          52.5542,
          5,
          83.1583,
          30,
          30
         ],
         "y0": " ",
         "yaxis": "y"
        }
       ],
       "layout": {
        "boxmode": "group",
        "legend": {
         "tracegroupgap": 0
        },
        "template": {
         "data": {
          "bar": [
           {
            "error_x": {
             "color": "#2a3f5f"
            },
            "error_y": {
             "color": "#2a3f5f"
            },
            "marker": {
             "line": {
              "color": "#E5ECF6",
              "width": 0.5
             },
             "pattern": {
              "fillmode": "overlay",
              "size": 10,
              "solidity": 0.2
             }
            },
            "type": "bar"
           }
          ],
          "barpolar": [
           {
            "marker": {
             "line": {
              "color": "#E5ECF6",
              "width": 0.5
             },
             "pattern": {
              "fillmode": "overlay",
              "size": 10,
              "solidity": 0.2
             }
            },
            "type": "barpolar"
           }
          ],
          "carpet": [
           {
            "aaxis": {
             "endlinecolor": "#2a3f5f",
             "gridcolor": "white",
             "linecolor": "white",
             "minorgridcolor": "white",
             "startlinecolor": "#2a3f5f"
            },
            "baxis": {
             "endlinecolor": "#2a3f5f",
             "gridcolor": "white",
             "linecolor": "white",
             "minorgridcolor": "white",
             "startlinecolor": "#2a3f5f"
            },
            "type": "carpet"
           }
          ],
          "choropleth": [
           {
            "colorbar": {
             "outlinewidth": 0,
             "ticks": ""
            },
            "type": "choropleth"
           }
          ],
          "contour": [
           {
            "colorbar": {
             "outlinewidth": 0,
             "ticks": ""
            },
            "colorscale": [
             [
              0,
              "#0d0887"
             ],
             [
              0.1111111111111111,
              "#46039f"
             ],
             [
              0.2222222222222222,
              "#7201a8"
             ],
             [
              0.3333333333333333,
              "#9c179e"
             ],
             [
              0.4444444444444444,
              "#bd3786"
             ],
             [
              0.5555555555555556,
              "#d8576b"
             ],
             [
              0.6666666666666666,
              "#ed7953"
             ],
             [
              0.7777777777777778,
              "#fb9f3a"
             ],
             [
              0.8888888888888888,
              "#fdca26"
             ],
             [
              1,
              "#f0f921"
             ]
            ],
            "type": "contour"
           }
          ],
          "contourcarpet": [
           {
            "colorbar": {
             "outlinewidth": 0,
             "ticks": ""
            },
            "type": "contourcarpet"
           }
          ],
          "heatmap": [
           {
            "colorbar": {
             "outlinewidth": 0,
             "ticks": ""
            },
            "colorscale": [
             [
              0,
              "#0d0887"
             ],
             [
              0.1111111111111111,
              "#46039f"
             ],
             [
              0.2222222222222222,
              "#7201a8"
             ],
             [
              0.3333333333333333,
              "#9c179e"
             ],
             [
              0.4444444444444444,
              "#bd3786"
             ],
             [
              0.5555555555555556,
              "#d8576b"
             ],
             [
              0.6666666666666666,
              "#ed7953"
             ],
             [
              0.7777777777777778,
              "#fb9f3a"
             ],
             [
              0.8888888888888888,
              "#fdca26"
             ],
             [
              1,
              "#f0f921"
             ]
            ],
            "type": "heatmap"
           }
          ],
          "heatmapgl": [
           {
            "colorbar": {
             "outlinewidth": 0,
             "ticks": ""
            },
            "colorscale": [
             [
              0,
              "#0d0887"
             ],
             [
              0.1111111111111111,
              "#46039f"
             ],
             [
              0.2222222222222222,
              "#7201a8"
             ],
             [
              0.3333333333333333,
              "#9c179e"
             ],
             [
              0.4444444444444444,
              "#bd3786"
             ],
             [
              0.5555555555555556,
              "#d8576b"
             ],
             [
              0.6666666666666666,
              "#ed7953"
             ],
             [
              0.7777777777777778,
              "#fb9f3a"
             ],
             [
              0.8888888888888888,
              "#fdca26"
             ],
             [
              1,
              "#f0f921"
             ]
            ],
            "type": "heatmapgl"
           }
          ],
          "histogram": [
           {
            "marker": {
             "pattern": {
              "fillmode": "overlay",
              "size": 10,
              "solidity": 0.2
             }
            },
            "type": "histogram"
           }
          ],
          "histogram2d": [
           {
            "colorbar": {
             "outlinewidth": 0,
             "ticks": ""
            },
            "colorscale": [
             [
              0,
              "#0d0887"
             ],
             [
              0.1111111111111111,
              "#46039f"
             ],
             [
              0.2222222222222222,
              "#7201a8"
             ],
             [
              0.3333333333333333,
              "#9c179e"
             ],
             [
              0.4444444444444444,
              "#bd3786"
             ],
             [
              0.5555555555555556,
              "#d8576b"
             ],
             [
              0.6666666666666666,
              "#ed7953"
             ],
             [
              0.7777777777777778,
              "#fb9f3a"
             ],
             [
              0.8888888888888888,
              "#fdca26"
             ],
             [
              1,
              "#f0f921"
             ]
            ],
            "type": "histogram2d"
           }
          ],
          "histogram2dcontour": [
           {
            "colorbar": {
             "outlinewidth": 0,
             "ticks": ""
            },
            "colorscale": [
             [
              0,
              "#0d0887"
             ],
             [
              0.1111111111111111,
              "#46039f"
             ],
             [
              0.2222222222222222,
              "#7201a8"
             ],
             [
              0.3333333333333333,
              "#9c179e"
             ],
             [
              0.4444444444444444,
              "#bd3786"
             ],
             [
              0.5555555555555556,
              "#d8576b"
             ],
             [
              0.6666666666666666,
              "#ed7953"
             ],
             [
              0.7777777777777778,
              "#fb9f3a"
             ],
             [
              0.8888888888888888,
              "#fdca26"
             ],
             [
              1,
              "#f0f921"
             ]
            ],
            "type": "histogram2dcontour"
           }
          ],
          "mesh3d": [
           {
            "colorbar": {
             "outlinewidth": 0,
             "ticks": ""
            },
            "type": "mesh3d"
           }
          ],
          "parcoords": [
           {
            "line": {
             "colorbar": {
              "outlinewidth": 0,
              "ticks": ""
             }
            },
            "type": "parcoords"
           }
          ],
          "pie": [
           {
            "automargin": true,
            "type": "pie"
           }
          ],
          "scatter": [
           {
            "fillpattern": {
             "fillmode": "overlay",
             "size": 10,
             "solidity": 0.2
            },
            "type": "scatter"
           }
          ],
          "scatter3d": [
           {
            "line": {
             "colorbar": {
              "outlinewidth": 0,
              "ticks": ""
             }
            },
            "marker": {
             "colorbar": {
              "outlinewidth": 0,
              "ticks": ""
             }
            },
            "type": "scatter3d"
           }
          ],
          "scattercarpet": [
           {
            "marker": {
             "colorbar": {
              "outlinewidth": 0,
              "ticks": ""
             }
            },
            "type": "scattercarpet"
           }
          ],
          "scattergeo": [
           {
            "marker": {
             "colorbar": {
              "outlinewidth": 0,
              "ticks": ""
             }
            },
            "type": "scattergeo"
           }
          ],
          "scattergl": [
           {
            "marker": {
             "colorbar": {
              "outlinewidth": 0,
              "ticks": ""
             }
            },
            "type": "scattergl"
           }
          ],
          "scattermapbox": [
           {
            "marker": {
             "colorbar": {
              "outlinewidth": 0,
              "ticks": ""
             }
            },
            "type": "scattermapbox"
           }
          ],
          "scatterpolar": [
           {
            "marker": {
             "colorbar": {
              "outlinewidth": 0,
              "ticks": ""
             }
            },
            "type": "scatterpolar"
           }
          ],
          "scatterpolargl": [
           {
            "marker": {
             "colorbar": {
              "outlinewidth": 0,
              "ticks": ""
             }
            },
            "type": "scatterpolargl"
           }
          ],
          "scatterternary": [
           {
            "marker": {
             "colorbar": {
              "outlinewidth": 0,
              "ticks": ""
             }
            },
            "type": "scatterternary"
           }
          ],
          "surface": [
           {
            "colorbar": {
             "outlinewidth": 0,
             "ticks": ""
            },
            "colorscale": [
             [
              0,
              "#0d0887"
             ],
             [
              0.1111111111111111,
              "#46039f"
             ],
             [
              0.2222222222222222,
              "#7201a8"
             ],
             [
              0.3333333333333333,
              "#9c179e"
             ],
             [
              0.4444444444444444,
              "#bd3786"
             ],
             [
              0.5555555555555556,
              "#d8576b"
             ],
             [
              0.6666666666666666,
              "#ed7953"
             ],
             [
              0.7777777777777778,
              "#fb9f3a"
             ],
             [
              0.8888888888888888,
              "#fdca26"
             ],
             [
              1,
              "#f0f921"
             ]
            ],
            "type": "surface"
           }
          ],
          "table": [
           {
            "cells": {
             "fill": {
              "color": "#EBF0F8"
             },
             "line": {
              "color": "white"
             }
            },
            "header": {
             "fill": {
              "color": "#C8D4E3"
             },
             "line": {
              "color": "white"
             }
            },
            "type": "table"
           }
          ]
         },
         "layout": {
          "annotationdefaults": {
           "arrowcolor": "#2a3f5f",
           "arrowhead": 0,
           "arrowwidth": 1
          },
          "autotypenumbers": "strict",
          "coloraxis": {
           "colorbar": {
            "outlinewidth": 0,
            "ticks": ""
           }
          },
          "colorscale": {
           "diverging": [
            [
             0,
             "#8e0152"
            ],
            [
             0.1,
             "#c51b7d"
            ],
            [
             0.2,
             "#de77ae"
            ],
            [
             0.3,
             "#f1b6da"
            ],
            [
             0.4,
             "#fde0ef"
            ],
            [
             0.5,
             "#f7f7f7"
            ],
            [
             0.6,
             "#e6f5d0"
            ],
            [
             0.7,
             "#b8e186"
            ],
            [
             0.8,
             "#7fbc41"
            ],
            [
             0.9,
             "#4d9221"
            ],
            [
             1,
             "#276419"
            ]
           ],
           "sequential": [
            [
             0,
             "#0d0887"
            ],
            [
             0.1111111111111111,
             "#46039f"
            ],
            [
             0.2222222222222222,
             "#7201a8"
            ],
            [
             0.3333333333333333,
             "#9c179e"
            ],
            [
             0.4444444444444444,
             "#bd3786"
            ],
            [
             0.5555555555555556,
             "#d8576b"
            ],
            [
             0.6666666666666666,
             "#ed7953"
            ],
            [
             0.7777777777777778,
             "#fb9f3a"
            ],
            [
             0.8888888888888888,
             "#fdca26"
            ],
            [
             1,
             "#f0f921"
            ]
           ],
           "sequentialminus": [
            [
             0,
             "#0d0887"
            ],
            [
             0.1111111111111111,
             "#46039f"
            ],
            [
             0.2222222222222222,
             "#7201a8"
            ],
            [
             0.3333333333333333,
             "#9c179e"
            ],
            [
             0.4444444444444444,
             "#bd3786"
            ],
            [
             0.5555555555555556,
             "#d8576b"
            ],
            [
             0.6666666666666666,
             "#ed7953"
            ],
            [
             0.7777777777777778,
             "#fb9f3a"
            ],
            [
             0.8888888888888888,
             "#fdca26"
            ],
            [
             1,
             "#f0f921"
            ]
           ]
          },
          "colorway": [
           "#636efa",
           "#EF553B",
           "#00cc96",
           "#ab63fa",
           "#FFA15A",
           "#19d3f3",
           "#FF6692",
           "#B6E880",
           "#FF97FF",
           "#FECB52"
          ],
          "font": {
           "color": "#2a3f5f"
          },
          "geo": {
           "bgcolor": "white",
           "lakecolor": "white",
           "landcolor": "#E5ECF6",
           "showlakes": true,
           "showland": true,
           "subunitcolor": "white"
          },
          "hoverlabel": {
           "align": "left"
          },
          "hovermode": "closest",
          "mapbox": {
           "style": "light"
          },
          "paper_bgcolor": "white",
          "plot_bgcolor": "#E5ECF6",
          "polar": {
           "angularaxis": {
            "gridcolor": "white",
            "linecolor": "white",
            "ticks": ""
           },
           "bgcolor": "#E5ECF6",
           "radialaxis": {
            "gridcolor": "white",
            "linecolor": "white",
            "ticks": ""
           }
          },
          "scene": {
           "xaxis": {
            "backgroundcolor": "#E5ECF6",
            "gridcolor": "white",
            "gridwidth": 2,
            "linecolor": "white",
            "showbackground": true,
            "ticks": "",
            "zerolinecolor": "white"
           },
           "yaxis": {
            "backgroundcolor": "#E5ECF6",
            "gridcolor": "white",
            "gridwidth": 2,
            "linecolor": "white",
            "showbackground": true,
            "ticks": "",
            "zerolinecolor": "white"
           },
           "zaxis": {
            "backgroundcolor": "#E5ECF6",
            "gridcolor": "white",
            "gridwidth": 2,
            "linecolor": "white",
            "showbackground": true,
            "ticks": "",
            "zerolinecolor": "white"
           }
          },
          "shapedefaults": {
           "line": {
            "color": "#2a3f5f"
           }
          },
          "ternary": {
           "aaxis": {
            "gridcolor": "white",
            "linecolor": "white",
            "ticks": ""
           },
           "baxis": {
            "gridcolor": "white",
            "linecolor": "white",
            "ticks": ""
           },
           "bgcolor": "#E5ECF6",
           "caxis": {
            "gridcolor": "white",
            "linecolor": "white",
            "ticks": ""
           }
          },
          "title": {
           "x": 0.05
          },
          "xaxis": {
           "automargin": true,
           "gridcolor": "white",
           "linecolor": "white",
           "ticks": "",
           "title": {
            "standoff": 15
           },
           "zerolinecolor": "white",
           "zerolinewidth": 2
          },
          "yaxis": {
           "automargin": true,
           "gridcolor": "white",
           "linecolor": "white",
           "ticks": "",
           "title": {
            "standoff": 15
           },
           "zerolinecolor": "white",
           "zerolinewidth": 2
          }
         }
        },
        "title": {
         "text": "Boxplot der numerischen Werte des Titanic-Datensatzes"
        },
        "xaxis": {
         "anchor": "y",
         "domain": [
          0,
          1
         ],
         "title": {
          "text": "Merkmal"
         }
        },
        "yaxis": {
         "anchor": "x",
         "domain": [
          0,
          1
         ],
         "title": {
          "text": "Wert"
         }
        }
       }
      }
     },
     "metadata": {},
     "output_type": "display_data"
    }
   ],
   "source": [
    "import plotly.express as px \n",
    "\n",
    "kastendiagramm = px.box(daten[['Klasse', 'Alter', 'Anzahl_Geschwister_Partner', 'Anzahl_Eltern_Kinder', 'Ticketpreis']],\n",
    "                       labels={'value': 'Wert', 'variable': 'Merkmal'},\n",
    "                       title='Boxplot der numerischen Werte des Titanic-Datensatzes')\n",
    "kastendiagramm.show()"
   ]
  },
  {
   "cell_type": "markdown",
   "id": "e76a2c12-1481-4654-8967-9087598467c4",
   "metadata": {},
   "source": [
    "Beim Ticketpreis gibt es deutiche Ausreißer, bei den anderen Merkmalen gibt es vereinzelte Ausreißer."
   ]
  },
  {
   "cell_type": "markdown",
   "id": "724476c9",
   "metadata": {},
   "source": [
    "5. Untersuchen Sie die kategorialen Daten. Sind es wirklich kategoriale Daten?\n",
    "   Prüfen Sie für jedes kategoriale Merkmal die Einzigartigkeit der auftretenden\n",
    "   Werte und erstellen Sie ein Balkendiagramm mit den Häufigkeiten."
   ]
  },
  {
   "cell_type": "code",
   "execution_count": 5,
   "id": "5a28a2e2-8741-4139-8ddd-fe7ed9d29831",
   "metadata": {},
   "outputs": [
    {
     "name": "stdout",
     "output_type": "stream",
     "text": [
      "Merkmal Name hat 183 einzigartige Einträge.\n",
      "Merkmal Geschlecht hat 2 einzigartige Einträge.\n",
      "Merkmal Ticket hat 127 einzigartige Einträge.\n",
      "Merkmal Kabine hat 133 einzigartige Einträge.\n",
      "Merkmal Einstiegshafen hat 3 einzigartige Einträge.\n"
     ]
    }
   ],
   "source": [
    "merkmale = ['Name', 'Geschlecht', 'Ticket', 'Kabine', 'Einstiegshafen']\n",
    "for m in merkmale:\n",
    "    einzigartige_eintraege = daten[m].unique()\n",
    "    anzahl = len(einzigartige_eintraege)\n",
    "    print(f'Merkmal {m} hat {anzahl} einzigartige Einträge.')"
   ]
  },
  {
   "cell_type": "markdown",
   "id": "e1604f68-9f29-4f64-9222-bb18a1cca7c2",
   "metadata": {},
   "source": [
    "Beim Merkmal Geschlcht gibt es nur zwei verschiedene Einträge, beim Einstiegshafen nur drei verschiedene Einstiegshäfen. Das sind (ungeordnete) kategoriale Daten. Die anderen Merkmale sind zu verschieden und sind damit nicht mehr als kategoriale Daten einzustufen. Es werden daher die Balkendiagramme mit den Häufigkeiten nur für die beiden Merkmale Geschlecht und Einstiegshafen erstellt."
   ]
  },
  {
   "cell_type": "code",
   "execution_count": 6,
   "id": "1a0feaf3-73fe-4ce6-947a-edaca319d9e8",
   "metadata": {},
   "outputs": [
    {
     "data": {
      "application/vnd.plotly.v1+json": {
       "config": {
        "plotlyServerURL": "https://plot.ly"
       },
       "data": [
        {
         "alignmentgroup": "True",
         "hovertemplate": "Geschlecht=%{x}<br>Anzahl=%{y}<extra></extra>",
         "legendgroup": "count",
         "marker": {
          "color": "#636efa",
          "pattern": {
           "shape": ""
          }
         },
         "name": "count",
         "offsetgroup": "count",
         "orientation": "v",
         "showlegend": true,
         "textposition": "auto",
         "type": "bar",
         "x": [
          "maennlich",
          "weiblich"
         ],
         "xaxis": "x",
         "y": [
          95,
          88
         ],
         "yaxis": "y"
        }
       ],
       "layout": {
        "barmode": "relative",
        "legend": {
         "title": {
          "text": "Geschlecht"
         },
         "tracegroupgap": 0
        },
        "template": {
         "data": {
          "bar": [
           {
            "error_x": {
             "color": "#2a3f5f"
            },
            "error_y": {
             "color": "#2a3f5f"
            },
            "marker": {
             "line": {
              "color": "#E5ECF6",
              "width": 0.5
             },
             "pattern": {
              "fillmode": "overlay",
              "size": 10,
              "solidity": 0.2
             }
            },
            "type": "bar"
           }
          ],
          "barpolar": [
           {
            "marker": {
             "line": {
              "color": "#E5ECF6",
              "width": 0.5
             },
             "pattern": {
              "fillmode": "overlay",
              "size": 10,
              "solidity": 0.2
             }
            },
            "type": "barpolar"
           }
          ],
          "carpet": [
           {
            "aaxis": {
             "endlinecolor": "#2a3f5f",
             "gridcolor": "white",
             "linecolor": "white",
             "minorgridcolor": "white",
             "startlinecolor": "#2a3f5f"
            },
            "baxis": {
             "endlinecolor": "#2a3f5f",
             "gridcolor": "white",
             "linecolor": "white",
             "minorgridcolor": "white",
             "startlinecolor": "#2a3f5f"
            },
            "type": "carpet"
           }
          ],
          "choropleth": [
           {
            "colorbar": {
             "outlinewidth": 0,
             "ticks": ""
            },
            "type": "choropleth"
           }
          ],
          "contour": [
           {
            "colorbar": {
             "outlinewidth": 0,
             "ticks": ""
            },
            "colorscale": [
             [
              0,
              "#0d0887"
             ],
             [
              0.1111111111111111,
              "#46039f"
             ],
             [
              0.2222222222222222,
              "#7201a8"
             ],
             [
              0.3333333333333333,
              "#9c179e"
             ],
             [
              0.4444444444444444,
              "#bd3786"
             ],
             [
              0.5555555555555556,
              "#d8576b"
             ],
             [
              0.6666666666666666,
              "#ed7953"
             ],
             [
              0.7777777777777778,
              "#fb9f3a"
             ],
             [
              0.8888888888888888,
              "#fdca26"
             ],
             [
              1,
              "#f0f921"
             ]
            ],
            "type": "contour"
           }
          ],
          "contourcarpet": [
           {
            "colorbar": {
             "outlinewidth": 0,
             "ticks": ""
            },
            "type": "contourcarpet"
           }
          ],
          "heatmap": [
           {
            "colorbar": {
             "outlinewidth": 0,
             "ticks": ""
            },
            "colorscale": [
             [
              0,
              "#0d0887"
             ],
             [
              0.1111111111111111,
              "#46039f"
             ],
             [
              0.2222222222222222,
              "#7201a8"
             ],
             [
              0.3333333333333333,
              "#9c179e"
             ],
             [
              0.4444444444444444,
              "#bd3786"
             ],
             [
              0.5555555555555556,
              "#d8576b"
             ],
             [
              0.6666666666666666,
              "#ed7953"
             ],
             [
              0.7777777777777778,
              "#fb9f3a"
             ],
             [
              0.8888888888888888,
              "#fdca26"
             ],
             [
              1,
              "#f0f921"
             ]
            ],
            "type": "heatmap"
           }
          ],
          "heatmapgl": [
           {
            "colorbar": {
             "outlinewidth": 0,
             "ticks": ""
            },
            "colorscale": [
             [
              0,
              "#0d0887"
             ],
             [
              0.1111111111111111,
              "#46039f"
             ],
             [
              0.2222222222222222,
              "#7201a8"
             ],
             [
              0.3333333333333333,
              "#9c179e"
             ],
             [
              0.4444444444444444,
              "#bd3786"
             ],
             [
              0.5555555555555556,
              "#d8576b"
             ],
             [
              0.6666666666666666,
              "#ed7953"
             ],
             [
              0.7777777777777778,
              "#fb9f3a"
             ],
             [
              0.8888888888888888,
              "#fdca26"
             ],
             [
              1,
              "#f0f921"
             ]
            ],
            "type": "heatmapgl"
           }
          ],
          "histogram": [
           {
            "marker": {
             "pattern": {
              "fillmode": "overlay",
              "size": 10,
              "solidity": 0.2
             }
            },
            "type": "histogram"
           }
          ],
          "histogram2d": [
           {
            "colorbar": {
             "outlinewidth": 0,
             "ticks": ""
            },
            "colorscale": [
             [
              0,
              "#0d0887"
             ],
             [
              0.1111111111111111,
              "#46039f"
             ],
             [
              0.2222222222222222,
              "#7201a8"
             ],
             [
              0.3333333333333333,
              "#9c179e"
             ],
             [
              0.4444444444444444,
              "#bd3786"
             ],
             [
              0.5555555555555556,
              "#d8576b"
             ],
             [
              0.6666666666666666,
              "#ed7953"
             ],
             [
              0.7777777777777778,
              "#fb9f3a"
             ],
             [
              0.8888888888888888,
              "#fdca26"
             ],
             [
              1,
              "#f0f921"
             ]
            ],
            "type": "histogram2d"
           }
          ],
          "histogram2dcontour": [
           {
            "colorbar": {
             "outlinewidth": 0,
             "ticks": ""
            },
            "colorscale": [
             [
              0,
              "#0d0887"
             ],
             [
              0.1111111111111111,
              "#46039f"
             ],
             [
              0.2222222222222222,
              "#7201a8"
             ],
             [
              0.3333333333333333,
              "#9c179e"
             ],
             [
              0.4444444444444444,
              "#bd3786"
             ],
             [
              0.5555555555555556,
              "#d8576b"
             ],
             [
              0.6666666666666666,
              "#ed7953"
             ],
             [
              0.7777777777777778,
              "#fb9f3a"
             ],
             [
              0.8888888888888888,
              "#fdca26"
             ],
             [
              1,
              "#f0f921"
             ]
            ],
            "type": "histogram2dcontour"
           }
          ],
          "mesh3d": [
           {
            "colorbar": {
             "outlinewidth": 0,
             "ticks": ""
            },
            "type": "mesh3d"
           }
          ],
          "parcoords": [
           {
            "line": {
             "colorbar": {
              "outlinewidth": 0,
              "ticks": ""
             }
            },
            "type": "parcoords"
           }
          ],
          "pie": [
           {
            "automargin": true,
            "type": "pie"
           }
          ],
          "scatter": [
           {
            "fillpattern": {
             "fillmode": "overlay",
             "size": 10,
             "solidity": 0.2
            },
            "type": "scatter"
           }
          ],
          "scatter3d": [
           {
            "line": {
             "colorbar": {
              "outlinewidth": 0,
              "ticks": ""
             }
            },
            "marker": {
             "colorbar": {
              "outlinewidth": 0,
              "ticks": ""
             }
            },
            "type": "scatter3d"
           }
          ],
          "scattercarpet": [
           {
            "marker": {
             "colorbar": {
              "outlinewidth": 0,
              "ticks": ""
             }
            },
            "type": "scattercarpet"
           }
          ],
          "scattergeo": [
           {
            "marker": {
             "colorbar": {
              "outlinewidth": 0,
              "ticks": ""
             }
            },
            "type": "scattergeo"
           }
          ],
          "scattergl": [
           {
            "marker": {
             "colorbar": {
              "outlinewidth": 0,
              "ticks": ""
             }
            },
            "type": "scattergl"
           }
          ],
          "scattermapbox": [
           {
            "marker": {
             "colorbar": {
              "outlinewidth": 0,
              "ticks": ""
             }
            },
            "type": "scattermapbox"
           }
          ],
          "scatterpolar": [
           {
            "marker": {
             "colorbar": {
              "outlinewidth": 0,
              "ticks": ""
             }
            },
            "type": "scatterpolar"
           }
          ],
          "scatterpolargl": [
           {
            "marker": {
             "colorbar": {
              "outlinewidth": 0,
              "ticks": ""
             }
            },
            "type": "scatterpolargl"
           }
          ],
          "scatterternary": [
           {
            "marker": {
             "colorbar": {
              "outlinewidth": 0,
              "ticks": ""
             }
            },
            "type": "scatterternary"
           }
          ],
          "surface": [
           {
            "colorbar": {
             "outlinewidth": 0,
             "ticks": ""
            },
            "colorscale": [
             [
              0,
              "#0d0887"
             ],
             [
              0.1111111111111111,
              "#46039f"
             ],
             [
              0.2222222222222222,
              "#7201a8"
             ],
             [
              0.3333333333333333,
              "#9c179e"
             ],
             [
              0.4444444444444444,
              "#bd3786"
             ],
             [
              0.5555555555555556,
              "#d8576b"
             ],
             [
              0.6666666666666666,
              "#ed7953"
             ],
             [
              0.7777777777777778,
              "#fb9f3a"
             ],
             [
              0.8888888888888888,
              "#fdca26"
             ],
             [
              1,
              "#f0f921"
             ]
            ],
            "type": "surface"
           }
          ],
          "table": [
           {
            "cells": {
             "fill": {
              "color": "#EBF0F8"
             },
             "line": {
              "color": "white"
             }
            },
            "header": {
             "fill": {
              "color": "#C8D4E3"
             },
             "line": {
              "color": "white"
             }
            },
            "type": "table"
           }
          ]
         },
         "layout": {
          "annotationdefaults": {
           "arrowcolor": "#2a3f5f",
           "arrowhead": 0,
           "arrowwidth": 1
          },
          "autotypenumbers": "strict",
          "coloraxis": {
           "colorbar": {
            "outlinewidth": 0,
            "ticks": ""
           }
          },
          "colorscale": {
           "diverging": [
            [
             0,
             "#8e0152"
            ],
            [
             0.1,
             "#c51b7d"
            ],
            [
             0.2,
             "#de77ae"
            ],
            [
             0.3,
             "#f1b6da"
            ],
            [
             0.4,
             "#fde0ef"
            ],
            [
             0.5,
             "#f7f7f7"
            ],
            [
             0.6,
             "#e6f5d0"
            ],
            [
             0.7,
             "#b8e186"
            ],
            [
             0.8,
             "#7fbc41"
            ],
            [
             0.9,
             "#4d9221"
            ],
            [
             1,
             "#276419"
            ]
           ],
           "sequential": [
            [
             0,
             "#0d0887"
            ],
            [
             0.1111111111111111,
             "#46039f"
            ],
            [
             0.2222222222222222,
             "#7201a8"
            ],
            [
             0.3333333333333333,
             "#9c179e"
            ],
            [
             0.4444444444444444,
             "#bd3786"
            ],
            [
             0.5555555555555556,
             "#d8576b"
            ],
            [
             0.6666666666666666,
             "#ed7953"
            ],
            [
             0.7777777777777778,
             "#fb9f3a"
            ],
            [
             0.8888888888888888,
             "#fdca26"
            ],
            [
             1,
             "#f0f921"
            ]
           ],
           "sequentialminus": [
            [
             0,
             "#0d0887"
            ],
            [
             0.1111111111111111,
             "#46039f"
            ],
            [
             0.2222222222222222,
             "#7201a8"
            ],
            [
             0.3333333333333333,
             "#9c179e"
            ],
            [
             0.4444444444444444,
             "#bd3786"
            ],
            [
             0.5555555555555556,
             "#d8576b"
            ],
            [
             0.6666666666666666,
             "#ed7953"
            ],
            [
             0.7777777777777778,
             "#fb9f3a"
            ],
            [
             0.8888888888888888,
             "#fdca26"
            ],
            [
             1,
             "#f0f921"
            ]
           ]
          },
          "colorway": [
           "#636efa",
           "#EF553B",
           "#00cc96",
           "#ab63fa",
           "#FFA15A",
           "#19d3f3",
           "#FF6692",
           "#B6E880",
           "#FF97FF",
           "#FECB52"
          ],
          "font": {
           "color": "#2a3f5f"
          },
          "geo": {
           "bgcolor": "white",
           "lakecolor": "white",
           "landcolor": "#E5ECF6",
           "showlakes": true,
           "showland": true,
           "subunitcolor": "white"
          },
          "hoverlabel": {
           "align": "left"
          },
          "hovermode": "closest",
          "mapbox": {
           "style": "light"
          },
          "paper_bgcolor": "white",
          "plot_bgcolor": "#E5ECF6",
          "polar": {
           "angularaxis": {
            "gridcolor": "white",
            "linecolor": "white",
            "ticks": ""
           },
           "bgcolor": "#E5ECF6",
           "radialaxis": {
            "gridcolor": "white",
            "linecolor": "white",
            "ticks": ""
           }
          },
          "scene": {
           "xaxis": {
            "backgroundcolor": "#E5ECF6",
            "gridcolor": "white",
            "gridwidth": 2,
            "linecolor": "white",
            "showbackground": true,
            "ticks": "",
            "zerolinecolor": "white"
           },
           "yaxis": {
            "backgroundcolor": "#E5ECF6",
            "gridcolor": "white",
            "gridwidth": 2,
            "linecolor": "white",
            "showbackground": true,
            "ticks": "",
            "zerolinecolor": "white"
           },
           "zaxis": {
            "backgroundcolor": "#E5ECF6",
            "gridcolor": "white",
            "gridwidth": 2,
            "linecolor": "white",
            "showbackground": true,
            "ticks": "",
            "zerolinecolor": "white"
           }
          },
          "shapedefaults": {
           "line": {
            "color": "#2a3f5f"
           }
          },
          "ternary": {
           "aaxis": {
            "gridcolor": "white",
            "linecolor": "white",
            "ticks": ""
           },
           "baxis": {
            "gridcolor": "white",
            "linecolor": "white",
            "ticks": ""
           },
           "bgcolor": "#E5ECF6",
           "caxis": {
            "gridcolor": "white",
            "linecolor": "white",
            "ticks": ""
           }
          },
          "title": {
           "x": 0.05
          },
          "xaxis": {
           "automargin": true,
           "gridcolor": "white",
           "linecolor": "white",
           "ticks": "",
           "title": {
            "standoff": 15
           },
           "zerolinecolor": "white",
           "zerolinewidth": 2
          },
          "yaxis": {
           "automargin": true,
           "gridcolor": "white",
           "linecolor": "white",
           "ticks": "",
           "title": {
            "standoff": 15
           },
           "zerolinecolor": "white",
           "zerolinewidth": 2
          }
         }
        },
        "title": {
         "text": "Häufigkeit Geschlecht"
        },
        "xaxis": {
         "anchor": "y",
         "domain": [
          0,
          1
         ],
         "title": {
          "text": "Geschlecht"
         }
        },
        "yaxis": {
         "anchor": "x",
         "domain": [
          0,
          1
         ],
         "title": {
          "text": "Anzahl"
         }
        }
       }
      }
     },
     "metadata": {},
     "output_type": "display_data"
    }
   ],
   "source": [
    "geschlecht = daten['Geschlecht']\n",
    "\n",
    "balkendiagramm_geschlecht = px.bar(geschlecht.value_counts(),\n",
    "                                  labels={'value': 'Anzahl', 'variable': 'Geschlecht'},\n",
    "                                  title='Häufigkeit Geschlecht')\n",
    "balkendiagramm_geschlecht.show()"
   ]
  },
  {
   "cell_type": "code",
   "execution_count": 7,
   "id": "5935814b-3273-4d74-b3d1-51a5c636517c",
   "metadata": {},
   "outputs": [
    {
     "data": {
      "application/vnd.plotly.v1+json": {
       "config": {
        "plotlyServerURL": "https://plot.ly"
       },
       "data": [
        {
         "alignmentgroup": "True",
         "hovertemplate": "Hafen=count<br>Einstiegshafen=%{x}<br>Anzahl=%{y}<extra></extra>",
         "legendgroup": "count",
         "marker": {
          "color": "#636efa",
          "pattern": {
           "shape": ""
          }
         },
         "name": "count",
         "offsetgroup": "count",
         "orientation": "v",
         "showlegend": true,
         "textposition": "auto",
         "type": "bar",
         "x": [
          "S",
          "C",
          "Q"
         ],
         "xaxis": "x",
         "y": [
          116,
          65,
          2
         ],
         "yaxis": "y"
        }
       ],
       "layout": {
        "barmode": "relative",
        "legend": {
         "title": {
          "text": "Hafen"
         },
         "tracegroupgap": 0
        },
        "template": {
         "data": {
          "bar": [
           {
            "error_x": {
             "color": "#2a3f5f"
            },
            "error_y": {
             "color": "#2a3f5f"
            },
            "marker": {
             "line": {
              "color": "#E5ECF6",
              "width": 0.5
             },
             "pattern": {
              "fillmode": "overlay",
              "size": 10,
              "solidity": 0.2
             }
            },
            "type": "bar"
           }
          ],
          "barpolar": [
           {
            "marker": {
             "line": {
              "color": "#E5ECF6",
              "width": 0.5
             },
             "pattern": {
              "fillmode": "overlay",
              "size": 10,
              "solidity": 0.2
             }
            },
            "type": "barpolar"
           }
          ],
          "carpet": [
           {
            "aaxis": {
             "endlinecolor": "#2a3f5f",
             "gridcolor": "white",
             "linecolor": "white",
             "minorgridcolor": "white",
             "startlinecolor": "#2a3f5f"
            },
            "baxis": {
             "endlinecolor": "#2a3f5f",
             "gridcolor": "white",
             "linecolor": "white",
             "minorgridcolor": "white",
             "startlinecolor": "#2a3f5f"
            },
            "type": "carpet"
           }
          ],
          "choropleth": [
           {
            "colorbar": {
             "outlinewidth": 0,
             "ticks": ""
            },
            "type": "choropleth"
           }
          ],
          "contour": [
           {
            "colorbar": {
             "outlinewidth": 0,
             "ticks": ""
            },
            "colorscale": [
             [
              0,
              "#0d0887"
             ],
             [
              0.1111111111111111,
              "#46039f"
             ],
             [
              0.2222222222222222,
              "#7201a8"
             ],
             [
              0.3333333333333333,
              "#9c179e"
             ],
             [
              0.4444444444444444,
              "#bd3786"
             ],
             [
              0.5555555555555556,
              "#d8576b"
             ],
             [
              0.6666666666666666,
              "#ed7953"
             ],
             [
              0.7777777777777778,
              "#fb9f3a"
             ],
             [
              0.8888888888888888,
              "#fdca26"
             ],
             [
              1,
              "#f0f921"
             ]
            ],
            "type": "contour"
           }
          ],
          "contourcarpet": [
           {
            "colorbar": {
             "outlinewidth": 0,
             "ticks": ""
            },
            "type": "contourcarpet"
           }
          ],
          "heatmap": [
           {
            "colorbar": {
             "outlinewidth": 0,
             "ticks": ""
            },
            "colorscale": [
             [
              0,
              "#0d0887"
             ],
             [
              0.1111111111111111,
              "#46039f"
             ],
             [
              0.2222222222222222,
              "#7201a8"
             ],
             [
              0.3333333333333333,
              "#9c179e"
             ],
             [
              0.4444444444444444,
              "#bd3786"
             ],
             [
              0.5555555555555556,
              "#d8576b"
             ],
             [
              0.6666666666666666,
              "#ed7953"
             ],
             [
              0.7777777777777778,
              "#fb9f3a"
             ],
             [
              0.8888888888888888,
              "#fdca26"
             ],
             [
              1,
              "#f0f921"
             ]
            ],
            "type": "heatmap"
           }
          ],
          "heatmapgl": [
           {
            "colorbar": {
             "outlinewidth": 0,
             "ticks": ""
            },
            "colorscale": [
             [
              0,
              "#0d0887"
             ],
             [
              0.1111111111111111,
              "#46039f"
             ],
             [
              0.2222222222222222,
              "#7201a8"
             ],
             [
              0.3333333333333333,
              "#9c179e"
             ],
             [
              0.4444444444444444,
              "#bd3786"
             ],
             [
              0.5555555555555556,
              "#d8576b"
             ],
             [
              0.6666666666666666,
              "#ed7953"
             ],
             [
              0.7777777777777778,
              "#fb9f3a"
             ],
             [
              0.8888888888888888,
              "#fdca26"
             ],
             [
              1,
              "#f0f921"
             ]
            ],
            "type": "heatmapgl"
           }
          ],
          "histogram": [
           {
            "marker": {
             "pattern": {
              "fillmode": "overlay",
              "size": 10,
              "solidity": 0.2
             }
            },
            "type": "histogram"
           }
          ],
          "histogram2d": [
           {
            "colorbar": {
             "outlinewidth": 0,
             "ticks": ""
            },
            "colorscale": [
             [
              0,
              "#0d0887"
             ],
             [
              0.1111111111111111,
              "#46039f"
             ],
             [
              0.2222222222222222,
              "#7201a8"
             ],
             [
              0.3333333333333333,
              "#9c179e"
             ],
             [
              0.4444444444444444,
              "#bd3786"
             ],
             [
              0.5555555555555556,
              "#d8576b"
             ],
             [
              0.6666666666666666,
              "#ed7953"
             ],
             [
              0.7777777777777778,
              "#fb9f3a"
             ],
             [
              0.8888888888888888,
              "#fdca26"
             ],
             [
              1,
              "#f0f921"
             ]
            ],
            "type": "histogram2d"
           }
          ],
          "histogram2dcontour": [
           {
            "colorbar": {
             "outlinewidth": 0,
             "ticks": ""
            },
            "colorscale": [
             [
              0,
              "#0d0887"
             ],
             [
              0.1111111111111111,
              "#46039f"
             ],
             [
              0.2222222222222222,
              "#7201a8"
             ],
             [
              0.3333333333333333,
              "#9c179e"
             ],
             [
              0.4444444444444444,
              "#bd3786"
             ],
             [
              0.5555555555555556,
              "#d8576b"
             ],
             [
              0.6666666666666666,
              "#ed7953"
             ],
             [
              0.7777777777777778,
              "#fb9f3a"
             ],
             [
              0.8888888888888888,
              "#fdca26"
             ],
             [
              1,
              "#f0f921"
             ]
            ],
            "type": "histogram2dcontour"
           }
          ],
          "mesh3d": [
           {
            "colorbar": {
             "outlinewidth": 0,
             "ticks": ""
            },
            "type": "mesh3d"
           }
          ],
          "parcoords": [
           {
            "line": {
             "colorbar": {
              "outlinewidth": 0,
              "ticks": ""
             }
            },
            "type": "parcoords"
           }
          ],
          "pie": [
           {
            "automargin": true,
            "type": "pie"
           }
          ],
          "scatter": [
           {
            "fillpattern": {
             "fillmode": "overlay",
             "size": 10,
             "solidity": 0.2
            },
            "type": "scatter"
           }
          ],
          "scatter3d": [
           {
            "line": {
             "colorbar": {
              "outlinewidth": 0,
              "ticks": ""
             }
            },
            "marker": {
             "colorbar": {
              "outlinewidth": 0,
              "ticks": ""
             }
            },
            "type": "scatter3d"
           }
          ],
          "scattercarpet": [
           {
            "marker": {
             "colorbar": {
              "outlinewidth": 0,
              "ticks": ""
             }
            },
            "type": "scattercarpet"
           }
          ],
          "scattergeo": [
           {
            "marker": {
             "colorbar": {
              "outlinewidth": 0,
              "ticks": ""
             }
            },
            "type": "scattergeo"
           }
          ],
          "scattergl": [
           {
            "marker": {
             "colorbar": {
              "outlinewidth": 0,
              "ticks": ""
             }
            },
            "type": "scattergl"
           }
          ],
          "scattermapbox": [
           {
            "marker": {
             "colorbar": {
              "outlinewidth": 0,
              "ticks": ""
             }
            },
            "type": "scattermapbox"
           }
          ],
          "scatterpolar": [
           {
            "marker": {
             "colorbar": {
              "outlinewidth": 0,
              "ticks": ""
             }
            },
            "type": "scatterpolar"
           }
          ],
          "scatterpolargl": [
           {
            "marker": {
             "colorbar": {
              "outlinewidth": 0,
              "ticks": ""
             }
            },
            "type": "scatterpolargl"
           }
          ],
          "scatterternary": [
           {
            "marker": {
             "colorbar": {
              "outlinewidth": 0,
              "ticks": ""
             }
            },
            "type": "scatterternary"
           }
          ],
          "surface": [
           {
            "colorbar": {
             "outlinewidth": 0,
             "ticks": ""
            },
            "colorscale": [
             [
              0,
              "#0d0887"
             ],
             [
              0.1111111111111111,
              "#46039f"
             ],
             [
              0.2222222222222222,
              "#7201a8"
             ],
             [
              0.3333333333333333,
              "#9c179e"
             ],
             [
              0.4444444444444444,
              "#bd3786"
             ],
             [
              0.5555555555555556,
              "#d8576b"
             ],
             [
              0.6666666666666666,
              "#ed7953"
             ],
             [
              0.7777777777777778,
              "#fb9f3a"
             ],
             [
              0.8888888888888888,
              "#fdca26"
             ],
             [
              1,
              "#f0f921"
             ]
            ],
            "type": "surface"
           }
          ],
          "table": [
           {
            "cells": {
             "fill": {
              "color": "#EBF0F8"
             },
             "line": {
              "color": "white"
             }
            },
            "header": {
             "fill": {
              "color": "#C8D4E3"
             },
             "line": {
              "color": "white"
             }
            },
            "type": "table"
           }
          ]
         },
         "layout": {
          "annotationdefaults": {
           "arrowcolor": "#2a3f5f",
           "arrowhead": 0,
           "arrowwidth": 1
          },
          "autotypenumbers": "strict",
          "coloraxis": {
           "colorbar": {
            "outlinewidth": 0,
            "ticks": ""
           }
          },
          "colorscale": {
           "diverging": [
            [
             0,
             "#8e0152"
            ],
            [
             0.1,
             "#c51b7d"
            ],
            [
             0.2,
             "#de77ae"
            ],
            [
             0.3,
             "#f1b6da"
            ],
            [
             0.4,
             "#fde0ef"
            ],
            [
             0.5,
             "#f7f7f7"
            ],
            [
             0.6,
             "#e6f5d0"
            ],
            [
             0.7,
             "#b8e186"
            ],
            [
             0.8,
             "#7fbc41"
            ],
            [
             0.9,
             "#4d9221"
            ],
            [
             1,
             "#276419"
            ]
           ],
           "sequential": [
            [
             0,
             "#0d0887"
            ],
            [
             0.1111111111111111,
             "#46039f"
            ],
            [
             0.2222222222222222,
             "#7201a8"
            ],
            [
             0.3333333333333333,
             "#9c179e"
            ],
            [
             0.4444444444444444,
             "#bd3786"
            ],
            [
             0.5555555555555556,
             "#d8576b"
            ],
            [
             0.6666666666666666,
             "#ed7953"
            ],
            [
             0.7777777777777778,
             "#fb9f3a"
            ],
            [
             0.8888888888888888,
             "#fdca26"
            ],
            [
             1,
             "#f0f921"
            ]
           ],
           "sequentialminus": [
            [
             0,
             "#0d0887"
            ],
            [
             0.1111111111111111,
             "#46039f"
            ],
            [
             0.2222222222222222,
             "#7201a8"
            ],
            [
             0.3333333333333333,
             "#9c179e"
            ],
            [
             0.4444444444444444,
             "#bd3786"
            ],
            [
             0.5555555555555556,
             "#d8576b"
            ],
            [
             0.6666666666666666,
             "#ed7953"
            ],
            [
             0.7777777777777778,
             "#fb9f3a"
            ],
            [
             0.8888888888888888,
             "#fdca26"
            ],
            [
             1,
             "#f0f921"
            ]
           ]
          },
          "colorway": [
           "#636efa",
           "#EF553B",
           "#00cc96",
           "#ab63fa",
           "#FFA15A",
           "#19d3f3",
           "#FF6692",
           "#B6E880",
           "#FF97FF",
           "#FECB52"
          ],
          "font": {
           "color": "#2a3f5f"
          },
          "geo": {
           "bgcolor": "white",
           "lakecolor": "white",
           "landcolor": "#E5ECF6",
           "showlakes": true,
           "showland": true,
           "subunitcolor": "white"
          },
          "hoverlabel": {
           "align": "left"
          },
          "hovermode": "closest",
          "mapbox": {
           "style": "light"
          },
          "paper_bgcolor": "white",
          "plot_bgcolor": "#E5ECF6",
          "polar": {
           "angularaxis": {
            "gridcolor": "white",
            "linecolor": "white",
            "ticks": ""
           },
           "bgcolor": "#E5ECF6",
           "radialaxis": {
            "gridcolor": "white",
            "linecolor": "white",
            "ticks": ""
           }
          },
          "scene": {
           "xaxis": {
            "backgroundcolor": "#E5ECF6",
            "gridcolor": "white",
            "gridwidth": 2,
            "linecolor": "white",
            "showbackground": true,
            "ticks": "",
            "zerolinecolor": "white"
           },
           "yaxis": {
            "backgroundcolor": "#E5ECF6",
            "gridcolor": "white",
            "gridwidth": 2,
            "linecolor": "white",
            "showbackground": true,
            "ticks": "",
            "zerolinecolor": "white"
           },
           "zaxis": {
            "backgroundcolor": "#E5ECF6",
            "gridcolor": "white",
            "gridwidth": 2,
            "linecolor": "white",
            "showbackground": true,
            "ticks": "",
            "zerolinecolor": "white"
           }
          },
          "shapedefaults": {
           "line": {
            "color": "#2a3f5f"
           }
          },
          "ternary": {
           "aaxis": {
            "gridcolor": "white",
            "linecolor": "white",
            "ticks": ""
           },
           "baxis": {
            "gridcolor": "white",
            "linecolor": "white",
            "ticks": ""
           },
           "bgcolor": "#E5ECF6",
           "caxis": {
            "gridcolor": "white",
            "linecolor": "white",
            "ticks": ""
           }
          },
          "title": {
           "x": 0.05
          },
          "xaxis": {
           "automargin": true,
           "gridcolor": "white",
           "linecolor": "white",
           "ticks": "",
           "title": {
            "standoff": 15
           },
           "zerolinecolor": "white",
           "zerolinewidth": 2
          },
          "yaxis": {
           "automargin": true,
           "gridcolor": "white",
           "linecolor": "white",
           "ticks": "",
           "title": {
            "standoff": 15
           },
           "zerolinecolor": "white",
           "zerolinewidth": 2
          }
         }
        },
        "title": {
         "text": "Häufigkeit Einstiegshafen"
        },
        "xaxis": {
         "anchor": "y",
         "domain": [
          0,
          1
         ],
         "title": {
          "text": "Einstiegshafen"
         }
        },
        "yaxis": {
         "anchor": "x",
         "domain": [
          0,
          1
         ],
         "title": {
          "text": "Anzahl"
         }
        }
       }
      }
     },
     "metadata": {},
     "output_type": "display_data"
    }
   ],
   "source": [
    "hafen = daten['Einstiegshafen']\n",
    "\n",
    "balkendiagramm_hafen = px.bar(hafen.value_counts(),\n",
    "                                  labels={'value': 'Anzahl', 'variable': 'Hafen'},\n",
    "                                  title='Häufigkeit Einstiegshafen')\n",
    "balkendiagramm_hafen.show()"
   ]
  },
  {
   "cell_type": "markdown",
   "id": "bd7efa81",
   "metadata": {},
   "source": [
    "6. Trainieren Sie mit den numerischen Merkmalen einen Entscheidungsbaum/Decision Tree."
   ]
  },
  {
   "cell_type": "code",
   "execution_count": 8,
   "id": "b930826a-5d43-4940-9a96-e8c644b69d2d",
   "metadata": {},
   "outputs": [
    {
     "data": {
      "text/plain": [
       "1.0"
      ]
     },
     "execution_count": 8,
     "metadata": {},
     "output_type": "execute_result"
    }
   ],
   "source": [
    "X = daten[['Klasse', 'Alter', 'Anzahl_Geschwister_Partner',\t'Anzahl_Eltern_Kinder',\t'Ticketpreis']]\n",
    "y = daten['ueberlebt']\n",
    "\n",
    "from sklearn.tree import DecisionTreeClassifier\n",
    "\n",
    "entscheidungsbaum =  DecisionTreeClassifier()\n",
    "entscheidungsbaum.fit(X,y)\n",
    "entscheidungsbaum.score(X,y)"
   ]
  },
  {
   "cell_type": "markdown",
   "id": "645c756b",
   "metadata": {},
   "source": [
    "7. Visualisieren Sie den Entscheidungsbaum"
   ]
  },
  {
   "cell_type": "code",
   "execution_count": 9,
   "id": "940ff194",
   "metadata": {},
   "outputs": [
    {
     "data": {
      "image/png": "[encoded data removed]",
      "text/plain": [
       "<Figure size 640x480 with 1 Axes>"
      ]
     },
     "metadata": {},
     "output_type": "display_data"
    }
   ],
   "source": [
    "from sklearn.tree import plot_tree\n",
    "\n",
    "plot_tree(entscheidungsbaum);"
   ]
  },
  {
   "cell_type": "markdown",
   "id": "6ff2430e",
   "metadata": {},
   "source": [
    "8. Spielen Sie mit den Hyperparametern des Entscheidungsbaumes/Decision Trees. Begrenzen Sie die Baumtiefe auf 2, 3 und 4. Was sind die wichtigsten Merkmale, die ein Überleben der Passagiere gesichert haben?"
   ]
  },
  {
   "cell_type": "code",
   "execution_count": 10,
   "id": "856476cc-5690-4f9e-9526-ff83ad850557",
   "metadata": {},
   "outputs": [
    {
     "name": "stdout",
     "output_type": "stream",
     "text": [
      "Score für eine Baumtiefe von 2:  0.76\n",
      "Score für eine Baumtiefe von 3:  0.80\n",
      "Score für eine Baumtiefe von 4:  0.81\n"
     ]
    }
   ],
   "source": [
    "for baumtiefe in [2, 3, 4]:\n",
    "    baum = DecisionTreeClassifier(max_depth=baumtiefe)\n",
    "    baum.fit(X,y)\n",
    "    score = baum.score(X,y)\n",
    "    print(f'Score für eine Baumtiefe von {baumtiefe}: {score: .2f}')"
   ]
  },
  {
   "cell_type": "markdown",
   "id": "3ca50f03-8a42-4fbd-ac4f-2880d94f773e",
   "metadata": {},
   "source": [
    "Tatsächlich ist der Entscheidungsbaum/Decision Tree mit einer Baumtiefe von 3 und 4 kaum besser als der mit einer Baumtiefe von 2. Wir werten daher den Entscheidungsbaum mit einer Baumtiefe von 2 aus:"
   ]
  },
  {
   "cell_type": "code",
   "execution_count": 11,
   "id": "6f2a4139-c072-481c-8548-2da5a41e2e0e",
   "metadata": {},
   "outputs": [
    {
     "data": {
      "image/png": "[encoded data removed]",
      "text/plain": [
       "<Figure size 640x480 with 1 Axes>"
      ]
     },
     "metadata": {},
     "output_type": "display_data"
    }
   ],
   "source": [
    "finales_modell = DecisionTreeClassifier(max_depth=2)\n",
    "finales_modell.fit(X,y)\n",
    "\n",
    "plot_tree(finales_modell,\n",
    "    feature_names=['Klasse', 'Alter', 'Anzahl_Geschwister_Partner',\t'Anzahl_Eltern_Kinder',\t'Ticketpreis'],\n",
    "    class_names=['nicht ueberlebt', 'ueberlebt']);\n"
   ]
  },
  {
   "cell_type": "markdown",
   "id": "816f24ca-64bd-4eed-ac01-5b1af0b5dc74",
   "metadata": {},
   "source": [
    "Zunächst einmal erscheint ein jüngeres Alter die Überlebenschance erhöht zu haben. Danach wirkt es so, also ob der Ticketpreis eine wichtige Rolle gepsielt haben könnte."
   ]
  },
  {
   "cell_type": "code",
   "execution_count": null,
   "id": "55ff6d7b-ef82-491f-a57b-f5d7e38b38a7",
   "metadata": {},
   "outputs": [],
   "source": []
  },
  {
   "cell_type": "code",
   "execution_count": null,
   "id": "c19843c4-3732-4f75-9930-ce97cfed2ae0",
   "metadata": {},
   "outputs": [],
   "source": []
  },
  {
   "cell_type": "markdown",
   "id": "1d7ac2c2",
   "metadata": {},
   "source": [
    "## Aufgabe 6.2\n",
    "\n",
    "Der Datensatz 'diabetes.csv' ist eine Sammlung von medizinischen Daten, die vom\n",
    "National Institute of Diabetes and Digestive and Kidney Diseases, erhoben\n",
    "wurden, siehe\n",
    "[https://www.kaggle.com/datasets/whenamancodes/predict-diabities?resource=download](https://www.kaggle.com/datasets/whenamancodes/predict-diabities?resource=download).\n",
    "Bei Frauen des Pima-Stammes wurden folgende medizinische Daten erhoben:\n",
    "\n",
    "* Pregnancies: Anzahl der Schwangerschaften\n",
    "* Glucose: Glukose-Level im Blut\n",
    "* BloodPressure: Messung des Blutdrucks\n",
    "* SkinThickness: Dicke der Haut\n",
    "* Insulin: Messung des Insulinspiegels im Blut\n",
    "* BMI: Body-Maß-Index (Gewicht geteilt durch Körpergröße ins Quadrat)\n",
    "* DiabetesPedigreeFunction: Wahrscheinlichkeit von Diabetes aufgrund der Familienhistorie\n",
    "* Age: Alter\n",
    "\n",
    "Enthalten ist auch, ob bei der Person Diabetes festgestellt wurde oder nicht.\n",
    "\n",
    "* Outcome: Diabetes = 1, kein Diabetes = 0\n",
    "\n",
    "Führen Sie eine explorative Datenanalyse (EDA) durch. Führen Sie dazu\n",
    "Python-Code in Code-Zellen aus und geben Sie in Markdown-Zellen Ihre Antworten\n",
    "auf die folgenden Frage an.\n",
    "\n",
    "1. Welche Daten enthält der Datensatz? Wie viele Personen sind in der Tabelle\n",
    "   enthalten? Wie viele Merkmale werden dort beschrieben?"
   ]
  },
  {
   "cell_type": "code",
   "execution_count": null,
   "id": "c5600616",
   "metadata": {},
   "outputs": [],
   "source": [
    "#"
   ]
  },
  {
   "cell_type": "markdown",
   "id": "154f1f04",
   "metadata": {},
   "source": [
    "2. Sind die Daten vollständig?"
   ]
  },
  {
   "cell_type": "code",
   "execution_count": null,
   "id": "9bf7650a",
   "metadata": {},
   "outputs": [],
   "source": [
    "#"
   ]
  },
  {
   "cell_type": "markdown",
   "id": "dbf880fb",
   "metadata": {},
   "source": [
    "3. Welchen Datentyp haben die Merkmale? Welche Merkmale sind numerisch und\n",
    "   welche sind kategorial?"
   ]
  },
  {
   "cell_type": "code",
   "execution_count": null,
   "id": "709a1b44",
   "metadata": {},
   "outputs": [],
   "source": [
    "#"
   ]
  },
  {
   "cell_type": "markdown",
   "id": "880805d4",
   "metadata": {},
   "source": [
    "4. Erstellen Sie eine Übersicht der statistischen Merkmale für die numerischen\n",
    "   Daten. Visualisieren Sie anschließend die statistischen Merkmale mit\n",
    "   Boxplots. Interpretieren Sie die statistischen Merkmale. Gibt es Ausreißer?\n",
    "   Sind die Werte plausibel?"
   ]
  },
  {
   "cell_type": "code",
   "execution_count": null,
   "id": "3c93c93c",
   "metadata": {},
   "outputs": [],
   "source": [
    "#"
   ]
  },
  {
   "cell_type": "markdown",
   "id": "952003ed",
   "metadata": {},
   "source": [
    "5. Erstellen Sie eine Scatter-Matrix mit Insulin, BMI und Outcome. Welche der\n",
    "  beiden Eigeschaften Insulin oder BMI könnte ehr geeignet sein, Diabetes\n",
    "  ja/nein zu prognostizieren?"
   ]
  },
  {
   "cell_type": "code",
   "execution_count": null,
   "id": "bf29d0be",
   "metadata": {},
   "outputs": [],
   "source": [
    "#"
   ]
  },
  {
   "cell_type": "markdown",
   "id": "e320603f",
   "metadata": {},
   "source": [
    "6. Visualisieren Sie Diabetes ja/nein in Abhängigkeit der gewählten Eigenschaft.\n",
    "  Vermuten Sie einen Zusammenhang?"
   ]
  },
  {
   "cell_type": "code",
   "execution_count": null,
   "id": "e549eeea",
   "metadata": {},
   "outputs": [],
   "source": [
    "#"
   ]
  },
  {
   "cell_type": "markdown",
   "id": "03615afb",
   "metadata": {},
   "source": [
    "7. Trainieren Sie mit den numerischen Merkmalen einen Entscheidungsbaum/Decision Tree."
   ]
  },
  {
   "cell_type": "code",
   "execution_count": null,
   "id": "8b5ad60a",
   "metadata": {},
   "outputs": [],
   "source": [
    "#"
   ]
  },
  {
   "cell_type": "markdown",
   "id": "086989ce",
   "metadata": {},
   "source": [
    "8. Visualisieren Sie den Entscheidungsbaum"
   ]
  },
  {
   "cell_type": "code",
   "execution_count": null,
   "id": "a35ac601",
   "metadata": {},
   "outputs": [],
   "source": [
    "#"
   ]
  },
  {
   "cell_type": "markdown",
   "id": "de2f5a96",
   "metadata": {},
   "source": [
    "9. Spielen Sie mit den Hyperparametern des Entscheidungsbaumes/Decision Trees. Begrenzen Sie die Baumtiefe auf 2, 3 und 4. Was sind die wichtigsten Merkmale, die ein Überleben der Passagiere gesichert haben?"
   ]
  },
  {
   "cell_type": "code",
   "execution_count": null,
   "id": "d7a60c84",
   "metadata": {},
   "outputs": [],
   "source": [
    "#"
   ]
  }
 ],
 "metadata": {
  "jupytext": {
   "formats": "ipynb,md:myst"
  },
  "kernelspec": {
   "display_name": "python312",
   "language": "python",
   "name": "python3"
  },
  "language_info": {
   "codemirror_mode": {
    "name": "ipython",
    "version": 3
   },
   "file_extension": ".py",
   "mimetype": "text/x-python",
   "name": "python",
   "nbconvert_exporter": "python",
   "pygments_lexer": "ipython3",
   "version": "3.12.2"
  }
 },
 "nbformat": 4,
 "nbformat_minor": 5
}
