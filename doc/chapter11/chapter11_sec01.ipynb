{
 "cells": [
  {
   "cell_type": "markdown",
   "metadata": {},
   "source": [
    "# Entscheidungsbaum\n",
    "\n"
   ]
  },
  {
   "cell_type": "markdown",
   "metadata": {},
   "source": [
    "```{admonition} Lernziele\n",
    ":class: hint\n",
    "* Sie wissen, was ein **Entscheidungsbaum** ist und kennen die zugehörigen Fachbegriffe **Node**, **Branch** und **Leaf**.\n",
    "* Sie können selbst bei einem kleinen Datensatz einen Entscheidungsbaum erstellen.\n",
    "* Sie können mit Scikit-Learn einen Entscheidungsbaum trainieren lassen.\n",
    "* Sie können die visuelle Darstellung eines Entscheidungsbaums interpretieren und eine Prognose treffen.\n",
    "* Sie wissen, dass der Entscheidungsbaum zu Overfitting neigt und können seine Hyperparameter (z.B. die Baumtiefe) feinjustieren.\n",
    "```"
   ]
  },
  {
   "cell_type": "markdown",
   "metadata": {},
   "source": [
    "## Wer bin ich?\n",
    "\n",
    "Ein beliebtes Partyspiel ist das Spiel \"Wer bin ich?\". Die Spielregel sind\n",
    "simpel. Eine Person wählt eine berühmte Person oder eine Figur aus einem Film\n",
    "oder Buch, die die Mitspieler:innen erraten müssen. Die Mitspieler:innen\n",
    "dürfen jedoch nur Fragen stellen, die mit \"Ja\" oder \"Nein\" beantwortet werden. \n",
    "\n",
    "Hier ist ein Beispiel, wie eine typische Runde von \"Wer bin ich?\" ablaufen\n",
    "könnte:\n",
    "\n",
    "* Spieler 1: Bin ich männlich?\n",
    "* Spieler 2: Ja.\n",
    "* Spieler 3: Bist du ein Schauspieler?\n",
    "* Spieler 1: Nein.\n",
    "* Spieler 4: Bist du ein Musiker?\n",
    "* Spieler 1: Ja.\n",
    "* Spieler 5: Bist du Michael Jackson?\n",
    "* Spieler 1: Ja! Richtig!\n",
    "\n",
    "Als nächstes wäre jetzt Spieler 5 an der Reihe, sich eine Person oder Figur\n",
    "auszuwählen, die die anderen Spieler erraten sollen. Vielleicht kennen Sie auch\n",
    "die umgekehrte Variante. Der Name der zu ratenden Person/Figur wird der Person\n",
    "mit einem Zettel auf die Stirn geklebt. Und nun muss die Person raten, während\n",
    "die Mitspieler:innen mit Ja/Nein antworten.\n",
    "\n",
    "Dieser Partyklassiker lässt sich auch auf die Entscheidungsfindung bei Problemen\n",
    "übertragen. "
   ]
  },
  {
   "cell_type": "markdown",
   "metadata": {},
   "source": [
    "## Ein Entscheidungsbaum im Autohaus\n",
    "\n",
    "Im Folgenden betrachten wir ein fiktives Beispiel, um händisch einen sogenannten\n",
    "**Entscheidungsbaum** zu erstellen. In einem Autohaus vereinbaren zwölf Personen\n",
    "eine Probefahrt. In der folgenden Tabelle ist notiert, welchen \n",
    "\n",
    "* Zustand (neu oder gebraucht),\n",
    "* Marke (Audi, BMW und Citroën) und\n",
    "* Preis (in EUR)\n",
    "\n",
    "das jeweilige Auto hat. In der vierten Spalte (= Kaufentscheidung) steht, ob\n",
    "anschließend das Auto gekauft wurde oder nicht. Wir lesen mit Pandas\n",
    "die Daten aus der csv-Tabelle `autokauf.csv` ein:"
   ]
  },
  {
   "cell_type": "code",
   "execution_count": 1,
   "metadata": {},
   "outputs": [
    {
     "data": {
      "text/html": [
       "<div>\n",
       "<style scoped>\n",
       "    .dataframe tbody tr th:only-of-type {\n",
       "        vertical-align: middle;\n",
       "    }\n",
       "\n",
       "    .dataframe tbody tr th {\n",
       "        vertical-align: top;\n",
       "    }\n",
       "\n",
       "    .dataframe thead th {\n",
       "        text-align: right;\n",
       "    }\n",
       "</style>\n",
       "<table border=\"1\" class=\"dataframe\">\n",
       "  <thead>\n",
       "    <tr style=\"text-align: right;\">\n",
       "      <th></th>\n",
       "      <th>Zustand</th>\n",
       "      <th>Marke</th>\n",
       "      <th>Preis</th>\n",
       "      <th>Kaufentscheidung</th>\n",
       "    </tr>\n",
       "  </thead>\n",
       "  <tbody>\n",
       "    <tr>\n",
       "      <th>0</th>\n",
       "      <td>neu</td>\n",
       "      <td>Citroën</td>\n",
       "      <td>10000</td>\n",
       "      <td>ja</td>\n",
       "    </tr>\n",
       "    <tr>\n",
       "      <th>1</th>\n",
       "      <td>gebraucht</td>\n",
       "      <td>Citroën</td>\n",
       "      <td>13000</td>\n",
       "      <td>nein</td>\n",
       "    </tr>\n",
       "    <tr>\n",
       "      <th>2</th>\n",
       "      <td>gebraucht</td>\n",
       "      <td>BMW</td>\n",
       "      <td>16000</td>\n",
       "      <td>nein</td>\n",
       "    </tr>\n",
       "    <tr>\n",
       "      <th>3</th>\n",
       "      <td>gebraucht</td>\n",
       "      <td>Audi</td>\n",
       "      <td>11000</td>\n",
       "      <td>ja</td>\n",
       "    </tr>\n",
       "    <tr>\n",
       "      <th>4</th>\n",
       "      <td>neu</td>\n",
       "      <td>BMW</td>\n",
       "      <td>17000</td>\n",
       "      <td>nein</td>\n",
       "    </tr>\n",
       "    <tr>\n",
       "      <th>5</th>\n",
       "      <td>neu</td>\n",
       "      <td>BMW</td>\n",
       "      <td>13000</td>\n",
       "      <td>ja</td>\n",
       "    </tr>\n",
       "    <tr>\n",
       "      <th>6</th>\n",
       "      <td>gebraucht</td>\n",
       "      <td>Audi</td>\n",
       "      <td>15000</td>\n",
       "      <td>ja</td>\n",
       "    </tr>\n",
       "    <tr>\n",
       "      <th>7</th>\n",
       "      <td>gebraucht</td>\n",
       "      <td>Citroën</td>\n",
       "      <td>13000</td>\n",
       "      <td>nein</td>\n",
       "    </tr>\n",
       "    <tr>\n",
       "      <th>8</th>\n",
       "      <td>neu</td>\n",
       "      <td>BMW</td>\n",
       "      <td>11000</td>\n",
       "      <td>ja</td>\n",
       "    </tr>\n",
       "    <tr>\n",
       "      <th>9</th>\n",
       "      <td>neu</td>\n",
       "      <td>Audi</td>\n",
       "      <td>14000</td>\n",
       "      <td>ja</td>\n",
       "    </tr>\n",
       "    <tr>\n",
       "      <th>10</th>\n",
       "      <td>gebraucht</td>\n",
       "      <td>Citroën</td>\n",
       "      <td>11000</td>\n",
       "      <td>nein</td>\n",
       "    </tr>\n",
       "    <tr>\n",
       "      <th>11</th>\n",
       "      <td>gebraucht</td>\n",
       "      <td>BMW</td>\n",
       "      <td>14000</td>\n",
       "      <td>nein</td>\n",
       "    </tr>\n",
       "  </tbody>\n",
       "</table>\n",
       "</div>"
      ],
      "text/plain": [
       "      Zustand    Marke  Preis Kaufentscheidung\n",
       "0         neu  Citroën  10000               ja\n",
       "1   gebraucht  Citroën  13000             nein\n",
       "2   gebraucht      BMW  16000             nein\n",
       "3   gebraucht     Audi  11000               ja\n",
       "4         neu      BMW  17000             nein\n",
       "5         neu      BMW  13000               ja\n",
       "6   gebraucht     Audi  15000               ja\n",
       "7   gebraucht  Citroën  13000             nein\n",
       "8         neu      BMW  11000               ja\n",
       "9         neu     Audi  14000               ja\n",
       "10  gebraucht  Citroën  11000             nein\n",
       "11  gebraucht      BMW  14000             nein"
      ]
     },
     "execution_count": 1,
     "metadata": {},
     "output_type": "execute_result"
    }
   ],
   "source": [
    "import pandas as pd \n",
    "\n",
    "data = pd.read_csv('autokauf.csv')\n",
    "data.head(12)"
   ]
  },
  {
   "cell_type": "markdown",
   "metadata": {},
   "source": [
    "Da in unserem Beispiel nur drei Features vorliegen, können wir die Daten\n",
    "visualisieren. Wir ordnen der x-, y- und z-Achse jeweils eine Eigenschaft zu und\n",
    "visualisieren die Kaufentscheidung durch die Farbe des Markers. "
   ]
  },
  {
   "cell_type": "code",
   "execution_count": null,
   "metadata": {
    "tags": [
     "remove-input"
    ]
   },
   "outputs": [],
   "source": [
    "#data.replace('neu', 1, inplace=True)\n",
    "#data.replace('gebraucht', 0, inplace=True)\n",
    "\n",
    "#data.replace('Audi', 0, inplace=True)\n",
    "#data.replace('BMW', 1, inplace=True)\n",
    "#data.replace('Citroën', 2, inplace=True)\n",
    "\n",
    "#data.replace('ja', 1, inplace=True)\n",
    "#data.replace('nein', 0, inplace=True)\n",
    "\n",
    "#import plotly.express as px\n",
    "#fig = px.scatter_3d(data, x='Zustand', y='Marke', z='Preis', color=data['Kaufentscheidung'],\n",
    "#color_discrete_sequence=['#3b4cc0', '#b40426'])\n",
    "#fig.write_html('autohaus_tabelle_3dscatter.html')\n",
    "\n",
    "from IPython.display import HTML\n",
    "HTML('autohaus_tabelle_3dscatter.html')\n"
   ]
  },
  {
   "cell_type": "markdown",
   "metadata": {},
   "source": [
    "Natürlich können wir nun versuchen, eines der bisherigen ML-Verfahren\n",
    "anzuwenden, um die Kaufentscheidung zu prognostizieren. Wir probieren an dieser\n",
    "Stelle einen Entscheidungsbaum aus. Dazu betrachten wir uns die verschiedenen\n",
    "Features und versuchen nacheinander anhand von Fragen an die Features die\n",
    "einzelnen Datensätze in den einen Ast oder in den anderen Ast zu stecken.\n",
    "\n",
    "Blättern Sie die folgenden Folien nacheinander durch, um zu sehen, welche Fragen\n",
    "an die Features gestellt werden."
   ]
  },
  {
   "cell_type": "markdown",
   "metadata": {},
   "source": [
    "````{carousel}\n",
    ":show_controls:\n",
    ":show_shadows:\n",
    "\n",
    "```{figure} pics/autokauf_tabelle_001.png\n",
    "```\n",
    "\n",
    "```{figure} pics/autokauf_tabelle_002.png\n",
    "```\n",
    "\n",
    "```{figure} pics/autokauf_tabelle_003.png\n",
    "```\n",
    "\n",
    "```{figure} pics/autokauf_tabelle_004.png\n",
    "```\n",
    "\n",
    "```{figure} pics/autokauf_tabelle_005.png\n",
    "```\n",
    "\n",
    "```{figure} pics/autokauf_tabelle_006.png\n",
    "```\n",
    "````"
   ]
  },
  {
   "cell_type": "markdown",
   "metadata": {},
   "source": [
    "## Wurzel, Knoten, Zweig und Blatt\n",
    "\n",
    "Die Abfolge von Fragen an die Features wird in der Regel visualisiert. Die\n",
    "Visualisierung ist einer der großen Vorteile von Entscheidungsbäumen, denn\n",
    "dadurch wird sehr deutlich, welche Entscheidungen zu dem Ergebnis führen. Die\n",
    "Darstellung erfolgt dabei in der Regel als \"mathematischer\" Baum. Es gibt Knoten\n",
    "(node) und Kanten (branch), manchmal auch Zweige genannt. Jeder Knoten im Baum\n",
    "steht für eine Entscheidung oder ein Ereignis, während die Kanten zwischen den\n",
    "Knoten die möglichen Auswirkungen dieser Entscheidungen oder Ereignisse\n",
    "darstellen. Der oberste Knoten wird Wurzelknoten (root node) genannt. Ist die\n",
    "Entscheidung gefällt, dann werden diese letzten Knoten Endknoten (leaf node)\n",
    "genannt. Sie stellen sozusagen die Blätter des Baumes dar. "
   ]
  },
  {
   "cell_type": "markdown",
   "metadata": {},
   "source": [
    "## Entscheidungsbaum mit Scikit-Learn\n",
    "\n",
    "Scikit-Learn bietet einen Algorithmus an, um einen Entscheidungsbaum zu\n",
    "erstellen. Wir bleiben bei unserem fiktiven Autohaus. Allerdings müssen wir nun\n",
    "die Klassenbezeichnungen wie beispielsweise 'neu' oder 'gebraucht' als Zahlen\n",
    "kodieren. Danach extrahieren wir die drei Inputs als Matrix $X$ und unseren\n",
    "Output als $y$."
   ]
  },
  {
   "cell_type": "code",
   "execution_count": 2,
   "metadata": {},
   "outputs": [],
   "source": [
    "# wandle Kategorien in Zahlen um\n",
    "data.replace('neu', 1, inplace=True)\n",
    "data.replace('gebraucht', 0, inplace=True)\n",
    "\n",
    "data.replace('Audi', 0, inplace=True)\n",
    "data.replace('BMW', 1, inplace=True)\n",
    "data.replace('Citroën', 2, inplace=True)\n",
    "\n",
    "data.replace('ja', 1, inplace=True)\n",
    "data.replace('nein', 0, inplace=True)\n",
    "\n",
    "# extrahiere X und y\n",
    "X = data.loc[:, 'Zustand':'Preis']\n",
    "y = data.loc[:, 'Kaufentscheidung']\n"
   ]
  },
  {
   "cell_type": "code",
   "execution_count": 3,
   "metadata": {},
   "outputs": [
    {
     "data": {
      "text/html": [
       "<div>\n",
       "<style scoped>\n",
       "    .dataframe tbody tr th:only-of-type {\n",
       "        vertical-align: middle;\n",
       "    }\n",
       "\n",
       "    .dataframe tbody tr th {\n",
       "        vertical-align: top;\n",
       "    }\n",
       "\n",
       "    .dataframe thead th {\n",
       "        text-align: right;\n",
       "    }\n",
       "</style>\n",
       "<table border=\"1\" class=\"dataframe\">\n",
       "  <thead>\n",
       "    <tr style=\"text-align: right;\">\n",
       "      <th></th>\n",
       "      <th>Zustand</th>\n",
       "      <th>Marke</th>\n",
       "      <th>Preis</th>\n",
       "      <th>Kaufentscheidung</th>\n",
       "    </tr>\n",
       "  </thead>\n",
       "  <tbody>\n",
       "    <tr>\n",
       "      <th>0</th>\n",
       "      <td>1</td>\n",
       "      <td>2</td>\n",
       "      <td>10000</td>\n",
       "      <td>1</td>\n",
       "    </tr>\n",
       "    <tr>\n",
       "      <th>1</th>\n",
       "      <td>0</td>\n",
       "      <td>2</td>\n",
       "      <td>13000</td>\n",
       "      <td>0</td>\n",
       "    </tr>\n",
       "    <tr>\n",
       "      <th>2</th>\n",
       "      <td>0</td>\n",
       "      <td>1</td>\n",
       "      <td>16000</td>\n",
       "      <td>0</td>\n",
       "    </tr>\n",
       "    <tr>\n",
       "      <th>3</th>\n",
       "      <td>0</td>\n",
       "      <td>0</td>\n",
       "      <td>11000</td>\n",
       "      <td>1</td>\n",
       "    </tr>\n",
       "    <tr>\n",
       "      <th>4</th>\n",
       "      <td>1</td>\n",
       "      <td>1</td>\n",
       "      <td>17000</td>\n",
       "      <td>0</td>\n",
       "    </tr>\n",
       "    <tr>\n",
       "      <th>5</th>\n",
       "      <td>1</td>\n",
       "      <td>1</td>\n",
       "      <td>13000</td>\n",
       "      <td>1</td>\n",
       "    </tr>\n",
       "    <tr>\n",
       "      <th>6</th>\n",
       "      <td>0</td>\n",
       "      <td>0</td>\n",
       "      <td>15000</td>\n",
       "      <td>1</td>\n",
       "    </tr>\n",
       "    <tr>\n",
       "      <th>7</th>\n",
       "      <td>0</td>\n",
       "      <td>2</td>\n",
       "      <td>13000</td>\n",
       "      <td>0</td>\n",
       "    </tr>\n",
       "    <tr>\n",
       "      <th>8</th>\n",
       "      <td>1</td>\n",
       "      <td>1</td>\n",
       "      <td>11000</td>\n",
       "      <td>1</td>\n",
       "    </tr>\n",
       "    <tr>\n",
       "      <th>9</th>\n",
       "      <td>1</td>\n",
       "      <td>0</td>\n",
       "      <td>14000</td>\n",
       "      <td>1</td>\n",
       "    </tr>\n",
       "    <tr>\n",
       "      <th>10</th>\n",
       "      <td>0</td>\n",
       "      <td>2</td>\n",
       "      <td>11000</td>\n",
       "      <td>0</td>\n",
       "    </tr>\n",
       "    <tr>\n",
       "      <th>11</th>\n",
       "      <td>0</td>\n",
       "      <td>1</td>\n",
       "      <td>14000</td>\n",
       "      <td>0</td>\n",
       "    </tr>\n",
       "  </tbody>\n",
       "</table>\n",
       "</div>"
      ],
      "text/plain": [
       "    Zustand  Marke  Preis  Kaufentscheidung\n",
       "0         1      2  10000                 1\n",
       "1         0      2  13000                 0\n",
       "2         0      1  16000                 0\n",
       "3         0      0  11000                 1\n",
       "4         1      1  17000                 0\n",
       "5         1      1  13000                 1\n",
       "6         0      0  15000                 1\n",
       "7         0      2  13000                 0\n",
       "8         1      1  11000                 1\n",
       "9         1      0  14000                 1\n",
       "10        0      2  11000                 0\n",
       "11        0      1  14000                 0"
      ]
     },
     "execution_count": 3,
     "metadata": {},
     "output_type": "execute_result"
    }
   ],
   "source": [
    "data.head(12)"
   ]
  },
  {
   "cell_type": "markdown",
   "metadata": {},
   "source": [
    "Nun lassen wir Scikit-Learn einen Entscheidungsbaum erstellen. Dazu importieren\n",
    "wir `DecisionTreeClassifier` aus dem Untermodul `sklearn.tree`. Danach\n",
    "trainieren wir den Entscheidungsbaum mit `.fit()`."
   ]
  },
  {
   "cell_type": "code",
   "execution_count": 4,
   "metadata": {},
   "outputs": [],
   "source": [
    "from sklearn.tree import DecisionTreeClassifier\n",
    "\n",
    "model = DecisionTreeClassifier()\n",
    "model.fit(X,y);"
   ]
  },
  {
   "cell_type": "markdown",
   "metadata": {},
   "source": [
    "Aber wie sieht denn jetzt der Entscheidungsbaum aus? Das Scikit-Learn-Modul\n",
    "`sklearn.tree` stellt auch eine Funktion namens `plot_tree` zur Verfügung, die\n",
    "Entscheidungsbäume zeichnen kann. Wir importieren sie direkt und wenden Sie an."
   ]
  },
  {
   "cell_type": "code",
   "execution_count": 5,
   "metadata": {},
   "outputs": [
    {
     "data": {
      "image/png": "[encoded data removed]",
      "text/plain": [
       "<Figure size 432x288 with 1 Axes>"
      ]
     },
     "metadata": {
      "needs_background": "light"
     },
     "output_type": "display_data"
    }
   ],
   "source": [
    "import matplotlib.pylab as plt\n",
    "from sklearn.tree import plot_tree \n",
    "\n",
    "plt.figure()\n",
    "plot_tree(model)\n",
    "plt.show()"
   ]
  },
  {
   "cell_type": "markdown",
   "metadata": {},
   "source": [
    "In den Kästchen, die den Wurzelknoten und die inneren Knoten darstellen, steht\n",
    "jeweils in der ersten Zeile, welches Feature überprüft wird und wie die\n",
    "dazugehörige Frage lautet. Bei unserem Wurzelknoten also `X[1] <= 0.5`. Das\n",
    "bedeutet, das als erstes das 2. Feature, also die Marke benutzt wird. Die Marken\n",
    "waren als Audi = 1, BMW = 2 und Citroën = 3 kodiert. Somit bedeutet diese\n",
    "Entscheidung, dass Audis nach links und BMW/Citroën nach rechts gesteckt werden.\n",
    "Damit ist der linke Ast schon beendet, alle Audis wurden nach der Probefahrt\n",
    "gekauft.\n",
    "\n",
    "Damit sich der Entscheidungsbaum leichter lesen lässt, können wir die Namen der\n",
    "Features anstatt `X[0]`, `X[1]`und `X[2]` verwenden. Dazu setzen wir die Option\n",
    "`feature_names=['Zustand','Marke','Preis']`."
   ]
  },
  {
   "cell_type": "code",
   "execution_count": null,
   "metadata": {},
   "outputs": [],
   "source": [
    "plt.figure()\n",
    "plot_tree(model,feature_names=['Zustand','Marke','Preis'])\n",
    "plt.show()"
   ]
  },
  {
   "cell_type": "markdown",
   "metadata": {},
   "source": [
    "Der Eintrag `samples` in den Knoten verrät, wie viele Datensätze in den linken\n",
    "Zweig wandern und wie viele nach rechts. Die drei Audis kommen nach links\n",
    "(`samples = 3`) und die neun BMW/Citroëns (`samples = 9`) kommen nach rechts. \n",
    "\n",
    "Der linke Endknoten enthält nun drei Audis. Von diesen drei Audis werden am Ende\n",
    "0 nicht gekauft und 3 gekauft. Das wird in der letzten Zeile beschrieben: `value\n",
    "= [0, 3]`. Daher müssen keine weiteren Fragen gestellt werden. \n",
    "\n",
    "Die neun BMW/Citroëns enthalten aber noch Fahrzeuge mit beiden\n",
    "Kaufentscheidungen. Der value wird mit `[6,3]` angegeben. Also befinden sich\n",
    "noch 6 nicht gekaufte Fahrzeuge und 3 gekaufte Fahrzeuge in diesem Zweig. Wir\n",
    "müssen weitere Fragen an die Features stellen, um diese Fahrzeuge korrekt zu\n",
    "klassifizieren.\n",
    "\n",
    "Daher wird nun nach dem Zustand des Fahrzeugs gefragt. `Zustand <= 0.5` meint\n",
    "die Gebrauchtwagen, da wird die Klassenbezeichnung 'gebraucht' durch eine Null\n",
    "ersetzt haben und 'neu' durch eine Eins. Links führt wieder zu einem Endknoten,\n",
    "rechts zu einem gemischten Knoten. Es wäre schön, schneller erkennen zu können,\n",
    "ob ein Knoten nur noch Autos mit einer Kaufentscheidung enthält, also ein reiner\n",
    "Endknoten ist, oder ob der Knoten noch gemischt ist und somit ein innerer\n",
    "Knoten. Dazu gibt es eine weitere Option, mit der wir die Kästchen farblich\n",
    "füllen können. Sie lautet simpel: `filled=True`. \n",
    "\n",
    "Je dunkler die Farbe, desto reiner der Knoten!"
   ]
  },
  {
   "cell_type": "code",
   "execution_count": null,
   "metadata": {},
   "outputs": [],
   "source": [
    "plt.figure()\n",
    "plot_tree(model,feature_names=['Zustand','Marke','Preis'], filled=True)\n",
    "plt.show()"
   ]
  },
  {
   "cell_type": "markdown",
   "metadata": {},
   "source": [
    "Wenn wir uns die vier Endknoten, also die Blätter betrachten, so haben wir von\n",
    "links nach rechts 3 Autos, die gekauft wurden (`[0,3]`), 5 Autos, die nicht\n",
    "gekauft wurden (`[5,0]`), wiederum 3 Autos, die gekauft wurden (`[0,3]`) und\n",
    "zuletzt 1 Auto, das nicht gekauft wurde (`[1,0]`). "
   ]
  },
  {
   "cell_type": "markdown",
   "metadata": {},
   "source": [
    "## Komplexität von Entscheidungsbäumen\n",
    "\n",
    "Entscheidungsbäume tendieren schnell zum Overfitting. Natürlich können wir\n",
    "solange weiter Fragen stellen, bis jedes Leaf/Endknoten nur noch Datenpunkte\n",
    "einer Klasse enthält. Damit hätten wir also eine 100-prozentige Prognose auf den\n",
    "Trainingsdaten. Wie so oft bedeutet dies aber nicht, dass der so trainierte\n",
    "Entscheidungsbaum gut verallgemeinerbar ist.\n",
    "\n",
    "Um das Overfitting zu vermeiden, werden vor allem zwei Methoden verwendet:\n",
    "**Prä-Tuning** und **Post-Tuning**.\n",
    "\n",
    "1. Prä-Pruning: die maximale Tiefe des Baumes wird begrenzt oder es wird eine\n",
    "   bestimmte Mindestanzahl von Datenpunkten pro Knoten gefordert\n",
    "2. Post-Pruning: im Nachhinein werden Knoten mit wenig Informationen aus dem\n",
    "   Entscheidungsbaum entfernt oder Knoten werden zusammengelegt\n",
    "\n",
    "Scikit-Learn hat nur Prä-Pruning implementiert. Beispielsweise können wir mit\n",
    "dem Argument `max_depth=2` die Tiefe unseres Entscheidungsbaumes auf 2\n",
    "begrenzen.\n"
   ]
  },
  {
   "cell_type": "code",
   "execution_count": null,
   "metadata": {},
   "outputs": [],
   "source": [
    "model_begrenzt = DecisionTreeClassifier(max_depth=2)\n",
    "model_begrenzt.fit(X,y);\n",
    "\n",
    "plt.figure()\n",
    "plot_tree(model_begrenzt,feature_names=['Zustand','Marke','Preis'], filled=True)\n",
    "plt.show()"
   ]
  },
  {
   "cell_type": "markdown",
   "metadata": {},
   "source": [
    "Dadurch sind die Blätter/Endknoten aber nicht mehr rein. \n",
    "\n",
    "Weitere Möglichkeiten des Prä-Pruning finden Sie in der [Dokumumentation\n",
    "Scikit-Learn →\n",
    "DecisionTreeClassifier](https://scikit-learn.org/stable/modules/generated/sklearn.tree.DecisionTreeClassifier.html)."
   ]
  }
 ],
 "metadata": {
  "kernelspec": {
   "display_name": "Python 3",
   "language": "python",
   "name": "python3"
  },
  "language_info": {
   "codemirror_mode": {
    "name": "ipython",
    "version": 3
   },
   "file_extension": ".py",
   "mimetype": "text/x-python",
   "name": "python",
   "nbconvert_exporter": "python",
   "pygments_lexer": "ipython3",
   "version": "3.9.15"
  },
  "vscode": {
   "interpreter": {
    "hash": "502e30c89ac744ede490eeeb6f7e63ddbf7b044ca990d418a4738702fff7139e"
   }
  }
 },
 "nbformat": 4,
 "nbformat_minor": 4
}
