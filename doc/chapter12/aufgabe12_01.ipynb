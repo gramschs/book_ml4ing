{
 "cells": [
  {
   "cell_type": "code",
   "execution_count": 5,
   "metadata": {},
   "outputs": [
    {
     "name": "stdout",
     "output_type": "stream",
     "text": [
      "<class 'pandas.core.frame.DataFrame'>\n",
      "RangeIndex: 53 entries, 0 to 52\n",
      "Data columns (total 12 columns):\n",
      " #   Column      Non-Null Count  Dtype  \n",
      "---  ------      --------------  -----  \n",
      " 0   HU          53 non-null     int64  \n",
      " 1   F           53 non-null     float64\n",
      " 2   F nach T    53 non-null     float64\n",
      " 3   h           53 non-null     float64\n",
      " 4   CHU         53 non-null     float64\n",
      " 5   h(max)      53 non-null     float64\n",
      " 6   h(min)      53 non-null     float64\n",
      " 7   W(plast)    53 non-null     float64\n",
      " 8   W(elast)    53 non-null     float64\n",
      " 9   Nu          53 non-null     float64\n",
      " 10  Rockwell    53 non-null     object \n",
      " 11  Haertewert  53 non-null     float64\n",
      "dtypes: float64(10), int64(1), object(1)\n",
      "memory usage: 5.1+ KB\n"
     ]
    }
   ],
   "source": [
    "import pandas as pd \n",
    "\n",
    "data = pd.read_csv('data/messwerte_haertepruefung.csv', skiprows=4)\n",
    "data.info()"
   ]
  },
  {
   "cell_type": "markdown",
   "metadata": {},
   "source": [
    "Der Datensatz enthält 53 Einträge und stellt somit einen sehr kleinen Datensatz\n",
    "dar. Es gibt 12 Eigenschaften/Spalten. Die Spalte HU wird durch Integers\n",
    "repräsentiert, die Eigenschaft Rockwell durch Objekte. Alle übrigen\n",
    "Eigenschaften werden durch Floats dargestellt. Alle Einträge sind gültig."
   ]
  },
  {
   "cell_type": "code",
   "execution_count": 6,
   "metadata": {},
   "outputs": [
    {
     "data": {
      "text/html": [
       "<div>\n",
       "<style scoped>\n",
       "    .dataframe tbody tr th:only-of-type {\n",
       "        vertical-align: middle;\n",
       "    }\n",
       "\n",
       "    .dataframe tbody tr th {\n",
       "        vertical-align: top;\n",
       "    }\n",
       "\n",
       "    .dataframe thead th {\n",
       "        text-align: right;\n",
       "    }\n",
       "</style>\n",
       "<table border=\"1\" class=\"dataframe\">\n",
       "  <thead>\n",
       "    <tr style=\"text-align: right;\">\n",
       "      <th></th>\n",
       "      <th>HU</th>\n",
       "      <th>F</th>\n",
       "      <th>F nach T</th>\n",
       "      <th>h</th>\n",
       "      <th>CHU</th>\n",
       "      <th>h(max)</th>\n",
       "      <th>h(min)</th>\n",
       "      <th>W(plast)</th>\n",
       "      <th>W(elast)</th>\n",
       "      <th>Nu</th>\n",
       "      <th>Rockwell</th>\n",
       "      <th>Haertewert</th>\n",
       "    </tr>\n",
       "  </thead>\n",
       "  <tbody>\n",
       "    <tr>\n",
       "      <th>0</th>\n",
       "      <td>775</td>\n",
       "      <td>380.4</td>\n",
       "      <td>392.3</td>\n",
       "      <td>136.283</td>\n",
       "      <td>4.76</td>\n",
       "      <td>142.8</td>\n",
       "      <td>125.4</td>\n",
       "      <td>18.409</td>\n",
       "      <td>-1.075</td>\n",
       "      <td>-6.20</td>\n",
       "      <td>HRB</td>\n",
       "      <td>19.80</td>\n",
       "    </tr>\n",
       "    <tr>\n",
       "      <th>1</th>\n",
       "      <td>6391</td>\n",
       "      <td>380.6</td>\n",
       "      <td>392.4</td>\n",
       "      <td>47.466</td>\n",
       "      <td>2.54</td>\n",
       "      <td>48.7</td>\n",
       "      <td>33.5</td>\n",
       "      <td>4.318</td>\n",
       "      <td>1.470</td>\n",
       "      <td>25.40</td>\n",
       "      <td>HRC</td>\n",
       "      <td>65.72</td>\n",
       "    </tr>\n",
       "    <tr>\n",
       "      <th>2</th>\n",
       "      <td>1146</td>\n",
       "      <td>380.3</td>\n",
       "      <td>392.4</td>\n",
       "      <td>112.067</td>\n",
       "      <td>5.08</td>\n",
       "      <td>117.8</td>\n",
       "      <td>109.2</td>\n",
       "      <td>15.873</td>\n",
       "      <td>-1.506</td>\n",
       "      <td>-10.49</td>\n",
       "      <td>HRB</td>\n",
       "      <td>54.86</td>\n",
       "    </tr>\n",
       "    <tr>\n",
       "      <th>3</th>\n",
       "      <td>4875</td>\n",
       "      <td>380.7</td>\n",
       "      <td>392.3</td>\n",
       "      <td>54.363</td>\n",
       "      <td>2.69</td>\n",
       "      <td>55.8</td>\n",
       "      <td>41.9</td>\n",
       "      <td>5.630</td>\n",
       "      <td>1.084</td>\n",
       "      <td>16.14</td>\n",
       "      <td>HRC</td>\n",
       "      <td>52.88</td>\n",
       "    </tr>\n",
       "    <tr>\n",
       "      <th>4</th>\n",
       "      <td>2964</td>\n",
       "      <td>380.5</td>\n",
       "      <td>392.3</td>\n",
       "      <td>69.704</td>\n",
       "      <td>3.30</td>\n",
       "      <td>72.0</td>\n",
       "      <td>60.1</td>\n",
       "      <td>8.281</td>\n",
       "      <td>0.369</td>\n",
       "      <td>4.26</td>\n",
       "      <td>HRC</td>\n",
       "      <td>30.50</td>\n",
       "    </tr>\n",
       "    <tr>\n",
       "      <th>5</th>\n",
       "      <td>4817</td>\n",
       "      <td>380.8</td>\n",
       "      <td>392.3</td>\n",
       "      <td>54.698</td>\n",
       "      <td>2.72</td>\n",
       "      <td>56.2</td>\n",
       "      <td>41.8</td>\n",
       "      <td>5.815</td>\n",
       "      <td>0.993</td>\n",
       "      <td>14.58</td>\n",
       "      <td>HRC</td>\n",
       "      <td>51.00</td>\n",
       "    </tr>\n",
       "    <tr>\n",
       "      <th>6</th>\n",
       "      <td>1082</td>\n",
       "      <td>380.2</td>\n",
       "      <td>392.3</td>\n",
       "      <td>115.318</td>\n",
       "      <td>5.15</td>\n",
       "      <td>121.3</td>\n",
       "      <td>112.4</td>\n",
       "      <td>16.487</td>\n",
       "      <td>-1.638</td>\n",
       "      <td>-11.03</td>\n",
       "      <td>HRB</td>\n",
       "      <td>48.66</td>\n",
       "    </tr>\n",
       "    <tr>\n",
       "      <th>7</th>\n",
       "      <td>5595</td>\n",
       "      <td>380.7</td>\n",
       "      <td>392.2</td>\n",
       "      <td>50.741</td>\n",
       "      <td>2.44</td>\n",
       "      <td>52.0</td>\n",
       "      <td>37.2</td>\n",
       "      <td>4.712</td>\n",
       "      <td>1.392</td>\n",
       "      <td>22.81</td>\n",
       "      <td>HRC</td>\n",
       "      <td>62.76</td>\n",
       "    </tr>\n",
       "    <tr>\n",
       "      <th>8</th>\n",
       "      <td>6177</td>\n",
       "      <td>380.4</td>\n",
       "      <td>392.3</td>\n",
       "      <td>48.272</td>\n",
       "      <td>2.56</td>\n",
       "      <td>49.5</td>\n",
       "      <td>34.2</td>\n",
       "      <td>4.438</td>\n",
       "      <td>1.522</td>\n",
       "      <td>25.53</td>\n",
       "      <td>HRC</td>\n",
       "      <td>63.90</td>\n",
       "    </tr>\n",
       "    <tr>\n",
       "      <th>9</th>\n",
       "      <td>2958</td>\n",
       "      <td>380.7</td>\n",
       "      <td>392.3</td>\n",
       "      <td>69.784</td>\n",
       "      <td>3.20</td>\n",
       "      <td>72.0</td>\n",
       "      <td>60.5</td>\n",
       "      <td>8.305</td>\n",
       "      <td>0.401</td>\n",
       "      <td>4.60</td>\n",
       "      <td>HRC</td>\n",
       "      <td>29.72</td>\n",
       "    </tr>\n",
       "  </tbody>\n",
       "</table>\n",
       "</div>"
      ],
      "text/plain": [
       "     HU      F  F nach T        h   CHU  h(max)  h(min)  W(plast)  W(elast)  \\\n",
       "0   775  380.4     392.3  136.283  4.76   142.8   125.4    18.409    -1.075   \n",
       "1  6391  380.6     392.4   47.466  2.54    48.7    33.5     4.318     1.470   \n",
       "2  1146  380.3     392.4  112.067  5.08   117.8   109.2    15.873    -1.506   \n",
       "3  4875  380.7     392.3   54.363  2.69    55.8    41.9     5.630     1.084   \n",
       "4  2964  380.5     392.3   69.704  3.30    72.0    60.1     8.281     0.369   \n",
       "5  4817  380.8     392.3   54.698  2.72    56.2    41.8     5.815     0.993   \n",
       "6  1082  380.2     392.3  115.318  5.15   121.3   112.4    16.487    -1.638   \n",
       "7  5595  380.7     392.2   50.741  2.44    52.0    37.2     4.712     1.392   \n",
       "8  6177  380.4     392.3   48.272  2.56    49.5    34.2     4.438     1.522   \n",
       "9  2958  380.7     392.3   69.784  3.20    72.0    60.5     8.305     0.401   \n",
       "\n",
       "      Nu Rockwell  Haertewert  \n",
       "0  -6.20      HRB       19.80  \n",
       "1  25.40      HRC       65.72  \n",
       "2 -10.49      HRB       54.86  \n",
       "3  16.14      HRC       52.88  \n",
       "4   4.26      HRC       30.50  \n",
       "5  14.58      HRC       51.00  \n",
       "6 -11.03      HRB       48.66  \n",
       "7  22.81      HRC       62.76  \n",
       "8  25.53      HRC       63.90  \n",
       "9   4.60      HRC       29.72  "
      ]
     },
     "execution_count": 6,
     "metadata": {},
     "output_type": "execute_result"
    }
   ],
   "source": [
    "data.head(10)"
   ]
  },
  {
   "cell_type": "markdown",
   "metadata": {},
   "source": [
    "Die Größenordnung der Messwerte ist sehr unterschiedlich, die Daten müssen\n",
    "später skaliert werden. Die Spalte Rockwell scheint nur zwei verschiedene Werte\n",
    "zu enthalten, nämlich HRB und HRC. Das muss noch überprüft werden.\n",
    "\n",
    "Wir trennen jetzt schon Input-Daten von den Output-Daten, um leichter die\n",
    "statistischen Kennzahlen zu ermitteln und zu visualisieren.\n",
    "\n"
   ]
  },
  {
   "cell_type": "code",
   "execution_count": 11,
   "metadata": {},
   "outputs": [],
   "source": [
    "y_Rockwell = data['Rockwell'].copy()\n",
    "y_Haertewert = data['Haertewert'].copy()\n",
    "\n",
    "data.drop(columns=['Rockwell', 'Haertewert'], inplace=True)"
   ]
  },
  {
   "cell_type": "code",
   "execution_count": 12,
   "metadata": {},
   "outputs": [
    {
     "data": {
      "text/html": [
       "<div>\n",
       "<style scoped>\n",
       "    .dataframe tbody tr th:only-of-type {\n",
       "        vertical-align: middle;\n",
       "    }\n",
       "\n",
       "    .dataframe tbody tr th {\n",
       "        vertical-align: top;\n",
       "    }\n",
       "\n",
       "    .dataframe thead th {\n",
       "        text-align: right;\n",
       "    }\n",
       "</style>\n",
       "<table border=\"1\" class=\"dataframe\">\n",
       "  <thead>\n",
       "    <tr style=\"text-align: right;\">\n",
       "      <th></th>\n",
       "      <th>HU</th>\n",
       "      <th>F</th>\n",
       "      <th>F nach T</th>\n",
       "      <th>h</th>\n",
       "      <th>CHU</th>\n",
       "      <th>h(max)</th>\n",
       "      <th>h(min)</th>\n",
       "      <th>W(plast)</th>\n",
       "      <th>W(elast)</th>\n",
       "      <th>Nu</th>\n",
       "    </tr>\n",
       "  </thead>\n",
       "  <tbody>\n",
       "    <tr>\n",
       "      <th>count</th>\n",
       "      <td>53.000000</td>\n",
       "      <td>53.000000</td>\n",
       "      <td>53.000000</td>\n",
       "      <td>53.000000</td>\n",
       "      <td>53.000000</td>\n",
       "      <td>53.000000</td>\n",
       "      <td>53.000000</td>\n",
       "      <td>53.000000</td>\n",
       "      <td>53.000000</td>\n",
       "      <td>53.000000</td>\n",
       "    </tr>\n",
       "    <tr>\n",
       "      <th>mean</th>\n",
       "      <td>2975.094340</td>\n",
       "      <td>380.575472</td>\n",
       "      <td>392.309434</td>\n",
       "      <td>79.970358</td>\n",
       "      <td>3.578491</td>\n",
       "      <td>83.052830</td>\n",
       "      <td>70.990566</td>\n",
       "      <td>10.047623</td>\n",
       "      <td>0.032604</td>\n",
       "      <td>3.685472</td>\n",
       "    </tr>\n",
       "    <tr>\n",
       "      <th>std</th>\n",
       "      <td>1816.966738</td>\n",
       "      <td>0.213853</td>\n",
       "      <td>0.049085</td>\n",
       "      <td>24.114821</td>\n",
       "      <td>0.841858</td>\n",
       "      <td>25.664999</td>\n",
       "      <td>27.080778</td>\n",
       "      <td>4.135247</td>\n",
       "      <td>0.992316</td>\n",
       "      <td>11.796490</td>\n",
       "    </tr>\n",
       "    <tr>\n",
       "      <th>min</th>\n",
       "      <td>775.000000</td>\n",
       "      <td>380.200000</td>\n",
       "      <td>392.200000</td>\n",
       "      <td>47.124000</td>\n",
       "      <td>2.440000</td>\n",
       "      <td>48.400000</td>\n",
       "      <td>33.500000</td>\n",
       "      <td>4.297000</td>\n",
       "      <td>-1.638000</td>\n",
       "      <td>-11.030000</td>\n",
       "    </tr>\n",
       "    <tr>\n",
       "      <th>25%</th>\n",
       "      <td>1319.000000</td>\n",
       "      <td>380.400000</td>\n",
       "      <td>392.300000</td>\n",
       "      <td>54.698000</td>\n",
       "      <td>2.720000</td>\n",
       "      <td>56.200000</td>\n",
       "      <td>41.900000</td>\n",
       "      <td>5.815000</td>\n",
       "      <td>-0.852000</td>\n",
       "      <td>-6.400000</td>\n",
       "    </tr>\n",
       "    <tr>\n",
       "      <th>50%</th>\n",
       "      <td>2402.000000</td>\n",
       "      <td>380.600000</td>\n",
       "      <td>392.300000</td>\n",
       "      <td>77.403000</td>\n",
       "      <td>3.510000</td>\n",
       "      <td>80.300000</td>\n",
       "      <td>68.700000</td>\n",
       "      <td>9.671000</td>\n",
       "      <td>0.056000</td>\n",
       "      <td>0.570000</td>\n",
       "    </tr>\n",
       "    <tr>\n",
       "      <th>75%</th>\n",
       "      <td>4817.000000</td>\n",
       "      <td>380.700000</td>\n",
       "      <td>392.300000</td>\n",
       "      <td>104.466000</td>\n",
       "      <td>4.230000</td>\n",
       "      <td>108.700000</td>\n",
       "      <td>99.300000</td>\n",
       "      <td>14.054000</td>\n",
       "      <td>1.016000</td>\n",
       "      <td>14.580000</td>\n",
       "    </tr>\n",
       "    <tr>\n",
       "      <th>max</th>\n",
       "      <td>6488.000000</td>\n",
       "      <td>381.100000</td>\n",
       "      <td>392.400000</td>\n",
       "      <td>136.283000</td>\n",
       "      <td>5.150000</td>\n",
       "      <td>142.800000</td>\n",
       "      <td>125.400000</td>\n",
       "      <td>18.409000</td>\n",
       "      <td>1.522000</td>\n",
       "      <td>26.050000</td>\n",
       "    </tr>\n",
       "  </tbody>\n",
       "</table>\n",
       "</div>"
      ],
      "text/plain": [
       "                HU           F    F nach T           h        CHU      h(max)  \\\n",
       "count    53.000000   53.000000   53.000000   53.000000  53.000000   53.000000   \n",
       "mean   2975.094340  380.575472  392.309434   79.970358   3.578491   83.052830   \n",
       "std    1816.966738    0.213853    0.049085   24.114821   0.841858   25.664999   \n",
       "min     775.000000  380.200000  392.200000   47.124000   2.440000   48.400000   \n",
       "25%    1319.000000  380.400000  392.300000   54.698000   2.720000   56.200000   \n",
       "50%    2402.000000  380.600000  392.300000   77.403000   3.510000   80.300000   \n",
       "75%    4817.000000  380.700000  392.300000  104.466000   4.230000  108.700000   \n",
       "max    6488.000000  381.100000  392.400000  136.283000   5.150000  142.800000   \n",
       "\n",
       "           h(min)   W(plast)   W(elast)         Nu  \n",
       "count   53.000000  53.000000  53.000000  53.000000  \n",
       "mean    70.990566  10.047623   0.032604   3.685472  \n",
       "std     27.080778   4.135247   0.992316  11.796490  \n",
       "min     33.500000   4.297000  -1.638000 -11.030000  \n",
       "25%     41.900000   5.815000  -0.852000  -6.400000  \n",
       "50%     68.700000   9.671000   0.056000   0.570000  \n",
       "75%     99.300000  14.054000   1.016000  14.580000  \n",
       "max    125.400000  18.409000   1.522000  26.050000  "
      ]
     },
     "execution_count": 12,
     "metadata": {},
     "output_type": "execute_result"
    }
   ],
   "source": [
    "data.describe()"
   ]
  },
  {
   "cell_type": "code",
   "execution_count": 14,
   "metadata": {},
   "outputs": [
    {
     "data": {
      "application/vnd.plotly.v1+json": {
       "config": {
        "plotlyServerURL": "https://plot.ly"
       },
       "data": [
        {
         "alignmentgroup": "True",
         "hovertemplate": "Eigenschaft=%{x}<br>Wert=%{y}<extra></extra>",
         "legendgroup": "",
         "marker": {
          "color": "#636efa"
         },
         "name": "",
         "notched": false,
         "offsetgroup": "",
         "orientation": "v",
         "showlegend": false,
         "type": "box",
         "x": [
          "HU",
          "HU",
          "HU",
          "HU",
          "HU",
          "HU",
          "HU",
          "HU",
          "HU",
          "HU",
          "HU",
          "HU",
          "HU",
          "HU",
          "HU",
          "HU",
          "HU",
          "HU",
          "HU",
          "HU",
          "HU",
          "HU",
          "HU",
          "HU",
          "HU",
          "HU",
          "HU",
          "HU",
          "HU",
          "HU",
          "HU",
          "HU",
          "HU",
          "HU",
          "HU",
          "HU",
          "HU",
          "HU",
          "HU",
          "HU",
          "HU",
          "HU",
          "HU",
          "HU",
          "HU",
          "HU",
          "HU",
          "HU",
          "HU",
          "HU",
          "HU",
          "HU",
          "HU",
          "F",
          "F",
          "F",
          "F",
          "F",
          "F",
          "F",
          "F",
          "F",
          "F",
          "F",
          "F",
          "F",
          "F",
          "F",
          "F",
          "F",
          "F",
          "F",
          "F",
          "F",
          "F",
          "F",
          "F",
          "F",
          "F",
          "F",
          "F",
          "F",
          "F",
          "F",
          "F",
          "F",
          "F",
          "F",
          "F",
          "F",
          "F",
          "F",
          "F",
          "F",
          "F",
          "F",
          "F",
          "F",
          "F",
          "F",
          "F",
          "F",
          "F",
          "F",
          "F",
          "F",
          "F nach T",
          "F nach T",
          "F nach T",
          "F nach T",
          "F nach T",
          "F nach T",
          "F nach T",
          "F nach T",
          "F nach T",
          "F nach T",
          "F nach T",
          "F nach T",
          "F nach T",
          "F nach T",
          "F nach T",
          "F nach T",
          "F nach T",
          "F nach T",
          "F nach T",
          "F nach T",
          "F nach T",
          "F nach T",
          "F nach T",
          "F nach T",
          "F nach T",
          "F nach T",
          "F nach T",
          "F nach T",
          "F nach T",
          "F nach T",
          "F nach T",
          "F nach T",
          "F nach T",
          "F nach T",
          "F nach T",
          "F nach T",
          "F nach T",
          "F nach T",
          "F nach T",
          "F nach T",
          "F nach T",
          "F nach T",
          "F nach T",
          "F nach T",
          "F nach T",
          "F nach T",
          "F nach T",
          "F nach T",
          "F nach T",
          "F nach T",
          "F nach T",
          "F nach T",
          "F nach T",
          "h",
          "h",
          "h",
          "h",
          "h",
          "h",
          "h",
          "h",
          "h",
          "h",
          "h",
          "h",
          "h",
          "h",
          "h",
          "h",
          "h",
          "h",
          "h",
          "h",
          "h",
          "h",
          "h",
          "h",
          "h",
          "h",
          "h",
          "h",
          "h",
          "h",
          "h",
          "h",
          "h",
          "h",
          "h",
          "h",
          "h",
          "h",
          "h",
          "h",
          "h",
          "h",
          "h",
          "h",
          "h",
          "h",
          "h",
          "h",
          "h",
          "h",
          "h",
          "h",
          "h",
          "CHU",
          "CHU",
          "CHU",
          "CHU",
          "CHU",
          "CHU",
          "CHU",
          "CHU",
          "CHU",
          "CHU",
          "CHU",
          "CHU",
          "CHU",
          "CHU",
          "CHU",
          "CHU",
          "CHU",
          "CHU",
          "CHU",
          "CHU",
          "CHU",
          "CHU",
          "CHU",
          "CHU",
          "CHU",
          "CHU",
          "CHU",
          "CHU",
          "CHU",
          "CHU",
          "CHU",
          "CHU",
          "CHU",
          "CHU",
          "CHU",
          "CHU",
          "CHU",
          "CHU",
          "CHU",
          "CHU",
          "CHU",
          "CHU",
          "CHU",
          "CHU",
          "CHU",
          "CHU",
          "CHU",
          "CHU",
          "CHU",
          "CHU",
          "CHU",
          "CHU",
          "CHU",
          "h(max)",
          "h(max)",
          "h(max)",
          "h(max)",
          "h(max)",
          "h(max)",
          "h(max)",
          "h(max)",
          "h(max)",
          "h(max)",
          "h(max)",
          "h(max)",
          "h(max)",
          "h(max)",
          "h(max)",
          "h(max)",
          "h(max)",
          "h(max)",
          "h(max)",
          "h(max)",
          "h(max)",
          "h(max)",
          "h(max)",
          "h(max)",
          "h(max)",
          "h(max)",
          "h(max)",
          "h(max)",
          "h(max)",
          "h(max)",
          "h(max)",
          "h(max)",
          "h(max)",
          "h(max)",
          "h(max)",
          "h(max)",
          "h(max)",
          "h(max)",
          "h(max)",
          "h(max)",
          "h(max)",
          "h(max)",
          "h(max)",
          "h(max)",
          "h(max)",
          "h(max)",
          "h(max)",
          "h(max)",
          "h(max)",
          "h(max)",
          "h(max)",
          "h(max)",
          "h(max)",
          "h(min)",
          "h(min)",
          "h(min)",
          "h(min)",
          "h(min)",
          "h(min)",
          "h(min)",
          "h(min)",
          "h(min)",
          "h(min)",
          "h(min)",
          "h(min)",
          "h(min)",
          "h(min)",
          "h(min)",
          "h(min)",
          "h(min)",
          "h(min)",
          "h(min)",
          "h(min)",
          "h(min)",
          "h(min)",
          "h(min)",
          "h(min)",
          "h(min)",
          "h(min)",
          "h(min)",
          "h(min)",
          "h(min)",
          "h(min)",
          "h(min)",
          "h(min)",
          "h(min)",
          "h(min)",
          "h(min)",
          "h(min)",
          "h(min)",
          "h(min)",
          "h(min)",
          "h(min)",
          "h(min)",
          "h(min)",
          "h(min)",
          "h(min)",
          "h(min)",
          "h(min)",
          "h(min)",
          "h(min)",
          "h(min)",
          "h(min)",
          "h(min)",
          "h(min)",
          "h(min)",
          "W(plast)",
          "W(plast)",
          "W(plast)",
          "W(plast)",
          "W(plast)",
          "W(plast)",
          "W(plast)",
          "W(plast)",
          "W(plast)",
          "W(plast)",
          "W(plast)",
          "W(plast)",
          "W(plast)",
          "W(plast)",
          "W(plast)",
          "W(plast)",
          "W(plast)",
          "W(plast)",
          "W(plast)",
          "W(plast)",
          "W(plast)",
          "W(plast)",
          "W(plast)",
          "W(plast)",
          "W(plast)",
          "W(plast)",
          "W(plast)",
          "W(plast)",
          "W(plast)",
          "W(plast)",
          "W(plast)",
          "W(plast)",
          "W(plast)",
          "W(plast)",
          "W(plast)",
          "W(plast)",
          "W(plast)",
          "W(plast)",
          "W(plast)",
          "W(plast)",
          "W(plast)",
          "W(plast)",
          "W(plast)",
          "W(plast)",
          "W(plast)",
          "W(plast)",
          "W(plast)",
          "W(plast)",
          "W(plast)",
          "W(plast)",
          "W(plast)",
          "W(plast)",
          "W(plast)",
          "W(elast)",
          "W(elast)",
          "W(elast)",
          "W(elast)",
          "W(elast)",
          "W(elast)",
          "W(elast)",
          "W(elast)",
          "W(elast)",
          "W(elast)",
          "W(elast)",
          "W(elast)",
          "W(elast)",
          "W(elast)",
          "W(elast)",
          "W(elast)",
          "W(elast)",
          "W(elast)",
          "W(elast)",
          "W(elast)",
          "W(elast)",
          "W(elast)",
          "W(elast)",
          "W(elast)",
          "W(elast)",
          "W(elast)",
          "W(elast)",
          "W(elast)",
          "W(elast)",
          "W(elast)",
          "W(elast)",
          "W(elast)",
          "W(elast)",
          "W(elast)",
          "W(elast)",
          "W(elast)",
          "W(elast)",
          "W(elast)",
          "W(elast)",
          "W(elast)",
          "W(elast)",
          "W(elast)",
          "W(elast)",
          "W(elast)",
          "W(elast)",
          "W(elast)",
          "W(elast)",
          "W(elast)",
          "W(elast)",
          "W(elast)",
          "W(elast)",
          "W(elast)",
          "W(elast)",
          "Nu",
          "Nu",
          "Nu",
          "Nu",
          "Nu",
          "Nu",
          "Nu",
          "Nu",
          "Nu",
          "Nu",
          "Nu",
          "Nu",
          "Nu",
          "Nu",
          "Nu",
          "Nu",
          "Nu",
          "Nu",
          "Nu",
          "Nu",
          "Nu",
          "Nu",
          "Nu",
          "Nu",
          "Nu",
          "Nu",
          "Nu",
          "Nu",
          "Nu",
          "Nu",
          "Nu",
          "Nu",
          "Nu",
          "Nu",
          "Nu",
          "Nu",
          "Nu",
          "Nu",
          "Nu",
          "Nu",
          "Nu",
          "Nu",
          "Nu",
          "Nu",
          "Nu",
          "Nu",
          "Nu",
          "Nu",
          "Nu",
          "Nu",
          "Nu",
          "Nu",
          "Nu"
         ],
         "x0": " ",
         "xaxis": "x",
         "y": [
          775,
          6391,
          1146,
          4875,
          2964,
          4817,
          1082,
          5595,
          6177,
          2958,
          2433,
          2379,
          2322,
          3682,
          2294,
          1192,
          2402,
          5469,
          1319,
          1155,
          1401,
          2840,
          1775,
          2690,
          1421,
          5172,
          1702,
          2387,
          6373,
          1456,
          3702,
          1227,
          5289,
          5279,
          2971,
          2265,
          2474,
          6488,
          1223,
          5996,
          1277,
          1188,
          1212,
          1272,
          3418,
          5895,
          1118,
          1290,
          1694,
          1663,
          2409,
          3864,
          5822,
          380.4,
          380.6,
          380.3,
          380.7,
          380.5,
          380.8,
          380.2,
          380.7,
          380.4,
          380.7,
          380.8,
          380.4,
          380.5,
          380.5,
          380.3,
          380.3,
          380.3,
          380.8,
          380.4,
          380.6,
          380.3,
          380.7,
          380.6,
          380.5,
          380.4,
          381.1,
          380.8,
          380.6,
          380.7,
          380.5,
          380.5,
          380.2,
          380.7,
          380.7,
          381.1,
          380.7,
          380.4,
          380.8,
          380.6,
          380.9,
          380.6,
          380.5,
          380.6,
          380.2,
          380.3,
          380.9,
          380.6,
          380.7,
          380.6,
          380.5,
          380.5,
          380.6,
          380.9,
          392.3,
          392.4,
          392.4,
          392.3,
          392.3,
          392.3,
          392.3,
          392.2,
          392.3,
          392.3,
          392.3,
          392.3,
          392.2,
          392.3,
          392.3,
          392.4,
          392.4,
          392.4,
          392.3,
          392.3,
          392.3,
          392.3,
          392.3,
          392.3,
          392.3,
          392.4,
          392.3,
          392.3,
          392.3,
          392.3,
          392.3,
          392.3,
          392.3,
          392.3,
          392.3,
          392.3,
          392.3,
          392.4,
          392.3,
          392.2,
          392.3,
          392.3,
          392.3,
          392.3,
          392.4,
          392.2,
          392.3,
          392.3,
          392.3,
          392.3,
          392.3,
          392.3,
          392.4,
          136.283,
          47.466,
          112.067,
          54.363,
          69.704,
          54.698,
          115.318,
          50.741,
          48.272,
          69.784,
          76.948,
          77.777,
          78.746,
          62.527,
          79.199,
          109.857,
          77.403,
          51.328,
          104.466,
          111.631,
          101.345,
          71.212,
          90.081,
          73.158,
          100.654,
          52.804,
          92.003,
          77.679,
          47.543,
          99.437,
          62.364,
          108.267,
          52.188,
          52.234,
          69.675,
          79.74,
          76.28,
          47.124,
          108.531,
          49.028,
          106.205,
          110.103,
          109.007,
          106.331,
          64.891,
          49.443,
          113.472,
          105.658,
          92.205,
          93.055,
          77.32,
          61.056,
          49.758,
          4.76,
          2.54,
          5.08,
          2.69,
          3.3,
          2.72,
          5.15,
          2.44,
          2.56,
          3.2,
          3.57,
          3.42,
          3.51,
          3.07,
          3.64,
          5.15,
          3.66,
          2.57,
          4.05,
          4.51,
          4.04,
          3.3,
          3.83,
          3.44,
          4.23,
          2.55,
          2.72,
          3.42,
          2.57,
          4.2,
          3,
          4.9,
          2.63,
          2.52,
          3.22,
          3.63,
          3.57,
          2.64,
          4.79,
          2.67,
          4.29,
          4.82,
          4.66,
          4.47,
          3.13,
          2.65,
          4.87,
          4.48,
          3.82,
          3.95,
          3.55,
          3.04,
          2.47,
          142.8,
          48.7,
          117.8,
          55.8,
          72,
          56.2,
          121.3,
          52,
          49.5,
          72,
          79.7,
          80.5,
          81.5,
          64.5,
          82.1,
          115.6,
          80.3,
          52.7,
          108.7,
          116.7,
          105.5,
          73.6,
          93.6,
          75.7,
          104.9,
          54.2,
          94.5,
          80.4,
          48.8,
          103.6,
          64.3,
          113.6,
          53.6,
          53.6,
          71.9,
          82.7,
          79,
          48.4,
          113.8,
          50.4,
          110.8,
          115.5,
          114.1,
          111.1,
          66.9,
          50.8,
          119.1,
          110.4,
          95.8,
          96.8,
          80.1,
          62.9,
          51,
          125.4,
          33.5,
          109.2,
          41.9,
          60.1,
          41.8,
          112.4,
          37.2,
          34.2,
          60.5,
          67.7,
          67.9,
          69.5,
          50.9,
          70.8,
          105.2,
          68.7,
          38.9,
          99.3,
          106.9,
          94.3,
          61.5,
          81.9,
          64.1,
          94.2,
          40.9,
          77.8,
          70.7,
          34.3,
          94,
          51.5,
          104.5,
          40.5,
          39.7,
          60.4,
          72.2,
          66.5,
          33.5,
          104.5,
          36.1,
          100.7,
          106,
          104.4,
          101.2,
          54.7,
          36.6,
          109,
          100.7,
          84.5,
          84.6,
          69.6,
          50.1,
          35.3,
          18.409,
          4.318,
          15.873,
          5.63,
          8.281,
          5.815,
          16.487,
          4.712,
          4.438,
          8.305,
          9.656,
          9.607,
          9.837,
          7.225,
          9.927,
          15.496,
          9.782,
          5.194,
          14.054,
          15.723,
          13.656,
          8.63,
          11.919,
          9.025,
          13.668,
          5.414,
          10.664,
          9.671,
          4.408,
          13.364,
          7.085,
          15.158,
          5.394,
          5.329,
          8.392,
          10.142,
          9.573,
          4.297,
          15.096,
          4.734,
          14.531,
          15.323,
          15.143,
          14.512,
          7.551,
          4.813,
          15.942,
          14.452,
          12.215,
          12.407,
          9.706,
          6.989,
          4.552,
          -1.075,
          1.47,
          -1.506,
          1.084,
          0.369,
          0.993,
          -1.638,
          1.392,
          1.522,
          0.401,
          0.006,
          0.057,
          -0.012,
          0.584,
          -0.05,
          -1.479,
          -0.036,
          1.189,
          -0.807,
          -1.19,
          -0.76,
          0.278,
          -0.462,
          0.185,
          -0.852,
          1.052,
          1.016,
          0.056,
          1.481,
          -0.804,
          0.622,
          -1.295,
          1.077,
          1.08,
          0.383,
          -0.131,
          0.059,
          1.514,
          -1.272,
          1.34,
          -0.976,
          -1.308,
          -1.209,
          -1.058,
          0.513,
          1.3,
          -1.411,
          -1.02,
          -0.508,
          -0.571,
          0.019,
          0.647,
          1.469,
          -6.2,
          25.4,
          -10.49,
          16.14,
          4.26,
          14.58,
          -11.03,
          22.81,
          25.53,
          4.6,
          0.06,
          0.59,
          -0.12,
          7.48,
          -0.51,
          -10.55,
          -0.37,
          18.62,
          -6.09,
          -8.19,
          -5.89,
          3.12,
          -4.03,
          2,
          -6.64,
          16.27,
          8.69,
          0.57,
          25.15,
          -6.4,
          8.08,
          -9.34,
          16.64,
          16.85,
          4.37,
          -1.31,
          0.61,
          26.05,
          -9.21,
          22.07,
          -7.2,
          -9.34,
          -8.68,
          -7.86,
          6.36,
          21.27,
          -9.71,
          -7.59,
          -4.33,
          -4.82,
          0.2,
          8.47,
          24.39
         ],
         "y0": " ",
         "yaxis": "y"
        }
       ],
       "layout": {
        "boxmode": "group",
        "legend": {
         "tracegroupgap": 0
        },
        "template": {
         "data": {
          "bar": [
           {
            "error_x": {
             "color": "#2a3f5f"
            },
            "error_y": {
             "color": "#2a3f5f"
            },
            "marker": {
             "line": {
              "color": "#E5ECF6",
              "width": 0.5
             },
             "pattern": {
              "fillmode": "overlay",
              "size": 10,
              "solidity": 0.2
             }
            },
            "type": "bar"
           }
          ],
          "barpolar": [
           {
            "marker": {
             "line": {
              "color": "#E5ECF6",
              "width": 0.5
             },
             "pattern": {
              "fillmode": "overlay",
              "size": 10,
              "solidity": 0.2
             }
            },
            "type": "barpolar"
           }
          ],
          "carpet": [
           {
            "aaxis": {
             "endlinecolor": "#2a3f5f",
             "gridcolor": "white",
             "linecolor": "white",
             "minorgridcolor": "white",
             "startlinecolor": "#2a3f5f"
            },
            "baxis": {
             "endlinecolor": "#2a3f5f",
             "gridcolor": "white",
             "linecolor": "white",
             "minorgridcolor": "white",
             "startlinecolor": "#2a3f5f"
            },
            "type": "carpet"
           }
          ],
          "choropleth": [
           {
            "colorbar": {
             "outlinewidth": 0,
             "ticks": ""
            },
            "type": "choropleth"
           }
          ],
          "contour": [
           {
            "colorbar": {
             "outlinewidth": 0,
             "ticks": ""
            },
            "colorscale": [
             [
              0,
              "#0d0887"
             ],
             [
              0.1111111111111111,
              "#46039f"
             ],
             [
              0.2222222222222222,
              "#7201a8"
             ],
             [
              0.3333333333333333,
              "#9c179e"
             ],
             [
              0.4444444444444444,
              "#bd3786"
             ],
             [
              0.5555555555555556,
              "#d8576b"
             ],
             [
              0.6666666666666666,
              "#ed7953"
             ],
             [
              0.7777777777777778,
              "#fb9f3a"
             ],
             [
              0.8888888888888888,
              "#fdca26"
             ],
             [
              1,
              "#f0f921"
             ]
            ],
            "type": "contour"
           }
          ],
          "contourcarpet": [
           {
            "colorbar": {
             "outlinewidth": 0,
             "ticks": ""
            },
            "type": "contourcarpet"
           }
          ],
          "heatmap": [
           {
            "colorbar": {
             "outlinewidth": 0,
             "ticks": ""
            },
            "colorscale": [
             [
              0,
              "#0d0887"
             ],
             [
              0.1111111111111111,
              "#46039f"
             ],
             [
              0.2222222222222222,
              "#7201a8"
             ],
             [
              0.3333333333333333,
              "#9c179e"
             ],
             [
              0.4444444444444444,
              "#bd3786"
             ],
             [
              0.5555555555555556,
              "#d8576b"
             ],
             [
              0.6666666666666666,
              "#ed7953"
             ],
             [
              0.7777777777777778,
              "#fb9f3a"
             ],
             [
              0.8888888888888888,
              "#fdca26"
             ],
             [
              1,
              "#f0f921"
             ]
            ],
            "type": "heatmap"
           }
          ],
          "heatmapgl": [
           {
            "colorbar": {
             "outlinewidth": 0,
             "ticks": ""
            },
            "colorscale": [
             [
              0,
              "#0d0887"
             ],
             [
              0.1111111111111111,
              "#46039f"
             ],
             [
              0.2222222222222222,
              "#7201a8"
             ],
             [
              0.3333333333333333,
              "#9c179e"
             ],
             [
              0.4444444444444444,
              "#bd3786"
             ],
             [
              0.5555555555555556,
              "#d8576b"
             ],
             [
              0.6666666666666666,
              "#ed7953"
             ],
             [
              0.7777777777777778,
              "#fb9f3a"
             ],
             [
              0.8888888888888888,
              "#fdca26"
             ],
             [
              1,
              "#f0f921"
             ]
            ],
            "type": "heatmapgl"
           }
          ],
          "histogram": [
           {
            "marker": {
             "pattern": {
              "fillmode": "overlay",
              "size": 10,
              "solidity": 0.2
             }
            },
            "type": "histogram"
           }
          ],
          "histogram2d": [
           {
            "colorbar": {
             "outlinewidth": 0,
             "ticks": ""
            },
            "colorscale": [
             [
              0,
              "#0d0887"
             ],
             [
              0.1111111111111111,
              "#46039f"
             ],
             [
              0.2222222222222222,
              "#7201a8"
             ],
             [
              0.3333333333333333,
              "#9c179e"
             ],
             [
              0.4444444444444444,
              "#bd3786"
             ],
             [
              0.5555555555555556,
              "#d8576b"
             ],
             [
              0.6666666666666666,
              "#ed7953"
             ],
             [
              0.7777777777777778,
              "#fb9f3a"
             ],
             [
              0.8888888888888888,
              "#fdca26"
             ],
             [
              1,
              "#f0f921"
             ]
            ],
            "type": "histogram2d"
           }
          ],
          "histogram2dcontour": [
           {
            "colorbar": {
             "outlinewidth": 0,
             "ticks": ""
            },
            "colorscale": [
             [
              0,
              "#0d0887"
             ],
             [
              0.1111111111111111,
              "#46039f"
             ],
             [
              0.2222222222222222,
              "#7201a8"
             ],
             [
              0.3333333333333333,
              "#9c179e"
             ],
             [
              0.4444444444444444,
              "#bd3786"
             ],
             [
              0.5555555555555556,
              "#d8576b"
             ],
             [
              0.6666666666666666,
              "#ed7953"
             ],
             [
              0.7777777777777778,
              "#fb9f3a"
             ],
             [
              0.8888888888888888,
              "#fdca26"
             ],
             [
              1,
              "#f0f921"
             ]
            ],
            "type": "histogram2dcontour"
           }
          ],
          "mesh3d": [
           {
            "colorbar": {
             "outlinewidth": 0,
             "ticks": ""
            },
            "type": "mesh3d"
           }
          ],
          "parcoords": [
           {
            "line": {
             "colorbar": {
              "outlinewidth": 0,
              "ticks": ""
             }
            },
            "type": "parcoords"
           }
          ],
          "pie": [
           {
            "automargin": true,
            "type": "pie"
           }
          ],
          "scatter": [
           {
            "fillpattern": {
             "fillmode": "overlay",
             "size": 10,
             "solidity": 0.2
            },
            "type": "scatter"
           }
          ],
          "scatter3d": [
           {
            "line": {
             "colorbar": {
              "outlinewidth": 0,
              "ticks": ""
             }
            },
            "marker": {
             "colorbar": {
              "outlinewidth": 0,
              "ticks": ""
             }
            },
            "type": "scatter3d"
           }
          ],
          "scattercarpet": [
           {
            "marker": {
             "colorbar": {
              "outlinewidth": 0,
              "ticks": ""
             }
            },
            "type": "scattercarpet"
           }
          ],
          "scattergeo": [
           {
            "marker": {
             "colorbar": {
              "outlinewidth": 0,
              "ticks": ""
             }
            },
            "type": "scattergeo"
           }
          ],
          "scattergl": [
           {
            "marker": {
             "colorbar": {
              "outlinewidth": 0,
              "ticks": ""
             }
            },
            "type": "scattergl"
           }
          ],
          "scattermapbox": [
           {
            "marker": {
             "colorbar": {
              "outlinewidth": 0,
              "ticks": ""
             }
            },
            "type": "scattermapbox"
           }
          ],
          "scatterpolar": [
           {
            "marker": {
             "colorbar": {
              "outlinewidth": 0,
              "ticks": ""
             }
            },
            "type": "scatterpolar"
           }
          ],
          "scatterpolargl": [
           {
            "marker": {
             "colorbar": {
              "outlinewidth": 0,
              "ticks": ""
             }
            },
            "type": "scatterpolargl"
           }
          ],
          "scatterternary": [
           {
            "marker": {
             "colorbar": {
              "outlinewidth": 0,
              "ticks": ""
             }
            },
            "type": "scatterternary"
           }
          ],
          "surface": [
           {
            "colorbar": {
             "outlinewidth": 0,
             "ticks": ""
            },
            "colorscale": [
             [
              0,
              "#0d0887"
             ],
             [
              0.1111111111111111,
              "#46039f"
             ],
             [
              0.2222222222222222,
              "#7201a8"
             ],
             [
              0.3333333333333333,
              "#9c179e"
             ],
             [
              0.4444444444444444,
              "#bd3786"
             ],
             [
              0.5555555555555556,
              "#d8576b"
             ],
             [
              0.6666666666666666,
              "#ed7953"
             ],
             [
              0.7777777777777778,
              "#fb9f3a"
             ],
             [
              0.8888888888888888,
              "#fdca26"
             ],
             [
              1,
              "#f0f921"
             ]
            ],
            "type": "surface"
           }
          ],
          "table": [
           {
            "cells": {
             "fill": {
              "color": "#EBF0F8"
             },
             "line": {
              "color": "white"
             }
            },
            "header": {
             "fill": {
              "color": "#C8D4E3"
             },
             "line": {
              "color": "white"
             }
            },
            "type": "table"
           }
          ]
         },
         "layout": {
          "annotationdefaults": {
           "arrowcolor": "#2a3f5f",
           "arrowhead": 0,
           "arrowwidth": 1
          },
          "autotypenumbers": "strict",
          "coloraxis": {
           "colorbar": {
            "outlinewidth": 0,
            "ticks": ""
           }
          },
          "colorscale": {
           "diverging": [
            [
             0,
             "#8e0152"
            ],
            [
             0.1,
             "#c51b7d"
            ],
            [
             0.2,
             "#de77ae"
            ],
            [
             0.3,
             "#f1b6da"
            ],
            [
             0.4,
             "#fde0ef"
            ],
            [
             0.5,
             "#f7f7f7"
            ],
            [
             0.6,
             "#e6f5d0"
            ],
            [
             0.7,
             "#b8e186"
            ],
            [
             0.8,
             "#7fbc41"
            ],
            [
             0.9,
             "#4d9221"
            ],
            [
             1,
             "#276419"
            ]
           ],
           "sequential": [
            [
             0,
             "#0d0887"
            ],
            [
             0.1111111111111111,
             "#46039f"
            ],
            [
             0.2222222222222222,
             "#7201a8"
            ],
            [
             0.3333333333333333,
             "#9c179e"
            ],
            [
             0.4444444444444444,
             "#bd3786"
            ],
            [
             0.5555555555555556,
             "#d8576b"
            ],
            [
             0.6666666666666666,
             "#ed7953"
            ],
            [
             0.7777777777777778,
             "#fb9f3a"
            ],
            [
             0.8888888888888888,
             "#fdca26"
            ],
            [
             1,
             "#f0f921"
            ]
           ],
           "sequentialminus": [
            [
             0,
             "#0d0887"
            ],
            [
             0.1111111111111111,
             "#46039f"
            ],
            [
             0.2222222222222222,
             "#7201a8"
            ],
            [
             0.3333333333333333,
             "#9c179e"
            ],
            [
             0.4444444444444444,
             "#bd3786"
            ],
            [
             0.5555555555555556,
             "#d8576b"
            ],
            [
             0.6666666666666666,
             "#ed7953"
            ],
            [
             0.7777777777777778,
             "#fb9f3a"
            ],
            [
             0.8888888888888888,
             "#fdca26"
            ],
            [
             1,
             "#f0f921"
            ]
           ]
          },
          "colorway": [
           "#636efa",
           "#EF553B",
           "#00cc96",
           "#ab63fa",
           "#FFA15A",
           "#19d3f3",
           "#FF6692",
           "#B6E880",
           "#FF97FF",
           "#FECB52"
          ],
          "font": {
           "color": "#2a3f5f"
          },
          "geo": {
           "bgcolor": "white",
           "lakecolor": "white",
           "landcolor": "#E5ECF6",
           "showlakes": true,
           "showland": true,
           "subunitcolor": "white"
          },
          "hoverlabel": {
           "align": "left"
          },
          "hovermode": "closest",
          "mapbox": {
           "style": "light"
          },
          "paper_bgcolor": "white",
          "plot_bgcolor": "#E5ECF6",
          "polar": {
           "angularaxis": {
            "gridcolor": "white",
            "linecolor": "white",
            "ticks": ""
           },
           "bgcolor": "#E5ECF6",
           "radialaxis": {
            "gridcolor": "white",
            "linecolor": "white",
            "ticks": ""
           }
          },
          "scene": {
           "xaxis": {
            "backgroundcolor": "#E5ECF6",
            "gridcolor": "white",
            "gridwidth": 2,
            "linecolor": "white",
            "showbackground": true,
            "ticks": "",
            "zerolinecolor": "white"
           },
           "yaxis": {
            "backgroundcolor": "#E5ECF6",
            "gridcolor": "white",
            "gridwidth": 2,
            "linecolor": "white",
            "showbackground": true,
            "ticks": "",
            "zerolinecolor": "white"
           },
           "zaxis": {
            "backgroundcolor": "#E5ECF6",
            "gridcolor": "white",
            "gridwidth": 2,
            "linecolor": "white",
            "showbackground": true,
            "ticks": "",
            "zerolinecolor": "white"
           }
          },
          "shapedefaults": {
           "line": {
            "color": "#2a3f5f"
           }
          },
          "ternary": {
           "aaxis": {
            "gridcolor": "white",
            "linecolor": "white",
            "ticks": ""
           },
           "baxis": {
            "gridcolor": "white",
            "linecolor": "white",
            "ticks": ""
           },
           "bgcolor": "#E5ECF6",
           "caxis": {
            "gridcolor": "white",
            "linecolor": "white",
            "ticks": ""
           }
          },
          "title": {
           "x": 0.05
          },
          "xaxis": {
           "automargin": true,
           "gridcolor": "white",
           "linecolor": "white",
           "ticks": "",
           "title": {
            "standoff": 15
           },
           "zerolinecolor": "white",
           "zerolinewidth": 2
          },
          "yaxis": {
           "automargin": true,
           "gridcolor": "white",
           "linecolor": "white",
           "ticks": "",
           "title": {
            "standoff": 15
           },
           "zerolinecolor": "white",
           "zerolinewidth": 2
          }
         }
        },
        "title": {
         "text": "Messung Härtewerte: Eigenschaften"
        },
        "xaxis": {
         "anchor": "y",
         "domain": [
          0,
          1
         ],
         "title": {
          "text": "Eigenschaft"
         }
        },
        "yaxis": {
         "anchor": "x",
         "domain": [
          0,
          1
         ],
         "title": {
          "text": "Wert"
         }
        }
       }
      }
     },
     "metadata": {},
     "output_type": "display_data"
    }
   ],
   "source": [
    "import plotly.express as px\n",
    "\n",
    "fig = px.box(data,\n",
    "             title='Messung Härtewerte: Eigenschaften',\n",
    "             labels={'variable': 'Eigenschaft', 'value': 'Wert'})\n",
    "fig.show()"
   ]
  },
  {
   "cell_type": "markdown",
   "metadata": {},
   "source": [
    "Auf eine detaillierte explorative Datenanalyse der Input-Daten verzichten wir hier. Wir betrachten aber noch die Output-Daten."
   ]
  },
  {
   "cell_type": "code",
   "execution_count": 17,
   "metadata": {},
   "outputs": [
    {
     "data": {
      "text/plain": [
       "array(['HRB', 'HRC'], dtype=object)"
      ]
     },
     "execution_count": 17,
     "metadata": {},
     "output_type": "execute_result"
    }
   ],
   "source": [
    "y_Rockwell.unique()\n"
   ]
  },
  {
   "cell_type": "markdown",
   "metadata": {},
   "source": [
    "Unsere Hypothese wird bestätigt, es gibt nur zwei verschiedene Werte: HRB und\n",
    "HRC. Kommen beide Typen ungefähr gleich häufig vor?"
   ]
  },
  {
   "cell_type": "code",
   "execution_count": 18,
   "metadata": {},
   "outputs": [
    {
     "data": {
      "text/plain": [
       "HRB    29\n",
       "HRC    24\n",
       "Name: Rockwell, dtype: int64"
      ]
     },
     "execution_count": 18,
     "metadata": {},
     "output_type": "execute_result"
    }
   ],
   "source": [
    "y_Rockwell.value_counts()"
   ]
  },
  {
   "cell_type": "markdown",
   "metadata": {},
   "source": [
    "Es sind etwas mehr Messungen der Rockwell-Härte B (HRB) vorhanden als HRC.  "
   ]
  },
  {
   "cell_type": "code",
   "execution_count": 19,
   "metadata": {},
   "outputs": [
    {
     "data": {
      "text/plain": [
       "count    53.000000\n",
       "mean     61.081887\n",
       "std      21.129801\n",
       "min      19.800000\n",
       "25%      52.880000\n",
       "50%      60.660000\n",
       "75%      69.200000\n",
       "max      98.080000\n",
       "Name: Haertewert, dtype: float64"
      ]
     },
     "execution_count": 19,
     "metadata": {},
     "output_type": "execute_result"
    }
   ],
   "source": [
    "y_Haertewert.describe()"
   ]
  },
  {
   "cell_type": "code",
   "execution_count": 21,
   "metadata": {},
   "outputs": [
    {
     "data": {
      "application/vnd.plotly.v1+json": {
       "config": {
        "plotlyServerURL": "https://plot.ly"
       },
       "data": [
        {
         "alignmentgroup": "True",
         "hovertemplate": "Härtewert=%{x}<br>Wert=%{y}<extra></extra>",
         "legendgroup": "",
         "marker": {
          "color": "#636efa"
         },
         "name": "",
         "notched": false,
         "offsetgroup": "",
         "orientation": "v",
         "showlegend": false,
         "type": "box",
         "x": [
          "Haertewert",
          "Haertewert",
          "Haertewert",
          "Haertewert",
          "Haertewert",
          "Haertewert",
          "Haertewert",
          "Haertewert",
          "Haertewert",
          "Haertewert",
          "Haertewert",
          "Haertewert",
          "Haertewert",
          "Haertewert",
          "Haertewert",
          "Haertewert",
          "Haertewert",
          "Haertewert",
          "Haertewert",
          "Haertewert",
          "Haertewert",
          "Haertewert",
          "Haertewert",
          "Haertewert",
          "Haertewert",
          "Haertewert",
          "Haertewert",
          "Haertewert",
          "Haertewert",
          "Haertewert",
          "Haertewert",
          "Haertewert",
          "Haertewert",
          "Haertewert",
          "Haertewert",
          "Haertewert",
          "Haertewert",
          "Haertewert",
          "Haertewert",
          "Haertewert",
          "Haertewert",
          "Haertewert",
          "Haertewert",
          "Haertewert",
          "Haertewert",
          "Haertewert",
          "Haertewert",
          "Haertewert",
          "Haertewert",
          "Haertewert",
          "Haertewert",
          "Haertewert",
          "Haertewert"
         ],
         "x0": " ",
         "xaxis": "x",
         "y": [
          19.8,
          65.72,
          54.86,
          52.88,
          30.5,
          51,
          48.66,
          62.76,
          63.9,
          29.72,
          97.22,
          98,
          96.58,
          38.98,
          96.48,
          54.4,
          97.06,
          56.44,
          69.04,
          57.86,
          69.2,
          27.96,
          82.18,
          23.16,
          72.26,
          55.3,
          65.6,
          98.08,
          64.04,
          71.64,
          39.82,
          59.72,
          54.84,
          55.1,
          30.38,
          94.58,
          21,
          65.16,
          58.94,
          61.18,
          63.66,
          57.48,
          58.76,
          64.3,
          36.76,
          60.66,
          54.52,
          65.22,
          79.64,
          80.64,
          97.9,
          41.6,
          64.2
         ],
         "y0": " ",
         "yaxis": "y"
        }
       ],
       "layout": {
        "boxmode": "group",
        "legend": {
         "tracegroupgap": 0
        },
        "template": {
         "data": {
          "bar": [
           {
            "error_x": {
             "color": "#2a3f5f"
            },
            "error_y": {
             "color": "#2a3f5f"
            },
            "marker": {
             "line": {
              "color": "#E5ECF6",
              "width": 0.5
             },
             "pattern": {
              "fillmode": "overlay",
              "size": 10,
              "solidity": 0.2
             }
            },
            "type": "bar"
           }
          ],
          "barpolar": [
           {
            "marker": {
             "line": {
              "color": "#E5ECF6",
              "width": 0.5
             },
             "pattern": {
              "fillmode": "overlay",
              "size": 10,
              "solidity": 0.2
             }
            },
            "type": "barpolar"
           }
          ],
          "carpet": [
           {
            "aaxis": {
             "endlinecolor": "#2a3f5f",
             "gridcolor": "white",
             "linecolor": "white",
             "minorgridcolor": "white",
             "startlinecolor": "#2a3f5f"
            },
            "baxis": {
             "endlinecolor": "#2a3f5f",
             "gridcolor": "white",
             "linecolor": "white",
             "minorgridcolor": "white",
             "startlinecolor": "#2a3f5f"
            },
            "type": "carpet"
           }
          ],
          "choropleth": [
           {
            "colorbar": {
             "outlinewidth": 0,
             "ticks": ""
            },
            "type": "choropleth"
           }
          ],
          "contour": [
           {
            "colorbar": {
             "outlinewidth": 0,
             "ticks": ""
            },
            "colorscale": [
             [
              0,
              "#0d0887"
             ],
             [
              0.1111111111111111,
              "#46039f"
             ],
             [
              0.2222222222222222,
              "#7201a8"
             ],
             [
              0.3333333333333333,
              "#9c179e"
             ],
             [
              0.4444444444444444,
              "#bd3786"
             ],
             [
              0.5555555555555556,
              "#d8576b"
             ],
             [
              0.6666666666666666,
              "#ed7953"
             ],
             [
              0.7777777777777778,
              "#fb9f3a"
             ],
             [
              0.8888888888888888,
              "#fdca26"
             ],
             [
              1,
              "#f0f921"
             ]
            ],
            "type": "contour"
           }
          ],
          "contourcarpet": [
           {
            "colorbar": {
             "outlinewidth": 0,
             "ticks": ""
            },
            "type": "contourcarpet"
           }
          ],
          "heatmap": [
           {
            "colorbar": {
             "outlinewidth": 0,
             "ticks": ""
            },
            "colorscale": [
             [
              0,
              "#0d0887"
             ],
             [
              0.1111111111111111,
              "#46039f"
             ],
             [
              0.2222222222222222,
              "#7201a8"
             ],
             [
              0.3333333333333333,
              "#9c179e"
             ],
             [
              0.4444444444444444,
              "#bd3786"
             ],
             [
              0.5555555555555556,
              "#d8576b"
             ],
             [
              0.6666666666666666,
              "#ed7953"
             ],
             [
              0.7777777777777778,
              "#fb9f3a"
             ],
             [
              0.8888888888888888,
              "#fdca26"
             ],
             [
              1,
              "#f0f921"
             ]
            ],
            "type": "heatmap"
           }
          ],
          "heatmapgl": [
           {
            "colorbar": {
             "outlinewidth": 0,
             "ticks": ""
            },
            "colorscale": [
             [
              0,
              "#0d0887"
             ],
             [
              0.1111111111111111,
              "#46039f"
             ],
             [
              0.2222222222222222,
              "#7201a8"
             ],
             [
              0.3333333333333333,
              "#9c179e"
             ],
             [
              0.4444444444444444,
              "#bd3786"
             ],
             [
              0.5555555555555556,
              "#d8576b"
             ],
             [
              0.6666666666666666,
              "#ed7953"
             ],
             [
              0.7777777777777778,
              "#fb9f3a"
             ],
             [
              0.8888888888888888,
              "#fdca26"
             ],
             [
              1,
              "#f0f921"
             ]
            ],
            "type": "heatmapgl"
           }
          ],
          "histogram": [
           {
            "marker": {
             "pattern": {
              "fillmode": "overlay",
              "size": 10,
              "solidity": 0.2
             }
            },
            "type": "histogram"
           }
          ],
          "histogram2d": [
           {
            "colorbar": {
             "outlinewidth": 0,
             "ticks": ""
            },
            "colorscale": [
             [
              0,
              "#0d0887"
             ],
             [
              0.1111111111111111,
              "#46039f"
             ],
             [
              0.2222222222222222,
              "#7201a8"
             ],
             [
              0.3333333333333333,
              "#9c179e"
             ],
             [
              0.4444444444444444,
              "#bd3786"
             ],
             [
              0.5555555555555556,
              "#d8576b"
             ],
             [
              0.6666666666666666,
              "#ed7953"
             ],
             [
              0.7777777777777778,
              "#fb9f3a"
             ],
             [
              0.8888888888888888,
              "#fdca26"
             ],
             [
              1,
              "#f0f921"
             ]
            ],
            "type": "histogram2d"
           }
          ],
          "histogram2dcontour": [
           {
            "colorbar": {
             "outlinewidth": 0,
             "ticks": ""
            },
            "colorscale": [
             [
              0,
              "#0d0887"
             ],
             [
              0.1111111111111111,
              "#46039f"
             ],
             [
              0.2222222222222222,
              "#7201a8"
             ],
             [
              0.3333333333333333,
              "#9c179e"
             ],
             [
              0.4444444444444444,
              "#bd3786"
             ],
             [
              0.5555555555555556,
              "#d8576b"
             ],
             [
              0.6666666666666666,
              "#ed7953"
             ],
             [
              0.7777777777777778,
              "#fb9f3a"
             ],
             [
              0.8888888888888888,
              "#fdca26"
             ],
             [
              1,
              "#f0f921"
             ]
            ],
            "type": "histogram2dcontour"
           }
          ],
          "mesh3d": [
           {
            "colorbar": {
             "outlinewidth": 0,
             "ticks": ""
            },
            "type": "mesh3d"
           }
          ],
          "parcoords": [
           {
            "line": {
             "colorbar": {
              "outlinewidth": 0,
              "ticks": ""
             }
            },
            "type": "parcoords"
           }
          ],
          "pie": [
           {
            "automargin": true,
            "type": "pie"
           }
          ],
          "scatter": [
           {
            "fillpattern": {
             "fillmode": "overlay",
             "size": 10,
             "solidity": 0.2
            },
            "type": "scatter"
           }
          ],
          "scatter3d": [
           {
            "line": {
             "colorbar": {
              "outlinewidth": 0,
              "ticks": ""
             }
            },
            "marker": {
             "colorbar": {
              "outlinewidth": 0,
              "ticks": ""
             }
            },
            "type": "scatter3d"
           }
          ],
          "scattercarpet": [
           {
            "marker": {
             "colorbar": {
              "outlinewidth": 0,
              "ticks": ""
             }
            },
            "type": "scattercarpet"
           }
          ],
          "scattergeo": [
           {
            "marker": {
             "colorbar": {
              "outlinewidth": 0,
              "ticks": ""
             }
            },
            "type": "scattergeo"
           }
          ],
          "scattergl": [
           {
            "marker": {
             "colorbar": {
              "outlinewidth": 0,
              "ticks": ""
             }
            },
            "type": "scattergl"
           }
          ],
          "scattermapbox": [
           {
            "marker": {
             "colorbar": {
              "outlinewidth": 0,
              "ticks": ""
             }
            },
            "type": "scattermapbox"
           }
          ],
          "scatterpolar": [
           {
            "marker": {
             "colorbar": {
              "outlinewidth": 0,
              "ticks": ""
             }
            },
            "type": "scatterpolar"
           }
          ],
          "scatterpolargl": [
           {
            "marker": {
             "colorbar": {
              "outlinewidth": 0,
              "ticks": ""
             }
            },
            "type": "scatterpolargl"
           }
          ],
          "scatterternary": [
           {
            "marker": {
             "colorbar": {
              "outlinewidth": 0,
              "ticks": ""
             }
            },
            "type": "scatterternary"
           }
          ],
          "surface": [
           {
            "colorbar": {
             "outlinewidth": 0,
             "ticks": ""
            },
            "colorscale": [
             [
              0,
              "#0d0887"
             ],
             [
              0.1111111111111111,
              "#46039f"
             ],
             [
              0.2222222222222222,
              "#7201a8"
             ],
             [
              0.3333333333333333,
              "#9c179e"
             ],
             [
              0.4444444444444444,
              "#bd3786"
             ],
             [
              0.5555555555555556,
              "#d8576b"
             ],
             [
              0.6666666666666666,
              "#ed7953"
             ],
             [
              0.7777777777777778,
              "#fb9f3a"
             ],
             [
              0.8888888888888888,
              "#fdca26"
             ],
             [
              1,
              "#f0f921"
             ]
            ],
            "type": "surface"
           }
          ],
          "table": [
           {
            "cells": {
             "fill": {
              "color": "#EBF0F8"
             },
             "line": {
              "color": "white"
             }
            },
            "header": {
             "fill": {
              "color": "#C8D4E3"
             },
             "line": {
              "color": "white"
             }
            },
            "type": "table"
           }
          ]
         },
         "layout": {
          "annotationdefaults": {
           "arrowcolor": "#2a3f5f",
           "arrowhead": 0,
           "arrowwidth": 1
          },
          "autotypenumbers": "strict",
          "coloraxis": {
           "colorbar": {
            "outlinewidth": 0,
            "ticks": ""
           }
          },
          "colorscale": {
           "diverging": [
            [
             0,
             "#8e0152"
            ],
            [
             0.1,
             "#c51b7d"
            ],
            [
             0.2,
             "#de77ae"
            ],
            [
             0.3,
             "#f1b6da"
            ],
            [
             0.4,
             "#fde0ef"
            ],
            [
             0.5,
             "#f7f7f7"
            ],
            [
             0.6,
             "#e6f5d0"
            ],
            [
             0.7,
             "#b8e186"
            ],
            [
             0.8,
             "#7fbc41"
            ],
            [
             0.9,
             "#4d9221"
            ],
            [
             1,
             "#276419"
            ]
           ],
           "sequential": [
            [
             0,
             "#0d0887"
            ],
            [
             0.1111111111111111,
             "#46039f"
            ],
            [
             0.2222222222222222,
             "#7201a8"
            ],
            [
             0.3333333333333333,
             "#9c179e"
            ],
            [
             0.4444444444444444,
             "#bd3786"
            ],
            [
             0.5555555555555556,
             "#d8576b"
            ],
            [
             0.6666666666666666,
             "#ed7953"
            ],
            [
             0.7777777777777778,
             "#fb9f3a"
            ],
            [
             0.8888888888888888,
             "#fdca26"
            ],
            [
             1,
             "#f0f921"
            ]
           ],
           "sequentialminus": [
            [
             0,
             "#0d0887"
            ],
            [
             0.1111111111111111,
             "#46039f"
            ],
            [
             0.2222222222222222,
             "#7201a8"
            ],
            [
             0.3333333333333333,
             "#9c179e"
            ],
            [
             0.4444444444444444,
             "#bd3786"
            ],
            [
             0.5555555555555556,
             "#d8576b"
            ],
            [
             0.6666666666666666,
             "#ed7953"
            ],
            [
             0.7777777777777778,
             "#fb9f3a"
            ],
            [
             0.8888888888888888,
             "#fdca26"
            ],
            [
             1,
             "#f0f921"
            ]
           ]
          },
          "colorway": [
           "#636efa",
           "#EF553B",
           "#00cc96",
           "#ab63fa",
           "#FFA15A",
           "#19d3f3",
           "#FF6692",
           "#B6E880",
           "#FF97FF",
           "#FECB52"
          ],
          "font": {
           "color": "#2a3f5f"
          },
          "geo": {
           "bgcolor": "white",
           "lakecolor": "white",
           "landcolor": "#E5ECF6",
           "showlakes": true,
           "showland": true,
           "subunitcolor": "white"
          },
          "hoverlabel": {
           "align": "left"
          },
          "hovermode": "closest",
          "mapbox": {
           "style": "light"
          },
          "paper_bgcolor": "white",
          "plot_bgcolor": "#E5ECF6",
          "polar": {
           "angularaxis": {
            "gridcolor": "white",
            "linecolor": "white",
            "ticks": ""
           },
           "bgcolor": "#E5ECF6",
           "radialaxis": {
            "gridcolor": "white",
            "linecolor": "white",
            "ticks": ""
           }
          },
          "scene": {
           "xaxis": {
            "backgroundcolor": "#E5ECF6",
            "gridcolor": "white",
            "gridwidth": 2,
            "linecolor": "white",
            "showbackground": true,
            "ticks": "",
            "zerolinecolor": "white"
           },
           "yaxis": {
            "backgroundcolor": "#E5ECF6",
            "gridcolor": "white",
            "gridwidth": 2,
            "linecolor": "white",
            "showbackground": true,
            "ticks": "",
            "zerolinecolor": "white"
           },
           "zaxis": {
            "backgroundcolor": "#E5ECF6",
            "gridcolor": "white",
            "gridwidth": 2,
            "linecolor": "white",
            "showbackground": true,
            "ticks": "",
            "zerolinecolor": "white"
           }
          },
          "shapedefaults": {
           "line": {
            "color": "#2a3f5f"
           }
          },
          "ternary": {
           "aaxis": {
            "gridcolor": "white",
            "linecolor": "white",
            "ticks": ""
           },
           "baxis": {
            "gridcolor": "white",
            "linecolor": "white",
            "ticks": ""
           },
           "bgcolor": "#E5ECF6",
           "caxis": {
            "gridcolor": "white",
            "linecolor": "white",
            "ticks": ""
           }
          },
          "title": {
           "x": 0.05
          },
          "xaxis": {
           "automargin": true,
           "gridcolor": "white",
           "linecolor": "white",
           "ticks": "",
           "title": {
            "standoff": 15
           },
           "zerolinecolor": "white",
           "zerolinewidth": 2
          },
          "yaxis": {
           "automargin": true,
           "gridcolor": "white",
           "linecolor": "white",
           "ticks": "",
           "title": {
            "standoff": 15
           },
           "zerolinecolor": "white",
           "zerolinewidth": 2
          }
         }
        },
        "title": {
         "text": "Statistische Kennzahlen des Outputs Härtewert"
        },
        "xaxis": {
         "anchor": "y",
         "domain": [
          0,
          1
         ],
         "title": {
          "text": "Härtewert"
         }
        },
        "yaxis": {
         "anchor": "x",
         "domain": [
          0,
          1
         ],
         "title": {
          "text": "Wert"
         }
        }
       }
      }
     },
     "metadata": {},
     "output_type": "display_data"
    }
   ],
   "source": [
    "fig = px.box(y_Haertewert,\n",
    "             title='Statistische Kennzahlen des Outputs Härtewert',\n",
    "             labels={'variable': 'Härtewert', 'value': 'Wert'})\n",
    "fig.show()"
   ]
  },
  {
   "cell_type": "markdown",
   "metadata": {},
   "source": [
    "Es gibt nur wenige Ausreißer nach oben und nach unten."
   ]
  },
  {
   "cell_type": "markdown",
   "metadata": {},
   "source": [
    "## Klassifikation"
   ]
  },
  {
   "cell_type": "code",
   "execution_count": 24,
   "metadata": {},
   "outputs": [],
   "source": [
    "# Adaption der Daten\n",
    "from sklearn.model_selection import train_test_split\n",
    "from sklearn.preprocessing import StandardScaler \n",
    "\n",
    "X_train, X_test, y_train, y_test = train_test_split(data, y_Rockwell)\n",
    "\n",
    "skalierung = StandardScaler()\n",
    "skalierung.fit(X_train)\n",
    "\n",
    "X_train_skaliert = skalierung.transform(X_train)\n",
    "X_test_skaliert = skalierung.transform(X_test)"
   ]
  },
  {
   "cell_type": "code",
   "execution_count": 26,
   "metadata": {},
   "outputs": [
    {
     "name": "stdout",
     "output_type": "stream",
     "text": [
      "Score Trainingsdaten: 1.0\n",
      "Score Testdaten: 1.0\n"
     ]
    }
   ],
   "source": [
    "from sklearn.linear_model import Perceptron\n",
    "\n",
    "model_perceptron = Perceptron()\n",
    "model_perceptron.fit(X_train_skaliert, y_train)\n",
    "\n",
    "score_train = model_perceptron.score(X_train_skaliert, y_train)\n",
    "score_test = model_perceptron.score(X_test_skaliert, y_test)\n",
    "\n",
    "print(f'Score Trainingsdaten: {score_train}')\n",
    "print(f'Score Testdaten: {score_train}')"
   ]
  },
  {
   "cell_type": "code",
   "execution_count": 27,
   "metadata": {},
   "outputs": [
    {
     "name": "stdout",
     "output_type": "stream",
     "text": [
      "Score Trainingsdaten: 0.9743589743589743\n",
      "Score Testdaten: 0.9743589743589743\n"
     ]
    }
   ],
   "source": [
    "from sklearn.linear_model import LogisticRegression\n",
    "\n",
    "model_log_reg = LogisticRegression()\n",
    "model_log_reg.fit(X_train_skaliert, y_train)\n",
    "\n",
    "score_train = model_log_reg.score(X_train_skaliert, y_train)\n",
    "score_test = model_log_reg.score(X_test_skaliert, y_test)\n",
    "\n",
    "print(f'Score Trainingsdaten: {score_train}')\n",
    "print(f'Score Testdaten: {score_train}')"
   ]
  },
  {
   "cell_type": "code",
   "execution_count": 28,
   "metadata": {},
   "outputs": [
    {
     "name": "stdout",
     "output_type": "stream",
     "text": [
      "Score Trainingsdaten: 0.9743589743589743\n",
      "Score Testdaten: 0.9743589743589743\n"
     ]
    }
   ],
   "source": [
    "from sklearn.svm import SVC\n",
    "\n",
    "model_svm = SVC()\n",
    "model_svm.fit(X_train_skaliert, y_train)\n",
    "\n",
    "score_train = model_svm.score(X_train_skaliert, y_train)\n",
    "score_test = model_svm.score(X_test_skaliert, y_test)\n",
    "\n",
    "print(f'Score Trainingsdaten: {score_train}')\n",
    "print(f'Score Testdaten: {score_train}')"
   ]
  },
  {
   "cell_type": "code",
   "execution_count": 37,
   "metadata": {},
   "outputs": [
    {
     "name": "stdout",
     "output_type": "stream",
     "text": [
      "Score Trainingsdaten: 1.0\n",
      "Score Testdaten: 1.0\n"
     ]
    }
   ],
   "source": [
    "from sklearn.tree import DecisionTreeClassifier\n",
    "\n",
    "model_decision_tree = DecisionTreeClassifier()\n",
    "model_decision_tree.fit(X_train_skaliert, y_train)\n",
    "\n",
    "score_train = model_decision_tree.score(X_train_skaliert, y_train)\n",
    "score_test = model_decision_tree.score(X_test_skaliert, y_test)\n",
    "\n",
    "print(f'Score Trainingsdaten: {score_train}')\n",
    "print(f'Score Testdaten: {score_train}')"
   ]
  },
  {
   "cell_type": "code",
   "execution_count": 38,
   "metadata": {},
   "outputs": [
    {
     "data": {
      "image/png": "[encoded data removed]",
      "text/plain": [
       "<Figure size 640x480 with 1 Axes>"
      ]
     },
     "metadata": {},
     "output_type": "display_data"
    }
   ],
   "source": [
    "from sklearn.tree import plot_tree \n",
    "\n",
    "plot_tree(model_decision_tree, feature_names=['HU', 'F', 'F nach T', 'h', 'CHU', 'h(max)', 'h(min)', 'W(plast)',\n",
    "       'W(elast)', 'Nu'], filled=True);"
   ]
  },
  {
   "cell_type": "code",
   "execution_count": 39,
   "metadata": {},
   "outputs": [
    {
     "name": "stdout",
     "output_type": "stream",
     "text": [
      "Score Trainingsdaten: 1.0\n",
      "Score Testdaten: 1.0\n"
     ]
    }
   ],
   "source": [
    "from sklearn.neural_network import MLPClassifier\n",
    "\n",
    "model_nn = MLPClassifier(solver='lbfgs', alpha=0.1, hidden_layer_sizes=[5, 5])\n",
    "\n",
    "model_nn.fit(X_train_skaliert, y_train)\n",
    "\n",
    "score_train = model_nn.score(X_train_skaliert, y_train)\n",
    "score_test = model_nn.score(X_test_skaliert, y_test)\n",
    "\n",
    "print(f'Score Trainingsdaten: {score_train}')\n",
    "print(f'Score Testdaten: {score_train}')\n"
   ]
  },
  {
   "cell_type": "markdown",
   "metadata": {},
   "source": [
    "## Regression\n",
    "\n"
   ]
  },
  {
   "cell_type": "code",
   "execution_count": 40,
   "metadata": {},
   "outputs": [],
   "source": [
    "X_train, X_test, y_train, y_test = train_test_split(data, y_Haertewert)"
   ]
  },
  {
   "cell_type": "code",
   "execution_count": 41,
   "metadata": {},
   "outputs": [
    {
     "name": "stdout",
     "output_type": "stream",
     "text": [
      "Score Trainingsdaten: 0.11215219452611025\n",
      "Score Testdaten: 0.11215219452611025\n"
     ]
    }
   ],
   "source": [
    "from sklearn.linear_model import LinearRegression\n",
    "\n",
    "model_lin_reg = LinearRegression()\n",
    "\n",
    "\n",
    "model_lin_reg.fit(X_train_skaliert, y_train)\n",
    "\n",
    "score_train = model_lin_reg.score(X_train_skaliert, y_train)\n",
    "score_test = model_lin_reg.score(X_test_skaliert, y_test)\n",
    "\n",
    "print(f'Score Trainingsdaten: {score_train}')\n",
    "print(f'Score Testdaten: {score_train}')"
   ]
  },
  {
   "cell_type": "code",
   "execution_count": 42,
   "metadata": {},
   "outputs": [
    {
     "name": "stdout",
     "output_type": "stream",
     "text": [
      "Score Trainingsdaten: 0.010867760768731305\n",
      "Score Testdaten: 0.010867760768731305\n"
     ]
    }
   ],
   "source": [
    "from sklearn.svm import SVR\n",
    "\n",
    "model_svr = SVR()\n",
    "\n",
    "\n",
    "model_svr.fit(X_train_skaliert, y_train)\n",
    "\n",
    "score_train = model_svr.score(X_train_skaliert, y_train)\n",
    "score_test = model_svr.score(X_test_skaliert, y_test)\n",
    "\n",
    "print(f'Score Trainingsdaten: {score_train}')\n",
    "print(f'Score Testdaten: {score_train}')"
   ]
  },
  {
   "cell_type": "code",
   "execution_count": 43,
   "metadata": {},
   "outputs": [
    {
     "name": "stdout",
     "output_type": "stream",
     "text": [
      "Score Trainingsdaten: 1.0\n",
      "Score Testdaten: 1.0\n"
     ]
    }
   ],
   "source": [
    "from sklearn.tree import DecisionTreeRegressor\n",
    "\n",
    "model_decision_tree_regression = DecisionTreeRegressor()\n",
    "\n",
    "model_decision_tree_regression.fit(X_train_skaliert, y_train)\n",
    "\n",
    "score_train = model_decision_tree_regression.score(X_train_skaliert, y_train)\n",
    "score_test = model_decision_tree_regression.score(X_test_skaliert, y_test)\n",
    "\n",
    "print(f'Score Trainingsdaten: {score_train}')\n",
    "print(f'Score Testdaten: {score_train}')"
   ]
  },
  {
   "cell_type": "code",
   "execution_count": 44,
   "metadata": {},
   "outputs": [
    {
     "data": {
      "image/png": "[encoded data removed]",
      "text/plain": [
       "<Figure size 640x480 with 1 Axes>"
      ]
     },
     "metadata": {},
     "output_type": "display_data"
    }
   ],
   "source": [
    "plot_tree(model_decision_tree_regression, feature_names=['HU', 'F', 'F nach T', 'h', 'CHU', 'h(max)', 'h(min)', 'W(plast)',\n",
    "       'W(elast)', 'Nu'], filled=True);"
   ]
  },
  {
   "cell_type": "code",
   "execution_count": 45,
   "metadata": {},
   "outputs": [
    {
     "name": "stdout",
     "output_type": "stream",
     "text": [
      "Score Trainingsdaten: -3.833132118769389\n",
      "Score Testdaten: -3.833132118769389\n"
     ]
    },
    {
     "name": "stderr",
     "output_type": "stream",
     "text": [
      "/opt/homebrew/Caskroom/miniconda/base/envs/python310/lib/python3.10/site-packages/sklearn/neural_network/_multilayer_perceptron.py:692: ConvergenceWarning:\n",
      "\n",
      "Stochastic Optimizer: Maximum iterations (200) reached and the optimization hasn't converged yet.\n",
      "\n"
     ]
    }
   ],
   "source": [
    "from sklearn.neural_network import MLPRegressor\n",
    "\n",
    "model_nn_regression = MLPRegressor()\n",
    "\n",
    "model_nn_regression.fit(X_train_skaliert, y_train)\n",
    "\n",
    "score_train = model_nn_regression.score(X_train_skaliert, y_train)\n",
    "score_test = model_nn_regression.score(X_test_skaliert, y_test)\n",
    "\n",
    "print(f'Score Trainingsdaten: {score_train}')\n",
    "print(f'Score Testdaten: {score_train}')"
   ]
  }
 ],
 "metadata": {
  "kernelspec": {
   "display_name": "python310",
   "language": "python",
   "name": "python3"
  },
  "language_info": {
   "codemirror_mode": {
    "name": "ipython",
    "version": 3
   },
   "file_extension": ".py",
   "mimetype": "text/x-python",
   "name": "python",
   "nbconvert_exporter": "python",
   "pygments_lexer": "ipython3",
   "version": "3.10.11"
  }
 },
 "nbformat": 4,
 "nbformat_minor": 2
}
