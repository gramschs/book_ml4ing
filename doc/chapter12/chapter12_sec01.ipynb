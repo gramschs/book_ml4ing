{
 "cells": [
  {
   "attachments": {},
   "cell_type": "markdown",
   "metadata": {},
   "source": [
    "# Mehrschichtiges Perzeptron\n",
    "\n",
    "```{admonition} Lernziele\n",
    ":class: important\n",
    "* Sie wissen, was ein **Multilayer-Perzeptron** (MLP), also ein mehrschichtiges Perzeptron, ist.\n",
    "* Sie können den Begriff **Deep Learning** erklären.\n",
    "* Sie können mit Scikit-Learn ein neuronales Netz trainieren.\n",
    "```"
   ]
  },
  {
   "attachments": {},
   "cell_type": "markdown",
   "metadata": {},
   "source": [
    "## Viele Perzeptronen sind ein neuronales Netz\n",
    "\n",
    "In einem vorhergehenden Kapitel haben wir das Perzeptron, ein künstliches Neuron\n",
    "kennengelernt. Schematisch können wir es folgendermaßen darstellen:\n",
    "\n",
    "```{figure} pics/perceptron.svg\n",
    "---\n",
    "width: 600px\n",
    "---\n",
    "Schematische Darstellung eines Perzeptrons\n",
    "```\n",
    "\n",
    "Jedes Eingangssignal wird mit einem Gewicht multipliziert. Anschließend werden\n",
    "die gewichteten Eingangssignale summiert. Übersteigt die gewichtete Summe einen\n",
    "Schwellenwert, feuert sozusagen das künstliche Neuron. Das Ausgabesignal wird\n",
    "aktiviert.\n",
    "\n",
    "Mathematisch gesehen, wurde nach dem Bilden der gewichteten Summe die\n",
    "Heaviside-Funktion angewendet. Im Kapitel über die logistische Regression haben\n",
    "wir bereits gelernt, dass auch andere Funktionen zum Einsatz kommen können. Bei\n",
    "der logistischen Regression wird beispielsweise die Sigmoid-Funktion verwendet.\n",
    "Oft werden diese beiden Schritte -- Bilden der gewichteten Summe und Anwenden\n",
    "der Aktivierungsfunktion -- in einem Symbol gemeinsam dargestellt, wie in der\n",
    "folgenden Abbildung zu sehen.\n",
    "\n",
    "```{figure} pics/neuron.svg\n",
    "---\n",
    "width: 600px\n",
    "---\n",
    "Vereinfachte schematische Darstellung eines Perzeptrons\n",
    "```\n",
    "\n",
    "Tatsächlich sind sogar häufig Darstellungen verbreit, bei denen nur noch durch\n",
    "die Kreise das Perzeptron oder das künstliche Neuron symbolisiert wird.\n",
    "\n",
    "```{figure} pics/neuron_symbolisch.svg\n",
    "---\n",
    "width: 600px\n",
    "---\n",
    "Symbolbild eines Perzeptrons bzw. eines künstlichen Neurons\n",
    "```\n",
    "\n",
    "Die Idee des mehrschichtigen Perzeptrons ist es, eine oder mehrere\n",
    "Zwischenschichten einzuführen. In dem folgenden Beispiel wird eine\n",
    "Zwischenschichtmit zwei Neuronen eingeführt:\n",
    "\n",
    "```{figure} pics/MLP_1layer_2neurons.svg\n",
    "---\n",
    "width: 600px\n",
    "---\n",
    "Ein mehrschichtiges Perzeptron (Mulitilayer Perceptron)\n",
    "```\n",
    "\n",
    "Es können beliebig viele Zwischenschichten eingeführt werden. Jede neue\n",
    "Zwischenschicht kann dabei unterschiedliche Anzahlen von Neuronen enthalten.\n",
    "Insgesamt nennen wir die so entstehende Rechenvorschrift **mehrschichtiges\n",
    "Perzeptron** oder **Multilayer Perceptron** oder **neuronales Netz**.\n",
    "\n",
    "Das folgende Video fasst die Struktur eines neuronalen Netzes noch einmal zusammen."
   ]
  },
  {
   "attachments": {},
   "cell_type": "markdown",
   "metadata": {},
   "source": [
    "<iframe width=\"560\" height=\"315\" src=\"https://www.youtube.com/embed/2dBu9wgW2-s\" title=\"YouTube video player\" frameborder=\"0\" allow=\"accelerometer; autoplay; clipboard-write; encrypted-media; gyroscope; picture-in-picture; web-share\" allowfullscreen></iframe>"
   ]
  },
  {
   "attachments": {},
   "cell_type": "markdown",
   "metadata": {},
   "source": [
    "## Viele Schichten = Deep Learning\n",
    "\n",
    "Bei neuronalen Netzen werden viele Schichten mit vielen Neuronen in die\n",
    "Rechenvorschrift einbezogen. Das führt dazu, dass vor allem sogenannte tiefe\n",
    "neuronale Netze, also solche mit vielen Schichten, extrem leistungsfähig sind.\n",
    "Umgekehrt benötigen neuronale Netze aber auch eine große Anzahl an\n",
    "Trainingsdaten mit guter Qualität. \n",
    "\n",
    "Die Firma Linguee verfügte genau über solche Deutsch-Englisch-Übersetzungen.\n",
    "2017 trainierten Mitarbeiter dieses Unternehmens auf Basis dieser Übersetzungen\n",
    "ein neuronales Netz, das die bisher dahin existierenden Übersetzungsdienste von\n",
    "beispielsweise Google Translate bei Weitem übertraf. 2022 wurde das daraus\n",
    "gegründete Start-Up DeepL zum sogenannten Einhorn, also zu einem Start-Up, das\n",
    "mit mehr als 1 Milliarde Dollar bewertet wird (siehe\n",
    "[Artikel](https://www.faz.net/aktuell/wirtschaft/deepl-der-online-uebersetzungsdienst-wird-zum-einhorn-18467883.html))."
   ]
  }
 ],
 "metadata": {
  "kernelspec": {
   "display_name": "Python 3",
   "language": "python",
   "name": "python3"
  },
  "language_info": {
   "name": "python",
   "version": "3.11.1 (main, Dec 23 2022, 09:28:24) [Clang 14.0.0 (clang-1400.0.29.202)]"
  },
  "orig_nbformat": 4,
  "vscode": {
   "interpreter": {
    "hash": "5c7b89af1651d0b8571dde13640ecdccf7d5a6204171d6ab33e7c296e100e08a"
   }
  }
 },
 "nbformat": 4,
 "nbformat_minor": 2
}
