{
 "cells": [
  {
   "attachments": {},
   "cell_type": "markdown",
   "metadata": {},
   "source": [
    "# Maximiere den Rand, aber soft\n",
    "\n",
    "```{admonition} Lernziele\n",
    ":class: important\n",
    "* Sie kennen die Abkürzung **SVM** für **Support Vector Machines**.\n",
    "* Sie kennen die Idee, bei Support Vector Machines den **Margin** (=\n",
    "  Randabstand) zu maximieren.\n",
    "* Sie können in eine Visualisierung der Daten die Stützvektoren einzeichnen und\n",
    "  wissen, dass diese auf Englisch **Support Vectors** genannt werden.\n",
    "* Sie wissen, dass ein harter Randabstand nur bei linear trennbaren Datensätzen\n",
    "  möglich ist.\n",
    "* Sie wissen, dass eigentlich nicht trennbare Datensätzen mit der Technik **Soft\n",
    "  Margin** (= weicher Randabstand) dennoch klassifiziert werden können.\n",
    "```"
   ]
  },
  {
   "attachments": {},
   "cell_type": "markdown",
   "metadata": {},
   "source": [
    "## Welche Trenn-Gerade soll es sein?\n",
    "\n",
    "Mit Support Vactor Machines (SVM) wollen wir erneut binäre\n",
    "Klassifikationsprobleme lösen. Bisher haben wir bereits das Perzeptron und das\n",
    "logistische Regressionsmodell kennengelernt. Liegen nur wenige Datensätze vor,\n",
    "so ist das logistische Regressionsmodell empfehlenswert. Bei größeren Mengen an\n",
    "Trainingsdaten skaliert das SVM-Verfahren jedoch besser. Auch neigt es weniger\n",
    "zu Overfitting. Daher lohnt es sich, Support Vector Machines anzusehen.\n",
    "\n",
    "Warum es weniger zu Overfitting neigt und mit Ausreißern besser umgehen kann,\n",
    "sehen wir bereits an der zugrundeliegenden Idee, die hinter dem Verfahren\n",
    "steckt. Um das Basis-Konzept der SVMs zu erläutern, besorgen wir uns zunächst\n",
    "künstliche Messdaten. Dazu verwenden wir die Funktion `make_blobs` aus dem\n",
    "Scikit-Learn-Modul. Mehr Details zum Aufruf der Funktion finden Sie in der\n",
    "[Scikit-Learn-Dokumentation/make_blobs](https://scikit-learn.org/stable/modules/generated/sklearn.datasets.make_blobs.html?highlight=make+blobs#sklearn.datasets.make_blobs)."
   ]
  },
  {
   "cell_type": "code",
   "execution_count": 34,
   "metadata": {},
   "outputs": [
    {
     "name": "stdout",
     "output_type": "stream",
     "text": [
      "[[ 1.4726926   1.3480769 ]\n",
      " [ 0.5323772   3.31338909]\n",
      " [ 1.74265969  5.03846671]\n",
      " [ 1.72330962  4.2012082 ]\n",
      " [ 0.4519936   3.59377836]\n",
      " [ 1.84845803  0.52393625]\n",
      " [ 1.61986895  0.60823883]\n",
      " [ 1.62465468  1.85269614]\n",
      " [ 3.01673853  1.63792106]\n",
      " [ 2.23345072  1.25095024]\n",
      " [ 1.60161834  0.92363636]\n",
      " [ 0.802314    4.38196181]\n",
      " [ 2.11872357  1.09865834]\n",
      " [ 1.05374379  4.49286859]\n",
      " [ 0.16932115  4.19741719]\n",
      " [ 0.92466065  4.50908658]\n",
      " [ 1.42002502  1.38236201]\n",
      " [ 0.12313498  5.27917503]\n",
      " [ 1.85367905  1.5088862 ]\n",
      " [ 1.89949126  0.92574633]\n",
      " [ 0.96217896  4.51795326]\n",
      " [ 1.35678894  4.36462484]\n",
      " [ 0.72144399  4.08475018]\n",
      " [ 0.64003985  4.12401075]\n",
      " [ 2.99684287  0.22378413]\n",
      " [ 0.56969694  3.44064603]\n",
      " [ 0.78260667  4.15263595]\n",
      " [ 1.45131429  4.22810872]\n",
      " [-0.30022483  4.63059663]\n",
      " [ 1.59141542  4.90497725]\n",
      " [ 1.92126584  1.29889186]\n",
      " [ 2.14398059  0.69677319]\n",
      " [ 2.20438661  1.56085661]\n",
      " [ 0.99914934  4.2101954 ]\n",
      " [ 1.91004907  3.81514839]\n",
      " [ 1.19820169  4.47062449]\n",
      " [ 2.79939362  1.84560825]\n",
      " [ 0.72086751  3.71347124]\n",
      " [ 1.51989121  1.42488952]\n",
      " [ 2.62496786  0.28025075]\n",
      " [ 2.4198128   0.96215512]\n",
      " [ 0.3498724   4.69253251]\n",
      " [ 2.24348029  0.34796326]\n",
      " [ 1.13280393  3.87673946]\n",
      " [ 0.65910903  4.12241674]\n",
      " [ 2.11114739  3.57660449]\n",
      " [ 2.52889351  0.82015861]\n",
      " [ 1.24016835  1.12905479]\n",
      " [ 2.989047    1.35068599]\n",
      " [ 2.15940501  1.38598318]\n",
      " [ 1.46870582  1.86947425]\n",
      " [ 1.00952869  4.45502328]\n",
      " [ 2.06051753  1.79059891]\n",
      " [ 1.04829186  5.03092408]\n",
      " [ 0.5285368   4.49723858]\n",
      " [ 2.64465731  0.80770124]\n",
      " [ 2.36230721  1.358767  ]\n",
      " [ 1.40848818  3.93270482]\n",
      " [ 2.28809874  0.12954182]\n",
      " [ 2.25643834  0.55525861]]\n",
      "[1 0 0 0 0 1 1 1 1 1 1 0 1 0 0 0 1 0 1 1 0 0 0 0 1 0 0 0 0 0 1 1 1 0 0 0 1\n",
      " 0 1 1 1 0 1 0 0 0 1 1 1 1 1 0 1 0 0 1 1 0 1 1]\n"
     ]
    }
   ],
   "source": [
    "from sklearn.datasets import make_blobs\n",
    "\n",
    "# generate artificial data\n",
    "X, y = make_blobs(n_samples=60, centers=2, random_state=0, cluster_std=0.50)\n",
    "\n",
    "print(X)\n",
    "print(y)"
   ]
  },
  {
   "attachments": {},
   "cell_type": "markdown",
   "metadata": {},
   "source": [
    "Die Funktion `make_blobs` erzeugt standardmäßig zwei Input-Features, da die\n",
    "Option `n_features` auf den Wert 2 voreingestellt ist, und einen Output, bei dem\n",
    "die Labels entweder durch 0 oder 1 gekennzeichnet sind. Durch die Option\n",
    "`random_state=0` wird der Zufall ausgeschaltet.\n",
    "\n",
    "Wenn wir die Daten visualisieren, erhalten wir folgenden Plot."
   ]
  },
  {
   "cell_type": "code",
   "execution_count": 35,
   "metadata": {},
   "outputs": [
    {
     "data": {
      "image/png": "[encoded data removed]",
      "text/plain": [
       "<Figure size 432x288 with 1 Axes>"
      ]
     },
     "metadata": {
      "needs_background": "light"
     },
     "output_type": "display_data"
    }
   ],
   "source": [
    "import matplotlib.pylab as plt; plt.style.use('bmh')\n",
    "\n",
    "fig, ax = plt.subplots()\n",
    "ax.scatter(X[:,0], X[:,1], c=y, cmap='coolwarm')\n",
    "ax.set_xlabel('Feature 1')\n",
    "ax.set_ylabel('Feature 2')\n",
    "ax.set_title('Künstliche Daten');\n"
   ]
  },
  {
   "attachments": {},
   "cell_type": "markdown",
   "metadata": {},
   "source": [
    "Wir können uns jetzt verschiedene Geraden vorstellen, die die blauen Punkte von\n",
    "den roten Punkten trennen. In der folgenden Grafik sind drei eingezeichnet.\n",
    "Welche würden Sie nehmen und warum?\n",
    "\n",
    "\n",
    "```{figure} pics/fig10_01_annotated.pdf\n",
    "---\n",
    "width: 600px\n",
    "name: fig10_01_annotated\n",
    "---\n",
    "Drei Geraden trennen die roten von den blauen Punkten, aber welche ist die bessere Wahl?\n",
    "```"
   ]
  },
  {
   "attachments": {},
   "cell_type": "markdown",
   "metadata": {},
   "source": [
    "Alle drei Geraden trennen die blauen von den roten Punkten. Jedoch könnte Gerade\n",
    "3 problematisch werden, wenn beispielsweise ein neuer blauer Datenpunkt an der\n",
    "Position (2.3, 3.3) dazukäme. Dann würde Gerade 3 diesen Punkt als rot\n",
    "klassifizieren. Ähnlich verhält es sich mit Gerade 1. Ein neuer blauer\n",
    "Datenpunkt an der Position (0.5, 3) würde fälschlicherweise als rot\n",
    "klassifiziert werden. Gerade 2 bietet den sichersten Abstand zu den bereits\n",
    "vorhandenen Datenpunkten. Wir können diesen \"Sicherheitsstreifen\" folgendermaßen\n",
    "visualisieren.\n",
    "\n",
    "\n",
    "```{figure} pics/fig10_02_annotated.pdf\n",
    "---\n",
    "width: 600px\n",
    "name: fig10_02_annotated\n",
    "---\n",
    "Ein Sicherheitsstreifen bzw. breiter Rand, im Englischen **Margin** genannt, trennt die beiden Klassen. \n",
    "```\n",
    "\n",
    "Der Support-Vector-Algorithmus sucht nun die Gerade, die die Datenpunkte mit dem\n",
    "größten Randabstand (= Margin) voneinander trennt. Im Englischen sprechen wir\n",
    "daher auch von **Large Margin Classification**. Die Suche nach dieser Geraden\n",
    "ist dabei etwas zeitaufwändiger als die Berechnung der Gewichte bei der\n",
    "logistischen Regression. Wenn aber einmal das Modell trainiert ist, ist die\n",
    "Prognose effizienter, da nur die sogenannten **Stützvektoren**, auf englisch\n",
    "**Support Vectors** gespeichert und ausgewertet werden. Die Stützvektoren sind\n",
    "die Vektoren, die vom Ursprung des Koordinatensystems zu den Punkten zeigen, die\n",
    "auf der Grenze des Sicherheitsbereichs liegen.  \n",
    "\n",
    "```{figure} pics/fig10_03.pdf\n",
    "---\n",
    "width: 600px\n",
    "name: fig10_03\n",
    "---\n",
    "Einige wenige Punkte (gelb markiert) bestimmen den Verlauf des Randabstandes. Die Vektoren, \n",
    "die vom Ursprung des Koordinatensystems zu diesen Punkten zeigen, werden Stützvektoren (= Support Vectors) genannt.\n",
    "```"
   ]
  },
  {
   "attachments": {},
   "cell_type": "markdown",
   "metadata": {},
   "source": [
    "## Großer, aber weicher Randabstand\n",
    "\n",
    "Bei dem oben betrachteten Beispiel lassen sich blaue und rote Datenpunkte\n",
    "komplett voneinander trennen. Für den Fall, dass einige wenige Datenpunkte\n",
    "\"falsch\" liegen, erlauben wir Ausnahmen. Wie viele Ausnahmen wir erlauben\n",
    "wollen, die im Sicherheitsstreifen liegen, steuern wir mit dem Parameter `C`.\n",
    "Ein großes `C` bedeutet, dass wir eine große Mauer an den Grenzen des\n",
    "Sicherheitsabstandes errichten. Es kommt kaum vor, dass Datenpunkte innerhalb\n",
    "des Margins liegen. Je kleiner `C` wird, desto mehr Datenpunkte sind innerhalb\n",
    "des Sicherheitsbereichs erlaubt. \n",
    "\n",
    "Im Folgenden betrachten wir einen neuen künstlichen Datensatz, bei dem die\n",
    "blauen von den roten Punkte nicht mehr ganz so stark getrennt sind. Schauen Sie\n",
    "sich die fünf verschiedenen Margins an, die entstehen, wenn der Parameter `C`\n",
    "variiert wird. \n",
    "\n",
    "````{carousel}\n",
    ":show_controls:\n",
    ":show_shadows:\n",
    "\n",
    "```{figure} pics/fig10_04a.pdf\n",
    "\n",
    "```\n",
    "```{figure} pics/fig10_04b.pdf\n",
    "\n",
    "```\n",
    "```{figure} pics/fig10_04c.pdf\n",
    "\n",
    "```\n",
    "```{figure} pics/fig10_04d.pdf\n",
    "\n",
    "```\n",
    "```{figure} pics/fig10_04e.pdf\n",
    "\n",
    "```\n",
    "````\n"
   ]
  },
  {
   "attachments": {},
   "cell_type": "markdown",
   "metadata": {},
   "source": [
    "## Zusammenfassung\n",
    "\n",
    "In diesem Abschnitt haben wir die Ideen kennengelernt, die den Support Vector\n",
    "Machines zugrunde liegen. Im nächsten Abschnitt schauen wir uns an, wie ein\n",
    "SVM-Modell mit Scikit-Learn trainiert wird."
   ]
  }
 ],
 "metadata": {
  "kernelspec": {
   "display_name": "Python 3",
   "language": "python",
   "name": "python3"
  },
  "language_info": {
   "codemirror_mode": {
    "name": "ipython",
    "version": 3
   },
   "file_extension": ".py",
   "mimetype": "text/x-python",
   "name": "python",
   "nbconvert_exporter": "python",
   "pygments_lexer": "ipython3",
   "version": "3.9.15"
  },
  "vscode": {
   "interpreter": {
    "hash": "502e30c89ac744ede490eeeb6f7e63ddbf7b044ca990d418a4738702fff7139e"
   }
  }
 },
 "nbformat": 4,
 "nbformat_minor": 4
}
