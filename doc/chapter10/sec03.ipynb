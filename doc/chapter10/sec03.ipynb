{
 "cells": [
  {
   "cell_type": "markdown",
   "metadata": {},
   "source": [
    "# Logistische Regression mit Scikit-Learn\n",
    "\n",
    "## Lernziele\n",
    "\n",
    "```{admonition} Lernziele\n",
    ":class: hint\n",
    "* TODO\n",
    "```\n"
   ]
  },
  {
   "cell_type": "markdown",
   "metadata": {},
   "source": [
    "## LogisticRegression\n",
    "\n",
    "Scikit-Learn bietet ein logistisches Regressionsmodell an, bei dem verschiedene\n",
    "Gradientenverfahren im Hintergrund die Gewichte bestimmen, die zu einer\n",
    "minimalen mittleren Kostenfunktion führen. Die Dokumentation zu dem logistischen\n",
    "Regressionsmodell findet sich hier: [scikit-learn.org →\n",
    "LogisticRegression](https://scikit-learn.org/stable/modules/generated/sklearn.linear_model.LogisticRegression.html). \n",
    "\n",
    "Wir wenden nun das Scikit-Learn-Modell auf unser Beispiel der binären\n",
    "Klassifikation \"Ligazugehörigkeit abhängig vom Marktwert\" deutscher\n",
    "Fußballvereine an. Dazu wiederholen laden wir die Daten und filtern zunächst\n",
    "nach Vereinen der 2. Bundesliga oder der 3. Liga."
   ]
  },
  {
   "cell_type": "code",
   "execution_count": 1,
   "metadata": {},
   "outputs": [
    {
     "data": {
      "text/html": [
       "<div>\n",
       "<style scoped>\n",
       "    .dataframe tbody tr th:only-of-type {\n",
       "        vertical-align: middle;\n",
       "    }\n",
       "\n",
       "    .dataframe tbody tr th {\n",
       "        vertical-align: top;\n",
       "    }\n",
       "\n",
       "    .dataframe thead th {\n",
       "        text-align: right;\n",
       "    }\n",
       "</style>\n",
       "<table border=\"1\" class=\"dataframe\">\n",
       "  <thead>\n",
       "    <tr style=\"text-align: right;\">\n",
       "      <th></th>\n",
       "      <th>Ligazugehörigkeit</th>\n",
       "      <th>Wert</th>\n",
       "      <th>Kadergröße</th>\n",
       "    </tr>\n",
       "    <tr>\n",
       "      <th>Verein</th>\n",
       "      <th></th>\n",
       "      <th></th>\n",
       "      <th></th>\n",
       "    </tr>\n",
       "  </thead>\n",
       "  <tbody>\n",
       "    <tr>\n",
       "      <th>Hamburger SV</th>\n",
       "      <td>2. Bundesliga</td>\n",
       "      <td>34.85</td>\n",
       "      <td>28</td>\n",
       "    </tr>\n",
       "    <tr>\n",
       "      <th>Arminia Bielefeld</th>\n",
       "      <td>2. Bundesliga</td>\n",
       "      <td>31.10</td>\n",
       "      <td>26</td>\n",
       "    </tr>\n",
       "    <tr>\n",
       "      <th>SpVgg Greuther Fürth</th>\n",
       "      <td>2. Bundesliga</td>\n",
       "      <td>24.55</td>\n",
       "      <td>27</td>\n",
       "    </tr>\n",
       "    <tr>\n",
       "      <th>FC St. Pauli</th>\n",
       "      <td>2. Bundesliga</td>\n",
       "      <td>23.50</td>\n",
       "      <td>28</td>\n",
       "    </tr>\n",
       "    <tr>\n",
       "      <th>Fortuna Düsseldorf</th>\n",
       "      <td>2. Bundesliga</td>\n",
       "      <td>19.55</td>\n",
       "      <td>23</td>\n",
       "    </tr>\n",
       "    <tr>\n",
       "      <th>Hannover 96</th>\n",
       "      <td>2. Bundesliga</td>\n",
       "      <td>22.60</td>\n",
       "      <td>28</td>\n",
       "    </tr>\n",
       "    <tr>\n",
       "      <th>1.FC Nürnberg</th>\n",
       "      <td>2. Bundesliga</td>\n",
       "      <td>23.25</td>\n",
       "      <td>27</td>\n",
       "    </tr>\n",
       "    <tr>\n",
       "      <th>SV Darmstadt 98</th>\n",
       "      <td>2. Bundesliga</td>\n",
       "      <td>18.93</td>\n",
       "      <td>26</td>\n",
       "    </tr>\n",
       "    <tr>\n",
       "      <th>Karlsruher SC</th>\n",
       "      <td>2. Bundesliga</td>\n",
       "      <td>16.95</td>\n",
       "      <td>30</td>\n",
       "    </tr>\n",
       "    <tr>\n",
       "      <th>1.FC Heidenheim 1846</th>\n",
       "      <td>2. Bundesliga</td>\n",
       "      <td>16.65</td>\n",
       "      <td>27</td>\n",
       "    </tr>\n",
       "    <tr>\n",
       "      <th>Holstein Kiel</th>\n",
       "      <td>2. Bundesliga</td>\n",
       "      <td>16.38</td>\n",
       "      <td>30</td>\n",
       "    </tr>\n",
       "    <tr>\n",
       "      <th>SC Paderborn 07</th>\n",
       "      <td>2. Bundesliga</td>\n",
       "      <td>16.38</td>\n",
       "      <td>27</td>\n",
       "    </tr>\n",
       "    <tr>\n",
       "      <th>SV Sandhausen</th>\n",
       "      <td>2. Bundesliga</td>\n",
       "      <td>13.15</td>\n",
       "      <td>25</td>\n",
       "    </tr>\n",
       "    <tr>\n",
       "      <th>SSV Jahn Regensburg</th>\n",
       "      <td>2. Bundesliga</td>\n",
       "      <td>12.10</td>\n",
       "      <td>25</td>\n",
       "    </tr>\n",
       "    <tr>\n",
       "      <th>FC Hansa Rostock</th>\n",
       "      <td>2. Bundesliga</td>\n",
       "      <td>13.00</td>\n",
       "      <td>28</td>\n",
       "    </tr>\n",
       "    <tr>\n",
       "      <th>1.FC Kaiserslautern</th>\n",
       "      <td>2. Bundesliga</td>\n",
       "      <td>9.45</td>\n",
       "      <td>28</td>\n",
       "    </tr>\n",
       "    <tr>\n",
       "      <th>1.FC Magdeburg</th>\n",
       "      <td>2. Bundesliga</td>\n",
       "      <td>11.10</td>\n",
       "      <td>31</td>\n",
       "    </tr>\n",
       "    <tr>\n",
       "      <th>Eintracht Braunschweig</th>\n",
       "      <td>2. Bundesliga</td>\n",
       "      <td>8.83</td>\n",
       "      <td>26</td>\n",
       "    </tr>\n",
       "    <tr>\n",
       "      <th>Borussia Dortmund II</th>\n",
       "      <td>3. Liga</td>\n",
       "      <td>13.05</td>\n",
       "      <td>31</td>\n",
       "    </tr>\n",
       "    <tr>\n",
       "      <th>SG Dynamo Dresden</th>\n",
       "      <td>3. Liga</td>\n",
       "      <td>9.18</td>\n",
       "      <td>31</td>\n",
       "    </tr>\n",
       "    <tr>\n",
       "      <th>FC Ingolstadt 04</th>\n",
       "      <td>3. Liga</td>\n",
       "      <td>8.43</td>\n",
       "      <td>27</td>\n",
       "    </tr>\n",
       "    <tr>\n",
       "      <th>SC Freiburg II</th>\n",
       "      <td>3. Liga</td>\n",
       "      <td>6.23</td>\n",
       "      <td>31</td>\n",
       "    </tr>\n",
       "    <tr>\n",
       "      <th>FC Erzgebirge Aue</th>\n",
       "      <td>3. Liga</td>\n",
       "      <td>7.53</td>\n",
       "      <td>30</td>\n",
       "    </tr>\n",
       "    <tr>\n",
       "      <th>TSV 1860 München</th>\n",
       "      <td>3. Liga</td>\n",
       "      <td>6.65</td>\n",
       "      <td>30</td>\n",
       "    </tr>\n",
       "    <tr>\n",
       "      <th>SV Waldhof Mannheim</th>\n",
       "      <td>3. Liga</td>\n",
       "      <td>5.73</td>\n",
       "      <td>23</td>\n",
       "    </tr>\n",
       "    <tr>\n",
       "      <th>MSV Duisburg</th>\n",
       "      <td>3. Liga</td>\n",
       "      <td>5.55</td>\n",
       "      <td>28</td>\n",
       "    </tr>\n",
       "    <tr>\n",
       "      <th>FC Viktoria Köln</th>\n",
       "      <td>3. Liga</td>\n",
       "      <td>6.60</td>\n",
       "      <td>32</td>\n",
       "    </tr>\n",
       "    <tr>\n",
       "      <th>1. FC Saarbrücken</th>\n",
       "      <td>3. Liga</td>\n",
       "      <td>6.15</td>\n",
       "      <td>26</td>\n",
       "    </tr>\n",
       "    <tr>\n",
       "      <th>VfL Osnabrück</th>\n",
       "      <td>3. Liga</td>\n",
       "      <td>5.60</td>\n",
       "      <td>27</td>\n",
       "    </tr>\n",
       "    <tr>\n",
       "      <th>SV Wehen Wiesbaden</th>\n",
       "      <td>3. Liga</td>\n",
       "      <td>5.53</td>\n",
       "      <td>25</td>\n",
       "    </tr>\n",
       "    <tr>\n",
       "      <th>Rot-Weiss Essen</th>\n",
       "      <td>3. Liga</td>\n",
       "      <td>4.68</td>\n",
       "      <td>29</td>\n",
       "    </tr>\n",
       "    <tr>\n",
       "      <th>SV 07 Elversberg</th>\n",
       "      <td>3. Liga</td>\n",
       "      <td>4.05</td>\n",
       "      <td>26</td>\n",
       "    </tr>\n",
       "    <tr>\n",
       "      <th>SC Verl</th>\n",
       "      <td>3. Liga</td>\n",
       "      <td>3.68</td>\n",
       "      <td>28</td>\n",
       "    </tr>\n",
       "    <tr>\n",
       "      <th>Hallescher FC</th>\n",
       "      <td>3. Liga</td>\n",
       "      <td>3.95</td>\n",
       "      <td>24</td>\n",
       "    </tr>\n",
       "    <tr>\n",
       "      <th>SV Meppen</th>\n",
       "      <td>3. Liga</td>\n",
       "      <td>3.93</td>\n",
       "      <td>26</td>\n",
       "    </tr>\n",
       "    <tr>\n",
       "      <th>FSV Zwickau</th>\n",
       "      <td>3. Liga</td>\n",
       "      <td>3.80</td>\n",
       "      <td>24</td>\n",
       "    </tr>\n",
       "    <tr>\n",
       "      <th>SpVgg Bayreuth</th>\n",
       "      <td>3. Liga</td>\n",
       "      <td>3.25</td>\n",
       "      <td>30</td>\n",
       "    </tr>\n",
       "    <tr>\n",
       "      <th>VfB Oldenburg</th>\n",
       "      <td>3. Liga</td>\n",
       "      <td>3.06</td>\n",
       "      <td>27</td>\n",
       "    </tr>\n",
       "  </tbody>\n",
       "</table>\n",
       "</div>"
      ],
      "text/plain": [
       "                       Ligazugehörigkeit   Wert  Kadergröße\n",
       "Verein                                                     \n",
       "Hamburger SV               2. Bundesliga  34.85          28\n",
       "Arminia Bielefeld          2. Bundesliga  31.10          26\n",
       "SpVgg Greuther Fürth       2. Bundesliga  24.55          27\n",
       "FC St. Pauli               2. Bundesliga  23.50          28\n",
       "Fortuna Düsseldorf         2. Bundesliga  19.55          23\n",
       "Hannover 96                2. Bundesliga  22.60          28\n",
       "1.FC Nürnberg              2. Bundesliga  23.25          27\n",
       "SV Darmstadt 98            2. Bundesliga  18.93          26\n",
       "Karlsruher SC              2. Bundesliga  16.95          30\n",
       "1.FC Heidenheim 1846       2. Bundesliga  16.65          27\n",
       "Holstein Kiel              2. Bundesliga  16.38          30\n",
       "SC Paderborn 07            2. Bundesliga  16.38          27\n",
       "SV Sandhausen              2. Bundesliga  13.15          25\n",
       "SSV Jahn Regensburg        2. Bundesliga  12.10          25\n",
       "FC Hansa Rostock           2. Bundesliga  13.00          28\n",
       "1.FC Kaiserslautern        2. Bundesliga   9.45          28\n",
       "1.FC Magdeburg             2. Bundesliga  11.10          31\n",
       "Eintracht Braunschweig     2. Bundesliga   8.83          26\n",
       "Borussia Dortmund II             3. Liga  13.05          31\n",
       "SG Dynamo Dresden                3. Liga   9.18          31\n",
       "FC Ingolstadt 04                 3. Liga   8.43          27\n",
       "SC Freiburg II                   3. Liga   6.23          31\n",
       "FC Erzgebirge Aue                3. Liga   7.53          30\n",
       "TSV 1860 München                 3. Liga   6.65          30\n",
       "SV Waldhof Mannheim              3. Liga   5.73          23\n",
       "MSV Duisburg                     3. Liga   5.55          28\n",
       "FC Viktoria Köln                 3. Liga   6.60          32\n",
       "1. FC Saarbrücken                3. Liga   6.15          26\n",
       "VfL Osnabrück                    3. Liga   5.60          27\n",
       "SV Wehen Wiesbaden               3. Liga   5.53          25\n",
       "Rot-Weiss Essen                  3. Liga   4.68          29\n",
       "SV 07 Elversberg                 3. Liga   4.05          26\n",
       "SC Verl                          3. Liga   3.68          28\n",
       "Hallescher FC                    3. Liga   3.95          24\n",
       "SV Meppen                        3. Liga   3.93          26\n",
       "FSV Zwickau                      3. Liga   3.80          24\n",
       "SpVgg Bayreuth                   3. Liga   3.25          30\n",
       "VfB Oldenburg                    3. Liga   3.06          27"
      ]
     },
     "execution_count": 1,
     "metadata": {},
     "output_type": "execute_result"
    }
   ],
   "source": [
    "# import all data\n",
    "import pandas as pd\n",
    "data_raw = pd.read_csv('data/20220801_Marktwert_Bundesliga.csv', skiprows=5, header=0, index_col=0)\n",
    "\n",
    "# filter wrt 2. Bundesliga and 3. Liga\n",
    "filter = data_raw['Ligazugehörigkeit'].isin(['2. Bundesliga', '3. Liga']) \n",
    "data = data_raw[filter].copy(())\n",
    "\n",
    "# print all data samples\n",
    "data.head(38)"
   ]
  },
  {
   "cell_type": "markdown",
   "metadata": {},
   "source": [
    "Als nächstes formulieren wir das Klassifikationsproblem: Gegeben ist ein Verein mit seinem Marktwert. Spielt der Verein in der 2. Bundesliga?\n",
    "\n",
    "Die Klasse `2. Bundesliga` wird in den Daten als `1` codiert, da der ML-Algorithmus nur mit numerischen Daten arbeiten kann. Den String `3. Liga` ersetzen wir in den Trainingsdaten durch eine `0`. "
   ]
  },
  {
   "cell_type": "code",
   "execution_count": 2,
   "metadata": {},
   "outputs": [],
   "source": [
    "# encode categorical data\n",
    "data.replace('2. Bundesliga', 1, inplace=True)\n",
    "data.replace('3. Liga', 0, inplace=True)"
   ]
  },
  {
   "cell_type": "markdown",
   "metadata": {},
   "source": [
    "Jetzt können wir das logistische Regressionsmodell laden:"
   ]
  },
  {
   "cell_type": "code",
   "execution_count": 3,
   "metadata": {},
   "outputs": [],
   "source": [
    "from sklearn.linear_model import LogisticRegression\n",
    "\n",
    "logistic_regression = LogisticRegression()"
   ]
  },
  {
   "cell_type": "markdown",
   "metadata": {},
   "source": [
    "Die Daten werden jetzt in Matrizen gepackt und in Trainings- und Testdaten unterteilt:"
   ]
  },
  {
   "cell_type": "code",
   "execution_count": 4,
   "metadata": {},
   "outputs": [],
   "source": [
    "import numpy as np\n",
    "from sklearn.model_selection import train_test_split\n",
    "\n",
    "X = data['Wert'].values\n",
    "y = data['Ligazugehörigkeit'].values\n",
    "\n",
    "X_train, X_test, y_train, y_test = train_test_split(X[:, np.newaxis], y, random_state=0)"
   ]
  },
  {
   "cell_type": "markdown",
   "metadata": {},
   "source": [
    "Danach können wir das logistische Regressionsmodell trainieren:"
   ]
  },
  {
   "cell_type": "code",
   "execution_count": 48,
   "metadata": {},
   "outputs": [
    {
     "data": {
      "text/plain": [
       "LogisticRegression()"
      ]
     },
     "execution_count": 48,
     "metadata": {},
     "output_type": "execute_result"
    }
   ],
   "source": [
    "logistic_regression.fit(X_train, y_train)"
   ]
  },
  {
   "cell_type": "markdown",
   "metadata": {},
   "source": [
    "Und dann als nächstes beurteilen, wie viele der Testdaten korrekt klassfiziert werden."
   ]
  },
  {
   "cell_type": "code",
   "execution_count": 8,
   "metadata": {},
   "outputs": [
    {
     "data": {
      "text/plain": [
       "0.9"
      ]
     },
     "execution_count": 8,
     "metadata": {},
     "output_type": "execute_result"
    }
   ],
   "source": [
    "logistic_regression.score(X_test, y_test)"
   ]
  },
  {
   "cell_type": "markdown",
   "metadata": {},
   "source": [
    "90 % der Testdaten werden korrekt klassifiziert. Mit einer anderen Aufteilung in\n",
    "Trainings- und Testdaten können wir auch höhere Erkennungsraten erzielen.\n",
    "Beispielsweise führt ein Split mit `random_state=1` zu einer 100 % genauen\n",
    "Klassifikation der Testdaten.\n",
    "\n",
    "Als nächstes lassen wir Python alle Daten zusammen mit der\n",
    "Wahrscheinlichkeitsfunktion visualisieren."
   ]
  },
  {
   "cell_type": "code",
   "execution_count": 56,
   "metadata": {},
   "outputs": [],
   "source": [
    "# extrahiere die Gewichte des logistischen Regressionsmodells\n",
    "gewichte = np.concatenate((logistic_regression.intercept_, logistic_regression.coef_[:,0]))\n",
    "\n",
    "# definiere Wahrschinelichkeitsfunktion\n",
    "def wahrscheinlichkeitsfunktion(x, w):\n",
    "    z = w[0] + x * w[1]\n",
    "    return 1/(1+np.exp(-z))\n",
    "\n",
    "# stelle Wartetabelle der Wahrscheinlichkeitsfunktion auf\n",
    "x = np.linspace(0, 35)\n",
    "sigma_z = wahrscheinlichkeitsfunktion(x, gewichte)\n",
    "\n",
    "# trenne Daten gemäß Ligazugehörigkeit\n",
    "data_zweite_liga = data[data['Ligazugehörigkeit'] == 1]\n",
    "data_dritte_liga = data[data['Ligazugehörigkeit'] == 0]"
   ]
  },
  {
   "cell_type": "code",
   "execution_count": 57,
   "metadata": {},
   "outputs": [
    {
     "data": {
      "image/png": "[encoded data removed]",
      "text/plain": [
       "<Figure size 432x288 with 1 Axes>"
      ]
     },
     "metadata": {
      "needs_background": "light"
     },
     "output_type": "display_data"
    }
   ],
   "source": [
    "import matplotlib.pylab as plt; plt.style.use('bmh')\n",
    "plt.rcParams['font.family'] = ['TeX Gyre Heros', 'sans-serif']\n",
    "\n",
    "fig, ax = plt.subplots()\n",
    "ax.scatter(data_dritte_liga['Wert'], data_dritte_liga['Ligazugehörigkeit'])\n",
    "ax.scatter(data_zweite_liga['Wert'], data_zweite_liga['Ligazugehörigkeit'])\n",
    "ax.plot(x, sigma_z, color='black')\n",
    "ax.hlines(0.5, 0, 35, 'red', 'dashed')\n",
    "ax.set_xlabel('Marktwert')\n",
    "ax.set_ylabel('Ligazugehörigkeit')\n",
    "ax.set_title('Klassifikation 2. Bundesliga / 3. Liga');"
   ]
  },
  {
   "cell_type": "markdown",
   "metadata": {},
   "source": [
    "Aus der Visualisierung der Wahrscheinlichkeitsfunktion können wir grob\n",
    "abschätzen, bei welchem Marktwert ein Verein als Zweit- oder Drittligist\n",
    "klassifiziert wird. Die Wahrscheinlichkeitsfunktion schneidet die 50 %\n",
    "Grenzlinie ungefähr bei einem Marktwert von 11 Mio. Euro. Etwas genauer können\n",
    "wir diese Grenze durch das Kommando `fsolve` aus dem Scipy-Modul bestimmen\n",
    "lassen:"
   ]
  },
  {
   "cell_type": "code",
   "execution_count": 65,
   "metadata": {},
   "outputs": [
    {
     "name": "stdout",
     "output_type": "stream",
     "text": [
      "Grenze des Marktwertes: 10.68 Mio. Euro\n"
     ]
    }
   ],
   "source": [
    "from scipy.optimize import fsolve\n",
    "\n",
    "x_grenze =  fsolve(lambda x: wahrscheinlichkeitsfunktion(x, gewichte) - 0.5, 11.0)\n",
    "print('Grenze des Marktwertes: {:.2f} Mio. Euro'.format(x_grenze[0]))"
   ]
  },
  {
   "cell_type": "markdown",
   "metadata": {},
   "source": [
    "## Zusammenfassung\n",
    "\n",
    "In diesem Abschnitt haben wir an einem Beispiel gesehen, wie das logistische\n",
    "Regressionsmodell von Scikit-Learn trainiert und bewertet wird."
   ]
  }
 ],
 "metadata": {
  "kernelspec": {
   "display_name": "Python 3.9.13 ('python39')",
   "language": "python",
   "name": "python3"
  },
  "language_info": {
   "codemirror_mode": {
    "name": "ipython",
    "version": 3
   },
   "file_extension": ".py",
   "mimetype": "text/x-python",
   "name": "python",
   "nbconvert_exporter": "python",
   "pygments_lexer": "ipython3",
   "version": "3.9.13"
  },
  "orig_nbformat": 4,
  "vscode": {
   "interpreter": {
    "hash": "1863971d65633e53ca5b74972b86a14fab6d597ce2ac84dc984546545d2d3a9b"
   }
  }
 },
 "nbformat": 4,
 "nbformat_minor": 2
}
