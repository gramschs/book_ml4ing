{
 "cells": [
  {
   "attachments": {},
   "cell_type": "markdown",
   "id": "1ccc9877-77da-4640-98db-7c030646c903",
   "metadata": {},
   "source": [
    "# Digitale Logik und Schleife mit Bedingung\n",
    "\n",
    "## Lernziele\n",
    "\n",
    "```{admonition} Lernziele\n",
    ":class: important\n",
    "* Sie können Vergleiche kombinieren und dazu digitale Logik verwenden: **and**, **or** und **not**.\n",
    "* Sie können eine Schleife mit Bedingung **while** programmieren.\n",
    "```\n",
    "\n",
    "## Vergleiche kombinieren - digitale Logik\n",
    "\n",
    "Vorhin haben wir den boolschen Datentyp kennengelernt: wahr oder falsch. Man\n",
    "kann solche Ausdrücke auch kombinieren, z.B. könnte man fordern, dass zwei\n",
    "Bedingungen gleichzeitg erfüllt sein sollen. \n",
    "\n",
    "Beispiel beim Busfahren: Kinder unter 6 Jahren können kostenlos Bus fahren. Ab 6\n",
    "Jahren braucht man eine Fahrkarte. Bis 14 Jahre zahlt man den Kinderpreis, ab 15\n",
    "Jahren den Erwachsenenpreis:"
   ]
  },
  {
   "cell_type": "code",
   "execution_count": 91,
   "id": "2c2f3228-f24d-4a00-b62d-24d82f08b868",
   "metadata": {},
   "outputs": [
    {
     "name": "stdout",
     "output_type": "stream",
     "text": [
      "Du darfst eine Kinderfahrkarte kaufen.\n"
     ]
    }
   ],
   "source": [
    "alter = 12\n",
    "if (6 <= alter) and (alter <= 14):\n",
    "    print('Du darfst eine Kinderfahrkarte kaufen.')"
   ]
  },
  {
   "attachments": {},
   "cell_type": "markdown",
   "id": "63cbee1d-d76b-4d0b-9cd5-8c03adcff8af",
   "metadata": {},
   "source": [
    "Im Folgenden beschäftigen wir uns daher mit der Verknüpfung von booleschen\n",
    "Ausdrücken. Dieses Fachgebiet nennt man auch boolsche Algebra oder digitale\n",
    "Logik. Wikipedia fasst hier die wichtigsten Regeln zur booleschen Algebra\n",
    "zusammen: https://de.wikipedia.org/wiki/Boolesche_Algebra \n",
    "\n",
    "Wir werden in dieser Vorlesung uns aber auf die logischen Verknüpfungen oder\n",
    "logischen Operatoren \n",
    "\n",
    "* UND\n",
    "* ODER\n",
    "* NICHT\n",
    "\n",
    "beschränken. Nun wenden wir uns der Umsetzung von logischen Verknüpfungen in\n",
    "Python zu.\n",
    "\n",
    "Bedingung 1 | Bedingung 2 | Ergebnis mit ```and```\n",
    "------------|-------------|--------------------------\n",
    "True | True | True\n",
    "False | True | False\n",
    "True | False | False\n",
    "False | False | False"
   ]
  },
  {
   "attachments": {},
   "cell_type": "markdown",
   "id": "99bf9c04-c7ed-4afb-a70b-18d4cf978624",
   "metadata": {},
   "source": [
    "Beispiel: Zwei Personen wollen einen Kinofilm sehen, der erst ab 18 erlaubt ist. Nur wenn beide volljährig sind, können sie den Film gemeinsam besuchen:"
   ]
  },
  {
   "cell_type": "code",
   "execution_count": 92,
   "id": "e8c0462e-fe84-48f4-9a24-dc75f3c700f7",
   "metadata": {},
   "outputs": [
    {
     "name": "stdout",
     "output_type": "stream",
     "text": [
      "Sie duerfen beide den Film sehen.\n"
     ]
    }
   ],
   "source": [
    "alter_person1 = 19\n",
    "alter_person2 = 22\n",
    "if (alter_person1 >= 18) and (alter_person2 >= 18):\n",
    "    print('Sie duerfen beide den Film sehen.')\n",
    "else:\n",
    "    print('Vielleicht darf einer von Ihnen den Film sehen, aber nicht beide.')"
   ]
  },
  {
   "attachments": {},
   "cell_type": "markdown",
   "id": "3d342b70-5ee4-4179-b565-dc3f590f06dd",
   "metadata": {},
   "source": [
    "Die sogenannte Wahrheitstabelle für die OR-Verknüpfung sieht folgendermaßen aus:\n",
    "\n",
    "Bedingung 1 | Bedingung 2 | Ergebnis mit ```or```\n",
    "------------|-------------|--------------------------\n",
    "True | True | True\n",
    "False | True | True\n",
    "True | False | True\n",
    "False | False | False\n",
    "\n",
    "Beispiel: Zwei Personen wollen ein Auto mieten, dazu muss aber mindestens einer von beiden den Führerschein besitzen."
   ]
  },
  {
   "cell_type": "code",
   "execution_count": 93,
   "id": "a3c5cb9c-9e33-42cc-9feb-012db05a6bc8",
   "metadata": {},
   "outputs": [
    {
     "name": "stdout",
     "output_type": "stream",
     "text": [
      "Sie duerfen das Auto mieten.\n"
     ]
    }
   ],
   "source": [
    "person1_hat_fuehrerschein = True\n",
    "person2_hat_fuehrerschein = False\n",
    "\n",
    "if (person1_hat_fuehrerschein == True) or (person2_hat_fuehrerschein == True):\n",
    "    print('Sie duerfen das Auto mieten.')\n",
    "else:\n",
    "    print('Keiner von beiden hat einen Fuehrerschein, geht nicht.')"
   ]
  },
  {
   "attachments": {},
   "cell_type": "markdown",
   "id": "762cec4e-99f5-4d56-b87a-497fc44daa8f",
   "metadata": {},
   "source": [
    "Übrigens, der Vergleich `person1_hat_fuehrerschein == True` ist eigentlich\n",
    "doppelt gemoppelt, da ja die Variable bereits den Datentyp bool hat. Wir könnten\n",
    "also auch kürzer schreiben"
   ]
  },
  {
   "cell_type": "code",
   "execution_count": 94,
   "id": "656ee690-7857-468a-a372-00ca580de981",
   "metadata": {},
   "outputs": [
    {
     "name": "stdout",
     "output_type": "stream",
     "text": [
      "Sie duerfen das Auto mieten.\n"
     ]
    }
   ],
   "source": [
    "person1_hat_fuehrerschein = True\n",
    "person2_hat_fuehrerschein = False\n",
    "\n",
    "if person1_hat_fuehrerschein or person2_hat_fuehrerschein :\n",
    "    print('Sie duerfen das Auto mieten.')\n",
    "else:\n",
    "    print('Keiner von beiden hat einen Fuehrerschein, geht nicht.')"
   ]
  },
  {
   "attachments": {},
   "cell_type": "markdown",
   "id": "ac44ff7a-7c3f-4fa3-bec2-4cab72544c56",
   "metadata": {},
   "source": [
    "Die sogenannte Wahrheitstabelle für die NOT-Verknüpfung sieht folgendermaßen aus:\n",
    "\n",
    "Bedingung 1 | Ergebnis mit ```not```\n",
    "------------|--------------------------\n",
    "True | False\n",
    "False | True \n",
    "\n",
    "Beispiel: Wenn eine Person keinen Führerschein hat, muss sie den Bus nehmen."
   ]
  },
  {
   "cell_type": "code",
   "execution_count": 95,
   "id": "36e1eab0-b1fb-41bd-96b0-3ce45cd49fe2",
   "metadata": {},
   "outputs": [
    {
     "name": "stdout",
     "output_type": "stream",
     "text": [
      "Sie muessen Bus fahren.\n"
     ]
    }
   ],
   "source": [
    "person_hat_fuehrerschein = False\n",
    "\n",
    "if not person_hat_fuehrerschein:\n",
    "    print('Sie muessen Bus fahren.')\n",
    "else:\n",
    "    print('Sie duerfen Auto fahren.')"
   ]
  },
  {
   "attachments": {},
   "cell_type": "markdown",
   "id": "a7625a3e-a8f5-4fdc-b46b-fcfb1250154b",
   "metadata": {},
   "source": [
    "<iframe width=\"560\" height=\"315\" src=\"https://www.youtube.com/embed/075l6R42tkQ\" title=\"YouTube video player\" frameborder=\"0\" allow=\"accelerometer; autoplay; clipboard-write; encrypted-media; gyroscope; picture-in-picture\" allowfullscreen></iframe>"
   ]
  },
  {
   "attachments": {},
   "cell_type": "markdown",
   "id": "2060beeb-8c2b-4f29-9ca5-dc18922104f2",
   "metadata": {},
   "source": [
    "## Schleifen mit Bedingung \"while\"\n",
    "\n",
    "Bei einer Wiederholung mit Bedingung wird eine Anweisung solange wiederholt, bis\n",
    "die Bedingung erfüllt wird. Sie hat folgende Struktur:\n",
    "\n",
    "```python\n",
    " while Bedingung: \n",
    "        anweisungsblock\n",
    "```\n",
    "\n",
    "Die bedingte Wiederholung wird mit dem Schlüsselwort `while` eingeleitet. Dann\n",
    "folgt die Bedingung, die mit einem `:` abgeschlossen wird. Alle Anweisungen, die\n",
    "wiederholt werden sollen, werden eingerückt. Diesen Teil nennt man das\n",
    "Schleifeninnere, die Zeile `while Bedingung:` nennt man den Schleifenkopf. \n",
    "\n",
    "Beispiel: Wir möchten ein Programm schreiben, das von 10 bis 0 herunterzählt.\n",
    "Für den Countdown benutzen wir eine Variable als Zwischenspeicher. Dies würde in\n",
    "Python wie folgt umgesetzt:"
   ]
  },
  {
   "cell_type": "code",
   "execution_count": 96,
   "id": "1a3e7138-b3ed-45f9-a2f1-cc91f49095f9",
   "metadata": {},
   "outputs": [
    {
     "name": "stdout",
     "output_type": "stream",
     "text": [
      "Dieses Programm addiert ganze Zahlen solange, bis Sie 0 eingeben.\n",
      "Die Summe aller bisher eingegeben Zahlen ist:  10.0\n"
     ]
    }
   ],
   "source": [
    "print('Dieses Programm zählt von 10 runter...')\n",
    "countdown = 10\n",
    "while countdown >= 0:\n",
    "    print(countdown)\n",
    "    countdown = countdown - 1\n",
    "print('Jetzt hebt die Rakete ab!')"
   ]
  },
  {
   "attachments": {},
   "cell_type": "markdown",
   "id": "942a361a-aea0-4111-8791-88d97e5f9a64",
   "metadata": {},
   "source": [
    "<iframe width=\"560\" height=\"315\" src=\"https://www.youtube.com/embed/sXLicTuJzB4\" title=\"YouTube video player\" frameborder=\"0\" allow=\"accelerometer; autoplay; clipboard-write; encrypted-media; gyroscope; picture-in-picture\" allowfullscreen></iframe>"
   ]
  }
 ],
 "metadata": {
  "jupytext": {
   "formats": "ipynb,md:myst"
  },
  "kernelspec": {
   "display_name": "Python 3.9.13 ('python39')",
   "language": "python",
   "name": "python3"
  },
  "language_info": {
   "codemirror_mode": {
    "name": "ipython",
    "version": 3
   },
   "file_extension": ".py",
   "mimetype": "text/x-python",
   "name": "python",
   "nbconvert_exporter": "python",
   "pygments_lexer": "ipython3",
   "version": "3.9.13"
  },
  "vscode": {
   "interpreter": {
    "hash": "1863971d65633e53ca5b74972b86a14fab6d597ce2ac84dc984546545d2d3a9b"
   }
  }
 },
 "nbformat": 4,
 "nbformat_minor": 5
}
