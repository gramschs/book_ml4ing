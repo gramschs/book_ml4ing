{
 "cells": [
  {
   "attachments": {},
   "cell_type": "markdown",
   "id": "1ccc9877-77da-4640-98db-7c030646c903",
   "metadata": {},
   "source": [
    "# Bool, Vergleiche und Programmverzweigung\n",
    "\n",
    "## Lernziele\n",
    "\n",
    "```{admonition} Lernziele\n",
    ":class: important\n",
    "* Sie kennen den Datentyp **Bool**.\n",
    "* Sie kennen die wichtigsten **Vergleichsoperatoren**.\n",
    "* Sie können mit **if — elif — else** Programmverzeigungen programmieren.\n",
    "```\n",
    "\n",
    "## Datentyp Bool und Vergleiche\n",
    "\n",
    "Später möchten wir Werte miteinander vergleichen. Ein simples Beispiel für einen\n",
    "einfachen Vergleich ist beispielsweise das Alter einer Person mit der Zahl 18.\n",
    "Dieser Vergleich ist entweder wahr (True) oder falsch (False). Oder anders\n",
    "formuliert, diese Bedingung ist entweder erfüllt oder nicht erfüllt. \n",
    "\n",
    "Um den Wahrheitswert eines Vergleichs zu beschrieben, hat Python einen eigenen\n",
    "Datentyp namens `bool`. Eine Variable des Datentyps `bool` kann dabei nur zwei\n",
    "verschiedene Werte annehmen, nämlich\n",
    "\n",
    "* `True`: Wahrheitswert ist wahr oder\n",
    "* `False`: Wahrheitswert ist falsch.\n",
    "\n",
    "Und auch für diesen Datentyp gibt es Operationen, wie man diese einsetzt ist\n",
    "eine andere Frage."
   ]
  },
  {
   "cell_type": "code",
   "execution_count": 76,
   "id": "c784437c-1f52-4570-a788-09fea2b8acfb",
   "metadata": {},
   "outputs": [
    {
     "data": {
      "text/plain": [
       "2"
      ]
     },
     "execution_count": 76,
     "metadata": {},
     "output_type": "execute_result"
    }
   ],
   "source": [
    "True + True"
   ]
  },
  {
   "cell_type": "code",
   "execution_count": 77,
   "id": "343b480d-7d84-4934-865f-ddc8b9b395f1",
   "metadata": {},
   "outputs": [
    {
     "data": {
      "text/plain": [
       "0.0"
      ]
     },
     "execution_count": 77,
     "metadata": {},
     "output_type": "execute_result"
    }
   ],
   "source": [
    "False / True"
   ]
  },
  {
   "attachments": {},
   "cell_type": "markdown",
   "id": "20f7b344-5e4e-42e7-b880-8e6170e377c3",
   "metadata": {},
   "source": [
    "Ein Vergleich ist ein Ausdruck mit zwei Operanden und einem Vergleichsoperator\n",
    "in der Mitte. Die beiden Operanden können auch unterschiedliche Datentypen\n",
    "haben, dann muss der Vergleichsoperator aber sinnvoll für diese Datentypen\n",
    "definiert sein. Z.B. darf man einen Integer mit einem Float vergleichen `3 <\n",
    "17.2`, aber `3 < 'vier'`ist nicht sinnvoll und undefiniert. Es gibt die\n",
    "folgenden Vergleichsoperatoren in Python:\n",
    "\n",
    "* `<` kleiner\n",
    "* `<=` kleiner oder gleich\n",
    "* `>` größer\n",
    "* `>=` größer oder gleich\n",
    "* `==`gleich\n",
    "* `!=` ungleich\n",
    "* `not` Umkehrung/Verneinung\n",
    "\n",
    "Im interaktiven Modus können wir leicht den Wahrheitsgehalt von Vergleichen\n",
    "überprüfen."
   ]
  },
  {
   "cell_type": "code",
   "execution_count": 78,
   "id": "cd186a02-3b68-4f51-aa1f-52fc49aa6485",
   "metadata": {},
   "outputs": [
    {
     "data": {
      "text/plain": [
       "True"
      ]
     },
     "execution_count": 78,
     "metadata": {},
     "output_type": "execute_result"
    }
   ],
   "source": [
    "x = 30          \n",
    "x > 15          "
   ]
  },
  {
   "cell_type": "code",
   "execution_count": 79,
   "id": "e1fe2db6-b7c5-4001-8db9-4e623e053969",
   "metadata": {},
   "outputs": [
    {
     "data": {
      "text/plain": [
       "False"
      ]
     },
     "execution_count": 79,
     "metadata": {},
     "output_type": "execute_result"
    }
   ],
   "source": [
    "x > 42"
   ]
  },
  {
   "cell_type": "code",
   "execution_count": 80,
   "id": "cabb739c-284c-4e4f-a749-33b9d9408104",
   "metadata": {},
   "outputs": [
    {
     "data": {
      "text/plain": [
       "True"
      ]
     },
     "execution_count": 80,
     "metadata": {},
     "output_type": "execute_result"
    }
   ],
   "source": [
    "x == 30    "
   ]
  },
  {
   "cell_type": "code",
   "execution_count": 81,
   "id": "e0e7c159-e2d0-4f3e-9efe-27d89cfd0138",
   "metadata": {},
   "outputs": [
    {
     "data": {
      "text/plain": [
       "False"
      ]
     },
     "execution_count": 81,
     "metadata": {},
     "output_type": "execute_result"
    }
   ],
   "source": [
    "x == 42"
   ]
  },
  {
   "cell_type": "code",
   "execution_count": 82,
   "id": "ad3ead1f-2a87-4ade-901b-77136ae28d81",
   "metadata": {},
   "outputs": [
    {
     "data": {
      "text/plain": [
       "True"
      ]
     },
     "execution_count": 82,
     "metadata": {},
     "output_type": "execute_result"
    }
   ],
   "source": [
    "not x == 42 "
   ]
  },
  {
   "cell_type": "code",
   "execution_count": 83,
   "id": "4dfeb65e-fcdd-4cf1-abef-b2073c62ab69",
   "metadata": {},
   "outputs": [
    {
     "data": {
      "text/plain": [
       "True"
      ]
     },
     "execution_count": 83,
     "metadata": {},
     "output_type": "execute_result"
    }
   ],
   "source": [
    "x != 42"
   ]
  },
  {
   "cell_type": "code",
   "execution_count": 84,
   "id": "e3e924fa-7db9-4b45-b7b4-8645d30218ae",
   "metadata": {},
   "outputs": [
    {
     "data": {
      "text/plain": [
       "False"
      ]
     },
     "execution_count": 84,
     "metadata": {},
     "output_type": "execute_result"
    }
   ],
   "source": [
    "x > 30  "
   ]
  },
  {
   "cell_type": "code",
   "execution_count": 85,
   "id": "b2d48ba2-4fc0-4408-a306-c12916290682",
   "metadata": {},
   "outputs": [
    {
     "data": {
      "text/plain": [
       "True"
      ]
     },
     "execution_count": 85,
     "metadata": {},
     "output_type": "execute_result"
    }
   ],
   "source": [
    "x >= 30"
   ]
  },
  {
   "attachments": {},
   "cell_type": "markdown",
   "id": "6818bf38",
   "metadata": {},
   "source": [
    "<iframe width=\"560\" height=\"315\" src=\"https://www.youtube.com/embed/ucsv_Nhhxmk\" title=\"YouTube video player\" frameborder=\"0\" allow=\"accelerometer; autoplay; clipboard-write; encrypted-media; gyroscope; picture-in-picture\" allowfullscreen></iframe>"
   ]
  },
  {
   "attachments": {},
   "cell_type": "markdown",
   "id": "11ffe6e8-384c-4e91-bc9e-1e6bb0fddb0c",
   "metadata": {},
   "source": [
    "## Programmverzweigungen: if — elif — else \n",
    "\n",
    "Bei einer Programmverzweigung wird Code abhängig von einer Bedingung ausgeführt.\n",
    "Dabei kann es sich um einfache Verzweigung wie die Frage: Gehe ich nach rechts\n",
    "oder gehe ich nach links? Oder die Verzweigung kann komplizierter geschachtelt\n",
    "sein.\n",
    "\n",
    "### if-Anweisung\n",
    "Im einfachsten Fall liegt ein `if`-Block vor. Die Syntax lautet wie folgt:\n",
    "\n",
    "```python\n",
    "if bedingung:\n",
    "    anweisungsblock\n",
    "```\n",
    "\n",
    "Ist die Bedingung erfüllt, also `True`, so wird der eingerückte Anweisungsblock\n",
    "ausgeführt, ansonsten übersprungen.\n",
    "\n",
    "Wichtig ist, dass die Anweisung oder mehrere Anweisungen (d.h. der\n",
    "Anweisungsblock) eingerückt ist. Hier kommt eine Python-spezifische Eigenschaft\n",
    "zum Tragen. Der Block wird nicht durch Klammern oder ein begin/end\n",
    "gekennzeichnet, sondern nur durch die Einrückung. Empfehlenswert sind hier vier\n",
    "Leerzeichen. Was immer man wählt, in einer Python-Datei muss stets dieselbe\n",
    "Einrückungstiefe verwendet werden. Daher ist es ungünstig, Tabulatore und\n",
    "Leerzeichen zu mischen, weil man bei Weitergabe des Codes nicht weiß, wie auf\n",
    "dem Zielsystem die Tabulatorbreite definiert ist.\n",
    "\n",
    "Wir betrachten nun ein Beispiel:"
   ]
  },
  {
   "cell_type": "code",
   "execution_count": 86,
   "id": "bc48e415-5c87-4c50-acb6-ee4556991931",
   "metadata": {},
   "outputs": [
    {
     "name": "stdout",
     "output_type": "stream",
     "text": [
      "Sie dürfen Alkohol kaufen.\n",
      "Bananen dürfen Sie immer kaufen, egal wie alt Sie sind ...\n"
     ]
    }
   ],
   "source": [
    "alter = 19\n",
    "if alter >= 18:\n",
    "    print('Sie dürfen Alkohol kaufen.')\n",
    "print('Bananen dürfen Sie immer kaufen, egal wie alt Sie sind ...')"
   ]
  },
  {
   "attachments": {},
   "cell_type": "markdown",
   "id": "6bcda6e5-1a5d-419e-bea4-ab213d765eb9",
   "metadata": {},
   "source": [
    "<iframe width=\"560\" height=\"315\" src=\"https://www.youtube.com/embed/b6KzYbM-Hvg\" title=\"YouTube video player\" frameborder=\"0\" allow=\"accelerometer; autoplay; clipboard-write; encrypted-media; gyroscope; picture-in-picture\" allowfullscreen></iframe>"
   ]
  },
  {
   "attachments": {},
   "cell_type": "markdown",
   "id": "592a948f-485e-4ddf-b013-10ecaa15ec4e",
   "metadata": {},
   "source": [
    "### Mehrteilige Verzweigungen mit elif und else\n",
    "\n",
    "Es gibt auch zweiteilige Programmverzweigungen. Die Syntax wird folgendermaßen\n",
    "erweitert:\n",
    "\n",
    "```python\n",
    "if bedingung:\n",
    "    anweisungsblock 1\n",
    "else:\n",
    "    anweisungsblock 2\n",
    "```\n",
    "\n",
    "Falls die Bedingung erfüllt ist, wird der 1. Anweisungsblock ausgeführt,\n",
    "ansonsten der 2. Anweisungsblock. Danach führt der Python-Interpreter alles nach\n",
    "dem `if-else`-Konstrukt aus. Wichtig ist, dass `if` und `else` die gleiche\n",
    "Einrückungstiefe haben genau wie die beiden Anweisungsblöcke. Bei einer\n",
    "Programmverzweigung wird Code abhängig von einer Bedingung ausgeführt."
   ]
  },
  {
   "cell_type": "code",
   "execution_count": 3,
   "id": "dc92ee2e-a8ce-4ab6-8f23-c1e9a16b2ec6",
   "metadata": {},
   "outputs": [
    {
     "name": "stdout",
     "output_type": "stream",
     "text": [
      "Sie dürfen Alkohol kaufen.\n",
      "Jetzt haben wir aber genug über den Alkoholkauf geredet...\n"
     ]
    }
   ],
   "source": [
    "alter = 21\n",
    "if alter >= 18:\n",
    "    print('Sie dürfen Alkohol kaufen.')\n",
    "else:\n",
    "    print('Sie sind noch nicht volljährig und dürfen daher keinen Alkohol kaufen.')\n",
    "print('Jetzt haben wir aber genug über den Alkoholkauf geredet...')"
   ]
  },
  {
   "attachments": {},
   "cell_type": "markdown",
   "id": "65e2fb6a-d992-46ca-94ca-a14fe3b7ed53",
   "metadata": {},
   "source": [
    "Häufig müssen mehr als zwei Fälle unterschieden werden. Wenn man beispielsweise\n",
    "unterscheiden will, ob eine Zahl negativ oder positiv oder Null ist, verwendet\n",
    "man zusätzlich einen elif-Zweig.\n",
    "\n",
    "Übersichtlicher wird die Programmverzweigung mit der `if-elif-else`-Syntax. `elif`ist die Abkürzung für `else if`. Allgemein sieht das Konstrukt so aus:\n",
    "\n",
    "```python\n",
    "if bedingung 1:\n",
    "    anweisungsblock 1\n",
    "elif bedingung 2:\n",
    "    anweisungsblock 2\n",
    "elif bedingung 3:\n",
    "    anweisungsblock 3\n",
    "    \n",
    "    ...\n",
    "    \n",
    "else:\n",
    "    anweisungsblock n\n",
    "```"
   ]
  },
  {
   "cell_type": "code",
   "execution_count": 90,
   "id": "fef68fde-9684-436e-98ec-4eb2377cd23d",
   "metadata": {},
   "outputs": [
    {
     "name": "stdout",
     "output_type": "stream",
     "text": [
      "a ist positiv.\n"
     ]
    }
   ],
   "source": [
    "a = 17\n",
    "if a == 0:\n",
    "    print(\"a ist Null.\")\n",
    "elif a < 0:\n",
    "    print(\"a ist negativ.\")\n",
    "else:\n",
    "    print(\"a ist positiv.\")"
   ]
  },
  {
   "attachments": {},
   "cell_type": "markdown",
   "id": "2f0232b1-376c-4f67-8639-edfc7bea657b",
   "metadata": {},
   "source": [
    "<iframe width=\"560\" height=\"315\" src=\"https://www.youtube.com/embed/f3YdEdYSNdk\" title=\"YouTube video player\" frameborder=\"0\" allow=\"accelerometer; autoplay; clipboard-write; encrypted-media; gyroscope; picture-in-picture\" allowfullscreen></iframe>"
   ]
  }
 ],
 "metadata": {
  "jupytext": {
   "formats": "ipynb,md:myst"
  },
  "kernelspec": {
   "display_name": "Python 3.9.13 ('python39')",
   "language": "python",
   "name": "python3"
  },
  "language_info": {
   "codemirror_mode": {
    "name": "ipython",
    "version": 3
   },
   "file_extension": ".py",
   "mimetype": "text/x-python",
   "name": "python",
   "nbconvert_exporter": "python",
   "pygments_lexer": "ipython3",
   "version": "3.9.13"
  },
  "vscode": {
   "interpreter": {
    "hash": "1863971d65633e53ca5b74972b86a14fab6d597ce2ac84dc984546545d2d3a9b"
   }
  }
 },
 "nbformat": 4,
 "nbformat_minor": 5
}
