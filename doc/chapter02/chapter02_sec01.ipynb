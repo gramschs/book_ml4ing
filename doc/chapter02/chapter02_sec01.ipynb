{
 "cells": [
  {
   "attachments": {},
   "cell_type": "markdown",
   "id": "1ccc9877-77da-4640-98db-7c030646c903",
   "metadata": {},
   "source": [
    "# Datentypen, Variablen und Vergleiche\n",
    "\n",
    "Beim maschinellen Lernen geht es um Daten und Algorithmen. Dabei können die\n",
    "Daten alles Mögliche umfassen. Daher beschäftigen wir uns zuerst mit Datentypen.\n",
    "Dann geht es um Variablen und deren Ausgabe auf dem Bildschirm.\n",
    "\n",
    "## Lernziele\n",
    "\n",
    "```{admonition} Lernziele\n",
    ":class: important\n",
    "* Sie kennen die einfachen Datentypen:\n",
    "    * **Integer**\n",
    "    * **Float**\n",
    "    * **String**\n",
    "* Sie wissen, was eine **Variable** ist und kennen den **Zuweisungsoperator**.\n",
    "* Sie können den **print**-Befehl zur Ausgabe auf dem Bildschirm anwenden.\n",
    "```"
   ]
  },
  {
   "attachments": {},
   "cell_type": "markdown",
   "id": "c94194c3-3a39-47dc-a8a3-92266123a7f2",
   "metadata": {},
   "source": [
    "## Einfache Datentypen\n",
    "\n",
    "Im datengestützten Prozessmanagement geht es um die Sammlung, Erkundung und\n",
    "Analyse von Daten, um Antworten auf vorgegebene Fragen zu finden. Schematisch stellen wir\n",
    "datengestütztes Prozessmanagement folgendermaßen dar:\n",
    "\n",
    "```{figure} pics/fig01_prozess.png\n",
    "---\n",
    "width: 600px\n",
    "name: fig01_prozess\n",
    "---\n",
    "Schematische Darstellung der Vorgehensweise im datengestützten Prozessmanagement\n",
    "```"
   ]
  },
  {
   "attachments": {},
   "cell_type": "markdown",
   "id": "1d036c98-eccd-4d4b-a646-0c4f5af06133",
   "metadata": {},
   "source": [
    "Der Computer kann Informationen aber nur als 0 und 1 verarbeiten. Auf dem\n",
    "Speichermedium oder im Speicher selbst werden Daten daher als eine Folge von 0\n",
    "und 1 gespeichert. Damit es für uns Programmierinnen und Programmier einfacher\n",
    "wird, Daten zu speichern und zu verarbeiten, wurden Datentypen eingeführt.  \n",
    "\n",
    "**Datentypen** fassen gleichartige Objekte zusammen und stellen den\n",
    "Programmiererinnen und Programmieren passende Operationen zur Verfügung. Es\n",
    "hängt von der Programmiersprache ab, welche Datentypen zur Verfügung stehen, wie\n",
    "diese im Hintergrund gespeichtert werden und welche Operationen möglich sind.\n",
    "\n",
    "In diesem Kapitel beschäftigen wir uns mit den einfachen Datentypen\n",
    "* Integer,\n",
    "* Float und\n",
    "* String."
   ]
  },
  {
   "attachments": {},
   "cell_type": "markdown",
   "id": "4ab11f61-b6b9-4407-acc3-36e47defab86",
   "metadata": {},
   "source": [
    "### Integer und Float \n",
    "\n",
    "In der Programmierung unterscheidet man grundsätzlich zwischen zwei Zahlenarten,\n",
    "den Ganzzahlen und den Gleitkommazahlen/Fließkommazahlen. Die Ganzzahlen werden\n",
    "in der Mathematik als ganze Zahlen bezeichnet. In der Informatik ist der\n",
    "englische Begriff am gebräuchlisten: Integer. \n",
    "\n",
    "Mit Integern können wir ganz normal rechnen, also Operationen ausführen:"
   ]
  },
  {
   "cell_type": "code",
   "execution_count": 48,
   "id": "f3dd704c-9e86-417e-bb06-eb4e9a631641",
   "metadata": {},
   "outputs": [
    {
     "data": {
      "text/plain": [
       "5"
      ]
     },
     "execution_count": 48,
     "metadata": {},
     "output_type": "execute_result"
    }
   ],
   "source": [
    "2+3"
   ]
  },
  {
   "cell_type": "code",
   "execution_count": 49,
   "id": "dda175d8-20d9-4272-ad48-55623797d214",
   "metadata": {},
   "outputs": [
    {
     "data": {
      "text/plain": [
       "6"
      ]
     },
     "execution_count": 49,
     "metadata": {},
     "output_type": "execute_result"
    }
   ],
   "source": [
    "2*3"
   ]
  },
  {
   "cell_type": "code",
   "execution_count": 50,
   "id": "78fda040-f9ad-434e-8fe9-bfd06105c7fe",
   "metadata": {},
   "outputs": [
    {
     "data": {
      "text/plain": [
       "-1"
      ]
     },
     "execution_count": 50,
     "metadata": {},
     "output_type": "execute_result"
    }
   ],
   "source": [
    "6-7"
   ]
  },
  {
   "cell_type": "code",
   "execution_count": 51,
   "id": "bdf13cec-b6d5-489a-98cc-ee268d4a8e29",
   "metadata": {},
   "outputs": [
    {
     "data": {
      "text/plain": [
       "33"
      ]
     },
     "execution_count": 51,
     "metadata": {},
     "output_type": "execute_result"
    }
   ],
   "source": [
    "3*(4+7)"
   ]
  },
  {
   "cell_type": "code",
   "execution_count": 52,
   "id": "846cd00c-49b5-454e-b068-fb35cb16b1c5",
   "metadata": {},
   "outputs": [
    {
     "data": {
      "text/plain": [
       "5.0"
      ]
     },
     "execution_count": 52,
     "metadata": {},
     "output_type": "execute_result"
    }
   ],
   "source": [
    "25/5"
   ]
  },
  {
   "cell_type": "code",
   "execution_count": 53,
   "id": "118cf409-fa4c-4c74-8fc7-a1407a7eacbe",
   "metadata": {},
   "outputs": [
    {
     "data": {
      "text/plain": [
       "16"
      ]
     },
     "execution_count": 53,
     "metadata": {},
     "output_type": "execute_result"
    }
   ],
   "source": [
    "4**2"
   ]
  },
  {
   "attachments": {},
   "cell_type": "markdown",
   "id": "efdaa19a-bacb-485d-9cd4-640df86ca820",
   "metadata": {},
   "source": [
    "Mit einer Operation verlassen wir aber bereits den Bereich der ganzen Zahlen,\n",
    "den Bereich der Integers. `25/5` ist wieder eine ganze Zahl, nicht jedoch\n",
    "`25/3`. Damit sind wir bei den Fließkommazahlen, den sogenannten Floats. Zur\n",
    "Verfügung stehen auch hier die üblichen Operationen.\n",
    "\n",
    "Achtung: Verwenden Sie stets einen Punkt als Dezimaltrennzeichen, nicht ein\n",
    "Komma."
   ]
  },
  {
   "cell_type": "code",
   "execution_count": 54,
   "id": "44f3a2af-b100-428a-ba5d-27c7357a3a89",
   "metadata": {},
   "outputs": [
    {
     "data": {
      "text/plain": [
       "6.8"
      ]
     },
     "execution_count": 54,
     "metadata": {},
     "output_type": "execute_result"
    }
   ],
   "source": [
    "2.3 + 4.5"
   ]
  },
  {
   "cell_type": "code",
   "execution_count": 55,
   "id": "5d30a071-ada1-4937-9da0-bbe056d18dcc",
   "metadata": {},
   "outputs": [
    {
     "data": {
      "text/plain": [
       "3.4999999999999996"
      ]
     },
     "execution_count": 55,
     "metadata": {},
     "output_type": "execute_result"
    }
   ],
   "source": [
    "5.6 - 2.1"
   ]
  },
  {
   "cell_type": "code",
   "execution_count": 56,
   "id": "a4d79673-3c41-4874-952c-1e726c5b70ef",
   "metadata": {},
   "outputs": [
    {
     "data": {
      "text/plain": [
       "7.3500000000000005"
      ]
     },
     "execution_count": 56,
     "metadata": {},
     "output_type": "execute_result"
    }
   ],
   "source": [
    "2.1 * 3.5"
   ]
  },
  {
   "cell_type": "code",
   "execution_count": 57,
   "id": "5dda37fe-e6c6-4b66-9d78-b98d7122f208",
   "metadata": {},
   "outputs": [
    {
     "data": {
      "text/plain": [
       "2.0"
      ]
     },
     "execution_count": 57,
     "metadata": {},
     "output_type": "execute_result"
    }
   ],
   "source": [
    "3.4 / 1.7"
   ]
  },
  {
   "cell_type": "code",
   "execution_count": 58,
   "id": "62e0eac0-a7f6-46df-bb23-2e151f8804b3",
   "metadata": {},
   "outputs": [
    {
     "data": {
      "text/plain": [
       "11.559999999999999"
      ]
     },
     "execution_count": 58,
     "metadata": {},
     "output_type": "execute_result"
    }
   ],
   "source": [
    "3.4 ** 2"
   ]
  },
  {
   "cell_type": "code",
   "execution_count": 59,
   "id": "4c5d0bd2-ecc6-486c-b140-4c164be3cb4b",
   "metadata": {},
   "outputs": [
    {
     "data": {
      "text/plain": [
       "2.1000000000000005"
      ]
     },
     "execution_count": 59,
     "metadata": {},
     "output_type": "execute_result"
    }
   ],
   "source": [
    "3.5 * (2.6 - 3.8 / 1.9)"
   ]
  },
  {
   "attachments": {},
   "cell_type": "markdown",
   "id": "ba806e27-f84b-4cae-9305-ff69d03ed358",
   "metadata": {},
   "source": [
    "<iframe width=\"560\" height=\"315\" src=\"https://www.youtube.com/embed/VtiDkRDPA_c\" title=\"YouTube video player\" frameborder=\"0\" allow=\"accelerometer; autoplay; clipboard-write; encrypted-media; gyroscope; picture-in-picture\" allowfullscreen></iframe>"
   ]
  },
  {
   "attachments": {},
   "cell_type": "markdown",
   "id": "d5baae24-1c32-43b0-a754-27bc66ac5152",
   "metadata": {},
   "source": [
    "### String\n",
    "\n",
    "Daten sind aber sehr oft keine Zahlen. Beispielsweise könnte man sich\n",
    "vorstellen, eine Einkaufsliste zu erstellen und diese im Computer oder in einer\n",
    "Notiz-App auf dem Handy zu speichern. Eine solche Zeichenkette heißt in der\n",
    "Informatik String. Mit Zeichen meint man dabei Zahlen, Buchstaben oder andere\n",
    "Zeichen wie beispielsweise !\"§$%&/()=?.\n",
    "\n",
    "Strings werden in Python durch einfache Hochkomma oder Anführungszeichen\n",
    "definiert."
   ]
  },
  {
   "cell_type": "code",
   "execution_count": 2,
   "id": "5b6093af-39e2-4c7d-a825-d5561e889133",
   "metadata": {},
   "outputs": [
    {
     "data": {
      "text/plain": [
       "'Dies ist ein String!'"
      ]
     },
     "execution_count": 2,
     "metadata": {},
     "output_type": "execute_result"
    }
   ],
   "source": [
    "'Dies ist ein String!'"
   ]
  },
  {
   "attachments": {},
   "cell_type": "markdown",
   "id": "df0e9d9c-d42f-40eb-a875-53632d778061",
   "metadata": {},
   "source": [
    "Mit Strings kann man ebenfalls \"rechnen\", nur ist das Ergebnis vielleicht anders als erwartet."
   ]
  },
  {
   "cell_type": "code",
   "execution_count": 61,
   "id": "b45c2689-b0cd-4a0d-966b-6ded425ce0c0",
   "metadata": {},
   "outputs": [
    {
     "data": {
      "text/plain": [
       "'Dies ist ein String!Dies ist ein String!'"
      ]
     },
     "execution_count": 61,
     "metadata": {},
     "output_type": "execute_result"
    }
   ],
   "source": [
    "2 * 'Dies ist ein String!'"
   ]
  },
  {
   "cell_type": "code",
   "execution_count": 62,
   "id": "39fc5269-c28c-4125-907f-00801da29601",
   "metadata": {},
   "outputs": [
    {
     "data": {
      "text/plain": [
       "'String 1 String 2'"
      ]
     },
     "execution_count": 62,
     "metadata": {},
     "output_type": "execute_result"
    }
   ],
   "source": [
    "'String 1 ' + 'String 2' "
   ]
  },
  {
   "attachments": {},
   "cell_type": "markdown",
   "id": "1d825b63",
   "metadata": {},
   "source": [
    "<iframe width=\"560\" height=\"315\" src=\"https://www.youtube.com/embed/sTEf4_mrLvw\" title=\"YouTube video player\" frameborder=\"0\" allow=\"accelerometer; autoplay; clipboard-write; encrypted-media; gyroscope; picture-in-picture\" allowfullscreen></iframe>\n",
    "\n",
    "\n",
    "\n",
    "\n",
    "## Variablen \n",
    "\n",
    "Variablen sind beschriftete Schubladen. Oder anders formuliert sind Variablen\n",
    "Objekte, denen man einen Namen gibt. Technisch gesehen sind diese Schubladen ein\n",
    "kleiner Bereich im Arbeitsspeicher des Computers. Was in diesen Schubladen\n",
    "aufbewahrt wird, kann sehr unterschiedlich sein. Beispielsweise die\n",
    "Telefonnummer des ADAC-Pannendienstes, die 10. Nachkommastelle von Pi oder die\n",
    "aktuelle Position des Mauszeigers können in den Schubladen enthalten sein. \n",
    "\n",
    "### Zuweisung\n",
    "\n",
    "Wir verwenden Variablen, um bestimmte Werte oder ein bestimmtes Objekt zu\n",
    "speichern. Eine Variable wird durch Zuweisung erzeugt. Damit meinen wir, dass\n",
    "eine Schublade angelegt wird und die Schublade dann erstmalig gefüllt wird. Das\n",
    "erstmalige Füllen der Schublade nennt man in der Informatik auch Initialisieren."
   ]
  },
  {
   "cell_type": "code",
   "execution_count": 63,
   "id": "16cdeadb-d1aa-4ce4-8a6e-30823fe12112",
   "metadata": {},
   "outputs": [],
   "source": [
    "x = 0.5"
   ]
  },
  {
   "attachments": {},
   "cell_type": "markdown",
   "id": "19981240-0b6f-42e9-abc6-4766865f5952",
   "metadata": {},
   "source": [
    "Sobald die Variable `x` in diesem Beispiel durch eine Zuweisung von 0.5 erstellt\n",
    "wurde, können wir sie verwenden:"
   ]
  },
  {
   "cell_type": "code",
   "execution_count": 64,
   "id": "436eebac-ef52-40d6-abc5-9016cb41c868",
   "metadata": {},
   "outputs": [
    {
     "data": {
      "text/plain": [
       "1.5"
      ]
     },
     "execution_count": 64,
     "metadata": {},
     "output_type": "execute_result"
    }
   ],
   "source": [
    "x * 3"
   ]
  },
  {
   "cell_type": "code",
   "execution_count": 65,
   "id": "6bd9716d-b9c6-4653-86cd-a25782061059",
   "metadata": {},
   "outputs": [
    {
     "data": {
      "text/plain": [
       "17.5"
      ]
     },
     "execution_count": 65,
     "metadata": {},
     "output_type": "execute_result"
    }
   ],
   "source": [
    "x + 17"
   ]
  },
  {
   "attachments": {},
   "cell_type": "markdown",
   "id": "43a94202-6f41-4b61-b687-d85ad8aafed1",
   "metadata": {},
   "source": [
    "<iframe width=\"560\" height=\"315\" src=\"https://www.youtube.com/embed/jfOLXKPGXJ0\" title=\"YouTube video player\" frameborder=\"0\" allow=\"accelerometer; autoplay; clipboard-write; encrypted-media; gyroscope; picture-in-picture\" allowfullscreen></iframe>\n",
    "\n",
    "Wichtig ist, dass das `=` in der Informatik eine andere Bedeutung hat als in der\n",
    "Mathematik. `=` meint nicht das Gleichheitszeichen, sondern den sogenannten\n",
    "**Zuweisungsoperator**. Das ist in der Programmierung ein Kommando, das eine\n",
    "Schublade befüllt oder technischer ausgedrückt, ein Objekt einer Variable\n",
    "zuweist.\n",
    "\n",
    "Variablen müssen initalisiert (erstmalig mit einem Wert versehen) werden, bevor\n",
    "sie verwendet werden können, sonst tritt ein Fehler auf:\n",
    "\n",
    "Schreiben Sie in die folgende Code-Zelle `n` und lassen Sie sie ausführen. Was\n",
    "passiert?"
   ]
  },
  {
   "cell_type": "code",
   "execution_count": 4,
   "id": "3bbfab07-fb78-44d1-9721-f5a61bd2c4de",
   "metadata": {},
   "outputs": [],
   "source": [
    "# Hier Ihr Code"
   ]
  },
  {
   "attachments": {},
   "cell_type": "markdown",
   "id": "5bcb9896-664b-4ec2-979d-92bf6fc90db5",
   "metadata": {},
   "source": [
    "Sehr häufig findet man Code wie"
   ]
  },
  {
   "cell_type": "code",
   "execution_count": 67,
   "id": "72e82bf9-1055-49c7-bf10-c389835403e3",
   "metadata": {},
   "outputs": [],
   "source": [
    "x = x + 1"
   ]
  },
  {
   "attachments": {},
   "cell_type": "markdown",
   "id": "0033ac58-6f54-4a81-8baf-ace9747b0091",
   "metadata": {},
   "source": [
    "Würden wir dies als Gleichung lesen, wie wir es aus der Mathematik gewohnt sind,\n",
    "x = x + 1, könnten wir x auf beiden Seiten subtrahieren und erhalten 0 = 1. Wir\n",
    "wissen, dass dies nicht wahr ist, also stimmt hier etwas nicht.\n",
    "\n",
    "In Python sind \"Gleichungen\" keine mathematischen Gleichungen, sondern\n",
    "Zuweisungen. \"=\" ist kein Gleichheitszeichen im mathematischen Sinne, sondern\n",
    "eine Zuweisung. Die Zuweisung muss immer in der folgenden Weise zweistufig\n",
    "gelesen werden:\n",
    "\n",
    "1. Berechne den Wert auf der rechten Seite (also x+1).\n",
    "2. Weise den Wert auf der rechten Seite dem auf der linken Seite stehenden\n",
    "   Variablennamen zu (in Python-Sprechweise: binde dem Namen auf der linken\n",
    "   Seite an das auf der rechten Seite angezeigte Objekt)."
   ]
  },
  {
   "cell_type": "code",
   "execution_count": 68,
   "id": "a3a18f3c-1846-436c-9bde-f8c7c21f54f6",
   "metadata": {},
   "outputs": [
    {
     "data": {
      "text/plain": [
       "5"
      ]
     },
     "execution_count": 68,
     "metadata": {},
     "output_type": "execute_result"
    }
   ],
   "source": [
    "x = 4     \n",
    "x = x + 1\n",
    "x"
   ]
  },
  {
   "attachments": {},
   "cell_type": "markdown",
   "id": "9c58a312-b977-4046-a8cf-7e825407730b",
   "metadata": {},
   "source": [
    "### Richtlinien für Variablennamen:\n",
    "\n",
    "Früher war der Speicherplatz von Computern klein, daher wurden häufig nur kurze\n",
    "Variablennamen wie beispielsweise `i` oder `N` verwendet. Heutzutage ist es\n",
    "Standard, nur in Ausnahmefällen (z.B. in Schleifen, dazu kommen wir noch) kurze\n",
    "Variablennamen zu nehmen. Stattdessen werden Namen benutzt, bei denen man\n",
    "erraten kann, was die Variable für einen Einsatzzweck hat. Beispielsweise lässt\n",
    "der Code"
   ]
  },
  {
   "cell_type": "code",
   "execution_count": 69,
   "id": "28581549-e1ba-4705-89dd-fa4cea90f633",
   "metadata": {},
   "outputs": [
    {
     "name": "stdout",
     "output_type": "stream",
     "text": [
      "95.2\n"
     ]
    }
   ],
   "source": [
    "m = 0.19\n",
    "n = 80\n",
    "b = n + m*n\n",
    "print(b)"
   ]
  },
  {
   "attachments": {},
   "cell_type": "markdown",
   "id": "a1bac0a2-291c-4778-bb5a-6a574ee6da04",
   "metadata": {},
   "source": [
    "nur schwer vermuten, was damit bezweckt wird. Dagegen erahnt man bei diesem Code\n",
    "schon eher, was bezweckt wird:"
   ]
  },
  {
   "cell_type": "code",
   "execution_count": 70,
   "id": "2ecb7a77-a9a7-4d1e-a44f-df5d20ee3088",
   "metadata": {},
   "outputs": [
    {
     "name": "stdout",
     "output_type": "stream",
     "text": [
      "95.2\n"
     ]
    }
   ],
   "source": [
    "mehrwertsteuersatz = 19/100\n",
    "nettopreis = 80\n",
    "bruttopreis = nettopreis + mehrwertsteuersatz * nettopreis\n",
    "print(bruttopreis)"
   ]
  },
  {
   "attachments": {},
   "cell_type": "markdown",
   "id": "69951a63-c4f7-4111-b318-989ba94845d2",
   "metadata": {},
   "source": [
    "Verwenden Sie für Variablennamen nur ASCII-Zeichen, also keine Umlaute wie ö, ü\n",
    "oder ß. Zahlen sind erlaubt, aber nicht am Anfang des Namens. Es ist sinnvoll,\n",
    "lange Variablen durch einen Unterstrich besser lesbar zu gestalten (sogenannte\n",
    "Snake-Case-Formatierung). Ich empfehle für Variablennamen beispielsweise\n",
    "\n",
    "`dateiname_alt` oder `dateiname_neu`\n",
    "\n",
    "wenn beispielsweise eine Datei umbenannt wird. Sie sind frei in der Gestaltung\n",
    "der Variablennamen, verboten sind nur die sogannnten Schlüsselwörter."
   ]
  },
  {
   "attachments": {},
   "cell_type": "markdown",
   "id": "36b73bf4-736e-4bc7-ab0d-59a7b6a161d9",
   "metadata": {},
   "source": [
    "Bemerkung: Hier kam erstmalig auch eine eingebaute Python-Funktion zum Einsatz,\n",
    "die `print()`-Anweisung. Mehr Details zur `print()`-Anweisung finden Sie in der \n",
    "[Python-Dokumentation/inputoutput](https://docs.python.org/3/tutorial/inputoutput.html)."
   ]
  },
  {
   "attachments": {},
   "cell_type": "markdown",
   "id": "33126b2e-601b-4bc4-a033-55a3f8051258",
   "metadata": {},
   "source": [
    "<iframe width=\"560\" height=\"315\" src=\"https://www.youtube.com/embed/XKFQ2_et5k8\" title=\"YouTube video player\" frameborder=\"0\" allow=\"accelerometer; autoplay; clipboard-write; encrypted-media; gyroscope; picture-in-picture\" allowfullscreen></iframe>"
   ]
  },
  {
   "attachments": {},
   "cell_type": "markdown",
   "id": "e245073a-4ebd-44a4-9122-7149b73800d6",
   "metadata": {},
   "source": [
    "### Mischen von Datentypen \n",
    "\n",
    "Werden zwei Integer geteilt, so wird das Ergebnis vom Datentyp automatisch in\n",
    "einen Float umgewandelt. Mit Hilfe der Funktion `type()` können wir den\n",
    "Python-Interpreter bestimmen lassen, welcher Datentyp in einer Variable\n",
    "gespeichert ist."
   ]
  },
  {
   "cell_type": "code",
   "execution_count": 71,
   "id": "356d6b5a-5637-43d8-8cb3-a15daf35b1d1",
   "metadata": {},
   "outputs": [
    {
     "data": {
      "text/plain": [
       "int"
      ]
     },
     "execution_count": 71,
     "metadata": {},
     "output_type": "execute_result"
    }
   ],
   "source": [
    "x = 25 * 5\n",
    "type(x)"
   ]
  },
  {
   "cell_type": "code",
   "execution_count": 72,
   "id": "a9223bbf-dde2-4590-9e7b-fbfaa59d98cd",
   "metadata": {},
   "outputs": [
    {
     "data": {
      "text/plain": [
       "float"
      ]
     },
     "execution_count": 72,
     "metadata": {},
     "output_type": "execute_result"
    }
   ],
   "source": [
    "x = 25 / 5\n",
    "type(x)"
   ]
  },
  {
   "attachments": {},
   "cell_type": "markdown",
   "id": "c42a18d5-f25a-4125-add9-1ed04d20be00",
   "metadata": {},
   "source": [
    "Nicht immer ist es aber möglich, Datentypen zu mischen. Dann meldet Python einen\n",
    "Fehler.\n",
    "\n",
    "<iframe width=\"560\" height=\"315\" src=\"https://www.youtube.com/embed/1WqFJ5wsA4o\" title=\"YouTube video player\" frameborder=\"0\" allow=\"accelerometer; autoplay; clipboard-write; encrypted-media; gyroscope; picture-in-picture\" allowfullscreen></iframe>\n",
    "\n",
    "### Typumwandlungen (Type Casting)\n",
    "\n",
    "Es ist aber auch möglich, einen Datentyp explizit in einen anderen Datentyp\n",
    "umzuwandeln. Informatiker sagen dazu, einen Type Cast vorzunehmen. Soll ein\n",
    "Datentyp in einen Integer umgewandelt werden, so verwenden wir die Funktion\n",
    "`int()`. Die Umwandlung in einen Float erfolgt per `float()` und in einen String\n",
    "wandeln wir mit Hilfe der Funktion `str()` um. Das klappt nicht mit jedem\n",
    "Variableninhalt, die Umwandlung muss machbar sein, wie die folgenden Beispiele\n",
    "zeigen."
   ]
  },
  {
   "cell_type": "code",
   "execution_count": 73,
   "id": "976c12ad-2f19-4158-8b43-2845da382c1e",
   "metadata": {},
   "outputs": [
    {
     "data": {
      "text/plain": [
       "str"
      ]
     },
     "execution_count": 73,
     "metadata": {},
     "output_type": "execute_result"
    }
   ],
   "source": [
    "x_old = 3\n",
    "x_new = str(x_old)\n",
    "type(x_new)"
   ]
  },
  {
   "cell_type": "code",
   "execution_count": 74,
   "id": "b2ad3ab7-b1cd-403c-bc88-6294787c5658",
   "metadata": {},
   "outputs": [
    {
     "data": {
      "text/plain": [
       "int"
      ]
     },
     "execution_count": 74,
     "metadata": {},
     "output_type": "execute_result"
    }
   ],
   "source": [
    "x_old = '3'\n",
    "x_new = int(x_old)\n",
    "type(x_new)"
   ]
  },
  {
   "attachments": {},
   "cell_type": "markdown",
   "id": "53a18963-9fa3-4a1b-bce4-ee2c9ca26abc",
   "metadata": {},
   "source": [
    "Der folgende Code ist in Markdown geschrieben, da ansonsten eine Fehlermeldung\n",
    "erzeugt würde:\n",
    "\n",
    "```python\n",
    "x_old = 'drei'\n",
    "x_new = int(x_old)\n",
    "type(x_new)\n",
    "```"
   ]
  },
  {
   "attachments": {},
   "cell_type": "markdown",
   "id": "e3082bcb-e370-4b6b-b78c-2f0a1f562297",
   "metadata": {},
   "source": [
    "<iframe width=\"560\" height=\"315\" src=\"https://www.youtube.com/embed/u_ECGvn1Z2c\" title=\"YouTube video player\" frameborder=\"0\" allow=\"accelerometer; autoplay; clipboard-write; encrypted-media; gyroscope; picture-in-picture\" allowfullscreen></iframe>\n",
    "\n",
    "## Zusammenfassung\n",
    "\n",
    "In diesem Abschnitt haben wir gelernt, was ein Datentyp ist und wie eine\n",
    "Variable mit einem Wert gefüllt wird. Im nächsten Abschnitt geht es um einen\n",
    "weiteren Datentyp namens Bool und darum, wie durch Vergleiche das Programm vom\n",
    "Ablauf her verzweigt wird."
   ]
  }
 ],
 "metadata": {
  "jupytext": {
   "formats": "ipynb,md:myst"
  },
  "kernelspec": {
   "display_name": "Python 3 (ipykernel)",
   "language": "python",
   "name": "python3"
  },
  "language_info": {
   "codemirror_mode": {
    "name": "ipython",
    "version": 3
   },
   "file_extension": ".py",
   "mimetype": "text/x-python",
   "name": "python",
   "nbconvert_exporter": "python",
   "pygments_lexer": "ipython3",
   "version": "3.9.13"
  },
  "vscode": {
   "interpreter": {
    "hash": "1863971d65633e53ca5b74972b86a14fab6d597ce2ac84dc984546545d2d3a9b"
   }
  }
 },
 "nbformat": 4,
 "nbformat_minor": 5
}
