{
 "cells": [
  {
   "cell_type": "markdown",
   "id": "1ccc9877-77da-4640-98db-7c030646c903",
   "metadata": {},
   "source": [
    "# Woche 02 - Python\n",
    "\n",
    "In dieser Woche werden wir uns mit den Themen\n",
    "* Datentypen\n",
    "* Variablen\n",
    "* Kontrollstrukturen\n",
    "\n",
    "beschäftigen.\n"
   ]
  },
  {
   "cell_type": "markdown",
   "id": "c94194c3-3a39-47dc-a8a3-92266123a7f2",
   "metadata": {},
   "source": [
    "## Datentypen - Einführung\n",
    "\n",
    "Im datengestützten Prozessmanagement geht es um die Sammlung, Erkundung und Analyse, um Antworten auf vorgegebene Fragen zu finden. Schematisch stellen wir datengestütztes Prozessmanagement folgendermaßen dar:\n",
    "\n"
   ]
  },
  {
   "cell_type": "markdown",
   "id": "1d036c98-eccd-4d4b-a646-0c4f5af06133",
   "metadata": {},
   "source": [
    "Der Computer kann Informationen aber nur als 0 und 1 verarbeiten. Auf dem Speichermedium oder im Speicher selbst werden Daten daher als eine Folge von 0 und 1 gespeichert. Damit es für uns Programmierinnen und Programmier einfacher wird, Daten zu speichern und zu verarbeiten, wurden Datentypen eingeführt.  \n",
    "\n",
    "Datentypen fassen gleichartige Objekte zusammen und stellen den Programmiererinnen und Programmieren passende Operationen zur Verfügung. Es hängt von der Programmiersprache ab, welche Datentypen zur Verfügung stehen, wie diese im Hintergrund gespeichtert werden und welche Operationen möglich sind.\n",
    "\n",
    "Diese Woche beschäftigen wir uns mit den einfachen Datentypen\n",
    "* Integer\n",
    "* Float\n",
    "* String\n",
    "* Bool"
   ]
  },
  {
   "cell_type": "markdown",
   "id": "4ab11f61-b6b9-4407-acc3-36e47defab86",
   "metadata": {},
   "source": [
    "## Datentypen Integer und Float \n",
    "\n",
    "In der Programmierung unterscheidet man grundsätzlich zwischen zwei Zahlenarten, den Ganzzahlen und den Gleitkommazahlen/Fließkommazahlen. Die Ganzzahlen werden in der Mathematik als ganze Zahlen bezeichnet. In der Informatik ist der englische Begriff am gebräuchlisten: Integer. \n",
    "\n",
    "Mit Integern können wir ganz normal rechnen, also Operationen ausführen:"
   ]
  },
  {
   "cell_type": "code",
   "execution_count": 48,
   "id": "f3dd704c-9e86-417e-bb06-eb4e9a631641",
   "metadata": {},
   "outputs": [
    {
     "data": {
      "text/plain": [
       "5"
      ]
     },
     "execution_count": 48,
     "metadata": {},
     "output_type": "execute_result"
    }
   ],
   "source": [
    "2+3"
   ]
  },
  {
   "cell_type": "code",
   "execution_count": 49,
   "id": "dda175d8-20d9-4272-ad48-55623797d214",
   "metadata": {},
   "outputs": [
    {
     "data": {
      "text/plain": [
       "6"
      ]
     },
     "execution_count": 49,
     "metadata": {},
     "output_type": "execute_result"
    }
   ],
   "source": [
    "2*3"
   ]
  },
  {
   "cell_type": "code",
   "execution_count": 50,
   "id": "78fda040-f9ad-434e-8fe9-bfd06105c7fe",
   "metadata": {},
   "outputs": [
    {
     "data": {
      "text/plain": [
       "-1"
      ]
     },
     "execution_count": 50,
     "metadata": {},
     "output_type": "execute_result"
    }
   ],
   "source": [
    "6-7"
   ]
  },
  {
   "cell_type": "code",
   "execution_count": 51,
   "id": "bdf13cec-b6d5-489a-98cc-ee268d4a8e29",
   "metadata": {},
   "outputs": [
    {
     "data": {
      "text/plain": [
       "33"
      ]
     },
     "execution_count": 51,
     "metadata": {},
     "output_type": "execute_result"
    }
   ],
   "source": [
    "3*(4+7)"
   ]
  },
  {
   "cell_type": "code",
   "execution_count": 52,
   "id": "846cd00c-49b5-454e-b068-fb35cb16b1c5",
   "metadata": {},
   "outputs": [
    {
     "data": {
      "text/plain": [
       "5.0"
      ]
     },
     "execution_count": 52,
     "metadata": {},
     "output_type": "execute_result"
    }
   ],
   "source": [
    "25/5"
   ]
  },
  {
   "cell_type": "code",
   "execution_count": 53,
   "id": "118cf409-fa4c-4c74-8fc7-a1407a7eacbe",
   "metadata": {},
   "outputs": [
    {
     "data": {
      "text/plain": [
       "16"
      ]
     },
     "execution_count": 53,
     "metadata": {},
     "output_type": "execute_result"
    }
   ],
   "source": [
    "4**2"
   ]
  },
  {
   "cell_type": "markdown",
   "id": "efdaa19a-bacb-485d-9cd4-640df86ca820",
   "metadata": {},
   "source": [
    "Mit einer Operation verlassen wir aber bereits den Bereich der ganzen Zahlen, den Bereich der Integers. `25/5` ist wieder eine ganze Zahl, nicht jedoch  `25/3`. Damit sind wir bei den Fließkommazahlen, den sogenannten Floats. Zur Verfügung stehen auch hier die üblichen Operationen.\n",
    "\n",
    "Achtung: Verwenden Sie stets einen Punkt als Dezimaltrennzeichen, nicht ein Komma."
   ]
  },
  {
   "cell_type": "code",
   "execution_count": 54,
   "id": "44f3a2af-b100-428a-ba5d-27c7357a3a89",
   "metadata": {},
   "outputs": [
    {
     "data": {
      "text/plain": [
       "6.8"
      ]
     },
     "execution_count": 54,
     "metadata": {},
     "output_type": "execute_result"
    }
   ],
   "source": [
    "2.3 + 4.5"
   ]
  },
  {
   "cell_type": "code",
   "execution_count": 55,
   "id": "5d30a071-ada1-4937-9da0-bbe056d18dcc",
   "metadata": {},
   "outputs": [
    {
     "data": {
      "text/plain": [
       "3.4999999999999996"
      ]
     },
     "execution_count": 55,
     "metadata": {},
     "output_type": "execute_result"
    }
   ],
   "source": [
    "5.6 - 2.1"
   ]
  },
  {
   "cell_type": "code",
   "execution_count": 56,
   "id": "a4d79673-3c41-4874-952c-1e726c5b70ef",
   "metadata": {},
   "outputs": [
    {
     "data": {
      "text/plain": [
       "7.3500000000000005"
      ]
     },
     "execution_count": 56,
     "metadata": {},
     "output_type": "execute_result"
    }
   ],
   "source": [
    "2.1 * 3.5"
   ]
  },
  {
   "cell_type": "code",
   "execution_count": 57,
   "id": "5dda37fe-e6c6-4b66-9d78-b98d7122f208",
   "metadata": {},
   "outputs": [
    {
     "data": {
      "text/plain": [
       "2.0"
      ]
     },
     "execution_count": 57,
     "metadata": {},
     "output_type": "execute_result"
    }
   ],
   "source": [
    "3.4 / 1.7"
   ]
  },
  {
   "cell_type": "code",
   "execution_count": 58,
   "id": "62e0eac0-a7f6-46df-bb23-2e151f8804b3",
   "metadata": {},
   "outputs": [
    {
     "data": {
      "text/plain": [
       "11.559999999999999"
      ]
     },
     "execution_count": 58,
     "metadata": {},
     "output_type": "execute_result"
    }
   ],
   "source": [
    "3.4 ** 2"
   ]
  },
  {
   "cell_type": "code",
   "execution_count": 59,
   "id": "4c5d0bd2-ecc6-486c-b140-4c164be3cb4b",
   "metadata": {},
   "outputs": [
    {
     "data": {
      "text/plain": [
       "2.1000000000000005"
      ]
     },
     "execution_count": 59,
     "metadata": {},
     "output_type": "execute_result"
    }
   ],
   "source": [
    "3.5 * (2.6 - 3.8 / 1.9)"
   ]
  },
  {
   "cell_type": "markdown",
   "id": "ba806e27-f84b-4cae-9305-ff69d03ed358",
   "metadata": {},
   "source": [
    "<div class=\"alert alert-block alert-info\">\n",
    "\n",
    "Hier finden Sie das YouTube-Video \"Zahlen\" aus dem Python-Tutorial Crashkurs:\n",
    "> https://www.youtube.com/watch?v=VtiDkRDPA_c&list=PL_pqkvxZ6ho3u8PJAsUU-rOAQ74D0TqZB&index=2\n",
    "\n",
    "</div>"
   ]
  },
  {
   "cell_type": "markdown",
   "id": "d5baae24-1c32-43b0-a754-27bc66ac5152",
   "metadata": {},
   "source": [
    "## Datentyp String\n",
    "\n",
    "Daten sind aber sehr oft keine Zahlen. Beispielsweise könnte man sich vorstellen, eine Einkaufsliste zu erstellen und diese im Computer oder in einer Notiz-App auf dem Handy zu speichern. Eine solche Zeichenkette heißt in der Informatik String. Mit Zeichen meint man dabei Zahlen, Buchstaben oder andere wie beispielsweise !\"§$%&/()=?.\n",
    "\n",
    "Strings werden in Python durch einfache Hochkomma oder Anführungszeichen definiert."
   ]
  },
  {
   "cell_type": "code",
   "execution_count": 60,
   "id": "5b6093af-39e2-4c7d-a825-d5561e889133",
   "metadata": {},
   "outputs": [
    {
     "data": {
      "text/plain": [
       "'Dies ist ein String!'"
      ]
     },
     "execution_count": 60,
     "metadata": {},
     "output_type": "execute_result"
    }
   ],
   "source": [
    "'Dies ist ein String!'"
   ]
  },
  {
   "cell_type": "markdown",
   "id": "df0e9d9c-d42f-40eb-a875-53632d778061",
   "metadata": {},
   "source": [
    "Mit Strings kann man ebenfalls \"rechnen\", nur ist das Ergebnis vielleicht anders als erwartet."
   ]
  },
  {
   "cell_type": "code",
   "execution_count": 61,
   "id": "b45c2689-b0cd-4a0d-966b-6ded425ce0c0",
   "metadata": {},
   "outputs": [
    {
     "data": {
      "text/plain": [
       "'Dies ist ein String!Dies ist ein String!'"
      ]
     },
     "execution_count": 61,
     "metadata": {},
     "output_type": "execute_result"
    }
   ],
   "source": [
    "2 * 'Dies ist ein String!'"
   ]
  },
  {
   "cell_type": "code",
   "execution_count": 62,
   "id": "39fc5269-c28c-4125-907f-00801da29601",
   "metadata": {},
   "outputs": [
    {
     "data": {
      "text/plain": [
       "'String 1 String 2'"
      ]
     },
     "execution_count": 62,
     "metadata": {},
     "output_type": "execute_result"
    }
   ],
   "source": [
    "'String 1 ' + 'String 2' "
   ]
  },
  {
   "cell_type": "markdown",
   "id": "c79d52f0-c4b5-4a6f-a9c7-e27173a0ddb2",
   "metadata": {},
   "source": [
    "<div class=\"alert alert-block alert-info\">\n",
    "\n",
    "Hier finden Sie das YouTube-Video \"Strings\" aus dem Python-Tutorial Crashkurs:\n",
    "> https://www.youtube.com/watch?v=sTEf4_mrLvw&list=PL_pqkvxZ6ho3u8PJAsUU-rOAQ74D0TqZB&index=3\n",
    "\n",
    "</div>"
   ]
  },
  {
   "cell_type": "markdown",
   "id": "a390be50-c020-4866-84ad-fd0c47a93ed8",
   "metadata": {},
   "source": [
    "## Variablen\n",
    "\n",
    "Variablen sind beschriftete Schubladen. Oder anders formuliert sind Variablen Objekte, denen man einen Namen gibt. Technisch gesehen sind diese Schubladen ein kleiner Bereich im Arbeitsspeicher des Computers. Was in diesen Schubladen aufbewahrt wird, kann sehr unterschiedlich sein. Beispielsweise die Telefonnummer des ADAC-Pannendienstes, die 10. Nachkommastelle von Pi oder die aktuelle Position des Mauszeigers können in den Schubladen enthalten sein. \n",
    "\n",
    "Bitte lesen Sie dazu Kapitel 2 in dem Buch \"Python 3\" von Kalista.\n",
    "\n",
    "Wir verwenden Variablen, um bestimmte Werte oder ein bestimmtes Objekt zu speichern. Eine Variable wird durch Zuweisung erzeugt. Damit meinen wir, dass eine Schublade angelegt wird und die Schublade dann erstmalig gefüllt wird. Das erstmalige Füllen der Schublade nennt man in der Informatik auch Initialisieren."
   ]
  },
  {
   "cell_type": "code",
   "execution_count": 63,
   "id": "16cdeadb-d1aa-4ce4-8a6e-30823fe12112",
   "metadata": {},
   "outputs": [],
   "source": [
    "x = 0.5"
   ]
  },
  {
   "cell_type": "markdown",
   "id": "19981240-0b6f-42e9-abc6-4766865f5952",
   "metadata": {},
   "source": [
    "Sobald die Variable `x`in diesem Beispiel durch eine Zuweisung von 0.5 erstellt wurde, können wir sie verwenden:"
   ]
  },
  {
   "cell_type": "code",
   "execution_count": 64,
   "id": "436eebac-ef52-40d6-abc5-9016cb41c868",
   "metadata": {},
   "outputs": [
    {
     "data": {
      "text/plain": [
       "1.5"
      ]
     },
     "execution_count": 64,
     "metadata": {},
     "output_type": "execute_result"
    }
   ],
   "source": [
    "x * 3"
   ]
  },
  {
   "cell_type": "code",
   "execution_count": 65,
   "id": "6bd9716d-b9c6-4653-86cd-a25782061059",
   "metadata": {},
   "outputs": [
    {
     "data": {
      "text/plain": [
       "17.5"
      ]
     },
     "execution_count": 65,
     "metadata": {},
     "output_type": "execute_result"
    }
   ],
   "source": [
    "x + 17"
   ]
  },
  {
   "cell_type": "markdown",
   "id": "43a94202-6f41-4b61-b687-d85ad8aafed1",
   "metadata": {},
   "source": [
    "Wichtig ist, dass das `=`in der Informatik eine andere Bedeutung hat als in der Mathematik. `=` meint nicht das Gleichheitszeichen, sondern den sogenannten Zuweisungsoperator. Das ist in der Programmierung ein Kommando, das eine Schublade befüllt oder technischer ausgedrückt, ein Objekt einer Variable zuweist."
   ]
  },
  {
   "cell_type": "markdown",
   "id": "13ec67e0-cba0-4d86-877a-f5bdb06fc0ad",
   "metadata": {},
   "source": [
    "Variablen müssen initalisiert (erstmalig mit einem Wert versehen) werden, bevor sie verwendet werden können, sonst tritt ein Fehler auf:"
   ]
  },
  {
   "cell_type": "code",
   "execution_count": 66,
   "id": "3bbfab07-fb78-44d1-9721-f5a61bd2c4de",
   "metadata": {},
   "outputs": [],
   "source": [
    "# n"
   ]
  },
  {
   "cell_type": "markdown",
   "id": "5bcb9896-664b-4ec2-979d-92bf6fc90db5",
   "metadata": {},
   "source": [
    "Sehr häufig findet man Code wie"
   ]
  },
  {
   "cell_type": "code",
   "execution_count": 67,
   "id": "72e82bf9-1055-49c7-bf10-c389835403e3",
   "metadata": {},
   "outputs": [],
   "source": [
    "x = x + 1"
   ]
  },
  {
   "cell_type": "markdown",
   "id": "0033ac58-6f54-4a81-8baf-ace9747b0091",
   "metadata": {},
   "source": [
    "Würden wir dies als Gleichung lesen, wie wir es aus der Mathematik gewohnt sind, x = x + 1, könnten wir x auf beiden Seiten subtrahieren und erhalten 0 = 1. Wir wissen, dass dies nicht wahr ist, also stimmt hier etwas nicht.\n",
    "\n",
    "In Python sind \"Gleichungen\" keine mathematischen Gleichungen, sondern Zuweisungen. \"=\" ist kein Gleichheitszeichen im mathematischen Sinne, sondern eine Zuweisung. Die Zuweisung muss immer in der folgenden Weise zweistufig gelesen werden:\n",
    "\n",
    "1. Berechne den Wert auf der rechten Seite (also x+1).\n",
    "2. Weise den Wert auf der rechten Seite dem auf der linken Seite stehenden Variablennamen zu (in Python-Sprechweise: binde dem Namen auf der linken Seite an das auf der rechten Seite angezeigte Objekt).\n",
    "\n"
   ]
  },
  {
   "cell_type": "code",
   "execution_count": 68,
   "id": "a3a18f3c-1846-436c-9bde-f8c7c21f54f6",
   "metadata": {},
   "outputs": [
    {
     "data": {
      "text/plain": [
       "5"
      ]
     },
     "execution_count": 68,
     "metadata": {},
     "output_type": "execute_result"
    }
   ],
   "source": [
    "x = 4     \n",
    "x = x + 1\n",
    "x"
   ]
  },
  {
   "cell_type": "markdown",
   "id": "9c58a312-b977-4046-a8cf-7e825407730b",
   "metadata": {},
   "source": [
    "Richtlinien für Variablennamen:\n",
    "\n",
    "Früher war der Speicherplatz von Computern klein, daher wurden häufig nur kurze Variablennamen wie beispielsweise `i` oder `N` verwendet. Heutzutage ist es Standard, nur in Ausnahmefällen (z.B. in Schleifen, dazu kommen wir noch) kurze Variablennamen zu nehmen. Stattdessen werden Namen benutzt, bei denen man erraten kann, was die Variable für einen Einsatzzweck hat. Beispielsweise lässt der Code"
   ]
  },
  {
   "cell_type": "code",
   "execution_count": 69,
   "id": "28581549-e1ba-4705-89dd-fa4cea90f633",
   "metadata": {},
   "outputs": [
    {
     "name": "stdout",
     "output_type": "stream",
     "text": [
      "95.2\n"
     ]
    }
   ],
   "source": [
    "m = 0.19\n",
    "n = 80\n",
    "b = n + m*n\n",
    "print(b)"
   ]
  },
  {
   "cell_type": "markdown",
   "id": "a1bac0a2-291c-4778-bb5a-6a574ee6da04",
   "metadata": {},
   "source": [
    "nur schwer vermuten, was damit bezweckt wird. Dagegen erahnt man bei diesem Code schon eher, was bezweckt wird:"
   ]
  },
  {
   "cell_type": "code",
   "execution_count": 70,
   "id": "2ecb7a77-a9a7-4d1e-a44f-df5d20ee3088",
   "metadata": {},
   "outputs": [
    {
     "name": "stdout",
     "output_type": "stream",
     "text": [
      "95.2\n"
     ]
    }
   ],
   "source": [
    "mehrwertsteuersatz = 19/100\n",
    "nettopreis = 80\n",
    "bruttopreis = nettopreis + mehrwertsteuersatz * nettopreis\n",
    "print(bruttopreis)"
   ]
  },
  {
   "cell_type": "markdown",
   "id": "69951a63-c4f7-4111-b318-989ba94845d2",
   "metadata": {},
   "source": [
    "Verwenden Sie für Variablennamen nur ASCII-Zeichen, also keine Umlaute wie ö, ü oder ß. Zahlen sind erlaubt, aber nicht am Anfang des Namens. Es ist sinnvoll, lange Variablen durch einen Unterstrich besser lesbar zu gestalten (sogenannte Snake-Case-Formatierung). Ich empfehle für Variablennamen beispielsweise\n",
    "\n",
    "`dateiname_alt` oder `dateiname_neu`\n",
    "\n",
    "wenn beispielsweise eine Datei umbenannt wird. Sie sind frei in der Gestaltung der Variablennamen, verboten sind nur die sogannnten Schlüsselwörter. "
   ]
  },
  {
   "cell_type": "markdown",
   "id": "36b73bf4-736e-4bc7-ab0d-59a7b6a161d9",
   "metadata": {},
   "source": [
    "Bemerkung: Hier kam erstmalig auch eine eingebaute Python-Funktion zum Einsatz, die `print()`-Anweisung. Mehr Details zur `print()`-Anweisung finden Sie hier:\n",
    "https://docs.python.org/3/tutorial/inputoutput.html"
   ]
  },
  {
   "cell_type": "markdown",
   "id": "33126b2e-601b-4bc4-a033-55a3f8051258",
   "metadata": {},
   "source": [
    "<div class=\"alert alert-block alert-info\">\n",
    "\n",
    "Hier finden Sie die beiden YouTube-Videos \"Variablen\" und \"Zuweisungsoperator\" aus dem Python-Tutorial Crashkurs:\n",
    "> https://www.youtube.com/watch?v=jfOLXKPGXJ0&list=PL_pqkvxZ6ho3u8PJAsUU-rOAQ74D0TqZB&index=4\n",
    "> https://www.youtube.com/watch?v=XKFQ2_et5k8&list=PL_pqkvxZ6ho3u8PJAsUU-rOAQ74D0TqZB&index=8\n",
    "</div>\n"
   ]
  },
  {
   "cell_type": "markdown",
   "id": "e245073a-4ebd-44a4-9122-7149b73800d6",
   "metadata": {},
   "source": [
    "## Datentypen int, float, str und Typumwandlungen (Type Casting)\n",
    "\n",
    "Werden zwei Integer geteilt, so wird das Ergebnis vom Datentyp automatisch in einen Float umgewandelt. Mit Hilfe der Funktion `type()` können wir den Python-Intrepreter bestimmen lassen, welcher Datentyp in einer Variable gespeichert ist. "
   ]
  },
  {
   "cell_type": "code",
   "execution_count": 71,
   "id": "356d6b5a-5637-43d8-8cb3-a15daf35b1d1",
   "metadata": {},
   "outputs": [
    {
     "data": {
      "text/plain": [
       "int"
      ]
     },
     "execution_count": 71,
     "metadata": {},
     "output_type": "execute_result"
    }
   ],
   "source": [
    "x = 25 * 5\n",
    "type(x)"
   ]
  },
  {
   "cell_type": "code",
   "execution_count": 72,
   "id": "a9223bbf-dde2-4590-9e7b-fbfaa59d98cd",
   "metadata": {},
   "outputs": [
    {
     "data": {
      "text/plain": [
       "float"
      ]
     },
     "execution_count": 72,
     "metadata": {},
     "output_type": "execute_result"
    }
   ],
   "source": [
    "x = 25 / 5\n",
    "type(x)"
   ]
  },
  {
   "cell_type": "markdown",
   "id": "c42a18d5-f25a-4125-add9-1ed04d20be00",
   "metadata": {},
   "source": [
    "Es ist aber auch möglich, einen Datentyp explizit in einen anderen Datentyp umzuwandeln. Informatiker sagen dazu, einen Type Cast vorzunehmen. Soll ein Datentyp in einen Integer umgewandelt werden, so verwenden wir die Funktion `int()`. Due Umwandlung in einen Float erfolgt per `float()` und in einen String wandeln wir mit Hilfe der Funktion `str()` um. Das klappt nicht mit jedem Variableninhalt, die Umwandlung muss machbar sein, wie die folgenden Beispiele zeigen.     "
   ]
  },
  {
   "cell_type": "code",
   "execution_count": 73,
   "id": "976c12ad-2f19-4158-8b43-2845da382c1e",
   "metadata": {},
   "outputs": [
    {
     "data": {
      "text/plain": [
       "str"
      ]
     },
     "execution_count": 73,
     "metadata": {},
     "output_type": "execute_result"
    }
   ],
   "source": [
    "x_old = 3\n",
    "x_new = str(x_old)\n",
    "type(x_new)"
   ]
  },
  {
   "cell_type": "code",
   "execution_count": 74,
   "id": "b2ad3ab7-b1cd-403c-bc88-6294787c5658",
   "metadata": {},
   "outputs": [
    {
     "data": {
      "text/plain": [
       "int"
      ]
     },
     "execution_count": 74,
     "metadata": {},
     "output_type": "execute_result"
    }
   ],
   "source": [
    "x_old = '3'\n",
    "x_new = int(x_old)\n",
    "type(x_new)"
   ]
  },
  {
   "cell_type": "code",
   "execution_count": 75,
   "id": "53a18963-9fa3-4a1b-bce4-ee2c9ca26abc",
   "metadata": {},
   "outputs": [],
   "source": [
    "#x_old = 'drei'\n",
    "#x_new = int(x_old)\n",
    "#type(x_new)"
   ]
  },
  {
   "cell_type": "markdown",
   "id": "e3082bcb-e370-4b6b-b78c-2f0a1f562297",
   "metadata": {},
   "source": [
    "<div class=\"alert alert-block alert-info\">\n",
    "\n",
    "Hier finden Sie das YouTube-Video \"Type-Casting-Funktionen\" aus dem Python-Tutorial Crashkurs:\n",
    "> https://www.youtube.com/watch?v=u_ECGvn1Z2c&list=PL_pqkvxZ6ho3u8PJAsUU-rOAQ74D0TqZB&index=7\n",
    "\n",
    "</div>"
   ]
  },
  {
   "cell_type": "markdown",
   "id": "e62cc1d4-916a-4433-a10c-cf14c9a067fd",
   "metadata": {},
   "source": [
    "## Datentyp bool\n",
    "\n",
    "Später möchten wir Werte miteinander vergleichen. Ein simples Beispiel für einen einfachen Vergleich ist beispielsweise das Alter einer Person mit der Zahl 18. Dieser Vergleich ist entweder wahr (True) oder falsch (False). Oder anders formuliert, diese Bedingung ist entweder erfüllt oder nicht erfüllt. \n",
    "\n",
    "Um den Wahrheitswert eines Vergleichs zu beschrieben, hat Python einen eigenen Datentyp namens `bool`. Eine Variable des Datentyps `bool` kann dabei nur zwei verschiedene Werte annehmen, nämlich\n",
    "\n",
    "* `True`: Wahrheitswert ist wahr oder\n",
    "* `False`: Wahrheitswert ist falsch.\n",
    "\n",
    "Und auch für diesen Datentyp gibt es Operationen, wie man diese einsetzt ist eine andere Frage."
   ]
  },
  {
   "cell_type": "code",
   "execution_count": 76,
   "id": "c784437c-1f52-4570-a788-09fea2b8acfb",
   "metadata": {},
   "outputs": [
    {
     "data": {
      "text/plain": [
       "2"
      ]
     },
     "execution_count": 76,
     "metadata": {},
     "output_type": "execute_result"
    }
   ],
   "source": [
    "True + True"
   ]
  },
  {
   "cell_type": "code",
   "execution_count": 77,
   "id": "343b480d-7d84-4934-865f-ddc8b9b395f1",
   "metadata": {},
   "outputs": [
    {
     "data": {
      "text/plain": [
       "0.0"
      ]
     },
     "execution_count": 77,
     "metadata": {},
     "output_type": "execute_result"
    }
   ],
   "source": [
    "False / True"
   ]
  },
  {
   "cell_type": "markdown",
   "id": "6c65418e-f375-4af1-a7bb-62f2ed230381",
   "metadata": {},
   "source": [
    "## Kontrollstrukturen - Einführung\n",
    "\n",
    "Durch Kontrollstrukturen wird festgelegt, in welcher Reihenfolge Anweisungen ausgeführt werden. Normalerweise wird der Code vom Python-Interpreter Zeile für Zeile abgearbeitet. Ein Programm, das nur aus einer einfachen Aneinanderreihung von Befehlen besteht, nennt man linear."
   ]
  },
  {
   "cell_type": "markdown",
   "id": "20f7b344-5e4e-42e7-b880-8e6170e377c3",
   "metadata": {},
   "source": [
    "## Vergleiche\n",
    "\n",
    "Ein Vergleich ist ein Ausdruck mit zwei Operanden und einem Vergleichsoperator in der Mitte. Die beiden Operanden können auch unterschiedliche Datentypen haben, dann muss der Vergleichsoperator aber sinnvoll für diese Datentypen definiert sein. Z.B. darf man einen Integer mit einem Float vergleichen `3 < 17.2`, aber `3 < 'vier'`ist nicht sinnvoll und undefiniert. Es gibt die folgenden Vergleichsoperatoren in Python:\n",
    "\n",
    "* `<` kleiner\n",
    "* `<=` kleiner oder gleich\n",
    "* `>` größer\n",
    "* `>=` größer oder gleich\n",
    "* `==`gleich\n",
    "* `!=` ungleich\n",
    "* `not` Umkehrung/Verneinung\n",
    "\n",
    "Im interaktiven Modus können wir leicht den Wahrheitsgehalt von Vergleichen überprüfen."
   ]
  },
  {
   "cell_type": "code",
   "execution_count": 78,
   "id": "cd186a02-3b68-4f51-aa1f-52fc49aa6485",
   "metadata": {},
   "outputs": [
    {
     "data": {
      "text/plain": [
       "True"
      ]
     },
     "execution_count": 78,
     "metadata": {},
     "output_type": "execute_result"
    }
   ],
   "source": [
    "x = 30          \n",
    "x > 15          "
   ]
  },
  {
   "cell_type": "code",
   "execution_count": 79,
   "id": "e1fe2db6-b7c5-4001-8db9-4e623e053969",
   "metadata": {},
   "outputs": [
    {
     "data": {
      "text/plain": [
       "False"
      ]
     },
     "execution_count": 79,
     "metadata": {},
     "output_type": "execute_result"
    }
   ],
   "source": [
    "x > 42"
   ]
  },
  {
   "cell_type": "code",
   "execution_count": 80,
   "id": "cabb739c-284c-4e4f-a749-33b9d9408104",
   "metadata": {},
   "outputs": [
    {
     "data": {
      "text/plain": [
       "True"
      ]
     },
     "execution_count": 80,
     "metadata": {},
     "output_type": "execute_result"
    }
   ],
   "source": [
    "x == 30    "
   ]
  },
  {
   "cell_type": "code",
   "execution_count": 81,
   "id": "e0e7c159-e2d0-4f3e-9efe-27d89cfd0138",
   "metadata": {},
   "outputs": [
    {
     "data": {
      "text/plain": [
       "False"
      ]
     },
     "execution_count": 81,
     "metadata": {},
     "output_type": "execute_result"
    }
   ],
   "source": [
    "x == 42"
   ]
  },
  {
   "cell_type": "code",
   "execution_count": 82,
   "id": "ad3ead1f-2a87-4ade-901b-77136ae28d81",
   "metadata": {},
   "outputs": [
    {
     "data": {
      "text/plain": [
       "True"
      ]
     },
     "execution_count": 82,
     "metadata": {},
     "output_type": "execute_result"
    }
   ],
   "source": [
    "not x == 42 "
   ]
  },
  {
   "cell_type": "code",
   "execution_count": 83,
   "id": "4dfeb65e-fcdd-4cf1-abef-b2073c62ab69",
   "metadata": {},
   "outputs": [
    {
     "data": {
      "text/plain": [
       "True"
      ]
     },
     "execution_count": 83,
     "metadata": {},
     "output_type": "execute_result"
    }
   ],
   "source": [
    "x != 42"
   ]
  },
  {
   "cell_type": "code",
   "execution_count": 84,
   "id": "e3e924fa-7db9-4b45-b7b4-8645d30218ae",
   "metadata": {},
   "outputs": [
    {
     "data": {
      "text/plain": [
       "False"
      ]
     },
     "execution_count": 84,
     "metadata": {},
     "output_type": "execute_result"
    }
   ],
   "source": [
    "x > 30  "
   ]
  },
  {
   "cell_type": "code",
   "execution_count": 85,
   "id": "b2d48ba2-4fc0-4408-a306-c12916290682",
   "metadata": {},
   "outputs": [
    {
     "data": {
      "text/plain": [
       "True"
      ]
     },
     "execution_count": 85,
     "metadata": {},
     "output_type": "execute_result"
    }
   ],
   "source": [
    "x >= 30"
   ]
  },
  {
   "cell_type": "markdown",
   "id": "b68dca52-f887-4ff0-8dfe-7c11e29c866f",
   "metadata": {},
   "source": [
    "<div class=\"alert alert-block alert-info\">\n",
    "\n",
    "Hier finden Sie das YouTube-Video \"Vergleichsoperatoren und der Datentyp bool\" aus dem Python-Tutorial Crashkurs:\n",
    "> https://www.youtube.com/watch?v=ucsv_Nhhxmk&list=PL_pqkvxZ6ho3u8PJAsUU-rOAQ74D0TqZB&index=9\n",
    "\n",
    "</div>"
   ]
  },
  {
   "cell_type": "markdown",
   "id": "11ffe6e8-384c-4e91-bc9e-1e6bb0fddb0c",
   "metadata": {},
   "source": [
    "## Kontrollstruktur: if\n",
    "\n",
    "Bei einer Programmverzweigung wird Code abhängig von einer Bedingung ausgeführt. Im einfachsten Fall liegt ein `if`-Block vor. Die Syntax lautet wie folgt:\n",
    "\n",
    "```python\n",
    "if bedingung:\n",
    "    anweisungsblock\n",
    "```\n",
    "\n",
    "Ist die Bedingung erfüllt, also `True`, so wird der eingerückte Anweisungsblock ausgeführt, ansonsten übersprungen.\n",
    "\n",
    "Wichtig ist, dass die Anweisung oder mehrere Anweisungen (d.h. der Anweisungsblock) eingerückt ist. Hier kommt eine Python-spezifische Eigenschaft zum Tragen. Der Block wird nicht durch Klammern oder ein begin/end gekennzeichnet, sondern nur durch die Einrückung. Empfehlenswert sind hier vier Leerzeichen. Was immer man wählt, in einer Python-Datei muss stets dieselbe Einrückungstiefe verwendet werden. Daher ist es ungünstig, Tabulatore und Leerzeichen zu mischen, weil man bei Weitergabe des Codes nicht weiß, wie auf dem Zielsystem die Tabulatorbreite definiert ist.\n",
    "\n",
    "Wir betrachten nun ein Beispiel:"
   ]
  },
  {
   "cell_type": "code",
   "execution_count": 86,
   "id": "bc48e415-5c87-4c50-acb6-ee4556991931",
   "metadata": {},
   "outputs": [
    {
     "name": "stdout",
     "output_type": "stream",
     "text": [
      "Sie dürfen Alkohol kaufen.\n",
      "Bananen dürfen Sie immer kaufen, egal wie alt Sie sind ...\n"
     ]
    }
   ],
   "source": [
    "alter = 19\n",
    "if alter >= 18:\n",
    "    print('Sie dürfen Alkohol kaufen.')\n",
    "print('Bananen dürfen Sie immer kaufen, egal wie alt Sie sind ...')"
   ]
  },
  {
   "cell_type": "markdown",
   "id": "e2fc8669-47d9-4bb9-9fae-fc564e38a277",
   "metadata": {},
   "source": [
    "Damit wir auch Daten abfragen können, führe wir noch die `input()`-Funktion ein. Mittels `input()` wird der Benutzer oder die Benutzerin nach einer Eingabe gefragt. Das Ergebnis (In Informatik-Sprache der Rückgabewert) der `input()`-Funktion ist ein String. Einen String können wir in eine Zahl umwandeln, indem wir die Funktionen `int()` oder `float()` anwenden. Für mehr Details bitte das folgende Video gucken:\n",
    "\n",
    "> https://www.youtube.com/watch?v=I9h1c-121Uk&list=PL_pqkvxZ6ho3u8PJAsUU-rOAQ74D0TqZB&index=6\n",
    "\n",
    "Damit können wir das obige Beispiel erweitern und das Alter eingeben lassen:\n",
    "\n"
   ]
  },
  {
   "cell_type": "code",
   "execution_count": 87,
   "id": "35d7273d-ac21-4b40-b118-7fe8697c82af",
   "metadata": {},
   "outputs": [
    {
     "name": "stdout",
     "output_type": "stream",
     "text": [
      "Bananen dürfen Sie immer kaufen, egal wie alt Sie sind...\n"
     ]
    }
   ],
   "source": [
    "alter = int(input('Wie alt sind Sie?'))\n",
    "if alter >= 18:\n",
    "    print('Sie dürfen Alkohol kaufen.')\n",
    "print('Bananen dürfen Sie immer kaufen, egal wie alt Sie sind...')"
   ]
  },
  {
   "cell_type": "markdown",
   "id": "6bcda6e5-1a5d-419e-bea4-ab213d765eb9",
   "metadata": {},
   "source": [
    "<div class=\"alert alert-block alert-info\">\n",
    "\n",
    "Hier finden Sie das YouTube-Video \"if\" aus dem Python-Tutorial Crashkurs:\n",
    "> https://www.youtube.com/watch?v=b6KzYbM-Hvg&list=PL_pqkvxZ6ho3u8PJAsUU-rOAQ74D0TqZB&index=10\n",
    "\n",
    "</div>"
   ]
  },
  {
   "cell_type": "markdown",
   "id": "592a948f-485e-4ddf-b013-10ecaa15ec4e",
   "metadata": {},
   "source": [
    "## Kontrollstrukturen: if - elif - else\n",
    "\n",
    "Es gibt auch zweiteilige Programmverzweigungen. Die Syntax wird folgendermaßen erweitert:\n",
    "\n",
    "```python\n",
    "if bedingung:\n",
    "    anweisungsblock 1\n",
    "else:\n",
    "    anweisungsblock 2\n",
    "```\n",
    "\n",
    "Falls die Bedingung erfüllt ist, wird der 1. Anweisungsblock ausgeführt, ansonsten der 2. Anweisungsblock. Danach führt der Python-Interpreter alles nach dem `if-else`-Konstrukt aus. Wichtig ist, dass `if` und `else` die gleiche Einrückungstiefe haben genau wie die beiden Anweisungsblöcke.\n",
    "Bei einer Programmverzweigung wird Code abhängig von einer Bedingung ausgeführt. "
   ]
  },
  {
   "cell_type": "code",
   "execution_count": 88,
   "id": "dc92ee2e-a8ce-4ab6-8f23-c1e9a16b2ec6",
   "metadata": {},
   "outputs": [
    {
     "name": "stdout",
     "output_type": "stream",
     "text": [
      "Sie sind noch nicht volljährig und dürfen daher keinen Alkohol kaufen.\n",
      "Jetzt haben wir aber genug über den Alkoholkauf geredet...\n"
     ]
    }
   ],
   "source": [
    "alter = int(input('Wie alt sind Sie? '))\n",
    "if alter >= 18:\n",
    "    print('Sie dürfen Alkohol kaufen.')\n",
    "else:\n",
    "    print('Sie sind noch nicht volljährig und dürfen daher keinen Alkohol kaufen.')\n",
    "print('Jetzt haben wir aber genug über den Alkoholkauf geredet...')"
   ]
  },
  {
   "cell_type": "markdown",
   "id": "65e2fb6a-d992-46ca-94ca-a14fe3b7ed53",
   "metadata": {},
   "source": [
    "Häufig müssen mehr als zwei Fälle unterschieden werden. Wenn man beispielsweise unterscheiden will, ob eine Zahl negativ oder positiv oder Null ist, müsste man das folgende Konstrukt programmieren."
   ]
  },
  {
   "cell_type": "code",
   "execution_count": 89,
   "id": "b518dfc5-65ca-435e-9df9-2e58e9449958",
   "metadata": {},
   "outputs": [
    {
     "name": "stdout",
     "output_type": "stream",
     "text": [
      "a ist positiv.\n"
     ]
    }
   ],
   "source": [
    "a = 17\n",
    "if a < 0:\n",
    "    print('a ist negativ.')\n",
    "else:\n",
    "    if a == 0:\n",
    "        print('a ist Null.')\n",
    "    else:\n",
    "        print('a ist positiv.')"
   ]
  },
  {
   "cell_type": "markdown",
   "id": "8c8b99f4-e1e8-4a61-9b70-19741fdecbdd",
   "metadata": {},
   "source": [
    "Übersichtlicher wird die Programmverzweigung mit der `if-elif-else`-Syntax. `elif`ist die Abkürzung für `else if`. Allgemein sieht das Konstrukt so aus:\n",
    "\n",
    "```python\n",
    "if bedingung 1:\n",
    "    anweisungsblock 1\n",
    "elif bedingung 2:\n",
    "    anweisungsblock 2\n",
    "elif bedingung 3:\n",
    "    anweisungsblock 3\n",
    "    \n",
    "    ...\n",
    "    \n",
    "else:\n",
    "    anweisungsblock n\n",
    "```"
   ]
  },
  {
   "cell_type": "code",
   "execution_count": 90,
   "id": "fef68fde-9684-436e-98ec-4eb2377cd23d",
   "metadata": {},
   "outputs": [
    {
     "name": "stdout",
     "output_type": "stream",
     "text": [
      "a ist positiv.\n"
     ]
    }
   ],
   "source": [
    "a = 17\n",
    "if a == 0:\n",
    "    print(\"a ist Null.\")\n",
    "elif a < 0:\n",
    "    print(\"a ist negativ.\")\n",
    "else:\n",
    "    print(\"a ist positiv.\")"
   ]
  },
  {
   "cell_type": "markdown",
   "id": "2f0232b1-376c-4f67-8639-edfc7bea657b",
   "metadata": {},
   "source": [
    "<div class=\"alert alert-block alert-info\">\n",
    "\n",
    "Hier finden Sie das YouTube-Video \"if mit elif und else\" aus dem Python-Tutorial Crashkurs:\n",
    "> https://www.youtube.com/watch?v=f3YdEdYSNdk&list=PL_pqkvxZ6ho3u8PJAsUU-rOAQ74D0TqZB&index=11\n",
    "\n",
    "</div>\n"
   ]
  },
  {
   "cell_type": "markdown",
   "id": "db760a92-1fa0-44f1-b7b6-c43e97536710",
   "metadata": {},
   "source": [
    "## Vergleiche - digitale Logik: und, oder, nicht\n",
    "\n",
    "Vorhin haben wir den boolschen Datentyp kennengelernt: wahr oder falsch. Man kann solche Ausdrücke auch kombinieren, z.B. könnte man fordern, dass zwei Bedingungen gleichzeitg erfüllt sein sollen. \n",
    "\n",
    "Beispiel beim Busfahren: Kinder unter 6 Jahren können kostenlos Bus fahren. Ab 6 Jahren braucht man eine Fahrkarte. Bis 14 Jahre zahlt man den Kinderpreis, ab 15 Jahren den Erwachsenenpreis: "
   ]
  },
  {
   "cell_type": "code",
   "execution_count": 91,
   "id": "2c2f3228-f24d-4a00-b62d-24d82f08b868",
   "metadata": {},
   "outputs": [
    {
     "name": "stdout",
     "output_type": "stream",
     "text": [
      "Du darfst eine Kinderfahrkarte kaufen.\n"
     ]
    }
   ],
   "source": [
    "alter = 12\n",
    "if (6 <= alter) and (alter <= 14):\n",
    "    print('Du darfst eine Kinderfahrkarte kaufen.')"
   ]
  },
  {
   "cell_type": "markdown",
   "id": "63cbee1d-d76b-4d0b-9cd5-8c03adcff8af",
   "metadata": {},
   "source": [
    "Im Folgenden beschäftigen wir uns daher mit der Verknüpfung von booleschen Ausdrücken. Dieses Fachgebiet nennt man auch boolsche Algebra oder digitale Logik. Wikipedia fasst hier die wichtigsten Regeln zur booleschen Algebra zusammen: https://de.wikipedia.org/wiki/Boolesche_Algebra \n",
    "\n",
    "Wir werden in dieser Vorlesung uns aber auf die logischen Verknüpfungen oder logischen Operatoren \n",
    "\n",
    "* UND\n",
    "* ODER\n",
    "* NICHT\n",
    "\n",
    "beschränken. Nun wenden wir uns der Umsetzung von logischen Verknüpfungen in Python zu.\n",
    "\n",
    "Bedingung 1 | Bedingung 2 | Ergebnis mit ```and```\n",
    "------------|-------------|--------------------------\n",
    "True | True | True\n",
    "False | True | False\n",
    "True | False | False\n",
    "False | False | False"
   ]
  },
  {
   "cell_type": "markdown",
   "id": "99bf9c04-c7ed-4afb-a70b-18d4cf978624",
   "metadata": {},
   "source": [
    "Beispiel: Zwei Personen wollen einen Kinofilm sehen, der erst ab 18 erlaubt ist. Nur wenn beide volljährig sind, können sie den Film gemeinsam besuchen:"
   ]
  },
  {
   "cell_type": "code",
   "execution_count": 92,
   "id": "e8c0462e-fe84-48f4-9a24-dc75f3c700f7",
   "metadata": {},
   "outputs": [
    {
     "name": "stdout",
     "output_type": "stream",
     "text": [
      "Sie duerfen beide den Film sehen.\n"
     ]
    }
   ],
   "source": [
    "alter_person1 = 19\n",
    "alter_person2 = 22\n",
    "if (alter_person1 >= 18) and (alter_person2 >= 18):\n",
    "    print('Sie duerfen beide den Film sehen.')\n",
    "else:\n",
    "    print('Vielleicht darf einer von Ihnen den Film sehen, aber nicht beide.')\n"
   ]
  },
  {
   "cell_type": "markdown",
   "id": "3d342b70-5ee4-4179-b565-dc3f590f06dd",
   "metadata": {},
   "source": [
    "Die sogenannte Wahrheitstabelle für die OR-Verknüpfung sieht folgendermaßen aus:\n",
    "\n",
    "Bedingung 1 | Bedingung 2 | Ergebnis mit ```or```\n",
    "------------|-------------|--------------------------\n",
    "True | True | True\n",
    "False | True | True\n",
    "True | False | True\n",
    "False | False | False\n",
    "\n",
    "Beispiel: Zwei Personen wollen ein Auto mieten, dazu muss aber mindestens einer von beiden den Führerschein besitzen."
   ]
  },
  {
   "cell_type": "code",
   "execution_count": 93,
   "id": "a3c5cb9c-9e33-42cc-9feb-012db05a6bc8",
   "metadata": {},
   "outputs": [
    {
     "name": "stdout",
     "output_type": "stream",
     "text": [
      "Sie duerfen das Auto mieten.\n"
     ]
    }
   ],
   "source": [
    "person1_hat_fuehrerschein = True\n",
    "person2_hat_fuehrerschein = False\n",
    "\n",
    "if (person1_hat_fuehrerschein == True) or (person2_hat_fuehrerschein == True):\n",
    "    print('Sie duerfen das Auto mieten.')\n",
    "else:\n",
    "    print('Keiner von beiden hat einen Fuehrerschein, geht nicht.')"
   ]
  },
  {
   "cell_type": "markdown",
   "id": "762cec4e-99f5-4d56-b87a-497fc44daa8f",
   "metadata": {},
   "source": [
    "Übrigens, der Vergleich `person1_hat_fuehrerschein == True` ist eigentlich doppelt gemoppelt, da ja die Variable bereits den Datentyp bool hat. Wir könnten also auch kürzer schreiben"
   ]
  },
  {
   "cell_type": "code",
   "execution_count": 94,
   "id": "656ee690-7857-468a-a372-00ca580de981",
   "metadata": {},
   "outputs": [
    {
     "name": "stdout",
     "output_type": "stream",
     "text": [
      "Sie duerfen das Auto mieten.\n"
     ]
    }
   ],
   "source": [
    "person1_hat_fuehrerschein = True\n",
    "person2_hat_fuehrerschein = False\n",
    "\n",
    "if person1_hat_fuehrerschein or person2_hat_fuehrerschein :\n",
    "    print('Sie duerfen das Auto mieten.')\n",
    "else:\n",
    "    print('Keiner von beiden hat einen Fuehrerschein, geht nicht.')"
   ]
  },
  {
   "cell_type": "markdown",
   "id": "ac44ff7a-7c3f-4fa3-bec2-4cab72544c56",
   "metadata": {},
   "source": [
    "Die sogenannte Wahrheitstabelle für die NOT-Verknüpfung sieht folgendermaßen aus:\n",
    "\n",
    "Bedingung 1 | Ergebnis mit ```not```\n",
    "------------|--------------------------\n",
    "True | False\n",
    "False | True \n",
    "\n",
    "Beispiel: Wenn eine Person keinen Führerschein hat, muss sie den Bus nehmen."
   ]
  },
  {
   "cell_type": "code",
   "execution_count": 95,
   "id": "36e1eab0-b1fb-41bd-96b0-3ce45cd49fe2",
   "metadata": {},
   "outputs": [
    {
     "name": "stdout",
     "output_type": "stream",
     "text": [
      "Sie muessen Bus fahren.\n"
     ]
    }
   ],
   "source": [
    "person_hat_fuehrerschein = False\n",
    "\n",
    "if not person_hat_fuehrerschein:\n",
    "    print('Sie muessen Bus fahren.')\n",
    "else:\n",
    "    print('Sie duerfen Auto fahren.')"
   ]
  },
  {
   "cell_type": "markdown",
   "id": "a7625a3e-a8f5-4fdc-b46b-fcfb1250154b",
   "metadata": {},
   "source": [
    "<div class=\"alert alert-block alert-info\">\n",
    "\n",
    "Hier finden Sie das YouTube-Video \"logische Operatoren\" aus dem Python-Tutorial Crashkurs:\n",
    "    \n",
    "> https://www.youtube.com/watch?v=075l6R42tkQ&list=PL_pqkvxZ6ho3u8PJAsUU-rOAQ74D0TqZB&index=12\n",
    "\n",
    "</div>\n"
   ]
  },
  {
   "cell_type": "markdown",
   "id": "2060beeb-8c2b-4f29-9ca5-dc18922104f2",
   "metadata": {},
   "source": [
    "## Kontrollstrukturen: Schleifen mit Bedingung \"while\"\n",
    "\n",
    "Bei einer Wiederholung mit Bedingung wird eine Anweisung solange wiederholt, bis die Bedingung erfüllt wird. Sie hat folgende Struktur:\n",
    "\n",
    "```python\n",
    " while Bedingung: \n",
    "        anweisungsblock\n",
    "```\n",
    "\n",
    "Die bedingte Wiederholung wird mit dem Schlüsselwort `while` eingeleitet. Dann folgt die Bedingung, die mit einem `:` abgeschlossen wird. Alle Anweisungen, die wiederholt werden sollen, werden eingerückt. Diesen Teil nennt man das Schleifeninnere, die Zeile `while Bedingung:` nennt man den Schleifenkopf. \n",
    "\n",
    "Bespiel: Wir möchten ein Programm schreiben, bei dem der Benutzer solange Zahlen eingeben darf, die aufsummiert werden, bis die Null eingegeben wird. Für das Aufsummieren benutzen wir eine Variable als Zwischenspeicher. Dies würde in Python wie folgt umgesetzt:\n",
    "\n",
    "```python\n",
    "print('Dieses Programm addiert ganze Zahlen solange, bis Sie 0 eingeben.')\n",
    "zahl = float(input('Geben Sie die erste Zahl ein: '))\n",
    "\n",
    "summe = 0\n",
    "while zahl != 0:\n",
    "    summe = summe + zahl\n",
    "    zahl = float(input('Geben Sie eine weitere Zahl ein: '))\n",
    "print('Die Summe aller bisher eingegeben Zahlen ist: ', summe)\n",
    "```\n",
    "\n",
    "Probieren Sie den Code in der nächsten Code-Zelle aus:"
   ]
  },
  {
   "cell_type": "code",
   "execution_count": 96,
   "id": "1a3e7138-b3ed-45f9-a2f1-cc91f49095f9",
   "metadata": {},
   "outputs": [
    {
     "name": "stdout",
     "output_type": "stream",
     "text": [
      "Dieses Programm addiert ganze Zahlen solange, bis Sie 0 eingeben.\n",
      "Die Summe aller bisher eingegeben Zahlen ist:  10.0\n"
     ]
    }
   ],
   "source": [
    "print('Dieses Programm addiert ganze Zahlen solange, bis Sie 0 eingeben.')\n",
    "zahl = float(input('Geben Sie die erste Zahl ein: '))\n",
    "\n",
    "summe = 0\n",
    "while zahl != 0:\n",
    "    summe = summe + zahl\n",
    "    zahl = float(input('Geben Sie eine weitere Zahl ein: '))\n",
    "print('Die Summe aller bisher eingegeben Zahlen ist: ', summe)"
   ]
  },
  {
   "cell_type": "markdown",
   "id": "942a361a-aea0-4111-8791-88d97e5f9a64",
   "metadata": {},
   "source": [
    "<div class=\"alert alert-block alert-info\">\n",
    "\n",
    "Hier finden Sie das YouTube-Video \"while-Schleife\" aus dem Python-Tutorial Crashkurs:\n",
    "    \n",
    "> https://www.youtube.com/watch?v=sXLicTuJzB4&list=PL_pqkvxZ6ho3u8PJAsUU-rOAQ74D0TqZB&index=13\n",
    "\n",
    "</div>\n",
    "\n"
   ]
  },
  {
   "cell_type": "markdown",
   "id": "61314bf2-abdc-4436-b0d9-b30c9348df06",
   "metadata": {},
   "source": [
    "# Übungsaufgaben"
   ]
  },
  {
   "cell_type": "markdown",
   "id": "8a611529-90ba-473e-bb6a-5d86a5bf5b73",
   "metadata": {
    "tags": []
   },
   "source": [
    "<div class=\"alert alert-block alert-success\">\n",
    "<b>Aufgabe 2.1: Kostenkalkulation Urlaubsreise</b> \n",
    "    \n",
    "Schreiben Sie ein Programm, das die Kosten für eine Urlaubsreise für eine Reisegruppe mit einem Bus berechnet. Vom Benutzer werden folgende Angaben erfragt: \n",
    "\n",
    "* Anzahl der Personen, \n",
    "* Hotelkosten pro Person, \n",
    "* Gesamtkosten für den Reisebus, \n",
    "* Gesamtkosten für touristische Events am Zielort, \n",
    "* sonstige Kosten pro Person. \n",
    "\n",
    "Ausgegeben werden die Gesamtkosten der Fahrt und der Betrag, den jeder Teilnehmer zahlen muss. Möglicher Programmlauf:\n",
    "\n",
    "```code \n",
    "Kostenplan für eine Reise \n",
    "---------------------------\n",
    "Kosten für den Reisebus: 1000\n",
    "Hotelkosten pro Person: 300\n",
    "Gesamtkosten für touristische Events: 500 \n",
    "Anzahl der Teilnehmer: 30\n",
    "\n",
    "Die Gesamtkosten betragen 10500 EUR. Die Kosten pro Person sind 350 EUR.\n",
    "```\n",
    "\n",
    "Hinweise: Machen Sie sich erstmal einen Plan, welche Eingaben abgefragt werden müssen, wie diese verarbeitet werden sollen und was das Programm am Ende ausgeben soll. Danach implementieren Sie Ihren Algorithmus.  Achten Sie auf guten Programmierstil. Verwenden Sie »sprechende« Variablennamen. Setzen Sie die Funktion input() für die Eingabe der Zahlenwerte ein und denken Sie an die Umwandlung in einen Integer oder einen Float, falls Sie Python verwenden.\n",
    " </div>"
   ]
  },
  {
   "cell_type": "markdown",
   "id": "e7f7d8bf-6302-49db-880e-ce76e7733b3f",
   "metadata": {},
   "source": [
    "<div class=\"alert alert-block alert-success\">\n",
    "<b>Aufgabe 2.2: Volljährigkeit</b> \n",
    "\n",
    "Schreiben Sie ein Programm, dass den Benutzer nach seinem Geburtsjahr fragt. Danach rechnet das Programm aus, wie alt der Benutzer dieses Jahr wird. Wenn der Benutzer dieses Jahr volljährig wird, soll das Programm ausgeben: \"Hurra, Sie werden oder wurden dieses Jahr volljährig!\" Wenn der Benutzer schon volljährig ist, soll das Programm ausgeben: \"Sie sind bereits volljährig.\" \n",
    "\n",
    "</div>\n",
    "\n",
    "\n"
   ]
  },
  {
   "cell_type": "markdown",
   "id": "c1571e6a-2443-4baa-984a-2df56687bb89",
   "metadata": {},
   "source": [
    "<div class=\"alert alert-block alert-success\">\n",
    "<b>Aufgabe 2.3: Ticket-Automat</b> \n",
    "\n",
    "\n",
    "Schreiben Sie das Programm für einen Ticket-Automaten. Der Benutzer wird nach dem Alter gefragt und ob ein Schülerausweis vorliegt. Das Programm gibt dann aus, welches Ticket gekauft werden muss.\n",
    "\n",
    "Alter | Ticket\n",
    "------------ | -------------\n",
    "0 - 5 | keine \n",
    "6 - 14 | Kinder-Ticket\n",
    "15 - 21 und Schülerausweis | Kinder-Ticket\n",
    "15 - 59 | Erwachsenen-Ticket\n",
    "ab 60 | Senioren-Ticket\n",
    "\n",
    "\n",
    "</div>\n",
    "\n",
    "\n"
   ]
  },
  {
   "cell_type": "markdown",
   "id": "af4935d1-fae8-41a5-8fa5-511c0d4a2368",
   "metadata": {},
   "source": [
    "<div class=\"alert alert-block alert-success\">\n",
    "<b>Aufgabe 2.4: Quadratzahlen</b> \n",
    "\n",
    "Schreiben Sie ein Programm, das eine minimale Zahl $a$ und eine maximale Zahl $b$ abfragt. Dann berechnet das Programm die Quadratzahlen von $a^2$ bis $b^2$ und gibt diese aus.\n",
    "\n",
    "Beispiel: Wenn der Benutzer `a = 3` eingibt und `b = 8`, so soll das Programm `9, 16, 25, 36, 49, 64` ausgeben. \n",
    "    \n",
    "Erweitern Sie dann das Programm so, dass erst überprüft wird, ob die eingegebene Zahl $b$ auch wirklich größer als $a$ ist. Wenn dies nicht der Fall ist, soll solange weiter nach einer Zahl $b$ gefragt werden, bis diese größer als a ist.  \n",
    "\n",
    "Testen Sie Ihr Programm für die Beispiele $a=4$ und $b=10$ und anschließend für $a=10$ und $b=4$.\n",
    "</div>\n",
    "\n",
    "\n"
   ]
  }
 ],
 "metadata": {
  "kernelspec": {
   "display_name": "Python 3.9.13 ('python39')",
   "language": "python",
   "name": "python3"
  },
  "language_info": {
   "codemirror_mode": {
    "name": "ipython",
    "version": 3
   },
   "file_extension": ".py",
   "mimetype": "text/x-python",
   "name": "python",
   "nbconvert_exporter": "python",
   "pygments_lexer": "ipython3",
   "version": "3.9.13"
  },
  "vscode": {
   "interpreter": {
    "hash": "1863971d65633e53ca5b74972b86a14fab6d597ce2ac84dc984546545d2d3a9b"
   }
  }
 },
 "nbformat": 4,
 "nbformat_minor": 5
}
