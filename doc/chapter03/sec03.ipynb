{
 "cells": [
  {
   "cell_type": "markdown",
   "id": "7ef63ab6-4228-4254-bbe0-b7cbcf8f339b",
   "metadata": {},
   "source": [
    "# Woche 04 - Objektorientierte Programmierung und Module\n",
    "\n",
    "In dieser Woche werden wir den Crashkurs in Python mit einem Ausflug in die objektorientierte Programmierung abschließen. Die Themen sind also:\n",
    "\n",
    "* Objektorientierte Programmierung\n",
    "    * Was ist Objektorientierung?\n",
    "    * Klassen definieren: Attribute und Methoden\n",
    "* Module\n",
    "    * Was ist ein Modul?\n",
    "    * Wie importiere ich einzelne oder alle Funktionen eines Moduls?\n",
    "    * Wie kürze ich importierte Module ab?"
   ]
  },
  {
   "cell_type": "markdown",
   "id": "be8d4f97-05ce-48c4-ad0f-10fb4e6fb7e9",
   "metadata": {},
   "source": [
    "## Objektorientierte Programmierung\n",
    "\n",
    "In den ersten beiden Teilen unseres Crashkurses Python haben wir uns die Grundlagen der Programmierung erarbeitet:\n",
    "* Datentypen (Integer, Float, String, Bool, List)\n",
    "* Ein- und Ausgabe (input, print)\n",
    "* Kontrollstrukturen \n",
    "    * Programmverzweigungen (if - elif - else)\n",
    "    * Schleifen (while oder for)\n",
    "* Funktionen.\n",
    "\n",
    "In einigen Programmiersprachen wie beispielsweise C hätten wir damit auch alle Sprachelement kennengelernt. Diese Programmierung nennt man **prozedurale Programmierung**. Python gehört jedoch zu den objektorientierten Programmiersprachen, so dass wir uns diese Woche dem Thema Objektorientierung widmen.\n"
   ]
  },
  {
   "cell_type": "markdown",
   "id": "fa56e3fe-9c3e-4291-b248-f49713c6f170",
   "metadata": {},
   "source": [
    "### Was ist Objektorientierung?\n",
    "\n",
    "Bei der bisherigen prozeduralen Programmierweise haben wir Funktionen und Daten getrennt. Die Daten werden in Variablen gespeichert. Funktionen funktionieren nach dem EVA-Prinzip. In der Regel erwartet eine Funktion eine Eingabe von Daten, verarbeitet diese Daten und gibt Daten zurück. \n",
    "\n",
    "Angenommen, wir wollten ein Programm zur Verwaltung von Lottoscheinen schreiben. Zu einem Lottoschein wollen wir Name, Adresse und die angekreuzten Zahlen speichern. Dann müssten wir mit unserem bisherigen Wissen folgende Variablen pro Lottoschein einführen:\n",
    "\n",
    "* vorname\n",
    "* nachname\n",
    "* strasse\n",
    "* postleitzahl\n",
    "* stadt\n",
    "* liste_mit_sechs_zahlen\n",
    "\n",
    "Wenn jetzt viele Spielerinnen und Spieler Lotto spielen wollen, wie gehen wir jetzt mit den Daten um? Legen wir eine Liste für die Vornamen und eine Liste für die Nachnamen usw. an? Und wenn jetzt der 17. Eintrag in der Liste mit den sechs angekreuzten Lottozahlen sechs Richtige hat, suchen wir dann den 17. Eintrag in der Liste mit den Vornamen und den 17. Eintrag in der Liste mit den Nachnamen usw.? Umständlich...\n",
    "\n",
    "Die Idee der objektorientierten Programmierung ist, für solche Szenarien **Objekte** einzuführen. Ein Objekt fasst verschiedene Eigenschaften wie hier Vorname, Nachname, Straße, usw. zu einem Objekt Lottoschein zusammen. In der Informatik wird eine Eigenschaft eines Objekts **Attribut** genannt. \n",
    "\n",
    "Damit hätten wir erst einmal nur einen neuen Datentyp. Ein Objekt macht noch mehr aus, denn zu dem neuen Datentyp kommen noch Funktionen dazu, die die Verwaltung des Objektes erleichtern. Funktionen, die zu einem Objekt gehören, nennt man **Methoden**.\n",
    "\n"
   ]
  },
  {
   "cell_type": "markdown",
   "id": "e4007874-b386-4274-93e7-78f5cd7cad07",
   "metadata": {},
   "source": [
    "<div class=\"alert alert-block alert-info\">\n",
    "\n",
    "Hier finden Sie ein YouTube-Video \"Objektorientierung (Konzept)\" aus dem Python-Tutorial Crashkurs:\n",
    "> https://www.youtube.com/watch?v=46yolPy-2VQ&list=PL_pqkvxZ6ho3u8PJAsUU-rOAQ74D0TqZB&index=21    \n",
    "\n",
    "</div>"
   ]
  },
  {
   "cell_type": "markdown",
   "id": "c3304303-ef5e-4272-9216-1f28a4062a2c",
   "metadata": {},
   "source": [
    "### Klassen benutzen\n",
    "\n",
    "Im Folgenden sehen Sie, wie ein Objekt in Python definiert wird. Die Implementierung erfolgt als sogenannte **Klasse**. "
   ]
  },
  {
   "cell_type": "code",
   "execution_count": 1,
   "id": "3c882208-ae9f-4f7a-ae84-78e1ee2c6695",
   "metadata": {},
   "outputs": [],
   "source": [
    "class Beispiel:\n",
    "    def __init__(self, vorname, nachname):\n",
    "        self.vorname = vorname\n",
    "        self.nachname = nachname\n",
    "        \n",
    "    def schreibe_vorname_nachname(self):\n",
    "        print(self.vorname + ' ' + self.nachname)\n",
    "        \n",
    "    def schreibe_nachname_vorname(self):\n",
    "        print(self.nachname + ', ' + self.vorname)\n",
    "   "
   ]
  },
  {
   "cell_type": "markdown",
   "id": "a7cb7e59-d41e-4009-b758-941abb64cfd1",
   "metadata": {},
   "source": [
    "Jetzt erzeugen wir ein Objekt vom Typ `Beispiel` und speichern es in der Variable `person`. Mit der Funnktion `type()` checken wir kurz, welcher Datentyp in der Variablen `person`steckt:"
   ]
  },
  {
   "cell_type": "code",
   "execution_count": 2,
   "id": "a9c3d12c-f3d0-4954-a6a6-60e2a8fb8e76",
   "metadata": {},
   "outputs": [
    {
     "data": {
      "text/plain": [
       "__main__.Beispiel"
      ]
     },
     "execution_count": 2,
     "metadata": {},
     "output_type": "execute_result"
    }
   ],
   "source": [
    "person = Beispiel('Alice', 'Wunderland')\n",
    "type(person)"
   ]
  },
  {
   "cell_type": "markdown",
   "id": "74a2de32-634e-4b21-9641-0a3ad19cb2df",
   "metadata": {},
   "source": [
    "Nun können wir auch die beiden Methoden ausprobieren, die zu dem Objekt gehören. Der Aufruf einer Methode funktioniert anders als eine Funktion. Man hängt an die Variable, in der das Objekt gespeichert wurde, einen Punkt und dann die Methode mit runden Klammern. Den Punkt nennt man in der Informatik **Punktoperator**. \n",
    "\n",
    "Hier ein Beispiel zu der Methode `schreibe_vorname_nachname()`: "
   ]
  },
  {
   "cell_type": "code",
   "execution_count": 3,
   "id": "2da9952c-cab5-4be6-9c06-cef221358d9b",
   "metadata": {},
   "outputs": [
    {
     "name": "stdout",
     "output_type": "stream",
     "text": [
      "Alice Wunderland\n"
     ]
    }
   ],
   "source": [
    "person.schreibe_vorname_nachname()"
   ]
  },
  {
   "cell_type": "markdown",
   "id": "3e0baf03-1600-4937-979d-a8c12687a8e9",
   "metadata": {},
   "source": [
    "Dann die zweite Methode, also `schreibe_nachname_vorname()`:"
   ]
  },
  {
   "cell_type": "code",
   "execution_count": 4,
   "id": "a0a198cc-b108-4ced-adca-071cf1e4d919",
   "metadata": {},
   "outputs": [
    {
     "name": "stdout",
     "output_type": "stream",
     "text": [
      "Wunderland, Alice\n"
     ]
    }
   ],
   "source": [
    "person.schreibe_nachname_vorname()"
   ]
  },
  {
   "cell_type": "markdown",
   "id": "d46ec352-6cb1-4de4-9fce-4b6eab0723e1",
   "metadata": {},
   "source": [
    "<div class=\"alert alert-block alert-info\">\n",
    "\n",
    "Hier finden Sie das YouTube-Video \"Klassen und Objekte\" aus dem Python-Tutorial Crashkurs:\n",
    "> https://www.youtube.com/watch?v=XxCZrT7Z3G4&list=PL_pqkvxZ6ho3u8PJAsUU-rOAQ74D0TqZB&index=22\n",
    "\n",
    "</div>"
   ]
  },
  {
   "cell_type": "markdown",
   "id": "23c702bf-2619-4aab-a8c0-1e1266c313ef",
   "metadata": {},
   "source": [
    "### Klassen definieren - Attribute\n",
    "\n",
    "Jetzt definieren wir eine eigene Klasse, die eine Adresse verwalten soll. Ein erstes Beispiel haben Sie ja oben schon gesehen.\n",
    "\n",
    "Eingeleitet wird eine Klasse mit dem Schlüsselwort `class` und dann dem Namen der Klasse. Da Klassen Objekte sind, ist es Standard, den ersten Buchstaben des Klassennamens groß zu schreiben. \n",
    "\n",
    "```python\n",
    "class Klassenname:\n",
    "```\n",
    "\n",
    "Bemerkung: Um Variablen von Objekten leichter zu unterscheiden, werden Variablennamen klein geschrieben.\n",
    "\n",
    "Danach folgt ein Abschnitt namens `def __init__(self):`, in dem die Eigenschaften der Klasse aufgelistet werden. `init` steht dabei für initialisieren, also den ersten Zustand, den das Objekt später haben wird. \n",
    "\n",
    "```python\n",
    "class Klassenname:\n",
    "    def __init__(self, eigenschaft1, eigenschaft2):\n",
    "        self.attribut1 = eigenschaft1\n",
    "        self.attribut2 = eigenschaft2\n",
    "```\n",
    "\n",
    "Probieren wir es mit der Adresse aus:"
   ]
  },
  {
   "cell_type": "code",
   "execution_count": 5,
   "id": "84c5bb61-e273-4b45-96b2-51a897002109",
   "metadata": {},
   "outputs": [],
   "source": [
    "class Adresse:\n",
    "    def __init__(self, strasse, hausnummer, plz, stadt, b):\n",
    "        self.strasse = strasse\n",
    "        self.hausnummer = hausnummer\n",
    "        self.postleitzahl = plz\n",
    "        self.stadt = stadt\n",
    "        self.bundesland = b"
   ]
  },
  {
   "cell_type": "markdown",
   "id": "6bc429c3-97f8-4126-80a6-0f8619e57ac2",
   "metadata": {},
   "source": [
    "Wie Sie sehen, können die Eingabe-Parameter der `init()`-Methode die gleichen Namen tragen wie die Attribute der Klasse, also `self.strasse = strasse`, müssen sie aber nicht. Das Beispiel `self.postleitzahl = plz` zeigt, dass das Attribut `self.postleitzahl` einfach den Wert des 4. Parameters bekommt, egal wie der heißt.\n",
    "\n",
    "Definieren wir jetzt unsere erste Adresse, der Eingabe-Parameter `self` wird dabei weggelassen (warum kommt später)."
   ]
  },
  {
   "cell_type": "code",
   "execution_count": 6,
   "id": "11751285-f651-47df-9605-a17b35505bbe",
   "metadata": {},
   "outputs": [
    {
     "ename": "TypeError",
     "evalue": "__init__() missing 1 required positional argument: 'b'",
     "output_type": "error",
     "traceback": [
      "\u001b[0;31m---------------------------------------------------------------------------\u001b[0m",
      "\u001b[0;31mTypeError\u001b[0m                                 Traceback (most recent call last)",
      "\u001b[1;32m/Users/gramschs/lectures/book_ml4ing/doc/chapter03/sec03.ipynb Cell 17\u001b[0m in \u001b[0;36m<cell line: 1>\u001b[0;34m()\u001b[0m\n\u001b[0;32m----> <a href='vscode-notebook-cell:/Users/gramschs/lectures/book_ml4ing/doc/chapter03/sec03.ipynb#X22sZmlsZQ%3D%3D?line=0'>1</a>\u001b[0m adresse_fra_uas \u001b[39m=\u001b[39m Adresse(\u001b[39m'\u001b[39;49m\u001b[39mNibelungenplatz\u001b[39;49m\u001b[39m'\u001b[39;49m, \u001b[39m1\u001b[39;49m, \u001b[39m60318\u001b[39;49m, \u001b[39m'\u001b[39;49m\u001b[39mFrankfurt am Main\u001b[39;49m\u001b[39m'\u001b[39;49m)\n",
      "\u001b[0;31mTypeError\u001b[0m: __init__() missing 1 required positional argument: 'b'"
     ]
    }
   ],
   "source": [
    "adresse_fra_uas = Adresse('Nibelungenplatz', 1, 60318, 'Frankfurt am Main')"
   ]
  },
  {
   "cell_type": "markdown",
   "id": "72d650e9-abe3-4e96-bee1-526676c0893c",
   "metadata": {},
   "source": [
    "Geben wir als nächstes aus, was in der Variable `adresse_fra_uas` gespeichert ist. Probieren wir es mit der `print()`-Funktion:"
   ]
  },
  {
   "cell_type": "code",
   "execution_count": null,
   "id": "d79f3c12-206c-43e6-82d4-69476eaf469b",
   "metadata": {},
   "outputs": [],
   "source": [
    "print(adresse_fra_uas)"
   ]
  },
  {
   "cell_type": "markdown",
   "id": "1d670e82-4b24-4823-8130-ac51626edd2f",
   "metadata": {},
   "source": [
    "Wie Sie sehen, wird der Name der Klasse und der Speicherort im RAM angegeben, aber nicht der Inhalt. Die Funktion `print()` ist nicht für den Datentyp `Adresse` entwickelt worden. Schließlich können die Python-Entwickler nicht wissen, welche Klassen Sie entwickeln... \n",
    "\n",
    "Aber wir kommen wir jetzt an den Inhalt des Objektes `adresse_fra_uas`? Mit dem Punktoperator."
   ]
  },
  {
   "cell_type": "code",
   "execution_count": null,
   "id": "76b31d2d-8f6a-402c-848c-953d9a75c664",
   "metadata": {},
   "outputs": [],
   "source": [
    "print(adresse_fra_uas.strasse)"
   ]
  },
  {
   "cell_type": "code",
   "execution_count": null,
   "id": "707155b6-41b6-418e-beaf-f0628c4a08dd",
   "metadata": {},
   "outputs": [],
   "source": [
    "print(adresse_fra_uas.postleitzahl)"
   ]
  },
  {
   "cell_type": "markdown",
   "id": "fe47a70a-dfbe-4813-883b-cdfe850eb855",
   "metadata": {},
   "source": [
    "Damit können wir auch ganz normal rechnen, wenn das Attribut eine Zahl ist:"
   ]
  },
  {
   "cell_type": "code",
   "execution_count": null,
   "id": "88df976e-b044-4cd1-aec8-32f8c03c57aa",
   "metadata": {},
   "outputs": [],
   "source": [
    "adresse_fra_uas.postleitzahl + 11111"
   ]
  },
  {
   "cell_type": "markdown",
   "id": "77e43d6f-0b50-4f1d-b652-6daa7f1b1e28",
   "metadata": {},
   "source": [
    "Mit dem Punktoperator können wir Attribute eines Objektes auch verändern. Schauen wir uns zunächst an, welchen Inhalt `adress_fra_uas.postleitzahl` hat, dann setzen wir eine neue Postleitzahl und schauen erneut, welchen Inhalt `adress_fra_uas.postleitzahl` jetzt hat:"
   ]
  },
  {
   "cell_type": "code",
   "execution_count": null,
   "id": "d638147c-64ca-4949-ae24-78373414291b",
   "metadata": {},
   "outputs": [],
   "source": [
    "print('davor: ')\n",
    "print(adresse_fra_uas.postleitzahl)\n",
    "\n",
    "adresse_fra_uas.postleitzahl = 77777\n",
    "\n",
    "print('danach: ')\n",
    "print(adresse_fra_uas.postleitzahl)"
   ]
  },
  {
   "cell_type": "markdown",
   "id": "a2ee8ad7-f27b-40f4-ab9f-54444d2e5d29",
   "metadata": {},
   "source": [
    "**Mini-Übung**   \n",
    "\n",
    "Schreiben Sie eine Klasse, die Studierende mit den Eigenschaften\n",
    "* Vorname\n",
    "* Nachname\n",
    "* Matrikel-Nummer\n",
    "verwalten kann.\n",
    "\n",
    "Testen Sie anschließend Ihre Klasse, indem Sie ein Beispiel ausprobieren."
   ]
  },
  {
   "cell_type": "code",
   "execution_count": null,
   "id": "12b0b8ca-51df-4c6c-b7ef-198070124d0f",
   "metadata": {},
   "outputs": [],
   "source": [
    "# Hier Ihr Code:\n",
    "\n",
    "class Studierende:\n",
    "    def __init__(self, vorname, nachname, matrikelnummer):\n",
    "        self.vorname = vorname\n",
    "        self.nachname = nachname\n",
    "        self.matrikelnummer = matrikelnummer\n",
    "        \n",
    "# Test der Klasse\n",
    "student1 = Studierende('Alice', 'Wunderland', 123456)\n",
    "student2 = Studierende('Bob', 'Baumeister', 234567)\n",
    "student3 = Studierende('Charlie', 'Brown', 345678)\n",
    "\n",
    "print(student1.vorname)"
   ]
  },
  {
   "cell_type": "markdown",
   "id": "e611239a-ab22-4a95-b9d7-0d2c91d113ed",
   "metadata": {},
   "source": [
    "<div class=\"alert alert-block alert-info\">\n",
    "\n",
    "Hier finden Sie das YouTube-Video \"Der self Parameter\" aus dem Python-Tutorial Crashkurs:\n",
    "> https://www.youtube.com/watch?v=CLoK-_qNTnU&list=PL_pqkvxZ6ho3u8PJAsUU-rOAQ74D0TqZB&index=23\n",
    "\n",
    "</div>"
   ]
  },
  {
   "cell_type": "markdown",
   "id": "18b0b8d3-a771-4529-953d-684cfc1eb01a",
   "metadata": {},
   "source": [
    "### Klassen definieren - Methoden\n",
    "\n",
    "Es ist bedauerlich, dass wir nicht eine `print()`-Funktion für unsere Adressen-Klasse zur Verfügung haben. Definieren wir uns einfach eine ...\n",
    "\n",
    "Da diese Funktion nicht allgemeingültig sein kann, sondern nur für die Objekte `Adresse` funktionieren kann, gehört sie auch folgerichtig zur Klasse selbst. Sie ist also keine Funktion, sondern eine Methode. \n",
    "\n",
    "Eine Methode wird definiert, indem innerhalb des Anweisungsblocks der Klasse eine Funktion mit dem Schlüsselwort `def` definiert wird. Der erste Eingabewert muss zwingend der `self`-Parameter sein. Hier ein Beispiel für eine Print-Methode: "
   ]
  },
  {
   "cell_type": "code",
   "execution_count": null,
   "id": "0b8e2dc6-55d8-4e95-8989-69f8ca669698",
   "metadata": {},
   "outputs": [],
   "source": [
    "class Adresse:\n",
    "    def __init__(self, strasse, hausnummer, plz, stadt):\n",
    "        self.strasse = strasse\n",
    "        self.hausnummer = hausnummer\n",
    "        self.postleitzahl = plz\n",
    "        self.stadt = stadt\n",
    "    \n",
    "    def print(self):\n",
    "        print('Straße = ', self.strasse)\n",
    "        print('Hausnummer = ', self.hausnummer)\n",
    "        print('Postleitzahl = ', self.postleitzahl)\n",
    "        print('Stadt = ', self.stadt)"
   ]
  },
  {
   "cell_type": "code",
   "execution_count": null,
   "id": "e74ee9ba-4aad-44f0-8be2-91899679331b",
   "metadata": {},
   "outputs": [],
   "source": [
    "adresse_fra_uas = Adresse('Nibelungenplatz', 1, 60318, 'Frankfurt am Main')\n",
    "adresse_fra_uas.print()"
   ]
  },
  {
   "cell_type": "markdown",
   "id": "3ebe307b-71d7-4c74-b66d-6605b8999eb8",
   "metadata": {},
   "source": [
    "Vielleicht möchten wir die Print-Ausgabe unterschiedlich haben, z.B. alles in einer Zeile. Wir erweitern unsere Klasse mit einer neuen Methode namens `print_einzeilig()`:"
   ]
  },
  {
   "cell_type": "code",
   "execution_count": null,
   "id": "5a77aadf-7595-4feb-8a47-6b8b0ee3393d",
   "metadata": {},
   "outputs": [],
   "source": [
    "class Adresse:\n",
    "    def __init__(self, strasse, hausnummer, plz, stadt):\n",
    "        self.strasse = strasse\n",
    "        self.hausnummer = hausnummer\n",
    "        self.postleitzahl = plz\n",
    "        self.stadt = stadt\n",
    "    \n",
    "    def print(self):\n",
    "        print('Straße: ', self.strasse)\n",
    "        print('Hausnummer: ', self.hausnummer)\n",
    "        print('Postleitzahl: ', self.postleitzahl)\n",
    "        print('Stadt: ', self.stadt)\n",
    "        \n",
    "    def print_einzeilig(self):\n",
    "        print('{} {}, {} {}'.format(self.strasse, self.hausnummer, self.postleitzahl, self.stadt ))"
   ]
  },
  {
   "cell_type": "code",
   "execution_count": null,
   "id": "e263bf89-fd24-4aa8-adc1-6b1ac428e4be",
   "metadata": {},
   "outputs": [],
   "source": [
    "adresse_fra_uas = Adresse('Nibelungenplatz', 1, 60318, 'Frankfurt am Main')\n",
    "\n",
    "print('zuerst so:')\n",
    "adresse_fra_uas.print()\n",
    "\n",
    "print('\\n und \\ndann einzeilig:')\n",
    "adresse_fra_uas.print_einzeilig()"
   ]
  },
  {
   "cell_type": "markdown",
   "id": "51bc2efe-aefc-4335-9e94-7fde17011810",
   "metadata": {},
   "source": [
    "**Mini-Übung**\n",
    "\n",
    "Fügen Sie Ihrer Klasse zum Verwalten von Studierenden zwei Print-Funktionen hinzu. Die erste Print-Funktion soll in einer Zeile `Vorname Nachname (xxxxxx)` ausgeben, wobei das xxxxxx für die Matrikel-Nummer steht, also z.B.\n",
    "\n",
    "```\n",
    "Alice Wunderland (123456)\n",
    "```\n",
    "\n",
    "ausgeben. Die zweite soll `Nachname, Vorname (Matrikel-Nummer: xxxxxx)` ausgeben, also z.B.\n",
    "\n",
    "```\n",
    "Wunderland, Alice (Matrikel-Nummer: 123456)\n",
    "```"
   ]
  },
  {
   "cell_type": "code",
   "execution_count": null,
   "id": "860adb6c-766c-4863-a16d-4606c5ddbef4",
   "metadata": {},
   "outputs": [],
   "source": [
    "# Ihr Code:\n",
    "\n",
    "class Studierende:\n",
    "    def __init__(self, vorname, nachname, matrikelnummer):\n",
    "        self.vorname = vorname\n",
    "        self.nachname = nachname\n",
    "        self.matrikelnummer = matrikelnummer\n",
    "        \n",
    "    def print_vorname_nachname_matrikelnummer(self):\n",
    "        print('{} {} ({})'.format(self.vorname, self.nachname, self.matrikelnummer))\n",
    "        \n",
    "    def print_nachname_vorname_matrikelnummer(self):\n",
    "        print('{}, {} (Matrikel-Nummer: {})'.format(self.nachname, self.vorname, self.matrikelnummer))\n",
    "        \n",
    "# Test der Klasse\n",
    "student1 = Studierende('Alice', 'Wunderland', 123456)\n",
    "student1.print_vorname_nachname_matrikelnummer()\n",
    "student1.print_nachname_vorname_matrikelnummer()\n",
    "\n",
    "student2 = Studierende('Bob', 'Baumeister', 234567)\n",
    "student2.print_vorname_nachname_matrikelnummer()\n",
    "student2.print_nachname_vorname_matrikelnummer()"
   ]
  },
  {
   "cell_type": "markdown",
   "id": "6b6139ed-82c0-4787-96ba-e88d23714c53",
   "metadata": {},
   "source": [
    "Bisher hatten wir nur Methoden ohne weitere Eingabe-Parameter (natürlich mit dem self-Parameter, der gehört zu allen Methoden dazu). Methoden können aber auch weitere Parameter haben. Beispielsweise könnte man eine Print-Funktion schreiben, bei der durch einen Parameter gesteuert wird, ob die Adresse in vier oder in einer Zeile angezeigt wird:"
   ]
  },
  {
   "cell_type": "code",
   "execution_count": null,
   "id": "d0e435cb-da04-451c-ba27-f90b3dfe23b5",
   "metadata": {},
   "outputs": [],
   "source": [
    "class Adresse:\n",
    "    def __init__(self, strasse, hausnummer, plz, stadt):\n",
    "        self.strasse = strasse\n",
    "        self.hausnummer = hausnummer\n",
    "        self.postleitzahl = plz\n",
    "        self.stadt = stadt\n",
    "    \n",
    "    def print(self, einzeilig):\n",
    "        if einzeilig == True:\n",
    "            print('{} {}, {} {}'.format(self.strasse, self.hausnummer, self.postleitzahl, self.stadt ))\n",
    "        else:    \n",
    "            print('Straße: ', self.strasse)\n",
    "            print('Hausnummer: ', self.hausnummer)\n",
    "            print('Postleitzahl: ', self.postleitzahl)\n",
    "            print('Stadt: ', self.stadt)\n",
    "    "
   ]
  },
  {
   "cell_type": "markdown",
   "id": "38bf4259-8267-4888-996d-c6c865f6c3d5",
   "metadata": {},
   "source": [
    "Probieren wir es aus:"
   ]
  },
  {
   "cell_type": "code",
   "execution_count": null,
   "id": "17b5ad3a-14df-46ed-8e3f-2cf1225f52a0",
   "metadata": {},
   "outputs": [],
   "source": [
    "adresse_fra_uas = Adresse('Nibelungenplatz', 1, 60318, 'Frankfurt am Main')\n",
    "\n",
    "print('zuerst einzeilig:')\n",
    "adresse_fra_uas.print(True)\n",
    "\n",
    "print('\\nund dann vierzeilig:')\n",
    "adresse_fra_uas.print(False)"
   ]
  },
  {
   "cell_type": "markdown",
   "id": "3ef3b6e0-c03d-40e8-b6d4-6d44fea8851a",
   "metadata": {},
   "source": [
    "Zuletzt betrachten wir noch Methoden mit Rückgabewert. Wie bei Funktionen auch genügt es mit dem Schlüsselwort `return` den Rückgabewert zu definieren. Sehr häufig ist dabei der Fall, dass eine Eigenschaft des Objektes zurückgegeben wird. Dann wird in der Regel der Methodenname\n",
    "\n",
    "```\n",
    "get_attribut()\n",
    "```\n",
    "\n",
    "gewählt.\n",
    "\n",
    "Aber prinzipiell kann der Rückgabewert auch eine Berechnung oder ähnliches enthalten."
   ]
  },
  {
   "cell_type": "code",
   "execution_count": null,
   "id": "bb81714a-482f-4832-8848-eb154c63e412",
   "metadata": {},
   "outputs": [],
   "source": [
    "class Adresse:\n",
    "    def __init__(self, strasse, hausnummer, plz, stadt):\n",
    "        self.strasse = strasse\n",
    "        self.hausnummer = hausnummer\n",
    "        self.postleitzahl = plz\n",
    "        self.stadt = stadt\n",
    "    \n",
    "    def print(self, einzeilig):\n",
    "        if einzeilig == True:\n",
    "            print('{} {}, {} {}'.format(self.strasse, self.hausnummer, self.postleitzahl, self.stadt ))\n",
    "        else:    \n",
    "            print('Straße: ', self.strasse)\n",
    "            print('Hausnummer: ', self.hausnummer)\n",
    "            print('Postleitzahl: ', self.postleitzahl)\n",
    "            print('Stadt: ', self.stadt)\n",
    " \n",
    "    def get_stadt(self, grossschreibung):\n",
    "        if grossschreibung == True:\n",
    "            return self.stadt.upper()\n",
    "        else:\n",
    "            return self.stadt"
   ]
  },
  {
   "cell_type": "markdown",
   "id": "d556001f-eafa-4788-99ac-4eca02efef61",
   "metadata": {},
   "source": [
    "Und auch diese Methode probieren wir aus. Je nachdem, ob die Methode mit `True` oder `False` aufgerufen wird, gibt die Methode den String `self.stadt` zurück, entweder normal geschrieben oder in Großbuchstaben. Dabei haben wir die Methode `.upper()` verwendet, die alle Buchstaben eines Strings in Großbuchstaben verwandelt."
   ]
  },
  {
   "cell_type": "code",
   "execution_count": null,
   "id": "aba79c5e-f85d-4e20-87f3-e5abb7aef42e",
   "metadata": {},
   "outputs": [],
   "source": [
    "adresse_fra_uas = Adresse('Nibelungenplatz', 1, 60318, 'Frankfurt am Main')\n",
    "\n",
    "print('zuerst normal:')\n",
    "s = adresse_fra_uas.get_stadt(False)\n",
    "print(s)\n",
    "\n",
    "print('\\nund dann groß geschrieben:')\n",
    "s = adresse_fra_uas.get_stadt(True)\n",
    "print(s)"
   ]
  },
  {
   "cell_type": "markdown",
   "id": "1db3edb2-9bf8-40fc-99f4-7254de8ae372",
   "metadata": {},
   "source": [
    "**Mini-Übung**   \n",
    "Erweitern Sie die Klasse zum Verwalten von Studierenden (Vorname, Name, Matrikel-Nummer) um ein Attribut vorleistung_bestanden. Anfangs sollte dieses Attribut auf `False` gesetzt werden. Implementieren Sie eine Methode, die es ermöglicht, dieses Attribut auf `True` zu setzen.\n",
    "\n",
    "Testen Sie anschließend Ihre erweiterte Klasse."
   ]
  },
  {
   "cell_type": "code",
   "execution_count": null,
   "id": "8700ac29-e3c8-48b4-ba6f-3cc199e5058b",
   "metadata": {},
   "outputs": [],
   "source": [
    "# Hier Ihr Code:\n",
    "\n",
    "class Studierende:\n",
    "    def __init__(self, vorname, nachname, matrikelnummer):\n",
    "        self.vorname = vorname\n",
    "        self.nachname = nachname\n",
    "        self.matrikelnummer = matrikelnummer\n",
    "        self.vorleistung_bestanden = False\n",
    "\n",
    "    def print_vorname_nachname_matrikelnummer(self):\n",
    "        print('{} {} (Matrikel-Nummer: {})'.format(self.vorname, self.nachname, self.matrikelnummer))\n",
    "\n",
    "    def print_nachname_vorname_matrikelnummer(self):\n",
    "        print('{}, {} (Matrikel-Nummer: {})'.format(self.nachname, self.vorname, self.matrikelnummer))\n",
    "        \n",
    "    def setze_vorleistung_bestanden(self):\n",
    "        self.vorleistung_bestanden = True\n",
    "        \n",
    "student = Studierende('Bob', 'Baumeister', 234567)\n",
    "\n",
    "print('Vorleistung bestanden???')\n",
    "print(student.vorleistung_bestanden)\n",
    "\n",
    "student.setze_vorleistung_bestanden()\n",
    "print('Vorleistung bestanden???')\n",
    "print(student.vorleistung_bestanden)\n",
    "        \n",
    "    \n"
   ]
  },
  {
   "cell_type": "markdown",
   "id": "583a32a5-c220-4000-8a5f-af3f37680e63",
   "metadata": {},
   "source": [
    "<div class=\"alert alert-block alert-info\">\n",
    "\n",
    "Hier finden Sie das YouTube-Video \"Methoden in Klassen\" aus dem Python-Tutorial Crashkurs:\n",
    "> https://www.youtube.com/watch?v=58IjjwHs_4A&list=PL_pqkvxZ6ho3u8PJAsUU-rOAQ74D0TqZB&index=24\n",
    "\n",
    "</div>"
   ]
  },
  {
   "cell_type": "markdown",
   "id": "68455a68-5a6c-41b5-99c1-8d5894710a8d",
   "metadata": {},
   "source": [
    "## Module \n",
    "\n",
    "Python bietet schon einige Standard-Funktionen, die Sie ja bereits in den letzten Kapiteln kennengelernt haben. Natürlich gehören dazu Funktionen wie `input()` und `print()`, aber auch eingebaute Sprachelemente wie `if`, `while` und `for`. \n",
    "\n",
    "Rund um diesen Python-Kern haben Programmiererinnen und Programmierer neue Funktionen implementiert, meistens zusammenhängend zu einem bestimmten Thema. Zwei Module haben wir schon erwähnt, das `math`- und das `random`-Modul."
   ]
  },
  {
   "cell_type": "markdown",
   "id": "3239f80a-422d-4e7c-8f13-6df5134f02fb",
   "metadata": {},
   "source": [
    "**Mini-Übung**   \n",
    "Lesen Sie nach: Welche Funktionalitäten beinhaltet das `math`-Modul? Hier finden Sie die offizielle Dokumentation: \n",
    "\n",
    "> https://docs.python.org/3/library/math.html \n",
    "\n",
    "Bitte suchen Sie eine Funktion heraus und übersetzen Sie deren Beschreibung ins Deutsche:\n",
    "\n",
    "...\n"
   ]
  },
  {
   "cell_type": "markdown",
   "id": "4b53c0d1-5d3d-402e-8573-9615202cfd79",
   "metadata": {},
   "source": [
    "Es gibt mehrere Möglichkeiten, die Funktionen eines Moduls zu laden. Üblicherweise werden alle benötigten Module zu Beginn geladen, auch wenn man sie erst später braucht. Mit\n",
    "\n",
    "```python\n",
    "from modul import funktion\n",
    "```\n",
    "\n",
    "importiert man aus dem Module `modul` die Funktion `funktion`. Beispielsweise importieren wir mit\n",
    "\n",
    "```python\n",
    "from math import sqrt\n",
    "```\n",
    "\n",
    "die Wurzelfunktion.\n"
   ]
  },
  {
   "cell_type": "code",
   "execution_count": null,
   "id": "3c79ae79-973d-4bda-9118-69974ef519c5",
   "metadata": {},
   "outputs": [],
   "source": [
    "from math import sqrt\n",
    "sqrt(49)"
   ]
  },
  {
   "cell_type": "markdown",
   "id": "aaf327a1-5661-47a3-8bdd-1bde0554c600",
   "metadata": {},
   "source": [
    "Zu einem Modul können nicht nur Funktionen gehören, sondern auch Konstanten. Hier sehen Sie $\\pi$:"
   ]
  },
  {
   "cell_type": "code",
   "execution_count": null,
   "id": "58093fe7-a7c0-4416-8973-4f82fe944e78",
   "metadata": {},
   "outputs": [],
   "source": [
    "from math import pi\n",
    "pi * 2"
   ]
  },
  {
   "cell_type": "markdown",
   "id": "146064b3-d2c5-46d5-8cf3-5fdd0c596bc0",
   "metadata": {},
   "source": [
    "Das andere Modul, das wir schon gesehen haben, ist eine Sammlung von Funktionen rund um alles, was mit Zufall zu tun hat. Raten Sie, was könnte folgender Code bedeuten?"
   ]
  },
  {
   "cell_type": "code",
   "execution_count": null,
   "id": "8cd9eb57-79fd-48d6-a6d4-a085e28caf88",
   "metadata": {},
   "outputs": [],
   "source": [
    "from random import randint\n",
    "x = randint(1,49)\n",
    "print(x)"
   ]
  },
  {
   "cell_type": "markdown",
   "id": "c807ecb9-bfd5-42b2-b3f1-b0d07a59b194",
   "metadata": {},
   "source": [
    "Oft ist es so, dass Sie eine bestimmte Problemstellung durch die Programmierung lösen wollen und daher sehr viele Funktionen oder Konstanten des gleichen Moduls benötigen. Wir können durch den Befehl\n",
    "\n",
    "```python\n",
    "from modul import *\n",
    "```\n",
    "\n",
    "*alle* Funktionen und Konstanten des Moduls gleichzeitig importieren. "
   ]
  },
  {
   "cell_type": "code",
   "execution_count": null,
   "id": "b9f9e656-a094-413c-86f8-21da7a444209",
   "metadata": {},
   "outputs": [],
   "source": [
    "from math import *\n",
    "\n",
    "print('Die Kreiszahl ist: ', pi)\n",
    "print('Die eulersche Zahl ist: ', e)\n",
    "print('Und exp(0) = ', exp(0))"
   ]
  },
  {
   "cell_type": "markdown",
   "id": "1e55cb41-740e-41c2-8b61-a8cc0a2ff60d",
   "metadata": {},
   "source": [
    "Auch wenn diese Möglichkeit besteht, sollten Sie nur sehr selten und wohlüberlegt davon Gebrauch machen. In den seltesten Fällen kennen wir nämlich alle dort definierten Funktionen und Konstanten. Es könnte sein, dass Sie mit dem `import *` zufällig eine Konstante importieren, die Sie selbst schon definiert haben und damit Ihre Arbeit überschreiben.\n",
    "\n",
    "Daher ist folgende Lösung die Variante, die von den meisten Programmiererinnen und Programmieren verwendet wird:\n",
    "\n",
    "```python\n",
    "import modul as modulabkuerzung\n",
    "```\n",
    "\n",
    "Dann müssen sämtliche Konstanten und Funktionen aufgerufen werden, indem wir den Abkürzungsnamen des Moduls mit einem Punkt vor die Funktion setzen.\n",
    "\n"
   ]
  },
  {
   "cell_type": "code",
   "execution_count": null,
   "id": "ce84fda0-e9df-4042-adb2-4a12b23aefd3",
   "metadata": {},
   "outputs": [],
   "source": [
    "import random as rnd\n",
    "\n",
    "x = rnd.randint(1,49)\n",
    "print(x)"
   ]
  },
  {
   "cell_type": "code",
   "execution_count": null,
   "id": "6dfb1f7c-58c0-4fad-bf43-71d926ed0dc9",
   "metadata": {},
   "outputs": [],
   "source": [
    "import numpy as np\n",
    "import math as math\n",
    "\n",
    "print(np.sin(pi))\n",
    "print(math.sin(pi))"
   ]
  },
  {
   "cell_type": "markdown",
   "id": "72fabede-d8e8-426f-975e-6311983277c8",
   "metadata": {},
   "source": [
    "Warum sollte man diese etwas kompliziertere Schreibweise nehmen? Viele Module haben Überschneidungen.  Die Konstante $\\pi$ ist beispielsweise nicht nur im Modul `math`, sondern auch in den Modulen `sympy` und `numpy`. Wenn Sie jedoch explizit den Namen des Moduls davor schreiben, gibt es keine Verwechslungsgefahr. Bei einer Konstanten mag dieser Aufwand übertrieben wirken, aber bei Funktionen kann der Unterschied der verschiedenen Implementierungen zu völlig unerwarteten Verhalten führen.  "
   ]
  },
  {
   "cell_type": "markdown",
   "id": "0939b84a-7405-498f-a9f0-220c4862f56a",
   "metadata": {},
   "source": [
    "# Übungsaufgaben"
   ]
  },
  {
   "cell_type": "markdown",
   "id": "902379cb-bfeb-4260-ba2c-779120f8ca0b",
   "metadata": {},
   "source": [
    "<div class=\"alert alert-block alert-success\">\n",
    "<b>Aufgabe 4.1: Datumsklasse </b> \n",
    "\n",
    "Implementieren Sie eine Klasse Datum. Diese Klasse speichert Tag, Monat und Jahr als Attribut. \n",
    "* Implementieren Sie Methoden, die diese Attribute verändern können. Dabei soll die Methode per Print()-Funktion warnen, wenn eine nicht zulässige Zahl verwendet wird und dann nicht die Änderung durchführen. \n",
    "* Implementieren Sie eine Methode `get_datum_deutsch()`, die das Datum als String nach dem Muster `TT.MM.JJJJ` zurückgibt, also z.B. '06.12.2021'.\n",
    "* Implementieren Sie eine Methode `get_datum_britisch()`, die das Datum als String nach dem Muster `TT/MM/JJJJ` zurückgibt, also z.B. '06/12/2021'.\n",
    "* Implementieren Sie eine Methode `get_datum_amerikanisch()`, die das Datum als String nach dem Muster `MM/TT/JJJJ` zurückgibt, also z.B. '12/06/2021'.\n",
    "\n",
    "</div>"
   ]
  },
  {
   "cell_type": "markdown",
   "id": "ff8f0a21-8263-4559-a688-327144372450",
   "metadata": {},
   "source": [
    "<div class=\"alert alert-block alert-success\">\n",
    "<b>Aufgabe 4.2: Auto </b> \n",
    "\n",
    "Implementieren Sie eine Klasse Auto. Diese Klasse speichert Marke, Erstzulassung, Kilometerstand und Verkaufspreis.\n",
    "* Mit jeder Probefahrt steigt der Kilometerstand. Implementieren Sie eine Methode, die einen neuen Kilometerstand setzt. Wenn aber der neue Kilometerstand, der gesetzt werden soll, kleiner als der aktuelle ist, soll eine Fehlermeldung angezeigt werden.\n",
    "* Erweitern Sie die Klasse Auto um ein Attribut Sonstiges. Anfangs soll dieses Attribut leer sein. \n",
    "* Implementieren Sie eine Methode, mit dem Sie das Attribut Sonstiges füllen können (Freitext, also String).\n",
    "\n",
    "</div>"
   ]
  }
 ],
 "metadata": {
  "jupytext": {
   "formats": "ipynb,md:myst"
  },
  "kernelspec": {
   "display_name": "Python 3.9.13 ('python39')",
   "language": "python",
   "name": "python3"
  },
  "language_info": {
   "codemirror_mode": {
    "name": "ipython",
    "version": 3
   },
   "file_extension": ".py",
   "mimetype": "text/x-python",
   "name": "python",
   "nbconvert_exporter": "python",
   "pygments_lexer": "ipython3",
   "version": "3.9.13"
  },
  "vscode": {
   "interpreter": {
    "hash": "1863971d65633e53ca5b74972b86a14fab6d597ce2ac84dc984546545d2d3a9b"
   }
  }
 },
 "nbformat": 4,
 "nbformat_minor": 5
}
