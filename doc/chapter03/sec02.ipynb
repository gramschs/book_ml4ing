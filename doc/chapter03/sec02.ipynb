{
 "cells": [
  {
   "cell_type": "markdown",
   "id": "84955c53-f493-426a-8e1a-6178e05780aa",
   "metadata": {},
   "source": [
    "# Woche 03 - Python Crashkurs (Teil 2)\n",
    "\n",
    "In dieser Woche werden wir uns mit den Themen\n",
    "* Datentyp Liste\n",
    "* Kontrollstrukturen: Schleifen mit \"for\"\n",
    "* Funktionen \n",
    "    * Definition einer Funktion\n",
    "    * Funktionen mit Eingabeparametern\n",
    "    * Funktionen mit Eingabeparametern und einem Rückgabewert\n",
    "    * Funktionen mit Eingabeparametern und mehreren Rückgabewerten\n",
    "    * Funktionen: Vorsicht mit lokalen Variablen\n",
    "beschäftigen.\n",
    "\n"
   ]
  },
  {
   "cell_type": "markdown",
   "id": "0b8361a1-4f4b-4098-8590-1d31f74ba48a",
   "metadata": {},
   "source": [
    "## Listen\n",
    "\n",
    "Eine Liste ist eine Sequenz von Objekten, Dabei können die Objekte einen beliebigen Datentyp aufweisen. Z.B. könnte eine Liste Integer enthalten:"
   ]
  },
  {
   "cell_type": "code",
   "execution_count": 16,
   "id": "5b8ae021-e73c-480a-bfc0-1ea4d53bcebf",
   "metadata": {},
   "outputs": [
    {
     "name": "stdout",
     "output_type": "stream",
     "text": [
      "[34, 12, 54]\n"
     ]
    }
   ],
   "source": [
    "a = [34, 12, 54]\n",
    "print(a)"
   ]
  },
  {
   "cell_type": "code",
   "execution_count": 17,
   "id": "4d7af904-e31a-45d3-a3dd-293000dfa793",
   "metadata": {},
   "outputs": [
    {
     "name": "stdout",
     "output_type": "stream",
     "text": [
      "['Alice', 'Bob', 'Charlie']\n"
     ]
    }
   ],
   "source": [
    "a = ['Alice', 'Bob', 'Charlie']\n",
    "print(a)"
   ]
  },
  {
   "cell_type": "markdown",
   "id": "2930dad1-af27-4ce6-8e4b-3e0bc87a3243",
   "metadata": {},
   "source": [
    "Eine leere Liste wird durch `[]` definiert:"
   ]
  },
  {
   "cell_type": "code",
   "execution_count": 18,
   "id": "3c8b4a05-b10d-4b53-ae66-120a8a51c85d",
   "metadata": {},
   "outputs": [
    {
     "name": "stdout",
     "output_type": "stream",
     "text": [
      "[]\n"
     ]
    }
   ],
   "source": [
    "a = []\n",
    "print(a)"
   ]
  },
  {
   "cell_type": "markdown",
   "id": "3ace4769-09fa-4886-b02c-2844fa20c2f6",
   "metadata": {},
   "source": [
    "Der Datentyp heißt formal `list`:"
   ]
  },
  {
   "cell_type": "code",
   "execution_count": 19,
   "id": "f047d09f-dcdf-4626-abb3-ef0b325e15ef",
   "metadata": {},
   "outputs": [
    {
     "data": {
      "text/plain": [
       "list"
      ]
     },
     "execution_count": 19,
     "metadata": {},
     "output_type": "execute_result"
    }
   ],
   "source": [
    "type(a)"
   ]
  },
  {
   "cell_type": "markdown",
   "id": "d8911eeb-5ff5-48c4-bfc7-525b562a9b04",
   "metadata": {},
   "source": [
    "Genau wie bei Strings gibt die Funktion `len()` die Anzahl der Elemente zurück:"
   ]
  },
  {
   "cell_type": "code",
   "execution_count": 20,
   "id": "bd6d8ed2-e6fe-4df2-8217-06083fabe938",
   "metadata": {},
   "outputs": [
    {
     "data": {
      "text/plain": [
       "5"
      ]
     },
     "execution_count": 20,
     "metadata": {},
     "output_type": "execute_result"
    }
   ],
   "source": [
    "a = ['Hund', 'Katze', 'Maus', 'Affe','Elefant']\n",
    "len(a)"
   ]
  },
  {
   "cell_type": "markdown",
   "id": "83b1c032-c64f-4b12-959a-dafc9ff3ea4f",
   "metadata": {},
   "source": [
    "Es können verschiedene Datentypen in einer Liste gemischt werden:"
   ]
  },
  {
   "cell_type": "code",
   "execution_count": 21,
   "id": "075ec530-3da0-4a02-a237-c0bc48d3be22",
   "metadata": {},
   "outputs": [
    {
     "name": "stdout",
     "output_type": "stream",
     "text": [
      "[123, 'Ente', -42, 17.4, 0, 'Elefant']\n"
     ]
    }
   ],
   "source": [
    "a = [123, 'Ente', -42, 17.4, 0, 'Elefant']\n",
    "print(a)"
   ]
  },
  {
   "cell_type": "markdown",
   "id": "c96f833b-3ce0-498f-8063-80faaad2c5e8",
   "metadata": {},
   "source": [
    "\n",
    "**Mini-Übung:**   \n",
    "Erzeugen Sie eine Einkaufsliste, um einen Obstsalat zuzubereiten und speichern Sie diese Liste in der Variablen `einkaufsliste`. Lassen Sie dann den Computer bzw. den Python-Interpreter zählen, wie viele Zutaten Ihre Liste enthält und geben Sie dann die Anzahl aus."
   ]
  },
  {
   "cell_type": "code",
   "execution_count": 22,
   "id": "8e47e168-bbb8-4a59-ad47-d1e48c16ad2c",
   "metadata": {},
   "outputs": [],
   "source": [
    "# Hier Ihr Code:\n",
    "\n"
   ]
  },
  {
   "cell_type": "markdown",
   "id": "c4079bac-913f-457e-bd8f-048f571647ea",
   "metadata": {},
   "source": [
    "Zwei Listen werden verkettet (“concatenate”) durch den `+` Operator:"
   ]
  },
  {
   "cell_type": "code",
   "execution_count": 23,
   "id": "1ad8fc9c-80e2-4927-90f9-b888ee7c0c45",
   "metadata": {},
   "outputs": [
    {
     "name": "stdout",
     "output_type": "stream",
     "text": [
      "[37, 3, 5, 3, 35, 100]\n"
     ]
    }
   ],
   "source": [
    "a = [37, 3, 5] + [3, 35, 100]\n",
    "print(a)"
   ]
  },
  {
   "cell_type": "markdown",
   "id": "7db1dc09-dff1-4dd2-8efd-f0476f926573",
   "metadata": {},
   "source": [
    "Um an das Ende der Liste ein neues Element einzufügen, verwendet man die Methode `append()`. Eine **Methode** ist eine spezielle Funktion, die zu dem Datentyp gehört und daher an die Variable angehängt wird, indem man einen Punkt schreibt und dann den Methodennamen.\n",
    "\n",
    "Was Methoden genau sind, werden wir noch in einer der nächsten Vorlesungen lernen."
   ]
  },
  {
   "cell_type": "code",
   "execution_count": 24,
   "id": "c46ed31a-fb3e-414e-a009-0bf1239bb639",
   "metadata": {},
   "outputs": [
    {
     "name": "stdout",
     "output_type": "stream",
     "text": [
      "[34, 56, 23]\n",
      "[34, 56, 23, 42]\n"
     ]
    }
   ],
   "source": [
    "a = [34, 56, 23]\n",
    "print(a)\n",
    "\n",
    "a.append(42)\n",
    "print(a)"
   ]
  },
  {
   "cell_type": "markdown",
   "id": "10ca22c9-fb0b-4387-a569-5c1b457206b6",
   "metadata": {},
   "source": [
    "Aus der Liste können Elemente durch die `remove()`-Methode gelöscht werden. Dabei wird das Element, das gelöscht werden soll, der Methode als Argument übergeben."
   ]
  },
  {
   "cell_type": "code",
   "execution_count": 25,
   "id": "de8c1c1c-6d0f-4673-9e75-9c812445a8a4",
   "metadata": {},
   "outputs": [
    {
     "name": "stdout",
     "output_type": "stream",
     "text": [
      "[34, 56, 23, 42]\n",
      "[34, 23, 42]\n"
     ]
    }
   ],
   "source": [
    "a = [34, 56, 23, 42]\n",
    "print(a)\n",
    "\n",
    "a.remove(56)\n",
    "print(a)"
   ]
  },
  {
   "cell_type": "markdown",
   "id": "daf9de38-f70a-4a88-b881-ee05553db850",
   "metadata": {},
   "source": [
    "**Mini-Übung:**   \n",
    "Nehmen Sie Ihre Einkaufsliste für den Obsalat von vorhin. Fügen Sie noch Zimt und Zucker hinzu. Leider passen in Ihren Einkaufswagen nur maximal 5 Sachen. Lassen Sie überprüfen, ob Ihre Einkaufsliste nun mehr als 5 Zutaten enthält. Falls ja, lassen Sie eine Warnung ausgeben."
   ]
  },
  {
   "cell_type": "code",
   "execution_count": 26,
   "id": "1dc57c25-5443-4886-be02-751de088d15c",
   "metadata": {},
   "outputs": [],
   "source": [
    "# Hier Ihr Code:\n",
    "\n"
   ]
  },
  {
   "cell_type": "markdown",
   "id": "51937972-604f-4bc9-9afc-9ae3ddd0284d",
   "metadata": {},
   "source": [
    "Listen sind (übrigens genau wie Strings) ein **sequentieller Container**.\n",
    "\n",
    "Sequentielle Container sind Sammlungen von Datenobjekten. Manchmal werden sie auch kurz als **Sequenzen** abgekürzt. Sequentielle Container sind mit ganzen Zahlen, also Integern, durchnummeriert. Die Nummerierung beginnt bei 0. Die Nummer eines Elementes aus der Sequenz nennt man Index. Umgangssprachlich könnte man den Index auch als Hausnummer bezeichnen.\n",
    "\n",
    "In einer Sequenz hat also das erste Element den Index 0. Das zweite Element hat den Index 1 usw. Um ein einzelnes Element einer Sequenz herausgreifen zu können, schreibt man `s[i]`. Dabei ist s der Name der Sequenz. Um einfach auf das letzte Element einer Sequenz zugreifen zu können, hat Python den Index -1 eingeführt.\n",
    "\n",
    "Probieren wir ein paar Beispiele aus:"
   ]
  },
  {
   "cell_type": "code",
   "execution_count": 27,
   "id": "b5ba1f7c-ae66-4494-aaf9-befb5077daf7",
   "metadata": {},
   "outputs": [
    {
     "name": "stdout",
     "output_type": "stream",
     "text": [
      "Das erste Element in der Liste ist: \n",
      "34\n"
     ]
    }
   ],
   "source": [
    "a = [34, 56, 23, 42]\n",
    "print('Das erste Element in der Liste ist: ')\n",
    "erstes = a[0]\n",
    "print(erstes)"
   ]
  },
  {
   "cell_type": "markdown",
   "id": "dfd2020f-545d-4f07-945b-fb4849201cd1",
   "metadata": {},
   "source": [
    "Für sequentielle Container und damit auch insbesondere für Listen bietet Python Standardfunktionen. Hier die wichtigsten:\n",
    "\n",
    "* `liste[i]` gibt das i-te Element von `liste` zurück\n",
    "* `liste[i:j]` gibt die Elemente i bis j-1 zurück\n",
    "* `liste[start:ende:schrittweite]` gibt die Elemente von Index `start` bis `ende-1` mit einer Schrittweite aus \n",
    "* `len(liste)` gibt die Anzahl der Elemente von liste zurück\n",
    "* `min(liste)` gibt das kleinste Element von `liste` zurück\n",
    "* `max(liste)` gibt das größte Element von `liste` zurück\n",
    "* `x in liste` gibt den Wahrheitswert `True` zurück, wenn `x` in der Sequenz `liste` enthalten ist\n",
    "* `liste1 + liste2` verknüpft `liste1` und `liste2`\n",
    "* `n * liste` generiert `n` Kopien der Sequenz `liste`"
   ]
  },
  {
   "cell_type": "markdown",
   "id": "91e5e280-9ba1-426b-9c0e-27906ed28d77",
   "metadata": {},
   "source": [
    "Probieren wir sie an Beispielen aus. Denken Sie sich eigene Beispiele aus, um die Funktionen kennenzulernen:"
   ]
  },
  {
   "cell_type": "code",
   "execution_count": 28,
   "id": "fd11e055-ac81-43b5-83bc-8160cbe8bd69",
   "metadata": {},
   "outputs": [
    {
     "data": {
      "text/plain": [
       "'VIER'"
      ]
     },
     "execution_count": 28,
     "metadata": {},
     "output_type": "execute_result"
    }
   ],
   "source": [
    "liste = [1,2,'drei','VIER',5]\n",
    "liste[3]"
   ]
  },
  {
   "cell_type": "code",
   "execution_count": 29,
   "id": "75a166b6-657a-4ee5-af51-bdc59f485892",
   "metadata": {},
   "outputs": [
    {
     "data": {
      "text/plain": [
       "['drei', 'VIER']"
      ]
     },
     "execution_count": 29,
     "metadata": {},
     "output_type": "execute_result"
    }
   ],
   "source": [
    "liste[2:4]"
   ]
  },
  {
   "cell_type": "code",
   "execution_count": 30,
   "id": "d40bd290-4f6e-4f21-b877-065f42a96172",
   "metadata": {},
   "outputs": [],
   "source": [
    "#max(liste)"
   ]
  },
  {
   "cell_type": "code",
   "execution_count": 31,
   "id": "7d349374-3da8-49e0-bc77-e2ffa208f2b7",
   "metadata": {},
   "outputs": [
    {
     "data": {
      "text/plain": [
       "5"
      ]
     },
     "execution_count": 31,
     "metadata": {},
     "output_type": "execute_result"
    }
   ],
   "source": [
    "liste = [1,2,3,4,5]\n",
    "max(liste)"
   ]
  },
  {
   "cell_type": "code",
   "execution_count": 32,
   "id": "a76bbd30-9d98-4e89-92b2-30684a3bb985",
   "metadata": {},
   "outputs": [
    {
     "data": {
      "text/plain": [
       "'e'"
      ]
     },
     "execution_count": 32,
     "metadata": {},
     "output_type": "execute_result"
    }
   ],
   "source": [
    "liste = ['a', 'b', 'c', 'd', 'e']\n",
    "max(liste)"
   ]
  },
  {
   "cell_type": "code",
   "execution_count": 33,
   "id": "b420423e-b49f-4ffe-a34a-905c02cab0b1",
   "metadata": {},
   "outputs": [
    {
     "name": "stdout",
     "output_type": "stream",
     "text": [
      "Das a ist dabei!\n"
     ]
    }
   ],
   "source": [
    "liste = ['a', 'b', 'c', 'd', 'e']\n",
    "if 'a' in liste:\n",
    "    print('Das a ist dabei!')\n",
    "else:\n",
    "    print('Das a ist leider nicht in der Liste.')\n"
   ]
  },
  {
   "cell_type": "markdown",
   "id": "8c45e84b-95af-4986-b1a0-a55324d129d6",
   "metadata": {},
   "source": [
    "**Mini-Übung:**   \n",
    "Bleiben wir beim Obsalat, bei Ihrem ursprünglichen Rezept. Erzeugen Sie zunächst die Liste. Lassen Sie dann den Computer überprüfen, ob schon Zimt und Zucker auf der Liste stehen. Wenn noch Platz im Einkaufswagen ist (maximal 5 Zutaten), fügen Sie den Zimt dazu. Wenn dann noch Platz im Einkaufswagen ist, fügen Sie auch noch den Zucker hinzu. Lassen Sie zuletzt das erste Element der Liste ausgeben. "
   ]
  },
  {
   "cell_type": "code",
   "execution_count": 34,
   "id": "e8147f30-47b8-4a84-aee6-c3beda98e766",
   "metadata": {},
   "outputs": [],
   "source": [
    "# Hier Ihr Code:\n"
   ]
  },
  {
   "cell_type": "markdown",
   "id": "561b75c6-6a21-408d-b27b-a57335512055",
   "metadata": {},
   "source": [
    "<div class=\"alert alert-block alert-info\">\n",
    "\n",
    "Hier finden Sie die beiden YouTube-Videos \"Einführung in Listen\" und \"Zugriff auf Listen\" aus dem Python-Tutorial Crashkurs:\n",
    "> https://www.youtube.com/watch?v=ihF8bZoauBs&list=PL_pqkvxZ6ho3u8PJAsUU-rOAQ74D0TqZB&index=14\n",
    "    \n",
    "> https://www.youtube.com/watch?v=_XzWPXvya2w&list=PL_pqkvxZ6ho3u8PJAsUU-rOAQ74D0TqZB&index=15\n",
    "    \n",
    "\n",
    "</div>"
   ]
  },
  {
   "cell_type": "markdown",
   "id": "95fa5d29-59d0-4d0b-9ead-8a7ec0bd1793",
   "metadata": {},
   "source": [
    "## Kontrollstrukturen: Zählschleifen \"for\"\n",
    "\n",
    "Bei einer While-Schleife wird ein Anweisungsblock solange wiederholt, bis die dazugehörige Bedingung nicht mehr erfüllt ist. Manchmal möchte man jedoch die Anweisungen auf alle Elemente einer Menge, d.h. einer Liste, anwenden. Dazu gibt es die For-Schleife. Sie hat folgende Syntax:\n",
    "\n",
    "```python\n",
    "for element in liste:\n",
    "    anweisungsblock\n",
    "```\n",
    "\n",
    "Dabei betrachten wir zwei Fälle:\n",
    "\n",
    "1. Die Menge wird in Form einer Liste explizit aufgezählt, beispielsweise als `[4,5,7,11,21]`.\n",
    "2. Die Menge wird als Zahlenbereich beschrieben, beispielsweise als `range(3,9)`. \n",
    "\n",
    "Schauen wir uns ein erstes Beispiel an. Jedes Element der Liste `[4,5,7,11,21]` soll um 2 erhöht werden.\n",
    "\n",
    "```python\n",
    "for zahl in [4,5,7,11,21]:\n",
    "    summe = zahl + 2\n",
    "    print(\"Wenn ich zu\", zahl, \"zwei addiere, erhalte ich\", summe)\n",
    "print(\"Ich bin fertig!\")\n",
    "```"
   ]
  },
  {
   "cell_type": "code",
   "execution_count": 35,
   "id": "4617f655-071f-418e-b4b2-e144f77d8529",
   "metadata": {},
   "outputs": [
    {
     "name": "stdout",
     "output_type": "stream",
     "text": [
      "Wenn ich zu 4 zwei addiere, erhalte ich 6\n",
      "Wenn ich zu 5 zwei addiere, erhalte ich 7\n",
      "Wenn ich zu 7 zwei addiere, erhalte ich 9\n",
      "Wenn ich zu 11 zwei addiere, erhalte ich 13\n",
      "Wenn ich zu 21 zwei addiere, erhalte ich 23\n",
      "Ich bin fertig!\n"
     ]
    }
   ],
   "source": [
    "for zahl in [4,5,7,11,21]:\n",
    "    summe = zahl + 2\n",
    "    print(\"Wenn ich zu\", zahl, \"zwei addiere, erhalte ich\", summe)\n",
    "print(\"Ich bin fertig!\")"
   ]
  },
  {
   "cell_type": "markdown",
   "id": "53f568d8-9559-4c13-8c06-2b7e00e34fec",
   "metadata": {},
   "source": [
    "**Mini-Übung:**   \n",
    "Lassen Sie nacheinander die Zutaten Ihrer Einkaufsliste ausgeben. "
   ]
  },
  {
   "cell_type": "code",
   "execution_count": 36,
   "id": "31574537-90df-442c-b3d5-bd6c3a66043f",
   "metadata": {},
   "outputs": [],
   "source": [
    "# Hier Ihr Code:\n",
    "\n"
   ]
  },
  {
   "cell_type": "markdown",
   "id": "8fe02b86-b4c3-475e-9225-cde5a610d724",
   "metadata": {},
   "source": [
    "Es kommt sehr häufig vor, dass über Listen mit Zahlen iteriert werden soll. Dafür stellt Python 3 die Funktion `range()`zur Verfügung. "
   ]
  },
  {
   "cell_type": "code",
   "execution_count": 37,
   "id": "ce46f58b-82c0-4c39-b568-d4c7c9d54ee9",
   "metadata": {},
   "outputs": [
    {
     "name": "stdout",
     "output_type": "stream",
     "text": [
      "0\n",
      "1\n",
      "2\n",
      "3\n",
      "4\n",
      "5\n",
      "6\n",
      "7\n",
      "8\n",
      "9\n",
      "10\n",
      "11\n",
      "12\n",
      "13\n",
      "14\n",
      "15\n",
      "16\n",
      "Fertig!\n"
     ]
    }
   ],
   "source": [
    "for zahl in range(17):\n",
    "    print(zahl)\n",
    "print('Fertig!')"
   ]
  },
  {
   "cell_type": "markdown",
   "id": "a4d74154-3af6-4df1-bf1d-e5dcc4acb3e3",
   "metadata": {},
   "source": [
    "Wird `range(endzahl)` mit nur einem Parameter aufgerufen, dann beginnt der Python-Interpreter stets von `0` an zu zählen. Dabei ist die `endzahl` nicht inkludiert, d.h. der Python-Interpreter stoppt bei `endzahl - 1`. Es ist auch möglich, eine Startzahl vorzugeben, also:\n",
    "\n",
    "```python\n",
    "range(startzahl, endzahl)\n",
    "```"
   ]
  },
  {
   "cell_type": "code",
   "execution_count": 38,
   "id": "df5e3db7-7f8e-4520-9347-670a6d3f60ae",
   "metadata": {},
   "outputs": [
    {
     "name": "stdout",
     "output_type": "stream",
     "text": [
      "4\n",
      "5\n",
      "6\n",
      "7\n",
      "8\n",
      "9\n",
      "10\n",
      "11\n",
      "12\n",
      "Fertig!\n"
     ]
    }
   ],
   "source": [
    "for zahl in range(4,13):\n",
    "    print(zahl)\n",
    "print('Fertig!')"
   ]
  },
  {
   "cell_type": "markdown",
   "id": "6e60eaf4-51f9-4d1d-af5b-8a84c03874b6",
   "metadata": {},
   "source": [
    "Zusätzlich kann der Zahlenbereich noch durch die Angabe einer Schrittweite spezifiziert werden. Dadurch ist es beispielsweise möglich, nur ungerade Zahlen zu generieren:"
   ]
  },
  {
   "cell_type": "code",
   "execution_count": 39,
   "id": "1967b6a6-45ef-4037-a2ba-acbf77434286",
   "metadata": {},
   "outputs": [
    {
     "name": "stdout",
     "output_type": "stream",
     "text": [
      "3\n",
      "5\n",
      "7\n",
      "9\n",
      "11\n",
      "Fertig!\n"
     ]
    }
   ],
   "source": [
    "for zahl in range(3, 13, 2):\n",
    "    print(zahl)\n",
    "print('Fertig!')"
   ]
  },
  {
   "cell_type": "markdown",
   "id": "681782f8-8150-48d2-8c38-2fc417aea092",
   "metadata": {},
   "source": [
    "**Mini-Übung:**   \n",
    "Lassen Sie alle geraden Zahlen zwischen 100 und 120 ausgeben."
   ]
  },
  {
   "cell_type": "code",
   "execution_count": 40,
   "id": "847394d0-0b2c-4b1c-a178-61a20d54587d",
   "metadata": {},
   "outputs": [],
   "source": [
    "# Hier Ihr Code:\n",
    "\n"
   ]
  },
  {
   "cell_type": "markdown",
   "id": "f137f9ff-b0fa-44fb-8b79-7de03c5573dc",
   "metadata": {},
   "source": [
    "Durch Angabe einer negativen Schrittweite kann auch rückwärts gezählt werden:"
   ]
  },
  {
   "cell_type": "code",
   "execution_count": 41,
   "id": "58c1691d-4b6c-4065-b803-c0a3c5f738f1",
   "metadata": {},
   "outputs": [
    {
     "name": "stdout",
     "output_type": "stream",
     "text": [
      "13\n",
      "11\n",
      "9\n",
      "7\n",
      "5\n",
      "Fertig!\n"
     ]
    }
   ],
   "source": [
    "for zahl in range(13, 3, -2):\n",
    "    print(zahl)\n",
    "print('Fertig!')"
   ]
  },
  {
   "cell_type": "markdown",
   "id": "94e925de-838f-4b5c-81f9-f69c24bd4823",
   "metadata": {},
   "source": [
    "For-Schleifen können auch ineinander verschachtelt werden. Das ist z.B. hilfreich, wenn man alle Paare durch Kombination bilden will."
   ]
  },
  {
   "cell_type": "code",
   "execution_count": 42,
   "id": "a78a7e39-2e94-4290-a360-9c5ff21bf98f",
   "metadata": {},
   "outputs": [
    {
     "name": "stdout",
     "output_type": "stream",
     "text": [
      "Kombination Farbe mit Zahl:  rot 1\n",
      "Kombination Farbe mit Zahl:  rot 2\n",
      "Kombination Farbe mit Zahl:  rot 5\n",
      "Kombination Farbe mit Zahl:  rot 17\n",
      "Kombination Farbe mit Zahl:  grün 1\n",
      "Kombination Farbe mit Zahl:  grün 2\n",
      "Kombination Farbe mit Zahl:  grün 5\n",
      "Kombination Farbe mit Zahl:  grün 17\n",
      "Kombination Farbe mit Zahl:  blau 1\n",
      "Kombination Farbe mit Zahl:  blau 2\n",
      "Kombination Farbe mit Zahl:  blau 5\n",
      "Kombination Farbe mit Zahl:  blau 17\n"
     ]
    }
   ],
   "source": [
    "for i in ['rot', 'grün', 'blau']:\n",
    "    for j in [1, 2, 5, 17]:\n",
    "        print('Kombination Farbe mit Zahl: ', i, j)"
   ]
  },
  {
   "cell_type": "markdown",
   "id": "42747d66-1b6e-40a7-a237-55728c2d2b41",
   "metadata": {},
   "source": [
    "Natürlich kann eine for- auch mit einer if-else-Konstruktion kombiniert werden. Was vermuten Sie, macht folgender Code-Schnipsel?"
   ]
  },
  {
   "cell_type": "code",
   "execution_count": 43,
   "id": "e7936da1-ce3d-49a0-b2ea-08abb54ba064",
   "metadata": {},
   "outputs": [
    {
     "name": "stdout",
     "output_type": "stream",
     "text": [
      "Kombination Farbe mit Zahl:  rot 1\n",
      "Kombination Farbe mit Zahl:  rot 2\n",
      "Kombination Farbe mit Zahl:  rot 3\n",
      "Kombination der Farbe GRÜN mit Zahl:  1\n",
      "Kombination der Farbe GRÜN mit Zahl:  2\n",
      "Kombination der Farbe GRÜN mit Zahl:  3\n",
      "Kombination Farbe mit Zahl:  blau 1\n",
      "Kombination Farbe mit Zahl:  blau 2\n",
      "Kombination Farbe mit Zahl:  blau 3\n"
     ]
    }
   ],
   "source": [
    "for i in ['rot', 'grün', 'blau']:\n",
    "    for j in [1,2,3]:\n",
    "        if i == 'grün':\n",
    "            print('Kombination der Farbe GRÜN mit Zahl: ', j)\n",
    "        else:\n",
    "            print('Kombination Farbe mit Zahl: ', i, j)"
   ]
  },
  {
   "cell_type": "markdown",
   "id": "683c374c-52b3-4ba5-8668-a75909be7797",
   "metadata": {},
   "source": [
    "<div class=\"alert alert-block alert-info\">\n",
    "\n",
    "Hier finden Sie die beiden YouTube-Videos \"for-Schleifen\" und \"for-Schleife als Zählerschleife aus dem Python-Tutorial Crashkurs:\n",
    "> https://www.youtube.com/watch?v=ISo1uqLcVw8&list=PL_pqkvxZ6ho3u8PJAsUU-rOAQ74D0TqZB&index=16\n",
    "    \n",
    "> https://www.youtube.com/watch?v=pQh5Idw2sKM&list=PL_pqkvxZ6ho3u8PJAsUU-rOAQ74D0TqZB&index=17 \n",
    "\n",
    "</div>"
   ]
  },
  {
   "cell_type": "markdown",
   "id": "d3ec74a2-89d6-4ab5-80e1-4a4086ff4109",
   "metadata": {},
   "source": [
    "## Funktionen\n",
    "\n",
    "Eine Funktion ist eine Zusammenfassung von Code, der eine bestimmte Teilaufgabe löst. Dabei arbeitet die Funktion nach dem EVA-Prinzip. Die Funktion übernimmt Objekte als Eingabe, verarbeitet diese und liefert Objekte als Ergebnis zurück. Wie die Funktion dabei im Inneren genau funktioniert (Verarbeitung), ist unwichtig.\n",
    "\n",
    "Beispielsweise gibt es im Modul `math` die Funktion `sqrt()`. Wir wissen, dass wir der Funktion eine Zahl übergeben müssen (Eingabe), z.B. `sqrt(5)`. Die Funktion liefert dann als Ergebnis $\\sqrt{5}$ zurück. Welches Verfahren zur Berechnung der Wurzel verwendet wurde, wissen wir nicht. \n",
    "\n",
    "Insbesondere muss die Teilaufgabe, die die Funktion löst, nichts mit Mathematik zu tun haben. Eine Funktion in der Informatik hat nichts mit einer mathematischen Funktion zu tun, auch wenn oft mathematische Funktionen als Beispiel verwendet werden. Ein Beispiel für eine nicht-mathematische Funktion haben Sie mit `print()` bereits kennengelernt."
   ]
  },
  {
   "cell_type": "markdown",
   "id": "5e16f49d-d880-4253-88a9-3823a23a5435",
   "metadata": {},
   "source": [
    "### Die Benutzung von Funktionen (oder der Aufruf von Funktionen)\n",
    "\n",
    "Der Aufruf einer Funktion hat folgende Syntax:\n",
    "\n",
    "```code\n",
    "funktion( argument1, argument2, ...)\n",
    "```\n",
    "\n",
    "Eine Funktion wird benutzt, indem man den Namen der Funktion hinschreibt und dann in runden Klammern ihre Parameter, die sogenannten Argumente der Funktion. Welche Argumente für eine Funktion verwendet werden dürfen, hängt von der Implementierung der Funktion ab.\n",
    "\n",
    "Beispielsweise kann als Argument für die `len()`-Funktion ein String übergeben werden oder eine Liste. Stellen Sie eine Vermutung auf: was bewirkt die `len()`-Funktion?"
   ]
  },
  {
   "cell_type": "code",
   "execution_count": 44,
   "id": "7d917e15-8d8d-4f6a-9f74-2824065b4cb2",
   "metadata": {},
   "outputs": [
    {
     "data": {
      "text/plain": [
       "5"
      ]
     },
     "execution_count": 44,
     "metadata": {},
     "output_type": "execute_result"
    }
   ],
   "source": [
    "len('Hallo')"
   ]
  },
  {
   "cell_type": "code",
   "execution_count": 45,
   "id": "b2ef7638-d8ae-43dd-8ea3-0424d6d6525a",
   "metadata": {},
   "outputs": [
    {
     "data": {
      "text/plain": [
       "6"
      ]
     },
     "execution_count": 45,
     "metadata": {},
     "output_type": "execute_result"
    }
   ],
   "source": [
    "len([1,2,3,4,8,2])"
   ]
  },
  {
   "cell_type": "markdown",
   "id": "7ae1e068-de56-4340-bc27-8c898595fee3",
   "metadata": {},
   "source": [
    "In der Regel geben Funktionen wieder Ergebnisse zurück. Diese können einer Variable zugewiesen werden, um mit dem Ergebnis weiter zu arbeiten."
   ]
  },
  {
   "cell_type": "code",
   "execution_count": 46,
   "id": "44ee3725-2e0c-4d67-8c03-bc0acc9e5a1c",
   "metadata": {},
   "outputs": [
    {
     "name": "stdout",
     "output_type": "stream",
     "text": [
      "Das Wort Hallo enthält mehr Buchstaben als Einträge in der Liste.\n"
     ]
    }
   ],
   "source": [
    "laenge1 = len('Hallo')\n",
    "laenge2 = len(['Apfel', 'Banane', 'Erdbeere'])\n",
    "\n",
    "if laenge1 < laenge2:\n",
    "    print('Das Wort Hallo enthält weniger Buchstaben als Früchte im Obstsalat.')\n",
    "else:\n",
    "    print('Das Wort Hallo enthält mehr Buchstaben als Einträge in der Liste.')"
   ]
  },
  {
   "cell_type": "markdown",
   "id": "3e81bbfa-1c0f-4e35-b3b7-67668b57867a",
   "metadata": {},
   "source": [
    "### Definition von einfachen Funktionen\n",
    "\n",
    "Die allgemeine Syntax zur Definition einer eigenen Funktion sieht wie folgt aus:\n",
    "\n",
    "```python\n",
    "def meine_funktion():\n",
    "    \"\"\"Optionaler Docstring zur Erklärung.\"\"\"\n",
    "\n",
    "    # Implementierung der Funktion\n",
    "    anweisung01\n",
    "    anweisung02\n",
    "     ...\n",
    "\n",
    "```\n",
    "\n",
    "Erstes Beispiel:\n",
    "\n",
    "Die folgende Funktion hat keine Eingabewerte (Argumente, Input) und keine Rückgabe (Ausgabe, Return-Value).\n",
    "\n"
   ]
  },
  {
   "cell_type": "code",
   "execution_count": 47,
   "id": "7bd64acf-61d7-46ab-8799-b85cdecc622d",
   "metadata": {},
   "outputs": [],
   "source": [
    "def gruesse_ausrichten():\n",
    "    print('Ich grüße Sie!')"
   ]
  },
  {
   "cell_type": "markdown",
   "id": "0cfb23fd-8439-4b93-aae8-4345ddb33c97",
   "metadata": {},
   "source": [
    "Nachdem die Funktion `gruesse_ausrichten()` so implementiert wurde, können wir sie im Folgenden direkt verwenden."
   ]
  },
  {
   "cell_type": "code",
   "execution_count": 48,
   "id": "344cf7f8-d3b7-4253-8523-e6671a161981",
   "metadata": {},
   "outputs": [
    {
     "name": "stdout",
     "output_type": "stream",
     "text": [
      "Ich grüße Sie!\n"
     ]
    }
   ],
   "source": [
    "gruesse_ausrichten()"
   ]
  },
  {
   "cell_type": "markdown",
   "id": "b3bb07f7-a8b1-4c00-8ff9-c1ace257722e",
   "metadata": {},
   "source": [
    "Und natürlich kann man sie in Programmverzweigungen und Schleifen einbauen.\n",
    "\n",
    "**Mini-Übung:**   \n",
    "Lassen Sie 10x Grüße ausrichten."
   ]
  },
  {
   "cell_type": "code",
   "execution_count": 49,
   "id": "ef8efa25-9fb9-466a-b15b-e089c324b635",
   "metadata": {},
   "outputs": [],
   "source": [
    "# Hier Ihr Code:\n"
   ]
  },
  {
   "cell_type": "markdown",
   "id": "3dd4213e-5dfd-453c-b80c-974b86cf5a6b",
   "metadata": {},
   "source": [
    "Hier noch ein Beispiel, bei dem die Funktion `gruesse_ausrichten()` in eine Abfrage mit Programmverzweigung eingebaut ist."
   ]
  },
  {
   "cell_type": "code",
   "execution_count": 50,
   "id": "c971e97c-0a29-4f96-a7fd-02e102dc098d",
   "metadata": {},
   "outputs": [
    {
     "name": "stdout",
     "output_type": "stream",
     "text": [
      "Ich grüße Sie!\n"
     ]
    }
   ],
   "source": [
    "soll_gegruesst_werden = input('Soll gegrüßt werden (j/n)? ')\n",
    "\n",
    "if soll_gegruesst_werden == 'j':\n",
    "    gruesse_ausrichten()\n",
    "else:\n",
    "    print('Auf Wiedersehen!')"
   ]
  },
  {
   "cell_type": "markdown",
   "id": "0afd42f8-c341-47fd-a07e-8f8c1ace4c6d",
   "metadata": {},
   "source": [
    "### Definition von Funktionen mit Parametern\n",
    "\n",
    "Meistens haben Funktionen Argumente, um Eingaben/Input entgegennehmen und verarbeiten zu können. Das Argument wird bei der Implementierung der Funktion mit einem Platzhalter/Variable eingeführt. \n",
    "\n",
    "Die allgemeine Syntax zur Definition einer eigenen Funktion mit Parametern sieht wie folgt aus:\n",
    "\n",
    "```python\n",
    "def meine_funktion(arg1, arg2, ..., argn):\n",
    "    \"\"\"Optionaler Docstring zur Erklärung.\"\"\"\n",
    "\n",
    "    # Implementierung der Funktion\n",
    "    anweisung01\n",
    "    anweisung02\n",
    "     ...\n",
    "\n",
    "```\n",
    "\n"
   ]
  },
  {
   "cell_type": "code",
   "execution_count": 51,
   "id": "945cf4c9-e2d1-4467-afc6-152465f53d90",
   "metadata": {},
   "outputs": [],
   "source": [
    "def gruesse_ausrichten_mit_parameter(name):\n",
    "    print('Ich grüße', name)"
   ]
  },
  {
   "cell_type": "markdown",
   "id": "e78ca166-810c-48d5-ba1c-7efdcdb7f899",
   "metadata": {},
   "source": [
    "Der Aufruf einer Funktion ohne passende Argumente führt zu einer Fehlermeldung."
   ]
  },
  {
   "cell_type": "code",
   "execution_count": 52,
   "id": "8ab7b8fc-f7d1-447e-9aeb-42ec6cd1ba83",
   "metadata": {},
   "outputs": [
    {
     "ename": "TypeError",
     "evalue": "gruesse_ausrichten_mit_parameter() missing 1 required positional argument: 'name'",
     "output_type": "error",
     "traceback": [
      "\u001b[0;31m---------------------------------------------------------------------------\u001b[0m",
      "\u001b[0;31mTypeError\u001b[0m                                 Traceback (most recent call last)",
      "\u001b[1;32m/Users/gramschs/lectures/book_ml4ing/doc/chapter03/sec02.ipynb Cell 72\u001b[0m in \u001b[0;36m<cell line: 1>\u001b[0;34m()\u001b[0m\n\u001b[0;32m----> <a href='vscode-notebook-cell:/Users/gramschs/lectures/book_ml4ing/doc/chapter03/sec02.ipynb#Y131sZmlsZQ%3D%3D?line=0'>1</a>\u001b[0m gruesse_ausrichten_mit_parameter()\n",
      "\u001b[0;31mTypeError\u001b[0m: gruesse_ausrichten_mit_parameter() missing 1 required positional argument: 'name'"
     ]
    }
   ],
   "source": [
    "gruesse_ausrichten_mit_parameter()"
   ]
  },
  {
   "cell_type": "markdown",
   "id": "8c119ef2-584b-4c49-a50f-1572b474e226",
   "metadata": {},
   "source": [
    "Daher müssen wir die modifizierte Funktion nun wie folgt aufrufen:"
   ]
  },
  {
   "cell_type": "code",
   "execution_count": null,
   "id": "47ac96b3-add4-49bb-aa9f-80b3a2bbd8bf",
   "metadata": {},
   "outputs": [],
   "source": [
    "gruesse_ausrichten_mit_parameter('Bob')"
   ]
  },
  {
   "cell_type": "markdown",
   "id": "c501a61e-07ca-4ab9-8992-633ea008ae50",
   "metadata": {},
   "source": [
    "Die Funktion `gruesse_ausrichten_mit_parameter()` hat aber keinen Rückgabewert. Das können wir wie folgt testen:"
   ]
  },
  {
   "cell_type": "code",
   "execution_count": null,
   "id": "da66d1fd-5a06-4fb7-8a16-e11a3db3997c",
   "metadata": {},
   "outputs": [],
   "source": [
    "x = gruesse_ausrichten_mit_parameter('Alice')\n",
    "type(x)"
   ]
  },
  {
   "cell_type": "markdown",
   "id": "ff65e189-bc99-417c-a91a-07cde54c5ec1",
   "metadata": {},
   "source": [
    "`x` ist vom Typ `NoneType` oder anders ausgedrückt, es hat keinen Datentyp. \n",
    "\n",
    "Sind Funktionen ohne Rückgabewert sinnvoll?\n",
    "\n",
    "Ja, denn so können Codeblöcke vereinfacht werden. Sollte in einem Programm Code mehrmals ausgeführt werden, lohnt es sich, diesen in eine Funktion auszulagern, um diese einfach aufrufen zu können."
   ]
  },
  {
   "cell_type": "markdown",
   "id": "6f557359-bff4-4bd7-82a7-512cb4218937",
   "metadata": {},
   "source": [
    "**Mini-Übung:**\n",
    "\n",
    "Schreiben Sie eine Funktion mit zwei Parametern, nämlich Vor- und Nachname. Wenn die Funktion z.B. mit `(Alice, Miller)` aufgerufen wird, soll sie Folgendes auf dem Bildschirm ausgeben:\n",
    "\n",
    "```code\n",
    "Vorname: Alice\n",
    "Nachname: Miller\n",
    "```"
   ]
  },
  {
   "cell_type": "code",
   "execution_count": null,
   "id": "00865dde-df35-4622-89f6-3ba8d447c9ad",
   "metadata": {},
   "outputs": [],
   "source": [
    "# Hier Ihr Code:\n"
   ]
  },
  {
   "cell_type": "markdown",
   "id": "432e1324-f8a8-4b4a-a683-cb6b86e05762",
   "metadata": {},
   "source": [
    "### Funktionen mit Parametern und einem Rückgabewert\n",
    "\n",
    "In der Regel jedoch haben Funktionen einen Rückgabewert.\n",
    "\n",
    "Die allgemeine Syntax zur Definition einer eigenen Funktion mit Parametern und Rückgabewert sieht wie folgt aus:\n",
    "\n",
    "```python\n",
    "def meine_funktion(arg1, arg2, ..., argn):\n",
    "    \"\"\"Optionaler Docstring zur Erklärung.\"\"\"\n",
    "\n",
    "    # Implementierung der Funktion\n",
    "    anweisung01\n",
    "    anweisung02\n",
    "     ...\n",
    "\n",
    "    return ergebnis  # optional, die Funktion kann auch keine Rückgabe haben\n",
    "```\n",
    "\n",
    "Schauen wir uns ein Beispiel an:\n",
    "\n"
   ]
  },
  {
   "cell_type": "code",
   "execution_count": null,
   "id": "d750db70-8119-4d1e-a3c0-f8195677e823",
   "metadata": {},
   "outputs": [],
   "source": [
    "def berechne_quadrat(x):\n",
    "    return x*x"
   ]
  },
  {
   "cell_type": "code",
   "execution_count": null,
   "id": "aa2247f5-aeb0-44ae-b808-3b028482c09f",
   "metadata": {},
   "outputs": [],
   "source": [
    "berechne_quadrat(7)"
   ]
  },
  {
   "cell_type": "code",
   "execution_count": null,
   "id": "8a27cead-df1d-43f0-aef6-2de12b9ef09d",
   "metadata": {},
   "outputs": [],
   "source": [
    "for x in range(1,11):\n",
    "    y = berechne_quadrat(x) \n",
    "    ausgabe = '{} * {} = {}'.format(x, x, y)\n",
    "    print(ausgabe)"
   ]
  },
  {
   "cell_type": "markdown",
   "id": "7534c25f-9db5-4444-97cd-d7a1f7f7a29c",
   "metadata": {},
   "source": [
    "Hier ein Beispiel mit mehreren Argumenten."
   ]
  },
  {
   "cell_type": "code",
   "execution_count": null,
   "id": "2b8070c1-457e-4bda-8df0-662888f1bfda",
   "metadata": {},
   "outputs": [],
   "source": [
    "def berechne_rechteck_flaeche(a,b):\n",
    "    flaeche = a*b\n",
    "    return flaeche"
   ]
  },
  {
   "cell_type": "code",
   "execution_count": null,
   "id": "d3952dd9-90e0-4640-80fe-b5cdbfcebb07",
   "metadata": {},
   "outputs": [],
   "source": [
    "# main program\n",
    "\n",
    "# Eingabe\n",
    "a = int(input('Länge des Rechtecks: '))\n",
    "b = int(input('Breite des Rechtecks: '))\n",
    "\n",
    "# Verarbeitung\n",
    "flaeche = berechne_rechteck_flaeche(a,b)\n",
    "\n",
    "# Ausgabe\n",
    "print('berechnete Fläche: ', flaeche)\n"
   ]
  },
  {
   "cell_type": "markdown",
   "id": "73dce1f7-df8f-444f-b56d-9088e4c7c16c",
   "metadata": {},
   "source": [
    "**Mini-Übung:**   \n",
    "Schreiben Sie eine Funktion, die als Eingabe drei Zahlen entgegennimmt und den Mittelwert zurückgibt."
   ]
  },
  {
   "cell_type": "code",
   "execution_count": null,
   "id": "c6dbc6e2-4420-4a4b-8768-94c6601dba40",
   "metadata": {},
   "outputs": [],
   "source": [
    "# Hier Ihr Code\n",
    "\n"
   ]
  },
  {
   "cell_type": "markdown",
   "id": "65833528-d127-4757-b8c8-c99babea5ccb",
   "metadata": {},
   "source": [
    "### Funktionen mit mehreren Rückgabewerten\n",
    "\n",
    "```python\n",
    "def funktion(arg1, arg2, ...):\n",
    "    # Verarbeitung\n",
    "    anweisung01\n",
    "    anweisung02\n",
    "    ...\n",
    "    \n",
    "    return ergebnis1, ergebnis2\n",
    "```\n",
    "\n",
    "Es ist auch möglich, mehrere Ergebnisse gleichzeitig zurückzugegen. Diese werden einfach nach dem Schlüsselwort `return` mit Kommas getrennt gelistet. "
   ]
  },
  {
   "cell_type": "code",
   "execution_count": null,
   "id": "98405866-b388-4854-8888-e57ade0ae0d6",
   "metadata": {},
   "outputs": [],
   "source": [
    "def potenzen_bis_vier(x):\n",
    "    x_hoch_2 = x**2\n",
    "    x_hoch_3 = x**3\n",
    "    x_hoch_4 = x**4\n",
    "    return x_hoch_2, x_hoch_3, x_hoch_4"
   ]
  },
  {
   "cell_type": "code",
   "execution_count": null,
   "id": "920d4139-b720-47d9-8c8c-3f2dabbae150",
   "metadata": {},
   "outputs": [],
   "source": [
    "for x in range(1,11):\n",
    "    print(potenzen_bis_vier(x))"
   ]
  },
  {
   "cell_type": "code",
   "execution_count": null,
   "id": "895e03fa-67d4-4daa-8ad7-83dd65867fca",
   "metadata": {},
   "outputs": [],
   "source": [
    "for x in range(1,5):\n",
    "    potenz2, potenz3, potenz4 = potenzen_bis_vier(x)\n",
    "    print('Die 2. Potenz von {} ist {}, die dritte ist {} und die vierte ist {}.'.format(x, potenz2, potenz3, potenz4))"
   ]
  },
  {
   "cell_type": "markdown",
   "id": "993c514b-6407-4ec5-93cc-e1f21d9cf37d",
   "metadata": {},
   "source": [
    "### Vorsicht bei der Ausführung von Funktionen: lokale und globale Variablen\n",
    "\n",
    "Schauen Sie sich bitte folgende Funktionsimplementierung an. Was macht die Funktion?"
   ]
  },
  {
   "cell_type": "code",
   "execution_count": null,
   "id": "cbd111f6-b04f-437b-9af9-ce57ec0ba3df",
   "metadata": {},
   "outputs": [],
   "source": [
    "def erhoehe_um_eins(x):\n",
    "    x = x + 1"
   ]
  },
  {
   "cell_type": "code",
   "execution_count": null,
   "id": "d1dcaa8c-a41f-48c1-84b9-fb8ece5a379e",
   "metadata": {},
   "outputs": [],
   "source": [
    "x = 17\n",
    "print(x)\n",
    "\n",
    "# jetzt Funktion anwenden\n",
    "print('jetzt Funktion auf x anwenden...')\n",
    "erhoehe_um_eins(x)\n",
    "print(x)"
   ]
  },
  {
   "cell_type": "markdown",
   "id": "bf08d4a5-2958-4839-a04d-2c5625fbbe94",
   "metadata": {},
   "source": [
    "Wir schauen in die Funktion \"hinein\", um zu sehen, ob vielleicht gar nicht erhöht wurde."
   ]
  },
  {
   "cell_type": "code",
   "execution_count": null,
   "id": "e9dc648c-04b6-4792-9ac2-20db93b603d0",
   "metadata": {},
   "outputs": [],
   "source": [
    "def erhoehe_um_eins(x):\n",
    "    print('in der Funktion vor der Erhöhung:')\n",
    "    print(x)\n",
    "    \n",
    "    # Erhöhung\n",
    "    x = x + 1\n",
    "    \n",
    "    print('in der Funktion nach der Erhöhung:')\n",
    "    print(x)    "
   ]
  },
  {
   "cell_type": "code",
   "execution_count": null,
   "id": "8b313e58-7f8d-4d57-83f2-8db2e1c4d9fe",
   "metadata": {},
   "outputs": [],
   "source": [
    "x = 17\n",
    "print(x)\n",
    "\n",
    "# jetzt Funktion anwenden\n",
    "print('jetzt Funktion auf x anwenden...')\n",
    "erhoehe_um_eins(x)\n",
    "print(x)"
   ]
  },
  {
   "cell_type": "markdown",
   "id": "e7266c24-3f27-4219-84ca-bd058eb0c918",
   "metadata": {},
   "source": [
    "Was ist passiert? Die Variable `x` in der Funktion ist eine lokale Variable. Es ist Zufall, das sie so heißt, wie die Variable außerhalb der Funktion. Ein Programmierer einer Funktion kann nicht vorab wissen, wie alle anderen Variablen genannt werden. Daher müssen alle Variablen in der Funktion lokal bleiben, um nicht unabsichtlich Variablen, die dummerweise oder absichtlich den gleichen Namen tragen, zu verändern.\n",
    "\n",
    "Möchte man erreichen, dass eine Funktion den Wert einer Variable ändert, kann man dies über die Rückgabe und explizite Zuweisung erreichen."
   ]
  },
  {
   "cell_type": "code",
   "execution_count": null,
   "id": "f68402ce-0fca-40f5-afa8-5c8b28322b71",
   "metadata": {},
   "outputs": [],
   "source": [
    "def erhoehe_um_eins(x):\n",
    "    x = x + 1\n",
    "    return x\n",
    "\n",
    "x = 17\n",
    "print('vorher', x)\n",
    " \n",
    "x = erhoehe_um_eins(x)\n",
    "print('nachher', x)"
   ]
  },
  {
   "cell_type": "markdown",
   "id": "0095b5b5-4827-46bd-a0b5-261210916b44",
   "metadata": {},
   "source": [
    "<div class=\"alert alert-block alert-info\">\n",
    "\n",
    "Hier finden Sie die drei YouTube-Videos \"Funktionen\", \"Funktionen mit Parametern\" und \"Funktionen mit Rückgabewerten\" aus dem Python-Tutorial Crashkurs:\n",
    "    \n",
    "> https://www.youtube.com/watch?v=LQCfN5HS9xI&list=PL_pqkvxZ6ho3u8PJAsUU-rOAQ74D0TqZB&index=18\n",
    "    \n",
    "> https://www.youtube.com/watch?v=af9ORp1Pty0&list=PL_pqkvxZ6ho3u8PJAsUU-rOAQ74D0TqZB&index=19\n",
    "    \n",
    "> https://www.youtube.com/watch?v=ehSP-sYoKCY&list=PL_pqkvxZ6ho3u8PJAsUU-rOAQ74D0TqZB&index=20\n",
    "\n",
    "</div>"
   ]
  },
  {
   "cell_type": "markdown",
   "id": "a08824fe-1524-4647-9029-d164ecf7e26d",
   "metadata": {},
   "source": [
    "# Übungsaufgaben "
   ]
  },
  {
   "cell_type": "markdown",
   "id": "36369cc7-896b-40ea-bf30-c78f2f592026",
   "metadata": {},
   "source": [
    "<div class=\"alert alert-block alert-success\">\n",
    "<b>Aufgabe 3.1: Quadratzahlen</b> \n",
    "\n",
    "Schreiben Sie ein Programm, das eine minimale Zahl $a$ und eine maximale Zahl $b$ abfragt. Dann berechnet das Programm die Quadratzahlen von $a^2$ bis $b^2$ und gibt diese aus. Ein Beispiel könnte so aussehen: Der Benutzer gibt `a = 4` und `b = 8` ein. Das Programm gibt daraufhin `16, 25, 36, 49, 64` aus. Bitte verwenden Sie eine for-Schleife.\n",
    "\n",
    "</div>"
   ]
  },
  {
   "cell_type": "markdown",
   "id": "120fd4cd-e757-4c56-87cc-da1ffb788341",
   "metadata": {},
   "source": [
    "<div class=\"alert alert-block alert-success\">\n",
    "<b>Aufgabe 3.2: 1x1-Tabelle</b> \n",
    "\n",
    "Schreiben Sie ein Programm, das eine 1x1-Tabelle bis zu 10x10 ausgibt. Also\n",
    "\n",
    "1 x 1 = 1\n",
    "\n",
    "2 x 1 = 2\n",
    "\n",
    "3 x 1 = 3\n",
    "\n",
    "usw.\n",
    "\n",
    "</div>"
   ]
  },
  {
   "cell_type": "markdown",
   "id": "2997aac3-5ba4-4a82-850f-c0a5952f552d",
   "metadata": {},
   "source": [
    "<div class=\"alert alert-block alert-success\">\n",
    "<b>Aufgabe 3.3: 1x1-Trainer </b> \n",
    "\n",
    "1. Schreiben Sie eine *Funktion*, mit der das kleine Einmaleins geübt werden kann. Die Funktion soll als Eingabe die Anzahl der gewünschten Aufgaben haben und als Ausgabe die Anzahl der richtigen Antworten. Innerhalb der Funktion sollen dem Benutzer zufällige Einmaleins-Aufgaben gestellt werden. Es soll gleich eine Rückmeldung gegeben werden, ob das Ergebnis richtig oder falsch ist und ggf. was das richtige Ergebnis gewesen wäre.\n",
    "\n",
    "2. Schreiben Sie anschließend ein *Programm*, das den Benutzer fragt, wie viele 1x1-Aufgaben trainiert werden sollen. Anschließend wird die Funktion aus Schritt 1 aufgerufen. Am Ende soll der Benutzer darüber informiert werden, wie viel Prozent der Aufgaben richtig gelöst wurden.\n",
    "\n",
    "Bemerkung:\n",
    "Um Zufallszahlen in Python zu ziehen, müssen Sie zu Beginn Ihres Programmes einmalig die Zeile\n",
    "> from random import randint\n",
    "    \n",
    "hinschreiben und ausführen. Danach können Sie die Funktion randint() mit \n",
    "> randint(1,10) \n",
    "    \n",
    "aufrufen. Dadurch werden Integer-Zufallszahlen zwischen 1 und 10 erzeugt.\n",
    "\n",
    "</div>"
   ]
  },
  {
   "cell_type": "markdown",
   "id": "d6864199-d3a3-4a32-9dac-8f920fb674f7",
   "metadata": {},
   "source": [
    "<div class=\"alert alert-block alert-success\">\n",
    "<b>Aufgabe 3.4: Zahlenraten</b> \n",
    "\n",
    "Schreiben Sie ein Programm, bei dem der Computer sich eine Zahl zwischen 1 und 100 ausdenkt (d.h. eine Zufallszahl zieht). Anschließend wird der Benutzer aufgefordert, die Zahl zu raten. Wenn die Zahl des Benutzers kleiner als die Zufallszahl des Computer ist, so gibt er den Hinweis: \"Meine Zahl ist größer.\". Wenn die Zahl des Benutzers größer ist als die Zufallszahl des Computers, so gibt er den Hinweis \"Meine Zahl ist kleiner.\" Sobald der Benutzer die Zahl richtig geraten hat, gibt der Computer den Hinweis \"Gratulation, die Zahl xx ist richtig! Sie haben xx Versuche gebraucht, um meine Zahl zu raten.\", wobei 'xx' jeweils durch die richtigen Zahlen ersetzt wird.\n",
    "\n",
    "</div>"
   ]
  }
 ],
 "metadata": {
  "kernelspec": {
   "display_name": "Python 3.9.13 ('python39')",
   "language": "python",
   "name": "python3"
  },
  "language_info": {
   "codemirror_mode": {
    "name": "ipython",
    "version": 3
   },
   "file_extension": ".py",
   "mimetype": "text/x-python",
   "name": "python",
   "nbconvert_exporter": "python",
   "pygments_lexer": "ipython3",
   "version": "3.9.13"
  },
  "vscode": {
   "interpreter": {
    "hash": "1863971d65633e53ca5b74972b86a14fab6d597ce2ac84dc984546545d2d3a9b"
   }
  }
 },
 "nbformat": 4,
 "nbformat_minor": 5
}
