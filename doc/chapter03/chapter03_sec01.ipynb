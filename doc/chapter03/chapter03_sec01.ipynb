{
 "cells": [
  {
   "cell_type": "markdown",
   "id": "9b742f80",
   "metadata": {},
   "source": [
    "# Liste und Zählschleife\n",
    "\n",
    "## Lernziele\n",
    "\n",
    "```{admonition} Lernziele\n",
    ":class: hint\n",
    "* Datentyp Liste\n",
    "* Kontrollstrukturen: Schleifen mit \"for\"\n",
    "```\n",
    "\n",
    "\n",
    "## Datentyp Liste\n",
    "\n",
    "Eine Liste ist eine Sequenz von Objekten, Dabei können die Objekte einen\n",
    "beliebigen Datentyp aufweisen. Z.B. könnte eine Liste Integer enthalten:"
   ]
  },
  {
   "cell_type": "code",
   "execution_count": null,
   "id": "2b928722",
   "metadata": {},
   "outputs": [],
   "source": [
    "a = [34, 12, 54]\n",
    "print(a)"
   ]
  },
  {
   "cell_type": "code",
   "execution_count": null,
   "id": "6a48d661",
   "metadata": {},
   "outputs": [],
   "source": [
    "a = ['Alice', 'Bob', 'Charlie']\n",
    "print(a)"
   ]
  },
  {
   "cell_type": "markdown",
   "id": "ae2aee19",
   "metadata": {},
   "source": [
    "Eine leere Liste wird durch `[]` definiert:"
   ]
  },
  {
   "cell_type": "code",
   "execution_count": null,
   "id": "ac0d13e0",
   "metadata": {},
   "outputs": [],
   "source": [
    "a = []\n",
    "print(a)"
   ]
  },
  {
   "cell_type": "markdown",
   "id": "666b3cde",
   "metadata": {},
   "source": [
    "Der Datentyp heißt formal `list`:"
   ]
  },
  {
   "cell_type": "code",
   "execution_count": null,
   "id": "1f7e3385",
   "metadata": {},
   "outputs": [],
   "source": [
    "type(a)"
   ]
  },
  {
   "cell_type": "markdown",
   "id": "3f2c42a1",
   "metadata": {},
   "source": [
    "Genau wie bei Strings gibt die Funktion `len()` die Anzahl der Elemente zurück:"
   ]
  },
  {
   "cell_type": "code",
   "execution_count": null,
   "id": "4789b370",
   "metadata": {},
   "outputs": [],
   "source": [
    "a = ['Hund', 'Katze', 'Maus', 'Affe','Elefant']\n",
    "len(a)"
   ]
  },
  {
   "cell_type": "markdown",
   "id": "bfd2b143",
   "metadata": {},
   "source": [
    "Es können verschiedene Datentypen in einer Liste gemischt werden:"
   ]
  },
  {
   "cell_type": "code",
   "execution_count": null,
   "id": "b10cbd40",
   "metadata": {},
   "outputs": [],
   "source": [
    "a = [123, 'Ente', -42, 17.4, 0, 'Elefant']\n",
    "print(a)"
   ]
  },
  {
   "cell_type": "markdown",
   "id": "656b986c",
   "metadata": {},
   "source": [
    "```{admonition} Mini-Übung\n",
    ":class: miniexercise\n",
    "Erzeugen Sie eine Einkaufsliste, um einen Obstsalat zuzubereiten und speichern\n",
    "Sie diese Liste in der Variablen `einkaufsliste`. Lassen Sie dann den Computer\n",
    "bzw. den Python-Interpreter zählen, wie viele Zutaten Ihre Liste enthält und\n",
    "geben Sie dann die Anzahl aus.\n",
    "```"
   ]
  },
  {
   "cell_type": "code",
   "execution_count": null,
   "id": "2c5be278",
   "metadata": {},
   "outputs": [],
   "source": [
    "# Hier Ihr Code:\n"
   ]
  },
  {
   "cell_type": "markdown",
   "id": "16b6e7dc",
   "metadata": {},
   "source": [
    "Zwei Listen werden verkettet (“concatenate”) durch den `+` Operator:"
   ]
  },
  {
   "cell_type": "code",
   "execution_count": null,
   "id": "538807e0",
   "metadata": {},
   "outputs": [],
   "source": [
    "a = [37, 3, 5] + [3, 35, 100]\n",
    "print(a)"
   ]
  },
  {
   "cell_type": "markdown",
   "id": "d2d39b0c",
   "metadata": {},
   "source": [
    "Um an das Ende der Liste ein neues Element einzufügen, verwendet man die Methode\n",
    "`append()`. Eine **Methode** ist eine spezielle Funktion, die zu dem Datentyp\n",
    "gehört und daher an die Variable angehängt wird, indem man einen Punkt schreibt\n",
    "und dann den Methodennamen.\n",
    "\n",
    "Was Methoden genau sind, werden wir noch lernen."
   ]
  },
  {
   "cell_type": "code",
   "execution_count": null,
   "id": "be541ed8",
   "metadata": {},
   "outputs": [],
   "source": [
    "a = [34, 56, 23]\n",
    "print(a)\n",
    "\n",
    "a.append(42)\n",
    "print(a)"
   ]
  },
  {
   "cell_type": "markdown",
   "id": "9cb32840",
   "metadata": {},
   "source": [
    "Aus der Liste können Elemente durch die `remove()`-Methode gelöscht werden.\n",
    "Dabei wird das Element, das gelöscht werden soll, der Methode als Argument\n",
    "übergeben."
   ]
  },
  {
   "cell_type": "code",
   "execution_count": null,
   "id": "66f0797b",
   "metadata": {},
   "outputs": [],
   "source": [
    "a = [34, 56, 23, 42]\n",
    "print(a)\n",
    "\n",
    "a.remove(56)\n",
    "print(a)"
   ]
  },
  {
   "cell_type": "markdown",
   "id": "998a9dfd",
   "metadata": {},
   "source": [
    "```{admonition} Mini-Übung\n",
    ":class: miniexercise\n",
    "Nehmen Sie Ihre Einkaufsliste für den Obsalat von vorhin. Fügen Sie noch Zimt und Zucker hinzu. Leider passen in Ihren Einkaufswagen nur maximal 5 Sachen. Lassen Sie überprüfen, ob Ihre Einkaufsliste nun mehr als 5 Zutaten enthält. Falls ja, lassen Sie eine Warnung ausgeben.\n",
    "```"
   ]
  },
  {
   "cell_type": "code",
   "execution_count": null,
   "id": "2ba56c56",
   "metadata": {},
   "outputs": [],
   "source": [
    "# Hier Ihr Code:\n"
   ]
  },
  {
   "cell_type": "markdown",
   "id": "6d232bb3",
   "metadata": {},
   "source": [
    "<iframe width=\"560\" height=\"315\" src=\"https://www.youtube.com/embed/ihF8bZoauBs\" title=\"YouTube video player\" frameborder=\"0\" allow=\"accelerometer; autoplay; clipboard-write; encrypted-media; gyroscope; picture-in-picture\" allowfullscreen></iframe>\n",
    "\n",
    "Listen sind (übrigens genau wie Strings) ein **sequentieller Container**.\n",
    "\n",
    "Sequentielle Container sind Sammlungen von Datenobjekten. Manchmal werden sie\n",
    "auch kurz als **Sequenzen** abgekürzt. Sequentielle Container sind mit ganzen\n",
    "Zahlen, also Integern, durchnummeriert. Die Nummerierung beginnt bei 0. Die\n",
    "Nummer eines Elementes aus der Sequenz nennt man Index. Umgangssprachlich könnte\n",
    "man den Index auch als Hausnummer bezeichnen.\n",
    "\n",
    "In einer Sequenz hat also das erste Element den Index 0. Das zweite Element hat\n",
    "den Index 1 usw. Um ein einzelnes Element einer Sequenz herausgreifen zu können,\n",
    "schreibt man `s[i]`. Dabei ist s der Name der Sequenz. Um einfach auf das letzte\n",
    "Element einer Sequenz zugreifen zu können, hat Python den Index -1 eingeführt.\n",
    "\n",
    "Probieren wir ein paar Beispiele aus:"
   ]
  },
  {
   "cell_type": "code",
   "execution_count": null,
   "id": "08144a29",
   "metadata": {},
   "outputs": [],
   "source": [
    "a = [34, 56, 23, 42]\n",
    "print('Das erste Element in der Liste ist: ')\n",
    "erstes = a[0]\n",
    "print(erstes)"
   ]
  },
  {
   "cell_type": "markdown",
   "id": "66c663d4",
   "metadata": {},
   "source": [
    "Für sequentielle Container und damit auch insbesondere für Listen bietet Python\n",
    "Standardfunktionen. Hier die wichtigsten:\n",
    "\n",
    "* `liste[i]` gibt das i-te Element von `liste` zurück\n",
    "* `liste[i:j]` gibt die Elemente i bis j-1 zurück\n",
    "* `liste[start:ende:schrittweite]` gibt die Elemente von Index `start` bis\n",
    "  `ende-1` mit einer Schrittweite aus \n",
    "* `len(liste)` gibt die Anzahl der Elemente von liste zurück\n",
    "* `min(liste)` gibt das kleinste Element von `liste` zurück\n",
    "* `max(liste)` gibt das größte Element von `liste` zurück\n",
    "* `x in liste` gibt den Wahrheitswert `True` zurück, wenn `x` in der Sequenz\n",
    "  `liste` enthalten ist\n",
    "* `liste1 + liste2` verknüpft `liste1` und `liste2`\n",
    "* `n * liste` generiert `n` Kopien der Sequenz `liste`\n",
    "\n",
    "\n",
    "Probieren wir sie an Beispielen aus. Denken Sie sich eigene Beispiele aus, um\n",
    "die Funktionen kennenzulernen:"
   ]
  },
  {
   "cell_type": "code",
   "execution_count": null,
   "id": "98e83309",
   "metadata": {},
   "outputs": [],
   "source": [
    "liste = [1,2,'drei','VIER',5]\n",
    "liste[3]"
   ]
  },
  {
   "cell_type": "code",
   "execution_count": null,
   "id": "d82fcf86",
   "metadata": {},
   "outputs": [],
   "source": [
    "liste[2:4]"
   ]
  },
  {
   "cell_type": "code",
   "execution_count": null,
   "id": "f5a35a4a",
   "metadata": {},
   "outputs": [],
   "source": [
    "#max(liste)"
   ]
  },
  {
   "cell_type": "code",
   "execution_count": null,
   "id": "610847c9",
   "metadata": {},
   "outputs": [],
   "source": [
    "liste = [1,2,3,4,5]\n",
    "max(liste)"
   ]
  },
  {
   "cell_type": "code",
   "execution_count": null,
   "id": "ff30154b",
   "metadata": {},
   "outputs": [],
   "source": [
    "liste = ['a', 'b', 'c', 'd', 'e']\n",
    "max(liste)"
   ]
  },
  {
   "cell_type": "code",
   "execution_count": null,
   "id": "be428106",
   "metadata": {},
   "outputs": [],
   "source": [
    "liste = ['a', 'b', 'c', 'd', 'e']\n",
    "if 'a' in liste:\n",
    "    print('Das a ist dabei!')\n",
    "else:\n",
    "    print('Das a ist leider nicht in der Liste.')"
   ]
  },
  {
   "cell_type": "markdown",
   "id": "69fb573b",
   "metadata": {},
   "source": [
    "```{admonition} Mini-Übung\n",
    ":class: miniexercise  \n",
    "Bleiben wir beim Obsalat, bei Ihrem ursprünglichen Rezept. Erzeugen Sie zunächst\n",
    "die Liste. Lassen Sie dann den Computer überprüfen, ob schon Zimt und Zucker auf\n",
    "der Liste stehen. Wenn noch Platz im Einkaufswagen ist (maximal 5 Zutaten),\n",
    "fügen Sie den Zimt dazu. Wenn dann noch Platz im Einkaufswagen ist, fügen Sie\n",
    "auch noch den Zucker hinzu. Lassen Sie zuletzt das erste Element der Liste\n",
    "ausgeben. \n",
    "```"
   ]
  },
  {
   "cell_type": "code",
   "execution_count": null,
   "id": "cc78b8f3",
   "metadata": {},
   "outputs": [],
   "source": [
    "# Hier Ihr Code:"
   ]
  },
  {
   "cell_type": "markdown",
   "id": "56bd8704",
   "metadata": {},
   "source": [
    "<iframe width=\"560\" height=\"315\" src=\"https://www.youtube.com/embed/_XzWPXvya2w\" title=\"YouTube video player\" frameborder=\"0\" allow=\"accelerometer; autoplay; clipboard-write; encrypted-media; gyroscope; picture-in-picture\" allowfullscreen></iframe>"
   ]
  },
  {
   "cell_type": "markdown",
   "id": "7f34255f",
   "metadata": {},
   "source": [
    "## Zählschleifen \"for\"\n",
    "\n",
    "Bei einer While-Schleife wird ein Anweisungsblock solange wiederholt, bis die\n",
    "dazugehörige Bedingung nicht mehr erfüllt ist. Manchmal möchte man jedoch die\n",
    "Anweisungen auf alle Elemente einer Menge, d.h. einer Liste, anwenden. Dazu gibt\n",
    "es die For-Schleife. Sie hat folgende Syntax:\n",
    "\n",
    "```python\n",
    "for element in liste:\n",
    "    anweisungsblock\n",
    "```\n",
    "\n",
    "Dabei betrachten wir zwei Fälle:\n",
    "\n",
    "1. Die Menge wird in Form einer Liste explizit aufgezählt, beispielsweise als\n",
    "   `[4,5,7,11,21]`.\n",
    "2. Die Menge wird als Zahlenbereich beschrieben, beispielsweise als\n",
    "   `range(3,9)`. \n",
    "\n",
    "Schauen wir uns ein erstes Beispiel an. Jedes Element der Liste `[4,5,7,11,21]`\n",
    "soll um 2 erhöht werden.\n",
    "\n",
    "```python\n",
    "for zahl in [4,5,7,11,21]:\n",
    "    summe = zahl + 2\n",
    "    print(\"Wenn ich zu\", zahl, \"zwei addiere, erhalte ich\", summe)\n",
    "print(\"Ich bin fertig!\")\n",
    "```"
   ]
  },
  {
   "cell_type": "code",
   "execution_count": null,
   "id": "f4998a20",
   "metadata": {},
   "outputs": [],
   "source": [
    "for zahl in [4,5,7,11,21]:\n",
    "    summe = zahl + 2\n",
    "    print(\"Wenn ich zu\", zahl, \"zwei addiere, erhalte ich\", summe)\n",
    "print(\"Ich bin fertig!\")"
   ]
  },
  {
   "cell_type": "markdown",
   "id": "2fb66da2",
   "metadata": {},
   "source": [
    "```{admonition} Mini-Übung\n",
    ":class: miniexercise  \n",
    "Lassen Sie nacheinander die Zutaten Ihrer Einkaufsliste ausgeben. \n",
    "```"
   ]
  },
  {
   "cell_type": "code",
   "execution_count": null,
   "id": "9496e809",
   "metadata": {},
   "outputs": [],
   "source": [
    "# Hier Ihr Code:\n"
   ]
  },
  {
   "cell_type": "markdown",
   "id": "df10421d",
   "metadata": {},
   "source": [
    "<iframe width=\"560\" height=\"315\" src=\"https://www.youtube.com/embed/ISo1uqLcVw8\" title=\"YouTube video player\" frameborder=\"0\" allow=\"accelerometer; autoplay; clipboard-write; encrypted-media; gyroscope; picture-in-picture\" allowfullscreen></iframe>\n",
    "\n",
    "Es kommt sehr häufig vor, dass über Listen mit Zahlen iteriert werden soll.\n",
    "Dafür stellt Python 3 die Funktion `range()`zur Verfügung."
   ]
  },
  {
   "cell_type": "code",
   "execution_count": null,
   "id": "7660fe2d",
   "metadata": {},
   "outputs": [],
   "source": [
    "for zahl in range(17):\n",
    "    print(zahl)\n",
    "print('Fertig!')"
   ]
  },
  {
   "cell_type": "markdown",
   "id": "151d8606",
   "metadata": {},
   "source": [
    "Wird `range(endzahl)` mit nur einem Parameter aufgerufen, dann beginnt der\n",
    "Python-Interpreter stets von `0` an zu zählen. Dabei ist die `endzahl` nicht\n",
    "inkludiert, d.h. der Python-Interpreter stoppt bei `endzahl - 1`. Es ist auch\n",
    "möglich, eine Startzahl vorzugeben, also:\n",
    "\n",
    "```python\n",
    "range(startzahl, endzahl)\n",
    "```"
   ]
  },
  {
   "cell_type": "code",
   "execution_count": null,
   "id": "56cbd493",
   "metadata": {},
   "outputs": [],
   "source": [
    "for zahl in range(4,13):\n",
    "    print(zahl)\n",
    "print('Fertig!')"
   ]
  },
  {
   "cell_type": "markdown",
   "id": "67d70ba7",
   "metadata": {},
   "source": [
    "Zusätzlich kann der Zahlenbereich noch durch die Angabe einer Schrittweite\n",
    "spezifiziert werden. Dadurch ist es beispielsweise möglich, nur ungerade Zahlen\n",
    "zu generieren:"
   ]
  },
  {
   "cell_type": "code",
   "execution_count": null,
   "id": "2e8a2eca",
   "metadata": {},
   "outputs": [],
   "source": [
    "for zahl in range(3, 13, 2):\n",
    "    print(zahl)\n",
    "print('Fertig!')"
   ]
  },
  {
   "cell_type": "markdown",
   "id": "de4af72d",
   "metadata": {},
   "source": [
    "```{admonition} Mini-Übung\n",
    ":class: miniexercise \n",
    "Lassen Sie alle geraden Zahlen zwischen 100 und 120 ausgeben.\n",
    "```"
   ]
  },
  {
   "cell_type": "code",
   "execution_count": null,
   "id": "ce527ec4",
   "metadata": {},
   "outputs": [],
   "source": [
    "# Hier Ihr Code:\n"
   ]
  },
  {
   "cell_type": "markdown",
   "id": "cfdc3867",
   "metadata": {},
   "source": [
    "Durch Angabe einer negativen Schrittweite kann auch rückwärts gezählt werden:"
   ]
  },
  {
   "cell_type": "code",
   "execution_count": null,
   "id": "dcacb43a",
   "metadata": {},
   "outputs": [],
   "source": [
    "for zahl in range(13, 3, -2):\n",
    "    print(zahl)\n",
    "print('Fertig!')"
   ]
  },
  {
   "cell_type": "markdown",
   "id": "0fa97872",
   "metadata": {},
   "source": [
    "For-Schleifen können auch ineinander verschachtelt werden. Das ist z.B.\n",
    "hilfreich, wenn man alle Paare durch Kombination bilden will."
   ]
  },
  {
   "cell_type": "code",
   "execution_count": null,
   "id": "8a32d7e8",
   "metadata": {},
   "outputs": [],
   "source": [
    "for i in ['rot', 'grün', 'blau']:\n",
    "    for j in [1, 2, 5, 17]:\n",
    "        print('Kombination Farbe mit Zahl: ', i, j)"
   ]
  },
  {
   "cell_type": "markdown",
   "id": "5643d146",
   "metadata": {},
   "source": [
    "Natürlich kann eine for- auch mit einer if-else-Konstruktion kombiniert werden.\n",
    "Was vermuten Sie, macht folgender Code-Schnipsel?"
   ]
  },
  {
   "cell_type": "code",
   "execution_count": null,
   "id": "b5a1c966",
   "metadata": {},
   "outputs": [],
   "source": [
    "for i in ['rot', 'grün', 'blau']:\n",
    "    for j in [1,2,3]:\n",
    "        if i == 'grün':\n",
    "            print('Kombination der Farbe GRÜN mit Zahl: ', j)\n",
    "        else:\n",
    "            print('Kombination Farbe mit Zahl: ', i, j)"
   ]
  },
  {
   "cell_type": "markdown",
   "id": "844102b8",
   "metadata": {},
   "source": [
    "<iframe width=\"560\" height=\"315\" src=\"https://www.youtube.com/embed/pQh5Idw2sKM\" title=\"YouTube video player\" frameborder=\"0\" allow=\"accelerometer; autoplay; clipboard-write; encrypted-media; gyroscope; picture-in-picture\" allowfullscreen></iframe>"
   ]
  }
 ],
 "metadata": {
  "jupytext": {
   "formats": "ipynb,md:myst"
  },
  "kernelspec": {
   "display_name": "Python 3.9.13 ('python39')",
   "language": "python",
   "name": "python3"
  },
  "language_info": {
   "name": "python",
   "version": "3.9.13"
  },
  "vscode": {
   "interpreter": {
    "hash": "1863971d65633e53ca5b74972b86a14fab6d597ce2ac84dc984546545d2d3a9b"
   }
  }
 },
 "nbformat": 4,
 "nbformat_minor": 5
}
