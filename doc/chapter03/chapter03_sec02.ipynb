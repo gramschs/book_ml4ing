{
 "cells": [
  {
   "cell_type": "markdown",
   "id": "2c691f9d",
   "metadata": {},
   "source": [
    "# Funktionen\n",
    "\n",
    "## Lernziele\n",
    "\n",
    "```{admonition} Lernziele\n",
    ":class: hint\n",
    "* Definition einer Funktion\n",
    "* Funktionen mit Eingabeparametern\n",
    "* Funktionen mit Eingabeparametern und einem Rückgabewert\n",
    "* Funktionen mit Eingabeparametern und mehreren Rückgabewerten\n",
    "* Funktionen: Vorsicht mit lokalen Variablen\n",
    "```\n",
    "\n",
    "## Funktionen\n",
    "\n",
    "Eine Funktion ist eine Zusammenfassung von Code, der eine bestimmte Teilaufgabe\n",
    "löst. Dabei arbeitet die Funktion nach dem EVA-Prinzip. Die Funktion übernimmt\n",
    "Objekte als Eingabe, verarbeitet diese und liefert Objekte als Ergebnis zurück.\n",
    "Wie die Funktion dabei im Inneren genau funktioniert (Verarbeitung), ist\n",
    "unwichtig.\n",
    "\n",
    "Beispielsweise gibt es im Modul `math` die Funktion `sqrt()`. Wir wissen, dass\n",
    "wir der Funktion eine Zahl übergeben müssen (Eingabe), z.B. `sqrt(5)`. Die\n",
    "Funktion liefert dann als Ergebnis $\\sqrt{5}$ zurück. Welches Verfahren zur\n",
    "Berechnung der Wurzel verwendet wurde, wissen wir nicht. \n",
    "\n",
    "Insbesondere muss die Teilaufgabe, die die Funktion löst, nichts mit Mathematik\n",
    "zu tun haben. Eine Funktion in der Informatik hat nichts mit einer\n",
    "mathematischen Funktion zu tun, auch wenn oft mathematische Funktionen als\n",
    "Beispiel verwendet werden. Ein Beispiel für eine nicht-mathematische Funktion\n",
    "haben Sie mit `print()` bereits kennengelernt.\n",
    "\n",
    "### Die Benutzung von Funktionen (oder der Aufruf von Funktionen)\n",
    "\n",
    "Der Aufruf einer Funktion hat folgende Syntax:\n",
    "\n",
    "```python\n",
    "funktion( argument1, argument2, ...)\n",
    "```\n",
    "\n",
    "Eine Funktion wird benutzt, indem man den Namen der Funktion hinschreibt und\n",
    "dann in runden Klammern ihre Parameter, die sogenannten Argumente der Funktion.\n",
    "Welche Argumente für eine Funktion verwendet werden dürfen, hängt von der\n",
    "Implementierung der Funktion ab.\n",
    "\n",
    "Beispielsweise kann als Argument für die `len()`-Funktion ein String übergeben\n",
    "werden oder eine Liste. Stellen Sie eine Vermutung auf: was bewirkt die\n",
    "`len()`-Funktion?"
   ]
  },
  {
   "cell_type": "code",
   "execution_count": null,
   "id": "0f334b6b",
   "metadata": {},
   "outputs": [],
   "source": [
    "len('Hallo')"
   ]
  },
  {
   "cell_type": "code",
   "execution_count": null,
   "id": "01277789",
   "metadata": {},
   "outputs": [],
   "source": [
    "len([1,2,3,4,8,2])"
   ]
  },
  {
   "cell_type": "markdown",
   "id": "d8644086",
   "metadata": {},
   "source": [
    "In der Regel geben Funktionen wieder Ergebnisse zurück. Diese können einer\n",
    "Variable zugewiesen werden, um mit dem Ergebnis weiter zu arbeiten."
   ]
  },
  {
   "cell_type": "code",
   "execution_count": null,
   "id": "63b9276d",
   "metadata": {},
   "outputs": [],
   "source": [
    "laenge1 = len('Hallo')\n",
    "laenge2 = len(['Apfel', 'Banane', 'Erdbeere'])\n",
    "\n",
    "if laenge1 < laenge2:\n",
    "    print('Das Wort Hallo enthält weniger Buchstaben als Früchte im Obstsalat.')\n",
    "else:\n",
    "    print('Das Wort Hallo enthält mehr Buchstaben als Einträge in der Liste.')"
   ]
  },
  {
   "cell_type": "markdown",
   "id": "fbe97f04",
   "metadata": {},
   "source": [
    "### Definition von einfachen Funktionen\n",
    "\n",
    "Die allgemeine Syntax zur Definition einer eigenen Funktion sieht wie folgt aus:\n",
    "\n",
    "```python\n",
    "def meine_funktion():\n",
    "    \"\"\"Optionaler Docstring zur Erklärung.\"\"\"\n",
    "\n",
    "    # Implementierung der Funktion\n",
    "    anweisung01\n",
    "    anweisung02\n",
    "     ...\n",
    "\n",
    "```\n",
    "\n",
    "Erstes Beispiel:\n",
    "\n",
    "Die folgende Funktion hat keine Eingabewerte (Argumente, Input) und keine\n",
    "Rückgabe (Ausgabe, Return-Value)."
   ]
  },
  {
   "cell_type": "code",
   "execution_count": null,
   "id": "b4276959",
   "metadata": {},
   "outputs": [],
   "source": [
    "def gruesse_ausrichten():\n",
    "    print('Ich grüße Sie!')"
   ]
  },
  {
   "cell_type": "markdown",
   "id": "9a5a6892",
   "metadata": {},
   "source": [
    "Nachdem die Funktion `gruesse_ausrichten()` so implementiert wurde, können wir\n",
    "sie im Folgenden direkt verwenden."
   ]
  },
  {
   "cell_type": "code",
   "execution_count": null,
   "id": "3604da52",
   "metadata": {},
   "outputs": [],
   "source": [
    "gruesse_ausrichten()"
   ]
  },
  {
   "cell_type": "markdown",
   "id": "4409d5d2",
   "metadata": {},
   "source": [
    "Und natürlich kann man sie in Programmverzweigungen und Schleifen einbauen.\n",
    "\n",
    "```{admonition} Mini-Übung\n",
    ":class: miniexercise\n",
    "Lassen Sie 10x Grüße ausrichten.\n",
    "```"
   ]
  },
  {
   "cell_type": "code",
   "execution_count": null,
   "id": "6cbe571c",
   "metadata": {},
   "outputs": [],
   "source": [
    "# Hier Ihr Code:"
   ]
  },
  {
   "cell_type": "markdown",
   "id": "513399f6",
   "metadata": {},
   "source": [
    "<iframe width=\"560\" height=\"315\" src=\"https://www.youtube.com/embed/LQCfN5HS9xI\" title=\"YouTube video player\" frameborder=\"0\" allow=\"accelerometer; autoplay; clipboard-write; encrypted-media; gyroscope; picture-in-picture\" allowfullscreen></iframe>\n",
    "\n",
    "## Funktionen mit Parametern\n",
    "\n",
    "Meistens haben Funktionen Argumente, um Eingaben/Input entgegennehmen und\n",
    "verarbeiten zu können. Das Argument wird bei der Implementierung der Funktion\n",
    "mit einem Platzhalter/Variable eingeführt. \n",
    "\n",
    "Die allgemeine Syntax zur Definition einer eigenen Funktion mit Parametern sieht\n",
    "wie folgt aus:\n",
    "\n",
    "```python\n",
    "def meine_funktion(arg1, arg2, ..., argn):\n",
    "    \"\"\"Optionaler Docstring zur Erklärung.\"\"\"\n",
    "\n",
    "    # Implementierung der Funktion\n",
    "    anweisung01\n",
    "    anweisung02\n",
    "     ...\n",
    "\n",
    "```"
   ]
  },
  {
   "cell_type": "code",
   "execution_count": null,
   "id": "dcd8a206",
   "metadata": {},
   "outputs": [],
   "source": [
    "def gruesse_ausrichten_mit_parameter(name):\n",
    "    print('Ich grüße', name)"
   ]
  },
  {
   "cell_type": "markdown",
   "id": "9179833f",
   "metadata": {},
   "source": [
    "Der Aufruf einer Funktion ohne passende Argumente führt zu einer Fehlermeldung.\n",
    "Entfernen Sie das Kommentarzeichen `#` und führen Sie die nachfolgende\n",
    "Code-Zelle aus:"
   ]
  },
  {
   "cell_type": "code",
   "execution_count": null,
   "id": "f21f9967",
   "metadata": {},
   "outputs": [],
   "source": [
    "#gruesse_ausrichten_mit_parameter()"
   ]
  },
  {
   "cell_type": "markdown",
   "id": "9436e41c",
   "metadata": {},
   "source": [
    "Daher müssen wir die modifizierte Funktion nun wie folgt aufrufen:"
   ]
  },
  {
   "cell_type": "code",
   "execution_count": null,
   "id": "dbc6398d",
   "metadata": {},
   "outputs": [],
   "source": [
    "gruesse_ausrichten_mit_parameter('Bob')"
   ]
  },
  {
   "cell_type": "markdown",
   "id": "b8b48555",
   "metadata": {},
   "source": [
    "Die Funktion `gruesse_ausrichten_mit_parameter()` hat aber keinen Rückgabewert.\n",
    "Das können wir wie folgt testen:"
   ]
  },
  {
   "cell_type": "code",
   "execution_count": null,
   "id": "b26a341b",
   "metadata": {},
   "outputs": [],
   "source": [
    "x = gruesse_ausrichten_mit_parameter('Alice')\n",
    "type(x)"
   ]
  },
  {
   "cell_type": "markdown",
   "id": "51bb0b6b",
   "metadata": {},
   "source": [
    "`x` ist vom Typ `NoneType` oder anders ausgedrückt, es hat keinen Datentyp. \n",
    "\n",
    "Sind Funktionen ohne Rückgabewert sinnvoll?\n",
    "\n",
    "Ja, denn so können Codeblöcke vereinfacht werden. Sollte in einem Programm Code\n",
    "mehrmals ausgeführt werden, lohnt es sich, diesen in eine Funktion auszulagern,\n",
    "um diese einfach aufrufen zu können.\n",
    "\n",
    "\n",
    "````{admonition} Mini-Übung\n",
    ":class: miniexercise\n",
    "Schreiben Sie eine Funktion mit zwei Parametern, nämlich Vor- und Nachname. Wenn \n",
    "die Funktion z.B. mit `(Alice, Miller)` aufgerufen wird, soll sie Folgendes auf \n",
    "dem Bildschirm ausgeben:\n",
    "\n",
    "```python\n",
    "Vorname: Alice\n",
    "Nachname: Miller\n",
    "```\n",
    "````"
   ]
  },
  {
   "cell_type": "code",
   "execution_count": null,
   "id": "008032f0",
   "metadata": {},
   "outputs": [],
   "source": [
    "# Hier Ihr Code:"
   ]
  },
  {
   "cell_type": "markdown",
   "id": "9bd5b770",
   "metadata": {},
   "source": [
    "<iframe width=\"560\" height=\"315\" src=\"https://www.youtube.com/embed/af9ORp1Pty0\" title=\"YouTube video player\" frameborder=\"0\" allow=\"accelerometer; autoplay; clipboard-write; encrypted-media; gyroscope; picture-in-picture\" allowfullscreen></iframe>\n",
    "\n",
    "## Funktionen mit Rückgabewert\n",
    "\n",
    "In der Regel jedoch haben Funktionen einen Rückgabewert.\n",
    "\n",
    "### Funktion mit einem Rückgabewert\n",
    "\n",
    "Die allgemeine Syntax zur Definition einer eigenen Funktion mit Parametern und\n",
    "Rückgabewert sieht wie folgt aus:\n",
    "\n",
    "```python\n",
    "def meine_funktion(arg1, arg2, ..., argn):\n",
    "    \"\"\"Optionaler Docstring zur Erklärung.\"\"\"\n",
    "\n",
    "    # Implementierung der Funktion\n",
    "    anweisung01\n",
    "    anweisung02\n",
    "     ...\n",
    "\n",
    "    return ergebnis  # optional, die Funktion kann auch keine Rückgabe haben\n",
    "```\n",
    "\n",
    "Schauen wir uns ein Beispiel an:"
   ]
  },
  {
   "cell_type": "code",
   "execution_count": null,
   "id": "bcb1f48d",
   "metadata": {},
   "outputs": [],
   "source": [
    "def berechne_quadrat(x):\n",
    "    return x*x"
   ]
  },
  {
   "cell_type": "code",
   "execution_count": null,
   "id": "efb76108",
   "metadata": {},
   "outputs": [],
   "source": [
    "berechne_quadrat(7)"
   ]
  },
  {
   "cell_type": "code",
   "execution_count": null,
   "id": "3c8a6803",
   "metadata": {},
   "outputs": [],
   "source": [
    "for x in range(1,11):\n",
    "    y = berechne_quadrat(x) \n",
    "    ausgabe = '{} * {} = {}'.format(x, x, y)\n",
    "    print(ausgabe)"
   ]
  },
  {
   "cell_type": "markdown",
   "id": "abcd0a27",
   "metadata": {},
   "source": [
    "Hier ein Beispiel mit mehreren Argumenten."
   ]
  },
  {
   "cell_type": "code",
   "execution_count": null,
   "id": "0665b492",
   "metadata": {},
   "outputs": [],
   "source": [
    "def berechne_rechteck_flaeche(a,b):\n",
    "    flaeche = a*b\n",
    "    return flaeche\n",
    "\n",
    "# main program\n",
    "\n",
    "# Eingabe\n",
    "a = 5\n",
    "b = 3\n",
    "\n",
    "# Verarbeitung\n",
    "flaeche = berechne_rechteck_flaeche(a,b)\n",
    "\n",
    "# Ausgabe\n",
    "print('berechnete Fläche: ', flaeche)"
   ]
  },
  {
   "cell_type": "markdown",
   "id": "7d61ca7c",
   "metadata": {},
   "source": [
    "### Funktionen mit mehreren Rückgabewerten\n",
    "\n",
    "```python\n",
    "def funktion(arg1, arg2, ...):\n",
    "    # Verarbeitung\n",
    "    anweisung01\n",
    "    anweisung02\n",
    "    ...\n",
    "    \n",
    "    return ergebnis1, ergebnis2\n",
    "```\n",
    "\n",
    "Es ist auch möglich, mehrere Ergebnisse gleichzeitig zurückzugeben. Diese werden\n",
    "einfach nach dem Schlüsselwort `return` mit Kommas getrennt gelistet."
   ]
  },
  {
   "cell_type": "code",
   "execution_count": null,
   "id": "dcf39a99",
   "metadata": {},
   "outputs": [],
   "source": [
    "def potenzen_bis_vier(x):\n",
    "    x_hoch_2 = x**2\n",
    "    x_hoch_3 = x**3\n",
    "    x_hoch_4 = x**4\n",
    "    return x_hoch_2, x_hoch_3, x_hoch_4"
   ]
  },
  {
   "cell_type": "code",
   "execution_count": null,
   "id": "fdf4fa31",
   "metadata": {},
   "outputs": [],
   "source": [
    "for x in range(1,11):\n",
    "    print(potenzen_bis_vier(x))"
   ]
  },
  {
   "cell_type": "code",
   "execution_count": null,
   "id": "227f2597",
   "metadata": {},
   "outputs": [],
   "source": [
    "for x in range(1,5):\n",
    "    potenz2, potenz3, potenz4 = potenzen_bis_vier(x)\n",
    "    print('Die 2. Potenz von {} ist {}, die dritte ist {} und die vierte ist {}.'.format(x, potenz2, potenz3, potenz4))"
   ]
  },
  {
   "cell_type": "markdown",
   "id": "6d4cd06e",
   "metadata": {},
   "source": [
    "<iframe width=\"560\" height=\"315\" src=\"https://www.youtube.com/embed/ehSP-sYoKCY\" title=\"YouTube video player\" frameborder=\"0\" allow=\"accelerometer; autoplay; clipboard-write; encrypted-media; gyroscope; picture-in-picture\" allowfullscreen></iframe>\n",
    "\n",
    "## Vorsicht bei der Ausführung von Funktionen: lokale und globale Variablen\n",
    "\n",
    "Schauen Sie sich bitte folgende Funktionsimplementierung an. Was macht die\n",
    "Funktion?"
   ]
  },
  {
   "cell_type": "code",
   "execution_count": null,
   "id": "66d6fe9e",
   "metadata": {},
   "outputs": [],
   "source": [
    "def erhoehe_um_eins(x):\n",
    "    x = x + 1"
   ]
  },
  {
   "cell_type": "code",
   "execution_count": null,
   "id": "3ac18575",
   "metadata": {},
   "outputs": [],
   "source": [
    "x = 17\n",
    "print(x)\n",
    "\n",
    "# jetzt Funktion anwenden\n",
    "print('jetzt Funktion auf x anwenden...')\n",
    "erhoehe_um_eins(x)\n",
    "print(x)"
   ]
  },
  {
   "cell_type": "markdown",
   "id": "038ff43e",
   "metadata": {},
   "source": [
    "Wir schauen in die Funktion \"hinein\", um zu sehen, ob vielleicht gar nicht\n",
    "erhöht wurde."
   ]
  },
  {
   "cell_type": "code",
   "execution_count": null,
   "id": "4c1b4888",
   "metadata": {},
   "outputs": [],
   "source": [
    "def erhoehe_um_eins(x):\n",
    "    print('in der Funktion vor der Erhöhung:')\n",
    "    print(x)\n",
    "    \n",
    "    # Erhöhung\n",
    "    x = x + 1\n",
    "    \n",
    "    print('in der Funktion nach der Erhöhung:')\n",
    "    print(x)    "
   ]
  },
  {
   "cell_type": "code",
   "execution_count": null,
   "id": "d2224a66",
   "metadata": {},
   "outputs": [],
   "source": [
    "x = 17\n",
    "print(x)\n",
    "\n",
    "# jetzt Funktion anwenden\n",
    "print('jetzt Funktion auf x anwenden...')\n",
    "erhoehe_um_eins(x)\n",
    "print(x)"
   ]
  },
  {
   "cell_type": "markdown",
   "id": "c38560be",
   "metadata": {},
   "source": [
    "Was ist passiert? Die Variable `x` in der Funktion ist eine lokale Variable. Es\n",
    "ist Zufall, das sie so heißt, wie die Variable außerhalb der Funktion. Ein\n",
    "Programmierer einer Funktion kann nicht vorab wissen, wie alle anderen Variablen\n",
    "genannt werden. Daher müssen alle Variablen in der Funktion lokal bleiben, um\n",
    "nicht unabsichtlich Variablen, die dummerweise oder absichtlich den gleichen\n",
    "Namen tragen, zu verändern.\n",
    "\n",
    "Möchte man erreichen, dass eine Funktion den Wert einer Variable ändert, kann\n",
    "man dies über die Rückgabe und explizite Zuweisung erreichen."
   ]
  },
  {
   "cell_type": "code",
   "execution_count": null,
   "id": "b42739cb",
   "metadata": {},
   "outputs": [],
   "source": [
    "def erhoehe_um_eins(x):\n",
    "    x = x + 1\n",
    "    return x\n",
    "\n",
    "x = 17\n",
    "print('vorher', x)\n",
    " \n",
    "x = erhoehe_um_eins(x)\n",
    "print('nachher', x)"
   ]
  }
 ],
 "metadata": {
  "jupytext": {
   "formats": "ipynb,md:myst"
  },
  "kernelspec": {
   "display_name": "Python 3.9.13 ('python39')",
   "language": "python",
   "name": "python3"
  },
  "language_info": {
   "name": "python",
   "version": "3.9.13"
  },
  "vscode": {
   "interpreter": {
    "hash": "1863971d65633e53ca5b74972b86a14fab6d597ce2ac84dc984546545d2d3a9b"
   }
  }
 },
 "nbformat": 4,
 "nbformat_minor": 5
}
