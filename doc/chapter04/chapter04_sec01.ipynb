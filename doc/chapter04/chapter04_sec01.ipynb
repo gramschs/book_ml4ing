{
 "cells": [
  {
   "attachments": {},
   "cell_type": "markdown",
   "id": "7fd5a7b0",
   "metadata": {},
   "source": [
    "# Series und DataFrame \n",
    "\n",
    "## Lernziele\n",
    "\n",
    "```{admonition} Lernziele\n",
    ":class: important\n",
    "* Sie können **Pandas** mit der üblichen Abkürzung pd importieren.\n",
    "* Sie können aus einer Liste das Datenobjekt **Series** erzeugen.\n",
    "* Sie kennen das **CSV-Dateiformat**.\n",
    "* Sie können eine csv-Datei mit **read_csv()** einlesen.\n",
    "* Sie konnen mit **.info()** sich einen Überblick über die importierten Daten verschaffen.\n",
    "```\n",
    "\n",
    "## Import von pandas\n",
    "\n",
    "Pandas ist eine Bibliothek zur Verarbeitung und Analyse von Daten in Form von\n",
    "Datenreihen und Tabellen. Die beiden grundlegenden Datenstrukturen sind Series\n",
    "und DataFrame. Dabei wird **Series** für Datenreihen genommen, also sozusagen\n",
    "die Verallgemeinerung von Vektoren bzw. eindimensionalen Arrays. Der Datentyp\n",
    "**DataFrame** repräsentiert Tabellen, also sozusagen Matrizen bzw.\n",
    "verallgemeinerte zweidimensionale Arrays. \n",
    "\n",
    "Um das Modul pandas benutzen zu können, müssen wir es zunächst importieren. Es\n",
    "ist üblich, dabei dem Modul die Abkürzung **pd** zu geben, damit wir nicht immer\n",
    "pandas schreiben müssen, wenn wir eine Funktion aus dem pandas-Modul benutzen."
   ]
  },
  {
   "cell_type": "code",
   "execution_count": 2,
   "id": "a921b036",
   "metadata": {},
   "outputs": [],
   "source": [
    "import pandas as pd # kürze das Modul pandas als pd ab, um Schreibarbeit zu sparen"
   ]
  },
  {
   "attachments": {},
   "cell_type": "markdown",
   "id": "a47cd410",
   "metadata": {},
   "source": [
    "## Series aus Liste erzeugen\n",
    "\n",
    "Der Datentyp Series speichert Datenreihen. Liegt beispielsweise eine Reihe von\n",
    "Daten vor, die in einer Variable vom Datentyp Liste gespeichert ist, so wird\n",
    "über die Methode `pd.Series(liste)` eine neues Series-Objekt erzeugt, dass die\n",
    "Listenelemente enthält. Im folgenden Beispiel haben wir Altersangaben in einer\n",
    "Liste, also `[25, 22, 43, 37]` und initialisieren über `pd.Series()` die\n",
    "Variable `alter`:"
   ]
  },
  {
   "cell_type": "code",
   "execution_count": null,
   "id": "21bedf5b",
   "metadata": {},
   "outputs": [],
   "source": [
    "alter = pd.Series([25, 22, 43, 37])\n",
    "print(alter)"
   ]
  },
  {
   "attachments": {},
   "cell_type": "markdown",
   "id": "48ab9b85",
   "metadata": {},
   "source": [
    "Was ist aber jetzt der Vorteil von Pandas? Warum nicht einfach bei der Liste\n",
    "bleiben oder aber, wenn Performance wichtig sein sollte, ein eindimensionales\n",
    "Numpy-Array nehmen? Der wichtigste Unterschied ist der **Index**.\n",
    "\n",
    "Bei einer Liste oder einem Numpy-Array ist der Index implizit definiert. Damit\n",
    "ist gemeint, dass bei der Initialisierung automatisch ein Index 0, 1, 2, 3, ...\n",
    "angelegt wird. Wenn bei einer Liste `l = [25, 22, 43, 37]` auf das zweite\n",
    "Element zugegriffen werden soll, dann verwenden wir den Index 1 (zur Erinnerung:\n",
    "Python zählt ab 0) und schreiben"
   ]
  },
  {
   "cell_type": "code",
   "execution_count": null,
   "id": "57506e39",
   "metadata": {},
   "outputs": [],
   "source": [
    "l = [25, 22, 43, 37]\n",
    "print(\"2. Element der Liste: \", l[1])"
   ]
  },
  {
   "attachments": {},
   "cell_type": "markdown",
   "id": "a123d5c6",
   "metadata": {},
   "source": [
    "Die Datenstruktur Series ermöglich es aber, einen *expliziten Index* zu setzen.\n",
    "Über den optionalen Parameter `index=` speichern wir als Zusatzinformation noch\n",
    "ab, von welcher Person das Alter abgefragt wurde. In dem Fall sind es die vier\n",
    "Personen Alice, Bob, Charlie und Dora."
   ]
  },
  {
   "cell_type": "code",
   "execution_count": null,
   "id": "a867ca77",
   "metadata": {},
   "outputs": [],
   "source": [
    "alter = pd.Series([25, 22, 43, 30], index=[\"Alice\", \"Bob\", \"Charlie\", \"Dora\"])\n",
    "print(alter)"
   ]
  },
  {
   "attachments": {},
   "cell_type": "markdown",
   "id": "bb8cb092",
   "metadata": {},
   "source": [
    "Jetzt ist auch klar, warum beim ersten Mal, als wir `print(alter)` ausgeführt\n",
    "haben, die Zahlen 0, 1, 2, 3 ausgegeben wurden. Zu dem Zeitpunkt hatte das\n",
    "Series-Objekt noch einen impliziten Index wie eine Liste. Was noch an\n",
    "Informationen ausgegeben wird, ist das Attribut `dtype`. Darin gespeichert ist\n",
    "der Datentyp der gespeicherten Werte. Auf dieses Attribut kann auch direkt mit\n",
    "dem Punktoperator zugegegriffen werden."
   ]
  },
  {
   "cell_type": "code",
   "execution_count": null,
   "id": "a420f10a",
   "metadata": {},
   "outputs": [],
   "source": [
    "print(alter.dtype)"
   ]
  },
  {
   "attachments": {},
   "cell_type": "markdown",
   "id": "96c886e2",
   "metadata": {},
   "source": [
    "Offensichtlich sind die gespeicherten Werte Integer.\n",
    "\n",
    "```{admonition} Mini-Übung\n",
    ":class: miniexercise \n",
    "Erzeugen Sie ein Series-Objekt mit den Wochentagen als Index und der Anzahl der\n",
    "Vorlesungs/Übungs-Stunden an diesem Wochentag.\n",
    "```"
   ]
  },
  {
   "cell_type": "code",
   "execution_count": null,
   "id": "373a5cb5",
   "metadata": {},
   "outputs": [],
   "source": [
    "# Hier Ihr Code:"
   ]
  },
  {
   "attachments": {},
   "cell_type": "markdown",
   "id": "8a7530d3",
   "metadata": {},
   "source": [
    "````{admonition} Lösung\n",
    ":class: minisolution, toggle\n",
    "```python\n",
    "stundenplan = pd.Series([4, 0, 4, 6, 8], index=[\"Montag\", \"Dienstag\", \"Mittwoch\", \"Donnerstag\", \"Freitag\"])\n",
    "print(stundenplan)\n",
    "```\n",
    "````"
   ]
  },
  {
   "attachments": {},
   "cell_type": "markdown",
   "id": "e97292e9",
   "metadata": {},
   "source": [
    "## DataFrame für Tabellen\n",
    "\n",
    "Bei Auswertung von Messungen ist aber der häufigste Fall der, dass Daten in Form\n",
    "einer Tabelle vorliegen. Ein DataFrame-Objekt entspricht einer Tabelle, wie man\n",
    "sie beispielsweise von Excel, LibreOffice oder Numbers kennt. Sowohl Zeile als\n",
    "auch Spalten sind indiziert. Typischerweise werden die Daten in der Tabelle\n",
    "zeilenweise angeordnet. Damit ist gemeint, dass jede Zeile einen Datensatz\n",
    "darstellt und die Spalten die Eigenschaften speichern.\n",
    "\n",
    "Ein DataFrame kann direkt über mehrere Pandas-Series-Objekte oder verschachtelte\n",
    "Listen erzeugt werden. Da es in der Praxis nur selten vorkommt und nur für sehr\n",
    "kleine Datenmengen praktikabel ist, Daten händisch zu erfassen, fokussieren wir\n",
    "gleich auf die Erzeugung von DataFrame-Objekten aus einer Datei. \n",
    "\n",
    "## Import von Tabellen mit read_csv()\n",
    "\n",
    "Tabellen liegen werden oft in dem Dateiformat abgespeichert, das die jeweilige\n",
    "Tabellenkalkulationssoftware Excel, Numbers oder OpenOfficeCalc als Standard\n",
    "eingestellt hat. Wir betrachten in dieser Vorlesung Tabellen, die in einem\n",
    "offenen Standardformat vorliegen und damit unabhängig von der verwendeten\n",
    "Software und dem verwendeten Betriebssystem sind.\n",
    "\n",
    "Das **Dateiformat CSV** speichert Daten zeilenweise ab. Dabei steht CSV für\n",
    "\"comma separated value\". Die Trennung der Spalten erfolgt durch ein\n",
    "Trennzeichen, normalerweise durch das Komma. Im deutschsprachigen Raum wird\n",
    "gelegentlich ein Semikolon verwendet, weil Dezimalzahlen das Komma zum Abtrennen\n",
    "der Nacchkommastellen verwenden.\n",
    "\n",
    "Um Tabellen im csv-Format einzulesen, bietet Pandas eine eigene Funktion namens\n",
    "`read_csv` an (siehe\n",
    "[Dokumentation/read_csv](https://pandas.pydata.org/docs/reference/api/pandas.read_csv.html)).\n",
    "Wird diese Funktion verwendet, um die Daten zu importieren, so wird automatisch\n",
    "ein DataFrame-Objekt erzeugt. Beim Aufruf der Funktion wird der Dateiname\n",
    "übergeben, aber beispielweise könnte auch ein anderes Trennzeichen eingestellt werden.\n",
    "\n",
    "Am besten sehen wir uns die Funktionsweise von `read_csv` an einem Beispiel an.\n",
    "Sollten Sie mit einem lokalen JupyterNotebook arbeiten, laden Sie bitte die\n",
    "Datei\n",
    "[`bundesliga_top7_offensive.csv`](https://nextcloud.frankfurt-university.de/s/yJjkkMSkWqcSxGL)\n",
    "herunter und speichern Sie sie in denselben Ordner, in dem auch dieses\n",
    "JupyterNotebook liegt. Die csv-Datei stammt von\n",
    "[Kaggle](https://www.kaggle.com/rajatrc1705/bundesliga-top-7-teams-offensive-stats?select=bundesliga_top7_offensive.csv).\n",
    "Wie der Name schon verrät, sind darin Spielerdaten zu den Top7-Fußballvereinen\n",
    "der Bundesligasaison 2020/21 enthalten. \n",
    "\n",
    "Führen Sie dann anschließend die folgende Code-Zelle aus."
   ]
  },
  {
   "cell_type": "code",
   "execution_count": null,
   "id": "911a7b5d",
   "metadata": {},
   "outputs": [],
   "source": [
    "import pandas as pd\n",
    "data = pd.read_csv('bundesliga_top7_offensive.csv')"
   ]
  },
  {
   "attachments": {},
   "cell_type": "markdown",
   "id": "127bd5a6",
   "metadata": {},
   "source": [
    "Es erscheint keine Fehlermeldung, aber den Inhalt der geladenen Datei sehen wir\n",
    "trotzdem nicht. Dazu verwenden wir die Methode `.head()`."
   ]
  },
  {
   "cell_type": "code",
   "execution_count": null,
   "id": "30301dae",
   "metadata": {},
   "outputs": [],
   "source": [
    "data.head()"
   ]
  },
  {
   "attachments": {},
   "cell_type": "markdown",
   "id": "34ed5797",
   "metadata": {},
   "source": [
    "Die Methode `.head()` zeigt uns die ersten fünf Zeilen der Tabelle an. Wenn wir beispielsweise die ersten 10 Zeilen anzeigen lassen wollen, so verwenden wir die Methode `.head(10)`mit dem Argument 10."
   ]
  },
  {
   "cell_type": "code",
   "execution_count": null,
   "id": "6e2b08c9",
   "metadata": {},
   "outputs": [],
   "source": [
    "data.head(10)"
   ]
  },
  {
   "attachments": {},
   "cell_type": "markdown",
   "id": "5cbd4537",
   "metadata": {},
   "source": [
    "Offensichtlich wurde beim Import der Daten wieder ein impliziter Index 0, 1, 2,\n",
    "usw. gesetzt. Das ist nicht weiter verwunderlich, denn Pandas kann nicht wissen,\n",
    "welche Spalte wir als Index vorgesehen haben. Und manchmal ist ein automatisch\n",
    "erzeugter impliziter Index auch nicht schlecht. In diesem Fall würden wir aber\n",
    "gerne als Zeilenindex die Namen der Spieler verwenden. Daher modifizieren wir\n",
    "den Befehl mit `index_col=`. Die Namen stehen in der 1. Spalte, was in\n",
    "Python-Zählweise einer 0 entspricht."
   ]
  },
  {
   "cell_type": "code",
   "execution_count": null,
   "id": "59554ff6",
   "metadata": {},
   "outputs": [],
   "source": [
    "data = pd.read_csv('bundesliga_top7_offensive.csv', index_col=0)\n",
    "data.head(10)"
   ]
  },
  {
   "attachments": {},
   "cell_type": "markdown",
   "id": "0d5c11c4",
   "metadata": {},
   "source": [
    "## Übersicht verschaffen mit info \n",
    "\n",
    "Das obige Beispiel zeigt uns zwar nun die ersten 10 Zeilen des importierten\n",
    "Datensatzes, aber wie viele Daten insgesamt enthalten sind oder welche Vereine\n",
    "noch kommen, können wir mit der `.head()`-Methode nicht erfassen. Dafür stellt\n",
    "Pandas die Methode `.info()` zur Verfügung. Probieren wir es einfach aus."
   ]
  },
  {
   "cell_type": "code",
   "execution_count": null,
   "id": "54739d5b",
   "metadata": {},
   "outputs": [],
   "source": [
    "data.info()"
   ]
  },
  {
   "attachments": {},
   "cell_type": "markdown",
   "id": "0ad3e0c1",
   "metadata": {},
   "source": [
    "Mit `.info()` erhalten wir eine Übersicht, wie viele Spalten es gibt und auch\n",
    "die Spaltenüberschriften werden aufgelistet. Dabei sind Überschriften wie `Name`\n",
    "selbsterklärend, aber was `xG` bedeutet, erschließt sich nicht von selbst. Dazu\n",
    "brauchen wir mehr Informationen von den Autor:innen der Daten.\n",
    "\n",
    "Weiterhin entnehmen wir der Ausgabe von `.info()`, dass in jeder Spalte 177\n",
    "Einträge sind, die 'non-null' sind. Damit ist gemeint, dass diese Zellen beim\n",
    "Import nicht leer waren. Zudem wird bei jeder Spalte noch der Datentyp\n",
    "angegeben. Für die Namen, die als Strings gespeichert sind, wird der allgemeine\n",
    "Datentyp 'object' angegeben. Beim Alter/Age wurden korrektweise Integer erkannt\n",
    "und die mittlere erwartete Anzahl von Toren pro Spiel 'xG' (= expected number of\n",
    "goals from the player in a match) wird als Float angegeben."
   ]
  }
 ],
 "metadata": {
  "jupytext": {
   "formats": "ipynb,md:myst"
  },
  "kernelspec": {
   "display_name": "Python 3.9.13 ('python39')",
   "language": "python",
   "name": "python3"
  },
  "language_info": {
   "codemirror_mode": {
    "name": "ipython",
    "version": 3
   },
   "file_extension": ".py",
   "mimetype": "text/x-python",
   "name": "python",
   "nbconvert_exporter": "python",
   "pygments_lexer": "ipython3",
   "version": "3.9.13"
  },
  "vscode": {
   "interpreter": {
    "hash": "1863971d65633e53ca5b74972b86a14fab6d597ce2ac84dc984546545d2d3a9b"
   }
  }
 },
 "nbformat": 4,
 "nbformat_minor": 5
}
