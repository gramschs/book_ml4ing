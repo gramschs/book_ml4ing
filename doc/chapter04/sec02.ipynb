{
 "cells": [
  {
   "cell_type": "markdown",
   "id": "cb0c64ac",
   "metadata": {},
   "source": [
    "# DataFrames für Tabellen\n",
    "\n",
    "## Lernziele\n",
    "\n",
    "```{admonition} Lernziele\n",
    ":class: hint\n",
    "* TODO\n",
    "```\n",
    "\n",
    "## DataFrame erzeugen aus mehreren Series-Objekten\n",
    "\n",
    "Ein DataFrame-Objekt entspricht einer Tabelle, wie man sie beispielsweise von\n",
    "Excel, LibreOffice oder Numbers kennt. Sowohl Zeile als auch Spalten sind\n",
    "normalerweise indiziert. Typischerweise werden die Daten in der Tabelle\n",
    "zeilenweise angeordnet. Damit ist gemeint, dass jede Zeile einen Datensatz\n",
    "darstellt und in den Spalten die Daten zu den Parametern sind.\n",
    "\n",
    "Ein DataFrame kann direkt über mehrere Pandas-Series-Objekte oder verschachtelte\n",
    "Listen erzeugt werden. In der Praxis am häufigsten ist jedoch der Fall, dass das\n",
    "Pandas-DataFrame-Objekt aus einer Datei importiert wird. Dazu später mehr. Zunächst erzeugen wir zwei Series-Objekte. `alter` speichert das Alter der Personen, `wohnort` den aktuellen Wohnort."
   ]
  },
  {
   "cell_type": "code",
   "execution_count": 5,
   "id": "a87d18a4",
   "metadata": {},
   "outputs": [],
   "source": [
    "import pandas as pd\n",
    "\n",
    "alter = pd.Series([25, 22, 43, 30], index=[\"Alice\", \"Bob\", \"Charlie\", \"Dora\"])\n",
    "wohnort = pd.Series(['Frankfurt', 'Darmstadt', 'Mainz', 'Berlin'], index=[\"Alice\", \"Bob\", \"Charlie\", \"Dora\"])"
   ]
  },
  {
   "cell_type": "markdown",
   "id": "fe2f50db",
   "metadata": {},
   "source": [
    "Danach führen wir die beiden Series-Objekte mit dem `concat`-Befehl zusammen zu\n",
    "einem DataFrame. Dabei gibt es zwei verschiedene Möglichkeiten. Die beiden\n",
    "Series-Objekte können vertikal or vhorizontal verkettet werden. Gesteuert wird\n",
    "das mit der Option `axis=0` oder `axis=1`. In diesem Fall brauchen wir `axis=1`,\n",
    "aber probieren Sie auch einmal die andere Option aus um zu sehen, was sie\n",
    "bewirkt."
   ]
  },
  {
   "cell_type": "code",
   "execution_count": 6,
   "id": "c95dac08",
   "metadata": {},
   "outputs": [
    {
     "name": "stdout",
     "output_type": "stream",
     "text": [
      "          0          1\n",
      "Alice    25  Frankfurt\n",
      "Bob      22  Darmstadt\n",
      "Charlie  43      Mainz\n",
      "Dora     30     Berlin\n"
     ]
    }
   ],
   "source": [
    "personen = pd.concat([alter, wohnort], axis=1)\n",
    "print(personen)"
   ]
  },
  {
   "cell_type": "markdown",
   "id": "085d259a",
   "metadata": {},
   "source": [
    "Was jetzt noch fehlt ist eine Beschriftung der Spalten. Das geht am einfachsten,\n",
    "wenn man den Series-Objekten Namen gibt, bevor der concatenate-Befehl ausgeführt\n",
    "wird."
   ]
  },
  {
   "cell_type": "code",
   "execution_count": 15,
   "id": "45142835",
   "metadata": {},
   "outputs": [
    {
     "name": "stdout",
     "output_type": "stream",
     "text": [
      "         Alter    Wohnort\n",
      "Alice       25  Frankfurt\n",
      "Bob         22  Darmstadt\n",
      "Charlie     43      Mainz\n",
      "Dora        30     Berlin\n",
      "Emil         6  Frankfurt\n"
     ]
    }
   ],
   "source": [
    "alter = pd.Series([25, 22, 43, 30, 6], index=[\"Alice\", \"Bob\", \"Charlie\", \"Dora\", \"Emil\"], name='Alter')\n",
    "wohnort = pd.Series(['Frankfurt', 'Darmstadt', 'Mainz', 'Berlin', 'Frankfurt'], index=[\"Alice\", \"Bob\", \"Charlie\", \"Dora\", \"Emil\"], name='Wohnort')\n",
    "personen = pd.concat([alter, wohnort], axis=1, keys=['Alter','Wohnort'])\n",
    "print(personen)"
   ]
  },
  {
   "cell_type": "markdown",
   "id": "05d6a2e7",
   "metadata": {},
   "source": [
    "## Zugriff auf Zellen\n",
    "\n",
    "Wie bei den Pandas-Serien-Objekten können wir über das Attribut `.loc[]` auf\n",
    "Zellen des Pandas-DataFrame-Objektes zugreifen."
   ]
  },
  {
   "cell_type": "code",
   "execution_count": 16,
   "id": "9cc28233",
   "metadata": {},
   "outputs": [
    {
     "name": "stdout",
     "output_type": "stream",
     "text": [
      "43\n"
     ]
    }
   ],
   "source": [
    "print( personen.loc['Charlie', 'Alter'] )"
   ]
  },
  {
   "cell_type": "markdown",
   "id": "4b7664fb",
   "metadata": {},
   "source": [
    "Auch der schreibende Zugriff erfolgt analog zu den Zugriffsmöglichkeiten bei\n",
    "Pandas-Series-Objekten."
   ]
  },
  {
   "cell_type": "code",
   "execution_count": 17,
   "id": "f6e51442",
   "metadata": {},
   "outputs": [
    {
     "name": "stdout",
     "output_type": "stream",
     "text": [
      "         Alter    Wohnort\n",
      "Alice       25  Frankfurt\n",
      "Bob         22  Darmstadt\n",
      "Charlie     44      Mainz\n",
      "Dora        30     Berlin\n",
      "Emil         6  Frankfurt\n"
     ]
    }
   ],
   "source": [
    "personen.loc['Charlie', 'Alter'] = 44\n",
    "print(personen)"
   ]
  },
  {
   "cell_type": "markdown",
   "id": "b51cff93",
   "metadata": {},
   "source": [
    "Auf einen zusammenhängenden Bereich wird durch Slicing zugegriffen. Dabei kann\n",
    "das Slicing für die Zeilen (index), die Spalten (columns) oder beides benutzt\n",
    "werden."
   ]
  },
  {
   "cell_type": "code",
   "execution_count": 18,
   "id": "faa38ef5",
   "metadata": {},
   "outputs": [
    {
     "name": "stdout",
     "output_type": "stream",
     "text": [
      "Bob        22\n",
      "Charlie    44\n",
      "Dora       30\n",
      "Name: Alter, dtype: int64\n"
     ]
    }
   ],
   "source": [
    "tmp = personen.loc['Bob' : 'Dora', 'Alter']\n",
    "print(tmp)"
   ]
  },
  {
   "cell_type": "code",
   "execution_count": 19,
   "id": "b2620ee2",
   "metadata": {},
   "outputs": [
    {
     "name": "stdout",
     "output_type": "stream",
     "text": [
      "Alter             22\n",
      "Wohnort    Darmstadt\n",
      "Name: Bob, dtype: object\n"
     ]
    }
   ],
   "source": [
    "tmp = personen.loc['Bob', 'Alter':'Wohnort']\n",
    "print(tmp)"
   ]
  },
  {
   "cell_type": "markdown",
   "id": "eb293c9f",
   "metadata": {},
   "source": [
    "Beim Slicing können wir den Startwert oder den Stoppwert oder beides weglassen.\n",
    "Wenn wir den  Startwert weglassen, fängt der Slice von vorne an. Lassen wir den\n",
    "Stoppert weg, geht der Slice bis zum Ende. Das nutzen wir, um auf eine ganze\n",
    "Spalte zuzugreifen:"
   ]
  },
  {
   "cell_type": "code",
   "execution_count": 20,
   "id": "42386407",
   "metadata": {},
   "outputs": [
    {
     "name": "stdout",
     "output_type": "stream",
     "text": [
      "Alter             22\n",
      "Wohnort    Darmstadt\n",
      "Name: Bob, dtype: object\n"
     ]
    }
   ],
   "source": [
    "tmp = personen.loc[ 'Bob' , :]\n",
    "print(tmp)"
   ]
  },
  {
   "cell_type": "markdown",
   "id": "a05ab37b",
   "metadata": {},
   "source": [
    "Sollen dahingegen mehrere Zellen gleichzeitig ausgewählt werden, die nicht\n",
    "zusammenhängen, benutzt man Listen. Wiederum können die Listen für den index\n",
    "oder die columns oder beides gemischt spezifiziert werden."
   ]
  },
  {
   "cell_type": "code",
   "execution_count": 21,
   "id": "d29adfcd",
   "metadata": {},
   "outputs": [
    {
     "name": "stdout",
     "output_type": "stream",
     "text": [
      "Bob     22\n",
      "Dora    30\n",
      "Emil     6\n",
      "Name: Alter, dtype: int64\n"
     ]
    }
   ],
   "source": [
    "tmp = personen.loc[ ['Bob', 'Dora','Emil'] , 'Alter']\n",
    "print(tmp)"
   ]
  },
  {
   "cell_type": "markdown",
   "id": "d3cd5743",
   "metadata": {},
   "source": [
    "Als nächstes fügen wir unserer Personen-Tabelle eine neue Spalte hinzu. In der\n",
    "neuen Spalte soll die Note der letzten Klausur stehen. Dazu erzeugen wir\n",
    "zunächst wieder einmal ein Pandas-Series-Objekt. Danach weisen wir das\n",
    "Series-Objekt dem DataFrame-Objekt spalten weise zu, indem wir den neuen Namen\n",
    "dem `.loc`-Attribut mitgeben."
   ]
  },
  {
   "cell_type": "code",
   "execution_count": 22,
   "id": "0615948a",
   "metadata": {},
   "outputs": [
    {
     "data": {
      "text/plain": [
       "Alice      1.3\n",
       "Bob        3.7\n",
       "Charlie    2.0\n",
       "Dora       1.7\n",
       "Emil       5.0\n",
       "dtype: float64"
      ]
     },
     "execution_count": 22,
     "metadata": {},
     "output_type": "execute_result"
    }
   ],
   "source": [
    "note = pd.Series({'Alice': 1.3, 'Bob': 3.7, 'Charlie': 2.0, 'Dora': 1.7, 'Emil': 5.0})\n",
    "note"
   ]
  },
  {
   "cell_type": "code",
   "execution_count": 23,
   "id": "5e6f8080",
   "metadata": {},
   "outputs": [
    {
     "name": "stdout",
     "output_type": "stream",
     "text": [
      "         Alter    Wohnort  Note\n",
      "Alice       25  Frankfurt   1.3\n",
      "Bob         22  Darmstadt   3.7\n",
      "Charlie     44      Mainz   2.0\n",
      "Dora        30     Berlin   1.7\n",
      "Emil         6  Frankfurt   5.0\n"
     ]
    }
   ],
   "source": [
    "personen.loc[:, 'Note'] = note\n",
    "print(personen)"
   ]
  }
 ],
 "metadata": {
  "jupytext": {
   "formats": "ipynb,md:myst"
  },
  "kernelspec": {
   "display_name": "Python 3.9.13 ('python39')",
   "language": "python",
   "name": "python3"
  },
  "language_info": {
   "codemirror_mode": {
    "name": "ipython",
    "version": 3
   },
   "file_extension": ".py",
   "mimetype": "text/x-python",
   "name": "python",
   "nbconvert_exporter": "python",
   "pygments_lexer": "ipython3",
   "version": "3.9.13"
  },
  "vscode": {
   "interpreter": {
    "hash": "1863971d65633e53ca5b74972b86a14fab6d597ce2ac84dc984546545d2d3a9b"
   }
  }
 },
 "nbformat": 4,
 "nbformat_minor": 5
}
