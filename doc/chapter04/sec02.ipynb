{
 "cells": [
  {
   "cell_type": "markdown",
   "id": "cb0c64ac",
   "metadata": {},
   "source": [
    "# DataFrames für Tabellen\n",
    "\n",
    "## Lernziele\n",
    "\n",
    "```{admonition} Lernziele\n",
    ":class: hint\n",
    "* TODO\n",
    "```\n",
    "\n",
    "## Zugriff auf Zellen mit loc\n",
    "\n",
    "Im Folgenden betrachten wir verschiedene Möglichkeiten, um auf die Werte in\n",
    "einer Zelle zuzugreifen. Wir werden uns vier Möglichkeiten ansehen:\n",
    "* Zugriff auf eine einzelne Zeile, indem ein Index spezifiziert wird\n",
    "* Zugriff auf mehrere Zeilen, indem eine Liste von Indizes übergeben wird\n",
    "* Zugriff auf mehrere zusammenhängende Zeilen, indem ein Slice von Indizes\n",
    "  übergeben wird\n",
    "* Zugriff auf mehrere Zeilen, indem eine Liste mit True/False übergeben wird.\n",
    "\n",
    "```{code-cell} ipython3\n",
    "alter = pd.Series([25, 22, 43, 30], index=[\"Alice\", \"Bob\", \"Charlie\", \"Dora\"])\n",
    "alter\n",
    "```\n",
    "\n",
    "Zunächst greifen wir eine einzelne Zeile heraus. Dazu benutzen wir das Attribut\n",
    "``.loc`` und spezifizieren mit eckigen Klammern den Index der Zeile, also\n",
    "``.loc[index]``. Anders als bei den folgenden drei Zugriffsmöglichkeiten, wird\n",
    "nur der Wert der Daten in der Zeile zurückgeliefert, nicht aber der dazugehörige\n",
    "Index.\n",
    "\n",
    "```{code-cell} ipython3\n",
    "alter.loc['Alice']\n",
    "```\n",
    "\n",
    "```{code-cell} ipython3\n",
    "alter.loc['Dora']\n",
    "```\n",
    "\n",
    "Nun erzeugen wir eine Liste von Indizes. Danach können wir aus dem\n",
    "Pandas-Series-Objekt per ``.loc[liste]`` auf mehrere Zeilen zugreifen. \n",
    "\n",
    "```{code-cell} ipython3\n",
    "frauen  = ['Alice', 'Dora']\n",
    "alter.loc[frauen]\n",
    "```\n",
    "\n",
    "```{admonition} Mini-Übung\n",
    ":class: miniexercise \n",
    "Erzeugen Sie analog zu dem obigen Beispiel eine Liste der Männer und geben Sie\n",
    "das Alter der Männer aus.\n",
    "```\n",
    "\n",
    "```{code-cell} ipython3\n",
    "# Hier Ihr Code\n",
    "\n",
    "```\n",
    "\n",
    "Als dritte Möglichkeit betrachten wir einen Slice, also das Herausschneiden\n",
    "eines zusammenhängenden Stückes aus dem Pandas-Series-Objekt. Dazu spezifizieren\n",
    "wir den Start- und den stoppindex mit einem Doppelpunkt dazwischen, also\n",
    "``.loc[startindex : stoppindex]``. Das Herausschneiden von zusammenhängenden\n",
    "Teilobjekten wird auch als **Slicing** bezeichnet.\n",
    "\n",
    "```{code-cell} ipython3\n",
    "alter.loc['Bob': 'Dora']\n",
    "```\n",
    "\n",
    "Als letzte Möglichkeit, um auf Zeilen in dem Pandas-Series-Objekt zuzugreifen,\n",
    "betrachten wir die Übergabe eine Liste mit True/False-Werten.\n",
    "\n",
    "```{code-cell} ipython3\n",
    "filter = [True, False, False, True]\n",
    "alter.loc[filter]\n",
    "```\n",
    "\n",
    "Letztere Möglichkeit wird vor allem dazu genutzt, Daten nach Eigenschaften zu\n",
    "filtern. Ein simpler Vergleich des Pandas-Series-Objektes beispielsweie erzeugt\n",
    "solche True/False-Objekte, die dann in einem zweiten Schritt genutzt werden\n",
    "können, um das Pandas-Series-Objekt zu filtern. \n",
    "\n",
    "```{code-cell} ipython3\n",
    "filter = alter < 28\n",
    "alter.loc[filter]\n",
    "```\n",
    "\n",
    "Nachdem wir nun gelernt haben, wie auf einzelne Element des\n",
    "Pandas-Series-Objektes zugegriffen wird, können wir Daten auch manipulieren.\n",
    "Beispielsweise ist Charlie gar nicht 43 Jahre alt, sondern nur 42. Wir weisen\n",
    "dem Objekt ``alter`` für den Index ``'Charlie'``einen neuen Wert zu:\n",
    "\n",
    "```{code-cell} ipython3\n",
    "alter.loc['Charlie'] = 42\n",
    "alter\n",
    "```\n",
    "\n",
    "Oder wir wählen alle Frauen aus und machen sie drei Jahre jünger ;-)\n",
    "\n",
    "```{code-cell} ipython3\n",
    "print('Alter vor der Verjüngung: \\n', alter)\n",
    "alter.loc[ ['Alice', 'Dora']] = alter.loc[ ['Alice', 'Dora']] - 3\n",
    "print('Alter danach: \\n', alter)\n",
    "```\n",
    "\n",
    "\n",
    "\n",
    "\n",
    "\n",
    "\n",
    "\n",
    "## DataFrame erzeugen aus mehreren Series-Objekten\n",
    "\n",
    " Zunächst erzeugen wir zwei Series-Objekte. `alter` speichert das Alter der Personen, `wohnort` den aktuellen Wohnort."
   ]
  },
  {
   "cell_type": "code",
   "execution_count": 5,
   "id": "a87d18a4",
   "metadata": {},
   "outputs": [],
   "source": [
    "import pandas as pd\n",
    "\n",
    "alter = pd.Series([25, 22, 43, 30], index=[\"Alice\", \"Bob\", \"Charlie\", \"Dora\"])\n",
    "wohnort = pd.Series(['Frankfurt', 'Darmstadt', 'Mainz', 'Berlin'], index=[\"Alice\", \"Bob\", \"Charlie\", \"Dora\"])"
   ]
  },
  {
   "cell_type": "markdown",
   "id": "fe2f50db",
   "metadata": {},
   "source": [
    "Danach führen wir die beiden Series-Objekte mit dem `concat`-Befehl zusammen zu\n",
    "einem DataFrame. Dabei gibt es zwei verschiedene Möglichkeiten. Die beiden\n",
    "Series-Objekte können vertikal or vhorizontal verkettet werden. Gesteuert wird\n",
    "das mit der Option `axis=0` oder `axis=1`. In diesem Fall brauchen wir `axis=1`,\n",
    "aber probieren Sie auch einmal die andere Option aus um zu sehen, was sie\n",
    "bewirkt."
   ]
  },
  {
   "cell_type": "code",
   "execution_count": 6,
   "id": "c95dac08",
   "metadata": {},
   "outputs": [
    {
     "name": "stdout",
     "output_type": "stream",
     "text": [
      "          0          1\n",
      "Alice    25  Frankfurt\n",
      "Bob      22  Darmstadt\n",
      "Charlie  43      Mainz\n",
      "Dora     30     Berlin\n"
     ]
    }
   ],
   "source": [
    "personen = pd.concat([alter, wohnort], axis=1)\n",
    "print(personen)"
   ]
  },
  {
   "cell_type": "markdown",
   "id": "085d259a",
   "metadata": {},
   "source": [
    "Was jetzt noch fehlt ist eine Beschriftung der Spalten. Das geht am einfachsten,\n",
    "wenn man den Series-Objekten Namen gibt, bevor der concatenate-Befehl ausgeführt\n",
    "wird."
   ]
  },
  {
   "cell_type": "code",
   "execution_count": 15,
   "id": "45142835",
   "metadata": {},
   "outputs": [
    {
     "name": "stdout",
     "output_type": "stream",
     "text": [
      "         Alter    Wohnort\n",
      "Alice       25  Frankfurt\n",
      "Bob         22  Darmstadt\n",
      "Charlie     43      Mainz\n",
      "Dora        30     Berlin\n",
      "Emil         6  Frankfurt\n"
     ]
    }
   ],
   "source": [
    "alter = pd.Series([25, 22, 43, 30, 6], index=[\"Alice\", \"Bob\", \"Charlie\", \"Dora\", \"Emil\"], name='Alter')\n",
    "wohnort = pd.Series(['Frankfurt', 'Darmstadt', 'Mainz', 'Berlin', 'Frankfurt'], index=[\"Alice\", \"Bob\", \"Charlie\", \"Dora\", \"Emil\"], name='Wohnort')\n",
    "personen = pd.concat([alter, wohnort], axis=1, keys=['Alter','Wohnort'])\n",
    "print(personen)"
   ]
  },
  {
   "cell_type": "markdown",
   "id": "05d6a2e7",
   "metadata": {},
   "source": [
    "## Zugriff auf Zellen\n",
    "\n",
    "Wie bei den Pandas-Serien-Objekten können wir über das Attribut `.loc[]` auf\n",
    "Zellen des Pandas-DataFrame-Objektes zugreifen."
   ]
  },
  {
   "cell_type": "code",
   "execution_count": 16,
   "id": "9cc28233",
   "metadata": {},
   "outputs": [
    {
     "name": "stdout",
     "output_type": "stream",
     "text": [
      "43\n"
     ]
    }
   ],
   "source": [
    "print( personen.loc['Charlie', 'Alter'] )"
   ]
  },
  {
   "cell_type": "markdown",
   "id": "4b7664fb",
   "metadata": {},
   "source": [
    "Auch der schreibende Zugriff erfolgt analog zu den Zugriffsmöglichkeiten bei\n",
    "Pandas-Series-Objekten."
   ]
  },
  {
   "cell_type": "code",
   "execution_count": 17,
   "id": "f6e51442",
   "metadata": {},
   "outputs": [
    {
     "name": "stdout",
     "output_type": "stream",
     "text": [
      "         Alter    Wohnort\n",
      "Alice       25  Frankfurt\n",
      "Bob         22  Darmstadt\n",
      "Charlie     44      Mainz\n",
      "Dora        30     Berlin\n",
      "Emil         6  Frankfurt\n"
     ]
    }
   ],
   "source": [
    "personen.loc['Charlie', 'Alter'] = 44\n",
    "print(personen)"
   ]
  },
  {
   "cell_type": "markdown",
   "id": "b51cff93",
   "metadata": {},
   "source": [
    "Auf einen zusammenhängenden Bereich wird durch Slicing zugegriffen. Dabei kann\n",
    "das Slicing für die Zeilen (index), die Spalten (columns) oder beides benutzt\n",
    "werden."
   ]
  },
  {
   "cell_type": "code",
   "execution_count": 18,
   "id": "faa38ef5",
   "metadata": {},
   "outputs": [
    {
     "name": "stdout",
     "output_type": "stream",
     "text": [
      "Bob        22\n",
      "Charlie    44\n",
      "Dora       30\n",
      "Name: Alter, dtype: int64\n"
     ]
    }
   ],
   "source": [
    "tmp = personen.loc['Bob' : 'Dora', 'Alter']\n",
    "print(tmp)"
   ]
  },
  {
   "cell_type": "code",
   "execution_count": 19,
   "id": "b2620ee2",
   "metadata": {},
   "outputs": [
    {
     "name": "stdout",
     "output_type": "stream",
     "text": [
      "Alter             22\n",
      "Wohnort    Darmstadt\n",
      "Name: Bob, dtype: object\n"
     ]
    }
   ],
   "source": [
    "tmp = personen.loc['Bob', 'Alter':'Wohnort']\n",
    "print(tmp)"
   ]
  },
  {
   "cell_type": "markdown",
   "id": "eb293c9f",
   "metadata": {},
   "source": [
    "Beim Slicing können wir den Startwert oder den Stoppwert oder beides weglassen.\n",
    "Wenn wir den  Startwert weglassen, fängt der Slice von vorne an. Lassen wir den\n",
    "Stoppert weg, geht der Slice bis zum Ende. Das nutzen wir, um auf eine ganze\n",
    "Spalte zuzugreifen:"
   ]
  },
  {
   "cell_type": "code",
   "execution_count": 20,
   "id": "42386407",
   "metadata": {},
   "outputs": [
    {
     "name": "stdout",
     "output_type": "stream",
     "text": [
      "Alter             22\n",
      "Wohnort    Darmstadt\n",
      "Name: Bob, dtype: object\n"
     ]
    }
   ],
   "source": [
    "tmp = personen.loc[ 'Bob' , :]\n",
    "print(tmp)"
   ]
  },
  {
   "cell_type": "markdown",
   "id": "a05ab37b",
   "metadata": {},
   "source": [
    "Sollen dahingegen mehrere Zellen gleichzeitig ausgewählt werden, die nicht\n",
    "zusammenhängen, benutzt man Listen. Wiederum können die Listen für den index\n",
    "oder die columns oder beides gemischt spezifiziert werden."
   ]
  },
  {
   "cell_type": "code",
   "execution_count": 21,
   "id": "d29adfcd",
   "metadata": {},
   "outputs": [
    {
     "name": "stdout",
     "output_type": "stream",
     "text": [
      "Bob     22\n",
      "Dora    30\n",
      "Emil     6\n",
      "Name: Alter, dtype: int64\n"
     ]
    }
   ],
   "source": [
    "tmp = personen.loc[ ['Bob', 'Dora','Emil'] , 'Alter']\n",
    "print(tmp)"
   ]
  },
  {
   "cell_type": "markdown",
   "id": "d3cd5743",
   "metadata": {},
   "source": [
    "Als nächstes fügen wir unserer Personen-Tabelle eine neue Spalte hinzu. In der\n",
    "neuen Spalte soll die Note der letzten Klausur stehen. Dazu erzeugen wir\n",
    "zunächst wieder einmal ein Pandas-Series-Objekt. Danach weisen wir das\n",
    "Series-Objekt dem DataFrame-Objekt spalten weise zu, indem wir den neuen Namen\n",
    "dem `.loc`-Attribut mitgeben."
   ]
  },
  {
   "cell_type": "code",
   "execution_count": 22,
   "id": "0615948a",
   "metadata": {},
   "outputs": [
    {
     "data": {
      "text/plain": [
       "Alice      1.3\n",
       "Bob        3.7\n",
       "Charlie    2.0\n",
       "Dora       1.7\n",
       "Emil       5.0\n",
       "dtype: float64"
      ]
     },
     "execution_count": 22,
     "metadata": {},
     "output_type": "execute_result"
    }
   ],
   "source": [
    "note = pd.Series({'Alice': 1.3, 'Bob': 3.7, 'Charlie': 2.0, 'Dora': 1.7, 'Emil': 5.0})\n",
    "note"
   ]
  },
  {
   "cell_type": "code",
   "execution_count": 23,
   "id": "5e6f8080",
   "metadata": {},
   "outputs": [
    {
     "name": "stdout",
     "output_type": "stream",
     "text": [
      "         Alter    Wohnort  Note\n",
      "Alice       25  Frankfurt   1.3\n",
      "Bob         22  Darmstadt   3.7\n",
      "Charlie     44      Mainz   2.0\n",
      "Dora        30     Berlin   1.7\n",
      "Emil         6  Frankfurt   5.0\n"
     ]
    }
   ],
   "source": [
    "personen.loc[:, 'Note'] = note\n",
    "print(personen)"
   ]
  }
 ],
 "metadata": {
  "jupytext": {
   "formats": "ipynb,md:myst"
  },
  "kernelspec": {
   "display_name": "Python 3 (ipykernel)",
   "language": "python",
   "name": "python3"
  },
  "language_info": {
   "codemirror_mode": {
    "name": "ipython",
    "version": 3
   },
   "file_extension": ".py",
   "mimetype": "text/x-python",
   "name": "python",
   "nbconvert_exporter": "python",
   "pygments_lexer": "ipython3",
   "version": "3.9.12"
  },
  "vscode": {
   "interpreter": {
    "hash": "566b32bd114a17a7af9328aace2e1d0a934e6a35ee5f8da1d55532a733060f85"
   }
  }
 },
 "nbformat": 4,
 "nbformat_minor": 5
}
