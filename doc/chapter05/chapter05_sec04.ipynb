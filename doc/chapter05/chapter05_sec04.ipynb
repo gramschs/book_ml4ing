{
 "cells": [
  {
   "attachments": {},
   "cell_type": "markdown",
   "id": "2b06b765",
   "metadata": {},
   "source": [
    "# Optional: Histogramme \n",
    "\n",
    "## Lernziele\n",
    "\n",
    "```{admonition} Lernziele\n",
    ":class: important\n",
    "* Sie wissen, was ein **Histogramm** ist.\n",
    "* Sie können mit der Methode **.hist()** ein Histogramm erzeugen.\n",
    "* Sie wissen, dass die Einteilung des Intervalls in die Behälter **Bin**\n",
    "  kritisch ist und daher sehr sorgfältig gewählt werden muss.\n",
    "```\n",
    "\n",
    "## Notenspiegel ist ein Histogramm\n",
    "\n",
    "Das erste Histogramm, das Ihnen wahrscheinlich begegnet ist, ist der\n",
    "Notenspiegel in der Schule gewesen. Für jedes Merkmal (hier = Note) des\n",
    "Datensatzes (hier = Klasse) wird die Anzahl der Schülerinnen und Schüler\n",
    "angegeben, die diese Note erreicht haben. Eine typische Klassenarbeit könnte\n",
    "beispielsweise so aussehen:\n",
    "\n",
    "|1 | 2 | 3 | 4 | 5 | 6 |\n",
    "|---|---|---|---|---| --- |\n",
    "| 2 | 4  | 8  | 6  | 3  | 1 |\n",
    "\n",
    "Ein Histogramm ist eine Visualisierung einer solchen Tabelle. Dabei werden in\n",
    "der Regel Balken benutzt. Auf der x-Achse sind also die Merkmale aufgetragen und\n",
    "auf der y-Achse finden wir die Anzahl der Merkmale in dem Datensatz. Die Anzahl\n",
    "kann dabei in absoluten Zahlen angegeben werden oder in relativen (Prozent).  \n",
    "\n",
    "So sieht das Histogramm des Notenspiegels aus:"
   ]
  },
  {
   "cell_type": "code",
   "execution_count": null,
   "id": "45f57487",
   "metadata": {
    "vscode": {
     "languageId": "python"
    }
   },
   "outputs": [],
   "source": [
    "import matplotlib.pylab as plt\n",
    "plt.style.use('bmh')\n",
    "plt.rcParams['font.family'] = ['TeX Gyre Heros', 'sans-serif']\n",
    "import numpy as np\n",
    "\n",
    "# data\n",
    "x = np.arange(1,7)\n",
    "y = np.array([2,4,8,6,3,1])\n",
    "\n",
    "# plot\n",
    "fig, ax = plt.subplots()\n",
    "ax.bar(x,y)\n",
    "ax.set_xlabel('Note')\n",
    "ax.set_ylabel('Anzahl')\n",
    "ax.set_title('Erdkunde-Test, Klasse 7b');"
   ]
  },
  {
   "attachments": {},
   "cell_type": "markdown",
   "id": "13bd6e0e",
   "metadata": {},
   "source": [
    "Diese Analysemethode wird sehr häufig eingesetzt. Daher stellen alle drei Module\n",
    "[Matplotlib](https://matplotlib.org/stable/api/_as_gen/matplotlib.pyplot.hist.html),\n",
    "[Numpy](https://numpy.org/doc/stable/reference/generated/numpy.histogram.html)\n",
    "und\n",
    "[Pandas](https://pandas.pydata.org/pandas-docs/stable/reference/api/pandas.DataFrame.hist.html)\n",
    "Methoden für Histogramme zur Verfügung. Da wir ohnehin das Histogramm\n",
    "visualisieren wollen, überspringen wir das Numpy-Histogramm und wenden uns\n",
    "gleich dem Matplotlib-Histogramm zu, das auch die Basis für das\n",
    "Pandas-Histogramm bildet.\n",
    "\n",
    "Um die Optionen des Histogramms kennenzulernen, erzeugen wir zunächst eine sehr\n",
    "kleine Klasse mit 10 Schülerinnen und Schülern und würfeln ihre Noten zufällig\n",
    "aus. Und nein, in der Klausur werde ich nicht würfeln ;-)"
   ]
  },
  {
   "cell_type": "code",
   "execution_count": null,
   "id": "e28d24d2",
   "metadata": {
    "vscode": {
     "languageId": "python"
    }
   },
   "outputs": [],
   "source": [
    "# draw randomly grades\n",
    "from random import randint, seed\n",
    "seed(3)\n",
    "grades = [randint(1, 6) for _ in range(10)]\n",
    "\n",
    "print('gewürfelte Noten: ', grades)"
   ]
  },
  {
   "attachments": {},
   "cell_type": "markdown",
   "id": "14f4b4a7",
   "metadata": {},
   "source": [
    "Danach verwenden wir die Methode ``.hist()``, um ein Histogramm zu zeichnen."
   ]
  },
  {
   "cell_type": "code",
   "execution_count": null,
   "id": "4cd974ed",
   "metadata": {
    "vscode": {
     "languageId": "python"
    }
   },
   "outputs": [],
   "source": [
    "# plot histogram\n",
    "fig, ax = plt.subplots()\n",
    "ax.hist(grades)\n",
    "ax.set_xlabel('Note')\n",
    "ax.set_ylabel('Anzahl Schüler:innen')\n",
    "ax.set_title('Klassenarbeit');"
   ]
  },
  {
   "attachments": {},
   "cell_type": "markdown",
   "id": "dbadbdec",
   "metadata": {},
   "source": [
    "Die Darstellung sieht etwas ungewohnt aus. Mit den Optionen ``bins=``,\n",
    "``align=`` und ``rwidth=`` wirkt das Histogramm gleich ein wenig vertrauter."
   ]
  },
  {
   "cell_type": "code",
   "execution_count": null,
   "id": "711c0537",
   "metadata": {
    "vscode": {
     "languageId": "python"
    }
   },
   "outputs": [],
   "source": [
    "# generate custom bins\n",
    "my_bins = [1,2,3,4,5,6,7]\n",
    "\n",
    "# plot improved histogram\n",
    "fig, ax = plt.subplots()\n",
    "ax.hist(grades, bins=my_bins, align='left', rwidth=0.8)\n",
    "ax.set_xlabel('Note')\n",
    "ax.set_ylabel('Anzahl Schüler:innen')\n",
    "ax.set_title('Klassenarbeit');"
   ]
  },
  {
   "attachments": {},
   "cell_type": "markdown",
   "id": "8050efb3",
   "metadata": {},
   "source": [
    "Die Optionen sind ausführlich in der\n",
    "[Matplotlib-Dokumentation/hist](https://matplotlib.org/stable/api/_as_gen/matplotlib.pyplot.hist.html)\n",
    "dokumentiert. Kurz zusammengefasst bedeuten die drei Optionen\n",
    "\n",
    "* *bins=*: Wenn `bins` ein Integer ist, wird der kleinste x- und der größte\n",
    "  x-Wert ermittelt. Danach werden soviele Behälter (also Abschnitte in diesem\n",
    "  Intervall zwischen kleinsten und größtem x-Wert) gebildet, wie dort angegeben.\n",
    "  Ist jedoch `bins` eine Liste von Zahlen, z.B. [1,2,3,4], so werden als\n",
    "  Behälter Intervalle zwischen den aufeinanderfolgenden Werten gebildet. In\n",
    "  diesem Fall wäre der 1. Behälter das Intervall [1,2), der 2. Behälter das\n",
    "  Intervall [2,3), der 3. Behälter [3,4]. Bei vier Zahlen in der Liste erhalten\n",
    "  wir drei Intervalle, wobei die ersten Intervalle immer rechts offen sind und\n",
    "  nur das letzte Intervall ist geschlossen.   \n",
    "* *align=*: Die Option `align` kann die Werte 'left', 'mid' und 'right'\n",
    "  annehmen. Verwendet man die Option nicht, so wird automatisch `align='mid'`\n",
    "  benutzt. Mit dieser Option wird die horizontale Ausrichtung der Balken\n",
    "  gesteuert.\n",
    "* *rwidth=*: Mit der dritten Option `rwidth` kann die Breite der Balken\n",
    "  eingestellt werden. Die Breite wird dabei relativ als Float angegeben.\n",
    "  `rwidth=0.9` würde einen Balken ergeben, der 90 % Breite zum Standard hat.\n",
    "\n",
    "## Wahl der Bins ist entscheidend zur Interpretation der Daten\n",
    "\n",
    "Nicht immer ist die Klasseneinteilung, also die Bins, vorher schon klar.\n",
    "Beispielsweise könnten wir die Körpergröße der teilnehmenden Studierenden dieser\n",
    "Vorlesung analysieren wollen. Und dabei sind wir bei der Einteilung in Bins\n",
    "frei. Beispielsweise könnten wir zwei Bins, nämlich $< 120~cm$ und $\\geq 120~cm$\n",
    "wählen. So richtig viel verrät uns diese Aufteilung über die Verteilung der\n",
    "Körpergröße jedoch nicht, denn wahrscheinlich sind alle in der letzten Bin. Aber\n",
    "stattdessen Millimeterschritte zu wählen, wäre zuviel des Guten. Daher\n",
    "beschäftigen wir uns als Nächstes mit der Wahl der Bin-Größe im Verhältnis zu\n",
    "den gegebenen Daten.\n",
    "\n",
    "Im Folgenden erzeugen wir zunächst einmal 1000 normalverteilte Zufallszahlen mit\n",
    "Mittelwert 0 und Standardabweichung 1. Bei (0,1)-normalverteilten Zufallszahlen\n",
    "wissen wir, dass\n",
    "* 68.27 % aller Zahlen zwischen -1 und 1 liegen,\n",
    "* 95.45 % aller Zahlen zwischen -2 und 2 liegen und\n",
    "* 99.73 % aller Zahlen zwischen -3 und 3 liegen. \n",
    "\n",
    "Wenn wir jetzt 100 Bins wählen, wird eine Bin ca. 0.06 breit sein. Wir tragen\n",
    "jetzt die Anzahl der x, die in eine Bin fällt, im Histogram auf:"
   ]
  },
  {
   "cell_type": "code",
   "execution_count": null,
   "id": "1865029a",
   "metadata": {
    "vscode": {
     "languageId": "python"
    }
   },
   "outputs": [],
   "source": [
    "# fix random seed and draw N = 10000 normally distributed random numbers\n",
    "N = 10000\n",
    "rand = np.random.RandomState(0)\n",
    "x = rand.randn(N)\n",
    "\n",
    "# plot histogram with 100 bins\n",
    "fig, ax = plt.subplots()\n",
    "ax.hist(x, bins=100);"
   ]
  },
  {
   "attachments": {},
   "cell_type": "markdown",
   "id": "1e5cccf5",
   "metadata": {},
   "source": [
    "Ändern Sie bitte in der folgenden Code-Zelle die Anzahl der Zufallszahlen.\n",
    "Probieren Sie z.B. N = 10, 100, 1000 oder 100000000 aus. Ab wann erkennen Sie\n",
    "die Gauß-Kurve? Gibt es eine Anzahl N von Punkten, ab der sich die Kurve nicht\n",
    "mehr ändert?"
   ]
  },
  {
   "cell_type": "code",
   "execution_count": null,
   "id": "c2023723",
   "metadata": {
    "vscode": {
     "languageId": "python"
    }
   },
   "outputs": [],
   "source": [
    "# variation of N\n",
    "N = 10\n",
    "rand = np.random.RandomState(0)\n",
    "x = rand.randn(N)\n",
    "\n",
    "# plot histogram with 100 bins\n",
    "fig, ax = plt.subplots()\n",
    "ax.hist(x, bins=100);"
   ]
  },
  {
   "attachments": {},
   "cell_type": "markdown",
   "id": "6c093a6e",
   "metadata": {},
   "source": [
    "In der Praxis ist es nicht so einfach, die Anzahl der Daten zu vergrößern. Daher\n",
    "probieren wir als nächstes das Umgekehrte. Wir bleiben bei $N=1000$\n",
    "Zufallszahlen, aber spielen mit der Anzahl der Bins und der Bingröße herum.\n",
    "Verändern Sie die Anzahl der Bins von 6, 10, 50, 100, 250, 1000, 10000. Was\n",
    "beobachten Sie?"
   ]
  },
  {
   "cell_type": "code",
   "execution_count": null,
   "id": "2079f259",
   "metadata": {
    "vscode": {
     "languageId": "python"
    }
   },
   "outputs": [],
   "source": [
    "# fixed N = 1000\n",
    "N = 1000\n",
    "rand = np.random.RandomState(0)\n",
    "x = rand.randn(N)\n",
    "\n",
    "# variation of bins \n",
    "number_bins = 6\n",
    "fig, ax = plt.subplots()\n",
    "ax.hist(x, bins=number_bins);"
   ]
  },
  {
   "attachments": {},
   "cell_type": "markdown",
   "id": "dd3d7241",
   "metadata": {},
   "source": [
    "## Zusammenfassung \n",
    "\n",
    "Bei einem Histogramm werden Daten in Klassen eingeteilt und ihre Anzahl\n",
    "bestimmt. Die Wahl der Klassen ist dabei kritisch und muss sorgsam erfolgen."
   ]
  }
 ],
 "metadata": {
  "jupytext": {
   "formats": "ipynb,md:myst"
  },
  "kernelspec": {
   "display_name": "Python 3 (ipykernel)",
   "language": "python",
   "name": "python3"
  }
 },
 "nbformat": 4,
 "nbformat_minor": 5
}
