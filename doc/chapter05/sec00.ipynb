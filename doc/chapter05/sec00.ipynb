{
 "cells": [
  {
   "cell_type": "markdown",
   "id": "388cf734",
   "metadata": {},
   "source": [
    "# Daten visualisieren mit Matplotlib\n",
    "\n",
    "Die Visualisierung der Daten gehört zu den wichtigsten Schritten der\n",
    "Datenanalyse. Oft vermittelt die Visualisierung bereits wichtige Erkenntnisse\n",
    "über die Daten. Zu dem Modul Pandas gehören bereits Methoden zur grafischen\n",
    "Darstellung der Daten, wie z.B. ``.plot(kind='line')`` oder\n",
    "``.plot(kind='bar')``. \n",
    "\n",
    "```{code-cell} ipython3\n",
    "import numpy as np\n",
    "import pandas as pd\n",
    "\n",
    "df = pd.DataFrame(np.random.rand(7), index=['Mo','Di','Mi','Do','Fr','Sa','So'])\n",
    "df.plot(kind='bar')\n",
    "```\n",
    "\n",
    "Diese Methoden basieren auf einem weiteren Python-Modul, nämlich **Matplotlib**.\n",
    "Matplotlib werden wir immer dann verwenden, wenn Grafiken komplexer werden (z.B.\n",
    "mehrere Visualisierungen in einer Grafik) oder wir Grafiken ästhetisch\n",
    "ansprechend für Publikationen oder Präsentationen aufbereiten wollen."
   ]
  }
 ],
 "metadata": {
  "jupytext": {
   "cell_metadata_filter": "-all",
   "formats": "ipynb,md:myst",
   "main_language": "python"
  }
 },
 "nbformat": 4,
 "nbformat_minor": 5
}
