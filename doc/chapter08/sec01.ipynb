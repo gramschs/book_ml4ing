{
 "cells": [
  {
   "cell_type": "markdown",
   "id": "be564b50",
   "metadata": {},
   "source": [
    "# Das Perzeptron\n",
    "\n",
    "1943 haben die Forscher Warren McCulloch und Walter Pitts das erste Modell einer vereinfachten Hirnzelle präsentiert. Zu Ehren der beiden Forscher heißt dieses Modell MCP-Neuron. Darauf aufbauend publizierte Frank Rosenblatt 1957 seine Idee einer Lernregel für das künstliche Neuron. Das sogenannte Perzeptron bildet bis heute die Grundlage der künstlichen neuronalen Netze. Inspiriert wurden die Forscher dabei durch den Aufbau des Gehirns und der Verknüpfung der Nervenzellen.\n",
    "\n",
    "```{figure} pics/neuron_wikipedia.png\n",
    "---\n",
    "width: 600px\n",
    "name: fig_neuron_wikipedia\n",
    "---\n",
    "Schematische Darstellung einer Nervenzelle \n",
    "\n",
    "([Quelle:](https://de.wikipedia.org/wiki/Künstliches_Neuron#/media/Datei:Neuron_(deutsch)-1.svg) \"Schematische Darstellung einer Nervenzelle\" von Autor unbekannt. Lizenz: [CC BY-SA 3.0](https://creativecommons.org/licenses/by-sa/3.0/))\n",
    "```\n",
    "\n",
    "Elektrische und chemische Eingabesignale kommen bei den Dendriten an und laufen im Zellkörper zusammen. Sobald ein bestimmter Schwellwert überschritten wird, wird ein Ausgabesignal erzeugt und über das Axon weitergeleitet. Mehr Details zu Nervenzellen finden Sie bei Wikipedia: https://de.wikipedia.org/wiki/Nervenzelle.\n",
    "\n"
   ]
  },
  {
   "cell_type": "markdown",
   "id": "580c38c0",
   "metadata": {},
   "source": [
    "## Eine mathematische Ungleichung ersetzt das logische Oder\n",
    "\n",
    "Das einfachste künstliche Neuron besteht aus zwei Inputs und einem Output. Dabei sind für die beiden Inputs nur zwei Zustände zugelassen und auch der Output besteht nur aus zwei verschiedenen Zuständen. In der Sprache des maschinellen Lernens liegt also eine **binäre Klassifikationsaufgabe** innerhalb des **Supervised Learnings** vor.\n",
    "\n",
    "Beispiel:\n",
    "* Input 1: Es regnet oder es regnet nicht.\n",
    "* Input 2: Der Rasensprenger ist an oder nicht.\n",
    "* Output: Der Rasen wird nass oder nicht.\n",
    "\n",
    "Den Zusammenhang zwischen Regen, Rasensprenger und nassem Rasen können wir in einer Tabelle abbilden:\n",
    "\n",
    "Regnet es? | Ist Sprenger an? | Wird Rasen nass?\n",
    "-----------|------------------|-----------------\n",
    "nein       | nein             | nein\n",
    "ja         | nein             | ja\n",
    "nein       | ja               | ja\n",
    "ja         | ja               | ja"
   ]
  },
  {
   "cell_type": "markdown",
   "id": "501e9c0c",
   "metadata": {},
   "source": [
    "```{exercise}\n",
    ":label: exercise_08_01\n",
    "Schreiben Sie ein kurzes Python-Programm, das abfragt, ob es regnet und ob der Rasensprenger eingeschaltet ist. Dann soll der Python-Interpreter ausgeben, ob der Rasen nass wird oder nicht. \n",
    "```"
   ]
  },
  {
   "cell_type": "markdown",
   "id": "c5dedcfc",
   "metadata": {},
   "source": [
    "````{solution} exercise_08_01\n",
    ":label: solution_08_01\n",
    ":class: dropdown\n",
    "```python\n",
    "# Eingabe\n",
    "x1 = input('Regnet es (j/n)?')\n",
    "x2 = input('Ist der Rasensprenger eingeschaltet? (j/n)')\n",
    "\n",
    "# Verarbeitung\n",
    "y = (x1 == 'j') or (x2 == 'j')\n",
    "\n",
    "# Ausgabe\n",
    "if y == True:\n",
    "    print('Der Rasen wird nass.')\n",
    "else:\n",
    "    print('Der Rasen wird nicht nass.')\n",
    "```\n",
    "````"
   ]
  },
  {
   "cell_type": "markdown",
   "id": "08bd4054",
   "metadata": {},
   "source": [
    "Für das maschinelle Lernen müssen die Daten als Zahlen aufbereitet werde, damit die maschinellen Lernverfahren in der Lage sind, Muster in den Daten zu erlernen. Anstatt \"Regnet es? Nein.\" oder Variablen mit True/False setzen wir jetzt Zahlen ein. Die Inputklassen kürzen wir mit x1 für Regen und x2 für Rasensprenger ab. Die 1 steht für ja, die 0 für nein. Den Output bezeichnen wir mit y. Dann lautet die obige Tabelle für das Ist-der-Rasen-nass-Problem:\n",
    "\n",
    "x1 | x2 | y\n",
    "---|----|---\n",
    "0  | 0  | 0\n",
    "1  | 0  | 1\n",
    "0  | 1  | 1\n",
    "1  | 1  | 1"
   ]
  },
  {
   "cell_type": "markdown",
   "id": "1510f3c0",
   "metadata": {},
   "source": [
    "```{exercise}\n",
    ":label: exercise_08_02\n",
    "Schreiben Sie Ihren Programm-Code aus {ref}`exercise_08_01` um. Verwenden Sie Integer 0 und 1 für die Eingaben.\n",
    "```"
   ]
  },
  {
   "cell_type": "markdown",
   "id": "17991f36",
   "metadata": {},
   "source": [
    "````{solution} exercise_08_02\n",
    ":label: solution_08_02\n",
    ":class: dropdown\n",
    "```python\n",
    "# Eingabe\n",
    "x1 = int(input('Regnet es (ja = 1 | nein = 0)?'))\n",
    "x2 = int(input('Ist der Rasensprenger eingeschaltet? (ja = 1 | nein = 0)'))\n",
    "\n",
    "# Verarbeitung\n",
    "y = (x1 == 1) or (x2 == 1)\n",
    "\n",
    "# Ausgabe\n",
    "if y == True:\n",
    "    print('Der Rasen wird nass.')\n",
    "else:\n",
    "    print('Der Rasen wird nicht nass.')\n",
    "```\n",
    "````"
   ]
  },
  {
   "cell_type": "markdown",
   "id": "2616ff95",
   "metadata": {},
   "source": [
    "Als nächstes ersetzen wir das logische ODER durch ein mathematisches Konstrukt:\n",
    "Wenn die Ungleichung\n",
    "\n",
    "$$\\omega_1 x_1 + \\omega_2 x_2 \\geq \\theta$$\n",
    "\n",
    "erfüllt ist, dann ist $y = 1$ oder anders ausgedrückt, der Rasen wird nass. Und ansonsten ist $y = 0$, der Rasen wird nicht nass. Allerdings müssen wir noch die Gewichte $\\omega_1$ und $\\omega_2$ (in Englisch: weights) geschickt wählen. Die Zahl $\\theta$ ist der griechische Buchstabe Theta und steht als Abkürzung für den sogenannten Schwellenwert (in Englisch: threshold).\n",
    "\n",
    "Beispielsweise $\\omega_1 = 0.3$, $\\omega_2=0.3$ und $\\theta = 0.2$ passen:\n",
    "* $0.3\\cdot 0 + 0.3\\cdot 0 = 0.0 \\geq 0.2$ nicht erfüllt\n",
    "* $0.3\\cdot 1 + 0.3\\cdot 0 = 0.3 \\geq 0.2$ erfüllt\n",
    "* $0.3\\cdot 0 + 0.3\\cdot 1 = 0.3 \\geq 0.2$ erfüllt\n",
    "* $0.3\\cdot 1 + 0.3\\cdot 1 = 0.6 \\geq 0.2$ erfüllt\n",
    "\n"
   ]
  },
  {
   "cell_type": "markdown",
   "id": "dfb3d672",
   "metadata": {},
   "source": [
    "```{exercise}\n",
    ":label: exercise_08_03\n",
    "Schreiben Sie Ihren Programm-Code aus {ref}`exercise_08_02` um. Ersetzen Sie das logische ODER durch die linke Seite der Ungleichung und vergleichen Sie anschließend mit $0.2$, um zu entscheiden, ob der Rasen nass wird oder nicht. \n",
    "```"
   ]
  },
  {
   "cell_type": "markdown",
   "id": "6c6efc8a",
   "metadata": {},
   "source": [
    "````{solution} exercise_08_03\n",
    ":label: solution_08_03\n",
    ":class: dropdown\n",
    "```python\n",
    "# Eingabe\n",
    "x1 = int(input('Regnet es (ja = 1 | nein = 0)?'))\n",
    "x2 = int(input('Ist der Rasensprenger eingeschaltet? (ja = 1 | nein = 0)'))\n",
    "\n",
    "# Verarbeitung\n",
    "y = 0.3 * x1 + 0.3 * x2\n",
    "\n",
    "# Ausgabe\n",
    "if y >= 0.2:\n",
    "    print('Der Rasen wird nass.')\n",
    "else:\n",
    "    print('Der Rasen wird nicht nass.')\n",
    "```\n",
    "````"
   ]
  },
  {
   "cell_type": "markdown",
   "id": "5a1cc69e",
   "metadata": {},
   "source": [
    "## Die Heaviside-Funktion ersetzt die Ungleichung \n",
    "\n",
    "Noch sind wir aber nicht fertig, denn auch die Frage \"Ist die Ungleichung erfüllt oder nicht?\" muss noch in eine mathematische Funktion umgeschrieben werden. Dazu subtrahieren wir zuerst auf beiden Seiten der Ungleichung den Schwellenwert $\\theta$:\n",
    "\n",
    "$$-\\theta + \\omega_1 x_1 + \\omega_2 x_2 \\geq 0.$$\n",
    "\n",
    "Damit haben wir jetzt nicht mehr einen Vergleich mit dem Schwellenwert, sondern müssen nur noch entscheiden, ob der Ausdruck $-\\theta + \\omega_1 x_1 + \\omega_2 x_2$ negativ oder positiv ist. Bei negativen Werten, soll $y = 0$ sein und bei positiven Werten (inklusive der Null) soll $y = 1$ sein. Dafür gibt es in der Mathematik eine passende Funktion, die sogenannte Heaviside-Funktion (manchmal auch Theta-, Stufen- oder Treppenfunktion genannt), siehe https://de.wikipedia.org/wiki/Heaviside-Funktion.\n",
    "\n",
    "```{figure} pics/heaviside_wikipedia.png\n",
    "---\n",
    "width: 600px\n",
    "name: fig_heaviside_wikipedia\n",
    "---\n",
    "Schaubild der Heaviside-Funktion\n",
    "\n",
    "([Quelle:](https://de.wikipedia.org/wiki/Heaviside-Funktion#/media/Datei:Heaviside.svg) \"Verlauf der Heaviside-Funktion auf $\\mathbb{R}$\" von Lennart Kudling. Lizenz: gemeinfrei)\n",
    "```"
   ]
  },
  {
   "cell_type": "markdown",
   "id": "c78917ac",
   "metadata": {},
   "source": [
    "Definiert ist die Heaviside-Funktion folgendermaßen:\n",
    "\n",
    "$$\\Phi(x) = \\begin{cases}0:&x<0\\\\1:&x\\geq 0\\end{cases}$$\n",
    "\n",
    "In dem Modul NumPy ist die Heaviside-Funktion schon hinterlegt, siehe \n",
    "> https://numpy.org/doc/stable/reference/generated/numpy.heaviside.html   \n"
   ]
  },
  {
   "cell_type": "markdown",
   "id": "ba73baac",
   "metadata": {},
   "source": [
    "```{exercise}\n",
    ":label: exercise_08_04\n",
    "Visualisieren Sie die Heaviside-Funktion für das Intervall $[-3,3]$ mit 101 Punkten. Setzen Sie das zweite Argument einmal auf 0 und einmal auf 2. Was bewirkt das zweite Argument? Sehen Sie einen Unterschied in der Visualisierung? Erhöhen Sie auch die Anzahl der Punkte im Intervall. Wählen Sie dabei immer eine ungerade Anzahl, damit die 0 dabei ist.\n",
    "```"
   ]
  },
  {
   "cell_type": "markdown",
   "id": "a9faebf1",
   "metadata": {},
   "source": [
    "````{solution} exercise_08_04\n",
    ":label: solution_08_04\n",
    ":class: dropdown\n",
    "```python\n",
    "import matplotlib.pylab as plt\n",
    "import numpy as np\n",
    "\n",
    "x = np.linspace(-3,3, 101)\n",
    "y0 = np.heaviside(x, 0)     # an der Stelle x=0 ist y=0\n",
    "y1 = np.heaviside(x, 2)     # an der Stelle x=0 ist y=2\n",
    "\n",
    "fig, ax = plt.subplots()\n",
    "ax.plot(x,y0)\n",
    "ax.plot(x,y1)\n",
    "ax.grid()\n",
    "ax.set_title('Heaviside-Funktion');\n",
    "```\n",
    "````\n"
   ]
  },
  {
   "cell_type": "markdown",
   "id": "6e44794c",
   "metadata": {},
   "source": [
    "Mit der Heaviside-Funktion können wir nun den Vergleich in der Programmverzweigung mit $0.2$ durch eine direkte Berechnung ersetzen. Schauen Sie sich im folgenden Programm-Code an, wie wir jetzt ohne logisches Oder und ohne Programmverzweigung if-else auskommen:"
   ]
  },
  {
   "cell_type": "markdown",
   "id": "a89de5b7",
   "metadata": {},
   "source": [
    "```python\n",
    "# Import der notwendigen Module\n",
    "import numpy as np\n",
    "\n",
    "# Eingabe\n",
    "x1 = int(input('Regnet es (ja = 1 | nein = 0)?'))\n",
    "x2 = int(input('Ist der Rasensprenger eingeschaltet? (ja = 1 | nein = 0)'))\n",
    "\n",
    "# Verarbeitung\n",
    "y = np.heaviside(0.3 * x1 + 0.3 * x2, 1.0)\n",
    "\n",
    "# Ausgabe\n",
    "ergebnis_als_text = ['Der Rasen wird nass.', 'Der Rasen wird nicht nass.']\n",
    "print(ergebnis_als_text[int(y)])\n",
    "``` "
   ]
  },
  {
   "cell_type": "markdown",
   "id": "4d8e0158-192b-46bc-a854-55e86f2c8577",
   "metadata": {},
   "source": [
    "## Das Perzeptron mit mehreren Eingabewerten: TODO Spalten-/Zeilenvektor???\n",
    "\n",
    "In der obigen Herleitung sind bereits Fachbegriffe aus dem Maschinellen Lernen eingeführt worden. Hier fassen wir das Perzeptron noch einmal zusammen und verallgemeinern seine Beschreibung für mehr als zwei Eingabewerte.\n",
    "\n",
    "Das Perzeptron ist ein künstliches Neuron mit Gewichten und einem Schwellenwert. Das Perzeptron kann als eine mathematische Funktion dargestellt werden, die $m$ Eingabewerte auf einen Ausgabewert abbildet. Wenn wir die Eingabewerte in einem Zeilenvektor $x = (x_1, x_2, \\ldots, x_m)$ zusammenfassen und die Gewichte in einem Zeilenvektor $\\omega = (\\omega_1, \\omega_2, \\ldots, \\omega_m)$, dann kann die Ungleichung mit Hilfe eines Skalarprodukts verallgemeienrt auf mehrere Eingabewerte folgendermaßen geschrieben werden:\n",
    "\n",
    "$$\\omega^{T}x = \\omega_1 x_1 + \\omega_2 x_2 + \\ldots + \\omega_m x_m \\geq \\theta.$$\n",
    "\n",
    "Üblicherweise wird $\\theta$ durch Subtraktion auf die linke Seite gebracht. Wenn wir jetzt bei dem Vektor mit den Gewichten vorne den Vektor um $\\omega_0 = -\\theta$ ergänzen und den Vektor mit den Eingabewerten mit $x_0 = 1$, dann erhalten wir\n",
    "\n",
    "$$\\omega^{T}x = -\\theta\\cdot 1+ \\omega_1 x_1 + + \\omega_2 x_2 + \\ldots + \\omega_m x_m \\geq 0.$$\n",
    "\n",
    "Der negative Schwellenwert wird dabei in der ML-Community **Bias** oder Bias-Einheit (Bias Unit) genannt."
   ]
  },
  {
   "cell_type": "markdown",
   "id": "794454f5-6749-42fc-a0b5-b201053b8cab",
   "metadata": {},
   "source": [
    "## Zusammenfassung und Ausblick\n",
    "\n",
    "TODO"
   ]
  }
 ],
 "metadata": {
  "interpreter": {
   "hash": "1863971d65633e53ca5b74972b86a14fab6d597ce2ac84dc984546545d2d3a9b"
  },
  "kernelspec": {
   "display_name": "Python 3 (ipykernel)",
   "language": "python",
   "name": "python3"
  },
  "language_info": {
   "codemirror_mode": {
    "name": "ipython",
    "version": 3
   },
   "file_extension": ".py",
   "mimetype": "text/x-python",
   "name": "python",
   "nbconvert_exporter": "python",
   "pygments_lexer": "ipython3",
   "version": "3.9.12"
  }
 },
 "nbformat": 4,
 "nbformat_minor": 5
}
