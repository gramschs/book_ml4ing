{
 "cells": [
  {
   "cell_type": "markdown",
   "id": "2d13a3ea-d609-480f-ab7f-48403dccb25c",
   "metadata": {},
   "source": [
    "# Die Perzeptron-Lernregel\n",
    "\n",
    "In der Realität kommt es selten vor, dass genau zwei Inputs vorliegen. Deshalb werden wir zunächst eine Verallgemeinerung des Perzeptrons für mehrere Inputs vorstellen. Danach beschäftigen wir uns damit, wie die Gewichte und der Schwellenwert gewählt werden müssen, damit das Perzeptron seine binäre Klassifikationsaufgabe erfüllen kann. "
   ]
  },
  {
   "cell_type": "markdown",
   "id": "58817d76-2770-4dbf-947f-60e4f90c5185",
   "metadata": {},
   "source": [
    "## "
   ]
  }
 ],
 "metadata": {
  "kernelspec": {
   "display_name": "Python 3 (ipykernel)",
   "language": "python",
   "name": "python3"
  },
  "language_info": {
   "codemirror_mode": {
    "name": "ipython",
    "version": 3
   },
   "file_extension": ".py",
   "mimetype": "text/x-python",
   "name": "python",
   "nbconvert_exporter": "python",
   "pygments_lexer": "ipython3",
   "version": "3.9.7"
  }
 },
 "nbformat": 4,
 "nbformat_minor": 5
}
