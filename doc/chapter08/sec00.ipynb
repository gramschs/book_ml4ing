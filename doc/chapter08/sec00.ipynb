{
 "cells": [
  {
   "cell_type": "markdown",
   "id": "85e998b5",
   "metadata": {},
   "source": [
    "# Neuronale Netze\n",
    "\n",
    "Durch neuronale Netze, die tief verschachtelt sind (= tiefe neuronale Netze = deep neural network), gab es im Bereich des maschinellen Lernens einen Durchbruch. Neuronale Netze sind eine Technik aus der Statistik, die bereits in den 1940er Jahren entwickelt wurde. Seit ca. 10 Jahren erlebt diese Technik verbunden mit Fortschritten in der Computertechnologie eine Renaissance.\n",
    "\n",
    "Neuronale Netze bzw. Deep Learning kommen vor allem da zum Einsatz, wo es kaum systematisches Wissen gibt. Damit neuronale Netze erfolgreich trainiert werden können, brauchen sie sehr große Datenmengen. Nachdem in den letzten 15 Jahren mit dem Aufkommen von Smartphones die Daten im Bereich Videos und Fotos massiv zugenommen haben, lohnt sich der Einsatz der neuronalen Netze für Spracherkennung, Gesichtserkennung oder Texterkennung besonders.\n",
    "\n",
    "Beispielsweise hat ein junges deutsches Start-Up-Unternehmen 2017 aus einem neuronalen Netz zum Übersetzen Englisch <-> Deutsch eine Webanwendung entwickelt und ins Internet gestellt, die meinen Alltag massiv beeinflusst: \n",
    "\n",
    "> DeepL.com \n",
    "\n",
    "Auf der Seite \n",
    "\n",
    "> https://www.deepl.com/en/blog/how-does-deepl-work\n",
    "\n",
    "finden Sie einen kurzen Übersichtsartikel dazu, wie DeepL funktioniert."
   ]
  }
 ],
 "metadata": {
  "interpreter": {
   "hash": "1863971d65633e53ca5b74972b86a14fab6d597ce2ac84dc984546545d2d3a9b"
  },
  "jupytext": {
   "formats": "ipynb,md:myst"
  },
  "kernelspec": {
   "display_name": "Python 3 (ipykernel)",
   "language": "python",
   "name": "python3"
  },
  "language_info": {
   "codemirror_mode": {
    "name": "ipython",
    "version": 3
   },
   "file_extension": ".py",
   "mimetype": "text/x-python",
   "name": "python",
   "nbconvert_exporter": "python",
   "pygments_lexer": "ipython3",
   "version": "3.9.13"
  }
 },
 "nbformat": 4,
 "nbformat_minor": 5
}
