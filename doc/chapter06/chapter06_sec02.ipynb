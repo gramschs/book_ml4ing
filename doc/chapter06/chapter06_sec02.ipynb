{
 "cells": [
  {
   "cell_type": "markdown",
   "id": "136addc2",
   "metadata": {},
   "source": [
    "# Training eines linearen Regressionsmodells\n",
    "\n",
    "## Lernziele\n",
    "\n",
    "```{admonition} Lernziele\n",
    ":class: hint\n",
    "* Sie können erklären, was die **Fehlerquadratsumme** ist.\n",
    "* Sie wissen, dass das Training des lineare Regressionsmodells durch die\n",
    "  **Minimierung** der Fehlerquadratsumme (Kleinste-Quadrate-Schätzer) erfolgt.\n",
    "* Sie können mit dem **Bestimmtheitsmaß** bzw. **R²-Score** beurteilen, ob das\n",
    "  lineare Regressionsmodell geeignet zur Erklärung der Daten ist.\n",
    "```"
   ]
  },
  {
   "cell_type": "markdown",
   "id": "15394b91",
   "metadata": {},
   "source": [
    "## Was ist die \"beste\" Regressionsgerade?\n",
    "\n",
    "Im letzten Abschnitt hat Scikit-Learn als Steigung 186.8 und für den\n",
    "y-Achsenabschnitt -8330 geschätzt. Ist das tatsächlich das beste lineare\n",
    "Regressionsmodell für die vorgegebenen Daten? Wie werden Regressionsmodelle\n",
    "miteinander vergleichen?\n",
    "\n",
    "Das Prinzip für das lineare Regressionsmodell und auch die folgenden ML-Modelle\n",
    "ist jedesmal gleich. Das Modell ist eine mathematische Funktion, die aber noch\n",
    "Parameter (hier beispielsweise die Koeffizienten der Gerade) enthält. Dann wird\n",
    "festgelegt, was eine gute Prognose ist, also wie Fehler berechnet und beurteilt\n",
    "werden sollen. Das hängt jeweils von dem bettrachteten Problem ab. Sobald das\n",
    "sogenannte Fehlermaß feststeht, werden die Parameter der Modellfunktion so\n",
    "berechnet, dass das Fehlermaß (z.B. Summe der Fehler oder Mittelwert der Fehler)\n",
    "möglichst klein wird. In der Mathematik sagt man dazu **Minimierungsproblem**. \n",
    "\n",
    "Für die lineare Regression wird als Fehlermaß die Kleinste-Quadrate-Schätzung\n",
    "verwendet (siehe [Wikipedia  → Methode der kleinsten\n",
    "Quadrate](https://de.wikipedia.org/wiki/Methode_der_kleinsten_Quadrate)). Dazu\n",
    "berechnen wir, wie weit weg die Gerade von den Messpunkten ist. Wie das geht,\n",
    "veranschaulichen wir uns mit der folgenden Grafik.\n",
    "\n",
    "```{figure} pics/kq_regression.png\n",
    "---\n",
    "width: 600px\n",
    "name: kq_regression\n",
    "---\n",
    "Messpunkte (blau) und der Abstand (grün) zu einer Modellfunktion (rot)\n",
    "\n",
    "([Quelle:](https://de.wikipedia.org/wiki/Methode_der_kleinsten_Quadrate#/media/Datei:MDKQ1.svg) Autor: Christian Schirm, Lizenz: CC0) \n",
    "```\n",
    "\n",
    "Unsere rote Modellfunktion trifft die Messpunkte mal mehr und mal weniger gut.\n",
    "Wir können jetzt für jeden Messpunkt berechnen, wie weit die rote Kurve von ihm\n",
    "weg ist (= grüne Strecke), indem wir die Differenz der y-Koordinaten errechnen:\n",
    "$r = y_{\\text{blau}}-y_{\\text{rot}}$. Diese Differenz nennt man **Residuum**.\n",
    "Danach summieren wir die Fehler (also die Residuen) auf und erhalten den\n",
    "Gesamtfehler. Leider kann es dabei passieren, dass am Ende als Gesamtfehler 0\n",
    "herauskommt, weil beispielsweise für den 1. Messpunkt die blaue y-Koordinate\n",
    "unter der roten y-Koordinate liegt und damit ein negatives Residuum herauskommt,\n",
    "aber für den 5. Messpunkt ein positives Residuum. Daher quadrieren wir die\n",
    "Residuen. Scikit-Learn minimiert diese **Fehlerquadratsumme**, um die\n",
    "Koeffizienten des Regressionsmodells zu berechnen."
   ]
  },
  {
   "cell_type": "markdown",
   "id": "409330fe",
   "metadata": {},
   "source": [
    "## Ist das beste Modell gut genug?\n",
    "\n",
    "Auch wenn wir mit der Minimierung der Fehlerquadratsumme bzw. der\n",
    "Kleinsten-Quadrate-Methode die besten Parameter für unsere Modellfunktion\n",
    "gefunden haben, heißt das noch lange nicht, dass unser Modell gut ist. Bereits\n",
    "die Modellfunktion kann ja völlig falsch gewählt sein. Beispielsweise könnten\n",
    "wir Messungen rund um eine sinus-förmige Wechselspannung vornehmen und dann wäre\n",
    "ein lineares Regressionsmodell völlig ungeeignet, auch wenn die\n",
    "Fehlerquadratsumme minimal wäre.\n",
    "\n",
    "Wir brauchen daher noch ein Kriterium dafür, ob das trainierte Modell auch\n",
    "valide ist. Über die Validierung eines ML-Modells werden wir auch in den\n",
    "nächsten Vorlesungen noch intensiv sprechen. Für die lineare Regression\n",
    "betrachten wir erstmal das **Bestimmtheitsmaß**, das in der ML-Community auch\n",
    "**R²-Score** genannt wird.\n",
    "\n",
    "Beim R²-Score wird zunächst der Mittelwert der Fehlerquadratsumme mit der\n",
    "Modellfunktion $f$ gebildet:\n",
    "\n",
    "$$\\frac{1}{M}\\sum_{i=1}^M (y^{(i)} - f(x^{(i)})^2. $$\n",
    "\n",
    "Danach wird der Mittelwert der Output-Daten gebildet, nämlich\n",
    "\n",
    "$$\\bar{y} = \\frac{1}{M} \\sum_{i=1}^{M} y^{(i)}.$$\n",
    "\n",
    "Nun wird dieser Mittelwert in die Fehlerquadratsumme eingesetzt, als ob die\n",
    "Modellfunktion die konstante Funktion $f(x)=\\bar{y}$ wäre.\n",
    "\n",
    "$$\\frac{1}{M}\\sum_{i=1}^M (y^{(i)} - \\bar{y})^2.$$\n",
    "\n",
    "Diese beiden Fehlerquadratsummen werden nun miteinander ins Verhältnis gesetzt.\n",
    "Wir vergleichen sozusgen den mittleren Fehler bei Wahl der Modellfunktion mit\n",
    "dem mittleren Fehler, wenn wir machen würden, wenn wir einfach nur den\n",
    "Mittelwert als Schätzer für unser Modell nehmen würden. \n",
    "\n",
    "In der Statistik wurde dieses Verhältnis (Gesamtfehler geteilt durch\n",
    "Gesamtfehler Mittelwert) als Qualitätkriterium für ein lineares\n",
    "Regressionsproblem festgelegt. Genaugenommen, rechnet man 1 - Gesamtfehler /\n",
    "(Gesamtfehler Mittelwert) und nennt diese Zahl Bestimmtheitsmaß oder R²-Score.\n",
    "Die Formel zur Berechnung des R²-Scores lautet:\n",
    "\n",
    "$$R^2 = 1 - \\frac{\\sum_{i=1}^M (y^{(i)} - f(x^{(i)}))^2}{\\sum_{i=1}^M(y^{(i)}-\\bar{y})}. $$\n",
    "\n",
    "Dabei kürzt sich das $\\frac{1}{M}$ im Zähler und Nenner weg. Nachdem der\n",
    "R²-Score ausgerechnet wurde, können wir nun die Qualität der Anpassung\n",
    "beurteilen:\n",
    "\n",
    "* Wenn $R^2 = 1$  ist, dann gibt es den perfekten linearen Zusammenhang und die\n",
    "  Modellfunktion ist eine sehr gute Anpassung an die Messdaten.\n",
    "* Wenn $R^2 = 0$ oder gar negativ ist, dann funktioniert die lineare\n",
    "  Modellfunktion überhaupt nicht."
   ]
  },
  {
   "cell_type": "markdown",
   "id": "4aeacc11",
   "metadata": {},
   "source": [
    "## Interaktive Visualisierung R²-Score\n",
    "\n",
    "Auf der Seite [https://mathweb.de](https://mathweb.de) finden Sie eine Reihe von\n",
    "Aufgaben und interaktiven Demonstrationen rund um die Mathematik. Insbesondere\n",
    "gibt es dort auch eine interaktive Demonstration des R²-Scores.\n",
    "\n",
    "Drücken Sie auf den zwei kreisförmigen Pfeile rechts oben. Dadurch wird ein\n",
    "neuer Datensatz erzeugt. Die Messdaten sind durch grüne Punkte dargestellt, das\n",
    "lineare Regressionsmodell durch eine blaue Gerade. Im Titel wird der aktuelle\n",
    "und der optimale R²-Wert angezeigt. Ziehen Sie an den weißen Punkten, um die\n",
    "Gerade zu verändern. Schaffen Sie es, den optimalen R²-Score zu treffen?\n",
    "Beobachten Sie dabei, wie die Fehler (rot) kleiner werden.\n",
    "\n",
    "<iframe width=\"560\" height=\"315\" src=\"https://lti.mint-web.de/examples/index.php?id=01010320\"  allowfullscreen></iframe>"
   ]
  },
  {
   "cell_type": "markdown",
   "id": "514276c9",
   "metadata": {},
   "source": [
    "## R²-Score mit Scikit-Learn\n",
    "\n",
    "Müssen Sie die Formel für das Bestimmtheitsmaßes jetzt auswendig lernen? Nein,\n",
    "dafür ist Scikit-Learn da. Verwenden Sie einfach die Methode `.score()`, um sich\n",
    "das Bestimmtheitsmaß ausgeben zu lassen.\n",
    "\n",
    "Damit lautet das vollständige Training des linearen Regressionsmodells:\n"
   ]
  },
  {
   "cell_type": "code",
   "execution_count": 1,
   "id": "21d639f3",
   "metadata": {},
   "outputs": [
    {
     "name": "stdout",
     "output_type": "stream",
     "text": [
      "Der R2-Score ist: 0.61\n"
     ]
    }
   ],
   "source": [
    "import pandas as pd\n",
    "from sklearn.linear_model import LinearRegression\n",
    "\n",
    "# Vorbereitung der DAten\n",
    "data_raw = pd.read_csv('data/autoscout24-germany-dataset.csv')\n",
    "data = data_raw.dropna().copy()\n",
    "data = data.drop([11753, 11754, 21675])\n",
    "\n",
    "# Extraktion der Input- und Output-Daten als NumPy-Arrays\n",
    "X = data.loc[:, 'hp'].values.reshape(-1,1)\n",
    "y = data.loc[:, 'price'].values\n",
    "\n",
    "# Modellwahl\n",
    "model = LinearRegression()\n",
    "\n",
    "# Training\n",
    "model.fit(X, y)\n",
    "\n",
    "# Prognose\n",
    "y_predict = model.predict(X)\n",
    "\n",
    "# Validierung\n",
    "r2 = model.score(X, y)\n",
    "print('Der R2-Score ist: {:.2f}'.format(r2))"
   ]
  },
  {
   "cell_type": "markdown",
   "id": "f8b15699",
   "metadata": {},
   "source": [
    "Ein R²-Score von 0.61 ist zur Not brauchbar, aber eigentlich würden wir jetzt\n",
    "nach einem besseren Modell suchen.\n"
   ]
  },
  {
   "cell_type": "markdown",
   "id": "a5c5549b",
   "metadata": {},
   "source": [
    "## Zusammenfassung\n",
    "\n",
    "In diesem Abschnitt haben Sie gelernt, dass das Training eines linearen\n",
    "Regressionsmodells darauf beruht, die Fehlerquadratsumme zu minimieren. Um\n",
    "überhaupt beurteilen zu können, ob ein ML-Modell geeignet ist, brauchen wir\n",
    "Qualitätskriterien. Für das lineare Regressionsmodell dient das Bestimmtheitsmaß\n",
    "bzw. der R²-Score als Qualitätskriterium."
   ]
  }
 ],
 "metadata": {
  "jupytext": {
   "formats": "ipynb,md:myst"
  },
  "kernelspec": {
   "display_name": "Python 3.9.13 ('python39')",
   "language": "python",
   "name": "python3"
  },
  "language_info": {
   "codemirror_mode": {
    "name": "ipython",
    "version": 3
   },
   "file_extension": ".py",
   "mimetype": "text/x-python",
   "name": "python",
   "nbconvert_exporter": "python",
   "pygments_lexer": "ipython3",
   "version": "3.9.13"
  },
  "vscode": {
   "interpreter": {
    "hash": "1863971d65633e53ca5b74972b86a14fab6d597ce2ac84dc984546545d2d3a9b"
   }
  }
 },
 "nbformat": 4,
 "nbformat_minor": 5
}
